{
 "cells": [
  {
   "cell_type": "code",
   "execution_count": 17,
   "metadata": {},
   "outputs": [
    {
     "name": "stdout",
     "output_type": "stream",
     "text": [
      "The autoreload extension is already loaded. To reload it, use:\n",
      "  %reload_ext autoreload\n"
     ]
    }
   ],
   "source": [
    "%load_ext autoreload"
   ]
  },
  {
   "cell_type": "code",
   "execution_count": 18,
   "metadata": {},
   "outputs": [],
   "source": [
    "%autoreload 2"
   ]
  },
  {
   "cell_type": "code",
   "execution_count": null,
   "metadata": {},
   "outputs": [],
   "source": []
  },
  {
   "cell_type": "code",
   "execution_count": null,
   "metadata": {},
   "outputs": [],
   "source": []
  },
  {
   "cell_type": "code",
   "execution_count": 75,
   "metadata": {},
   "outputs": [],
   "source": [
    "from lib import sim_env as sim\n",
    "from lib import loads\n",
    "from lib.utils import DTParser\n",
    "from lib import agents\n",
    "import datetime"
   ]
  },
  {
   "cell_type": "code",
   "execution_count": 76,
   "metadata": {},
   "outputs": [],
   "source": [
    "dt_parser = DTParser()"
   ]
  },
  {
   "cell_type": "code",
   "execution_count": 77,
   "metadata": {},
   "outputs": [
    {
     "data": {
      "text/plain": [
       "datetime.datetime(2023, 11, 21, 0, 0)"
      ]
     },
     "execution_count": 77,
     "metadata": {},
     "output_type": "execute_result"
    }
   ],
   "source": [
    "dt = datetime.datetime(2023, 11, 21)\n",
    "dt"
   ]
  },
  {
   "cell_type": "code",
   "execution_count": 81,
   "metadata": {},
   "outputs": [
    {
     "name": "stdout",
     "output_type": "stream",
     "text": [
      "INFO:env:Successfully registered Infrastructure Manager in Env >>base<<\n",
      "INFO:env:Successfully registered Dispatcher in Env >>base<<\n"
     ]
    }
   ],
   "source": [
    "env = sim.SimulationEnvironment(name='base', time_unit='seconds', starting_datetime=dt)\n",
    "job_generator = loads.RandomJobGenerator(seed=2)\n",
    "infstruct_mgr = sim.InfrastructureManager(env=env)\n",
    "dispatcher = sim.Dispatcher(env=env, priority_rule='FIFO')"
   ]
  },
  {
   "cell_type": "code",
   "execution_count": 82,
   "metadata": {},
   "outputs": [
    {
     "name": "stdout",
     "output_type": "stream",
     "text": [
      "INFO:infstrct:Successfully registered object with SystemID 0 and name ProductionArea_env_0\n",
      "INFO:infstrct:Successfully registered object with SystemID 0 and name StationGroup_env_0\n",
      "INFO:infstrct:Successfully added System (type: StationGroup, custom_id: 1000, name: StationGroup_env_0) to System (type: ProductionArea, custom_id: 1000, name: ProductionArea_env_0).\n",
      "INFO:infstrct:Successfully registered object with SystemID 0 and name Source_env_0\n",
      "INFO:infstrct:Successfully added System (type: Resource, custom_id: source, name: Source_env_0) to System (type: StationGroup, custom_id: 1000, name: StationGroup_env_0).\n",
      "INFO:infstrct:Successfully registered object with SystemID 1 and name ProductionArea_env_1\n",
      "INFO:infstrct:Successfully registered object with SystemID 1 and name StationGroup_env_1\n",
      "INFO:infstrct:Successfully added System (type: StationGroup, custom_id: 2000, name: StationGroup_env_1) to System (type: ProductionArea, custom_id: 2000, name: ProductionArea_env_1).\n",
      "INFO:infstrct:Successfully registered object with SystemID 1 and name Sink_env_1\n",
      "INFO:infstrct:Successfully added System (type: Resource, custom_id: sink, name: Sink_env_1) to System (type: StationGroup, custom_id: 2000, name: StationGroup_env_1).\n",
      "INFO:infstrct:Successfully registered object with SystemID 2 and name ProductionArea_env_2\n",
      "INFO:infstrct:Successfully registered object with SystemID 2 and name StationGroup_env_2\n",
      "INFO:infstrct:Successfully added System (type: StationGroup, custom_id: 1, name: StationGroup_env_2) to System (type: ProductionArea, custom_id: 1, name: ProductionArea_env_2).\n",
      "INFO:infstrct:Successfully registered object with SystemID 3 and name StationGroup_env_3\n",
      "INFO:infstrct:Successfully added System (type: StationGroup, custom_id: 2, name: StationGroup_env_3) to System (type: ProductionArea, custom_id: 1, name: ProductionArea_env_2).\n",
      "INFO:infstrct:Successfully registered object with SystemID 2 and name Buffer_env_2\n",
      "INFO:infstrct:Successfully registered object with SystemID 3 and name Machine_env_3\n",
      "INFO:infstrct:Successfully added System (type: Resource, custom_id: 10, name: Buffer_env_2) to System (type: StationGroup, custom_id: 1, name: StationGroup_env_2).\n",
      "INFO:infstrct:Successfully added System (type: Resource, custom_id: 0, name: Machine_env_3) to System (type: StationGroup, custom_id: 1, name: StationGroup_env_2).\n",
      "INFO:infstrct:Successfully registered object with SystemID 4 and name Buffer_env_4\n",
      "INFO:infstrct:Successfully registered object with SystemID 5 and name Machine_env_5\n",
      "INFO:infstrct:Successfully added System (type: Resource, custom_id: 11, name: Buffer_env_4) to System (type: StationGroup, custom_id: 1, name: StationGroup_env_2).\n",
      "INFO:infstrct:Successfully added System (type: Resource, custom_id: 1, name: Machine_env_5) to System (type: StationGroup, custom_id: 1, name: StationGroup_env_2).\n",
      "INFO:infstrct:Successfully registered object with SystemID 6 and name Buffer_env_6\n",
      "INFO:infstrct:Successfully registered object with SystemID 7 and name Machine_env_7\n",
      "INFO:infstrct:Successfully added System (type: Resource, custom_id: 12, name: Buffer_env_6) to System (type: StationGroup, custom_id: 2, name: StationGroup_env_3).\n",
      "INFO:infstrct:Successfully added System (type: Resource, custom_id: 2, name: Machine_env_7) to System (type: StationGroup, custom_id: 2, name: StationGroup_env_3).\n"
     ]
    }
   ],
   "source": [
    "# source\n",
    "area_source = sim.ProductionArea(env=env, custom_identifier=1000)\n",
    "group_source = sim.StationGroup(env=env, custom_identifier=1000)\n",
    "area_source.add_subsystem(group_source)\n",
    "td = dt_parser.timedelta_from_val(val=2., time_unit='hours')\n",
    "source = sim.Source(env=env, custom_identifier='source', proc_time=td, \n",
    "                random_generation=True, job_generator=job_generator, num_gen_jobs=5)\n",
    "group_source.add_subsystem(source)\n",
    "\n",
    "# sink\n",
    "area_sink = sim.ProductionArea(env=env, custom_identifier=2000)\n",
    "group_sink = sim.StationGroup(env=env, custom_identifier=2000)\n",
    "area_sink.add_subsystem(group_sink)\n",
    "sink = sim.Sink(env=env, custom_identifier='sink')\n",
    "group_sink.add_subsystem(sink)\n",
    "\n",
    "# processing stations\n",
    "# prod area 1\n",
    "area_prod = sim.ProductionArea(env=env, custom_identifier=1)\n",
    "group_prod = sim.StationGroup(env=env, custom_identifier=1)\n",
    "area_prod.add_subsystem(group_prod)\n",
    "group_prod2 = sim.StationGroup(env=env, custom_identifier=2)\n",
    "area_prod.add_subsystem(group_prod2)\n",
    "# prod area 2\n",
    "#area_prod2 = ProductionArea(env=env, custom_identifier=2)\n",
    "#group_prod3 = StationGroup(env=env, custom_identifier=3)\n",
    "#area_prod2.add_subsystem(group_prod3)\n",
    "#area_prod.add_subsystem(group_prod3)\n",
    "## machines\n",
    "for machine in range(3):\n",
    "    buffer = sim.Buffer(capacity=20, env=env, custom_identifier=(10+machine))\n",
    "    if machine == 5:\n",
    "        MachInst = sim.Machine(env=env, custom_identifier=machine, buffers=[buffer], setup_time=5.)\n",
    "    else:\n",
    "        MachInst = sim.Machine(env=env, custom_identifier=machine, buffers=[buffer])\n",
    "        \n",
    "    if machine == 0:\n",
    "        testMachInst = MachInst\n",
    "    \n",
    "    if machine < 2:\n",
    "        group_prod.add_subsystem(buffer)\n",
    "        group_prod.add_subsystem(MachInst)\n",
    "    elif machine >= 2:\n",
    "        group_prod2.add_subsystem(buffer)\n",
    "        group_prod2.add_subsystem(MachInst)\n",
    "    else:\n",
    "        pass\n",
    "        #group_prod3.add_subsystem(buffer)\n",
    "        #group_prod3.add_subsystem(MachInst)\n",
    "    \n",
    "\n",
    "add_machine_to_bottleneck: bool = False\n",
    "if add_machine_to_bottleneck:\n",
    "    buffer = sim.Buffer(capacity=20, env=env, custom_identifier=(10+machine+1))\n",
    "    MachInst = sim.Machine(env=env, custom_identifier=machine+1, buffers=[buffer])\n",
    "    group_prod3.add_subsystem(buffer)\n",
    "    group_prod3.add_subsystem(MachInst)"
   ]
  },
  {
   "cell_type": "code",
   "execution_count": 83,
   "metadata": {},
   "outputs": [
    {
     "name": "stdout",
     "output_type": "stream",
     "text": [
      "INFO:env:Successfully registered Allocation Agent in System (type: ProductionArea, custom_id: 1, name: ProductionArea_env_2)\n"
     ]
    }
   ],
   "source": [
    "alloc_agent = agents.AllocationAgent(assoc_system=area_prod)"
   ]
  },
  {
   "cell_type": "code",
   "execution_count": 84,
   "metadata": {},
   "outputs": [
    {
     "data": {
      "text/plain": [
       "(System (type: Resource, custom_id: 0, name: Machine_env_3),\n",
       " System (type: Resource, custom_id: 1, name: Machine_env_5),\n",
       " System (type: Resource, custom_id: 2, name: Machine_env_7))"
      ]
     },
     "execution_count": 84,
     "metadata": {},
     "output_type": "execute_result"
    }
   ],
   "source": [
    "alloc_agent._assoc_infstrct_objs"
   ]
  },
  {
   "cell_type": "code",
   "execution_count": null,
   "metadata": {},
   "outputs": [],
   "source": []
  }
 ],
 "metadata": {
  "kernelspec": {
   "display_name": "Python 3",
   "language": "python",
   "name": "python3"
  },
  "language_info": {
   "codemirror_mode": {
    "name": "ipython",
    "version": 3
   },
   "file_extension": ".py",
   "mimetype": "text/x-python",
   "name": "python",
   "nbconvert_exporter": "python",
   "pygments_lexer": "ipython3",
   "version": "3.11.8"
  }
 },
 "nbformat": 4,
 "nbformat_minor": 2
}
