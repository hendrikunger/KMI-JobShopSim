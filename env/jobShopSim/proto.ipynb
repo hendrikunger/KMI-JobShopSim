{
 "cells": [
  {
   "cell_type": "code",
   "execution_count": 1,
   "metadata": {},
   "outputs": [],
   "source": [
    "%load_ext autoreload"
   ]
  },
  {
   "cell_type": "code",
   "execution_count": 2,
   "metadata": {},
   "outputs": [],
   "source": [
    "%autoreload 2"
   ]
  },
  {
   "cell_type": "code",
   "execution_count": 47,
   "metadata": {},
   "outputs": [],
   "source": [
    "from lib import sim_env as sim\n",
    "from lib import loads\n",
    "from lib.utils import (DTManager, adjust_db_dates_local_tz)\n",
    "from lib import agents\n",
    "#from lib.dashboard import app\n",
    "import datetime"
   ]
  },
  {
   "cell_type": "code",
   "execution_count": null,
   "metadata": {},
   "outputs": [],
   "source": []
  },
  {
   "cell_type": "code",
   "execution_count": 51,
   "metadata": {},
   "outputs": [],
   "source": [
    "from websocket import create_connection"
   ]
  },
  {
   "cell_type": "code",
   "execution_count": null,
   "metadata": {},
   "outputs": [],
   "source": []
  },
  {
   "cell_type": "code",
   "execution_count": 13,
   "metadata": {},
   "outputs": [
    {
     "name": "stdout",
     "output_type": "stream",
     "text": [
      "Sent\n",
      "Receiving...\n"
     ]
    }
   ],
   "source": [
    "ws = create_connection(\"ws://127.0.0.1:5000/gantt_chart\")\n",
    "#print(ws.recv())\n",
    "#print(\"Sending 'Hello, World'...\")\n",
    "ws.send(\"Graph\")\n",
    "\n",
    "print(\"Sent\")\n",
    "print(\"Receiving...\")\n",
    "#result =  ws.recv()\n",
    "#print(\"Received '%s'\" % result)\n",
    "#ws.close()\n",
    "\n",
    "#ws.close()"
   ]
  },
  {
   "cell_type": "code",
   "execution_count": 14,
   "metadata": {},
   "outputs": [
    {
     "name": "stdout",
     "output_type": "stream",
     "text": [
      "Receiving...\n",
      "Received 'Graph'\n"
     ]
    }
   ],
   "source": [
    "print(\"Receiving...\")\n",
    "print(\"Receiving...\")\n",
    "result =  ws.recv()\n",
    "print(\"Received '%s'\" % result)\n",
    "\n",
    "ws.close()"
   ]
  },
  {
   "cell_type": "code",
   "execution_count": null,
   "metadata": {},
   "outputs": [
    {
     "name": "stdout",
     "output_type": "stream",
     "text": [
      "Receiving...\n"
     ]
    }
   ],
   "source": [
    "ws = create_connection(\"ws://127.0.0.1:5000/gantt_chart\")\n",
    "\n",
    "print(\"Receiving...\")\n",
    "result =  ws.recv()\n",
    "print(\"Received '%s'\" % result)\n",
    "\n",
    "ws.close()"
   ]
  },
  {
   "cell_type": "markdown",
   "metadata": {},
   "source": [
    "# environment\n",
    "dt = current_time_tz(cut_microseconds=True)\n",
    "env = sim.SimulationEnvironment(name='base', time_unit='seconds', starting_datetime=dt)\n",
    "job_generator = loads.RandomJobGenerator(seed=2)\n",
    "infstruct_mgr = sim.InfrastructureManager(env=env)\n",
    "dispatcher = sim.Dispatcher(env=env, priority_rule='FIFO')\n",
    "\n",
    "# source\n",
    "area_source = sim.ProductionArea(env=env, custom_identifier=1000)\n",
    "group_source = sim.StationGroup(env=env, custom_identifier=1000)\n",
    "area_source.add_subsystem(group_source)\n",
    "proc_time = dt_parser.timedelta_from_val(val=2., time_unit='hours')\n",
    "source = sim.Source(env=env, custom_identifier='source', proc_time=proc_time, \n",
    "                random_generation=True, job_generator=job_generator, num_gen_jobs=5)\n",
    "group_source.add_subsystem(source)\n",
    "\n",
    "# sink\n",
    "area_sink = sim.ProductionArea(env=env, custom_identifier=2000)\n",
    "group_sink = sim.StationGroup(env=env, custom_identifier=2000)\n",
    "area_sink.add_subsystem(group_sink)\n",
    "sink = sim.Sink(env=env, custom_identifier='sink')\n",
    "group_sink.add_subsystem(sink)\n",
    "\n",
    "# processing stations\n",
    "# prod area 1\n",
    "area_prod = sim.ProductionArea(env=env, custom_identifier=1)\n",
    "group_prod = sim.StationGroup(env=env, custom_identifier=1)\n",
    "area_prod.add_subsystem(group_prod)\n",
    "group_prod2 = sim.StationGroup(env=env, custom_identifier=2)\n",
    "area_prod.add_subsystem(group_prod2)\n",
    "# prod area 2\n",
    "#area_prod2 = ProductionArea(env=env, custom_identifier=2)\n",
    "#group_prod3 = StationGroup(env=env, custom_identifier=3)\n",
    "#area_prod2.add_subsystem(group_prod3)\n",
    "#area_prod.add_subsystem(group_prod3)\n",
    "## machines\n",
    "for machine in range(3):\n",
    "    buffer = sim.Buffer(capacity=20, env=env, custom_identifier=(10+machine))\n",
    "    if machine == 5:\n",
    "        MachInst = sim.Machine(env=env, custom_identifier=machine, buffers=[buffer], setup_time=5.)\n",
    "    else:\n",
    "        MachInst = sim.Machine(env=env, custom_identifier=machine, buffers=[buffer])\n",
    "        \n",
    "    if machine == 0:\n",
    "        testMachInst = MachInst\n",
    "    \n",
    "    if machine < 2:\n",
    "        group_prod.add_subsystem(buffer)\n",
    "        group_prod.add_subsystem(MachInst)\n",
    "    elif machine >= 2:\n",
    "        group_prod2.add_subsystem(buffer)\n",
    "        group_prod2.add_subsystem(MachInst)\n",
    "    else:\n",
    "        pass\n",
    "        #group_prod3.add_subsystem(buffer)\n",
    "        #group_prod3.add_subsystem(MachInst)\n",
    "    \n",
    "\n",
    "add_machine_to_bottleneck: bool = False\n",
    "if add_machine_to_bottleneck:\n",
    "    buffer = sim.Buffer(capacity=20, env=env, custom_identifier=(10+machine+1))\n",
    "    MachInst = sim.Machine(env=env, custom_identifier=machine+1, buffers=[buffer])\n",
    "    group_prod3.add_subsystem(buffer)\n",
    "    group_prod3.add_subsystem(MachInst)\n",
    "\n",
    "alloc_agent = agents.AllocationAgent(assoc_system=area_prod)"
   ]
  },
  {
   "cell_type": "markdown",
   "metadata": {},
   "source": [
    "alloc_agent._assoc_infstrct_objs"
   ]
  },
  {
   "cell_type": "markdown",
   "metadata": {
    "scrolled": true
   },
   "source": [
    "# station group IDs (system, custom) for processing stations\n",
    "MachInst.supersystems_custom_ids"
   ]
  },
  {
   "cell_type": "code",
   "execution_count": null,
   "metadata": {},
   "outputs": [],
   "source": []
  },
  {
   "cell_type": "code",
   "execution_count": 48,
   "metadata": {},
   "outputs": [],
   "source": [
    "def build_sim_env() -> tuple[\n",
    "    sim.SimulationEnvironment,\n",
    "    sim.InfrastructureManager,\n",
    "    sim.Dispatcher,\n",
    "    agents.AllocationAgent,\n",
    "]:\n",
    "    # !! REWORK, CURRENTLY ONLY FOR TESTING PURPOSES\n",
    "    \"\"\"Constructor to build simulation environment (layout)\n",
    "\n",
    "    Returns\n",
    "    -------\n",
    "    tuple[ sim.SimulationEnvironment, sim.InfrastructureManager, sim.Dispatcher, agents.AllocationAgent, ]\n",
    "        tuple out of Environment, InfrastructureManager, Dispatcher, Agent\n",
    "    \"\"\"\n",
    "    # datetime manager\n",
    "    dt_mgr = DTManager()\n",
    "    starting_dt = dt_mgr.dt_with_tz_UTC(2024, 3, 28, 0)\n",
    "    #starting_dt = dt_mgr.current_time_tz(cut_microseconds=True)\n",
    "    # environment\n",
    "    env = sim.SimulationEnvironment(name='base', time_unit='seconds', starting_datetime=starting_dt, debug_dashboard=True)\n",
    "    job_generator = loads.RandomJobGenerator(seed=100)\n",
    "    infstruct_mgr = sim.InfrastructureManager(env=env)\n",
    "    dispatcher = sim.Dispatcher(env=env, priority_rule='FIFO')\n",
    "    \n",
    "    # source\n",
    "    area_source = sim.ProductionArea(env=env, custom_identifier=1000)\n",
    "    group_source = sim.StationGroup(env=env, custom_identifier=1000)\n",
    "    area_source.add_subsystem(group_source)\n",
    "    proc_time = dt_mgr.timedelta_from_val(val=2., time_unit='hours')\n",
    "    source = sim.Source(env=env, custom_identifier='source', proc_time=proc_time, \n",
    "                    random_generation=True, job_generator=job_generator, num_gen_jobs=6)\n",
    "    group_source.add_subsystem(source)\n",
    "\n",
    "    # sink\n",
    "    area_sink = sim.ProductionArea(env=env, custom_identifier=2000)\n",
    "    group_sink = sim.StationGroup(env=env, custom_identifier=2000)\n",
    "    area_sink.add_subsystem(group_sink)\n",
    "    sink = sim.Sink(env=env, custom_identifier='sink')\n",
    "    group_sink.add_subsystem(sink)\n",
    "\n",
    "    # processing stations\n",
    "    # prod area 1\n",
    "    area_prod = sim.ProductionArea(env=env, custom_identifier=1)\n",
    "    group_prod = sim.StationGroup(env=env, custom_identifier=1)\n",
    "    area_prod.add_subsystem(group_prod)\n",
    "    group_prod2 = sim.StationGroup(env=env, custom_identifier=2)\n",
    "    area_prod.add_subsystem(group_prod2)\n",
    "    # prod area 2\n",
    "    #area_prod2 = ProductionArea(env=env, custom_identifier=2)\n",
    "    #group_prod3 = StationGroup(env=env, custom_identifier=3)\n",
    "    #area_prod2.add_subsystem(group_prod3)\n",
    "    #area_prod.add_subsystem(group_prod3)\n",
    "    ## machines\n",
    "    for machine in range(3):\n",
    "        buffer = sim.Buffer(capacity=20, env=env, custom_identifier=(10+machine))\n",
    "        if machine == 5:\n",
    "            MachInst = sim.Machine(env=env, custom_identifier=machine, buffers=[buffer], setup_time=5.)\n",
    "        else:\n",
    "            MachInst = sim.Machine(env=env, custom_identifier=machine, buffers=[buffer])\n",
    "            \n",
    "        if machine == 0:\n",
    "            testMachInst = MachInst\n",
    "        \n",
    "        if machine < 2:\n",
    "            group_prod.add_subsystem(buffer)\n",
    "            group_prod.add_subsystem(MachInst)\n",
    "        elif machine >= 2:\n",
    "            group_prod2.add_subsystem(buffer)\n",
    "            group_prod2.add_subsystem(MachInst)\n",
    "        else:\n",
    "            pass\n",
    "            #group_prod3.add_subsystem(buffer)\n",
    "            #group_prod3.add_subsystem(MachInst)\n",
    "        \n",
    "\n",
    "    add_machine_to_bottleneck: bool = False\n",
    "    if add_machine_to_bottleneck:\n",
    "        buffer = sim.Buffer(capacity=20, env=env, custom_identifier=(10+machine+1))\n",
    "        MachInst = sim.Machine(env=env, custom_identifier=machine+1, buffers=[buffer])\n",
    "        group_prod3.add_subsystem(buffer)\n",
    "        group_prod3.add_subsystem(MachInst)\n",
    "        \n",
    "    alloc_agent = agents.AllocationAgent(assoc_system=area_prod)\n",
    "\n",
    "    # conditions\n",
    "    duration_transient = dt_mgr.timedelta_from_val(val=2, time_unit='hours')\n",
    "    #trans_cond = sim.TransientCondition(env=env, duration_transient=duration_transient)\n",
    "    #agent_decision_cond = sim.TriggerAgentCondition(env=env)\n",
    "    #sim_dur = dt_mgr.timedelta_from_val(val=2., time_unit='days')\n",
    "    sim_end_date = dt_mgr.dt_with_tz_UTC(2024,3,23,12)\n",
    "    #job_gen_dur_cond = sim.JobGenDurationCondition(env=env, target_obj=source, sim_run_duration=sim_dur)\n",
    "    \n",
    "    return env, infstruct_mgr, dispatcher, alloc_agent"
   ]
  },
  {
   "cell_type": "code",
   "execution_count": 49,
   "metadata": {},
   "outputs": [
    {
     "name": "stdout",
     "output_type": "stream",
     "text": [
      "INFO:sim_env.env:Successfully registered Infrastructure Manager in Env >>base<<\n",
      "INFO:sim_env.env:Successfully registered Dispatcher in Env >>base<<\n",
      "INFO:sim_env.infstrct:Successfully registered object with SystemID 0 and name ProductionArea_env_0\n",
      "INFO:sim_env.infstrct:Successfully registered object with SystemID 0 and name StationGroup_env_0\n",
      "INFO:sim_env.infstrct:Successfully added System (type: StationGroup, custom_id: 1000, name: StationGroup_env_0) to System (type: ProductionArea, custom_id: 1000, name: ProductionArea_env_0).\n",
      "INFO:sim_env.infstrct:Successfully registered object with SystemID 0 and name Source_env_0\n",
      "INFO:sim_env.infstrct:Successfully added System (type: Resource, custom_id: source, name: Source_env_0) to System (type: StationGroup, custom_id: 1000, name: StationGroup_env_0).\n",
      "INFO:sim_env.infstrct:Successfully registered object with SystemID 1 and name ProductionArea_env_1\n",
      "INFO:sim_env.infstrct:Successfully registered object with SystemID 1 and name StationGroup_env_1\n",
      "INFO:sim_env.infstrct:Successfully added System (type: StationGroup, custom_id: 2000, name: StationGroup_env_1) to System (type: ProductionArea, custom_id: 2000, name: ProductionArea_env_1).\n",
      "INFO:sim_env.infstrct:Successfully registered object with SystemID 1 and name Sink_env_1\n",
      "INFO:sim_env.infstrct:Successfully added System (type: Resource, custom_id: sink, name: Sink_env_1) to System (type: StationGroup, custom_id: 2000, name: StationGroup_env_1).\n",
      "INFO:sim_env.infstrct:Successfully registered object with SystemID 2 and name ProductionArea_env_2\n",
      "INFO:sim_env.infstrct:Successfully registered object with SystemID 2 and name StationGroup_env_2\n",
      "INFO:sim_env.infstrct:Successfully added System (type: StationGroup, custom_id: 1, name: StationGroup_env_2) to System (type: ProductionArea, custom_id: 1, name: ProductionArea_env_2).\n",
      "INFO:sim_env.infstrct:Successfully registered object with SystemID 3 and name StationGroup_env_3\n",
      "INFO:sim_env.infstrct:Successfully added System (type: StationGroup, custom_id: 2, name: StationGroup_env_3) to System (type: ProductionArea, custom_id: 1, name: ProductionArea_env_2).\n",
      "INFO:sim_env.infstrct:Successfully registered object with SystemID 2 and name Buffer_env_2\n",
      "INFO:sim_env.infstrct:Successfully registered object with SystemID 3 and name Machine_env_3\n",
      "INFO:sim_env.infstrct:Successfully added System (type: Resource, custom_id: 10, name: Buffer_env_2) to System (type: StationGroup, custom_id: 1, name: StationGroup_env_2).\n",
      "INFO:sim_env.infstrct:Successfully added System (type: Resource, custom_id: 0, name: Machine_env_3) to System (type: StationGroup, custom_id: 1, name: StationGroup_env_2).\n",
      "INFO:sim_env.infstrct:Successfully registered object with SystemID 4 and name Buffer_env_4\n",
      "INFO:sim_env.infstrct:Successfully registered object with SystemID 5 and name Machine_env_5\n",
      "INFO:sim_env.infstrct:Successfully added System (type: Resource, custom_id: 11, name: Buffer_env_4) to System (type: StationGroup, custom_id: 1, name: StationGroup_env_2).\n",
      "INFO:sim_env.infstrct:Successfully added System (type: Resource, custom_id: 1, name: Machine_env_5) to System (type: StationGroup, custom_id: 1, name: StationGroup_env_2).\n",
      "INFO:sim_env.infstrct:Successfully registered object with SystemID 6 and name Buffer_env_6\n",
      "INFO:sim_env.infstrct:Successfully registered object with SystemID 7 and name Machine_env_7\n",
      "INFO:sim_env.infstrct:Successfully added System (type: Resource, custom_id: 12, name: Buffer_env_6) to System (type: StationGroup, custom_id: 2, name: StationGroup_env_3).\n",
      "INFO:sim_env.infstrct:Successfully added System (type: Resource, custom_id: 2, name: Machine_env_7) to System (type: StationGroup, custom_id: 2, name: StationGroup_env_3).\n",
      "INFO:sim_env.env:Successfully registered Allocation Agent in System (type: ProductionArea, custom_id: 1, name: ProductionArea_env_2)\n"
     ]
    }
   ],
   "source": [
    "(env, infstruct_mgr, dispatcher, agent) = build_sim_env()"
   ]
  },
  {
   "cell_type": "code",
   "execution_count": 50,
   "metadata": {},
   "outputs": [
    {
     "name": "stdout",
     "output_type": "stream",
     "text": [
      "INFO:sim_env.env:Integrity check for Environment base successful.\n"
     ]
    }
   ],
   "source": [
    "env.check_integrity()"
   ]
  },
  {
   "cell_type": "code",
   "execution_count": 51,
   "metadata": {},
   "outputs": [
    {
     "name": "stdout",
     "output_type": "stream",
     "text": [
      "Prio Rules: {'FIFO', 'LIFO', 'LPT', 'SST', 'LST', 'PRIO', 'SPT'}\n",
      "Alloc Rules: {'RANDOM', 'UTILISATION', 'WIP_LOAD_JOBS', 'WIP_LOAD_TIME', 'AGENT'}\n"
     ]
    }
   ],
   "source": [
    "print('Prio Rules:', dispatcher.possible_prio_rules())\n",
    "print('Alloc Rules:', dispatcher.possible_alloc_rules())"
   ]
  },
  {
   "cell_type": "code",
   "execution_count": 52,
   "metadata": {},
   "outputs": [],
   "source": [
    "dispatcher.curr_prio_rule = 'LPT'\n",
    "dispatcher.curr_alloc_rule = 'WIP_LOAD_TIME'\n",
    "dispatcher.curr_alloc_rule = 'AGENT'"
   ]
  },
  {
   "cell_type": "code",
   "execution_count": 53,
   "metadata": {},
   "outputs": [
    {
     "data": {
      "text/plain": [
       "(System (type: Resource, custom_id: 0, name: Machine_env_3),\n",
       " System (type: Resource, custom_id: 1, name: Machine_env_5),\n",
       " System (type: Resource, custom_id: 2, name: Machine_env_7))"
      ]
     },
     "execution_count": 53,
     "metadata": {},
     "output_type": "execute_result"
    }
   ],
   "source": [
    "agent.assoc_proc_stations"
   ]
  },
  {
   "cell_type": "code",
   "execution_count": 54,
   "metadata": {},
   "outputs": [
    {
     "data": {
      "text/html": [
       "<div>\n",
       "<style scoped>\n",
       "    .dataframe tbody tr th:only-of-type {\n",
       "        vertical-align: middle;\n",
       "    }\n",
       "\n",
       "    .dataframe tbody tr th {\n",
       "        vertical-align: top;\n",
       "    }\n",
       "\n",
       "    .dataframe thead th {\n",
       "        text-align: right;\n",
       "    }\n",
       "</style>\n",
       "<table border=\"1\" class=\"dataframe\">\n",
       "  <thead>\n",
       "    <tr style=\"text-align: right;\">\n",
       "      <th></th>\n",
       "      <th>custom_id</th>\n",
       "      <th>name</th>\n",
       "      <th>station_group</th>\n",
       "      <th>prod_area_id</th>\n",
       "      <th>containing_proc_stations</th>\n",
       "    </tr>\n",
       "    <tr>\n",
       "      <th>station_group_id</th>\n",
       "      <th></th>\n",
       "      <th></th>\n",
       "      <th></th>\n",
       "      <th></th>\n",
       "      <th></th>\n",
       "    </tr>\n",
       "  </thead>\n",
       "  <tbody>\n",
       "    <tr>\n",
       "      <th>0</th>\n",
       "      <td>1000</td>\n",
       "      <td>StationGroup_env_0</td>\n",
       "      <td>{0: {}}</td>\n",
       "      <td>0</td>\n",
       "      <td>False</td>\n",
       "    </tr>\n",
       "    <tr>\n",
       "      <th>1</th>\n",
       "      <td>2000</td>\n",
       "      <td>StationGroup_env_1</td>\n",
       "      <td>{1: {}}</td>\n",
       "      <td>1</td>\n",
       "      <td>False</td>\n",
       "    </tr>\n",
       "    <tr>\n",
       "      <th>2</th>\n",
       "      <td>1</td>\n",
       "      <td>StationGroup_env_2</td>\n",
       "      <td>{2: {}, 3: {}, 4: {}, 5: {}}</td>\n",
       "      <td>2</td>\n",
       "      <td>True</td>\n",
       "    </tr>\n",
       "    <tr>\n",
       "      <th>3</th>\n",
       "      <td>2</td>\n",
       "      <td>StationGroup_env_3</td>\n",
       "      <td>{6: {}, 7: {}}</td>\n",
       "      <td>2</td>\n",
       "      <td>True</td>\n",
       "    </tr>\n",
       "  </tbody>\n",
       "</table>\n",
       "</div>"
      ],
      "text/plain": [
       "                 custom_id                name                 station_group   \n",
       "station_group_id                                                               \n",
       "0                     1000  StationGroup_env_0                       {0: {}}  \\\n",
       "1                     2000  StationGroup_env_1                       {1: {}}   \n",
       "2                        1  StationGroup_env_2  {2: {}, 3: {}, 4: {}, 5: {}}   \n",
       "3                        2  StationGroup_env_3                {6: {}, 7: {}}   \n",
       "\n",
       "                  prod_area_id  containing_proc_stations  \n",
       "station_group_id                                          \n",
       "0                            0                     False  \n",
       "1                            1                     False  \n",
       "2                            2                      True  \n",
       "3                            2                      True  "
      ]
     },
     "execution_count": 54,
     "metadata": {},
     "output_type": "execute_result"
    }
   ],
   "source": [
    "infstruct_mgr.station_group_db"
   ]
  },
  {
   "cell_type": "markdown",
   "metadata": {},
   "source": [
    "**Sequential run**"
   ]
  },
  {
   "cell_type": "code",
   "execution_count": 55,
   "metadata": {},
   "outputs": [
    {
     "data": {
      "text/plain": [
       "False"
      ]
     },
     "execution_count": 55,
     "metadata": {},
     "output_type": "execute_result"
    }
   ],
   "source": [
    "agent.dispatching_signal"
   ]
  },
  {
   "cell_type": "code",
   "execution_count": 56,
   "metadata": {
    "scrolled": true
   },
   "outputs": [],
   "source": [
    "#app.run(jupyter_mode=\"external\")"
   ]
  },
  {
   "cell_type": "code",
   "execution_count": 57,
   "metadata": {},
   "outputs": [
    {
     "name": "stdout",
     "output_type": "stream",
     "text": [
      "INFO:sim_env.env:Starting websocket server...\n",
      "INFO:sim_env.env:Starting dashboard server...\n",
      "INFO:sim_env.env:Establish websocket connection...\n",
      "INFO:sim_env.env:Initialisation for Environment base successful.\n",
      "DEBUG:agents.agents:Dispatching signal for >>Agent(type=ALLOC, Assoc_Syst_ID=2)<< was set to >>True<<.\n",
      "DEBUG:agents.agents:[REQUEST Agent Agent(type=ALLOC, Assoc_Syst_ID=2)]: built FeatVec.\n",
      "DEBUG:sim_env.base:--------------- DEBUG: call before hold(0) at 0.0, 2024-03-28 00:00:00+00:00\n",
      "[ 2.  1.  0.  2.  1.  0.  3.  1.  0.  2. 11.]\n"
     ]
    }
   ],
   "source": [
    "# reset\n",
    "\n",
    "env.initialise()\n",
    "\n",
    "## second block in step function\n",
    "## execute with provided action till next decision should be made\n",
    "while not agent.dispatching_signal:\n",
    "    #if env.sim_ended:\n",
    "        #break\n",
    "    # empty event list, simulation run ended\n",
    "    if not env._event_list:\n",
    "        break\n",
    "    env.step()\n",
    "    #print(f'Env Trans State: {env.is_transient_cond}')\n",
    "print(agent.feat_vec)"
   ]
  },
  {
   "cell_type": "code",
   "execution_count": 78,
   "metadata": {},
   "outputs": [
    {
     "name": "stdout",
     "output_type": "stream",
     "text": [
      "Run ended!\n",
      "[ 2.  0. 41.  2.  1.  0.  3.  0. 22.  3. 13.]\n",
      "DEBUG:agents.agents:++++++ stations=(System (type: Resource, custom_id: 0, name: Machine_env_3), System (type: Resource, custom_id: 1, name: Machine_env_5))\n",
      "DEBUG:agents.agents:++++++ util_vals=[1.0, 0.0]\n",
      "DEBUG:agents.agents:++++++ util_mean=0.5\n",
      "DEBUG:agents.agents:+#+#+#+#+# reward=-0.5\n"
     ]
    }
   ],
   "source": [
    "## first block in step function\n",
    "## action is provided as parameter\n",
    "## set action\n",
    "# if still events left, get/set action\n",
    "#if env._event_list and not env.is_transient_cond:\n",
    "if env._event_list:\n",
    "    print('Dispatching Signal', agent.dispatching_signal)\n",
    "    action = agent.random_action()\n",
    "    agent.set_decision(action=action)\n",
    "else:\n",
    "    print('Run ended!')\n",
    "\n",
    "## second block in step function\n",
    "## execute with provided action till next decision should be made\n",
    "while not agent.dispatching_signal:\n",
    "    #if env.sim_ended:\n",
    "        #break\n",
    "    # empty event list, simulation run ended\n",
    "    if not env._event_list:\n",
    "        break\n",
    "    env.step()\n",
    "    #print(f'Env Trans State: {env.is_transient_cond}')\n",
    "# observation\n",
    "print(agent.feat_vec)\n",
    "\n",
    "\n",
    "## third block\n",
    "## calculate reward before next decision is made\n",
    "rew = agent.calc_reward()\n",
    "env.dashboard_update()"
   ]
  },
  {
   "cell_type": "code",
   "execution_count": null,
   "metadata": {},
   "outputs": [],
   "source": []
  },
  {
   "cell_type": "code",
   "execution_count": null,
   "metadata": {},
   "outputs": [],
   "source": []
  },
  {
   "cell_type": "code",
   "execution_count": 80,
   "metadata": {},
   "outputs": [
    {
     "ename": "TypeError",
     "evalue": "unsupported operand type(s) for +: 'datetime.timedelta' and 'float'",
     "output_type": "error",
     "traceback": [
      "\u001b[1;31m---------------------------------------------------------------------------\u001b[0m",
      "\u001b[1;31mTypeError\u001b[0m                                 Traceback (most recent call last)",
      "Cell \u001b[1;32mIn[80], line 1\u001b[0m\n\u001b[1;32m----> 1\u001b[0m \u001b[43menv\u001b[49m\u001b[38;5;241;43m.\u001b[39;49m\u001b[43mfinalise\u001b[49m\u001b[43m(\u001b[49m\u001b[43m)\u001b[49m\n",
      "File \u001b[1;32m~\\Documents\\00 Projekte\\KMI\\Programmierung\\KMI-JobShopSim\\env\\jobShopSim\\lib\\sim_env.py:385\u001b[0m, in \u001b[0;36mSimulationEnvironment.finalise\u001b[1;34m(self)\u001b[0m\n\u001b[0;32m    380\u001b[0m \u001b[38;5;250m\u001b[39m\u001b[38;5;124;03m\"\"\"\u001b[39;00m\n\u001b[0;32m    381\u001b[0m \u001b[38;5;124;03mFunction which should be executed at the end of the simulation.\u001b[39;00m\n\u001b[0;32m    382\u001b[0m \u001b[38;5;124;03mCan be used for finalising data collection, other related tasks or further processing pipelines\u001b[39;00m\n\u001b[0;32m    383\u001b[0m \u001b[38;5;124;03m\"\"\"\u001b[39;00m\n\u001b[0;32m    384\u001b[0m \u001b[38;5;66;03m# infrastructure manager instance\u001b[39;00m\n\u001b[1;32m--> 385\u001b[0m \u001b[38;5;28;43mself\u001b[39;49m\u001b[38;5;241;43m.\u001b[39;49m\u001b[43m_infstruct_mgr\u001b[49m\u001b[38;5;241;43m.\u001b[39;49m\u001b[43mfinalise\u001b[49m\u001b[43m(\u001b[49m\u001b[43m)\u001b[49m\n\u001b[0;32m    387\u001b[0m \u001b[38;5;66;03m# dispatcher instance\u001b[39;00m\n\u001b[0;32m    388\u001b[0m \u001b[38;5;28mself\u001b[39m\u001b[38;5;241m.\u001b[39m_dispatcher\u001b[38;5;241m.\u001b[39mfinalise()\n",
      "File \u001b[1;32m~\\Documents\\00 Projekte\\KMI\\Programmierung\\KMI-JobShopSim\\env\\jobShopSim\\lib\\sim_env.py:917\u001b[0m, in \u001b[0;36mInfrastructureManager.finalise\u001b[1;34m(self)\u001b[0m\n\u001b[0;32m    913\u001b[0m \u001b[38;5;28;01mdef\u001b[39;00m \u001b[38;5;21mfinalise\u001b[39m(\u001b[38;5;28mself\u001b[39m) \u001b[38;5;241m-\u001b[39m\u001b[38;5;241m>\u001b[39m \u001b[38;5;28;01mNone\u001b[39;00m:\n\u001b[0;32m    914\u001b[0m     \n\u001b[0;32m    915\u001b[0m     \u001b[38;5;66;03m# set end state for each resource object to calculate the right time amounts\u001b[39;00m\n\u001b[0;32m    916\u001b[0m     \u001b[38;5;28;01mfor\u001b[39;00m res_obj \u001b[38;5;129;01min\u001b[39;00m \u001b[38;5;28mself\u001b[39m\u001b[38;5;241m.\u001b[39m_res_db[\u001b[38;5;124m'\u001b[39m\u001b[38;5;124mresource\u001b[39m\u001b[38;5;124m'\u001b[39m]:\n\u001b[1;32m--> 917\u001b[0m         \u001b[43mres_obj\u001b[49m\u001b[38;5;241;43m.\u001b[39;49m\u001b[43mfinalise\u001b[49m\u001b[43m(\u001b[49m\u001b[43m)\u001b[49m\n\u001b[0;32m    918\u001b[0m     logger_infstrct\u001b[38;5;241m.\u001b[39minfo(\u001b[38;5;124m\"\u001b[39m\u001b[38;5;124mSuccessful finalisation of the state information for all resource objects.\u001b[39m\u001b[38;5;124m\"\u001b[39m)\n",
      "File \u001b[1;32m~\\Documents\\00 Projekte\\KMI\\Programmierung\\KMI-JobShopSim\\env\\jobShopSim\\lib\\sim_env.py:3763\u001b[0m, in \u001b[0;36mProcessingStation.finalise\u001b[1;34m(self)\u001b[0m\n\u001b[0;32m   3757\u001b[0m \u001b[38;5;250m\u001b[39m\u001b[38;5;124;03m\"\"\"\u001b[39;00m\n\u001b[0;32m   3758\u001b[0m \u001b[38;5;124;03mmethod to be called at the end of the simulation run by \u001b[39;00m\n\u001b[0;32m   3759\u001b[0m \u001b[38;5;124;03mthe environment's \"finalise_sim\" method\u001b[39;00m\n\u001b[0;32m   3760\u001b[0m \u001b[38;5;124;03m\"\"\"\u001b[39;00m\n\u001b[0;32m   3761\u001b[0m \u001b[38;5;66;03m# each resource object class has dedicated finalise methods which \u001b[39;00m\n\u001b[0;32m   3762\u001b[0m \u001b[38;5;66;03m# must be called by children\u001b[39;00m\n\u001b[1;32m-> 3763\u001b[0m \u001b[38;5;28;43msuper\u001b[39;49m\u001b[43m(\u001b[49m\u001b[43m)\u001b[49m\u001b[38;5;241;43m.\u001b[39;49m\u001b[43mfinalise\u001b[49m\u001b[43m(\u001b[49m\u001b[43m)\u001b[49m\n",
      "File \u001b[1;32m~\\Documents\\00 Projekte\\KMI\\Programmierung\\KMI-JobShopSim\\env\\jobShopSim\\lib\\sim_env.py:3645\u001b[0m, in \u001b[0;36mInfrastructureObject.finalise\u001b[1;34m(self)\u001b[0m\n\u001b[0;32m   3643\u001b[0m infstruct_mgr\u001b[38;5;241m.\u001b[39mupdate_res_state(obj\u001b[38;5;241m=\u001b[39m\u001b[38;5;28mself\u001b[39m, state\u001b[38;5;241m=\u001b[39m\u001b[38;5;124m'\u001b[39m\u001b[38;5;124mFINISH\u001b[39m\u001b[38;5;124m'\u001b[39m)\n\u001b[0;32m   3644\u001b[0m \u001b[38;5;66;03m# finalise stat gathering\u001b[39;00m\n\u001b[1;32m-> 3645\u001b[0m \u001b[38;5;28;43mself\u001b[39;49m\u001b[38;5;241;43m.\u001b[39;49m\u001b[43m_stat_monitor\u001b[49m\u001b[38;5;241;43m.\u001b[39;49m\u001b[43mfinalise_stats\u001b[49m\u001b[43m(\u001b[49m\u001b[43m)\u001b[49m\n",
      "File \u001b[1;32m~\\Documents\\00 Projekte\\KMI\\Programmierung\\KMI-JobShopSim\\env\\jobShopSim\\lib\\sim_env.py:3172\u001b[0m, in \u001b[0;36mInfStructMonitor.finalise_stats\u001b[1;34m(self)\u001b[0m\n\u001b[0;32m   3170\u001b[0m temp1[\u001b[38;5;124m'\u001b[39m\u001b[38;5;124mduration_seconds\u001b[39m\u001b[38;5;124m'\u001b[39m] \u001b[38;5;241m=\u001b[39m temp1[\u001b[38;5;124m'\u001b[39m\u001b[38;5;124mduration\u001b[39m\u001b[38;5;124m'\u001b[39m]\u001b[38;5;241m.\u001b[39mapply(func\u001b[38;5;241m=\u001b[39m \u001b[38;5;28;01mlambda\u001b[39;00m x: x\u001b[38;5;241m.\u001b[39mtotal_seconds())\n\u001b[0;32m   3171\u001b[0m temp1[\u001b[38;5;124m'\u001b[39m\u001b[38;5;124mmul\u001b[39m\u001b[38;5;124m'\u001b[39m] \u001b[38;5;241m=\u001b[39m temp1[\u001b[38;5;124m'\u001b[39m\u001b[38;5;124mduration_seconds\u001b[39m\u001b[38;5;124m'\u001b[39m] \u001b[38;5;241m*\u001b[39m temp1[\u001b[38;5;124m'\u001b[39m\u001b[38;5;124mlevel\u001b[39m\u001b[38;5;124m'\u001b[39m]\n\u001b[1;32m-> 3172\u001b[0m sums: Series \u001b[38;5;241m=\u001b[39m \u001b[43mtemp1\u001b[49m\u001b[38;5;241;43m.\u001b[39;49m\u001b[43mfilter\u001b[49m\u001b[43m(\u001b[49m\u001b[43mitems\u001b[49m\u001b[38;5;241;43m=\u001b[39;49m\u001b[43m[\u001b[49m\u001b[38;5;124;43m'\u001b[39;49m\u001b[38;5;124;43mduration_seconds\u001b[39;49m\u001b[38;5;124;43m'\u001b[39;49m\u001b[43m,\u001b[49m\u001b[43m \u001b[49m\u001b[38;5;124;43m'\u001b[39;49m\u001b[38;5;124;43mmul\u001b[39;49m\u001b[38;5;124;43m'\u001b[39;49m\u001b[43m]\u001b[49m\u001b[43m)\u001b[49m\u001b[38;5;241;43m.\u001b[39;49m\u001b[43msum\u001b[49m\u001b[43m(\u001b[49m\u001b[43maxis\u001b[49m\u001b[38;5;241;43m=\u001b[39;49m\u001b[38;5;241;43m0\u001b[39;49m\u001b[43m)\u001b[49m\n\u001b[0;32m   3173\u001b[0m \u001b[38;5;28mself\u001b[39m\u001b[38;5;241m.\u001b[39m_wei_avg_WIP_level_num: \u001b[38;5;28mfloat\u001b[39m \u001b[38;5;241m=\u001b[39m sums[\u001b[38;5;124m'\u001b[39m\u001b[38;5;124mmul\u001b[39m\u001b[38;5;124m'\u001b[39m] \u001b[38;5;241m/\u001b[39m sums[\u001b[38;5;124m'\u001b[39m\u001b[38;5;124mduration_seconds\u001b[39m\u001b[38;5;124m'\u001b[39m]\n",
      "File \u001b[1;32m~\\AppData\\Local\\mambaforge\\envs\\simrl\\Lib\\site-packages\\pandas\\core\\generic.py:11512\u001b[0m, in \u001b[0;36mNDFrame._add_numeric_operations.<locals>.sum\u001b[1;34m(self, axis, skipna, numeric_only, min_count, **kwargs)\u001b[0m\n\u001b[0;32m  11493\u001b[0m \u001b[38;5;129m@doc\u001b[39m(  \u001b[38;5;66;03m# type: ignore[misc]\u001b[39;00m\n\u001b[0;32m  11494\u001b[0m     _num_doc,\n\u001b[0;32m  11495\u001b[0m     desc\u001b[38;5;241m=\u001b[39m\u001b[38;5;124m\"\u001b[39m\u001b[38;5;124mReturn the sum of the values over the requested axis.\u001b[39m\u001b[38;5;130;01m\\n\u001b[39;00m\u001b[38;5;130;01m\\n\u001b[39;00m\u001b[38;5;124m\"\u001b[39m\n\u001b[1;32m   (...)\u001b[0m\n\u001b[0;32m  11510\u001b[0m     \u001b[38;5;241m*\u001b[39m\u001b[38;5;241m*\u001b[39mkwargs,\n\u001b[0;32m  11511\u001b[0m ):\n\u001b[1;32m> 11512\u001b[0m     \u001b[38;5;28;01mreturn\u001b[39;00m \u001b[43mNDFrame\u001b[49m\u001b[38;5;241;43m.\u001b[39;49m\u001b[43msum\u001b[49m\u001b[43m(\u001b[49m\u001b[38;5;28;43mself\u001b[39;49m\u001b[43m,\u001b[49m\u001b[43m \u001b[49m\u001b[43maxis\u001b[49m\u001b[43m,\u001b[49m\u001b[43m \u001b[49m\u001b[43mskipna\u001b[49m\u001b[43m,\u001b[49m\u001b[43m \u001b[49m\u001b[43mnumeric_only\u001b[49m\u001b[43m,\u001b[49m\u001b[43m \u001b[49m\u001b[43mmin_count\u001b[49m\u001b[43m,\u001b[49m\u001b[43m \u001b[49m\u001b[38;5;241;43m*\u001b[39;49m\u001b[38;5;241;43m*\u001b[39;49m\u001b[43mkwargs\u001b[49m\u001b[43m)\u001b[49m\n",
      "File \u001b[1;32m~\\AppData\\Local\\mambaforge\\envs\\simrl\\Lib\\site-packages\\pandas\\core\\generic.py:11280\u001b[0m, in \u001b[0;36mNDFrame.sum\u001b[1;34m(self, axis, skipna, numeric_only, min_count, **kwargs)\u001b[0m\n\u001b[0;32m  11272\u001b[0m \u001b[38;5;28;01mdef\u001b[39;00m \u001b[38;5;21msum\u001b[39m(\n\u001b[0;32m  11273\u001b[0m     \u001b[38;5;28mself\u001b[39m,\n\u001b[0;32m  11274\u001b[0m     axis: Axis \u001b[38;5;241m|\u001b[39m \u001b[38;5;28;01mNone\u001b[39;00m \u001b[38;5;241m=\u001b[39m \u001b[38;5;28;01mNone\u001b[39;00m,\n\u001b[1;32m   (...)\u001b[0m\n\u001b[0;32m  11278\u001b[0m     \u001b[38;5;241m*\u001b[39m\u001b[38;5;241m*\u001b[39mkwargs,\n\u001b[0;32m  11279\u001b[0m ):\n\u001b[1;32m> 11280\u001b[0m     \u001b[38;5;28;01mreturn\u001b[39;00m \u001b[38;5;28;43mself\u001b[39;49m\u001b[38;5;241;43m.\u001b[39;49m\u001b[43m_min_count_stat_function\u001b[49m\u001b[43m(\u001b[49m\n\u001b[0;32m  11281\u001b[0m \u001b[43m        \u001b[49m\u001b[38;5;124;43m\"\u001b[39;49m\u001b[38;5;124;43msum\u001b[39;49m\u001b[38;5;124;43m\"\u001b[39;49m\u001b[43m,\u001b[49m\u001b[43m \u001b[49m\u001b[43mnanops\u001b[49m\u001b[38;5;241;43m.\u001b[39;49m\u001b[43mnansum\u001b[49m\u001b[43m,\u001b[49m\u001b[43m \u001b[49m\u001b[43maxis\u001b[49m\u001b[43m,\u001b[49m\u001b[43m \u001b[49m\u001b[43mskipna\u001b[49m\u001b[43m,\u001b[49m\u001b[43m \u001b[49m\u001b[43mnumeric_only\u001b[49m\u001b[43m,\u001b[49m\u001b[43m \u001b[49m\u001b[43mmin_count\u001b[49m\u001b[43m,\u001b[49m\u001b[43m \u001b[49m\u001b[38;5;241;43m*\u001b[39;49m\u001b[38;5;241;43m*\u001b[39;49m\u001b[43mkwargs\u001b[49m\n\u001b[0;32m  11282\u001b[0m \u001b[43m    \u001b[49m\u001b[43m)\u001b[49m\n",
      "File \u001b[1;32m~\\AppData\\Local\\mambaforge\\envs\\simrl\\Lib\\site-packages\\pandas\\core\\generic.py:11263\u001b[0m, in \u001b[0;36mNDFrame._min_count_stat_function\u001b[1;34m(self, name, func, axis, skipna, numeric_only, min_count, **kwargs)\u001b[0m\n\u001b[0;32m  11260\u001b[0m \u001b[38;5;28;01mif\u001b[39;00m axis \u001b[38;5;129;01mis\u001b[39;00m \u001b[38;5;28;01mNone\u001b[39;00m:\n\u001b[0;32m  11261\u001b[0m     axis \u001b[38;5;241m=\u001b[39m \u001b[38;5;28mself\u001b[39m\u001b[38;5;241m.\u001b[39m_stat_axis_number\n\u001b[1;32m> 11263\u001b[0m \u001b[38;5;28;01mreturn\u001b[39;00m \u001b[38;5;28;43mself\u001b[39;49m\u001b[38;5;241;43m.\u001b[39;49m\u001b[43m_reduce\u001b[49m\u001b[43m(\u001b[49m\n\u001b[0;32m  11264\u001b[0m \u001b[43m    \u001b[49m\u001b[43mfunc\u001b[49m\u001b[43m,\u001b[49m\n\u001b[0;32m  11265\u001b[0m \u001b[43m    \u001b[49m\u001b[43mname\u001b[49m\u001b[38;5;241;43m=\u001b[39;49m\u001b[43mname\u001b[49m\u001b[43m,\u001b[49m\n\u001b[0;32m  11266\u001b[0m \u001b[43m    \u001b[49m\u001b[43maxis\u001b[49m\u001b[38;5;241;43m=\u001b[39;49m\u001b[43maxis\u001b[49m\u001b[43m,\u001b[49m\n\u001b[0;32m  11267\u001b[0m \u001b[43m    \u001b[49m\u001b[43mskipna\u001b[49m\u001b[38;5;241;43m=\u001b[39;49m\u001b[43mskipna\u001b[49m\u001b[43m,\u001b[49m\n\u001b[0;32m  11268\u001b[0m \u001b[43m    \u001b[49m\u001b[43mnumeric_only\u001b[49m\u001b[38;5;241;43m=\u001b[39;49m\u001b[43mnumeric_only\u001b[49m\u001b[43m,\u001b[49m\n\u001b[0;32m  11269\u001b[0m \u001b[43m    \u001b[49m\u001b[43mmin_count\u001b[49m\u001b[38;5;241;43m=\u001b[39;49m\u001b[43mmin_count\u001b[49m\u001b[43m,\u001b[49m\n\u001b[0;32m  11270\u001b[0m \u001b[43m\u001b[49m\u001b[43m)\u001b[49m\n",
      "File \u001b[1;32m~\\AppData\\Local\\mambaforge\\envs\\simrl\\Lib\\site-packages\\pandas\\core\\frame.py:10524\u001b[0m, in \u001b[0;36mDataFrame._reduce\u001b[1;34m(self, op, name, axis, skipna, numeric_only, filter_type, **kwds)\u001b[0m\n\u001b[0;32m  10520\u001b[0m     df \u001b[38;5;241m=\u001b[39m df\u001b[38;5;241m.\u001b[39mT\n\u001b[0;32m  10522\u001b[0m \u001b[38;5;66;03m# After possibly _get_data and transposing, we are now in the\u001b[39;00m\n\u001b[0;32m  10523\u001b[0m \u001b[38;5;66;03m#  simple case where we can use BlockManager.reduce\u001b[39;00m\n\u001b[1;32m> 10524\u001b[0m res \u001b[38;5;241m=\u001b[39m \u001b[43mdf\u001b[49m\u001b[38;5;241;43m.\u001b[39;49m\u001b[43m_mgr\u001b[49m\u001b[38;5;241;43m.\u001b[39;49m\u001b[43mreduce\u001b[49m\u001b[43m(\u001b[49m\u001b[43mblk_func\u001b[49m\u001b[43m)\u001b[49m\n\u001b[0;32m  10525\u001b[0m out \u001b[38;5;241m=\u001b[39m df\u001b[38;5;241m.\u001b[39m_constructor(res)\u001b[38;5;241m.\u001b[39miloc[\u001b[38;5;241m0\u001b[39m]\n\u001b[0;32m  10526\u001b[0m \u001b[38;5;28;01mif\u001b[39;00m out_dtype \u001b[38;5;129;01mis\u001b[39;00m \u001b[38;5;129;01mnot\u001b[39;00m \u001b[38;5;28;01mNone\u001b[39;00m:\n",
      "File \u001b[1;32m~\\AppData\\Local\\mambaforge\\envs\\simrl\\Lib\\site-packages\\pandas\\core\\internals\\managers.py:1534\u001b[0m, in \u001b[0;36mBlockManager.reduce\u001b[1;34m(self, func)\u001b[0m\n\u001b[0;32m   1532\u001b[0m res_blocks: \u001b[38;5;28mlist\u001b[39m[Block] \u001b[38;5;241m=\u001b[39m []\n\u001b[0;32m   1533\u001b[0m \u001b[38;5;28;01mfor\u001b[39;00m blk \u001b[38;5;129;01min\u001b[39;00m \u001b[38;5;28mself\u001b[39m\u001b[38;5;241m.\u001b[39mblocks:\n\u001b[1;32m-> 1534\u001b[0m     nbs \u001b[38;5;241m=\u001b[39m \u001b[43mblk\u001b[49m\u001b[38;5;241;43m.\u001b[39;49m\u001b[43mreduce\u001b[49m\u001b[43m(\u001b[49m\u001b[43mfunc\u001b[49m\u001b[43m)\u001b[49m\n\u001b[0;32m   1535\u001b[0m     res_blocks\u001b[38;5;241m.\u001b[39mextend(nbs)\n\u001b[0;32m   1537\u001b[0m index \u001b[38;5;241m=\u001b[39m Index([\u001b[38;5;28;01mNone\u001b[39;00m])  \u001b[38;5;66;03m# placeholder\u001b[39;00m\n",
      "File \u001b[1;32m~\\AppData\\Local\\mambaforge\\envs\\simrl\\Lib\\site-packages\\pandas\\core\\internals\\blocks.py:339\u001b[0m, in \u001b[0;36mBlock.reduce\u001b[1;34m(self, func)\u001b[0m\n\u001b[0;32m    333\u001b[0m \u001b[38;5;129m@final\u001b[39m\n\u001b[0;32m    334\u001b[0m \u001b[38;5;28;01mdef\u001b[39;00m \u001b[38;5;21mreduce\u001b[39m(\u001b[38;5;28mself\u001b[39m, func) \u001b[38;5;241m-\u001b[39m\u001b[38;5;241m>\u001b[39m \u001b[38;5;28mlist\u001b[39m[Block]:\n\u001b[0;32m    335\u001b[0m     \u001b[38;5;66;03m# We will apply the function and reshape the result into a single-row\u001b[39;00m\n\u001b[0;32m    336\u001b[0m     \u001b[38;5;66;03m#  Block with the same mgr_locs; squeezing will be done at a higher level\u001b[39;00m\n\u001b[0;32m    337\u001b[0m     \u001b[38;5;28;01massert\u001b[39;00m \u001b[38;5;28mself\u001b[39m\u001b[38;5;241m.\u001b[39mndim \u001b[38;5;241m==\u001b[39m \u001b[38;5;241m2\u001b[39m\n\u001b[1;32m--> 339\u001b[0m     result \u001b[38;5;241m=\u001b[39m \u001b[43mfunc\u001b[49m\u001b[43m(\u001b[49m\u001b[38;5;28;43mself\u001b[39;49m\u001b[38;5;241;43m.\u001b[39;49m\u001b[43mvalues\u001b[49m\u001b[43m)\u001b[49m\n\u001b[0;32m    341\u001b[0m     \u001b[38;5;28;01mif\u001b[39;00m \u001b[38;5;28mself\u001b[39m\u001b[38;5;241m.\u001b[39mvalues\u001b[38;5;241m.\u001b[39mndim \u001b[38;5;241m==\u001b[39m \u001b[38;5;241m1\u001b[39m:\n\u001b[0;32m    342\u001b[0m         \u001b[38;5;66;03m# TODO(EA2D): special case not needed with 2D EAs\u001b[39;00m\n\u001b[0;32m    343\u001b[0m         res_values \u001b[38;5;241m=\u001b[39m np\u001b[38;5;241m.\u001b[39marray([[result]])\n",
      "File \u001b[1;32m~\\AppData\\Local\\mambaforge\\envs\\simrl\\Lib\\site-packages\\pandas\\core\\frame.py:10487\u001b[0m, in \u001b[0;36mDataFrame._reduce.<locals>.blk_func\u001b[1;34m(values, axis)\u001b[0m\n\u001b[0;32m  10485\u001b[0m     \u001b[38;5;28;01mreturn\u001b[39;00m values\u001b[38;5;241m.\u001b[39m_reduce(name, skipna\u001b[38;5;241m=\u001b[39mskipna, \u001b[38;5;241m*\u001b[39m\u001b[38;5;241m*\u001b[39mkwds)\n\u001b[0;32m  10486\u001b[0m \u001b[38;5;28;01melse\u001b[39;00m:\n\u001b[1;32m> 10487\u001b[0m     \u001b[38;5;28;01mreturn\u001b[39;00m \u001b[43mop\u001b[49m\u001b[43m(\u001b[49m\u001b[43mvalues\u001b[49m\u001b[43m,\u001b[49m\u001b[43m \u001b[49m\u001b[43maxis\u001b[49m\u001b[38;5;241;43m=\u001b[39;49m\u001b[43maxis\u001b[49m\u001b[43m,\u001b[49m\u001b[43m \u001b[49m\u001b[43mskipna\u001b[49m\u001b[38;5;241;43m=\u001b[39;49m\u001b[43mskipna\u001b[49m\u001b[43m,\u001b[49m\u001b[43m \u001b[49m\u001b[38;5;241;43m*\u001b[39;49m\u001b[38;5;241;43m*\u001b[39;49m\u001b[43mkwds\u001b[49m\u001b[43m)\u001b[49m\n",
      "File \u001b[1;32m~\\AppData\\Local\\mambaforge\\envs\\simrl\\Lib\\site-packages\\pandas\\core\\nanops.py:96\u001b[0m, in \u001b[0;36mdisallow.__call__.<locals>._f\u001b[1;34m(*args, **kwargs)\u001b[0m\n\u001b[0;32m     94\u001b[0m \u001b[38;5;28;01mtry\u001b[39;00m:\n\u001b[0;32m     95\u001b[0m     \u001b[38;5;28;01mwith\u001b[39;00m np\u001b[38;5;241m.\u001b[39merrstate(invalid\u001b[38;5;241m=\u001b[39m\u001b[38;5;124m\"\u001b[39m\u001b[38;5;124mignore\u001b[39m\u001b[38;5;124m\"\u001b[39m):\n\u001b[1;32m---> 96\u001b[0m         \u001b[38;5;28;01mreturn\u001b[39;00m \u001b[43mf\u001b[49m\u001b[43m(\u001b[49m\u001b[38;5;241;43m*\u001b[39;49m\u001b[43margs\u001b[49m\u001b[43m,\u001b[49m\u001b[43m \u001b[49m\u001b[38;5;241;43m*\u001b[39;49m\u001b[38;5;241;43m*\u001b[39;49m\u001b[43mkwargs\u001b[49m\u001b[43m)\u001b[49m\n\u001b[0;32m     97\u001b[0m \u001b[38;5;28;01mexcept\u001b[39;00m \u001b[38;5;167;01mValueError\u001b[39;00m \u001b[38;5;28;01mas\u001b[39;00m e:\n\u001b[0;32m     98\u001b[0m     \u001b[38;5;66;03m# we want to transform an object array\u001b[39;00m\n\u001b[0;32m     99\u001b[0m     \u001b[38;5;66;03m# ValueError message to the more typical TypeError\u001b[39;00m\n\u001b[0;32m    100\u001b[0m     \u001b[38;5;66;03m# e.g. this is normally a disallowed function on\u001b[39;00m\n\u001b[0;32m    101\u001b[0m     \u001b[38;5;66;03m# object arrays that contain strings\u001b[39;00m\n\u001b[0;32m    102\u001b[0m     \u001b[38;5;28;01mif\u001b[39;00m is_object_dtype(args[\u001b[38;5;241m0\u001b[39m]):\n",
      "File \u001b[1;32m~\\AppData\\Local\\mambaforge\\envs\\simrl\\Lib\\site-packages\\pandas\\core\\nanops.py:421\u001b[0m, in \u001b[0;36m_datetimelike_compat.<locals>.new_func\u001b[1;34m(values, axis, skipna, mask, **kwargs)\u001b[0m\n\u001b[0;32m    418\u001b[0m \u001b[38;5;28;01mif\u001b[39;00m datetimelike \u001b[38;5;129;01mand\u001b[39;00m mask \u001b[38;5;129;01mis\u001b[39;00m \u001b[38;5;28;01mNone\u001b[39;00m:\n\u001b[0;32m    419\u001b[0m     mask \u001b[38;5;241m=\u001b[39m isna(values)\n\u001b[1;32m--> 421\u001b[0m result \u001b[38;5;241m=\u001b[39m \u001b[43mfunc\u001b[49m\u001b[43m(\u001b[49m\u001b[43mvalues\u001b[49m\u001b[43m,\u001b[49m\u001b[43m \u001b[49m\u001b[43maxis\u001b[49m\u001b[38;5;241;43m=\u001b[39;49m\u001b[43maxis\u001b[49m\u001b[43m,\u001b[49m\u001b[43m \u001b[49m\u001b[43mskipna\u001b[49m\u001b[38;5;241;43m=\u001b[39;49m\u001b[43mskipna\u001b[49m\u001b[43m,\u001b[49m\u001b[43m \u001b[49m\u001b[43mmask\u001b[49m\u001b[38;5;241;43m=\u001b[39;49m\u001b[43mmask\u001b[49m\u001b[43m,\u001b[49m\u001b[43m \u001b[49m\u001b[38;5;241;43m*\u001b[39;49m\u001b[38;5;241;43m*\u001b[39;49m\u001b[43mkwargs\u001b[49m\u001b[43m)\u001b[49m\n\u001b[0;32m    423\u001b[0m \u001b[38;5;28;01mif\u001b[39;00m datetimelike:\n\u001b[0;32m    424\u001b[0m     result \u001b[38;5;241m=\u001b[39m _wrap_results(result, orig_values\u001b[38;5;241m.\u001b[39mdtype, fill_value\u001b[38;5;241m=\u001b[39miNaT)\n",
      "File \u001b[1;32m~\\AppData\\Local\\mambaforge\\envs\\simrl\\Lib\\site-packages\\pandas\\core\\nanops.py:494\u001b[0m, in \u001b[0;36mmaybe_operate_rowwise.<locals>.newfunc\u001b[1;34m(values, axis, **kwargs)\u001b[0m\n\u001b[0;32m    491\u001b[0m         results \u001b[38;5;241m=\u001b[39m [func(x, \u001b[38;5;241m*\u001b[39m\u001b[38;5;241m*\u001b[39mkwargs) \u001b[38;5;28;01mfor\u001b[39;00m x \u001b[38;5;129;01min\u001b[39;00m arrs]\n\u001b[0;32m    492\u001b[0m     \u001b[38;5;28;01mreturn\u001b[39;00m np\u001b[38;5;241m.\u001b[39marray(results)\n\u001b[1;32m--> 494\u001b[0m \u001b[38;5;28;01mreturn\u001b[39;00m \u001b[43mfunc\u001b[49m\u001b[43m(\u001b[49m\u001b[43mvalues\u001b[49m\u001b[43m,\u001b[49m\u001b[43m \u001b[49m\u001b[43maxis\u001b[49m\u001b[38;5;241;43m=\u001b[39;49m\u001b[43maxis\u001b[49m\u001b[43m,\u001b[49m\u001b[43m \u001b[49m\u001b[38;5;241;43m*\u001b[39;49m\u001b[38;5;241;43m*\u001b[39;49m\u001b[43mkwargs\u001b[49m\u001b[43m)\u001b[49m\n",
      "File \u001b[1;32m~\\AppData\\Local\\mambaforge\\envs\\simrl\\Lib\\site-packages\\pandas\\core\\nanops.py:652\u001b[0m, in \u001b[0;36mnansum\u001b[1;34m(values, axis, skipna, min_count, mask)\u001b[0m\n\u001b[0;32m    649\u001b[0m \u001b[38;5;28;01melif\u001b[39;00m is_timedelta64_dtype(dtype):\n\u001b[0;32m    650\u001b[0m     dtype_sum \u001b[38;5;241m=\u001b[39m np\u001b[38;5;241m.\u001b[39mdtype(np\u001b[38;5;241m.\u001b[39mfloat64)\n\u001b[1;32m--> 652\u001b[0m the_sum \u001b[38;5;241m=\u001b[39m \u001b[43mvalues\u001b[49m\u001b[38;5;241;43m.\u001b[39;49m\u001b[43msum\u001b[49m\u001b[43m(\u001b[49m\u001b[43maxis\u001b[49m\u001b[43m,\u001b[49m\u001b[43m \u001b[49m\u001b[43mdtype\u001b[49m\u001b[38;5;241;43m=\u001b[39;49m\u001b[43mdtype_sum\u001b[49m\u001b[43m)\u001b[49m\n\u001b[0;32m    653\u001b[0m the_sum \u001b[38;5;241m=\u001b[39m _maybe_null_out(the_sum, axis, mask, values\u001b[38;5;241m.\u001b[39mshape, min_count\u001b[38;5;241m=\u001b[39mmin_count)\n\u001b[0;32m    655\u001b[0m \u001b[38;5;28;01mreturn\u001b[39;00m the_sum\n",
      "File \u001b[1;32m~\\AppData\\Local\\mambaforge\\envs\\simrl\\Lib\\site-packages\\numpy\\core\\_methods.py:49\u001b[0m, in \u001b[0;36m_sum\u001b[1;34m(a, axis, dtype, out, keepdims, initial, where)\u001b[0m\n\u001b[0;32m     47\u001b[0m \u001b[38;5;28;01mdef\u001b[39;00m \u001b[38;5;21m_sum\u001b[39m(a, axis\u001b[38;5;241m=\u001b[39m\u001b[38;5;28;01mNone\u001b[39;00m, dtype\u001b[38;5;241m=\u001b[39m\u001b[38;5;28;01mNone\u001b[39;00m, out\u001b[38;5;241m=\u001b[39m\u001b[38;5;28;01mNone\u001b[39;00m, keepdims\u001b[38;5;241m=\u001b[39m\u001b[38;5;28;01mFalse\u001b[39;00m,\n\u001b[0;32m     48\u001b[0m          initial\u001b[38;5;241m=\u001b[39m_NoValue, where\u001b[38;5;241m=\u001b[39m\u001b[38;5;28;01mTrue\u001b[39;00m):\n\u001b[1;32m---> 49\u001b[0m     \u001b[38;5;28;01mreturn\u001b[39;00m umr_sum(a, axis, dtype, out, keepdims, initial, where)\n",
      "\u001b[1;31mTypeError\u001b[0m: unsupported operand type(s) for +: 'datetime.timedelta' and 'float'"
     ]
    }
   ],
   "source": [
    "env.finalise()"
   ]
  },
  {
   "cell_type": "code",
   "execution_count": 73,
   "metadata": {},
   "outputs": [],
   "source": [
    "res1 = infstruct_mgr.lookup_subsystem_info(subsystem_type='Resource', lookup_property='custom_id', lookup_val=0, target_property='resource')\n",
    "res2 = infstruct_mgr.lookup_subsystem_info(subsystem_type='Resource', lookup_property='custom_id', lookup_val=1, target_property='resource')\n",
    "res3 = infstruct_mgr.lookup_subsystem_info(subsystem_type='Resource', lookup_property='custom_id', lookup_val=2, target_property='resource')"
   ]
  },
  {
   "cell_type": "code",
   "execution_count": 44,
   "metadata": {},
   "outputs": [
    {
     "data": {
      "text/plain": [
       "{'INIT': datetime.timedelta(0),\n",
       " 'TEMP': datetime.timedelta(0),\n",
       " 'PAUSED': datetime.timedelta(0),\n",
       " 'PROCESSING': datetime.timedelta(0),\n",
       " 'FAILED': datetime.timedelta(0),\n",
       " 'SETUP': datetime.timedelta(seconds=7200),\n",
       " 'BLOCKED': datetime.timedelta(0),\n",
       " 'FINISH': datetime.timedelta(0),\n",
       " 'WAITING': datetime.timedelta(0)}"
      ]
     },
     "execution_count": 44,
     "metadata": {},
     "output_type": "execute_result"
    }
   ],
   "source": [
    "res1.stat_monitor.state_times"
   ]
  },
  {
   "cell_type": "code",
   "execution_count": 94,
   "metadata": {},
   "outputs": [
    {
     "data": {
      "text/plain": [
       "array([ 2.,  0., 11.,  2.,  1.,  0.,  3.,  1.,  0., 10.,  3.])"
      ]
     },
     "execution_count": 94,
     "metadata": {},
     "output_type": "execute_result"
    }
   ],
   "source": [
    "agent.feat_vec"
   ]
  },
  {
   "cell_type": "code",
   "execution_count": null,
   "metadata": {},
   "outputs": [],
   "source": []
  },
  {
   "cell_type": "code",
   "execution_count": null,
   "metadata": {},
   "outputs": [],
   "source": []
  },
  {
   "cell_type": "code",
   "execution_count": null,
   "metadata": {},
   "outputs": [],
   "source": []
  },
  {
   "cell_type": "code",
   "execution_count": null,
   "metadata": {},
   "outputs": [],
   "source": []
  },
  {
   "cell_type": "markdown",
   "metadata": {},
   "source": [
    "**Customised Salabim:**\n",
    "- added ``self.end_on_empty_eventlist`` as this attribute was not available, but used internally in Salabim\n",
    "- ~~added ``sim_ended`` to indicate if run was finished or~~ use ``_event_list``\n",
    "\n",
    "**Needed Features:**\n",
    "- condition monitor to set flags"
   ]
  },
  {
   "cell_type": "code",
   "execution_count": 51,
   "metadata": {},
   "outputs": [
    {
     "data": {
      "text/plain": [
       "Job (J_gen_3)"
      ]
     },
     "execution_count": 51,
     "metadata": {},
     "output_type": "execute_result"
    }
   ],
   "source": [
    "agent.current_job"
   ]
  },
  {
   "cell_type": "code",
   "execution_count": 52,
   "metadata": {},
   "outputs": [
    {
     "data": {
      "text/plain": [
       "Job (J_gen_2)"
      ]
     },
     "execution_count": 52,
     "metadata": {},
     "output_type": "execute_result"
    }
   ],
   "source": [
    "agent.last_job"
   ]
  },
  {
   "cell_type": "code",
   "execution_count": 53,
   "metadata": {},
   "outputs": [
    {
     "data": {
      "text/plain": [
       "Operation(ProcTime: 7:00:00, ExecutionSystemID: 1, SGI: 1)"
      ]
     },
     "execution_count": 53,
     "metadata": {},
     "output_type": "execute_result"
    }
   ],
   "source": [
    "agent.current_op"
   ]
  },
  {
   "cell_type": "code",
   "execution_count": 54,
   "metadata": {},
   "outputs": [
    {
     "data": {
      "text/plain": [
       "1"
      ]
     },
     "execution_count": 54,
     "metadata": {},
     "output_type": "execute_result"
    }
   ],
   "source": [
    "agent.last_op.target_station_group_identifier"
   ]
  },
  {
   "cell_type": "code",
   "execution_count": 55,
   "metadata": {},
   "outputs": [
    {
     "data": {
      "text/plain": [
       "deque([Operation(ProcTime: 6:00:00, ExecutionSystemID: 1, SGI: 1)])"
      ]
     },
     "execution_count": 55,
     "metadata": {},
     "output_type": "execute_result"
    }
   ],
   "source": [
    "agent.last_job.operations"
   ]
  },
  {
   "cell_type": "code",
   "execution_count": 56,
   "metadata": {},
   "outputs": [
    {
     "data": {
      "text/plain": [
       "deque([Operation(ProcTime: 7:00:00, ExecutionSystemID: 1, SGI: 1)])"
      ]
     },
     "execution_count": 56,
     "metadata": {},
     "output_type": "execute_result"
    }
   ],
   "source": [
    "agent.current_job.operations"
   ]
  },
  {
   "cell_type": "code",
   "execution_count": null,
   "metadata": {},
   "outputs": [],
   "source": []
  },
  {
   "cell_type": "code",
   "execution_count": 79,
   "metadata": {},
   "outputs": [
    {
     "name": "stdout",
     "output_type": "stream",
     "text": [
      "INFO:sim_env.infstrct:Successful finalisation of the state information for all resource objects.\n"
     ]
    }
   ],
   "source": [
    "env.finalise()"
   ]
  },
  {
   "cell_type": "code",
   "execution_count": 66,
   "metadata": {},
   "outputs": [],
   "source": [
    "fig = dispatcher.draw_gantt_chart(dates_to_local_tz=False, debug=True, save_img=False, file_name='test.png')"
   ]
  },
  {
   "cell_type": "code",
   "execution_count": 70,
   "metadata": {},
   "outputs": [],
   "source": [
    "fig = dispatcher.draw_gantt_chart(dates_to_local_tz=True, debug=True, save_img=False, file_name='test.png')"
   ]
  },
  {
   "cell_type": "code",
   "execution_count": 200,
   "metadata": {},
   "outputs": [
    {
     "data": {
      "text/plain": [
       "0.3888888888888889"
      ]
     },
     "execution_count": 200,
     "metadata": {},
     "output_type": "execute_result"
    }
   ],
   "source": [
    "agent.assoc_proc_stations[1].stat_monitor.utilisation"
   ]
  },
  {
   "cell_type": "code",
   "execution_count": 108,
   "metadata": {},
   "outputs": [
    {
     "data": {
      "text/plain": [
       "2"
      ]
     },
     "execution_count": 108,
     "metadata": {},
     "output_type": "execute_result"
    }
   ],
   "source": [
    "agent.assoc_proc_stations[2].custom_identifier"
   ]
  },
  {
   "cell_type": "code",
   "execution_count": 60,
   "metadata": {},
   "outputs": [
    {
     "data": {
      "text/plain": [
       "Index(['job_id', 'job_name', 'custom_id', 'op', 'name', 'prio',\n",
       "       'execution_system', 'execution_system_custom_id',\n",
       "       'execution_system_name', 'execution_system_type',\n",
       "       'target_station_custom_id', 'target_station_name', 'proc_time',\n",
       "       'setup_time', 'order_time', 'creation_date', 'release_date',\n",
       "       'planned_starting_date', 'actual_starting_date',\n",
       "       'starting_date_deviation', 'planned_ending_date', 'actual_ending_date',\n",
       "       'ending_date_deviation', 'lead_time', 'state'],\n",
       "      dtype='object')"
      ]
     },
     "execution_count": 60,
     "metadata": {},
     "output_type": "execute_result"
    }
   ],
   "source": [
    "dispatcher.op_db.columns"
   ]
  },
  {
   "cell_type": "code",
   "execution_count": null,
   "metadata": {},
   "outputs": [],
   "source": []
  },
  {
   "cell_type": "code",
   "execution_count": null,
   "metadata": {},
   "outputs": [],
   "source": []
  },
  {
   "cell_type": "code",
   "execution_count": null,
   "metadata": {},
   "outputs": [],
   "source": []
  },
  {
   "cell_type": "code",
   "execution_count": null,
   "metadata": {},
   "outputs": [],
   "source": []
  },
  {
   "cell_type": "markdown",
   "metadata": {},
   "source": [
    "**Complete run**"
   ]
  },
  {
   "cell_type": "code",
   "execution_count": 14,
   "metadata": {},
   "outputs": [],
   "source": [
    "def build_sim_env_run_once() -> tuple[\n",
    "    sim.SimulationEnvironment,\n",
    "    sim.InfrastructureManager,\n",
    "    sim.Dispatcher,\n",
    "    agents.AllocationAgent,\n",
    "]:\n",
    "    # !! REWORK, CURRENTLY ONLY FOR TESTING PURPOSES\n",
    "    \"\"\"Constructor to build simulation environment (layout)\n",
    "\n",
    "    Returns\n",
    "    -------\n",
    "    tuple[ sim.SimulationEnvironment, sim.InfrastructureManager, sim.Dispatcher, agents.AllocationAgent, ]\n",
    "        tuple out of Environment, InfrastructureManager, Dispatcher, Agent\n",
    "    \"\"\"\n",
    "    # datetime manager\n",
    "    dt_mgr = DTManager()\n",
    "    starting_dt = dt_mgr.current_time_tz(cut_microseconds=True)\n",
    "    # environment\n",
    "    env = sim.SimulationEnvironment(name='base', time_unit='seconds', starting_datetime=starting_dt)\n",
    "    job_generator = loads.RandomJobGenerator(seed=100)\n",
    "    infstruct_mgr = sim.InfrastructureManager(env=env)\n",
    "    dispatcher = sim.Dispatcher(env=env, priority_rule='FIFO')\n",
    "    \n",
    "    # source\n",
    "    area_source = sim.ProductionArea(env=env, custom_identifier=1000)\n",
    "    group_source = sim.StationGroup(env=env, custom_identifier=1000)\n",
    "    area_source.add_subsystem(group_source)\n",
    "    proc_time = dt_mgr.timedelta_from_val(val=2., time_unit='hours')\n",
    "    source = sim.Source(env=env, custom_identifier='source', proc_time=proc_time, \n",
    "                    random_generation=True, job_generator=job_generator, num_gen_jobs=12)\n",
    "    group_source.add_subsystem(source)\n",
    "\n",
    "    # sink\n",
    "    area_sink = sim.ProductionArea(env=env, custom_identifier=2000)\n",
    "    group_sink = sim.StationGroup(env=env, custom_identifier=2000)\n",
    "    area_sink.add_subsystem(group_sink)\n",
    "    sink = sim.Sink(env=env, custom_identifier='sink')\n",
    "    group_sink.add_subsystem(sink)\n",
    "\n",
    "    # processing stations\n",
    "    # prod area 1\n",
    "    area_prod = sim.ProductionArea(env=env, custom_identifier=1)\n",
    "    group_prod = sim.StationGroup(env=env, custom_identifier=1)\n",
    "    area_prod.add_subsystem(group_prod)\n",
    "    group_prod2 = sim.StationGroup(env=env, custom_identifier=2)\n",
    "    area_prod.add_subsystem(group_prod2)\n",
    "    # prod area 2\n",
    "    #area_prod2 = ProductionArea(env=env, custom_identifier=2)\n",
    "    #group_prod3 = StationGroup(env=env, custom_identifier=3)\n",
    "    #area_prod2.add_subsystem(group_prod3)\n",
    "    #area_prod.add_subsystem(group_prod3)\n",
    "    ## machines\n",
    "    for machine in range(3):\n",
    "        buffer = sim.Buffer(capacity=20, env=env, custom_identifier=(10+machine))\n",
    "        if machine == 5:\n",
    "            MachInst = sim.Machine(env=env, custom_identifier=machine, buffers=[buffer], setup_time=5.)\n",
    "        else:\n",
    "            MachInst = sim.Machine(env=env, custom_identifier=machine, buffers=[buffer])\n",
    "            \n",
    "        if machine == 0:\n",
    "            testMachInst = MachInst\n",
    "        \n",
    "        if machine < 2:\n",
    "            group_prod.add_subsystem(buffer)\n",
    "            group_prod.add_subsystem(MachInst)\n",
    "        elif machine >= 2:\n",
    "            group_prod2.add_subsystem(buffer)\n",
    "            group_prod2.add_subsystem(MachInst)\n",
    "        else:\n",
    "            pass\n",
    "            #group_prod3.add_subsystem(buffer)\n",
    "            #group_prod3.add_subsystem(MachInst)\n",
    "        \n",
    "\n",
    "    add_machine_to_bottleneck: bool = False\n",
    "    if add_machine_to_bottleneck:\n",
    "        buffer = sim.Buffer(capacity=20, env=env, custom_identifier=(10+machine+1))\n",
    "        MachInst = sim.Machine(env=env, custom_identifier=machine+1, buffers=[buffer])\n",
    "        group_prod3.add_subsystem(buffer)\n",
    "        group_prod3.add_subsystem(MachInst)\n",
    "        \n",
    "    alloc_agent = agents.AllocationAgent(assoc_system=area_prod)\n",
    "\n",
    "    # conditions\n",
    "    duration_transient = dt_mgr.timedelta_from_val(val=2, time_unit='hours')\n",
    "    trans_cond = sim.TransientCondition(env=env, duration_transient=duration_transient)\n",
    "    #agent_decision_cond = sim.TriggerAgentCondition(env=env)\n",
    "    sim_dur = dt_mgr.timedelta_from_val(val=2., time_unit='days')\n",
    "    sim_end_date = dt_mgr.dt_with_tz_UTC(2024,3,23,12)\n",
    "    job_gen_dur_cond = sim.JobGenDurationCondition(env=env, target_obj=source, sim_run_duration=sim_dur)\n",
    "    \n",
    "    return env, infstruct_mgr, dispatcher, alloc_agent"
   ]
  },
  {
   "cell_type": "code",
   "execution_count": 15,
   "metadata": {},
   "outputs": [
    {
     "name": "stdout",
     "output_type": "stream",
     "text": [
      "INFO:sim_env.env:Successfully registered Infrastructure Manager in Env >>base<<\n",
      "INFO:sim_env.env:Successfully registered Dispatcher in Env >>base<<\n",
      "INFO:sim_env.infstrct:Successfully registered object with SystemID 0 and name ProductionArea_env_0\n",
      "INFO:sim_env.infstrct:Successfully registered object with SystemID 0 and name StationGroup_env_0\n",
      "INFO:sim_env.infstrct:Successfully added System (type: StationGroup, custom_id: 1000, name: StationGroup_env_0) to System (type: ProductionArea, custom_id: 1000, name: ProductionArea_env_0).\n",
      "INFO:sim_env.infstrct:Successfully registered object with SystemID 0 and name Source_env_0\n",
      "INFO:sim_env.infstrct:Successfully added System (type: Resource, custom_id: source, name: Source_env_0) to System (type: StationGroup, custom_id: 1000, name: StationGroup_env_0).\n",
      "INFO:sim_env.infstrct:Successfully registered object with SystemID 1 and name ProductionArea_env_1\n",
      "INFO:sim_env.infstrct:Successfully registered object with SystemID 1 and name StationGroup_env_1\n",
      "INFO:sim_env.infstrct:Successfully added System (type: StationGroup, custom_id: 2000, name: StationGroup_env_1) to System (type: ProductionArea, custom_id: 2000, name: ProductionArea_env_1).\n",
      "INFO:sim_env.infstrct:Successfully registered object with SystemID 1 and name Sink_env_1\n",
      "INFO:sim_env.infstrct:Successfully added System (type: Resource, custom_id: sink, name: Sink_env_1) to System (type: StationGroup, custom_id: 2000, name: StationGroup_env_1).\n",
      "INFO:sim_env.infstrct:Successfully registered object with SystemID 2 and name ProductionArea_env_2\n",
      "INFO:sim_env.infstrct:Successfully registered object with SystemID 2 and name StationGroup_env_2\n",
      "INFO:sim_env.infstrct:Successfully added System (type: StationGroup, custom_id: 1, name: StationGroup_env_2) to System (type: ProductionArea, custom_id: 1, name: ProductionArea_env_2).\n",
      "INFO:sim_env.infstrct:Successfully registered object with SystemID 3 and name StationGroup_env_3\n",
      "INFO:sim_env.infstrct:Successfully added System (type: StationGroup, custom_id: 2, name: StationGroup_env_3) to System (type: ProductionArea, custom_id: 1, name: ProductionArea_env_2).\n",
      "INFO:sim_env.infstrct:Successfully registered object with SystemID 2 and name Buffer_env_2\n",
      "INFO:sim_env.infstrct:Successfully registered object with SystemID 3 and name Machine_env_3\n",
      "INFO:sim_env.infstrct:Successfully added System (type: Resource, custom_id: 10, name: Buffer_env_2) to System (type: StationGroup, custom_id: 1, name: StationGroup_env_2).\n",
      "INFO:sim_env.infstrct:Successfully added System (type: Resource, custom_id: 0, name: Machine_env_3) to System (type: StationGroup, custom_id: 1, name: StationGroup_env_2).\n",
      "INFO:sim_env.infstrct:Successfully registered object with SystemID 4 and name Buffer_env_4\n",
      "INFO:sim_env.infstrct:Successfully registered object with SystemID 5 and name Machine_env_5\n",
      "INFO:sim_env.infstrct:Successfully added System (type: Resource, custom_id: 11, name: Buffer_env_4) to System (type: StationGroup, custom_id: 1, name: StationGroup_env_2).\n",
      "INFO:sim_env.infstrct:Successfully added System (type: Resource, custom_id: 1, name: Machine_env_5) to System (type: StationGroup, custom_id: 1, name: StationGroup_env_2).\n",
      "INFO:sim_env.infstrct:Successfully registered object with SystemID 6 and name Buffer_env_6\n",
      "INFO:sim_env.infstrct:Successfully registered object with SystemID 7 and name Machine_env_7\n",
      "INFO:sim_env.infstrct:Successfully added System (type: Resource, custom_id: 12, name: Buffer_env_6) to System (type: StationGroup, custom_id: 2, name: StationGroup_env_3).\n",
      "INFO:sim_env.infstrct:Successfully added System (type: Resource, custom_id: 2, name: Machine_env_7) to System (type: StationGroup, custom_id: 2, name: StationGroup_env_3).\n",
      "INFO:sim_env.env:Successfully registered Allocation Agent in System (type: ProductionArea, custom_id: 1, name: ProductionArea_env_2)\n"
     ]
    }
   ],
   "source": [
    "(env, infstruct_mgr, dispatcher, agent) = build_sim_env_run_once()"
   ]
  },
  {
   "cell_type": "code",
   "execution_count": 16,
   "metadata": {},
   "outputs": [
    {
     "name": "stdout",
     "output_type": "stream",
     "text": [
      "INFO:sim_env.env:Initialisation for Environment base successful.\n"
     ]
    }
   ],
   "source": [
    "env.initialise()"
   ]
  },
  {
   "cell_type": "code",
   "execution_count": 17,
   "metadata": {},
   "outputs": [],
   "source": [
    "env.run()"
   ]
  },
  {
   "cell_type": "code",
   "execution_count": 18,
   "metadata": {},
   "outputs": [
    {
     "name": "stdout",
     "output_type": "stream",
     "text": [
      "INFO:sim_env.infstrct:Successful finalisation of the state information for all resource objects.\n"
     ]
    }
   ],
   "source": [
    "env.finalise()"
   ]
  },
  {
   "cell_type": "code",
   "execution_count": 19,
   "metadata": {},
   "outputs": [
    {
     "data": {
      "text/html": [
       "<div>\n",
       "<style scoped>\n",
       "    .dataframe tbody tr th:only-of-type {\n",
       "        vertical-align: middle;\n",
       "    }\n",
       "\n",
       "    .dataframe tbody tr th {\n",
       "        vertical-align: top;\n",
       "    }\n",
       "\n",
       "    .dataframe thead th {\n",
       "        text-align: right;\n",
       "    }\n",
       "</style>\n",
       "<table border=\"1\" class=\"dataframe\">\n",
       "  <thead>\n",
       "    <tr style=\"text-align: right;\">\n",
       "      <th></th>\n",
       "      <th>job_id</th>\n",
       "      <th>job_name</th>\n",
       "      <th>custom_id</th>\n",
       "      <th>op</th>\n",
       "      <th>name</th>\n",
       "      <th>prio</th>\n",
       "      <th>execution_system</th>\n",
       "      <th>execution_system_custom_id</th>\n",
       "      <th>execution_system_name</th>\n",
       "      <th>execution_system_type</th>\n",
       "      <th>...</th>\n",
       "      <th>creation_date</th>\n",
       "      <th>release_date</th>\n",
       "      <th>planned_starting_date</th>\n",
       "      <th>actual_starting_date</th>\n",
       "      <th>starting_date_deviation</th>\n",
       "      <th>planned_ending_date</th>\n",
       "      <th>actual_ending_date</th>\n",
       "      <th>ending_date_deviation</th>\n",
       "      <th>lead_time</th>\n",
       "      <th>state</th>\n",
       "    </tr>\n",
       "    <tr>\n",
       "      <th>op_id</th>\n",
       "      <th></th>\n",
       "      <th></th>\n",
       "      <th></th>\n",
       "      <th></th>\n",
       "      <th></th>\n",
       "      <th></th>\n",
       "      <th></th>\n",
       "      <th></th>\n",
       "      <th></th>\n",
       "      <th></th>\n",
       "      <th></th>\n",
       "      <th></th>\n",
       "      <th></th>\n",
       "      <th></th>\n",
       "      <th></th>\n",
       "      <th></th>\n",
       "      <th></th>\n",
       "      <th></th>\n",
       "      <th></th>\n",
       "      <th></th>\n",
       "      <th></th>\n",
       "    </tr>\n",
       "  </thead>\n",
       "  <tbody>\n",
       "    <tr>\n",
       "      <th>0</th>\n",
       "      <td>0</td>\n",
       "      <td>J_gen_0</td>\n",
       "      <td>None</td>\n",
       "      <td>Operation(ProcTime: 7:00:00, ExecutionSystemID...</td>\n",
       "      <td>O_gen_0</td>\n",
       "      <td>None</td>\n",
       "      <td>{2: {2: {}, 3: {}, 4: {}, 5: {}}, 3: {6: {}, 7...</td>\n",
       "      <td>1</td>\n",
       "      <td>&lt;bound method System.name of System (type: Pro...</td>\n",
       "      <td>ProductionArea</td>\n",
       "      <td>...</td>\n",
       "      <td>2024-03-28 15:45:12+00:00</td>\n",
       "      <td>2024-03-28 15:45:12+00:00</td>\n",
       "      <td>None</td>\n",
       "      <td>2024-03-28 15:45:12+00:00</td>\n",
       "      <td>None</td>\n",
       "      <td>None</td>\n",
       "      <td>2024-03-29 02:45:12+00:00</td>\n",
       "      <td>None</td>\n",
       "      <td>11:00:00</td>\n",
       "      <td>FINISH</td>\n",
       "    </tr>\n",
       "    <tr>\n",
       "      <th>1</th>\n",
       "      <td>1</td>\n",
       "      <td>J_gen_1</td>\n",
       "      <td>None</td>\n",
       "      <td>Operation(ProcTime: 8:00:00, ExecutionSystemID...</td>\n",
       "      <td>O_gen_1</td>\n",
       "      <td>None</td>\n",
       "      <td>{2: {2: {}, 3: {}, 4: {}, 5: {}}, 3: {6: {}, 7...</td>\n",
       "      <td>1</td>\n",
       "      <td>&lt;bound method System.name of System (type: Pro...</td>\n",
       "      <td>ProductionArea</td>\n",
       "      <td>...</td>\n",
       "      <td>2024-03-28 17:45:12+00:00</td>\n",
       "      <td>2024-03-28 17:45:12+00:00</td>\n",
       "      <td>None</td>\n",
       "      <td>2024-03-28 17:45:12+00:00</td>\n",
       "      <td>None</td>\n",
       "      <td>None</td>\n",
       "      <td>2024-03-29 03:45:12+00:00</td>\n",
       "      <td>None</td>\n",
       "      <td>10:00:00</td>\n",
       "      <td>FINISH</td>\n",
       "    </tr>\n",
       "    <tr>\n",
       "      <th>2</th>\n",
       "      <td>2</td>\n",
       "      <td>J_gen_2</td>\n",
       "      <td>None</td>\n",
       "      <td>Operation(ProcTime: 6:00:00, ExecutionSystemID...</td>\n",
       "      <td>O_gen_2</td>\n",
       "      <td>None</td>\n",
       "      <td>{2: {2: {}, 3: {}, 4: {}, 5: {}}, 3: {6: {}, 7...</td>\n",
       "      <td>1</td>\n",
       "      <td>&lt;bound method System.name of System (type: Pro...</td>\n",
       "      <td>ProductionArea</td>\n",
       "      <td>...</td>\n",
       "      <td>2024-03-28 19:45:12+00:00</td>\n",
       "      <td>2024-03-28 19:45:12+00:00</td>\n",
       "      <td>None</td>\n",
       "      <td>2024-03-29 02:45:12+00:00</td>\n",
       "      <td>None</td>\n",
       "      <td>None</td>\n",
       "      <td>2024-03-29 16:45:12+00:00</td>\n",
       "      <td>None</td>\n",
       "      <td>21:00:00</td>\n",
       "      <td>FINISH</td>\n",
       "    </tr>\n",
       "    <tr>\n",
       "      <th>3</th>\n",
       "      <td>3</td>\n",
       "      <td>J_gen_3</td>\n",
       "      <td>None</td>\n",
       "      <td>Operation(ProcTime: 7:00:00, ExecutionSystemID...</td>\n",
       "      <td>O_gen_3</td>\n",
       "      <td>None</td>\n",
       "      <td>{2: {2: {}, 3: {}, 4: {}, 5: {}}, 3: {6: {}, 7...</td>\n",
       "      <td>1</td>\n",
       "      <td>&lt;bound method System.name of System (type: Pro...</td>\n",
       "      <td>ProductionArea</td>\n",
       "      <td>...</td>\n",
       "      <td>2024-03-28 21:45:12+00:00</td>\n",
       "      <td>2024-03-28 21:45:12+00:00</td>\n",
       "      <td>None</td>\n",
       "      <td>2024-03-29 03:45:12+00:00</td>\n",
       "      <td>None</td>\n",
       "      <td>None</td>\n",
       "      <td>2024-03-29 15:45:12+00:00</td>\n",
       "      <td>None</td>\n",
       "      <td>18:00:00</td>\n",
       "      <td>FINISH</td>\n",
       "    </tr>\n",
       "    <tr>\n",
       "      <th>4</th>\n",
       "      <td>4</td>\n",
       "      <td>J_gen_4</td>\n",
       "      <td>None</td>\n",
       "      <td>Operation(ProcTime: 9:00:00, ExecutionSystemID...</td>\n",
       "      <td>O_gen_4</td>\n",
       "      <td>None</td>\n",
       "      <td>{2: {2: {}, 3: {}, 4: {}, 5: {}}, 3: {6: {}, 7...</td>\n",
       "      <td>1</td>\n",
       "      <td>&lt;bound method System.name of System (type: Pro...</td>\n",
       "      <td>ProductionArea</td>\n",
       "      <td>...</td>\n",
       "      <td>2024-03-28 23:45:12+00:00</td>\n",
       "      <td>2024-03-28 23:45:12+00:00</td>\n",
       "      <td>None</td>\n",
       "      <td>2024-03-29 15:45:12+00:00</td>\n",
       "      <td>None</td>\n",
       "      <td>None</td>\n",
       "      <td>2024-03-30 07:45:12+00:00</td>\n",
       "      <td>None</td>\n",
       "      <td>1 day, 8:00:00</td>\n",
       "      <td>FINISH</td>\n",
       "    </tr>\n",
       "  </tbody>\n",
       "</table>\n",
       "<p>5 rows × 25 columns</p>\n",
       "</div>"
      ],
      "text/plain": [
       "       job_id job_name custom_id   \n",
       "op_id                              \n",
       "0           0  J_gen_0      None  \\\n",
       "1           1  J_gen_1      None   \n",
       "2           2  J_gen_2      None   \n",
       "3           3  J_gen_3      None   \n",
       "4           4  J_gen_4      None   \n",
       "\n",
       "                                                      op     name  prio   \n",
       "op_id                                                                     \n",
       "0      Operation(ProcTime: 7:00:00, ExecutionSystemID...  O_gen_0  None  \\\n",
       "1      Operation(ProcTime: 8:00:00, ExecutionSystemID...  O_gen_1  None   \n",
       "2      Operation(ProcTime: 6:00:00, ExecutionSystemID...  O_gen_2  None   \n",
       "3      Operation(ProcTime: 7:00:00, ExecutionSystemID...  O_gen_3  None   \n",
       "4      Operation(ProcTime: 9:00:00, ExecutionSystemID...  O_gen_4  None   \n",
       "\n",
       "                                        execution_system   \n",
       "op_id                                                      \n",
       "0      {2: {2: {}, 3: {}, 4: {}, 5: {}}, 3: {6: {}, 7...  \\\n",
       "1      {2: {2: {}, 3: {}, 4: {}, 5: {}}, 3: {6: {}, 7...   \n",
       "2      {2: {2: {}, 3: {}, 4: {}, 5: {}}, 3: {6: {}, 7...   \n",
       "3      {2: {2: {}, 3: {}, 4: {}, 5: {}}, 3: {6: {}, 7...   \n",
       "4      {2: {2: {}, 3: {}, 4: {}, 5: {}}, 3: {6: {}, 7...   \n",
       "\n",
       "      execution_system_custom_id   \n",
       "op_id                              \n",
       "0                              1  \\\n",
       "1                              1   \n",
       "2                              1   \n",
       "3                              1   \n",
       "4                              1   \n",
       "\n",
       "                                   execution_system_name   \n",
       "op_id                                                      \n",
       "0      <bound method System.name of System (type: Pro...  \\\n",
       "1      <bound method System.name of System (type: Pro...   \n",
       "2      <bound method System.name of System (type: Pro...   \n",
       "3      <bound method System.name of System (type: Pro...   \n",
       "4      <bound method System.name of System (type: Pro...   \n",
       "\n",
       "      execution_system_type  ...              creation_date   \n",
       "op_id                        ...                              \n",
       "0            ProductionArea  ...  2024-03-28 15:45:12+00:00  \\\n",
       "1            ProductionArea  ...  2024-03-28 17:45:12+00:00   \n",
       "2            ProductionArea  ...  2024-03-28 19:45:12+00:00   \n",
       "3            ProductionArea  ...  2024-03-28 21:45:12+00:00   \n",
       "4            ProductionArea  ...  2024-03-28 23:45:12+00:00   \n",
       "\n",
       "                    release_date planned_starting_date   \n",
       "op_id                                                    \n",
       "0      2024-03-28 15:45:12+00:00                  None  \\\n",
       "1      2024-03-28 17:45:12+00:00                  None   \n",
       "2      2024-03-28 19:45:12+00:00                  None   \n",
       "3      2024-03-28 21:45:12+00:00                  None   \n",
       "4      2024-03-28 23:45:12+00:00                  None   \n",
       "\n",
       "            actual_starting_date starting_date_deviation planned_ending_date   \n",
       "op_id                                                                          \n",
       "0      2024-03-28 15:45:12+00:00                    None                None  \\\n",
       "1      2024-03-28 17:45:12+00:00                    None                None   \n",
       "2      2024-03-29 02:45:12+00:00                    None                None   \n",
       "3      2024-03-29 03:45:12+00:00                    None                None   \n",
       "4      2024-03-29 15:45:12+00:00                    None                None   \n",
       "\n",
       "              actual_ending_date ending_date_deviation       lead_time   state  \n",
       "op_id                                                                           \n",
       "0      2024-03-29 02:45:12+00:00                  None        11:00:00  FINISH  \n",
       "1      2024-03-29 03:45:12+00:00                  None        10:00:00  FINISH  \n",
       "2      2024-03-29 16:45:12+00:00                  None        21:00:00  FINISH  \n",
       "3      2024-03-29 15:45:12+00:00                  None        18:00:00  FINISH  \n",
       "4      2024-03-30 07:45:12+00:00                  None  1 day, 8:00:00  FINISH  \n",
       "\n",
       "[5 rows x 25 columns]"
      ]
     },
     "execution_count": 19,
     "metadata": {},
     "output_type": "execute_result"
    }
   ],
   "source": [
    "dispatcher.op_db.head()"
   ]
  },
  {
   "cell_type": "code",
   "execution_count": 20,
   "metadata": {},
   "outputs": [
    {
     "data": {
      "text/plain": [
       "Index(['job_id', 'job_name', 'custom_id', 'op', 'name', 'prio',\n",
       "       'execution_system', 'execution_system_custom_id',\n",
       "       'execution_system_name', 'execution_system_type',\n",
       "       'target_station_custom_id', 'target_station_name', 'proc_time',\n",
       "       'setup_time', 'order_time', 'creation_date', 'release_date',\n",
       "       'planned_starting_date', 'actual_starting_date',\n",
       "       'starting_date_deviation', 'planned_ending_date', 'actual_ending_date',\n",
       "       'ending_date_deviation', 'lead_time', 'state'],\n",
       "      dtype='object')"
      ]
     },
     "execution_count": 20,
     "metadata": {},
     "output_type": "execute_result"
    }
   ],
   "source": [
    "dispatcher.op_db.columns"
   ]
  },
  {
   "cell_type": "code",
   "execution_count": 21,
   "metadata": {},
   "outputs": [
    {
     "data": {
      "text/html": [
       "<div>\n",
       "<style scoped>\n",
       "    .dataframe tbody tr th:only-of-type {\n",
       "        vertical-align: middle;\n",
       "    }\n",
       "\n",
       "    .dataframe tbody tr th {\n",
       "        vertical-align: top;\n",
       "    }\n",
       "\n",
       "    .dataframe thead th {\n",
       "        text-align: right;\n",
       "    }\n",
       "</style>\n",
       "<table border=\"1\" class=\"dataframe\">\n",
       "  <thead>\n",
       "    <tr style=\"text-align: right;\">\n",
       "      <th></th>\n",
       "      <th>custom_id</th>\n",
       "      <th>job</th>\n",
       "      <th>name</th>\n",
       "      <th>job_type</th>\n",
       "      <th>prio</th>\n",
       "      <th>total_proc_time</th>\n",
       "      <th>creation_date</th>\n",
       "      <th>release_date</th>\n",
       "      <th>planned_starting_date</th>\n",
       "      <th>actual_starting_date</th>\n",
       "      <th>starting_date_deviation</th>\n",
       "      <th>planned_ending_date</th>\n",
       "      <th>actual_ending_date</th>\n",
       "      <th>ending_date_deviation</th>\n",
       "      <th>lead_time</th>\n",
       "      <th>state</th>\n",
       "    </tr>\n",
       "    <tr>\n",
       "      <th>job_id</th>\n",
       "      <th></th>\n",
       "      <th></th>\n",
       "      <th></th>\n",
       "      <th></th>\n",
       "      <th></th>\n",
       "      <th></th>\n",
       "      <th></th>\n",
       "      <th></th>\n",
       "      <th></th>\n",
       "      <th></th>\n",
       "      <th></th>\n",
       "      <th></th>\n",
       "      <th></th>\n",
       "      <th></th>\n",
       "      <th></th>\n",
       "      <th></th>\n",
       "    </tr>\n",
       "  </thead>\n",
       "  <tbody>\n",
       "    <tr>\n",
       "      <th>0</th>\n",
       "      <td>None</td>\n",
       "      <td>Job (J_gen_0)</td>\n",
       "      <td>J_gen_0</td>\n",
       "      <td>Job</td>\n",
       "      <td>1</td>\n",
       "      <td>0 days 07:00:00</td>\n",
       "      <td>2024-03-28 15:45:12+00:00</td>\n",
       "      <td>2024-03-28 15:45:12+00:00</td>\n",
       "      <td>2023-11-20 06:00:00+00:00</td>\n",
       "      <td>2024-03-28 15:45:12+00:00</td>\n",
       "      <td>129 days, 9:45:12</td>\n",
       "      <td>2023-12-01 10:00:00+00:00</td>\n",
       "      <td>2024-03-29 02:45:12+00:00</td>\n",
       "      <td>118 days, 16:45:12</td>\n",
       "      <td>11:00:00</td>\n",
       "      <td>FINISH</td>\n",
       "    </tr>\n",
       "    <tr>\n",
       "      <th>1</th>\n",
       "      <td>None</td>\n",
       "      <td>Job (J_gen_1)</td>\n",
       "      <td>J_gen_1</td>\n",
       "      <td>Job</td>\n",
       "      <td>4</td>\n",
       "      <td>0 days 08:00:00</td>\n",
       "      <td>2024-03-28 17:45:12+00:00</td>\n",
       "      <td>2024-03-28 17:45:12+00:00</td>\n",
       "      <td>2023-11-20 06:00:00+00:00</td>\n",
       "      <td>2024-03-28 17:45:12+00:00</td>\n",
       "      <td>129 days, 11:45:12</td>\n",
       "      <td>2023-12-01 10:00:00+00:00</td>\n",
       "      <td>2024-03-29 03:45:12+00:00</td>\n",
       "      <td>118 days, 17:45:12</td>\n",
       "      <td>10:00:00</td>\n",
       "      <td>FINISH</td>\n",
       "    </tr>\n",
       "    <tr>\n",
       "      <th>2</th>\n",
       "      <td>None</td>\n",
       "      <td>Job (J_gen_2)</td>\n",
       "      <td>J_gen_2</td>\n",
       "      <td>Job</td>\n",
       "      <td>7</td>\n",
       "      <td>0 days 06:00:00</td>\n",
       "      <td>2024-03-28 19:45:12+00:00</td>\n",
       "      <td>2024-03-28 19:45:12+00:00</td>\n",
       "      <td>2023-11-20 06:00:00+00:00</td>\n",
       "      <td>2024-03-29 02:45:12+00:00</td>\n",
       "      <td>129 days, 20:45:12</td>\n",
       "      <td>2023-12-01 10:00:00+00:00</td>\n",
       "      <td>2024-03-29 16:45:12+00:00</td>\n",
       "      <td>119 days, 6:45:12</td>\n",
       "      <td>21:00:00</td>\n",
       "      <td>FINISH</td>\n",
       "    </tr>\n",
       "    <tr>\n",
       "      <th>3</th>\n",
       "      <td>None</td>\n",
       "      <td>Job (J_gen_3)</td>\n",
       "      <td>J_gen_3</td>\n",
       "      <td>Job</td>\n",
       "      <td>8</td>\n",
       "      <td>0 days 07:00:00</td>\n",
       "      <td>2024-03-28 21:45:12+00:00</td>\n",
       "      <td>2024-03-28 21:45:12+00:00</td>\n",
       "      <td>2023-11-20 06:00:00+00:00</td>\n",
       "      <td>2024-03-29 03:45:12+00:00</td>\n",
       "      <td>129 days, 21:45:12</td>\n",
       "      <td>2023-12-01 10:00:00+00:00</td>\n",
       "      <td>2024-03-29 15:45:12+00:00</td>\n",
       "      <td>119 days, 5:45:12</td>\n",
       "      <td>18:00:00</td>\n",
       "      <td>FINISH</td>\n",
       "    </tr>\n",
       "    <tr>\n",
       "      <th>4</th>\n",
       "      <td>None</td>\n",
       "      <td>Job (J_gen_4)</td>\n",
       "      <td>J_gen_4</td>\n",
       "      <td>Job</td>\n",
       "      <td>12</td>\n",
       "      <td>0 days 09:00:00</td>\n",
       "      <td>2024-03-28 23:45:12+00:00</td>\n",
       "      <td>2024-03-28 23:45:12+00:00</td>\n",
       "      <td>2023-11-20 06:00:00+00:00</td>\n",
       "      <td>2024-03-29 15:45:12+00:00</td>\n",
       "      <td>130 days, 9:45:12</td>\n",
       "      <td>2023-12-01 10:00:00+00:00</td>\n",
       "      <td>2024-03-30 07:45:12+00:00</td>\n",
       "      <td>119 days, 21:45:12</td>\n",
       "      <td>1 day, 8:00:00</td>\n",
       "      <td>FINISH</td>\n",
       "    </tr>\n",
       "    <tr>\n",
       "      <th>5</th>\n",
       "      <td>None</td>\n",
       "      <td>Job (J_gen_5)</td>\n",
       "      <td>J_gen_5</td>\n",
       "      <td>Job</td>\n",
       "      <td>11</td>\n",
       "      <td>0 days 05:00:00</td>\n",
       "      <td>2024-03-29 01:45:12+00:00</td>\n",
       "      <td>2024-03-29 01:45:12+00:00</td>\n",
       "      <td>2023-11-20 06:00:00+00:00</td>\n",
       "      <td>2024-03-30 07:45:12+00:00</td>\n",
       "      <td>131 days, 1:45:12</td>\n",
       "      <td>2023-12-01 10:00:00+00:00</td>\n",
       "      <td>2024-03-30 20:45:12+00:00</td>\n",
       "      <td>120 days, 10:45:12</td>\n",
       "      <td>1 day, 19:00:00</td>\n",
       "      <td>FINISH</td>\n",
       "    </tr>\n",
       "    <tr>\n",
       "      <th>6</th>\n",
       "      <td>None</td>\n",
       "      <td>Job (J_gen_6)</td>\n",
       "      <td>J_gen_6</td>\n",
       "      <td>Job</td>\n",
       "      <td>11</td>\n",
       "      <td>0 days 08:00:00</td>\n",
       "      <td>2024-03-29 03:45:12+00:00</td>\n",
       "      <td>2024-03-29 03:45:12+00:00</td>\n",
       "      <td>2023-11-20 06:00:00+00:00</td>\n",
       "      <td>2024-03-29 03:45:12+00:00</td>\n",
       "      <td>129 days, 21:45:12</td>\n",
       "      <td>2023-12-01 10:00:00+00:00</td>\n",
       "      <td>2024-03-29 14:45:12+00:00</td>\n",
       "      <td>119 days, 4:45:12</td>\n",
       "      <td>11:00:00</td>\n",
       "      <td>FINISH</td>\n",
       "    </tr>\n",
       "    <tr>\n",
       "      <th>7</th>\n",
       "      <td>None</td>\n",
       "      <td>Job (J_gen_7)</td>\n",
       "      <td>J_gen_7</td>\n",
       "      <td>Job</td>\n",
       "      <td>10</td>\n",
       "      <td>0 days 06:00:00</td>\n",
       "      <td>2024-03-29 05:45:12+00:00</td>\n",
       "      <td>2024-03-29 05:45:12+00:00</td>\n",
       "      <td>2023-11-20 06:00:00+00:00</td>\n",
       "      <td>2024-03-29 16:45:12+00:00</td>\n",
       "      <td>130 days, 10:45:12</td>\n",
       "      <td>2023-12-01 10:00:00+00:00</td>\n",
       "      <td>2024-03-30 05:45:12+00:00</td>\n",
       "      <td>119 days, 19:45:12</td>\n",
       "      <td>1 day, 0:00:00</td>\n",
       "      <td>FINISH</td>\n",
       "    </tr>\n",
       "    <tr>\n",
       "      <th>8</th>\n",
       "      <td>None</td>\n",
       "      <td>Job (J_gen_8)</td>\n",
       "      <td>J_gen_8</td>\n",
       "      <td>Job</td>\n",
       "      <td>10</td>\n",
       "      <td>0 days 08:00:00</td>\n",
       "      <td>2024-03-29 07:45:12+00:00</td>\n",
       "      <td>2024-03-29 07:45:12+00:00</td>\n",
       "      <td>2023-11-20 06:00:00+00:00</td>\n",
       "      <td>2024-03-29 14:45:12+00:00</td>\n",
       "      <td>130 days, 8:45:12</td>\n",
       "      <td>2023-12-01 10:00:00+00:00</td>\n",
       "      <td>2024-03-29 23:45:12+00:00</td>\n",
       "      <td>119 days, 13:45:12</td>\n",
       "      <td>16:00:00</td>\n",
       "      <td>FINISH</td>\n",
       "    </tr>\n",
       "    <tr>\n",
       "      <th>9</th>\n",
       "      <td>None</td>\n",
       "      <td>Job (J_gen_9)</td>\n",
       "      <td>J_gen_9</td>\n",
       "      <td>Job</td>\n",
       "      <td>14</td>\n",
       "      <td>0 days 09:00:00</td>\n",
       "      <td>2024-03-29 09:45:12+00:00</td>\n",
       "      <td>2024-03-29 09:45:12+00:00</td>\n",
       "      <td>2023-11-20 06:00:00+00:00</td>\n",
       "      <td>2024-03-29 23:45:12+00:00</td>\n",
       "      <td>130 days, 17:45:12</td>\n",
       "      <td>2023-12-01 10:00:00+00:00</td>\n",
       "      <td>2024-03-30 11:45:12+00:00</td>\n",
       "      <td>120 days, 1:45:12</td>\n",
       "      <td>1 day, 2:00:00</td>\n",
       "      <td>FINISH</td>\n",
       "    </tr>\n",
       "    <tr>\n",
       "      <th>10</th>\n",
       "      <td>None</td>\n",
       "      <td>Job (J_gen_10)</td>\n",
       "      <td>J_gen_10</td>\n",
       "      <td>Job</td>\n",
       "      <td>16</td>\n",
       "      <td>0 days 06:00:00</td>\n",
       "      <td>2024-03-29 11:45:12+00:00</td>\n",
       "      <td>2024-03-29 11:45:12+00:00</td>\n",
       "      <td>2023-11-20 06:00:00+00:00</td>\n",
       "      <td>2024-03-30 11:45:12+00:00</td>\n",
       "      <td>131 days, 5:45:12</td>\n",
       "      <td>2023-12-01 10:00:00+00:00</td>\n",
       "      <td>2024-03-30 18:45:12+00:00</td>\n",
       "      <td>120 days, 8:45:12</td>\n",
       "      <td>1 day, 7:00:00</td>\n",
       "      <td>FINISH</td>\n",
       "    </tr>\n",
       "    <tr>\n",
       "      <th>11</th>\n",
       "      <td>None</td>\n",
       "      <td>Job (J_gen_11)</td>\n",
       "      <td>J_gen_11</td>\n",
       "      <td>Job</td>\n",
       "      <td>16</td>\n",
       "      <td>0 days 06:00:00</td>\n",
       "      <td>2024-03-29 13:45:12+00:00</td>\n",
       "      <td>2024-03-29 13:45:12+00:00</td>\n",
       "      <td>2023-11-20 06:00:00+00:00</td>\n",
       "      <td>2024-03-30 18:45:12+00:00</td>\n",
       "      <td>131 days, 12:45:12</td>\n",
       "      <td>2023-12-01 10:00:00+00:00</td>\n",
       "      <td>2024-03-31 03:45:12+00:00</td>\n",
       "      <td>120 days, 17:45:12</td>\n",
       "      <td>1 day, 14:00:00</td>\n",
       "      <td>FINISH</td>\n",
       "    </tr>\n",
       "  </tbody>\n",
       "</table>\n",
       "</div>"
      ],
      "text/plain": [
       "       custom_id             job      name job_type prio  total_proc_time   \n",
       "job_id                                                                      \n",
       "0           None   Job (J_gen_0)   J_gen_0      Job    1  0 days 07:00:00  \\\n",
       "1           None   Job (J_gen_1)   J_gen_1      Job    4  0 days 08:00:00   \n",
       "2           None   Job (J_gen_2)   J_gen_2      Job    7  0 days 06:00:00   \n",
       "3           None   Job (J_gen_3)   J_gen_3      Job    8  0 days 07:00:00   \n",
       "4           None   Job (J_gen_4)   J_gen_4      Job   12  0 days 09:00:00   \n",
       "5           None   Job (J_gen_5)   J_gen_5      Job   11  0 days 05:00:00   \n",
       "6           None   Job (J_gen_6)   J_gen_6      Job   11  0 days 08:00:00   \n",
       "7           None   Job (J_gen_7)   J_gen_7      Job   10  0 days 06:00:00   \n",
       "8           None   Job (J_gen_8)   J_gen_8      Job   10  0 days 08:00:00   \n",
       "9           None   Job (J_gen_9)   J_gen_9      Job   14  0 days 09:00:00   \n",
       "10          None  Job (J_gen_10)  J_gen_10      Job   16  0 days 06:00:00   \n",
       "11          None  Job (J_gen_11)  J_gen_11      Job   16  0 days 06:00:00   \n",
       "\n",
       "                    creation_date               release_date   \n",
       "job_id                                                         \n",
       "0       2024-03-28 15:45:12+00:00  2024-03-28 15:45:12+00:00  \\\n",
       "1       2024-03-28 17:45:12+00:00  2024-03-28 17:45:12+00:00   \n",
       "2       2024-03-28 19:45:12+00:00  2024-03-28 19:45:12+00:00   \n",
       "3       2024-03-28 21:45:12+00:00  2024-03-28 21:45:12+00:00   \n",
       "4       2024-03-28 23:45:12+00:00  2024-03-28 23:45:12+00:00   \n",
       "5       2024-03-29 01:45:12+00:00  2024-03-29 01:45:12+00:00   \n",
       "6       2024-03-29 03:45:12+00:00  2024-03-29 03:45:12+00:00   \n",
       "7       2024-03-29 05:45:12+00:00  2024-03-29 05:45:12+00:00   \n",
       "8       2024-03-29 07:45:12+00:00  2024-03-29 07:45:12+00:00   \n",
       "9       2024-03-29 09:45:12+00:00  2024-03-29 09:45:12+00:00   \n",
       "10      2024-03-29 11:45:12+00:00  2024-03-29 11:45:12+00:00   \n",
       "11      2024-03-29 13:45:12+00:00  2024-03-29 13:45:12+00:00   \n",
       "\n",
       "            planned_starting_date       actual_starting_date   \n",
       "job_id                                                         \n",
       "0       2023-11-20 06:00:00+00:00  2024-03-28 15:45:12+00:00  \\\n",
       "1       2023-11-20 06:00:00+00:00  2024-03-28 17:45:12+00:00   \n",
       "2       2023-11-20 06:00:00+00:00  2024-03-29 02:45:12+00:00   \n",
       "3       2023-11-20 06:00:00+00:00  2024-03-29 03:45:12+00:00   \n",
       "4       2023-11-20 06:00:00+00:00  2024-03-29 15:45:12+00:00   \n",
       "5       2023-11-20 06:00:00+00:00  2024-03-30 07:45:12+00:00   \n",
       "6       2023-11-20 06:00:00+00:00  2024-03-29 03:45:12+00:00   \n",
       "7       2023-11-20 06:00:00+00:00  2024-03-29 16:45:12+00:00   \n",
       "8       2023-11-20 06:00:00+00:00  2024-03-29 14:45:12+00:00   \n",
       "9       2023-11-20 06:00:00+00:00  2024-03-29 23:45:12+00:00   \n",
       "10      2023-11-20 06:00:00+00:00  2024-03-30 11:45:12+00:00   \n",
       "11      2023-11-20 06:00:00+00:00  2024-03-30 18:45:12+00:00   \n",
       "\n",
       "       starting_date_deviation        planned_ending_date   \n",
       "job_id                                                      \n",
       "0            129 days, 9:45:12  2023-12-01 10:00:00+00:00  \\\n",
       "1           129 days, 11:45:12  2023-12-01 10:00:00+00:00   \n",
       "2           129 days, 20:45:12  2023-12-01 10:00:00+00:00   \n",
       "3           129 days, 21:45:12  2023-12-01 10:00:00+00:00   \n",
       "4            130 days, 9:45:12  2023-12-01 10:00:00+00:00   \n",
       "5            131 days, 1:45:12  2023-12-01 10:00:00+00:00   \n",
       "6           129 days, 21:45:12  2023-12-01 10:00:00+00:00   \n",
       "7           130 days, 10:45:12  2023-12-01 10:00:00+00:00   \n",
       "8            130 days, 8:45:12  2023-12-01 10:00:00+00:00   \n",
       "9           130 days, 17:45:12  2023-12-01 10:00:00+00:00   \n",
       "10           131 days, 5:45:12  2023-12-01 10:00:00+00:00   \n",
       "11          131 days, 12:45:12  2023-12-01 10:00:00+00:00   \n",
       "\n",
       "               actual_ending_date ending_date_deviation        lead_time   \n",
       "job_id                                                                     \n",
       "0       2024-03-29 02:45:12+00:00    118 days, 16:45:12         11:00:00  \\\n",
       "1       2024-03-29 03:45:12+00:00    118 days, 17:45:12         10:00:00   \n",
       "2       2024-03-29 16:45:12+00:00     119 days, 6:45:12         21:00:00   \n",
       "3       2024-03-29 15:45:12+00:00     119 days, 5:45:12         18:00:00   \n",
       "4       2024-03-30 07:45:12+00:00    119 days, 21:45:12   1 day, 8:00:00   \n",
       "5       2024-03-30 20:45:12+00:00    120 days, 10:45:12  1 day, 19:00:00   \n",
       "6       2024-03-29 14:45:12+00:00     119 days, 4:45:12         11:00:00   \n",
       "7       2024-03-30 05:45:12+00:00    119 days, 19:45:12   1 day, 0:00:00   \n",
       "8       2024-03-29 23:45:12+00:00    119 days, 13:45:12         16:00:00   \n",
       "9       2024-03-30 11:45:12+00:00     120 days, 1:45:12   1 day, 2:00:00   \n",
       "10      2024-03-30 18:45:12+00:00     120 days, 8:45:12   1 day, 7:00:00   \n",
       "11      2024-03-31 03:45:12+00:00    120 days, 17:45:12  1 day, 14:00:00   \n",
       "\n",
       "         state  \n",
       "job_id          \n",
       "0       FINISH  \n",
       "1       FINISH  \n",
       "2       FINISH  \n",
       "3       FINISH  \n",
       "4       FINISH  \n",
       "5       FINISH  \n",
       "6       FINISH  \n",
       "7       FINISH  \n",
       "8       FINISH  \n",
       "9       FINISH  \n",
       "10      FINISH  \n",
       "11      FINISH  "
      ]
     },
     "execution_count": 21,
     "metadata": {},
     "output_type": "execute_result"
    }
   ],
   "source": [
    "dispatcher.job_db"
   ]
  },
  {
   "cell_type": "code",
   "execution_count": 22,
   "metadata": {},
   "outputs": [
    {
     "data": {
      "text/html": [
       "<div>\n",
       "<style scoped>\n",
       "    .dataframe tbody tr th:only-of-type {\n",
       "        vertical-align: middle;\n",
       "    }\n",
       "\n",
       "    .dataframe tbody tr th {\n",
       "        vertical-align: top;\n",
       "    }\n",
       "\n",
       "    .dataframe thead th {\n",
       "        text-align: right;\n",
       "    }\n",
       "</style>\n",
       "<table border=\"1\" class=\"dataframe\">\n",
       "  <thead>\n",
       "    <tr style=\"text-align: right;\">\n",
       "      <th></th>\n",
       "      <th>job_id</th>\n",
       "      <th>job_name</th>\n",
       "      <th>custom_id</th>\n",
       "      <th>op</th>\n",
       "      <th>name</th>\n",
       "      <th>prio</th>\n",
       "      <th>execution_system</th>\n",
       "      <th>execution_system_custom_id</th>\n",
       "      <th>execution_system_name</th>\n",
       "      <th>execution_system_type</th>\n",
       "      <th>...</th>\n",
       "      <th>creation_date</th>\n",
       "      <th>release_date</th>\n",
       "      <th>planned_starting_date</th>\n",
       "      <th>actual_starting_date</th>\n",
       "      <th>starting_date_deviation</th>\n",
       "      <th>planned_ending_date</th>\n",
       "      <th>actual_ending_date</th>\n",
       "      <th>ending_date_deviation</th>\n",
       "      <th>lead_time</th>\n",
       "      <th>state</th>\n",
       "    </tr>\n",
       "    <tr>\n",
       "      <th>op_id</th>\n",
       "      <th></th>\n",
       "      <th></th>\n",
       "      <th></th>\n",
       "      <th></th>\n",
       "      <th></th>\n",
       "      <th></th>\n",
       "      <th></th>\n",
       "      <th></th>\n",
       "      <th></th>\n",
       "      <th></th>\n",
       "      <th></th>\n",
       "      <th></th>\n",
       "      <th></th>\n",
       "      <th></th>\n",
       "      <th></th>\n",
       "      <th></th>\n",
       "      <th></th>\n",
       "      <th></th>\n",
       "      <th></th>\n",
       "      <th></th>\n",
       "      <th></th>\n",
       "    </tr>\n",
       "  </thead>\n",
       "  <tbody>\n",
       "    <tr>\n",
       "      <th>0</th>\n",
       "      <td>0</td>\n",
       "      <td>J_gen_0</td>\n",
       "      <td>None</td>\n",
       "      <td>Operation(ProcTime: 7:00:00, ExecutionSystemID...</td>\n",
       "      <td>O_gen_0</td>\n",
       "      <td>None</td>\n",
       "      <td>{2: {2: {}, 3: {}, 4: {}, 5: {}}, 3: {6: {}, 7...</td>\n",
       "      <td>1</td>\n",
       "      <td>&lt;bound method System.name of System (type: Pro...</td>\n",
       "      <td>ProductionArea</td>\n",
       "      <td>...</td>\n",
       "      <td>2024-03-28 16:45:12+01:00</td>\n",
       "      <td>2024-03-28 16:45:12+01:00</td>\n",
       "      <td>None</td>\n",
       "      <td>2024-03-28 16:45:12+01:00</td>\n",
       "      <td>None</td>\n",
       "      <td>None</td>\n",
       "      <td>2024-03-29 03:45:12+01:00</td>\n",
       "      <td>None</td>\n",
       "      <td>11:00:00</td>\n",
       "      <td>FINISH</td>\n",
       "    </tr>\n",
       "    <tr>\n",
       "      <th>1</th>\n",
       "      <td>1</td>\n",
       "      <td>J_gen_1</td>\n",
       "      <td>None</td>\n",
       "      <td>Operation(ProcTime: 8:00:00, ExecutionSystemID...</td>\n",
       "      <td>O_gen_1</td>\n",
       "      <td>None</td>\n",
       "      <td>{2: {2: {}, 3: {}, 4: {}, 5: {}}, 3: {6: {}, 7...</td>\n",
       "      <td>1</td>\n",
       "      <td>&lt;bound method System.name of System (type: Pro...</td>\n",
       "      <td>ProductionArea</td>\n",
       "      <td>...</td>\n",
       "      <td>2024-03-28 18:45:12+01:00</td>\n",
       "      <td>2024-03-28 18:45:12+01:00</td>\n",
       "      <td>None</td>\n",
       "      <td>2024-03-28 18:45:12+01:00</td>\n",
       "      <td>None</td>\n",
       "      <td>None</td>\n",
       "      <td>2024-03-29 04:45:12+01:00</td>\n",
       "      <td>None</td>\n",
       "      <td>10:00:00</td>\n",
       "      <td>FINISH</td>\n",
       "    </tr>\n",
       "    <tr>\n",
       "      <th>2</th>\n",
       "      <td>2</td>\n",
       "      <td>J_gen_2</td>\n",
       "      <td>None</td>\n",
       "      <td>Operation(ProcTime: 6:00:00, ExecutionSystemID...</td>\n",
       "      <td>O_gen_2</td>\n",
       "      <td>None</td>\n",
       "      <td>{2: {2: {}, 3: {}, 4: {}, 5: {}}, 3: {6: {}, 7...</td>\n",
       "      <td>1</td>\n",
       "      <td>&lt;bound method System.name of System (type: Pro...</td>\n",
       "      <td>ProductionArea</td>\n",
       "      <td>...</td>\n",
       "      <td>2024-03-28 20:45:12+01:00</td>\n",
       "      <td>2024-03-28 20:45:12+01:00</td>\n",
       "      <td>None</td>\n",
       "      <td>2024-03-29 03:45:12+01:00</td>\n",
       "      <td>None</td>\n",
       "      <td>None</td>\n",
       "      <td>2024-03-29 17:45:12+01:00</td>\n",
       "      <td>None</td>\n",
       "      <td>21:00:00</td>\n",
       "      <td>FINISH</td>\n",
       "    </tr>\n",
       "    <tr>\n",
       "      <th>3</th>\n",
       "      <td>3</td>\n",
       "      <td>J_gen_3</td>\n",
       "      <td>None</td>\n",
       "      <td>Operation(ProcTime: 7:00:00, ExecutionSystemID...</td>\n",
       "      <td>O_gen_3</td>\n",
       "      <td>None</td>\n",
       "      <td>{2: {2: {}, 3: {}, 4: {}, 5: {}}, 3: {6: {}, 7...</td>\n",
       "      <td>1</td>\n",
       "      <td>&lt;bound method System.name of System (type: Pro...</td>\n",
       "      <td>ProductionArea</td>\n",
       "      <td>...</td>\n",
       "      <td>2024-03-28 22:45:12+01:00</td>\n",
       "      <td>2024-03-28 22:45:12+01:00</td>\n",
       "      <td>None</td>\n",
       "      <td>2024-03-29 04:45:12+01:00</td>\n",
       "      <td>None</td>\n",
       "      <td>None</td>\n",
       "      <td>2024-03-29 16:45:12+01:00</td>\n",
       "      <td>None</td>\n",
       "      <td>18:00:00</td>\n",
       "      <td>FINISH</td>\n",
       "    </tr>\n",
       "    <tr>\n",
       "      <th>4</th>\n",
       "      <td>4</td>\n",
       "      <td>J_gen_4</td>\n",
       "      <td>None</td>\n",
       "      <td>Operation(ProcTime: 9:00:00, ExecutionSystemID...</td>\n",
       "      <td>O_gen_4</td>\n",
       "      <td>None</td>\n",
       "      <td>{2: {2: {}, 3: {}, 4: {}, 5: {}}, 3: {6: {}, 7...</td>\n",
       "      <td>1</td>\n",
       "      <td>&lt;bound method System.name of System (type: Pro...</td>\n",
       "      <td>ProductionArea</td>\n",
       "      <td>...</td>\n",
       "      <td>2024-03-29 00:45:12+01:00</td>\n",
       "      <td>2024-03-29 00:45:12+01:00</td>\n",
       "      <td>None</td>\n",
       "      <td>2024-03-29 16:45:12+01:00</td>\n",
       "      <td>None</td>\n",
       "      <td>None</td>\n",
       "      <td>2024-03-30 08:45:12+01:00</td>\n",
       "      <td>None</td>\n",
       "      <td>1 day, 8:00:00</td>\n",
       "      <td>FINISH</td>\n",
       "    </tr>\n",
       "    <tr>\n",
       "      <th>5</th>\n",
       "      <td>5</td>\n",
       "      <td>J_gen_5</td>\n",
       "      <td>None</td>\n",
       "      <td>Operation(ProcTime: 5:00:00, ExecutionSystemID...</td>\n",
       "      <td>O_gen_5</td>\n",
       "      <td>None</td>\n",
       "      <td>{2: {2: {}, 3: {}, 4: {}, 5: {}}, 3: {6: {}, 7...</td>\n",
       "      <td>1</td>\n",
       "      <td>&lt;bound method System.name of System (type: Pro...</td>\n",
       "      <td>ProductionArea</td>\n",
       "      <td>...</td>\n",
       "      <td>2024-03-29 02:45:12+01:00</td>\n",
       "      <td>2024-03-29 02:45:12+01:00</td>\n",
       "      <td>None</td>\n",
       "      <td>2024-03-30 08:45:12+01:00</td>\n",
       "      <td>None</td>\n",
       "      <td>None</td>\n",
       "      <td>2024-03-30 21:45:12+01:00</td>\n",
       "      <td>None</td>\n",
       "      <td>1 day, 19:00:00</td>\n",
       "      <td>FINISH</td>\n",
       "    </tr>\n",
       "    <tr>\n",
       "      <th>6</th>\n",
       "      <td>6</td>\n",
       "      <td>J_gen_6</td>\n",
       "      <td>None</td>\n",
       "      <td>Operation(ProcTime: 8:00:00, ExecutionSystemID...</td>\n",
       "      <td>O_gen_6</td>\n",
       "      <td>None</td>\n",
       "      <td>{2: {2: {}, 3: {}, 4: {}, 5: {}}, 3: {6: {}, 7...</td>\n",
       "      <td>1</td>\n",
       "      <td>&lt;bound method System.name of System (type: Pro...</td>\n",
       "      <td>ProductionArea</td>\n",
       "      <td>...</td>\n",
       "      <td>2024-03-29 04:45:12+01:00</td>\n",
       "      <td>2024-03-29 04:45:12+01:00</td>\n",
       "      <td>None</td>\n",
       "      <td>2024-03-29 04:45:12+01:00</td>\n",
       "      <td>None</td>\n",
       "      <td>None</td>\n",
       "      <td>2024-03-29 15:45:12+01:00</td>\n",
       "      <td>None</td>\n",
       "      <td>11:00:00</td>\n",
       "      <td>FINISH</td>\n",
       "    </tr>\n",
       "    <tr>\n",
       "      <th>7</th>\n",
       "      <td>7</td>\n",
       "      <td>J_gen_7</td>\n",
       "      <td>None</td>\n",
       "      <td>Operation(ProcTime: 6:00:00, ExecutionSystemID...</td>\n",
       "      <td>O_gen_7</td>\n",
       "      <td>None</td>\n",
       "      <td>{2: {2: {}, 3: {}, 4: {}, 5: {}}, 3: {6: {}, 7...</td>\n",
       "      <td>1</td>\n",
       "      <td>&lt;bound method System.name of System (type: Pro...</td>\n",
       "      <td>ProductionArea</td>\n",
       "      <td>...</td>\n",
       "      <td>2024-03-29 06:45:12+01:00</td>\n",
       "      <td>2024-03-29 06:45:12+01:00</td>\n",
       "      <td>None</td>\n",
       "      <td>2024-03-29 17:45:12+01:00</td>\n",
       "      <td>None</td>\n",
       "      <td>None</td>\n",
       "      <td>2024-03-30 06:45:12+01:00</td>\n",
       "      <td>None</td>\n",
       "      <td>1 day, 0:00:00</td>\n",
       "      <td>FINISH</td>\n",
       "    </tr>\n",
       "    <tr>\n",
       "      <th>8</th>\n",
       "      <td>8</td>\n",
       "      <td>J_gen_8</td>\n",
       "      <td>None</td>\n",
       "      <td>Operation(ProcTime: 8:00:00, ExecutionSystemID...</td>\n",
       "      <td>O_gen_8</td>\n",
       "      <td>None</td>\n",
       "      <td>{2: {2: {}, 3: {}, 4: {}, 5: {}}, 3: {6: {}, 7...</td>\n",
       "      <td>1</td>\n",
       "      <td>&lt;bound method System.name of System (type: Pro...</td>\n",
       "      <td>ProductionArea</td>\n",
       "      <td>...</td>\n",
       "      <td>2024-03-29 08:45:12+01:00</td>\n",
       "      <td>2024-03-29 08:45:12+01:00</td>\n",
       "      <td>None</td>\n",
       "      <td>2024-03-29 15:45:12+01:00</td>\n",
       "      <td>None</td>\n",
       "      <td>None</td>\n",
       "      <td>2024-03-30 00:45:12+01:00</td>\n",
       "      <td>None</td>\n",
       "      <td>16:00:00</td>\n",
       "      <td>FINISH</td>\n",
       "    </tr>\n",
       "    <tr>\n",
       "      <th>9</th>\n",
       "      <td>9</td>\n",
       "      <td>J_gen_9</td>\n",
       "      <td>None</td>\n",
       "      <td>Operation(ProcTime: 9:00:00, ExecutionSystemID...</td>\n",
       "      <td>O_gen_9</td>\n",
       "      <td>None</td>\n",
       "      <td>{2: {2: {}, 3: {}, 4: {}, 5: {}}, 3: {6: {}, 7...</td>\n",
       "      <td>1</td>\n",
       "      <td>&lt;bound method System.name of System (type: Pro...</td>\n",
       "      <td>ProductionArea</td>\n",
       "      <td>...</td>\n",
       "      <td>2024-03-29 10:45:12+01:00</td>\n",
       "      <td>2024-03-29 10:45:12+01:00</td>\n",
       "      <td>None</td>\n",
       "      <td>2024-03-30 00:45:12+01:00</td>\n",
       "      <td>None</td>\n",
       "      <td>None</td>\n",
       "      <td>2024-03-30 12:45:12+01:00</td>\n",
       "      <td>None</td>\n",
       "      <td>1 day, 2:00:00</td>\n",
       "      <td>FINISH</td>\n",
       "    </tr>\n",
       "    <tr>\n",
       "      <th>10</th>\n",
       "      <td>10</td>\n",
       "      <td>J_gen_10</td>\n",
       "      <td>None</td>\n",
       "      <td>Operation(ProcTime: 6:00:00, ExecutionSystemID...</td>\n",
       "      <td>O_gen_10</td>\n",
       "      <td>None</td>\n",
       "      <td>{2: {2: {}, 3: {}, 4: {}, 5: {}}, 3: {6: {}, 7...</td>\n",
       "      <td>1</td>\n",
       "      <td>&lt;bound method System.name of System (type: Pro...</td>\n",
       "      <td>ProductionArea</td>\n",
       "      <td>...</td>\n",
       "      <td>2024-03-29 12:45:12+01:00</td>\n",
       "      <td>2024-03-29 12:45:12+01:00</td>\n",
       "      <td>None</td>\n",
       "      <td>2024-03-30 12:45:12+01:00</td>\n",
       "      <td>None</td>\n",
       "      <td>None</td>\n",
       "      <td>2024-03-30 19:45:12+01:00</td>\n",
       "      <td>None</td>\n",
       "      <td>1 day, 7:00:00</td>\n",
       "      <td>FINISH</td>\n",
       "    </tr>\n",
       "    <tr>\n",
       "      <th>11</th>\n",
       "      <td>11</td>\n",
       "      <td>J_gen_11</td>\n",
       "      <td>None</td>\n",
       "      <td>Operation(ProcTime: 6:00:00, ExecutionSystemID...</td>\n",
       "      <td>O_gen_11</td>\n",
       "      <td>None</td>\n",
       "      <td>{2: {2: {}, 3: {}, 4: {}, 5: {}}, 3: {6: {}, 7...</td>\n",
       "      <td>1</td>\n",
       "      <td>&lt;bound method System.name of System (type: Pro...</td>\n",
       "      <td>ProductionArea</td>\n",
       "      <td>...</td>\n",
       "      <td>2024-03-29 14:45:12+01:00</td>\n",
       "      <td>2024-03-29 14:45:12+01:00</td>\n",
       "      <td>None</td>\n",
       "      <td>2024-03-30 19:45:12+01:00</td>\n",
       "      <td>None</td>\n",
       "      <td>None</td>\n",
       "      <td>2024-03-31 05:45:12+02:00</td>\n",
       "      <td>None</td>\n",
       "      <td>1 day, 14:00:00</td>\n",
       "      <td>FINISH</td>\n",
       "    </tr>\n",
       "  </tbody>\n",
       "</table>\n",
       "<p>12 rows × 25 columns</p>\n",
       "</div>"
      ],
      "text/plain": [
       "       job_id  job_name custom_id   \n",
       "op_id                               \n",
       "0           0   J_gen_0      None  \\\n",
       "1           1   J_gen_1      None   \n",
       "2           2   J_gen_2      None   \n",
       "3           3   J_gen_3      None   \n",
       "4           4   J_gen_4      None   \n",
       "5           5   J_gen_5      None   \n",
       "6           6   J_gen_6      None   \n",
       "7           7   J_gen_7      None   \n",
       "8           8   J_gen_8      None   \n",
       "9           9   J_gen_9      None   \n",
       "10         10  J_gen_10      None   \n",
       "11         11  J_gen_11      None   \n",
       "\n",
       "                                                      op      name  prio   \n",
       "op_id                                                                      \n",
       "0      Operation(ProcTime: 7:00:00, ExecutionSystemID...   O_gen_0  None  \\\n",
       "1      Operation(ProcTime: 8:00:00, ExecutionSystemID...   O_gen_1  None   \n",
       "2      Operation(ProcTime: 6:00:00, ExecutionSystemID...   O_gen_2  None   \n",
       "3      Operation(ProcTime: 7:00:00, ExecutionSystemID...   O_gen_3  None   \n",
       "4      Operation(ProcTime: 9:00:00, ExecutionSystemID...   O_gen_4  None   \n",
       "5      Operation(ProcTime: 5:00:00, ExecutionSystemID...   O_gen_5  None   \n",
       "6      Operation(ProcTime: 8:00:00, ExecutionSystemID...   O_gen_6  None   \n",
       "7      Operation(ProcTime: 6:00:00, ExecutionSystemID...   O_gen_7  None   \n",
       "8      Operation(ProcTime: 8:00:00, ExecutionSystemID...   O_gen_8  None   \n",
       "9      Operation(ProcTime: 9:00:00, ExecutionSystemID...   O_gen_9  None   \n",
       "10     Operation(ProcTime: 6:00:00, ExecutionSystemID...  O_gen_10  None   \n",
       "11     Operation(ProcTime: 6:00:00, ExecutionSystemID...  O_gen_11  None   \n",
       "\n",
       "                                        execution_system   \n",
       "op_id                                                      \n",
       "0      {2: {2: {}, 3: {}, 4: {}, 5: {}}, 3: {6: {}, 7...  \\\n",
       "1      {2: {2: {}, 3: {}, 4: {}, 5: {}}, 3: {6: {}, 7...   \n",
       "2      {2: {2: {}, 3: {}, 4: {}, 5: {}}, 3: {6: {}, 7...   \n",
       "3      {2: {2: {}, 3: {}, 4: {}, 5: {}}, 3: {6: {}, 7...   \n",
       "4      {2: {2: {}, 3: {}, 4: {}, 5: {}}, 3: {6: {}, 7...   \n",
       "5      {2: {2: {}, 3: {}, 4: {}, 5: {}}, 3: {6: {}, 7...   \n",
       "6      {2: {2: {}, 3: {}, 4: {}, 5: {}}, 3: {6: {}, 7...   \n",
       "7      {2: {2: {}, 3: {}, 4: {}, 5: {}}, 3: {6: {}, 7...   \n",
       "8      {2: {2: {}, 3: {}, 4: {}, 5: {}}, 3: {6: {}, 7...   \n",
       "9      {2: {2: {}, 3: {}, 4: {}, 5: {}}, 3: {6: {}, 7...   \n",
       "10     {2: {2: {}, 3: {}, 4: {}, 5: {}}, 3: {6: {}, 7...   \n",
       "11     {2: {2: {}, 3: {}, 4: {}, 5: {}}, 3: {6: {}, 7...   \n",
       "\n",
       "      execution_system_custom_id   \n",
       "op_id                              \n",
       "0                              1  \\\n",
       "1                              1   \n",
       "2                              1   \n",
       "3                              1   \n",
       "4                              1   \n",
       "5                              1   \n",
       "6                              1   \n",
       "7                              1   \n",
       "8                              1   \n",
       "9                              1   \n",
       "10                             1   \n",
       "11                             1   \n",
       "\n",
       "                                   execution_system_name   \n",
       "op_id                                                      \n",
       "0      <bound method System.name of System (type: Pro...  \\\n",
       "1      <bound method System.name of System (type: Pro...   \n",
       "2      <bound method System.name of System (type: Pro...   \n",
       "3      <bound method System.name of System (type: Pro...   \n",
       "4      <bound method System.name of System (type: Pro...   \n",
       "5      <bound method System.name of System (type: Pro...   \n",
       "6      <bound method System.name of System (type: Pro...   \n",
       "7      <bound method System.name of System (type: Pro...   \n",
       "8      <bound method System.name of System (type: Pro...   \n",
       "9      <bound method System.name of System (type: Pro...   \n",
       "10     <bound method System.name of System (type: Pro...   \n",
       "11     <bound method System.name of System (type: Pro...   \n",
       "\n",
       "      execution_system_type  ...             creation_date   \n",
       "op_id                        ...                             \n",
       "0            ProductionArea  ... 2024-03-28 16:45:12+01:00  \\\n",
       "1            ProductionArea  ... 2024-03-28 18:45:12+01:00   \n",
       "2            ProductionArea  ... 2024-03-28 20:45:12+01:00   \n",
       "3            ProductionArea  ... 2024-03-28 22:45:12+01:00   \n",
       "4            ProductionArea  ... 2024-03-29 00:45:12+01:00   \n",
       "5            ProductionArea  ... 2024-03-29 02:45:12+01:00   \n",
       "6            ProductionArea  ... 2024-03-29 04:45:12+01:00   \n",
       "7            ProductionArea  ... 2024-03-29 06:45:12+01:00   \n",
       "8            ProductionArea  ... 2024-03-29 08:45:12+01:00   \n",
       "9            ProductionArea  ... 2024-03-29 10:45:12+01:00   \n",
       "10           ProductionArea  ... 2024-03-29 12:45:12+01:00   \n",
       "11           ProductionArea  ... 2024-03-29 14:45:12+01:00   \n",
       "\n",
       "                   release_date planned_starting_date   \n",
       "op_id                                                   \n",
       "0     2024-03-28 16:45:12+01:00                  None  \\\n",
       "1     2024-03-28 18:45:12+01:00                  None   \n",
       "2     2024-03-28 20:45:12+01:00                  None   \n",
       "3     2024-03-28 22:45:12+01:00                  None   \n",
       "4     2024-03-29 00:45:12+01:00                  None   \n",
       "5     2024-03-29 02:45:12+01:00                  None   \n",
       "6     2024-03-29 04:45:12+01:00                  None   \n",
       "7     2024-03-29 06:45:12+01:00                  None   \n",
       "8     2024-03-29 08:45:12+01:00                  None   \n",
       "9     2024-03-29 10:45:12+01:00                  None   \n",
       "10    2024-03-29 12:45:12+01:00                  None   \n",
       "11    2024-03-29 14:45:12+01:00                  None   \n",
       "\n",
       "           actual_starting_date starting_date_deviation planned_ending_date   \n",
       "op_id                                                                         \n",
       "0     2024-03-28 16:45:12+01:00                    None                None  \\\n",
       "1     2024-03-28 18:45:12+01:00                    None                None   \n",
       "2     2024-03-29 03:45:12+01:00                    None                None   \n",
       "3     2024-03-29 04:45:12+01:00                    None                None   \n",
       "4     2024-03-29 16:45:12+01:00                    None                None   \n",
       "5     2024-03-30 08:45:12+01:00                    None                None   \n",
       "6     2024-03-29 04:45:12+01:00                    None                None   \n",
       "7     2024-03-29 17:45:12+01:00                    None                None   \n",
       "8     2024-03-29 15:45:12+01:00                    None                None   \n",
       "9     2024-03-30 00:45:12+01:00                    None                None   \n",
       "10    2024-03-30 12:45:12+01:00                    None                None   \n",
       "11    2024-03-30 19:45:12+01:00                    None                None   \n",
       "\n",
       "             actual_ending_date ending_date_deviation        lead_time   state  \n",
       "op_id                                                                           \n",
       "0     2024-03-29 03:45:12+01:00                  None         11:00:00  FINISH  \n",
       "1     2024-03-29 04:45:12+01:00                  None         10:00:00  FINISH  \n",
       "2     2024-03-29 17:45:12+01:00                  None         21:00:00  FINISH  \n",
       "3     2024-03-29 16:45:12+01:00                  None         18:00:00  FINISH  \n",
       "4     2024-03-30 08:45:12+01:00                  None   1 day, 8:00:00  FINISH  \n",
       "5     2024-03-30 21:45:12+01:00                  None  1 day, 19:00:00  FINISH  \n",
       "6     2024-03-29 15:45:12+01:00                  None         11:00:00  FINISH  \n",
       "7     2024-03-30 06:45:12+01:00                  None   1 day, 0:00:00  FINISH  \n",
       "8     2024-03-30 00:45:12+01:00                  None         16:00:00  FINISH  \n",
       "9     2024-03-30 12:45:12+01:00                  None   1 day, 2:00:00  FINISH  \n",
       "10    2024-03-30 19:45:12+01:00                  None   1 day, 7:00:00  FINISH  \n",
       "11    2024-03-31 05:45:12+02:00                  None  1 day, 14:00:00  FINISH  \n",
       "\n",
       "[12 rows x 25 columns]"
      ]
     },
     "execution_count": 22,
     "metadata": {},
     "output_type": "execute_result"
    }
   ],
   "source": [
    "dispatcher._op_db_date_adjusted"
   ]
  },
  {
   "cell_type": "code",
   "execution_count": 23,
   "metadata": {},
   "outputs": [],
   "source": [
    "job = dispatcher.get_job_obj_by_prop(val=2)"
   ]
  },
  {
   "cell_type": "code",
   "execution_count": 24,
   "metadata": {},
   "outputs": [
    {
     "data": {
      "text/html": [
       "<div>\n",
       "<style scoped>\n",
       "    .dataframe tbody tr th:only-of-type {\n",
       "        vertical-align: middle;\n",
       "    }\n",
       "\n",
       "    .dataframe tbody tr th {\n",
       "        vertical-align: top;\n",
       "    }\n",
       "\n",
       "    .dataframe thead th {\n",
       "        text-align: right;\n",
       "    }\n",
       "</style>\n",
       "<table border=\"1\" class=\"dataframe\">\n",
       "  <thead>\n",
       "    <tr style=\"text-align: right;\">\n",
       "      <th></th>\n",
       "      <th>abs [Timedelta]</th>\n",
       "      <th>abs [seconds]</th>\n",
       "      <th>rel [%]</th>\n",
       "    </tr>\n",
       "  </thead>\n",
       "  <tbody>\n",
       "    <tr>\n",
       "      <th>BLOCKED</th>\n",
       "      <td>0 days 00:00:00</td>\n",
       "      <td>0.0</td>\n",
       "      <td>0.000000</td>\n",
       "    </tr>\n",
       "    <tr>\n",
       "      <th>FAILED</th>\n",
       "      <td>0 days 00:00:00</td>\n",
       "      <td>0.0</td>\n",
       "      <td>0.000000</td>\n",
       "    </tr>\n",
       "    <tr>\n",
       "      <th>PAUSED</th>\n",
       "      <td>0 days 00:00:00</td>\n",
       "      <td>0.0</td>\n",
       "      <td>0.000000</td>\n",
       "    </tr>\n",
       "    <tr>\n",
       "      <th>PROCESSING</th>\n",
       "      <td>0 days 06:00:00</td>\n",
       "      <td>21600.0</td>\n",
       "      <td>28.571429</td>\n",
       "    </tr>\n",
       "    <tr>\n",
       "      <th>SETUP</th>\n",
       "      <td>0 days 08:00:00</td>\n",
       "      <td>28800.0</td>\n",
       "      <td>38.095238</td>\n",
       "    </tr>\n",
       "    <tr>\n",
       "      <th>WAITING</th>\n",
       "      <td>0 days 07:00:00</td>\n",
       "      <td>25200.0</td>\n",
       "      <td>33.333333</td>\n",
       "    </tr>\n",
       "  </tbody>\n",
       "</table>\n",
       "</div>"
      ],
      "text/plain": [
       "           abs [Timedelta]  abs [seconds]    rel [%]\n",
       "BLOCKED    0 days 00:00:00            0.0   0.000000\n",
       "FAILED     0 days 00:00:00            0.0   0.000000\n",
       "PAUSED     0 days 00:00:00            0.0   0.000000\n",
       "PROCESSING 0 days 06:00:00        21600.0  28.571429\n",
       "SETUP      0 days 08:00:00        28800.0  38.095238\n",
       "WAITING    0 days 07:00:00        25200.0  33.333333"
      ]
     },
     "execution_count": 24,
     "metadata": {},
     "output_type": "execute_result"
    }
   ],
   "source": [
    "job.stat_monitor.state_durations"
   ]
  },
  {
   "cell_type": "code",
   "execution_count": 25,
   "metadata": {},
   "outputs": [
    {
     "data": {
      "text/html": [
       "<div>\n",
       "<style scoped>\n",
       "    .dataframe tbody tr th:only-of-type {\n",
       "        vertical-align: middle;\n",
       "    }\n",
       "\n",
       "    .dataframe tbody tr th {\n",
       "        vertical-align: top;\n",
       "    }\n",
       "\n",
       "    .dataframe thead th {\n",
       "        text-align: right;\n",
       "    }\n",
       "</style>\n",
       "<table border=\"1\" class=\"dataframe\">\n",
       "  <thead>\n",
       "    <tr style=\"text-align: right;\">\n",
       "      <th></th>\n",
       "      <th>abs [Timedelta]</th>\n",
       "      <th>abs [seconds]</th>\n",
       "      <th>rel [%]</th>\n",
       "    </tr>\n",
       "  </thead>\n",
       "  <tbody>\n",
       "    <tr>\n",
       "      <th>BLOCKED</th>\n",
       "      <td>0 days 00:00:00</td>\n",
       "      <td>0.0</td>\n",
       "      <td>0.000000</td>\n",
       "    </tr>\n",
       "    <tr>\n",
       "      <th>FAILED</th>\n",
       "      <td>0 days 00:00:00</td>\n",
       "      <td>0.0</td>\n",
       "      <td>0.000000</td>\n",
       "    </tr>\n",
       "    <tr>\n",
       "      <th>PAUSED</th>\n",
       "      <td>0 days 00:00:00</td>\n",
       "      <td>0.0</td>\n",
       "      <td>0.000000</td>\n",
       "    </tr>\n",
       "    <tr>\n",
       "      <th>PROCESSING</th>\n",
       "      <td>0 days 06:00:00</td>\n",
       "      <td>21600.0</td>\n",
       "      <td>28.571429</td>\n",
       "    </tr>\n",
       "    <tr>\n",
       "      <th>SETUP</th>\n",
       "      <td>0 days 08:00:00</td>\n",
       "      <td>28800.0</td>\n",
       "      <td>38.095238</td>\n",
       "    </tr>\n",
       "    <tr>\n",
       "      <th>WAITING</th>\n",
       "      <td>0 days 07:00:00</td>\n",
       "      <td>25200.0</td>\n",
       "      <td>33.333333</td>\n",
       "    </tr>\n",
       "  </tbody>\n",
       "</table>\n",
       "</div>"
      ],
      "text/plain": [
       "           abs [Timedelta]  abs [seconds]    rel [%]\n",
       "BLOCKED    0 days 00:00:00            0.0   0.000000\n",
       "FAILED     0 days 00:00:00            0.0   0.000000\n",
       "PAUSED     0 days 00:00:00            0.0   0.000000\n",
       "PROCESSING 0 days 06:00:00        21600.0  28.571429\n",
       "SETUP      0 days 08:00:00        28800.0  38.095238\n",
       "WAITING    0 days 07:00:00        25200.0  33.333333"
      ]
     },
     "execution_count": 25,
     "metadata": {},
     "output_type": "execute_result"
    }
   ],
   "source": [
    "job.operations[0].stat_monitor.state_durations"
   ]
  },
  {
   "cell_type": "code",
   "execution_count": null,
   "metadata": {},
   "outputs": [],
   "source": []
  },
  {
   "cell_type": "code",
   "execution_count": null,
   "metadata": {},
   "outputs": [],
   "source": []
  },
  {
   "cell_type": "code",
   "execution_count": 88,
   "metadata": {},
   "outputs": [
    {
     "data": {
      "application/vnd.plotly.v1+json": {
       "config": {
        "plotlyServerURL": "https://plot.ly"
       },
       "data": [
        {
         "alignmentgroup": "True",
         "base": [
          "2024-03-27T08:44:25+01:00"
         ],
         "customdata": [
          [
           "J_gen_0",
           1,
           null,
           null,
           null,
           "P0DT7H0M0S",
           "P0DT4H0M0S",
           "P0DT11H0M0S"
          ]
         ],
         "hovertemplate": "<b>%{hovertext}</b><br><br>actual_starting_date=%{base}<br>actual_ending_date=%{x}<br>target_station_custom_id=%{y}<br>execution_system_custom_id=%{customdata[1]}<br>prio=%{customdata[2]}<br>planned_starting_date=%{customdata[3]}<br>planned_ending_date=%{customdata[4]}<br>proc_time=%{customdata[5]}<br>setup_time=%{customdata[6]}<br>order_time=%{customdata[7]}<extra></extra>",
         "hovertext": [
          "J_gen_0"
         ],
         "legendgroup": "J_gen_0",
         "marker": {
          "color": "#636efa",
          "pattern": {
           "shape": ""
          }
         },
         "name": "J_gen_0",
         "offsetgroup": "J_gen_0",
         "orientation": "h",
         "showlegend": true,
         "textposition": "auto",
         "type": "bar",
         "x": [
          39600000
         ],
         "xaxis": "x",
         "y": [
          1
         ],
         "yaxis": "y"
        },
        {
         "alignmentgroup": "True",
         "base": [
          "2024-03-27T10:44:25+01:00"
         ],
         "customdata": [
          [
           "J_gen_1",
           1,
           null,
           null,
           null,
           "P0DT8H0M0S",
           "P0DT2H0M0S",
           "P0DT10H0M0S"
          ]
         ],
         "hovertemplate": "<b>%{hovertext}</b><br><br>actual_starting_date=%{base}<br>actual_ending_date=%{x}<br>target_station_custom_id=%{y}<br>execution_system_custom_id=%{customdata[1]}<br>prio=%{customdata[2]}<br>planned_starting_date=%{customdata[3]}<br>planned_ending_date=%{customdata[4]}<br>proc_time=%{customdata[5]}<br>setup_time=%{customdata[6]}<br>order_time=%{customdata[7]}<extra></extra>",
         "hovertext": [
          "J_gen_1"
         ],
         "legendgroup": "J_gen_1",
         "marker": {
          "color": "#EF553B",
          "pattern": {
           "shape": ""
          }
         },
         "name": "J_gen_1",
         "offsetgroup": "J_gen_1",
         "orientation": "h",
         "showlegend": true,
         "textposition": "auto",
         "type": "bar",
         "x": [
          36000000
         ],
         "xaxis": "x",
         "y": [
          0
         ],
         "yaxis": "y"
        },
        {
         "alignmentgroup": "True",
         "base": [
          "2024-03-29T04:44:25+01:00"
         ],
         "customdata": [
          [
           "J_gen_10",
           1,
           null,
           null,
           null,
           "P0DT6H0M0S",
           "P0DT1H0M0S",
           "P0DT7H0M0S"
          ]
         ],
         "hovertemplate": "<b>%{hovertext}</b><br><br>actual_starting_date=%{base}<br>actual_ending_date=%{x}<br>target_station_custom_id=%{y}<br>execution_system_custom_id=%{customdata[1]}<br>prio=%{customdata[2]}<br>planned_starting_date=%{customdata[3]}<br>planned_ending_date=%{customdata[4]}<br>proc_time=%{customdata[5]}<br>setup_time=%{customdata[6]}<br>order_time=%{customdata[7]}<extra></extra>",
         "hovertext": [
          "J_gen_10"
         ],
         "legendgroup": "J_gen_10",
         "marker": {
          "color": "#00cc96",
          "pattern": {
           "shape": ""
          }
         },
         "name": "J_gen_10",
         "offsetgroup": "J_gen_10",
         "orientation": "h",
         "showlegend": true,
         "textposition": "auto",
         "type": "bar",
         "x": [
          25200000
         ],
         "xaxis": "x",
         "y": [
          2
         ],
         "yaxis": "y"
        },
        {
         "alignmentgroup": "True",
         "base": [
          "2024-03-29T11:44:25+01:00"
         ],
         "customdata": [
          [
           "J_gen_11",
           1,
           null,
           null,
           null,
           "P0DT6H0M0S",
           "P0DT3H0M0S",
           "P0DT9H0M0S"
          ]
         ],
         "hovertemplate": "<b>%{hovertext}</b><br><br>actual_starting_date=%{base}<br>actual_ending_date=%{x}<br>target_station_custom_id=%{y}<br>execution_system_custom_id=%{customdata[1]}<br>prio=%{customdata[2]}<br>planned_starting_date=%{customdata[3]}<br>planned_ending_date=%{customdata[4]}<br>proc_time=%{customdata[5]}<br>setup_time=%{customdata[6]}<br>order_time=%{customdata[7]}<extra></extra>",
         "hovertext": [
          "J_gen_11"
         ],
         "legendgroup": "J_gen_11",
         "marker": {
          "color": "#ab63fa",
          "pattern": {
           "shape": ""
          }
         },
         "name": "J_gen_11",
         "offsetgroup": "J_gen_11",
         "orientation": "h",
         "showlegend": true,
         "textposition": "auto",
         "type": "bar",
         "x": [
          32400000
         ],
         "xaxis": "x",
         "y": [
          2
         ],
         "yaxis": "y"
        },
        {
         "alignmentgroup": "True",
         "base": [
          "2024-03-27T19:44:25+01:00"
         ],
         "customdata": [
          [
           "J_gen_2",
           1,
           null,
           null,
           null,
           "P0DT6H0M0S",
           "P0DT8H0M0S",
           "P0DT14H0M0S"
          ]
         ],
         "hovertemplate": "<b>%{hovertext}</b><br><br>actual_starting_date=%{base}<br>actual_ending_date=%{x}<br>target_station_custom_id=%{y}<br>execution_system_custom_id=%{customdata[1]}<br>prio=%{customdata[2]}<br>planned_starting_date=%{customdata[3]}<br>planned_ending_date=%{customdata[4]}<br>proc_time=%{customdata[5]}<br>setup_time=%{customdata[6]}<br>order_time=%{customdata[7]}<extra></extra>",
         "hovertext": [
          "J_gen_2"
         ],
         "legendgroup": "J_gen_2",
         "marker": {
          "color": "#FFA15A",
          "pattern": {
           "shape": ""
          }
         },
         "name": "J_gen_2",
         "offsetgroup": "J_gen_2",
         "orientation": "h",
         "showlegend": true,
         "textposition": "auto",
         "type": "bar",
         "x": [
          50400000
         ],
         "xaxis": "x",
         "y": [
          1
         ],
         "yaxis": "y"
        },
        {
         "alignmentgroup": "True",
         "base": [
          "2024-03-27T20:44:25+01:00"
         ],
         "customdata": [
          [
           "J_gen_3",
           1,
           null,
           null,
           null,
           "P0DT7H0M0S",
           "P0DT5H0M0S",
           "P0DT12H0M0S"
          ]
         ],
         "hovertemplate": "<b>%{hovertext}</b><br><br>actual_starting_date=%{base}<br>actual_ending_date=%{x}<br>target_station_custom_id=%{y}<br>execution_system_custom_id=%{customdata[1]}<br>prio=%{customdata[2]}<br>planned_starting_date=%{customdata[3]}<br>planned_ending_date=%{customdata[4]}<br>proc_time=%{customdata[5]}<br>setup_time=%{customdata[6]}<br>order_time=%{customdata[7]}<extra></extra>",
         "hovertext": [
          "J_gen_3"
         ],
         "legendgroup": "J_gen_3",
         "marker": {
          "color": "#19d3f3",
          "pattern": {
           "shape": ""
          }
         },
         "name": "J_gen_3",
         "offsetgroup": "J_gen_3",
         "orientation": "h",
         "showlegend": true,
         "textposition": "auto",
         "type": "bar",
         "x": [
          43200000
         ],
         "xaxis": "x",
         "y": [
          0
         ],
         "yaxis": "y"
        },
        {
         "alignmentgroup": "True",
         "base": [
          "2024-03-28T08:44:25+01:00"
         ],
         "customdata": [
          [
           "J_gen_4",
           1,
           null,
           null,
           null,
           "P0DT9H0M0S",
           "P0DT7H0M0S",
           "P0DT16H0M0S"
          ]
         ],
         "hovertemplate": "<b>%{hovertext}</b><br><br>actual_starting_date=%{base}<br>actual_ending_date=%{x}<br>target_station_custom_id=%{y}<br>execution_system_custom_id=%{customdata[1]}<br>prio=%{customdata[2]}<br>planned_starting_date=%{customdata[3]}<br>planned_ending_date=%{customdata[4]}<br>proc_time=%{customdata[5]}<br>setup_time=%{customdata[6]}<br>order_time=%{customdata[7]}<extra></extra>",
         "hovertext": [
          "J_gen_4"
         ],
         "legendgroup": "J_gen_4",
         "marker": {
          "color": "#FF6692",
          "pattern": {
           "shape": ""
          }
         },
         "name": "J_gen_4",
         "offsetgroup": "J_gen_4",
         "orientation": "h",
         "showlegend": true,
         "textposition": "auto",
         "type": "bar",
         "x": [
          57600000
         ],
         "xaxis": "x",
         "y": [
          0
         ],
         "yaxis": "y"
        },
        {
         "alignmentgroup": "True",
         "base": [
          "2024-03-29T00:44:25+01:00"
         ],
         "customdata": [
          [
           "J_gen_5",
           1,
           null,
           null,
           null,
           "P0DT5H0M0S",
           "P0DT8H0M0S",
           "P0DT13H0M0S"
          ]
         ],
         "hovertemplate": "<b>%{hovertext}</b><br><br>actual_starting_date=%{base}<br>actual_ending_date=%{x}<br>target_station_custom_id=%{y}<br>execution_system_custom_id=%{customdata[1]}<br>prio=%{customdata[2]}<br>planned_starting_date=%{customdata[3]}<br>planned_ending_date=%{customdata[4]}<br>proc_time=%{customdata[5]}<br>setup_time=%{customdata[6]}<br>order_time=%{customdata[7]}<extra></extra>",
         "hovertext": [
          "J_gen_5"
         ],
         "legendgroup": "J_gen_5",
         "marker": {
          "color": "#B6E880",
          "pattern": {
           "shape": ""
          }
         },
         "name": "J_gen_5",
         "offsetgroup": "J_gen_5",
         "orientation": "h",
         "showlegend": true,
         "textposition": "auto",
         "type": "bar",
         "x": [
          46800000
         ],
         "xaxis": "x",
         "y": [
          0
         ],
         "yaxis": "y"
        },
        {
         "alignmentgroup": "True",
         "base": [
          "2024-03-27T20:44:25+01:00"
         ],
         "customdata": [
          [
           "J_gen_6",
           1,
           null,
           null,
           null,
           "P0DT8H0M0S",
           "P0DT3H0M0S",
           "P0DT11H0M0S"
          ]
         ],
         "hovertemplate": "<b>%{hovertext}</b><br><br>actual_starting_date=%{base}<br>actual_ending_date=%{x}<br>target_station_custom_id=%{y}<br>execution_system_custom_id=%{customdata[1]}<br>prio=%{customdata[2]}<br>planned_starting_date=%{customdata[3]}<br>planned_ending_date=%{customdata[4]}<br>proc_time=%{customdata[5]}<br>setup_time=%{customdata[6]}<br>order_time=%{customdata[7]}<extra></extra>",
         "hovertext": [
          "J_gen_6"
         ],
         "legendgroup": "J_gen_6",
         "marker": {
          "color": "#FF97FF",
          "pattern": {
           "shape": ""
          }
         },
         "name": "J_gen_6",
         "offsetgroup": "J_gen_6",
         "orientation": "h",
         "showlegend": true,
         "textposition": "auto",
         "type": "bar",
         "x": [
          39600000
         ],
         "xaxis": "x",
         "y": [
          2
         ],
         "yaxis": "y"
        },
        {
         "alignmentgroup": "True",
         "base": [
          "2024-03-28T09:44:25+01:00"
         ],
         "customdata": [
          [
           "J_gen_7",
           1,
           null,
           null,
           null,
           "P0DT6H0M0S",
           "P0DT7H0M0S",
           "P0DT13H0M0S"
          ]
         ],
         "hovertemplate": "<b>%{hovertext}</b><br><br>actual_starting_date=%{base}<br>actual_ending_date=%{x}<br>target_station_custom_id=%{y}<br>execution_system_custom_id=%{customdata[1]}<br>prio=%{customdata[2]}<br>planned_starting_date=%{customdata[3]}<br>planned_ending_date=%{customdata[4]}<br>proc_time=%{customdata[5]}<br>setup_time=%{customdata[6]}<br>order_time=%{customdata[7]}<extra></extra>",
         "hovertext": [
          "J_gen_7"
         ],
         "legendgroup": "J_gen_7",
         "marker": {
          "color": "#FECB52",
          "pattern": {
           "shape": ""
          }
         },
         "name": "J_gen_7",
         "offsetgroup": "J_gen_7",
         "orientation": "h",
         "showlegend": true,
         "textposition": "auto",
         "type": "bar",
         "x": [
          46800000
         ],
         "xaxis": "x",
         "y": [
          1
         ],
         "yaxis": "y"
        },
        {
         "alignmentgroup": "True",
         "base": [
          "2024-03-28T07:44:25+01:00"
         ],
         "customdata": [
          [
           "J_gen_8",
           1,
           null,
           null,
           null,
           "P0DT8H0M0S",
           "P0DT1H0M0S",
           "P0DT9H0M0S"
          ]
         ],
         "hovertemplate": "<b>%{hovertext}</b><br><br>actual_starting_date=%{base}<br>actual_ending_date=%{x}<br>target_station_custom_id=%{y}<br>execution_system_custom_id=%{customdata[1]}<br>prio=%{customdata[2]}<br>planned_starting_date=%{customdata[3]}<br>planned_ending_date=%{customdata[4]}<br>proc_time=%{customdata[5]}<br>setup_time=%{customdata[6]}<br>order_time=%{customdata[7]}<extra></extra>",
         "hovertext": [
          "J_gen_8"
         ],
         "legendgroup": "J_gen_8",
         "marker": {
          "color": "#636efa",
          "pattern": {
           "shape": ""
          }
         },
         "name": "J_gen_8",
         "offsetgroup": "J_gen_8",
         "orientation": "h",
         "showlegend": true,
         "textposition": "auto",
         "type": "bar",
         "x": [
          32400000
         ],
         "xaxis": "x",
         "y": [
          2
         ],
         "yaxis": "y"
        },
        {
         "alignmentgroup": "True",
         "base": [
          "2024-03-28T16:44:25+01:00"
         ],
         "customdata": [
          [
           "J_gen_9",
           1,
           null,
           null,
           null,
           "P0DT9H0M0S",
           "P0DT3H0M0S",
           "P0DT12H0M0S"
          ]
         ],
         "hovertemplate": "<b>%{hovertext}</b><br><br>actual_starting_date=%{base}<br>actual_ending_date=%{x}<br>target_station_custom_id=%{y}<br>execution_system_custom_id=%{customdata[1]}<br>prio=%{customdata[2]}<br>planned_starting_date=%{customdata[3]}<br>planned_ending_date=%{customdata[4]}<br>proc_time=%{customdata[5]}<br>setup_time=%{customdata[6]}<br>order_time=%{customdata[7]}<extra></extra>",
         "hovertext": [
          "J_gen_9"
         ],
         "legendgroup": "J_gen_9",
         "marker": {
          "color": "#EF553B",
          "pattern": {
           "shape": ""
          }
         },
         "name": "J_gen_9",
         "offsetgroup": "J_gen_9",
         "orientation": "h",
         "showlegend": true,
         "textposition": "auto",
         "type": "bar",
         "x": [
          43200000
         ],
         "xaxis": "x",
         "y": [
          2
         ],
         "yaxis": "y"
        }
       ],
       "layout": {
        "autosize": true,
        "barmode": "overlay",
        "legend": {
         "title": {
          "text": "job_name"
         },
         "tracegroupgap": 0
        },
        "margin": {
         "t": 60
        },
        "template": {
         "data": {
          "bar": [
           {
            "error_x": {
             "color": "#2a3f5f"
            },
            "error_y": {
             "color": "#2a3f5f"
            },
            "marker": {
             "line": {
              "color": "#E5ECF6",
              "width": 0.5
             },
             "pattern": {
              "fillmode": "overlay",
              "size": 10,
              "solidity": 0.2
             }
            },
            "type": "bar"
           }
          ],
          "barpolar": [
           {
            "marker": {
             "line": {
              "color": "#E5ECF6",
              "width": 0.5
             },
             "pattern": {
              "fillmode": "overlay",
              "size": 10,
              "solidity": 0.2
             }
            },
            "type": "barpolar"
           }
          ],
          "carpet": [
           {
            "aaxis": {
             "endlinecolor": "#2a3f5f",
             "gridcolor": "white",
             "linecolor": "white",
             "minorgridcolor": "white",
             "startlinecolor": "#2a3f5f"
            },
            "baxis": {
             "endlinecolor": "#2a3f5f",
             "gridcolor": "white",
             "linecolor": "white",
             "minorgridcolor": "white",
             "startlinecolor": "#2a3f5f"
            },
            "type": "carpet"
           }
          ],
          "choropleth": [
           {
            "colorbar": {
             "outlinewidth": 0,
             "ticks": ""
            },
            "type": "choropleth"
           }
          ],
          "contour": [
           {
            "colorbar": {
             "outlinewidth": 0,
             "ticks": ""
            },
            "colorscale": [
             [
              0,
              "#0d0887"
             ],
             [
              0.1111111111111111,
              "#46039f"
             ],
             [
              0.2222222222222222,
              "#7201a8"
             ],
             [
              0.3333333333333333,
              "#9c179e"
             ],
             [
              0.4444444444444444,
              "#bd3786"
             ],
             [
              0.5555555555555556,
              "#d8576b"
             ],
             [
              0.6666666666666666,
              "#ed7953"
             ],
             [
              0.7777777777777778,
              "#fb9f3a"
             ],
             [
              0.8888888888888888,
              "#fdca26"
             ],
             [
              1,
              "#f0f921"
             ]
            ],
            "type": "contour"
           }
          ],
          "contourcarpet": [
           {
            "colorbar": {
             "outlinewidth": 0,
             "ticks": ""
            },
            "type": "contourcarpet"
           }
          ],
          "heatmap": [
           {
            "colorbar": {
             "outlinewidth": 0,
             "ticks": ""
            },
            "colorscale": [
             [
              0,
              "#0d0887"
             ],
             [
              0.1111111111111111,
              "#46039f"
             ],
             [
              0.2222222222222222,
              "#7201a8"
             ],
             [
              0.3333333333333333,
              "#9c179e"
             ],
             [
              0.4444444444444444,
              "#bd3786"
             ],
             [
              0.5555555555555556,
              "#d8576b"
             ],
             [
              0.6666666666666666,
              "#ed7953"
             ],
             [
              0.7777777777777778,
              "#fb9f3a"
             ],
             [
              0.8888888888888888,
              "#fdca26"
             ],
             [
              1,
              "#f0f921"
             ]
            ],
            "type": "heatmap"
           }
          ],
          "heatmapgl": [
           {
            "colorbar": {
             "outlinewidth": 0,
             "ticks": ""
            },
            "colorscale": [
             [
              0,
              "#0d0887"
             ],
             [
              0.1111111111111111,
              "#46039f"
             ],
             [
              0.2222222222222222,
              "#7201a8"
             ],
             [
              0.3333333333333333,
              "#9c179e"
             ],
             [
              0.4444444444444444,
              "#bd3786"
             ],
             [
              0.5555555555555556,
              "#d8576b"
             ],
             [
              0.6666666666666666,
              "#ed7953"
             ],
             [
              0.7777777777777778,
              "#fb9f3a"
             ],
             [
              0.8888888888888888,
              "#fdca26"
             ],
             [
              1,
              "#f0f921"
             ]
            ],
            "type": "heatmapgl"
           }
          ],
          "histogram": [
           {
            "marker": {
             "pattern": {
              "fillmode": "overlay",
              "size": 10,
              "solidity": 0.2
             }
            },
            "type": "histogram"
           }
          ],
          "histogram2d": [
           {
            "colorbar": {
             "outlinewidth": 0,
             "ticks": ""
            },
            "colorscale": [
             [
              0,
              "#0d0887"
             ],
             [
              0.1111111111111111,
              "#46039f"
             ],
             [
              0.2222222222222222,
              "#7201a8"
             ],
             [
              0.3333333333333333,
              "#9c179e"
             ],
             [
              0.4444444444444444,
              "#bd3786"
             ],
             [
              0.5555555555555556,
              "#d8576b"
             ],
             [
              0.6666666666666666,
              "#ed7953"
             ],
             [
              0.7777777777777778,
              "#fb9f3a"
             ],
             [
              0.8888888888888888,
              "#fdca26"
             ],
             [
              1,
              "#f0f921"
             ]
            ],
            "type": "histogram2d"
           }
          ],
          "histogram2dcontour": [
           {
            "colorbar": {
             "outlinewidth": 0,
             "ticks": ""
            },
            "colorscale": [
             [
              0,
              "#0d0887"
             ],
             [
              0.1111111111111111,
              "#46039f"
             ],
             [
              0.2222222222222222,
              "#7201a8"
             ],
             [
              0.3333333333333333,
              "#9c179e"
             ],
             [
              0.4444444444444444,
              "#bd3786"
             ],
             [
              0.5555555555555556,
              "#d8576b"
             ],
             [
              0.6666666666666666,
              "#ed7953"
             ],
             [
              0.7777777777777778,
              "#fb9f3a"
             ],
             [
              0.8888888888888888,
              "#fdca26"
             ],
             [
              1,
              "#f0f921"
             ]
            ],
            "type": "histogram2dcontour"
           }
          ],
          "mesh3d": [
           {
            "colorbar": {
             "outlinewidth": 0,
             "ticks": ""
            },
            "type": "mesh3d"
           }
          ],
          "parcoords": [
           {
            "line": {
             "colorbar": {
              "outlinewidth": 0,
              "ticks": ""
             }
            },
            "type": "parcoords"
           }
          ],
          "pie": [
           {
            "automargin": true,
            "type": "pie"
           }
          ],
          "scatter": [
           {
            "fillpattern": {
             "fillmode": "overlay",
             "size": 10,
             "solidity": 0.2
            },
            "type": "scatter"
           }
          ],
          "scatter3d": [
           {
            "line": {
             "colorbar": {
              "outlinewidth": 0,
              "ticks": ""
             }
            },
            "marker": {
             "colorbar": {
              "outlinewidth": 0,
              "ticks": ""
             }
            },
            "type": "scatter3d"
           }
          ],
          "scattercarpet": [
           {
            "marker": {
             "colorbar": {
              "outlinewidth": 0,
              "ticks": ""
             }
            },
            "type": "scattercarpet"
           }
          ],
          "scattergeo": [
           {
            "marker": {
             "colorbar": {
              "outlinewidth": 0,
              "ticks": ""
             }
            },
            "type": "scattergeo"
           }
          ],
          "scattergl": [
           {
            "marker": {
             "colorbar": {
              "outlinewidth": 0,
              "ticks": ""
             }
            },
            "type": "scattergl"
           }
          ],
          "scattermapbox": [
           {
            "marker": {
             "colorbar": {
              "outlinewidth": 0,
              "ticks": ""
             }
            },
            "type": "scattermapbox"
           }
          ],
          "scatterpolar": [
           {
            "marker": {
             "colorbar": {
              "outlinewidth": 0,
              "ticks": ""
             }
            },
            "type": "scatterpolar"
           }
          ],
          "scatterpolargl": [
           {
            "marker": {
             "colorbar": {
              "outlinewidth": 0,
              "ticks": ""
             }
            },
            "type": "scatterpolargl"
           }
          ],
          "scatterternary": [
           {
            "marker": {
             "colorbar": {
              "outlinewidth": 0,
              "ticks": ""
             }
            },
            "type": "scatterternary"
           }
          ],
          "surface": [
           {
            "colorbar": {
             "outlinewidth": 0,
             "ticks": ""
            },
            "colorscale": [
             [
              0,
              "#0d0887"
             ],
             [
              0.1111111111111111,
              "#46039f"
             ],
             [
              0.2222222222222222,
              "#7201a8"
             ],
             [
              0.3333333333333333,
              "#9c179e"
             ],
             [
              0.4444444444444444,
              "#bd3786"
             ],
             [
              0.5555555555555556,
              "#d8576b"
             ],
             [
              0.6666666666666666,
              "#ed7953"
             ],
             [
              0.7777777777777778,
              "#fb9f3a"
             ],
             [
              0.8888888888888888,
              "#fdca26"
             ],
             [
              1,
              "#f0f921"
             ]
            ],
            "type": "surface"
           }
          ],
          "table": [
           {
            "cells": {
             "fill": {
              "color": "#EBF0F8"
             },
             "line": {
              "color": "white"
             }
            },
            "header": {
             "fill": {
              "color": "#C8D4E3"
             },
             "line": {
              "color": "white"
             }
            },
            "type": "table"
           }
          ]
         },
         "layout": {
          "annotationdefaults": {
           "arrowcolor": "#2a3f5f",
           "arrowhead": 0,
           "arrowwidth": 1
          },
          "autotypenumbers": "strict",
          "coloraxis": {
           "colorbar": {
            "outlinewidth": 0,
            "ticks": ""
           }
          },
          "colorscale": {
           "diverging": [
            [
             0,
             "#8e0152"
            ],
            [
             0.1,
             "#c51b7d"
            ],
            [
             0.2,
             "#de77ae"
            ],
            [
             0.3,
             "#f1b6da"
            ],
            [
             0.4,
             "#fde0ef"
            ],
            [
             0.5,
             "#f7f7f7"
            ],
            [
             0.6,
             "#e6f5d0"
            ],
            [
             0.7,
             "#b8e186"
            ],
            [
             0.8,
             "#7fbc41"
            ],
            [
             0.9,
             "#4d9221"
            ],
            [
             1,
             "#276419"
            ]
           ],
           "sequential": [
            [
             0,
             "#0d0887"
            ],
            [
             0.1111111111111111,
             "#46039f"
            ],
            [
             0.2222222222222222,
             "#7201a8"
            ],
            [
             0.3333333333333333,
             "#9c179e"
            ],
            [
             0.4444444444444444,
             "#bd3786"
            ],
            [
             0.5555555555555556,
             "#d8576b"
            ],
            [
             0.6666666666666666,
             "#ed7953"
            ],
            [
             0.7777777777777778,
             "#fb9f3a"
            ],
            [
             0.8888888888888888,
             "#fdca26"
            ],
            [
             1,
             "#f0f921"
            ]
           ],
           "sequentialminus": [
            [
             0,
             "#0d0887"
            ],
            [
             0.1111111111111111,
             "#46039f"
            ],
            [
             0.2222222222222222,
             "#7201a8"
            ],
            [
             0.3333333333333333,
             "#9c179e"
            ],
            [
             0.4444444444444444,
             "#bd3786"
            ],
            [
             0.5555555555555556,
             "#d8576b"
            ],
            [
             0.6666666666666666,
             "#ed7953"
            ],
            [
             0.7777777777777778,
             "#fb9f3a"
            ],
            [
             0.8888888888888888,
             "#fdca26"
            ],
            [
             1,
             "#f0f921"
            ]
           ]
          },
          "colorway": [
           "#636efa",
           "#EF553B",
           "#00cc96",
           "#ab63fa",
           "#FFA15A",
           "#19d3f3",
           "#FF6692",
           "#B6E880",
           "#FF97FF",
           "#FECB52"
          ],
          "font": {
           "color": "#2a3f5f"
          },
          "geo": {
           "bgcolor": "white",
           "lakecolor": "white",
           "landcolor": "#E5ECF6",
           "showlakes": true,
           "showland": true,
           "subunitcolor": "white"
          },
          "hoverlabel": {
           "align": "left"
          },
          "hovermode": "closest",
          "mapbox": {
           "style": "light"
          },
          "paper_bgcolor": "white",
          "plot_bgcolor": "#E5ECF6",
          "polar": {
           "angularaxis": {
            "gridcolor": "white",
            "linecolor": "white",
            "ticks": ""
           },
           "bgcolor": "#E5ECF6",
           "radialaxis": {
            "gridcolor": "white",
            "linecolor": "white",
            "ticks": ""
           }
          },
          "scene": {
           "xaxis": {
            "backgroundcolor": "#E5ECF6",
            "gridcolor": "white",
            "gridwidth": 2,
            "linecolor": "white",
            "showbackground": true,
            "ticks": "",
            "zerolinecolor": "white"
           },
           "yaxis": {
            "backgroundcolor": "#E5ECF6",
            "gridcolor": "white",
            "gridwidth": 2,
            "linecolor": "white",
            "showbackground": true,
            "ticks": "",
            "zerolinecolor": "white"
           },
           "zaxis": {
            "backgroundcolor": "#E5ECF6",
            "gridcolor": "white",
            "gridwidth": 2,
            "linecolor": "white",
            "showbackground": true,
            "ticks": "",
            "zerolinecolor": "white"
           }
          },
          "shapedefaults": {
           "line": {
            "color": "#2a3f5f"
           }
          },
          "ternary": {
           "aaxis": {
            "gridcolor": "white",
            "linecolor": "white",
            "ticks": ""
           },
           "baxis": {
            "gridcolor": "white",
            "linecolor": "white",
            "ticks": ""
           },
           "bgcolor": "#E5ECF6",
           "caxis": {
            "gridcolor": "white",
            "linecolor": "white",
            "ticks": ""
           }
          },
          "title": {
           "x": 0.05
          },
          "xaxis": {
           "automargin": true,
           "gridcolor": "white",
           "linecolor": "white",
           "ticks": "",
           "title": {
            "standoff": 15
           },
           "zerolinecolor": "white",
           "zerolinewidth": 2
          },
          "yaxis": {
           "automargin": true,
           "gridcolor": "white",
           "linecolor": "white",
           "ticks": "",
           "title": {
            "standoff": 15
           },
           "zerolinecolor": "white",
           "zerolinewidth": 2
          }
         }
        },
        "xaxis": {
         "anchor": "y",
         "autorange": true,
         "domain": [
          0,
          1
         ],
         "range": [
          "2024-03-27 05:24:25",
          "2024-03-30 00:04:25"
         ],
         "type": "date"
        },
        "yaxis": {
         "anchor": "x",
         "autorange": true,
         "domain": [
          0,
          1
         ],
         "range": [
          2.5,
          -0.5
         ],
         "title": {
          "text": "target_station_custom_id"
         },
         "type": "category"
        }
       }
      },
      "image/png": "[encoded data removed]",
      "text/html": [
       "<div>                            <div id=\"0ebb71d2-c287-46c7-9153-ff6e6dccda57\" class=\"plotly-graph-div\" style=\"height:525px; width:100%;\"></div>            <script type=\"text/javascript\">                require([\"plotly\"], function(Plotly) {                    window.PLOTLYENV=window.PLOTLYENV || {};                                    if (document.getElementById(\"0ebb71d2-c287-46c7-9153-ff6e6dccda57\")) {                    Plotly.newPlot(                        \"0ebb71d2-c287-46c7-9153-ff6e6dccda57\",                        [{\"alignmentgroup\":\"True\",\"base\":[\"2024-03-27T08:44:25+01:00\"],\"customdata\":[[\"J_gen_0\",1,null,null,null,\"P0DT7H0M0S\",\"P0DT4H0M0S\",\"P0DT11H0M0S\"]],\"hovertemplate\":\"\\u003cb\\u003e%{hovertext}\\u003c\\u002fb\\u003e\\u003cbr\\u003e\\u003cbr\\u003eactual_starting_date=%{base}\\u003cbr\\u003eactual_ending_date=%{x}\\u003cbr\\u003etarget_station_custom_id=%{y}\\u003cbr\\u003eexecution_system_custom_id=%{customdata[1]}\\u003cbr\\u003eprio=%{customdata[2]}\\u003cbr\\u003eplanned_starting_date=%{customdata[3]}\\u003cbr\\u003eplanned_ending_date=%{customdata[4]}\\u003cbr\\u003eproc_time=%{customdata[5]}\\u003cbr\\u003esetup_time=%{customdata[6]}\\u003cbr\\u003eorder_time=%{customdata[7]}\\u003cextra\\u003e\\u003c\\u002fextra\\u003e\",\"hovertext\":[\"J_gen_0\"],\"legendgroup\":\"J_gen_0\",\"marker\":{\"color\":\"#636efa\",\"pattern\":{\"shape\":\"\"}},\"name\":\"J_gen_0\",\"offsetgroup\":\"J_gen_0\",\"orientation\":\"h\",\"showlegend\":true,\"textposition\":\"auto\",\"x\":[39600000.0],\"xaxis\":\"x\",\"y\":[1],\"yaxis\":\"y\",\"type\":\"bar\"},{\"alignmentgroup\":\"True\",\"base\":[\"2024-03-27T10:44:25+01:00\"],\"customdata\":[[\"J_gen_1\",1,null,null,null,\"P0DT8H0M0S\",\"P0DT2H0M0S\",\"P0DT10H0M0S\"]],\"hovertemplate\":\"\\u003cb\\u003e%{hovertext}\\u003c\\u002fb\\u003e\\u003cbr\\u003e\\u003cbr\\u003eactual_starting_date=%{base}\\u003cbr\\u003eactual_ending_date=%{x}\\u003cbr\\u003etarget_station_custom_id=%{y}\\u003cbr\\u003eexecution_system_custom_id=%{customdata[1]}\\u003cbr\\u003eprio=%{customdata[2]}\\u003cbr\\u003eplanned_starting_date=%{customdata[3]}\\u003cbr\\u003eplanned_ending_date=%{customdata[4]}\\u003cbr\\u003eproc_time=%{customdata[5]}\\u003cbr\\u003esetup_time=%{customdata[6]}\\u003cbr\\u003eorder_time=%{customdata[7]}\\u003cextra\\u003e\\u003c\\u002fextra\\u003e\",\"hovertext\":[\"J_gen_1\"],\"legendgroup\":\"J_gen_1\",\"marker\":{\"color\":\"#EF553B\",\"pattern\":{\"shape\":\"\"}},\"name\":\"J_gen_1\",\"offsetgroup\":\"J_gen_1\",\"orientation\":\"h\",\"showlegend\":true,\"textposition\":\"auto\",\"x\":[36000000.0],\"xaxis\":\"x\",\"y\":[0],\"yaxis\":\"y\",\"type\":\"bar\"},{\"alignmentgroup\":\"True\",\"base\":[\"2024-03-29T04:44:25+01:00\"],\"customdata\":[[\"J_gen_10\",1,null,null,null,\"P0DT6H0M0S\",\"P0DT1H0M0S\",\"P0DT7H0M0S\"]],\"hovertemplate\":\"\\u003cb\\u003e%{hovertext}\\u003c\\u002fb\\u003e\\u003cbr\\u003e\\u003cbr\\u003eactual_starting_date=%{base}\\u003cbr\\u003eactual_ending_date=%{x}\\u003cbr\\u003etarget_station_custom_id=%{y}\\u003cbr\\u003eexecution_system_custom_id=%{customdata[1]}\\u003cbr\\u003eprio=%{customdata[2]}\\u003cbr\\u003eplanned_starting_date=%{customdata[3]}\\u003cbr\\u003eplanned_ending_date=%{customdata[4]}\\u003cbr\\u003eproc_time=%{customdata[5]}\\u003cbr\\u003esetup_time=%{customdata[6]}\\u003cbr\\u003eorder_time=%{customdata[7]}\\u003cextra\\u003e\\u003c\\u002fextra\\u003e\",\"hovertext\":[\"J_gen_10\"],\"legendgroup\":\"J_gen_10\",\"marker\":{\"color\":\"#00cc96\",\"pattern\":{\"shape\":\"\"}},\"name\":\"J_gen_10\",\"offsetgroup\":\"J_gen_10\",\"orientation\":\"h\",\"showlegend\":true,\"textposition\":\"auto\",\"x\":[25200000.0],\"xaxis\":\"x\",\"y\":[2],\"yaxis\":\"y\",\"type\":\"bar\"},{\"alignmentgroup\":\"True\",\"base\":[\"2024-03-29T11:44:25+01:00\"],\"customdata\":[[\"J_gen_11\",1,null,null,null,\"P0DT6H0M0S\",\"P0DT3H0M0S\",\"P0DT9H0M0S\"]],\"hovertemplate\":\"\\u003cb\\u003e%{hovertext}\\u003c\\u002fb\\u003e\\u003cbr\\u003e\\u003cbr\\u003eactual_starting_date=%{base}\\u003cbr\\u003eactual_ending_date=%{x}\\u003cbr\\u003etarget_station_custom_id=%{y}\\u003cbr\\u003eexecution_system_custom_id=%{customdata[1]}\\u003cbr\\u003eprio=%{customdata[2]}\\u003cbr\\u003eplanned_starting_date=%{customdata[3]}\\u003cbr\\u003eplanned_ending_date=%{customdata[4]}\\u003cbr\\u003eproc_time=%{customdata[5]}\\u003cbr\\u003esetup_time=%{customdata[6]}\\u003cbr\\u003eorder_time=%{customdata[7]}\\u003cextra\\u003e\\u003c\\u002fextra\\u003e\",\"hovertext\":[\"J_gen_11\"],\"legendgroup\":\"J_gen_11\",\"marker\":{\"color\":\"#ab63fa\",\"pattern\":{\"shape\":\"\"}},\"name\":\"J_gen_11\",\"offsetgroup\":\"J_gen_11\",\"orientation\":\"h\",\"showlegend\":true,\"textposition\":\"auto\",\"x\":[32400000.0],\"xaxis\":\"x\",\"y\":[2],\"yaxis\":\"y\",\"type\":\"bar\"},{\"alignmentgroup\":\"True\",\"base\":[\"2024-03-27T19:44:25+01:00\"],\"customdata\":[[\"J_gen_2\",1,null,null,null,\"P0DT6H0M0S\",\"P0DT8H0M0S\",\"P0DT14H0M0S\"]],\"hovertemplate\":\"\\u003cb\\u003e%{hovertext}\\u003c\\u002fb\\u003e\\u003cbr\\u003e\\u003cbr\\u003eactual_starting_date=%{base}\\u003cbr\\u003eactual_ending_date=%{x}\\u003cbr\\u003etarget_station_custom_id=%{y}\\u003cbr\\u003eexecution_system_custom_id=%{customdata[1]}\\u003cbr\\u003eprio=%{customdata[2]}\\u003cbr\\u003eplanned_starting_date=%{customdata[3]}\\u003cbr\\u003eplanned_ending_date=%{customdata[4]}\\u003cbr\\u003eproc_time=%{customdata[5]}\\u003cbr\\u003esetup_time=%{customdata[6]}\\u003cbr\\u003eorder_time=%{customdata[7]}\\u003cextra\\u003e\\u003c\\u002fextra\\u003e\",\"hovertext\":[\"J_gen_2\"],\"legendgroup\":\"J_gen_2\",\"marker\":{\"color\":\"#FFA15A\",\"pattern\":{\"shape\":\"\"}},\"name\":\"J_gen_2\",\"offsetgroup\":\"J_gen_2\",\"orientation\":\"h\",\"showlegend\":true,\"textposition\":\"auto\",\"x\":[50400000.0],\"xaxis\":\"x\",\"y\":[1],\"yaxis\":\"y\",\"type\":\"bar\"},{\"alignmentgroup\":\"True\",\"base\":[\"2024-03-27T20:44:25+01:00\"],\"customdata\":[[\"J_gen_3\",1,null,null,null,\"P0DT7H0M0S\",\"P0DT5H0M0S\",\"P0DT12H0M0S\"]],\"hovertemplate\":\"\\u003cb\\u003e%{hovertext}\\u003c\\u002fb\\u003e\\u003cbr\\u003e\\u003cbr\\u003eactual_starting_date=%{base}\\u003cbr\\u003eactual_ending_date=%{x}\\u003cbr\\u003etarget_station_custom_id=%{y}\\u003cbr\\u003eexecution_system_custom_id=%{customdata[1]}\\u003cbr\\u003eprio=%{customdata[2]}\\u003cbr\\u003eplanned_starting_date=%{customdata[3]}\\u003cbr\\u003eplanned_ending_date=%{customdata[4]}\\u003cbr\\u003eproc_time=%{customdata[5]}\\u003cbr\\u003esetup_time=%{customdata[6]}\\u003cbr\\u003eorder_time=%{customdata[7]}\\u003cextra\\u003e\\u003c\\u002fextra\\u003e\",\"hovertext\":[\"J_gen_3\"],\"legendgroup\":\"J_gen_3\",\"marker\":{\"color\":\"#19d3f3\",\"pattern\":{\"shape\":\"\"}},\"name\":\"J_gen_3\",\"offsetgroup\":\"J_gen_3\",\"orientation\":\"h\",\"showlegend\":true,\"textposition\":\"auto\",\"x\":[43200000.0],\"xaxis\":\"x\",\"y\":[0],\"yaxis\":\"y\",\"type\":\"bar\"},{\"alignmentgroup\":\"True\",\"base\":[\"2024-03-28T08:44:25+01:00\"],\"customdata\":[[\"J_gen_4\",1,null,null,null,\"P0DT9H0M0S\",\"P0DT7H0M0S\",\"P0DT16H0M0S\"]],\"hovertemplate\":\"\\u003cb\\u003e%{hovertext}\\u003c\\u002fb\\u003e\\u003cbr\\u003e\\u003cbr\\u003eactual_starting_date=%{base}\\u003cbr\\u003eactual_ending_date=%{x}\\u003cbr\\u003etarget_station_custom_id=%{y}\\u003cbr\\u003eexecution_system_custom_id=%{customdata[1]}\\u003cbr\\u003eprio=%{customdata[2]}\\u003cbr\\u003eplanned_starting_date=%{customdata[3]}\\u003cbr\\u003eplanned_ending_date=%{customdata[4]}\\u003cbr\\u003eproc_time=%{customdata[5]}\\u003cbr\\u003esetup_time=%{customdata[6]}\\u003cbr\\u003eorder_time=%{customdata[7]}\\u003cextra\\u003e\\u003c\\u002fextra\\u003e\",\"hovertext\":[\"J_gen_4\"],\"legendgroup\":\"J_gen_4\",\"marker\":{\"color\":\"#FF6692\",\"pattern\":{\"shape\":\"\"}},\"name\":\"J_gen_4\",\"offsetgroup\":\"J_gen_4\",\"orientation\":\"h\",\"showlegend\":true,\"textposition\":\"auto\",\"x\":[57600000.0],\"xaxis\":\"x\",\"y\":[0],\"yaxis\":\"y\",\"type\":\"bar\"},{\"alignmentgroup\":\"True\",\"base\":[\"2024-03-29T00:44:25+01:00\"],\"customdata\":[[\"J_gen_5\",1,null,null,null,\"P0DT5H0M0S\",\"P0DT8H0M0S\",\"P0DT13H0M0S\"]],\"hovertemplate\":\"\\u003cb\\u003e%{hovertext}\\u003c\\u002fb\\u003e\\u003cbr\\u003e\\u003cbr\\u003eactual_starting_date=%{base}\\u003cbr\\u003eactual_ending_date=%{x}\\u003cbr\\u003etarget_station_custom_id=%{y}\\u003cbr\\u003eexecution_system_custom_id=%{customdata[1]}\\u003cbr\\u003eprio=%{customdata[2]}\\u003cbr\\u003eplanned_starting_date=%{customdata[3]}\\u003cbr\\u003eplanned_ending_date=%{customdata[4]}\\u003cbr\\u003eproc_time=%{customdata[5]}\\u003cbr\\u003esetup_time=%{customdata[6]}\\u003cbr\\u003eorder_time=%{customdata[7]}\\u003cextra\\u003e\\u003c\\u002fextra\\u003e\",\"hovertext\":[\"J_gen_5\"],\"legendgroup\":\"J_gen_5\",\"marker\":{\"color\":\"#B6E880\",\"pattern\":{\"shape\":\"\"}},\"name\":\"J_gen_5\",\"offsetgroup\":\"J_gen_5\",\"orientation\":\"h\",\"showlegend\":true,\"textposition\":\"auto\",\"x\":[46800000.0],\"xaxis\":\"x\",\"y\":[0],\"yaxis\":\"y\",\"type\":\"bar\"},{\"alignmentgroup\":\"True\",\"base\":[\"2024-03-27T20:44:25+01:00\"],\"customdata\":[[\"J_gen_6\",1,null,null,null,\"P0DT8H0M0S\",\"P0DT3H0M0S\",\"P0DT11H0M0S\"]],\"hovertemplate\":\"\\u003cb\\u003e%{hovertext}\\u003c\\u002fb\\u003e\\u003cbr\\u003e\\u003cbr\\u003eactual_starting_date=%{base}\\u003cbr\\u003eactual_ending_date=%{x}\\u003cbr\\u003etarget_station_custom_id=%{y}\\u003cbr\\u003eexecution_system_custom_id=%{customdata[1]}\\u003cbr\\u003eprio=%{customdata[2]}\\u003cbr\\u003eplanned_starting_date=%{customdata[3]}\\u003cbr\\u003eplanned_ending_date=%{customdata[4]}\\u003cbr\\u003eproc_time=%{customdata[5]}\\u003cbr\\u003esetup_time=%{customdata[6]}\\u003cbr\\u003eorder_time=%{customdata[7]}\\u003cextra\\u003e\\u003c\\u002fextra\\u003e\",\"hovertext\":[\"J_gen_6\"],\"legendgroup\":\"J_gen_6\",\"marker\":{\"color\":\"#FF97FF\",\"pattern\":{\"shape\":\"\"}},\"name\":\"J_gen_6\",\"offsetgroup\":\"J_gen_6\",\"orientation\":\"h\",\"showlegend\":true,\"textposition\":\"auto\",\"x\":[39600000.0],\"xaxis\":\"x\",\"y\":[2],\"yaxis\":\"y\",\"type\":\"bar\"},{\"alignmentgroup\":\"True\",\"base\":[\"2024-03-28T09:44:25+01:00\"],\"customdata\":[[\"J_gen_7\",1,null,null,null,\"P0DT6H0M0S\",\"P0DT7H0M0S\",\"P0DT13H0M0S\"]],\"hovertemplate\":\"\\u003cb\\u003e%{hovertext}\\u003c\\u002fb\\u003e\\u003cbr\\u003e\\u003cbr\\u003eactual_starting_date=%{base}\\u003cbr\\u003eactual_ending_date=%{x}\\u003cbr\\u003etarget_station_custom_id=%{y}\\u003cbr\\u003eexecution_system_custom_id=%{customdata[1]}\\u003cbr\\u003eprio=%{customdata[2]}\\u003cbr\\u003eplanned_starting_date=%{customdata[3]}\\u003cbr\\u003eplanned_ending_date=%{customdata[4]}\\u003cbr\\u003eproc_time=%{customdata[5]}\\u003cbr\\u003esetup_time=%{customdata[6]}\\u003cbr\\u003eorder_time=%{customdata[7]}\\u003cextra\\u003e\\u003c\\u002fextra\\u003e\",\"hovertext\":[\"J_gen_7\"],\"legendgroup\":\"J_gen_7\",\"marker\":{\"color\":\"#FECB52\",\"pattern\":{\"shape\":\"\"}},\"name\":\"J_gen_7\",\"offsetgroup\":\"J_gen_7\",\"orientation\":\"h\",\"showlegend\":true,\"textposition\":\"auto\",\"x\":[46800000.0],\"xaxis\":\"x\",\"y\":[1],\"yaxis\":\"y\",\"type\":\"bar\"},{\"alignmentgroup\":\"True\",\"base\":[\"2024-03-28T07:44:25+01:00\"],\"customdata\":[[\"J_gen_8\",1,null,null,null,\"P0DT8H0M0S\",\"P0DT1H0M0S\",\"P0DT9H0M0S\"]],\"hovertemplate\":\"\\u003cb\\u003e%{hovertext}\\u003c\\u002fb\\u003e\\u003cbr\\u003e\\u003cbr\\u003eactual_starting_date=%{base}\\u003cbr\\u003eactual_ending_date=%{x}\\u003cbr\\u003etarget_station_custom_id=%{y}\\u003cbr\\u003eexecution_system_custom_id=%{customdata[1]}\\u003cbr\\u003eprio=%{customdata[2]}\\u003cbr\\u003eplanned_starting_date=%{customdata[3]}\\u003cbr\\u003eplanned_ending_date=%{customdata[4]}\\u003cbr\\u003eproc_time=%{customdata[5]}\\u003cbr\\u003esetup_time=%{customdata[6]}\\u003cbr\\u003eorder_time=%{customdata[7]}\\u003cextra\\u003e\\u003c\\u002fextra\\u003e\",\"hovertext\":[\"J_gen_8\"],\"legendgroup\":\"J_gen_8\",\"marker\":{\"color\":\"#636efa\",\"pattern\":{\"shape\":\"\"}},\"name\":\"J_gen_8\",\"offsetgroup\":\"J_gen_8\",\"orientation\":\"h\",\"showlegend\":true,\"textposition\":\"auto\",\"x\":[32400000.0],\"xaxis\":\"x\",\"y\":[2],\"yaxis\":\"y\",\"type\":\"bar\"},{\"alignmentgroup\":\"True\",\"base\":[\"2024-03-28T16:44:25+01:00\"],\"customdata\":[[\"J_gen_9\",1,null,null,null,\"P0DT9H0M0S\",\"P0DT3H0M0S\",\"P0DT12H0M0S\"]],\"hovertemplate\":\"\\u003cb\\u003e%{hovertext}\\u003c\\u002fb\\u003e\\u003cbr\\u003e\\u003cbr\\u003eactual_starting_date=%{base}\\u003cbr\\u003eactual_ending_date=%{x}\\u003cbr\\u003etarget_station_custom_id=%{y}\\u003cbr\\u003eexecution_system_custom_id=%{customdata[1]}\\u003cbr\\u003eprio=%{customdata[2]}\\u003cbr\\u003eplanned_starting_date=%{customdata[3]}\\u003cbr\\u003eplanned_ending_date=%{customdata[4]}\\u003cbr\\u003eproc_time=%{customdata[5]}\\u003cbr\\u003esetup_time=%{customdata[6]}\\u003cbr\\u003eorder_time=%{customdata[7]}\\u003cextra\\u003e\\u003c\\u002fextra\\u003e\",\"hovertext\":[\"J_gen_9\"],\"legendgroup\":\"J_gen_9\",\"marker\":{\"color\":\"#EF553B\",\"pattern\":{\"shape\":\"\"}},\"name\":\"J_gen_9\",\"offsetgroup\":\"J_gen_9\",\"orientation\":\"h\",\"showlegend\":true,\"textposition\":\"auto\",\"x\":[43200000.0],\"xaxis\":\"x\",\"y\":[2],\"yaxis\":\"y\",\"type\":\"bar\"}],                        {\"template\":{\"data\":{\"histogram2dcontour\":[{\"type\":\"histogram2dcontour\",\"colorbar\":{\"outlinewidth\":0,\"ticks\":\"\"},\"colorscale\":[[0.0,\"#0d0887\"],[0.1111111111111111,\"#46039f\"],[0.2222222222222222,\"#7201a8\"],[0.3333333333333333,\"#9c179e\"],[0.4444444444444444,\"#bd3786\"],[0.5555555555555556,\"#d8576b\"],[0.6666666666666666,\"#ed7953\"],[0.7777777777777778,\"#fb9f3a\"],[0.8888888888888888,\"#fdca26\"],[1.0,\"#f0f921\"]]}],\"choropleth\":[{\"type\":\"choropleth\",\"colorbar\":{\"outlinewidth\":0,\"ticks\":\"\"}}],\"histogram2d\":[{\"type\":\"histogram2d\",\"colorbar\":{\"outlinewidth\":0,\"ticks\":\"\"},\"colorscale\":[[0.0,\"#0d0887\"],[0.1111111111111111,\"#46039f\"],[0.2222222222222222,\"#7201a8\"],[0.3333333333333333,\"#9c179e\"],[0.4444444444444444,\"#bd3786\"],[0.5555555555555556,\"#d8576b\"],[0.6666666666666666,\"#ed7953\"],[0.7777777777777778,\"#fb9f3a\"],[0.8888888888888888,\"#fdca26\"],[1.0,\"#f0f921\"]]}],\"heatmap\":[{\"type\":\"heatmap\",\"colorbar\":{\"outlinewidth\":0,\"ticks\":\"\"},\"colorscale\":[[0.0,\"#0d0887\"],[0.1111111111111111,\"#46039f\"],[0.2222222222222222,\"#7201a8\"],[0.3333333333333333,\"#9c179e\"],[0.4444444444444444,\"#bd3786\"],[0.5555555555555556,\"#d8576b\"],[0.6666666666666666,\"#ed7953\"],[0.7777777777777778,\"#fb9f3a\"],[0.8888888888888888,\"#fdca26\"],[1.0,\"#f0f921\"]]}],\"heatmapgl\":[{\"type\":\"heatmapgl\",\"colorbar\":{\"outlinewidth\":0,\"ticks\":\"\"},\"colorscale\":[[0.0,\"#0d0887\"],[0.1111111111111111,\"#46039f\"],[0.2222222222222222,\"#7201a8\"],[0.3333333333333333,\"#9c179e\"],[0.4444444444444444,\"#bd3786\"],[0.5555555555555556,\"#d8576b\"],[0.6666666666666666,\"#ed7953\"],[0.7777777777777778,\"#fb9f3a\"],[0.8888888888888888,\"#fdca26\"],[1.0,\"#f0f921\"]]}],\"contourcarpet\":[{\"type\":\"contourcarpet\",\"colorbar\":{\"outlinewidth\":0,\"ticks\":\"\"}}],\"contour\":[{\"type\":\"contour\",\"colorbar\":{\"outlinewidth\":0,\"ticks\":\"\"},\"colorscale\":[[0.0,\"#0d0887\"],[0.1111111111111111,\"#46039f\"],[0.2222222222222222,\"#7201a8\"],[0.3333333333333333,\"#9c179e\"],[0.4444444444444444,\"#bd3786\"],[0.5555555555555556,\"#d8576b\"],[0.6666666666666666,\"#ed7953\"],[0.7777777777777778,\"#fb9f3a\"],[0.8888888888888888,\"#fdca26\"],[1.0,\"#f0f921\"]]}],\"surface\":[{\"type\":\"surface\",\"colorbar\":{\"outlinewidth\":0,\"ticks\":\"\"},\"colorscale\":[[0.0,\"#0d0887\"],[0.1111111111111111,\"#46039f\"],[0.2222222222222222,\"#7201a8\"],[0.3333333333333333,\"#9c179e\"],[0.4444444444444444,\"#bd3786\"],[0.5555555555555556,\"#d8576b\"],[0.6666666666666666,\"#ed7953\"],[0.7777777777777778,\"#fb9f3a\"],[0.8888888888888888,\"#fdca26\"],[1.0,\"#f0f921\"]]}],\"mesh3d\":[{\"type\":\"mesh3d\",\"colorbar\":{\"outlinewidth\":0,\"ticks\":\"\"}}],\"scatter\":[{\"fillpattern\":{\"fillmode\":\"overlay\",\"size\":10,\"solidity\":0.2},\"type\":\"scatter\"}],\"parcoords\":[{\"type\":\"parcoords\",\"line\":{\"colorbar\":{\"outlinewidth\":0,\"ticks\":\"\"}}}],\"scatterpolargl\":[{\"type\":\"scatterpolargl\",\"marker\":{\"colorbar\":{\"outlinewidth\":0,\"ticks\":\"\"}}}],\"bar\":[{\"error_x\":{\"color\":\"#2a3f5f\"},\"error_y\":{\"color\":\"#2a3f5f\"},\"marker\":{\"line\":{\"color\":\"#E5ECF6\",\"width\":0.5},\"pattern\":{\"fillmode\":\"overlay\",\"size\":10,\"solidity\":0.2}},\"type\":\"bar\"}],\"scattergeo\":[{\"type\":\"scattergeo\",\"marker\":{\"colorbar\":{\"outlinewidth\":0,\"ticks\":\"\"}}}],\"scatterpolar\":[{\"type\":\"scatterpolar\",\"marker\":{\"colorbar\":{\"outlinewidth\":0,\"ticks\":\"\"}}}],\"histogram\":[{\"marker\":{\"pattern\":{\"fillmode\":\"overlay\",\"size\":10,\"solidity\":0.2}},\"type\":\"histogram\"}],\"scattergl\":[{\"type\":\"scattergl\",\"marker\":{\"colorbar\":{\"outlinewidth\":0,\"ticks\":\"\"}}}],\"scatter3d\":[{\"type\":\"scatter3d\",\"line\":{\"colorbar\":{\"outlinewidth\":0,\"ticks\":\"\"}},\"marker\":{\"colorbar\":{\"outlinewidth\":0,\"ticks\":\"\"}}}],\"scattermapbox\":[{\"type\":\"scattermapbox\",\"marker\":{\"colorbar\":{\"outlinewidth\":0,\"ticks\":\"\"}}}],\"scatterternary\":[{\"type\":\"scatterternary\",\"marker\":{\"colorbar\":{\"outlinewidth\":0,\"ticks\":\"\"}}}],\"scattercarpet\":[{\"type\":\"scattercarpet\",\"marker\":{\"colorbar\":{\"outlinewidth\":0,\"ticks\":\"\"}}}],\"carpet\":[{\"aaxis\":{\"endlinecolor\":\"#2a3f5f\",\"gridcolor\":\"white\",\"linecolor\":\"white\",\"minorgridcolor\":\"white\",\"startlinecolor\":\"#2a3f5f\"},\"baxis\":{\"endlinecolor\":\"#2a3f5f\",\"gridcolor\":\"white\",\"linecolor\":\"white\",\"minorgridcolor\":\"white\",\"startlinecolor\":\"#2a3f5f\"},\"type\":\"carpet\"}],\"table\":[{\"cells\":{\"fill\":{\"color\":\"#EBF0F8\"},\"line\":{\"color\":\"white\"}},\"header\":{\"fill\":{\"color\":\"#C8D4E3\"},\"line\":{\"color\":\"white\"}},\"type\":\"table\"}],\"barpolar\":[{\"marker\":{\"line\":{\"color\":\"#E5ECF6\",\"width\":0.5},\"pattern\":{\"fillmode\":\"overlay\",\"size\":10,\"solidity\":0.2}},\"type\":\"barpolar\"}],\"pie\":[{\"automargin\":true,\"type\":\"pie\"}]},\"layout\":{\"autotypenumbers\":\"strict\",\"colorway\":[\"#636efa\",\"#EF553B\",\"#00cc96\",\"#ab63fa\",\"#FFA15A\",\"#19d3f3\",\"#FF6692\",\"#B6E880\",\"#FF97FF\",\"#FECB52\"],\"font\":{\"color\":\"#2a3f5f\"},\"hovermode\":\"closest\",\"hoverlabel\":{\"align\":\"left\"},\"paper_bgcolor\":\"white\",\"plot_bgcolor\":\"#E5ECF6\",\"polar\":{\"bgcolor\":\"#E5ECF6\",\"angularaxis\":{\"gridcolor\":\"white\",\"linecolor\":\"white\",\"ticks\":\"\"},\"radialaxis\":{\"gridcolor\":\"white\",\"linecolor\":\"white\",\"ticks\":\"\"}},\"ternary\":{\"bgcolor\":\"#E5ECF6\",\"aaxis\":{\"gridcolor\":\"white\",\"linecolor\":\"white\",\"ticks\":\"\"},\"baxis\":{\"gridcolor\":\"white\",\"linecolor\":\"white\",\"ticks\":\"\"},\"caxis\":{\"gridcolor\":\"white\",\"linecolor\":\"white\",\"ticks\":\"\"}},\"coloraxis\":{\"colorbar\":{\"outlinewidth\":0,\"ticks\":\"\"}},\"colorscale\":{\"sequential\":[[0.0,\"#0d0887\"],[0.1111111111111111,\"#46039f\"],[0.2222222222222222,\"#7201a8\"],[0.3333333333333333,\"#9c179e\"],[0.4444444444444444,\"#bd3786\"],[0.5555555555555556,\"#d8576b\"],[0.6666666666666666,\"#ed7953\"],[0.7777777777777778,\"#fb9f3a\"],[0.8888888888888888,\"#fdca26\"],[1.0,\"#f0f921\"]],\"sequentialminus\":[[0.0,\"#0d0887\"],[0.1111111111111111,\"#46039f\"],[0.2222222222222222,\"#7201a8\"],[0.3333333333333333,\"#9c179e\"],[0.4444444444444444,\"#bd3786\"],[0.5555555555555556,\"#d8576b\"],[0.6666666666666666,\"#ed7953\"],[0.7777777777777778,\"#fb9f3a\"],[0.8888888888888888,\"#fdca26\"],[1.0,\"#f0f921\"]],\"diverging\":[[0,\"#8e0152\"],[0.1,\"#c51b7d\"],[0.2,\"#de77ae\"],[0.3,\"#f1b6da\"],[0.4,\"#fde0ef\"],[0.5,\"#f7f7f7\"],[0.6,\"#e6f5d0\"],[0.7,\"#b8e186\"],[0.8,\"#7fbc41\"],[0.9,\"#4d9221\"],[1,\"#276419\"]]},\"xaxis\":{\"gridcolor\":\"white\",\"linecolor\":\"white\",\"ticks\":\"\",\"title\":{\"standoff\":15},\"zerolinecolor\":\"white\",\"automargin\":true,\"zerolinewidth\":2},\"yaxis\":{\"gridcolor\":\"white\",\"linecolor\":\"white\",\"ticks\":\"\",\"title\":{\"standoff\":15},\"zerolinecolor\":\"white\",\"automargin\":true,\"zerolinewidth\":2},\"scene\":{\"xaxis\":{\"backgroundcolor\":\"#E5ECF6\",\"gridcolor\":\"white\",\"linecolor\":\"white\",\"showbackground\":true,\"ticks\":\"\",\"zerolinecolor\":\"white\",\"gridwidth\":2},\"yaxis\":{\"backgroundcolor\":\"#E5ECF6\",\"gridcolor\":\"white\",\"linecolor\":\"white\",\"showbackground\":true,\"ticks\":\"\",\"zerolinecolor\":\"white\",\"gridwidth\":2},\"zaxis\":{\"backgroundcolor\":\"#E5ECF6\",\"gridcolor\":\"white\",\"linecolor\":\"white\",\"showbackground\":true,\"ticks\":\"\",\"zerolinecolor\":\"white\",\"gridwidth\":2}},\"shapedefaults\":{\"line\":{\"color\":\"#2a3f5f\"}},\"annotationdefaults\":{\"arrowcolor\":\"#2a3f5f\",\"arrowhead\":0,\"arrowwidth\":1},\"geo\":{\"bgcolor\":\"white\",\"landcolor\":\"#E5ECF6\",\"subunitcolor\":\"white\",\"showland\":true,\"showlakes\":true,\"lakecolor\":\"white\"},\"title\":{\"x\":0.05},\"mapbox\":{\"style\":\"light\"}}},\"xaxis\":{\"anchor\":\"y\",\"domain\":[0.0,1.0],\"type\":\"date\"},\"yaxis\":{\"anchor\":\"x\",\"domain\":[0.0,1.0],\"title\":{\"text\":\"target_station_custom_id\"},\"type\":\"category\",\"autorange\":\"reversed\"},\"legend\":{\"title\":{\"text\":\"job_name\"},\"tracegroupgap\":0},\"margin\":{\"t\":60},\"barmode\":\"overlay\"},                        {\"responsive\": true}                    ).then(function(){\n",
       "                            \n",
       "var gd = document.getElementById('0ebb71d2-c287-46c7-9153-ff6e6dccda57');\n",
       "var x = new MutationObserver(function (mutations, observer) {{\n",
       "        var display = window.getComputedStyle(gd).display;\n",
       "        if (!display || display === 'none') {{\n",
       "            console.log([gd, 'removed!']);\n",
       "            Plotly.purge(gd);\n",
       "            observer.disconnect();\n",
       "        }}\n",
       "}});\n",
       "\n",
       "// Listen for the removal of the full notebook cells\n",
       "var notebookContainer = gd.closest('#notebook-container');\n",
       "if (notebookContainer) {{\n",
       "    x.observe(notebookContainer, {childList: true});\n",
       "}}\n",
       "\n",
       "// Listen for the clearing of the current output cell\n",
       "var outputEl = gd.closest('.output');\n",
       "if (outputEl) {{\n",
       "    x.observe(outputEl, {childList: true});\n",
       "}}\n",
       "\n",
       "                        })                };                });            </script>        </div>"
      ]
     },
     "metadata": {},
     "output_type": "display_data"
    }
   ],
   "source": [
    "fig = dispatcher.draw_gantt_chart(dates_to_local_tz=True, debug=False, save_img=True, file_name='test.png')"
   ]
  },
  {
   "cell_type": "code",
   "execution_count": null,
   "metadata": {},
   "outputs": [],
   "source": []
  },
  {
   "cell_type": "code",
   "execution_count": null,
   "metadata": {},
   "outputs": [],
   "source": []
  }
 ],
 "metadata": {
  "kernelspec": {
   "display_name": "Python 3 (ipykernel)",
   "language": "python",
   "name": "python3"
  },
  "language_info": {
   "codemirror_mode": {
    "name": "ipython",
    "version": 3
   },
   "file_extension": ".py",
   "mimetype": "text/x-python",
   "name": "python",
   "nbconvert_exporter": "python",
   "pygments_lexer": "ipython3",
   "version": "3.11.8"
  }
 },
 "nbformat": 4,
 "nbformat_minor": 4
}
