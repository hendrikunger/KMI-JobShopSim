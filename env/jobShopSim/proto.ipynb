{
 "cells": [
  {
   "cell_type": "code",
   "execution_count": 298,
   "metadata": {},
   "outputs": [
    {
     "name": "stdout",
     "output_type": "stream",
     "text": [
      "The autoreload extension is already loaded. To reload it, use:\n",
      "  %reload_ext autoreload\n"
     ]
    }
   ],
   "source": [
    "%load_ext autoreload"
   ]
  },
  {
   "cell_type": "code",
   "execution_count": 299,
   "metadata": {},
   "outputs": [],
   "source": [
    "%autoreload 2"
   ]
  },
  {
   "cell_type": "code",
   "execution_count": 300,
   "metadata": {},
   "outputs": [],
   "source": [
    "from lib import sim_env as sim\n",
    "from lib import loads\n",
    "from lib.utils import (DTParser, current_time_tz, \n",
    "                       dt_to_timezone, adjust_db_dates_local_tz)\n",
    "from lib import agents\n",
    "import datetime"
   ]
  },
  {
   "cell_type": "code",
   "execution_count": 301,
   "metadata": {},
   "outputs": [],
   "source": [
    "dt_parser = DTParser()"
   ]
  },
  {
   "cell_type": "code",
   "execution_count": 302,
   "metadata": {},
   "outputs": [
    {
     "data": {
      "text/plain": [
       "datetime.datetime(2023, 11, 21, 0, 0)"
      ]
     },
     "execution_count": 302,
     "metadata": {},
     "output_type": "execute_result"
    }
   ],
   "source": [
    "dt = datetime.datetime(2023, 11, 21)\n",
    "dt"
   ]
  },
  {
   "cell_type": "code",
   "execution_count": 303,
   "metadata": {},
   "outputs": [
    {
     "data": {
      "text/plain": [
       "datetime.datetime(2024, 3, 15, 15, 23, 44, tzinfo=datetime.timezone.utc)"
      ]
     },
     "execution_count": 303,
     "metadata": {},
     "output_type": "execute_result"
    }
   ],
   "source": [
    "dt = current_time_tz(cut_microseconds=True)\n",
    "dt"
   ]
  },
  {
   "cell_type": "code",
   "execution_count": 304,
   "metadata": {},
   "outputs": [
    {
     "name": "stdout",
     "output_type": "stream",
     "text": [
      "INFO:sim_env.env:Successfully registered Infrastructure Manager in Env >>base<<\n",
      "INFO:sim_env.env:Successfully registered Dispatcher in Env >>base<<\n"
     ]
    }
   ],
   "source": [
    "env = sim.SimulationEnvironment(name='base', time_unit='seconds', starting_datetime=dt)\n",
    "job_generator = loads.RandomJobGenerator(seed=2)\n",
    "infstruct_mgr = sim.InfrastructureManager(env=env)\n",
    "dispatcher = sim.Dispatcher(env=env, priority_rule='FIFO')"
   ]
  },
  {
   "cell_type": "code",
   "execution_count": 305,
   "metadata": {},
   "outputs": [
    {
     "name": "stdout",
     "output_type": "stream",
     "text": [
      "INFO:sim_env.infstrct:Successfully registered object with SystemID 0 and name ProductionArea_env_0\n",
      "INFO:sim_env.infstrct:Successfully registered object with SystemID 0 and name StationGroup_env_0\n",
      "INFO:sim_env.infstrct:Successfully added System (type: StationGroup, custom_id: 1000, name: StationGroup_env_0) to System (type: ProductionArea, custom_id: 1000, name: ProductionArea_env_0).\n",
      "INFO:sim_env.infstrct:Successfully registered object with SystemID 0 and name Source_env_0\n",
      "INFO:sim_env.infstrct:Successfully added System (type: Resource, custom_id: source, name: Source_env_0) to System (type: StationGroup, custom_id: 1000, name: StationGroup_env_0).\n",
      "INFO:sim_env.infstrct:Successfully registered object with SystemID 1 and name ProductionArea_env_1\n",
      "INFO:sim_env.infstrct:Successfully registered object with SystemID 1 and name StationGroup_env_1\n",
      "INFO:sim_env.infstrct:Successfully added System (type: StationGroup, custom_id: 2000, name: StationGroup_env_1) to System (type: ProductionArea, custom_id: 2000, name: ProductionArea_env_1).\n",
      "INFO:sim_env.infstrct:Successfully registered object with SystemID 1 and name Sink_env_1\n",
      "INFO:sim_env.infstrct:Successfully added System (type: Resource, custom_id: sink, name: Sink_env_1) to System (type: StationGroup, custom_id: 2000, name: StationGroup_env_1).\n",
      "INFO:sim_env.infstrct:Successfully registered object with SystemID 2 and name ProductionArea_env_2\n",
      "INFO:sim_env.infstrct:Successfully registered object with SystemID 2 and name StationGroup_env_2\n",
      "INFO:sim_env.infstrct:Successfully added System (type: StationGroup, custom_id: 1, name: StationGroup_env_2) to System (type: ProductionArea, custom_id: 1, name: ProductionArea_env_2).\n",
      "INFO:sim_env.infstrct:Successfully registered object with SystemID 3 and name StationGroup_env_3\n",
      "INFO:sim_env.infstrct:Successfully added System (type: StationGroup, custom_id: 2, name: StationGroup_env_3) to System (type: ProductionArea, custom_id: 1, name: ProductionArea_env_2).\n",
      "INFO:sim_env.infstrct:Successfully registered object with SystemID 2 and name Buffer_env_2\n",
      "INFO:sim_env.infstrct:Successfully registered object with SystemID 3 and name Machine_env_3\n",
      "INFO:sim_env.infstrct:Successfully added System (type: Resource, custom_id: 10, name: Buffer_env_2) to System (type: StationGroup, custom_id: 1, name: StationGroup_env_2).\n",
      "INFO:sim_env.infstrct:Successfully added System (type: Resource, custom_id: 0, name: Machine_env_3) to System (type: StationGroup, custom_id: 1, name: StationGroup_env_2).\n",
      "INFO:sim_env.infstrct:Successfully registered object with SystemID 4 and name Buffer_env_4\n",
      "INFO:sim_env.infstrct:Successfully registered object with SystemID 5 and name Machine_env_5\n",
      "INFO:sim_env.infstrct:Successfully added System (type: Resource, custom_id: 11, name: Buffer_env_4) to System (type: StationGroup, custom_id: 1, name: StationGroup_env_2).\n",
      "INFO:sim_env.infstrct:Successfully added System (type: Resource, custom_id: 1, name: Machine_env_5) to System (type: StationGroup, custom_id: 1, name: StationGroup_env_2).\n",
      "INFO:sim_env.infstrct:Successfully registered object with SystemID 6 and name Buffer_env_6\n",
      "INFO:sim_env.infstrct:Successfully registered object with SystemID 7 and name Machine_env_7\n",
      "INFO:sim_env.infstrct:Successfully added System (type: Resource, custom_id: 12, name: Buffer_env_6) to System (type: StationGroup, custom_id: 2, name: StationGroup_env_3).\n",
      "INFO:sim_env.infstrct:Successfully added System (type: Resource, custom_id: 2, name: Machine_env_7) to System (type: StationGroup, custom_id: 2, name: StationGroup_env_3).\n"
     ]
    }
   ],
   "source": [
    "# source\n",
    "area_source = sim.ProductionArea(env=env, custom_identifier=1000)\n",
    "group_source = sim.StationGroup(env=env, custom_identifier=1000)\n",
    "area_source.add_subsystem(group_source)\n",
    "td = dt_parser.timedelta_from_val(val=2., time_unit='hours')\n",
    "source = sim.Source(env=env, custom_identifier='source', proc_time=td, \n",
    "                random_generation=True, job_generator=job_generator, num_gen_jobs=5)\n",
    "group_source.add_subsystem(source)\n",
    "\n",
    "# sink\n",
    "area_sink = sim.ProductionArea(env=env, custom_identifier=2000)\n",
    "group_sink = sim.StationGroup(env=env, custom_identifier=2000)\n",
    "area_sink.add_subsystem(group_sink)\n",
    "sink = sim.Sink(env=env, custom_identifier='sink')\n",
    "group_sink.add_subsystem(sink)\n",
    "\n",
    "# processing stations\n",
    "# prod area 1\n",
    "area_prod = sim.ProductionArea(env=env, custom_identifier=1)\n",
    "group_prod = sim.StationGroup(env=env, custom_identifier=1)\n",
    "area_prod.add_subsystem(group_prod)\n",
    "group_prod2 = sim.StationGroup(env=env, custom_identifier=2)\n",
    "area_prod.add_subsystem(group_prod2)\n",
    "# prod area 2\n",
    "#area_prod2 = ProductionArea(env=env, custom_identifier=2)\n",
    "#group_prod3 = StationGroup(env=env, custom_identifier=3)\n",
    "#area_prod2.add_subsystem(group_prod3)\n",
    "#area_prod.add_subsystem(group_prod3)\n",
    "## machines\n",
    "for machine in range(3):\n",
    "    buffer = sim.Buffer(capacity=20, env=env, custom_identifier=(10+machine))\n",
    "    if machine == 5:\n",
    "        MachInst = sim.Machine(env=env, custom_identifier=machine, buffers=[buffer], setup_time=5.)\n",
    "    else:\n",
    "        MachInst = sim.Machine(env=env, custom_identifier=machine, buffers=[buffer])\n",
    "        \n",
    "    if machine == 0:\n",
    "        testMachInst = MachInst\n",
    "    \n",
    "    if machine < 2:\n",
    "        group_prod.add_subsystem(buffer)\n",
    "        group_prod.add_subsystem(MachInst)\n",
    "    elif machine >= 2:\n",
    "        group_prod2.add_subsystem(buffer)\n",
    "        group_prod2.add_subsystem(MachInst)\n",
    "    else:\n",
    "        pass\n",
    "        #group_prod3.add_subsystem(buffer)\n",
    "        #group_prod3.add_subsystem(MachInst)\n",
    "    \n",
    "\n",
    "add_machine_to_bottleneck: bool = False\n",
    "if add_machine_to_bottleneck:\n",
    "    buffer = sim.Buffer(capacity=20, env=env, custom_identifier=(10+machine+1))\n",
    "    MachInst = sim.Machine(env=env, custom_identifier=machine+1, buffers=[buffer])\n",
    "    group_prod3.add_subsystem(buffer)\n",
    "    group_prod3.add_subsystem(MachInst)"
   ]
  },
  {
   "cell_type": "code",
   "execution_count": 306,
   "metadata": {},
   "outputs": [
    {
     "name": "stdout",
     "output_type": "stream",
     "text": [
      "INFO:sim_env.env:Successfully registered Allocation Agent in System (type: ProductionArea, custom_id: 1, name: ProductionArea_env_2)\n"
     ]
    }
   ],
   "source": [
    "alloc_agent = agents.AllocationAgent(assoc_system=area_prod)"
   ]
  },
  {
   "cell_type": "code",
   "execution_count": 307,
   "metadata": {},
   "outputs": [
    {
     "data": {
      "text/plain": [
       "(System (type: Resource, custom_id: 0, name: Machine_env_3),\n",
       " System (type: Resource, custom_id: 1, name: Machine_env_5),\n",
       " System (type: Resource, custom_id: 2, name: Machine_env_7))"
      ]
     },
     "execution_count": 307,
     "metadata": {},
     "output_type": "execute_result"
    }
   ],
   "source": [
    "alloc_agent._assoc_infstrct_objs"
   ]
  },
  {
   "cell_type": "code",
   "execution_count": 308,
   "metadata": {},
   "outputs": [
    {
     "data": {
      "text/plain": [
       "{2}"
      ]
     },
     "execution_count": 308,
     "metadata": {},
     "output_type": "execute_result"
    }
   ],
   "source": [
    "# station group IDs (system, custom) for processing stations\n",
    "MachInst.supersystems_custom_ids"
   ]
  },
  {
   "cell_type": "code",
   "execution_count": 309,
   "metadata": {},
   "outputs": [
    {
     "data": {
      "text/html": [
       "<div>\n",
       "<style scoped>\n",
       "    .dataframe tbody tr th:only-of-type {\n",
       "        vertical-align: middle;\n",
       "    }\n",
       "\n",
       "    .dataframe tbody tr th {\n",
       "        vertical-align: top;\n",
       "    }\n",
       "\n",
       "    .dataframe thead th {\n",
       "        text-align: right;\n",
       "    }\n",
       "</style>\n",
       "<table border=\"1\" class=\"dataframe\">\n",
       "  <thead>\n",
       "    <tr style=\"text-align: right;\">\n",
       "      <th></th>\n",
       "      <th>custom_id</th>\n",
       "      <th>name</th>\n",
       "      <th>prod_area</th>\n",
       "      <th>containing_proc_stations</th>\n",
       "    </tr>\n",
       "    <tr>\n",
       "      <th>prod_area_id</th>\n",
       "      <th></th>\n",
       "      <th></th>\n",
       "      <th></th>\n",
       "      <th></th>\n",
       "    </tr>\n",
       "  </thead>\n",
       "  <tbody>\n",
       "    <tr>\n",
       "      <th>0</th>\n",
       "      <td>1000</td>\n",
       "      <td>ProductionArea_env_0</td>\n",
       "      <td>{0: {0: {}}}</td>\n",
       "      <td>False</td>\n",
       "    </tr>\n",
       "    <tr>\n",
       "      <th>1</th>\n",
       "      <td>2000</td>\n",
       "      <td>ProductionArea_env_1</td>\n",
       "      <td>{1: {1: {}}}</td>\n",
       "      <td>False</td>\n",
       "    </tr>\n",
       "    <tr>\n",
       "      <th>2</th>\n",
       "      <td>1</td>\n",
       "      <td>ProductionArea_env_2</td>\n",
       "      <td>{2: {2: {}, 3: {}, 4: {}, 5: {}}, 3: {6: {}, 7...</td>\n",
       "      <td>True</td>\n",
       "    </tr>\n",
       "  </tbody>\n",
       "</table>\n",
       "</div>"
      ],
      "text/plain": [
       "             custom_id                  name   \n",
       "prod_area_id                                   \n",
       "0                 1000  ProductionArea_env_0  \\\n",
       "1                 2000  ProductionArea_env_1   \n",
       "2                    1  ProductionArea_env_2   \n",
       "\n",
       "                                                      prod_area   \n",
       "prod_area_id                                                      \n",
       "0                                                  {0: {0: {}}}  \\\n",
       "1                                                  {1: {1: {}}}   \n",
       "2             {2: {2: {}, 3: {}, 4: {}, 5: {}}, 3: {6: {}, 7...   \n",
       "\n",
       "              containing_proc_stations  \n",
       "prod_area_id                            \n",
       "0                                False  \n",
       "1                                False  \n",
       "2                                 True  "
      ]
     },
     "execution_count": 309,
     "metadata": {},
     "output_type": "execute_result"
    }
   ],
   "source": [
    "infstruct_mgr.prod_area_db"
   ]
  },
  {
   "cell_type": "code",
   "execution_count": 310,
   "metadata": {},
   "outputs": [
    {
     "data": {
      "text/html": [
       "<div>\n",
       "<style scoped>\n",
       "    .dataframe tbody tr th:only-of-type {\n",
       "        vertical-align: middle;\n",
       "    }\n",
       "\n",
       "    .dataframe tbody tr th {\n",
       "        vertical-align: top;\n",
       "    }\n",
       "\n",
       "    .dataframe thead th {\n",
       "        text-align: right;\n",
       "    }\n",
       "</style>\n",
       "<table border=\"1\" class=\"dataframe\">\n",
       "  <thead>\n",
       "    <tr style=\"text-align: right;\">\n",
       "      <th></th>\n",
       "      <th>custom_id</th>\n",
       "      <th>name</th>\n",
       "      <th>station_group</th>\n",
       "      <th>prod_area_id</th>\n",
       "      <th>containing_proc_stations</th>\n",
       "    </tr>\n",
       "    <tr>\n",
       "      <th>station_group_id</th>\n",
       "      <th></th>\n",
       "      <th></th>\n",
       "      <th></th>\n",
       "      <th></th>\n",
       "      <th></th>\n",
       "    </tr>\n",
       "  </thead>\n",
       "  <tbody>\n",
       "    <tr>\n",
       "      <th>0</th>\n",
       "      <td>1000</td>\n",
       "      <td>StationGroup_env_0</td>\n",
       "      <td>{0: {}}</td>\n",
       "      <td>0</td>\n",
       "      <td>False</td>\n",
       "    </tr>\n",
       "    <tr>\n",
       "      <th>1</th>\n",
       "      <td>2000</td>\n",
       "      <td>StationGroup_env_1</td>\n",
       "      <td>{1: {}}</td>\n",
       "      <td>1</td>\n",
       "      <td>False</td>\n",
       "    </tr>\n",
       "    <tr>\n",
       "      <th>2</th>\n",
       "      <td>1</td>\n",
       "      <td>StationGroup_env_2</td>\n",
       "      <td>{2: {}, 3: {}, 4: {}, 5: {}}</td>\n",
       "      <td>2</td>\n",
       "      <td>True</td>\n",
       "    </tr>\n",
       "    <tr>\n",
       "      <th>3</th>\n",
       "      <td>2</td>\n",
       "      <td>StationGroup_env_3</td>\n",
       "      <td>{6: {}, 7: {}}</td>\n",
       "      <td>2</td>\n",
       "      <td>True</td>\n",
       "    </tr>\n",
       "  </tbody>\n",
       "</table>\n",
       "</div>"
      ],
      "text/plain": [
       "                 custom_id                name                 station_group   \n",
       "station_group_id                                                               \n",
       "0                     1000  StationGroup_env_0                       {0: {}}  \\\n",
       "1                     2000  StationGroup_env_1                       {1: {}}   \n",
       "2                        1  StationGroup_env_2  {2: {}, 3: {}, 4: {}, 5: {}}   \n",
       "3                        2  StationGroup_env_3                {6: {}, 7: {}}   \n",
       "\n",
       "                  prod_area_id  containing_proc_stations  \n",
       "station_group_id                                          \n",
       "0                            0                     False  \n",
       "1                            1                     False  \n",
       "2                            2                      True  \n",
       "3                            2                      True  "
      ]
     },
     "execution_count": 310,
     "metadata": {},
     "output_type": "execute_result"
    }
   ],
   "source": [
    "infstruct_mgr.station_group_db"
   ]
  },
  {
   "cell_type": "code",
   "execution_count": 311,
   "metadata": {},
   "outputs": [
    {
     "data": {
      "text/html": [
       "<div>\n",
       "<style scoped>\n",
       "    .dataframe tbody tr th:only-of-type {\n",
       "        vertical-align: middle;\n",
       "    }\n",
       "\n",
       "    .dataframe tbody tr th {\n",
       "        vertical-align: top;\n",
       "    }\n",
       "\n",
       "    .dataframe thead th {\n",
       "        text-align: right;\n",
       "    }\n",
       "</style>\n",
       "<table border=\"1\" class=\"dataframe\">\n",
       "  <thead>\n",
       "    <tr style=\"text-align: right;\">\n",
       "      <th></th>\n",
       "      <th>custom_id</th>\n",
       "      <th>resource</th>\n",
       "      <th>name</th>\n",
       "      <th>res_type</th>\n",
       "      <th>state</th>\n",
       "      <th>station_group_id</th>\n",
       "    </tr>\n",
       "    <tr>\n",
       "      <th>res_id</th>\n",
       "      <th></th>\n",
       "      <th></th>\n",
       "      <th></th>\n",
       "      <th></th>\n",
       "      <th></th>\n",
       "      <th></th>\n",
       "    </tr>\n",
       "  </thead>\n",
       "  <tbody>\n",
       "    <tr>\n",
       "      <th>0</th>\n",
       "      <td>source</td>\n",
       "      <td>{}</td>\n",
       "      <td>Source_env_0</td>\n",
       "      <td>Source</td>\n",
       "      <td>INIT</td>\n",
       "      <td>0</td>\n",
       "    </tr>\n",
       "    <tr>\n",
       "      <th>1</th>\n",
       "      <td>sink</td>\n",
       "      <td>{}</td>\n",
       "      <td>Sink_env_1</td>\n",
       "      <td>Sink</td>\n",
       "      <td>INIT</td>\n",
       "      <td>1</td>\n",
       "    </tr>\n",
       "    <tr>\n",
       "      <th>2</th>\n",
       "      <td>10</td>\n",
       "      <td>{}</td>\n",
       "      <td>Buffer_env_2</td>\n",
       "      <td>Buffer</td>\n",
       "      <td>INIT</td>\n",
       "      <td>2</td>\n",
       "    </tr>\n",
       "    <tr>\n",
       "      <th>3</th>\n",
       "      <td>0</td>\n",
       "      <td>{}</td>\n",
       "      <td>Machine_env_3</td>\n",
       "      <td>Machine</td>\n",
       "      <td>INIT</td>\n",
       "      <td>2</td>\n",
       "    </tr>\n",
       "    <tr>\n",
       "      <th>4</th>\n",
       "      <td>11</td>\n",
       "      <td>{}</td>\n",
       "      <td>Buffer_env_4</td>\n",
       "      <td>Buffer</td>\n",
       "      <td>INIT</td>\n",
       "      <td>2</td>\n",
       "    </tr>\n",
       "    <tr>\n",
       "      <th>5</th>\n",
       "      <td>1</td>\n",
       "      <td>{}</td>\n",
       "      <td>Machine_env_5</td>\n",
       "      <td>Machine</td>\n",
       "      <td>INIT</td>\n",
       "      <td>2</td>\n",
       "    </tr>\n",
       "    <tr>\n",
       "      <th>6</th>\n",
       "      <td>12</td>\n",
       "      <td>{}</td>\n",
       "      <td>Buffer_env_6</td>\n",
       "      <td>Buffer</td>\n",
       "      <td>INIT</td>\n",
       "      <td>3</td>\n",
       "    </tr>\n",
       "    <tr>\n",
       "      <th>7</th>\n",
       "      <td>2</td>\n",
       "      <td>{}</td>\n",
       "      <td>Machine_env_7</td>\n",
       "      <td>Machine</td>\n",
       "      <td>INIT</td>\n",
       "      <td>3</td>\n",
       "    </tr>\n",
       "  </tbody>\n",
       "</table>\n",
       "</div>"
      ],
      "text/plain": [
       "       custom_id resource           name res_type state  station_group_id\n",
       "res_id                                                                   \n",
       "0         source       {}   Source_env_0   Source  INIT                 0\n",
       "1           sink       {}     Sink_env_1     Sink  INIT                 1\n",
       "2             10       {}   Buffer_env_2   Buffer  INIT                 2\n",
       "3              0       {}  Machine_env_3  Machine  INIT                 2\n",
       "4             11       {}   Buffer_env_4   Buffer  INIT                 2\n",
       "5              1       {}  Machine_env_5  Machine  INIT                 2\n",
       "6             12       {}   Buffer_env_6   Buffer  INIT                 3\n",
       "7              2       {}  Machine_env_7  Machine  INIT                 3"
      ]
     },
     "execution_count": 311,
     "metadata": {},
     "output_type": "execute_result"
    }
   ],
   "source": [
    "infstruct_mgr.res_db"
   ]
  },
  {
   "cell_type": "code",
   "execution_count": 312,
   "metadata": {},
   "outputs": [
    {
     "name": "stdout",
     "output_type": "stream",
     "text": [
      "INFO:sim_env.env:Integrity check for Environment base successful.\n"
     ]
    }
   ],
   "source": [
    "env.check_integrity()"
   ]
  },
  {
   "cell_type": "code",
   "execution_count": 313,
   "metadata": {},
   "outputs": [
    {
     "name": "stdout",
     "output_type": "stream",
     "text": [
      "Prio Rules: {'LPT', 'LIFO', 'FIFO', 'LST', 'SST', 'PRIO', 'SPT'}\n",
      "Alloc Rules: {'RANDOM', 'WIP_LOAD_TIME', 'UTILISATION', 'WIP_LOAD_JOBS', 'AGENT'}\n"
     ]
    }
   ],
   "source": [
    "print('Prio Rules:', dispatcher.possible_prio_rules())\n",
    "print('Alloc Rules:', dispatcher.possible_alloc_rules())"
   ]
  },
  {
   "cell_type": "code",
   "execution_count": 314,
   "metadata": {},
   "outputs": [
    {
     "name": "stdout",
     "output_type": "stream",
     "text": [
      "INFO:sim_env.dispatcher:Changed priority rule to LPT\n",
      "INFO:sim_env.dispatcher:Changed allocation rule to WIP_LOAD_TIME\n"
     ]
    }
   ],
   "source": [
    "dispatcher.curr_prio_rule = 'LPT'\n",
    "dispatcher.curr_alloc_rule = 'WIP_LOAD_TIME'"
   ]
  },
  {
   "cell_type": "code",
   "execution_count": null,
   "metadata": {},
   "outputs": [],
   "source": []
  },
  {
   "cell_type": "code",
   "execution_count": null,
   "metadata": {},
   "outputs": [],
   "source": []
  },
  {
   "cell_type": "code",
   "execution_count": 315,
   "metadata": {},
   "outputs": [
    {
     "name": "stdout",
     "output_type": "stream",
     "text": [
      "INFO:sim_env.dispatcher:Successfully registered job with JobID 0 and name J_gen_0\n",
      "INFO:sim_env.dispatcher:Successfully registered operation with OpID 0 and name O_gen_0\n",
      "--------------- DEBUG: call before hold(0) at 0.0\n",
      "--------------- DEBUG: call after hold(0) at 0.0\n",
      "INFO:sim_env.dispatcher:[DISPATCHER: Dispatcher(env: base)] REQUEST TO DISPATCHER FOR ALLOCATION\n",
      "DEBUG:sim_env.dispatcher:[DISPATCHER: Dispatcher(env: base)] Next operation Operation(ProcTime: 6:00:00, ExecutionSystemID: 1, SGI: 1)\n",
      "DEBUG:sim_env.dispatcher:[DISPATCHER: Dispatcher(env: base)] Available stations at 0.0 are [System (type: Resource, custom_id: 0, name: Machine_env_3), System (type: Resource, custom_id: 1, name: Machine_env_5)]\n",
      "DEBUG:sim_env.dispatcher:[DISPATCHER: Dispatcher(env: base)] WIP LOAD TIME of target_station=System (type: Resource, custom_id: 0, name: Machine_env_3) is 0:00:00\n",
      "DEBUG:sim_env.dispatcher:[DISPATCHER: Dispatcher(env: base)] Next operation is Operation(ProcTime: 6:00:00, ExecutionSystemID: 1, SGI: 1) with machine group (machine) System (type: Resource, custom_id: 0, name: Machine_env_3)\n",
      "INFO:sim_env.dispatcher:[DISPATCHER: Dispatcher(env: base)] REQUEST TO DISPATCHER FOR SEQUENCING\n",
      "INFO:sim_env.dispatcher:Successfully registered job with JobID 1 and name J_gen_1\n",
      "INFO:sim_env.dispatcher:Successfully registered operation with OpID 1 and name O_gen_1\n",
      "--------------- DEBUG: call before hold(0) at 7200.0\n",
      "--------------- DEBUG: call after hold(0) at 7200.0\n",
      "INFO:sim_env.dispatcher:[DISPATCHER: Dispatcher(env: base)] REQUEST TO DISPATCHER FOR ALLOCATION\n",
      "DEBUG:sim_env.dispatcher:[DISPATCHER: Dispatcher(env: base)] Next operation Operation(ProcTime: 9:00:00, ExecutionSystemID: 1, SGI: 1)\n",
      "DEBUG:sim_env.dispatcher:[DISPATCHER: Dispatcher(env: base)] Available stations at 7200.0 are [System (type: Resource, custom_id: 1, name: Machine_env_5)]\n",
      "DEBUG:sim_env.dispatcher:[DISPATCHER: Dispatcher(env: base)] WIP LOAD TIME of target_station=System (type: Resource, custom_id: 1, name: Machine_env_5) is 0:00:00\n",
      "DEBUG:sim_env.dispatcher:[DISPATCHER: Dispatcher(env: base)] Next operation is Operation(ProcTime: 9:00:00, ExecutionSystemID: 1, SGI: 1) with machine group (machine) System (type: Resource, custom_id: 1, name: Machine_env_5)\n",
      "INFO:sim_env.dispatcher:[DISPATCHER: Dispatcher(env: base)] REQUEST TO DISPATCHER FOR SEQUENCING\n",
      "INFO:sim_env.dispatcher:Successfully registered job with JobID 2 and name J_gen_2\n",
      "INFO:sim_env.dispatcher:Successfully registered operation with OpID 2 and name O_gen_2\n",
      "--------------- DEBUG: call before hold(0) at 14400.0\n",
      "--------------- DEBUG: call after hold(0) at 14400.0\n",
      "INFO:sim_env.dispatcher:[DISPATCHER: Dispatcher(env: base)] REQUEST TO DISPATCHER FOR ALLOCATION\n",
      "DEBUG:sim_env.dispatcher:[DISPATCHER: Dispatcher(env: base)] Next operation Operation(ProcTime: 7:00:00, ExecutionSystemID: 1, SGI: 2)\n",
      "DEBUG:sim_env.dispatcher:[DISPATCHER: Dispatcher(env: base)] Available stations at 14400.0 are [System (type: Resource, custom_id: 2, name: Machine_env_7)]\n",
      "DEBUG:sim_env.dispatcher:[DISPATCHER: Dispatcher(env: base)] WIP LOAD TIME of target_station=System (type: Resource, custom_id: 2, name: Machine_env_7) is 0:00:00\n",
      "DEBUG:sim_env.dispatcher:[DISPATCHER: Dispatcher(env: base)] Next operation is Operation(ProcTime: 7:00:00, ExecutionSystemID: 1, SGI: 2) with machine group (machine) System (type: Resource, custom_id: 2, name: Machine_env_7)\n",
      "INFO:sim_env.dispatcher:[DISPATCHER: Dispatcher(env: base)] REQUEST TO DISPATCHER FOR SEQUENCING\n",
      "INFO:sim_env.dispatcher:Successfully registered job with JobID 3 and name J_gen_3\n",
      "INFO:sim_env.dispatcher:Successfully registered operation with OpID 3 and name O_gen_3\n",
      "--------------- DEBUG: call before hold(0) at 21600.0\n",
      "--------------- DEBUG: call after hold(0) at 21600.0\n",
      "INFO:sim_env.dispatcher:[DISPATCHER: Dispatcher(env: base)] REQUEST TO DISPATCHER FOR ALLOCATION\n",
      "DEBUG:sim_env.dispatcher:[DISPATCHER: Dispatcher(env: base)] Next operation Operation(ProcTime: 5:00:00, ExecutionSystemID: 1, SGI: 1)\n",
      "DEBUG:sim_env.dispatcher:[DISPATCHER: Dispatcher(env: base)] Available stations at 21600.0 are (System (type: Resource, custom_id: 0, name: Machine_env_3), System (type: Resource, custom_id: 1, name: Machine_env_5))\n",
      "DEBUG:sim_env.dispatcher:[DISPATCHER: Dispatcher(env: base)] WIP LOAD TIME of target_station=System (type: Resource, custom_id: 0, name: Machine_env_3) is 7:00:00\n",
      "DEBUG:sim_env.dispatcher:[DISPATCHER: Dispatcher(env: base)] Next operation is Operation(ProcTime: 5:00:00, ExecutionSystemID: 1, SGI: 1) with machine group (machine) System (type: Resource, custom_id: 0, name: Machine_env_3)\n",
      "DEBUG:sim_env.dispatcher:Update databases for OP Operation(ProcTime: 6:00:00, ExecutionSystemID: 1, SGI: 1) ID 0 with [(datetime.datetime(2024, 3, 15, 22, 23, 44, tzinfo=datetime.timezone.utc), datetime.timedelta(seconds=25200))]\n",
      "--------------- DEBUG: call before hold(0) at 25200.0\n",
      "--------------- DEBUG: call after hold(0) at 25200.0\n",
      "INFO:sim_env.dispatcher:[DISPATCHER: Dispatcher(env: base)] REQUEST TO DISPATCHER FOR ALLOCATION\n",
      "DEBUG:sim_env.dispatcher:[DISPATCHER: Dispatcher(env: base)] Next operation is None with machine group (machine) System (type: Resource, custom_id: sink, name: Sink_env_1)\n",
      "INFO:sim_env.dispatcher:[DISPATCHER: Dispatcher(env: base)] REQUEST TO DISPATCHER FOR SEQUENCING\n",
      "INFO:sim_env.dispatcher:Successfully registered job with JobID 4 and name J_gen_4\n",
      "INFO:sim_env.dispatcher:Successfully registered operation with OpID 4 and name O_gen_4\n",
      "--------------- DEBUG: call before hold(0) at 28800.0\n",
      "--------------- DEBUG: call after hold(0) at 28800.0\n",
      "INFO:sim_env.dispatcher:[DISPATCHER: Dispatcher(env: base)] REQUEST TO DISPATCHER FOR ALLOCATION\n",
      "DEBUG:sim_env.dispatcher:[DISPATCHER: Dispatcher(env: base)] Next operation Operation(ProcTime: 9:00:00, ExecutionSystemID: 1, SGI: 1)\n",
      "DEBUG:sim_env.dispatcher:[DISPATCHER: Dispatcher(env: base)] Available stations at 28800.0 are (System (type: Resource, custom_id: 0, name: Machine_env_3), System (type: Resource, custom_id: 1, name: Machine_env_5))\n",
      "DEBUG:sim_env.dispatcher:[DISPATCHER: Dispatcher(env: base)] WIP LOAD TIME of target_station=System (type: Resource, custom_id: 0, name: Machine_env_3) is 7:00:00\n",
      "DEBUG:sim_env.dispatcher:[DISPATCHER: Dispatcher(env: base)] Next operation is Operation(ProcTime: 9:00:00, ExecutionSystemID: 1, SGI: 1) with machine group (machine) System (type: Resource, custom_id: 0, name: Machine_env_3)\n",
      "DEBUG:sim_env.dispatcher:Update databases for OP Operation(ProcTime: 5:00:00, ExecutionSystemID: 1, SGI: 1) ID 3 with [(datetime.datetime(2024, 3, 16, 5, 23, 44, tzinfo=datetime.timezone.utc), datetime.timedelta(seconds=28800))]\n",
      "--------------- DEBUG: call before hold(0) at 50400.0\n",
      "--------------- DEBUG: call after hold(0) at 50400.0\n",
      "INFO:sim_env.dispatcher:[DISPATCHER: Dispatcher(env: base)] REQUEST TO DISPATCHER FOR ALLOCATION\n",
      "DEBUG:sim_env.dispatcher:[DISPATCHER: Dispatcher(env: base)] Next operation is None with machine group (machine) System (type: Resource, custom_id: sink, name: Sink_env_1)\n",
      "INFO:sim_env.dispatcher:[DISPATCHER: Dispatcher(env: base)] REQUEST TO DISPATCHER FOR SEQUENCING\n",
      "DEBUG:sim_env.dispatcher:Update databases for OP Operation(ProcTime: 9:00:00, ExecutionSystemID: 1, SGI: 1) ID 1 with [(datetime.datetime(2024, 3, 16, 9, 23, 44, tzinfo=datetime.timezone.utc), datetime.timedelta(seconds=57600))]\n",
      "--------------- DEBUG: call before hold(0) at 64800.0\n",
      "--------------- DEBUG: call after hold(0) at 64800.0\n",
      "INFO:sim_env.dispatcher:[DISPATCHER: Dispatcher(env: base)] REQUEST TO DISPATCHER FOR ALLOCATION\n",
      "DEBUG:sim_env.dispatcher:[DISPATCHER: Dispatcher(env: base)] Next operation is None with machine group (machine) System (type: Resource, custom_id: sink, name: Sink_env_1)\n",
      "DEBUG:sim_env.dispatcher:Update databases for OP Operation(ProcTime: 7:00:00, ExecutionSystemID: 1, SGI: 2) ID 2 with [(datetime.datetime(2024, 3, 16, 10, 23, 44, tzinfo=datetime.timezone.utc), datetime.timedelta(seconds=54000))]\n",
      "--------------- DEBUG: call before hold(0) at 68400.0\n",
      "--------------- DEBUG: call after hold(0) at 68400.0\n",
      "INFO:sim_env.dispatcher:[DISPATCHER: Dispatcher(env: base)] REQUEST TO DISPATCHER FOR ALLOCATION\n",
      "DEBUG:sim_env.dispatcher:[DISPATCHER: Dispatcher(env: base)] Next operation is None with machine group (machine) System (type: Resource, custom_id: sink, name: Sink_env_1)\n",
      "DEBUG:sim_env.dispatcher:Update databases for OP Operation(ProcTime: 9:00:00, ExecutionSystemID: 1, SGI: 1) ID 4 with [(datetime.datetime(2024, 3, 16, 17, 23, 44, tzinfo=datetime.timezone.utc), datetime.timedelta(seconds=64800))]\n",
      "--------------- DEBUG: call before hold(0) at 93600.0\n",
      "--------------- DEBUG: call after hold(0) at 93600.0\n",
      "INFO:sim_env.dispatcher:[DISPATCHER: Dispatcher(env: base)] REQUEST TO DISPATCHER FOR ALLOCATION\n",
      "DEBUG:sim_env.dispatcher:[DISPATCHER: Dispatcher(env: base)] Next operation is None with machine group (machine) System (type: Resource, custom_id: sink, name: Sink_env_1)\n"
     ]
    }
   ],
   "source": [
    "env.run()"
   ]
  },
  {
   "cell_type": "code",
   "execution_count": 316,
   "metadata": {},
   "outputs": [
    {
     "name": "stdout",
     "output_type": "stream",
     "text": [
      "INFO:sim_env.infstrct:Successful finalisation of the state information for all resource objects.\n"
     ]
    }
   ],
   "source": [
    "env.finalise()"
   ]
  },
  {
   "cell_type": "code",
   "execution_count": 317,
   "metadata": {},
   "outputs": [
    {
     "data": {
      "text/html": [
       "<div>\n",
       "<style scoped>\n",
       "    .dataframe tbody tr th:only-of-type {\n",
       "        vertical-align: middle;\n",
       "    }\n",
       "\n",
       "    .dataframe tbody tr th {\n",
       "        vertical-align: top;\n",
       "    }\n",
       "\n",
       "    .dataframe thead th {\n",
       "        text-align: right;\n",
       "    }\n",
       "</style>\n",
       "<table border=\"1\" class=\"dataframe\">\n",
       "  <thead>\n",
       "    <tr style=\"text-align: right;\">\n",
       "      <th></th>\n",
       "      <th>job_id</th>\n",
       "      <th>job_name</th>\n",
       "      <th>custom_id</th>\n",
       "      <th>op</th>\n",
       "      <th>name</th>\n",
       "      <th>prio</th>\n",
       "      <th>execution_system</th>\n",
       "      <th>execution_system_custom_id</th>\n",
       "      <th>execution_system_name</th>\n",
       "      <th>execution_system_type</th>\n",
       "      <th>...</th>\n",
       "      <th>creation_date</th>\n",
       "      <th>release_date</th>\n",
       "      <th>planned_starting_date</th>\n",
       "      <th>actual_starting_date</th>\n",
       "      <th>starting_date_deviation</th>\n",
       "      <th>planned_ending_date</th>\n",
       "      <th>actual_ending_date</th>\n",
       "      <th>ending_date_deviation</th>\n",
       "      <th>lead_time</th>\n",
       "      <th>state</th>\n",
       "    </tr>\n",
       "    <tr>\n",
       "      <th>op_id</th>\n",
       "      <th></th>\n",
       "      <th></th>\n",
       "      <th></th>\n",
       "      <th></th>\n",
       "      <th></th>\n",
       "      <th></th>\n",
       "      <th></th>\n",
       "      <th></th>\n",
       "      <th></th>\n",
       "      <th></th>\n",
       "      <th></th>\n",
       "      <th></th>\n",
       "      <th></th>\n",
       "      <th></th>\n",
       "      <th></th>\n",
       "      <th></th>\n",
       "      <th></th>\n",
       "      <th></th>\n",
       "      <th></th>\n",
       "      <th></th>\n",
       "      <th></th>\n",
       "    </tr>\n",
       "  </thead>\n",
       "  <tbody>\n",
       "    <tr>\n",
       "      <th>0</th>\n",
       "      <td>0</td>\n",
       "      <td>J_gen_0</td>\n",
       "      <td>None</td>\n",
       "      <td>Operation(ProcTime: 6:00:00, ExecutionSystemID...</td>\n",
       "      <td>O_gen_0</td>\n",
       "      <td>None</td>\n",
       "      <td>{2: {2: {}, 3: {}, 4: {}, 5: {}}, 3: {6: {}, 7...</td>\n",
       "      <td>1</td>\n",
       "      <td>&lt;bound method System.name of System (type: Pro...</td>\n",
       "      <td>ProductionArea</td>\n",
       "      <td>...</td>\n",
       "      <td>2024-03-15 15:23:44+00:00</td>\n",
       "      <td>2024-03-15 15:23:44+00:00</td>\n",
       "      <td>None</td>\n",
       "      <td>2024-03-15 15:23:44+00:00</td>\n",
       "      <td>None</td>\n",
       "      <td>None</td>\n",
       "      <td>2024-03-15 22:23:44+00:00</td>\n",
       "      <td>None</td>\n",
       "      <td>7:00:00</td>\n",
       "      <td>FINISH</td>\n",
       "    </tr>\n",
       "    <tr>\n",
       "      <th>1</th>\n",
       "      <td>1</td>\n",
       "      <td>J_gen_1</td>\n",
       "      <td>None</td>\n",
       "      <td>Operation(ProcTime: 9:00:00, ExecutionSystemID...</td>\n",
       "      <td>O_gen_1</td>\n",
       "      <td>None</td>\n",
       "      <td>{2: {2: {}, 3: {}, 4: {}, 5: {}}, 3: {6: {}, 7...</td>\n",
       "      <td>1</td>\n",
       "      <td>&lt;bound method System.name of System (type: Pro...</td>\n",
       "      <td>ProductionArea</td>\n",
       "      <td>...</td>\n",
       "      <td>2024-03-15 17:23:44+00:00</td>\n",
       "      <td>2024-03-15 17:23:44+00:00</td>\n",
       "      <td>None</td>\n",
       "      <td>2024-03-15 17:23:44+00:00</td>\n",
       "      <td>None</td>\n",
       "      <td>None</td>\n",
       "      <td>2024-03-16 09:23:44+00:00</td>\n",
       "      <td>None</td>\n",
       "      <td>16:00:00</td>\n",
       "      <td>FINISH</td>\n",
       "    </tr>\n",
       "    <tr>\n",
       "      <th>2</th>\n",
       "      <td>2</td>\n",
       "      <td>J_gen_2</td>\n",
       "      <td>None</td>\n",
       "      <td>Operation(ProcTime: 7:00:00, ExecutionSystemID...</td>\n",
       "      <td>O_gen_2</td>\n",
       "      <td>None</td>\n",
       "      <td>{2: {2: {}, 3: {}, 4: {}, 5: {}}, 3: {6: {}, 7...</td>\n",
       "      <td>1</td>\n",
       "      <td>&lt;bound method System.name of System (type: Pro...</td>\n",
       "      <td>ProductionArea</td>\n",
       "      <td>...</td>\n",
       "      <td>2024-03-15 19:23:44+00:00</td>\n",
       "      <td>2024-03-15 19:23:44+00:00</td>\n",
       "      <td>None</td>\n",
       "      <td>2024-03-15 19:23:44+00:00</td>\n",
       "      <td>None</td>\n",
       "      <td>None</td>\n",
       "      <td>2024-03-16 10:23:44+00:00</td>\n",
       "      <td>None</td>\n",
       "      <td>15:00:00</td>\n",
       "      <td>FINISH</td>\n",
       "    </tr>\n",
       "    <tr>\n",
       "      <th>3</th>\n",
       "      <td>3</td>\n",
       "      <td>J_gen_3</td>\n",
       "      <td>None</td>\n",
       "      <td>Operation(ProcTime: 5:00:00, ExecutionSystemID...</td>\n",
       "      <td>O_gen_3</td>\n",
       "      <td>None</td>\n",
       "      <td>{2: {2: {}, 3: {}, 4: {}, 5: {}}, 3: {6: {}, 7...</td>\n",
       "      <td>1</td>\n",
       "      <td>&lt;bound method System.name of System (type: Pro...</td>\n",
       "      <td>ProductionArea</td>\n",
       "      <td>...</td>\n",
       "      <td>2024-03-15 21:23:44+00:00</td>\n",
       "      <td>2024-03-15 21:23:44+00:00</td>\n",
       "      <td>None</td>\n",
       "      <td>2024-03-15 22:23:44+00:00</td>\n",
       "      <td>None</td>\n",
       "      <td>None</td>\n",
       "      <td>2024-03-16 05:23:44+00:00</td>\n",
       "      <td>None</td>\n",
       "      <td>8:00:00</td>\n",
       "      <td>FINISH</td>\n",
       "    </tr>\n",
       "    <tr>\n",
       "      <th>4</th>\n",
       "      <td>4</td>\n",
       "      <td>J_gen_4</td>\n",
       "      <td>None</td>\n",
       "      <td>Operation(ProcTime: 9:00:00, ExecutionSystemID...</td>\n",
       "      <td>O_gen_4</td>\n",
       "      <td>None</td>\n",
       "      <td>{2: {2: {}, 3: {}, 4: {}, 5: {}}, 3: {6: {}, 7...</td>\n",
       "      <td>1</td>\n",
       "      <td>&lt;bound method System.name of System (type: Pro...</td>\n",
       "      <td>ProductionArea</td>\n",
       "      <td>...</td>\n",
       "      <td>2024-03-15 23:23:44+00:00</td>\n",
       "      <td>2024-03-15 23:23:44+00:00</td>\n",
       "      <td>None</td>\n",
       "      <td>2024-03-16 05:23:44+00:00</td>\n",
       "      <td>None</td>\n",
       "      <td>None</td>\n",
       "      <td>2024-03-16 17:23:44+00:00</td>\n",
       "      <td>None</td>\n",
       "      <td>18:00:00</td>\n",
       "      <td>FINISH</td>\n",
       "    </tr>\n",
       "  </tbody>\n",
       "</table>\n",
       "<p>5 rows × 25 columns</p>\n",
       "</div>"
      ],
      "text/plain": [
       "       job_id job_name custom_id   \n",
       "op_id                              \n",
       "0           0  J_gen_0      None  \\\n",
       "1           1  J_gen_1      None   \n",
       "2           2  J_gen_2      None   \n",
       "3           3  J_gen_3      None   \n",
       "4           4  J_gen_4      None   \n",
       "\n",
       "                                                      op     name  prio   \n",
       "op_id                                                                     \n",
       "0      Operation(ProcTime: 6:00:00, ExecutionSystemID...  O_gen_0  None  \\\n",
       "1      Operation(ProcTime: 9:00:00, ExecutionSystemID...  O_gen_1  None   \n",
       "2      Operation(ProcTime: 7:00:00, ExecutionSystemID...  O_gen_2  None   \n",
       "3      Operation(ProcTime: 5:00:00, ExecutionSystemID...  O_gen_3  None   \n",
       "4      Operation(ProcTime: 9:00:00, ExecutionSystemID...  O_gen_4  None   \n",
       "\n",
       "                                        execution_system   \n",
       "op_id                                                      \n",
       "0      {2: {2: {}, 3: {}, 4: {}, 5: {}}, 3: {6: {}, 7...  \\\n",
       "1      {2: {2: {}, 3: {}, 4: {}, 5: {}}, 3: {6: {}, 7...   \n",
       "2      {2: {2: {}, 3: {}, 4: {}, 5: {}}, 3: {6: {}, 7...   \n",
       "3      {2: {2: {}, 3: {}, 4: {}, 5: {}}, 3: {6: {}, 7...   \n",
       "4      {2: {2: {}, 3: {}, 4: {}, 5: {}}, 3: {6: {}, 7...   \n",
       "\n",
       "      execution_system_custom_id   \n",
       "op_id                              \n",
       "0                              1  \\\n",
       "1                              1   \n",
       "2                              1   \n",
       "3                              1   \n",
       "4                              1   \n",
       "\n",
       "                                   execution_system_name   \n",
       "op_id                                                      \n",
       "0      <bound method System.name of System (type: Pro...  \\\n",
       "1      <bound method System.name of System (type: Pro...   \n",
       "2      <bound method System.name of System (type: Pro...   \n",
       "3      <bound method System.name of System (type: Pro...   \n",
       "4      <bound method System.name of System (type: Pro...   \n",
       "\n",
       "      execution_system_type  ...              creation_date   \n",
       "op_id                        ...                              \n",
       "0            ProductionArea  ...  2024-03-15 15:23:44+00:00  \\\n",
       "1            ProductionArea  ...  2024-03-15 17:23:44+00:00   \n",
       "2            ProductionArea  ...  2024-03-15 19:23:44+00:00   \n",
       "3            ProductionArea  ...  2024-03-15 21:23:44+00:00   \n",
       "4            ProductionArea  ...  2024-03-15 23:23:44+00:00   \n",
       "\n",
       "                    release_date planned_starting_date   \n",
       "op_id                                                    \n",
       "0      2024-03-15 15:23:44+00:00                  None  \\\n",
       "1      2024-03-15 17:23:44+00:00                  None   \n",
       "2      2024-03-15 19:23:44+00:00                  None   \n",
       "3      2024-03-15 21:23:44+00:00                  None   \n",
       "4      2024-03-15 23:23:44+00:00                  None   \n",
       "\n",
       "            actual_starting_date starting_date_deviation planned_ending_date   \n",
       "op_id                                                                          \n",
       "0      2024-03-15 15:23:44+00:00                    None                None  \\\n",
       "1      2024-03-15 17:23:44+00:00                    None                None   \n",
       "2      2024-03-15 19:23:44+00:00                    None                None   \n",
       "3      2024-03-15 22:23:44+00:00                    None                None   \n",
       "4      2024-03-16 05:23:44+00:00                    None                None   \n",
       "\n",
       "              actual_ending_date ending_date_deviation lead_time   state  \n",
       "op_id                                                                     \n",
       "0      2024-03-15 22:23:44+00:00                  None   7:00:00  FINISH  \n",
       "1      2024-03-16 09:23:44+00:00                  None  16:00:00  FINISH  \n",
       "2      2024-03-16 10:23:44+00:00                  None  15:00:00  FINISH  \n",
       "3      2024-03-16 05:23:44+00:00                  None   8:00:00  FINISH  \n",
       "4      2024-03-16 17:23:44+00:00                  None  18:00:00  FINISH  \n",
       "\n",
       "[5 rows x 25 columns]"
      ]
     },
     "execution_count": 317,
     "metadata": {},
     "output_type": "execute_result"
    }
   ],
   "source": [
    "dispatcher.op_db.head()"
   ]
  },
  {
   "cell_type": "code",
   "execution_count": 318,
   "metadata": {},
   "outputs": [
    {
     "data": {
      "text/html": [
       "<div>\n",
       "<style scoped>\n",
       "    .dataframe tbody tr th:only-of-type {\n",
       "        vertical-align: middle;\n",
       "    }\n",
       "\n",
       "    .dataframe tbody tr th {\n",
       "        vertical-align: top;\n",
       "    }\n",
       "\n",
       "    .dataframe thead th {\n",
       "        text-align: right;\n",
       "    }\n",
       "</style>\n",
       "<table border=\"1\" class=\"dataframe\">\n",
       "  <thead>\n",
       "    <tr style=\"text-align: right;\">\n",
       "      <th></th>\n",
       "      <th>custom_id</th>\n",
       "      <th>job</th>\n",
       "      <th>name</th>\n",
       "      <th>job_type</th>\n",
       "      <th>prio</th>\n",
       "      <th>total_proc_time</th>\n",
       "      <th>creation_date</th>\n",
       "      <th>release_date</th>\n",
       "      <th>planned_starting_date</th>\n",
       "      <th>actual_starting_date</th>\n",
       "      <th>starting_date_deviation</th>\n",
       "      <th>planned_ending_date</th>\n",
       "      <th>actual_ending_date</th>\n",
       "      <th>ending_date_deviation</th>\n",
       "      <th>lead_time</th>\n",
       "      <th>state</th>\n",
       "    </tr>\n",
       "    <tr>\n",
       "      <th>job_id</th>\n",
       "      <th></th>\n",
       "      <th></th>\n",
       "      <th></th>\n",
       "      <th></th>\n",
       "      <th></th>\n",
       "      <th></th>\n",
       "      <th></th>\n",
       "      <th></th>\n",
       "      <th></th>\n",
       "      <th></th>\n",
       "      <th></th>\n",
       "      <th></th>\n",
       "      <th></th>\n",
       "      <th></th>\n",
       "      <th></th>\n",
       "      <th></th>\n",
       "    </tr>\n",
       "  </thead>\n",
       "  <tbody>\n",
       "    <tr>\n",
       "      <th>0</th>\n",
       "      <td>None</td>\n",
       "      <td>Job (J_gen_0)</td>\n",
       "      <td>J_gen_0</td>\n",
       "      <td>Job</td>\n",
       "      <td>1</td>\n",
       "      <td>0 days 06:00:00</td>\n",
       "      <td>2024-03-15 15:23:44+00:00</td>\n",
       "      <td>2024-03-15 15:23:44+00:00</td>\n",
       "      <td>2023-11-20 06:00:00+00:00</td>\n",
       "      <td>2024-03-15 15:23:44+00:00</td>\n",
       "      <td>116 days, 9:23:44</td>\n",
       "      <td>2023-12-01 10:00:00+00:00</td>\n",
       "      <td>2024-03-15 22:23:44+00:00</td>\n",
       "      <td>105 days, 12:23:44</td>\n",
       "      <td>7:00:00</td>\n",
       "      <td>FINISH</td>\n",
       "    </tr>\n",
       "    <tr>\n",
       "      <th>1</th>\n",
       "      <td>None</td>\n",
       "      <td>Job (J_gen_1)</td>\n",
       "      <td>J_gen_1</td>\n",
       "      <td>Job</td>\n",
       "      <td>8</td>\n",
       "      <td>0 days 09:00:00</td>\n",
       "      <td>2024-03-15 17:23:44+00:00</td>\n",
       "      <td>2024-03-15 17:23:44+00:00</td>\n",
       "      <td>2023-11-20 06:00:00+00:00</td>\n",
       "      <td>2024-03-15 17:23:44+00:00</td>\n",
       "      <td>116 days, 11:23:44</td>\n",
       "      <td>2023-12-01 10:00:00+00:00</td>\n",
       "      <td>2024-03-16 09:23:44+00:00</td>\n",
       "      <td>105 days, 23:23:44</td>\n",
       "      <td>16:00:00</td>\n",
       "      <td>FINISH</td>\n",
       "    </tr>\n",
       "    <tr>\n",
       "      <th>2</th>\n",
       "      <td>None</td>\n",
       "      <td>Job (J_gen_2)</td>\n",
       "      <td>J_gen_2</td>\n",
       "      <td>Job</td>\n",
       "      <td>5</td>\n",
       "      <td>0 days 07:00:00</td>\n",
       "      <td>2024-03-15 19:23:44+00:00</td>\n",
       "      <td>2024-03-15 19:23:44+00:00</td>\n",
       "      <td>2023-11-20 06:00:00+00:00</td>\n",
       "      <td>2024-03-15 19:23:44+00:00</td>\n",
       "      <td>116 days, 13:23:44</td>\n",
       "      <td>2023-12-01 10:00:00+00:00</td>\n",
       "      <td>2024-03-16 10:23:44+00:00</td>\n",
       "      <td>106 days, 0:23:44</td>\n",
       "      <td>15:00:00</td>\n",
       "      <td>FINISH</td>\n",
       "    </tr>\n",
       "    <tr>\n",
       "      <th>3</th>\n",
       "      <td>None</td>\n",
       "      <td>Job (J_gen_3)</td>\n",
       "      <td>J_gen_3</td>\n",
       "      <td>Job</td>\n",
       "      <td>9</td>\n",
       "      <td>0 days 05:00:00</td>\n",
       "      <td>2024-03-15 21:23:44+00:00</td>\n",
       "      <td>2024-03-15 21:23:44+00:00</td>\n",
       "      <td>2023-11-20 06:00:00+00:00</td>\n",
       "      <td>2024-03-15 22:23:44+00:00</td>\n",
       "      <td>116 days, 16:23:44</td>\n",
       "      <td>2023-12-01 10:00:00+00:00</td>\n",
       "      <td>2024-03-16 05:23:44+00:00</td>\n",
       "      <td>105 days, 19:23:44</td>\n",
       "      <td>8:00:00</td>\n",
       "      <td>FINISH</td>\n",
       "    </tr>\n",
       "    <tr>\n",
       "      <th>4</th>\n",
       "      <td>None</td>\n",
       "      <td>Job (J_gen_4)</td>\n",
       "      <td>J_gen_4</td>\n",
       "      <td>Job</td>\n",
       "      <td>12</td>\n",
       "      <td>0 days 09:00:00</td>\n",
       "      <td>2024-03-15 23:23:44+00:00</td>\n",
       "      <td>2024-03-15 23:23:44+00:00</td>\n",
       "      <td>2023-11-20 06:00:00+00:00</td>\n",
       "      <td>2024-03-16 05:23:44+00:00</td>\n",
       "      <td>116 days, 23:23:44</td>\n",
       "      <td>2023-12-01 10:00:00+00:00</td>\n",
       "      <td>2024-03-16 17:23:44+00:00</td>\n",
       "      <td>106 days, 7:23:44</td>\n",
       "      <td>18:00:00</td>\n",
       "      <td>FINISH</td>\n",
       "    </tr>\n",
       "  </tbody>\n",
       "</table>\n",
       "</div>"
      ],
      "text/plain": [
       "       custom_id            job     name job_type prio  total_proc_time   \n",
       "job_id                                                                    \n",
       "0           None  Job (J_gen_0)  J_gen_0      Job    1  0 days 06:00:00  \\\n",
       "1           None  Job (J_gen_1)  J_gen_1      Job    8  0 days 09:00:00   \n",
       "2           None  Job (J_gen_2)  J_gen_2      Job    5  0 days 07:00:00   \n",
       "3           None  Job (J_gen_3)  J_gen_3      Job    9  0 days 05:00:00   \n",
       "4           None  Job (J_gen_4)  J_gen_4      Job   12  0 days 09:00:00   \n",
       "\n",
       "                    creation_date               release_date   \n",
       "job_id                                                         \n",
       "0       2024-03-15 15:23:44+00:00  2024-03-15 15:23:44+00:00  \\\n",
       "1       2024-03-15 17:23:44+00:00  2024-03-15 17:23:44+00:00   \n",
       "2       2024-03-15 19:23:44+00:00  2024-03-15 19:23:44+00:00   \n",
       "3       2024-03-15 21:23:44+00:00  2024-03-15 21:23:44+00:00   \n",
       "4       2024-03-15 23:23:44+00:00  2024-03-15 23:23:44+00:00   \n",
       "\n",
       "            planned_starting_date       actual_starting_date   \n",
       "job_id                                                         \n",
       "0       2023-11-20 06:00:00+00:00  2024-03-15 15:23:44+00:00  \\\n",
       "1       2023-11-20 06:00:00+00:00  2024-03-15 17:23:44+00:00   \n",
       "2       2023-11-20 06:00:00+00:00  2024-03-15 19:23:44+00:00   \n",
       "3       2023-11-20 06:00:00+00:00  2024-03-15 22:23:44+00:00   \n",
       "4       2023-11-20 06:00:00+00:00  2024-03-16 05:23:44+00:00   \n",
       "\n",
       "       starting_date_deviation        planned_ending_date   \n",
       "job_id                                                      \n",
       "0            116 days, 9:23:44  2023-12-01 10:00:00+00:00  \\\n",
       "1           116 days, 11:23:44  2023-12-01 10:00:00+00:00   \n",
       "2           116 days, 13:23:44  2023-12-01 10:00:00+00:00   \n",
       "3           116 days, 16:23:44  2023-12-01 10:00:00+00:00   \n",
       "4           116 days, 23:23:44  2023-12-01 10:00:00+00:00   \n",
       "\n",
       "               actual_ending_date ending_date_deviation lead_time   state  \n",
       "job_id                                                                     \n",
       "0       2024-03-15 22:23:44+00:00    105 days, 12:23:44   7:00:00  FINISH  \n",
       "1       2024-03-16 09:23:44+00:00    105 days, 23:23:44  16:00:00  FINISH  \n",
       "2       2024-03-16 10:23:44+00:00     106 days, 0:23:44  15:00:00  FINISH  \n",
       "3       2024-03-16 05:23:44+00:00    105 days, 19:23:44   8:00:00  FINISH  \n",
       "4       2024-03-16 17:23:44+00:00     106 days, 7:23:44  18:00:00  FINISH  "
      ]
     },
     "execution_count": 318,
     "metadata": {},
     "output_type": "execute_result"
    }
   ],
   "source": [
    "dispatcher.job_db"
   ]
  },
  {
   "cell_type": "code",
   "execution_count": null,
   "metadata": {},
   "outputs": [],
   "source": []
  },
  {
   "cell_type": "code",
   "execution_count": 321,
   "metadata": {},
   "outputs": [
    {
     "data": {
      "application/vnd.plotly.v1+json": {
       "config": {
        "plotlyServerURL": "https://plot.ly"
       },
       "data": [
        {
         "alignmentgroup": "True",
         "base": [
          "2024-03-15T16:23:44+01:00"
         ],
         "customdata": [
          [
           "J_gen_0",
           1,
           null,
           null,
           null,
           "P0DT6H0M0S",
           "P0DT1H0M0S",
           "P0DT7H0M0S"
          ]
         ],
         "hovertemplate": "<b>%{hovertext}</b><br><br>actual_starting_date=%{base}<br>actual_ending_date=%{x}<br>target_station_custom_id=%{y}<br>execution_system_custom_id=%{customdata[1]}<br>prio=%{customdata[2]}<br>planned_starting_date=%{customdata[3]}<br>planned_ending_date=%{customdata[4]}<br>proc_time=%{customdata[5]}<br>setup_time=%{customdata[6]}<br>order_time=%{customdata[7]}<extra></extra>",
         "hovertext": [
          "J_gen_0"
         ],
         "legendgroup": "J_gen_0",
         "marker": {
          "color": "#636efa",
          "pattern": {
           "shape": ""
          }
         },
         "name": "J_gen_0",
         "offsetgroup": "J_gen_0",
         "orientation": "h",
         "showlegend": true,
         "textposition": "auto",
         "type": "bar",
         "x": [
          25200000
         ],
         "xaxis": "x",
         "y": [
          0
         ],
         "yaxis": "y"
        },
        {
         "alignmentgroup": "True",
         "base": [
          "2024-03-15T18:23:44+01:00"
         ],
         "customdata": [
          [
           "J_gen_1",
           1,
           null,
           null,
           null,
           "P0DT9H0M0S",
           "P0DT7H0M0S",
           "P0DT16H0M0S"
          ]
         ],
         "hovertemplate": "<b>%{hovertext}</b><br><br>actual_starting_date=%{base}<br>actual_ending_date=%{x}<br>target_station_custom_id=%{y}<br>execution_system_custom_id=%{customdata[1]}<br>prio=%{customdata[2]}<br>planned_starting_date=%{customdata[3]}<br>planned_ending_date=%{customdata[4]}<br>proc_time=%{customdata[5]}<br>setup_time=%{customdata[6]}<br>order_time=%{customdata[7]}<extra></extra>",
         "hovertext": [
          "J_gen_1"
         ],
         "legendgroup": "J_gen_1",
         "marker": {
          "color": "#EF553B",
          "pattern": {
           "shape": ""
          }
         },
         "name": "J_gen_1",
         "offsetgroup": "J_gen_1",
         "orientation": "h",
         "showlegend": true,
         "textposition": "auto",
         "type": "bar",
         "x": [
          57600000
         ],
         "xaxis": "x",
         "y": [
          1
         ],
         "yaxis": "y"
        },
        {
         "alignmentgroup": "True",
         "base": [
          "2024-03-15T20:23:44+01:00"
         ],
         "customdata": [
          [
           "J_gen_2",
           1,
           null,
           null,
           null,
           "P0DT7H0M0S",
           "P0DT8H0M0S",
           "P0DT15H0M0S"
          ]
         ],
         "hovertemplate": "<b>%{hovertext}</b><br><br>actual_starting_date=%{base}<br>actual_ending_date=%{x}<br>target_station_custom_id=%{y}<br>execution_system_custom_id=%{customdata[1]}<br>prio=%{customdata[2]}<br>planned_starting_date=%{customdata[3]}<br>planned_ending_date=%{customdata[4]}<br>proc_time=%{customdata[5]}<br>setup_time=%{customdata[6]}<br>order_time=%{customdata[7]}<extra></extra>",
         "hovertext": [
          "J_gen_2"
         ],
         "legendgroup": "J_gen_2",
         "marker": {
          "color": "#00cc96",
          "pattern": {
           "shape": ""
          }
         },
         "name": "J_gen_2",
         "offsetgroup": "J_gen_2",
         "orientation": "h",
         "showlegend": true,
         "textposition": "auto",
         "type": "bar",
         "x": [
          54000000
         ],
         "xaxis": "x",
         "y": [
          2
         ],
         "yaxis": "y"
        },
        {
         "alignmentgroup": "True",
         "base": [
          "2024-03-15T23:23:44+01:00"
         ],
         "customdata": [
          [
           "J_gen_3",
           1,
           null,
           null,
           null,
           "P0DT5H0M0S",
           "P0DT2H0M0S",
           "P0DT7H0M0S"
          ]
         ],
         "hovertemplate": "<b>%{hovertext}</b><br><br>actual_starting_date=%{base}<br>actual_ending_date=%{x}<br>target_station_custom_id=%{y}<br>execution_system_custom_id=%{customdata[1]}<br>prio=%{customdata[2]}<br>planned_starting_date=%{customdata[3]}<br>planned_ending_date=%{customdata[4]}<br>proc_time=%{customdata[5]}<br>setup_time=%{customdata[6]}<br>order_time=%{customdata[7]}<extra></extra>",
         "hovertext": [
          "J_gen_3"
         ],
         "legendgroup": "J_gen_3",
         "marker": {
          "color": "#ab63fa",
          "pattern": {
           "shape": ""
          }
         },
         "name": "J_gen_3",
         "offsetgroup": "J_gen_3",
         "orientation": "h",
         "showlegend": true,
         "textposition": "auto",
         "type": "bar",
         "x": [
          25200000
         ],
         "xaxis": "x",
         "y": [
          0
         ],
         "yaxis": "y"
        },
        {
         "alignmentgroup": "True",
         "base": [
          "2024-03-16T06:23:44+01:00"
         ],
         "customdata": [
          [
           "J_gen_4",
           1,
           null,
           null,
           null,
           "P0DT9H0M0S",
           "P0DT3H0M0S",
           "P0DT12H0M0S"
          ]
         ],
         "hovertemplate": "<b>%{hovertext}</b><br><br>actual_starting_date=%{base}<br>actual_ending_date=%{x}<br>target_station_custom_id=%{y}<br>execution_system_custom_id=%{customdata[1]}<br>prio=%{customdata[2]}<br>planned_starting_date=%{customdata[3]}<br>planned_ending_date=%{customdata[4]}<br>proc_time=%{customdata[5]}<br>setup_time=%{customdata[6]}<br>order_time=%{customdata[7]}<extra></extra>",
         "hovertext": [
          "J_gen_4"
         ],
         "legendgroup": "J_gen_4",
         "marker": {
          "color": "#FFA15A",
          "pattern": {
           "shape": ""
          }
         },
         "name": "J_gen_4",
         "offsetgroup": "J_gen_4",
         "orientation": "h",
         "showlegend": true,
         "textposition": "auto",
         "type": "bar",
         "x": [
          43200000
         ],
         "xaxis": "x",
         "y": [
          0
         ],
         "yaxis": "y"
        }
       ],
       "layout": {
        "barmode": "overlay",
        "legend": {
         "title": {
          "text": "job_name"
         },
         "tracegroupgap": 0
        },
        "margin": {
         "t": 60
        },
        "template": {
         "data": {
          "bar": [
           {
            "error_x": {
             "color": "#2a3f5f"
            },
            "error_y": {
             "color": "#2a3f5f"
            },
            "marker": {
             "line": {
              "color": "#E5ECF6",
              "width": 0.5
             },
             "pattern": {
              "fillmode": "overlay",
              "size": 10,
              "solidity": 0.2
             }
            },
            "type": "bar"
           }
          ],
          "barpolar": [
           {
            "marker": {
             "line": {
              "color": "#E5ECF6",
              "width": 0.5
             },
             "pattern": {
              "fillmode": "overlay",
              "size": 10,
              "solidity": 0.2
             }
            },
            "type": "barpolar"
           }
          ],
          "carpet": [
           {
            "aaxis": {
             "endlinecolor": "#2a3f5f",
             "gridcolor": "white",
             "linecolor": "white",
             "minorgridcolor": "white",
             "startlinecolor": "#2a3f5f"
            },
            "baxis": {
             "endlinecolor": "#2a3f5f",
             "gridcolor": "white",
             "linecolor": "white",
             "minorgridcolor": "white",
             "startlinecolor": "#2a3f5f"
            },
            "type": "carpet"
           }
          ],
          "choropleth": [
           {
            "colorbar": {
             "outlinewidth": 0,
             "ticks": ""
            },
            "type": "choropleth"
           }
          ],
          "contour": [
           {
            "colorbar": {
             "outlinewidth": 0,
             "ticks": ""
            },
            "colorscale": [
             [
              0,
              "#0d0887"
             ],
             [
              0.1111111111111111,
              "#46039f"
             ],
             [
              0.2222222222222222,
              "#7201a8"
             ],
             [
              0.3333333333333333,
              "#9c179e"
             ],
             [
              0.4444444444444444,
              "#bd3786"
             ],
             [
              0.5555555555555556,
              "#d8576b"
             ],
             [
              0.6666666666666666,
              "#ed7953"
             ],
             [
              0.7777777777777778,
              "#fb9f3a"
             ],
             [
              0.8888888888888888,
              "#fdca26"
             ],
             [
              1,
              "#f0f921"
             ]
            ],
            "type": "contour"
           }
          ],
          "contourcarpet": [
           {
            "colorbar": {
             "outlinewidth": 0,
             "ticks": ""
            },
            "type": "contourcarpet"
           }
          ],
          "heatmap": [
           {
            "colorbar": {
             "outlinewidth": 0,
             "ticks": ""
            },
            "colorscale": [
             [
              0,
              "#0d0887"
             ],
             [
              0.1111111111111111,
              "#46039f"
             ],
             [
              0.2222222222222222,
              "#7201a8"
             ],
             [
              0.3333333333333333,
              "#9c179e"
             ],
             [
              0.4444444444444444,
              "#bd3786"
             ],
             [
              0.5555555555555556,
              "#d8576b"
             ],
             [
              0.6666666666666666,
              "#ed7953"
             ],
             [
              0.7777777777777778,
              "#fb9f3a"
             ],
             [
              0.8888888888888888,
              "#fdca26"
             ],
             [
              1,
              "#f0f921"
             ]
            ],
            "type": "heatmap"
           }
          ],
          "heatmapgl": [
           {
            "colorbar": {
             "outlinewidth": 0,
             "ticks": ""
            },
            "colorscale": [
             [
              0,
              "#0d0887"
             ],
             [
              0.1111111111111111,
              "#46039f"
             ],
             [
              0.2222222222222222,
              "#7201a8"
             ],
             [
              0.3333333333333333,
              "#9c179e"
             ],
             [
              0.4444444444444444,
              "#bd3786"
             ],
             [
              0.5555555555555556,
              "#d8576b"
             ],
             [
              0.6666666666666666,
              "#ed7953"
             ],
             [
              0.7777777777777778,
              "#fb9f3a"
             ],
             [
              0.8888888888888888,
              "#fdca26"
             ],
             [
              1,
              "#f0f921"
             ]
            ],
            "type": "heatmapgl"
           }
          ],
          "histogram": [
           {
            "marker": {
             "pattern": {
              "fillmode": "overlay",
              "size": 10,
              "solidity": 0.2
             }
            },
            "type": "histogram"
           }
          ],
          "histogram2d": [
           {
            "colorbar": {
             "outlinewidth": 0,
             "ticks": ""
            },
            "colorscale": [
             [
              0,
              "#0d0887"
             ],
             [
              0.1111111111111111,
              "#46039f"
             ],
             [
              0.2222222222222222,
              "#7201a8"
             ],
             [
              0.3333333333333333,
              "#9c179e"
             ],
             [
              0.4444444444444444,
              "#bd3786"
             ],
             [
              0.5555555555555556,
              "#d8576b"
             ],
             [
              0.6666666666666666,
              "#ed7953"
             ],
             [
              0.7777777777777778,
              "#fb9f3a"
             ],
             [
              0.8888888888888888,
              "#fdca26"
             ],
             [
              1,
              "#f0f921"
             ]
            ],
            "type": "histogram2d"
           }
          ],
          "histogram2dcontour": [
           {
            "colorbar": {
             "outlinewidth": 0,
             "ticks": ""
            },
            "colorscale": [
             [
              0,
              "#0d0887"
             ],
             [
              0.1111111111111111,
              "#46039f"
             ],
             [
              0.2222222222222222,
              "#7201a8"
             ],
             [
              0.3333333333333333,
              "#9c179e"
             ],
             [
              0.4444444444444444,
              "#bd3786"
             ],
             [
              0.5555555555555556,
              "#d8576b"
             ],
             [
              0.6666666666666666,
              "#ed7953"
             ],
             [
              0.7777777777777778,
              "#fb9f3a"
             ],
             [
              0.8888888888888888,
              "#fdca26"
             ],
             [
              1,
              "#f0f921"
             ]
            ],
            "type": "histogram2dcontour"
           }
          ],
          "mesh3d": [
           {
            "colorbar": {
             "outlinewidth": 0,
             "ticks": ""
            },
            "type": "mesh3d"
           }
          ],
          "parcoords": [
           {
            "line": {
             "colorbar": {
              "outlinewidth": 0,
              "ticks": ""
             }
            },
            "type": "parcoords"
           }
          ],
          "pie": [
           {
            "automargin": true,
            "type": "pie"
           }
          ],
          "scatter": [
           {
            "fillpattern": {
             "fillmode": "overlay",
             "size": 10,
             "solidity": 0.2
            },
            "type": "scatter"
           }
          ],
          "scatter3d": [
           {
            "line": {
             "colorbar": {
              "outlinewidth": 0,
              "ticks": ""
             }
            },
            "marker": {
             "colorbar": {
              "outlinewidth": 0,
              "ticks": ""
             }
            },
            "type": "scatter3d"
           }
          ],
          "scattercarpet": [
           {
            "marker": {
             "colorbar": {
              "outlinewidth": 0,
              "ticks": ""
             }
            },
            "type": "scattercarpet"
           }
          ],
          "scattergeo": [
           {
            "marker": {
             "colorbar": {
              "outlinewidth": 0,
              "ticks": ""
             }
            },
            "type": "scattergeo"
           }
          ],
          "scattergl": [
           {
            "marker": {
             "colorbar": {
              "outlinewidth": 0,
              "ticks": ""
             }
            },
            "type": "scattergl"
           }
          ],
          "scattermapbox": [
           {
            "marker": {
             "colorbar": {
              "outlinewidth": 0,
              "ticks": ""
             }
            },
            "type": "scattermapbox"
           }
          ],
          "scatterpolar": [
           {
            "marker": {
             "colorbar": {
              "outlinewidth": 0,
              "ticks": ""
             }
            },
            "type": "scatterpolar"
           }
          ],
          "scatterpolargl": [
           {
            "marker": {
             "colorbar": {
              "outlinewidth": 0,
              "ticks": ""
             }
            },
            "type": "scatterpolargl"
           }
          ],
          "scatterternary": [
           {
            "marker": {
             "colorbar": {
              "outlinewidth": 0,
              "ticks": ""
             }
            },
            "type": "scatterternary"
           }
          ],
          "surface": [
           {
            "colorbar": {
             "outlinewidth": 0,
             "ticks": ""
            },
            "colorscale": [
             [
              0,
              "#0d0887"
             ],
             [
              0.1111111111111111,
              "#46039f"
             ],
             [
              0.2222222222222222,
              "#7201a8"
             ],
             [
              0.3333333333333333,
              "#9c179e"
             ],
             [
              0.4444444444444444,
              "#bd3786"
             ],
             [
              0.5555555555555556,
              "#d8576b"
             ],
             [
              0.6666666666666666,
              "#ed7953"
             ],
             [
              0.7777777777777778,
              "#fb9f3a"
             ],
             [
              0.8888888888888888,
              "#fdca26"
             ],
             [
              1,
              "#f0f921"
             ]
            ],
            "type": "surface"
           }
          ],
          "table": [
           {
            "cells": {
             "fill": {
              "color": "#EBF0F8"
             },
             "line": {
              "color": "white"
             }
            },
            "header": {
             "fill": {
              "color": "#C8D4E3"
             },
             "line": {
              "color": "white"
             }
            },
            "type": "table"
           }
          ]
         },
         "layout": {
          "annotationdefaults": {
           "arrowcolor": "#2a3f5f",
           "arrowhead": 0,
           "arrowwidth": 1
          },
          "autotypenumbers": "strict",
          "coloraxis": {
           "colorbar": {
            "outlinewidth": 0,
            "ticks": ""
           }
          },
          "colorscale": {
           "diverging": [
            [
             0,
             "#8e0152"
            ],
            [
             0.1,
             "#c51b7d"
            ],
            [
             0.2,
             "#de77ae"
            ],
            [
             0.3,
             "#f1b6da"
            ],
            [
             0.4,
             "#fde0ef"
            ],
            [
             0.5,
             "#f7f7f7"
            ],
            [
             0.6,
             "#e6f5d0"
            ],
            [
             0.7,
             "#b8e186"
            ],
            [
             0.8,
             "#7fbc41"
            ],
            [
             0.9,
             "#4d9221"
            ],
            [
             1,
             "#276419"
            ]
           ],
           "sequential": [
            [
             0,
             "#0d0887"
            ],
            [
             0.1111111111111111,
             "#46039f"
            ],
            [
             0.2222222222222222,
             "#7201a8"
            ],
            [
             0.3333333333333333,
             "#9c179e"
            ],
            [
             0.4444444444444444,
             "#bd3786"
            ],
            [
             0.5555555555555556,
             "#d8576b"
            ],
            [
             0.6666666666666666,
             "#ed7953"
            ],
            [
             0.7777777777777778,
             "#fb9f3a"
            ],
            [
             0.8888888888888888,
             "#fdca26"
            ],
            [
             1,
             "#f0f921"
            ]
           ],
           "sequentialminus": [
            [
             0,
             "#0d0887"
            ],
            [
             0.1111111111111111,
             "#46039f"
            ],
            [
             0.2222222222222222,
             "#7201a8"
            ],
            [
             0.3333333333333333,
             "#9c179e"
            ],
            [
             0.4444444444444444,
             "#bd3786"
            ],
            [
             0.5555555555555556,
             "#d8576b"
            ],
            [
             0.6666666666666666,
             "#ed7953"
            ],
            [
             0.7777777777777778,
             "#fb9f3a"
            ],
            [
             0.8888888888888888,
             "#fdca26"
            ],
            [
             1,
             "#f0f921"
            ]
           ]
          },
          "colorway": [
           "#636efa",
           "#EF553B",
           "#00cc96",
           "#ab63fa",
           "#FFA15A",
           "#19d3f3",
           "#FF6692",
           "#B6E880",
           "#FF97FF",
           "#FECB52"
          ],
          "font": {
           "color": "#2a3f5f"
          },
          "geo": {
           "bgcolor": "white",
           "lakecolor": "white",
           "landcolor": "#E5ECF6",
           "showlakes": true,
           "showland": true,
           "subunitcolor": "white"
          },
          "hoverlabel": {
           "align": "left"
          },
          "hovermode": "closest",
          "mapbox": {
           "style": "light"
          },
          "paper_bgcolor": "white",
          "plot_bgcolor": "#E5ECF6",
          "polar": {
           "angularaxis": {
            "gridcolor": "white",
            "linecolor": "white",
            "ticks": ""
           },
           "bgcolor": "#E5ECF6",
           "radialaxis": {
            "gridcolor": "white",
            "linecolor": "white",
            "ticks": ""
           }
          },
          "scene": {
           "xaxis": {
            "backgroundcolor": "#E5ECF6",
            "gridcolor": "white",
            "gridwidth": 2,
            "linecolor": "white",
            "showbackground": true,
            "ticks": "",
            "zerolinecolor": "white"
           },
           "yaxis": {
            "backgroundcolor": "#E5ECF6",
            "gridcolor": "white",
            "gridwidth": 2,
            "linecolor": "white",
            "showbackground": true,
            "ticks": "",
            "zerolinecolor": "white"
           },
           "zaxis": {
            "backgroundcolor": "#E5ECF6",
            "gridcolor": "white",
            "gridwidth": 2,
            "linecolor": "white",
            "showbackground": true,
            "ticks": "",
            "zerolinecolor": "white"
           }
          },
          "shapedefaults": {
           "line": {
            "color": "#2a3f5f"
           }
          },
          "ternary": {
           "aaxis": {
            "gridcolor": "white",
            "linecolor": "white",
            "ticks": ""
           },
           "baxis": {
            "gridcolor": "white",
            "linecolor": "white",
            "ticks": ""
           },
           "bgcolor": "#E5ECF6",
           "caxis": {
            "gridcolor": "white",
            "linecolor": "white",
            "ticks": ""
           }
          },
          "title": {
           "x": 0.05
          },
          "xaxis": {
           "automargin": true,
           "gridcolor": "white",
           "linecolor": "white",
           "ticks": "",
           "title": {
            "standoff": 15
           },
           "zerolinecolor": "white",
           "zerolinewidth": 2
          },
          "yaxis": {
           "automargin": true,
           "gridcolor": "white",
           "linecolor": "white",
           "ticks": "",
           "title": {
            "standoff": 15
           },
           "zerolinecolor": "white",
           "zerolinewidth": 2
          }
         }
        },
        "xaxis": {
         "anchor": "y",
         "domain": [
          0,
          1
         ],
         "type": "date"
        },
        "yaxis": {
         "anchor": "x",
         "autorange": "reversed",
         "domain": [
          0,
          1
         ],
         "title": {
          "text": "target_station_custom_id"
         },
         "type": "category"
        }
       }
      }
     },
     "metadata": {},
     "output_type": "display_data"
    }
   ],
   "source": [
    "fig = dispatcher.draw_gantt_chart(dates_to_local_tz=True)"
   ]
  },
  {
   "cell_type": "code",
   "execution_count": null,
   "metadata": {},
   "outputs": [],
   "source": []
  },
  {
   "cell_type": "code",
   "execution_count": null,
   "metadata": {},
   "outputs": [],
   "source": []
  },
  {
   "cell_type": "code",
   "execution_count": null,
   "metadata": {},
   "outputs": [],
   "source": []
  },
  {
   "cell_type": "markdown",
   "metadata": {},
   "source": [
    "**Datetime conversion**"
   ]
  },
  {
   "cell_type": "code",
   "execution_count": 296,
   "metadata": {},
   "outputs": [
    {
     "data": {
      "text/html": [
       "<div>\n",
       "<style scoped>\n",
       "    .dataframe tbody tr th:only-of-type {\n",
       "        vertical-align: middle;\n",
       "    }\n",
       "\n",
       "    .dataframe tbody tr th {\n",
       "        vertical-align: top;\n",
       "    }\n",
       "\n",
       "    .dataframe thead th {\n",
       "        text-align: right;\n",
       "    }\n",
       "</style>\n",
       "<table border=\"1\" class=\"dataframe\">\n",
       "  <thead>\n",
       "    <tr style=\"text-align: right;\">\n",
       "      <th></th>\n",
       "      <th>job_id</th>\n",
       "      <th>job_name</th>\n",
       "      <th>custom_id</th>\n",
       "      <th>op</th>\n",
       "      <th>name</th>\n",
       "      <th>prio</th>\n",
       "      <th>execution_system</th>\n",
       "      <th>execution_system_custom_id</th>\n",
       "      <th>execution_system_name</th>\n",
       "      <th>execution_system_type</th>\n",
       "      <th>...</th>\n",
       "      <th>creation_date</th>\n",
       "      <th>release_date</th>\n",
       "      <th>planned_starting_date</th>\n",
       "      <th>actual_starting_date</th>\n",
       "      <th>starting_date_deviation</th>\n",
       "      <th>planned_ending_date</th>\n",
       "      <th>actual_ending_date</th>\n",
       "      <th>ending_date_deviation</th>\n",
       "      <th>lead_time</th>\n",
       "      <th>state</th>\n",
       "    </tr>\n",
       "    <tr>\n",
       "      <th>op_id</th>\n",
       "      <th></th>\n",
       "      <th></th>\n",
       "      <th></th>\n",
       "      <th></th>\n",
       "      <th></th>\n",
       "      <th></th>\n",
       "      <th></th>\n",
       "      <th></th>\n",
       "      <th></th>\n",
       "      <th></th>\n",
       "      <th></th>\n",
       "      <th></th>\n",
       "      <th></th>\n",
       "      <th></th>\n",
       "      <th></th>\n",
       "      <th></th>\n",
       "      <th></th>\n",
       "      <th></th>\n",
       "      <th></th>\n",
       "      <th></th>\n",
       "      <th></th>\n",
       "    </tr>\n",
       "  </thead>\n",
       "  <tbody>\n",
       "    <tr>\n",
       "      <th>0</th>\n",
       "      <td>0</td>\n",
       "      <td>J_gen_0</td>\n",
       "      <td>None</td>\n",
       "      <td>Operation(ProcTime: 6:00:00, ExecutionSystemID...</td>\n",
       "      <td>O_gen_0</td>\n",
       "      <td>None</td>\n",
       "      <td>{2: {2: {}, 3: {}, 4: {}, 5: {}}, 3: {6: {}, 7...</td>\n",
       "      <td>1</td>\n",
       "      <td>&lt;bound method System.name of System (type: Pro...</td>\n",
       "      <td>ProductionArea</td>\n",
       "      <td>...</td>\n",
       "      <td>2024-03-15 16:21:45+01:00</td>\n",
       "      <td>2024-03-15 16:21:45+01:00</td>\n",
       "      <td>None</td>\n",
       "      <td>2024-03-15 16:21:45+01:00</td>\n",
       "      <td>None</td>\n",
       "      <td>None</td>\n",
       "      <td>2024-03-15 23:21:45+01:00</td>\n",
       "      <td>None</td>\n",
       "      <td>7:00:00</td>\n",
       "      <td>FINISH</td>\n",
       "    </tr>\n",
       "    <tr>\n",
       "      <th>1</th>\n",
       "      <td>1</td>\n",
       "      <td>J_gen_1</td>\n",
       "      <td>None</td>\n",
       "      <td>Operation(ProcTime: 9:00:00, ExecutionSystemID...</td>\n",
       "      <td>O_gen_1</td>\n",
       "      <td>None</td>\n",
       "      <td>{2: {2: {}, 3: {}, 4: {}, 5: {}}, 3: {6: {}, 7...</td>\n",
       "      <td>1</td>\n",
       "      <td>&lt;bound method System.name of System (type: Pro...</td>\n",
       "      <td>ProductionArea</td>\n",
       "      <td>...</td>\n",
       "      <td>2024-03-15 18:21:45+01:00</td>\n",
       "      <td>2024-03-15 18:21:45+01:00</td>\n",
       "      <td>None</td>\n",
       "      <td>2024-03-15 18:21:45+01:00</td>\n",
       "      <td>None</td>\n",
       "      <td>None</td>\n",
       "      <td>2024-03-16 10:21:45+01:00</td>\n",
       "      <td>None</td>\n",
       "      <td>16:00:00</td>\n",
       "      <td>FINISH</td>\n",
       "    </tr>\n",
       "    <tr>\n",
       "      <th>2</th>\n",
       "      <td>2</td>\n",
       "      <td>J_gen_2</td>\n",
       "      <td>None</td>\n",
       "      <td>Operation(ProcTime: 7:00:00, ExecutionSystemID...</td>\n",
       "      <td>O_gen_2</td>\n",
       "      <td>None</td>\n",
       "      <td>{2: {2: {}, 3: {}, 4: {}, 5: {}}, 3: {6: {}, 7...</td>\n",
       "      <td>1</td>\n",
       "      <td>&lt;bound method System.name of System (type: Pro...</td>\n",
       "      <td>ProductionArea</td>\n",
       "      <td>...</td>\n",
       "      <td>2024-03-15 20:21:45+01:00</td>\n",
       "      <td>2024-03-15 20:21:45+01:00</td>\n",
       "      <td>None</td>\n",
       "      <td>2024-03-15 20:21:45+01:00</td>\n",
       "      <td>None</td>\n",
       "      <td>None</td>\n",
       "      <td>2024-03-16 11:21:45+01:00</td>\n",
       "      <td>None</td>\n",
       "      <td>15:00:00</td>\n",
       "      <td>FINISH</td>\n",
       "    </tr>\n",
       "    <tr>\n",
       "      <th>3</th>\n",
       "      <td>3</td>\n",
       "      <td>J_gen_3</td>\n",
       "      <td>None</td>\n",
       "      <td>Operation(ProcTime: 5:00:00, ExecutionSystemID...</td>\n",
       "      <td>O_gen_3</td>\n",
       "      <td>None</td>\n",
       "      <td>{2: {2: {}, 3: {}, 4: {}, 5: {}}, 3: {6: {}, 7...</td>\n",
       "      <td>1</td>\n",
       "      <td>&lt;bound method System.name of System (type: Pro...</td>\n",
       "      <td>ProductionArea</td>\n",
       "      <td>...</td>\n",
       "      <td>2024-03-15 22:21:45+01:00</td>\n",
       "      <td>2024-03-15 22:21:45+01:00</td>\n",
       "      <td>None</td>\n",
       "      <td>2024-03-15 23:21:45+01:00</td>\n",
       "      <td>None</td>\n",
       "      <td>None</td>\n",
       "      <td>2024-03-16 06:21:45+01:00</td>\n",
       "      <td>None</td>\n",
       "      <td>8:00:00</td>\n",
       "      <td>FINISH</td>\n",
       "    </tr>\n",
       "    <tr>\n",
       "      <th>4</th>\n",
       "      <td>4</td>\n",
       "      <td>J_gen_4</td>\n",
       "      <td>None</td>\n",
       "      <td>Operation(ProcTime: 9:00:00, ExecutionSystemID...</td>\n",
       "      <td>O_gen_4</td>\n",
       "      <td>None</td>\n",
       "      <td>{2: {2: {}, 3: {}, 4: {}, 5: {}}, 3: {6: {}, 7...</td>\n",
       "      <td>1</td>\n",
       "      <td>&lt;bound method System.name of System (type: Pro...</td>\n",
       "      <td>ProductionArea</td>\n",
       "      <td>...</td>\n",
       "      <td>2024-03-16 00:21:45+01:00</td>\n",
       "      <td>2024-03-16 00:21:45+01:00</td>\n",
       "      <td>None</td>\n",
       "      <td>2024-03-16 06:21:45+01:00</td>\n",
       "      <td>None</td>\n",
       "      <td>None</td>\n",
       "      <td>2024-03-16 18:21:45+01:00</td>\n",
       "      <td>None</td>\n",
       "      <td>18:00:00</td>\n",
       "      <td>FINISH</td>\n",
       "    </tr>\n",
       "  </tbody>\n",
       "</table>\n",
       "<p>5 rows × 25 columns</p>\n",
       "</div>"
      ],
      "text/plain": [
       "       job_id job_name custom_id   \n",
       "op_id                              \n",
       "0           0  J_gen_0      None  \\\n",
       "1           1  J_gen_1      None   \n",
       "2           2  J_gen_2      None   \n",
       "3           3  J_gen_3      None   \n",
       "4           4  J_gen_4      None   \n",
       "\n",
       "                                                      op     name  prio   \n",
       "op_id                                                                     \n",
       "0      Operation(ProcTime: 6:00:00, ExecutionSystemID...  O_gen_0  None  \\\n",
       "1      Operation(ProcTime: 9:00:00, ExecutionSystemID...  O_gen_1  None   \n",
       "2      Operation(ProcTime: 7:00:00, ExecutionSystemID...  O_gen_2  None   \n",
       "3      Operation(ProcTime: 5:00:00, ExecutionSystemID...  O_gen_3  None   \n",
       "4      Operation(ProcTime: 9:00:00, ExecutionSystemID...  O_gen_4  None   \n",
       "\n",
       "                                        execution_system   \n",
       "op_id                                                      \n",
       "0      {2: {2: {}, 3: {}, 4: {}, 5: {}}, 3: {6: {}, 7...  \\\n",
       "1      {2: {2: {}, 3: {}, 4: {}, 5: {}}, 3: {6: {}, 7...   \n",
       "2      {2: {2: {}, 3: {}, 4: {}, 5: {}}, 3: {6: {}, 7...   \n",
       "3      {2: {2: {}, 3: {}, 4: {}, 5: {}}, 3: {6: {}, 7...   \n",
       "4      {2: {2: {}, 3: {}, 4: {}, 5: {}}, 3: {6: {}, 7...   \n",
       "\n",
       "      execution_system_custom_id   \n",
       "op_id                              \n",
       "0                              1  \\\n",
       "1                              1   \n",
       "2                              1   \n",
       "3                              1   \n",
       "4                              1   \n",
       "\n",
       "                                   execution_system_name   \n",
       "op_id                                                      \n",
       "0      <bound method System.name of System (type: Pro...  \\\n",
       "1      <bound method System.name of System (type: Pro...   \n",
       "2      <bound method System.name of System (type: Pro...   \n",
       "3      <bound method System.name of System (type: Pro...   \n",
       "4      <bound method System.name of System (type: Pro...   \n",
       "\n",
       "      execution_system_type  ...             creation_date   \n",
       "op_id                        ...                             \n",
       "0            ProductionArea  ... 2024-03-15 16:21:45+01:00  \\\n",
       "1            ProductionArea  ... 2024-03-15 18:21:45+01:00   \n",
       "2            ProductionArea  ... 2024-03-15 20:21:45+01:00   \n",
       "3            ProductionArea  ... 2024-03-15 22:21:45+01:00   \n",
       "4            ProductionArea  ... 2024-03-16 00:21:45+01:00   \n",
       "\n",
       "                   release_date planned_starting_date   \n",
       "op_id                                                   \n",
       "0     2024-03-15 16:21:45+01:00                  None  \\\n",
       "1     2024-03-15 18:21:45+01:00                  None   \n",
       "2     2024-03-15 20:21:45+01:00                  None   \n",
       "3     2024-03-15 22:21:45+01:00                  None   \n",
       "4     2024-03-16 00:21:45+01:00                  None   \n",
       "\n",
       "           actual_starting_date starting_date_deviation planned_ending_date   \n",
       "op_id                                                                         \n",
       "0     2024-03-15 16:21:45+01:00                    None                None  \\\n",
       "1     2024-03-15 18:21:45+01:00                    None                None   \n",
       "2     2024-03-15 20:21:45+01:00                    None                None   \n",
       "3     2024-03-15 23:21:45+01:00                    None                None   \n",
       "4     2024-03-16 06:21:45+01:00                    None                None   \n",
       "\n",
       "             actual_ending_date ending_date_deviation lead_time   state  \n",
       "op_id                                                                    \n",
       "0     2024-03-15 23:21:45+01:00                  None   7:00:00  FINISH  \n",
       "1     2024-03-16 10:21:45+01:00                  None  16:00:00  FINISH  \n",
       "2     2024-03-16 11:21:45+01:00                  None  15:00:00  FINISH  \n",
       "3     2024-03-16 06:21:45+01:00                  None   8:00:00  FINISH  \n",
       "4     2024-03-16 18:21:45+01:00                  None  18:00:00  FINISH  \n",
       "\n",
       "[5 rows x 25 columns]"
      ]
     },
     "execution_count": 296,
     "metadata": {},
     "output_type": "execute_result"
    }
   ],
   "source": [
    "dispatcher.op_db_date_adjusted"
   ]
  },
  {
   "cell_type": "code",
   "execution_count": 297,
   "metadata": {},
   "outputs": [
    {
     "data": {
      "text/html": [
       "<div>\n",
       "<style scoped>\n",
       "    .dataframe tbody tr th:only-of-type {\n",
       "        vertical-align: middle;\n",
       "    }\n",
       "\n",
       "    .dataframe tbody tr th {\n",
       "        vertical-align: top;\n",
       "    }\n",
       "\n",
       "    .dataframe thead th {\n",
       "        text-align: right;\n",
       "    }\n",
       "</style>\n",
       "<table border=\"1\" class=\"dataframe\">\n",
       "  <thead>\n",
       "    <tr style=\"text-align: right;\">\n",
       "      <th></th>\n",
       "      <th>custom_id</th>\n",
       "      <th>job</th>\n",
       "      <th>name</th>\n",
       "      <th>job_type</th>\n",
       "      <th>prio</th>\n",
       "      <th>total_proc_time</th>\n",
       "      <th>creation_date</th>\n",
       "      <th>release_date</th>\n",
       "      <th>planned_starting_date</th>\n",
       "      <th>actual_starting_date</th>\n",
       "      <th>starting_date_deviation</th>\n",
       "      <th>planned_ending_date</th>\n",
       "      <th>actual_ending_date</th>\n",
       "      <th>ending_date_deviation</th>\n",
       "      <th>lead_time</th>\n",
       "      <th>state</th>\n",
       "    </tr>\n",
       "    <tr>\n",
       "      <th>job_id</th>\n",
       "      <th></th>\n",
       "      <th></th>\n",
       "      <th></th>\n",
       "      <th></th>\n",
       "      <th></th>\n",
       "      <th></th>\n",
       "      <th></th>\n",
       "      <th></th>\n",
       "      <th></th>\n",
       "      <th></th>\n",
       "      <th></th>\n",
       "      <th></th>\n",
       "      <th></th>\n",
       "      <th></th>\n",
       "      <th></th>\n",
       "      <th></th>\n",
       "    </tr>\n",
       "  </thead>\n",
       "  <tbody>\n",
       "    <tr>\n",
       "      <th>0</th>\n",
       "      <td>None</td>\n",
       "      <td>Job (J_gen_0)</td>\n",
       "      <td>J_gen_0</td>\n",
       "      <td>Job</td>\n",
       "      <td>1</td>\n",
       "      <td>0 days 06:00:00</td>\n",
       "      <td>2024-03-15 16:21:45+01:00</td>\n",
       "      <td>2024-03-15 16:21:45+01:00</td>\n",
       "      <td>2023-11-20 07:00:00+01:00</td>\n",
       "      <td>2024-03-15 16:21:45+01:00</td>\n",
       "      <td>116 days, 9:21:45</td>\n",
       "      <td>2023-12-01 11:00:00+01:00</td>\n",
       "      <td>2024-03-15 23:21:45+01:00</td>\n",
       "      <td>105 days, 12:21:45</td>\n",
       "      <td>7:00:00</td>\n",
       "      <td>FINISH</td>\n",
       "    </tr>\n",
       "    <tr>\n",
       "      <th>1</th>\n",
       "      <td>None</td>\n",
       "      <td>Job (J_gen_1)</td>\n",
       "      <td>J_gen_1</td>\n",
       "      <td>Job</td>\n",
       "      <td>8</td>\n",
       "      <td>0 days 09:00:00</td>\n",
       "      <td>2024-03-15 18:21:45+01:00</td>\n",
       "      <td>2024-03-15 18:21:45+01:00</td>\n",
       "      <td>2023-11-20 07:00:00+01:00</td>\n",
       "      <td>2024-03-15 18:21:45+01:00</td>\n",
       "      <td>116 days, 11:21:45</td>\n",
       "      <td>2023-12-01 11:00:00+01:00</td>\n",
       "      <td>2024-03-16 10:21:45+01:00</td>\n",
       "      <td>105 days, 23:21:45</td>\n",
       "      <td>16:00:00</td>\n",
       "      <td>FINISH</td>\n",
       "    </tr>\n",
       "    <tr>\n",
       "      <th>2</th>\n",
       "      <td>None</td>\n",
       "      <td>Job (J_gen_2)</td>\n",
       "      <td>J_gen_2</td>\n",
       "      <td>Job</td>\n",
       "      <td>5</td>\n",
       "      <td>0 days 07:00:00</td>\n",
       "      <td>2024-03-15 20:21:45+01:00</td>\n",
       "      <td>2024-03-15 20:21:45+01:00</td>\n",
       "      <td>2023-11-20 07:00:00+01:00</td>\n",
       "      <td>2024-03-15 20:21:45+01:00</td>\n",
       "      <td>116 days, 13:21:45</td>\n",
       "      <td>2023-12-01 11:00:00+01:00</td>\n",
       "      <td>2024-03-16 11:21:45+01:00</td>\n",
       "      <td>106 days, 0:21:45</td>\n",
       "      <td>15:00:00</td>\n",
       "      <td>FINISH</td>\n",
       "    </tr>\n",
       "    <tr>\n",
       "      <th>3</th>\n",
       "      <td>None</td>\n",
       "      <td>Job (J_gen_3)</td>\n",
       "      <td>J_gen_3</td>\n",
       "      <td>Job</td>\n",
       "      <td>9</td>\n",
       "      <td>0 days 05:00:00</td>\n",
       "      <td>2024-03-15 22:21:45+01:00</td>\n",
       "      <td>2024-03-15 22:21:45+01:00</td>\n",
       "      <td>2023-11-20 07:00:00+01:00</td>\n",
       "      <td>2024-03-15 23:21:45+01:00</td>\n",
       "      <td>116 days, 16:21:45</td>\n",
       "      <td>2023-12-01 11:00:00+01:00</td>\n",
       "      <td>2024-03-16 06:21:45+01:00</td>\n",
       "      <td>105 days, 19:21:45</td>\n",
       "      <td>8:00:00</td>\n",
       "      <td>FINISH</td>\n",
       "    </tr>\n",
       "    <tr>\n",
       "      <th>4</th>\n",
       "      <td>None</td>\n",
       "      <td>Job (J_gen_4)</td>\n",
       "      <td>J_gen_4</td>\n",
       "      <td>Job</td>\n",
       "      <td>12</td>\n",
       "      <td>0 days 09:00:00</td>\n",
       "      <td>2024-03-16 00:21:45+01:00</td>\n",
       "      <td>2024-03-16 00:21:45+01:00</td>\n",
       "      <td>2023-11-20 07:00:00+01:00</td>\n",
       "      <td>2024-03-16 06:21:45+01:00</td>\n",
       "      <td>116 days, 23:21:45</td>\n",
       "      <td>2023-12-01 11:00:00+01:00</td>\n",
       "      <td>2024-03-16 18:21:45+01:00</td>\n",
       "      <td>106 days, 7:21:45</td>\n",
       "      <td>18:00:00</td>\n",
       "      <td>FINISH</td>\n",
       "    </tr>\n",
       "  </tbody>\n",
       "</table>\n",
       "</div>"
      ],
      "text/plain": [
       "       custom_id            job     name job_type prio  total_proc_time   \n",
       "job_id                                                                    \n",
       "0           None  Job (J_gen_0)  J_gen_0      Job    1  0 days 06:00:00  \\\n",
       "1           None  Job (J_gen_1)  J_gen_1      Job    8  0 days 09:00:00   \n",
       "2           None  Job (J_gen_2)  J_gen_2      Job    5  0 days 07:00:00   \n",
       "3           None  Job (J_gen_3)  J_gen_3      Job    9  0 days 05:00:00   \n",
       "4           None  Job (J_gen_4)  J_gen_4      Job   12  0 days 09:00:00   \n",
       "\n",
       "                   creation_date              release_date   \n",
       "job_id                                                       \n",
       "0      2024-03-15 16:21:45+01:00 2024-03-15 16:21:45+01:00  \\\n",
       "1      2024-03-15 18:21:45+01:00 2024-03-15 18:21:45+01:00   \n",
       "2      2024-03-15 20:21:45+01:00 2024-03-15 20:21:45+01:00   \n",
       "3      2024-03-15 22:21:45+01:00 2024-03-15 22:21:45+01:00   \n",
       "4      2024-03-16 00:21:45+01:00 2024-03-16 00:21:45+01:00   \n",
       "\n",
       "           planned_starting_date      actual_starting_date   \n",
       "job_id                                                       \n",
       "0      2023-11-20 07:00:00+01:00 2024-03-15 16:21:45+01:00  \\\n",
       "1      2023-11-20 07:00:00+01:00 2024-03-15 18:21:45+01:00   \n",
       "2      2023-11-20 07:00:00+01:00 2024-03-15 20:21:45+01:00   \n",
       "3      2023-11-20 07:00:00+01:00 2024-03-15 23:21:45+01:00   \n",
       "4      2023-11-20 07:00:00+01:00 2024-03-16 06:21:45+01:00   \n",
       "\n",
       "       starting_date_deviation       planned_ending_date   \n",
       "job_id                                                     \n",
       "0            116 days, 9:21:45 2023-12-01 11:00:00+01:00  \\\n",
       "1           116 days, 11:21:45 2023-12-01 11:00:00+01:00   \n",
       "2           116 days, 13:21:45 2023-12-01 11:00:00+01:00   \n",
       "3           116 days, 16:21:45 2023-12-01 11:00:00+01:00   \n",
       "4           116 days, 23:21:45 2023-12-01 11:00:00+01:00   \n",
       "\n",
       "              actual_ending_date ending_date_deviation lead_time   state  \n",
       "job_id                                                                    \n",
       "0      2024-03-15 23:21:45+01:00    105 days, 12:21:45   7:00:00  FINISH  \n",
       "1      2024-03-16 10:21:45+01:00    105 days, 23:21:45  16:00:00  FINISH  \n",
       "2      2024-03-16 11:21:45+01:00     106 days, 0:21:45  15:00:00  FINISH  \n",
       "3      2024-03-16 06:21:45+01:00    105 days, 19:21:45   8:00:00  FINISH  \n",
       "4      2024-03-16 18:21:45+01:00     106 days, 7:21:45  18:00:00  FINISH  "
      ]
     },
     "execution_count": 297,
     "metadata": {},
     "output_type": "execute_result"
    }
   ],
   "source": [
    "dispatcher.job_db_date_adjusted"
   ]
  },
  {
   "cell_type": "code",
   "execution_count": 99,
   "metadata": {},
   "outputs": [
    {
     "data": {
      "text/html": [
       "<div>\n",
       "<style scoped>\n",
       "    .dataframe tbody tr th:only-of-type {\n",
       "        vertical-align: middle;\n",
       "    }\n",
       "\n",
       "    .dataframe tbody tr th {\n",
       "        vertical-align: top;\n",
       "    }\n",
       "\n",
       "    .dataframe thead th {\n",
       "        text-align: right;\n",
       "    }\n",
       "</style>\n",
       "<table border=\"1\" class=\"dataframe\">\n",
       "  <thead>\n",
       "    <tr style=\"text-align: right;\">\n",
       "      <th></th>\n",
       "      <th>job_id</th>\n",
       "      <th>job_name</th>\n",
       "      <th>custom_id</th>\n",
       "      <th>op</th>\n",
       "      <th>name</th>\n",
       "      <th>prio</th>\n",
       "      <th>execution_system</th>\n",
       "      <th>execution_system_custom_id</th>\n",
       "      <th>execution_system_name</th>\n",
       "      <th>execution_system_type</th>\n",
       "      <th>...</th>\n",
       "      <th>creation_date</th>\n",
       "      <th>release_date</th>\n",
       "      <th>planned_starting_date</th>\n",
       "      <th>actual_starting_date</th>\n",
       "      <th>starting_date_deviation</th>\n",
       "      <th>planned_ending_date</th>\n",
       "      <th>actual_ending_date</th>\n",
       "      <th>ending_date_deviation</th>\n",
       "      <th>lead_time</th>\n",
       "      <th>state</th>\n",
       "    </tr>\n",
       "    <tr>\n",
       "      <th>op_id</th>\n",
       "      <th></th>\n",
       "      <th></th>\n",
       "      <th></th>\n",
       "      <th></th>\n",
       "      <th></th>\n",
       "      <th></th>\n",
       "      <th></th>\n",
       "      <th></th>\n",
       "      <th></th>\n",
       "      <th></th>\n",
       "      <th></th>\n",
       "      <th></th>\n",
       "      <th></th>\n",
       "      <th></th>\n",
       "      <th></th>\n",
       "      <th></th>\n",
       "      <th></th>\n",
       "      <th></th>\n",
       "      <th></th>\n",
       "      <th></th>\n",
       "      <th></th>\n",
       "    </tr>\n",
       "  </thead>\n",
       "  <tbody>\n",
       "    <tr>\n",
       "      <th>0</th>\n",
       "      <td>0</td>\n",
       "      <td>J_gen_0</td>\n",
       "      <td>None</td>\n",
       "      <td>Operation(ProcTime: 6:00:00, ExecutionSystemID...</td>\n",
       "      <td>O_gen_0</td>\n",
       "      <td>None</td>\n",
       "      <td>{2: {2: {}, 3: {}, 4: {}, 5: {}}, 3: {6: {}, 7...</td>\n",
       "      <td>1</td>\n",
       "      <td>&lt;bound method System.name of System (type: Pro...</td>\n",
       "      <td>ProductionArea</td>\n",
       "      <td>...</td>\n",
       "      <td>2024-03-15 15:06:32+00:00</td>\n",
       "      <td>2024-03-15 15:06:32+00:00</td>\n",
       "      <td>None</td>\n",
       "      <td>2024-03-15 15:06:32+00:00</td>\n",
       "      <td>None</td>\n",
       "      <td>None</td>\n",
       "      <td>2024-03-15 22:06:32+00:00</td>\n",
       "      <td>None</td>\n",
       "      <td>7:00:00</td>\n",
       "      <td>FINISH</td>\n",
       "    </tr>\n",
       "    <tr>\n",
       "      <th>1</th>\n",
       "      <td>1</td>\n",
       "      <td>J_gen_1</td>\n",
       "      <td>None</td>\n",
       "      <td>Operation(ProcTime: 9:00:00, ExecutionSystemID...</td>\n",
       "      <td>O_gen_1</td>\n",
       "      <td>None</td>\n",
       "      <td>{2: {2: {}, 3: {}, 4: {}, 5: {}}, 3: {6: {}, 7...</td>\n",
       "      <td>1</td>\n",
       "      <td>&lt;bound method System.name of System (type: Pro...</td>\n",
       "      <td>ProductionArea</td>\n",
       "      <td>...</td>\n",
       "      <td>2024-03-15 17:06:32+00:00</td>\n",
       "      <td>2024-03-15 17:06:32+00:00</td>\n",
       "      <td>None</td>\n",
       "      <td>2024-03-15 17:06:32+00:00</td>\n",
       "      <td>None</td>\n",
       "      <td>None</td>\n",
       "      <td>2024-03-16 09:06:32+00:00</td>\n",
       "      <td>None</td>\n",
       "      <td>16:00:00</td>\n",
       "      <td>FINISH</td>\n",
       "    </tr>\n",
       "    <tr>\n",
       "      <th>2</th>\n",
       "      <td>2</td>\n",
       "      <td>J_gen_2</td>\n",
       "      <td>None</td>\n",
       "      <td>Operation(ProcTime: 7:00:00, ExecutionSystemID...</td>\n",
       "      <td>O_gen_2</td>\n",
       "      <td>None</td>\n",
       "      <td>{2: {2: {}, 3: {}, 4: {}, 5: {}}, 3: {6: {}, 7...</td>\n",
       "      <td>1</td>\n",
       "      <td>&lt;bound method System.name of System (type: Pro...</td>\n",
       "      <td>ProductionArea</td>\n",
       "      <td>...</td>\n",
       "      <td>2024-03-15 19:06:32+00:00</td>\n",
       "      <td>2024-03-15 19:06:32+00:00</td>\n",
       "      <td>None</td>\n",
       "      <td>2024-03-15 19:06:32+00:00</td>\n",
       "      <td>None</td>\n",
       "      <td>None</td>\n",
       "      <td>2024-03-16 10:06:32+00:00</td>\n",
       "      <td>None</td>\n",
       "      <td>15:00:00</td>\n",
       "      <td>FINISH</td>\n",
       "    </tr>\n",
       "    <tr>\n",
       "      <th>3</th>\n",
       "      <td>3</td>\n",
       "      <td>J_gen_3</td>\n",
       "      <td>None</td>\n",
       "      <td>Operation(ProcTime: 5:00:00, ExecutionSystemID...</td>\n",
       "      <td>O_gen_3</td>\n",
       "      <td>None</td>\n",
       "      <td>{2: {2: {}, 3: {}, 4: {}, 5: {}}, 3: {6: {}, 7...</td>\n",
       "      <td>1</td>\n",
       "      <td>&lt;bound method System.name of System (type: Pro...</td>\n",
       "      <td>ProductionArea</td>\n",
       "      <td>...</td>\n",
       "      <td>2024-03-15 21:06:32+00:00</td>\n",
       "      <td>2024-03-15 21:06:32+00:00</td>\n",
       "      <td>None</td>\n",
       "      <td>2024-03-15 22:06:32+00:00</td>\n",
       "      <td>None</td>\n",
       "      <td>None</td>\n",
       "      <td>2024-03-16 05:06:32+00:00</td>\n",
       "      <td>None</td>\n",
       "      <td>8:00:00</td>\n",
       "      <td>FINISH</td>\n",
       "    </tr>\n",
       "    <tr>\n",
       "      <th>4</th>\n",
       "      <td>4</td>\n",
       "      <td>J_gen_4</td>\n",
       "      <td>None</td>\n",
       "      <td>Operation(ProcTime: 9:00:00, ExecutionSystemID...</td>\n",
       "      <td>O_gen_4</td>\n",
       "      <td>None</td>\n",
       "      <td>{2: {2: {}, 3: {}, 4: {}, 5: {}}, 3: {6: {}, 7...</td>\n",
       "      <td>1</td>\n",
       "      <td>&lt;bound method System.name of System (type: Pro...</td>\n",
       "      <td>ProductionArea</td>\n",
       "      <td>...</td>\n",
       "      <td>2024-03-15 23:06:32+00:00</td>\n",
       "      <td>2024-03-15 23:06:32+00:00</td>\n",
       "      <td>None</td>\n",
       "      <td>2024-03-16 05:06:32+00:00</td>\n",
       "      <td>None</td>\n",
       "      <td>None</td>\n",
       "      <td>2024-03-16 17:06:32+00:00</td>\n",
       "      <td>None</td>\n",
       "      <td>18:00:00</td>\n",
       "      <td>FINISH</td>\n",
       "    </tr>\n",
       "  </tbody>\n",
       "</table>\n",
       "<p>5 rows × 25 columns</p>\n",
       "</div>"
      ],
      "text/plain": [
       "       job_id job_name custom_id   \n",
       "op_id                              \n",
       "0           0  J_gen_0      None  \\\n",
       "1           1  J_gen_1      None   \n",
       "2           2  J_gen_2      None   \n",
       "3           3  J_gen_3      None   \n",
       "4           4  J_gen_4      None   \n",
       "\n",
       "                                                      op     name  prio   \n",
       "op_id                                                                     \n",
       "0      Operation(ProcTime: 6:00:00, ExecutionSystemID...  O_gen_0  None  \\\n",
       "1      Operation(ProcTime: 9:00:00, ExecutionSystemID...  O_gen_1  None   \n",
       "2      Operation(ProcTime: 7:00:00, ExecutionSystemID...  O_gen_2  None   \n",
       "3      Operation(ProcTime: 5:00:00, ExecutionSystemID...  O_gen_3  None   \n",
       "4      Operation(ProcTime: 9:00:00, ExecutionSystemID...  O_gen_4  None   \n",
       "\n",
       "                                        execution_system   \n",
       "op_id                                                      \n",
       "0      {2: {2: {}, 3: {}, 4: {}, 5: {}}, 3: {6: {}, 7...  \\\n",
       "1      {2: {2: {}, 3: {}, 4: {}, 5: {}}, 3: {6: {}, 7...   \n",
       "2      {2: {2: {}, 3: {}, 4: {}, 5: {}}, 3: {6: {}, 7...   \n",
       "3      {2: {2: {}, 3: {}, 4: {}, 5: {}}, 3: {6: {}, 7...   \n",
       "4      {2: {2: {}, 3: {}, 4: {}, 5: {}}, 3: {6: {}, 7...   \n",
       "\n",
       "      execution_system_custom_id   \n",
       "op_id                              \n",
       "0                              1  \\\n",
       "1                              1   \n",
       "2                              1   \n",
       "3                              1   \n",
       "4                              1   \n",
       "\n",
       "                                   execution_system_name   \n",
       "op_id                                                      \n",
       "0      <bound method System.name of System (type: Pro...  \\\n",
       "1      <bound method System.name of System (type: Pro...   \n",
       "2      <bound method System.name of System (type: Pro...   \n",
       "3      <bound method System.name of System (type: Pro...   \n",
       "4      <bound method System.name of System (type: Pro...   \n",
       "\n",
       "      execution_system_type  ...              creation_date   \n",
       "op_id                        ...                              \n",
       "0            ProductionArea  ...  2024-03-15 15:06:32+00:00  \\\n",
       "1            ProductionArea  ...  2024-03-15 17:06:32+00:00   \n",
       "2            ProductionArea  ...  2024-03-15 19:06:32+00:00   \n",
       "3            ProductionArea  ...  2024-03-15 21:06:32+00:00   \n",
       "4            ProductionArea  ...  2024-03-15 23:06:32+00:00   \n",
       "\n",
       "                    release_date planned_starting_date   \n",
       "op_id                                                    \n",
       "0      2024-03-15 15:06:32+00:00                  None  \\\n",
       "1      2024-03-15 17:06:32+00:00                  None   \n",
       "2      2024-03-15 19:06:32+00:00                  None   \n",
       "3      2024-03-15 21:06:32+00:00                  None   \n",
       "4      2024-03-15 23:06:32+00:00                  None   \n",
       "\n",
       "            actual_starting_date starting_date_deviation planned_ending_date   \n",
       "op_id                                                                          \n",
       "0      2024-03-15 15:06:32+00:00                    None                None  \\\n",
       "1      2024-03-15 17:06:32+00:00                    None                None   \n",
       "2      2024-03-15 19:06:32+00:00                    None                None   \n",
       "3      2024-03-15 22:06:32+00:00                    None                None   \n",
       "4      2024-03-16 05:06:32+00:00                    None                None   \n",
       "\n",
       "              actual_ending_date ending_date_deviation lead_time   state  \n",
       "op_id                                                                     \n",
       "0      2024-03-15 22:06:32+00:00                  None   7:00:00  FINISH  \n",
       "1      2024-03-16 09:06:32+00:00                  None  16:00:00  FINISH  \n",
       "2      2024-03-16 10:06:32+00:00                  None  15:00:00  FINISH  \n",
       "3      2024-03-16 05:06:32+00:00                  None   8:00:00  FINISH  \n",
       "4      2024-03-16 17:06:32+00:00                  None  18:00:00  FINISH  \n",
       "\n",
       "[5 rows x 25 columns]"
      ]
     },
     "execution_count": 99,
     "metadata": {},
     "output_type": "execute_result"
    }
   ],
   "source": [
    "df"
   ]
  },
  {
   "cell_type": "code",
   "execution_count": 100,
   "metadata": {},
   "outputs": [],
   "source": [
    "db = adjust_db_dates_local_tz(db=df)"
   ]
  },
  {
   "cell_type": "code",
   "execution_count": 101,
   "metadata": {},
   "outputs": [
    {
     "data": {
      "text/html": [
       "<div>\n",
       "<style scoped>\n",
       "    .dataframe tbody tr th:only-of-type {\n",
       "        vertical-align: middle;\n",
       "    }\n",
       "\n",
       "    .dataframe tbody tr th {\n",
       "        vertical-align: top;\n",
       "    }\n",
       "\n",
       "    .dataframe thead th {\n",
       "        text-align: right;\n",
       "    }\n",
       "</style>\n",
       "<table border=\"1\" class=\"dataframe\">\n",
       "  <thead>\n",
       "    <tr style=\"text-align: right;\">\n",
       "      <th></th>\n",
       "      <th>job_id</th>\n",
       "      <th>job_name</th>\n",
       "      <th>custom_id</th>\n",
       "      <th>op</th>\n",
       "      <th>name</th>\n",
       "      <th>prio</th>\n",
       "      <th>execution_system</th>\n",
       "      <th>execution_system_custom_id</th>\n",
       "      <th>execution_system_name</th>\n",
       "      <th>execution_system_type</th>\n",
       "      <th>...</th>\n",
       "      <th>creation_date</th>\n",
       "      <th>release_date</th>\n",
       "      <th>planned_starting_date</th>\n",
       "      <th>actual_starting_date</th>\n",
       "      <th>starting_date_deviation</th>\n",
       "      <th>planned_ending_date</th>\n",
       "      <th>actual_ending_date</th>\n",
       "      <th>ending_date_deviation</th>\n",
       "      <th>lead_time</th>\n",
       "      <th>state</th>\n",
       "    </tr>\n",
       "    <tr>\n",
       "      <th>op_id</th>\n",
       "      <th></th>\n",
       "      <th></th>\n",
       "      <th></th>\n",
       "      <th></th>\n",
       "      <th></th>\n",
       "      <th></th>\n",
       "      <th></th>\n",
       "      <th></th>\n",
       "      <th></th>\n",
       "      <th></th>\n",
       "      <th></th>\n",
       "      <th></th>\n",
       "      <th></th>\n",
       "      <th></th>\n",
       "      <th></th>\n",
       "      <th></th>\n",
       "      <th></th>\n",
       "      <th></th>\n",
       "      <th></th>\n",
       "      <th></th>\n",
       "      <th></th>\n",
       "    </tr>\n",
       "  </thead>\n",
       "  <tbody>\n",
       "    <tr>\n",
       "      <th>0</th>\n",
       "      <td>0</td>\n",
       "      <td>J_gen_0</td>\n",
       "      <td>None</td>\n",
       "      <td>Operation(ProcTime: 6:00:00, ExecutionSystemID...</td>\n",
       "      <td>O_gen_0</td>\n",
       "      <td>None</td>\n",
       "      <td>{2: {2: {}, 3: {}, 4: {}, 5: {}}, 3: {6: {}, 7...</td>\n",
       "      <td>1</td>\n",
       "      <td>&lt;bound method System.name of System (type: Pro...</td>\n",
       "      <td>ProductionArea</td>\n",
       "      <td>...</td>\n",
       "      <td>2024-03-15 16:06:32+01:00</td>\n",
       "      <td>2024-03-15 16:06:32+01:00</td>\n",
       "      <td>None</td>\n",
       "      <td>2024-03-15 16:06:32+01:00</td>\n",
       "      <td>None</td>\n",
       "      <td>None</td>\n",
       "      <td>2024-03-15 23:06:32+01:00</td>\n",
       "      <td>None</td>\n",
       "      <td>7:00:00</td>\n",
       "      <td>FINISH</td>\n",
       "    </tr>\n",
       "    <tr>\n",
       "      <th>1</th>\n",
       "      <td>1</td>\n",
       "      <td>J_gen_1</td>\n",
       "      <td>None</td>\n",
       "      <td>Operation(ProcTime: 9:00:00, ExecutionSystemID...</td>\n",
       "      <td>O_gen_1</td>\n",
       "      <td>None</td>\n",
       "      <td>{2: {2: {}, 3: {}, 4: {}, 5: {}}, 3: {6: {}, 7...</td>\n",
       "      <td>1</td>\n",
       "      <td>&lt;bound method System.name of System (type: Pro...</td>\n",
       "      <td>ProductionArea</td>\n",
       "      <td>...</td>\n",
       "      <td>2024-03-15 18:06:32+01:00</td>\n",
       "      <td>2024-03-15 18:06:32+01:00</td>\n",
       "      <td>None</td>\n",
       "      <td>2024-03-15 18:06:32+01:00</td>\n",
       "      <td>None</td>\n",
       "      <td>None</td>\n",
       "      <td>2024-03-16 10:06:32+01:00</td>\n",
       "      <td>None</td>\n",
       "      <td>16:00:00</td>\n",
       "      <td>FINISH</td>\n",
       "    </tr>\n",
       "    <tr>\n",
       "      <th>2</th>\n",
       "      <td>2</td>\n",
       "      <td>J_gen_2</td>\n",
       "      <td>None</td>\n",
       "      <td>Operation(ProcTime: 7:00:00, ExecutionSystemID...</td>\n",
       "      <td>O_gen_2</td>\n",
       "      <td>None</td>\n",
       "      <td>{2: {2: {}, 3: {}, 4: {}, 5: {}}, 3: {6: {}, 7...</td>\n",
       "      <td>1</td>\n",
       "      <td>&lt;bound method System.name of System (type: Pro...</td>\n",
       "      <td>ProductionArea</td>\n",
       "      <td>...</td>\n",
       "      <td>2024-03-15 20:06:32+01:00</td>\n",
       "      <td>2024-03-15 20:06:32+01:00</td>\n",
       "      <td>None</td>\n",
       "      <td>2024-03-15 20:06:32+01:00</td>\n",
       "      <td>None</td>\n",
       "      <td>None</td>\n",
       "      <td>2024-03-16 11:06:32+01:00</td>\n",
       "      <td>None</td>\n",
       "      <td>15:00:00</td>\n",
       "      <td>FINISH</td>\n",
       "    </tr>\n",
       "    <tr>\n",
       "      <th>3</th>\n",
       "      <td>3</td>\n",
       "      <td>J_gen_3</td>\n",
       "      <td>None</td>\n",
       "      <td>Operation(ProcTime: 5:00:00, ExecutionSystemID...</td>\n",
       "      <td>O_gen_3</td>\n",
       "      <td>None</td>\n",
       "      <td>{2: {2: {}, 3: {}, 4: {}, 5: {}}, 3: {6: {}, 7...</td>\n",
       "      <td>1</td>\n",
       "      <td>&lt;bound method System.name of System (type: Pro...</td>\n",
       "      <td>ProductionArea</td>\n",
       "      <td>...</td>\n",
       "      <td>2024-03-15 22:06:32+01:00</td>\n",
       "      <td>2024-03-15 22:06:32+01:00</td>\n",
       "      <td>None</td>\n",
       "      <td>2024-03-15 23:06:32+01:00</td>\n",
       "      <td>None</td>\n",
       "      <td>None</td>\n",
       "      <td>2024-03-16 06:06:32+01:00</td>\n",
       "      <td>None</td>\n",
       "      <td>8:00:00</td>\n",
       "      <td>FINISH</td>\n",
       "    </tr>\n",
       "    <tr>\n",
       "      <th>4</th>\n",
       "      <td>4</td>\n",
       "      <td>J_gen_4</td>\n",
       "      <td>None</td>\n",
       "      <td>Operation(ProcTime: 9:00:00, ExecutionSystemID...</td>\n",
       "      <td>O_gen_4</td>\n",
       "      <td>None</td>\n",
       "      <td>{2: {2: {}, 3: {}, 4: {}, 5: {}}, 3: {6: {}, 7...</td>\n",
       "      <td>1</td>\n",
       "      <td>&lt;bound method System.name of System (type: Pro...</td>\n",
       "      <td>ProductionArea</td>\n",
       "      <td>...</td>\n",
       "      <td>2024-03-16 00:06:32+01:00</td>\n",
       "      <td>2024-03-16 00:06:32+01:00</td>\n",
       "      <td>None</td>\n",
       "      <td>2024-03-16 06:06:32+01:00</td>\n",
       "      <td>None</td>\n",
       "      <td>None</td>\n",
       "      <td>2024-03-16 18:06:32+01:00</td>\n",
       "      <td>None</td>\n",
       "      <td>18:00:00</td>\n",
       "      <td>FINISH</td>\n",
       "    </tr>\n",
       "  </tbody>\n",
       "</table>\n",
       "<p>5 rows × 25 columns</p>\n",
       "</div>"
      ],
      "text/plain": [
       "       job_id job_name custom_id   \n",
       "op_id                              \n",
       "0           0  J_gen_0      None  \\\n",
       "1           1  J_gen_1      None   \n",
       "2           2  J_gen_2      None   \n",
       "3           3  J_gen_3      None   \n",
       "4           4  J_gen_4      None   \n",
       "\n",
       "                                                      op     name  prio   \n",
       "op_id                                                                     \n",
       "0      Operation(ProcTime: 6:00:00, ExecutionSystemID...  O_gen_0  None  \\\n",
       "1      Operation(ProcTime: 9:00:00, ExecutionSystemID...  O_gen_1  None   \n",
       "2      Operation(ProcTime: 7:00:00, ExecutionSystemID...  O_gen_2  None   \n",
       "3      Operation(ProcTime: 5:00:00, ExecutionSystemID...  O_gen_3  None   \n",
       "4      Operation(ProcTime: 9:00:00, ExecutionSystemID...  O_gen_4  None   \n",
       "\n",
       "                                        execution_system   \n",
       "op_id                                                      \n",
       "0      {2: {2: {}, 3: {}, 4: {}, 5: {}}, 3: {6: {}, 7...  \\\n",
       "1      {2: {2: {}, 3: {}, 4: {}, 5: {}}, 3: {6: {}, 7...   \n",
       "2      {2: {2: {}, 3: {}, 4: {}, 5: {}}, 3: {6: {}, 7...   \n",
       "3      {2: {2: {}, 3: {}, 4: {}, 5: {}}, 3: {6: {}, 7...   \n",
       "4      {2: {2: {}, 3: {}, 4: {}, 5: {}}, 3: {6: {}, 7...   \n",
       "\n",
       "      execution_system_custom_id   \n",
       "op_id                              \n",
       "0                              1  \\\n",
       "1                              1   \n",
       "2                              1   \n",
       "3                              1   \n",
       "4                              1   \n",
       "\n",
       "                                   execution_system_name   \n",
       "op_id                                                      \n",
       "0      <bound method System.name of System (type: Pro...  \\\n",
       "1      <bound method System.name of System (type: Pro...   \n",
       "2      <bound method System.name of System (type: Pro...   \n",
       "3      <bound method System.name of System (type: Pro...   \n",
       "4      <bound method System.name of System (type: Pro...   \n",
       "\n",
       "      execution_system_type  ...             creation_date   \n",
       "op_id                        ...                             \n",
       "0            ProductionArea  ... 2024-03-15 16:06:32+01:00  \\\n",
       "1            ProductionArea  ... 2024-03-15 18:06:32+01:00   \n",
       "2            ProductionArea  ... 2024-03-15 20:06:32+01:00   \n",
       "3            ProductionArea  ... 2024-03-15 22:06:32+01:00   \n",
       "4            ProductionArea  ... 2024-03-16 00:06:32+01:00   \n",
       "\n",
       "                   release_date planned_starting_date   \n",
       "op_id                                                   \n",
       "0     2024-03-15 16:06:32+01:00                  None  \\\n",
       "1     2024-03-15 18:06:32+01:00                  None   \n",
       "2     2024-03-15 20:06:32+01:00                  None   \n",
       "3     2024-03-15 22:06:32+01:00                  None   \n",
       "4     2024-03-16 00:06:32+01:00                  None   \n",
       "\n",
       "           actual_starting_date starting_date_deviation planned_ending_date   \n",
       "op_id                                                                         \n",
       "0     2024-03-15 16:06:32+01:00                    None                None  \\\n",
       "1     2024-03-15 18:06:32+01:00                    None                None   \n",
       "2     2024-03-15 20:06:32+01:00                    None                None   \n",
       "3     2024-03-15 23:06:32+01:00                    None                None   \n",
       "4     2024-03-16 06:06:32+01:00                    None                None   \n",
       "\n",
       "             actual_ending_date ending_date_deviation lead_time   state  \n",
       "op_id                                                                    \n",
       "0     2024-03-15 23:06:32+01:00                  None   7:00:00  FINISH  \n",
       "1     2024-03-16 10:06:32+01:00                  None  16:00:00  FINISH  \n",
       "2     2024-03-16 11:06:32+01:00                  None  15:00:00  FINISH  \n",
       "3     2024-03-16 06:06:32+01:00                  None   8:00:00  FINISH  \n",
       "4     2024-03-16 18:06:32+01:00                  None  18:00:00  FINISH  \n",
       "\n",
       "[5 rows x 25 columns]"
      ]
     },
     "execution_count": 101,
     "metadata": {},
     "output_type": "execute_result"
    }
   ],
   "source": [
    "db"
   ]
  },
  {
   "cell_type": "code",
   "execution_count": 57,
   "metadata": {},
   "outputs": [],
   "source": [
    "date_cols = get_date_cols(df=df)"
   ]
  },
  {
   "cell_type": "code",
   "execution_count": 58,
   "metadata": {},
   "outputs": [
    {
     "data": {
      "text/html": [
       "<div>\n",
       "<style scoped>\n",
       "    .dataframe tbody tr th:only-of-type {\n",
       "        vertical-align: middle;\n",
       "    }\n",
       "\n",
       "    .dataframe tbody tr th {\n",
       "        vertical-align: top;\n",
       "    }\n",
       "\n",
       "    .dataframe thead th {\n",
       "        text-align: right;\n",
       "    }\n",
       "</style>\n",
       "<table border=\"1\" class=\"dataframe\">\n",
       "  <thead>\n",
       "    <tr style=\"text-align: right;\">\n",
       "      <th></th>\n",
       "      <th>creation_date</th>\n",
       "      <th>release_date</th>\n",
       "      <th>planned_starting_date</th>\n",
       "      <th>actual_starting_date</th>\n",
       "      <th>starting_date_deviation</th>\n",
       "      <th>planned_ending_date</th>\n",
       "      <th>actual_ending_date</th>\n",
       "      <th>ending_date_deviation</th>\n",
       "    </tr>\n",
       "    <tr>\n",
       "      <th>op_id</th>\n",
       "      <th></th>\n",
       "      <th></th>\n",
       "      <th></th>\n",
       "      <th></th>\n",
       "      <th></th>\n",
       "      <th></th>\n",
       "      <th></th>\n",
       "      <th></th>\n",
       "    </tr>\n",
       "  </thead>\n",
       "  <tbody>\n",
       "    <tr>\n",
       "      <th>0</th>\n",
       "      <td>2024-03-15 14:52:35+00:00</td>\n",
       "      <td>2024-03-15 14:52:35+00:00</td>\n",
       "      <td>None</td>\n",
       "      <td>2024-03-15 14:52:35+00:00</td>\n",
       "      <td>None</td>\n",
       "      <td>None</td>\n",
       "      <td>2024-03-15 21:52:35+00:00</td>\n",
       "      <td>None</td>\n",
       "    </tr>\n",
       "    <tr>\n",
       "      <th>1</th>\n",
       "      <td>2024-03-15 16:52:35+00:00</td>\n",
       "      <td>2024-03-15 16:52:35+00:00</td>\n",
       "      <td>None</td>\n",
       "      <td>2024-03-15 16:52:35+00:00</td>\n",
       "      <td>None</td>\n",
       "      <td>None</td>\n",
       "      <td>2024-03-16 08:52:35+00:00</td>\n",
       "      <td>None</td>\n",
       "    </tr>\n",
       "    <tr>\n",
       "      <th>2</th>\n",
       "      <td>2024-03-15 18:52:35+00:00</td>\n",
       "      <td>2024-03-15 18:52:35+00:00</td>\n",
       "      <td>None</td>\n",
       "      <td>2024-03-15 18:52:35+00:00</td>\n",
       "      <td>None</td>\n",
       "      <td>None</td>\n",
       "      <td>2024-03-16 09:52:35+00:00</td>\n",
       "      <td>None</td>\n",
       "    </tr>\n",
       "    <tr>\n",
       "      <th>3</th>\n",
       "      <td>2024-03-15 20:52:35+00:00</td>\n",
       "      <td>2024-03-15 20:52:35+00:00</td>\n",
       "      <td>None</td>\n",
       "      <td>2024-03-15 21:52:35+00:00</td>\n",
       "      <td>None</td>\n",
       "      <td>None</td>\n",
       "      <td>2024-03-16 04:52:35+00:00</td>\n",
       "      <td>None</td>\n",
       "    </tr>\n",
       "    <tr>\n",
       "      <th>4</th>\n",
       "      <td>2024-03-15 22:52:35+00:00</td>\n",
       "      <td>2024-03-15 22:52:35+00:00</td>\n",
       "      <td>None</td>\n",
       "      <td>2024-03-16 04:52:35+00:00</td>\n",
       "      <td>None</td>\n",
       "      <td>None</td>\n",
       "      <td>2024-03-16 16:52:35+00:00</td>\n",
       "      <td>None</td>\n",
       "    </tr>\n",
       "  </tbody>\n",
       "</table>\n",
       "</div>"
      ],
      "text/plain": [
       "                   creation_date               release_date   \n",
       "op_id                                                         \n",
       "0      2024-03-15 14:52:35+00:00  2024-03-15 14:52:35+00:00  \\\n",
       "1      2024-03-15 16:52:35+00:00  2024-03-15 16:52:35+00:00   \n",
       "2      2024-03-15 18:52:35+00:00  2024-03-15 18:52:35+00:00   \n",
       "3      2024-03-15 20:52:35+00:00  2024-03-15 20:52:35+00:00   \n",
       "4      2024-03-15 22:52:35+00:00  2024-03-15 22:52:35+00:00   \n",
       "\n",
       "      planned_starting_date       actual_starting_date   \n",
       "op_id                                                    \n",
       "0                      None  2024-03-15 14:52:35+00:00  \\\n",
       "1                      None  2024-03-15 16:52:35+00:00   \n",
       "2                      None  2024-03-15 18:52:35+00:00   \n",
       "3                      None  2024-03-15 21:52:35+00:00   \n",
       "4                      None  2024-03-16 04:52:35+00:00   \n",
       "\n",
       "      starting_date_deviation planned_ending_date         actual_ending_date   \n",
       "op_id                                                                          \n",
       "0                        None                None  2024-03-15 21:52:35+00:00  \\\n",
       "1                        None                None  2024-03-16 08:52:35+00:00   \n",
       "2                        None                None  2024-03-16 09:52:35+00:00   \n",
       "3                        None                None  2024-03-16 04:52:35+00:00   \n",
       "4                        None                None  2024-03-16 16:52:35+00:00   \n",
       "\n",
       "      ending_date_deviation  \n",
       "op_id                        \n",
       "0                      None  \n",
       "1                      None  \n",
       "2                      None  \n",
       "3                      None  \n",
       "4                      None  "
      ]
     },
     "execution_count": 58,
     "metadata": {},
     "output_type": "execute_result"
    }
   ],
   "source": [
    "df[date_cols]"
   ]
  },
  {
   "cell_type": "code",
   "execution_count": null,
   "metadata": {},
   "outputs": [],
   "source": []
  },
  {
   "cell_type": "code",
   "execution_count": 65,
   "metadata": {},
   "outputs": [],
   "source": [
    "columns = [\n",
    "    'planned_starting_date',\n",
    "    'actual_starting_date',\n",
    "    'planned_ending_date',\n",
    "    'actual_ending_date',\n",
    "]"
   ]
  },
  {
   "cell_type": "code",
   "execution_count": 66,
   "metadata": {},
   "outputs": [],
   "source": [
    "df_filt = df[columns]"
   ]
  },
  {
   "cell_type": "code",
   "execution_count": 76,
   "metadata": {},
   "outputs": [],
   "source": [
    "df_filt = df_filt.applymap(dt_to_timezone, na_action='ignore')"
   ]
  },
  {
   "cell_type": "code",
   "execution_count": 77,
   "metadata": {},
   "outputs": [
    {
     "data": {
      "text/html": [
       "<div>\n",
       "<style scoped>\n",
       "    .dataframe tbody tr th:only-of-type {\n",
       "        vertical-align: middle;\n",
       "    }\n",
       "\n",
       "    .dataframe tbody tr th {\n",
       "        vertical-align: top;\n",
       "    }\n",
       "\n",
       "    .dataframe thead th {\n",
       "        text-align: right;\n",
       "    }\n",
       "</style>\n",
       "<table border=\"1\" class=\"dataframe\">\n",
       "  <thead>\n",
       "    <tr style=\"text-align: right;\">\n",
       "      <th></th>\n",
       "      <th>planned_starting_date</th>\n",
       "      <th>actual_starting_date</th>\n",
       "      <th>planned_ending_date</th>\n",
       "      <th>actual_ending_date</th>\n",
       "    </tr>\n",
       "    <tr>\n",
       "      <th>op_id</th>\n",
       "      <th></th>\n",
       "      <th></th>\n",
       "      <th></th>\n",
       "      <th></th>\n",
       "    </tr>\n",
       "  </thead>\n",
       "  <tbody>\n",
       "    <tr>\n",
       "      <th>0</th>\n",
       "      <td>None</td>\n",
       "      <td>2024-03-15 15:34:27+01:00</td>\n",
       "      <td>None</td>\n",
       "      <td>2024-03-15 22:34:27+01:00</td>\n",
       "    </tr>\n",
       "    <tr>\n",
       "      <th>1</th>\n",
       "      <td>None</td>\n",
       "      <td>2024-03-15 17:34:27+01:00</td>\n",
       "      <td>None</td>\n",
       "      <td>2024-03-16 09:34:27+01:00</td>\n",
       "    </tr>\n",
       "    <tr>\n",
       "      <th>2</th>\n",
       "      <td>None</td>\n",
       "      <td>2024-03-15 19:34:27+01:00</td>\n",
       "      <td>None</td>\n",
       "      <td>2024-03-16 10:34:27+01:00</td>\n",
       "    </tr>\n",
       "    <tr>\n",
       "      <th>3</th>\n",
       "      <td>None</td>\n",
       "      <td>2024-03-15 22:34:27+01:00</td>\n",
       "      <td>None</td>\n",
       "      <td>2024-03-16 05:34:27+01:00</td>\n",
       "    </tr>\n",
       "    <tr>\n",
       "      <th>4</th>\n",
       "      <td>None</td>\n",
       "      <td>2024-03-16 05:34:27+01:00</td>\n",
       "      <td>None</td>\n",
       "      <td>2024-03-16 17:34:27+01:00</td>\n",
       "    </tr>\n",
       "  </tbody>\n",
       "</table>\n",
       "</div>"
      ],
      "text/plain": [
       "      planned_starting_date      actual_starting_date planned_ending_date   \n",
       "op_id                                                                       \n",
       "0                      None 2024-03-15 15:34:27+01:00                None  \\\n",
       "1                      None 2024-03-15 17:34:27+01:00                None   \n",
       "2                      None 2024-03-15 19:34:27+01:00                None   \n",
       "3                      None 2024-03-15 22:34:27+01:00                None   \n",
       "4                      None 2024-03-16 05:34:27+01:00                None   \n",
       "\n",
       "             actual_ending_date  \n",
       "op_id                            \n",
       "0     2024-03-15 22:34:27+01:00  \n",
       "1     2024-03-16 09:34:27+01:00  \n",
       "2     2024-03-16 10:34:27+01:00  \n",
       "3     2024-03-16 05:34:27+01:00  \n",
       "4     2024-03-16 17:34:27+01:00  "
      ]
     },
     "execution_count": 77,
     "metadata": {},
     "output_type": "execute_result"
    }
   ],
   "source": [
    "df_filt"
   ]
  },
  {
   "cell_type": "code",
   "execution_count": 78,
   "metadata": {},
   "outputs": [],
   "source": [
    "df[columns] = df_filt"
   ]
  },
  {
   "cell_type": "code",
   "execution_count": 79,
   "metadata": {},
   "outputs": [
    {
     "data": {
      "text/html": [
       "<div>\n",
       "<style scoped>\n",
       "    .dataframe tbody tr th:only-of-type {\n",
       "        vertical-align: middle;\n",
       "    }\n",
       "\n",
       "    .dataframe tbody tr th {\n",
       "        vertical-align: top;\n",
       "    }\n",
       "\n",
       "    .dataframe thead th {\n",
       "        text-align: right;\n",
       "    }\n",
       "</style>\n",
       "<table border=\"1\" class=\"dataframe\">\n",
       "  <thead>\n",
       "    <tr style=\"text-align: right;\">\n",
       "      <th></th>\n",
       "      <th>job_id</th>\n",
       "      <th>job_name</th>\n",
       "      <th>custom_id</th>\n",
       "      <th>op</th>\n",
       "      <th>name</th>\n",
       "      <th>prio</th>\n",
       "      <th>execution_system</th>\n",
       "      <th>execution_system_custom_id</th>\n",
       "      <th>execution_system_name</th>\n",
       "      <th>execution_system_type</th>\n",
       "      <th>...</th>\n",
       "      <th>creation_date</th>\n",
       "      <th>release_date</th>\n",
       "      <th>planned_starting_date</th>\n",
       "      <th>actual_starting_date</th>\n",
       "      <th>starting_date_deviation</th>\n",
       "      <th>planned_ending_date</th>\n",
       "      <th>actual_ending_date</th>\n",
       "      <th>ending_date_deviation</th>\n",
       "      <th>lead_time</th>\n",
       "      <th>state</th>\n",
       "    </tr>\n",
       "    <tr>\n",
       "      <th>op_id</th>\n",
       "      <th></th>\n",
       "      <th></th>\n",
       "      <th></th>\n",
       "      <th></th>\n",
       "      <th></th>\n",
       "      <th></th>\n",
       "      <th></th>\n",
       "      <th></th>\n",
       "      <th></th>\n",
       "      <th></th>\n",
       "      <th></th>\n",
       "      <th></th>\n",
       "      <th></th>\n",
       "      <th></th>\n",
       "      <th></th>\n",
       "      <th></th>\n",
       "      <th></th>\n",
       "      <th></th>\n",
       "      <th></th>\n",
       "      <th></th>\n",
       "      <th></th>\n",
       "    </tr>\n",
       "  </thead>\n",
       "  <tbody>\n",
       "    <tr>\n",
       "      <th>0</th>\n",
       "      <td>0</td>\n",
       "      <td>J_gen_0</td>\n",
       "      <td>None</td>\n",
       "      <td>Operation(ProcTime: 6:00:00, ExecutionSystemID...</td>\n",
       "      <td>O_gen_0</td>\n",
       "      <td>None</td>\n",
       "      <td>{2: {2: {}, 3: {}, 4: {}, 5: {}}, 3: {6: {}, 7...</td>\n",
       "      <td>1</td>\n",
       "      <td>&lt;bound method System.name of System (type: Pro...</td>\n",
       "      <td>ProductionArea</td>\n",
       "      <td>...</td>\n",
       "      <td>2024-03-15 14:34:27+00:00</td>\n",
       "      <td>2024-03-15 14:34:27+00:00</td>\n",
       "      <td>None</td>\n",
       "      <td>2024-03-15 15:34:27+01:00</td>\n",
       "      <td>None</td>\n",
       "      <td>None</td>\n",
       "      <td>2024-03-15 22:34:27+01:00</td>\n",
       "      <td>None</td>\n",
       "      <td>7:00:00</td>\n",
       "      <td>FINISH</td>\n",
       "    </tr>\n",
       "    <tr>\n",
       "      <th>1</th>\n",
       "      <td>1</td>\n",
       "      <td>J_gen_1</td>\n",
       "      <td>None</td>\n",
       "      <td>Operation(ProcTime: 9:00:00, ExecutionSystemID...</td>\n",
       "      <td>O_gen_1</td>\n",
       "      <td>None</td>\n",
       "      <td>{2: {2: {}, 3: {}, 4: {}, 5: {}}, 3: {6: {}, 7...</td>\n",
       "      <td>1</td>\n",
       "      <td>&lt;bound method System.name of System (type: Pro...</td>\n",
       "      <td>ProductionArea</td>\n",
       "      <td>...</td>\n",
       "      <td>2024-03-15 16:34:27+00:00</td>\n",
       "      <td>2024-03-15 16:34:27+00:00</td>\n",
       "      <td>None</td>\n",
       "      <td>2024-03-15 17:34:27+01:00</td>\n",
       "      <td>None</td>\n",
       "      <td>None</td>\n",
       "      <td>2024-03-16 09:34:27+01:00</td>\n",
       "      <td>None</td>\n",
       "      <td>16:00:00</td>\n",
       "      <td>FINISH</td>\n",
       "    </tr>\n",
       "    <tr>\n",
       "      <th>2</th>\n",
       "      <td>2</td>\n",
       "      <td>J_gen_2</td>\n",
       "      <td>None</td>\n",
       "      <td>Operation(ProcTime: 7:00:00, ExecutionSystemID...</td>\n",
       "      <td>O_gen_2</td>\n",
       "      <td>None</td>\n",
       "      <td>{2: {2: {}, 3: {}, 4: {}, 5: {}}, 3: {6: {}, 7...</td>\n",
       "      <td>1</td>\n",
       "      <td>&lt;bound method System.name of System (type: Pro...</td>\n",
       "      <td>ProductionArea</td>\n",
       "      <td>...</td>\n",
       "      <td>2024-03-15 18:34:27+00:00</td>\n",
       "      <td>2024-03-15 18:34:27+00:00</td>\n",
       "      <td>None</td>\n",
       "      <td>2024-03-15 19:34:27+01:00</td>\n",
       "      <td>None</td>\n",
       "      <td>None</td>\n",
       "      <td>2024-03-16 10:34:27+01:00</td>\n",
       "      <td>None</td>\n",
       "      <td>15:00:00</td>\n",
       "      <td>FINISH</td>\n",
       "    </tr>\n",
       "    <tr>\n",
       "      <th>3</th>\n",
       "      <td>3</td>\n",
       "      <td>J_gen_3</td>\n",
       "      <td>None</td>\n",
       "      <td>Operation(ProcTime: 5:00:00, ExecutionSystemID...</td>\n",
       "      <td>O_gen_3</td>\n",
       "      <td>None</td>\n",
       "      <td>{2: {2: {}, 3: {}, 4: {}, 5: {}}, 3: {6: {}, 7...</td>\n",
       "      <td>1</td>\n",
       "      <td>&lt;bound method System.name of System (type: Pro...</td>\n",
       "      <td>ProductionArea</td>\n",
       "      <td>...</td>\n",
       "      <td>2024-03-15 20:34:27+00:00</td>\n",
       "      <td>2024-03-15 20:34:27+00:00</td>\n",
       "      <td>None</td>\n",
       "      <td>2024-03-15 22:34:27+01:00</td>\n",
       "      <td>None</td>\n",
       "      <td>None</td>\n",
       "      <td>2024-03-16 05:34:27+01:00</td>\n",
       "      <td>None</td>\n",
       "      <td>8:00:00</td>\n",
       "      <td>FINISH</td>\n",
       "    </tr>\n",
       "    <tr>\n",
       "      <th>4</th>\n",
       "      <td>4</td>\n",
       "      <td>J_gen_4</td>\n",
       "      <td>None</td>\n",
       "      <td>Operation(ProcTime: 9:00:00, ExecutionSystemID...</td>\n",
       "      <td>O_gen_4</td>\n",
       "      <td>None</td>\n",
       "      <td>{2: {2: {}, 3: {}, 4: {}, 5: {}}, 3: {6: {}, 7...</td>\n",
       "      <td>1</td>\n",
       "      <td>&lt;bound method System.name of System (type: Pro...</td>\n",
       "      <td>ProductionArea</td>\n",
       "      <td>...</td>\n",
       "      <td>2024-03-15 22:34:27+00:00</td>\n",
       "      <td>2024-03-15 22:34:27+00:00</td>\n",
       "      <td>None</td>\n",
       "      <td>2024-03-16 05:34:27+01:00</td>\n",
       "      <td>None</td>\n",
       "      <td>None</td>\n",
       "      <td>2024-03-16 17:34:27+01:00</td>\n",
       "      <td>None</td>\n",
       "      <td>18:00:00</td>\n",
       "      <td>FINISH</td>\n",
       "    </tr>\n",
       "  </tbody>\n",
       "</table>\n",
       "<p>5 rows × 25 columns</p>\n",
       "</div>"
      ],
      "text/plain": [
       "       job_id job_name custom_id   \n",
       "op_id                              \n",
       "0           0  J_gen_0      None  \\\n",
       "1           1  J_gen_1      None   \n",
       "2           2  J_gen_2      None   \n",
       "3           3  J_gen_3      None   \n",
       "4           4  J_gen_4      None   \n",
       "\n",
       "                                                      op     name  prio   \n",
       "op_id                                                                     \n",
       "0      Operation(ProcTime: 6:00:00, ExecutionSystemID...  O_gen_0  None  \\\n",
       "1      Operation(ProcTime: 9:00:00, ExecutionSystemID...  O_gen_1  None   \n",
       "2      Operation(ProcTime: 7:00:00, ExecutionSystemID...  O_gen_2  None   \n",
       "3      Operation(ProcTime: 5:00:00, ExecutionSystemID...  O_gen_3  None   \n",
       "4      Operation(ProcTime: 9:00:00, ExecutionSystemID...  O_gen_4  None   \n",
       "\n",
       "                                        execution_system   \n",
       "op_id                                                      \n",
       "0      {2: {2: {}, 3: {}, 4: {}, 5: {}}, 3: {6: {}, 7...  \\\n",
       "1      {2: {2: {}, 3: {}, 4: {}, 5: {}}, 3: {6: {}, 7...   \n",
       "2      {2: {2: {}, 3: {}, 4: {}, 5: {}}, 3: {6: {}, 7...   \n",
       "3      {2: {2: {}, 3: {}, 4: {}, 5: {}}, 3: {6: {}, 7...   \n",
       "4      {2: {2: {}, 3: {}, 4: {}, 5: {}}, 3: {6: {}, 7...   \n",
       "\n",
       "      execution_system_custom_id   \n",
       "op_id                              \n",
       "0                              1  \\\n",
       "1                              1   \n",
       "2                              1   \n",
       "3                              1   \n",
       "4                              1   \n",
       "\n",
       "                                   execution_system_name   \n",
       "op_id                                                      \n",
       "0      <bound method System.name of System (type: Pro...  \\\n",
       "1      <bound method System.name of System (type: Pro...   \n",
       "2      <bound method System.name of System (type: Pro...   \n",
       "3      <bound method System.name of System (type: Pro...   \n",
       "4      <bound method System.name of System (type: Pro...   \n",
       "\n",
       "      execution_system_type  ...              creation_date   \n",
       "op_id                        ...                              \n",
       "0            ProductionArea  ...  2024-03-15 14:34:27+00:00  \\\n",
       "1            ProductionArea  ...  2024-03-15 16:34:27+00:00   \n",
       "2            ProductionArea  ...  2024-03-15 18:34:27+00:00   \n",
       "3            ProductionArea  ...  2024-03-15 20:34:27+00:00   \n",
       "4            ProductionArea  ...  2024-03-15 22:34:27+00:00   \n",
       "\n",
       "                    release_date planned_starting_date   \n",
       "op_id                                                    \n",
       "0      2024-03-15 14:34:27+00:00                  None  \\\n",
       "1      2024-03-15 16:34:27+00:00                  None   \n",
       "2      2024-03-15 18:34:27+00:00                  None   \n",
       "3      2024-03-15 20:34:27+00:00                  None   \n",
       "4      2024-03-15 22:34:27+00:00                  None   \n",
       "\n",
       "           actual_starting_date starting_date_deviation planned_ending_date   \n",
       "op_id                                                                         \n",
       "0     2024-03-15 15:34:27+01:00                    None                None  \\\n",
       "1     2024-03-15 17:34:27+01:00                    None                None   \n",
       "2     2024-03-15 19:34:27+01:00                    None                None   \n",
       "3     2024-03-15 22:34:27+01:00                    None                None   \n",
       "4     2024-03-16 05:34:27+01:00                    None                None   \n",
       "\n",
       "             actual_ending_date ending_date_deviation lead_time   state  \n",
       "op_id                                                                    \n",
       "0     2024-03-15 22:34:27+01:00                  None   7:00:00  FINISH  \n",
       "1     2024-03-16 09:34:27+01:00                  None  16:00:00  FINISH  \n",
       "2     2024-03-16 10:34:27+01:00                  None  15:00:00  FINISH  \n",
       "3     2024-03-16 05:34:27+01:00                  None   8:00:00  FINISH  \n",
       "4     2024-03-16 17:34:27+01:00                  None  18:00:00  FINISH  \n",
       "\n",
       "[5 rows x 25 columns]"
      ]
     },
     "execution_count": 79,
     "metadata": {},
     "output_type": "execute_result"
    }
   ],
   "source": [
    "df"
   ]
  },
  {
   "cell_type": "code",
   "execution_count": 81,
   "metadata": {},
   "outputs": [],
   "source": [
    "lst = list()\n",
    "for col in df.columns:\n",
    "    if 'date' in col:\n",
    "        lst.append(col)"
   ]
  },
  {
   "cell_type": "code",
   "execution_count": 82,
   "metadata": {},
   "outputs": [
    {
     "data": {
      "text/plain": [
       "['creation_date',\n",
       " 'release_date',\n",
       " 'planned_starting_date',\n",
       " 'actual_starting_date',\n",
       " 'starting_date_deviation',\n",
       " 'planned_ending_date',\n",
       " 'actual_ending_date',\n",
       " 'ending_date_deviation']"
      ]
     },
     "execution_count": 82,
     "metadata": {},
     "output_type": "execute_result"
    }
   ],
   "source": [
    "lst"
   ]
  },
  {
   "cell_type": "code",
   "execution_count": 67,
   "metadata": {},
   "outputs": [],
   "source": [
    "filt_na = df[columns].isna().any(axis=0)"
   ]
  },
  {
   "cell_type": "code",
   "execution_count": 68,
   "metadata": {},
   "outputs": [],
   "source": [
    "df_filt2 = df_filt.loc[:,~filt_na]"
   ]
  },
  {
   "cell_type": "code",
   "execution_count": 70,
   "metadata": {},
   "outputs": [
    {
     "data": {
      "text/html": [
       "<div>\n",
       "<style scoped>\n",
       "    .dataframe tbody tr th:only-of-type {\n",
       "        vertical-align: middle;\n",
       "    }\n",
       "\n",
       "    .dataframe tbody tr th {\n",
       "        vertical-align: top;\n",
       "    }\n",
       "\n",
       "    .dataframe thead th {\n",
       "        text-align: right;\n",
       "    }\n",
       "</style>\n",
       "<table border=\"1\" class=\"dataframe\">\n",
       "  <thead>\n",
       "    <tr style=\"text-align: right;\">\n",
       "      <th></th>\n",
       "      <th>actual_starting_date</th>\n",
       "      <th>actual_ending_date</th>\n",
       "    </tr>\n",
       "    <tr>\n",
       "      <th>op_id</th>\n",
       "      <th></th>\n",
       "      <th></th>\n",
       "    </tr>\n",
       "  </thead>\n",
       "  <tbody>\n",
       "    <tr>\n",
       "      <th>0</th>\n",
       "      <td>2024-03-15 14:34:27+00:00</td>\n",
       "      <td>2024-03-15 21:34:27+00:00</td>\n",
       "    </tr>\n",
       "    <tr>\n",
       "      <th>1</th>\n",
       "      <td>2024-03-15 16:34:27+00:00</td>\n",
       "      <td>2024-03-16 08:34:27+00:00</td>\n",
       "    </tr>\n",
       "    <tr>\n",
       "      <th>2</th>\n",
       "      <td>2024-03-15 18:34:27+00:00</td>\n",
       "      <td>2024-03-16 09:34:27+00:00</td>\n",
       "    </tr>\n",
       "    <tr>\n",
       "      <th>3</th>\n",
       "      <td>2024-03-15 21:34:27+00:00</td>\n",
       "      <td>2024-03-16 04:34:27+00:00</td>\n",
       "    </tr>\n",
       "    <tr>\n",
       "      <th>4</th>\n",
       "      <td>2024-03-16 04:34:27+00:00</td>\n",
       "      <td>2024-03-16 16:34:27+00:00</td>\n",
       "    </tr>\n",
       "  </tbody>\n",
       "</table>\n",
       "</div>"
      ],
      "text/plain": [
       "            actual_starting_date         actual_ending_date\n",
       "op_id                                                      \n",
       "0      2024-03-15 14:34:27+00:00  2024-03-15 21:34:27+00:00\n",
       "1      2024-03-15 16:34:27+00:00  2024-03-16 08:34:27+00:00\n",
       "2      2024-03-15 18:34:27+00:00  2024-03-16 09:34:27+00:00\n",
       "3      2024-03-15 21:34:27+00:00  2024-03-16 04:34:27+00:00\n",
       "4      2024-03-16 04:34:27+00:00  2024-03-16 16:34:27+00:00"
      ]
     },
     "execution_count": 70,
     "metadata": {},
     "output_type": "execute_result"
    }
   ],
   "source": [
    "df_filt2"
   ]
  },
  {
   "cell_type": "code",
   "execution_count": 74,
   "metadata": {},
   "outputs": [
    {
     "data": {
      "text/html": [
       "<div>\n",
       "<style scoped>\n",
       "    .dataframe tbody tr th:only-of-type {\n",
       "        vertical-align: middle;\n",
       "    }\n",
       "\n",
       "    .dataframe tbody tr th {\n",
       "        vertical-align: top;\n",
       "    }\n",
       "\n",
       "    .dataframe thead th {\n",
       "        text-align: right;\n",
       "    }\n",
       "</style>\n",
       "<table border=\"1\" class=\"dataframe\">\n",
       "  <thead>\n",
       "    <tr style=\"text-align: right;\">\n",
       "      <th></th>\n",
       "      <th>actual_starting_date</th>\n",
       "      <th>actual_ending_date</th>\n",
       "    </tr>\n",
       "    <tr>\n",
       "      <th>op_id</th>\n",
       "      <th></th>\n",
       "      <th></th>\n",
       "    </tr>\n",
       "  </thead>\n",
       "  <tbody>\n",
       "    <tr>\n",
       "      <th>0</th>\n",
       "      <td>2024-03-15 15:34:27+01:00</td>\n",
       "      <td>2024-03-15 22:34:27+01:00</td>\n",
       "    </tr>\n",
       "    <tr>\n",
       "      <th>1</th>\n",
       "      <td>2024-03-15 17:34:27+01:00</td>\n",
       "      <td>2024-03-16 09:34:27+01:00</td>\n",
       "    </tr>\n",
       "    <tr>\n",
       "      <th>2</th>\n",
       "      <td>2024-03-15 19:34:27+01:00</td>\n",
       "      <td>2024-03-16 10:34:27+01:00</td>\n",
       "    </tr>\n",
       "    <tr>\n",
       "      <th>3</th>\n",
       "      <td>2024-03-15 22:34:27+01:00</td>\n",
       "      <td>2024-03-16 05:34:27+01:00</td>\n",
       "    </tr>\n",
       "    <tr>\n",
       "      <th>4</th>\n",
       "      <td>2024-03-16 05:34:27+01:00</td>\n",
       "      <td>2024-03-16 17:34:27+01:00</td>\n",
       "    </tr>\n",
       "  </tbody>\n",
       "</table>\n",
       "</div>"
      ],
      "text/plain": [
       "           actual_starting_date        actual_ending_date\n",
       "op_id                                                    \n",
       "0     2024-03-15 15:34:27+01:00 2024-03-15 22:34:27+01:00\n",
       "1     2024-03-15 17:34:27+01:00 2024-03-16 09:34:27+01:00\n",
       "2     2024-03-15 19:34:27+01:00 2024-03-16 10:34:27+01:00\n",
       "3     2024-03-15 22:34:27+01:00 2024-03-16 05:34:27+01:00\n",
       "4     2024-03-16 05:34:27+01:00 2024-03-16 17:34:27+01:00"
      ]
     },
     "execution_count": 74,
     "metadata": {},
     "output_type": "execute_result"
    }
   ],
   "source": [
    "df_filt2.applymap(dt_to_timezone)"
   ]
  },
  {
   "cell_type": "code",
   "execution_count": null,
   "metadata": {},
   "outputs": [],
   "source": []
  }
 ],
 "metadata": {
  "kernelspec": {
   "display_name": "Python 3",
   "language": "python",
   "name": "python3"
  },
  "language_info": {
   "codemirror_mode": {
    "name": "ipython",
    "version": 3
   },
   "file_extension": ".py",
   "mimetype": "text/x-python",
   "name": "python",
   "nbconvert_exporter": "python",
   "pygments_lexer": "ipython3",
   "version": "3.11.8"
  }
 },
 "nbformat": 4,
 "nbformat_minor": 2
}
