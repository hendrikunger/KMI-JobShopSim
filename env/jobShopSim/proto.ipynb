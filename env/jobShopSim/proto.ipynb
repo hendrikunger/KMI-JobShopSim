{
 "cells": [
  {
   "cell_type": "code",
   "execution_count": 110,
   "metadata": {},
   "outputs": [
    {
     "name": "stdout",
     "output_type": "stream",
     "text": [
      "The autoreload extension is already loaded. To reload it, use:\n",
      "  %reload_ext autoreload\n"
     ]
    }
   ],
   "source": [
    "%load_ext autoreload"
   ]
  },
  {
   "cell_type": "code",
   "execution_count": 111,
   "metadata": {},
   "outputs": [],
   "source": [
    "%autoreload 2"
   ]
  },
  {
   "cell_type": "code",
   "execution_count": 112,
   "metadata": {},
   "outputs": [],
   "source": [
    "from lib import sim_env as sim\n",
    "from lib import loads\n",
    "from lib.utils import (DTManager, adjust_db_dates_local_tz)\n",
    "from lib import agents\n",
    "import datetime"
   ]
  },
  {
   "cell_type": "code",
   "execution_count": null,
   "metadata": {},
   "outputs": [],
   "source": []
  },
  {
   "cell_type": "markdown",
   "metadata": {},
   "source": [
    "# environment\n",
    "dt = current_time_tz(cut_microseconds=True)\n",
    "env = sim.SimulationEnvironment(name='base', time_unit='seconds', starting_datetime=dt)\n",
    "job_generator = loads.RandomJobGenerator(seed=2)\n",
    "infstruct_mgr = sim.InfrastructureManager(env=env)\n",
    "dispatcher = sim.Dispatcher(env=env, priority_rule='FIFO')\n",
    "\n",
    "# source\n",
    "area_source = sim.ProductionArea(env=env, custom_identifier=1000)\n",
    "group_source = sim.StationGroup(env=env, custom_identifier=1000)\n",
    "area_source.add_subsystem(group_source)\n",
    "proc_time = dt_parser.timedelta_from_val(val=2., time_unit='hours')\n",
    "source = sim.Source(env=env, custom_identifier='source', proc_time=proc_time, \n",
    "                random_generation=True, job_generator=job_generator, num_gen_jobs=5)\n",
    "group_source.add_subsystem(source)\n",
    "\n",
    "# sink\n",
    "area_sink = sim.ProductionArea(env=env, custom_identifier=2000)\n",
    "group_sink = sim.StationGroup(env=env, custom_identifier=2000)\n",
    "area_sink.add_subsystem(group_sink)\n",
    "sink = sim.Sink(env=env, custom_identifier='sink')\n",
    "group_sink.add_subsystem(sink)\n",
    "\n",
    "# processing stations\n",
    "# prod area 1\n",
    "area_prod = sim.ProductionArea(env=env, custom_identifier=1)\n",
    "group_prod = sim.StationGroup(env=env, custom_identifier=1)\n",
    "area_prod.add_subsystem(group_prod)\n",
    "group_prod2 = sim.StationGroup(env=env, custom_identifier=2)\n",
    "area_prod.add_subsystem(group_prod2)\n",
    "# prod area 2\n",
    "#area_prod2 = ProductionArea(env=env, custom_identifier=2)\n",
    "#group_prod3 = StationGroup(env=env, custom_identifier=3)\n",
    "#area_prod2.add_subsystem(group_prod3)\n",
    "#area_prod.add_subsystem(group_prod3)\n",
    "## machines\n",
    "for machine in range(3):\n",
    "    buffer = sim.Buffer(capacity=20, env=env, custom_identifier=(10+machine))\n",
    "    if machine == 5:\n",
    "        MachInst = sim.Machine(env=env, custom_identifier=machine, buffers=[buffer], setup_time=5.)\n",
    "    else:\n",
    "        MachInst = sim.Machine(env=env, custom_identifier=machine, buffers=[buffer])\n",
    "        \n",
    "    if machine == 0:\n",
    "        testMachInst = MachInst\n",
    "    \n",
    "    if machine < 2:\n",
    "        group_prod.add_subsystem(buffer)\n",
    "        group_prod.add_subsystem(MachInst)\n",
    "    elif machine >= 2:\n",
    "        group_prod2.add_subsystem(buffer)\n",
    "        group_prod2.add_subsystem(MachInst)\n",
    "    else:\n",
    "        pass\n",
    "        #group_prod3.add_subsystem(buffer)\n",
    "        #group_prod3.add_subsystem(MachInst)\n",
    "    \n",
    "\n",
    "add_machine_to_bottleneck: bool = False\n",
    "if add_machine_to_bottleneck:\n",
    "    buffer = sim.Buffer(capacity=20, env=env, custom_identifier=(10+machine+1))\n",
    "    MachInst = sim.Machine(env=env, custom_identifier=machine+1, buffers=[buffer])\n",
    "    group_prod3.add_subsystem(buffer)\n",
    "    group_prod3.add_subsystem(MachInst)\n",
    "\n",
    "alloc_agent = agents.AllocationAgent(assoc_system=area_prod)"
   ]
  },
  {
   "cell_type": "markdown",
   "metadata": {},
   "source": [
    "alloc_agent._assoc_infstrct_objs"
   ]
  },
  {
   "cell_type": "markdown",
   "metadata": {
    "scrolled": true
   },
   "source": [
    "# station group IDs (system, custom) for processing stations\n",
    "MachInst.supersystems_custom_ids"
   ]
  },
  {
   "cell_type": "code",
   "execution_count": 134,
   "metadata": {},
   "outputs": [
    {
     "name": "stdout",
     "output_type": "stream",
     "text": [
      "INFO:sim_env.env:Successfully registered Infrastructure Manager in Env >>base<<\n",
      "INFO:sim_env.env:Successfully registered Dispatcher in Env >>base<<\n",
      "INFO:sim_env.infstrct:Successfully registered object with SystemID 0 and name Source_env_0\n"
     ]
    }
   ],
   "source": [
    "# datetime manager\n",
    "dt_mgr = DTManager()\n",
    "starting_dt = dt_mgr.current_time_tz(cut_microseconds=True)\n",
    "# environment\n",
    "env = sim.SimulationEnvironment(name='base', time_unit='seconds', starting_datetime=starting_dt)\n",
    "infstruct_mgr = sim.InfrastructureManager(env=env)\n",
    "dispatcher = sim.Dispatcher(env=env, priority_rule='FIFO')\n",
    "proc_time = dt_mgr.timedelta_from_val(val=2., time_unit='hours')\n",
    "job_generator = loads.RandomJobGenerator(seed=2)\n",
    "source = sim.Source(env=env, custom_identifier='source', proc_time=proc_time, \n",
    "                    random_generation=True, job_generator=job_generator, num_gen_jobs=8)\n",
    "sim_dur = dt_mgr.timedelta_from_val(val=2., time_unit='days')\n",
    "job_gen_dur_cond = sim.JobGenDurationCondition(env=env, target_obj=source, sim_run_duration=sim_dur)"
   ]
  },
  {
   "cell_type": "markdown",
   "metadata": {},
   "source": [
    "dt_mgr = DTManager()\n",
    "dt_mgr.dt_with_tz_UTC(2024,3,23,12)"
   ]
  },
  {
   "cell_type": "code",
   "execution_count": null,
   "metadata": {},
   "outputs": [],
   "source": []
  },
  {
   "cell_type": "code",
   "execution_count": null,
   "metadata": {},
   "outputs": [],
   "source": []
  },
  {
   "cell_type": "code",
   "execution_count": null,
   "metadata": {},
   "outputs": [],
   "source": []
  },
  {
   "cell_type": "code",
   "execution_count": 297,
   "metadata": {},
   "outputs": [],
   "source": [
    "def build_sim_env() -> tuple[\n",
    "    sim.SimulationEnvironment,\n",
    "    sim.InfrastructureManager,\n",
    "    sim.Dispatcher,\n",
    "    agents.AllocationAgent,\n",
    "]:\n",
    "    # !! REWORK, CURRENTLY ONLY FOR TESTING PURPOSES\n",
    "    \"\"\"Constructor to build simulation environment (layout)\n",
    "\n",
    "    Returns\n",
    "    -------\n",
    "    tuple[ sim.SimulationEnvironment, sim.InfrastructureManager, sim.Dispatcher, agents.AllocationAgent, ]\n",
    "        tuple out of Environment, InfrastructureManager, Dispatcher, Agent\n",
    "    \"\"\"\n",
    "    # datetime manager\n",
    "    dt_mgr = DTManager()\n",
    "    starting_dt = dt_mgr.current_time_tz(cut_microseconds=True)\n",
    "    # environment\n",
    "    env = sim.SimulationEnvironment(name='base', time_unit='seconds', starting_datetime=starting_dt)\n",
    "    job_generator = loads.RandomJobGenerator(seed=100)\n",
    "    infstruct_mgr = sim.InfrastructureManager(env=env)\n",
    "    dispatcher = sim.Dispatcher(env=env, priority_rule='FIFO')\n",
    "    \n",
    "    # source\n",
    "    area_source = sim.ProductionArea(env=env, custom_identifier=1000)\n",
    "    group_source = sim.StationGroup(env=env, custom_identifier=1000)\n",
    "    area_source.add_subsystem(group_source)\n",
    "    proc_time = dt_mgr.timedelta_from_val(val=2., time_unit='hours')\n",
    "    source = sim.Source(env=env, custom_identifier='source', proc_time=proc_time, \n",
    "                    random_generation=True, job_generator=job_generator, num_gen_jobs=12)\n",
    "    group_source.add_subsystem(source)\n",
    "\n",
    "    # sink\n",
    "    area_sink = sim.ProductionArea(env=env, custom_identifier=2000)\n",
    "    group_sink = sim.StationGroup(env=env, custom_identifier=2000)\n",
    "    area_sink.add_subsystem(group_sink)\n",
    "    sink = sim.Sink(env=env, custom_identifier='sink')\n",
    "    group_sink.add_subsystem(sink)\n",
    "\n",
    "    # processing stations\n",
    "    # prod area 1\n",
    "    area_prod = sim.ProductionArea(env=env, custom_identifier=1)\n",
    "    group_prod = sim.StationGroup(env=env, custom_identifier=1)\n",
    "    area_prod.add_subsystem(group_prod)\n",
    "    group_prod2 = sim.StationGroup(env=env, custom_identifier=2)\n",
    "    area_prod.add_subsystem(group_prod2)\n",
    "    # prod area 2\n",
    "    #area_prod2 = ProductionArea(env=env, custom_identifier=2)\n",
    "    #group_prod3 = StationGroup(env=env, custom_identifier=3)\n",
    "    #area_prod2.add_subsystem(group_prod3)\n",
    "    #area_prod.add_subsystem(group_prod3)\n",
    "    ## machines\n",
    "    for machine in range(3):\n",
    "        buffer = sim.Buffer(capacity=20, env=env, custom_identifier=(10+machine))\n",
    "        if machine == 5:\n",
    "            MachInst = sim.Machine(env=env, custom_identifier=machine, buffers=[buffer], setup_time=5.)\n",
    "        else:\n",
    "            MachInst = sim.Machine(env=env, custom_identifier=machine, buffers=[buffer])\n",
    "            \n",
    "        if machine == 0:\n",
    "            testMachInst = MachInst\n",
    "        \n",
    "        if machine < 2:\n",
    "            group_prod.add_subsystem(buffer)\n",
    "            group_prod.add_subsystem(MachInst)\n",
    "        elif machine >= 2:\n",
    "            group_prod2.add_subsystem(buffer)\n",
    "            group_prod2.add_subsystem(MachInst)\n",
    "        else:\n",
    "            pass\n",
    "            #group_prod3.add_subsystem(buffer)\n",
    "            #group_prod3.add_subsystem(MachInst)\n",
    "        \n",
    "\n",
    "    add_machine_to_bottleneck: bool = False\n",
    "    if add_machine_to_bottleneck:\n",
    "        buffer = sim.Buffer(capacity=20, env=env, custom_identifier=(10+machine+1))\n",
    "        MachInst = sim.Machine(env=env, custom_identifier=machine+1, buffers=[buffer])\n",
    "        group_prod3.add_subsystem(buffer)\n",
    "        group_prod3.add_subsystem(MachInst)\n",
    "        \n",
    "    alloc_agent = agents.AllocationAgent(assoc_system=area_prod)\n",
    "\n",
    "    # conditions\n",
    "    duration_transient = dt_mgr.timedelta_from_val(val=2, time_unit='hours')\n",
    "    trans_cond = sim.TransientCondition(env=env, duration_transient=duration_transient)\n",
    "    agent_decision_cond = sim.TriggerAgentCondition(env=env)\n",
    "    sim_dur = dt_mgr.timedelta_from_val(val=2., time_unit='days')\n",
    "    sim_end_date = dt_mgr.dt_with_tz_UTC(2024,3,23,12)\n",
    "    job_gen_dur_cond = sim.JobGenDurationCondition(env=env, target_obj=source, sim_run_duration=sim_dur)\n",
    "    \n",
    "    return env, infstruct_mgr, dispatcher, alloc_agent"
   ]
  },
  {
   "cell_type": "code",
   "execution_count": 298,
   "metadata": {},
   "outputs": [
    {
     "name": "stdout",
     "output_type": "stream",
     "text": [
      "INFO:sim_env.env:Successfully registered Infrastructure Manager in Env >>base<<\n",
      "INFO:sim_env.env:Successfully registered Dispatcher in Env >>base<<\n",
      "INFO:sim_env.infstrct:Successfully registered object with SystemID 0 and name ProductionArea_env_0\n",
      "INFO:sim_env.infstrct:Successfully registered object with SystemID 0 and name StationGroup_env_0\n",
      "INFO:sim_env.infstrct:Successfully added System (type: StationGroup, custom_id: 1000, name: StationGroup_env_0) to System (type: ProductionArea, custom_id: 1000, name: ProductionArea_env_0).\n",
      "INFO:sim_env.infstrct:Successfully registered object with SystemID 0 and name Source_env_0\n",
      "INFO:sim_env.infstrct:Successfully added System (type: Resource, custom_id: source, name: Source_env_0) to System (type: StationGroup, custom_id: 1000, name: StationGroup_env_0).\n",
      "INFO:sim_env.infstrct:Successfully registered object with SystemID 1 and name ProductionArea_env_1\n",
      "INFO:sim_env.infstrct:Successfully registered object with SystemID 1 and name StationGroup_env_1\n",
      "INFO:sim_env.infstrct:Successfully added System (type: StationGroup, custom_id: 2000, name: StationGroup_env_1) to System (type: ProductionArea, custom_id: 2000, name: ProductionArea_env_1).\n",
      "INFO:sim_env.infstrct:Successfully registered object with SystemID 1 and name Sink_env_1\n",
      "INFO:sim_env.infstrct:Successfully added System (type: Resource, custom_id: sink, name: Sink_env_1) to System (type: StationGroup, custom_id: 2000, name: StationGroup_env_1).\n",
      "INFO:sim_env.infstrct:Successfully registered object with SystemID 2 and name ProductionArea_env_2\n",
      "INFO:sim_env.infstrct:Successfully registered object with SystemID 2 and name StationGroup_env_2\n",
      "INFO:sim_env.infstrct:Successfully added System (type: StationGroup, custom_id: 1, name: StationGroup_env_2) to System (type: ProductionArea, custom_id: 1, name: ProductionArea_env_2).\n",
      "INFO:sim_env.infstrct:Successfully registered object with SystemID 3 and name StationGroup_env_3\n",
      "INFO:sim_env.infstrct:Successfully added System (type: StationGroup, custom_id: 2, name: StationGroup_env_3) to System (type: ProductionArea, custom_id: 1, name: ProductionArea_env_2).\n",
      "INFO:sim_env.infstrct:Successfully registered object with SystemID 2 and name Buffer_env_2\n",
      "INFO:sim_env.infstrct:Successfully registered object with SystemID 3 and name Machine_env_3\n",
      "INFO:sim_env.infstrct:Successfully added System (type: Resource, custom_id: 10, name: Buffer_env_2) to System (type: StationGroup, custom_id: 1, name: StationGroup_env_2).\n",
      "INFO:sim_env.infstrct:Successfully added System (type: Resource, custom_id: 0, name: Machine_env_3) to System (type: StationGroup, custom_id: 1, name: StationGroup_env_2).\n",
      "INFO:sim_env.infstrct:Successfully registered object with SystemID 4 and name Buffer_env_4\n",
      "INFO:sim_env.infstrct:Successfully registered object with SystemID 5 and name Machine_env_5\n",
      "INFO:sim_env.infstrct:Successfully added System (type: Resource, custom_id: 11, name: Buffer_env_4) to System (type: StationGroup, custom_id: 1, name: StationGroup_env_2).\n",
      "INFO:sim_env.infstrct:Successfully added System (type: Resource, custom_id: 1, name: Machine_env_5) to System (type: StationGroup, custom_id: 1, name: StationGroup_env_2).\n",
      "INFO:sim_env.infstrct:Successfully registered object with SystemID 6 and name Buffer_env_6\n",
      "INFO:sim_env.infstrct:Successfully registered object with SystemID 7 and name Machine_env_7\n",
      "INFO:sim_env.infstrct:Successfully added System (type: Resource, custom_id: 12, name: Buffer_env_6) to System (type: StationGroup, custom_id: 2, name: StationGroup_env_3).\n",
      "INFO:sim_env.infstrct:Successfully added System (type: Resource, custom_id: 2, name: Machine_env_7) to System (type: StationGroup, custom_id: 2, name: StationGroup_env_3).\n",
      "INFO:sim_env.env:Successfully registered Allocation Agent in System (type: ProductionArea, custom_id: 1, name: ProductionArea_env_2)\n"
     ]
    }
   ],
   "source": [
    "(env, infstruct_mgr, dispatcher, agent) = build_sim_env()"
   ]
  },
  {
   "cell_type": "code",
   "execution_count": 299,
   "metadata": {
    "scrolled": true
   },
   "outputs": [
    {
     "data": {
      "text/html": [
       "<div>\n",
       "<style scoped>\n",
       "    .dataframe tbody tr th:only-of-type {\n",
       "        vertical-align: middle;\n",
       "    }\n",
       "\n",
       "    .dataframe tbody tr th {\n",
       "        vertical-align: top;\n",
       "    }\n",
       "\n",
       "    .dataframe thead th {\n",
       "        text-align: right;\n",
       "    }\n",
       "</style>\n",
       "<table border=\"1\" class=\"dataframe\">\n",
       "  <thead>\n",
       "    <tr style=\"text-align: right;\">\n",
       "      <th></th>\n",
       "      <th>custom_id</th>\n",
       "      <th>name</th>\n",
       "      <th>prod_area</th>\n",
       "      <th>containing_proc_stations</th>\n",
       "    </tr>\n",
       "    <tr>\n",
       "      <th>prod_area_id</th>\n",
       "      <th></th>\n",
       "      <th></th>\n",
       "      <th></th>\n",
       "      <th></th>\n",
       "    </tr>\n",
       "  </thead>\n",
       "  <tbody>\n",
       "    <tr>\n",
       "      <th>0</th>\n",
       "      <td>1000</td>\n",
       "      <td>ProductionArea_env_0</td>\n",
       "      <td>{0: {0: {}}}</td>\n",
       "      <td>False</td>\n",
       "    </tr>\n",
       "    <tr>\n",
       "      <th>1</th>\n",
       "      <td>2000</td>\n",
       "      <td>ProductionArea_env_1</td>\n",
       "      <td>{1: {1: {}}}</td>\n",
       "      <td>False</td>\n",
       "    </tr>\n",
       "    <tr>\n",
       "      <th>2</th>\n",
       "      <td>1</td>\n",
       "      <td>ProductionArea_env_2</td>\n",
       "      <td>{2: {2: {}, 3: {}, 4: {}, 5: {}}, 3: {6: {}, 7...</td>\n",
       "      <td>True</td>\n",
       "    </tr>\n",
       "  </tbody>\n",
       "</table>\n",
       "</div>"
      ],
      "text/plain": [
       "             custom_id                  name   \n",
       "prod_area_id                                   \n",
       "0                 1000  ProductionArea_env_0  \\\n",
       "1                 2000  ProductionArea_env_1   \n",
       "2                    1  ProductionArea_env_2   \n",
       "\n",
       "                                                      prod_area   \n",
       "prod_area_id                                                      \n",
       "0                                                  {0: {0: {}}}  \\\n",
       "1                                                  {1: {1: {}}}   \n",
       "2             {2: {2: {}, 3: {}, 4: {}, 5: {}}, 3: {6: {}, 7...   \n",
       "\n",
       "              containing_proc_stations  \n",
       "prod_area_id                            \n",
       "0                                False  \n",
       "1                                False  \n",
       "2                                 True  "
      ]
     },
     "execution_count": 299,
     "metadata": {},
     "output_type": "execute_result"
    }
   ],
   "source": [
    "infstruct_mgr.prod_area_db"
   ]
  },
  {
   "cell_type": "code",
   "execution_count": 300,
   "metadata": {
    "scrolled": true
   },
   "outputs": [
    {
     "data": {
      "text/html": [
       "<div>\n",
       "<style scoped>\n",
       "    .dataframe tbody tr th:only-of-type {\n",
       "        vertical-align: middle;\n",
       "    }\n",
       "\n",
       "    .dataframe tbody tr th {\n",
       "        vertical-align: top;\n",
       "    }\n",
       "\n",
       "    .dataframe thead th {\n",
       "        text-align: right;\n",
       "    }\n",
       "</style>\n",
       "<table border=\"1\" class=\"dataframe\">\n",
       "  <thead>\n",
       "    <tr style=\"text-align: right;\">\n",
       "      <th></th>\n",
       "      <th>custom_id</th>\n",
       "      <th>name</th>\n",
       "      <th>station_group</th>\n",
       "      <th>prod_area_id</th>\n",
       "      <th>containing_proc_stations</th>\n",
       "    </tr>\n",
       "    <tr>\n",
       "      <th>station_group_id</th>\n",
       "      <th></th>\n",
       "      <th></th>\n",
       "      <th></th>\n",
       "      <th></th>\n",
       "      <th></th>\n",
       "    </tr>\n",
       "  </thead>\n",
       "  <tbody>\n",
       "    <tr>\n",
       "      <th>0</th>\n",
       "      <td>1000</td>\n",
       "      <td>StationGroup_env_0</td>\n",
       "      <td>{0: {}}</td>\n",
       "      <td>0</td>\n",
       "      <td>False</td>\n",
       "    </tr>\n",
       "    <tr>\n",
       "      <th>1</th>\n",
       "      <td>2000</td>\n",
       "      <td>StationGroup_env_1</td>\n",
       "      <td>{1: {}}</td>\n",
       "      <td>1</td>\n",
       "      <td>False</td>\n",
       "    </tr>\n",
       "    <tr>\n",
       "      <th>2</th>\n",
       "      <td>1</td>\n",
       "      <td>StationGroup_env_2</td>\n",
       "      <td>{2: {}, 3: {}, 4: {}, 5: {}}</td>\n",
       "      <td>2</td>\n",
       "      <td>True</td>\n",
       "    </tr>\n",
       "    <tr>\n",
       "      <th>3</th>\n",
       "      <td>2</td>\n",
       "      <td>StationGroup_env_3</td>\n",
       "      <td>{6: {}, 7: {}}</td>\n",
       "      <td>2</td>\n",
       "      <td>True</td>\n",
       "    </tr>\n",
       "  </tbody>\n",
       "</table>\n",
       "</div>"
      ],
      "text/plain": [
       "                 custom_id                name                 station_group   \n",
       "station_group_id                                                               \n",
       "0                     1000  StationGroup_env_0                       {0: {}}  \\\n",
       "1                     2000  StationGroup_env_1                       {1: {}}   \n",
       "2                        1  StationGroup_env_2  {2: {}, 3: {}, 4: {}, 5: {}}   \n",
       "3                        2  StationGroup_env_3                {6: {}, 7: {}}   \n",
       "\n",
       "                  prod_area_id  containing_proc_stations  \n",
       "station_group_id                                          \n",
       "0                            0                     False  \n",
       "1                            1                     False  \n",
       "2                            2                      True  \n",
       "3                            2                      True  "
      ]
     },
     "execution_count": 300,
     "metadata": {},
     "output_type": "execute_result"
    }
   ],
   "source": [
    "infstruct_mgr.station_group_db"
   ]
  },
  {
   "cell_type": "code",
   "execution_count": 301,
   "metadata": {},
   "outputs": [
    {
     "data": {
      "text/html": [
       "<div>\n",
       "<style scoped>\n",
       "    .dataframe tbody tr th:only-of-type {\n",
       "        vertical-align: middle;\n",
       "    }\n",
       "\n",
       "    .dataframe tbody tr th {\n",
       "        vertical-align: top;\n",
       "    }\n",
       "\n",
       "    .dataframe thead th {\n",
       "        text-align: right;\n",
       "    }\n",
       "</style>\n",
       "<table border=\"1\" class=\"dataframe\">\n",
       "  <thead>\n",
       "    <tr style=\"text-align: right;\">\n",
       "      <th></th>\n",
       "      <th>custom_id</th>\n",
       "      <th>resource</th>\n",
       "      <th>name</th>\n",
       "      <th>res_type</th>\n",
       "      <th>state</th>\n",
       "      <th>station_group_id</th>\n",
       "    </tr>\n",
       "    <tr>\n",
       "      <th>res_id</th>\n",
       "      <th></th>\n",
       "      <th></th>\n",
       "      <th></th>\n",
       "      <th></th>\n",
       "      <th></th>\n",
       "      <th></th>\n",
       "    </tr>\n",
       "  </thead>\n",
       "  <tbody>\n",
       "    <tr>\n",
       "      <th>0</th>\n",
       "      <td>source</td>\n",
       "      <td>{}</td>\n",
       "      <td>Source_env_0</td>\n",
       "      <td>Source</td>\n",
       "      <td>INIT</td>\n",
       "      <td>0</td>\n",
       "    </tr>\n",
       "    <tr>\n",
       "      <th>1</th>\n",
       "      <td>sink</td>\n",
       "      <td>{}</td>\n",
       "      <td>Sink_env_1</td>\n",
       "      <td>Sink</td>\n",
       "      <td>INIT</td>\n",
       "      <td>1</td>\n",
       "    </tr>\n",
       "    <tr>\n",
       "      <th>2</th>\n",
       "      <td>10</td>\n",
       "      <td>{}</td>\n",
       "      <td>Buffer_env_2</td>\n",
       "      <td>Buffer</td>\n",
       "      <td>INIT</td>\n",
       "      <td>2</td>\n",
       "    </tr>\n",
       "    <tr>\n",
       "      <th>3</th>\n",
       "      <td>0</td>\n",
       "      <td>{}</td>\n",
       "      <td>Machine_env_3</td>\n",
       "      <td>Machine</td>\n",
       "      <td>INIT</td>\n",
       "      <td>2</td>\n",
       "    </tr>\n",
       "    <tr>\n",
       "      <th>4</th>\n",
       "      <td>11</td>\n",
       "      <td>{}</td>\n",
       "      <td>Buffer_env_4</td>\n",
       "      <td>Buffer</td>\n",
       "      <td>INIT</td>\n",
       "      <td>2</td>\n",
       "    </tr>\n",
       "    <tr>\n",
       "      <th>5</th>\n",
       "      <td>1</td>\n",
       "      <td>{}</td>\n",
       "      <td>Machine_env_5</td>\n",
       "      <td>Machine</td>\n",
       "      <td>INIT</td>\n",
       "      <td>2</td>\n",
       "    </tr>\n",
       "    <tr>\n",
       "      <th>6</th>\n",
       "      <td>12</td>\n",
       "      <td>{}</td>\n",
       "      <td>Buffer_env_6</td>\n",
       "      <td>Buffer</td>\n",
       "      <td>INIT</td>\n",
       "      <td>3</td>\n",
       "    </tr>\n",
       "    <tr>\n",
       "      <th>7</th>\n",
       "      <td>2</td>\n",
       "      <td>{}</td>\n",
       "      <td>Machine_env_7</td>\n",
       "      <td>Machine</td>\n",
       "      <td>INIT</td>\n",
       "      <td>3</td>\n",
       "    </tr>\n",
       "  </tbody>\n",
       "</table>\n",
       "</div>"
      ],
      "text/plain": [
       "       custom_id resource           name res_type state  station_group_id\n",
       "res_id                                                                   \n",
       "0         source       {}   Source_env_0   Source  INIT                 0\n",
       "1           sink       {}     Sink_env_1     Sink  INIT                 1\n",
       "2             10       {}   Buffer_env_2   Buffer  INIT                 2\n",
       "3              0       {}  Machine_env_3  Machine  INIT                 2\n",
       "4             11       {}   Buffer_env_4   Buffer  INIT                 2\n",
       "5              1       {}  Machine_env_5  Machine  INIT                 2\n",
       "6             12       {}   Buffer_env_6   Buffer  INIT                 3\n",
       "7              2       {}  Machine_env_7  Machine  INIT                 3"
      ]
     },
     "execution_count": 301,
     "metadata": {},
     "output_type": "execute_result"
    }
   ],
   "source": [
    "infstruct_mgr.res_db"
   ]
  },
  {
   "cell_type": "code",
   "execution_count": 302,
   "metadata": {},
   "outputs": [
    {
     "name": "stdout",
     "output_type": "stream",
     "text": [
      "INFO:sim_env.env:Integrity check for Environment base successful.\n"
     ]
    }
   ],
   "source": [
    "env.check_integrity()"
   ]
  },
  {
   "cell_type": "code",
   "execution_count": 303,
   "metadata": {},
   "outputs": [
    {
     "name": "stdout",
     "output_type": "stream",
     "text": [
      "Prio Rules: {'LIFO', 'LST', 'PRIO', 'SST', 'LPT', 'SPT', 'FIFO'}\n",
      "Alloc Rules: {'AGENT', 'WIP_LOAD_TIME', 'UTILISATION', 'RANDOM', 'WIP_LOAD_JOBS'}\n"
     ]
    }
   ],
   "source": [
    "print('Prio Rules:', dispatcher.possible_prio_rules())\n",
    "print('Alloc Rules:', dispatcher.possible_alloc_rules())"
   ]
  },
  {
   "cell_type": "code",
   "execution_count": 304,
   "metadata": {},
   "outputs": [],
   "source": [
    "dispatcher.curr_prio_rule = 'LPT'\n",
    "dispatcher.curr_alloc_rule = 'WIP_LOAD_TIME'\n",
    "#dispatcher.curr_alloc_rule = 'AGENT'"
   ]
  },
  {
   "cell_type": "code",
   "execution_count": 305,
   "metadata": {},
   "outputs": [
    {
     "data": {
      "text/plain": [
       "(System (type: Resource, custom_id: 0, name: Machine_env_3),\n",
       " System (type: Resource, custom_id: 1, name: Machine_env_5),\n",
       " System (type: Resource, custom_id: 2, name: Machine_env_7))"
      ]
     },
     "execution_count": 305,
     "metadata": {},
     "output_type": "execute_result"
    }
   ],
   "source": [
    "agent.assoc_proc_stations"
   ]
  },
  {
   "cell_type": "markdown",
   "metadata": {},
   "source": [
    "**Sequential run**"
   ]
  },
  {
   "cell_type": "code",
   "execution_count": 306,
   "metadata": {},
   "outputs": [
    {
     "data": {
      "text/plain": [
       "False"
      ]
     },
     "execution_count": 306,
     "metadata": {},
     "output_type": "execute_result"
    }
   ],
   "source": [
    "agent.dispatching_signal"
   ]
  },
  {
   "cell_type": "code",
   "execution_count": 307,
   "metadata": {},
   "outputs": [
    {
     "name": "stdout",
     "output_type": "stream",
     "text": [
      "INFO:sim_env.env:Initialisation for Environment base successful.\n"
     ]
    }
   ],
   "source": [
    "env.initialise()"
   ]
  },
  {
   "cell_type": "code",
   "execution_count": 342,
   "metadata": {},
   "outputs": [
    {
     "name": "stdout",
     "output_type": "stream",
     "text": [
      "DEBUG:agents.agents:++++++ stations=(System (type: Resource, custom_id: 2, name: Machine_env_7),)\n",
      "DEBUG:agents.agents:++++++ util_vals=[0.09090909090909091]\n",
      "DEBUG:agents.agents:++++++ util_mean=0.09090909090909091\n",
      "DEBUG:agents.agents:+#+#+#+#+# reward=50.0\n",
      "Run ended!\n"
     ]
    }
   ],
   "source": [
    "## second block in step function\n",
    "## execute with provided action till next decision should be made\n",
    "while not agent.dispatching_signal:\n",
    "    #if env.sim_ended:\n",
    "        #break\n",
    "    # empty event list, simulation run ended\n",
    "    if not env._event_list:\n",
    "        break\n",
    "    env.step()\n",
    "    #print(f'Env Trans State: {env.is_transient_cond}')\n",
    "\n",
    "\n",
    "## third block\n",
    "## calculate reward before next decision is made\n",
    "agent.calc_reward()\n",
    "\n",
    " \n",
    "## first block in step function\n",
    "## action is provided as parameter\n",
    "## set action\n",
    "# if still events left, get/set action\n",
    "#if env._event_list and not env.is_transient_cond:\n",
    "if env._event_list:\n",
    "    print('Dispatching Signal', agent.dispatching_signal)\n",
    "    action = agent.random_action()\n",
    "    agent.set_decision(action=action)\n",
    "else:\n",
    "    print('Run ended!')"
   ]
  },
  {
   "cell_type": "markdown",
   "metadata": {},
   "source": [
    "**Customised Salabim:**\n",
    "- added ``self.end_on_empty_eventlist`` as this attribute was not available, but used internally in Salabim\n",
    "- ~~added ``sim_ended`` to indicate if run was finished or~~ use ``_event_list``\n",
    "\n",
    "**Needed Features:**\n",
    "- condition monitor to set flags"
   ]
  },
  {
   "cell_type": "code",
   "execution_count": 343,
   "metadata": {},
   "outputs": [
    {
     "data": {
      "text/plain": [
       "Job (J_gen_11)"
      ]
     },
     "execution_count": 343,
     "metadata": {},
     "output_type": "execute_result"
    }
   ],
   "source": [
    "agent.current_job"
   ]
  },
  {
   "cell_type": "code",
   "execution_count": 344,
   "metadata": {},
   "outputs": [
    {
     "data": {
      "text/plain": [
       "Job (J_gen_10)"
      ]
     },
     "execution_count": 344,
     "metadata": {},
     "output_type": "execute_result"
    }
   ],
   "source": [
    "agent.last_job"
   ]
  },
  {
   "cell_type": "code",
   "execution_count": 345,
   "metadata": {},
   "outputs": [
    {
     "data": {
      "text/plain": [
       "Operation(ProcTime: 6:00:00, ExecutionSystemID: 1, SGI: 2)"
      ]
     },
     "execution_count": 345,
     "metadata": {},
     "output_type": "execute_result"
    }
   ],
   "source": [
    "agent.current_op"
   ]
  },
  {
   "cell_type": "code",
   "execution_count": 346,
   "metadata": {},
   "outputs": [
    {
     "data": {
      "text/plain": [
       "2"
      ]
     },
     "execution_count": 346,
     "metadata": {},
     "output_type": "execute_result"
    }
   ],
   "source": [
    "agent.last_op.target_station_group_identifier"
   ]
  },
  {
   "cell_type": "code",
   "execution_count": 347,
   "metadata": {},
   "outputs": [
    {
     "data": {
      "text/plain": [
       "deque([Operation(ProcTime: 6:00:00, ExecutionSystemID: 1, SGI: 2)])"
      ]
     },
     "execution_count": 347,
     "metadata": {},
     "output_type": "execute_result"
    }
   ],
   "source": [
    "agent.last_job.operations"
   ]
  },
  {
   "cell_type": "code",
   "execution_count": 348,
   "metadata": {},
   "outputs": [
    {
     "data": {
      "text/plain": [
       "deque([Operation(ProcTime: 6:00:00, ExecutionSystemID: 1, SGI: 2)])"
      ]
     },
     "execution_count": 348,
     "metadata": {},
     "output_type": "execute_result"
    }
   ],
   "source": [
    "agent.current_job.operations"
   ]
  },
  {
   "cell_type": "code",
   "execution_count": null,
   "metadata": {},
   "outputs": [],
   "source": []
  },
  {
   "cell_type": "code",
   "execution_count": 349,
   "metadata": {},
   "outputs": [
    {
     "name": "stdout",
     "output_type": "stream",
     "text": [
      "INFO:sim_env.infstrct:Successful finalisation of the state information for all resource objects.\n"
     ]
    }
   ],
   "source": [
    "env.finalise()"
   ]
  },
  {
   "cell_type": "code",
   "execution_count": 350,
   "metadata": {},
   "outputs": [
    {
     "data": {
      "application/vnd.plotly.v1+json": {
       "config": {
        "plotlyServerURL": "https://plot.ly"
       },
       "data": [
        {
         "alignmentgroup": "True",
         "base": [
          "2024-03-26T16:10:00+01:00"
         ],
         "customdata": [
          [
           "J_gen_0",
           0,
           1,
           null,
           null,
           null,
           "P0DT7H0M0S",
           "P0DT4H0M0S",
           "P0DT11H0M0S"
          ]
         ],
         "hovertemplate": "<b>%{hovertext}</b><br><br>actual_starting_date=%{base}<br>actual_ending_date=%{x}<br>target_station_name=%{y}<br>target_station_custom_id=%{customdata[1]}<br>execution_system_custom_id=%{customdata[2]}<br>prio=%{customdata[3]}<br>planned_starting_date=%{customdata[4]}<br>planned_ending_date=%{customdata[5]}<br>proc_time=%{customdata[6]}<br>setup_time=%{customdata[7]}<br>order_time=%{customdata[8]}<extra></extra>",
         "hovertext": [
          "J_gen_0"
         ],
         "legendgroup": "J_gen_0",
         "marker": {
          "color": "#636efa",
          "pattern": {
           "shape": ""
          }
         },
         "name": "J_gen_0",
         "offsetgroup": "J_gen_0",
         "orientation": "h",
         "showlegend": true,
         "textposition": "auto",
         "type": "bar",
         "x": [
          39600000
         ],
         "xaxis": "x",
         "y": [
          "Machine_env_3"
         ],
         "yaxis": "y"
        },
        {
         "alignmentgroup": "True",
         "base": [
          "2024-03-26T18:10:00+01:00"
         ],
         "customdata": [
          [
           "J_gen_1",
           1,
           1,
           null,
           null,
           null,
           "P0DT8H0M0S",
           "P0DT2H0M0S",
           "P0DT10H0M0S"
          ]
         ],
         "hovertemplate": "<b>%{hovertext}</b><br><br>actual_starting_date=%{base}<br>actual_ending_date=%{x}<br>target_station_name=%{y}<br>target_station_custom_id=%{customdata[1]}<br>execution_system_custom_id=%{customdata[2]}<br>prio=%{customdata[3]}<br>planned_starting_date=%{customdata[4]}<br>planned_ending_date=%{customdata[5]}<br>proc_time=%{customdata[6]}<br>setup_time=%{customdata[7]}<br>order_time=%{customdata[8]}<extra></extra>",
         "hovertext": [
          "J_gen_1"
         ],
         "legendgroup": "J_gen_1",
         "marker": {
          "color": "#EF553B",
          "pattern": {
           "shape": ""
          }
         },
         "name": "J_gen_1",
         "offsetgroup": "J_gen_1",
         "orientation": "h",
         "showlegend": true,
         "textposition": "auto",
         "type": "bar",
         "x": [
          36000000
         ],
         "xaxis": "x",
         "y": [
          "Machine_env_5"
         ],
         "yaxis": "y"
        },
        {
         "alignmentgroup": "True",
         "base": [
          "2024-03-27T12:10:00+01:00"
         ],
         "customdata": [
          [
           "J_gen_10",
           2,
           1,
           null,
           null,
           null,
           "P0DT6H0M0S",
           "P0DT1H0M0S",
           "P0DT7H0M0S"
          ]
         ],
         "hovertemplate": "<b>%{hovertext}</b><br><br>actual_starting_date=%{base}<br>actual_ending_date=%{x}<br>target_station_name=%{y}<br>target_station_custom_id=%{customdata[1]}<br>execution_system_custom_id=%{customdata[2]}<br>prio=%{customdata[3]}<br>planned_starting_date=%{customdata[4]}<br>planned_ending_date=%{customdata[5]}<br>proc_time=%{customdata[6]}<br>setup_time=%{customdata[7]}<br>order_time=%{customdata[8]}<extra></extra>",
         "hovertext": [
          "J_gen_10"
         ],
         "legendgroup": "J_gen_10",
         "marker": {
          "color": "#00cc96",
          "pattern": {
           "shape": ""
          }
         },
         "name": "J_gen_10",
         "offsetgroup": "J_gen_10",
         "orientation": "h",
         "showlegend": true,
         "textposition": "auto",
         "type": "bar",
         "x": [
          25200000
         ],
         "xaxis": "x",
         "y": [
          "Machine_env_7"
         ],
         "yaxis": "y"
        },
        {
         "alignmentgroup": "True",
         "base": [
          "2024-03-27T19:10:00+01:00"
         ],
         "customdata": [
          [
           "J_gen_11",
           2,
           1,
           null,
           null,
           null,
           "P0DT6H0M0S",
           "P0DT3H0M0S",
           "P0DT9H0M0S"
          ]
         ],
         "hovertemplate": "<b>%{hovertext}</b><br><br>actual_starting_date=%{base}<br>actual_ending_date=%{x}<br>target_station_name=%{y}<br>target_station_custom_id=%{customdata[1]}<br>execution_system_custom_id=%{customdata[2]}<br>prio=%{customdata[3]}<br>planned_starting_date=%{customdata[4]}<br>planned_ending_date=%{customdata[5]}<br>proc_time=%{customdata[6]}<br>setup_time=%{customdata[7]}<br>order_time=%{customdata[8]}<extra></extra>",
         "hovertext": [
          "J_gen_11"
         ],
         "legendgroup": "J_gen_11",
         "marker": {
          "color": "#ab63fa",
          "pattern": {
           "shape": ""
          }
         },
         "name": "J_gen_11",
         "offsetgroup": "J_gen_11",
         "orientation": "h",
         "showlegend": true,
         "textposition": "auto",
         "type": "bar",
         "x": [
          32400000
         ],
         "xaxis": "x",
         "y": [
          "Machine_env_7"
         ],
         "yaxis": "y"
        },
        {
         "alignmentgroup": "True",
         "base": [
          "2024-03-28T02:10:00+01:00"
         ],
         "customdata": [
          [
           "J_gen_2",
           0,
           1,
           null,
           null,
           null,
           "P0DT6H0M0S",
           "P0DT8H0M0S",
           "P0DT14H0M0S"
          ]
         ],
         "hovertemplate": "<b>%{hovertext}</b><br><br>actual_starting_date=%{base}<br>actual_ending_date=%{x}<br>target_station_name=%{y}<br>target_station_custom_id=%{customdata[1]}<br>execution_system_custom_id=%{customdata[2]}<br>prio=%{customdata[3]}<br>planned_starting_date=%{customdata[4]}<br>planned_ending_date=%{customdata[5]}<br>proc_time=%{customdata[6]}<br>setup_time=%{customdata[7]}<br>order_time=%{customdata[8]}<extra></extra>",
         "hovertext": [
          "J_gen_2"
         ],
         "legendgroup": "J_gen_2",
         "marker": {
          "color": "#FFA15A",
          "pattern": {
           "shape": ""
          }
         },
         "name": "J_gen_2",
         "offsetgroup": "J_gen_2",
         "orientation": "h",
         "showlegend": true,
         "textposition": "auto",
         "type": "bar",
         "x": [
          50400000
         ],
         "xaxis": "x",
         "y": [
          "Machine_env_3"
         ],
         "yaxis": "y"
        },
        {
         "alignmentgroup": "True",
         "base": [
          "2024-03-27T03:10:00+01:00"
         ],
         "customdata": [
          [
           "J_gen_3",
           0,
           1,
           null,
           null,
           null,
           "P0DT7H0M0S",
           "P0DT5H0M0S",
           "P0DT12H0M0S"
          ]
         ],
         "hovertemplate": "<b>%{hovertext}</b><br><br>actual_starting_date=%{base}<br>actual_ending_date=%{x}<br>target_station_name=%{y}<br>target_station_custom_id=%{customdata[1]}<br>execution_system_custom_id=%{customdata[2]}<br>prio=%{customdata[3]}<br>planned_starting_date=%{customdata[4]}<br>planned_ending_date=%{customdata[5]}<br>proc_time=%{customdata[6]}<br>setup_time=%{customdata[7]}<br>order_time=%{customdata[8]}<extra></extra>",
         "hovertext": [
          "J_gen_3"
         ],
         "legendgroup": "J_gen_3",
         "marker": {
          "color": "#19d3f3",
          "pattern": {
           "shape": ""
          }
         },
         "name": "J_gen_3",
         "offsetgroup": "J_gen_3",
         "orientation": "h",
         "showlegend": true,
         "textposition": "auto",
         "type": "bar",
         "x": [
          43200000
         ],
         "xaxis": "x",
         "y": [
          "Machine_env_3"
         ],
         "yaxis": "y"
        },
        {
         "alignmentgroup": "True",
         "base": [
          "2024-03-27T04:10:00+01:00"
         ],
         "customdata": [
          [
           "J_gen_4",
           1,
           1,
           null,
           null,
           null,
           "P0DT9H0M0S",
           "P0DT7H0M0S",
           "P0DT16H0M0S"
          ]
         ],
         "hovertemplate": "<b>%{hovertext}</b><br><br>actual_starting_date=%{base}<br>actual_ending_date=%{x}<br>target_station_name=%{y}<br>target_station_custom_id=%{customdata[1]}<br>execution_system_custom_id=%{customdata[2]}<br>prio=%{customdata[3]}<br>planned_starting_date=%{customdata[4]}<br>planned_ending_date=%{customdata[5]}<br>proc_time=%{customdata[6]}<br>setup_time=%{customdata[7]}<br>order_time=%{customdata[8]}<extra></extra>",
         "hovertext": [
          "J_gen_4"
         ],
         "legendgroup": "J_gen_4",
         "marker": {
          "color": "#FF6692",
          "pattern": {
           "shape": ""
          }
         },
         "name": "J_gen_4",
         "offsetgroup": "J_gen_4",
         "orientation": "h",
         "showlegend": true,
         "textposition": "auto",
         "type": "bar",
         "x": [
          57600000
         ],
         "xaxis": "x",
         "y": [
          "Machine_env_5"
         ],
         "yaxis": "y"
        },
        {
         "alignmentgroup": "True",
         "base": [
          "2024-03-29T05:10:00+01:00"
         ],
         "customdata": [
          [
           "J_gen_5",
           0,
           1,
           null,
           null,
           null,
           "P0DT5H0M0S",
           "P0DT8H0M0S",
           "P0DT13H0M0S"
          ]
         ],
         "hovertemplate": "<b>%{hovertext}</b><br><br>actual_starting_date=%{base}<br>actual_ending_date=%{x}<br>target_station_name=%{y}<br>target_station_custom_id=%{customdata[1]}<br>execution_system_custom_id=%{customdata[2]}<br>prio=%{customdata[3]}<br>planned_starting_date=%{customdata[4]}<br>planned_ending_date=%{customdata[5]}<br>proc_time=%{customdata[6]}<br>setup_time=%{customdata[7]}<br>order_time=%{customdata[8]}<extra></extra>",
         "hovertext": [
          "J_gen_5"
         ],
         "legendgroup": "J_gen_5",
         "marker": {
          "color": "#B6E880",
          "pattern": {
           "shape": ""
          }
         },
         "name": "J_gen_5",
         "offsetgroup": "J_gen_5",
         "orientation": "h",
         "showlegend": true,
         "textposition": "auto",
         "type": "bar",
         "x": [
          46800000
         ],
         "xaxis": "x",
         "y": [
          "Machine_env_3"
         ],
         "yaxis": "y"
        },
        {
         "alignmentgroup": "True",
         "base": [
          "2024-03-27T15:10:00+01:00"
         ],
         "customdata": [
          [
           "J_gen_6",
           0,
           1,
           null,
           null,
           null,
           "P0DT8H0M0S",
           "P0DT3H0M0S",
           "P0DT11H0M0S"
          ]
         ],
         "hovertemplate": "<b>%{hovertext}</b><br><br>actual_starting_date=%{base}<br>actual_ending_date=%{x}<br>target_station_name=%{y}<br>target_station_custom_id=%{customdata[1]}<br>execution_system_custom_id=%{customdata[2]}<br>prio=%{customdata[3]}<br>planned_starting_date=%{customdata[4]}<br>planned_ending_date=%{customdata[5]}<br>proc_time=%{customdata[6]}<br>setup_time=%{customdata[7]}<br>order_time=%{customdata[8]}<extra></extra>",
         "hovertext": [
          "J_gen_6"
         ],
         "legendgroup": "J_gen_6",
         "marker": {
          "color": "#FF97FF",
          "pattern": {
           "shape": ""
          }
         },
         "name": "J_gen_6",
         "offsetgroup": "J_gen_6",
         "orientation": "h",
         "showlegend": true,
         "textposition": "auto",
         "type": "bar",
         "x": [
          39600000
         ],
         "xaxis": "x",
         "y": [
          "Machine_env_3"
         ],
         "yaxis": "y"
        },
        {
         "alignmentgroup": "True",
         "base": [
          "2024-03-28T16:10:00+01:00"
         ],
         "customdata": [
          [
           "J_gen_7",
           0,
           1,
           null,
           null,
           null,
           "P0DT6H0M0S",
           "P0DT7H0M0S",
           "P0DT13H0M0S"
          ]
         ],
         "hovertemplate": "<b>%{hovertext}</b><br><br>actual_starting_date=%{base}<br>actual_ending_date=%{x}<br>target_station_name=%{y}<br>target_station_custom_id=%{customdata[1]}<br>execution_system_custom_id=%{customdata[2]}<br>prio=%{customdata[3]}<br>planned_starting_date=%{customdata[4]}<br>planned_ending_date=%{customdata[5]}<br>proc_time=%{customdata[6]}<br>setup_time=%{customdata[7]}<br>order_time=%{customdata[8]}<extra></extra>",
         "hovertext": [
          "J_gen_7"
         ],
         "legendgroup": "J_gen_7",
         "marker": {
          "color": "#FECB52",
          "pattern": {
           "shape": ""
          }
         },
         "name": "J_gen_7",
         "offsetgroup": "J_gen_7",
         "orientation": "h",
         "showlegend": true,
         "textposition": "auto",
         "type": "bar",
         "x": [
          46800000
         ],
         "xaxis": "x",
         "y": [
          "Machine_env_3"
         ],
         "yaxis": "y"
        },
        {
         "alignmentgroup": "True",
         "base": [
          "2024-03-28T08:10:00+01:00"
         ],
         "customdata": [
          [
           "J_gen_8",
           1,
           1,
           null,
           null,
           null,
           "P0DT8H0M0S",
           "P0DT1H0M0S",
           "P0DT9H0M0S"
          ]
         ],
         "hovertemplate": "<b>%{hovertext}</b><br><br>actual_starting_date=%{base}<br>actual_ending_date=%{x}<br>target_station_name=%{y}<br>target_station_custom_id=%{customdata[1]}<br>execution_system_custom_id=%{customdata[2]}<br>prio=%{customdata[3]}<br>planned_starting_date=%{customdata[4]}<br>planned_ending_date=%{customdata[5]}<br>proc_time=%{customdata[6]}<br>setup_time=%{customdata[7]}<br>order_time=%{customdata[8]}<extra></extra>",
         "hovertext": [
          "J_gen_8"
         ],
         "legendgroup": "J_gen_8",
         "marker": {
          "color": "#636efa",
          "pattern": {
           "shape": ""
          }
         },
         "name": "J_gen_8",
         "offsetgroup": "J_gen_8",
         "orientation": "h",
         "showlegend": true,
         "textposition": "auto",
         "type": "bar",
         "x": [
          32400000
         ],
         "xaxis": "x",
         "y": [
          "Machine_env_5"
         ],
         "yaxis": "y"
        },
        {
         "alignmentgroup": "True",
         "base": [
          "2024-03-27T20:10:00+01:00"
         ],
         "customdata": [
          [
           "J_gen_9",
           1,
           1,
           null,
           null,
           null,
           "P0DT9H0M0S",
           "P0DT3H0M0S",
           "P0DT12H0M0S"
          ]
         ],
         "hovertemplate": "<b>%{hovertext}</b><br><br>actual_starting_date=%{base}<br>actual_ending_date=%{x}<br>target_station_name=%{y}<br>target_station_custom_id=%{customdata[1]}<br>execution_system_custom_id=%{customdata[2]}<br>prio=%{customdata[3]}<br>planned_starting_date=%{customdata[4]}<br>planned_ending_date=%{customdata[5]}<br>proc_time=%{customdata[6]}<br>setup_time=%{customdata[7]}<br>order_time=%{customdata[8]}<extra></extra>",
         "hovertext": [
          "J_gen_9"
         ],
         "legendgroup": "J_gen_9",
         "marker": {
          "color": "#EF553B",
          "pattern": {
           "shape": ""
          }
         },
         "name": "J_gen_9",
         "offsetgroup": "J_gen_9",
         "orientation": "h",
         "showlegend": true,
         "textposition": "auto",
         "type": "bar",
         "x": [
          43200000
         ],
         "xaxis": "x",
         "y": [
          "Machine_env_5"
         ],
         "yaxis": "y"
        }
       ],
       "layout": {
        "autosize": true,
        "barmode": "overlay",
        "legend": {
         "title": {
          "text": "job_name"
         },
         "tracegroupgap": 0
        },
        "margin": {
         "t": 60
        },
        "template": {
         "data": {
          "bar": [
           {
            "error_x": {
             "color": "#2a3f5f"
            },
            "error_y": {
             "color": "#2a3f5f"
            },
            "marker": {
             "line": {
              "color": "#E5ECF6",
              "width": 0.5
             },
             "pattern": {
              "fillmode": "overlay",
              "size": 10,
              "solidity": 0.2
             }
            },
            "type": "bar"
           }
          ],
          "barpolar": [
           {
            "marker": {
             "line": {
              "color": "#E5ECF6",
              "width": 0.5
             },
             "pattern": {
              "fillmode": "overlay",
              "size": 10,
              "solidity": 0.2
             }
            },
            "type": "barpolar"
           }
          ],
          "carpet": [
           {
            "aaxis": {
             "endlinecolor": "#2a3f5f",
             "gridcolor": "white",
             "linecolor": "white",
             "minorgridcolor": "white",
             "startlinecolor": "#2a3f5f"
            },
            "baxis": {
             "endlinecolor": "#2a3f5f",
             "gridcolor": "white",
             "linecolor": "white",
             "minorgridcolor": "white",
             "startlinecolor": "#2a3f5f"
            },
            "type": "carpet"
           }
          ],
          "choropleth": [
           {
            "colorbar": {
             "outlinewidth": 0,
             "ticks": ""
            },
            "type": "choropleth"
           }
          ],
          "contour": [
           {
            "colorbar": {
             "outlinewidth": 0,
             "ticks": ""
            },
            "colorscale": [
             [
              0,
              "#0d0887"
             ],
             [
              0.1111111111111111,
              "#46039f"
             ],
             [
              0.2222222222222222,
              "#7201a8"
             ],
             [
              0.3333333333333333,
              "#9c179e"
             ],
             [
              0.4444444444444444,
              "#bd3786"
             ],
             [
              0.5555555555555556,
              "#d8576b"
             ],
             [
              0.6666666666666666,
              "#ed7953"
             ],
             [
              0.7777777777777778,
              "#fb9f3a"
             ],
             [
              0.8888888888888888,
              "#fdca26"
             ],
             [
              1,
              "#f0f921"
             ]
            ],
            "type": "contour"
           }
          ],
          "contourcarpet": [
           {
            "colorbar": {
             "outlinewidth": 0,
             "ticks": ""
            },
            "type": "contourcarpet"
           }
          ],
          "heatmap": [
           {
            "colorbar": {
             "outlinewidth": 0,
             "ticks": ""
            },
            "colorscale": [
             [
              0,
              "#0d0887"
             ],
             [
              0.1111111111111111,
              "#46039f"
             ],
             [
              0.2222222222222222,
              "#7201a8"
             ],
             [
              0.3333333333333333,
              "#9c179e"
             ],
             [
              0.4444444444444444,
              "#bd3786"
             ],
             [
              0.5555555555555556,
              "#d8576b"
             ],
             [
              0.6666666666666666,
              "#ed7953"
             ],
             [
              0.7777777777777778,
              "#fb9f3a"
             ],
             [
              0.8888888888888888,
              "#fdca26"
             ],
             [
              1,
              "#f0f921"
             ]
            ],
            "type": "heatmap"
           }
          ],
          "heatmapgl": [
           {
            "colorbar": {
             "outlinewidth": 0,
             "ticks": ""
            },
            "colorscale": [
             [
              0,
              "#0d0887"
             ],
             [
              0.1111111111111111,
              "#46039f"
             ],
             [
              0.2222222222222222,
              "#7201a8"
             ],
             [
              0.3333333333333333,
              "#9c179e"
             ],
             [
              0.4444444444444444,
              "#bd3786"
             ],
             [
              0.5555555555555556,
              "#d8576b"
             ],
             [
              0.6666666666666666,
              "#ed7953"
             ],
             [
              0.7777777777777778,
              "#fb9f3a"
             ],
             [
              0.8888888888888888,
              "#fdca26"
             ],
             [
              1,
              "#f0f921"
             ]
            ],
            "type": "heatmapgl"
           }
          ],
          "histogram": [
           {
            "marker": {
             "pattern": {
              "fillmode": "overlay",
              "size": 10,
              "solidity": 0.2
             }
            },
            "type": "histogram"
           }
          ],
          "histogram2d": [
           {
            "colorbar": {
             "outlinewidth": 0,
             "ticks": ""
            },
            "colorscale": [
             [
              0,
              "#0d0887"
             ],
             [
              0.1111111111111111,
              "#46039f"
             ],
             [
              0.2222222222222222,
              "#7201a8"
             ],
             [
              0.3333333333333333,
              "#9c179e"
             ],
             [
              0.4444444444444444,
              "#bd3786"
             ],
             [
              0.5555555555555556,
              "#d8576b"
             ],
             [
              0.6666666666666666,
              "#ed7953"
             ],
             [
              0.7777777777777778,
              "#fb9f3a"
             ],
             [
              0.8888888888888888,
              "#fdca26"
             ],
             [
              1,
              "#f0f921"
             ]
            ],
            "type": "histogram2d"
           }
          ],
          "histogram2dcontour": [
           {
            "colorbar": {
             "outlinewidth": 0,
             "ticks": ""
            },
            "colorscale": [
             [
              0,
              "#0d0887"
             ],
             [
              0.1111111111111111,
              "#46039f"
             ],
             [
              0.2222222222222222,
              "#7201a8"
             ],
             [
              0.3333333333333333,
              "#9c179e"
             ],
             [
              0.4444444444444444,
              "#bd3786"
             ],
             [
              0.5555555555555556,
              "#d8576b"
             ],
             [
              0.6666666666666666,
              "#ed7953"
             ],
             [
              0.7777777777777778,
              "#fb9f3a"
             ],
             [
              0.8888888888888888,
              "#fdca26"
             ],
             [
              1,
              "#f0f921"
             ]
            ],
            "type": "histogram2dcontour"
           }
          ],
          "mesh3d": [
           {
            "colorbar": {
             "outlinewidth": 0,
             "ticks": ""
            },
            "type": "mesh3d"
           }
          ],
          "parcoords": [
           {
            "line": {
             "colorbar": {
              "outlinewidth": 0,
              "ticks": ""
             }
            },
            "type": "parcoords"
           }
          ],
          "pie": [
           {
            "automargin": true,
            "type": "pie"
           }
          ],
          "scatter": [
           {
            "fillpattern": {
             "fillmode": "overlay",
             "size": 10,
             "solidity": 0.2
            },
            "type": "scatter"
           }
          ],
          "scatter3d": [
           {
            "line": {
             "colorbar": {
              "outlinewidth": 0,
              "ticks": ""
             }
            },
            "marker": {
             "colorbar": {
              "outlinewidth": 0,
              "ticks": ""
             }
            },
            "type": "scatter3d"
           }
          ],
          "scattercarpet": [
           {
            "marker": {
             "colorbar": {
              "outlinewidth": 0,
              "ticks": ""
             }
            },
            "type": "scattercarpet"
           }
          ],
          "scattergeo": [
           {
            "marker": {
             "colorbar": {
              "outlinewidth": 0,
              "ticks": ""
             }
            },
            "type": "scattergeo"
           }
          ],
          "scattergl": [
           {
            "marker": {
             "colorbar": {
              "outlinewidth": 0,
              "ticks": ""
             }
            },
            "type": "scattergl"
           }
          ],
          "scattermapbox": [
           {
            "marker": {
             "colorbar": {
              "outlinewidth": 0,
              "ticks": ""
             }
            },
            "type": "scattermapbox"
           }
          ],
          "scatterpolar": [
           {
            "marker": {
             "colorbar": {
              "outlinewidth": 0,
              "ticks": ""
             }
            },
            "type": "scatterpolar"
           }
          ],
          "scatterpolargl": [
           {
            "marker": {
             "colorbar": {
              "outlinewidth": 0,
              "ticks": ""
             }
            },
            "type": "scatterpolargl"
           }
          ],
          "scatterternary": [
           {
            "marker": {
             "colorbar": {
              "outlinewidth": 0,
              "ticks": ""
             }
            },
            "type": "scatterternary"
           }
          ],
          "surface": [
           {
            "colorbar": {
             "outlinewidth": 0,
             "ticks": ""
            },
            "colorscale": [
             [
              0,
              "#0d0887"
             ],
             [
              0.1111111111111111,
              "#46039f"
             ],
             [
              0.2222222222222222,
              "#7201a8"
             ],
             [
              0.3333333333333333,
              "#9c179e"
             ],
             [
              0.4444444444444444,
              "#bd3786"
             ],
             [
              0.5555555555555556,
              "#d8576b"
             ],
             [
              0.6666666666666666,
              "#ed7953"
             ],
             [
              0.7777777777777778,
              "#fb9f3a"
             ],
             [
              0.8888888888888888,
              "#fdca26"
             ],
             [
              1,
              "#f0f921"
             ]
            ],
            "type": "surface"
           }
          ],
          "table": [
           {
            "cells": {
             "fill": {
              "color": "#EBF0F8"
             },
             "line": {
              "color": "white"
             }
            },
            "header": {
             "fill": {
              "color": "#C8D4E3"
             },
             "line": {
              "color": "white"
             }
            },
            "type": "table"
           }
          ]
         },
         "layout": {
          "annotationdefaults": {
           "arrowcolor": "#2a3f5f",
           "arrowhead": 0,
           "arrowwidth": 1
          },
          "autotypenumbers": "strict",
          "coloraxis": {
           "colorbar": {
            "outlinewidth": 0,
            "ticks": ""
           }
          },
          "colorscale": {
           "diverging": [
            [
             0,
             "#8e0152"
            ],
            [
             0.1,
             "#c51b7d"
            ],
            [
             0.2,
             "#de77ae"
            ],
            [
             0.3,
             "#f1b6da"
            ],
            [
             0.4,
             "#fde0ef"
            ],
            [
             0.5,
             "#f7f7f7"
            ],
            [
             0.6,
             "#e6f5d0"
            ],
            [
             0.7,
             "#b8e186"
            ],
            [
             0.8,
             "#7fbc41"
            ],
            [
             0.9,
             "#4d9221"
            ],
            [
             1,
             "#276419"
            ]
           ],
           "sequential": [
            [
             0,
             "#0d0887"
            ],
            [
             0.1111111111111111,
             "#46039f"
            ],
            [
             0.2222222222222222,
             "#7201a8"
            ],
            [
             0.3333333333333333,
             "#9c179e"
            ],
            [
             0.4444444444444444,
             "#bd3786"
            ],
            [
             0.5555555555555556,
             "#d8576b"
            ],
            [
             0.6666666666666666,
             "#ed7953"
            ],
            [
             0.7777777777777778,
             "#fb9f3a"
            ],
            [
             0.8888888888888888,
             "#fdca26"
            ],
            [
             1,
             "#f0f921"
            ]
           ],
           "sequentialminus": [
            [
             0,
             "#0d0887"
            ],
            [
             0.1111111111111111,
             "#46039f"
            ],
            [
             0.2222222222222222,
             "#7201a8"
            ],
            [
             0.3333333333333333,
             "#9c179e"
            ],
            [
             0.4444444444444444,
             "#bd3786"
            ],
            [
             0.5555555555555556,
             "#d8576b"
            ],
            [
             0.6666666666666666,
             "#ed7953"
            ],
            [
             0.7777777777777778,
             "#fb9f3a"
            ],
            [
             0.8888888888888888,
             "#fdca26"
            ],
            [
             1,
             "#f0f921"
            ]
           ]
          },
          "colorway": [
           "#636efa",
           "#EF553B",
           "#00cc96",
           "#ab63fa",
           "#FFA15A",
           "#19d3f3",
           "#FF6692",
           "#B6E880",
           "#FF97FF",
           "#FECB52"
          ],
          "font": {
           "color": "#2a3f5f"
          },
          "geo": {
           "bgcolor": "white",
           "lakecolor": "white",
           "landcolor": "#E5ECF6",
           "showlakes": true,
           "showland": true,
           "subunitcolor": "white"
          },
          "hoverlabel": {
           "align": "left"
          },
          "hovermode": "closest",
          "mapbox": {
           "style": "light"
          },
          "paper_bgcolor": "white",
          "plot_bgcolor": "#E5ECF6",
          "polar": {
           "angularaxis": {
            "gridcolor": "white",
            "linecolor": "white",
            "ticks": ""
           },
           "bgcolor": "#E5ECF6",
           "radialaxis": {
            "gridcolor": "white",
            "linecolor": "white",
            "ticks": ""
           }
          },
          "scene": {
           "xaxis": {
            "backgroundcolor": "#E5ECF6",
            "gridcolor": "white",
            "gridwidth": 2,
            "linecolor": "white",
            "showbackground": true,
            "ticks": "",
            "zerolinecolor": "white"
           },
           "yaxis": {
            "backgroundcolor": "#E5ECF6",
            "gridcolor": "white",
            "gridwidth": 2,
            "linecolor": "white",
            "showbackground": true,
            "ticks": "",
            "zerolinecolor": "white"
           },
           "zaxis": {
            "backgroundcolor": "#E5ECF6",
            "gridcolor": "white",
            "gridwidth": 2,
            "linecolor": "white",
            "showbackground": true,
            "ticks": "",
            "zerolinecolor": "white"
           }
          },
          "shapedefaults": {
           "line": {
            "color": "#2a3f5f"
           }
          },
          "ternary": {
           "aaxis": {
            "gridcolor": "white",
            "linecolor": "white",
            "ticks": ""
           },
           "baxis": {
            "gridcolor": "white",
            "linecolor": "white",
            "ticks": ""
           },
           "bgcolor": "#E5ECF6",
           "caxis": {
            "gridcolor": "white",
            "linecolor": "white",
            "ticks": ""
           }
          },
          "title": {
           "x": 0.05
          },
          "xaxis": {
           "automargin": true,
           "gridcolor": "white",
           "linecolor": "white",
           "ticks": "",
           "title": {
            "standoff": 15
           },
           "zerolinecolor": "white",
           "zerolinewidth": 2
          },
          "yaxis": {
           "automargin": true,
           "gridcolor": "white",
           "linecolor": "white",
           "ticks": "",
           "title": {
            "standoff": 15
           },
           "zerolinecolor": "white",
           "zerolinewidth": 2
          }
         }
        },
        "xaxis": {
         "anchor": "y",
         "autorange": true,
         "domain": [
          0,
          1
         ],
         "range": [
          "2024-03-26 12:03:20",
          "2024-03-29 22:16:40"
         ],
         "type": "date"
        },
        "yaxis": {
         "anchor": "x",
         "autorange": true,
         "domain": [
          0,
          1
         ],
         "range": [
          2.5,
          -0.5
         ],
         "title": {
          "text": "target_station_name"
         },
         "type": "category"
        }
       }
      },
      "image/png": "[encoded data removed]",
      "text/html": [
       "<div>                            <div id=\"5ec91d17-a39d-47b2-acd7-58a113a07f31\" class=\"plotly-graph-div\" style=\"height:525px; width:100%;\"></div>            <script type=\"text/javascript\">                require([\"plotly\"], function(Plotly) {                    window.PLOTLYENV=window.PLOTLYENV || {};                                    if (document.getElementById(\"5ec91d17-a39d-47b2-acd7-58a113a07f31\")) {                    Plotly.newPlot(                        \"5ec91d17-a39d-47b2-acd7-58a113a07f31\",                        [{\"alignmentgroup\":\"True\",\"base\":[\"2024-03-26T16:10:00+01:00\"],\"customdata\":[[\"J_gen_0\",0,1,null,null,null,\"P0DT7H0M0S\",\"P0DT4H0M0S\",\"P0DT11H0M0S\"]],\"hovertemplate\":\"\\u003cb\\u003e%{hovertext}\\u003c\\u002fb\\u003e\\u003cbr\\u003e\\u003cbr\\u003eactual_starting_date=%{base}\\u003cbr\\u003eactual_ending_date=%{x}\\u003cbr\\u003etarget_station_name=%{y}\\u003cbr\\u003etarget_station_custom_id=%{customdata[1]}\\u003cbr\\u003eexecution_system_custom_id=%{customdata[2]}\\u003cbr\\u003eprio=%{customdata[3]}\\u003cbr\\u003eplanned_starting_date=%{customdata[4]}\\u003cbr\\u003eplanned_ending_date=%{customdata[5]}\\u003cbr\\u003eproc_time=%{customdata[6]}\\u003cbr\\u003esetup_time=%{customdata[7]}\\u003cbr\\u003eorder_time=%{customdata[8]}\\u003cextra\\u003e\\u003c\\u002fextra\\u003e\",\"hovertext\":[\"J_gen_0\"],\"legendgroup\":\"J_gen_0\",\"marker\":{\"color\":\"#636efa\",\"pattern\":{\"shape\":\"\"}},\"name\":\"J_gen_0\",\"offsetgroup\":\"J_gen_0\",\"orientation\":\"h\",\"showlegend\":true,\"textposition\":\"auto\",\"x\":[39600000.0],\"xaxis\":\"x\",\"y\":[\"Machine_env_3\"],\"yaxis\":\"y\",\"type\":\"bar\"},{\"alignmentgroup\":\"True\",\"base\":[\"2024-03-26T18:10:00+01:00\"],\"customdata\":[[\"J_gen_1\",1,1,null,null,null,\"P0DT8H0M0S\",\"P0DT2H0M0S\",\"P0DT10H0M0S\"]],\"hovertemplate\":\"\\u003cb\\u003e%{hovertext}\\u003c\\u002fb\\u003e\\u003cbr\\u003e\\u003cbr\\u003eactual_starting_date=%{base}\\u003cbr\\u003eactual_ending_date=%{x}\\u003cbr\\u003etarget_station_name=%{y}\\u003cbr\\u003etarget_station_custom_id=%{customdata[1]}\\u003cbr\\u003eexecution_system_custom_id=%{customdata[2]}\\u003cbr\\u003eprio=%{customdata[3]}\\u003cbr\\u003eplanned_starting_date=%{customdata[4]}\\u003cbr\\u003eplanned_ending_date=%{customdata[5]}\\u003cbr\\u003eproc_time=%{customdata[6]}\\u003cbr\\u003esetup_time=%{customdata[7]}\\u003cbr\\u003eorder_time=%{customdata[8]}\\u003cextra\\u003e\\u003c\\u002fextra\\u003e\",\"hovertext\":[\"J_gen_1\"],\"legendgroup\":\"J_gen_1\",\"marker\":{\"color\":\"#EF553B\",\"pattern\":{\"shape\":\"\"}},\"name\":\"J_gen_1\",\"offsetgroup\":\"J_gen_1\",\"orientation\":\"h\",\"showlegend\":true,\"textposition\":\"auto\",\"x\":[36000000.0],\"xaxis\":\"x\",\"y\":[\"Machine_env_5\"],\"yaxis\":\"y\",\"type\":\"bar\"},{\"alignmentgroup\":\"True\",\"base\":[\"2024-03-27T12:10:00+01:00\"],\"customdata\":[[\"J_gen_10\",2,1,null,null,null,\"P0DT6H0M0S\",\"P0DT1H0M0S\",\"P0DT7H0M0S\"]],\"hovertemplate\":\"\\u003cb\\u003e%{hovertext}\\u003c\\u002fb\\u003e\\u003cbr\\u003e\\u003cbr\\u003eactual_starting_date=%{base}\\u003cbr\\u003eactual_ending_date=%{x}\\u003cbr\\u003etarget_station_name=%{y}\\u003cbr\\u003etarget_station_custom_id=%{customdata[1]}\\u003cbr\\u003eexecution_system_custom_id=%{customdata[2]}\\u003cbr\\u003eprio=%{customdata[3]}\\u003cbr\\u003eplanned_starting_date=%{customdata[4]}\\u003cbr\\u003eplanned_ending_date=%{customdata[5]}\\u003cbr\\u003eproc_time=%{customdata[6]}\\u003cbr\\u003esetup_time=%{customdata[7]}\\u003cbr\\u003eorder_time=%{customdata[8]}\\u003cextra\\u003e\\u003c\\u002fextra\\u003e\",\"hovertext\":[\"J_gen_10\"],\"legendgroup\":\"J_gen_10\",\"marker\":{\"color\":\"#00cc96\",\"pattern\":{\"shape\":\"\"}},\"name\":\"J_gen_10\",\"offsetgroup\":\"J_gen_10\",\"orientation\":\"h\",\"showlegend\":true,\"textposition\":\"auto\",\"x\":[25200000.0],\"xaxis\":\"x\",\"y\":[\"Machine_env_7\"],\"yaxis\":\"y\",\"type\":\"bar\"},{\"alignmentgroup\":\"True\",\"base\":[\"2024-03-27T19:10:00+01:00\"],\"customdata\":[[\"J_gen_11\",2,1,null,null,null,\"P0DT6H0M0S\",\"P0DT3H0M0S\",\"P0DT9H0M0S\"]],\"hovertemplate\":\"\\u003cb\\u003e%{hovertext}\\u003c\\u002fb\\u003e\\u003cbr\\u003e\\u003cbr\\u003eactual_starting_date=%{base}\\u003cbr\\u003eactual_ending_date=%{x}\\u003cbr\\u003etarget_station_name=%{y}\\u003cbr\\u003etarget_station_custom_id=%{customdata[1]}\\u003cbr\\u003eexecution_system_custom_id=%{customdata[2]}\\u003cbr\\u003eprio=%{customdata[3]}\\u003cbr\\u003eplanned_starting_date=%{customdata[4]}\\u003cbr\\u003eplanned_ending_date=%{customdata[5]}\\u003cbr\\u003eproc_time=%{customdata[6]}\\u003cbr\\u003esetup_time=%{customdata[7]}\\u003cbr\\u003eorder_time=%{customdata[8]}\\u003cextra\\u003e\\u003c\\u002fextra\\u003e\",\"hovertext\":[\"J_gen_11\"],\"legendgroup\":\"J_gen_11\",\"marker\":{\"color\":\"#ab63fa\",\"pattern\":{\"shape\":\"\"}},\"name\":\"J_gen_11\",\"offsetgroup\":\"J_gen_11\",\"orientation\":\"h\",\"showlegend\":true,\"textposition\":\"auto\",\"x\":[32400000.0],\"xaxis\":\"x\",\"y\":[\"Machine_env_7\"],\"yaxis\":\"y\",\"type\":\"bar\"},{\"alignmentgroup\":\"True\",\"base\":[\"2024-03-28T02:10:00+01:00\"],\"customdata\":[[\"J_gen_2\",0,1,null,null,null,\"P0DT6H0M0S\",\"P0DT8H0M0S\",\"P0DT14H0M0S\"]],\"hovertemplate\":\"\\u003cb\\u003e%{hovertext}\\u003c\\u002fb\\u003e\\u003cbr\\u003e\\u003cbr\\u003eactual_starting_date=%{base}\\u003cbr\\u003eactual_ending_date=%{x}\\u003cbr\\u003etarget_station_name=%{y}\\u003cbr\\u003etarget_station_custom_id=%{customdata[1]}\\u003cbr\\u003eexecution_system_custom_id=%{customdata[2]}\\u003cbr\\u003eprio=%{customdata[3]}\\u003cbr\\u003eplanned_starting_date=%{customdata[4]}\\u003cbr\\u003eplanned_ending_date=%{customdata[5]}\\u003cbr\\u003eproc_time=%{customdata[6]}\\u003cbr\\u003esetup_time=%{customdata[7]}\\u003cbr\\u003eorder_time=%{customdata[8]}\\u003cextra\\u003e\\u003c\\u002fextra\\u003e\",\"hovertext\":[\"J_gen_2\"],\"legendgroup\":\"J_gen_2\",\"marker\":{\"color\":\"#FFA15A\",\"pattern\":{\"shape\":\"\"}},\"name\":\"J_gen_2\",\"offsetgroup\":\"J_gen_2\",\"orientation\":\"h\",\"showlegend\":true,\"textposition\":\"auto\",\"x\":[50400000.0],\"xaxis\":\"x\",\"y\":[\"Machine_env_3\"],\"yaxis\":\"y\",\"type\":\"bar\"},{\"alignmentgroup\":\"True\",\"base\":[\"2024-03-27T03:10:00+01:00\"],\"customdata\":[[\"J_gen_3\",0,1,null,null,null,\"P0DT7H0M0S\",\"P0DT5H0M0S\",\"P0DT12H0M0S\"]],\"hovertemplate\":\"\\u003cb\\u003e%{hovertext}\\u003c\\u002fb\\u003e\\u003cbr\\u003e\\u003cbr\\u003eactual_starting_date=%{base}\\u003cbr\\u003eactual_ending_date=%{x}\\u003cbr\\u003etarget_station_name=%{y}\\u003cbr\\u003etarget_station_custom_id=%{customdata[1]}\\u003cbr\\u003eexecution_system_custom_id=%{customdata[2]}\\u003cbr\\u003eprio=%{customdata[3]}\\u003cbr\\u003eplanned_starting_date=%{customdata[4]}\\u003cbr\\u003eplanned_ending_date=%{customdata[5]}\\u003cbr\\u003eproc_time=%{customdata[6]}\\u003cbr\\u003esetup_time=%{customdata[7]}\\u003cbr\\u003eorder_time=%{customdata[8]}\\u003cextra\\u003e\\u003c\\u002fextra\\u003e\",\"hovertext\":[\"J_gen_3\"],\"legendgroup\":\"J_gen_3\",\"marker\":{\"color\":\"#19d3f3\",\"pattern\":{\"shape\":\"\"}},\"name\":\"J_gen_3\",\"offsetgroup\":\"J_gen_3\",\"orientation\":\"h\",\"showlegend\":true,\"textposition\":\"auto\",\"x\":[43200000.0],\"xaxis\":\"x\",\"y\":[\"Machine_env_3\"],\"yaxis\":\"y\",\"type\":\"bar\"},{\"alignmentgroup\":\"True\",\"base\":[\"2024-03-27T04:10:00+01:00\"],\"customdata\":[[\"J_gen_4\",1,1,null,null,null,\"P0DT9H0M0S\",\"P0DT7H0M0S\",\"P0DT16H0M0S\"]],\"hovertemplate\":\"\\u003cb\\u003e%{hovertext}\\u003c\\u002fb\\u003e\\u003cbr\\u003e\\u003cbr\\u003eactual_starting_date=%{base}\\u003cbr\\u003eactual_ending_date=%{x}\\u003cbr\\u003etarget_station_name=%{y}\\u003cbr\\u003etarget_station_custom_id=%{customdata[1]}\\u003cbr\\u003eexecution_system_custom_id=%{customdata[2]}\\u003cbr\\u003eprio=%{customdata[3]}\\u003cbr\\u003eplanned_starting_date=%{customdata[4]}\\u003cbr\\u003eplanned_ending_date=%{customdata[5]}\\u003cbr\\u003eproc_time=%{customdata[6]}\\u003cbr\\u003esetup_time=%{customdata[7]}\\u003cbr\\u003eorder_time=%{customdata[8]}\\u003cextra\\u003e\\u003c\\u002fextra\\u003e\",\"hovertext\":[\"J_gen_4\"],\"legendgroup\":\"J_gen_4\",\"marker\":{\"color\":\"#FF6692\",\"pattern\":{\"shape\":\"\"}},\"name\":\"J_gen_4\",\"offsetgroup\":\"J_gen_4\",\"orientation\":\"h\",\"showlegend\":true,\"textposition\":\"auto\",\"x\":[57600000.0],\"xaxis\":\"x\",\"y\":[\"Machine_env_5\"],\"yaxis\":\"y\",\"type\":\"bar\"},{\"alignmentgroup\":\"True\",\"base\":[\"2024-03-29T05:10:00+01:00\"],\"customdata\":[[\"J_gen_5\",0,1,null,null,null,\"P0DT5H0M0S\",\"P0DT8H0M0S\",\"P0DT13H0M0S\"]],\"hovertemplate\":\"\\u003cb\\u003e%{hovertext}\\u003c\\u002fb\\u003e\\u003cbr\\u003e\\u003cbr\\u003eactual_starting_date=%{base}\\u003cbr\\u003eactual_ending_date=%{x}\\u003cbr\\u003etarget_station_name=%{y}\\u003cbr\\u003etarget_station_custom_id=%{customdata[1]}\\u003cbr\\u003eexecution_system_custom_id=%{customdata[2]}\\u003cbr\\u003eprio=%{customdata[3]}\\u003cbr\\u003eplanned_starting_date=%{customdata[4]}\\u003cbr\\u003eplanned_ending_date=%{customdata[5]}\\u003cbr\\u003eproc_time=%{customdata[6]}\\u003cbr\\u003esetup_time=%{customdata[7]}\\u003cbr\\u003eorder_time=%{customdata[8]}\\u003cextra\\u003e\\u003c\\u002fextra\\u003e\",\"hovertext\":[\"J_gen_5\"],\"legendgroup\":\"J_gen_5\",\"marker\":{\"color\":\"#B6E880\",\"pattern\":{\"shape\":\"\"}},\"name\":\"J_gen_5\",\"offsetgroup\":\"J_gen_5\",\"orientation\":\"h\",\"showlegend\":true,\"textposition\":\"auto\",\"x\":[46800000.0],\"xaxis\":\"x\",\"y\":[\"Machine_env_3\"],\"yaxis\":\"y\",\"type\":\"bar\"},{\"alignmentgroup\":\"True\",\"base\":[\"2024-03-27T15:10:00+01:00\"],\"customdata\":[[\"J_gen_6\",0,1,null,null,null,\"P0DT8H0M0S\",\"P0DT3H0M0S\",\"P0DT11H0M0S\"]],\"hovertemplate\":\"\\u003cb\\u003e%{hovertext}\\u003c\\u002fb\\u003e\\u003cbr\\u003e\\u003cbr\\u003eactual_starting_date=%{base}\\u003cbr\\u003eactual_ending_date=%{x}\\u003cbr\\u003etarget_station_name=%{y}\\u003cbr\\u003etarget_station_custom_id=%{customdata[1]}\\u003cbr\\u003eexecution_system_custom_id=%{customdata[2]}\\u003cbr\\u003eprio=%{customdata[3]}\\u003cbr\\u003eplanned_starting_date=%{customdata[4]}\\u003cbr\\u003eplanned_ending_date=%{customdata[5]}\\u003cbr\\u003eproc_time=%{customdata[6]}\\u003cbr\\u003esetup_time=%{customdata[7]}\\u003cbr\\u003eorder_time=%{customdata[8]}\\u003cextra\\u003e\\u003c\\u002fextra\\u003e\",\"hovertext\":[\"J_gen_6\"],\"legendgroup\":\"J_gen_6\",\"marker\":{\"color\":\"#FF97FF\",\"pattern\":{\"shape\":\"\"}},\"name\":\"J_gen_6\",\"offsetgroup\":\"J_gen_6\",\"orientation\":\"h\",\"showlegend\":true,\"textposition\":\"auto\",\"x\":[39600000.0],\"xaxis\":\"x\",\"y\":[\"Machine_env_3\"],\"yaxis\":\"y\",\"type\":\"bar\"},{\"alignmentgroup\":\"True\",\"base\":[\"2024-03-28T16:10:00+01:00\"],\"customdata\":[[\"J_gen_7\",0,1,null,null,null,\"P0DT6H0M0S\",\"P0DT7H0M0S\",\"P0DT13H0M0S\"]],\"hovertemplate\":\"\\u003cb\\u003e%{hovertext}\\u003c\\u002fb\\u003e\\u003cbr\\u003e\\u003cbr\\u003eactual_starting_date=%{base}\\u003cbr\\u003eactual_ending_date=%{x}\\u003cbr\\u003etarget_station_name=%{y}\\u003cbr\\u003etarget_station_custom_id=%{customdata[1]}\\u003cbr\\u003eexecution_system_custom_id=%{customdata[2]}\\u003cbr\\u003eprio=%{customdata[3]}\\u003cbr\\u003eplanned_starting_date=%{customdata[4]}\\u003cbr\\u003eplanned_ending_date=%{customdata[5]}\\u003cbr\\u003eproc_time=%{customdata[6]}\\u003cbr\\u003esetup_time=%{customdata[7]}\\u003cbr\\u003eorder_time=%{customdata[8]}\\u003cextra\\u003e\\u003c\\u002fextra\\u003e\",\"hovertext\":[\"J_gen_7\"],\"legendgroup\":\"J_gen_7\",\"marker\":{\"color\":\"#FECB52\",\"pattern\":{\"shape\":\"\"}},\"name\":\"J_gen_7\",\"offsetgroup\":\"J_gen_7\",\"orientation\":\"h\",\"showlegend\":true,\"textposition\":\"auto\",\"x\":[46800000.0],\"xaxis\":\"x\",\"y\":[\"Machine_env_3\"],\"yaxis\":\"y\",\"type\":\"bar\"},{\"alignmentgroup\":\"True\",\"base\":[\"2024-03-28T08:10:00+01:00\"],\"customdata\":[[\"J_gen_8\",1,1,null,null,null,\"P0DT8H0M0S\",\"P0DT1H0M0S\",\"P0DT9H0M0S\"]],\"hovertemplate\":\"\\u003cb\\u003e%{hovertext}\\u003c\\u002fb\\u003e\\u003cbr\\u003e\\u003cbr\\u003eactual_starting_date=%{base}\\u003cbr\\u003eactual_ending_date=%{x}\\u003cbr\\u003etarget_station_name=%{y}\\u003cbr\\u003etarget_station_custom_id=%{customdata[1]}\\u003cbr\\u003eexecution_system_custom_id=%{customdata[2]}\\u003cbr\\u003eprio=%{customdata[3]}\\u003cbr\\u003eplanned_starting_date=%{customdata[4]}\\u003cbr\\u003eplanned_ending_date=%{customdata[5]}\\u003cbr\\u003eproc_time=%{customdata[6]}\\u003cbr\\u003esetup_time=%{customdata[7]}\\u003cbr\\u003eorder_time=%{customdata[8]}\\u003cextra\\u003e\\u003c\\u002fextra\\u003e\",\"hovertext\":[\"J_gen_8\"],\"legendgroup\":\"J_gen_8\",\"marker\":{\"color\":\"#636efa\",\"pattern\":{\"shape\":\"\"}},\"name\":\"J_gen_8\",\"offsetgroup\":\"J_gen_8\",\"orientation\":\"h\",\"showlegend\":true,\"textposition\":\"auto\",\"x\":[32400000.0],\"xaxis\":\"x\",\"y\":[\"Machine_env_5\"],\"yaxis\":\"y\",\"type\":\"bar\"},{\"alignmentgroup\":\"True\",\"base\":[\"2024-03-27T20:10:00+01:00\"],\"customdata\":[[\"J_gen_9\",1,1,null,null,null,\"P0DT9H0M0S\",\"P0DT3H0M0S\",\"P0DT12H0M0S\"]],\"hovertemplate\":\"\\u003cb\\u003e%{hovertext}\\u003c\\u002fb\\u003e\\u003cbr\\u003e\\u003cbr\\u003eactual_starting_date=%{base}\\u003cbr\\u003eactual_ending_date=%{x}\\u003cbr\\u003etarget_station_name=%{y}\\u003cbr\\u003etarget_station_custom_id=%{customdata[1]}\\u003cbr\\u003eexecution_system_custom_id=%{customdata[2]}\\u003cbr\\u003eprio=%{customdata[3]}\\u003cbr\\u003eplanned_starting_date=%{customdata[4]}\\u003cbr\\u003eplanned_ending_date=%{customdata[5]}\\u003cbr\\u003eproc_time=%{customdata[6]}\\u003cbr\\u003esetup_time=%{customdata[7]}\\u003cbr\\u003eorder_time=%{customdata[8]}\\u003cextra\\u003e\\u003c\\u002fextra\\u003e\",\"hovertext\":[\"J_gen_9\"],\"legendgroup\":\"J_gen_9\",\"marker\":{\"color\":\"#EF553B\",\"pattern\":{\"shape\":\"\"}},\"name\":\"J_gen_9\",\"offsetgroup\":\"J_gen_9\",\"orientation\":\"h\",\"showlegend\":true,\"textposition\":\"auto\",\"x\":[43200000.0],\"xaxis\":\"x\",\"y\":[\"Machine_env_5\"],\"yaxis\":\"y\",\"type\":\"bar\"}],                        {\"template\":{\"data\":{\"histogram2dcontour\":[{\"type\":\"histogram2dcontour\",\"colorbar\":{\"outlinewidth\":0,\"ticks\":\"\"},\"colorscale\":[[0.0,\"#0d0887\"],[0.1111111111111111,\"#46039f\"],[0.2222222222222222,\"#7201a8\"],[0.3333333333333333,\"#9c179e\"],[0.4444444444444444,\"#bd3786\"],[0.5555555555555556,\"#d8576b\"],[0.6666666666666666,\"#ed7953\"],[0.7777777777777778,\"#fb9f3a\"],[0.8888888888888888,\"#fdca26\"],[1.0,\"#f0f921\"]]}],\"choropleth\":[{\"type\":\"choropleth\",\"colorbar\":{\"outlinewidth\":0,\"ticks\":\"\"}}],\"histogram2d\":[{\"type\":\"histogram2d\",\"colorbar\":{\"outlinewidth\":0,\"ticks\":\"\"},\"colorscale\":[[0.0,\"#0d0887\"],[0.1111111111111111,\"#46039f\"],[0.2222222222222222,\"#7201a8\"],[0.3333333333333333,\"#9c179e\"],[0.4444444444444444,\"#bd3786\"],[0.5555555555555556,\"#d8576b\"],[0.6666666666666666,\"#ed7953\"],[0.7777777777777778,\"#fb9f3a\"],[0.8888888888888888,\"#fdca26\"],[1.0,\"#f0f921\"]]}],\"heatmap\":[{\"type\":\"heatmap\",\"colorbar\":{\"outlinewidth\":0,\"ticks\":\"\"},\"colorscale\":[[0.0,\"#0d0887\"],[0.1111111111111111,\"#46039f\"],[0.2222222222222222,\"#7201a8\"],[0.3333333333333333,\"#9c179e\"],[0.4444444444444444,\"#bd3786\"],[0.5555555555555556,\"#d8576b\"],[0.6666666666666666,\"#ed7953\"],[0.7777777777777778,\"#fb9f3a\"],[0.8888888888888888,\"#fdca26\"],[1.0,\"#f0f921\"]]}],\"heatmapgl\":[{\"type\":\"heatmapgl\",\"colorbar\":{\"outlinewidth\":0,\"ticks\":\"\"},\"colorscale\":[[0.0,\"#0d0887\"],[0.1111111111111111,\"#46039f\"],[0.2222222222222222,\"#7201a8\"],[0.3333333333333333,\"#9c179e\"],[0.4444444444444444,\"#bd3786\"],[0.5555555555555556,\"#d8576b\"],[0.6666666666666666,\"#ed7953\"],[0.7777777777777778,\"#fb9f3a\"],[0.8888888888888888,\"#fdca26\"],[1.0,\"#f0f921\"]]}],\"contourcarpet\":[{\"type\":\"contourcarpet\",\"colorbar\":{\"outlinewidth\":0,\"ticks\":\"\"}}],\"contour\":[{\"type\":\"contour\",\"colorbar\":{\"outlinewidth\":0,\"ticks\":\"\"},\"colorscale\":[[0.0,\"#0d0887\"],[0.1111111111111111,\"#46039f\"],[0.2222222222222222,\"#7201a8\"],[0.3333333333333333,\"#9c179e\"],[0.4444444444444444,\"#bd3786\"],[0.5555555555555556,\"#d8576b\"],[0.6666666666666666,\"#ed7953\"],[0.7777777777777778,\"#fb9f3a\"],[0.8888888888888888,\"#fdca26\"],[1.0,\"#f0f921\"]]}],\"surface\":[{\"type\":\"surface\",\"colorbar\":{\"outlinewidth\":0,\"ticks\":\"\"},\"colorscale\":[[0.0,\"#0d0887\"],[0.1111111111111111,\"#46039f\"],[0.2222222222222222,\"#7201a8\"],[0.3333333333333333,\"#9c179e\"],[0.4444444444444444,\"#bd3786\"],[0.5555555555555556,\"#d8576b\"],[0.6666666666666666,\"#ed7953\"],[0.7777777777777778,\"#fb9f3a\"],[0.8888888888888888,\"#fdca26\"],[1.0,\"#f0f921\"]]}],\"mesh3d\":[{\"type\":\"mesh3d\",\"colorbar\":{\"outlinewidth\":0,\"ticks\":\"\"}}],\"scatter\":[{\"fillpattern\":{\"fillmode\":\"overlay\",\"size\":10,\"solidity\":0.2},\"type\":\"scatter\"}],\"parcoords\":[{\"type\":\"parcoords\",\"line\":{\"colorbar\":{\"outlinewidth\":0,\"ticks\":\"\"}}}],\"scatterpolargl\":[{\"type\":\"scatterpolargl\",\"marker\":{\"colorbar\":{\"outlinewidth\":0,\"ticks\":\"\"}}}],\"bar\":[{\"error_x\":{\"color\":\"#2a3f5f\"},\"error_y\":{\"color\":\"#2a3f5f\"},\"marker\":{\"line\":{\"color\":\"#E5ECF6\",\"width\":0.5},\"pattern\":{\"fillmode\":\"overlay\",\"size\":10,\"solidity\":0.2}},\"type\":\"bar\"}],\"scattergeo\":[{\"type\":\"scattergeo\",\"marker\":{\"colorbar\":{\"outlinewidth\":0,\"ticks\":\"\"}}}],\"scatterpolar\":[{\"type\":\"scatterpolar\",\"marker\":{\"colorbar\":{\"outlinewidth\":0,\"ticks\":\"\"}}}],\"histogram\":[{\"marker\":{\"pattern\":{\"fillmode\":\"overlay\",\"size\":10,\"solidity\":0.2}},\"type\":\"histogram\"}],\"scattergl\":[{\"type\":\"scattergl\",\"marker\":{\"colorbar\":{\"outlinewidth\":0,\"ticks\":\"\"}}}],\"scatter3d\":[{\"type\":\"scatter3d\",\"line\":{\"colorbar\":{\"outlinewidth\":0,\"ticks\":\"\"}},\"marker\":{\"colorbar\":{\"outlinewidth\":0,\"ticks\":\"\"}}}],\"scattermapbox\":[{\"type\":\"scattermapbox\",\"marker\":{\"colorbar\":{\"outlinewidth\":0,\"ticks\":\"\"}}}],\"scatterternary\":[{\"type\":\"scatterternary\",\"marker\":{\"colorbar\":{\"outlinewidth\":0,\"ticks\":\"\"}}}],\"scattercarpet\":[{\"type\":\"scattercarpet\",\"marker\":{\"colorbar\":{\"outlinewidth\":0,\"ticks\":\"\"}}}],\"carpet\":[{\"aaxis\":{\"endlinecolor\":\"#2a3f5f\",\"gridcolor\":\"white\",\"linecolor\":\"white\",\"minorgridcolor\":\"white\",\"startlinecolor\":\"#2a3f5f\"},\"baxis\":{\"endlinecolor\":\"#2a3f5f\",\"gridcolor\":\"white\",\"linecolor\":\"white\",\"minorgridcolor\":\"white\",\"startlinecolor\":\"#2a3f5f\"},\"type\":\"carpet\"}],\"table\":[{\"cells\":{\"fill\":{\"color\":\"#EBF0F8\"},\"line\":{\"color\":\"white\"}},\"header\":{\"fill\":{\"color\":\"#C8D4E3\"},\"line\":{\"color\":\"white\"}},\"type\":\"table\"}],\"barpolar\":[{\"marker\":{\"line\":{\"color\":\"#E5ECF6\",\"width\":0.5},\"pattern\":{\"fillmode\":\"overlay\",\"size\":10,\"solidity\":0.2}},\"type\":\"barpolar\"}],\"pie\":[{\"automargin\":true,\"type\":\"pie\"}]},\"layout\":{\"autotypenumbers\":\"strict\",\"colorway\":[\"#636efa\",\"#EF553B\",\"#00cc96\",\"#ab63fa\",\"#FFA15A\",\"#19d3f3\",\"#FF6692\",\"#B6E880\",\"#FF97FF\",\"#FECB52\"],\"font\":{\"color\":\"#2a3f5f\"},\"hovermode\":\"closest\",\"hoverlabel\":{\"align\":\"left\"},\"paper_bgcolor\":\"white\",\"plot_bgcolor\":\"#E5ECF6\",\"polar\":{\"bgcolor\":\"#E5ECF6\",\"angularaxis\":{\"gridcolor\":\"white\",\"linecolor\":\"white\",\"ticks\":\"\"},\"radialaxis\":{\"gridcolor\":\"white\",\"linecolor\":\"white\",\"ticks\":\"\"}},\"ternary\":{\"bgcolor\":\"#E5ECF6\",\"aaxis\":{\"gridcolor\":\"white\",\"linecolor\":\"white\",\"ticks\":\"\"},\"baxis\":{\"gridcolor\":\"white\",\"linecolor\":\"white\",\"ticks\":\"\"},\"caxis\":{\"gridcolor\":\"white\",\"linecolor\":\"white\",\"ticks\":\"\"}},\"coloraxis\":{\"colorbar\":{\"outlinewidth\":0,\"ticks\":\"\"}},\"colorscale\":{\"sequential\":[[0.0,\"#0d0887\"],[0.1111111111111111,\"#46039f\"],[0.2222222222222222,\"#7201a8\"],[0.3333333333333333,\"#9c179e\"],[0.4444444444444444,\"#bd3786\"],[0.5555555555555556,\"#d8576b\"],[0.6666666666666666,\"#ed7953\"],[0.7777777777777778,\"#fb9f3a\"],[0.8888888888888888,\"#fdca26\"],[1.0,\"#f0f921\"]],\"sequentialminus\":[[0.0,\"#0d0887\"],[0.1111111111111111,\"#46039f\"],[0.2222222222222222,\"#7201a8\"],[0.3333333333333333,\"#9c179e\"],[0.4444444444444444,\"#bd3786\"],[0.5555555555555556,\"#d8576b\"],[0.6666666666666666,\"#ed7953\"],[0.7777777777777778,\"#fb9f3a\"],[0.8888888888888888,\"#fdca26\"],[1.0,\"#f0f921\"]],\"diverging\":[[0,\"#8e0152\"],[0.1,\"#c51b7d\"],[0.2,\"#de77ae\"],[0.3,\"#f1b6da\"],[0.4,\"#fde0ef\"],[0.5,\"#f7f7f7\"],[0.6,\"#e6f5d0\"],[0.7,\"#b8e186\"],[0.8,\"#7fbc41\"],[0.9,\"#4d9221\"],[1,\"#276419\"]]},\"xaxis\":{\"gridcolor\":\"white\",\"linecolor\":\"white\",\"ticks\":\"\",\"title\":{\"standoff\":15},\"zerolinecolor\":\"white\",\"automargin\":true,\"zerolinewidth\":2},\"yaxis\":{\"gridcolor\":\"white\",\"linecolor\":\"white\",\"ticks\":\"\",\"title\":{\"standoff\":15},\"zerolinecolor\":\"white\",\"automargin\":true,\"zerolinewidth\":2},\"scene\":{\"xaxis\":{\"backgroundcolor\":\"#E5ECF6\",\"gridcolor\":\"white\",\"linecolor\":\"white\",\"showbackground\":true,\"ticks\":\"\",\"zerolinecolor\":\"white\",\"gridwidth\":2},\"yaxis\":{\"backgroundcolor\":\"#E5ECF6\",\"gridcolor\":\"white\",\"linecolor\":\"white\",\"showbackground\":true,\"ticks\":\"\",\"zerolinecolor\":\"white\",\"gridwidth\":2},\"zaxis\":{\"backgroundcolor\":\"#E5ECF6\",\"gridcolor\":\"white\",\"linecolor\":\"white\",\"showbackground\":true,\"ticks\":\"\",\"zerolinecolor\":\"white\",\"gridwidth\":2}},\"shapedefaults\":{\"line\":{\"color\":\"#2a3f5f\"}},\"annotationdefaults\":{\"arrowcolor\":\"#2a3f5f\",\"arrowhead\":0,\"arrowwidth\":1},\"geo\":{\"bgcolor\":\"white\",\"landcolor\":\"#E5ECF6\",\"subunitcolor\":\"white\",\"showland\":true,\"showlakes\":true,\"lakecolor\":\"white\"},\"title\":{\"x\":0.05},\"mapbox\":{\"style\":\"light\"}}},\"xaxis\":{\"anchor\":\"y\",\"domain\":[0.0,1.0],\"type\":\"date\"},\"yaxis\":{\"anchor\":\"x\",\"domain\":[0.0,1.0],\"title\":{\"text\":\"target_station_name\"},\"type\":\"category\",\"autorange\":\"reversed\"},\"legend\":{\"title\":{\"text\":\"job_name\"},\"tracegroupgap\":0},\"margin\":{\"t\":60},\"barmode\":\"overlay\"},                        {\"responsive\": true}                    ).then(function(){\n",
       "                            \n",
       "var gd = document.getElementById('5ec91d17-a39d-47b2-acd7-58a113a07f31');\n",
       "var x = new MutationObserver(function (mutations, observer) {{\n",
       "        var display = window.getComputedStyle(gd).display;\n",
       "        if (!display || display === 'none') {{\n",
       "            console.log([gd, 'removed!']);\n",
       "            Plotly.purge(gd);\n",
       "            observer.disconnect();\n",
       "        }}\n",
       "}});\n",
       "\n",
       "// Listen for the removal of the full notebook cells\n",
       "var notebookContainer = gd.closest('#notebook-container');\n",
       "if (notebookContainer) {{\n",
       "    x.observe(notebookContainer, {childList: true});\n",
       "}}\n",
       "\n",
       "// Listen for the clearing of the current output cell\n",
       "var outputEl = gd.closest('.output');\n",
       "if (outputEl) {{\n",
       "    x.observe(outputEl, {childList: true});\n",
       "}}\n",
       "\n",
       "                        })                };                });            </script>        </div>"
      ]
     },
     "metadata": {},
     "output_type": "display_data"
    }
   ],
   "source": [
    "fig = dispatcher.draw_gantt_chart(dates_to_local_tz=True, use_custom_proc_station_id=False)"
   ]
  },
  {
   "cell_type": "code",
   "execution_count": 200,
   "metadata": {},
   "outputs": [
    {
     "data": {
      "text/plain": [
       "0.3888888888888889"
      ]
     },
     "execution_count": 200,
     "metadata": {},
     "output_type": "execute_result"
    }
   ],
   "source": [
    "agent.assoc_proc_stations[1].stat_monitor.utilisation"
   ]
  },
  {
   "cell_type": "code",
   "execution_count": 108,
   "metadata": {},
   "outputs": [
    {
     "data": {
      "text/plain": [
       "2"
      ]
     },
     "execution_count": 108,
     "metadata": {},
     "output_type": "execute_result"
    }
   ],
   "source": [
    "agent.assoc_proc_stations[2].custom_identifier"
   ]
  },
  {
   "cell_type": "code",
   "execution_count": 195,
   "metadata": {},
   "outputs": [
    {
     "ename": "ValueError",
     "evalue": "Excel does not support datetimes with timezones. Please ensure that datetimes are timezone unaware before writing to Excel.",
     "output_type": "error",
     "traceback": [
      "\u001b[1;31m---------------------------------------------------------------------------\u001b[0m",
      "\u001b[1;31mValueError\u001b[0m                                Traceback (most recent call last)",
      "Cell \u001b[1;32mIn[195], line 1\u001b[0m\n\u001b[1;32m----> 1\u001b[0m \u001b[43mdispatcher\u001b[49m\u001b[38;5;241;43m.\u001b[39;49m\u001b[43mop_db\u001b[49m\u001b[38;5;241;43m.\u001b[39;49m\u001b[43mto_excel\u001b[49m\u001b[43m(\u001b[49m\u001b[38;5;124;43m'\u001b[39;49m\u001b[38;5;124;43mtest.xlsx\u001b[39;49m\u001b[38;5;124;43m'\u001b[39;49m\u001b[43m)\u001b[49m\n",
      "File \u001b[1;32m~\\AppData\\Local\\mambaforge\\envs\\geom\\Lib\\site-packages\\pandas\\core\\generic.py:2252\u001b[0m, in \u001b[0;36mNDFrame.to_excel\u001b[1;34m(self, excel_writer, sheet_name, na_rep, float_format, columns, header, index, index_label, startrow, startcol, engine, merge_cells, inf_rep, freeze_panes, storage_options)\u001b[0m\n\u001b[0;32m   2239\u001b[0m \u001b[38;5;28;01mfrom\u001b[39;00m \u001b[38;5;21;01mpandas\u001b[39;00m\u001b[38;5;21;01m.\u001b[39;00m\u001b[38;5;21;01mio\u001b[39;00m\u001b[38;5;21;01m.\u001b[39;00m\u001b[38;5;21;01mformats\u001b[39;00m\u001b[38;5;21;01m.\u001b[39;00m\u001b[38;5;21;01mexcel\u001b[39;00m \u001b[38;5;28;01mimport\u001b[39;00m ExcelFormatter\n\u001b[0;32m   2241\u001b[0m formatter \u001b[38;5;241m=\u001b[39m ExcelFormatter(\n\u001b[0;32m   2242\u001b[0m     df,\n\u001b[0;32m   2243\u001b[0m     na_rep\u001b[38;5;241m=\u001b[39mna_rep,\n\u001b[1;32m   (...)\u001b[0m\n\u001b[0;32m   2250\u001b[0m     inf_rep\u001b[38;5;241m=\u001b[39minf_rep,\n\u001b[0;32m   2251\u001b[0m )\n\u001b[1;32m-> 2252\u001b[0m \u001b[43mformatter\u001b[49m\u001b[38;5;241;43m.\u001b[39;49m\u001b[43mwrite\u001b[49m\u001b[43m(\u001b[49m\n\u001b[0;32m   2253\u001b[0m \u001b[43m    \u001b[49m\u001b[43mexcel_writer\u001b[49m\u001b[43m,\u001b[49m\n\u001b[0;32m   2254\u001b[0m \u001b[43m    \u001b[49m\u001b[43msheet_name\u001b[49m\u001b[38;5;241;43m=\u001b[39;49m\u001b[43msheet_name\u001b[49m\u001b[43m,\u001b[49m\n\u001b[0;32m   2255\u001b[0m \u001b[43m    \u001b[49m\u001b[43mstartrow\u001b[49m\u001b[38;5;241;43m=\u001b[39;49m\u001b[43mstartrow\u001b[49m\u001b[43m,\u001b[49m\n\u001b[0;32m   2256\u001b[0m \u001b[43m    \u001b[49m\u001b[43mstartcol\u001b[49m\u001b[38;5;241;43m=\u001b[39;49m\u001b[43mstartcol\u001b[49m\u001b[43m,\u001b[49m\n\u001b[0;32m   2257\u001b[0m \u001b[43m    \u001b[49m\u001b[43mfreeze_panes\u001b[49m\u001b[38;5;241;43m=\u001b[39;49m\u001b[43mfreeze_panes\u001b[49m\u001b[43m,\u001b[49m\n\u001b[0;32m   2258\u001b[0m \u001b[43m    \u001b[49m\u001b[43mengine\u001b[49m\u001b[38;5;241;43m=\u001b[39;49m\u001b[43mengine\u001b[49m\u001b[43m,\u001b[49m\n\u001b[0;32m   2259\u001b[0m \u001b[43m    \u001b[49m\u001b[43mstorage_options\u001b[49m\u001b[38;5;241;43m=\u001b[39;49m\u001b[43mstorage_options\u001b[49m\u001b[43m,\u001b[49m\n\u001b[0;32m   2260\u001b[0m \u001b[43m\u001b[49m\u001b[43m)\u001b[49m\n",
      "File \u001b[1;32m~\\AppData\\Local\\mambaforge\\envs\\geom\\Lib\\site-packages\\pandas\\io\\formats\\excel.py:940\u001b[0m, in \u001b[0;36mExcelFormatter.write\u001b[1;34m(self, writer, sheet_name, startrow, startcol, freeze_panes, engine, storage_options)\u001b[0m\n\u001b[0;32m    937\u001b[0m     need_save \u001b[38;5;241m=\u001b[39m \u001b[38;5;28;01mTrue\u001b[39;00m\n\u001b[0;32m    939\u001b[0m \u001b[38;5;28;01mtry\u001b[39;00m:\n\u001b[1;32m--> 940\u001b[0m     \u001b[43mwriter\u001b[49m\u001b[38;5;241;43m.\u001b[39;49m\u001b[43m_write_cells\u001b[49m\u001b[43m(\u001b[49m\n\u001b[0;32m    941\u001b[0m \u001b[43m        \u001b[49m\u001b[43mformatted_cells\u001b[49m\u001b[43m,\u001b[49m\n\u001b[0;32m    942\u001b[0m \u001b[43m        \u001b[49m\u001b[43msheet_name\u001b[49m\u001b[43m,\u001b[49m\n\u001b[0;32m    943\u001b[0m \u001b[43m        \u001b[49m\u001b[43mstartrow\u001b[49m\u001b[38;5;241;43m=\u001b[39;49m\u001b[43mstartrow\u001b[49m\u001b[43m,\u001b[49m\n\u001b[0;32m    944\u001b[0m \u001b[43m        \u001b[49m\u001b[43mstartcol\u001b[49m\u001b[38;5;241;43m=\u001b[39;49m\u001b[43mstartcol\u001b[49m\u001b[43m,\u001b[49m\n\u001b[0;32m    945\u001b[0m \u001b[43m        \u001b[49m\u001b[43mfreeze_panes\u001b[49m\u001b[38;5;241;43m=\u001b[39;49m\u001b[43mfreeze_panes\u001b[49m\u001b[43m,\u001b[49m\n\u001b[0;32m    946\u001b[0m \u001b[43m    \u001b[49m\u001b[43m)\u001b[49m\n\u001b[0;32m    947\u001b[0m \u001b[38;5;28;01mfinally\u001b[39;00m:\n\u001b[0;32m    948\u001b[0m     \u001b[38;5;66;03m# make sure to close opened file handles\u001b[39;00m\n\u001b[0;32m    949\u001b[0m     \u001b[38;5;28;01mif\u001b[39;00m need_save:\n",
      "File \u001b[1;32m~\\AppData\\Local\\mambaforge\\envs\\geom\\Lib\\site-packages\\pandas\\io\\excel\\_openpyxl.py:485\u001b[0m, in \u001b[0;36mOpenpyxlWriter._write_cells\u001b[1;34m(self, cells, sheet_name, startrow, startcol, freeze_panes)\u001b[0m\n\u001b[0;32m    480\u001b[0m     freeze_panes \u001b[38;5;241m=\u001b[39m cast(Tuple[\u001b[38;5;28mint\u001b[39m, \u001b[38;5;28mint\u001b[39m], freeze_panes)\n\u001b[0;32m    481\u001b[0m     wks\u001b[38;5;241m.\u001b[39mfreeze_panes \u001b[38;5;241m=\u001b[39m wks\u001b[38;5;241m.\u001b[39mcell(\n\u001b[0;32m    482\u001b[0m         row\u001b[38;5;241m=\u001b[39mfreeze_panes[\u001b[38;5;241m0\u001b[39m] \u001b[38;5;241m+\u001b[39m \u001b[38;5;241m1\u001b[39m, column\u001b[38;5;241m=\u001b[39mfreeze_panes[\u001b[38;5;241m1\u001b[39m] \u001b[38;5;241m+\u001b[39m \u001b[38;5;241m1\u001b[39m\n\u001b[0;32m    483\u001b[0m     )\n\u001b[1;32m--> 485\u001b[0m \u001b[38;5;28;01mfor\u001b[39;00m cell \u001b[38;5;129;01min\u001b[39;00m cells:\n\u001b[0;32m    486\u001b[0m     xcell \u001b[38;5;241m=\u001b[39m wks\u001b[38;5;241m.\u001b[39mcell(\n\u001b[0;32m    487\u001b[0m         row\u001b[38;5;241m=\u001b[39mstartrow \u001b[38;5;241m+\u001b[39m cell\u001b[38;5;241m.\u001b[39mrow \u001b[38;5;241m+\u001b[39m \u001b[38;5;241m1\u001b[39m, column\u001b[38;5;241m=\u001b[39mstartcol \u001b[38;5;241m+\u001b[39m cell\u001b[38;5;241m.\u001b[39mcol \u001b[38;5;241m+\u001b[39m \u001b[38;5;241m1\u001b[39m\n\u001b[0;32m    488\u001b[0m     )\n\u001b[0;32m    489\u001b[0m     xcell\u001b[38;5;241m.\u001b[39mvalue, fmt \u001b[38;5;241m=\u001b[39m \u001b[38;5;28mself\u001b[39m\u001b[38;5;241m.\u001b[39m_value_with_fmt(cell\u001b[38;5;241m.\u001b[39mval)\n",
      "File \u001b[1;32m~\\AppData\\Local\\mambaforge\\envs\\geom\\Lib\\site-packages\\pandas\\io\\formats\\excel.py:884\u001b[0m, in \u001b[0;36mExcelFormatter.get_formatted_cells\u001b[1;34m(self)\u001b[0m\n\u001b[0;32m    882\u001b[0m \u001b[38;5;28;01mdef\u001b[39;00m \u001b[38;5;21mget_formatted_cells\u001b[39m(\u001b[38;5;28mself\u001b[39m) \u001b[38;5;241m-\u001b[39m\u001b[38;5;241m>\u001b[39m Iterable[ExcelCell]:\n\u001b[0;32m    883\u001b[0m     \u001b[38;5;28;01mfor\u001b[39;00m cell \u001b[38;5;129;01min\u001b[39;00m itertools\u001b[38;5;241m.\u001b[39mchain(\u001b[38;5;28mself\u001b[39m\u001b[38;5;241m.\u001b[39m_format_header(), \u001b[38;5;28mself\u001b[39m\u001b[38;5;241m.\u001b[39m_format_body()):\n\u001b[1;32m--> 884\u001b[0m         cell\u001b[38;5;241m.\u001b[39mval \u001b[38;5;241m=\u001b[39m \u001b[38;5;28;43mself\u001b[39;49m\u001b[38;5;241;43m.\u001b[39;49m\u001b[43m_format_value\u001b[49m\u001b[43m(\u001b[49m\u001b[43mcell\u001b[49m\u001b[38;5;241;43m.\u001b[39;49m\u001b[43mval\u001b[49m\u001b[43m)\u001b[49m\n\u001b[0;32m    885\u001b[0m         \u001b[38;5;28;01myield\u001b[39;00m cell\n",
      "File \u001b[1;32m~\\AppData\\Local\\mambaforge\\envs\\geom\\Lib\\site-packages\\pandas\\io\\formats\\excel.py:601\u001b[0m, in \u001b[0;36mExcelFormatter._format_value\u001b[1;34m(self, val)\u001b[0m\n\u001b[0;32m    599\u001b[0m         val \u001b[38;5;241m=\u001b[39m \u001b[38;5;28mfloat\u001b[39m(\u001b[38;5;28mself\u001b[39m\u001b[38;5;241m.\u001b[39mfloat_format \u001b[38;5;241m%\u001b[39m val)\n\u001b[0;32m    600\u001b[0m \u001b[38;5;28;01mif\u001b[39;00m \u001b[38;5;28mgetattr\u001b[39m(val, \u001b[38;5;124m\"\u001b[39m\u001b[38;5;124mtzinfo\u001b[39m\u001b[38;5;124m\"\u001b[39m, \u001b[38;5;28;01mNone\u001b[39;00m) \u001b[38;5;129;01mis\u001b[39;00m \u001b[38;5;129;01mnot\u001b[39;00m \u001b[38;5;28;01mNone\u001b[39;00m:\n\u001b[1;32m--> 601\u001b[0m     \u001b[38;5;28;01mraise\u001b[39;00m \u001b[38;5;167;01mValueError\u001b[39;00m(\n\u001b[0;32m    602\u001b[0m         \u001b[38;5;124m\"\u001b[39m\u001b[38;5;124mExcel does not support datetimes with \u001b[39m\u001b[38;5;124m\"\u001b[39m\n\u001b[0;32m    603\u001b[0m         \u001b[38;5;124m\"\u001b[39m\u001b[38;5;124mtimezones. Please ensure that datetimes \u001b[39m\u001b[38;5;124m\"\u001b[39m\n\u001b[0;32m    604\u001b[0m         \u001b[38;5;124m\"\u001b[39m\u001b[38;5;124mare timezone unaware before writing to Excel.\u001b[39m\u001b[38;5;124m\"\u001b[39m\n\u001b[0;32m    605\u001b[0m     )\n\u001b[0;32m    606\u001b[0m \u001b[38;5;28;01mreturn\u001b[39;00m val\n",
      "\u001b[1;31mValueError\u001b[0m: Excel does not support datetimes with timezones. Please ensure that datetimes are timezone unaware before writing to Excel."
     ]
    }
   ],
   "source": [
    "dispatcher.op_db.to_excel('test.xlsx')"
   ]
  },
  {
   "cell_type": "code",
   "execution_count": null,
   "metadata": {},
   "outputs": [],
   "source": []
  },
  {
   "cell_type": "code",
   "execution_count": null,
   "metadata": {},
   "outputs": [],
   "source": []
  },
  {
   "cell_type": "code",
   "execution_count": null,
   "metadata": {},
   "outputs": [],
   "source": []
  },
  {
   "cell_type": "code",
   "execution_count": null,
   "metadata": {},
   "outputs": [],
   "source": []
  },
  {
   "cell_type": "markdown",
   "metadata": {},
   "source": [
    "**Complete run**"
   ]
  },
  {
   "cell_type": "code",
   "execution_count": 284,
   "metadata": {},
   "outputs": [],
   "source": [
    "def build_sim_env_run_once() -> tuple[\n",
    "    sim.SimulationEnvironment,\n",
    "    sim.InfrastructureManager,\n",
    "    sim.Dispatcher,\n",
    "    agents.AllocationAgent,\n",
    "]:\n",
    "    # !! REWORK, CURRENTLY ONLY FOR TESTING PURPOSES\n",
    "    \"\"\"Constructor to build simulation environment (layout)\n",
    "\n",
    "    Returns\n",
    "    -------\n",
    "    tuple[ sim.SimulationEnvironment, sim.InfrastructureManager, sim.Dispatcher, agents.AllocationAgent, ]\n",
    "        tuple out of Environment, InfrastructureManager, Dispatcher, Agent\n",
    "    \"\"\"\n",
    "    # datetime manager\n",
    "    dt_mgr = DTManager()\n",
    "    starting_dt = dt_mgr.current_time_tz(cut_microseconds=True)\n",
    "    # environment\n",
    "    env = sim.SimulationEnvironment(name='base', time_unit='seconds', starting_datetime=starting_dt)\n",
    "    job_generator = loads.RandomJobGenerator(seed=100)\n",
    "    infstruct_mgr = sim.InfrastructureManager(env=env)\n",
    "    dispatcher = sim.Dispatcher(env=env, priority_rule='FIFO')\n",
    "    \n",
    "    # source\n",
    "    area_source = sim.ProductionArea(env=env, custom_identifier=1000)\n",
    "    group_source = sim.StationGroup(env=env, custom_identifier=1000)\n",
    "    area_source.add_subsystem(group_source)\n",
    "    proc_time = dt_mgr.timedelta_from_val(val=2., time_unit='hours')\n",
    "    source = sim.Source(env=env, custom_identifier='source', proc_time=proc_time, \n",
    "                    random_generation=True, job_generator=job_generator, num_gen_jobs=12)\n",
    "    group_source.add_subsystem(source)\n",
    "\n",
    "    # sink\n",
    "    area_sink = sim.ProductionArea(env=env, custom_identifier=2000)\n",
    "    group_sink = sim.StationGroup(env=env, custom_identifier=2000)\n",
    "    area_sink.add_subsystem(group_sink)\n",
    "    sink = sim.Sink(env=env, custom_identifier='sink')\n",
    "    group_sink.add_subsystem(sink)\n",
    "\n",
    "    # processing stations\n",
    "    # prod area 1\n",
    "    area_prod = sim.ProductionArea(env=env, custom_identifier=1)\n",
    "    group_prod = sim.StationGroup(env=env, custom_identifier=1)\n",
    "    area_prod.add_subsystem(group_prod)\n",
    "    group_prod2 = sim.StationGroup(env=env, custom_identifier=2)\n",
    "    area_prod.add_subsystem(group_prod2)\n",
    "    # prod area 2\n",
    "    #area_prod2 = ProductionArea(env=env, custom_identifier=2)\n",
    "    #group_prod3 = StationGroup(env=env, custom_identifier=3)\n",
    "    #area_prod2.add_subsystem(group_prod3)\n",
    "    #area_prod.add_subsystem(group_prod3)\n",
    "    ## machines\n",
    "    for machine in range(3):\n",
    "        buffer = sim.Buffer(capacity=20, env=env, custom_identifier=(10+machine))\n",
    "        if machine == 5:\n",
    "            MachInst = sim.Machine(env=env, custom_identifier=machine, buffers=[buffer], setup_time=5.)\n",
    "        else:\n",
    "            MachInst = sim.Machine(env=env, custom_identifier=machine, buffers=[buffer])\n",
    "            \n",
    "        if machine == 0:\n",
    "            testMachInst = MachInst\n",
    "        \n",
    "        if machine < 2:\n",
    "            group_prod.add_subsystem(buffer)\n",
    "            group_prod.add_subsystem(MachInst)\n",
    "        elif machine >= 2:\n",
    "            group_prod2.add_subsystem(buffer)\n",
    "            group_prod2.add_subsystem(MachInst)\n",
    "        else:\n",
    "            pass\n",
    "            #group_prod3.add_subsystem(buffer)\n",
    "            #group_prod3.add_subsystem(MachInst)\n",
    "        \n",
    "\n",
    "    add_machine_to_bottleneck: bool = False\n",
    "    if add_machine_to_bottleneck:\n",
    "        buffer = sim.Buffer(capacity=20, env=env, custom_identifier=(10+machine+1))\n",
    "        MachInst = sim.Machine(env=env, custom_identifier=machine+1, buffers=[buffer])\n",
    "        group_prod3.add_subsystem(buffer)\n",
    "        group_prod3.add_subsystem(MachInst)\n",
    "        \n",
    "    alloc_agent = agents.AllocationAgent(assoc_system=area_prod)\n",
    "\n",
    "    # conditions\n",
    "    duration_transient = dt_mgr.timedelta_from_val(val=2, time_unit='hours')\n",
    "    trans_cond = sim.TransientCondition(env=env, duration_transient=duration_transient)\n",
    "    #agent_decision_cond = sim.TriggerAgentCondition(env=env)\n",
    "    sim_dur = dt_mgr.timedelta_from_val(val=2., time_unit='days')\n",
    "    sim_end_date = dt_mgr.dt_with_tz_UTC(2024,3,23,12)\n",
    "    job_gen_dur_cond = sim.JobGenDurationCondition(env=env, target_obj=source, sim_run_duration=sim_dur)\n",
    "    \n",
    "    return env, infstruct_mgr, dispatcher, alloc_agent"
   ]
  },
  {
   "cell_type": "code",
   "execution_count": 285,
   "metadata": {},
   "outputs": [
    {
     "name": "stdout",
     "output_type": "stream",
     "text": [
      "INFO:sim_env.env:Successfully registered Infrastructure Manager in Env >>base<<\n",
      "INFO:sim_env.env:Successfully registered Dispatcher in Env >>base<<\n",
      "INFO:sim_env.infstrct:Successfully registered object with SystemID 0 and name ProductionArea_env_0\n",
      "INFO:sim_env.infstrct:Successfully registered object with SystemID 0 and name StationGroup_env_0\n",
      "INFO:sim_env.infstrct:Successfully added System (type: StationGroup, custom_id: 1000, name: StationGroup_env_0) to System (type: ProductionArea, custom_id: 1000, name: ProductionArea_env_0).\n",
      "INFO:sim_env.infstrct:Successfully registered object with SystemID 0 and name Source_env_0\n",
      "INFO:sim_env.infstrct:Successfully added System (type: Resource, custom_id: source, name: Source_env_0) to System (type: StationGroup, custom_id: 1000, name: StationGroup_env_0).\n",
      "INFO:sim_env.infstrct:Successfully registered object with SystemID 1 and name ProductionArea_env_1\n",
      "INFO:sim_env.infstrct:Successfully registered object with SystemID 1 and name StationGroup_env_1\n",
      "INFO:sim_env.infstrct:Successfully added System (type: StationGroup, custom_id: 2000, name: StationGroup_env_1) to System (type: ProductionArea, custom_id: 2000, name: ProductionArea_env_1).\n",
      "INFO:sim_env.infstrct:Successfully registered object with SystemID 1 and name Sink_env_1\n",
      "INFO:sim_env.infstrct:Successfully added System (type: Resource, custom_id: sink, name: Sink_env_1) to System (type: StationGroup, custom_id: 2000, name: StationGroup_env_1).\n",
      "INFO:sim_env.infstrct:Successfully registered object with SystemID 2 and name ProductionArea_env_2\n",
      "INFO:sim_env.infstrct:Successfully registered object with SystemID 2 and name StationGroup_env_2\n",
      "INFO:sim_env.infstrct:Successfully added System (type: StationGroup, custom_id: 1, name: StationGroup_env_2) to System (type: ProductionArea, custom_id: 1, name: ProductionArea_env_2).\n",
      "INFO:sim_env.infstrct:Successfully registered object with SystemID 3 and name StationGroup_env_3\n",
      "INFO:sim_env.infstrct:Successfully added System (type: StationGroup, custom_id: 2, name: StationGroup_env_3) to System (type: ProductionArea, custom_id: 1, name: ProductionArea_env_2).\n",
      "INFO:sim_env.infstrct:Successfully registered object with SystemID 2 and name Buffer_env_2\n",
      "INFO:sim_env.infstrct:Successfully registered object with SystemID 3 and name Machine_env_3\n",
      "INFO:sim_env.infstrct:Successfully added System (type: Resource, custom_id: 10, name: Buffer_env_2) to System (type: StationGroup, custom_id: 1, name: StationGroup_env_2).\n",
      "INFO:sim_env.infstrct:Successfully added System (type: Resource, custom_id: 0, name: Machine_env_3) to System (type: StationGroup, custom_id: 1, name: StationGroup_env_2).\n",
      "INFO:sim_env.infstrct:Successfully registered object with SystemID 4 and name Buffer_env_4\n",
      "INFO:sim_env.infstrct:Successfully registered object with SystemID 5 and name Machine_env_5\n",
      "INFO:sim_env.infstrct:Successfully added System (type: Resource, custom_id: 11, name: Buffer_env_4) to System (type: StationGroup, custom_id: 1, name: StationGroup_env_2).\n",
      "INFO:sim_env.infstrct:Successfully added System (type: Resource, custom_id: 1, name: Machine_env_5) to System (type: StationGroup, custom_id: 1, name: StationGroup_env_2).\n",
      "INFO:sim_env.infstrct:Successfully registered object with SystemID 6 and name Buffer_env_6\n",
      "INFO:sim_env.infstrct:Successfully registered object with SystemID 7 and name Machine_env_7\n",
      "INFO:sim_env.infstrct:Successfully added System (type: Resource, custom_id: 12, name: Buffer_env_6) to System (type: StationGroup, custom_id: 2, name: StationGroup_env_3).\n",
      "INFO:sim_env.infstrct:Successfully added System (type: Resource, custom_id: 2, name: Machine_env_7) to System (type: StationGroup, custom_id: 2, name: StationGroup_env_3).\n",
      "INFO:sim_env.env:Successfully registered Allocation Agent in System (type: ProductionArea, custom_id: 1, name: ProductionArea_env_2)\n"
     ]
    }
   ],
   "source": [
    "(env, infstruct_mgr, dispatcher, agent) = build_sim_env_run_once()"
   ]
  },
  {
   "cell_type": "code",
   "execution_count": 286,
   "metadata": {},
   "outputs": [
    {
     "name": "stdout",
     "output_type": "stream",
     "text": [
      "INFO:sim_env.env:Initialisation for Environment base successful.\n"
     ]
    }
   ],
   "source": [
    "env.initialise()"
   ]
  },
  {
   "cell_type": "code",
   "execution_count": 287,
   "metadata": {},
   "outputs": [
    {
     "name": "stdout",
     "output_type": "stream",
     "text": [
      "DEBUG:sim_env.sources:[SOURCE: System (type: Resource, custom_id: source, name: Source_env_0)] Stat Group IDs: {1: [1, 2]}\n",
      "DEBUG:sim_env.sources:[SOURCE: System (type: Resource, custom_id: source, name: Source_env_0)] ProcTimes [datetime.timedelta(seconds=25200)] at 0.0\n",
      "DEBUG:sim_env.sources:job_ex_order=[1]\n",
      "DEBUG:sim_env.sources:job_target_station_groups=[1]\n",
      "DEBUG:sim_env.sources:[SOURCE: System (type: Resource, custom_id: source, name: Source_env_0)] Job target station group System (type: StationGroup, custom_id: 1, name: StationGroup_env_2)\n",
      "DEBUG:sim_env.sources:[SOURCE: System (type: Resource, custom_id: source, name: Source_env_0)] Generated Job (J_gen_0) at 0.0\n",
      "DEBUG:sim_env.sources:[SOURCE: System (type: Resource, custom_id: source, name: Source_env_0)] Request allocation...\n",
      "DEBUG:sim_env.sources:[SOURCE: System (type: Resource, custom_id: source, name: Source_env_0)] PUT JOB with ret = System (type: Resource, custom_id: 1, name: Machine_env_5)\n",
      "DEBUG:sim_env.sources:[SOURCE: System (type: Resource, custom_id: source, name: Source_env_0)] Hold for >>7200.0<< at 0.0\n",
      "DEBUG:sim_env.sources:[SOURCE: System (type: Resource, custom_id: source, name: Source_env_0)] ProcTimes [datetime.timedelta(seconds=28800)] at 7200.0\n",
      "DEBUG:sim_env.sources:job_ex_order=[1]\n",
      "DEBUG:sim_env.sources:job_target_station_groups=[1]\n",
      "DEBUG:sim_env.sources:[SOURCE: System (type: Resource, custom_id: source, name: Source_env_0)] Job target station group System (type: StationGroup, custom_id: 1, name: StationGroup_env_2)\n",
      "DEBUG:sim_env.sources:[SOURCE: System (type: Resource, custom_id: source, name: Source_env_0)] Generated Job (J_gen_1) at 7200.0\n",
      "DEBUG:sim_env.sources:[SOURCE: System (type: Resource, custom_id: source, name: Source_env_0)] Request allocation...\n",
      "DEBUG:sim_env.sources:[SOURCE: System (type: Resource, custom_id: source, name: Source_env_0)] PUT JOB with ret = System (type: Resource, custom_id: 0, name: Machine_env_3)\n",
      "DEBUG:sim_env.sources:[SOURCE: System (type: Resource, custom_id: source, name: Source_env_0)] Hold for >>7200.0<< at 7200.0\n",
      "DEBUG:sim_env.sources:[SOURCE: System (type: Resource, custom_id: source, name: Source_env_0)] ProcTimes [datetime.timedelta(seconds=21600)] at 14400.0\n",
      "DEBUG:sim_env.sources:job_ex_order=[1]\n",
      "DEBUG:sim_env.sources:job_target_station_groups=[1]\n",
      "DEBUG:sim_env.sources:[SOURCE: System (type: Resource, custom_id: source, name: Source_env_0)] Job target station group System (type: StationGroup, custom_id: 1, name: StationGroup_env_2)\n",
      "DEBUG:sim_env.sources:[SOURCE: System (type: Resource, custom_id: source, name: Source_env_0)] Generated Job (J_gen_2) at 14400.0\n",
      "DEBUG:sim_env.sources:[SOURCE: System (type: Resource, custom_id: source, name: Source_env_0)] Request allocation...\n",
      "DEBUG:sim_env.sources:[SOURCE: System (type: Resource, custom_id: source, name: Source_env_0)] PUT JOB with ret = System (type: Resource, custom_id: 1, name: Machine_env_5)\n",
      "DEBUG:sim_env.sources:[SOURCE: System (type: Resource, custom_id: source, name: Source_env_0)] Hold for >>7200.0<< at 14400.0\n",
      "DEBUG:sim_env.sources:[SOURCE: System (type: Resource, custom_id: source, name: Source_env_0)] ProcTimes [datetime.timedelta(seconds=25200)] at 21600.0\n",
      "DEBUG:sim_env.sources:job_ex_order=[1]\n",
      "DEBUG:sim_env.sources:job_target_station_groups=[1]\n",
      "DEBUG:sim_env.sources:[SOURCE: System (type: Resource, custom_id: source, name: Source_env_0)] Job target station group System (type: StationGroup, custom_id: 1, name: StationGroup_env_2)\n",
      "DEBUG:sim_env.sources:[SOURCE: System (type: Resource, custom_id: source, name: Source_env_0)] Generated Job (J_gen_3) at 21600.0\n",
      "DEBUG:sim_env.sources:[SOURCE: System (type: Resource, custom_id: source, name: Source_env_0)] Request allocation...\n",
      "DEBUG:sim_env.sources:[SOURCE: System (type: Resource, custom_id: source, name: Source_env_0)] PUT JOB with ret = System (type: Resource, custom_id: 0, name: Machine_env_3)\n",
      "DEBUG:sim_env.sources:[SOURCE: System (type: Resource, custom_id: source, name: Source_env_0)] Hold for >>7200.0<< at 21600.0\n",
      "DEBUG:sim_env.sources:[SOURCE: System (type: Resource, custom_id: source, name: Source_env_0)] ProcTimes [datetime.timedelta(seconds=32400)] at 28800.0\n",
      "DEBUG:sim_env.sources:job_ex_order=[1]\n",
      "DEBUG:sim_env.sources:job_target_station_groups=[1]\n",
      "DEBUG:sim_env.sources:[SOURCE: System (type: Resource, custom_id: source, name: Source_env_0)] Job target station group System (type: StationGroup, custom_id: 1, name: StationGroup_env_2)\n",
      "DEBUG:sim_env.sources:[SOURCE: System (type: Resource, custom_id: source, name: Source_env_0)] Generated Job (J_gen_4) at 28800.0\n",
      "DEBUG:sim_env.sources:[SOURCE: System (type: Resource, custom_id: source, name: Source_env_0)] Request allocation...\n",
      "DEBUG:sim_env.sources:[SOURCE: System (type: Resource, custom_id: source, name: Source_env_0)] PUT JOB with ret = System (type: Resource, custom_id: 0, name: Machine_env_3)\n",
      "DEBUG:sim_env.sources:[SOURCE: System (type: Resource, custom_id: source, name: Source_env_0)] Hold for >>7200.0<< at 28800.0\n",
      "DEBUG:sim_env.sources:[SOURCE: System (type: Resource, custom_id: source, name: Source_env_0)] ProcTimes [datetime.timedelta(seconds=18000)] at 36000.0\n",
      "DEBUG:sim_env.sources:job_ex_order=[1]\n",
      "DEBUG:sim_env.sources:job_target_station_groups=[1]\n",
      "DEBUG:sim_env.sources:[SOURCE: System (type: Resource, custom_id: source, name: Source_env_0)] Job target station group System (type: StationGroup, custom_id: 1, name: StationGroup_env_2)\n",
      "DEBUG:sim_env.sources:[SOURCE: System (type: Resource, custom_id: source, name: Source_env_0)] Generated Job (J_gen_5) at 36000.0\n",
      "DEBUG:sim_env.sources:[SOURCE: System (type: Resource, custom_id: source, name: Source_env_0)] Request allocation...\n",
      "DEBUG:sim_env.sources:[SOURCE: System (type: Resource, custom_id: source, name: Source_env_0)] PUT JOB with ret = System (type: Resource, custom_id: 0, name: Machine_env_3)\n",
      "DEBUG:sim_env.sources:[SOURCE: System (type: Resource, custom_id: source, name: Source_env_0)] Hold for >>7200.0<< at 36000.0\n",
      "DEBUG:sim_env.sources:[SOURCE: System (type: Resource, custom_id: source, name: Source_env_0)] ProcTimes [datetime.timedelta(seconds=28800)] at 43200.0\n",
      "DEBUG:sim_env.sources:job_ex_order=[1]\n",
      "DEBUG:sim_env.sources:job_target_station_groups=[2]\n",
      "DEBUG:sim_env.sources:[SOURCE: System (type: Resource, custom_id: source, name: Source_env_0)] Job target station group System (type: StationGroup, custom_id: 2, name: StationGroup_env_3)\n",
      "DEBUG:sim_env.sources:[SOURCE: System (type: Resource, custom_id: source, name: Source_env_0)] Generated Job (J_gen_6) at 43200.0\n",
      "DEBUG:sim_env.sources:[SOURCE: System (type: Resource, custom_id: source, name: Source_env_0)] Request allocation...\n",
      "DEBUG:sim_env.sources:[SOURCE: System (type: Resource, custom_id: source, name: Source_env_0)] PUT JOB with ret = System (type: Resource, custom_id: 2, name: Machine_env_7)\n",
      "DEBUG:sim_env.sources:[SOURCE: System (type: Resource, custom_id: source, name: Source_env_0)] Hold for >>7200.0<< at 43200.0\n",
      "DEBUG:sim_env.sources:[SOURCE: System (type: Resource, custom_id: source, name: Source_env_0)] ProcTimes [datetime.timedelta(seconds=21600)] at 50400.0\n",
      "DEBUG:sim_env.sources:job_ex_order=[1]\n",
      "DEBUG:sim_env.sources:job_target_station_groups=[1]\n",
      "DEBUG:sim_env.sources:[SOURCE: System (type: Resource, custom_id: source, name: Source_env_0)] Job target station group System (type: StationGroup, custom_id: 1, name: StationGroup_env_2)\n",
      "DEBUG:sim_env.sources:[SOURCE: System (type: Resource, custom_id: source, name: Source_env_0)] Generated Job (J_gen_7) at 50400.0\n",
      "DEBUG:sim_env.sources:[SOURCE: System (type: Resource, custom_id: source, name: Source_env_0)] Request allocation...\n",
      "DEBUG:sim_env.sources:[SOURCE: System (type: Resource, custom_id: source, name: Source_env_0)] PUT JOB with ret = System (type: Resource, custom_id: 1, name: Machine_env_5)\n",
      "DEBUG:sim_env.sources:[SOURCE: System (type: Resource, custom_id: source, name: Source_env_0)] Hold for >>7200.0<< at 50400.0\n",
      "DEBUG:sim_env.sources:[SOURCE: System (type: Resource, custom_id: source, name: Source_env_0)] ProcTimes [datetime.timedelta(seconds=28800)] at 57600.0\n",
      "DEBUG:sim_env.sources:job_ex_order=[1]\n",
      "DEBUG:sim_env.sources:job_target_station_groups=[2]\n",
      "DEBUG:sim_env.sources:[SOURCE: System (type: Resource, custom_id: source, name: Source_env_0)] Job target station group System (type: StationGroup, custom_id: 2, name: StationGroup_env_3)\n",
      "DEBUG:sim_env.sources:[SOURCE: System (type: Resource, custom_id: source, name: Source_env_0)] Generated Job (J_gen_8) at 57600.0\n",
      "DEBUG:sim_env.sources:[SOURCE: System (type: Resource, custom_id: source, name: Source_env_0)] Request allocation...\n",
      "DEBUG:sim_env.sources:[SOURCE: System (type: Resource, custom_id: source, name: Source_env_0)] PUT JOB with ret = System (type: Resource, custom_id: 2, name: Machine_env_7)\n",
      "DEBUG:sim_env.sources:[SOURCE: System (type: Resource, custom_id: source, name: Source_env_0)] Hold for >>7200.0<< at 57600.0\n",
      "DEBUG:sim_env.sources:[SOURCE: System (type: Resource, custom_id: source, name: Source_env_0)] ProcTimes [datetime.timedelta(seconds=32400)] at 64800.0\n",
      "DEBUG:sim_env.sources:job_ex_order=[1]\n",
      "DEBUG:sim_env.sources:job_target_station_groups=[2]\n",
      "DEBUG:sim_env.sources:[SOURCE: System (type: Resource, custom_id: source, name: Source_env_0)] Job target station group System (type: StationGroup, custom_id: 2, name: StationGroup_env_3)\n",
      "DEBUG:sim_env.sources:[SOURCE: System (type: Resource, custom_id: source, name: Source_env_0)] Generated Job (J_gen_9) at 64800.0\n",
      "DEBUG:sim_env.sources:[SOURCE: System (type: Resource, custom_id: source, name: Source_env_0)] Request allocation...\n",
      "DEBUG:sim_env.sources:[SOURCE: System (type: Resource, custom_id: source, name: Source_env_0)] PUT JOB with ret = System (type: Resource, custom_id: 2, name: Machine_env_7)\n",
      "DEBUG:sim_env.sources:[SOURCE: System (type: Resource, custom_id: source, name: Source_env_0)] Hold for >>7200.0<< at 64800.0\n",
      "DEBUG:sim_env.sources:[SOURCE: System (type: Resource, custom_id: source, name: Source_env_0)] ProcTimes [datetime.timedelta(seconds=21600)] at 72000.0\n",
      "DEBUG:sim_env.sources:job_ex_order=[1]\n",
      "DEBUG:sim_env.sources:job_target_station_groups=[2]\n",
      "DEBUG:sim_env.sources:[SOURCE: System (type: Resource, custom_id: source, name: Source_env_0)] Job target station group System (type: StationGroup, custom_id: 2, name: StationGroup_env_3)\n",
      "DEBUG:sim_env.sources:[SOURCE: System (type: Resource, custom_id: source, name: Source_env_0)] Generated Job (J_gen_10) at 72000.0\n",
      "DEBUG:sim_env.sources:[SOURCE: System (type: Resource, custom_id: source, name: Source_env_0)] Request allocation...\n",
      "DEBUG:sim_env.sources:[SOURCE: System (type: Resource, custom_id: source, name: Source_env_0)] PUT JOB with ret = System (type: Resource, custom_id: 2, name: Machine_env_7)\n",
      "DEBUG:sim_env.sources:[SOURCE: System (type: Resource, custom_id: source, name: Source_env_0)] Hold for >>7200.0<< at 72000.0\n",
      "DEBUG:sim_env.sources:[SOURCE: System (type: Resource, custom_id: source, name: Source_env_0)] ProcTimes [datetime.timedelta(seconds=21600)] at 79200.0\n",
      "DEBUG:sim_env.sources:job_ex_order=[1]\n",
      "DEBUG:sim_env.sources:job_target_station_groups=[2]\n",
      "DEBUG:sim_env.sources:[SOURCE: System (type: Resource, custom_id: source, name: Source_env_0)] Job target station group System (type: StationGroup, custom_id: 2, name: StationGroup_env_3)\n",
      "DEBUG:sim_env.sources:[SOURCE: System (type: Resource, custom_id: source, name: Source_env_0)] Generated Job (J_gen_11) at 79200.0\n",
      "DEBUG:sim_env.sources:[SOURCE: System (type: Resource, custom_id: source, name: Source_env_0)] Request allocation...\n",
      "DEBUG:sim_env.sources:[SOURCE: System (type: Resource, custom_id: source, name: Source_env_0)] PUT JOB with ret = System (type: Resource, custom_id: 2, name: Machine_env_7)\n",
      "DEBUG:sim_env.sources:[SOURCE: System (type: Resource, custom_id: source, name: Source_env_0)] Hold for >>7200.0<< at 79200.0\n"
     ]
    }
   ],
   "source": [
    "env.run()"
   ]
  },
  {
   "cell_type": "code",
   "execution_count": 288,
   "metadata": {},
   "outputs": [
    {
     "name": "stdout",
     "output_type": "stream",
     "text": [
      "INFO:sim_env.infstrct:Successful finalisation of the state information for all resource objects.\n"
     ]
    }
   ],
   "source": [
    "env.finalise()"
   ]
  },
  {
   "cell_type": "code",
   "execution_count": 289,
   "metadata": {},
   "outputs": [
    {
     "data": {
      "text/html": [
       "<div>\n",
       "<style scoped>\n",
       "    .dataframe tbody tr th:only-of-type {\n",
       "        vertical-align: middle;\n",
       "    }\n",
       "\n",
       "    .dataframe tbody tr th {\n",
       "        vertical-align: top;\n",
       "    }\n",
       "\n",
       "    .dataframe thead th {\n",
       "        text-align: right;\n",
       "    }\n",
       "</style>\n",
       "<table border=\"1\" class=\"dataframe\">\n",
       "  <thead>\n",
       "    <tr style=\"text-align: right;\">\n",
       "      <th></th>\n",
       "      <th>job_id</th>\n",
       "      <th>job_name</th>\n",
       "      <th>custom_id</th>\n",
       "      <th>op</th>\n",
       "      <th>name</th>\n",
       "      <th>prio</th>\n",
       "      <th>execution_system</th>\n",
       "      <th>execution_system_custom_id</th>\n",
       "      <th>execution_system_name</th>\n",
       "      <th>execution_system_type</th>\n",
       "      <th>...</th>\n",
       "      <th>creation_date</th>\n",
       "      <th>release_date</th>\n",
       "      <th>planned_starting_date</th>\n",
       "      <th>actual_starting_date</th>\n",
       "      <th>starting_date_deviation</th>\n",
       "      <th>planned_ending_date</th>\n",
       "      <th>actual_ending_date</th>\n",
       "      <th>ending_date_deviation</th>\n",
       "      <th>lead_time</th>\n",
       "      <th>state</th>\n",
       "    </tr>\n",
       "    <tr>\n",
       "      <th>op_id</th>\n",
       "      <th></th>\n",
       "      <th></th>\n",
       "      <th></th>\n",
       "      <th></th>\n",
       "      <th></th>\n",
       "      <th></th>\n",
       "      <th></th>\n",
       "      <th></th>\n",
       "      <th></th>\n",
       "      <th></th>\n",
       "      <th></th>\n",
       "      <th></th>\n",
       "      <th></th>\n",
       "      <th></th>\n",
       "      <th></th>\n",
       "      <th></th>\n",
       "      <th></th>\n",
       "      <th></th>\n",
       "      <th></th>\n",
       "      <th></th>\n",
       "      <th></th>\n",
       "    </tr>\n",
       "  </thead>\n",
       "  <tbody>\n",
       "    <tr>\n",
       "      <th>0</th>\n",
       "      <td>0</td>\n",
       "      <td>J_gen_0</td>\n",
       "      <td>None</td>\n",
       "      <td>Operation(ProcTime: 7:00:00, ExecutionSystemID...</td>\n",
       "      <td>O_gen_0</td>\n",
       "      <td>None</td>\n",
       "      <td>{2: {2: {}, 3: {}, 4: {}, 5: {}}, 3: {6: {}, 7...</td>\n",
       "      <td>1</td>\n",
       "      <td>&lt;bound method System.name of System (type: Pro...</td>\n",
       "      <td>ProductionArea</td>\n",
       "      <td>...</td>\n",
       "      <td>2024-03-26 15:09:31+00:00</td>\n",
       "      <td>2024-03-26 15:09:31+00:00</td>\n",
       "      <td>None</td>\n",
       "      <td>2024-03-26 15:09:31+00:00</td>\n",
       "      <td>None</td>\n",
       "      <td>None</td>\n",
       "      <td>2024-03-27 02:09:31+00:00</td>\n",
       "      <td>None</td>\n",
       "      <td>11:00:00</td>\n",
       "      <td>FINISH</td>\n",
       "    </tr>\n",
       "    <tr>\n",
       "      <th>1</th>\n",
       "      <td>1</td>\n",
       "      <td>J_gen_1</td>\n",
       "      <td>None</td>\n",
       "      <td>Operation(ProcTime: 8:00:00, ExecutionSystemID...</td>\n",
       "      <td>O_gen_1</td>\n",
       "      <td>None</td>\n",
       "      <td>{2: {2: {}, 3: {}, 4: {}, 5: {}}, 3: {6: {}, 7...</td>\n",
       "      <td>1</td>\n",
       "      <td>&lt;bound method System.name of System (type: Pro...</td>\n",
       "      <td>ProductionArea</td>\n",
       "      <td>...</td>\n",
       "      <td>2024-03-26 17:09:31+00:00</td>\n",
       "      <td>2024-03-26 17:09:31+00:00</td>\n",
       "      <td>None</td>\n",
       "      <td>2024-03-26 17:09:31+00:00</td>\n",
       "      <td>None</td>\n",
       "      <td>None</td>\n",
       "      <td>2024-03-27 03:09:31+00:00</td>\n",
       "      <td>None</td>\n",
       "      <td>10:00:00</td>\n",
       "      <td>FINISH</td>\n",
       "    </tr>\n",
       "    <tr>\n",
       "      <th>2</th>\n",
       "      <td>2</td>\n",
       "      <td>J_gen_2</td>\n",
       "      <td>None</td>\n",
       "      <td>Operation(ProcTime: 6:00:00, ExecutionSystemID...</td>\n",
       "      <td>O_gen_2</td>\n",
       "      <td>None</td>\n",
       "      <td>{2: {2: {}, 3: {}, 4: {}, 5: {}}, 3: {6: {}, 7...</td>\n",
       "      <td>1</td>\n",
       "      <td>&lt;bound method System.name of System (type: Pro...</td>\n",
       "      <td>ProductionArea</td>\n",
       "      <td>...</td>\n",
       "      <td>2024-03-26 19:09:31+00:00</td>\n",
       "      <td>2024-03-26 19:09:31+00:00</td>\n",
       "      <td>None</td>\n",
       "      <td>2024-03-27 02:09:31+00:00</td>\n",
       "      <td>None</td>\n",
       "      <td>None</td>\n",
       "      <td>2024-03-27 16:09:31+00:00</td>\n",
       "      <td>None</td>\n",
       "      <td>21:00:00</td>\n",
       "      <td>FINISH</td>\n",
       "    </tr>\n",
       "    <tr>\n",
       "      <th>3</th>\n",
       "      <td>3</td>\n",
       "      <td>J_gen_3</td>\n",
       "      <td>None</td>\n",
       "      <td>Operation(ProcTime: 7:00:00, ExecutionSystemID...</td>\n",
       "      <td>O_gen_3</td>\n",
       "      <td>None</td>\n",
       "      <td>{2: {2: {}, 3: {}, 4: {}, 5: {}}, 3: {6: {}, 7...</td>\n",
       "      <td>1</td>\n",
       "      <td>&lt;bound method System.name of System (type: Pro...</td>\n",
       "      <td>ProductionArea</td>\n",
       "      <td>...</td>\n",
       "      <td>2024-03-26 21:09:31+00:00</td>\n",
       "      <td>2024-03-26 21:09:31+00:00</td>\n",
       "      <td>None</td>\n",
       "      <td>2024-03-27 03:09:31+00:00</td>\n",
       "      <td>None</td>\n",
       "      <td>None</td>\n",
       "      <td>2024-03-27 15:09:31+00:00</td>\n",
       "      <td>None</td>\n",
       "      <td>18:00:00</td>\n",
       "      <td>FINISH</td>\n",
       "    </tr>\n",
       "    <tr>\n",
       "      <th>4</th>\n",
       "      <td>4</td>\n",
       "      <td>J_gen_4</td>\n",
       "      <td>None</td>\n",
       "      <td>Operation(ProcTime: 9:00:00, ExecutionSystemID...</td>\n",
       "      <td>O_gen_4</td>\n",
       "      <td>None</td>\n",
       "      <td>{2: {2: {}, 3: {}, 4: {}, 5: {}}, 3: {6: {}, 7...</td>\n",
       "      <td>1</td>\n",
       "      <td>&lt;bound method System.name of System (type: Pro...</td>\n",
       "      <td>ProductionArea</td>\n",
       "      <td>...</td>\n",
       "      <td>2024-03-26 23:09:31+00:00</td>\n",
       "      <td>2024-03-26 23:09:31+00:00</td>\n",
       "      <td>None</td>\n",
       "      <td>2024-03-27 15:09:31+00:00</td>\n",
       "      <td>None</td>\n",
       "      <td>None</td>\n",
       "      <td>2024-03-28 07:09:31+00:00</td>\n",
       "      <td>None</td>\n",
       "      <td>1 day, 8:00:00</td>\n",
       "      <td>FINISH</td>\n",
       "    </tr>\n",
       "  </tbody>\n",
       "</table>\n",
       "<p>5 rows × 25 columns</p>\n",
       "</div>"
      ],
      "text/plain": [
       "       job_id job_name custom_id   \n",
       "op_id                              \n",
       "0           0  J_gen_0      None  \\\n",
       "1           1  J_gen_1      None   \n",
       "2           2  J_gen_2      None   \n",
       "3           3  J_gen_3      None   \n",
       "4           4  J_gen_4      None   \n",
       "\n",
       "                                                      op     name  prio   \n",
       "op_id                                                                     \n",
       "0      Operation(ProcTime: 7:00:00, ExecutionSystemID...  O_gen_0  None  \\\n",
       "1      Operation(ProcTime: 8:00:00, ExecutionSystemID...  O_gen_1  None   \n",
       "2      Operation(ProcTime: 6:00:00, ExecutionSystemID...  O_gen_2  None   \n",
       "3      Operation(ProcTime: 7:00:00, ExecutionSystemID...  O_gen_3  None   \n",
       "4      Operation(ProcTime: 9:00:00, ExecutionSystemID...  O_gen_4  None   \n",
       "\n",
       "                                        execution_system   \n",
       "op_id                                                      \n",
       "0      {2: {2: {}, 3: {}, 4: {}, 5: {}}, 3: {6: {}, 7...  \\\n",
       "1      {2: {2: {}, 3: {}, 4: {}, 5: {}}, 3: {6: {}, 7...   \n",
       "2      {2: {2: {}, 3: {}, 4: {}, 5: {}}, 3: {6: {}, 7...   \n",
       "3      {2: {2: {}, 3: {}, 4: {}, 5: {}}, 3: {6: {}, 7...   \n",
       "4      {2: {2: {}, 3: {}, 4: {}, 5: {}}, 3: {6: {}, 7...   \n",
       "\n",
       "      execution_system_custom_id   \n",
       "op_id                              \n",
       "0                              1  \\\n",
       "1                              1   \n",
       "2                              1   \n",
       "3                              1   \n",
       "4                              1   \n",
       "\n",
       "                                   execution_system_name   \n",
       "op_id                                                      \n",
       "0      <bound method System.name of System (type: Pro...  \\\n",
       "1      <bound method System.name of System (type: Pro...   \n",
       "2      <bound method System.name of System (type: Pro...   \n",
       "3      <bound method System.name of System (type: Pro...   \n",
       "4      <bound method System.name of System (type: Pro...   \n",
       "\n",
       "      execution_system_type  ...              creation_date   \n",
       "op_id                        ...                              \n",
       "0            ProductionArea  ...  2024-03-26 15:09:31+00:00  \\\n",
       "1            ProductionArea  ...  2024-03-26 17:09:31+00:00   \n",
       "2            ProductionArea  ...  2024-03-26 19:09:31+00:00   \n",
       "3            ProductionArea  ...  2024-03-26 21:09:31+00:00   \n",
       "4            ProductionArea  ...  2024-03-26 23:09:31+00:00   \n",
       "\n",
       "                    release_date planned_starting_date   \n",
       "op_id                                                    \n",
       "0      2024-03-26 15:09:31+00:00                  None  \\\n",
       "1      2024-03-26 17:09:31+00:00                  None   \n",
       "2      2024-03-26 19:09:31+00:00                  None   \n",
       "3      2024-03-26 21:09:31+00:00                  None   \n",
       "4      2024-03-26 23:09:31+00:00                  None   \n",
       "\n",
       "            actual_starting_date starting_date_deviation planned_ending_date   \n",
       "op_id                                                                          \n",
       "0      2024-03-26 15:09:31+00:00                    None                None  \\\n",
       "1      2024-03-26 17:09:31+00:00                    None                None   \n",
       "2      2024-03-27 02:09:31+00:00                    None                None   \n",
       "3      2024-03-27 03:09:31+00:00                    None                None   \n",
       "4      2024-03-27 15:09:31+00:00                    None                None   \n",
       "\n",
       "              actual_ending_date ending_date_deviation       lead_time   state  \n",
       "op_id                                                                           \n",
       "0      2024-03-27 02:09:31+00:00                  None        11:00:00  FINISH  \n",
       "1      2024-03-27 03:09:31+00:00                  None        10:00:00  FINISH  \n",
       "2      2024-03-27 16:09:31+00:00                  None        21:00:00  FINISH  \n",
       "3      2024-03-27 15:09:31+00:00                  None        18:00:00  FINISH  \n",
       "4      2024-03-28 07:09:31+00:00                  None  1 day, 8:00:00  FINISH  \n",
       "\n",
       "[5 rows x 25 columns]"
      ]
     },
     "execution_count": 289,
     "metadata": {},
     "output_type": "execute_result"
    }
   ],
   "source": [
    "dispatcher.op_db.head()"
   ]
  },
  {
   "cell_type": "code",
   "execution_count": 290,
   "metadata": {},
   "outputs": [
    {
     "data": {
      "text/plain": [
       "Index(['job_id', 'job_name', 'custom_id', 'op', 'name', 'prio',\n",
       "       'execution_system', 'execution_system_custom_id',\n",
       "       'execution_system_name', 'execution_system_type',\n",
       "       'target_station_custom_id', 'target_station_name', 'proc_time',\n",
       "       'setup_time', 'order_time', 'creation_date', 'release_date',\n",
       "       'planned_starting_date', 'actual_starting_date',\n",
       "       'starting_date_deviation', 'planned_ending_date', 'actual_ending_date',\n",
       "       'ending_date_deviation', 'lead_time', 'state'],\n",
       "      dtype='object')"
      ]
     },
     "execution_count": 290,
     "metadata": {},
     "output_type": "execute_result"
    }
   ],
   "source": [
    "dispatcher.op_db.columns"
   ]
  },
  {
   "cell_type": "code",
   "execution_count": 291,
   "metadata": {},
   "outputs": [
    {
     "data": {
      "text/html": [
       "<div>\n",
       "<style scoped>\n",
       "    .dataframe tbody tr th:only-of-type {\n",
       "        vertical-align: middle;\n",
       "    }\n",
       "\n",
       "    .dataframe tbody tr th {\n",
       "        vertical-align: top;\n",
       "    }\n",
       "\n",
       "    .dataframe thead th {\n",
       "        text-align: right;\n",
       "    }\n",
       "</style>\n",
       "<table border=\"1\" class=\"dataframe\">\n",
       "  <thead>\n",
       "    <tr style=\"text-align: right;\">\n",
       "      <th></th>\n",
       "      <th>custom_id</th>\n",
       "      <th>job</th>\n",
       "      <th>name</th>\n",
       "      <th>job_type</th>\n",
       "      <th>prio</th>\n",
       "      <th>total_proc_time</th>\n",
       "      <th>creation_date</th>\n",
       "      <th>release_date</th>\n",
       "      <th>planned_starting_date</th>\n",
       "      <th>actual_starting_date</th>\n",
       "      <th>starting_date_deviation</th>\n",
       "      <th>planned_ending_date</th>\n",
       "      <th>actual_ending_date</th>\n",
       "      <th>ending_date_deviation</th>\n",
       "      <th>lead_time</th>\n",
       "      <th>state</th>\n",
       "    </tr>\n",
       "    <tr>\n",
       "      <th>job_id</th>\n",
       "      <th></th>\n",
       "      <th></th>\n",
       "      <th></th>\n",
       "      <th></th>\n",
       "      <th></th>\n",
       "      <th></th>\n",
       "      <th></th>\n",
       "      <th></th>\n",
       "      <th></th>\n",
       "      <th></th>\n",
       "      <th></th>\n",
       "      <th></th>\n",
       "      <th></th>\n",
       "      <th></th>\n",
       "      <th></th>\n",
       "      <th></th>\n",
       "    </tr>\n",
       "  </thead>\n",
       "  <tbody>\n",
       "    <tr>\n",
       "      <th>0</th>\n",
       "      <td>None</td>\n",
       "      <td>Job (J_gen_0)</td>\n",
       "      <td>J_gen_0</td>\n",
       "      <td>Job</td>\n",
       "      <td>1</td>\n",
       "      <td>0 days 07:00:00</td>\n",
       "      <td>2024-03-26 15:09:31+00:00</td>\n",
       "      <td>2024-03-26 15:09:31+00:00</td>\n",
       "      <td>2023-11-20 06:00:00+00:00</td>\n",
       "      <td>2024-03-26 15:09:31+00:00</td>\n",
       "      <td>127 days, 9:09:31</td>\n",
       "      <td>2023-12-01 10:00:00+00:00</td>\n",
       "      <td>2024-03-27 02:09:31+00:00</td>\n",
       "      <td>116 days, 16:09:31</td>\n",
       "      <td>11:00:00</td>\n",
       "      <td>FINISH</td>\n",
       "    </tr>\n",
       "    <tr>\n",
       "      <th>1</th>\n",
       "      <td>None</td>\n",
       "      <td>Job (J_gen_1)</td>\n",
       "      <td>J_gen_1</td>\n",
       "      <td>Job</td>\n",
       "      <td>4</td>\n",
       "      <td>0 days 08:00:00</td>\n",
       "      <td>2024-03-26 17:09:31+00:00</td>\n",
       "      <td>2024-03-26 17:09:31+00:00</td>\n",
       "      <td>2023-11-20 06:00:00+00:00</td>\n",
       "      <td>2024-03-26 17:09:31+00:00</td>\n",
       "      <td>127 days, 11:09:31</td>\n",
       "      <td>2023-12-01 10:00:00+00:00</td>\n",
       "      <td>2024-03-27 03:09:31+00:00</td>\n",
       "      <td>116 days, 17:09:31</td>\n",
       "      <td>10:00:00</td>\n",
       "      <td>FINISH</td>\n",
       "    </tr>\n",
       "    <tr>\n",
       "      <th>2</th>\n",
       "      <td>None</td>\n",
       "      <td>Job (J_gen_2)</td>\n",
       "      <td>J_gen_2</td>\n",
       "      <td>Job</td>\n",
       "      <td>7</td>\n",
       "      <td>0 days 06:00:00</td>\n",
       "      <td>2024-03-26 19:09:31+00:00</td>\n",
       "      <td>2024-03-26 19:09:31+00:00</td>\n",
       "      <td>2023-11-20 06:00:00+00:00</td>\n",
       "      <td>2024-03-27 02:09:31+00:00</td>\n",
       "      <td>127 days, 20:09:31</td>\n",
       "      <td>2023-12-01 10:00:00+00:00</td>\n",
       "      <td>2024-03-27 16:09:31+00:00</td>\n",
       "      <td>117 days, 6:09:31</td>\n",
       "      <td>21:00:00</td>\n",
       "      <td>FINISH</td>\n",
       "    </tr>\n",
       "    <tr>\n",
       "      <th>3</th>\n",
       "      <td>None</td>\n",
       "      <td>Job (J_gen_3)</td>\n",
       "      <td>J_gen_3</td>\n",
       "      <td>Job</td>\n",
       "      <td>8</td>\n",
       "      <td>0 days 07:00:00</td>\n",
       "      <td>2024-03-26 21:09:31+00:00</td>\n",
       "      <td>2024-03-26 21:09:31+00:00</td>\n",
       "      <td>2023-11-20 06:00:00+00:00</td>\n",
       "      <td>2024-03-27 03:09:31+00:00</td>\n",
       "      <td>127 days, 21:09:31</td>\n",
       "      <td>2023-12-01 10:00:00+00:00</td>\n",
       "      <td>2024-03-27 15:09:31+00:00</td>\n",
       "      <td>117 days, 5:09:31</td>\n",
       "      <td>18:00:00</td>\n",
       "      <td>FINISH</td>\n",
       "    </tr>\n",
       "    <tr>\n",
       "      <th>4</th>\n",
       "      <td>None</td>\n",
       "      <td>Job (J_gen_4)</td>\n",
       "      <td>J_gen_4</td>\n",
       "      <td>Job</td>\n",
       "      <td>12</td>\n",
       "      <td>0 days 09:00:00</td>\n",
       "      <td>2024-03-26 23:09:31+00:00</td>\n",
       "      <td>2024-03-26 23:09:31+00:00</td>\n",
       "      <td>2023-11-20 06:00:00+00:00</td>\n",
       "      <td>2024-03-27 15:09:31+00:00</td>\n",
       "      <td>128 days, 9:09:31</td>\n",
       "      <td>2023-12-01 10:00:00+00:00</td>\n",
       "      <td>2024-03-28 07:09:31+00:00</td>\n",
       "      <td>117 days, 21:09:31</td>\n",
       "      <td>1 day, 8:00:00</td>\n",
       "      <td>FINISH</td>\n",
       "    </tr>\n",
       "    <tr>\n",
       "      <th>5</th>\n",
       "      <td>None</td>\n",
       "      <td>Job (J_gen_5)</td>\n",
       "      <td>J_gen_5</td>\n",
       "      <td>Job</td>\n",
       "      <td>11</td>\n",
       "      <td>0 days 05:00:00</td>\n",
       "      <td>2024-03-27 01:09:31+00:00</td>\n",
       "      <td>2024-03-27 01:09:31+00:00</td>\n",
       "      <td>2023-11-20 06:00:00+00:00</td>\n",
       "      <td>2024-03-28 07:09:31+00:00</td>\n",
       "      <td>129 days, 1:09:31</td>\n",
       "      <td>2023-12-01 10:00:00+00:00</td>\n",
       "      <td>2024-03-28 20:09:31+00:00</td>\n",
       "      <td>118 days, 10:09:31</td>\n",
       "      <td>1 day, 19:00:00</td>\n",
       "      <td>FINISH</td>\n",
       "    </tr>\n",
       "    <tr>\n",
       "      <th>6</th>\n",
       "      <td>None</td>\n",
       "      <td>Job (J_gen_6)</td>\n",
       "      <td>J_gen_6</td>\n",
       "      <td>Job</td>\n",
       "      <td>11</td>\n",
       "      <td>0 days 08:00:00</td>\n",
       "      <td>2024-03-27 03:09:31+00:00</td>\n",
       "      <td>2024-03-27 03:09:31+00:00</td>\n",
       "      <td>2023-11-20 06:00:00+00:00</td>\n",
       "      <td>2024-03-27 03:09:31+00:00</td>\n",
       "      <td>127 days, 21:09:31</td>\n",
       "      <td>2023-12-01 10:00:00+00:00</td>\n",
       "      <td>2024-03-27 14:09:31+00:00</td>\n",
       "      <td>117 days, 4:09:31</td>\n",
       "      <td>11:00:00</td>\n",
       "      <td>FINISH</td>\n",
       "    </tr>\n",
       "    <tr>\n",
       "      <th>7</th>\n",
       "      <td>None</td>\n",
       "      <td>Job (J_gen_7)</td>\n",
       "      <td>J_gen_7</td>\n",
       "      <td>Job</td>\n",
       "      <td>10</td>\n",
       "      <td>0 days 06:00:00</td>\n",
       "      <td>2024-03-27 05:09:31+00:00</td>\n",
       "      <td>2024-03-27 05:09:31+00:00</td>\n",
       "      <td>2023-11-20 06:00:00+00:00</td>\n",
       "      <td>2024-03-27 16:09:31+00:00</td>\n",
       "      <td>128 days, 10:09:31</td>\n",
       "      <td>2023-12-01 10:00:00+00:00</td>\n",
       "      <td>2024-03-28 05:09:31+00:00</td>\n",
       "      <td>117 days, 19:09:31</td>\n",
       "      <td>1 day, 0:00:00</td>\n",
       "      <td>FINISH</td>\n",
       "    </tr>\n",
       "    <tr>\n",
       "      <th>8</th>\n",
       "      <td>None</td>\n",
       "      <td>Job (J_gen_8)</td>\n",
       "      <td>J_gen_8</td>\n",
       "      <td>Job</td>\n",
       "      <td>10</td>\n",
       "      <td>0 days 08:00:00</td>\n",
       "      <td>2024-03-27 07:09:31+00:00</td>\n",
       "      <td>2024-03-27 07:09:31+00:00</td>\n",
       "      <td>2023-11-20 06:00:00+00:00</td>\n",
       "      <td>2024-03-27 14:09:31+00:00</td>\n",
       "      <td>128 days, 8:09:31</td>\n",
       "      <td>2023-12-01 10:00:00+00:00</td>\n",
       "      <td>2024-03-27 23:09:31+00:00</td>\n",
       "      <td>117 days, 13:09:31</td>\n",
       "      <td>16:00:00</td>\n",
       "      <td>FINISH</td>\n",
       "    </tr>\n",
       "    <tr>\n",
       "      <th>9</th>\n",
       "      <td>None</td>\n",
       "      <td>Job (J_gen_9)</td>\n",
       "      <td>J_gen_9</td>\n",
       "      <td>Job</td>\n",
       "      <td>14</td>\n",
       "      <td>0 days 09:00:00</td>\n",
       "      <td>2024-03-27 09:09:31+00:00</td>\n",
       "      <td>2024-03-27 09:09:31+00:00</td>\n",
       "      <td>2023-11-20 06:00:00+00:00</td>\n",
       "      <td>2024-03-27 23:09:31+00:00</td>\n",
       "      <td>128 days, 17:09:31</td>\n",
       "      <td>2023-12-01 10:00:00+00:00</td>\n",
       "      <td>2024-03-28 11:09:31+00:00</td>\n",
       "      <td>118 days, 1:09:31</td>\n",
       "      <td>1 day, 2:00:00</td>\n",
       "      <td>FINISH</td>\n",
       "    </tr>\n",
       "    <tr>\n",
       "      <th>10</th>\n",
       "      <td>None</td>\n",
       "      <td>Job (J_gen_10)</td>\n",
       "      <td>J_gen_10</td>\n",
       "      <td>Job</td>\n",
       "      <td>16</td>\n",
       "      <td>0 days 06:00:00</td>\n",
       "      <td>2024-03-27 11:09:31+00:00</td>\n",
       "      <td>2024-03-27 11:09:31+00:00</td>\n",
       "      <td>2023-11-20 06:00:00+00:00</td>\n",
       "      <td>2024-03-28 11:09:31+00:00</td>\n",
       "      <td>129 days, 5:09:31</td>\n",
       "      <td>2023-12-01 10:00:00+00:00</td>\n",
       "      <td>2024-03-28 18:09:31+00:00</td>\n",
       "      <td>118 days, 8:09:31</td>\n",
       "      <td>1 day, 7:00:00</td>\n",
       "      <td>FINISH</td>\n",
       "    </tr>\n",
       "    <tr>\n",
       "      <th>11</th>\n",
       "      <td>None</td>\n",
       "      <td>Job (J_gen_11)</td>\n",
       "      <td>J_gen_11</td>\n",
       "      <td>Job</td>\n",
       "      <td>16</td>\n",
       "      <td>0 days 06:00:00</td>\n",
       "      <td>2024-03-27 13:09:31+00:00</td>\n",
       "      <td>2024-03-27 13:09:31+00:00</td>\n",
       "      <td>2023-11-20 06:00:00+00:00</td>\n",
       "      <td>2024-03-28 18:09:31+00:00</td>\n",
       "      <td>129 days, 12:09:31</td>\n",
       "      <td>2023-12-01 10:00:00+00:00</td>\n",
       "      <td>2024-03-29 03:09:31+00:00</td>\n",
       "      <td>118 days, 17:09:31</td>\n",
       "      <td>1 day, 14:00:00</td>\n",
       "      <td>FINISH</td>\n",
       "    </tr>\n",
       "  </tbody>\n",
       "</table>\n",
       "</div>"
      ],
      "text/plain": [
       "       custom_id             job      name job_type prio  total_proc_time   \n",
       "job_id                                                                      \n",
       "0           None   Job (J_gen_0)   J_gen_0      Job    1  0 days 07:00:00  \\\n",
       "1           None   Job (J_gen_1)   J_gen_1      Job    4  0 days 08:00:00   \n",
       "2           None   Job (J_gen_2)   J_gen_2      Job    7  0 days 06:00:00   \n",
       "3           None   Job (J_gen_3)   J_gen_3      Job    8  0 days 07:00:00   \n",
       "4           None   Job (J_gen_4)   J_gen_4      Job   12  0 days 09:00:00   \n",
       "5           None   Job (J_gen_5)   J_gen_5      Job   11  0 days 05:00:00   \n",
       "6           None   Job (J_gen_6)   J_gen_6      Job   11  0 days 08:00:00   \n",
       "7           None   Job (J_gen_7)   J_gen_7      Job   10  0 days 06:00:00   \n",
       "8           None   Job (J_gen_8)   J_gen_8      Job   10  0 days 08:00:00   \n",
       "9           None   Job (J_gen_9)   J_gen_9      Job   14  0 days 09:00:00   \n",
       "10          None  Job (J_gen_10)  J_gen_10      Job   16  0 days 06:00:00   \n",
       "11          None  Job (J_gen_11)  J_gen_11      Job   16  0 days 06:00:00   \n",
       "\n",
       "                    creation_date               release_date   \n",
       "job_id                                                         \n",
       "0       2024-03-26 15:09:31+00:00  2024-03-26 15:09:31+00:00  \\\n",
       "1       2024-03-26 17:09:31+00:00  2024-03-26 17:09:31+00:00   \n",
       "2       2024-03-26 19:09:31+00:00  2024-03-26 19:09:31+00:00   \n",
       "3       2024-03-26 21:09:31+00:00  2024-03-26 21:09:31+00:00   \n",
       "4       2024-03-26 23:09:31+00:00  2024-03-26 23:09:31+00:00   \n",
       "5       2024-03-27 01:09:31+00:00  2024-03-27 01:09:31+00:00   \n",
       "6       2024-03-27 03:09:31+00:00  2024-03-27 03:09:31+00:00   \n",
       "7       2024-03-27 05:09:31+00:00  2024-03-27 05:09:31+00:00   \n",
       "8       2024-03-27 07:09:31+00:00  2024-03-27 07:09:31+00:00   \n",
       "9       2024-03-27 09:09:31+00:00  2024-03-27 09:09:31+00:00   \n",
       "10      2024-03-27 11:09:31+00:00  2024-03-27 11:09:31+00:00   \n",
       "11      2024-03-27 13:09:31+00:00  2024-03-27 13:09:31+00:00   \n",
       "\n",
       "            planned_starting_date       actual_starting_date   \n",
       "job_id                                                         \n",
       "0       2023-11-20 06:00:00+00:00  2024-03-26 15:09:31+00:00  \\\n",
       "1       2023-11-20 06:00:00+00:00  2024-03-26 17:09:31+00:00   \n",
       "2       2023-11-20 06:00:00+00:00  2024-03-27 02:09:31+00:00   \n",
       "3       2023-11-20 06:00:00+00:00  2024-03-27 03:09:31+00:00   \n",
       "4       2023-11-20 06:00:00+00:00  2024-03-27 15:09:31+00:00   \n",
       "5       2023-11-20 06:00:00+00:00  2024-03-28 07:09:31+00:00   \n",
       "6       2023-11-20 06:00:00+00:00  2024-03-27 03:09:31+00:00   \n",
       "7       2023-11-20 06:00:00+00:00  2024-03-27 16:09:31+00:00   \n",
       "8       2023-11-20 06:00:00+00:00  2024-03-27 14:09:31+00:00   \n",
       "9       2023-11-20 06:00:00+00:00  2024-03-27 23:09:31+00:00   \n",
       "10      2023-11-20 06:00:00+00:00  2024-03-28 11:09:31+00:00   \n",
       "11      2023-11-20 06:00:00+00:00  2024-03-28 18:09:31+00:00   \n",
       "\n",
       "       starting_date_deviation        planned_ending_date   \n",
       "job_id                                                      \n",
       "0            127 days, 9:09:31  2023-12-01 10:00:00+00:00  \\\n",
       "1           127 days, 11:09:31  2023-12-01 10:00:00+00:00   \n",
       "2           127 days, 20:09:31  2023-12-01 10:00:00+00:00   \n",
       "3           127 days, 21:09:31  2023-12-01 10:00:00+00:00   \n",
       "4            128 days, 9:09:31  2023-12-01 10:00:00+00:00   \n",
       "5            129 days, 1:09:31  2023-12-01 10:00:00+00:00   \n",
       "6           127 days, 21:09:31  2023-12-01 10:00:00+00:00   \n",
       "7           128 days, 10:09:31  2023-12-01 10:00:00+00:00   \n",
       "8            128 days, 8:09:31  2023-12-01 10:00:00+00:00   \n",
       "9           128 days, 17:09:31  2023-12-01 10:00:00+00:00   \n",
       "10           129 days, 5:09:31  2023-12-01 10:00:00+00:00   \n",
       "11          129 days, 12:09:31  2023-12-01 10:00:00+00:00   \n",
       "\n",
       "               actual_ending_date ending_date_deviation        lead_time   \n",
       "job_id                                                                     \n",
       "0       2024-03-27 02:09:31+00:00    116 days, 16:09:31         11:00:00  \\\n",
       "1       2024-03-27 03:09:31+00:00    116 days, 17:09:31         10:00:00   \n",
       "2       2024-03-27 16:09:31+00:00     117 days, 6:09:31         21:00:00   \n",
       "3       2024-03-27 15:09:31+00:00     117 days, 5:09:31         18:00:00   \n",
       "4       2024-03-28 07:09:31+00:00    117 days, 21:09:31   1 day, 8:00:00   \n",
       "5       2024-03-28 20:09:31+00:00    118 days, 10:09:31  1 day, 19:00:00   \n",
       "6       2024-03-27 14:09:31+00:00     117 days, 4:09:31         11:00:00   \n",
       "7       2024-03-28 05:09:31+00:00    117 days, 19:09:31   1 day, 0:00:00   \n",
       "8       2024-03-27 23:09:31+00:00    117 days, 13:09:31         16:00:00   \n",
       "9       2024-03-28 11:09:31+00:00     118 days, 1:09:31   1 day, 2:00:00   \n",
       "10      2024-03-28 18:09:31+00:00     118 days, 8:09:31   1 day, 7:00:00   \n",
       "11      2024-03-29 03:09:31+00:00    118 days, 17:09:31  1 day, 14:00:00   \n",
       "\n",
       "         state  \n",
       "job_id          \n",
       "0       FINISH  \n",
       "1       FINISH  \n",
       "2       FINISH  \n",
       "3       FINISH  \n",
       "4       FINISH  \n",
       "5       FINISH  \n",
       "6       FINISH  \n",
       "7       FINISH  \n",
       "8       FINISH  \n",
       "9       FINISH  \n",
       "10      FINISH  \n",
       "11      FINISH  "
      ]
     },
     "execution_count": 291,
     "metadata": {},
     "output_type": "execute_result"
    }
   ],
   "source": [
    "dispatcher.job_db"
   ]
  },
  {
   "cell_type": "code",
   "execution_count": 292,
   "metadata": {},
   "outputs": [
    {
     "data": {
      "text/html": [
       "<div>\n",
       "<style scoped>\n",
       "    .dataframe tbody tr th:only-of-type {\n",
       "        vertical-align: middle;\n",
       "    }\n",
       "\n",
       "    .dataframe tbody tr th {\n",
       "        vertical-align: top;\n",
       "    }\n",
       "\n",
       "    .dataframe thead th {\n",
       "        text-align: right;\n",
       "    }\n",
       "</style>\n",
       "<table border=\"1\" class=\"dataframe\">\n",
       "  <thead>\n",
       "    <tr style=\"text-align: right;\">\n",
       "      <th></th>\n",
       "      <th>job_id</th>\n",
       "      <th>job_name</th>\n",
       "      <th>custom_id</th>\n",
       "      <th>op</th>\n",
       "      <th>name</th>\n",
       "      <th>prio</th>\n",
       "      <th>execution_system</th>\n",
       "      <th>execution_system_custom_id</th>\n",
       "      <th>execution_system_name</th>\n",
       "      <th>execution_system_type</th>\n",
       "      <th>...</th>\n",
       "      <th>creation_date</th>\n",
       "      <th>release_date</th>\n",
       "      <th>planned_starting_date</th>\n",
       "      <th>actual_starting_date</th>\n",
       "      <th>starting_date_deviation</th>\n",
       "      <th>planned_ending_date</th>\n",
       "      <th>actual_ending_date</th>\n",
       "      <th>ending_date_deviation</th>\n",
       "      <th>lead_time</th>\n",
       "      <th>state</th>\n",
       "    </tr>\n",
       "    <tr>\n",
       "      <th>op_id</th>\n",
       "      <th></th>\n",
       "      <th></th>\n",
       "      <th></th>\n",
       "      <th></th>\n",
       "      <th></th>\n",
       "      <th></th>\n",
       "      <th></th>\n",
       "      <th></th>\n",
       "      <th></th>\n",
       "      <th></th>\n",
       "      <th></th>\n",
       "      <th></th>\n",
       "      <th></th>\n",
       "      <th></th>\n",
       "      <th></th>\n",
       "      <th></th>\n",
       "      <th></th>\n",
       "      <th></th>\n",
       "      <th></th>\n",
       "      <th></th>\n",
       "      <th></th>\n",
       "    </tr>\n",
       "  </thead>\n",
       "  <tbody>\n",
       "    <tr>\n",
       "      <th>0</th>\n",
       "      <td>0</td>\n",
       "      <td>J_gen_0</td>\n",
       "      <td>None</td>\n",
       "      <td>Operation(ProcTime: 7:00:00, ExecutionSystemID...</td>\n",
       "      <td>O_gen_0</td>\n",
       "      <td>None</td>\n",
       "      <td>{2: {2: {}, 3: {}, 4: {}, 5: {}}, 3: {6: {}, 7...</td>\n",
       "      <td>1</td>\n",
       "      <td>&lt;bound method System.name of System (type: Pro...</td>\n",
       "      <td>ProductionArea</td>\n",
       "      <td>...</td>\n",
       "      <td>2024-03-26 16:09:31+01:00</td>\n",
       "      <td>2024-03-26 16:09:31+01:00</td>\n",
       "      <td>None</td>\n",
       "      <td>2024-03-26 16:09:31+01:00</td>\n",
       "      <td>None</td>\n",
       "      <td>None</td>\n",
       "      <td>2024-03-27 03:09:31+01:00</td>\n",
       "      <td>None</td>\n",
       "      <td>11:00:00</td>\n",
       "      <td>FINISH</td>\n",
       "    </tr>\n",
       "    <tr>\n",
       "      <th>1</th>\n",
       "      <td>1</td>\n",
       "      <td>J_gen_1</td>\n",
       "      <td>None</td>\n",
       "      <td>Operation(ProcTime: 8:00:00, ExecutionSystemID...</td>\n",
       "      <td>O_gen_1</td>\n",
       "      <td>None</td>\n",
       "      <td>{2: {2: {}, 3: {}, 4: {}, 5: {}}, 3: {6: {}, 7...</td>\n",
       "      <td>1</td>\n",
       "      <td>&lt;bound method System.name of System (type: Pro...</td>\n",
       "      <td>ProductionArea</td>\n",
       "      <td>...</td>\n",
       "      <td>2024-03-26 18:09:31+01:00</td>\n",
       "      <td>2024-03-26 18:09:31+01:00</td>\n",
       "      <td>None</td>\n",
       "      <td>2024-03-26 18:09:31+01:00</td>\n",
       "      <td>None</td>\n",
       "      <td>None</td>\n",
       "      <td>2024-03-27 04:09:31+01:00</td>\n",
       "      <td>None</td>\n",
       "      <td>10:00:00</td>\n",
       "      <td>FINISH</td>\n",
       "    </tr>\n",
       "    <tr>\n",
       "      <th>2</th>\n",
       "      <td>2</td>\n",
       "      <td>J_gen_2</td>\n",
       "      <td>None</td>\n",
       "      <td>Operation(ProcTime: 6:00:00, ExecutionSystemID...</td>\n",
       "      <td>O_gen_2</td>\n",
       "      <td>None</td>\n",
       "      <td>{2: {2: {}, 3: {}, 4: {}, 5: {}}, 3: {6: {}, 7...</td>\n",
       "      <td>1</td>\n",
       "      <td>&lt;bound method System.name of System (type: Pro...</td>\n",
       "      <td>ProductionArea</td>\n",
       "      <td>...</td>\n",
       "      <td>2024-03-26 20:09:31+01:00</td>\n",
       "      <td>2024-03-26 20:09:31+01:00</td>\n",
       "      <td>None</td>\n",
       "      <td>2024-03-27 03:09:31+01:00</td>\n",
       "      <td>None</td>\n",
       "      <td>None</td>\n",
       "      <td>2024-03-27 17:09:31+01:00</td>\n",
       "      <td>None</td>\n",
       "      <td>21:00:00</td>\n",
       "      <td>FINISH</td>\n",
       "    </tr>\n",
       "    <tr>\n",
       "      <th>3</th>\n",
       "      <td>3</td>\n",
       "      <td>J_gen_3</td>\n",
       "      <td>None</td>\n",
       "      <td>Operation(ProcTime: 7:00:00, ExecutionSystemID...</td>\n",
       "      <td>O_gen_3</td>\n",
       "      <td>None</td>\n",
       "      <td>{2: {2: {}, 3: {}, 4: {}, 5: {}}, 3: {6: {}, 7...</td>\n",
       "      <td>1</td>\n",
       "      <td>&lt;bound method System.name of System (type: Pro...</td>\n",
       "      <td>ProductionArea</td>\n",
       "      <td>...</td>\n",
       "      <td>2024-03-26 22:09:31+01:00</td>\n",
       "      <td>2024-03-26 22:09:31+01:00</td>\n",
       "      <td>None</td>\n",
       "      <td>2024-03-27 04:09:31+01:00</td>\n",
       "      <td>None</td>\n",
       "      <td>None</td>\n",
       "      <td>2024-03-27 16:09:31+01:00</td>\n",
       "      <td>None</td>\n",
       "      <td>18:00:00</td>\n",
       "      <td>FINISH</td>\n",
       "    </tr>\n",
       "    <tr>\n",
       "      <th>4</th>\n",
       "      <td>4</td>\n",
       "      <td>J_gen_4</td>\n",
       "      <td>None</td>\n",
       "      <td>Operation(ProcTime: 9:00:00, ExecutionSystemID...</td>\n",
       "      <td>O_gen_4</td>\n",
       "      <td>None</td>\n",
       "      <td>{2: {2: {}, 3: {}, 4: {}, 5: {}}, 3: {6: {}, 7...</td>\n",
       "      <td>1</td>\n",
       "      <td>&lt;bound method System.name of System (type: Pro...</td>\n",
       "      <td>ProductionArea</td>\n",
       "      <td>...</td>\n",
       "      <td>2024-03-27 00:09:31+01:00</td>\n",
       "      <td>2024-03-27 00:09:31+01:00</td>\n",
       "      <td>None</td>\n",
       "      <td>2024-03-27 16:09:31+01:00</td>\n",
       "      <td>None</td>\n",
       "      <td>None</td>\n",
       "      <td>2024-03-28 08:09:31+01:00</td>\n",
       "      <td>None</td>\n",
       "      <td>1 day, 8:00:00</td>\n",
       "      <td>FINISH</td>\n",
       "    </tr>\n",
       "    <tr>\n",
       "      <th>5</th>\n",
       "      <td>5</td>\n",
       "      <td>J_gen_5</td>\n",
       "      <td>None</td>\n",
       "      <td>Operation(ProcTime: 5:00:00, ExecutionSystemID...</td>\n",
       "      <td>O_gen_5</td>\n",
       "      <td>None</td>\n",
       "      <td>{2: {2: {}, 3: {}, 4: {}, 5: {}}, 3: {6: {}, 7...</td>\n",
       "      <td>1</td>\n",
       "      <td>&lt;bound method System.name of System (type: Pro...</td>\n",
       "      <td>ProductionArea</td>\n",
       "      <td>...</td>\n",
       "      <td>2024-03-27 02:09:31+01:00</td>\n",
       "      <td>2024-03-27 02:09:31+01:00</td>\n",
       "      <td>None</td>\n",
       "      <td>2024-03-28 08:09:31+01:00</td>\n",
       "      <td>None</td>\n",
       "      <td>None</td>\n",
       "      <td>2024-03-28 21:09:31+01:00</td>\n",
       "      <td>None</td>\n",
       "      <td>1 day, 19:00:00</td>\n",
       "      <td>FINISH</td>\n",
       "    </tr>\n",
       "    <tr>\n",
       "      <th>6</th>\n",
       "      <td>6</td>\n",
       "      <td>J_gen_6</td>\n",
       "      <td>None</td>\n",
       "      <td>Operation(ProcTime: 8:00:00, ExecutionSystemID...</td>\n",
       "      <td>O_gen_6</td>\n",
       "      <td>None</td>\n",
       "      <td>{2: {2: {}, 3: {}, 4: {}, 5: {}}, 3: {6: {}, 7...</td>\n",
       "      <td>1</td>\n",
       "      <td>&lt;bound method System.name of System (type: Pro...</td>\n",
       "      <td>ProductionArea</td>\n",
       "      <td>...</td>\n",
       "      <td>2024-03-27 04:09:31+01:00</td>\n",
       "      <td>2024-03-27 04:09:31+01:00</td>\n",
       "      <td>None</td>\n",
       "      <td>2024-03-27 04:09:31+01:00</td>\n",
       "      <td>None</td>\n",
       "      <td>None</td>\n",
       "      <td>2024-03-27 15:09:31+01:00</td>\n",
       "      <td>None</td>\n",
       "      <td>11:00:00</td>\n",
       "      <td>FINISH</td>\n",
       "    </tr>\n",
       "    <tr>\n",
       "      <th>7</th>\n",
       "      <td>7</td>\n",
       "      <td>J_gen_7</td>\n",
       "      <td>None</td>\n",
       "      <td>Operation(ProcTime: 6:00:00, ExecutionSystemID...</td>\n",
       "      <td>O_gen_7</td>\n",
       "      <td>None</td>\n",
       "      <td>{2: {2: {}, 3: {}, 4: {}, 5: {}}, 3: {6: {}, 7...</td>\n",
       "      <td>1</td>\n",
       "      <td>&lt;bound method System.name of System (type: Pro...</td>\n",
       "      <td>ProductionArea</td>\n",
       "      <td>...</td>\n",
       "      <td>2024-03-27 06:09:31+01:00</td>\n",
       "      <td>2024-03-27 06:09:31+01:00</td>\n",
       "      <td>None</td>\n",
       "      <td>2024-03-27 17:09:31+01:00</td>\n",
       "      <td>None</td>\n",
       "      <td>None</td>\n",
       "      <td>2024-03-28 06:09:31+01:00</td>\n",
       "      <td>None</td>\n",
       "      <td>1 day, 0:00:00</td>\n",
       "      <td>FINISH</td>\n",
       "    </tr>\n",
       "    <tr>\n",
       "      <th>8</th>\n",
       "      <td>8</td>\n",
       "      <td>J_gen_8</td>\n",
       "      <td>None</td>\n",
       "      <td>Operation(ProcTime: 8:00:00, ExecutionSystemID...</td>\n",
       "      <td>O_gen_8</td>\n",
       "      <td>None</td>\n",
       "      <td>{2: {2: {}, 3: {}, 4: {}, 5: {}}, 3: {6: {}, 7...</td>\n",
       "      <td>1</td>\n",
       "      <td>&lt;bound method System.name of System (type: Pro...</td>\n",
       "      <td>ProductionArea</td>\n",
       "      <td>...</td>\n",
       "      <td>2024-03-27 08:09:31+01:00</td>\n",
       "      <td>2024-03-27 08:09:31+01:00</td>\n",
       "      <td>None</td>\n",
       "      <td>2024-03-27 15:09:31+01:00</td>\n",
       "      <td>None</td>\n",
       "      <td>None</td>\n",
       "      <td>2024-03-28 00:09:31+01:00</td>\n",
       "      <td>None</td>\n",
       "      <td>16:00:00</td>\n",
       "      <td>FINISH</td>\n",
       "    </tr>\n",
       "    <tr>\n",
       "      <th>9</th>\n",
       "      <td>9</td>\n",
       "      <td>J_gen_9</td>\n",
       "      <td>None</td>\n",
       "      <td>Operation(ProcTime: 9:00:00, ExecutionSystemID...</td>\n",
       "      <td>O_gen_9</td>\n",
       "      <td>None</td>\n",
       "      <td>{2: {2: {}, 3: {}, 4: {}, 5: {}}, 3: {6: {}, 7...</td>\n",
       "      <td>1</td>\n",
       "      <td>&lt;bound method System.name of System (type: Pro...</td>\n",
       "      <td>ProductionArea</td>\n",
       "      <td>...</td>\n",
       "      <td>2024-03-27 10:09:31+01:00</td>\n",
       "      <td>2024-03-27 10:09:31+01:00</td>\n",
       "      <td>None</td>\n",
       "      <td>2024-03-28 00:09:31+01:00</td>\n",
       "      <td>None</td>\n",
       "      <td>None</td>\n",
       "      <td>2024-03-28 12:09:31+01:00</td>\n",
       "      <td>None</td>\n",
       "      <td>1 day, 2:00:00</td>\n",
       "      <td>FINISH</td>\n",
       "    </tr>\n",
       "    <tr>\n",
       "      <th>10</th>\n",
       "      <td>10</td>\n",
       "      <td>J_gen_10</td>\n",
       "      <td>None</td>\n",
       "      <td>Operation(ProcTime: 6:00:00, ExecutionSystemID...</td>\n",
       "      <td>O_gen_10</td>\n",
       "      <td>None</td>\n",
       "      <td>{2: {2: {}, 3: {}, 4: {}, 5: {}}, 3: {6: {}, 7...</td>\n",
       "      <td>1</td>\n",
       "      <td>&lt;bound method System.name of System (type: Pro...</td>\n",
       "      <td>ProductionArea</td>\n",
       "      <td>...</td>\n",
       "      <td>2024-03-27 12:09:31+01:00</td>\n",
       "      <td>2024-03-27 12:09:31+01:00</td>\n",
       "      <td>None</td>\n",
       "      <td>2024-03-28 12:09:31+01:00</td>\n",
       "      <td>None</td>\n",
       "      <td>None</td>\n",
       "      <td>2024-03-28 19:09:31+01:00</td>\n",
       "      <td>None</td>\n",
       "      <td>1 day, 7:00:00</td>\n",
       "      <td>FINISH</td>\n",
       "    </tr>\n",
       "    <tr>\n",
       "      <th>11</th>\n",
       "      <td>11</td>\n",
       "      <td>J_gen_11</td>\n",
       "      <td>None</td>\n",
       "      <td>Operation(ProcTime: 6:00:00, ExecutionSystemID...</td>\n",
       "      <td>O_gen_11</td>\n",
       "      <td>None</td>\n",
       "      <td>{2: {2: {}, 3: {}, 4: {}, 5: {}}, 3: {6: {}, 7...</td>\n",
       "      <td>1</td>\n",
       "      <td>&lt;bound method System.name of System (type: Pro...</td>\n",
       "      <td>ProductionArea</td>\n",
       "      <td>...</td>\n",
       "      <td>2024-03-27 14:09:31+01:00</td>\n",
       "      <td>2024-03-27 14:09:31+01:00</td>\n",
       "      <td>None</td>\n",
       "      <td>2024-03-28 19:09:31+01:00</td>\n",
       "      <td>None</td>\n",
       "      <td>None</td>\n",
       "      <td>2024-03-29 04:09:31+01:00</td>\n",
       "      <td>None</td>\n",
       "      <td>1 day, 14:00:00</td>\n",
       "      <td>FINISH</td>\n",
       "    </tr>\n",
       "  </tbody>\n",
       "</table>\n",
       "<p>12 rows × 25 columns</p>\n",
       "</div>"
      ],
      "text/plain": [
       "       job_id  job_name custom_id   \n",
       "op_id                               \n",
       "0           0   J_gen_0      None  \\\n",
       "1           1   J_gen_1      None   \n",
       "2           2   J_gen_2      None   \n",
       "3           3   J_gen_3      None   \n",
       "4           4   J_gen_4      None   \n",
       "5           5   J_gen_5      None   \n",
       "6           6   J_gen_6      None   \n",
       "7           7   J_gen_7      None   \n",
       "8           8   J_gen_8      None   \n",
       "9           9   J_gen_9      None   \n",
       "10         10  J_gen_10      None   \n",
       "11         11  J_gen_11      None   \n",
       "\n",
       "                                                      op      name  prio   \n",
       "op_id                                                                      \n",
       "0      Operation(ProcTime: 7:00:00, ExecutionSystemID...   O_gen_0  None  \\\n",
       "1      Operation(ProcTime: 8:00:00, ExecutionSystemID...   O_gen_1  None   \n",
       "2      Operation(ProcTime: 6:00:00, ExecutionSystemID...   O_gen_2  None   \n",
       "3      Operation(ProcTime: 7:00:00, ExecutionSystemID...   O_gen_3  None   \n",
       "4      Operation(ProcTime: 9:00:00, ExecutionSystemID...   O_gen_4  None   \n",
       "5      Operation(ProcTime: 5:00:00, ExecutionSystemID...   O_gen_5  None   \n",
       "6      Operation(ProcTime: 8:00:00, ExecutionSystemID...   O_gen_6  None   \n",
       "7      Operation(ProcTime: 6:00:00, ExecutionSystemID...   O_gen_7  None   \n",
       "8      Operation(ProcTime: 8:00:00, ExecutionSystemID...   O_gen_8  None   \n",
       "9      Operation(ProcTime: 9:00:00, ExecutionSystemID...   O_gen_9  None   \n",
       "10     Operation(ProcTime: 6:00:00, ExecutionSystemID...  O_gen_10  None   \n",
       "11     Operation(ProcTime: 6:00:00, ExecutionSystemID...  O_gen_11  None   \n",
       "\n",
       "                                        execution_system   \n",
       "op_id                                                      \n",
       "0      {2: {2: {}, 3: {}, 4: {}, 5: {}}, 3: {6: {}, 7...  \\\n",
       "1      {2: {2: {}, 3: {}, 4: {}, 5: {}}, 3: {6: {}, 7...   \n",
       "2      {2: {2: {}, 3: {}, 4: {}, 5: {}}, 3: {6: {}, 7...   \n",
       "3      {2: {2: {}, 3: {}, 4: {}, 5: {}}, 3: {6: {}, 7...   \n",
       "4      {2: {2: {}, 3: {}, 4: {}, 5: {}}, 3: {6: {}, 7...   \n",
       "5      {2: {2: {}, 3: {}, 4: {}, 5: {}}, 3: {6: {}, 7...   \n",
       "6      {2: {2: {}, 3: {}, 4: {}, 5: {}}, 3: {6: {}, 7...   \n",
       "7      {2: {2: {}, 3: {}, 4: {}, 5: {}}, 3: {6: {}, 7...   \n",
       "8      {2: {2: {}, 3: {}, 4: {}, 5: {}}, 3: {6: {}, 7...   \n",
       "9      {2: {2: {}, 3: {}, 4: {}, 5: {}}, 3: {6: {}, 7...   \n",
       "10     {2: {2: {}, 3: {}, 4: {}, 5: {}}, 3: {6: {}, 7...   \n",
       "11     {2: {2: {}, 3: {}, 4: {}, 5: {}}, 3: {6: {}, 7...   \n",
       "\n",
       "      execution_system_custom_id   \n",
       "op_id                              \n",
       "0                              1  \\\n",
       "1                              1   \n",
       "2                              1   \n",
       "3                              1   \n",
       "4                              1   \n",
       "5                              1   \n",
       "6                              1   \n",
       "7                              1   \n",
       "8                              1   \n",
       "9                              1   \n",
       "10                             1   \n",
       "11                             1   \n",
       "\n",
       "                                   execution_system_name   \n",
       "op_id                                                      \n",
       "0      <bound method System.name of System (type: Pro...  \\\n",
       "1      <bound method System.name of System (type: Pro...   \n",
       "2      <bound method System.name of System (type: Pro...   \n",
       "3      <bound method System.name of System (type: Pro...   \n",
       "4      <bound method System.name of System (type: Pro...   \n",
       "5      <bound method System.name of System (type: Pro...   \n",
       "6      <bound method System.name of System (type: Pro...   \n",
       "7      <bound method System.name of System (type: Pro...   \n",
       "8      <bound method System.name of System (type: Pro...   \n",
       "9      <bound method System.name of System (type: Pro...   \n",
       "10     <bound method System.name of System (type: Pro...   \n",
       "11     <bound method System.name of System (type: Pro...   \n",
       "\n",
       "      execution_system_type  ...             creation_date   \n",
       "op_id                        ...                             \n",
       "0            ProductionArea  ... 2024-03-26 16:09:31+01:00  \\\n",
       "1            ProductionArea  ... 2024-03-26 18:09:31+01:00   \n",
       "2            ProductionArea  ... 2024-03-26 20:09:31+01:00   \n",
       "3            ProductionArea  ... 2024-03-26 22:09:31+01:00   \n",
       "4            ProductionArea  ... 2024-03-27 00:09:31+01:00   \n",
       "5            ProductionArea  ... 2024-03-27 02:09:31+01:00   \n",
       "6            ProductionArea  ... 2024-03-27 04:09:31+01:00   \n",
       "7            ProductionArea  ... 2024-03-27 06:09:31+01:00   \n",
       "8            ProductionArea  ... 2024-03-27 08:09:31+01:00   \n",
       "9            ProductionArea  ... 2024-03-27 10:09:31+01:00   \n",
       "10           ProductionArea  ... 2024-03-27 12:09:31+01:00   \n",
       "11           ProductionArea  ... 2024-03-27 14:09:31+01:00   \n",
       "\n",
       "                   release_date planned_starting_date   \n",
       "op_id                                                   \n",
       "0     2024-03-26 16:09:31+01:00                  None  \\\n",
       "1     2024-03-26 18:09:31+01:00                  None   \n",
       "2     2024-03-26 20:09:31+01:00                  None   \n",
       "3     2024-03-26 22:09:31+01:00                  None   \n",
       "4     2024-03-27 00:09:31+01:00                  None   \n",
       "5     2024-03-27 02:09:31+01:00                  None   \n",
       "6     2024-03-27 04:09:31+01:00                  None   \n",
       "7     2024-03-27 06:09:31+01:00                  None   \n",
       "8     2024-03-27 08:09:31+01:00                  None   \n",
       "9     2024-03-27 10:09:31+01:00                  None   \n",
       "10    2024-03-27 12:09:31+01:00                  None   \n",
       "11    2024-03-27 14:09:31+01:00                  None   \n",
       "\n",
       "           actual_starting_date starting_date_deviation planned_ending_date   \n",
       "op_id                                                                         \n",
       "0     2024-03-26 16:09:31+01:00                    None                None  \\\n",
       "1     2024-03-26 18:09:31+01:00                    None                None   \n",
       "2     2024-03-27 03:09:31+01:00                    None                None   \n",
       "3     2024-03-27 04:09:31+01:00                    None                None   \n",
       "4     2024-03-27 16:09:31+01:00                    None                None   \n",
       "5     2024-03-28 08:09:31+01:00                    None                None   \n",
       "6     2024-03-27 04:09:31+01:00                    None                None   \n",
       "7     2024-03-27 17:09:31+01:00                    None                None   \n",
       "8     2024-03-27 15:09:31+01:00                    None                None   \n",
       "9     2024-03-28 00:09:31+01:00                    None                None   \n",
       "10    2024-03-28 12:09:31+01:00                    None                None   \n",
       "11    2024-03-28 19:09:31+01:00                    None                None   \n",
       "\n",
       "             actual_ending_date ending_date_deviation        lead_time   state  \n",
       "op_id                                                                           \n",
       "0     2024-03-27 03:09:31+01:00                  None         11:00:00  FINISH  \n",
       "1     2024-03-27 04:09:31+01:00                  None         10:00:00  FINISH  \n",
       "2     2024-03-27 17:09:31+01:00                  None         21:00:00  FINISH  \n",
       "3     2024-03-27 16:09:31+01:00                  None         18:00:00  FINISH  \n",
       "4     2024-03-28 08:09:31+01:00                  None   1 day, 8:00:00  FINISH  \n",
       "5     2024-03-28 21:09:31+01:00                  None  1 day, 19:00:00  FINISH  \n",
       "6     2024-03-27 15:09:31+01:00                  None         11:00:00  FINISH  \n",
       "7     2024-03-28 06:09:31+01:00                  None   1 day, 0:00:00  FINISH  \n",
       "8     2024-03-28 00:09:31+01:00                  None         16:00:00  FINISH  \n",
       "9     2024-03-28 12:09:31+01:00                  None   1 day, 2:00:00  FINISH  \n",
       "10    2024-03-28 19:09:31+01:00                  None   1 day, 7:00:00  FINISH  \n",
       "11    2024-03-29 04:09:31+01:00                  None  1 day, 14:00:00  FINISH  \n",
       "\n",
       "[12 rows x 25 columns]"
      ]
     },
     "execution_count": 292,
     "metadata": {},
     "output_type": "execute_result"
    }
   ],
   "source": [
    "dispatcher._op_db_date_adjusted"
   ]
  },
  {
   "cell_type": "code",
   "execution_count": 293,
   "metadata": {},
   "outputs": [],
   "source": [
    "job = dispatcher.get_job_obj_by_prop(val=2)"
   ]
  },
  {
   "cell_type": "code",
   "execution_count": 294,
   "metadata": {},
   "outputs": [
    {
     "data": {
      "text/html": [
       "<div>\n",
       "<style scoped>\n",
       "    .dataframe tbody tr th:only-of-type {\n",
       "        vertical-align: middle;\n",
       "    }\n",
       "\n",
       "    .dataframe tbody tr th {\n",
       "        vertical-align: top;\n",
       "    }\n",
       "\n",
       "    .dataframe thead th {\n",
       "        text-align: right;\n",
       "    }\n",
       "</style>\n",
       "<table border=\"1\" class=\"dataframe\">\n",
       "  <thead>\n",
       "    <tr style=\"text-align: right;\">\n",
       "      <th></th>\n",
       "      <th>abs [Timedelta]</th>\n",
       "      <th>abs [seconds]</th>\n",
       "      <th>rel [%]</th>\n",
       "    </tr>\n",
       "  </thead>\n",
       "  <tbody>\n",
       "    <tr>\n",
       "      <th>BLOCKED</th>\n",
       "      <td>0 days 00:00:00</td>\n",
       "      <td>0.0</td>\n",
       "      <td>0.000000</td>\n",
       "    </tr>\n",
       "    <tr>\n",
       "      <th>FAILED</th>\n",
       "      <td>0 days 00:00:00</td>\n",
       "      <td>0.0</td>\n",
       "      <td>0.000000</td>\n",
       "    </tr>\n",
       "    <tr>\n",
       "      <th>PAUSED</th>\n",
       "      <td>0 days 00:00:00</td>\n",
       "      <td>0.0</td>\n",
       "      <td>0.000000</td>\n",
       "    </tr>\n",
       "    <tr>\n",
       "      <th>PROCESSING</th>\n",
       "      <td>0 days 06:00:00</td>\n",
       "      <td>21600.0</td>\n",
       "      <td>28.571429</td>\n",
       "    </tr>\n",
       "    <tr>\n",
       "      <th>SETUP</th>\n",
       "      <td>0 days 08:00:00</td>\n",
       "      <td>28800.0</td>\n",
       "      <td>38.095238</td>\n",
       "    </tr>\n",
       "    <tr>\n",
       "      <th>WAITING</th>\n",
       "      <td>0 days 07:00:00</td>\n",
       "      <td>25200.0</td>\n",
       "      <td>33.333333</td>\n",
       "    </tr>\n",
       "  </tbody>\n",
       "</table>\n",
       "</div>"
      ],
      "text/plain": [
       "           abs [Timedelta]  abs [seconds]    rel [%]\n",
       "BLOCKED    0 days 00:00:00            0.0   0.000000\n",
       "FAILED     0 days 00:00:00            0.0   0.000000\n",
       "PAUSED     0 days 00:00:00            0.0   0.000000\n",
       "PROCESSING 0 days 06:00:00        21600.0  28.571429\n",
       "SETUP      0 days 08:00:00        28800.0  38.095238\n",
       "WAITING    0 days 07:00:00        25200.0  33.333333"
      ]
     },
     "execution_count": 294,
     "metadata": {},
     "output_type": "execute_result"
    }
   ],
   "source": [
    "job.stat_monitor.state_durations"
   ]
  },
  {
   "cell_type": "code",
   "execution_count": 295,
   "metadata": {},
   "outputs": [
    {
     "data": {
      "text/html": [
       "<div>\n",
       "<style scoped>\n",
       "    .dataframe tbody tr th:only-of-type {\n",
       "        vertical-align: middle;\n",
       "    }\n",
       "\n",
       "    .dataframe tbody tr th {\n",
       "        vertical-align: top;\n",
       "    }\n",
       "\n",
       "    .dataframe thead th {\n",
       "        text-align: right;\n",
       "    }\n",
       "</style>\n",
       "<table border=\"1\" class=\"dataframe\">\n",
       "  <thead>\n",
       "    <tr style=\"text-align: right;\">\n",
       "      <th></th>\n",
       "      <th>abs [Timedelta]</th>\n",
       "      <th>abs [seconds]</th>\n",
       "      <th>rel [%]</th>\n",
       "    </tr>\n",
       "  </thead>\n",
       "  <tbody>\n",
       "    <tr>\n",
       "      <th>BLOCKED</th>\n",
       "      <td>0 days 00:00:00</td>\n",
       "      <td>0.0</td>\n",
       "      <td>0.000000</td>\n",
       "    </tr>\n",
       "    <tr>\n",
       "      <th>FAILED</th>\n",
       "      <td>0 days 00:00:00</td>\n",
       "      <td>0.0</td>\n",
       "      <td>0.000000</td>\n",
       "    </tr>\n",
       "    <tr>\n",
       "      <th>PAUSED</th>\n",
       "      <td>0 days 00:00:00</td>\n",
       "      <td>0.0</td>\n",
       "      <td>0.000000</td>\n",
       "    </tr>\n",
       "    <tr>\n",
       "      <th>PROCESSING</th>\n",
       "      <td>0 days 06:00:00</td>\n",
       "      <td>21600.0</td>\n",
       "      <td>28.571429</td>\n",
       "    </tr>\n",
       "    <tr>\n",
       "      <th>SETUP</th>\n",
       "      <td>0 days 08:00:00</td>\n",
       "      <td>28800.0</td>\n",
       "      <td>38.095238</td>\n",
       "    </tr>\n",
       "    <tr>\n",
       "      <th>WAITING</th>\n",
       "      <td>0 days 07:00:00</td>\n",
       "      <td>25200.0</td>\n",
       "      <td>33.333333</td>\n",
       "    </tr>\n",
       "  </tbody>\n",
       "</table>\n",
       "</div>"
      ],
      "text/plain": [
       "           abs [Timedelta]  abs [seconds]    rel [%]\n",
       "BLOCKED    0 days 00:00:00            0.0   0.000000\n",
       "FAILED     0 days 00:00:00            0.0   0.000000\n",
       "PAUSED     0 days 00:00:00            0.0   0.000000\n",
       "PROCESSING 0 days 06:00:00        21600.0  28.571429\n",
       "SETUP      0 days 08:00:00        28800.0  38.095238\n",
       "WAITING    0 days 07:00:00        25200.0  33.333333"
      ]
     },
     "execution_count": 295,
     "metadata": {},
     "output_type": "execute_result"
    }
   ],
   "source": [
    "job.operations[0].stat_monitor.state_durations"
   ]
  },
  {
   "cell_type": "code",
   "execution_count": null,
   "metadata": {},
   "outputs": [],
   "source": []
  },
  {
   "cell_type": "code",
   "execution_count": null,
   "metadata": {},
   "outputs": [],
   "source": []
  },
  {
   "cell_type": "code",
   "execution_count": 296,
   "metadata": {},
   "outputs": [
    {
     "data": {
      "application/vnd.plotly.v1+json": {
       "config": {
        "plotlyServerURL": "https://plot.ly"
       },
       "data": [
        {
         "alignmentgroup": "True",
         "base": [
          "2024-03-26T16:09:31+01:00"
         ],
         "customdata": [
          [
           "J_gen_0",
           1,
           null,
           null,
           null,
           "P0DT7H0M0S",
           "P0DT4H0M0S",
           "P0DT11H0M0S"
          ]
         ],
         "hovertemplate": "<b>%{hovertext}</b><br><br>actual_starting_date=%{base}<br>actual_ending_date=%{x}<br>target_station_custom_id=%{y}<br>execution_system_custom_id=%{customdata[1]}<br>prio=%{customdata[2]}<br>planned_starting_date=%{customdata[3]}<br>planned_ending_date=%{customdata[4]}<br>proc_time=%{customdata[5]}<br>setup_time=%{customdata[6]}<br>order_time=%{customdata[7]}<extra></extra>",
         "hovertext": [
          "J_gen_0"
         ],
         "legendgroup": "J_gen_0",
         "marker": {
          "color": "#636efa",
          "pattern": {
           "shape": ""
          }
         },
         "name": "J_gen_0",
         "offsetgroup": "J_gen_0",
         "orientation": "h",
         "showlegend": true,
         "textposition": "auto",
         "type": "bar",
         "x": [
          39600000
         ],
         "xaxis": "x",
         "y": [
          1
         ],
         "yaxis": "y"
        },
        {
         "alignmentgroup": "True",
         "base": [
          "2024-03-26T18:09:31+01:00"
         ],
         "customdata": [
          [
           "J_gen_1",
           1,
           null,
           null,
           null,
           "P0DT8H0M0S",
           "P0DT2H0M0S",
           "P0DT10H0M0S"
          ]
         ],
         "hovertemplate": "<b>%{hovertext}</b><br><br>actual_starting_date=%{base}<br>actual_ending_date=%{x}<br>target_station_custom_id=%{y}<br>execution_system_custom_id=%{customdata[1]}<br>prio=%{customdata[2]}<br>planned_starting_date=%{customdata[3]}<br>planned_ending_date=%{customdata[4]}<br>proc_time=%{customdata[5]}<br>setup_time=%{customdata[6]}<br>order_time=%{customdata[7]}<extra></extra>",
         "hovertext": [
          "J_gen_1"
         ],
         "legendgroup": "J_gen_1",
         "marker": {
          "color": "#EF553B",
          "pattern": {
           "shape": ""
          }
         },
         "name": "J_gen_1",
         "offsetgroup": "J_gen_1",
         "orientation": "h",
         "showlegend": true,
         "textposition": "auto",
         "type": "bar",
         "x": [
          36000000
         ],
         "xaxis": "x",
         "y": [
          0
         ],
         "yaxis": "y"
        },
        {
         "alignmentgroup": "True",
         "base": [
          "2024-03-28T12:09:31+01:00"
         ],
         "customdata": [
          [
           "J_gen_10",
           1,
           null,
           null,
           null,
           "P0DT6H0M0S",
           "P0DT1H0M0S",
           "P0DT7H0M0S"
          ]
         ],
         "hovertemplate": "<b>%{hovertext}</b><br><br>actual_starting_date=%{base}<br>actual_ending_date=%{x}<br>target_station_custom_id=%{y}<br>execution_system_custom_id=%{customdata[1]}<br>prio=%{customdata[2]}<br>planned_starting_date=%{customdata[3]}<br>planned_ending_date=%{customdata[4]}<br>proc_time=%{customdata[5]}<br>setup_time=%{customdata[6]}<br>order_time=%{customdata[7]}<extra></extra>",
         "hovertext": [
          "J_gen_10"
         ],
         "legendgroup": "J_gen_10",
         "marker": {
          "color": "#00cc96",
          "pattern": {
           "shape": ""
          }
         },
         "name": "J_gen_10",
         "offsetgroup": "J_gen_10",
         "orientation": "h",
         "showlegend": true,
         "textposition": "auto",
         "type": "bar",
         "x": [
          25200000
         ],
         "xaxis": "x",
         "y": [
          2
         ],
         "yaxis": "y"
        },
        {
         "alignmentgroup": "True",
         "base": [
          "2024-03-28T19:09:31+01:00"
         ],
         "customdata": [
          [
           "J_gen_11",
           1,
           null,
           null,
           null,
           "P0DT6H0M0S",
           "P0DT3H0M0S",
           "P0DT9H0M0S"
          ]
         ],
         "hovertemplate": "<b>%{hovertext}</b><br><br>actual_starting_date=%{base}<br>actual_ending_date=%{x}<br>target_station_custom_id=%{y}<br>execution_system_custom_id=%{customdata[1]}<br>prio=%{customdata[2]}<br>planned_starting_date=%{customdata[3]}<br>planned_ending_date=%{customdata[4]}<br>proc_time=%{customdata[5]}<br>setup_time=%{customdata[6]}<br>order_time=%{customdata[7]}<extra></extra>",
         "hovertext": [
          "J_gen_11"
         ],
         "legendgroup": "J_gen_11",
         "marker": {
          "color": "#ab63fa",
          "pattern": {
           "shape": ""
          }
         },
         "name": "J_gen_11",
         "offsetgroup": "J_gen_11",
         "orientation": "h",
         "showlegend": true,
         "textposition": "auto",
         "type": "bar",
         "x": [
          32400000
         ],
         "xaxis": "x",
         "y": [
          2
         ],
         "yaxis": "y"
        },
        {
         "alignmentgroup": "True",
         "base": [
          "2024-03-27T03:09:31+01:00"
         ],
         "customdata": [
          [
           "J_gen_2",
           1,
           null,
           null,
           null,
           "P0DT6H0M0S",
           "P0DT8H0M0S",
           "P0DT14H0M0S"
          ]
         ],
         "hovertemplate": "<b>%{hovertext}</b><br><br>actual_starting_date=%{base}<br>actual_ending_date=%{x}<br>target_station_custom_id=%{y}<br>execution_system_custom_id=%{customdata[1]}<br>prio=%{customdata[2]}<br>planned_starting_date=%{customdata[3]}<br>planned_ending_date=%{customdata[4]}<br>proc_time=%{customdata[5]}<br>setup_time=%{customdata[6]}<br>order_time=%{customdata[7]}<extra></extra>",
         "hovertext": [
          "J_gen_2"
         ],
         "legendgroup": "J_gen_2",
         "marker": {
          "color": "#FFA15A",
          "pattern": {
           "shape": ""
          }
         },
         "name": "J_gen_2",
         "offsetgroup": "J_gen_2",
         "orientation": "h",
         "showlegend": true,
         "textposition": "auto",
         "type": "bar",
         "x": [
          50400000
         ],
         "xaxis": "x",
         "y": [
          1
         ],
         "yaxis": "y"
        },
        {
         "alignmentgroup": "True",
         "base": [
          "2024-03-27T04:09:31+01:00"
         ],
         "customdata": [
          [
           "J_gen_3",
           1,
           null,
           null,
           null,
           "P0DT7H0M0S",
           "P0DT5H0M0S",
           "P0DT12H0M0S"
          ]
         ],
         "hovertemplate": "<b>%{hovertext}</b><br><br>actual_starting_date=%{base}<br>actual_ending_date=%{x}<br>target_station_custom_id=%{y}<br>execution_system_custom_id=%{customdata[1]}<br>prio=%{customdata[2]}<br>planned_starting_date=%{customdata[3]}<br>planned_ending_date=%{customdata[4]}<br>proc_time=%{customdata[5]}<br>setup_time=%{customdata[6]}<br>order_time=%{customdata[7]}<extra></extra>",
         "hovertext": [
          "J_gen_3"
         ],
         "legendgroup": "J_gen_3",
         "marker": {
          "color": "#19d3f3",
          "pattern": {
           "shape": ""
          }
         },
         "name": "J_gen_3",
         "offsetgroup": "J_gen_3",
         "orientation": "h",
         "showlegend": true,
         "textposition": "auto",
         "type": "bar",
         "x": [
          43200000
         ],
         "xaxis": "x",
         "y": [
          0
         ],
         "yaxis": "y"
        },
        {
         "alignmentgroup": "True",
         "base": [
          "2024-03-27T16:09:31+01:00"
         ],
         "customdata": [
          [
           "J_gen_4",
           1,
           null,
           null,
           null,
           "P0DT9H0M0S",
           "P0DT7H0M0S",
           "P0DT16H0M0S"
          ]
         ],
         "hovertemplate": "<b>%{hovertext}</b><br><br>actual_starting_date=%{base}<br>actual_ending_date=%{x}<br>target_station_custom_id=%{y}<br>execution_system_custom_id=%{customdata[1]}<br>prio=%{customdata[2]}<br>planned_starting_date=%{customdata[3]}<br>planned_ending_date=%{customdata[4]}<br>proc_time=%{customdata[5]}<br>setup_time=%{customdata[6]}<br>order_time=%{customdata[7]}<extra></extra>",
         "hovertext": [
          "J_gen_4"
         ],
         "legendgroup": "J_gen_4",
         "marker": {
          "color": "#FF6692",
          "pattern": {
           "shape": ""
          }
         },
         "name": "J_gen_4",
         "offsetgroup": "J_gen_4",
         "orientation": "h",
         "showlegend": true,
         "textposition": "auto",
         "type": "bar",
         "x": [
          57600000
         ],
         "xaxis": "x",
         "y": [
          0
         ],
         "yaxis": "y"
        },
        {
         "alignmentgroup": "True",
         "base": [
          "2024-03-28T08:09:31+01:00"
         ],
         "customdata": [
          [
           "J_gen_5",
           1,
           null,
           null,
           null,
           "P0DT5H0M0S",
           "P0DT8H0M0S",
           "P0DT13H0M0S"
          ]
         ],
         "hovertemplate": "<b>%{hovertext}</b><br><br>actual_starting_date=%{base}<br>actual_ending_date=%{x}<br>target_station_custom_id=%{y}<br>execution_system_custom_id=%{customdata[1]}<br>prio=%{customdata[2]}<br>planned_starting_date=%{customdata[3]}<br>planned_ending_date=%{customdata[4]}<br>proc_time=%{customdata[5]}<br>setup_time=%{customdata[6]}<br>order_time=%{customdata[7]}<extra></extra>",
         "hovertext": [
          "J_gen_5"
         ],
         "legendgroup": "J_gen_5",
         "marker": {
          "color": "#B6E880",
          "pattern": {
           "shape": ""
          }
         },
         "name": "J_gen_5",
         "offsetgroup": "J_gen_5",
         "orientation": "h",
         "showlegend": true,
         "textposition": "auto",
         "type": "bar",
         "x": [
          46800000
         ],
         "xaxis": "x",
         "y": [
          0
         ],
         "yaxis": "y"
        },
        {
         "alignmentgroup": "True",
         "base": [
          "2024-03-27T04:09:31+01:00"
         ],
         "customdata": [
          [
           "J_gen_6",
           1,
           null,
           null,
           null,
           "P0DT8H0M0S",
           "P0DT3H0M0S",
           "P0DT11H0M0S"
          ]
         ],
         "hovertemplate": "<b>%{hovertext}</b><br><br>actual_starting_date=%{base}<br>actual_ending_date=%{x}<br>target_station_custom_id=%{y}<br>execution_system_custom_id=%{customdata[1]}<br>prio=%{customdata[2]}<br>planned_starting_date=%{customdata[3]}<br>planned_ending_date=%{customdata[4]}<br>proc_time=%{customdata[5]}<br>setup_time=%{customdata[6]}<br>order_time=%{customdata[7]}<extra></extra>",
         "hovertext": [
          "J_gen_6"
         ],
         "legendgroup": "J_gen_6",
         "marker": {
          "color": "#FF97FF",
          "pattern": {
           "shape": ""
          }
         },
         "name": "J_gen_6",
         "offsetgroup": "J_gen_6",
         "orientation": "h",
         "showlegend": true,
         "textposition": "auto",
         "type": "bar",
         "x": [
          39600000
         ],
         "xaxis": "x",
         "y": [
          2
         ],
         "yaxis": "y"
        },
        {
         "alignmentgroup": "True",
         "base": [
          "2024-03-27T17:09:31+01:00"
         ],
         "customdata": [
          [
           "J_gen_7",
           1,
           null,
           null,
           null,
           "P0DT6H0M0S",
           "P0DT7H0M0S",
           "P0DT13H0M0S"
          ]
         ],
         "hovertemplate": "<b>%{hovertext}</b><br><br>actual_starting_date=%{base}<br>actual_ending_date=%{x}<br>target_station_custom_id=%{y}<br>execution_system_custom_id=%{customdata[1]}<br>prio=%{customdata[2]}<br>planned_starting_date=%{customdata[3]}<br>planned_ending_date=%{customdata[4]}<br>proc_time=%{customdata[5]}<br>setup_time=%{customdata[6]}<br>order_time=%{customdata[7]}<extra></extra>",
         "hovertext": [
          "J_gen_7"
         ],
         "legendgroup": "J_gen_7",
         "marker": {
          "color": "#FECB52",
          "pattern": {
           "shape": ""
          }
         },
         "name": "J_gen_7",
         "offsetgroup": "J_gen_7",
         "orientation": "h",
         "showlegend": true,
         "textposition": "auto",
         "type": "bar",
         "x": [
          46800000
         ],
         "xaxis": "x",
         "y": [
          1
         ],
         "yaxis": "y"
        },
        {
         "alignmentgroup": "True",
         "base": [
          "2024-03-27T15:09:31+01:00"
         ],
         "customdata": [
          [
           "J_gen_8",
           1,
           null,
           null,
           null,
           "P0DT8H0M0S",
           "P0DT1H0M0S",
           "P0DT9H0M0S"
          ]
         ],
         "hovertemplate": "<b>%{hovertext}</b><br><br>actual_starting_date=%{base}<br>actual_ending_date=%{x}<br>target_station_custom_id=%{y}<br>execution_system_custom_id=%{customdata[1]}<br>prio=%{customdata[2]}<br>planned_starting_date=%{customdata[3]}<br>planned_ending_date=%{customdata[4]}<br>proc_time=%{customdata[5]}<br>setup_time=%{customdata[6]}<br>order_time=%{customdata[7]}<extra></extra>",
         "hovertext": [
          "J_gen_8"
         ],
         "legendgroup": "J_gen_8",
         "marker": {
          "color": "#636efa",
          "pattern": {
           "shape": ""
          }
         },
         "name": "J_gen_8",
         "offsetgroup": "J_gen_8",
         "orientation": "h",
         "showlegend": true,
         "textposition": "auto",
         "type": "bar",
         "x": [
          32400000
         ],
         "xaxis": "x",
         "y": [
          2
         ],
         "yaxis": "y"
        },
        {
         "alignmentgroup": "True",
         "base": [
          "2024-03-28T00:09:31+01:00"
         ],
         "customdata": [
          [
           "J_gen_9",
           1,
           null,
           null,
           null,
           "P0DT9H0M0S",
           "P0DT3H0M0S",
           "P0DT12H0M0S"
          ]
         ],
         "hovertemplate": "<b>%{hovertext}</b><br><br>actual_starting_date=%{base}<br>actual_ending_date=%{x}<br>target_station_custom_id=%{y}<br>execution_system_custom_id=%{customdata[1]}<br>prio=%{customdata[2]}<br>planned_starting_date=%{customdata[3]}<br>planned_ending_date=%{customdata[4]}<br>proc_time=%{customdata[5]}<br>setup_time=%{customdata[6]}<br>order_time=%{customdata[7]}<extra></extra>",
         "hovertext": [
          "J_gen_9"
         ],
         "legendgroup": "J_gen_9",
         "marker": {
          "color": "#EF553B",
          "pattern": {
           "shape": ""
          }
         },
         "name": "J_gen_9",
         "offsetgroup": "J_gen_9",
         "orientation": "h",
         "showlegend": true,
         "textposition": "auto",
         "type": "bar",
         "x": [
          43200000
         ],
         "xaxis": "x",
         "y": [
          2
         ],
         "yaxis": "y"
        }
       ],
       "layout": {
        "autosize": true,
        "barmode": "overlay",
        "legend": {
         "title": {
          "text": "job_name"
         },
         "tracegroupgap": 0
        },
        "margin": {
         "t": 60
        },
        "template": {
         "data": {
          "bar": [
           {
            "error_x": {
             "color": "#2a3f5f"
            },
            "error_y": {
             "color": "#2a3f5f"
            },
            "marker": {
             "line": {
              "color": "#E5ECF6",
              "width": 0.5
             },
             "pattern": {
              "fillmode": "overlay",
              "size": 10,
              "solidity": 0.2
             }
            },
            "type": "bar"
           }
          ],
          "barpolar": [
           {
            "marker": {
             "line": {
              "color": "#E5ECF6",
              "width": 0.5
             },
             "pattern": {
              "fillmode": "overlay",
              "size": 10,
              "solidity": 0.2
             }
            },
            "type": "barpolar"
           }
          ],
          "carpet": [
           {
            "aaxis": {
             "endlinecolor": "#2a3f5f",
             "gridcolor": "white",
             "linecolor": "white",
             "minorgridcolor": "white",
             "startlinecolor": "#2a3f5f"
            },
            "baxis": {
             "endlinecolor": "#2a3f5f",
             "gridcolor": "white",
             "linecolor": "white",
             "minorgridcolor": "white",
             "startlinecolor": "#2a3f5f"
            },
            "type": "carpet"
           }
          ],
          "choropleth": [
           {
            "colorbar": {
             "outlinewidth": 0,
             "ticks": ""
            },
            "type": "choropleth"
           }
          ],
          "contour": [
           {
            "colorbar": {
             "outlinewidth": 0,
             "ticks": ""
            },
            "colorscale": [
             [
              0,
              "#0d0887"
             ],
             [
              0.1111111111111111,
              "#46039f"
             ],
             [
              0.2222222222222222,
              "#7201a8"
             ],
             [
              0.3333333333333333,
              "#9c179e"
             ],
             [
              0.4444444444444444,
              "#bd3786"
             ],
             [
              0.5555555555555556,
              "#d8576b"
             ],
             [
              0.6666666666666666,
              "#ed7953"
             ],
             [
              0.7777777777777778,
              "#fb9f3a"
             ],
             [
              0.8888888888888888,
              "#fdca26"
             ],
             [
              1,
              "#f0f921"
             ]
            ],
            "type": "contour"
           }
          ],
          "contourcarpet": [
           {
            "colorbar": {
             "outlinewidth": 0,
             "ticks": ""
            },
            "type": "contourcarpet"
           }
          ],
          "heatmap": [
           {
            "colorbar": {
             "outlinewidth": 0,
             "ticks": ""
            },
            "colorscale": [
             [
              0,
              "#0d0887"
             ],
             [
              0.1111111111111111,
              "#46039f"
             ],
             [
              0.2222222222222222,
              "#7201a8"
             ],
             [
              0.3333333333333333,
              "#9c179e"
             ],
             [
              0.4444444444444444,
              "#bd3786"
             ],
             [
              0.5555555555555556,
              "#d8576b"
             ],
             [
              0.6666666666666666,
              "#ed7953"
             ],
             [
              0.7777777777777778,
              "#fb9f3a"
             ],
             [
              0.8888888888888888,
              "#fdca26"
             ],
             [
              1,
              "#f0f921"
             ]
            ],
            "type": "heatmap"
           }
          ],
          "heatmapgl": [
           {
            "colorbar": {
             "outlinewidth": 0,
             "ticks": ""
            },
            "colorscale": [
             [
              0,
              "#0d0887"
             ],
             [
              0.1111111111111111,
              "#46039f"
             ],
             [
              0.2222222222222222,
              "#7201a8"
             ],
             [
              0.3333333333333333,
              "#9c179e"
             ],
             [
              0.4444444444444444,
              "#bd3786"
             ],
             [
              0.5555555555555556,
              "#d8576b"
             ],
             [
              0.6666666666666666,
              "#ed7953"
             ],
             [
              0.7777777777777778,
              "#fb9f3a"
             ],
             [
              0.8888888888888888,
              "#fdca26"
             ],
             [
              1,
              "#f0f921"
             ]
            ],
            "type": "heatmapgl"
           }
          ],
          "histogram": [
           {
            "marker": {
             "pattern": {
              "fillmode": "overlay",
              "size": 10,
              "solidity": 0.2
             }
            },
            "type": "histogram"
           }
          ],
          "histogram2d": [
           {
            "colorbar": {
             "outlinewidth": 0,
             "ticks": ""
            },
            "colorscale": [
             [
              0,
              "#0d0887"
             ],
             [
              0.1111111111111111,
              "#46039f"
             ],
             [
              0.2222222222222222,
              "#7201a8"
             ],
             [
              0.3333333333333333,
              "#9c179e"
             ],
             [
              0.4444444444444444,
              "#bd3786"
             ],
             [
              0.5555555555555556,
              "#d8576b"
             ],
             [
              0.6666666666666666,
              "#ed7953"
             ],
             [
              0.7777777777777778,
              "#fb9f3a"
             ],
             [
              0.8888888888888888,
              "#fdca26"
             ],
             [
              1,
              "#f0f921"
             ]
            ],
            "type": "histogram2d"
           }
          ],
          "histogram2dcontour": [
           {
            "colorbar": {
             "outlinewidth": 0,
             "ticks": ""
            },
            "colorscale": [
             [
              0,
              "#0d0887"
             ],
             [
              0.1111111111111111,
              "#46039f"
             ],
             [
              0.2222222222222222,
              "#7201a8"
             ],
             [
              0.3333333333333333,
              "#9c179e"
             ],
             [
              0.4444444444444444,
              "#bd3786"
             ],
             [
              0.5555555555555556,
              "#d8576b"
             ],
             [
              0.6666666666666666,
              "#ed7953"
             ],
             [
              0.7777777777777778,
              "#fb9f3a"
             ],
             [
              0.8888888888888888,
              "#fdca26"
             ],
             [
              1,
              "#f0f921"
             ]
            ],
            "type": "histogram2dcontour"
           }
          ],
          "mesh3d": [
           {
            "colorbar": {
             "outlinewidth": 0,
             "ticks": ""
            },
            "type": "mesh3d"
           }
          ],
          "parcoords": [
           {
            "line": {
             "colorbar": {
              "outlinewidth": 0,
              "ticks": ""
             }
            },
            "type": "parcoords"
           }
          ],
          "pie": [
           {
            "automargin": true,
            "type": "pie"
           }
          ],
          "scatter": [
           {
            "fillpattern": {
             "fillmode": "overlay",
             "size": 10,
             "solidity": 0.2
            },
            "type": "scatter"
           }
          ],
          "scatter3d": [
           {
            "line": {
             "colorbar": {
              "outlinewidth": 0,
              "ticks": ""
             }
            },
            "marker": {
             "colorbar": {
              "outlinewidth": 0,
              "ticks": ""
             }
            },
            "type": "scatter3d"
           }
          ],
          "scattercarpet": [
           {
            "marker": {
             "colorbar": {
              "outlinewidth": 0,
              "ticks": ""
             }
            },
            "type": "scattercarpet"
           }
          ],
          "scattergeo": [
           {
            "marker": {
             "colorbar": {
              "outlinewidth": 0,
              "ticks": ""
             }
            },
            "type": "scattergeo"
           }
          ],
          "scattergl": [
           {
            "marker": {
             "colorbar": {
              "outlinewidth": 0,
              "ticks": ""
             }
            },
            "type": "scattergl"
           }
          ],
          "scattermapbox": [
           {
            "marker": {
             "colorbar": {
              "outlinewidth": 0,
              "ticks": ""
             }
            },
            "type": "scattermapbox"
           }
          ],
          "scatterpolar": [
           {
            "marker": {
             "colorbar": {
              "outlinewidth": 0,
              "ticks": ""
             }
            },
            "type": "scatterpolar"
           }
          ],
          "scatterpolargl": [
           {
            "marker": {
             "colorbar": {
              "outlinewidth": 0,
              "ticks": ""
             }
            },
            "type": "scatterpolargl"
           }
          ],
          "scatterternary": [
           {
            "marker": {
             "colorbar": {
              "outlinewidth": 0,
              "ticks": ""
             }
            },
            "type": "scatterternary"
           }
          ],
          "surface": [
           {
            "colorbar": {
             "outlinewidth": 0,
             "ticks": ""
            },
            "colorscale": [
             [
              0,
              "#0d0887"
             ],
             [
              0.1111111111111111,
              "#46039f"
             ],
             [
              0.2222222222222222,
              "#7201a8"
             ],
             [
              0.3333333333333333,
              "#9c179e"
             ],
             [
              0.4444444444444444,
              "#bd3786"
             ],
             [
              0.5555555555555556,
              "#d8576b"
             ],
             [
              0.6666666666666666,
              "#ed7953"
             ],
             [
              0.7777777777777778,
              "#fb9f3a"
             ],
             [
              0.8888888888888888,
              "#fdca26"
             ],
             [
              1,
              "#f0f921"
             ]
            ],
            "type": "surface"
           }
          ],
          "table": [
           {
            "cells": {
             "fill": {
              "color": "#EBF0F8"
             },
             "line": {
              "color": "white"
             }
            },
            "header": {
             "fill": {
              "color": "#C8D4E3"
             },
             "line": {
              "color": "white"
             }
            },
            "type": "table"
           }
          ]
         },
         "layout": {
          "annotationdefaults": {
           "arrowcolor": "#2a3f5f",
           "arrowhead": 0,
           "arrowwidth": 1
          },
          "autotypenumbers": "strict",
          "coloraxis": {
           "colorbar": {
            "outlinewidth": 0,
            "ticks": ""
           }
          },
          "colorscale": {
           "diverging": [
            [
             0,
             "#8e0152"
            ],
            [
             0.1,
             "#c51b7d"
            ],
            [
             0.2,
             "#de77ae"
            ],
            [
             0.3,
             "#f1b6da"
            ],
            [
             0.4,
             "#fde0ef"
            ],
            [
             0.5,
             "#f7f7f7"
            ],
            [
             0.6,
             "#e6f5d0"
            ],
            [
             0.7,
             "#b8e186"
            ],
            [
             0.8,
             "#7fbc41"
            ],
            [
             0.9,
             "#4d9221"
            ],
            [
             1,
             "#276419"
            ]
           ],
           "sequential": [
            [
             0,
             "#0d0887"
            ],
            [
             0.1111111111111111,
             "#46039f"
            ],
            [
             0.2222222222222222,
             "#7201a8"
            ],
            [
             0.3333333333333333,
             "#9c179e"
            ],
            [
             0.4444444444444444,
             "#bd3786"
            ],
            [
             0.5555555555555556,
             "#d8576b"
            ],
            [
             0.6666666666666666,
             "#ed7953"
            ],
            [
             0.7777777777777778,
             "#fb9f3a"
            ],
            [
             0.8888888888888888,
             "#fdca26"
            ],
            [
             1,
             "#f0f921"
            ]
           ],
           "sequentialminus": [
            [
             0,
             "#0d0887"
            ],
            [
             0.1111111111111111,
             "#46039f"
            ],
            [
             0.2222222222222222,
             "#7201a8"
            ],
            [
             0.3333333333333333,
             "#9c179e"
            ],
            [
             0.4444444444444444,
             "#bd3786"
            ],
            [
             0.5555555555555556,
             "#d8576b"
            ],
            [
             0.6666666666666666,
             "#ed7953"
            ],
            [
             0.7777777777777778,
             "#fb9f3a"
            ],
            [
             0.8888888888888888,
             "#fdca26"
            ],
            [
             1,
             "#f0f921"
            ]
           ]
          },
          "colorway": [
           "#636efa",
           "#EF553B",
           "#00cc96",
           "#ab63fa",
           "#FFA15A",
           "#19d3f3",
           "#FF6692",
           "#B6E880",
           "#FF97FF",
           "#FECB52"
          ],
          "font": {
           "color": "#2a3f5f"
          },
          "geo": {
           "bgcolor": "white",
           "lakecolor": "white",
           "landcolor": "#E5ECF6",
           "showlakes": true,
           "showland": true,
           "subunitcolor": "white"
          },
          "hoverlabel": {
           "align": "left"
          },
          "hovermode": "closest",
          "mapbox": {
           "style": "light"
          },
          "paper_bgcolor": "white",
          "plot_bgcolor": "#E5ECF6",
          "polar": {
           "angularaxis": {
            "gridcolor": "white",
            "linecolor": "white",
            "ticks": ""
           },
           "bgcolor": "#E5ECF6",
           "radialaxis": {
            "gridcolor": "white",
            "linecolor": "white",
            "ticks": ""
           }
          },
          "scene": {
           "xaxis": {
            "backgroundcolor": "#E5ECF6",
            "gridcolor": "white",
            "gridwidth": 2,
            "linecolor": "white",
            "showbackground": true,
            "ticks": "",
            "zerolinecolor": "white"
           },
           "yaxis": {
            "backgroundcolor": "#E5ECF6",
            "gridcolor": "white",
            "gridwidth": 2,
            "linecolor": "white",
            "showbackground": true,
            "ticks": "",
            "zerolinecolor": "white"
           },
           "zaxis": {
            "backgroundcolor": "#E5ECF6",
            "gridcolor": "white",
            "gridwidth": 2,
            "linecolor": "white",
            "showbackground": true,
            "ticks": "",
            "zerolinecolor": "white"
           }
          },
          "shapedefaults": {
           "line": {
            "color": "#2a3f5f"
           }
          },
          "ternary": {
           "aaxis": {
            "gridcolor": "white",
            "linecolor": "white",
            "ticks": ""
           },
           "baxis": {
            "gridcolor": "white",
            "linecolor": "white",
            "ticks": ""
           },
           "bgcolor": "#E5ECF6",
           "caxis": {
            "gridcolor": "white",
            "linecolor": "white",
            "ticks": ""
           }
          },
          "title": {
           "x": 0.05
          },
          "xaxis": {
           "automargin": true,
           "gridcolor": "white",
           "linecolor": "white",
           "ticks": "",
           "title": {
            "standoff": 15
           },
           "zerolinecolor": "white",
           "zerolinewidth": 2
          },
          "yaxis": {
           "automargin": true,
           "gridcolor": "white",
           "linecolor": "white",
           "ticks": "",
           "title": {
            "standoff": 15
           },
           "zerolinecolor": "white",
           "zerolinewidth": 2
          }
         }
        },
        "xaxis": {
         "anchor": "y",
         "autorange": true,
         "domain": [
          0,
          1
         ],
         "range": [
          "2024-03-26 12:49:31",
          "2024-03-29 07:29:31"
         ],
         "type": "date"
        },
        "yaxis": {
         "anchor": "x",
         "autorange": true,
         "domain": [
          0,
          1
         ],
         "range": [
          2.5,
          -0.5
         ],
         "title": {
          "text": "target_station_custom_id"
         },
         "type": "category"
        }
       }
      },
      "image/png": "[encoded data removed]",
      "text/html": [
       "<div>                            <div id=\"4e0f6e87-9007-4a18-b60f-3a103bc4f242\" class=\"plotly-graph-div\" style=\"height:525px; width:100%;\"></div>            <script type=\"text/javascript\">                require([\"plotly\"], function(Plotly) {                    window.PLOTLYENV=window.PLOTLYENV || {};                                    if (document.getElementById(\"4e0f6e87-9007-4a18-b60f-3a103bc4f242\")) {                    Plotly.newPlot(                        \"4e0f6e87-9007-4a18-b60f-3a103bc4f242\",                        [{\"alignmentgroup\":\"True\",\"base\":[\"2024-03-26T16:09:31+01:00\"],\"customdata\":[[\"J_gen_0\",1,null,null,null,\"P0DT7H0M0S\",\"P0DT4H0M0S\",\"P0DT11H0M0S\"]],\"hovertemplate\":\"\\u003cb\\u003e%{hovertext}\\u003c\\u002fb\\u003e\\u003cbr\\u003e\\u003cbr\\u003eactual_starting_date=%{base}\\u003cbr\\u003eactual_ending_date=%{x}\\u003cbr\\u003etarget_station_custom_id=%{y}\\u003cbr\\u003eexecution_system_custom_id=%{customdata[1]}\\u003cbr\\u003eprio=%{customdata[2]}\\u003cbr\\u003eplanned_starting_date=%{customdata[3]}\\u003cbr\\u003eplanned_ending_date=%{customdata[4]}\\u003cbr\\u003eproc_time=%{customdata[5]}\\u003cbr\\u003esetup_time=%{customdata[6]}\\u003cbr\\u003eorder_time=%{customdata[7]}\\u003cextra\\u003e\\u003c\\u002fextra\\u003e\",\"hovertext\":[\"J_gen_0\"],\"legendgroup\":\"J_gen_0\",\"marker\":{\"color\":\"#636efa\",\"pattern\":{\"shape\":\"\"}},\"name\":\"J_gen_0\",\"offsetgroup\":\"J_gen_0\",\"orientation\":\"h\",\"showlegend\":true,\"textposition\":\"auto\",\"x\":[39600000.0],\"xaxis\":\"x\",\"y\":[1],\"yaxis\":\"y\",\"type\":\"bar\"},{\"alignmentgroup\":\"True\",\"base\":[\"2024-03-26T18:09:31+01:00\"],\"customdata\":[[\"J_gen_1\",1,null,null,null,\"P0DT8H0M0S\",\"P0DT2H0M0S\",\"P0DT10H0M0S\"]],\"hovertemplate\":\"\\u003cb\\u003e%{hovertext}\\u003c\\u002fb\\u003e\\u003cbr\\u003e\\u003cbr\\u003eactual_starting_date=%{base}\\u003cbr\\u003eactual_ending_date=%{x}\\u003cbr\\u003etarget_station_custom_id=%{y}\\u003cbr\\u003eexecution_system_custom_id=%{customdata[1]}\\u003cbr\\u003eprio=%{customdata[2]}\\u003cbr\\u003eplanned_starting_date=%{customdata[3]}\\u003cbr\\u003eplanned_ending_date=%{customdata[4]}\\u003cbr\\u003eproc_time=%{customdata[5]}\\u003cbr\\u003esetup_time=%{customdata[6]}\\u003cbr\\u003eorder_time=%{customdata[7]}\\u003cextra\\u003e\\u003c\\u002fextra\\u003e\",\"hovertext\":[\"J_gen_1\"],\"legendgroup\":\"J_gen_1\",\"marker\":{\"color\":\"#EF553B\",\"pattern\":{\"shape\":\"\"}},\"name\":\"J_gen_1\",\"offsetgroup\":\"J_gen_1\",\"orientation\":\"h\",\"showlegend\":true,\"textposition\":\"auto\",\"x\":[36000000.0],\"xaxis\":\"x\",\"y\":[0],\"yaxis\":\"y\",\"type\":\"bar\"},{\"alignmentgroup\":\"True\",\"base\":[\"2024-03-28T12:09:31+01:00\"],\"customdata\":[[\"J_gen_10\",1,null,null,null,\"P0DT6H0M0S\",\"P0DT1H0M0S\",\"P0DT7H0M0S\"]],\"hovertemplate\":\"\\u003cb\\u003e%{hovertext}\\u003c\\u002fb\\u003e\\u003cbr\\u003e\\u003cbr\\u003eactual_starting_date=%{base}\\u003cbr\\u003eactual_ending_date=%{x}\\u003cbr\\u003etarget_station_custom_id=%{y}\\u003cbr\\u003eexecution_system_custom_id=%{customdata[1]}\\u003cbr\\u003eprio=%{customdata[2]}\\u003cbr\\u003eplanned_starting_date=%{customdata[3]}\\u003cbr\\u003eplanned_ending_date=%{customdata[4]}\\u003cbr\\u003eproc_time=%{customdata[5]}\\u003cbr\\u003esetup_time=%{customdata[6]}\\u003cbr\\u003eorder_time=%{customdata[7]}\\u003cextra\\u003e\\u003c\\u002fextra\\u003e\",\"hovertext\":[\"J_gen_10\"],\"legendgroup\":\"J_gen_10\",\"marker\":{\"color\":\"#00cc96\",\"pattern\":{\"shape\":\"\"}},\"name\":\"J_gen_10\",\"offsetgroup\":\"J_gen_10\",\"orientation\":\"h\",\"showlegend\":true,\"textposition\":\"auto\",\"x\":[25200000.0],\"xaxis\":\"x\",\"y\":[2],\"yaxis\":\"y\",\"type\":\"bar\"},{\"alignmentgroup\":\"True\",\"base\":[\"2024-03-28T19:09:31+01:00\"],\"customdata\":[[\"J_gen_11\",1,null,null,null,\"P0DT6H0M0S\",\"P0DT3H0M0S\",\"P0DT9H0M0S\"]],\"hovertemplate\":\"\\u003cb\\u003e%{hovertext}\\u003c\\u002fb\\u003e\\u003cbr\\u003e\\u003cbr\\u003eactual_starting_date=%{base}\\u003cbr\\u003eactual_ending_date=%{x}\\u003cbr\\u003etarget_station_custom_id=%{y}\\u003cbr\\u003eexecution_system_custom_id=%{customdata[1]}\\u003cbr\\u003eprio=%{customdata[2]}\\u003cbr\\u003eplanned_starting_date=%{customdata[3]}\\u003cbr\\u003eplanned_ending_date=%{customdata[4]}\\u003cbr\\u003eproc_time=%{customdata[5]}\\u003cbr\\u003esetup_time=%{customdata[6]}\\u003cbr\\u003eorder_time=%{customdata[7]}\\u003cextra\\u003e\\u003c\\u002fextra\\u003e\",\"hovertext\":[\"J_gen_11\"],\"legendgroup\":\"J_gen_11\",\"marker\":{\"color\":\"#ab63fa\",\"pattern\":{\"shape\":\"\"}},\"name\":\"J_gen_11\",\"offsetgroup\":\"J_gen_11\",\"orientation\":\"h\",\"showlegend\":true,\"textposition\":\"auto\",\"x\":[32400000.0],\"xaxis\":\"x\",\"y\":[2],\"yaxis\":\"y\",\"type\":\"bar\"},{\"alignmentgroup\":\"True\",\"base\":[\"2024-03-27T03:09:31+01:00\"],\"customdata\":[[\"J_gen_2\",1,null,null,null,\"P0DT6H0M0S\",\"P0DT8H0M0S\",\"P0DT14H0M0S\"]],\"hovertemplate\":\"\\u003cb\\u003e%{hovertext}\\u003c\\u002fb\\u003e\\u003cbr\\u003e\\u003cbr\\u003eactual_starting_date=%{base}\\u003cbr\\u003eactual_ending_date=%{x}\\u003cbr\\u003etarget_station_custom_id=%{y}\\u003cbr\\u003eexecution_system_custom_id=%{customdata[1]}\\u003cbr\\u003eprio=%{customdata[2]}\\u003cbr\\u003eplanned_starting_date=%{customdata[3]}\\u003cbr\\u003eplanned_ending_date=%{customdata[4]}\\u003cbr\\u003eproc_time=%{customdata[5]}\\u003cbr\\u003esetup_time=%{customdata[6]}\\u003cbr\\u003eorder_time=%{customdata[7]}\\u003cextra\\u003e\\u003c\\u002fextra\\u003e\",\"hovertext\":[\"J_gen_2\"],\"legendgroup\":\"J_gen_2\",\"marker\":{\"color\":\"#FFA15A\",\"pattern\":{\"shape\":\"\"}},\"name\":\"J_gen_2\",\"offsetgroup\":\"J_gen_2\",\"orientation\":\"h\",\"showlegend\":true,\"textposition\":\"auto\",\"x\":[50400000.0],\"xaxis\":\"x\",\"y\":[1],\"yaxis\":\"y\",\"type\":\"bar\"},{\"alignmentgroup\":\"True\",\"base\":[\"2024-03-27T04:09:31+01:00\"],\"customdata\":[[\"J_gen_3\",1,null,null,null,\"P0DT7H0M0S\",\"P0DT5H0M0S\",\"P0DT12H0M0S\"]],\"hovertemplate\":\"\\u003cb\\u003e%{hovertext}\\u003c\\u002fb\\u003e\\u003cbr\\u003e\\u003cbr\\u003eactual_starting_date=%{base}\\u003cbr\\u003eactual_ending_date=%{x}\\u003cbr\\u003etarget_station_custom_id=%{y}\\u003cbr\\u003eexecution_system_custom_id=%{customdata[1]}\\u003cbr\\u003eprio=%{customdata[2]}\\u003cbr\\u003eplanned_starting_date=%{customdata[3]}\\u003cbr\\u003eplanned_ending_date=%{customdata[4]}\\u003cbr\\u003eproc_time=%{customdata[5]}\\u003cbr\\u003esetup_time=%{customdata[6]}\\u003cbr\\u003eorder_time=%{customdata[7]}\\u003cextra\\u003e\\u003c\\u002fextra\\u003e\",\"hovertext\":[\"J_gen_3\"],\"legendgroup\":\"J_gen_3\",\"marker\":{\"color\":\"#19d3f3\",\"pattern\":{\"shape\":\"\"}},\"name\":\"J_gen_3\",\"offsetgroup\":\"J_gen_3\",\"orientation\":\"h\",\"showlegend\":true,\"textposition\":\"auto\",\"x\":[43200000.0],\"xaxis\":\"x\",\"y\":[0],\"yaxis\":\"y\",\"type\":\"bar\"},{\"alignmentgroup\":\"True\",\"base\":[\"2024-03-27T16:09:31+01:00\"],\"customdata\":[[\"J_gen_4\",1,null,null,null,\"P0DT9H0M0S\",\"P0DT7H0M0S\",\"P0DT16H0M0S\"]],\"hovertemplate\":\"\\u003cb\\u003e%{hovertext}\\u003c\\u002fb\\u003e\\u003cbr\\u003e\\u003cbr\\u003eactual_starting_date=%{base}\\u003cbr\\u003eactual_ending_date=%{x}\\u003cbr\\u003etarget_station_custom_id=%{y}\\u003cbr\\u003eexecution_system_custom_id=%{customdata[1]}\\u003cbr\\u003eprio=%{customdata[2]}\\u003cbr\\u003eplanned_starting_date=%{customdata[3]}\\u003cbr\\u003eplanned_ending_date=%{customdata[4]}\\u003cbr\\u003eproc_time=%{customdata[5]}\\u003cbr\\u003esetup_time=%{customdata[6]}\\u003cbr\\u003eorder_time=%{customdata[7]}\\u003cextra\\u003e\\u003c\\u002fextra\\u003e\",\"hovertext\":[\"J_gen_4\"],\"legendgroup\":\"J_gen_4\",\"marker\":{\"color\":\"#FF6692\",\"pattern\":{\"shape\":\"\"}},\"name\":\"J_gen_4\",\"offsetgroup\":\"J_gen_4\",\"orientation\":\"h\",\"showlegend\":true,\"textposition\":\"auto\",\"x\":[57600000.0],\"xaxis\":\"x\",\"y\":[0],\"yaxis\":\"y\",\"type\":\"bar\"},{\"alignmentgroup\":\"True\",\"base\":[\"2024-03-28T08:09:31+01:00\"],\"customdata\":[[\"J_gen_5\",1,null,null,null,\"P0DT5H0M0S\",\"P0DT8H0M0S\",\"P0DT13H0M0S\"]],\"hovertemplate\":\"\\u003cb\\u003e%{hovertext}\\u003c\\u002fb\\u003e\\u003cbr\\u003e\\u003cbr\\u003eactual_starting_date=%{base}\\u003cbr\\u003eactual_ending_date=%{x}\\u003cbr\\u003etarget_station_custom_id=%{y}\\u003cbr\\u003eexecution_system_custom_id=%{customdata[1]}\\u003cbr\\u003eprio=%{customdata[2]}\\u003cbr\\u003eplanned_starting_date=%{customdata[3]}\\u003cbr\\u003eplanned_ending_date=%{customdata[4]}\\u003cbr\\u003eproc_time=%{customdata[5]}\\u003cbr\\u003esetup_time=%{customdata[6]}\\u003cbr\\u003eorder_time=%{customdata[7]}\\u003cextra\\u003e\\u003c\\u002fextra\\u003e\",\"hovertext\":[\"J_gen_5\"],\"legendgroup\":\"J_gen_5\",\"marker\":{\"color\":\"#B6E880\",\"pattern\":{\"shape\":\"\"}},\"name\":\"J_gen_5\",\"offsetgroup\":\"J_gen_5\",\"orientation\":\"h\",\"showlegend\":true,\"textposition\":\"auto\",\"x\":[46800000.0],\"xaxis\":\"x\",\"y\":[0],\"yaxis\":\"y\",\"type\":\"bar\"},{\"alignmentgroup\":\"True\",\"base\":[\"2024-03-27T04:09:31+01:00\"],\"customdata\":[[\"J_gen_6\",1,null,null,null,\"P0DT8H0M0S\",\"P0DT3H0M0S\",\"P0DT11H0M0S\"]],\"hovertemplate\":\"\\u003cb\\u003e%{hovertext}\\u003c\\u002fb\\u003e\\u003cbr\\u003e\\u003cbr\\u003eactual_starting_date=%{base}\\u003cbr\\u003eactual_ending_date=%{x}\\u003cbr\\u003etarget_station_custom_id=%{y}\\u003cbr\\u003eexecution_system_custom_id=%{customdata[1]}\\u003cbr\\u003eprio=%{customdata[2]}\\u003cbr\\u003eplanned_starting_date=%{customdata[3]}\\u003cbr\\u003eplanned_ending_date=%{customdata[4]}\\u003cbr\\u003eproc_time=%{customdata[5]}\\u003cbr\\u003esetup_time=%{customdata[6]}\\u003cbr\\u003eorder_time=%{customdata[7]}\\u003cextra\\u003e\\u003c\\u002fextra\\u003e\",\"hovertext\":[\"J_gen_6\"],\"legendgroup\":\"J_gen_6\",\"marker\":{\"color\":\"#FF97FF\",\"pattern\":{\"shape\":\"\"}},\"name\":\"J_gen_6\",\"offsetgroup\":\"J_gen_6\",\"orientation\":\"h\",\"showlegend\":true,\"textposition\":\"auto\",\"x\":[39600000.0],\"xaxis\":\"x\",\"y\":[2],\"yaxis\":\"y\",\"type\":\"bar\"},{\"alignmentgroup\":\"True\",\"base\":[\"2024-03-27T17:09:31+01:00\"],\"customdata\":[[\"J_gen_7\",1,null,null,null,\"P0DT6H0M0S\",\"P0DT7H0M0S\",\"P0DT13H0M0S\"]],\"hovertemplate\":\"\\u003cb\\u003e%{hovertext}\\u003c\\u002fb\\u003e\\u003cbr\\u003e\\u003cbr\\u003eactual_starting_date=%{base}\\u003cbr\\u003eactual_ending_date=%{x}\\u003cbr\\u003etarget_station_custom_id=%{y}\\u003cbr\\u003eexecution_system_custom_id=%{customdata[1]}\\u003cbr\\u003eprio=%{customdata[2]}\\u003cbr\\u003eplanned_starting_date=%{customdata[3]}\\u003cbr\\u003eplanned_ending_date=%{customdata[4]}\\u003cbr\\u003eproc_time=%{customdata[5]}\\u003cbr\\u003esetup_time=%{customdata[6]}\\u003cbr\\u003eorder_time=%{customdata[7]}\\u003cextra\\u003e\\u003c\\u002fextra\\u003e\",\"hovertext\":[\"J_gen_7\"],\"legendgroup\":\"J_gen_7\",\"marker\":{\"color\":\"#FECB52\",\"pattern\":{\"shape\":\"\"}},\"name\":\"J_gen_7\",\"offsetgroup\":\"J_gen_7\",\"orientation\":\"h\",\"showlegend\":true,\"textposition\":\"auto\",\"x\":[46800000.0],\"xaxis\":\"x\",\"y\":[1],\"yaxis\":\"y\",\"type\":\"bar\"},{\"alignmentgroup\":\"True\",\"base\":[\"2024-03-27T15:09:31+01:00\"],\"customdata\":[[\"J_gen_8\",1,null,null,null,\"P0DT8H0M0S\",\"P0DT1H0M0S\",\"P0DT9H0M0S\"]],\"hovertemplate\":\"\\u003cb\\u003e%{hovertext}\\u003c\\u002fb\\u003e\\u003cbr\\u003e\\u003cbr\\u003eactual_starting_date=%{base}\\u003cbr\\u003eactual_ending_date=%{x}\\u003cbr\\u003etarget_station_custom_id=%{y}\\u003cbr\\u003eexecution_system_custom_id=%{customdata[1]}\\u003cbr\\u003eprio=%{customdata[2]}\\u003cbr\\u003eplanned_starting_date=%{customdata[3]}\\u003cbr\\u003eplanned_ending_date=%{customdata[4]}\\u003cbr\\u003eproc_time=%{customdata[5]}\\u003cbr\\u003esetup_time=%{customdata[6]}\\u003cbr\\u003eorder_time=%{customdata[7]}\\u003cextra\\u003e\\u003c\\u002fextra\\u003e\",\"hovertext\":[\"J_gen_8\"],\"legendgroup\":\"J_gen_8\",\"marker\":{\"color\":\"#636efa\",\"pattern\":{\"shape\":\"\"}},\"name\":\"J_gen_8\",\"offsetgroup\":\"J_gen_8\",\"orientation\":\"h\",\"showlegend\":true,\"textposition\":\"auto\",\"x\":[32400000.0],\"xaxis\":\"x\",\"y\":[2],\"yaxis\":\"y\",\"type\":\"bar\"},{\"alignmentgroup\":\"True\",\"base\":[\"2024-03-28T00:09:31+01:00\"],\"customdata\":[[\"J_gen_9\",1,null,null,null,\"P0DT9H0M0S\",\"P0DT3H0M0S\",\"P0DT12H0M0S\"]],\"hovertemplate\":\"\\u003cb\\u003e%{hovertext}\\u003c\\u002fb\\u003e\\u003cbr\\u003e\\u003cbr\\u003eactual_starting_date=%{base}\\u003cbr\\u003eactual_ending_date=%{x}\\u003cbr\\u003etarget_station_custom_id=%{y}\\u003cbr\\u003eexecution_system_custom_id=%{customdata[1]}\\u003cbr\\u003eprio=%{customdata[2]}\\u003cbr\\u003eplanned_starting_date=%{customdata[3]}\\u003cbr\\u003eplanned_ending_date=%{customdata[4]}\\u003cbr\\u003eproc_time=%{customdata[5]}\\u003cbr\\u003esetup_time=%{customdata[6]}\\u003cbr\\u003eorder_time=%{customdata[7]}\\u003cextra\\u003e\\u003c\\u002fextra\\u003e\",\"hovertext\":[\"J_gen_9\"],\"legendgroup\":\"J_gen_9\",\"marker\":{\"color\":\"#EF553B\",\"pattern\":{\"shape\":\"\"}},\"name\":\"J_gen_9\",\"offsetgroup\":\"J_gen_9\",\"orientation\":\"h\",\"showlegend\":true,\"textposition\":\"auto\",\"x\":[43200000.0],\"xaxis\":\"x\",\"y\":[2],\"yaxis\":\"y\",\"type\":\"bar\"}],                        {\"template\":{\"data\":{\"histogram2dcontour\":[{\"type\":\"histogram2dcontour\",\"colorbar\":{\"outlinewidth\":0,\"ticks\":\"\"},\"colorscale\":[[0.0,\"#0d0887\"],[0.1111111111111111,\"#46039f\"],[0.2222222222222222,\"#7201a8\"],[0.3333333333333333,\"#9c179e\"],[0.4444444444444444,\"#bd3786\"],[0.5555555555555556,\"#d8576b\"],[0.6666666666666666,\"#ed7953\"],[0.7777777777777778,\"#fb9f3a\"],[0.8888888888888888,\"#fdca26\"],[1.0,\"#f0f921\"]]}],\"choropleth\":[{\"type\":\"choropleth\",\"colorbar\":{\"outlinewidth\":0,\"ticks\":\"\"}}],\"histogram2d\":[{\"type\":\"histogram2d\",\"colorbar\":{\"outlinewidth\":0,\"ticks\":\"\"},\"colorscale\":[[0.0,\"#0d0887\"],[0.1111111111111111,\"#46039f\"],[0.2222222222222222,\"#7201a8\"],[0.3333333333333333,\"#9c179e\"],[0.4444444444444444,\"#bd3786\"],[0.5555555555555556,\"#d8576b\"],[0.6666666666666666,\"#ed7953\"],[0.7777777777777778,\"#fb9f3a\"],[0.8888888888888888,\"#fdca26\"],[1.0,\"#f0f921\"]]}],\"heatmap\":[{\"type\":\"heatmap\",\"colorbar\":{\"outlinewidth\":0,\"ticks\":\"\"},\"colorscale\":[[0.0,\"#0d0887\"],[0.1111111111111111,\"#46039f\"],[0.2222222222222222,\"#7201a8\"],[0.3333333333333333,\"#9c179e\"],[0.4444444444444444,\"#bd3786\"],[0.5555555555555556,\"#d8576b\"],[0.6666666666666666,\"#ed7953\"],[0.7777777777777778,\"#fb9f3a\"],[0.8888888888888888,\"#fdca26\"],[1.0,\"#f0f921\"]]}],\"heatmapgl\":[{\"type\":\"heatmapgl\",\"colorbar\":{\"outlinewidth\":0,\"ticks\":\"\"},\"colorscale\":[[0.0,\"#0d0887\"],[0.1111111111111111,\"#46039f\"],[0.2222222222222222,\"#7201a8\"],[0.3333333333333333,\"#9c179e\"],[0.4444444444444444,\"#bd3786\"],[0.5555555555555556,\"#d8576b\"],[0.6666666666666666,\"#ed7953\"],[0.7777777777777778,\"#fb9f3a\"],[0.8888888888888888,\"#fdca26\"],[1.0,\"#f0f921\"]]}],\"contourcarpet\":[{\"type\":\"contourcarpet\",\"colorbar\":{\"outlinewidth\":0,\"ticks\":\"\"}}],\"contour\":[{\"type\":\"contour\",\"colorbar\":{\"outlinewidth\":0,\"ticks\":\"\"},\"colorscale\":[[0.0,\"#0d0887\"],[0.1111111111111111,\"#46039f\"],[0.2222222222222222,\"#7201a8\"],[0.3333333333333333,\"#9c179e\"],[0.4444444444444444,\"#bd3786\"],[0.5555555555555556,\"#d8576b\"],[0.6666666666666666,\"#ed7953\"],[0.7777777777777778,\"#fb9f3a\"],[0.8888888888888888,\"#fdca26\"],[1.0,\"#f0f921\"]]}],\"surface\":[{\"type\":\"surface\",\"colorbar\":{\"outlinewidth\":0,\"ticks\":\"\"},\"colorscale\":[[0.0,\"#0d0887\"],[0.1111111111111111,\"#46039f\"],[0.2222222222222222,\"#7201a8\"],[0.3333333333333333,\"#9c179e\"],[0.4444444444444444,\"#bd3786\"],[0.5555555555555556,\"#d8576b\"],[0.6666666666666666,\"#ed7953\"],[0.7777777777777778,\"#fb9f3a\"],[0.8888888888888888,\"#fdca26\"],[1.0,\"#f0f921\"]]}],\"mesh3d\":[{\"type\":\"mesh3d\",\"colorbar\":{\"outlinewidth\":0,\"ticks\":\"\"}}],\"scatter\":[{\"fillpattern\":{\"fillmode\":\"overlay\",\"size\":10,\"solidity\":0.2},\"type\":\"scatter\"}],\"parcoords\":[{\"type\":\"parcoords\",\"line\":{\"colorbar\":{\"outlinewidth\":0,\"ticks\":\"\"}}}],\"scatterpolargl\":[{\"type\":\"scatterpolargl\",\"marker\":{\"colorbar\":{\"outlinewidth\":0,\"ticks\":\"\"}}}],\"bar\":[{\"error_x\":{\"color\":\"#2a3f5f\"},\"error_y\":{\"color\":\"#2a3f5f\"},\"marker\":{\"line\":{\"color\":\"#E5ECF6\",\"width\":0.5},\"pattern\":{\"fillmode\":\"overlay\",\"size\":10,\"solidity\":0.2}},\"type\":\"bar\"}],\"scattergeo\":[{\"type\":\"scattergeo\",\"marker\":{\"colorbar\":{\"outlinewidth\":0,\"ticks\":\"\"}}}],\"scatterpolar\":[{\"type\":\"scatterpolar\",\"marker\":{\"colorbar\":{\"outlinewidth\":0,\"ticks\":\"\"}}}],\"histogram\":[{\"marker\":{\"pattern\":{\"fillmode\":\"overlay\",\"size\":10,\"solidity\":0.2}},\"type\":\"histogram\"}],\"scattergl\":[{\"type\":\"scattergl\",\"marker\":{\"colorbar\":{\"outlinewidth\":0,\"ticks\":\"\"}}}],\"scatter3d\":[{\"type\":\"scatter3d\",\"line\":{\"colorbar\":{\"outlinewidth\":0,\"ticks\":\"\"}},\"marker\":{\"colorbar\":{\"outlinewidth\":0,\"ticks\":\"\"}}}],\"scattermapbox\":[{\"type\":\"scattermapbox\",\"marker\":{\"colorbar\":{\"outlinewidth\":0,\"ticks\":\"\"}}}],\"scatterternary\":[{\"type\":\"scatterternary\",\"marker\":{\"colorbar\":{\"outlinewidth\":0,\"ticks\":\"\"}}}],\"scattercarpet\":[{\"type\":\"scattercarpet\",\"marker\":{\"colorbar\":{\"outlinewidth\":0,\"ticks\":\"\"}}}],\"carpet\":[{\"aaxis\":{\"endlinecolor\":\"#2a3f5f\",\"gridcolor\":\"white\",\"linecolor\":\"white\",\"minorgridcolor\":\"white\",\"startlinecolor\":\"#2a3f5f\"},\"baxis\":{\"endlinecolor\":\"#2a3f5f\",\"gridcolor\":\"white\",\"linecolor\":\"white\",\"minorgridcolor\":\"white\",\"startlinecolor\":\"#2a3f5f\"},\"type\":\"carpet\"}],\"table\":[{\"cells\":{\"fill\":{\"color\":\"#EBF0F8\"},\"line\":{\"color\":\"white\"}},\"header\":{\"fill\":{\"color\":\"#C8D4E3\"},\"line\":{\"color\":\"white\"}},\"type\":\"table\"}],\"barpolar\":[{\"marker\":{\"line\":{\"color\":\"#E5ECF6\",\"width\":0.5},\"pattern\":{\"fillmode\":\"overlay\",\"size\":10,\"solidity\":0.2}},\"type\":\"barpolar\"}],\"pie\":[{\"automargin\":true,\"type\":\"pie\"}]},\"layout\":{\"autotypenumbers\":\"strict\",\"colorway\":[\"#636efa\",\"#EF553B\",\"#00cc96\",\"#ab63fa\",\"#FFA15A\",\"#19d3f3\",\"#FF6692\",\"#B6E880\",\"#FF97FF\",\"#FECB52\"],\"font\":{\"color\":\"#2a3f5f\"},\"hovermode\":\"closest\",\"hoverlabel\":{\"align\":\"left\"},\"paper_bgcolor\":\"white\",\"plot_bgcolor\":\"#E5ECF6\",\"polar\":{\"bgcolor\":\"#E5ECF6\",\"angularaxis\":{\"gridcolor\":\"white\",\"linecolor\":\"white\",\"ticks\":\"\"},\"radialaxis\":{\"gridcolor\":\"white\",\"linecolor\":\"white\",\"ticks\":\"\"}},\"ternary\":{\"bgcolor\":\"#E5ECF6\",\"aaxis\":{\"gridcolor\":\"white\",\"linecolor\":\"white\",\"ticks\":\"\"},\"baxis\":{\"gridcolor\":\"white\",\"linecolor\":\"white\",\"ticks\":\"\"},\"caxis\":{\"gridcolor\":\"white\",\"linecolor\":\"white\",\"ticks\":\"\"}},\"coloraxis\":{\"colorbar\":{\"outlinewidth\":0,\"ticks\":\"\"}},\"colorscale\":{\"sequential\":[[0.0,\"#0d0887\"],[0.1111111111111111,\"#46039f\"],[0.2222222222222222,\"#7201a8\"],[0.3333333333333333,\"#9c179e\"],[0.4444444444444444,\"#bd3786\"],[0.5555555555555556,\"#d8576b\"],[0.6666666666666666,\"#ed7953\"],[0.7777777777777778,\"#fb9f3a\"],[0.8888888888888888,\"#fdca26\"],[1.0,\"#f0f921\"]],\"sequentialminus\":[[0.0,\"#0d0887\"],[0.1111111111111111,\"#46039f\"],[0.2222222222222222,\"#7201a8\"],[0.3333333333333333,\"#9c179e\"],[0.4444444444444444,\"#bd3786\"],[0.5555555555555556,\"#d8576b\"],[0.6666666666666666,\"#ed7953\"],[0.7777777777777778,\"#fb9f3a\"],[0.8888888888888888,\"#fdca26\"],[1.0,\"#f0f921\"]],\"diverging\":[[0,\"#8e0152\"],[0.1,\"#c51b7d\"],[0.2,\"#de77ae\"],[0.3,\"#f1b6da\"],[0.4,\"#fde0ef\"],[0.5,\"#f7f7f7\"],[0.6,\"#e6f5d0\"],[0.7,\"#b8e186\"],[0.8,\"#7fbc41\"],[0.9,\"#4d9221\"],[1,\"#276419\"]]},\"xaxis\":{\"gridcolor\":\"white\",\"linecolor\":\"white\",\"ticks\":\"\",\"title\":{\"standoff\":15},\"zerolinecolor\":\"white\",\"automargin\":true,\"zerolinewidth\":2},\"yaxis\":{\"gridcolor\":\"white\",\"linecolor\":\"white\",\"ticks\":\"\",\"title\":{\"standoff\":15},\"zerolinecolor\":\"white\",\"automargin\":true,\"zerolinewidth\":2},\"scene\":{\"xaxis\":{\"backgroundcolor\":\"#E5ECF6\",\"gridcolor\":\"white\",\"linecolor\":\"white\",\"showbackground\":true,\"ticks\":\"\",\"zerolinecolor\":\"white\",\"gridwidth\":2},\"yaxis\":{\"backgroundcolor\":\"#E5ECF6\",\"gridcolor\":\"white\",\"linecolor\":\"white\",\"showbackground\":true,\"ticks\":\"\",\"zerolinecolor\":\"white\",\"gridwidth\":2},\"zaxis\":{\"backgroundcolor\":\"#E5ECF6\",\"gridcolor\":\"white\",\"linecolor\":\"white\",\"showbackground\":true,\"ticks\":\"\",\"zerolinecolor\":\"white\",\"gridwidth\":2}},\"shapedefaults\":{\"line\":{\"color\":\"#2a3f5f\"}},\"annotationdefaults\":{\"arrowcolor\":\"#2a3f5f\",\"arrowhead\":0,\"arrowwidth\":1},\"geo\":{\"bgcolor\":\"white\",\"landcolor\":\"#E5ECF6\",\"subunitcolor\":\"white\",\"showland\":true,\"showlakes\":true,\"lakecolor\":\"white\"},\"title\":{\"x\":0.05},\"mapbox\":{\"style\":\"light\"}}},\"xaxis\":{\"anchor\":\"y\",\"domain\":[0.0,1.0],\"type\":\"date\"},\"yaxis\":{\"anchor\":\"x\",\"domain\":[0.0,1.0],\"title\":{\"text\":\"target_station_custom_id\"},\"type\":\"category\",\"autorange\":\"reversed\"},\"legend\":{\"title\":{\"text\":\"job_name\"},\"tracegroupgap\":0},\"margin\":{\"t\":60},\"barmode\":\"overlay\"},                        {\"responsive\": true}                    ).then(function(){\n",
       "                            \n",
       "var gd = document.getElementById('4e0f6e87-9007-4a18-b60f-3a103bc4f242');\n",
       "var x = new MutationObserver(function (mutations, observer) {{\n",
       "        var display = window.getComputedStyle(gd).display;\n",
       "        if (!display || display === 'none') {{\n",
       "            console.log([gd, 'removed!']);\n",
       "            Plotly.purge(gd);\n",
       "            observer.disconnect();\n",
       "        }}\n",
       "}});\n",
       "\n",
       "// Listen for the removal of the full notebook cells\n",
       "var notebookContainer = gd.closest('#notebook-container');\n",
       "if (notebookContainer) {{\n",
       "    x.observe(notebookContainer, {childList: true});\n",
       "}}\n",
       "\n",
       "// Listen for the clearing of the current output cell\n",
       "var outputEl = gd.closest('.output');\n",
       "if (outputEl) {{\n",
       "    x.observe(outputEl, {childList: true});\n",
       "}}\n",
       "\n",
       "                        })                };                });            </script>        </div>"
      ]
     },
     "metadata": {},
     "output_type": "display_data"
    }
   ],
   "source": [
    "fig = dispatcher.draw_gantt_chart(dates_to_local_tz=True)"
   ]
  },
  {
   "cell_type": "code",
   "execution_count": null,
   "metadata": {},
   "outputs": [],
   "source": []
  },
  {
   "cell_type": "code",
   "execution_count": null,
   "metadata": {},
   "outputs": [],
   "source": []
  }
 ],
 "metadata": {
  "kernelspec": {
   "display_name": "Python 3 (ipykernel)",
   "language": "python",
   "name": "python3"
  },
  "language_info": {
   "codemirror_mode": {
    "name": "ipython",
    "version": 3
   },
   "file_extension": ".py",
   "mimetype": "text/x-python",
   "name": "python",
   "nbconvert_exporter": "python",
   "pygments_lexer": "ipython3",
   "version": "3.11.8"
  }
 },
 "nbformat": 4,
 "nbformat_minor": 4
}
