{
 "cells": [
  {
   "cell_type": "code",
   "execution_count": 2,
   "metadata": {},
   "outputs": [],
   "source": [
    "%load_ext autoreload"
   ]
  },
  {
   "cell_type": "code",
   "execution_count": 3,
   "metadata": {},
   "outputs": [],
   "source": [
    "%autoreload 2"
   ]
  },
  {
   "cell_type": "code",
   "execution_count": 407,
   "metadata": {},
   "outputs": [],
   "source": [
    "from lib import sim_env as sim\n",
    "from lib import loads\n",
    "from lib.utils import (DTManager, adjust_db_dates_local_tz)\n",
    "from lib import agents\n",
    "import datetime"
   ]
  },
  {
   "cell_type": "code",
   "execution_count": null,
   "metadata": {},
   "outputs": [],
   "source": []
  },
  {
   "cell_type": "markdown",
   "metadata": {},
   "source": [
    "# environment\n",
    "dt = current_time_tz(cut_microseconds=True)\n",
    "env = sim.SimulationEnvironment(name='base', time_unit='seconds', starting_datetime=dt)\n",
    "job_generator = loads.RandomJobGenerator(seed=2)\n",
    "infstruct_mgr = sim.InfrastructureManager(env=env)\n",
    "dispatcher = sim.Dispatcher(env=env, priority_rule='FIFO')\n",
    "\n",
    "# source\n",
    "area_source = sim.ProductionArea(env=env, custom_identifier=1000)\n",
    "group_source = sim.StationGroup(env=env, custom_identifier=1000)\n",
    "area_source.add_subsystem(group_source)\n",
    "proc_time = dt_parser.timedelta_from_val(val=2., time_unit='hours')\n",
    "source = sim.Source(env=env, custom_identifier='source', proc_time=proc_time, \n",
    "                random_generation=True, job_generator=job_generator, num_gen_jobs=5)\n",
    "group_source.add_subsystem(source)\n",
    "\n",
    "# sink\n",
    "area_sink = sim.ProductionArea(env=env, custom_identifier=2000)\n",
    "group_sink = sim.StationGroup(env=env, custom_identifier=2000)\n",
    "area_sink.add_subsystem(group_sink)\n",
    "sink = sim.Sink(env=env, custom_identifier='sink')\n",
    "group_sink.add_subsystem(sink)\n",
    "\n",
    "# processing stations\n",
    "# prod area 1\n",
    "area_prod = sim.ProductionArea(env=env, custom_identifier=1)\n",
    "group_prod = sim.StationGroup(env=env, custom_identifier=1)\n",
    "area_prod.add_subsystem(group_prod)\n",
    "group_prod2 = sim.StationGroup(env=env, custom_identifier=2)\n",
    "area_prod.add_subsystem(group_prod2)\n",
    "# prod area 2\n",
    "#area_prod2 = ProductionArea(env=env, custom_identifier=2)\n",
    "#group_prod3 = StationGroup(env=env, custom_identifier=3)\n",
    "#area_prod2.add_subsystem(group_prod3)\n",
    "#area_prod.add_subsystem(group_prod3)\n",
    "## machines\n",
    "for machine in range(3):\n",
    "    buffer = sim.Buffer(capacity=20, env=env, custom_identifier=(10+machine))\n",
    "    if machine == 5:\n",
    "        MachInst = sim.Machine(env=env, custom_identifier=machine, buffers=[buffer], setup_time=5.)\n",
    "    else:\n",
    "        MachInst = sim.Machine(env=env, custom_identifier=machine, buffers=[buffer])\n",
    "        \n",
    "    if machine == 0:\n",
    "        testMachInst = MachInst\n",
    "    \n",
    "    if machine < 2:\n",
    "        group_prod.add_subsystem(buffer)\n",
    "        group_prod.add_subsystem(MachInst)\n",
    "    elif machine >= 2:\n",
    "        group_prod2.add_subsystem(buffer)\n",
    "        group_prod2.add_subsystem(MachInst)\n",
    "    else:\n",
    "        pass\n",
    "        #group_prod3.add_subsystem(buffer)\n",
    "        #group_prod3.add_subsystem(MachInst)\n",
    "    \n",
    "\n",
    "add_machine_to_bottleneck: bool = False\n",
    "if add_machine_to_bottleneck:\n",
    "    buffer = sim.Buffer(capacity=20, env=env, custom_identifier=(10+machine+1))\n",
    "    MachInst = sim.Machine(env=env, custom_identifier=machine+1, buffers=[buffer])\n",
    "    group_prod3.add_subsystem(buffer)\n",
    "    group_prod3.add_subsystem(MachInst)\n",
    "\n",
    "alloc_agent = agents.AllocationAgent(assoc_system=area_prod)"
   ]
  },
  {
   "cell_type": "markdown",
   "metadata": {},
   "source": [
    "alloc_agent._assoc_infstrct_objs"
   ]
  },
  {
   "cell_type": "markdown",
   "metadata": {
    "scrolled": true
   },
   "source": [
    "# station group IDs (system, custom) for processing stations\n",
    "MachInst.supersystems_custom_ids"
   ]
  },
  {
   "cell_type": "code",
   "execution_count": 408,
   "metadata": {},
   "outputs": [
    {
     "name": "stdout",
     "output_type": "stream",
     "text": [
      "INFO:sim_env.env:Successfully registered Infrastructure Manager in Env >>base<<\n",
      "INFO:sim_env.env:Successfully registered Dispatcher in Env >>base<<\n",
      "INFO:sim_env.infstrct:Successfully registered object with SystemID 0 and name Source_env_0\n"
     ]
    }
   ],
   "source": [
    "# datetime manager\n",
    "dt_mgr = DTManager()\n",
    "starting_dt = dt_mgr.current_time_tz(cut_microseconds=True)\n",
    "# environment\n",
    "env = sim.SimulationEnvironment(name='base', time_unit='seconds', starting_datetime=dt)\n",
    "infstruct_mgr = sim.InfrastructureManager(env=env)\n",
    "dispatcher = sim.Dispatcher(env=env, priority_rule='FIFO')\n",
    "proc_time = dt_mgr.timedelta_from_val(val=2., time_unit='hours')\n",
    "job_generator = loads.RandomJobGenerator(seed=2)\n",
    "source = sim.Source(env=env, custom_identifier='source', proc_time=proc_time, \n",
    "                    random_generation=True, job_generator=job_generator, num_gen_jobs=4)\n",
    "sim_dur = dt_parser.timedelta_from_val(val=2., time_unit='days')\n",
    "job_gen_dur_cond = sim.JobGenDurationCondition(env=env, target_obj=source, sim_run_duration=sim_dur)"
   ]
  },
  {
   "cell_type": "code",
   "execution_count": null,
   "metadata": {},
   "outputs": [],
   "source": []
  },
  {
   "cell_type": "code",
   "execution_count": 461,
   "metadata": {},
   "outputs": [
    {
     "data": {
      "text/plain": [
       "datetime.datetime(2024, 3, 23, 12, 0, tzinfo=datetime.timezone.utc)"
      ]
     },
     "execution_count": 461,
     "metadata": {},
     "output_type": "execute_result"
    }
   ],
   "source": [
    "dt_mgr = DTManager()\n",
    "dt_mgr.dt_with_tz_UTC(2024,3,23,12)"
   ]
  },
  {
   "cell_type": "code",
   "execution_count": null,
   "metadata": {},
   "outputs": [],
   "source": []
  },
  {
   "cell_type": "code",
   "execution_count": null,
   "metadata": {},
   "outputs": [],
   "source": []
  },
  {
   "cell_type": "code",
   "execution_count": null,
   "metadata": {},
   "outputs": [],
   "source": []
  },
  {
   "cell_type": "code",
   "execution_count": 493,
   "metadata": {},
   "outputs": [],
   "source": [
    "def build_sim_env() -> tuple[\n",
    "    sim.SimulationEnvironment,\n",
    "    sim.InfrastructureManager,\n",
    "    sim.Dispatcher,\n",
    "    agents.AllocationAgent,\n",
    "]:\n",
    "    # !! REWORK, CURRENTLY ONLY FOR TESTING PURPOSES\n",
    "    \"\"\"Constructor to build simulation environment (layout)\n",
    "\n",
    "    Returns\n",
    "    -------\n",
    "    tuple[ sim.SimulationEnvironment, sim.InfrastructureManager, sim.Dispatcher, agents.AllocationAgent, ]\n",
    "        tuple out of Environment, InfrastructureManager, Dispatcher, Agent\n",
    "    \"\"\"\n",
    "    # datetime manager\n",
    "    dt_mgr = DTManager()\n",
    "    starting_dt = dt_mgr.current_time_tz(cut_microseconds=True)\n",
    "    # environment\n",
    "    env = sim.SimulationEnvironment(name='base', time_unit='seconds', starting_datetime=dt)\n",
    "    job_generator = loads.RandomJobGenerator(seed=2)\n",
    "    infstruct_mgr = sim.InfrastructureManager(env=env)\n",
    "    dispatcher = sim.Dispatcher(env=env, priority_rule='FIFO')\n",
    "    \n",
    "    # source\n",
    "    area_source = sim.ProductionArea(env=env, custom_identifier=1000)\n",
    "    group_source = sim.StationGroup(env=env, custom_identifier=1000)\n",
    "    area_source.add_subsystem(group_source)\n",
    "    proc_time = dt_mgr.timedelta_from_val(val=2., time_unit='hours')\n",
    "    source = sim.Source(env=env, custom_identifier='source', proc_time=proc_time, \n",
    "                    random_generation=True, job_generator=job_generator, num_gen_jobs=4)\n",
    "    group_source.add_subsystem(source)\n",
    "\n",
    "    # sink\n",
    "    area_sink = sim.ProductionArea(env=env, custom_identifier=2000)\n",
    "    group_sink = sim.StationGroup(env=env, custom_identifier=2000)\n",
    "    area_sink.add_subsystem(group_sink)\n",
    "    sink = sim.Sink(env=env, custom_identifier='sink')\n",
    "    group_sink.add_subsystem(sink)\n",
    "\n",
    "    # processing stations\n",
    "    # prod area 1\n",
    "    area_prod = sim.ProductionArea(env=env, custom_identifier=1)\n",
    "    group_prod = sim.StationGroup(env=env, custom_identifier=1)\n",
    "    area_prod.add_subsystem(group_prod)\n",
    "    group_prod2 = sim.StationGroup(env=env, custom_identifier=2)\n",
    "    area_prod.add_subsystem(group_prod2)\n",
    "    # prod area 2\n",
    "    #area_prod2 = ProductionArea(env=env, custom_identifier=2)\n",
    "    #group_prod3 = StationGroup(env=env, custom_identifier=3)\n",
    "    #area_prod2.add_subsystem(group_prod3)\n",
    "    #area_prod.add_subsystem(group_prod3)\n",
    "    ## machines\n",
    "    for machine in range(3):\n",
    "        buffer = sim.Buffer(capacity=20, env=env, custom_identifier=(10+machine))\n",
    "        if machine == 5:\n",
    "            MachInst = sim.Machine(env=env, custom_identifier=machine, buffers=[buffer], setup_time=5.)\n",
    "        else:\n",
    "            MachInst = sim.Machine(env=env, custom_identifier=machine, buffers=[buffer])\n",
    "            \n",
    "        if machine == 0:\n",
    "            testMachInst = MachInst\n",
    "        \n",
    "        if machine < 2:\n",
    "            group_prod.add_subsystem(buffer)\n",
    "            group_prod.add_subsystem(MachInst)\n",
    "        elif machine >= 2:\n",
    "            group_prod2.add_subsystem(buffer)\n",
    "            group_prod2.add_subsystem(MachInst)\n",
    "        else:\n",
    "            pass\n",
    "            #group_prod3.add_subsystem(buffer)\n",
    "            #group_prod3.add_subsystem(MachInst)\n",
    "        \n",
    "\n",
    "    add_machine_to_bottleneck: bool = False\n",
    "    if add_machine_to_bottleneck:\n",
    "        buffer = sim.Buffer(capacity=20, env=env, custom_identifier=(10+machine+1))\n",
    "        MachInst = sim.Machine(env=env, custom_identifier=machine+1, buffers=[buffer])\n",
    "        group_prod3.add_subsystem(buffer)\n",
    "        group_prod3.add_subsystem(MachInst)\n",
    "        \n",
    "    alloc_agent = agents.AllocationAgent(assoc_system=area_prod)\n",
    "\n",
    "    # conditions\n",
    "    duration_transient = dt_mgr.timedelta_from_val(val=2, time_unit='hours')\n",
    "    trans_cond = sim.TransientCondition(env=env, duration_transient=duration_transient)\n",
    "    agent_decision_cond = sim.TriggerAgentCondition(env=env)\n",
    "    sim_dur = dt_parser.timedelta_from_val(val=2., time_unit='days')\n",
    "    sim_end_date = dt_mgr.dt_with_tz_UTC(2024,3,23,12)\n",
    "    job_gen_dur_cond = sim.JobGenDurationCondition(env=env, target_obj=source, sim_run_duration=sim_dur)\n",
    "    \n",
    "    return env, infstruct_mgr, dispatcher, alloc_agent"
   ]
  },
  {
   "cell_type": "code",
   "execution_count": 508,
   "metadata": {},
   "outputs": [
    {
     "name": "stdout",
     "output_type": "stream",
     "text": [
      "INFO:sim_env.env:Successfully registered Infrastructure Manager in Env >>base<<\n",
      "INFO:sim_env.env:Successfully registered Dispatcher in Env >>base<<\n",
      "INFO:sim_env.infstrct:Successfully registered object with SystemID 0 and name ProductionArea_env_0\n",
      "INFO:sim_env.infstrct:Successfully registered object with SystemID 0 and name StationGroup_env_0\n",
      "INFO:sim_env.infstrct:Successfully added System (type: StationGroup, custom_id: 1000, name: StationGroup_env_0) to System (type: ProductionArea, custom_id: 1000, name: ProductionArea_env_0).\n",
      "INFO:sim_env.infstrct:Successfully registered object with SystemID 0 and name Source_env_0\n",
      "INFO:sim_env.infstrct:Successfully added System (type: Resource, custom_id: source, name: Source_env_0) to System (type: StationGroup, custom_id: 1000, name: StationGroup_env_0).\n",
      "INFO:sim_env.infstrct:Successfully registered object with SystemID 1 and name ProductionArea_env_1\n",
      "INFO:sim_env.infstrct:Successfully registered object with SystemID 1 and name StationGroup_env_1\n",
      "INFO:sim_env.infstrct:Successfully added System (type: StationGroup, custom_id: 2000, name: StationGroup_env_1) to System (type: ProductionArea, custom_id: 2000, name: ProductionArea_env_1).\n",
      "INFO:sim_env.infstrct:Successfully registered object with SystemID 1 and name Sink_env_1\n",
      "INFO:sim_env.infstrct:Successfully added System (type: Resource, custom_id: sink, name: Sink_env_1) to System (type: StationGroup, custom_id: 2000, name: StationGroup_env_1).\n",
      "INFO:sim_env.infstrct:Successfully registered object with SystemID 2 and name ProductionArea_env_2\n",
      "INFO:sim_env.infstrct:Successfully registered object with SystemID 2 and name StationGroup_env_2\n",
      "INFO:sim_env.infstrct:Successfully added System (type: StationGroup, custom_id: 1, name: StationGroup_env_2) to System (type: ProductionArea, custom_id: 1, name: ProductionArea_env_2).\n",
      "INFO:sim_env.infstrct:Successfully registered object with SystemID 3 and name StationGroup_env_3\n",
      "INFO:sim_env.infstrct:Successfully added System (type: StationGroup, custom_id: 2, name: StationGroup_env_3) to System (type: ProductionArea, custom_id: 1, name: ProductionArea_env_2).\n",
      "INFO:sim_env.infstrct:Successfully registered object with SystemID 2 and name Buffer_env_2\n",
      "INFO:sim_env.infstrct:Successfully registered object with SystemID 3 and name Machine_env_3\n",
      "INFO:sim_env.infstrct:Successfully added System (type: Resource, custom_id: 10, name: Buffer_env_2) to System (type: StationGroup, custom_id: 1, name: StationGroup_env_2).\n",
      "INFO:sim_env.infstrct:Successfully added System (type: Resource, custom_id: 0, name: Machine_env_3) to System (type: StationGroup, custom_id: 1, name: StationGroup_env_2).\n",
      "INFO:sim_env.infstrct:Successfully registered object with SystemID 4 and name Buffer_env_4\n",
      "INFO:sim_env.infstrct:Successfully registered object with SystemID 5 and name Machine_env_5\n",
      "INFO:sim_env.infstrct:Successfully added System (type: Resource, custom_id: 11, name: Buffer_env_4) to System (type: StationGroup, custom_id: 1, name: StationGroup_env_2).\n",
      "INFO:sim_env.infstrct:Successfully added System (type: Resource, custom_id: 1, name: Machine_env_5) to System (type: StationGroup, custom_id: 1, name: StationGroup_env_2).\n",
      "INFO:sim_env.infstrct:Successfully registered object with SystemID 6 and name Buffer_env_6\n",
      "INFO:sim_env.infstrct:Successfully registered object with SystemID 7 and name Machine_env_7\n",
      "INFO:sim_env.infstrct:Successfully added System (type: Resource, custom_id: 12, name: Buffer_env_6) to System (type: StationGroup, custom_id: 2, name: StationGroup_env_3).\n",
      "INFO:sim_env.infstrct:Successfully added System (type: Resource, custom_id: 2, name: Machine_env_7) to System (type: StationGroup, custom_id: 2, name: StationGroup_env_3).\n",
      "INFO:sim_env.env:Successfully registered Allocation Agent in System (type: ProductionArea, custom_id: 1, name: ProductionArea_env_2)\n"
     ]
    }
   ],
   "source": [
    "(env, infstruct_mgr, dispatcher, agent) = build_sim_env()"
   ]
  },
  {
   "cell_type": "code",
   "execution_count": 495,
   "metadata": {
    "scrolled": true
   },
   "outputs": [
    {
     "data": {
      "text/html": [
       "<div>\n",
       "<style scoped>\n",
       "    .dataframe tbody tr th:only-of-type {\n",
       "        vertical-align: middle;\n",
       "    }\n",
       "\n",
       "    .dataframe tbody tr th {\n",
       "        vertical-align: top;\n",
       "    }\n",
       "\n",
       "    .dataframe thead th {\n",
       "        text-align: right;\n",
       "    }\n",
       "</style>\n",
       "<table border=\"1\" class=\"dataframe\">\n",
       "  <thead>\n",
       "    <tr style=\"text-align: right;\">\n",
       "      <th></th>\n",
       "      <th>custom_id</th>\n",
       "      <th>name</th>\n",
       "      <th>prod_area</th>\n",
       "      <th>containing_proc_stations</th>\n",
       "    </tr>\n",
       "    <tr>\n",
       "      <th>prod_area_id</th>\n",
       "      <th></th>\n",
       "      <th></th>\n",
       "      <th></th>\n",
       "      <th></th>\n",
       "    </tr>\n",
       "  </thead>\n",
       "  <tbody>\n",
       "    <tr>\n",
       "      <th>0</th>\n",
       "      <td>1000</td>\n",
       "      <td>ProductionArea_env_0</td>\n",
       "      <td>{0: {0: {}}}</td>\n",
       "      <td>False</td>\n",
       "    </tr>\n",
       "    <tr>\n",
       "      <th>1</th>\n",
       "      <td>2000</td>\n",
       "      <td>ProductionArea_env_1</td>\n",
       "      <td>{1: {1: {}}}</td>\n",
       "      <td>False</td>\n",
       "    </tr>\n",
       "    <tr>\n",
       "      <th>2</th>\n",
       "      <td>1</td>\n",
       "      <td>ProductionArea_env_2</td>\n",
       "      <td>{2: {2: {}, 3: {}, 4: {}, 5: {}}, 3: {6: {}, 7...</td>\n",
       "      <td>True</td>\n",
       "    </tr>\n",
       "  </tbody>\n",
       "</table>\n",
       "</div>"
      ],
      "text/plain": [
       "             custom_id                  name   \n",
       "prod_area_id                                   \n",
       "0                 1000  ProductionArea_env_0  \\\n",
       "1                 2000  ProductionArea_env_1   \n",
       "2                    1  ProductionArea_env_2   \n",
       "\n",
       "                                                      prod_area   \n",
       "prod_area_id                                                      \n",
       "0                                                  {0: {0: {}}}  \\\n",
       "1                                                  {1: {1: {}}}   \n",
       "2             {2: {2: {}, 3: {}, 4: {}, 5: {}}, 3: {6: {}, 7...   \n",
       "\n",
       "              containing_proc_stations  \n",
       "prod_area_id                            \n",
       "0                                False  \n",
       "1                                False  \n",
       "2                                 True  "
      ]
     },
     "execution_count": 495,
     "metadata": {},
     "output_type": "execute_result"
    }
   ],
   "source": [
    "infstruct_mgr.prod_area_db"
   ]
  },
  {
   "cell_type": "code",
   "execution_count": 496,
   "metadata": {
    "scrolled": true
   },
   "outputs": [
    {
     "data": {
      "text/html": [
       "<div>\n",
       "<style scoped>\n",
       "    .dataframe tbody tr th:only-of-type {\n",
       "        vertical-align: middle;\n",
       "    }\n",
       "\n",
       "    .dataframe tbody tr th {\n",
       "        vertical-align: top;\n",
       "    }\n",
       "\n",
       "    .dataframe thead th {\n",
       "        text-align: right;\n",
       "    }\n",
       "</style>\n",
       "<table border=\"1\" class=\"dataframe\">\n",
       "  <thead>\n",
       "    <tr style=\"text-align: right;\">\n",
       "      <th></th>\n",
       "      <th>custom_id</th>\n",
       "      <th>name</th>\n",
       "      <th>station_group</th>\n",
       "      <th>prod_area_id</th>\n",
       "      <th>containing_proc_stations</th>\n",
       "    </tr>\n",
       "    <tr>\n",
       "      <th>station_group_id</th>\n",
       "      <th></th>\n",
       "      <th></th>\n",
       "      <th></th>\n",
       "      <th></th>\n",
       "      <th></th>\n",
       "    </tr>\n",
       "  </thead>\n",
       "  <tbody>\n",
       "    <tr>\n",
       "      <th>0</th>\n",
       "      <td>1000</td>\n",
       "      <td>StationGroup_env_0</td>\n",
       "      <td>{0: {}}</td>\n",
       "      <td>0</td>\n",
       "      <td>False</td>\n",
       "    </tr>\n",
       "    <tr>\n",
       "      <th>1</th>\n",
       "      <td>2000</td>\n",
       "      <td>StationGroup_env_1</td>\n",
       "      <td>{1: {}}</td>\n",
       "      <td>1</td>\n",
       "      <td>False</td>\n",
       "    </tr>\n",
       "    <tr>\n",
       "      <th>2</th>\n",
       "      <td>1</td>\n",
       "      <td>StationGroup_env_2</td>\n",
       "      <td>{2: {}, 3: {}, 4: {}, 5: {}}</td>\n",
       "      <td>2</td>\n",
       "      <td>True</td>\n",
       "    </tr>\n",
       "    <tr>\n",
       "      <th>3</th>\n",
       "      <td>2</td>\n",
       "      <td>StationGroup_env_3</td>\n",
       "      <td>{6: {}, 7: {}}</td>\n",
       "      <td>2</td>\n",
       "      <td>True</td>\n",
       "    </tr>\n",
       "  </tbody>\n",
       "</table>\n",
       "</div>"
      ],
      "text/plain": [
       "                 custom_id                name                 station_group   \n",
       "station_group_id                                                               \n",
       "0                     1000  StationGroup_env_0                       {0: {}}  \\\n",
       "1                     2000  StationGroup_env_1                       {1: {}}   \n",
       "2                        1  StationGroup_env_2  {2: {}, 3: {}, 4: {}, 5: {}}   \n",
       "3                        2  StationGroup_env_3                {6: {}, 7: {}}   \n",
       "\n",
       "                  prod_area_id  containing_proc_stations  \n",
       "station_group_id                                          \n",
       "0                            0                     False  \n",
       "1                            1                     False  \n",
       "2                            2                      True  \n",
       "3                            2                      True  "
      ]
     },
     "execution_count": 496,
     "metadata": {},
     "output_type": "execute_result"
    }
   ],
   "source": [
    "infstruct_mgr.station_group_db"
   ]
  },
  {
   "cell_type": "code",
   "execution_count": 497,
   "metadata": {},
   "outputs": [
    {
     "data": {
      "text/html": [
       "<div>\n",
       "<style scoped>\n",
       "    .dataframe tbody tr th:only-of-type {\n",
       "        vertical-align: middle;\n",
       "    }\n",
       "\n",
       "    .dataframe tbody tr th {\n",
       "        vertical-align: top;\n",
       "    }\n",
       "\n",
       "    .dataframe thead th {\n",
       "        text-align: right;\n",
       "    }\n",
       "</style>\n",
       "<table border=\"1\" class=\"dataframe\">\n",
       "  <thead>\n",
       "    <tr style=\"text-align: right;\">\n",
       "      <th></th>\n",
       "      <th>custom_id</th>\n",
       "      <th>resource</th>\n",
       "      <th>name</th>\n",
       "      <th>res_type</th>\n",
       "      <th>state</th>\n",
       "      <th>station_group_id</th>\n",
       "    </tr>\n",
       "    <tr>\n",
       "      <th>res_id</th>\n",
       "      <th></th>\n",
       "      <th></th>\n",
       "      <th></th>\n",
       "      <th></th>\n",
       "      <th></th>\n",
       "      <th></th>\n",
       "    </tr>\n",
       "  </thead>\n",
       "  <tbody>\n",
       "    <tr>\n",
       "      <th>0</th>\n",
       "      <td>source</td>\n",
       "      <td>{}</td>\n",
       "      <td>Source_env_0</td>\n",
       "      <td>Source</td>\n",
       "      <td>INIT</td>\n",
       "      <td>0</td>\n",
       "    </tr>\n",
       "    <tr>\n",
       "      <th>1</th>\n",
       "      <td>sink</td>\n",
       "      <td>{}</td>\n",
       "      <td>Sink_env_1</td>\n",
       "      <td>Sink</td>\n",
       "      <td>INIT</td>\n",
       "      <td>1</td>\n",
       "    </tr>\n",
       "    <tr>\n",
       "      <th>2</th>\n",
       "      <td>10</td>\n",
       "      <td>{}</td>\n",
       "      <td>Buffer_env_2</td>\n",
       "      <td>Buffer</td>\n",
       "      <td>INIT</td>\n",
       "      <td>2</td>\n",
       "    </tr>\n",
       "    <tr>\n",
       "      <th>3</th>\n",
       "      <td>0</td>\n",
       "      <td>{}</td>\n",
       "      <td>Machine_env_3</td>\n",
       "      <td>Machine</td>\n",
       "      <td>INIT</td>\n",
       "      <td>2</td>\n",
       "    </tr>\n",
       "    <tr>\n",
       "      <th>4</th>\n",
       "      <td>11</td>\n",
       "      <td>{}</td>\n",
       "      <td>Buffer_env_4</td>\n",
       "      <td>Buffer</td>\n",
       "      <td>INIT</td>\n",
       "      <td>2</td>\n",
       "    </tr>\n",
       "    <tr>\n",
       "      <th>5</th>\n",
       "      <td>1</td>\n",
       "      <td>{}</td>\n",
       "      <td>Machine_env_5</td>\n",
       "      <td>Machine</td>\n",
       "      <td>INIT</td>\n",
       "      <td>2</td>\n",
       "    </tr>\n",
       "    <tr>\n",
       "      <th>6</th>\n",
       "      <td>12</td>\n",
       "      <td>{}</td>\n",
       "      <td>Buffer_env_6</td>\n",
       "      <td>Buffer</td>\n",
       "      <td>INIT</td>\n",
       "      <td>3</td>\n",
       "    </tr>\n",
       "    <tr>\n",
       "      <th>7</th>\n",
       "      <td>2</td>\n",
       "      <td>{}</td>\n",
       "      <td>Machine_env_7</td>\n",
       "      <td>Machine</td>\n",
       "      <td>INIT</td>\n",
       "      <td>3</td>\n",
       "    </tr>\n",
       "  </tbody>\n",
       "</table>\n",
       "</div>"
      ],
      "text/plain": [
       "       custom_id resource           name res_type state  station_group_id\n",
       "res_id                                                                   \n",
       "0         source       {}   Source_env_0   Source  INIT                 0\n",
       "1           sink       {}     Sink_env_1     Sink  INIT                 1\n",
       "2             10       {}   Buffer_env_2   Buffer  INIT                 2\n",
       "3              0       {}  Machine_env_3  Machine  INIT                 2\n",
       "4             11       {}   Buffer_env_4   Buffer  INIT                 2\n",
       "5              1       {}  Machine_env_5  Machine  INIT                 2\n",
       "6             12       {}   Buffer_env_6   Buffer  INIT                 3\n",
       "7              2       {}  Machine_env_7  Machine  INIT                 3"
      ]
     },
     "execution_count": 497,
     "metadata": {},
     "output_type": "execute_result"
    }
   ],
   "source": [
    "infstruct_mgr.res_db"
   ]
  },
  {
   "cell_type": "code",
   "execution_count": 498,
   "metadata": {},
   "outputs": [
    {
     "name": "stdout",
     "output_type": "stream",
     "text": [
      "INFO:sim_env.env:Integrity check for Environment base successful.\n"
     ]
    }
   ],
   "source": [
    "env.check_integrity()"
   ]
  },
  {
   "cell_type": "code",
   "execution_count": 499,
   "metadata": {},
   "outputs": [
    {
     "name": "stdout",
     "output_type": "stream",
     "text": [
      "Prio Rules: {'SST', 'SPT', 'PRIO', 'LPT', 'FIFO', 'LST', 'LIFO'}\n",
      "Alloc Rules: {'UTILISATION', 'RANDOM', 'WIP_LOAD_TIME', 'WIP_LOAD_JOBS', 'AGENT'}\n"
     ]
    }
   ],
   "source": [
    "print('Prio Rules:', dispatcher.possible_prio_rules())\n",
    "print('Alloc Rules:', dispatcher.possible_alloc_rules())"
   ]
  },
  {
   "cell_type": "code",
   "execution_count": 500,
   "metadata": {},
   "outputs": [
    {
     "name": "stdout",
     "output_type": "stream",
     "text": [
      "INFO:sim_env.dispatcher:Changed priority rule to LPT\n",
      "INFO:sim_env.dispatcher:Changed allocation rule to WIP_LOAD_TIME\n"
     ]
    }
   ],
   "source": [
    "dispatcher.curr_prio_rule = 'LPT'\n",
    "dispatcher.curr_alloc_rule = 'WIP_LOAD_TIME'\n",
    "#dispatcher.curr_alloc_rule = 'AGENT'"
   ]
  },
  {
   "cell_type": "code",
   "execution_count": 501,
   "metadata": {},
   "outputs": [
    {
     "data": {
      "text/plain": [
       "(System (type: Resource, custom_id: 0, name: Machine_env_3),\n",
       " System (type: Resource, custom_id: 1, name: Machine_env_5),\n",
       " System (type: Resource, custom_id: 2, name: Machine_env_7))"
      ]
     },
     "execution_count": 501,
     "metadata": {},
     "output_type": "execute_result"
    }
   ],
   "source": [
    "agent.assoc_infstrct_objs"
   ]
  },
  {
   "cell_type": "markdown",
   "metadata": {},
   "source": [
    "**Sequential run**"
   ]
  },
  {
   "cell_type": "code",
   "execution_count": 502,
   "metadata": {},
   "outputs": [
    {
     "data": {
      "text/plain": [
       "False"
      ]
     },
     "execution_count": 502,
     "metadata": {},
     "output_type": "execute_result"
    }
   ],
   "source": [
    "agent.dispatching_signal"
   ]
  },
  {
   "cell_type": "code",
   "execution_count": 511,
   "metadata": {},
   "outputs": [
    {
     "name": "stdout",
     "output_type": "stream",
     "text": [
      "--------------- DEBUG: call after hold(0) at 14400.0\n",
      "DEBUG:sim_env.dispatcher:[DISPATCHER: Dispatcher(env: base)] Next operation Operation(ProcTime: 7:00:00, ExecutionSystemID: 1, SGI: 1)\n",
      "DEBUG:sim_env.dispatcher:('[DISPATCHER: Dispatcher(env: base)] Available stations at 14400.0 ', 'are (System (type: Resource, custom_id: 0, name: Machine_env_3), System (type: Resource, custom_id: 1, name: Machine_env_5), System (type: Resource, custom_id: 2, name: Machine_env_7))')\n",
      "DEBUG:sim_env.agents:Action feasibility status: True\n",
      "DEBUG:sim_env.dispatcher:[DISPATCHER: Dispatcher(env: base)] Next operation is Operation(ProcTime: 7:00:00, ExecutionSystemID: 1, SGI: 1) with machine group (machine) System (type: Resource, custom_id: 0, name: Machine_env_3)\n",
      "INFO:sim_env.dispatcher:Successfully registered job with JobID 3 and name J_gen_3\n",
      "INFO:sim_env.dispatcher:Successfully registered operation with OpID 3 and name O_gen_3\n",
      "DEBUG:agents.agents:Dispatching signal for >>Agent(type=ALLOC, Assoc_Syst_ID=2)<< was set to >>True<<.\n",
      "DEBUG:agents.agents:[REQUEST Agent Agent(type=ALLOC, Assoc_Syst_ID=2)]: built FeatVec.\n",
      "DEBUG:sim_env.dispatcher:[DISPATCHER: Dispatcher(env: base)] Alloc Agent found. Decision request made.\n",
      "--------------- DEBUG: call before hold(0) at 21600.0\n",
      "Dispatching Signal True\n",
      "DEBUG:agents.agents:Dispatching signal for >>Agent(type=ALLOC, Assoc_Syst_ID=2)<< was set to >>False<<.\n",
      "DEBUG:agents.agents:[DECISION SET Agent Agent(type=ALLOC, Assoc_Syst_ID=2)]: Set self._action=2\n"
     ]
    }
   ],
   "source": [
    "## second block in step function\n",
    "## execute with provided action till next decision should be made\n",
    "while not agent.dispatching_signal:\n",
    "    #if env.sim_ended:\n",
    "        #break\n",
    "    # empty event list, simulation run ended\n",
    "    if not env._event_list:\n",
    "        break\n",
    "    env.step()\n",
    "    #print(f'Env Trans State: {env.is_transient_cond}')\n",
    "\n",
    "\n",
    "## third block\n",
    "## calculate reward before next decision is made\n",
    "\n",
    "\n",
    " \n",
    "## first block in step function\n",
    "## action is provided as parameter\n",
    "## set action\n",
    "# if still events left, get/set action\n",
    "#if env._event_list and not env.is_transient_cond:\n",
    "if env._event_list:\n",
    "    print('Dispatching Signal', agent.dispatching_signal)\n",
    "    action = agent.random_action()\n",
    "    agent.set_decision(action=action)\n",
    "else:\n",
    "    print('Run ended!')"
   ]
  },
  {
   "cell_type": "markdown",
   "metadata": {},
   "source": [
    "**Customised Salabim:**\n",
    "- added ``self.end_on_empty_eventlist`` as this attribute was not available, but used internally in Salabim\n",
    "- ~~added ``sim_ended`` to indicate if run was finished or~~ use ``_event_list``\n",
    "\n",
    "**Needed Features:**\n",
    "- condition monitor to set flags"
   ]
  },
  {
   "cell_type": "code",
   "execution_count": null,
   "metadata": {},
   "outputs": [],
   "source": []
  },
  {
   "cell_type": "code",
   "execution_count": 394,
   "metadata": {},
   "outputs": [],
   "source": [
    "s1 = 2\n",
    "s2 = 3"
   ]
  },
  {
   "cell_type": "code",
   "execution_count": 395,
   "metadata": {},
   "outputs": [],
   "source": [
    "tup = (s1, s2)"
   ]
  },
  {
   "cell_type": "code",
   "execution_count": 396,
   "metadata": {},
   "outputs": [
    {
     "data": {
      "text/plain": [
       "True"
      ]
     },
     "execution_count": 396,
     "metadata": {},
     "output_type": "execute_result"
    }
   ],
   "source": [
    "all(tup)"
   ]
  },
  {
   "cell_type": "code",
   "execution_count": null,
   "metadata": {},
   "outputs": [],
   "source": []
  },
  {
   "cell_type": "code",
   "execution_count": null,
   "metadata": {},
   "outputs": [],
   "source": []
  },
  {
   "cell_type": "code",
   "execution_count": null,
   "metadata": {},
   "outputs": [],
   "source": []
  },
  {
   "cell_type": "markdown",
   "metadata": {},
   "source": [
    "**Complete run**"
   ]
  },
  {
   "cell_type": "code",
   "execution_count": 486,
   "metadata": {},
   "outputs": [
    {
     "name": "stdout",
     "output_type": "stream",
     "text": [
      "INFO:sim_env.env:Successfully registered Infrastructure Manager in Env >>base<<\n",
      "INFO:sim_env.env:Successfully registered Dispatcher in Env >>base<<\n",
      "INFO:sim_env.infstrct:Successfully registered object with SystemID 0 and name ProductionArea_env_0\n",
      "INFO:sim_env.infstrct:Successfully registered object with SystemID 0 and name StationGroup_env_0\n",
      "INFO:sim_env.infstrct:Successfully added System (type: StationGroup, custom_id: 1000, name: StationGroup_env_0) to System (type: ProductionArea, custom_id: 1000, name: ProductionArea_env_0).\n",
      "INFO:sim_env.infstrct:Successfully registered object with SystemID 0 and name Source_env_0\n",
      "INFO:sim_env.infstrct:Successfully added System (type: Resource, custom_id: source, name: Source_env_0) to System (type: StationGroup, custom_id: 1000, name: StationGroup_env_0).\n",
      "INFO:sim_env.infstrct:Successfully registered object with SystemID 1 and name ProductionArea_env_1\n",
      "INFO:sim_env.infstrct:Successfully registered object with SystemID 1 and name StationGroup_env_1\n",
      "INFO:sim_env.infstrct:Successfully added System (type: StationGroup, custom_id: 2000, name: StationGroup_env_1) to System (type: ProductionArea, custom_id: 2000, name: ProductionArea_env_1).\n",
      "INFO:sim_env.infstrct:Successfully registered object with SystemID 1 and name Sink_env_1\n",
      "INFO:sim_env.infstrct:Successfully added System (type: Resource, custom_id: sink, name: Sink_env_1) to System (type: StationGroup, custom_id: 2000, name: StationGroup_env_1).\n",
      "INFO:sim_env.infstrct:Successfully registered object with SystemID 2 and name ProductionArea_env_2\n",
      "INFO:sim_env.infstrct:Successfully registered object with SystemID 2 and name StationGroup_env_2\n",
      "INFO:sim_env.infstrct:Successfully added System (type: StationGroup, custom_id: 1, name: StationGroup_env_2) to System (type: ProductionArea, custom_id: 1, name: ProductionArea_env_2).\n",
      "INFO:sim_env.infstrct:Successfully registered object with SystemID 3 and name StationGroup_env_3\n",
      "INFO:sim_env.infstrct:Successfully added System (type: StationGroup, custom_id: 2, name: StationGroup_env_3) to System (type: ProductionArea, custom_id: 1, name: ProductionArea_env_2).\n",
      "INFO:sim_env.infstrct:Successfully registered object with SystemID 2 and name Buffer_env_2\n",
      "INFO:sim_env.infstrct:Successfully registered object with SystemID 3 and name Machine_env_3\n",
      "INFO:sim_env.infstrct:Successfully added System (type: Resource, custom_id: 10, name: Buffer_env_2) to System (type: StationGroup, custom_id: 1, name: StationGroup_env_2).\n",
      "INFO:sim_env.infstrct:Successfully added System (type: Resource, custom_id: 0, name: Machine_env_3) to System (type: StationGroup, custom_id: 1, name: StationGroup_env_2).\n",
      "INFO:sim_env.infstrct:Successfully registered object with SystemID 4 and name Buffer_env_4\n",
      "INFO:sim_env.infstrct:Successfully registered object with SystemID 5 and name Machine_env_5\n",
      "INFO:sim_env.infstrct:Successfully added System (type: Resource, custom_id: 11, name: Buffer_env_4) to System (type: StationGroup, custom_id: 1, name: StationGroup_env_2).\n",
      "INFO:sim_env.infstrct:Successfully added System (type: Resource, custom_id: 1, name: Machine_env_5) to System (type: StationGroup, custom_id: 1, name: StationGroup_env_2).\n",
      "INFO:sim_env.infstrct:Successfully registered object with SystemID 6 and name Buffer_env_6\n",
      "INFO:sim_env.infstrct:Successfully registered object with SystemID 7 and name Machine_env_7\n",
      "INFO:sim_env.infstrct:Successfully added System (type: Resource, custom_id: 12, name: Buffer_env_6) to System (type: StationGroup, custom_id: 2, name: StationGroup_env_3).\n",
      "INFO:sim_env.infstrct:Successfully added System (type: Resource, custom_id: 2, name: Machine_env_7) to System (type: StationGroup, custom_id: 2, name: StationGroup_env_3).\n",
      "INFO:sim_env.env:Successfully registered Allocation Agent in System (type: ProductionArea, custom_id: 1, name: ProductionArea_env_2)\n"
     ]
    }
   ],
   "source": [
    "(env, infstruct_mgr, dispatcher, agent) = build_sim_env()"
   ]
  },
  {
   "cell_type": "code",
   "execution_count": 487,
   "metadata": {},
   "outputs": [
    {
     "name": "stdout",
     "output_type": "stream",
     "text": [
      "INFO:sim_env.dispatcher:Successfully registered job with JobID 0 and name J_gen_0\n",
      "INFO:sim_env.dispatcher:Successfully registered operation with OpID 0 and name O_gen_0\n",
      "--------------- DEBUG: call before hold(0) at 0.0\n",
      "--------------- DEBUG: call after hold(0) at 0.0\n",
      "DEBUG:sim_env.dispatcher:[DISPATCHER: Dispatcher(env: base)] Next operation Operation(ProcTime: 6:00:00, ExecutionSystemID: 1, SGI: 1)\n",
      "DEBUG:sim_env.dispatcher:('[DISPATCHER: Dispatcher(env: base)] Available stations at 0.0 ', 'are [System (type: Resource, custom_id: 0, name: Machine_env_3), System (type: Resource, custom_id: 1, name: Machine_env_5)]')\n",
      "DEBUG:sim_env.dispatcher:[DISPATCHER: Dispatcher(env: base)] Next operation is Operation(ProcTime: 6:00:00, ExecutionSystemID: 1, SGI: 1) with machine group (machine) System (type: Resource, custom_id: 0, name: Machine_env_3)\n",
      "INFO:sim_env.dispatcher:[DISPATCHER: Dispatcher(env: base)] REQUEST TO DISPATCHER FOR SEQUENCING\n",
      "INFO:sim_env.conditions:[CONDITION TransientCondition]: Transient Condition over. Set >>is_transient_cond<< of env to >>False<<\n",
      "INFO:sim_env.dispatcher:Successfully registered job with JobID 1 and name J_gen_1\n",
      "INFO:sim_env.dispatcher:Successfully registered operation with OpID 1 and name O_gen_1\n",
      "--------------- DEBUG: call before hold(0) at 7200.0\n",
      "--------------- DEBUG: call after hold(0) at 7200.0\n",
      "DEBUG:sim_env.dispatcher:[DISPATCHER: Dispatcher(env: base)] Next operation Operation(ProcTime: 9:00:00, ExecutionSystemID: 1, SGI: 2)\n",
      "DEBUG:sim_env.dispatcher:('[DISPATCHER: Dispatcher(env: base)] Available stations at 7200.0 ', 'are [System (type: Resource, custom_id: 2, name: Machine_env_7)]')\n",
      "DEBUG:sim_env.dispatcher:[DISPATCHER: Dispatcher(env: base)] Next operation is Operation(ProcTime: 9:00:00, ExecutionSystemID: 1, SGI: 2) with machine group (machine) System (type: Resource, custom_id: 2, name: Machine_env_7)\n",
      "INFO:sim_env.dispatcher:[DISPATCHER: Dispatcher(env: base)] REQUEST TO DISPATCHER FOR SEQUENCING\n",
      "INFO:sim_env.dispatcher:Successfully registered job with JobID 2 and name J_gen_2\n",
      "INFO:sim_env.dispatcher:Successfully registered operation with OpID 2 and name O_gen_2\n",
      "--------------- DEBUG: call before hold(0) at 14400.0\n",
      "--------------- DEBUG: call after hold(0) at 14400.0\n",
      "DEBUG:sim_env.dispatcher:[DISPATCHER: Dispatcher(env: base)] Next operation Operation(ProcTime: 7:00:00, ExecutionSystemID: 1, SGI: 1)\n",
      "DEBUG:sim_env.dispatcher:('[DISPATCHER: Dispatcher(env: base)] Available stations at 14400.0 ', 'are [System (type: Resource, custom_id: 1, name: Machine_env_5)]')\n",
      "DEBUG:sim_env.dispatcher:[DISPATCHER: Dispatcher(env: base)] Next operation is Operation(ProcTime: 7:00:00, ExecutionSystemID: 1, SGI: 1) with machine group (machine) System (type: Resource, custom_id: 1, name: Machine_env_5)\n",
      "INFO:sim_env.dispatcher:[DISPATCHER: Dispatcher(env: base)] REQUEST TO DISPATCHER FOR SEQUENCING\n",
      "INFO:sim_env.dispatcher:Successfully registered job with JobID 3 and name J_gen_3\n",
      "INFO:sim_env.dispatcher:Successfully registered operation with OpID 3 and name O_gen_3\n",
      "--------------- DEBUG: call before hold(0) at 21600.0\n",
      "--------------- DEBUG: call after hold(0) at 21600.0\n",
      "DEBUG:sim_env.dispatcher:[DISPATCHER: Dispatcher(env: base)] Next operation Operation(ProcTime: 5:00:00, ExecutionSystemID: 1, SGI: 1)\n",
      "DEBUG:sim_env.dispatcher:('[DISPATCHER: Dispatcher(env: base)] Available stations at 21600.0 ', 'are (System (type: Resource, custom_id: 0, name: Machine_env_3), System (type: Resource, custom_id: 1, name: Machine_env_5))')\n",
      "DEBUG:sim_env.dispatcher:[DISPATCHER: Dispatcher(env: base)] Next operation is Operation(ProcTime: 5:00:00, ExecutionSystemID: 1, SGI: 1) with machine group (machine) System (type: Resource, custom_id: 0, name: Machine_env_3)\n",
      "DEBUG:sim_env.dispatcher:Update databases for OP Operation(ProcTime: 6:00:00, ExecutionSystemID: 1, SGI: 1) ID 0 with [(datetime.datetime(2024, 3, 22, 15, 13, 58, tzinfo=datetime.timezone.utc), datetime.timedelta(seconds=25200))]\n",
      "--------------- DEBUG: call before hold(0) at 25200.0\n",
      "--------------- DEBUG: call after hold(0) at 25200.0\n",
      "DEBUG:sim_env.dispatcher:[DISPATCHER: Dispatcher(env: base)] Next operation is None with machine group (machine) System (type: Resource, custom_id: sink, name: Sink_env_1)\n",
      "INFO:sim_env.dispatcher:[DISPATCHER: Dispatcher(env: base)] REQUEST TO DISPATCHER FOR SEQUENCING\n",
      "DEBUG:sim_env.dispatcher:Update databases for OP Operation(ProcTime: 5:00:00, ExecutionSystemID: 1, SGI: 1) ID 3 with [(datetime.datetime(2024, 3, 22, 22, 13, 58, tzinfo=datetime.timezone.utc), datetime.timedelta(seconds=28800))]\n",
      "--------------- DEBUG: call before hold(0) at 50400.0\n",
      "--------------- DEBUG: call after hold(0) at 50400.0\n",
      "DEBUG:sim_env.dispatcher:[DISPATCHER: Dispatcher(env: base)] Next operation is None with machine group (machine) System (type: Resource, custom_id: sink, name: Sink_env_1)\n",
      "DEBUG:sim_env.dispatcher:Update databases for OP Operation(ProcTime: 9:00:00, ExecutionSystemID: 1, SGI: 2) ID 1 with [(datetime.datetime(2024, 3, 23, 2, 13, 58, tzinfo=datetime.timezone.utc), datetime.timedelta(seconds=57600))]\n",
      "--------------- DEBUG: call before hold(0) at 64800.0\n",
      "--------------- DEBUG: call after hold(0) at 64800.0\n",
      "DEBUG:sim_env.dispatcher:[DISPATCHER: Dispatcher(env: base)] Next operation is None with machine group (machine) System (type: Resource, custom_id: sink, name: Sink_env_1)\n",
      "DEBUG:sim_env.dispatcher:Update databases for OP Operation(ProcTime: 7:00:00, ExecutionSystemID: 1, SGI: 1) ID 2 with [(datetime.datetime(2024, 3, 23, 3, 13, 58, tzinfo=datetime.timezone.utc), datetime.timedelta(seconds=54000))]\n",
      "--------------- DEBUG: call before hold(0) at 68400.0\n",
      "--------------- DEBUG: call after hold(0) at 68400.0\n",
      "DEBUG:sim_env.dispatcher:[DISPATCHER: Dispatcher(env: base)] Next operation is None with machine group (machine) System (type: Resource, custom_id: sink, name: Sink_env_1)\n",
      "INFO:sim_env.conditions:[CONDITION JobGenDurationCondition]: Job Generation Condition met at 2024-03-24 08:13:58+00:00\n"
     ]
    }
   ],
   "source": [
    "env.run()"
   ]
  },
  {
   "cell_type": "code",
   "execution_count": 488,
   "metadata": {},
   "outputs": [
    {
     "name": "stdout",
     "output_type": "stream",
     "text": [
      "INFO:sim_env.infstrct:Successful finalisation of the state information for all resource objects.\n"
     ]
    }
   ],
   "source": [
    "env.finalise()"
   ]
  },
  {
   "cell_type": "code",
   "execution_count": 489,
   "metadata": {},
   "outputs": [
    {
     "data": {
      "text/html": [
       "<div>\n",
       "<style scoped>\n",
       "    .dataframe tbody tr th:only-of-type {\n",
       "        vertical-align: middle;\n",
       "    }\n",
       "\n",
       "    .dataframe tbody tr th {\n",
       "        vertical-align: top;\n",
       "    }\n",
       "\n",
       "    .dataframe thead th {\n",
       "        text-align: right;\n",
       "    }\n",
       "</style>\n",
       "<table border=\"1\" class=\"dataframe\">\n",
       "  <thead>\n",
       "    <tr style=\"text-align: right;\">\n",
       "      <th></th>\n",
       "      <th>job_id</th>\n",
       "      <th>job_name</th>\n",
       "      <th>custom_id</th>\n",
       "      <th>op</th>\n",
       "      <th>name</th>\n",
       "      <th>prio</th>\n",
       "      <th>execution_system</th>\n",
       "      <th>execution_system_custom_id</th>\n",
       "      <th>execution_system_name</th>\n",
       "      <th>execution_system_type</th>\n",
       "      <th>...</th>\n",
       "      <th>creation_date</th>\n",
       "      <th>release_date</th>\n",
       "      <th>planned_starting_date</th>\n",
       "      <th>actual_starting_date</th>\n",
       "      <th>starting_date_deviation</th>\n",
       "      <th>planned_ending_date</th>\n",
       "      <th>actual_ending_date</th>\n",
       "      <th>ending_date_deviation</th>\n",
       "      <th>lead_time</th>\n",
       "      <th>state</th>\n",
       "    </tr>\n",
       "    <tr>\n",
       "      <th>op_id</th>\n",
       "      <th></th>\n",
       "      <th></th>\n",
       "      <th></th>\n",
       "      <th></th>\n",
       "      <th></th>\n",
       "      <th></th>\n",
       "      <th></th>\n",
       "      <th></th>\n",
       "      <th></th>\n",
       "      <th></th>\n",
       "      <th></th>\n",
       "      <th></th>\n",
       "      <th></th>\n",
       "      <th></th>\n",
       "      <th></th>\n",
       "      <th></th>\n",
       "      <th></th>\n",
       "      <th></th>\n",
       "      <th></th>\n",
       "      <th></th>\n",
       "      <th></th>\n",
       "    </tr>\n",
       "  </thead>\n",
       "  <tbody>\n",
       "    <tr>\n",
       "      <th>0</th>\n",
       "      <td>0</td>\n",
       "      <td>J_gen_0</td>\n",
       "      <td>None</td>\n",
       "      <td>Operation(ProcTime: 6:00:00, ExecutionSystemID...</td>\n",
       "      <td>O_gen_0</td>\n",
       "      <td>None</td>\n",
       "      <td>{2: {2: {}, 3: {}, 4: {}, 5: {}}, 3: {6: {}, 7...</td>\n",
       "      <td>1</td>\n",
       "      <td>&lt;bound method System.name of System (type: Pro...</td>\n",
       "      <td>ProductionArea</td>\n",
       "      <td>...</td>\n",
       "      <td>2024-03-22 08:13:58+00:00</td>\n",
       "      <td>2024-03-22 08:13:58+00:00</td>\n",
       "      <td>None</td>\n",
       "      <td>2024-03-22 08:13:58+00:00</td>\n",
       "      <td>None</td>\n",
       "      <td>None</td>\n",
       "      <td>2024-03-22 15:13:58+00:00</td>\n",
       "      <td>None</td>\n",
       "      <td>7:00:00</td>\n",
       "      <td>FINISH</td>\n",
       "    </tr>\n",
       "    <tr>\n",
       "      <th>1</th>\n",
       "      <td>1</td>\n",
       "      <td>J_gen_1</td>\n",
       "      <td>None</td>\n",
       "      <td>Operation(ProcTime: 9:00:00, ExecutionSystemID...</td>\n",
       "      <td>O_gen_1</td>\n",
       "      <td>None</td>\n",
       "      <td>{2: {2: {}, 3: {}, 4: {}, 5: {}}, 3: {6: {}, 7...</td>\n",
       "      <td>1</td>\n",
       "      <td>&lt;bound method System.name of System (type: Pro...</td>\n",
       "      <td>ProductionArea</td>\n",
       "      <td>...</td>\n",
       "      <td>2024-03-22 10:13:58+00:00</td>\n",
       "      <td>2024-03-22 10:13:58+00:00</td>\n",
       "      <td>None</td>\n",
       "      <td>2024-03-22 10:13:58+00:00</td>\n",
       "      <td>None</td>\n",
       "      <td>None</td>\n",
       "      <td>2024-03-23 02:13:58+00:00</td>\n",
       "      <td>None</td>\n",
       "      <td>16:00:00</td>\n",
       "      <td>FINISH</td>\n",
       "    </tr>\n",
       "    <tr>\n",
       "      <th>2</th>\n",
       "      <td>2</td>\n",
       "      <td>J_gen_2</td>\n",
       "      <td>None</td>\n",
       "      <td>Operation(ProcTime: 7:00:00, ExecutionSystemID...</td>\n",
       "      <td>O_gen_2</td>\n",
       "      <td>None</td>\n",
       "      <td>{2: {2: {}, 3: {}, 4: {}, 5: {}}, 3: {6: {}, 7...</td>\n",
       "      <td>1</td>\n",
       "      <td>&lt;bound method System.name of System (type: Pro...</td>\n",
       "      <td>ProductionArea</td>\n",
       "      <td>...</td>\n",
       "      <td>2024-03-22 12:13:58+00:00</td>\n",
       "      <td>2024-03-22 12:13:58+00:00</td>\n",
       "      <td>None</td>\n",
       "      <td>2024-03-22 12:13:58+00:00</td>\n",
       "      <td>None</td>\n",
       "      <td>None</td>\n",
       "      <td>2024-03-23 03:13:58+00:00</td>\n",
       "      <td>None</td>\n",
       "      <td>15:00:00</td>\n",
       "      <td>FINISH</td>\n",
       "    </tr>\n",
       "    <tr>\n",
       "      <th>3</th>\n",
       "      <td>3</td>\n",
       "      <td>J_gen_3</td>\n",
       "      <td>None</td>\n",
       "      <td>Operation(ProcTime: 5:00:00, ExecutionSystemID...</td>\n",
       "      <td>O_gen_3</td>\n",
       "      <td>None</td>\n",
       "      <td>{2: {2: {}, 3: {}, 4: {}, 5: {}}, 3: {6: {}, 7...</td>\n",
       "      <td>1</td>\n",
       "      <td>&lt;bound method System.name of System (type: Pro...</td>\n",
       "      <td>ProductionArea</td>\n",
       "      <td>...</td>\n",
       "      <td>2024-03-22 14:13:58+00:00</td>\n",
       "      <td>2024-03-22 14:13:58+00:00</td>\n",
       "      <td>None</td>\n",
       "      <td>2024-03-22 15:13:58+00:00</td>\n",
       "      <td>None</td>\n",
       "      <td>None</td>\n",
       "      <td>2024-03-22 22:13:58+00:00</td>\n",
       "      <td>None</td>\n",
       "      <td>8:00:00</td>\n",
       "      <td>FINISH</td>\n",
       "    </tr>\n",
       "  </tbody>\n",
       "</table>\n",
       "<p>4 rows × 25 columns</p>\n",
       "</div>"
      ],
      "text/plain": [
       "       job_id job_name custom_id   \n",
       "op_id                              \n",
       "0           0  J_gen_0      None  \\\n",
       "1           1  J_gen_1      None   \n",
       "2           2  J_gen_2      None   \n",
       "3           3  J_gen_3      None   \n",
       "\n",
       "                                                      op     name  prio   \n",
       "op_id                                                                     \n",
       "0      Operation(ProcTime: 6:00:00, ExecutionSystemID...  O_gen_0  None  \\\n",
       "1      Operation(ProcTime: 9:00:00, ExecutionSystemID...  O_gen_1  None   \n",
       "2      Operation(ProcTime: 7:00:00, ExecutionSystemID...  O_gen_2  None   \n",
       "3      Operation(ProcTime: 5:00:00, ExecutionSystemID...  O_gen_3  None   \n",
       "\n",
       "                                        execution_system   \n",
       "op_id                                                      \n",
       "0      {2: {2: {}, 3: {}, 4: {}, 5: {}}, 3: {6: {}, 7...  \\\n",
       "1      {2: {2: {}, 3: {}, 4: {}, 5: {}}, 3: {6: {}, 7...   \n",
       "2      {2: {2: {}, 3: {}, 4: {}, 5: {}}, 3: {6: {}, 7...   \n",
       "3      {2: {2: {}, 3: {}, 4: {}, 5: {}}, 3: {6: {}, 7...   \n",
       "\n",
       "      execution_system_custom_id   \n",
       "op_id                              \n",
       "0                              1  \\\n",
       "1                              1   \n",
       "2                              1   \n",
       "3                              1   \n",
       "\n",
       "                                   execution_system_name   \n",
       "op_id                                                      \n",
       "0      <bound method System.name of System (type: Pro...  \\\n",
       "1      <bound method System.name of System (type: Pro...   \n",
       "2      <bound method System.name of System (type: Pro...   \n",
       "3      <bound method System.name of System (type: Pro...   \n",
       "\n",
       "      execution_system_type  ...              creation_date   \n",
       "op_id                        ...                              \n",
       "0            ProductionArea  ...  2024-03-22 08:13:58+00:00  \\\n",
       "1            ProductionArea  ...  2024-03-22 10:13:58+00:00   \n",
       "2            ProductionArea  ...  2024-03-22 12:13:58+00:00   \n",
       "3            ProductionArea  ...  2024-03-22 14:13:58+00:00   \n",
       "\n",
       "                    release_date planned_starting_date   \n",
       "op_id                                                    \n",
       "0      2024-03-22 08:13:58+00:00                  None  \\\n",
       "1      2024-03-22 10:13:58+00:00                  None   \n",
       "2      2024-03-22 12:13:58+00:00                  None   \n",
       "3      2024-03-22 14:13:58+00:00                  None   \n",
       "\n",
       "            actual_starting_date starting_date_deviation planned_ending_date   \n",
       "op_id                                                                          \n",
       "0      2024-03-22 08:13:58+00:00                    None                None  \\\n",
       "1      2024-03-22 10:13:58+00:00                    None                None   \n",
       "2      2024-03-22 12:13:58+00:00                    None                None   \n",
       "3      2024-03-22 15:13:58+00:00                    None                None   \n",
       "\n",
       "              actual_ending_date ending_date_deviation lead_time   state  \n",
       "op_id                                                                     \n",
       "0      2024-03-22 15:13:58+00:00                  None   7:00:00  FINISH  \n",
       "1      2024-03-23 02:13:58+00:00                  None  16:00:00  FINISH  \n",
       "2      2024-03-23 03:13:58+00:00                  None  15:00:00  FINISH  \n",
       "3      2024-03-22 22:13:58+00:00                  None   8:00:00  FINISH  \n",
       "\n",
       "[4 rows x 25 columns]"
      ]
     },
     "execution_count": 489,
     "metadata": {},
     "output_type": "execute_result"
    }
   ],
   "source": [
    "dispatcher.op_db.head()"
   ]
  },
  {
   "cell_type": "code",
   "execution_count": 490,
   "metadata": {},
   "outputs": [
    {
     "data": {
      "text/html": [
       "<div>\n",
       "<style scoped>\n",
       "    .dataframe tbody tr th:only-of-type {\n",
       "        vertical-align: middle;\n",
       "    }\n",
       "\n",
       "    .dataframe tbody tr th {\n",
       "        vertical-align: top;\n",
       "    }\n",
       "\n",
       "    .dataframe thead th {\n",
       "        text-align: right;\n",
       "    }\n",
       "</style>\n",
       "<table border=\"1\" class=\"dataframe\">\n",
       "  <thead>\n",
       "    <tr style=\"text-align: right;\">\n",
       "      <th></th>\n",
       "      <th>custom_id</th>\n",
       "      <th>job</th>\n",
       "      <th>name</th>\n",
       "      <th>job_type</th>\n",
       "      <th>prio</th>\n",
       "      <th>total_proc_time</th>\n",
       "      <th>creation_date</th>\n",
       "      <th>release_date</th>\n",
       "      <th>planned_starting_date</th>\n",
       "      <th>actual_starting_date</th>\n",
       "      <th>starting_date_deviation</th>\n",
       "      <th>planned_ending_date</th>\n",
       "      <th>actual_ending_date</th>\n",
       "      <th>ending_date_deviation</th>\n",
       "      <th>lead_time</th>\n",
       "      <th>state</th>\n",
       "    </tr>\n",
       "    <tr>\n",
       "      <th>job_id</th>\n",
       "      <th></th>\n",
       "      <th></th>\n",
       "      <th></th>\n",
       "      <th></th>\n",
       "      <th></th>\n",
       "      <th></th>\n",
       "      <th></th>\n",
       "      <th></th>\n",
       "      <th></th>\n",
       "      <th></th>\n",
       "      <th></th>\n",
       "      <th></th>\n",
       "      <th></th>\n",
       "      <th></th>\n",
       "      <th></th>\n",
       "      <th></th>\n",
       "    </tr>\n",
       "  </thead>\n",
       "  <tbody>\n",
       "    <tr>\n",
       "      <th>0</th>\n",
       "      <td>None</td>\n",
       "      <td>Job (J_gen_0)</td>\n",
       "      <td>J_gen_0</td>\n",
       "      <td>Job</td>\n",
       "      <td>1</td>\n",
       "      <td>0 days 06:00:00</td>\n",
       "      <td>2024-03-22 08:13:58+00:00</td>\n",
       "      <td>2024-03-22 08:13:58+00:00</td>\n",
       "      <td>2023-11-20 06:00:00+00:00</td>\n",
       "      <td>2024-03-22 08:13:58+00:00</td>\n",
       "      <td>123 days, 2:13:58</td>\n",
       "      <td>2023-12-01 10:00:00+00:00</td>\n",
       "      <td>2024-03-22 15:13:58+00:00</td>\n",
       "      <td>112 days, 5:13:58</td>\n",
       "      <td>7:00:00</td>\n",
       "      <td>FINISH</td>\n",
       "    </tr>\n",
       "    <tr>\n",
       "      <th>1</th>\n",
       "      <td>None</td>\n",
       "      <td>Job (J_gen_1)</td>\n",
       "      <td>J_gen_1</td>\n",
       "      <td>Job</td>\n",
       "      <td>8</td>\n",
       "      <td>0 days 09:00:00</td>\n",
       "      <td>2024-03-22 10:13:58+00:00</td>\n",
       "      <td>2024-03-22 10:13:58+00:00</td>\n",
       "      <td>2023-11-20 06:00:00+00:00</td>\n",
       "      <td>2024-03-22 10:13:58+00:00</td>\n",
       "      <td>123 days, 4:13:58</td>\n",
       "      <td>2023-12-01 10:00:00+00:00</td>\n",
       "      <td>2024-03-23 02:13:58+00:00</td>\n",
       "      <td>112 days, 16:13:58</td>\n",
       "      <td>16:00:00</td>\n",
       "      <td>FINISH</td>\n",
       "    </tr>\n",
       "    <tr>\n",
       "      <th>2</th>\n",
       "      <td>None</td>\n",
       "      <td>Job (J_gen_2)</td>\n",
       "      <td>J_gen_2</td>\n",
       "      <td>Job</td>\n",
       "      <td>5</td>\n",
       "      <td>0 days 07:00:00</td>\n",
       "      <td>2024-03-22 12:13:58+00:00</td>\n",
       "      <td>2024-03-22 12:13:58+00:00</td>\n",
       "      <td>2023-11-20 06:00:00+00:00</td>\n",
       "      <td>2024-03-22 12:13:58+00:00</td>\n",
       "      <td>123 days, 6:13:58</td>\n",
       "      <td>2023-12-01 10:00:00+00:00</td>\n",
       "      <td>2024-03-23 03:13:58+00:00</td>\n",
       "      <td>112 days, 17:13:58</td>\n",
       "      <td>15:00:00</td>\n",
       "      <td>FINISH</td>\n",
       "    </tr>\n",
       "    <tr>\n",
       "      <th>3</th>\n",
       "      <td>None</td>\n",
       "      <td>Job (J_gen_3)</td>\n",
       "      <td>J_gen_3</td>\n",
       "      <td>Job</td>\n",
       "      <td>9</td>\n",
       "      <td>0 days 05:00:00</td>\n",
       "      <td>2024-03-22 14:13:58+00:00</td>\n",
       "      <td>2024-03-22 14:13:58+00:00</td>\n",
       "      <td>2023-11-20 06:00:00+00:00</td>\n",
       "      <td>2024-03-22 15:13:58+00:00</td>\n",
       "      <td>123 days, 9:13:58</td>\n",
       "      <td>2023-12-01 10:00:00+00:00</td>\n",
       "      <td>2024-03-22 22:13:58+00:00</td>\n",
       "      <td>112 days, 12:13:58</td>\n",
       "      <td>8:00:00</td>\n",
       "      <td>FINISH</td>\n",
       "    </tr>\n",
       "  </tbody>\n",
       "</table>\n",
       "</div>"
      ],
      "text/plain": [
       "       custom_id            job     name job_type prio  total_proc_time   \n",
       "job_id                                                                    \n",
       "0           None  Job (J_gen_0)  J_gen_0      Job    1  0 days 06:00:00  \\\n",
       "1           None  Job (J_gen_1)  J_gen_1      Job    8  0 days 09:00:00   \n",
       "2           None  Job (J_gen_2)  J_gen_2      Job    5  0 days 07:00:00   \n",
       "3           None  Job (J_gen_3)  J_gen_3      Job    9  0 days 05:00:00   \n",
       "\n",
       "                    creation_date               release_date   \n",
       "job_id                                                         \n",
       "0       2024-03-22 08:13:58+00:00  2024-03-22 08:13:58+00:00  \\\n",
       "1       2024-03-22 10:13:58+00:00  2024-03-22 10:13:58+00:00   \n",
       "2       2024-03-22 12:13:58+00:00  2024-03-22 12:13:58+00:00   \n",
       "3       2024-03-22 14:13:58+00:00  2024-03-22 14:13:58+00:00   \n",
       "\n",
       "            planned_starting_date       actual_starting_date   \n",
       "job_id                                                         \n",
       "0       2023-11-20 06:00:00+00:00  2024-03-22 08:13:58+00:00  \\\n",
       "1       2023-11-20 06:00:00+00:00  2024-03-22 10:13:58+00:00   \n",
       "2       2023-11-20 06:00:00+00:00  2024-03-22 12:13:58+00:00   \n",
       "3       2023-11-20 06:00:00+00:00  2024-03-22 15:13:58+00:00   \n",
       "\n",
       "       starting_date_deviation        planned_ending_date   \n",
       "job_id                                                      \n",
       "0            123 days, 2:13:58  2023-12-01 10:00:00+00:00  \\\n",
       "1            123 days, 4:13:58  2023-12-01 10:00:00+00:00   \n",
       "2            123 days, 6:13:58  2023-12-01 10:00:00+00:00   \n",
       "3            123 days, 9:13:58  2023-12-01 10:00:00+00:00   \n",
       "\n",
       "               actual_ending_date ending_date_deviation lead_time   state  \n",
       "job_id                                                                     \n",
       "0       2024-03-22 15:13:58+00:00     112 days, 5:13:58   7:00:00  FINISH  \n",
       "1       2024-03-23 02:13:58+00:00    112 days, 16:13:58  16:00:00  FINISH  \n",
       "2       2024-03-23 03:13:58+00:00    112 days, 17:13:58  15:00:00  FINISH  \n",
       "3       2024-03-22 22:13:58+00:00    112 days, 12:13:58   8:00:00  FINISH  "
      ]
     },
     "execution_count": 490,
     "metadata": {},
     "output_type": "execute_result"
    }
   ],
   "source": [
    "dispatcher.job_db"
   ]
  },
  {
   "cell_type": "code",
   "execution_count": 491,
   "metadata": {},
   "outputs": [
    {
     "data": {
      "text/html": [
       "<div>\n",
       "<style scoped>\n",
       "    .dataframe tbody tr th:only-of-type {\n",
       "        vertical-align: middle;\n",
       "    }\n",
       "\n",
       "    .dataframe tbody tr th {\n",
       "        vertical-align: top;\n",
       "    }\n",
       "\n",
       "    .dataframe thead th {\n",
       "        text-align: right;\n",
       "    }\n",
       "</style>\n",
       "<table border=\"1\" class=\"dataframe\">\n",
       "  <thead>\n",
       "    <tr style=\"text-align: right;\">\n",
       "      <th></th>\n",
       "      <th>job_id</th>\n",
       "      <th>job_name</th>\n",
       "      <th>custom_id</th>\n",
       "      <th>op</th>\n",
       "      <th>name</th>\n",
       "      <th>prio</th>\n",
       "      <th>execution_system</th>\n",
       "      <th>execution_system_custom_id</th>\n",
       "      <th>execution_system_name</th>\n",
       "      <th>execution_system_type</th>\n",
       "      <th>...</th>\n",
       "      <th>creation_date</th>\n",
       "      <th>release_date</th>\n",
       "      <th>planned_starting_date</th>\n",
       "      <th>actual_starting_date</th>\n",
       "      <th>starting_date_deviation</th>\n",
       "      <th>planned_ending_date</th>\n",
       "      <th>actual_ending_date</th>\n",
       "      <th>ending_date_deviation</th>\n",
       "      <th>lead_time</th>\n",
       "      <th>state</th>\n",
       "    </tr>\n",
       "    <tr>\n",
       "      <th>op_id</th>\n",
       "      <th></th>\n",
       "      <th></th>\n",
       "      <th></th>\n",
       "      <th></th>\n",
       "      <th></th>\n",
       "      <th></th>\n",
       "      <th></th>\n",
       "      <th></th>\n",
       "      <th></th>\n",
       "      <th></th>\n",
       "      <th></th>\n",
       "      <th></th>\n",
       "      <th></th>\n",
       "      <th></th>\n",
       "      <th></th>\n",
       "      <th></th>\n",
       "      <th></th>\n",
       "      <th></th>\n",
       "      <th></th>\n",
       "      <th></th>\n",
       "      <th></th>\n",
       "    </tr>\n",
       "  </thead>\n",
       "  <tbody>\n",
       "    <tr>\n",
       "      <th>0</th>\n",
       "      <td>0</td>\n",
       "      <td>J_gen_0</td>\n",
       "      <td>None</td>\n",
       "      <td>Operation(ProcTime: 6:00:00, ExecutionSystemID...</td>\n",
       "      <td>O_gen_0</td>\n",
       "      <td>None</td>\n",
       "      <td>{2: {2: {}, 3: {}, 4: {}, 5: {}}, 3: {6: {}, 7...</td>\n",
       "      <td>1</td>\n",
       "      <td>&lt;bound method System.name of System (type: Pro...</td>\n",
       "      <td>ProductionArea</td>\n",
       "      <td>...</td>\n",
       "      <td>2024-03-22 09:13:58+01:00</td>\n",
       "      <td>2024-03-22 09:13:58+01:00</td>\n",
       "      <td>None</td>\n",
       "      <td>2024-03-22 09:13:58+01:00</td>\n",
       "      <td>None</td>\n",
       "      <td>None</td>\n",
       "      <td>2024-03-22 16:13:58+01:00</td>\n",
       "      <td>None</td>\n",
       "      <td>7:00:00</td>\n",
       "      <td>FINISH</td>\n",
       "    </tr>\n",
       "    <tr>\n",
       "      <th>1</th>\n",
       "      <td>1</td>\n",
       "      <td>J_gen_1</td>\n",
       "      <td>None</td>\n",
       "      <td>Operation(ProcTime: 9:00:00, ExecutionSystemID...</td>\n",
       "      <td>O_gen_1</td>\n",
       "      <td>None</td>\n",
       "      <td>{2: {2: {}, 3: {}, 4: {}, 5: {}}, 3: {6: {}, 7...</td>\n",
       "      <td>1</td>\n",
       "      <td>&lt;bound method System.name of System (type: Pro...</td>\n",
       "      <td>ProductionArea</td>\n",
       "      <td>...</td>\n",
       "      <td>2024-03-22 11:13:58+01:00</td>\n",
       "      <td>2024-03-22 11:13:58+01:00</td>\n",
       "      <td>None</td>\n",
       "      <td>2024-03-22 11:13:58+01:00</td>\n",
       "      <td>None</td>\n",
       "      <td>None</td>\n",
       "      <td>2024-03-23 03:13:58+01:00</td>\n",
       "      <td>None</td>\n",
       "      <td>16:00:00</td>\n",
       "      <td>FINISH</td>\n",
       "    </tr>\n",
       "    <tr>\n",
       "      <th>2</th>\n",
       "      <td>2</td>\n",
       "      <td>J_gen_2</td>\n",
       "      <td>None</td>\n",
       "      <td>Operation(ProcTime: 7:00:00, ExecutionSystemID...</td>\n",
       "      <td>O_gen_2</td>\n",
       "      <td>None</td>\n",
       "      <td>{2: {2: {}, 3: {}, 4: {}, 5: {}}, 3: {6: {}, 7...</td>\n",
       "      <td>1</td>\n",
       "      <td>&lt;bound method System.name of System (type: Pro...</td>\n",
       "      <td>ProductionArea</td>\n",
       "      <td>...</td>\n",
       "      <td>2024-03-22 13:13:58+01:00</td>\n",
       "      <td>2024-03-22 13:13:58+01:00</td>\n",
       "      <td>None</td>\n",
       "      <td>2024-03-22 13:13:58+01:00</td>\n",
       "      <td>None</td>\n",
       "      <td>None</td>\n",
       "      <td>2024-03-23 04:13:58+01:00</td>\n",
       "      <td>None</td>\n",
       "      <td>15:00:00</td>\n",
       "      <td>FINISH</td>\n",
       "    </tr>\n",
       "    <tr>\n",
       "      <th>3</th>\n",
       "      <td>3</td>\n",
       "      <td>J_gen_3</td>\n",
       "      <td>None</td>\n",
       "      <td>Operation(ProcTime: 5:00:00, ExecutionSystemID...</td>\n",
       "      <td>O_gen_3</td>\n",
       "      <td>None</td>\n",
       "      <td>{2: {2: {}, 3: {}, 4: {}, 5: {}}, 3: {6: {}, 7...</td>\n",
       "      <td>1</td>\n",
       "      <td>&lt;bound method System.name of System (type: Pro...</td>\n",
       "      <td>ProductionArea</td>\n",
       "      <td>...</td>\n",
       "      <td>2024-03-22 15:13:58+01:00</td>\n",
       "      <td>2024-03-22 15:13:58+01:00</td>\n",
       "      <td>None</td>\n",
       "      <td>2024-03-22 16:13:58+01:00</td>\n",
       "      <td>None</td>\n",
       "      <td>None</td>\n",
       "      <td>2024-03-22 23:13:58+01:00</td>\n",
       "      <td>None</td>\n",
       "      <td>8:00:00</td>\n",
       "      <td>FINISH</td>\n",
       "    </tr>\n",
       "  </tbody>\n",
       "</table>\n",
       "<p>4 rows × 25 columns</p>\n",
       "</div>"
      ],
      "text/plain": [
       "       job_id job_name custom_id   \n",
       "op_id                              \n",
       "0           0  J_gen_0      None  \\\n",
       "1           1  J_gen_1      None   \n",
       "2           2  J_gen_2      None   \n",
       "3           3  J_gen_3      None   \n",
       "\n",
       "                                                      op     name  prio   \n",
       "op_id                                                                     \n",
       "0      Operation(ProcTime: 6:00:00, ExecutionSystemID...  O_gen_0  None  \\\n",
       "1      Operation(ProcTime: 9:00:00, ExecutionSystemID...  O_gen_1  None   \n",
       "2      Operation(ProcTime: 7:00:00, ExecutionSystemID...  O_gen_2  None   \n",
       "3      Operation(ProcTime: 5:00:00, ExecutionSystemID...  O_gen_3  None   \n",
       "\n",
       "                                        execution_system   \n",
       "op_id                                                      \n",
       "0      {2: {2: {}, 3: {}, 4: {}, 5: {}}, 3: {6: {}, 7...  \\\n",
       "1      {2: {2: {}, 3: {}, 4: {}, 5: {}}, 3: {6: {}, 7...   \n",
       "2      {2: {2: {}, 3: {}, 4: {}, 5: {}}, 3: {6: {}, 7...   \n",
       "3      {2: {2: {}, 3: {}, 4: {}, 5: {}}, 3: {6: {}, 7...   \n",
       "\n",
       "      execution_system_custom_id   \n",
       "op_id                              \n",
       "0                              1  \\\n",
       "1                              1   \n",
       "2                              1   \n",
       "3                              1   \n",
       "\n",
       "                                   execution_system_name   \n",
       "op_id                                                      \n",
       "0      <bound method System.name of System (type: Pro...  \\\n",
       "1      <bound method System.name of System (type: Pro...   \n",
       "2      <bound method System.name of System (type: Pro...   \n",
       "3      <bound method System.name of System (type: Pro...   \n",
       "\n",
       "      execution_system_type  ...             creation_date   \n",
       "op_id                        ...                             \n",
       "0            ProductionArea  ... 2024-03-22 09:13:58+01:00  \\\n",
       "1            ProductionArea  ... 2024-03-22 11:13:58+01:00   \n",
       "2            ProductionArea  ... 2024-03-22 13:13:58+01:00   \n",
       "3            ProductionArea  ... 2024-03-22 15:13:58+01:00   \n",
       "\n",
       "                   release_date planned_starting_date   \n",
       "op_id                                                   \n",
       "0     2024-03-22 09:13:58+01:00                  None  \\\n",
       "1     2024-03-22 11:13:58+01:00                  None   \n",
       "2     2024-03-22 13:13:58+01:00                  None   \n",
       "3     2024-03-22 15:13:58+01:00                  None   \n",
       "\n",
       "           actual_starting_date starting_date_deviation planned_ending_date   \n",
       "op_id                                                                         \n",
       "0     2024-03-22 09:13:58+01:00                    None                None  \\\n",
       "1     2024-03-22 11:13:58+01:00                    None                None   \n",
       "2     2024-03-22 13:13:58+01:00                    None                None   \n",
       "3     2024-03-22 16:13:58+01:00                    None                None   \n",
       "\n",
       "             actual_ending_date ending_date_deviation lead_time   state  \n",
       "op_id                                                                    \n",
       "0     2024-03-22 16:13:58+01:00                  None   7:00:00  FINISH  \n",
       "1     2024-03-23 03:13:58+01:00                  None  16:00:00  FINISH  \n",
       "2     2024-03-23 04:13:58+01:00                  None  15:00:00  FINISH  \n",
       "3     2024-03-22 23:13:58+01:00                  None   8:00:00  FINISH  \n",
       "\n",
       "[4 rows x 25 columns]"
      ]
     },
     "execution_count": 491,
     "metadata": {},
     "output_type": "execute_result"
    }
   ],
   "source": [
    "dispatcher._op_db_date_adjusted"
   ]
  },
  {
   "cell_type": "code",
   "execution_count": null,
   "metadata": {},
   "outputs": [],
   "source": []
  },
  {
   "cell_type": "code",
   "execution_count": 492,
   "metadata": {},
   "outputs": [
    {
     "data": {
      "application/vnd.plotly.v1+json": {
       "config": {
        "plotlyServerURL": "https://plot.ly"
       },
       "data": [
        {
         "alignmentgroup": "True",
         "base": [
          "2024-03-22T09:13:58+01:00"
         ],
         "customdata": [
          [
           "J_gen_0",
           1,
           null,
           null,
           null,
           "P0DT6H0M0S",
           "P0DT1H0M0S",
           "P0DT7H0M0S"
          ]
         ],
         "hovertemplate": "<b>%{hovertext}</b><br><br>actual_starting_date=%{base}<br>actual_ending_date=%{x}<br>target_station_custom_id=%{y}<br>execution_system_custom_id=%{customdata[1]}<br>prio=%{customdata[2]}<br>planned_starting_date=%{customdata[3]}<br>planned_ending_date=%{customdata[4]}<br>proc_time=%{customdata[5]}<br>setup_time=%{customdata[6]}<br>order_time=%{customdata[7]}<extra></extra>",
         "hovertext": [
          "J_gen_0"
         ],
         "legendgroup": "J_gen_0",
         "marker": {
          "color": "#636efa",
          "pattern": {
           "shape": ""
          }
         },
         "name": "J_gen_0",
         "offsetgroup": "J_gen_0",
         "orientation": "h",
         "showlegend": true,
         "textposition": "auto",
         "type": "bar",
         "x": [
          25200000
         ],
         "xaxis": "x",
         "y": [
          0
         ],
         "yaxis": "y"
        },
        {
         "alignmentgroup": "True",
         "base": [
          "2024-03-22T11:13:58+01:00"
         ],
         "customdata": [
          [
           "J_gen_1",
           1,
           null,
           null,
           null,
           "P0DT9H0M0S",
           "P0DT7H0M0S",
           "P0DT16H0M0S"
          ]
         ],
         "hovertemplate": "<b>%{hovertext}</b><br><br>actual_starting_date=%{base}<br>actual_ending_date=%{x}<br>target_station_custom_id=%{y}<br>execution_system_custom_id=%{customdata[1]}<br>prio=%{customdata[2]}<br>planned_starting_date=%{customdata[3]}<br>planned_ending_date=%{customdata[4]}<br>proc_time=%{customdata[5]}<br>setup_time=%{customdata[6]}<br>order_time=%{customdata[7]}<extra></extra>",
         "hovertext": [
          "J_gen_1"
         ],
         "legendgroup": "J_gen_1",
         "marker": {
          "color": "#EF553B",
          "pattern": {
           "shape": ""
          }
         },
         "name": "J_gen_1",
         "offsetgroup": "J_gen_1",
         "orientation": "h",
         "showlegend": true,
         "textposition": "auto",
         "type": "bar",
         "x": [
          57600000
         ],
         "xaxis": "x",
         "y": [
          2
         ],
         "yaxis": "y"
        },
        {
         "alignmentgroup": "True",
         "base": [
          "2024-03-22T13:13:58+01:00"
         ],
         "customdata": [
          [
           "J_gen_2",
           1,
           null,
           null,
           null,
           "P0DT7H0M0S",
           "P0DT8H0M0S",
           "P0DT15H0M0S"
          ]
         ],
         "hovertemplate": "<b>%{hovertext}</b><br><br>actual_starting_date=%{base}<br>actual_ending_date=%{x}<br>target_station_custom_id=%{y}<br>execution_system_custom_id=%{customdata[1]}<br>prio=%{customdata[2]}<br>planned_starting_date=%{customdata[3]}<br>planned_ending_date=%{customdata[4]}<br>proc_time=%{customdata[5]}<br>setup_time=%{customdata[6]}<br>order_time=%{customdata[7]}<extra></extra>",
         "hovertext": [
          "J_gen_2"
         ],
         "legendgroup": "J_gen_2",
         "marker": {
          "color": "#00cc96",
          "pattern": {
           "shape": ""
          }
         },
         "name": "J_gen_2",
         "offsetgroup": "J_gen_2",
         "orientation": "h",
         "showlegend": true,
         "textposition": "auto",
         "type": "bar",
         "x": [
          54000000
         ],
         "xaxis": "x",
         "y": [
          1
         ],
         "yaxis": "y"
        },
        {
         "alignmentgroup": "True",
         "base": [
          "2024-03-22T16:13:58+01:00"
         ],
         "customdata": [
          [
           "J_gen_3",
           1,
           null,
           null,
           null,
           "P0DT5H0M0S",
           "P0DT2H0M0S",
           "P0DT7H0M0S"
          ]
         ],
         "hovertemplate": "<b>%{hovertext}</b><br><br>actual_starting_date=%{base}<br>actual_ending_date=%{x}<br>target_station_custom_id=%{y}<br>execution_system_custom_id=%{customdata[1]}<br>prio=%{customdata[2]}<br>planned_starting_date=%{customdata[3]}<br>planned_ending_date=%{customdata[4]}<br>proc_time=%{customdata[5]}<br>setup_time=%{customdata[6]}<br>order_time=%{customdata[7]}<extra></extra>",
         "hovertext": [
          "J_gen_3"
         ],
         "legendgroup": "J_gen_3",
         "marker": {
          "color": "#ab63fa",
          "pattern": {
           "shape": ""
          }
         },
         "name": "J_gen_3",
         "offsetgroup": "J_gen_3",
         "orientation": "h",
         "showlegend": true,
         "textposition": "auto",
         "type": "bar",
         "x": [
          25200000
         ],
         "xaxis": "x",
         "y": [
          0
         ],
         "yaxis": "y"
        }
       ],
       "layout": {
        "autosize": true,
        "barmode": "overlay",
        "legend": {
         "title": {
          "text": "job_name"
         },
         "tracegroupgap": 0
        },
        "margin": {
         "t": 60
        },
        "template": {
         "data": {
          "bar": [
           {
            "error_x": {
             "color": "#2a3f5f"
            },
            "error_y": {
             "color": "#2a3f5f"
            },
            "marker": {
             "line": {
              "color": "#E5ECF6",
              "width": 0.5
             },
             "pattern": {
              "fillmode": "overlay",
              "size": 10,
              "solidity": 0.2
             }
            },
            "type": "bar"
           }
          ],
          "barpolar": [
           {
            "marker": {
             "line": {
              "color": "#E5ECF6",
              "width": 0.5
             },
             "pattern": {
              "fillmode": "overlay",
              "size": 10,
              "solidity": 0.2
             }
            },
            "type": "barpolar"
           }
          ],
          "carpet": [
           {
            "aaxis": {
             "endlinecolor": "#2a3f5f",
             "gridcolor": "white",
             "linecolor": "white",
             "minorgridcolor": "white",
             "startlinecolor": "#2a3f5f"
            },
            "baxis": {
             "endlinecolor": "#2a3f5f",
             "gridcolor": "white",
             "linecolor": "white",
             "minorgridcolor": "white",
             "startlinecolor": "#2a3f5f"
            },
            "type": "carpet"
           }
          ],
          "choropleth": [
           {
            "colorbar": {
             "outlinewidth": 0,
             "ticks": ""
            },
            "type": "choropleth"
           }
          ],
          "contour": [
           {
            "colorbar": {
             "outlinewidth": 0,
             "ticks": ""
            },
            "colorscale": [
             [
              0,
              "#0d0887"
             ],
             [
              0.1111111111111111,
              "#46039f"
             ],
             [
              0.2222222222222222,
              "#7201a8"
             ],
             [
              0.3333333333333333,
              "#9c179e"
             ],
             [
              0.4444444444444444,
              "#bd3786"
             ],
             [
              0.5555555555555556,
              "#d8576b"
             ],
             [
              0.6666666666666666,
              "#ed7953"
             ],
             [
              0.7777777777777778,
              "#fb9f3a"
             ],
             [
              0.8888888888888888,
              "#fdca26"
             ],
             [
              1,
              "#f0f921"
             ]
            ],
            "type": "contour"
           }
          ],
          "contourcarpet": [
           {
            "colorbar": {
             "outlinewidth": 0,
             "ticks": ""
            },
            "type": "contourcarpet"
           }
          ],
          "heatmap": [
           {
            "colorbar": {
             "outlinewidth": 0,
             "ticks": ""
            },
            "colorscale": [
             [
              0,
              "#0d0887"
             ],
             [
              0.1111111111111111,
              "#46039f"
             ],
             [
              0.2222222222222222,
              "#7201a8"
             ],
             [
              0.3333333333333333,
              "#9c179e"
             ],
             [
              0.4444444444444444,
              "#bd3786"
             ],
             [
              0.5555555555555556,
              "#d8576b"
             ],
             [
              0.6666666666666666,
              "#ed7953"
             ],
             [
              0.7777777777777778,
              "#fb9f3a"
             ],
             [
              0.8888888888888888,
              "#fdca26"
             ],
             [
              1,
              "#f0f921"
             ]
            ],
            "type": "heatmap"
           }
          ],
          "heatmapgl": [
           {
            "colorbar": {
             "outlinewidth": 0,
             "ticks": ""
            },
            "colorscale": [
             [
              0,
              "#0d0887"
             ],
             [
              0.1111111111111111,
              "#46039f"
             ],
             [
              0.2222222222222222,
              "#7201a8"
             ],
             [
              0.3333333333333333,
              "#9c179e"
             ],
             [
              0.4444444444444444,
              "#bd3786"
             ],
             [
              0.5555555555555556,
              "#d8576b"
             ],
             [
              0.6666666666666666,
              "#ed7953"
             ],
             [
              0.7777777777777778,
              "#fb9f3a"
             ],
             [
              0.8888888888888888,
              "#fdca26"
             ],
             [
              1,
              "#f0f921"
             ]
            ],
            "type": "heatmapgl"
           }
          ],
          "histogram": [
           {
            "marker": {
             "pattern": {
              "fillmode": "overlay",
              "size": 10,
              "solidity": 0.2
             }
            },
            "type": "histogram"
           }
          ],
          "histogram2d": [
           {
            "colorbar": {
             "outlinewidth": 0,
             "ticks": ""
            },
            "colorscale": [
             [
              0,
              "#0d0887"
             ],
             [
              0.1111111111111111,
              "#46039f"
             ],
             [
              0.2222222222222222,
              "#7201a8"
             ],
             [
              0.3333333333333333,
              "#9c179e"
             ],
             [
              0.4444444444444444,
              "#bd3786"
             ],
             [
              0.5555555555555556,
              "#d8576b"
             ],
             [
              0.6666666666666666,
              "#ed7953"
             ],
             [
              0.7777777777777778,
              "#fb9f3a"
             ],
             [
              0.8888888888888888,
              "#fdca26"
             ],
             [
              1,
              "#f0f921"
             ]
            ],
            "type": "histogram2d"
           }
          ],
          "histogram2dcontour": [
           {
            "colorbar": {
             "outlinewidth": 0,
             "ticks": ""
            },
            "colorscale": [
             [
              0,
              "#0d0887"
             ],
             [
              0.1111111111111111,
              "#46039f"
             ],
             [
              0.2222222222222222,
              "#7201a8"
             ],
             [
              0.3333333333333333,
              "#9c179e"
             ],
             [
              0.4444444444444444,
              "#bd3786"
             ],
             [
              0.5555555555555556,
              "#d8576b"
             ],
             [
              0.6666666666666666,
              "#ed7953"
             ],
             [
              0.7777777777777778,
              "#fb9f3a"
             ],
             [
              0.8888888888888888,
              "#fdca26"
             ],
             [
              1,
              "#f0f921"
             ]
            ],
            "type": "histogram2dcontour"
           }
          ],
          "mesh3d": [
           {
            "colorbar": {
             "outlinewidth": 0,
             "ticks": ""
            },
            "type": "mesh3d"
           }
          ],
          "parcoords": [
           {
            "line": {
             "colorbar": {
              "outlinewidth": 0,
              "ticks": ""
             }
            },
            "type": "parcoords"
           }
          ],
          "pie": [
           {
            "automargin": true,
            "type": "pie"
           }
          ],
          "scatter": [
           {
            "fillpattern": {
             "fillmode": "overlay",
             "size": 10,
             "solidity": 0.2
            },
            "type": "scatter"
           }
          ],
          "scatter3d": [
           {
            "line": {
             "colorbar": {
              "outlinewidth": 0,
              "ticks": ""
             }
            },
            "marker": {
             "colorbar": {
              "outlinewidth": 0,
              "ticks": ""
             }
            },
            "type": "scatter3d"
           }
          ],
          "scattercarpet": [
           {
            "marker": {
             "colorbar": {
              "outlinewidth": 0,
              "ticks": ""
             }
            },
            "type": "scattercarpet"
           }
          ],
          "scattergeo": [
           {
            "marker": {
             "colorbar": {
              "outlinewidth": 0,
              "ticks": ""
             }
            },
            "type": "scattergeo"
           }
          ],
          "scattergl": [
           {
            "marker": {
             "colorbar": {
              "outlinewidth": 0,
              "ticks": ""
             }
            },
            "type": "scattergl"
           }
          ],
          "scattermapbox": [
           {
            "marker": {
             "colorbar": {
              "outlinewidth": 0,
              "ticks": ""
             }
            },
            "type": "scattermapbox"
           }
          ],
          "scatterpolar": [
           {
            "marker": {
             "colorbar": {
              "outlinewidth": 0,
              "ticks": ""
             }
            },
            "type": "scatterpolar"
           }
          ],
          "scatterpolargl": [
           {
            "marker": {
             "colorbar": {
              "outlinewidth": 0,
              "ticks": ""
             }
            },
            "type": "scatterpolargl"
           }
          ],
          "scatterternary": [
           {
            "marker": {
             "colorbar": {
              "outlinewidth": 0,
              "ticks": ""
             }
            },
            "type": "scatterternary"
           }
          ],
          "surface": [
           {
            "colorbar": {
             "outlinewidth": 0,
             "ticks": ""
            },
            "colorscale": [
             [
              0,
              "#0d0887"
             ],
             [
              0.1111111111111111,
              "#46039f"
             ],
             [
              0.2222222222222222,
              "#7201a8"
             ],
             [
              0.3333333333333333,
              "#9c179e"
             ],
             [
              0.4444444444444444,
              "#bd3786"
             ],
             [
              0.5555555555555556,
              "#d8576b"
             ],
             [
              0.6666666666666666,
              "#ed7953"
             ],
             [
              0.7777777777777778,
              "#fb9f3a"
             ],
             [
              0.8888888888888888,
              "#fdca26"
             ],
             [
              1,
              "#f0f921"
             ]
            ],
            "type": "surface"
           }
          ],
          "table": [
           {
            "cells": {
             "fill": {
              "color": "#EBF0F8"
             },
             "line": {
              "color": "white"
             }
            },
            "header": {
             "fill": {
              "color": "#C8D4E3"
             },
             "line": {
              "color": "white"
             }
            },
            "type": "table"
           }
          ]
         },
         "layout": {
          "annotationdefaults": {
           "arrowcolor": "#2a3f5f",
           "arrowhead": 0,
           "arrowwidth": 1
          },
          "autotypenumbers": "strict",
          "coloraxis": {
           "colorbar": {
            "outlinewidth": 0,
            "ticks": ""
           }
          },
          "colorscale": {
           "diverging": [
            [
             0,
             "#8e0152"
            ],
            [
             0.1,
             "#c51b7d"
            ],
            [
             0.2,
             "#de77ae"
            ],
            [
             0.3,
             "#f1b6da"
            ],
            [
             0.4,
             "#fde0ef"
            ],
            [
             0.5,
             "#f7f7f7"
            ],
            [
             0.6,
             "#e6f5d0"
            ],
            [
             0.7,
             "#b8e186"
            ],
            [
             0.8,
             "#7fbc41"
            ],
            [
             0.9,
             "#4d9221"
            ],
            [
             1,
             "#276419"
            ]
           ],
           "sequential": [
            [
             0,
             "#0d0887"
            ],
            [
             0.1111111111111111,
             "#46039f"
            ],
            [
             0.2222222222222222,
             "#7201a8"
            ],
            [
             0.3333333333333333,
             "#9c179e"
            ],
            [
             0.4444444444444444,
             "#bd3786"
            ],
            [
             0.5555555555555556,
             "#d8576b"
            ],
            [
             0.6666666666666666,
             "#ed7953"
            ],
            [
             0.7777777777777778,
             "#fb9f3a"
            ],
            [
             0.8888888888888888,
             "#fdca26"
            ],
            [
             1,
             "#f0f921"
            ]
           ],
           "sequentialminus": [
            [
             0,
             "#0d0887"
            ],
            [
             0.1111111111111111,
             "#46039f"
            ],
            [
             0.2222222222222222,
             "#7201a8"
            ],
            [
             0.3333333333333333,
             "#9c179e"
            ],
            [
             0.4444444444444444,
             "#bd3786"
            ],
            [
             0.5555555555555556,
             "#d8576b"
            ],
            [
             0.6666666666666666,
             "#ed7953"
            ],
            [
             0.7777777777777778,
             "#fb9f3a"
            ],
            [
             0.8888888888888888,
             "#fdca26"
            ],
            [
             1,
             "#f0f921"
            ]
           ]
          },
          "colorway": [
           "#636efa",
           "#EF553B",
           "#00cc96",
           "#ab63fa",
           "#FFA15A",
           "#19d3f3",
           "#FF6692",
           "#B6E880",
           "#FF97FF",
           "#FECB52"
          ],
          "font": {
           "color": "#2a3f5f"
          },
          "geo": {
           "bgcolor": "white",
           "lakecolor": "white",
           "landcolor": "#E5ECF6",
           "showlakes": true,
           "showland": true,
           "subunitcolor": "white"
          },
          "hoverlabel": {
           "align": "left"
          },
          "hovermode": "closest",
          "mapbox": {
           "style": "light"
          },
          "paper_bgcolor": "white",
          "plot_bgcolor": "#E5ECF6",
          "polar": {
           "angularaxis": {
            "gridcolor": "white",
            "linecolor": "white",
            "ticks": ""
           },
           "bgcolor": "#E5ECF6",
           "radialaxis": {
            "gridcolor": "white",
            "linecolor": "white",
            "ticks": ""
           }
          },
          "scene": {
           "xaxis": {
            "backgroundcolor": "#E5ECF6",
            "gridcolor": "white",
            "gridwidth": 2,
            "linecolor": "white",
            "showbackground": true,
            "ticks": "",
            "zerolinecolor": "white"
           },
           "yaxis": {
            "backgroundcolor": "#E5ECF6",
            "gridcolor": "white",
            "gridwidth": 2,
            "linecolor": "white",
            "showbackground": true,
            "ticks": "",
            "zerolinecolor": "white"
           },
           "zaxis": {
            "backgroundcolor": "#E5ECF6",
            "gridcolor": "white",
            "gridwidth": 2,
            "linecolor": "white",
            "showbackground": true,
            "ticks": "",
            "zerolinecolor": "white"
           }
          },
          "shapedefaults": {
           "line": {
            "color": "#2a3f5f"
           }
          },
          "ternary": {
           "aaxis": {
            "gridcolor": "white",
            "linecolor": "white",
            "ticks": ""
           },
           "baxis": {
            "gridcolor": "white",
            "linecolor": "white",
            "ticks": ""
           },
           "bgcolor": "#E5ECF6",
           "caxis": {
            "gridcolor": "white",
            "linecolor": "white",
            "ticks": ""
           }
          },
          "title": {
           "x": 0.05
          },
          "xaxis": {
           "automargin": true,
           "gridcolor": "white",
           "linecolor": "white",
           "ticks": "",
           "title": {
            "standoff": 15
           },
           "zerolinecolor": "white",
           "zerolinewidth": 2
          },
          "yaxis": {
           "automargin": true,
           "gridcolor": "white",
           "linecolor": "white",
           "ticks": "",
           "title": {
            "standoff": 15
           },
           "zerolinecolor": "white",
           "zerolinewidth": 2
          }
         }
        },
        "xaxis": {
         "anchor": "y",
         "autorange": true,
         "domain": [
          0,
          1
         ],
         "range": [
          "2024-03-22 08:10:38",
          "2024-03-23 05:17:18"
         ],
         "type": "date"
        },
        "yaxis": {
         "anchor": "x",
         "autorange": true,
         "domain": [
          0,
          1
         ],
         "range": [
          2.5,
          -0.5
         ],
         "title": {
          "text": "target_station_custom_id"
         },
         "type": "category"
        }
       }
      },
      "image/png": "[encoded data removed]",
      "text/html": [
       "<div>                            <div id=\"b37f2239-7233-447d-b0c3-28c1ded07541\" class=\"plotly-graph-div\" style=\"height:525px; width:100%;\"></div>            <script type=\"text/javascript\">                require([\"plotly\"], function(Plotly) {                    window.PLOTLYENV=window.PLOTLYENV || {};                                    if (document.getElementById(\"b37f2239-7233-447d-b0c3-28c1ded07541\")) {                    Plotly.newPlot(                        \"b37f2239-7233-447d-b0c3-28c1ded07541\",                        [{\"alignmentgroup\":\"True\",\"base\":[\"2024-03-22T09:13:58+01:00\"],\"customdata\":[[\"J_gen_0\",1,null,null,null,\"P0DT6H0M0S\",\"P0DT1H0M0S\",\"P0DT7H0M0S\"]],\"hovertemplate\":\"\\u003cb\\u003e%{hovertext}\\u003c\\u002fb\\u003e\\u003cbr\\u003e\\u003cbr\\u003eactual_starting_date=%{base}\\u003cbr\\u003eactual_ending_date=%{x}\\u003cbr\\u003etarget_station_custom_id=%{y}\\u003cbr\\u003eexecution_system_custom_id=%{customdata[1]}\\u003cbr\\u003eprio=%{customdata[2]}\\u003cbr\\u003eplanned_starting_date=%{customdata[3]}\\u003cbr\\u003eplanned_ending_date=%{customdata[4]}\\u003cbr\\u003eproc_time=%{customdata[5]}\\u003cbr\\u003esetup_time=%{customdata[6]}\\u003cbr\\u003eorder_time=%{customdata[7]}\\u003cextra\\u003e\\u003c\\u002fextra\\u003e\",\"hovertext\":[\"J_gen_0\"],\"legendgroup\":\"J_gen_0\",\"marker\":{\"color\":\"#636efa\",\"pattern\":{\"shape\":\"\"}},\"name\":\"J_gen_0\",\"offsetgroup\":\"J_gen_0\",\"orientation\":\"h\",\"showlegend\":true,\"textposition\":\"auto\",\"x\":[25200000.0],\"xaxis\":\"x\",\"y\":[0],\"yaxis\":\"y\",\"type\":\"bar\"},{\"alignmentgroup\":\"True\",\"base\":[\"2024-03-22T11:13:58+01:00\"],\"customdata\":[[\"J_gen_1\",1,null,null,null,\"P0DT9H0M0S\",\"P0DT7H0M0S\",\"P0DT16H0M0S\"]],\"hovertemplate\":\"\\u003cb\\u003e%{hovertext}\\u003c\\u002fb\\u003e\\u003cbr\\u003e\\u003cbr\\u003eactual_starting_date=%{base}\\u003cbr\\u003eactual_ending_date=%{x}\\u003cbr\\u003etarget_station_custom_id=%{y}\\u003cbr\\u003eexecution_system_custom_id=%{customdata[1]}\\u003cbr\\u003eprio=%{customdata[2]}\\u003cbr\\u003eplanned_starting_date=%{customdata[3]}\\u003cbr\\u003eplanned_ending_date=%{customdata[4]}\\u003cbr\\u003eproc_time=%{customdata[5]}\\u003cbr\\u003esetup_time=%{customdata[6]}\\u003cbr\\u003eorder_time=%{customdata[7]}\\u003cextra\\u003e\\u003c\\u002fextra\\u003e\",\"hovertext\":[\"J_gen_1\"],\"legendgroup\":\"J_gen_1\",\"marker\":{\"color\":\"#EF553B\",\"pattern\":{\"shape\":\"\"}},\"name\":\"J_gen_1\",\"offsetgroup\":\"J_gen_1\",\"orientation\":\"h\",\"showlegend\":true,\"textposition\":\"auto\",\"x\":[57600000.0],\"xaxis\":\"x\",\"y\":[2],\"yaxis\":\"y\",\"type\":\"bar\"},{\"alignmentgroup\":\"True\",\"base\":[\"2024-03-22T13:13:58+01:00\"],\"customdata\":[[\"J_gen_2\",1,null,null,null,\"P0DT7H0M0S\",\"P0DT8H0M0S\",\"P0DT15H0M0S\"]],\"hovertemplate\":\"\\u003cb\\u003e%{hovertext}\\u003c\\u002fb\\u003e\\u003cbr\\u003e\\u003cbr\\u003eactual_starting_date=%{base}\\u003cbr\\u003eactual_ending_date=%{x}\\u003cbr\\u003etarget_station_custom_id=%{y}\\u003cbr\\u003eexecution_system_custom_id=%{customdata[1]}\\u003cbr\\u003eprio=%{customdata[2]}\\u003cbr\\u003eplanned_starting_date=%{customdata[3]}\\u003cbr\\u003eplanned_ending_date=%{customdata[4]}\\u003cbr\\u003eproc_time=%{customdata[5]}\\u003cbr\\u003esetup_time=%{customdata[6]}\\u003cbr\\u003eorder_time=%{customdata[7]}\\u003cextra\\u003e\\u003c\\u002fextra\\u003e\",\"hovertext\":[\"J_gen_2\"],\"legendgroup\":\"J_gen_2\",\"marker\":{\"color\":\"#00cc96\",\"pattern\":{\"shape\":\"\"}},\"name\":\"J_gen_2\",\"offsetgroup\":\"J_gen_2\",\"orientation\":\"h\",\"showlegend\":true,\"textposition\":\"auto\",\"x\":[54000000.0],\"xaxis\":\"x\",\"y\":[1],\"yaxis\":\"y\",\"type\":\"bar\"},{\"alignmentgroup\":\"True\",\"base\":[\"2024-03-22T16:13:58+01:00\"],\"customdata\":[[\"J_gen_3\",1,null,null,null,\"P0DT5H0M0S\",\"P0DT2H0M0S\",\"P0DT7H0M0S\"]],\"hovertemplate\":\"\\u003cb\\u003e%{hovertext}\\u003c\\u002fb\\u003e\\u003cbr\\u003e\\u003cbr\\u003eactual_starting_date=%{base}\\u003cbr\\u003eactual_ending_date=%{x}\\u003cbr\\u003etarget_station_custom_id=%{y}\\u003cbr\\u003eexecution_system_custom_id=%{customdata[1]}\\u003cbr\\u003eprio=%{customdata[2]}\\u003cbr\\u003eplanned_starting_date=%{customdata[3]}\\u003cbr\\u003eplanned_ending_date=%{customdata[4]}\\u003cbr\\u003eproc_time=%{customdata[5]}\\u003cbr\\u003esetup_time=%{customdata[6]}\\u003cbr\\u003eorder_time=%{customdata[7]}\\u003cextra\\u003e\\u003c\\u002fextra\\u003e\",\"hovertext\":[\"J_gen_3\"],\"legendgroup\":\"J_gen_3\",\"marker\":{\"color\":\"#ab63fa\",\"pattern\":{\"shape\":\"\"}},\"name\":\"J_gen_3\",\"offsetgroup\":\"J_gen_3\",\"orientation\":\"h\",\"showlegend\":true,\"textposition\":\"auto\",\"x\":[25200000.0],\"xaxis\":\"x\",\"y\":[0],\"yaxis\":\"y\",\"type\":\"bar\"}],                        {\"template\":{\"data\":{\"histogram2dcontour\":[{\"type\":\"histogram2dcontour\",\"colorbar\":{\"outlinewidth\":0,\"ticks\":\"\"},\"colorscale\":[[0.0,\"#0d0887\"],[0.1111111111111111,\"#46039f\"],[0.2222222222222222,\"#7201a8\"],[0.3333333333333333,\"#9c179e\"],[0.4444444444444444,\"#bd3786\"],[0.5555555555555556,\"#d8576b\"],[0.6666666666666666,\"#ed7953\"],[0.7777777777777778,\"#fb9f3a\"],[0.8888888888888888,\"#fdca26\"],[1.0,\"#f0f921\"]]}],\"choropleth\":[{\"type\":\"choropleth\",\"colorbar\":{\"outlinewidth\":0,\"ticks\":\"\"}}],\"histogram2d\":[{\"type\":\"histogram2d\",\"colorbar\":{\"outlinewidth\":0,\"ticks\":\"\"},\"colorscale\":[[0.0,\"#0d0887\"],[0.1111111111111111,\"#46039f\"],[0.2222222222222222,\"#7201a8\"],[0.3333333333333333,\"#9c179e\"],[0.4444444444444444,\"#bd3786\"],[0.5555555555555556,\"#d8576b\"],[0.6666666666666666,\"#ed7953\"],[0.7777777777777778,\"#fb9f3a\"],[0.8888888888888888,\"#fdca26\"],[1.0,\"#f0f921\"]]}],\"heatmap\":[{\"type\":\"heatmap\",\"colorbar\":{\"outlinewidth\":0,\"ticks\":\"\"},\"colorscale\":[[0.0,\"#0d0887\"],[0.1111111111111111,\"#46039f\"],[0.2222222222222222,\"#7201a8\"],[0.3333333333333333,\"#9c179e\"],[0.4444444444444444,\"#bd3786\"],[0.5555555555555556,\"#d8576b\"],[0.6666666666666666,\"#ed7953\"],[0.7777777777777778,\"#fb9f3a\"],[0.8888888888888888,\"#fdca26\"],[1.0,\"#f0f921\"]]}],\"heatmapgl\":[{\"type\":\"heatmapgl\",\"colorbar\":{\"outlinewidth\":0,\"ticks\":\"\"},\"colorscale\":[[0.0,\"#0d0887\"],[0.1111111111111111,\"#46039f\"],[0.2222222222222222,\"#7201a8\"],[0.3333333333333333,\"#9c179e\"],[0.4444444444444444,\"#bd3786\"],[0.5555555555555556,\"#d8576b\"],[0.6666666666666666,\"#ed7953\"],[0.7777777777777778,\"#fb9f3a\"],[0.8888888888888888,\"#fdca26\"],[1.0,\"#f0f921\"]]}],\"contourcarpet\":[{\"type\":\"contourcarpet\",\"colorbar\":{\"outlinewidth\":0,\"ticks\":\"\"}}],\"contour\":[{\"type\":\"contour\",\"colorbar\":{\"outlinewidth\":0,\"ticks\":\"\"},\"colorscale\":[[0.0,\"#0d0887\"],[0.1111111111111111,\"#46039f\"],[0.2222222222222222,\"#7201a8\"],[0.3333333333333333,\"#9c179e\"],[0.4444444444444444,\"#bd3786\"],[0.5555555555555556,\"#d8576b\"],[0.6666666666666666,\"#ed7953\"],[0.7777777777777778,\"#fb9f3a\"],[0.8888888888888888,\"#fdca26\"],[1.0,\"#f0f921\"]]}],\"surface\":[{\"type\":\"surface\",\"colorbar\":{\"outlinewidth\":0,\"ticks\":\"\"},\"colorscale\":[[0.0,\"#0d0887\"],[0.1111111111111111,\"#46039f\"],[0.2222222222222222,\"#7201a8\"],[0.3333333333333333,\"#9c179e\"],[0.4444444444444444,\"#bd3786\"],[0.5555555555555556,\"#d8576b\"],[0.6666666666666666,\"#ed7953\"],[0.7777777777777778,\"#fb9f3a\"],[0.8888888888888888,\"#fdca26\"],[1.0,\"#f0f921\"]]}],\"mesh3d\":[{\"type\":\"mesh3d\",\"colorbar\":{\"outlinewidth\":0,\"ticks\":\"\"}}],\"scatter\":[{\"fillpattern\":{\"fillmode\":\"overlay\",\"size\":10,\"solidity\":0.2},\"type\":\"scatter\"}],\"parcoords\":[{\"type\":\"parcoords\",\"line\":{\"colorbar\":{\"outlinewidth\":0,\"ticks\":\"\"}}}],\"scatterpolargl\":[{\"type\":\"scatterpolargl\",\"marker\":{\"colorbar\":{\"outlinewidth\":0,\"ticks\":\"\"}}}],\"bar\":[{\"error_x\":{\"color\":\"#2a3f5f\"},\"error_y\":{\"color\":\"#2a3f5f\"},\"marker\":{\"line\":{\"color\":\"#E5ECF6\",\"width\":0.5},\"pattern\":{\"fillmode\":\"overlay\",\"size\":10,\"solidity\":0.2}},\"type\":\"bar\"}],\"scattergeo\":[{\"type\":\"scattergeo\",\"marker\":{\"colorbar\":{\"outlinewidth\":0,\"ticks\":\"\"}}}],\"scatterpolar\":[{\"type\":\"scatterpolar\",\"marker\":{\"colorbar\":{\"outlinewidth\":0,\"ticks\":\"\"}}}],\"histogram\":[{\"marker\":{\"pattern\":{\"fillmode\":\"overlay\",\"size\":10,\"solidity\":0.2}},\"type\":\"histogram\"}],\"scattergl\":[{\"type\":\"scattergl\",\"marker\":{\"colorbar\":{\"outlinewidth\":0,\"ticks\":\"\"}}}],\"scatter3d\":[{\"type\":\"scatter3d\",\"line\":{\"colorbar\":{\"outlinewidth\":0,\"ticks\":\"\"}},\"marker\":{\"colorbar\":{\"outlinewidth\":0,\"ticks\":\"\"}}}],\"scattermapbox\":[{\"type\":\"scattermapbox\",\"marker\":{\"colorbar\":{\"outlinewidth\":0,\"ticks\":\"\"}}}],\"scatterternary\":[{\"type\":\"scatterternary\",\"marker\":{\"colorbar\":{\"outlinewidth\":0,\"ticks\":\"\"}}}],\"scattercarpet\":[{\"type\":\"scattercarpet\",\"marker\":{\"colorbar\":{\"outlinewidth\":0,\"ticks\":\"\"}}}],\"carpet\":[{\"aaxis\":{\"endlinecolor\":\"#2a3f5f\",\"gridcolor\":\"white\",\"linecolor\":\"white\",\"minorgridcolor\":\"white\",\"startlinecolor\":\"#2a3f5f\"},\"baxis\":{\"endlinecolor\":\"#2a3f5f\",\"gridcolor\":\"white\",\"linecolor\":\"white\",\"minorgridcolor\":\"white\",\"startlinecolor\":\"#2a3f5f\"},\"type\":\"carpet\"}],\"table\":[{\"cells\":{\"fill\":{\"color\":\"#EBF0F8\"},\"line\":{\"color\":\"white\"}},\"header\":{\"fill\":{\"color\":\"#C8D4E3\"},\"line\":{\"color\":\"white\"}},\"type\":\"table\"}],\"barpolar\":[{\"marker\":{\"line\":{\"color\":\"#E5ECF6\",\"width\":0.5},\"pattern\":{\"fillmode\":\"overlay\",\"size\":10,\"solidity\":0.2}},\"type\":\"barpolar\"}],\"pie\":[{\"automargin\":true,\"type\":\"pie\"}]},\"layout\":{\"autotypenumbers\":\"strict\",\"colorway\":[\"#636efa\",\"#EF553B\",\"#00cc96\",\"#ab63fa\",\"#FFA15A\",\"#19d3f3\",\"#FF6692\",\"#B6E880\",\"#FF97FF\",\"#FECB52\"],\"font\":{\"color\":\"#2a3f5f\"},\"hovermode\":\"closest\",\"hoverlabel\":{\"align\":\"left\"},\"paper_bgcolor\":\"white\",\"plot_bgcolor\":\"#E5ECF6\",\"polar\":{\"bgcolor\":\"#E5ECF6\",\"angularaxis\":{\"gridcolor\":\"white\",\"linecolor\":\"white\",\"ticks\":\"\"},\"radialaxis\":{\"gridcolor\":\"white\",\"linecolor\":\"white\",\"ticks\":\"\"}},\"ternary\":{\"bgcolor\":\"#E5ECF6\",\"aaxis\":{\"gridcolor\":\"white\",\"linecolor\":\"white\",\"ticks\":\"\"},\"baxis\":{\"gridcolor\":\"white\",\"linecolor\":\"white\",\"ticks\":\"\"},\"caxis\":{\"gridcolor\":\"white\",\"linecolor\":\"white\",\"ticks\":\"\"}},\"coloraxis\":{\"colorbar\":{\"outlinewidth\":0,\"ticks\":\"\"}},\"colorscale\":{\"sequential\":[[0.0,\"#0d0887\"],[0.1111111111111111,\"#46039f\"],[0.2222222222222222,\"#7201a8\"],[0.3333333333333333,\"#9c179e\"],[0.4444444444444444,\"#bd3786\"],[0.5555555555555556,\"#d8576b\"],[0.6666666666666666,\"#ed7953\"],[0.7777777777777778,\"#fb9f3a\"],[0.8888888888888888,\"#fdca26\"],[1.0,\"#f0f921\"]],\"sequentialminus\":[[0.0,\"#0d0887\"],[0.1111111111111111,\"#46039f\"],[0.2222222222222222,\"#7201a8\"],[0.3333333333333333,\"#9c179e\"],[0.4444444444444444,\"#bd3786\"],[0.5555555555555556,\"#d8576b\"],[0.6666666666666666,\"#ed7953\"],[0.7777777777777778,\"#fb9f3a\"],[0.8888888888888888,\"#fdca26\"],[1.0,\"#f0f921\"]],\"diverging\":[[0,\"#8e0152\"],[0.1,\"#c51b7d\"],[0.2,\"#de77ae\"],[0.3,\"#f1b6da\"],[0.4,\"#fde0ef\"],[0.5,\"#f7f7f7\"],[0.6,\"#e6f5d0\"],[0.7,\"#b8e186\"],[0.8,\"#7fbc41\"],[0.9,\"#4d9221\"],[1,\"#276419\"]]},\"xaxis\":{\"gridcolor\":\"white\",\"linecolor\":\"white\",\"ticks\":\"\",\"title\":{\"standoff\":15},\"zerolinecolor\":\"white\",\"automargin\":true,\"zerolinewidth\":2},\"yaxis\":{\"gridcolor\":\"white\",\"linecolor\":\"white\",\"ticks\":\"\",\"title\":{\"standoff\":15},\"zerolinecolor\":\"white\",\"automargin\":true,\"zerolinewidth\":2},\"scene\":{\"xaxis\":{\"backgroundcolor\":\"#E5ECF6\",\"gridcolor\":\"white\",\"linecolor\":\"white\",\"showbackground\":true,\"ticks\":\"\",\"zerolinecolor\":\"white\",\"gridwidth\":2},\"yaxis\":{\"backgroundcolor\":\"#E5ECF6\",\"gridcolor\":\"white\",\"linecolor\":\"white\",\"showbackground\":true,\"ticks\":\"\",\"zerolinecolor\":\"white\",\"gridwidth\":2},\"zaxis\":{\"backgroundcolor\":\"#E5ECF6\",\"gridcolor\":\"white\",\"linecolor\":\"white\",\"showbackground\":true,\"ticks\":\"\",\"zerolinecolor\":\"white\",\"gridwidth\":2}},\"shapedefaults\":{\"line\":{\"color\":\"#2a3f5f\"}},\"annotationdefaults\":{\"arrowcolor\":\"#2a3f5f\",\"arrowhead\":0,\"arrowwidth\":1},\"geo\":{\"bgcolor\":\"white\",\"landcolor\":\"#E5ECF6\",\"subunitcolor\":\"white\",\"showland\":true,\"showlakes\":true,\"lakecolor\":\"white\"},\"title\":{\"x\":0.05},\"mapbox\":{\"style\":\"light\"}}},\"xaxis\":{\"anchor\":\"y\",\"domain\":[0.0,1.0],\"type\":\"date\"},\"yaxis\":{\"anchor\":\"x\",\"domain\":[0.0,1.0],\"title\":{\"text\":\"target_station_custom_id\"},\"type\":\"category\",\"autorange\":\"reversed\"},\"legend\":{\"title\":{\"text\":\"job_name\"},\"tracegroupgap\":0},\"margin\":{\"t\":60},\"barmode\":\"overlay\"},                        {\"responsive\": true}                    ).then(function(){\n",
       "                            \n",
       "var gd = document.getElementById('b37f2239-7233-447d-b0c3-28c1ded07541');\n",
       "var x = new MutationObserver(function (mutations, observer) {{\n",
       "        var display = window.getComputedStyle(gd).display;\n",
       "        if (!display || display === 'none') {{\n",
       "            console.log([gd, 'removed!']);\n",
       "            Plotly.purge(gd);\n",
       "            observer.disconnect();\n",
       "        }}\n",
       "}});\n",
       "\n",
       "// Listen for the removal of the full notebook cells\n",
       "var notebookContainer = gd.closest('#notebook-container');\n",
       "if (notebookContainer) {{\n",
       "    x.observe(notebookContainer, {childList: true});\n",
       "}}\n",
       "\n",
       "// Listen for the clearing of the current output cell\n",
       "var outputEl = gd.closest('.output');\n",
       "if (outputEl) {{\n",
       "    x.observe(outputEl, {childList: true});\n",
       "}}\n",
       "\n",
       "                        })                };                });            </script>        </div>"
      ]
     },
     "metadata": {},
     "output_type": "display_data"
    }
   ],
   "source": [
    "fig = dispatcher.draw_gantt_chart(dates_to_local_tz=True)"
   ]
  },
  {
   "cell_type": "code",
   "execution_count": null,
   "metadata": {},
   "outputs": [],
   "source": []
  },
  {
   "cell_type": "code",
   "execution_count": null,
   "metadata": {},
   "outputs": [],
   "source": []
  }
 ],
 "metadata": {
  "kernelspec": {
   "display_name": "Python 3 (ipykernel)",
   "language": "python",
   "name": "python3"
  },
  "language_info": {
   "codemirror_mode": {
    "name": "ipython",
    "version": 3
   },
   "file_extension": ".py",
   "mimetype": "text/x-python",
   "name": "python",
   "nbconvert_exporter": "python",
   "pygments_lexer": "ipython3",
   "version": "3.11.8"
  }
 },
 "nbformat": 4,
 "nbformat_minor": 4
}
