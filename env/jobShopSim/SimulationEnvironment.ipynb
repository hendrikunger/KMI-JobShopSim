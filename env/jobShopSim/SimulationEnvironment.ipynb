{
 "cells": [
  {
   "cell_type": "code",
   "execution_count": null,
   "metadata": {},
   "outputs": [],
   "source": []
  },
  {
   "attachments": {},
   "cell_type": "markdown",
   "metadata": {},
   "source": [
    "<a id='top'></a>\n",
    "# Table of contents\n",
    "- [Random Generator](#randomgenerator)\n",
    "- [Environment](#environment)\n",
    "- [Infrastructure Object](#infrastructureobject)\n",
    "- [Processing Station](#processingstation)\n",
    "- [Machine](#machine)\n",
    "- [Buffer](#buffer)\n",
    "- [Source](#source)\n",
    "- [Dispatcher](#dispatcher)\n",
    "- [Operation](#operation)\n",
    "- [Job](#job)\n",
    "- [Logic Test](#logic_test)"
   ]
  },
  {
   "attachments": {},
   "cell_type": "markdown",
   "metadata": {},
   "source": [
    "# To-Do:\n",
    "- [ ] capacity deadlocks between buffers and machines\n",
    "    - [ ] resolve necessary! otherwise no information about blockages\n",
    "    - [x] ~~remove deadlocks by counting the associated machines and comparing the counter to the buffer's capacity~~ (**no capacities > 1 for processing stations**)\n",
    "    - **problem persists: if predecessor systems produce faster than the target processing stations, they fill the buffer until it is filled --> result == deadlock again if buffer is shared between processing station**\n",
    "    - shared buffers: if only used for machine groups --> no problem because there are no circles between these machines\n",
    "    - [ ] look into problems where processing stations have a capacity greater than 1\n",
    "- [ ] add feasibility check\n",
    "    - since agents can choose actions which are not feasible a feasiblity check is necessary\n",
    "    - describe learning flow if a non-feasible action was chosen\n",
    "- [x] ~~description of process logic for generation and entry of jobs~~\n",
    "- [x] ~~add setting of job/machine states in machine logic~~\n",
    "    - using state update function which combine all necessary state update calls\n",
    "- [x] ~~add status info to job DB? (waiting, processing, ...) (disposable = waiting?)~~\n",
    "    - advantage:\n",
    "        - one central DB with all information, no cluttered information\n",
    "        - simple filtering for jobs by current status incl. disposable jobs\n",
    "- [x] ~~add sources and sinks~~\n",
    "    - [x] source: generates new job with given intervals\n",
    "    - [x] sink: destroys jobs and finalises data collection\n",
    "- [x] ~~add physical buffers~~\n",
    "- [ ] add logistic objective values:\n",
    "    - WIP\n",
    "    - lead time\n",
    "    - utilisation\n",
    "- [ ] add Gantt chart visualisation for debugging\n",
    "    - [x] ~~after simulation run~~\n",
    "    - [ ] during simulation run\n",
    "- [x] ~~add bar charts for time components~~\n",
    "- [ ] add monitor class to unitise data collection\n",
    "- [ ] logic/ interface for generation of multiple jobs\n",
    "    - using dispatcher or source?\n",
    "    - interface: design + properties\n",
    "- [ ] add priority rules\n",
    "    - currently: ``FIFO, LIFO, SPT, LPT``\n",
    "- [ ] add machine groups (parallel machines)\n",
    "- [ ] I/O functions for elements\n",
    "- [ ] initialisation of the model with pre-defined state information\n",
    "    - build base by implementing a pre-process method (initialisation) before the simulation starts\n",
    "- [ ] self-marking as disposable by jobs\n",
    "    - ==*check if still necessary*==\n",
    "    - includes demarking\n",
    "    - currently only addition implemented\n",
    "- [ ] add machine groups\n",
    "    - logic behind communicating machine groups\n",
    "    - registration of machines in groups\n",
    "- [x] ~~register job object in dispatcher~~\n",
    "- [x] ~~register operations in dispatcher~~\n",
    "- [x] ~~add uniqueness check for custom IDs in resource objects (only interface to user)~~\n",
    "- [x] ~~operations list of jobs as deque~~\n",
    "- [x] ~~add generic infrastructure class from which infrastructure objects are derived~~\n",
    "- [x] ~~implement routing logic in objects~~\n",
    "- [x] ~~add operation starting and end points~~\n",
    "\n",
    "- [ ] tracking disjunctive graph model"
   ]
  },
  {
   "attachments": {},
   "cell_type": "markdown",
   "metadata": {},
   "source": [
    "### Logic behind simulation model approach\n",
    "*Model of Resource and Load*:\n",
    "- system consists of physical objects, also called infrastructure\n",
    "    - each element can be considered as encapsulated resource\n",
    "- stress can be put on each system by occupying resources, also called load\n",
    "    - definition of load depends on system type and modelling, e.g. production jobs for production systems or customers for cashiers in a shop\n",
    "- load objects are called ***load unit***\n",
    "\n",
    "*Guiding Priciples*:\n",
    "- **load objects** can only be spatially and temporally modified by **resources**\n",
    "    - only resource objects can put load objects on other resources and change their state\n",
    "    - load objects **contain the necessary information** which is essential for their further processing\n",
    "\n",
    "################\n",
    "\n",
    "Logic of ``Lang et al.: Modeling Production Scheduling Problems as Reinforcement Learning Environments based on Discrete-Event Simulation and OpenAI Gym``\n",
    "- whole routing logic is implemented in a collaborative manner between resources and load objects\n",
    "    - each load object puts itself in a associated queue\n",
    "    - therefore load objects can change their *states* and *location* by theirown\n",
    "- **violates resource-load model: no load object can change its state without a associated resource**"
   ]
  },
  {
   "cell_type": "code",
   "execution_count": 178,
   "metadata": {},
   "outputs": [],
   "source": [
    "import numpy as np\n",
    "import numpy.typing as npt\n",
    "from numpy.random._generator import Generator\n",
    "import random\n",
    "import simpy\n",
    "import salabim as sim\n",
    "from salabim import Queue, State\n",
    "from typing import TypeAlias, Iterable, Iterator, Any\n",
    "from collections import OrderedDict, deque\n",
    "from operator import attrgetter\n",
    "from functools import lru_cache\n",
    "import logging\n",
    "import sys\n",
    "import pandas as pd\n",
    "from pandas import DataFrame, Series\n",
    "import plotly.express as px\n",
    "from plotly.graph_objs._figure import Figure\n",
    "from __future__ import annotations\n",
    "\n",
    "sim.yieldless(False)\n",
    "\n",
    "# type aliases\n",
    "NPRandomGenerator: TypeAlias = Generator\n",
    "SimPyEnv: TypeAlias = simpy.core.Environment\n",
    "SalabimEnv: TypeAlias = sim.Environment\n",
    "EnvID: TypeAlias = int\n",
    "#JobID: TypeAlias = int\n",
    "#OpID: TypeAlias = int\n",
    "ObjectID: TypeAlias = int\n",
    "### [CHANGE] Replace MachineID as CustomID\n",
    "MachineID: TypeAlias = int | str\n",
    "CustomID: TypeAlias = int | str\n",
    "#InfstructObj: TypeAlias = object # better naming in future\n",
    "PlotlyFigure: TypeAlias = Figure\n",
    "\n",
    "# forward reference, referenced before assignment\n",
    "#Job: TypeAlias = 'Job'\n",
    "#Dispatcher: TypeAlias = 'Dispatcher'\n",
    "\n",
    "# logging\n",
    "# IPython compatibility\n",
    "logging.basicConfig(stream=sys.stdout, level=logging.DEBUG)\n",
    "LOGGING_LEVEL = 'DEBUG'\n",
    "LOGGING_LEVEL_ENV = 'DEBUG'\n",
    "LOGGING_LEVEL_DISPATCHER = 'ERROR'\n",
    "LOGGING_LEVEL_SOURCES = 'ERROR'\n",
    "LOGGING_LEVEL_SINKS = 'DEBUG'\n",
    "LOGGING_LEVEL_PRODSTATIONS = 'ERROR'\n",
    "LOGGING_LEVEL_JOBS = 'ERROR'\n",
    "LOGGING_LEVEL_OPERATIONS = 'ERROR'\n",
    "LOGGING_LEVEL_BUFFERS = 'DEBUG'\n",
    "LOGGING_LEVEL_MONITORS = 'DEBUG'\n",
    "\n",
    "\n",
    "logger = logging.getLogger('base')\n",
    "logger.setLevel(LOGGING_LEVEL)\n",
    "logger_env = logging.getLogger('env')\n",
    "logger_env.setLevel(LOGGING_LEVEL_ENV)\n",
    "logger_dispatcher = logging.getLogger('dispatcher')\n",
    "logger_dispatcher.setLevel(LOGGING_LEVEL_DISPATCHER)\n",
    "logger_sources = logging.getLogger('sources')\n",
    "logger_sources.setLevel(LOGGING_LEVEL_SOURCES)\n",
    "logger_sinks = logging.getLogger('sinks')\n",
    "logger_sinks.setLevel(LOGGING_LEVEL_SINKS)\n",
    "logger_prodStations = logging.getLogger('prodStations')\n",
    "logger_prodStations.setLevel(LOGGING_LEVEL_PRODSTATIONS)\n",
    "logger_buffers = logging.getLogger('buffers')\n",
    "logger_buffers.setLevel(LOGGING_LEVEL_BUFFERS)\n",
    "logger_monitors = logging.getLogger('monitors')\n",
    "logger_monitors.setLevel(LOGGING_LEVEL_MONITORS)\n",
    "\n",
    "logger_jobs = logging.getLogger('jobs')\n",
    "logger_jobs.setLevel(LOGGING_LEVEL_JOBS)\n",
    "logger_operations = logging.getLogger('operations')\n",
    "logger_operations.setLevel(LOGGING_LEVEL_OPERATIONS)\n",
    "\n",
    "\n",
    "\n",
    "INF = float('inf')\n",
    "FAIL_DELAY = 20 # time after a store request is failed"
   ]
  },
  {
   "attachments": {},
   "cell_type": "markdown",
   "metadata": {},
   "source": [
    "<a id='randomgenerator'></a>"
   ]
  },
  {
   "cell_type": "code",
   "execution_count": 179,
   "metadata": {},
   "outputs": [],
   "source": [
    "class RandomJobGenerator(object):\n",
    "    \n",
    "    def __init__(\n",
    "        self,\n",
    "        seed: int = 42,\n",
    "    ) -> None:\n",
    "        \"\"\"\n",
    "        seed: seed value for random number generator\n",
    "        \"\"\"\n",
    "        self._np_rnd_gen: NPRandomGenerator = np.random.default_rng(seed=seed)\n",
    "        \n",
    "    def gen_rnd_JSSP_inst(\n",
    "        self,\n",
    "        n_jobs: int,\n",
    "        n_machines: int,\n",
    "    ) -> tuple[npt.NDArray[np.uint16], npt.NDArray[np.uint16]]:\n",
    "        \"\"\"\n",
    "        Generates random job shop instance with given number of and machines\n",
    "        - each job on all machines\n",
    "        - max processing time = 9\n",
    "        \n",
    "        Output:\n",
    "        n_jobs: number of jobs\n",
    "        n_machines: number of machines\n",
    "        n_tasks: number of tasks\n",
    "        mat_ProcTimes: matrix of processing times | shape=(n_jobs,n_machines)\n",
    "        mat_JobMachID: matrix of machine IDs per job starting by index 1 | shape=(n_jobs,n_machines)\n",
    "        mat_OpID: matrix of operation IDs starting by index 1 | shape=(n_jobs,n_machines)\n",
    "        \"\"\"\n",
    "        # generate random process time matrix shape=(n_jobs, n_machines)\n",
    "        mat_ProcTimes = self._np_rnd_gen.integers(1, 10, size=(n_jobs,n_machines), dtype=np.uint16)\n",
    "        \n",
    "        # generate randomly shuffled job machine combinations\n",
    "        # machine IDs from 1 to n_machines\n",
    "        temp = np.arange(0, n_machines, step=1, dtype=np.uint16)\n",
    "        temp = np.expand_dims(temp, axis=0)\n",
    "        # repeat dummy line until number n_jobs is reached\n",
    "        temp = np.repeat(temp, n_jobs, axis=0)\n",
    "        # randomly permute the machine indices job-wise\n",
    "        mat_JobMachID = self._np_rnd_gen.permuted(temp, axis=1)\n",
    "        \n",
    "        # generate operation ID matrix\n",
    "        # not mandatory because operations are registered in the environment's dispatcher\n",
    "        n_ops = n_jobs * n_machines\n",
    "        temp2 = np.arange(0, (n_ops), step=1, dtype=np.uint16)\n",
    "        mat_OpID = temp2.reshape(n_jobs, -1)\n",
    "        \n",
    "        return mat_ProcTimes, mat_JobMachID\n",
    "    \n",
    "    def gen_rnd_job(\n",
    "        self,\n",
    "        n_machines: int,\n",
    "    ) -> tuple[npt.NDArray[np.uint16], npt.NDArray[np.uint16]]:\n",
    "        \"\"\"\n",
    "        Generates random job shop instance with given number of jobs and machines'\n",
    "        - each job on all machines\n",
    "        - max processing time = 9\n",
    "        \n",
    "        Output:\n",
    "        mat_ProcTimes: matrix of processing times | shape=(n_jobs,n_machines)\n",
    "        mat_JobMachID: matrix of machine IDs per job starting by index 1 | shape=(n_jobs,n_machines)\n",
    "\n",
    "        \"\"\"\n",
    "        # generate random process time matrix shape=(n_machines)\n",
    "        mat_ProcTimes = self._np_rnd_gen.integers(1, 10, size=n_machines, dtype=np.uint16)\n",
    "        \n",
    "        # generate randomly shuffled job machine combinations\n",
    "        # machine IDs from 1 to n_machines\n",
    "        temp = np.arange(0, n_machines, step=1, dtype=np.uint16)\n",
    "        # randomly permute the machine indices job-wise\n",
    "        mat_JobMachID = self._np_rnd_gen.permuted(temp)\n",
    "        \n",
    "        return mat_ProcTimes, mat_JobMachID\n",
    "    "
   ]
  },
  {
   "cell_type": "code",
   "execution_count": 180,
   "metadata": {},
   "outputs": [],
   "source": [
    "job_generator = RandomJobGenerator()"
   ]
  },
  {
   "cell_type": "code",
   "execution_count": 181,
   "metadata": {},
   "outputs": [],
   "source": [
    "mat_ProcTimes, mat_JobMachID = job_generator.gen_rnd_JSSP_inst(2,3)"
   ]
  },
  {
   "cell_type": "code",
   "execution_count": 182,
   "metadata": {},
   "outputs": [
    {
     "data": {
      "text/plain": [
       "array([[2, 1, 9],\n",
       "       [7, 9, 6]], dtype=uint16)"
      ]
     },
     "execution_count": 182,
     "metadata": {},
     "output_type": "execute_result"
    }
   ],
   "source": [
    "mat_ProcTimes"
   ]
  },
  {
   "cell_type": "code",
   "execution_count": 183,
   "metadata": {},
   "outputs": [
    {
     "data": {
      "text/plain": [
       "array([[2, 0, 1],\n",
       "       [0, 1, 2]], dtype=uint16)"
      ]
     },
     "execution_count": 183,
     "metadata": {},
     "output_type": "execute_result"
    }
   ],
   "source": [
    "mat_JobMachID"
   ]
  },
  {
   "attachments": {},
   "cell_type": "markdown",
   "metadata": {},
   "source": [
    "##### Brainstorming of ways to import machine names and IDs\n",
    "*Case 1: only names are given*\n",
    "- read machine names and assert IDs to them\n",
    "- build data structure with name and ID bundled (maybe as property of a machine class)\n",
    "\n",
    "*Case 2: IDs are given*\n",
    "- only building data structure with name and ID bundled\n",
    "\n",
    "*Data Structure:*\n",
    "- if only mapping of two pairs in each direction (lookup ID or lookup machine name)\n",
    "    - bi-directional dictionary"
   ]
  },
  {
   "attachments": {},
   "cell_type": "markdown",
   "metadata": {},
   "source": [
    "**for resource objects:**\n",
    "- CustomID may not be of type 'None' because the custom identifiers are the only interface to the end user (EnvID are solely handled inernally)\n",
    "- add checking for uniqueness of custom identifiers necessary, else the mapping of different objects could be ambiguous\n",
    "- jobs and operations can use ambiguous custom IDs --> custom IDs can still be None"
   ]
  },
  {
   "attachments": {},
   "cell_type": "markdown",
   "metadata": {},
   "source": [
    "- dedicated environment class with information on associated resources and jobs\n",
    "- maybe add possibility of using subsystems (bundle of resources with unique identifiers)"
   ]
  },
  {
   "attachments": {},
   "cell_type": "markdown",
   "metadata": {},
   "source": [
    "<a id='environment'></a>\n",
    "**Salabim Env**"
   ]
  },
  {
   "cell_type": "code",
   "execution_count": 248,
   "metadata": {},
   "outputs": [],
   "source": [
    "class SimulationEnvironment(sim.Environment):\n",
    "    \n",
    "    def __init__(\n",
    "        self,\n",
    "        **kwargs,\n",
    "    ) -> None:\n",
    "        \"\"\"\n",
    "        \n",
    "        \"\"\"\n",
    "        super().__init__(**kwargs)\n",
    "        \n",
    "        # resource data base as simple Pandas DataFrame\n",
    "        self._infstruct_prop: dict[str, type] = {\n",
    "            'env_id': int,\n",
    "            'custom_id': object,\n",
    "            'resource': object,\n",
    "            'name': str,\n",
    "            'res_type': str,\n",
    "            'state': str,\n",
    "        }\n",
    "        self._res_db: DataFrame = pd.DataFrame(columns=list(self._infstruct_prop.keys()))\n",
    "        self._res_db = self._res_db.astype(self._infstruct_prop)\n",
    "        self._res_db = self._res_db.set_index('env_id')\n",
    "        self._res_lookup_props: set[str] = set(['env_id', 'custom_id', 'name'])\n",
    "        \n",
    "        # env identifiers\n",
    "        self._id_counter: EnvID = 0\n",
    "        self._res_custom_identifiers: set[str | int] = set()\n",
    "        \n",
    "        # job dispatcher\n",
    "        self._dispatcher_registered: bool = False\n",
    "        self._dispatcher: Dispatcher = None\n",
    "        \n",
    "        # sink: pool of sinks possible to allow multiple sinks in one environment\n",
    "        # [PERHAPS CHANGED LATER] \n",
    "        # currently only one sink out of the pool is chosen because jobs do not contain \n",
    "        # information about a target sink\n",
    "        self._sink_registered: bool = False\n",
    "        self._sinks: set[Sink] = set()\n",
    "        \n",
    "        # counter for processing stations (machines, assembly, etc.)\n",
    "        self.num_proc_stations: int = 0\n",
    "        \n",
    "        ############## LEGACY CODE\n",
    "        ### legacy code, changed approach to tabular data structure\n",
    "        \"\"\"\n",
    "        self.id_counter: EnvID = 0\n",
    "        self.resources: dict[EnvID, object] = dict()\n",
    "        self._custom_identifiers: set[CustomID] = set()\n",
    "        self._custom_from_env_ids: dict[EnvID, CustomID] = dict()\n",
    "        self._custom_to_env_ids: dict[CustomID, EnvID] = dict()\n",
    "        \"\"\"\n",
    "        self._ultimative_test = pd.DataFrame(columns=['test1', 'test2'])\n",
    "    \n",
    "    def _obtain_env_id(self) -> EnvID:\n",
    "        \"\"\"Simple counter function for managing environment IDs\"\"\"\n",
    "        # assign id and set counter up\n",
    "        env_id = self._id_counter\n",
    "        self._id_counter += 1\n",
    "        \n",
    "        return env_id\n",
    "    \n",
    "    def register_dispatcher(\n",
    "        self,\n",
    "        dispatcher: Dispatcher,\n",
    "    ) -> EnvID:\n",
    "        \"\"\"\n",
    "        Registers a dispatcher instance for the environment. Only one instance per environment is allowed.\n",
    "        returns: EnvID for the dispatcher instance\n",
    "        \"\"\"\n",
    "        # obtain env_id\n",
    "        env_id = self._obtain_env_id()\n",
    "        \n",
    "        if not self._dispatcher_registered:\n",
    "            self._dispatcher = dispatcher\n",
    "            self._dispatcher_registered = True\n",
    "            logger_env.info(f\"Successfully registered dispatcher with EnvID {env_id}\")\n",
    "        else:\n",
    "            raise AssertionError(\"There is already a registered dispatcher instance \\\n",
    "                                 Only one instance per environement is allowed.\")\n",
    "        \n",
    "        return env_id\n",
    "    \n",
    "    @property\n",
    "    def dispatcher(self) -> Dispatcher:\n",
    "        \"\"\"obtain the current registered dispatcher instance of the environment\"\"\"\n",
    "        if self._dispatcher is None:\n",
    "            raise ValueError(\"No Dipsatcher instance registered.\")\n",
    "        else:\n",
    "            return self._dispatcher\n",
    "    \n",
    "    def register_resource(\n",
    "        self,\n",
    "        obj: InfrastructureObject,\n",
    "        custom_identifier: CustomID,\n",
    "        name: str | None,\n",
    "        state: str,\n",
    "    ) ->  tuple[EnvID, str]:\n",
    "        \"\"\"\n",
    "        registers an infrastructure object in the environment by assigning an unique id and \n",
    "        adding the object to the associated resources of the environment\n",
    "        \n",
    "        obj: env resource = instance of a subclass of InfrastructureObject\n",
    "        custom_identifier: user defined identifier\n",
    "        name: custom name of the object, \\\n",
    "            default: None\n",
    "        returns:\n",
    "            env_id: assigned env ID\n",
    "        \"\"\"\n",
    "        # check for uniqueness of custom_identifier\n",
    "        # type security\n",
    "        if not isinstance(custom_identifier, (str, int)):\n",
    "            raise TypeError(\"Custom identifier must be of type STR or INT\")\n",
    "        # create check value\n",
    "        if isinstance(custom_identifier, str):\n",
    "            # remove capital letters for checking\n",
    "            check_val = custom_identifier.lower()\n",
    "        else:\n",
    "            check_val = custom_identifier\n",
    "        \n",
    "        # check if value already exists\n",
    "        if check_val in self._res_custom_identifiers:\n",
    "            raise ValueError(f\"The custom identifier {custom_identifier} provided already exists, \\\n",
    "                            but has to be unique.\")\n",
    "        else:\n",
    "            self._res_custom_identifiers.add(check_val)\n",
    "        \n",
    "        # obtain env_id\n",
    "        env_id = self._obtain_env_id()\n",
    "        \n",
    "        # register sinks\n",
    "        if isinstance(obj, Sink):\n",
    "            if not self._sink_registered:\n",
    "                self._sink_registered = True\n",
    "            self._sinks.add(obj)\n",
    "        \n",
    "        # count number of machines\n",
    "        if isinstance(obj, ProcessingStation):\n",
    "            self.num_proc_stations += 1\n",
    "        \n",
    "        # custom name\n",
    "        if name is None:\n",
    "            name = f'{type(obj).__name__}_env_{env_id}'\n",
    "        \n",
    "        # new entry for resource data base\n",
    "        new_entry: DataFrame = pd.DataFrame({\n",
    "                                'env_id': [env_id],\n",
    "                                'custom_id': [custom_identifier],\n",
    "                                'resource': [obj],\n",
    "                                'name': [name],\n",
    "                                'res_type': [obj.res_type],\n",
    "                                'state': [state]})\n",
    "        new_entry = new_entry.astype(self._infstruct_prop)\n",
    "        new_entry = new_entry.set_index('env_id')\n",
    "        self._res_db = pd.concat([self._res_db, new_entry])\n",
    "        \n",
    "        logger_env.info(f\"Successfully registered object with EnvID {env_id} and name {name}\")\n",
    "        \n",
    "        return env_id, name\n",
    "    \n",
    "    @property\n",
    "    def sinks(self) -> set[Sink]:\n",
    "        \"\"\"registered sinks\"\"\"\n",
    "        return self._sinks\n",
    "    \n",
    "    def update_res_state(\n",
    "        self,\n",
    "        obj: InfrastructureObject,\n",
    "        state: str,\n",
    "    ) -> None:\n",
    "        \"\"\"method to update the state of a resource object in the resource database\"\"\"\n",
    "        # update resource database\n",
    "        logger_env.debug(f\"Set state of {obj} to {state}\")\n",
    "        # update state tracking of the job instance\n",
    "        logger_env.debug(f\"[Object:{self}]: Monitor is {obj.stat_monitor}\")\n",
    "        obj.stat_monitor.set_state(state=state)\n",
    "        self._res_db.loc[obj.env_id, 'state'] = state\n",
    "        logger_env.debug(f\"Executed state setting of {obj} to {state}\")\n",
    "        \n",
    "        return None\n",
    "    \n",
    "    @property\n",
    "    def res_db(self) -> DataFrame:\n",
    "        \"\"\"obtain a current overview of registered objects in the environment\"\"\"\n",
    "        return self._res_db\n",
    "\n",
    "    #@lru_cache(maxsize=200)\n",
    "    def get_res_obj_by_prop(\n",
    "        self,\n",
    "        val: EnvID | CustomID | str,\n",
    "        property: str = 'env_id',\n",
    "        target_prop: str = 'resource',\n",
    "    ) -> InfrastructureObject:\n",
    "        \"\"\"\n",
    "        obtain a resource object from the environment by its property and corresponding value\n",
    "        properties: env_id, custom_id, name\n",
    "        \"\"\"\n",
    "        # check if property is a filter criterion\n",
    "        if property not in self._res_lookup_props:\n",
    "            raise IndexError(f\"Property '{property}' is not allowed. Choose from {self._res_lookup_props}\")\n",
    "        # None type value can not be looked for\n",
    "        if val is None:\n",
    "            raise TypeError(\"The lookup value can not be of type 'None'.\")\n",
    "        \n",
    "        # filter resource database for prop-value pair\n",
    "        if property == 'env_id':\n",
    "            # direct indexing for ID property; env_id always unique, no need for duplicate check\n",
    "            try:\n",
    "                temp1: InfrastructureObject = self._res_db.loc[val, target_prop]\n",
    "                return temp1\n",
    "            except KeyError:\n",
    "                raise IndexError(f\"There were no resources found for the property '{property}' \\\n",
    "                                with the value '{val}'\")\n",
    "        else:\n",
    "            temp1: Series = self._res_db.loc[self._res_db[property] == val, target_prop]\n",
    "            # check for empty search result, at least one result necessary\n",
    "            if len(temp1) == 0:\n",
    "                raise IndexError(f\"There were no resources found for the property '{property}' \\\n",
    "                                with the value '{val}'\")\n",
    "            # check for multiple entries with same prop-value pair\n",
    "            ########### PERHAPS CHANGE NECESSARY\n",
    "            ### multiple entries but only one returned --> prone to errors\n",
    "            elif len(temp1) > 1:\n",
    "                # warn user\n",
    "                logger_env.warning(f\"CAUTION: There are multiple resources which share the \\\n",
    "                            same value '{val}' for the property '{property}'. \\\n",
    "                            Only the first entry is returned.\")\n",
    "        \n",
    "            return temp1.iat[0]\n",
    "        \n",
    "    def check_integrity(self) -> None:\n",
    "        \"\"\"\n",
    "        method to evaluate if certain criteria for the simulation run are satisfied\n",
    "        checks for:\n",
    "        - registered dispatcher (min: 1, max: 1)\n",
    "        - registered sink (min: 1, max: INF)\n",
    "        \"\"\"\n",
    "        if not self._dispatcher_registered:\n",
    "            raise ValueError(\"No Dispatcher instance registered.\")\n",
    "        elif not self._sink_registered:\n",
    "            raise ValueError(\"No Sink instance registered.\")\n",
    "        \n",
    "        logger_env.info(f\"Integrity check for Environment {self.name()} successful.\")\n",
    "        \n",
    "\n",
    "    def finalise_sim(self) -> None:\n",
    "        \"\"\"\n",
    "        Function which should be executed at the end of the simulation.\n",
    "        Can be used for finalising data collection, other related tasks or further processing pipelines\n",
    "        \"\"\"\n",
    "        # set end state for each resource object to calculate the right time amounts\n",
    "        for res_obj in self._res_db['resource']:\n",
    "            res_obj.finalise()\n",
    "        logger_env.info(\"Finalisation of the state information for all resource objects successful.\")\n",
    "    \n",
    "    \n",
    "        "
   ]
  },
  {
   "attachments": {},
   "cell_type": "markdown",
   "metadata": {},
   "source": [
    "[Jump to top](#top)"
   ]
  },
  {
   "cell_type": "code",
   "execution_count": null,
   "metadata": {},
   "outputs": [],
   "source": []
  },
  {
   "attachments": {},
   "cell_type": "markdown",
   "metadata": {},
   "source": [
    "---\n",
    "### **Infrastructure Objects**"
   ]
  },
  {
   "attachments": {},
   "cell_type": "markdown",
   "metadata": {},
   "source": [
    "*Adapting machine class:*\n",
    "- user defined process function\n",
    "- env related stuff in generic class"
   ]
  },
  {
   "cell_type": "code",
   "execution_count": null,
   "metadata": {},
   "outputs": [],
   "source": []
  },
  {
   "attachments": {},
   "cell_type": "markdown",
   "metadata": {},
   "source": [
    "<a id='infrastructureobject'></a>"
   ]
  },
  {
   "cell_type": "code",
   "execution_count": 596,
   "metadata": {},
   "outputs": [],
   "source": [
    "class Monitor(object):\n",
    "    \n",
    "    def __init__(\n",
    "        self,\n",
    "        env: SimulationEnvironment,\n",
    "        obj: InfrastructureObject | Job | Operation,\n",
    "        init_state: str = 'INIT',\n",
    "        possible_states: Iterable[str] = (\n",
    "            'INIT',\n",
    "            'FINISH',\n",
    "            'WAITING', \n",
    "            'PROCESSING', \n",
    "            'BLOCKED', \n",
    "            'FAILED', \n",
    "            'PAUSED',\n",
    "        ),\n",
    "        **kwargs,\n",
    "    ) -> None:\n",
    "        \"\"\"\n",
    "        Class to monitor associated objects (load and resource)\n",
    "        \"\"\"\n",
    "        # initialise parent class if available\n",
    "        super().__init__(**kwargs)\n",
    "        \n",
    "        # [REGISTRATION]\n",
    "        self.env = env\n",
    "        self._target_object = obj\n",
    "        \n",
    "        # [STATE] state parameters\n",
    "        # all possible/allowed states\n",
    "        self.states_possible: set[str] = set(possible_states)\n",
    "        # always add states INIT and FINISH for control flow\n",
    "        if not 'INIT' in self.states_possible:\n",
    "            self.states_possible.add('INIT')\n",
    "        if not 'FINISH' in self.states_possible:\n",
    "            self.states_possible.add('FINISH')\n",
    "            \n",
    "        # check integrity of the given state\n",
    "        if init_state in self.states_possible:\n",
    "            self.state_current: str = init_state\n",
    "        else:\n",
    "            raise ValueError(f\"The state {state} is not allowed. Must be one of {self.states_possible}\")\n",
    "        \n",
    "        # boolean indicator if a state is set\n",
    "        self.state_status: dict[str, bool] = dict()\n",
    "        # time counter for each state\n",
    "        self.state_times: dict[str, float] = dict()\n",
    "        # starting time variable indicating when the last state assignment took place\n",
    "        self.state_starting_time: float = env.now()\n",
    "        \n",
    "        for state in self.states_possible:\n",
    "            # init state time dictionary\n",
    "            self.state_times[state] = 0.\n",
    "            # init state is set to True\n",
    "            if state == self.state_current:\n",
    "                self.state_status[state] = True\n",
    "            else:\n",
    "                self.state_status[state] = False\n",
    "        \n",
    "    def get_current_state(self) -> str:\n",
    "        \"\"\"get the current state of the associated resource\"\"\"\n",
    "        return self.state_current\n",
    "        \n",
    "    def set_state(\n",
    "        self,\n",
    "        state: str,\n",
    "    ) -> None:\n",
    "        \"\"\"\n",
    "        function to set the object in the given state\n",
    "        state: name of the state in which the object should be placed, must be part \\\n",
    "            of the object's possible states\n",
    "        \"\"\"\n",
    "        # eliminate lower-case letter\n",
    "        target_state = state.upper()\n",
    "        \n",
    "        # check if state is allowed\n",
    "        if target_state not in self.states_possible:\n",
    "            raise ValueError(f\"The state {target_state} is not allowed. Must be one of {self.states_possible}\")\n",
    "        \n",
    "        # check if state is already set\n",
    "        if self.state_status[target_state] == True:\n",
    "            logger_monitors.info(f\"Tried to set state of {self._target_object} to >>{target_state}<<, but this state was already set.\\\n",
    "                The object's state was not changed.\")\n",
    "        \n",
    "        # calculate time for which the object was in the current state before changing it\n",
    "        current_state_start = self.state_starting_time\n",
    "        current_time = self.env.now()\n",
    "        current_state_duration = current_time - current_state_start\n",
    "        # add time to the time counter for the current state\n",
    "        current_state = self.state_current\n",
    "        self.state_times[current_state] += current_state_duration\n",
    "        \n",
    "        # set old state to False and new state to True\n",
    "        self.state_status[current_state] = False\n",
    "        self.state_status[target_state] = True\n",
    "        # assign new state as current one\n",
    "        self.state_current = target_state\n",
    "        # set state starting time to current time\n",
    "        self.state_starting_time = current_time\n",
    "        \n",
    "        logger_monitors.debug(f\"Duration for state {current_state} on {self._target_object} was {current_state_duration}\")\n",
    "        \n",
    "        return None\n",
    "    \n",
    "    def finalise_stats(self) -> None:\n",
    "        \"\"\"finalisation of stats gathering\"\"\"\n",
    "        \n",
    "        # build state duration table\n",
    "        temp1: Series = pd.Series(data=self.state_times)\n",
    "        temp2: DataFrame = temp1.to_frame()\n",
    "        temp2.columns = ['abs [timesteps]']\n",
    "        temp2['rel [%]'] = temp2['abs [timesteps]'] / temp2.sum(axis=0)['abs [timesteps]'] * 100\n",
    "        temp2 = temp2.drop(labels=['INIT', 'FINISH'], axis=0)\n",
    "        self.state_durations = temp2.copy()\n",
    "    \n",
    "    ### ANALYSE AND CHARTS ###\n",
    "    def draw_state_bar_chart(        \n",
    "        self,\n",
    "        save_img: bool = False,\n",
    "        save_html: bool = False,\n",
    "        file_name: str = 'state_distribution',\n",
    "    ) -> PlotlyFigure:\n",
    "        \"\"\"draws the collected state times of the object as bar chart\"\"\"\n",
    "        data = pd.DataFrame.from_dict(data=self.state_times, orient='index', columns=['total time'])\n",
    "        data.index = data.index.rename('state')\n",
    "        \n",
    "        fig: PlotlyFigure = px.bar(data, text_auto='.2f')\n",
    "        fig.update_layout(title=f'State Time Distribution of {self._target_object}', showlegend=False)\n",
    "        fig.update_yaxes(title=dict({'text': 'total time'}))\n",
    "        \n",
    "        fig.show()\n",
    "        \n",
    "        file_name = file_name + f'_{self}'\n",
    "        \n",
    "        if save_html:\n",
    "            file = f'{file_name}.html'\n",
    "            fig.write_html(file)\n",
    "        \n",
    "        if save_img:\n",
    "            file = f'{file_name}.svg'\n",
    "            fig.write_image(file)\n",
    "        \n",
    "        return fig"
   ]
  },
  {
   "cell_type": "code",
   "execution_count": 597,
   "metadata": {},
   "outputs": [],
   "source": [
    "class BufferMonitor(Monitor):\n",
    "    \n",
    "    def __init__(\n",
    "        self,\n",
    "        obj: Buffer,\n",
    "        **kwargs,\n",
    "    ) -> None:\n",
    "        # initialise parent class\n",
    "        super().__init__(obj=obj, **kwargs)\n",
    "        \n",
    "        # fill level tracking\n",
    "        self._level_db_types = {\n",
    "            'sim_time': float,\n",
    "            'duration': float,\n",
    "            'level': int,\n",
    "        }\n",
    "        self._level_db: DataFrame = pd.DataFrame(\n",
    "                                        columns=['sim_time', 'duration', 'level'], \n",
    "                                        data=[[0., 0., obj.start_fill_level]])\n",
    "        self._level_db = self._level_db.astype(self._level_db_types)\n",
    "        \n",
    "        self._current_fill_level = obj.start_fill_level\n",
    "        self._fill_level_starting_time: float = self.env.now()\n",
    "        self._wei_avg_fill_level: float | None = None\n",
    "    \n",
    "    def set_state(\n",
    "        self,\n",
    "        state: str,\n",
    "    ) -> None:\n",
    "        \"\"\"additional level tracking functionality\"\"\"\n",
    "        super().set_state(state=state)\n",
    "        \n",
    "        is_finalise: bool = False\n",
    "        if self.state_current == 'FINISH':\n",
    "            is_finalise: bool = True\n",
    "        self.track_fill_level(is_finalise=is_finalise)\n",
    "        \n",
    "    # Buffer fill level tracking\n",
    "    def track_fill_level(\n",
    "        self,\n",
    "        is_finalise: bool = False,\n",
    "    ) -> None:\n",
    "        \"\"\"adds an entry to the fill level database\"\"\"\n",
    "        # only calculate duration if buffer level changes\n",
    "        current_time = self.env.now()\n",
    "        duration = current_time - self._fill_level_starting_time\n",
    "        logger_buffers.debug(f\"[BUFFER: {self._target_object}] Current time is {current_time} with level {len(self._target_object)} and old level {self._current_fill_level}\")\n",
    "        #if ((self._current_fill_level != len(self)) and (duration > 0.0)) or is_finalise:\n",
    "        if (self._current_fill_level != len(self._target_object)) or is_finalise:\n",
    "            temp1: Series = pd.Series(\n",
    "                                    index=['sim_time', 'duration', 'level'],\n",
    "                                    data=[current_time, duration, self._current_fill_level])\n",
    "            temp2: DataFrame = temp1.to_frame().T.astype(self._level_db_types)\n",
    "            self._level_db = pd.concat([self._level_db, temp2], ignore_index=True)\n",
    "            self._current_fill_level = len(self._target_object)\n",
    "            self._fill_level_starting_time = current_time\n",
    "        \n",
    "        return None\n",
    "        \n",
    "    def finalise_stats(self) -> None:\n",
    "        \"\"\"finalisation of stats gathering\"\"\"\n",
    "        # execute parent class function\n",
    "        super().finalise_stats()\n",
    "        \n",
    "        # finalise fill level tracking\n",
    "        self.track_fill_level(is_finalise=True)\n",
    "        \n",
    "        # weighted average fill level\n",
    "        self._level_db = self._level_db.loc[self._level_db['duration'] > 0., :].copy()\n",
    "        self._level_db = self._level_db.reset_index(drop=True)\n",
    "        temp1: DataFrame = self._level_db.copy()\n",
    "        temp1['mul'] = temp1['duration'] * temp1['level']\n",
    "        sums: Series = temp1.sum(axis=0)\n",
    "        self._wei_avg_fill_level: float = sums['mul'] / sums['duration']"
   ]
  },
  {
   "cell_type": "code",
   "execution_count": 598,
   "metadata": {},
   "outputs": [],
   "source": [
    "class InfrastructureObject(sim.Component):\n",
    "    \n",
    "    def __init__(\n",
    "        self,\n",
    "        env: SimulationEnvironment,\n",
    "        custom_identifier: CustomID,\n",
    "        name: str | None = None,\n",
    "        capacity: float = INF,\n",
    "        state: str = 'INIT',\n",
    "        possible_states: Iterable[str] = (\n",
    "            'INIT',\n",
    "            'FINISH',\n",
    "            'WAITING', \n",
    "            'PROCESSING', \n",
    "            'BLOCKED', \n",
    "            'FAILED', \n",
    "            'PAUSED',\n",
    "        ),\n",
    "        **kwargs,\n",
    "    ) -> None:\n",
    "        \"\"\"\n",
    "        env: simulation environment in which the infrastructure object is embedded\n",
    "        custom_identifier: unique user-defined custom ID of the given object \\\n",
    "            necessary for user interfaces\n",
    "        capacity: capacity of the infrastructure object, if multiple processing \\\n",
    "            slots available at the same time > 1, default=1\n",
    "        \"\"\"\n",
    "        # [STATS] Monitoring\n",
    "        # special buffer monitor\n",
    "        if isinstance(self, Buffer):\n",
    "            self._stat_monitor = BufferMonitor(\n",
    "                                env=env, obj=self, init_state=state, \n",
    "                                possible_states=possible_states, **kwargs)\n",
    "        else:\n",
    "            self._stat_monitor = Monitor(env=env, obj=self, init_state=state, \n",
    "                                possible_states=possible_states, **kwargs)\n",
    "        \"\"\"\n",
    "        # [STATE] resource state parameters\n",
    "        # all possible/allowed states\n",
    "        self.states_possible: set[str] = set(possible_states)\n",
    "        # always add states INIT and FINISH for control flow\n",
    "        if not 'INIT' in self.states_possible:\n",
    "            self.states_possible.add('INIT')\n",
    "        if not 'FINISH' in self.states_possible:\n",
    "            self.states_possible.add('FINISH')\n",
    "            \n",
    "        # check integrity of the given state\n",
    "        if state in self.states_possible:\n",
    "            self.state_current: str = state\n",
    "        else:\n",
    "            raise ValueError(f\"The state {state} is not allowed. Must be one of {self.states_possible}\")\n",
    "        \n",
    "        # boolean indicator if a state is set\n",
    "        self.state_status: dict[str, bool] = dict()\n",
    "        # time counter for each state\n",
    "        self.state_times: dict[str, float] = dict()\n",
    "        # starting time variable indicating when the last state assignment took place\n",
    "        self.state_starting_time: float = env.now()\n",
    "        \n",
    "        for state in self.states_possible:\n",
    "            # init state time dictionary\n",
    "            self.state_times[state] = 0.\n",
    "            # init state is set to True\n",
    "            if state == self.state_current:\n",
    "                self.state_status[state] = True\n",
    "            else:\n",
    "                self.state_status[state] = False\n",
    "        \"\"\"\n",
    "        \n",
    "        # assert machine information and register object in the environment\n",
    "        current_state = self._stat_monitor.get_current_state()\n",
    "        self._env_id, name = env.register_resource(\n",
    "                                obj=self, custom_identifier=custom_identifier,\n",
    "                                name=name, state=current_state)\n",
    "        self.custom_identifier = custom_identifier\n",
    "        self.cap = capacity\n",
    "        # intialize base class\n",
    "        process = 'main_logic'\n",
    "        super().__init__(env=env, name=name, process=process, **kwargs)\n",
    "        \n",
    "        # add logic queues\n",
    "        # each resource uses one associated logic queue, logic queues are not physically available\n",
    "        queue_name: str = f\"queue_{self.name()}\"\n",
    "        self.logic_queue: Queue = sim.Queue(name=queue_name, env=self.env)\n",
    "        \n",
    "        # currently available jobs on that resource\n",
    "        self.contents: OrderedDict[ObjectID, Job] = OrderedDict()\n",
    "        \n",
    "        # number of inputs/outputs\n",
    "        self.num_inputs: int = 0\n",
    "        self.num_outputs: int = 0\n",
    "                \n",
    "    @property\n",
    "    def env_id(self) -> EnvID:\n",
    "        return self._env_id\n",
    "    \n",
    "    @property\n",
    "    def stat_monitor(self) -> Monitor:\n",
    "        return self._stat_monitor\n",
    "    \n",
    "    \"\"\"\n",
    "    def set_state(\n",
    "        self,\n",
    "        state: str,\n",
    "    ) -> None:\n",
    "        \n",
    "        function to set the object in the given state\n",
    "        state: name of the state in which the object should be placed, must be part \\\n",
    "            of the object's possible states\n",
    "        \n",
    "        # eliminate lower-case letter\n",
    "        target_state = state.upper()\n",
    "        \n",
    "        # check if state is allowed\n",
    "        if target_state not in self.states_possible:\n",
    "            raise ValueError(f\"The state {target_state} is not allowed. Must be one of {self.states_possible}\")\n",
    "        \n",
    "        # check if state is already set\n",
    "        if self.state_status[target_state] == True:\n",
    "            logger_prodStations.info(f\"Tried to set state of {self} to >>{target_state}<<, but this state was already set.\\\n",
    "                The object's state was not changed.\")\n",
    "        \n",
    "        # calculate time for which the object was in the current state before changing it\n",
    "        current_state_start = self.state_starting_time\n",
    "        current_time = self.env.now()\n",
    "        current_state_duration = current_time - current_state_start\n",
    "        # add time to the time counter for the current state\n",
    "        current_state = self.state_current\n",
    "        self.state_times[current_state] += current_state_duration\n",
    "        \n",
    "        # set old state to False and new state to True\n",
    "        self.state_status[current_state] = False\n",
    "        self.state_status[target_state] = True\n",
    "        # assign new state as current one\n",
    "        self.state_current = target_state\n",
    "        # set state starting time to current time\n",
    "        self.state_starting_time = current_time\n",
    "        \n",
    "        # buffer-like objects with fill levels\n",
    "        is_finalise: bool = False\n",
    "        if target_state == 'FINISH':\n",
    "            is_finalise: bool = True\n",
    "        if hasattr(self, 'track_fill_level'):\n",
    "            self.track_fill_level(is_finalise=is_finalise)\n",
    "        \n",
    "        logger_prodStations.debug(f\"Duration for state {current_state} on {self} was {current_state_duration}\")\n",
    "        \n",
    "        return None\n",
    "    \"\"\"\n",
    "    \n",
    "    def add_content(\n",
    "        self,\n",
    "        job: Job,\n",
    "    ) -> None:\n",
    "        \"\"\"add contents to the InfrastructureObject\"\"\"\n",
    "        job_id = job.job_id\n",
    "        if job_id not in self.contents:\n",
    "            self.contents[job_id] = job\n",
    "        else:\n",
    "            raise KeyError(f\"Job {job} already in contents of {self}\")\n",
    "    \n",
    "    def remove_content(\n",
    "        self,\n",
    "        job: Job,\n",
    "    ) -> None:\n",
    "        \"\"\"remove contents from the InfrastructureObject\"\"\"\n",
    "        job_id = job.job_id\n",
    "        if job_id in self.contents:\n",
    "            del self.contents[job_id]\n",
    "        else:\n",
    "            raise KeyError(f\"Job {job} not in contents of {self}\")\n",
    "    \n",
    "    def put_job(\n",
    "        self,\n",
    "        job: Job,\n",
    "    ) -> InfrastructureObject | None:\n",
    "        \"\"\"\n",
    "        placing\n",
    "        \"\"\"\n",
    "        # ALLOCATION REQUEST\n",
    "        ## call dispatcher --> request for allocation\n",
    "        ## self._dispatcher.request_allocation ...\n",
    "        ### input job\n",
    "        #### LATER: LOGIC FOR RESOURCE ALLOCATION (AGENT)\n",
    "        ### - Dispatcher calls \"get_next_operation\"\n",
    "        ### - Dispatcher returns target_machine\n",
    "        ## ret: obtaining target machine\n",
    "        # ++++++++++ add later ++++++++++++\n",
    "        ## time component: given start date of operation\n",
    "        ## returning release date, waiting for release date or release early\n",
    "        dispatcher = self.env.dispatcher\n",
    "        target_station = dispatcher.request_job_allocation(job=job)\n",
    "        # get logic queue\n",
    "        logic_queue = target_station.logic_queue\n",
    "        # check if the target is a sink\n",
    "        if isinstance(target_station, Sink):\n",
    "            pass\n",
    "        else:\n",
    "            # check if associated buffers exist\n",
    "            logger_prodStations.debug(f\"[{self}] Check for buffers\")\n",
    "            buffers = target_station.buffers\n",
    "            \n",
    "            if buffers:\n",
    "                #logger_prodStations.debug(f\"[{self}] Buffer found\")\n",
    "                # [STATE:InfrStructObj] BLOCKED\n",
    "                self.env.update_res_state(obj=self, state='BLOCKED')\n",
    "                # [STATE:Job] BLOCKED\n",
    "                dispatcher.update_job_state(job=job, state='BLOCKED')\n",
    "                yield self.to_store(store=buffers, item=job, fail_delay=FAIL_DELAY, fail_priority=1)\n",
    "                if self.failed():\n",
    "                    raise UserWarning(f\"Store placement failed after {FAIL_DELAY} time steps. \\\n",
    "                        There seems to be deadlock.\")\n",
    "                # [STATE:Buffer] trigger state setting for target buffer\n",
    "                buffer = self.to_store_store()\n",
    "                if not isinstance(buffer, Buffer):\n",
    "                    logger_prodStations.debug(f\"{self.to_store_store()}, {self.to_store_store()}, {self.to_store_store()}\")\n",
    "                    raise TypeError(f\"From {self}: Job {job} Obj {buffer} is no buffer type at {self.env.now()}\")\n",
    "                buffer.activate()\n",
    "                # [CONTENT:Buffer] add content\n",
    "                buffer.add_content(job=job)\n",
    "                # [STATS:Buffer] count number of inputs\n",
    "                buffer.num_inputs += 1\n",
    "                logger_prodStations.debug(f\"obj = {self} \\t type of buffer >>{buffer}<< = {type(buffer)} at {self.env.now()}\")\n",
    "            else:\n",
    "                # adding request to machine\n",
    "                # currently not possible because machines are components,\n",
    "                # but resources which could be requested are not\n",
    "                pass\n",
    "            \n",
    "        # [Job] enter logic queue after physical placement\n",
    "        job.enter(logic_queue)\n",
    "        \n",
    "        # activate target processing station if passive\n",
    "        if target_station.ispassive():\n",
    "            target_station.activate()\n",
    "        \n",
    "        logger_prodStations.debug(f\"[{self}] Put Job {job} in queue {logic_queue}\")\n",
    "    \n",
    "        # [STATE:InfrStructObj] WAITING\n",
    "        self.env.update_res_state(obj=self, state='WAITING')\n",
    "        # [STATE:Job] successfully placed --> WAITING\n",
    "        dispatcher.update_job_state(job=job, state='WAITING')\n",
    "        # [STATS:InfrStructObj] count number of ouputs\n",
    "        self.num_outputs += 1\n",
    "        \n",
    "        return target_station\n",
    "    \n",
    "    def get_job(self) -> Job:\n",
    "        \"\"\"\n",
    "        getting jobs from associated predecessor resources\n",
    "        \"\"\"\n",
    "        # entering target machine (logic_buffer)\n",
    "        ## logic_buffer: job queue regardless of physical buffers\n",
    "        ### entity physically on machine, but no true holding resource object (violates load-resource model)\n",
    "        ### no capacity restrictions between resources, e.g. source can endlessly produce entities\n",
    "        ## --- logic ---\n",
    "        ## job enters logic queue of machine with unrestricted capacity\n",
    "        ## each machine can have an associated physical buffer\n",
    "        dispatcher = self.env.dispatcher\n",
    "        # request job from associated queue\n",
    "        job = dispatcher.request_job_sequencing(req_obj=self)\n",
    "        \n",
    "        # request and get job from associated buffer if it exists\n",
    "        if self._buffers:\n",
    "            yield self.from_store(store=self._buffers, filter=lambda item: item.job_id == job.job_id)\n",
    "            buffer = self.from_store_store()\n",
    "            # [STATS:Buffer] count number of outputs\n",
    "            buffer.num_outputs += 1\n",
    "            # [CONTENT:Buffer] remove content\n",
    "            buffer.remove_content(job=job)\n",
    "            # [STATE:Buffer] trigger state setting for target buffer\n",
    "            buffer.activate()\n",
    "        else:\n",
    "            pass\n",
    "        \n",
    "        # [STATE:InfrStructObj] set state to processing\n",
    "        self.env.update_res_state(obj=self, state='PROCESSING')\n",
    "        # [STATE:Job] successfully taken --> PROCESSING\n",
    "        dispatcher.update_job_state(job=job, state='PROCESSING')\n",
    "        \n",
    "        # [STATS:InfrStructObj] count number of inputs\n",
    "        self.num_outputs += 1\n",
    "        \n",
    "        return job\n",
    "    \n",
    "    ### PROCESS LOGIC\n",
    "    # each method of 'pre_process', 'sim_control', 'post_process' must be implemented in the child classes\n",
    "    def pre_process(self) -> None:\n",
    "        \"\"\"return type: tuple with parameters or None\"\"\"\n",
    "        raise NotImplementedError(f\"No pre-process method for {self} of type {self.__class__.__name__} defined.\")\n",
    "    \n",
    "    def sim_control(self) -> None:\n",
    "        \"\"\"return type: tuple with parameters or None\"\"\"\n",
    "        raise NotImplementedError(f\"No sim-control method for {self} of type {self.__class__.__name__} defined.\")\n",
    "    \n",
    "    def post_process(self) -> None:\n",
    "        \"\"\"return type: tuple with parameters or None\"\"\"\n",
    "        raise NotImplementedError(f\"No post-process method for {self} of type {self.__class__.__name__} defined.\")\n",
    "    \n",
    "    def main_logic(self) -> Iterator[Any]:\n",
    "        \"\"\"main logic loop for all resources in the simulation environment\"\"\"\n",
    "        logger.debug(f\"----> Process logic of {self}\")\n",
    "        # pre control logic\n",
    "        ret = self.pre_process()\n",
    "        # main control logic\n",
    "        if ret is not None:\n",
    "            ret = yield from self.sim_control(*ret)\n",
    "        else:\n",
    "            ret = yield from self.sim_control()\n",
    "        # post control logic\n",
    "        if ret is not None:\n",
    "            ret = self.post_process(*ret)\n",
    "        else:\n",
    "            ret = self.post_process()\n",
    "            \n",
    "    def finalise(self) -> None:\n",
    "        \"\"\"\n",
    "        method to be called at the end of the simulation run by \n",
    "        the environment's \"finalise_sim\" method\n",
    "        \"\"\"\n",
    "        # set finish state for each infrastructure object no matter of which child class\n",
    "        self.env.update_res_state(obj=self, state='FINISH')\n",
    "        # finalise stat gathering\n",
    "        self._stat_monitor.finalise_stats()\n",
    "        \n",
    "        \n",
    "    ### ANALYSE AND CHARTS ###\n",
    "    "
   ]
  },
  {
   "cell_type": "markdown",
   "metadata": {},
   "source": [
    "class InfrastructureObject(sim.Component):\n",
    "    \n",
    "    def __init__(\n",
    "        self,\n",
    "        env: SimulationEnvironment,\n",
    "        custom_identifier: CustomID,\n",
    "        name: str | None = None,\n",
    "        capacity: float = INF,\n",
    "        state: str = 'INIT',\n",
    "        possible_states: Iterable[str] = (\n",
    "            'INIT',\n",
    "            'FINISH',\n",
    "            'WAITING', \n",
    "            'PROCESSING', \n",
    "            'BLOCKED', \n",
    "            'FAILED', \n",
    "            'PAUSED',\n",
    "        ),\n",
    "        **kwargs,\n",
    "    ) -> None:\n",
    "        \"\"\"\n",
    "        env: simulation environment in which the infrastructure object is embedded\n",
    "        custom_identifier: unique user-defined custom ID of the given object \\\n",
    "            necessary for user interfaces\n",
    "        capacity: capacity of the infrastructure object, if multiple processing \\\n",
    "            slots available at the same time > 1, default=1\n",
    "        \"\"\"\n",
    "        # [STATE] resource state parameters\n",
    "        # all possible/allowed states\n",
    "        self.states_possible: set[str] = set(possible_states)\n",
    "        # always add states INIT and FINISH for control flow\n",
    "        if not 'INIT' in self.states_possible:\n",
    "            self.states_possible.add('INIT')\n",
    "        if not 'FINISH' in self.states_possible:\n",
    "            self.states_possible.add('FINISH')\n",
    "            \n",
    "        # check integrity of the given state\n",
    "        if state in self.states_possible:\n",
    "            self.state_current: str = state\n",
    "        else:\n",
    "            raise ValueError(f\"The state {state} is not allowed. Must be one of {self.states_possible}\")\n",
    "        \n",
    "        # boolean indicator if a state is set\n",
    "        self.state_status: dict[str, bool] = dict()\n",
    "        # time counter for each state\n",
    "        self.state_times: dict[str, float] = dict()\n",
    "        # starting time variable indicating when the last state assignment took place\n",
    "        self.state_starting_time: float = env.now()\n",
    "        \n",
    "        for state in self.states_possible:\n",
    "            # init state time dictionary\n",
    "            self.state_times[state] = 0.\n",
    "            # init state is set to True\n",
    "            if state == self.state_current:\n",
    "                self.state_status[state] = True\n",
    "            else:\n",
    "                self.state_status[state] = False\n",
    "        \n",
    "        # assert machine information and register object in the environment\n",
    "        self._env_id, name = env.register_resource(\n",
    "                                obj=self, custom_identifier=custom_identifier,\n",
    "                                name=name, state=self.state_current)\n",
    "        self.custom_identifier = custom_identifier\n",
    "        self.cap = capacity\n",
    "        # intialize base class\n",
    "        process = 'main_logic'\n",
    "        super().__init__(env=env, name=name, process=process, **kwargs)\n",
    "        \n",
    "        # add logic queues\n",
    "        # each resource uses one associated logic queue, logic queues are not physically available\n",
    "        queue_name: str = f\"queue_{self.name()}\"\n",
    "        self.logic_queue: Queue = sim.Queue(name=queue_name, env=self.env)\n",
    "        \n",
    "        # currently available jobs on that resource\n",
    "        self.contents: OrderedDict[ObjectID, Job] = OrderedDict()\n",
    "        \n",
    "        # number of inputs/outputs\n",
    "        self.num_inputs: int = 0\n",
    "        self.num_outputs: int = 0\n",
    "                \n",
    "    @property\n",
    "    def env_id(self) -> EnvID:\n",
    "        return self._env_id\n",
    "    \n",
    "    def set_state(\n",
    "        self,\n",
    "        state: str,\n",
    "    ) -> None:\n",
    "        \"\"\"\n",
    "        function to set the object in the given state\n",
    "        state: name of the state in which the object should be placed, must be part \\\n",
    "            of the object's possible states\n",
    "        \"\"\"\n",
    "        # eliminate lower-case letter\n",
    "        target_state = state.upper()\n",
    "        \n",
    "        # check if state is allowed\n",
    "        if target_state not in self.states_possible:\n",
    "            raise ValueError(f\"The state {target_state} is not allowed. Must be one of {self.states_possible}\")\n",
    "        \n",
    "        # check if state is already set\n",
    "        if self.state_status[target_state] == True:\n",
    "            logger_prodStations.info(f\"Tried to set state of {self} to >>{target_state}<<, but this state was already set.\\\n",
    "                The object's state was not changed.\")\n",
    "        \n",
    "        # calculate time for which the object was in the current state before changing it\n",
    "        current_state_start = self.state_starting_time\n",
    "        current_time = self.env.now()\n",
    "        current_state_duration = current_time - current_state_start\n",
    "        # add time to the time counter for the current state\n",
    "        current_state = self.state_current\n",
    "        self.state_times[current_state] += current_state_duration\n",
    "        \n",
    "        # set old state to False and new state to True\n",
    "        self.state_status[current_state] = False\n",
    "        self.state_status[target_state] = True\n",
    "        # assign new state as current one\n",
    "        self.state_current = target_state\n",
    "        # set state starting time to current time\n",
    "        self.state_starting_time = current_time\n",
    "        \n",
    "        # buffer-like objects with fill levels\n",
    "        is_finalise: bool = False\n",
    "        if target_state == 'FINISH':\n",
    "            is_finalise: bool = True\n",
    "        if hasattr(self, 'track_fill_level'):\n",
    "            self.track_fill_level(is_finalise=is_finalise)\n",
    "        \n",
    "        logger_prodStations.debug(f\"Duration for state {current_state} on {self} was {current_state_duration}\")\n",
    "        \n",
    "        return None\n",
    "    \n",
    "    def add_content(\n",
    "        self,\n",
    "        job: Job,\n",
    "    ) -> None:\n",
    "        \"\"\"add contents to the InfrastructureObject\"\"\"\n",
    "        job_id = job.job_id\n",
    "        if job_id not in self.contents:\n",
    "            self.contents[job_id] = job\n",
    "        else:\n",
    "            raise KeyError(f\"Job {job} already in contents of {self}\")\n",
    "    \n",
    "    def remove_content(\n",
    "        self,\n",
    "        job: Job,\n",
    "    ) -> None:\n",
    "        \"\"\"remove contents from the InfrastructureObject\"\"\"\n",
    "        job_id = job.job_id\n",
    "        if job_id in self.contents:\n",
    "            del self.contents[job_id]\n",
    "        else:\n",
    "            raise KeyError(f\"Job {job} not in contents of {self}\")\n",
    "    \n",
    "    def put_job(\n",
    "        self,\n",
    "        job: Job,\n",
    "    ) -> InfrastructureObject | None:\n",
    "        \"\"\"\n",
    "        placing\n",
    "        \"\"\"\n",
    "        # ALLOCATION REQUEST\n",
    "        ## call dispatcher --> request for allocation\n",
    "        ## self._dispatcher.request_allocation ...\n",
    "        ### input job\n",
    "        #### LATER: LOGIC FOR RESOURCE ALLOCATION (AGENT)\n",
    "        ### - Dispatcher calls \"get_next_operation\"\n",
    "        ### - Dispatcher returns target_machine\n",
    "        ## ret: obtaining target machine\n",
    "        # ++++++++++ add later ++++++++++++\n",
    "        ## time component: given start date of operation\n",
    "        ## returning release date, waiting for release date or release early\n",
    "        dispatcher = self.env.dispatcher\n",
    "        target_station = dispatcher.request_job_allocation(job=job)\n",
    "        # get logic queue\n",
    "        logic_queue = target_station.logic_queue\n",
    "        # check if the target is a sink\n",
    "        if isinstance(target_station, Sink):\n",
    "            pass\n",
    "        else:\n",
    "            # check if associated buffers exist\n",
    "            logger_prodStations.debug(f\"[{self}] Check for buffers\")\n",
    "            buffers = target_station.buffers\n",
    "            \n",
    "            if buffers:\n",
    "                #logger_prodStations.debug(f\"[{self}] Buffer found\")\n",
    "                # [STATE:InfrStructObj] BLOCKED\n",
    "                self.env.update_res_state(obj=self, state='BLOCKED')\n",
    "                # [STATE:Job] BLOCKED\n",
    "                dispatcher.update_job_state(job=job, state='BLOCKED')\n",
    "                yield self.to_store(store=buffers, item=job, fail_delay=FAIL_DELAY, fail_priority=1)\n",
    "                if self.failed():\n",
    "                    raise UserWarning(f\"Store placement failed after {FAIL_DELAY} time steps. \\\n",
    "                        There seems to be deadlock.\")\n",
    "                # [STATE:Buffer] trigger state setting for target buffer\n",
    "                buffer = self.to_store_store()\n",
    "                if not isinstance(buffer, Buffer):\n",
    "                    logger_prodStations.debug(f\"{self.to_store_store()}, {self.to_store_store()}, {self.to_store_store()}\")\n",
    "                    raise TypeError(f\"From {self}: Job {job} Obj {buffer} is no buffer type at {self.env.now()}\")\n",
    "                buffer.activate()\n",
    "                # [CONTENT:Buffer] add content\n",
    "                buffer.add_content(job=job)\n",
    "                # [STATS:Buffer] count number of inputs\n",
    "                buffer.num_inputs += 1\n",
    "                logger_prodStations.debug(f\"obj = {self} \\t type of buffer >>{buffer}<< = {type(buffer)} at {self.env.now()}\")\n",
    "            else:\n",
    "                # adding request to machine\n",
    "                # currently not possible because machines are components,\n",
    "                # but resources which could be requested are not\n",
    "                pass\n",
    "            \n",
    "        # [Job] enter logic queue after physical placement\n",
    "        job.enter(logic_queue)\n",
    "        \n",
    "        # activate target processing station if passive\n",
    "        if target_station.ispassive():\n",
    "            target_station.activate()\n",
    "        \n",
    "        logger_prodStations.debug(f\"[{self}] Put Job {job} in queue {logic_queue}\")\n",
    "    \n",
    "        # [STATE:InfrStructObj] WAITING\n",
    "        self.env.update_res_state(obj=self, state='WAITING')\n",
    "        # [STATE:Job] successfully placed --> WAITING\n",
    "        dispatcher.update_job_state(job=job, state='WAITING')\n",
    "        # [STATS:InfrStructObj] count number of ouputs\n",
    "        self.num_outputs += 1\n",
    "        \n",
    "        return target_station\n",
    "    \n",
    "    def get_job(self) -> Job:\n",
    "        \"\"\"\n",
    "        getting jobs from associated predecessor resources\n",
    "        \"\"\"\n",
    "        # entering target machine (logic_buffer)\n",
    "        ## logic_buffer: job queue regardless of physical buffers\n",
    "        ### entity physically on machine, but no true holding resource object (violates load-resource model)\n",
    "        ### no capacity restrictions between resources, e.g. source can endlessly produce entities\n",
    "        ## --- logic ---\n",
    "        ## job enters logic queue of machine with unrestricted capacity\n",
    "        ## each machine can have an associated physical buffer\n",
    "        dispatcher = self.env.dispatcher\n",
    "        # request job from associated queue\n",
    "        job = dispatcher.request_job_sequencing(req_obj=self)\n",
    "        \n",
    "        # request and get job from associated buffer if it exists\n",
    "        if self._buffers:\n",
    "            yield self.from_store(store=self._buffers, filter=lambda item: item.job_id == job.job_id)\n",
    "            buffer = self.from_store_store()\n",
    "            # [STATS:Buffer] count number of outputs\n",
    "            buffer.num_outputs += 1\n",
    "            # [CONTENT:Buffer] remove content\n",
    "            buffer.remove_content(job=job)\n",
    "            # [STATE:Buffer] trigger state setting for target buffer\n",
    "            buffer.activate()\n",
    "        else:\n",
    "            pass\n",
    "        \n",
    "        # [STATE:InfrStructObj] set state to processing\n",
    "        self.env.update_res_state(obj=self, state='PROCESSING')\n",
    "        # [STATE:Job] successfully taken --> PROCESSING\n",
    "        dispatcher.update_job_state(job=job, state='PROCESSING')\n",
    "        \n",
    "        # [STATS:InfrStructObj] count number of inputs\n",
    "        self.num_outputs += 1\n",
    "        \n",
    "        return job\n",
    "    \n",
    "    ### PROCESS LOGIC\n",
    "    # each method of 'pre_process', 'sim_control', 'post_process' must be implemented in the child classes\n",
    "    def pre_process(self) -> None:\n",
    "        \"\"\"return type: tuple with parameters or None\"\"\"\n",
    "        raise NotImplementedError(f\"No pre-process method for {self} of type {self.__class__.__name__} defined.\")\n",
    "    \n",
    "    def sim_control(self) -> None:\n",
    "        \"\"\"return type: tuple with parameters or None\"\"\"\n",
    "        raise NotImplementedError(f\"No sim-control method for {self} of type {self.__class__.__name__} defined.\")\n",
    "    \n",
    "    def post_process(self) -> None:\n",
    "        \"\"\"return type: tuple with parameters or None\"\"\"\n",
    "        raise NotImplementedError(f\"No post-process method for {self} of type {self.__class__.__name__} defined.\")\n",
    "    \n",
    "    def main_logic(self) -> Iterator[Any]:\n",
    "        \"\"\"main logic loop for all resources in the simulation environment\"\"\"\n",
    "        logger.debug(f\"----> Process logic of {self}\")\n",
    "        # pre control logic\n",
    "        ret = self.pre_process()\n",
    "        # main control logic\n",
    "        if ret is not None:\n",
    "            ret = yield from self.sim_control(*ret)\n",
    "        else:\n",
    "            ret = yield from self.sim_control()\n",
    "        # post control logic\n",
    "        if ret is not None:\n",
    "            ret = self.post_process(*ret)\n",
    "        else:\n",
    "            ret = self.post_process()\n",
    "            \n",
    "    def finalise(self) -> None:\n",
    "        \"\"\"\n",
    "        method to be called at the end of the simulation run by \n",
    "        the environment's \"finalise_sim\" method\n",
    "        \"\"\"\n",
    "        # set finish state for each infrastructure object no matter of which child class\n",
    "        self.env.update_res_state(obj=self, state='FINISH')\n",
    "        \n",
    "        # build state duration table\n",
    "        temp1: Series = pd.Series(data=self.state_times)\n",
    "        temp2: DataFrame = temp1.to_frame()\n",
    "        temp2.columns = ['abs [timesteps]']\n",
    "        temp2['rel [%]'] = temp2['abs [timesteps]'] / temp2.sum(axis=0)['abs [timesteps]'] * 100\n",
    "        temp2 = temp2.drop(labels=['INIT', 'FINISH'], axis=0)\n",
    "        self.state_durations = temp2.copy()\n",
    "        \n",
    "    ### ANALYSE AND CHARTS ###\n",
    "    def draw_state_bar_chart(        \n",
    "        self,\n",
    "        save_img: bool = False,\n",
    "        save_html: bool = False,\n",
    "        file_name: str = 'state_distribution',\n",
    "    ) -> PlotlyFigure:\n",
    "        \"\"\"draws the collected state times of the object as bar chart\"\"\"\n",
    "        data = pd.DataFrame.from_dict(data=self.state_times, orient='index', columns=['total time'])\n",
    "        data.index = data.index.rename('state')\n",
    "        \n",
    "        fig: PlotlyFigure = px.bar(data, text_auto='.2f')\n",
    "        fig.update_layout(title=f'State Time Distribution of {self}', showlegend=False)\n",
    "        fig.update_yaxes(title=dict({'text': 'total time'}))\n",
    "        \n",
    "        fig.show()\n",
    "        \n",
    "        file_name = file_name + f'_{self}'\n",
    "        \n",
    "        if save_html:\n",
    "            file = f'{file_name}.html'\n",
    "            fig.write_html(file)\n",
    "        \n",
    "        if save_img:\n",
    "            file = f'{file_name}.svg'\n",
    "            fig.write_image(file)\n",
    "        \n",
    "        return fig"
   ]
  },
  {
   "attachments": {},
   "cell_type": "markdown",
   "metadata": {},
   "source": [
    "<a id='processingstation'></a>"
   ]
  },
  {
   "cell_type": "code",
   "execution_count": null,
   "metadata": {},
   "outputs": [],
   "source": []
  },
  {
   "cell_type": "code",
   "execution_count": null,
   "metadata": {},
   "outputs": [],
   "source": []
  },
  {
   "cell_type": "code",
   "execution_count": 599,
   "metadata": {},
   "outputs": [],
   "source": [
    "class ProcessingStation(InfrastructureObject):\n",
    "    \n",
    "    def __init__(\n",
    "        self,\n",
    "        buffers: Iterable[Buffer] | None = None,\n",
    "        **kwargs,\n",
    "    ) -> None:\n",
    "        \"\"\"\n",
    "        env: simulation environment in which the infrastructure object is embedded\n",
    "        capacity: capacity of the infrastructure object, if multiple processing \\\n",
    "            slots available at the same time > 1, default=1\n",
    "        \"\"\"\n",
    "        # intialize base class\n",
    "        super().__init__(**kwargs)\n",
    "        \n",
    "        # add physical buffers, more than one allowed\n",
    "        # contrary to logic queues buffers are infrastructure objects and exist physically\n",
    "        if buffers is None:\n",
    "            self._buffers: set[Buffer] = set()\n",
    "        else:\n",
    "            self._buffers: set[Buffer] = set(buffers).copy()\n",
    "        \n",
    "        # add processing station to the associated ones of each buffer\n",
    "        # necessary because if the number of resources for one buffer exceeds its capacity\n",
    "        # deadlocks are possible\n",
    "        for buffer in self._buffers:\n",
    "            buffer.add_prod_station(prod_station=self)\n",
    "        \n",
    "    @property\n",
    "    def buffers(self) -> set[Buffer]:\n",
    "        return self._buffers\n",
    "    \n",
    "    def add_buffer(\n",
    "        self,\n",
    "        buffer: Buffer,\n",
    "    ) -> None:\n",
    "        \"\"\"\n",
    "        adding buffer to the current associated ones\n",
    "        \"\"\"\n",
    "        # only buffer types allowed\n",
    "        if not isinstance(buffer, Buffer):\n",
    "            raise TypeError(f\"Object is no Buffer type. Only objects of type Buffer can be added as buffers.\")\n",
    "        # check if already present\n",
    "        if buffer not in self._buffers:\n",
    "            self._buffers.add(buffer)\n",
    "            buffer.add_prod_station(prod_station=self)\n",
    "        else:\n",
    "            logger_prodStations.warning(f\"The Buffer >>{buffer}<< is already associated with the resource >>{self}<<. \\\n",
    "                Buffer was not added to the resource.\")\n",
    "\n",
    "    def remove_buffer(\n",
    "        self,\n",
    "        buffer: Buffer,\n",
    "    ) -> None:\n",
    "        \"\"\"\n",
    "        removing buffer from the current associated ones\n",
    "        \"\"\"\n",
    "        if buffer in self._buffers:\n",
    "            self._buffers.remove(buffer)\n",
    "            buffer.remove_prod_station(prod_station=self)\n",
    "        else:\n",
    "            raise KeyError(f\"The buffer >>{buffer}<< is not associated with the resource >>{self}<< and \\\n",
    "                therefore could not be removed.\")\n",
    "    \n",
    "    ### PROCESS LOGIC\n",
    "    def pre_process(self) -> None:\n",
    "        self.env.update_res_state(obj=self, state='WAITING')\n",
    "        return None\n",
    "    \n",
    "    def sim_control(self) -> None:\n",
    "        while True:\n",
    "            # initialise state by passivating machines\n",
    "            # resources are activated by other resources\n",
    "            if len(self.logic_queue) == 0:\n",
    "                yield self.passivate()\n",
    "            logger_prodStations.debug(f\"[MACHINE: {self}] is getting job from queue\")\n",
    "            \n",
    "            # get job function from PARENT CLASS\n",
    "            # ONLY PROCESSING STATIONS ARE ASKING FOR SEQUENCING\n",
    "            # state setting --> 'PROCESSING'\n",
    "            job = yield from self.get_job()\n",
    "            # [STATS:ProdStation] count number of inputs\n",
    "            self.num_inputs += 1\n",
    "            # [CONTENT:ProdStation] add content\n",
    "            self.add_content(job=job)\n",
    "            \n",
    "            # RELEVANT INFORMATION BEFORE PROCESSING\n",
    "            #current_op.start_time = self.env.now()\n",
    "            self.env.dispatcher.update_job_process_info(job=job, preprocess=True)\n",
    "            proc_time = job.current_proc_time\n",
    "            logger_prodStations.debug(f\"[START] job ID {job.job_id} at {self.env.now()} on machine ID {self.custom_identifier} \\\n",
    "                with proc time {proc_time}\")\n",
    "            # PROCESSING\n",
    "            yield self.hold(proc_time)\n",
    "            # RELEVANT INFORMATION AFTER PROCESSING\n",
    "            self.env.dispatcher.update_job_process_info(job=job, preprocess=False)\n",
    "            \n",
    "            logger_prodStations.debug(f\"[END] job ID {job.job_id} at {self.env.now()} on machine ID {self.custom_identifier}\")\n",
    "            # only place job if there are open operations left\n",
    "            # maybe add to 'put_job' method\n",
    "            target_proc_station = yield from self.put_job(job=job)\n",
    "            # [CONTENT:ProdStation] remove content\n",
    "            self.remove_content(job=job)\n",
    "            \n",
    "    def post_process(self) -> None:\n",
    "        return None\n",
    "    \n",
    "    def finalise(self) -> None:\n",
    "        \"\"\"\n",
    "        method to be called at the end of the simulation run by \n",
    "        the environment's \"finalise_sim\" method\n",
    "        \"\"\"\n",
    "        # each resource object class has dedicated finalise methods which \n",
    "        # must be called by children\n",
    "        super().finalise()"
   ]
  },
  {
   "cell_type": "code",
   "execution_count": null,
   "metadata": {},
   "outputs": [],
   "source": []
  },
  {
   "attachments": {},
   "cell_type": "markdown",
   "metadata": {},
   "source": [
    "<a id='machine'></a>"
   ]
  },
  {
   "cell_type": "code",
   "execution_count": 600,
   "metadata": {},
   "outputs": [],
   "source": [
    "class Machine(ProcessingStation):\n",
    "    \n",
    "    def __init__(\n",
    "        self,\n",
    "        resource_type: str = 'Machine',\n",
    "        **kwargs,\n",
    "    ) -> None:\n",
    "        \"\"\"\n",
    "        env:        SimPy Environment in which machine is embedded\n",
    "        num_slots:  capacity of the machine, if multiple processing \n",
    "                    slots available at the same time > 1, default=1\n",
    "        \"\"\"\n",
    "        # assert object information\n",
    "        self.res_type = resource_type\n",
    "        \n",
    "        # intialize base class\n",
    "        super().__init__(**kwargs)\n",
    "        \n",
    "    "
   ]
  },
  {
   "attachments": {},
   "cell_type": "markdown",
   "metadata": {},
   "source": [
    "<a id='buffer'></a>"
   ]
  },
  {
   "cell_type": "code",
   "execution_count": 601,
   "metadata": {},
   "outputs": [],
   "source": [
    "class Buffer(sim.Store, InfrastructureObject):\n",
    "    \n",
    "    def __init__(\n",
    "        self,\n",
    "        capacity: float,\n",
    "        resource_type: str = 'Buffer',\n",
    "        possible_states: Iterable[str] = (\n",
    "            'INIT',\n",
    "            'FINISH',\n",
    "            'FULL',\n",
    "            'EMPTY',\n",
    "            'INTERMEDIATE',\n",
    "            'FAILED',\n",
    "            'PAUSED',\n",
    "        ),\n",
    "        fill_level: int = 0,\n",
    "        **kwargs,\n",
    "    ) -> None:\n",
    "        \"\"\"\n",
    "        capacity: capacity of the buffer, can be infinite\n",
    "        \"\"\"\n",
    "        # assert object information\n",
    "        self.res_type = resource_type\n",
    "        self.start_fill_level = fill_level\n",
    "        \n",
    "        # intialize base classes\n",
    "        # using hard-coded classes because salabim does not provide \n",
    "        # interfaces for multiple inheritance\n",
    "        sim.Store.__init__(self, capacity=capacity, env=env)\n",
    "        InfrastructureObject.__init__(\n",
    "                            self, capacity=capacity, \n",
    "                            possible_states=possible_states, **kwargs)\n",
    "        \n",
    "        # material flow relationships\n",
    "        self._associated_prod_stations: set[ProcessingStation] = set()\n",
    "        self._count_associated_prod_stations: int = 0\n",
    "        \"\"\"\n",
    "        # level tracking\n",
    "        self._level_db_types = {\n",
    "            'sim_time': float,\n",
    "            'duration': float,\n",
    "            'level': int,\n",
    "        }\n",
    "        self._level_db: DataFrame = pd.DataFrame(\n",
    "                                        columns=['sim_time', 'duration', 'level'], \n",
    "                                        data=[[0., 0., fill_level]])\n",
    "        self._level_db = self._level_db.astype(self._level_db_types)\n",
    "        \n",
    "        self._current_fill_level = fill_level\n",
    "        self._fill_level_starting_time: float = self.env.now()\n",
    "        self._wei_avg_fill_level: float | None = None\n",
    "        \"\"\"\n",
    "    \n",
    "    @property\n",
    "    def level_db(self) -> DataFrame:\n",
    "        return self._stat_monitor._level_db\n",
    "    \n",
    "    @property\n",
    "    def wei_avg_fill_level(self) -> float:\n",
    "        return self._stat_monitor._wei_avg_fill_level\n",
    "    \n",
    "    \n",
    "    ### MATERIAL FLOW RELATIONSHIP\n",
    "    def add_prod_station(\n",
    "        self,\n",
    "        prod_station: ProcessingStation\n",
    "    ) -> None:\n",
    "        \"\"\"\n",
    "        function to add processing stations which are associated with \n",
    "        \"\"\"\n",
    "        if not isinstance(prod_station, ProcessingStation):\n",
    "            raise TypeError(f\"Object is no ProcessingStation type. Only objects of type ProcessingStation can be added to a buffer.\")\n",
    "        \n",
    "        # check if adding a new resource exceeds the given capacity\n",
    "        # each associated processing station needs one storage place in the buffer\n",
    "        # else deadlocks are possible\n",
    "        if (self._count_associated_prod_stations + 1) > self.cap:\n",
    "            raise UserWarning(f\"Tried to add a new resource to buffer {self}, but the number of associated \\\n",
    "                resources exceeds its capacity which could result in deadlocks.\")\n",
    "        \n",
    "        # check if processing station can be added\n",
    "        if prod_station not in self._associated_prod_stations:\n",
    "            self._associated_prod_stations.add(prod_station)\n",
    "            self._count_associated_prod_stations += 1\n",
    "        else:\n",
    "            logger_buffers.warning(f\"The Processing Station >>{prod_station}<< is already associated with the resource >>{self}<<. \\\n",
    "                Processing Station was not added to the resource.\")\n",
    "        \n",
    "    def remove_prod_station(\n",
    "        self,\n",
    "        prod_station: ProcessingStation\n",
    "    ) -> None:\n",
    "        \"\"\"\n",
    "        removing a processing station from the current associated ones\n",
    "        \"\"\"\n",
    "        if prod_station in self._associated_prod_stations:\n",
    "            self._associated_prod_stations.remove(prod_station)\n",
    "            self._count_associated_prod_stations -= 1\n",
    "        else:\n",
    "            raise KeyError(f\"The processing station >>{prod_station}<< is not associated with the resource >>{self}<< and \\\n",
    "                therefore could not be removed.\")\n",
    "    \"\"\"\n",
    "    def track_fill_level(\n",
    "        self,\n",
    "        is_finalise: bool = False,\n",
    "    ) -> None:\n",
    "        adds an entry to the fill level database\n",
    "        # only calculate duration if buffer level changes\n",
    "        current_time = self.env.now()\n",
    "        duration = current_time - self._fill_level_starting_time\n",
    "        logger_buffers.debug(f\"[BUFFER: {self}] Current time is {current_time} with level {len(self)} and old level {self._current_fill_level}\")\n",
    "        #if ((self._current_fill_level != len(self)) and (duration > 0.0)) or is_finalise:\n",
    "        if (self._current_fill_level != len(self)) or is_finalise:\n",
    "            temp1: Series = pd.Series(\n",
    "                                    index=['sim_time', 'duration', 'level'],\n",
    "                                    data=[current_time, duration, self._current_fill_level])\n",
    "            temp2: DataFrame = temp1.to_frame().T.astype(self._level_db_types)\n",
    "            self._level_db = pd.concat([self._level_db, temp2], ignore_index=True)\n",
    "            self._current_fill_level = len(self)\n",
    "            self._fill_level_starting_time = current_time\n",
    "        \n",
    "        return None\n",
    "    \"\"\"\n",
    "    ### PROCESS LOGIC\n",
    "    def pre_process(self) -> None:\n",
    "        self.env.update_res_state(obj=self, state='EMPTY')\n",
    "        return None\n",
    "    \n",
    "    def sim_control(self) -> None:\n",
    "        while True:\n",
    "            logger_prodStations.debug(f\"[BUFFER: {self}] Invoking at {self.env.now()}\")\n",
    "            # full\n",
    "            if self.available_quantity() == 0:\n",
    "                # [STATE] FULL\n",
    "                self.env.update_res_state(obj=self, state='FULL')\n",
    "                logger_prodStations.debug(f\"[BUFFER: {self}] Set to 'FULL' at {self.env.now()}\")\n",
    "            # empty\n",
    "            elif self.available_quantity() == self.capacity():\n",
    "                # [STATE] EMPTY\n",
    "                self.env.update_res_state(obj=self, state='EMPTY')\n",
    "                logger_prodStations.debug(f\"[BUFFER: {self}] Set to 'EMPTY' at {self.env.now()}\")\n",
    "            else:\n",
    "                # [STATE] INTERMEDIATE\n",
    "                self.env.update_res_state(obj=self, state='INTERMEDIATE')\n",
    "                logger_prodStations.debug(f\"[BUFFER: {self}] Neither 'EMPTY' nor 'FULL' at {self.env.now()}\")\n",
    "            \n",
    "            yield self.passivate()\n",
    "        \n",
    "        return None\n",
    "            \n",
    "    def post_process(self) -> None:\n",
    "        return None\n",
    "    \n",
    "    def finalise(self) -> None:\n",
    "        \"\"\"\n",
    "        method to be called at the end of the simulation run by \n",
    "        the environment's \"finalise_sim\" method\n",
    "        \"\"\"\n",
    "        # each resource object class has dedicated finalise methods which \n",
    "        # must be called by children\n",
    "        super().finalise()\n",
    "    \n",
    "    \"\"\"\n",
    "    def finalise(self) -> None:\n",
    "        \n",
    "        method to be called at the end of the simulation run by \n",
    "        the environment's \"finalise_sim\" method\n",
    "        \n",
    "        # each resource object class has dedicated finalise methods which \n",
    "        # must be called by children\n",
    "        super().finalise()\n",
    "        \n",
    "        # finalise fill level tracking\n",
    "        self.track_fill_level(is_finalise=True)\n",
    "        \n",
    "        # weighted average fill level\n",
    "        self._level_db = self._level_db.loc[self._level_db['duration'] > 0., :].copy()\n",
    "        self._level_db = self._level_db.reset_index(drop=True)\n",
    "        temp1: DataFrame = self._level_db.copy()\n",
    "        temp1['mul'] = temp1['duration'] * temp1['level']\n",
    "        sums: Series = temp1.sum(axis=0)\n",
    "        self._wei_avg_fill_level: float = sums['mul'] / sums['duration']\n",
    "    \"\"\"\n",
    "        \n",
    "    def draw_fill_level(\n",
    "        self,\n",
    "        save_img: bool = False,\n",
    "        save_html: bool = False,\n",
    "        file_name: str = 'fill_level',\n",
    "    ) -> PlotlyFigure:\n",
    "        \"\"\"\n",
    "        method to draw and display the fill level expansion of the corresponding buffer\n",
    "        \"\"\"\n",
    "        # add starting point to start chart at t = init time\n",
    "        data = self.level_db.copy()\n",
    "        val1: float = data.loc[0, 'sim_time'] - data.loc[0, 'duration']\n",
    "        val2: float = 0.\n",
    "        val3: int = data.loc[0, 'level']\n",
    "        temp1: DataFrame = pd.DataFrame(columns=data.columns, data=[[val1, val2, val3]])\n",
    "        temp1 = pd.concat([temp1, data], ignore_index=True)\n",
    "        \n",
    "        fig: PlotlyFigure = px.line(x=temp1['sim_time'], y=temp1['level'], line_shape=\"vh\")\n",
    "        fig.update_traces(line=dict(width=3))\n",
    "        fig.update_layout(title=f'Fill Level of {self}')\n",
    "        fig.update_yaxes(title=dict({'text': 'fill level [-]'}))\n",
    "        fig.update_xaxes(title=dict({'text': 'time'}))\n",
    "        fig.add_hline(\n",
    "                    y=self.wei_avg_fill_level, line_width=3, \n",
    "                    line_dash='dot', line_color='orange')\n",
    "        \n",
    "        fig.show()\n",
    "        \n",
    "        file_name = file_name + f'_{self}'\n",
    "        \n",
    "        if save_html:\n",
    "            file = f'{file_name}.html'\n",
    "            fig.write_html(file)\n",
    "        \n",
    "        if save_img:\n",
    "            file = f'{file_name}.svg'\n",
    "            fig.write_image(file)\n",
    "        \n",
    "        return fig\n",
    "    "
   ]
  },
  {
   "cell_type": "code",
   "execution_count": null,
   "metadata": {},
   "outputs": [],
   "source": []
  },
  {
   "attachments": {},
   "cell_type": "markdown",
   "metadata": {},
   "source": [
    "[Jump to top](#top)"
   ]
  },
  {
   "cell_type": "code",
   "execution_count": 602,
   "metadata": {},
   "outputs": [
    {
     "data": {
      "text/plain": [
       "10.490652683415727"
      ]
     },
     "execution_count": 602,
     "metadata": {},
     "output_type": "execute_result"
    }
   ],
   "source": [
    "random.normalvariate(10, 2)"
   ]
  },
  {
   "attachments": {},
   "cell_type": "markdown",
   "metadata": {},
   "source": [
    "**Sources:**\n",
    "- entity generation:\n",
    "    - constant\n",
    "    - random"
   ]
  },
  {
   "attachments": {},
   "cell_type": "markdown",
   "metadata": {},
   "source": [
    "<a id='source'></a>"
   ]
  },
  {
   "cell_type": "code",
   "execution_count": null,
   "metadata": {},
   "outputs": [],
   "source": []
  },
  {
   "cell_type": "code",
   "execution_count": 603,
   "metadata": {},
   "outputs": [],
   "source": [
    "class Source(InfrastructureObject):\n",
    "    \n",
    "    def __init__(\n",
    "        self,\n",
    "        resource_type: str = 'Source',\n",
    "        proc_time: float = 1.,\n",
    "        random_generation: bool = False,\n",
    "        job_generator: RandomJobGenerator | None = None,\n",
    "        num_gen_jobs: int = 5,\n",
    "        **kwargs,\n",
    "    ) -> None:\n",
    "        \"\"\"\n",
    "        num_gen_jobs: total number of jobs to be generated\n",
    "        \"\"\"\n",
    "        # assert object information and register object in the environment\n",
    "        self.res_type = resource_type\n",
    "        \n",
    "        # random generation\n",
    "        if random_generation and job_generator is None:\n",
    "            raise ValueError(\"Random generator instance needed for random job generation\")\n",
    "        \n",
    "        self.random_generation = random_generation\n",
    "        self.job_generator = job_generator\n",
    "        \n",
    "        ### REWORK\n",
    "        # initialize component with necessary process function\n",
    "        random.seed(42)\n",
    "        super().__init__(**kwargs)\n",
    "        \n",
    "        # parameters\n",
    "        self.proc_time = proc_time\n",
    "        self.num_gen_jobs = num_gen_jobs\n",
    "        \n",
    "    \n",
    "    ### STATE SETTING\n",
    "    \n",
    "    \n",
    "    def _obtain_proc_time(self) -> float:\n",
    "        \"\"\"\n",
    "        function to generate a constant or random processing time\n",
    "        \"\"\"\n",
    "        if self.random_generation:\n",
    "            # random generation, add later\n",
    "            return self.proc_time\n",
    "        else:\n",
    "            return self.proc_time\n",
    "    \n",
    "    ### PROCESS LOGIC\n",
    "    def pre_process(self) -> None:\n",
    "        self.env.update_res_state(obj=self, state='PROCESSING')\n",
    "        return None\n",
    "    \n",
    "    def sim_control(self) -> None:\n",
    "        # id counter for debugging, else endless generation\n",
    "        count = 0\n",
    "        while count < self.num_gen_jobs:\n",
    "            # start at t=0 with generation\n",
    "            # generate object\n",
    "            ## random job properties\n",
    "            ## currently: each job passes each machine, only one machine of each operation type\n",
    "            mat_ProcTimes, mat_JobMachID = self.job_generator.gen_rnd_job(self.env.num_proc_stations)\n",
    "            job = Job(dispatcher=self.env.dispatcher, proc_times=mat_ProcTimes.tolist(), \n",
    "                      machine_order=mat_JobMachID.tolist())\n",
    "            # [STATS:Job] creation time = release time\n",
    "            self.env.dispatcher.release_job(job=job)\n",
    "            # [STATS:Source] count number of inputs (source: generation of jobs or entry in pipeline)\n",
    "            # implemented in 'get_job' method which is not executed by source objects\n",
    "            self.num_inputs += 1\n",
    "            logger_sources.debug(f\"[SOURCE: {self}] Generated {job} at {self.env.now()}\")\n",
    "            \n",
    "            logger_sources.debug(f\"[SOURCE: {self}] Request allocation...\")\n",
    "            # put job via 'put_job' function, implemented in parent class 'InfrastructureObject'\n",
    "            target_proc_station = yield from self.put_job(job=job)\n",
    "            logger_sources.debug(f\"[SOURCE: {self}] PUT JOB with ret = {target_proc_station}\")\n",
    "            # [STATE:Source] put in 'WAITING' by 'put_job' method but still processing\n",
    "            # only 'WAITING' if all jobs are generated\n",
    "            self.env.update_res_state(obj=self, state='PROCESSING')\n",
    "            \n",
    "            # hold for defined generation time (constant or statistically distributed)\n",
    "            # if hold time elapsed start new generation\n",
    "            proc_time = self._obtain_proc_time()\n",
    "            logger_sources.debug(f\"[SOURCE: {self}] Hold for >>{proc_time}<< at {self.env.now()}\")\n",
    "            yield self.hold(proc_time)\n",
    "            # set counter up\n",
    "            count += 1\n",
    "        \n",
    "        # [STATE:Source] WAITING\n",
    "        self.env.update_res_state(obj=self, state='WAITING')\n",
    "        \n",
    "        return None\n",
    "            \n",
    "    def post_process(self) -> None:\n",
    "        return None\n",
    "    "
   ]
  },
  {
   "cell_type": "code",
   "execution_count": 604,
   "metadata": {},
   "outputs": [],
   "source": [
    "class Sink(InfrastructureObject):\n",
    "    \n",
    "    def __init__(\n",
    "        self,\n",
    "        resource_type: str = 'Sink',\n",
    "        **kwargs,\n",
    "    ) -> None:\n",
    "        \"\"\"\n",
    "        num_gen_jobs: total number of jobs to be generated\n",
    "        \"\"\"\n",
    "        # assert object information and register object in the environment\n",
    "        self.res_type = resource_type\n",
    "        \n",
    "        # initialize parent class\n",
    "        super().__init__(**kwargs)\n",
    "        \n",
    "    \n",
    "    ### STATE SETTING\n",
    "    \n",
    "    ### PROCESS LOGIC\n",
    "    def pre_process(self) -> None:\n",
    "        # currently sinks are 'PROCESSING' the whole time\n",
    "        self.env.update_res_state(obj=self, state='PROCESSING')\n",
    "        return None\n",
    "    \n",
    "    def sim_control(self) -> None:\n",
    "        while True:\n",
    "            # in analogy to ProcessingStations\n",
    "            if len(self.logic_queue) == 0:\n",
    "                yield self.passivate()\n",
    "            \n",
    "            logger_sinks.debug(f\"[SINK: {self}] is getting job from queue\")\n",
    "            # get job, simple FIFO\n",
    "            job: Job = self.logic_queue.pop()\n",
    "            # data collection: finalise job\n",
    "            job.finalise()\n",
    "            ########### destroy job object ???\n",
    "            \n",
    "    def post_process(self) -> None:\n",
    "        return None\n",
    "    "
   ]
  },
  {
   "cell_type": "code",
   "execution_count": null,
   "metadata": {},
   "outputs": [],
   "source": []
  },
  {
   "cell_type": "code",
   "execution_count": 649,
   "metadata": {},
   "outputs": [
    {
     "name": "stdout",
     "output_type": "stream",
     "text": [
      "INFO:env:Successfully registered dispatcher with EnvID 0\n",
      "INFO:env:Successfully registered object with EnvID 1 and name Buffer_env_1\n",
      "INFO:env:Successfully registered object with EnvID 2 and name Machine_env_2\n",
      "INFO:env:Successfully registered object with EnvID 3 and name Buffer_env_3\n",
      "INFO:env:Successfully registered object with EnvID 4 and name Machine_env_4\n",
      "INFO:env:Successfully registered object with EnvID 5 and name Source_env_5\n",
      "INFO:env:Successfully registered object with EnvID 6 and name Sink_env_6\n"
     ]
    }
   ],
   "source": [
    "env = SimulationEnvironment(name='base')\n",
    "job_generator = RandomJobGenerator(seed=2)\n",
    "dispatcher = Dispatcher(env=env, priority_rule='FIFO')\n",
    "#buffer = Buffer(capacity=10, env=env, custom_identifier=10)\n",
    "\n",
    "# resources\n",
    "for machine in range(2):\n",
    "    buffer = Buffer(capacity=5, env=env, custom_identifier=(10+machine))\n",
    "    MachInst = Machine(env=env, custom_identifier=machine, buffers=[buffer])\n",
    "    if machine == 0:\n",
    "        buffbuff = buffer\n",
    "        machmach = MachInst\n",
    "    #MachInst = Machine(env=env, custom_identifier=machine)\n",
    "\n",
    "source = Source(env=env, custom_identifier='source', proc_time=0.5, \n",
    "                random_generation=True, job_generator=job_generator, num_gen_jobs=6)\n",
    "sink = Sink(env=env, custom_identifier='sink')\n"
   ]
  },
  {
   "cell_type": "code",
   "execution_count": 650,
   "metadata": {},
   "outputs": [
    {
     "name": "stdout",
     "output_type": "stream",
     "text": [
      "INFO:env:Integrity check for Environment base successful.\n"
     ]
    }
   ],
   "source": [
    "env.check_integrity()"
   ]
  },
  {
   "cell_type": "code",
   "execution_count": 651,
   "metadata": {},
   "outputs": [],
   "source": [
    "#dispatcher.curr_prio_rule = 'SPT'"
   ]
  },
  {
   "cell_type": "code",
   "execution_count": 652,
   "metadata": {},
   "outputs": [
    {
     "data": {
      "text/html": [
       "<div>\n",
       "<style scoped>\n",
       "    .dataframe tbody tr th:only-of-type {\n",
       "        vertical-align: middle;\n",
       "    }\n",
       "\n",
       "    .dataframe tbody tr th {\n",
       "        vertical-align: top;\n",
       "    }\n",
       "\n",
       "    .dataframe thead th {\n",
       "        text-align: right;\n",
       "    }\n",
       "</style>\n",
       "<table border=\"1\" class=\"dataframe\">\n",
       "  <thead>\n",
       "    <tr style=\"text-align: right;\">\n",
       "      <th></th>\n",
       "      <th>custom_id</th>\n",
       "      <th>resource</th>\n",
       "      <th>name</th>\n",
       "      <th>res_type</th>\n",
       "      <th>state</th>\n",
       "    </tr>\n",
       "    <tr>\n",
       "      <th>env_id</th>\n",
       "      <th></th>\n",
       "      <th></th>\n",
       "      <th></th>\n",
       "      <th></th>\n",
       "      <th></th>\n",
       "    </tr>\n",
       "  </thead>\n",
       "  <tbody>\n",
       "    <tr>\n",
       "      <th>1</th>\n",
       "      <td>10</td>\n",
       "      <td>()</td>\n",
       "      <td>Buffer_env_1</td>\n",
       "      <td>Buffer</td>\n",
       "      <td>INIT</td>\n",
       "    </tr>\n",
       "    <tr>\n",
       "      <th>2</th>\n",
       "      <td>0</td>\n",
       "      <td>Machine (Machine_env_2)</td>\n",
       "      <td>Machine_env_2</td>\n",
       "      <td>Machine</td>\n",
       "      <td>INIT</td>\n",
       "    </tr>\n",
       "    <tr>\n",
       "      <th>3</th>\n",
       "      <td>11</td>\n",
       "      <td>()</td>\n",
       "      <td>Buffer_env_3</td>\n",
       "      <td>Buffer</td>\n",
       "      <td>INIT</td>\n",
       "    </tr>\n",
       "    <tr>\n",
       "      <th>4</th>\n",
       "      <td>1</td>\n",
       "      <td>Machine (Machine_env_4)</td>\n",
       "      <td>Machine_env_4</td>\n",
       "      <td>Machine</td>\n",
       "      <td>INIT</td>\n",
       "    </tr>\n",
       "    <tr>\n",
       "      <th>5</th>\n",
       "      <td>source</td>\n",
       "      <td>Source (Source_env_5)</td>\n",
       "      <td>Source_env_5</td>\n",
       "      <td>Source</td>\n",
       "      <td>INIT</td>\n",
       "    </tr>\n",
       "    <tr>\n",
       "      <th>6</th>\n",
       "      <td>sink</td>\n",
       "      <td>Sink (Sink_env_6)</td>\n",
       "      <td>Sink_env_6</td>\n",
       "      <td>Sink</td>\n",
       "      <td>INIT</td>\n",
       "    </tr>\n",
       "  </tbody>\n",
       "</table>\n",
       "</div>"
      ],
      "text/plain": [
       "       custom_id                 resource           name res_type state\n",
       "env_id                                                                 \n",
       "1             10                       ()   Buffer_env_1   Buffer  INIT\n",
       "2              0  Machine (Machine_env_2)  Machine_env_2  Machine  INIT\n",
       "3             11                       ()   Buffer_env_3   Buffer  INIT\n",
       "4              1  Machine (Machine_env_4)  Machine_env_4  Machine  INIT\n",
       "5         source    Source (Source_env_5)   Source_env_5   Source  INIT\n",
       "6           sink        Sink (Sink_env_6)     Sink_env_6     Sink  INIT"
      ]
     },
     "execution_count": 652,
     "metadata": {},
     "output_type": "execute_result"
    }
   ],
   "source": [
    "env.res_db"
   ]
  },
  {
   "cell_type": "code",
   "execution_count": 653,
   "metadata": {},
   "outputs": [
    {
     "data": {
      "text/plain": [
       "'base'"
      ]
     },
     "execution_count": 653,
     "metadata": {},
     "output_type": "execute_result"
    }
   ],
   "source": [
    "env.name()"
   ]
  },
  {
   "cell_type": "code",
   "execution_count": 654,
   "metadata": {},
   "outputs": [
    {
     "name": "stdout",
     "output_type": "stream",
     "text": [
      "DEBUG:base:----> Process logic of Buffer (Buffer_env_1)\n",
      "DEBUG:env:Set state of Buffer (Buffer_env_1) to EMPTY\n",
      "DEBUG:env:[Object:SimulationEnvironment (base)]: Monitor is <__main__.BufferMonitor object at 0x00000162A38748D0>\n",
      "DEBUG:monitors:Duration for state INIT on Buffer (Buffer_env_1) was 0.0\n",
      "DEBUG:buffers:[BUFFER: Buffer (Buffer_env_1)] Current time is 0.0 with level 0 and old level 0\n",
      "DEBUG:env:Executed state setting of Buffer (Buffer_env_1) to EMPTY\n",
      "DEBUG:env:Set state of Buffer (Buffer_env_1) to EMPTY\n",
      "DEBUG:env:[Object:SimulationEnvironment (base)]: Monitor is <__main__.BufferMonitor object at 0x00000162A38748D0>\n",
      "INFO:monitors:Tried to set state of Buffer (Buffer_env_1) to >>EMPTY<<, but this state was already set.                The object's state was not changed.\n",
      "DEBUG:monitors:Duration for state EMPTY on Buffer (Buffer_env_1) was 0.0\n",
      "DEBUG:buffers:[BUFFER: Buffer (Buffer_env_1)] Current time is 0.0 with level 0 and old level 0\n",
      "DEBUG:env:Executed state setting of Buffer (Buffer_env_1) to EMPTY\n",
      "DEBUG:base:----> Process logic of Machine (Machine_env_2)\n",
      "DEBUG:env:Set state of Machine (Machine_env_2) to WAITING\n",
      "DEBUG:env:[Object:SimulationEnvironment (base)]: Monitor is <__main__.Monitor object at 0x00000162A3A80390>\n",
      "DEBUG:monitors:Duration for state INIT on Machine (Machine_env_2) was 0.0\n",
      "DEBUG:env:Executed state setting of Machine (Machine_env_2) to WAITING\n",
      "DEBUG:base:----> Process logic of Buffer (Buffer_env_3)\n",
      "DEBUG:env:Set state of Buffer (Buffer_env_3) to EMPTY\n",
      "DEBUG:env:[Object:SimulationEnvironment (base)]: Monitor is <__main__.BufferMonitor object at 0x00000162A39F1D10>\n",
      "DEBUG:monitors:Duration for state INIT on Buffer (Buffer_env_3) was 0.0\n",
      "DEBUG:buffers:[BUFFER: Buffer (Buffer_env_3)] Current time is 0.0 with level 0 and old level 0\n",
      "DEBUG:env:Executed state setting of Buffer (Buffer_env_3) to EMPTY\n",
      "DEBUG:env:Set state of Buffer (Buffer_env_3) to EMPTY\n",
      "DEBUG:env:[Object:SimulationEnvironment (base)]: Monitor is <__main__.BufferMonitor object at 0x00000162A39F1D10>\n",
      "INFO:monitors:Tried to set state of Buffer (Buffer_env_3) to >>EMPTY<<, but this state was already set.                The object's state was not changed.\n",
      "DEBUG:monitors:Duration for state EMPTY on Buffer (Buffer_env_3) was 0.0\n",
      "DEBUG:buffers:[BUFFER: Buffer (Buffer_env_3)] Current time is 0.0 with level 0 and old level 0\n",
      "DEBUG:env:Executed state setting of Buffer (Buffer_env_3) to EMPTY\n",
      "DEBUG:base:----> Process logic of Machine (Machine_env_4)\n",
      "DEBUG:env:Set state of Machine (Machine_env_4) to WAITING\n",
      "DEBUG:env:[Object:SimulationEnvironment (base)]: Monitor is <__main__.Monitor object at 0x00000162A39FB1D0>\n",
      "DEBUG:monitors:Duration for state INIT on Machine (Machine_env_4) was 0.0\n",
      "DEBUG:env:Executed state setting of Machine (Machine_env_4) to WAITING\n",
      "DEBUG:base:----> Process logic of Source (Source_env_5)\n",
      "DEBUG:env:Set state of Source (Source_env_5) to PROCESSING\n",
      "DEBUG:env:[Object:SimulationEnvironment (base)]: Monitor is <__main__.Monitor object at 0x00000162A2121F10>\n",
      "DEBUG:monitors:Duration for state INIT on Source (Source_env_5) was 0.0\n",
      "DEBUG:env:Executed state setting of Source (Source_env_5) to PROCESSING\n",
      "DEBUG:env:Set state of Source (Source_env_5) to BLOCKED\n",
      "DEBUG:env:[Object:SimulationEnvironment (base)]: Monitor is <__main__.Monitor object at 0x00000162A2121F10>\n",
      "DEBUG:monitors:Duration for state PROCESSING on Source (Source_env_5) was 0.0\n",
      "DEBUG:env:Executed state setting of Source (Source_env_5) to BLOCKED\n",
      "DEBUG:monitors:Duration for state INIT on Job (J_gen_0) was 0.0\n",
      "DEBUG:monitors:Duration for state INIT on Operation(ProcTime: 4, MachineID: 1) was 0.0\n",
      "DEBUG:base:----> Process logic of Sink (Sink_env_6)\n",
      "DEBUG:env:Set state of Sink (Sink_env_6) to PROCESSING\n",
      "DEBUG:env:[Object:SimulationEnvironment (base)]: Monitor is <__main__.Monitor object at 0x00000162A39FA5D0>\n",
      "DEBUG:monitors:Duration for state INIT on Sink (Sink_env_6) was 0.0\n",
      "DEBUG:env:Executed state setting of Sink (Sink_env_6) to PROCESSING\n",
      "DEBUG:env:Set state of Source (Source_env_5) to WAITING\n",
      "DEBUG:env:[Object:SimulationEnvironment (base)]: Monitor is <__main__.Monitor object at 0x00000162A2121F10>\n",
      "DEBUG:monitors:Duration for state BLOCKED on Source (Source_env_5) was 0.0\n",
      "DEBUG:env:Executed state setting of Source (Source_env_5) to WAITING\n",
      "DEBUG:monitors:Duration for state BLOCKED on Job (J_gen_0) was 0.0\n",
      "DEBUG:monitors:Duration for state BLOCKED on Operation(ProcTime: 4, MachineID: 1) was 0.0\n",
      "DEBUG:env:Set state of Source (Source_env_5) to PROCESSING\n",
      "DEBUG:env:[Object:SimulationEnvironment (base)]: Monitor is <__main__.Monitor object at 0x00000162A2121F10>\n",
      "DEBUG:monitors:Duration for state WAITING on Source (Source_env_5) was 0.0\n",
      "DEBUG:env:Executed state setting of Source (Source_env_5) to PROCESSING\n",
      "DEBUG:env:Set state of Buffer (Buffer_env_3) to INTERMEDIATE\n",
      "DEBUG:env:[Object:SimulationEnvironment (base)]: Monitor is <__main__.BufferMonitor object at 0x00000162A39F1D10>\n",
      "DEBUG:monitors:Duration for state EMPTY on Buffer (Buffer_env_3) was 0.0\n",
      "DEBUG:buffers:[BUFFER: Buffer (Buffer_env_3)] Current time is 0.0 with level 1 and old level 0\n",
      "DEBUG:env:Executed state setting of Buffer (Buffer_env_3) to INTERMEDIATE\n",
      "DEBUG:env:Set state of Machine (Machine_env_4) to PROCESSING\n",
      "DEBUG:env:[Object:SimulationEnvironment (base)]: Monitor is <__main__.Monitor object at 0x00000162A39FB1D0>\n",
      "DEBUG:monitors:Duration for state WAITING on Machine (Machine_env_4) was 0.0\n",
      "DEBUG:env:Executed state setting of Machine (Machine_env_4) to PROCESSING\n",
      "DEBUG:monitors:Duration for state WAITING on Job (J_gen_0) was 0.0\n",
      "DEBUG:monitors:Duration for state WAITING on Operation(ProcTime: 4, MachineID: 1) was 0.0\n",
      "DEBUG:env:Set state of Buffer (Buffer_env_3) to EMPTY\n",
      "DEBUG:env:[Object:SimulationEnvironment (base)]: Monitor is <__main__.BufferMonitor object at 0x00000162A39F1D10>\n",
      "DEBUG:monitors:Duration for state INTERMEDIATE on Buffer (Buffer_env_3) was 0.0\n",
      "DEBUG:buffers:[BUFFER: Buffer (Buffer_env_3)] Current time is 0.0 with level 0 and old level 1\n"
     ]
    },
    {
     "name": "stdout",
     "output_type": "stream",
     "text": [
      "DEBUG:env:Executed state setting of Buffer (Buffer_env_3) to EMPTY\n",
      "DEBUG:env:Set state of Source (Source_env_5) to BLOCKED\n",
      "DEBUG:env:[Object:SimulationEnvironment (base)]: Monitor is <__main__.Monitor object at 0x00000162A2121F10>\n",
      "DEBUG:monitors:Duration for state PROCESSING on Source (Source_env_5) was 0.5\n",
      "DEBUG:env:Executed state setting of Source (Source_env_5) to BLOCKED\n",
      "DEBUG:monitors:Duration for state INIT on Job (J_gen_1) was 0.0\n",
      "DEBUG:monitors:Duration for state INIT on Operation(ProcTime: 4, MachineID: 0) was 0.0\n",
      "DEBUG:env:Set state of Source (Source_env_5) to WAITING\n",
      "DEBUG:env:[Object:SimulationEnvironment (base)]: Monitor is <__main__.Monitor object at 0x00000162A2121F10>\n",
      "DEBUG:monitors:Duration for state BLOCKED on Source (Source_env_5) was 0.0\n",
      "DEBUG:env:Executed state setting of Source (Source_env_5) to WAITING\n",
      "DEBUG:monitors:Duration for state BLOCKED on Job (J_gen_1) was 0.0\n",
      "DEBUG:monitors:Duration for state BLOCKED on Operation(ProcTime: 4, MachineID: 0) was 0.0\n",
      "DEBUG:env:Set state of Source (Source_env_5) to PROCESSING\n",
      "DEBUG:env:[Object:SimulationEnvironment (base)]: Monitor is <__main__.Monitor object at 0x00000162A2121F10>\n",
      "DEBUG:monitors:Duration for state WAITING on Source (Source_env_5) was 0.0\n",
      "DEBUG:env:Executed state setting of Source (Source_env_5) to PROCESSING\n",
      "DEBUG:env:Set state of Buffer (Buffer_env_1) to INTERMEDIATE\n",
      "DEBUG:env:[Object:SimulationEnvironment (base)]: Monitor is <__main__.BufferMonitor object at 0x00000162A38748D0>\n",
      "DEBUG:monitors:Duration for state EMPTY on Buffer (Buffer_env_1) was 0.5\n",
      "DEBUG:buffers:[BUFFER: Buffer (Buffer_env_1)] Current time is 0.5 with level 1 and old level 0\n",
      "DEBUG:env:Executed state setting of Buffer (Buffer_env_1) to INTERMEDIATE\n",
      "DEBUG:env:Set state of Machine (Machine_env_2) to PROCESSING\n",
      "DEBUG:env:[Object:SimulationEnvironment (base)]: Monitor is <__main__.Monitor object at 0x00000162A3A80390>\n",
      "DEBUG:monitors:Duration for state WAITING on Machine (Machine_env_2) was 0.5\n",
      "DEBUG:env:Executed state setting of Machine (Machine_env_2) to PROCESSING\n",
      "DEBUG:monitors:Duration for state WAITING on Job (J_gen_1) was 0.0\n",
      "DEBUG:monitors:Duration for state WAITING on Operation(ProcTime: 4, MachineID: 0) was 0.0\n",
      "DEBUG:env:Set state of Buffer (Buffer_env_1) to EMPTY\n",
      "DEBUG:env:[Object:SimulationEnvironment (base)]: Monitor is <__main__.BufferMonitor object at 0x00000162A38748D0>\n",
      "DEBUG:monitors:Duration for state INTERMEDIATE on Buffer (Buffer_env_1) was 0.0\n",
      "DEBUG:buffers:[BUFFER: Buffer (Buffer_env_1)] Current time is 0.5 with level 0 and old level 1\n",
      "DEBUG:env:Executed state setting of Buffer (Buffer_env_1) to EMPTY\n",
      "DEBUG:env:Set state of Source (Source_env_5) to BLOCKED\n",
      "DEBUG:env:[Object:SimulationEnvironment (base)]: Monitor is <__main__.Monitor object at 0x00000162A2121F10>\n",
      "DEBUG:monitors:Duration for state PROCESSING on Source (Source_env_5) was 0.5\n",
      "DEBUG:env:Executed state setting of Source (Source_env_5) to BLOCKED\n",
      "DEBUG:monitors:Duration for state INIT on Job (J_gen_2) was 0.0\n",
      "DEBUG:monitors:Duration for state INIT on Operation(ProcTime: 7, MachineID: 0) was 0.0\n",
      "DEBUG:env:Set state of Source (Source_env_5) to WAITING\n",
      "DEBUG:env:[Object:SimulationEnvironment (base)]: Monitor is <__main__.Monitor object at 0x00000162A2121F10>\n",
      "DEBUG:monitors:Duration for state BLOCKED on Source (Source_env_5) was 0.0\n",
      "DEBUG:env:Executed state setting of Source (Source_env_5) to WAITING\n",
      "DEBUG:monitors:Duration for state BLOCKED on Job (J_gen_2) was 0.0\n",
      "DEBUG:monitors:Duration for state BLOCKED on Operation(ProcTime: 7, MachineID: 0) was 0.0\n",
      "DEBUG:env:Set state of Source (Source_env_5) to PROCESSING\n",
      "DEBUG:env:[Object:SimulationEnvironment (base)]: Monitor is <__main__.Monitor object at 0x00000162A2121F10>\n",
      "DEBUG:monitors:Duration for state WAITING on Source (Source_env_5) was 0.0\n",
      "DEBUG:env:Executed state setting of Source (Source_env_5) to PROCESSING\n",
      "DEBUG:env:Set state of Buffer (Buffer_env_1) to INTERMEDIATE\n",
      "DEBUG:env:[Object:SimulationEnvironment (base)]: Monitor is <__main__.BufferMonitor object at 0x00000162A38748D0>\n",
      "DEBUG:monitors:Duration for state EMPTY on Buffer (Buffer_env_1) was 0.5\n",
      "DEBUG:buffers:[BUFFER: Buffer (Buffer_env_1)] Current time is 1.0 with level 1 and old level 0\n",
      "DEBUG:env:Executed state setting of Buffer (Buffer_env_1) to INTERMEDIATE\n",
      "DEBUG:env:Set state of Source (Source_env_5) to BLOCKED\n",
      "DEBUG:env:[Object:SimulationEnvironment (base)]: Monitor is <__main__.Monitor object at 0x00000162A2121F10>\n",
      "DEBUG:monitors:Duration for state PROCESSING on Source (Source_env_5) was 0.5\n",
      "DEBUG:env:Executed state setting of Source (Source_env_5) to BLOCKED\n",
      "DEBUG:monitors:Duration for state INIT on Job (J_gen_3) was 0.0\n",
      "DEBUG:monitors:Duration for state INIT on Operation(ProcTime: 4, MachineID: 0) was 0.0\n",
      "DEBUG:env:Set state of Source (Source_env_5) to WAITING\n",
      "DEBUG:env:[Object:SimulationEnvironment (base)]: Monitor is <__main__.Monitor object at 0x00000162A2121F10>\n",
      "DEBUG:monitors:Duration for state BLOCKED on Source (Source_env_5) was 0.0\n",
      "DEBUG:env:Executed state setting of Source (Source_env_5) to WAITING\n",
      "DEBUG:monitors:Duration for state BLOCKED on Job (J_gen_3) was 0.0\n",
      "DEBUG:monitors:Duration for state BLOCKED on Operation(ProcTime: 4, MachineID: 0) was 0.0\n",
      "DEBUG:env:Set state of Source (Source_env_5) to PROCESSING\n",
      "DEBUG:env:[Object:SimulationEnvironment (base)]: Monitor is <__main__.Monitor object at 0x00000162A2121F10>\n",
      "DEBUG:monitors:Duration for state WAITING on Source (Source_env_5) was 0.0\n",
      "DEBUG:env:Executed state setting of Source (Source_env_5) to PROCESSING\n",
      "DEBUG:env:Set state of Buffer (Buffer_env_1) to INTERMEDIATE\n",
      "DEBUG:env:[Object:SimulationEnvironment (base)]: Monitor is <__main__.BufferMonitor object at 0x00000162A38748D0>\n",
      "INFO:monitors:Tried to set state of Buffer (Buffer_env_1) to >>INTERMEDIATE<<, but this state was already set.                The object's state was not changed.\n",
      "DEBUG:monitors:Duration for state INTERMEDIATE on Buffer (Buffer_env_1) was 0.5\n",
      "DEBUG:buffers:[BUFFER: Buffer (Buffer_env_1)] Current time is 1.5 with level 2 and old level 1\n",
      "DEBUG:env:Executed state setting of Buffer (Buffer_env_1) to INTERMEDIATE\n",
      "DEBUG:env:Set state of Source (Source_env_5) to BLOCKED\n",
      "DEBUG:env:[Object:SimulationEnvironment (base)]: Monitor is <__main__.Monitor object at 0x00000162A2121F10>\n",
      "DEBUG:monitors:Duration for state PROCESSING on Source (Source_env_5) was 0.5\n",
      "DEBUG:env:Executed state setting of Source (Source_env_5) to BLOCKED\n",
      "DEBUG:monitors:Duration for state INIT on Job (J_gen_4) was 0.0\n",
      "DEBUG:monitors:Duration for state INIT on Operation(ProcTime: 9, MachineID: 0) was 0.0\n",
      "DEBUG:env:Set state of Source (Source_env_5) to WAITING\n",
      "DEBUG:env:[Object:SimulationEnvironment (base)]: Monitor is <__main__.Monitor object at 0x00000162A2121F10>\n",
      "DEBUG:monitors:Duration for state BLOCKED on Source (Source_env_5) was 0.0\n",
      "DEBUG:env:Executed state setting of Source (Source_env_5) to WAITING\n",
      "DEBUG:monitors:Duration for state BLOCKED on Job (J_gen_4) was 0.0\n",
      "DEBUG:monitors:Duration for state BLOCKED on Operation(ProcTime: 9, MachineID: 0) was 0.0\n",
      "DEBUG:env:Set state of Source (Source_env_5) to PROCESSING\n",
      "DEBUG:env:[Object:SimulationEnvironment (base)]: Monitor is <__main__.Monitor object at 0x00000162A2121F10>\n",
      "DEBUG:monitors:Duration for state WAITING on Source (Source_env_5) was 0.0\n",
      "DEBUG:env:Executed state setting of Source (Source_env_5) to PROCESSING\n",
      "DEBUG:env:Set state of Buffer (Buffer_env_1) to INTERMEDIATE\n",
      "DEBUG:env:[Object:SimulationEnvironment (base)]: Monitor is <__main__.BufferMonitor object at 0x00000162A38748D0>\n",
      "INFO:monitors:Tried to set state of Buffer (Buffer_env_1) to >>INTERMEDIATE<<, but this state was already set.                The object's state was not changed.\n",
      "DEBUG:monitors:Duration for state INTERMEDIATE on Buffer (Buffer_env_1) was 0.5\n",
      "DEBUG:buffers:[BUFFER: Buffer (Buffer_env_1)] Current time is 2.0 with level 3 and old level 2\n",
      "DEBUG:env:Executed state setting of Buffer (Buffer_env_1) to INTERMEDIATE\n",
      "DEBUG:env:Set state of Source (Source_env_5) to BLOCKED\n",
      "DEBUG:env:[Object:SimulationEnvironment (base)]: Monitor is <__main__.Monitor object at 0x00000162A2121F10>\n",
      "DEBUG:monitors:Duration for state PROCESSING on Source (Source_env_5) was 0.5\n",
      "DEBUG:env:Executed state setting of Source (Source_env_5) to BLOCKED\n",
      "DEBUG:monitors:Duration for state INIT on Job (J_gen_5) was 0.0\n",
      "DEBUG:monitors:Duration for state INIT on Operation(ProcTime: 2, MachineID: 0) was 0.0\n",
      "DEBUG:env:Set state of Source (Source_env_5) to WAITING\n",
      "DEBUG:env:[Object:SimulationEnvironment (base)]: Monitor is <__main__.Monitor object at 0x00000162A2121F10>\n",
      "DEBUG:monitors:Duration for state BLOCKED on Source (Source_env_5) was 0.0\n",
      "DEBUG:env:Executed state setting of Source (Source_env_5) to WAITING\n",
      "DEBUG:monitors:Duration for state BLOCKED on Job (J_gen_5) was 0.0\n",
      "DEBUG:monitors:Duration for state BLOCKED on Operation(ProcTime: 2, MachineID: 0) was 0.0\n",
      "DEBUG:env:Set state of Source (Source_env_5) to PROCESSING\n",
      "DEBUG:env:[Object:SimulationEnvironment (base)]: Monitor is <__main__.Monitor object at 0x00000162A2121F10>\n",
      "DEBUG:monitors:Duration for state WAITING on Source (Source_env_5) was 0.0\n",
      "DEBUG:env:Executed state setting of Source (Source_env_5) to PROCESSING\n",
      "DEBUG:env:Set state of Buffer (Buffer_env_1) to INTERMEDIATE\n",
      "DEBUG:env:[Object:SimulationEnvironment (base)]: Monitor is <__main__.BufferMonitor object at 0x00000162A38748D0>\n",
      "INFO:monitors:Tried to set state of Buffer (Buffer_env_1) to >>INTERMEDIATE<<, but this state was already set.                The object's state was not changed.\n",
      "DEBUG:monitors:Duration for state INTERMEDIATE on Buffer (Buffer_env_1) was 0.5\n",
      "DEBUG:buffers:[BUFFER: Buffer (Buffer_env_1)] Current time is 2.5 with level 4 and old level 3\n",
      "DEBUG:env:Executed state setting of Buffer (Buffer_env_1) to INTERMEDIATE\n",
      "DEBUG:env:Set state of Source (Source_env_5) to WAITING\n",
      "DEBUG:env:[Object:SimulationEnvironment (base)]: Monitor is <__main__.Monitor object at 0x00000162A2121F10>\n",
      "DEBUG:monitors:Duration for state PROCESSING on Source (Source_env_5) was 0.5\n",
      "DEBUG:env:Executed state setting of Source (Source_env_5) to WAITING\n",
      "DEBUG:monitors:Duration for state PROCESSING on Operation(ProcTime: 4, MachineID: 1) was 4.0\n",
      "DEBUG:env:Set state of Machine (Machine_env_4) to BLOCKED\n",
      "DEBUG:env:[Object:SimulationEnvironment (base)]: Monitor is <__main__.Monitor object at 0x00000162A39FB1D0>\n",
      "DEBUG:monitors:Duration for state PROCESSING on Machine (Machine_env_4) was 4.0\n",
      "DEBUG:env:Executed state setting of Machine (Machine_env_4) to BLOCKED\n",
      "DEBUG:monitors:Duration for state PROCESSING on Job (J_gen_0) was 4.0\n",
      "DEBUG:monitors:Duration for state INIT on Operation(ProcTime: 8, MachineID: 0) was 4.0\n",
      "DEBUG:env:Set state of Machine (Machine_env_4) to WAITING\n",
      "DEBUG:env:[Object:SimulationEnvironment (base)]: Monitor is <__main__.Monitor object at 0x00000162A39FB1D0>\n",
      "DEBUG:monitors:Duration for state BLOCKED on Machine (Machine_env_4) was 0.0\n",
      "DEBUG:env:Executed state setting of Machine (Machine_env_4) to WAITING\n",
      "DEBUG:monitors:Duration for state BLOCKED on Job (J_gen_0) was 0.0\n",
      "DEBUG:monitors:Duration for state BLOCKED on Operation(ProcTime: 8, MachineID: 0) was 0.0\n",
      "DEBUG:env:Set state of Buffer (Buffer_env_1) to FULL\n",
      "DEBUG:env:[Object:SimulationEnvironment (base)]: Monitor is <__main__.BufferMonitor object at 0x00000162A38748D0>\n",
      "DEBUG:monitors:Duration for state INTERMEDIATE on Buffer (Buffer_env_1) was 1.5\n",
      "DEBUG:buffers:[BUFFER: Buffer (Buffer_env_1)] Current time is 4.0 with level 5 and old level 4\n",
      "DEBUG:env:Executed state setting of Buffer (Buffer_env_1) to FULL\n",
      "DEBUG:monitors:Duration for state PROCESSING on Operation(ProcTime: 4, MachineID: 0) was 4.0\n",
      "DEBUG:env:Set state of Machine (Machine_env_2) to BLOCKED\n",
      "DEBUG:env:[Object:SimulationEnvironment (base)]: Monitor is <__main__.Monitor object at 0x00000162A3A80390>\n",
      "DEBUG:monitors:Duration for state PROCESSING on Machine (Machine_env_2) was 4.0\n",
      "DEBUG:env:Executed state setting of Machine (Machine_env_2) to BLOCKED\n",
      "DEBUG:monitors:Duration for state PROCESSING on Job (J_gen_1) was 4.0\n",
      "DEBUG:monitors:Duration for state INIT on Operation(ProcTime: 1, MachineID: 1) was 4.0\n",
      "DEBUG:env:Set state of Machine (Machine_env_2) to WAITING\n",
      "DEBUG:env:[Object:SimulationEnvironment (base)]: Monitor is <__main__.Monitor object at 0x00000162A3A80390>\n",
      "DEBUG:monitors:Duration for state BLOCKED on Machine (Machine_env_2) was 0.0\n",
      "DEBUG:env:Executed state setting of Machine (Machine_env_2) to WAITING\n",
      "DEBUG:monitors:Duration for state BLOCKED on Job (J_gen_1) was 0.0\n",
      "DEBUG:monitors:Duration for state BLOCKED on Operation(ProcTime: 1, MachineID: 1) was 0.0\n",
      "DEBUG:env:Set state of Buffer (Buffer_env_3) to INTERMEDIATE\n",
      "DEBUG:env:[Object:SimulationEnvironment (base)]: Monitor is <__main__.BufferMonitor object at 0x00000162A39F1D10>\n",
      "DEBUG:monitors:Duration for state EMPTY on Buffer (Buffer_env_3) was 4.5\n",
      "DEBUG:buffers:[BUFFER: Buffer (Buffer_env_3)] Current time is 4.5 with level 1 and old level 0\n",
      "DEBUG:env:Executed state setting of Buffer (Buffer_env_3) to INTERMEDIATE\n",
      "DEBUG:env:Set state of Machine (Machine_env_2) to PROCESSING\n",
      "DEBUG:env:[Object:SimulationEnvironment (base)]: Monitor is <__main__.Monitor object at 0x00000162A3A80390>\n",
      "DEBUG:monitors:Duration for state WAITING on Machine (Machine_env_2) was 0.0\n",
      "DEBUG:env:Executed state setting of Machine (Machine_env_2) to PROCESSING\n",
      "DEBUG:monitors:Duration for state WAITING on Job (J_gen_2) was 3.5\n",
      "DEBUG:monitors:Duration for state WAITING on Operation(ProcTime: 7, MachineID: 0) was 3.5\n",
      "DEBUG:env:Set state of Machine (Machine_env_4) to PROCESSING\n",
      "DEBUG:env:[Object:SimulationEnvironment (base)]: Monitor is <__main__.Monitor object at 0x00000162A39FB1D0>\n",
      "DEBUG:monitors:Duration for state WAITING on Machine (Machine_env_4) was 0.5\n",
      "DEBUG:env:Executed state setting of Machine (Machine_env_4) to PROCESSING\n",
      "DEBUG:monitors:Duration for state WAITING on Job (J_gen_1) was 0.0\n",
      "DEBUG:monitors:Duration for state WAITING on Operation(ProcTime: 1, MachineID: 1) was 0.0\n",
      "DEBUG:env:Set state of Buffer (Buffer_env_1) to INTERMEDIATE\n",
      "DEBUG:env:[Object:SimulationEnvironment (base)]: Monitor is <__main__.BufferMonitor object at 0x00000162A38748D0>\n",
      "DEBUG:monitors:Duration for state FULL on Buffer (Buffer_env_1) was 0.5\n",
      "DEBUG:buffers:[BUFFER: Buffer (Buffer_env_1)] Current time is 4.5 with level 4 and old level 5\n",
      "DEBUG:env:Executed state setting of Buffer (Buffer_env_1) to INTERMEDIATE\n",
      "DEBUG:env:Set state of Buffer (Buffer_env_3) to EMPTY\n",
      "DEBUG:env:[Object:SimulationEnvironment (base)]: Monitor is <__main__.BufferMonitor object at 0x00000162A39F1D10>\n",
      "DEBUG:monitors:Duration for state INTERMEDIATE on Buffer (Buffer_env_3) was 0.0\n",
      "DEBUG:buffers:[BUFFER: Buffer (Buffer_env_3)] Current time is 4.5 with level 0 and old level 1\n",
      "DEBUG:env:Executed state setting of Buffer (Buffer_env_3) to EMPTY\n",
      "DEBUG:monitors:Duration for state PROCESSING on Operation(ProcTime: 1, MachineID: 1) was 1.0\n",
      "DEBUG:env:Set state of Machine (Machine_env_4) to WAITING\n",
      "DEBUG:env:[Object:SimulationEnvironment (base)]: Monitor is <__main__.Monitor object at 0x00000162A39FB1D0>\n",
      "DEBUG:monitors:Duration for state PROCESSING on Machine (Machine_env_4) was 1.0\n",
      "DEBUG:env:Executed state setting of Machine (Machine_env_4) to WAITING\n",
      "DEBUG:monitors:Duration for state PROCESSING on Job (J_gen_1) was 1.0\n",
      "DEBUG:monitors:Duration for state FINISH on Operation(ProcTime: 1, MachineID: 1) was 0.0\n",
      "DEBUG:sinks:[SINK: Sink (Sink_env_6)] is getting job from queue\n",
      "DEBUG:monitors:Duration for state WAITING on Job (J_gen_1) was 0.0\n",
      "DEBUG:monitors:Duration for state WAITING on Operation(ProcTime: 1, MachineID: 1) was 0.0\n",
      "DEBUG:monitors:Duration for state PROCESSING on Operation(ProcTime: 7, MachineID: 0) was 7.0\n",
      "DEBUG:env:Set state of Machine (Machine_env_2) to BLOCKED\n",
      "DEBUG:env:[Object:SimulationEnvironment (base)]: Monitor is <__main__.Monitor object at 0x00000162A3A80390>\n",
      "DEBUG:monitors:Duration for state PROCESSING on Machine (Machine_env_2) was 7.0\n",
      "DEBUG:env:Executed state setting of Machine (Machine_env_2) to BLOCKED\n",
      "DEBUG:monitors:Duration for state PROCESSING on Job (J_gen_2) was 7.0\n",
      "DEBUG:monitors:Duration for state INIT on Operation(ProcTime: 4, MachineID: 1) was 10.5\n",
      "DEBUG:env:Set state of Machine (Machine_env_2) to WAITING\n",
      "DEBUG:env:[Object:SimulationEnvironment (base)]: Monitor is <__main__.Monitor object at 0x00000162A3A80390>\n",
      "DEBUG:monitors:Duration for state BLOCKED on Machine (Machine_env_2) was 0.0\n",
      "DEBUG:env:Executed state setting of Machine (Machine_env_2) to WAITING\n",
      "DEBUG:monitors:Duration for state BLOCKED on Job (J_gen_2) was 0.0\n",
      "DEBUG:monitors:Duration for state BLOCKED on Operation(ProcTime: 4, MachineID: 1) was 0.0\n",
      "DEBUG:env:Set state of Buffer (Buffer_env_3) to INTERMEDIATE\n",
      "DEBUG:env:[Object:SimulationEnvironment (base)]: Monitor is <__main__.BufferMonitor object at 0x00000162A39F1D10>\n",
      "DEBUG:monitors:Duration for state EMPTY on Buffer (Buffer_env_3) was 7.0\n",
      "DEBUG:buffers:[BUFFER: Buffer (Buffer_env_3)] Current time is 11.5 with level 1 and old level 0\n",
      "DEBUG:env:Executed state setting of Buffer (Buffer_env_3) to INTERMEDIATE\n",
      "DEBUG:env:Set state of Machine (Machine_env_2) to PROCESSING\n",
      "DEBUG:env:[Object:SimulationEnvironment (base)]: Monitor is <__main__.Monitor object at 0x00000162A3A80390>\n",
      "DEBUG:monitors:Duration for state WAITING on Machine (Machine_env_2) was 0.0\n",
      "DEBUG:env:Executed state setting of Machine (Machine_env_2) to PROCESSING\n",
      "DEBUG:monitors:Duration for state WAITING on Job (J_gen_3) was 10.0\n",
      "DEBUG:monitors:Duration for state WAITING on Operation(ProcTime: 4, MachineID: 0) was 10.0\n",
      "DEBUG:env:Set state of Machine (Machine_env_4) to PROCESSING\n",
      "DEBUG:env:[Object:SimulationEnvironment (base)]: Monitor is <__main__.Monitor object at 0x00000162A39FB1D0>\n",
      "DEBUG:monitors:Duration for state WAITING on Machine (Machine_env_4) was 6.0\n",
      "DEBUG:env:Executed state setting of Machine (Machine_env_4) to PROCESSING\n",
      "DEBUG:monitors:Duration for state WAITING on Job (J_gen_2) was 0.0\n",
      "DEBUG:monitors:Duration for state WAITING on Operation(ProcTime: 4, MachineID: 1) was 0.0\n",
      "DEBUG:env:Set state of Buffer (Buffer_env_1) to INTERMEDIATE\n",
      "DEBUG:env:[Object:SimulationEnvironment (base)]: Monitor is <__main__.BufferMonitor object at 0x00000162A38748D0>\n",
      "INFO:monitors:Tried to set state of Buffer (Buffer_env_1) to >>INTERMEDIATE<<, but this state was already set.                The object's state was not changed.\n",
      "DEBUG:monitors:Duration for state INTERMEDIATE on Buffer (Buffer_env_1) was 7.0\n",
      "DEBUG:buffers:[BUFFER: Buffer (Buffer_env_1)] Current time is 11.5 with level 3 and old level 4\n",
      "DEBUG:env:Executed state setting of Buffer (Buffer_env_1) to INTERMEDIATE\n",
      "DEBUG:env:Set state of Buffer (Buffer_env_3) to EMPTY\n",
      "DEBUG:env:[Object:SimulationEnvironment (base)]: Monitor is <__main__.BufferMonitor object at 0x00000162A39F1D10>\n",
      "DEBUG:monitors:Duration for state INTERMEDIATE on Buffer (Buffer_env_3) was 0.0\n",
      "DEBUG:buffers:[BUFFER: Buffer (Buffer_env_3)] Current time is 11.5 with level 0 and old level 1\n",
      "DEBUG:env:Executed state setting of Buffer (Buffer_env_3) to EMPTY\n",
      "DEBUG:monitors:Duration for state PROCESSING on Operation(ProcTime: 4, MachineID: 0) was 4.0\n",
      "DEBUG:env:Set state of Machine (Machine_env_2) to BLOCKED\n",
      "DEBUG:env:[Object:SimulationEnvironment (base)]: Monitor is <__main__.Monitor object at 0x00000162A3A80390>\n",
      "DEBUG:monitors:Duration for state PROCESSING on Machine (Machine_env_2) was 4.0\n",
      "DEBUG:env:Executed state setting of Machine (Machine_env_2) to BLOCKED\n",
      "DEBUG:monitors:Duration for state PROCESSING on Job (J_gen_3) was 4.0\n",
      "DEBUG:monitors:Duration for state INIT on Operation(ProcTime: 5, MachineID: 1) was 14.0\n",
      "DEBUG:monitors:Duration for state PROCESSING on Operation(ProcTime: 4, MachineID: 1) was 4.0\n",
      "DEBUG:env:Set state of Machine (Machine_env_4) to WAITING\n",
      "DEBUG:env:[Object:SimulationEnvironment (base)]: Monitor is <__main__.Monitor object at 0x00000162A39FB1D0>\n",
      "DEBUG:monitors:Duration for state PROCESSING on Machine (Machine_env_4) was 4.0\n",
      "DEBUG:env:Executed state setting of Machine (Machine_env_4) to WAITING\n",
      "DEBUG:monitors:Duration for state PROCESSING on Job (J_gen_2) was 4.0\n",
      "DEBUG:monitors:Duration for state FINISH on Operation(ProcTime: 4, MachineID: 1) was 0.0\n",
      "DEBUG:env:Set state of Machine (Machine_env_2) to WAITING\n",
      "DEBUG:env:[Object:SimulationEnvironment (base)]: Monitor is <__main__.Monitor object at 0x00000162A3A80390>\n",
      "DEBUG:monitors:Duration for state BLOCKED on Machine (Machine_env_2) was 0.0\n",
      "DEBUG:env:Executed state setting of Machine (Machine_env_2) to WAITING\n",
      "DEBUG:monitors:Duration for state BLOCKED on Job (J_gen_3) was 0.0\n",
      "DEBUG:monitors:Duration for state BLOCKED on Operation(ProcTime: 5, MachineID: 1) was 0.0\n",
      "DEBUG:sinks:[SINK: Sink (Sink_env_6)] is getting job from queue\n",
      "DEBUG:monitors:Duration for state WAITING on Job (J_gen_2) was 0.0\n",
      "DEBUG:monitors:Duration for state WAITING on Operation(ProcTime: 4, MachineID: 1) was 0.0\n",
      "DEBUG:env:Set state of Buffer (Buffer_env_3) to INTERMEDIATE\n",
      "DEBUG:env:[Object:SimulationEnvironment (base)]: Monitor is <__main__.BufferMonitor object at 0x00000162A39F1D10>\n",
      "DEBUG:monitors:Duration for state EMPTY on Buffer (Buffer_env_3) was 4.0\n",
      "DEBUG:buffers:[BUFFER: Buffer (Buffer_env_3)] Current time is 15.5 with level 1 and old level 0\n",
      "DEBUG:env:Executed state setting of Buffer (Buffer_env_3) to INTERMEDIATE\n",
      "DEBUG:env:Set state of Machine (Machine_env_2) to PROCESSING\n",
      "DEBUG:env:[Object:SimulationEnvironment (base)]: Monitor is <__main__.Monitor object at 0x00000162A3A80390>\n",
      "DEBUG:monitors:Duration for state WAITING on Machine (Machine_env_2) was 0.0\n",
      "DEBUG:env:Executed state setting of Machine (Machine_env_2) to PROCESSING\n",
      "DEBUG:monitors:Duration for state WAITING on Job (J_gen_4) was 13.5\n",
      "DEBUG:monitors:Duration for state WAITING on Operation(ProcTime: 9, MachineID: 0) was 13.5\n",
      "DEBUG:env:Set state of Machine (Machine_env_4) to PROCESSING\n",
      "DEBUG:env:[Object:SimulationEnvironment (base)]: Monitor is <__main__.Monitor object at 0x00000162A39FB1D0>\n",
      "DEBUG:monitors:Duration for state WAITING on Machine (Machine_env_4) was 0.0\n",
      "DEBUG:env:Executed state setting of Machine (Machine_env_4) to PROCESSING\n",
      "DEBUG:monitors:Duration for state WAITING on Job (J_gen_3) was 0.0\n",
      "DEBUG:monitors:Duration for state WAITING on Operation(ProcTime: 5, MachineID: 1) was 0.0\n",
      "DEBUG:env:Set state of Buffer (Buffer_env_1) to INTERMEDIATE\n",
      "DEBUG:env:[Object:SimulationEnvironment (base)]: Monitor is <__main__.BufferMonitor object at 0x00000162A38748D0>\n",
      "INFO:monitors:Tried to set state of Buffer (Buffer_env_1) to >>INTERMEDIATE<<, but this state was already set.                The object's state was not changed.\n",
      "DEBUG:monitors:Duration for state INTERMEDIATE on Buffer (Buffer_env_1) was 4.0\n",
      "DEBUG:buffers:[BUFFER: Buffer (Buffer_env_1)] Current time is 15.5 with level 2 and old level 3\n",
      "DEBUG:env:Executed state setting of Buffer (Buffer_env_1) to INTERMEDIATE\n",
      "DEBUG:env:Set state of Buffer (Buffer_env_3) to EMPTY\n",
      "DEBUG:env:[Object:SimulationEnvironment (base)]: Monitor is <__main__.BufferMonitor object at 0x00000162A39F1D10>\n",
      "DEBUG:monitors:Duration for state INTERMEDIATE on Buffer (Buffer_env_3) was 0.0\n",
      "DEBUG:buffers:[BUFFER: Buffer (Buffer_env_3)] Current time is 15.5 with level 0 and old level 1\n",
      "DEBUG:env:Executed state setting of Buffer (Buffer_env_3) to EMPTY\n",
      "DEBUG:monitors:Duration for state PROCESSING on Operation(ProcTime: 5, MachineID: 1) was 5.0\n",
      "DEBUG:env:Set state of Machine (Machine_env_4) to WAITING\n",
      "DEBUG:env:[Object:SimulationEnvironment (base)]: Monitor is <__main__.Monitor object at 0x00000162A39FB1D0>\n",
      "DEBUG:monitors:Duration for state PROCESSING on Machine (Machine_env_4) was 5.0\n",
      "DEBUG:env:Executed state setting of Machine (Machine_env_4) to WAITING\n",
      "DEBUG:monitors:Duration for state PROCESSING on Job (J_gen_3) was 5.0\n",
      "DEBUG:monitors:Duration for state FINISH on Operation(ProcTime: 5, MachineID: 1) was 0.0\n",
      "DEBUG:sinks:[SINK: Sink (Sink_env_6)] is getting job from queue\n",
      "DEBUG:monitors:Duration for state WAITING on Job (J_gen_3) was 0.0\n",
      "DEBUG:monitors:Duration for state WAITING on Operation(ProcTime: 5, MachineID: 1) was 0.0\n",
      "DEBUG:monitors:Duration for state PROCESSING on Operation(ProcTime: 9, MachineID: 0) was 9.0\n",
      "DEBUG:env:Set state of Machine (Machine_env_2) to BLOCKED\n",
      "DEBUG:env:[Object:SimulationEnvironment (base)]: Monitor is <__main__.Monitor object at 0x00000162A3A80390>\n",
      "DEBUG:monitors:Duration for state PROCESSING on Machine (Machine_env_2) was 9.0\n",
      "DEBUG:env:Executed state setting of Machine (Machine_env_2) to BLOCKED\n",
      "DEBUG:monitors:Duration for state PROCESSING on Job (J_gen_4) was 9.0\n",
      "DEBUG:monitors:Duration for state INIT on Operation(ProcTime: 4, MachineID: 1) was 22.5\n",
      "DEBUG:env:Set state of Machine (Machine_env_2) to WAITING\n",
      "DEBUG:env:[Object:SimulationEnvironment (base)]: Monitor is <__main__.Monitor object at 0x00000162A3A80390>\n",
      "DEBUG:monitors:Duration for state BLOCKED on Machine (Machine_env_2) was 0.0\n",
      "DEBUG:env:Executed state setting of Machine (Machine_env_2) to WAITING\n",
      "DEBUG:monitors:Duration for state BLOCKED on Job (J_gen_4) was 0.0\n",
      "DEBUG:monitors:Duration for state BLOCKED on Operation(ProcTime: 4, MachineID: 1) was 0.0\n",
      "DEBUG:env:Set state of Buffer (Buffer_env_3) to INTERMEDIATE\n",
      "DEBUG:env:[Object:SimulationEnvironment (base)]: Monitor is <__main__.BufferMonitor object at 0x00000162A39F1D10>\n",
      "DEBUG:monitors:Duration for state EMPTY on Buffer (Buffer_env_3) was 9.0\n",
      "DEBUG:buffers:[BUFFER: Buffer (Buffer_env_3)] Current time is 24.5 with level 1 and old level 0\n",
      "DEBUG:env:Executed state setting of Buffer (Buffer_env_3) to INTERMEDIATE\n",
      "DEBUG:env:Set state of Machine (Machine_env_2) to PROCESSING\n",
      "DEBUG:env:[Object:SimulationEnvironment (base)]: Monitor is <__main__.Monitor object at 0x00000162A3A80390>\n",
      "DEBUG:monitors:Duration for state WAITING on Machine (Machine_env_2) was 0.0\n",
      "DEBUG:env:Executed state setting of Machine (Machine_env_2) to PROCESSING\n",
      "DEBUG:monitors:Duration for state WAITING on Job (J_gen_5) was 22.0\n",
      "DEBUG:monitors:Duration for state WAITING on Operation(ProcTime: 2, MachineID: 0) was 22.0\n",
      "DEBUG:env:Set state of Machine (Machine_env_4) to PROCESSING\n",
      "DEBUG:env:[Object:SimulationEnvironment (base)]: Monitor is <__main__.Monitor object at 0x00000162A39FB1D0>\n",
      "DEBUG:monitors:Duration for state WAITING on Machine (Machine_env_4) was 4.0\n",
      "DEBUG:env:Executed state setting of Machine (Machine_env_4) to PROCESSING\n",
      "DEBUG:monitors:Duration for state WAITING on Job (J_gen_4) was 0.0\n",
      "DEBUG:monitors:Duration for state WAITING on Operation(ProcTime: 4, MachineID: 1) was 0.0\n",
      "DEBUG:env:Set state of Buffer (Buffer_env_1) to INTERMEDIATE\n",
      "DEBUG:env:[Object:SimulationEnvironment (base)]: Monitor is <__main__.BufferMonitor object at 0x00000162A38748D0>\n",
      "INFO:monitors:Tried to set state of Buffer (Buffer_env_1) to >>INTERMEDIATE<<, but this state was already set.                The object's state was not changed.\n",
      "DEBUG:monitors:Duration for state INTERMEDIATE on Buffer (Buffer_env_1) was 9.0\n",
      "DEBUG:buffers:[BUFFER: Buffer (Buffer_env_1)] Current time is 24.5 with level 1 and old level 2\n",
      "DEBUG:env:Executed state setting of Buffer (Buffer_env_1) to INTERMEDIATE\n",
      "DEBUG:env:Set state of Buffer (Buffer_env_3) to EMPTY\n",
      "DEBUG:env:[Object:SimulationEnvironment (base)]: Monitor is <__main__.BufferMonitor object at 0x00000162A39F1D10>\n",
      "DEBUG:monitors:Duration for state INTERMEDIATE on Buffer (Buffer_env_3) was 0.0\n",
      "DEBUG:buffers:[BUFFER: Buffer (Buffer_env_3)] Current time is 24.5 with level 0 and old level 1\n",
      "DEBUG:env:Executed state setting of Buffer (Buffer_env_3) to EMPTY\n",
      "DEBUG:monitors:Duration for state PROCESSING on Operation(ProcTime: 2, MachineID: 0) was 2.0\n",
      "DEBUG:env:Set state of Machine (Machine_env_2) to BLOCKED\n",
      "DEBUG:env:[Object:SimulationEnvironment (base)]: Monitor is <__main__.Monitor object at 0x00000162A3A80390>\n",
      "DEBUG:monitors:Duration for state PROCESSING on Machine (Machine_env_2) was 2.0\n",
      "DEBUG:env:Executed state setting of Machine (Machine_env_2) to BLOCKED\n",
      "DEBUG:monitors:Duration for state PROCESSING on Job (J_gen_5) was 2.0\n",
      "DEBUG:monitors:Duration for state INIT on Operation(ProcTime: 8, MachineID: 1) was 24.0\n",
      "DEBUG:env:Set state of Machine (Machine_env_2) to WAITING\n",
      "DEBUG:env:[Object:SimulationEnvironment (base)]: Monitor is <__main__.Monitor object at 0x00000162A3A80390>\n",
      "DEBUG:monitors:Duration for state BLOCKED on Machine (Machine_env_2) was 0.0\n",
      "DEBUG:env:Executed state setting of Machine (Machine_env_2) to WAITING\n",
      "DEBUG:monitors:Duration for state BLOCKED on Job (J_gen_5) was 0.0\n",
      "DEBUG:monitors:Duration for state BLOCKED on Operation(ProcTime: 8, MachineID: 1) was 0.0\n",
      "DEBUG:env:Set state of Buffer (Buffer_env_3) to INTERMEDIATE\n",
      "DEBUG:env:[Object:SimulationEnvironment (base)]: Monitor is <__main__.BufferMonitor object at 0x00000162A39F1D10>\n",
      "DEBUG:monitors:Duration for state EMPTY on Buffer (Buffer_env_3) was 2.0\n",
      "DEBUG:buffers:[BUFFER: Buffer (Buffer_env_3)] Current time is 26.5 with level 1 and old level 0\n",
      "DEBUG:env:Executed state setting of Buffer (Buffer_env_3) to INTERMEDIATE\n",
      "DEBUG:env:Set state of Machine (Machine_env_2) to PROCESSING\n",
      "DEBUG:env:[Object:SimulationEnvironment (base)]: Monitor is <__main__.Monitor object at 0x00000162A3A80390>\n",
      "DEBUG:monitors:Duration for state WAITING on Machine (Machine_env_2) was 0.0\n",
      "DEBUG:env:Executed state setting of Machine (Machine_env_2) to PROCESSING\n",
      "DEBUG:monitors:Duration for state WAITING on Job (J_gen_0) was 22.5\n",
      "DEBUG:monitors:Duration for state WAITING on Operation(ProcTime: 8, MachineID: 0) was 22.5\n",
      "DEBUG:env:Set state of Buffer (Buffer_env_1) to EMPTY\n",
      "DEBUG:env:[Object:SimulationEnvironment (base)]: Monitor is <__main__.BufferMonitor object at 0x00000162A38748D0>\n",
      "DEBUG:monitors:Duration for state INTERMEDIATE on Buffer (Buffer_env_1) was 2.0\n",
      "DEBUG:buffers:[BUFFER: Buffer (Buffer_env_1)] Current time is 26.5 with level 0 and old level 1\n",
      "DEBUG:env:Executed state setting of Buffer (Buffer_env_1) to EMPTY\n",
      "DEBUG:monitors:Duration for state PROCESSING on Operation(ProcTime: 4, MachineID: 1) was 4.0\n",
      "DEBUG:env:Set state of Machine (Machine_env_4) to WAITING\n",
      "DEBUG:env:[Object:SimulationEnvironment (base)]: Monitor is <__main__.Monitor object at 0x00000162A39FB1D0>\n",
      "DEBUG:monitors:Duration for state PROCESSING on Machine (Machine_env_4) was 4.0\n",
      "DEBUG:env:Executed state setting of Machine (Machine_env_4) to WAITING\n",
      "DEBUG:monitors:Duration for state PROCESSING on Job (J_gen_4) was 4.0\n",
      "DEBUG:monitors:Duration for state FINISH on Operation(ProcTime: 4, MachineID: 1) was 0.0\n",
      "DEBUG:sinks:[SINK: Sink (Sink_env_6)] is getting job from queue\n",
      "DEBUG:monitors:Duration for state WAITING on Job (J_gen_4) was 0.0\n",
      "DEBUG:monitors:Duration for state WAITING on Operation(ProcTime: 4, MachineID: 1) was 0.0\n",
      "DEBUG:env:Set state of Machine (Machine_env_4) to PROCESSING\n",
      "DEBUG:env:[Object:SimulationEnvironment (base)]: Monitor is <__main__.Monitor object at 0x00000162A39FB1D0>\n",
      "DEBUG:monitors:Duration for state WAITING on Machine (Machine_env_4) was 0.0\n",
      "DEBUG:env:Executed state setting of Machine (Machine_env_4) to PROCESSING\n",
      "DEBUG:monitors:Duration for state WAITING on Job (J_gen_5) was 2.0\n",
      "DEBUG:monitors:Duration for state WAITING on Operation(ProcTime: 8, MachineID: 1) was 2.0\n",
      "DEBUG:env:Set state of Buffer (Buffer_env_3) to EMPTY\n",
      "DEBUG:env:[Object:SimulationEnvironment (base)]: Monitor is <__main__.BufferMonitor object at 0x00000162A39F1D10>\n",
      "DEBUG:monitors:Duration for state INTERMEDIATE on Buffer (Buffer_env_3) was 2.0\n",
      "DEBUG:buffers:[BUFFER: Buffer (Buffer_env_3)] Current time is 28.5 with level 0 and old level 1\n",
      "DEBUG:env:Executed state setting of Buffer (Buffer_env_3) to EMPTY\n",
      "DEBUG:monitors:Duration for state PROCESSING on Operation(ProcTime: 8, MachineID: 0) was 8.0\n",
      "DEBUG:env:Set state of Machine (Machine_env_2) to WAITING\n",
      "DEBUG:env:[Object:SimulationEnvironment (base)]: Monitor is <__main__.Monitor object at 0x00000162A3A80390>\n",
      "DEBUG:monitors:Duration for state PROCESSING on Machine (Machine_env_2) was 8.0\n",
      "DEBUG:env:Executed state setting of Machine (Machine_env_2) to WAITING\n",
      "DEBUG:monitors:Duration for state PROCESSING on Job (J_gen_0) was 8.0\n",
      "DEBUG:monitors:Duration for state FINISH on Operation(ProcTime: 8, MachineID: 0) was 0.0\n",
      "DEBUG:sinks:[SINK: Sink (Sink_env_6)] is getting job from queue\n",
      "DEBUG:monitors:Duration for state WAITING on Job (J_gen_0) was 0.0\n",
      "DEBUG:monitors:Duration for state WAITING on Operation(ProcTime: 8, MachineID: 0) was 0.0\n",
      "DEBUG:monitors:Duration for state PROCESSING on Operation(ProcTime: 8, MachineID: 1) was 8.0\n",
      "DEBUG:env:Set state of Machine (Machine_env_4) to WAITING\n",
      "DEBUG:env:[Object:SimulationEnvironment (base)]: Monitor is <__main__.Monitor object at 0x00000162A39FB1D0>\n",
      "DEBUG:monitors:Duration for state PROCESSING on Machine (Machine_env_4) was 8.0\n",
      "DEBUG:env:Executed state setting of Machine (Machine_env_4) to WAITING\n",
      "DEBUG:monitors:Duration for state PROCESSING on Job (J_gen_5) was 8.0\n",
      "DEBUG:monitors:Duration for state FINISH on Operation(ProcTime: 8, MachineID: 1) was 0.0\n",
      "DEBUG:sinks:[SINK: Sink (Sink_env_6)] is getting job from queue\n",
      "DEBUG:monitors:Duration for state WAITING on Job (J_gen_5) was 0.0\n",
      "DEBUG:monitors:Duration for state WAITING on Operation(ProcTime: 8, MachineID: 1) was 0.0\n",
      "DEBUG:env:Set state of Buffer (Buffer_env_1) to FINISH\n",
      "DEBUG:env:[Object:SimulationEnvironment (base)]: Monitor is <__main__.BufferMonitor object at 0x00000162A38748D0>\n",
      "DEBUG:monitors:Duration for state EMPTY on Buffer (Buffer_env_1) was 10.0\n",
      "DEBUG:buffers:[BUFFER: Buffer (Buffer_env_1)] Current time is 36.5 with level 0 and old level 0\n",
      "DEBUG:env:Executed state setting of Buffer (Buffer_env_1) to FINISH\n",
      "DEBUG:buffers:[BUFFER: Buffer (Buffer_env_1)] Current time is 36.5 with level 0 and old level 0\n",
      "DEBUG:env:Set state of Machine (Machine_env_2) to FINISH\n",
      "DEBUG:env:[Object:SimulationEnvironment (base)]: Monitor is <__main__.Monitor object at 0x00000162A3A80390>\n",
      "DEBUG:monitors:Duration for state WAITING on Machine (Machine_env_2) was 2.0\n",
      "DEBUG:env:Executed state setting of Machine (Machine_env_2) to FINISH\n",
      "DEBUG:env:Set state of Buffer (Buffer_env_3) to FINISH\n",
      "DEBUG:env:[Object:SimulationEnvironment (base)]: Monitor is <__main__.BufferMonitor object at 0x00000162A39F1D10>\n",
      "DEBUG:monitors:Duration for state EMPTY on Buffer (Buffer_env_3) was 8.0\n",
      "DEBUG:buffers:[BUFFER: Buffer (Buffer_env_3)] Current time is 36.5 with level 0 and old level 0\n",
      "DEBUG:env:Executed state setting of Buffer (Buffer_env_3) to FINISH\n",
      "DEBUG:buffers:[BUFFER: Buffer (Buffer_env_3)] Current time is 36.5 with level 0 and old level 0\n",
      "DEBUG:env:Set state of Machine (Machine_env_4) to FINISH\n",
      "DEBUG:env:[Object:SimulationEnvironment (base)]: Monitor is <__main__.Monitor object at 0x00000162A39FB1D0>\n",
      "DEBUG:monitors:Duration for state WAITING on Machine (Machine_env_4) was 0.0\n",
      "DEBUG:env:Executed state setting of Machine (Machine_env_4) to FINISH\n",
      "DEBUG:env:Set state of Source (Source_env_5) to FINISH\n",
      "DEBUG:env:[Object:SimulationEnvironment (base)]: Monitor is <__main__.Monitor object at 0x00000162A2121F10>\n",
      "DEBUG:monitors:Duration for state WAITING on Source (Source_env_5) was 33.5\n",
      "DEBUG:env:Executed state setting of Source (Source_env_5) to FINISH\n",
      "DEBUG:env:Set state of Sink (Sink_env_6) to FINISH\n",
      "DEBUG:env:[Object:SimulationEnvironment (base)]: Monitor is <__main__.Monitor object at 0x00000162A39FA5D0>\n",
      "DEBUG:monitors:Duration for state PROCESSING on Sink (Sink_env_6) was 36.5\n",
      "DEBUG:env:Executed state setting of Sink (Sink_env_6) to FINISH\n",
      "INFO:env:Finalisation of the state information for all resource objects successful.\n"
     ]
    }
   ],
   "source": [
    "env.run()\n",
    "env.finalise_sim()"
   ]
  },
  {
   "cell_type": "code",
   "execution_count": 655,
   "metadata": {},
   "outputs": [
    {
     "data": {
      "text/html": [
       "<div>\n",
       "<style scoped>\n",
       "    .dataframe tbody tr th:only-of-type {\n",
       "        vertical-align: middle;\n",
       "    }\n",
       "\n",
       "    .dataframe tbody tr th {\n",
       "        vertical-align: top;\n",
       "    }\n",
       "\n",
       "    .dataframe thead th {\n",
       "        text-align: right;\n",
       "    }\n",
       "</style>\n",
       "<table border=\"1\" class=\"dataframe\">\n",
       "  <thead>\n",
       "    <tr style=\"text-align: right;\">\n",
       "      <th></th>\n",
       "      <th>sim_time</th>\n",
       "      <th>duration</th>\n",
       "      <th>level</th>\n",
       "    </tr>\n",
       "  </thead>\n",
       "  <tbody>\n",
       "    <tr>\n",
       "      <th>0</th>\n",
       "      <td>4.5</td>\n",
       "      <td>4.5</td>\n",
       "      <td>0</td>\n",
       "    </tr>\n",
       "    <tr>\n",
       "      <th>1</th>\n",
       "      <td>11.5</td>\n",
       "      <td>7.0</td>\n",
       "      <td>0</td>\n",
       "    </tr>\n",
       "    <tr>\n",
       "      <th>2</th>\n",
       "      <td>15.5</td>\n",
       "      <td>4.0</td>\n",
       "      <td>0</td>\n",
       "    </tr>\n",
       "    <tr>\n",
       "      <th>3</th>\n",
       "      <td>24.5</td>\n",
       "      <td>9.0</td>\n",
       "      <td>0</td>\n",
       "    </tr>\n",
       "    <tr>\n",
       "      <th>4</th>\n",
       "      <td>26.5</td>\n",
       "      <td>2.0</td>\n",
       "      <td>0</td>\n",
       "    </tr>\n",
       "    <tr>\n",
       "      <th>5</th>\n",
       "      <td>28.5</td>\n",
       "      <td>2.0</td>\n",
       "      <td>1</td>\n",
       "    </tr>\n",
       "    <tr>\n",
       "      <th>6</th>\n",
       "      <td>36.5</td>\n",
       "      <td>8.0</td>\n",
       "      <td>0</td>\n",
       "    </tr>\n",
       "  </tbody>\n",
       "</table>\n",
       "</div>"
      ],
      "text/plain": [
       "   sim_time  duration  level\n",
       "0       4.5       4.5      0\n",
       "1      11.5       7.0      0\n",
       "2      15.5       4.0      0\n",
       "3      24.5       9.0      0\n",
       "4      26.5       2.0      0\n",
       "5      28.5       2.0      1\n",
       "6      36.5       8.0      0"
      ]
     },
     "execution_count": 655,
     "metadata": {},
     "output_type": "execute_result"
    }
   ],
   "source": [
    "buffer.level_db"
   ]
  },
  {
   "cell_type": "code",
   "execution_count": null,
   "metadata": {},
   "outputs": [],
   "source": []
  },
  {
   "cell_type": "code",
   "execution_count": 656,
   "metadata": {},
   "outputs": [
    {
     "data": {
      "text/html": [
       "<div>\n",
       "<style scoped>\n",
       "    .dataframe tbody tr th:only-of-type {\n",
       "        vertical-align: middle;\n",
       "    }\n",
       "\n",
       "    .dataframe tbody tr th {\n",
       "        vertical-align: top;\n",
       "    }\n",
       "\n",
       "    .dataframe thead th {\n",
       "        text-align: right;\n",
       "    }\n",
       "</style>\n",
       "<table border=\"1\" class=\"dataframe\">\n",
       "  <thead>\n",
       "    <tr style=\"text-align: right;\">\n",
       "      <th></th>\n",
       "      <th>abs [timesteps]</th>\n",
       "      <th>rel [%]</th>\n",
       "    </tr>\n",
       "  </thead>\n",
       "  <tbody>\n",
       "    <tr>\n",
       "      <th>WAITING</th>\n",
       "      <td>3.5</td>\n",
       "      <td>24.137931</td>\n",
       "    </tr>\n",
       "    <tr>\n",
       "      <th>PROCESSING</th>\n",
       "      <td>11.0</td>\n",
       "      <td>75.862069</td>\n",
       "    </tr>\n",
       "    <tr>\n",
       "      <th>PAUSED</th>\n",
       "      <td>0.0</td>\n",
       "      <td>0.000000</td>\n",
       "    </tr>\n",
       "    <tr>\n",
       "      <th>FAILED</th>\n",
       "      <td>0.0</td>\n",
       "      <td>0.000000</td>\n",
       "    </tr>\n",
       "    <tr>\n",
       "      <th>BLOCKED</th>\n",
       "      <td>0.0</td>\n",
       "      <td>0.000000</td>\n",
       "    </tr>\n",
       "  </tbody>\n",
       "</table>\n",
       "</div>"
      ],
      "text/plain": [
       "            abs [timesteps]    rel [%]\n",
       "WAITING                 3.5  24.137931\n",
       "PROCESSING             11.0  75.862069\n",
       "PAUSED                  0.0   0.000000\n",
       "FAILED                  0.0   0.000000\n",
       "BLOCKED                 0.0   0.000000"
      ]
     },
     "execution_count": 656,
     "metadata": {},
     "output_type": "execute_result"
    }
   ],
   "source": [
    "mon.state_durations"
   ]
  },
  {
   "cell_type": "code",
   "execution_count": 658,
   "metadata": {},
   "outputs": [
    {
     "data": {
      "application/vnd.plotly.v1+json": {
       "config": {
        "plotlyServerURL": "https://plot.ly"
       },
       "data": [
        {
         "alignmentgroup": "True",
         "hovertemplate": "variable=total time<br>state=%{x}<br>value=%{y}<extra></extra>",
         "legendgroup": "total time",
         "marker": {
          "color": "#636efa",
          "pattern": {
           "shape": ""
          }
         },
         "name": "total time",
         "offsetgroup": "total time",
         "orientation": "v",
         "showlegend": true,
         "textposition": "auto",
         "texttemplate": "%{y:.2f}",
         "type": "bar",
         "x": [
          "WAITING",
          "INIT",
          "PROCESSING",
          "PAUSED",
          "FAILED",
          "BLOCKED",
          "FINISH"
         ],
         "xaxis": "x",
         "y": [
          3.5,
          0,
          11,
          0,
          0,
          0,
          0
         ],
         "yaxis": "y"
        }
       ],
       "layout": {
        "barmode": "relative",
        "legend": {
         "title": {
          "text": "variable"
         },
         "tracegroupgap": 0
        },
        "margin": {
         "t": 60
        },
        "showlegend": false,
        "template": {
         "data": {
          "bar": [
           {
            "error_x": {
             "color": "#2a3f5f"
            },
            "error_y": {
             "color": "#2a3f5f"
            },
            "marker": {
             "line": {
              "color": "#E5ECF6",
              "width": 0.5
             },
             "pattern": {
              "fillmode": "overlay",
              "size": 10,
              "solidity": 0.2
             }
            },
            "type": "bar"
           }
          ],
          "barpolar": [
           {
            "marker": {
             "line": {
              "color": "#E5ECF6",
              "width": 0.5
             },
             "pattern": {
              "fillmode": "overlay",
              "size": 10,
              "solidity": 0.2
             }
            },
            "type": "barpolar"
           }
          ],
          "carpet": [
           {
            "aaxis": {
             "endlinecolor": "#2a3f5f",
             "gridcolor": "white",
             "linecolor": "white",
             "minorgridcolor": "white",
             "startlinecolor": "#2a3f5f"
            },
            "baxis": {
             "endlinecolor": "#2a3f5f",
             "gridcolor": "white",
             "linecolor": "white",
             "minorgridcolor": "white",
             "startlinecolor": "#2a3f5f"
            },
            "type": "carpet"
           }
          ],
          "choropleth": [
           {
            "colorbar": {
             "outlinewidth": 0,
             "ticks": ""
            },
            "type": "choropleth"
           }
          ],
          "contour": [
           {
            "colorbar": {
             "outlinewidth": 0,
             "ticks": ""
            },
            "colorscale": [
             [
              0,
              "#0d0887"
             ],
             [
              0.1111111111111111,
              "#46039f"
             ],
             [
              0.2222222222222222,
              "#7201a8"
             ],
             [
              0.3333333333333333,
              "#9c179e"
             ],
             [
              0.4444444444444444,
              "#bd3786"
             ],
             [
              0.5555555555555556,
              "#d8576b"
             ],
             [
              0.6666666666666666,
              "#ed7953"
             ],
             [
              0.7777777777777778,
              "#fb9f3a"
             ],
             [
              0.8888888888888888,
              "#fdca26"
             ],
             [
              1,
              "#f0f921"
             ]
            ],
            "type": "contour"
           }
          ],
          "contourcarpet": [
           {
            "colorbar": {
             "outlinewidth": 0,
             "ticks": ""
            },
            "type": "contourcarpet"
           }
          ],
          "heatmap": [
           {
            "colorbar": {
             "outlinewidth": 0,
             "ticks": ""
            },
            "colorscale": [
             [
              0,
              "#0d0887"
             ],
             [
              0.1111111111111111,
              "#46039f"
             ],
             [
              0.2222222222222222,
              "#7201a8"
             ],
             [
              0.3333333333333333,
              "#9c179e"
             ],
             [
              0.4444444444444444,
              "#bd3786"
             ],
             [
              0.5555555555555556,
              "#d8576b"
             ],
             [
              0.6666666666666666,
              "#ed7953"
             ],
             [
              0.7777777777777778,
              "#fb9f3a"
             ],
             [
              0.8888888888888888,
              "#fdca26"
             ],
             [
              1,
              "#f0f921"
             ]
            ],
            "type": "heatmap"
           }
          ],
          "heatmapgl": [
           {
            "colorbar": {
             "outlinewidth": 0,
             "ticks": ""
            },
            "colorscale": [
             [
              0,
              "#0d0887"
             ],
             [
              0.1111111111111111,
              "#46039f"
             ],
             [
              0.2222222222222222,
              "#7201a8"
             ],
             [
              0.3333333333333333,
              "#9c179e"
             ],
             [
              0.4444444444444444,
              "#bd3786"
             ],
             [
              0.5555555555555556,
              "#d8576b"
             ],
             [
              0.6666666666666666,
              "#ed7953"
             ],
             [
              0.7777777777777778,
              "#fb9f3a"
             ],
             [
              0.8888888888888888,
              "#fdca26"
             ],
             [
              1,
              "#f0f921"
             ]
            ],
            "type": "heatmapgl"
           }
          ],
          "histogram": [
           {
            "marker": {
             "pattern": {
              "fillmode": "overlay",
              "size": 10,
              "solidity": 0.2
             }
            },
            "type": "histogram"
           }
          ],
          "histogram2d": [
           {
            "colorbar": {
             "outlinewidth": 0,
             "ticks": ""
            },
            "colorscale": [
             [
              0,
              "#0d0887"
             ],
             [
              0.1111111111111111,
              "#46039f"
             ],
             [
              0.2222222222222222,
              "#7201a8"
             ],
             [
              0.3333333333333333,
              "#9c179e"
             ],
             [
              0.4444444444444444,
              "#bd3786"
             ],
             [
              0.5555555555555556,
              "#d8576b"
             ],
             [
              0.6666666666666666,
              "#ed7953"
             ],
             [
              0.7777777777777778,
              "#fb9f3a"
             ],
             [
              0.8888888888888888,
              "#fdca26"
             ],
             [
              1,
              "#f0f921"
             ]
            ],
            "type": "histogram2d"
           }
          ],
          "histogram2dcontour": [
           {
            "colorbar": {
             "outlinewidth": 0,
             "ticks": ""
            },
            "colorscale": [
             [
              0,
              "#0d0887"
             ],
             [
              0.1111111111111111,
              "#46039f"
             ],
             [
              0.2222222222222222,
              "#7201a8"
             ],
             [
              0.3333333333333333,
              "#9c179e"
             ],
             [
              0.4444444444444444,
              "#bd3786"
             ],
             [
              0.5555555555555556,
              "#d8576b"
             ],
             [
              0.6666666666666666,
              "#ed7953"
             ],
             [
              0.7777777777777778,
              "#fb9f3a"
             ],
             [
              0.8888888888888888,
              "#fdca26"
             ],
             [
              1,
              "#f0f921"
             ]
            ],
            "type": "histogram2dcontour"
           }
          ],
          "mesh3d": [
           {
            "colorbar": {
             "outlinewidth": 0,
             "ticks": ""
            },
            "type": "mesh3d"
           }
          ],
          "parcoords": [
           {
            "line": {
             "colorbar": {
              "outlinewidth": 0,
              "ticks": ""
             }
            },
            "type": "parcoords"
           }
          ],
          "pie": [
           {
            "automargin": true,
            "type": "pie"
           }
          ],
          "scatter": [
           {
            "fillpattern": {
             "fillmode": "overlay",
             "size": 10,
             "solidity": 0.2
            },
            "type": "scatter"
           }
          ],
          "scatter3d": [
           {
            "line": {
             "colorbar": {
              "outlinewidth": 0,
              "ticks": ""
             }
            },
            "marker": {
             "colorbar": {
              "outlinewidth": 0,
              "ticks": ""
             }
            },
            "type": "scatter3d"
           }
          ],
          "scattercarpet": [
           {
            "marker": {
             "colorbar": {
              "outlinewidth": 0,
              "ticks": ""
             }
            },
            "type": "scattercarpet"
           }
          ],
          "scattergeo": [
           {
            "marker": {
             "colorbar": {
              "outlinewidth": 0,
              "ticks": ""
             }
            },
            "type": "scattergeo"
           }
          ],
          "scattergl": [
           {
            "marker": {
             "colorbar": {
              "outlinewidth": 0,
              "ticks": ""
             }
            },
            "type": "scattergl"
           }
          ],
          "scattermapbox": [
           {
            "marker": {
             "colorbar": {
              "outlinewidth": 0,
              "ticks": ""
             }
            },
            "type": "scattermapbox"
           }
          ],
          "scatterpolar": [
           {
            "marker": {
             "colorbar": {
              "outlinewidth": 0,
              "ticks": ""
             }
            },
            "type": "scatterpolar"
           }
          ],
          "scatterpolargl": [
           {
            "marker": {
             "colorbar": {
              "outlinewidth": 0,
              "ticks": ""
             }
            },
            "type": "scatterpolargl"
           }
          ],
          "scatterternary": [
           {
            "marker": {
             "colorbar": {
              "outlinewidth": 0,
              "ticks": ""
             }
            },
            "type": "scatterternary"
           }
          ],
          "surface": [
           {
            "colorbar": {
             "outlinewidth": 0,
             "ticks": ""
            },
            "colorscale": [
             [
              0,
              "#0d0887"
             ],
             [
              0.1111111111111111,
              "#46039f"
             ],
             [
              0.2222222222222222,
              "#7201a8"
             ],
             [
              0.3333333333333333,
              "#9c179e"
             ],
             [
              0.4444444444444444,
              "#bd3786"
             ],
             [
              0.5555555555555556,
              "#d8576b"
             ],
             [
              0.6666666666666666,
              "#ed7953"
             ],
             [
              0.7777777777777778,
              "#fb9f3a"
             ],
             [
              0.8888888888888888,
              "#fdca26"
             ],
             [
              1,
              "#f0f921"
             ]
            ],
            "type": "surface"
           }
          ],
          "table": [
           {
            "cells": {
             "fill": {
              "color": "#EBF0F8"
             },
             "line": {
              "color": "white"
             }
            },
            "header": {
             "fill": {
              "color": "#C8D4E3"
             },
             "line": {
              "color": "white"
             }
            },
            "type": "table"
           }
          ]
         },
         "layout": {
          "annotationdefaults": {
           "arrowcolor": "#2a3f5f",
           "arrowhead": 0,
           "arrowwidth": 1
          },
          "autotypenumbers": "strict",
          "coloraxis": {
           "colorbar": {
            "outlinewidth": 0,
            "ticks": ""
           }
          },
          "colorscale": {
           "diverging": [
            [
             0,
             "#8e0152"
            ],
            [
             0.1,
             "#c51b7d"
            ],
            [
             0.2,
             "#de77ae"
            ],
            [
             0.3,
             "#f1b6da"
            ],
            [
             0.4,
             "#fde0ef"
            ],
            [
             0.5,
             "#f7f7f7"
            ],
            [
             0.6,
             "#e6f5d0"
            ],
            [
             0.7,
             "#b8e186"
            ],
            [
             0.8,
             "#7fbc41"
            ],
            [
             0.9,
             "#4d9221"
            ],
            [
             1,
             "#276419"
            ]
           ],
           "sequential": [
            [
             0,
             "#0d0887"
            ],
            [
             0.1111111111111111,
             "#46039f"
            ],
            [
             0.2222222222222222,
             "#7201a8"
            ],
            [
             0.3333333333333333,
             "#9c179e"
            ],
            [
             0.4444444444444444,
             "#bd3786"
            ],
            [
             0.5555555555555556,
             "#d8576b"
            ],
            [
             0.6666666666666666,
             "#ed7953"
            ],
            [
             0.7777777777777778,
             "#fb9f3a"
            ],
            [
             0.8888888888888888,
             "#fdca26"
            ],
            [
             1,
             "#f0f921"
            ]
           ],
           "sequentialminus": [
            [
             0,
             "#0d0887"
            ],
            [
             0.1111111111111111,
             "#46039f"
            ],
            [
             0.2222222222222222,
             "#7201a8"
            ],
            [
             0.3333333333333333,
             "#9c179e"
            ],
            [
             0.4444444444444444,
             "#bd3786"
            ],
            [
             0.5555555555555556,
             "#d8576b"
            ],
            [
             0.6666666666666666,
             "#ed7953"
            ],
            [
             0.7777777777777778,
             "#fb9f3a"
            ],
            [
             0.8888888888888888,
             "#fdca26"
            ],
            [
             1,
             "#f0f921"
            ]
           ]
          },
          "colorway": [
           "#636efa",
           "#EF553B",
           "#00cc96",
           "#ab63fa",
           "#FFA15A",
           "#19d3f3",
           "#FF6692",
           "#B6E880",
           "#FF97FF",
           "#FECB52"
          ],
          "font": {
           "color": "#2a3f5f"
          },
          "geo": {
           "bgcolor": "white",
           "lakecolor": "white",
           "landcolor": "#E5ECF6",
           "showlakes": true,
           "showland": true,
           "subunitcolor": "white"
          },
          "hoverlabel": {
           "align": "left"
          },
          "hovermode": "closest",
          "mapbox": {
           "style": "light"
          },
          "paper_bgcolor": "white",
          "plot_bgcolor": "#E5ECF6",
          "polar": {
           "angularaxis": {
            "gridcolor": "white",
            "linecolor": "white",
            "ticks": ""
           },
           "bgcolor": "#E5ECF6",
           "radialaxis": {
            "gridcolor": "white",
            "linecolor": "white",
            "ticks": ""
           }
          },
          "scene": {
           "xaxis": {
            "backgroundcolor": "#E5ECF6",
            "gridcolor": "white",
            "gridwidth": 2,
            "linecolor": "white",
            "showbackground": true,
            "ticks": "",
            "zerolinecolor": "white"
           },
           "yaxis": {
            "backgroundcolor": "#E5ECF6",
            "gridcolor": "white",
            "gridwidth": 2,
            "linecolor": "white",
            "showbackground": true,
            "ticks": "",
            "zerolinecolor": "white"
           },
           "zaxis": {
            "backgroundcolor": "#E5ECF6",
            "gridcolor": "white",
            "gridwidth": 2,
            "linecolor": "white",
            "showbackground": true,
            "ticks": "",
            "zerolinecolor": "white"
           }
          },
          "shapedefaults": {
           "line": {
            "color": "#2a3f5f"
           }
          },
          "ternary": {
           "aaxis": {
            "gridcolor": "white",
            "linecolor": "white",
            "ticks": ""
           },
           "baxis": {
            "gridcolor": "white",
            "linecolor": "white",
            "ticks": ""
           },
           "bgcolor": "#E5ECF6",
           "caxis": {
            "gridcolor": "white",
            "linecolor": "white",
            "ticks": ""
           }
          },
          "title": {
           "x": 0.05
          },
          "xaxis": {
           "automargin": true,
           "gridcolor": "white",
           "linecolor": "white",
           "ticks": "",
           "title": {
            "standoff": 15
           },
           "zerolinecolor": "white",
           "zerolinewidth": 2
          },
          "yaxis": {
           "automargin": true,
           "gridcolor": "white",
           "linecolor": "white",
           "ticks": "",
           "title": {
            "standoff": 15
           },
           "zerolinecolor": "white",
           "zerolinewidth": 2
          }
         }
        },
        "title": {
         "text": "State Time Distribution of Job (J_gen_2)"
        },
        "xaxis": {
         "anchor": "y",
         "domain": [
          0,
          1
         ],
         "title": {
          "text": "state"
         }
        },
        "yaxis": {
         "anchor": "x",
         "domain": [
          0,
          1
         ],
         "title": {
          "text": "total time"
         }
        }
       }
      }
     },
     "metadata": {},
     "output_type": "display_data"
    }
   ],
   "source": [
    "fig = mon.draw_state_bar_chart()"
   ]
  },
  {
   "cell_type": "code",
   "execution_count": 659,
   "metadata": {},
   "outputs": [
    {
     "data": {
      "application/vnd.plotly.v1+json": {
       "config": {
        "plotlyServerURL": "https://plot.ly"
       },
       "data": [
        {
         "hovertemplate": "x=%{x}<br>y=%{y}<extra></extra>",
         "legendgroup": "",
         "line": {
          "color": "#636efa",
          "dash": "solid",
          "shape": "vh",
          "width": 3
         },
         "marker": {
          "symbol": "circle"
         },
         "mode": "lines",
         "name": "",
         "orientation": "v",
         "showlegend": false,
         "type": "scatter",
         "x": [
          0,
          4.5,
          11.5,
          15.5,
          24.5,
          26.5,
          28.5,
          36.5
         ],
         "xaxis": "x",
         "y": [
          0,
          0,
          0,
          0,
          0,
          0,
          1,
          0
         ],
         "yaxis": "y"
        }
       ],
       "layout": {
        "legend": {
         "tracegroupgap": 0
        },
        "margin": {
         "t": 60
        },
        "shapes": [
         {
          "line": {
           "color": "orange",
           "dash": "dot",
           "width": 3
          },
          "type": "line",
          "x0": 0,
          "x1": 1,
          "xref": "x domain",
          "y0": 0.0547945205479452,
          "y1": 0.0547945205479452,
          "yref": "y"
         }
        ],
        "template": {
         "data": {
          "bar": [
           {
            "error_x": {
             "color": "#2a3f5f"
            },
            "error_y": {
             "color": "#2a3f5f"
            },
            "marker": {
             "line": {
              "color": "#E5ECF6",
              "width": 0.5
             },
             "pattern": {
              "fillmode": "overlay",
              "size": 10,
              "solidity": 0.2
             }
            },
            "type": "bar"
           }
          ],
          "barpolar": [
           {
            "marker": {
             "line": {
              "color": "#E5ECF6",
              "width": 0.5
             },
             "pattern": {
              "fillmode": "overlay",
              "size": 10,
              "solidity": 0.2
             }
            },
            "type": "barpolar"
           }
          ],
          "carpet": [
           {
            "aaxis": {
             "endlinecolor": "#2a3f5f",
             "gridcolor": "white",
             "linecolor": "white",
             "minorgridcolor": "white",
             "startlinecolor": "#2a3f5f"
            },
            "baxis": {
             "endlinecolor": "#2a3f5f",
             "gridcolor": "white",
             "linecolor": "white",
             "minorgridcolor": "white",
             "startlinecolor": "#2a3f5f"
            },
            "type": "carpet"
           }
          ],
          "choropleth": [
           {
            "colorbar": {
             "outlinewidth": 0,
             "ticks": ""
            },
            "type": "choropleth"
           }
          ],
          "contour": [
           {
            "colorbar": {
             "outlinewidth": 0,
             "ticks": ""
            },
            "colorscale": [
             [
              0,
              "#0d0887"
             ],
             [
              0.1111111111111111,
              "#46039f"
             ],
             [
              0.2222222222222222,
              "#7201a8"
             ],
             [
              0.3333333333333333,
              "#9c179e"
             ],
             [
              0.4444444444444444,
              "#bd3786"
             ],
             [
              0.5555555555555556,
              "#d8576b"
             ],
             [
              0.6666666666666666,
              "#ed7953"
             ],
             [
              0.7777777777777778,
              "#fb9f3a"
             ],
             [
              0.8888888888888888,
              "#fdca26"
             ],
             [
              1,
              "#f0f921"
             ]
            ],
            "type": "contour"
           }
          ],
          "contourcarpet": [
           {
            "colorbar": {
             "outlinewidth": 0,
             "ticks": ""
            },
            "type": "contourcarpet"
           }
          ],
          "heatmap": [
           {
            "colorbar": {
             "outlinewidth": 0,
             "ticks": ""
            },
            "colorscale": [
             [
              0,
              "#0d0887"
             ],
             [
              0.1111111111111111,
              "#46039f"
             ],
             [
              0.2222222222222222,
              "#7201a8"
             ],
             [
              0.3333333333333333,
              "#9c179e"
             ],
             [
              0.4444444444444444,
              "#bd3786"
             ],
             [
              0.5555555555555556,
              "#d8576b"
             ],
             [
              0.6666666666666666,
              "#ed7953"
             ],
             [
              0.7777777777777778,
              "#fb9f3a"
             ],
             [
              0.8888888888888888,
              "#fdca26"
             ],
             [
              1,
              "#f0f921"
             ]
            ],
            "type": "heatmap"
           }
          ],
          "heatmapgl": [
           {
            "colorbar": {
             "outlinewidth": 0,
             "ticks": ""
            },
            "colorscale": [
             [
              0,
              "#0d0887"
             ],
             [
              0.1111111111111111,
              "#46039f"
             ],
             [
              0.2222222222222222,
              "#7201a8"
             ],
             [
              0.3333333333333333,
              "#9c179e"
             ],
             [
              0.4444444444444444,
              "#bd3786"
             ],
             [
              0.5555555555555556,
              "#d8576b"
             ],
             [
              0.6666666666666666,
              "#ed7953"
             ],
             [
              0.7777777777777778,
              "#fb9f3a"
             ],
             [
              0.8888888888888888,
              "#fdca26"
             ],
             [
              1,
              "#f0f921"
             ]
            ],
            "type": "heatmapgl"
           }
          ],
          "histogram": [
           {
            "marker": {
             "pattern": {
              "fillmode": "overlay",
              "size": 10,
              "solidity": 0.2
             }
            },
            "type": "histogram"
           }
          ],
          "histogram2d": [
           {
            "colorbar": {
             "outlinewidth": 0,
             "ticks": ""
            },
            "colorscale": [
             [
              0,
              "#0d0887"
             ],
             [
              0.1111111111111111,
              "#46039f"
             ],
             [
              0.2222222222222222,
              "#7201a8"
             ],
             [
              0.3333333333333333,
              "#9c179e"
             ],
             [
              0.4444444444444444,
              "#bd3786"
             ],
             [
              0.5555555555555556,
              "#d8576b"
             ],
             [
              0.6666666666666666,
              "#ed7953"
             ],
             [
              0.7777777777777778,
              "#fb9f3a"
             ],
             [
              0.8888888888888888,
              "#fdca26"
             ],
             [
              1,
              "#f0f921"
             ]
            ],
            "type": "histogram2d"
           }
          ],
          "histogram2dcontour": [
           {
            "colorbar": {
             "outlinewidth": 0,
             "ticks": ""
            },
            "colorscale": [
             [
              0,
              "#0d0887"
             ],
             [
              0.1111111111111111,
              "#46039f"
             ],
             [
              0.2222222222222222,
              "#7201a8"
             ],
             [
              0.3333333333333333,
              "#9c179e"
             ],
             [
              0.4444444444444444,
              "#bd3786"
             ],
             [
              0.5555555555555556,
              "#d8576b"
             ],
             [
              0.6666666666666666,
              "#ed7953"
             ],
             [
              0.7777777777777778,
              "#fb9f3a"
             ],
             [
              0.8888888888888888,
              "#fdca26"
             ],
             [
              1,
              "#f0f921"
             ]
            ],
            "type": "histogram2dcontour"
           }
          ],
          "mesh3d": [
           {
            "colorbar": {
             "outlinewidth": 0,
             "ticks": ""
            },
            "type": "mesh3d"
           }
          ],
          "parcoords": [
           {
            "line": {
             "colorbar": {
              "outlinewidth": 0,
              "ticks": ""
             }
            },
            "type": "parcoords"
           }
          ],
          "pie": [
           {
            "automargin": true,
            "type": "pie"
           }
          ],
          "scatter": [
           {
            "fillpattern": {
             "fillmode": "overlay",
             "size": 10,
             "solidity": 0.2
            },
            "type": "scatter"
           }
          ],
          "scatter3d": [
           {
            "line": {
             "colorbar": {
              "outlinewidth": 0,
              "ticks": ""
             }
            },
            "marker": {
             "colorbar": {
              "outlinewidth": 0,
              "ticks": ""
             }
            },
            "type": "scatter3d"
           }
          ],
          "scattercarpet": [
           {
            "marker": {
             "colorbar": {
              "outlinewidth": 0,
              "ticks": ""
             }
            },
            "type": "scattercarpet"
           }
          ],
          "scattergeo": [
           {
            "marker": {
             "colorbar": {
              "outlinewidth": 0,
              "ticks": ""
             }
            },
            "type": "scattergeo"
           }
          ],
          "scattergl": [
           {
            "marker": {
             "colorbar": {
              "outlinewidth": 0,
              "ticks": ""
             }
            },
            "type": "scattergl"
           }
          ],
          "scattermapbox": [
           {
            "marker": {
             "colorbar": {
              "outlinewidth": 0,
              "ticks": ""
             }
            },
            "type": "scattermapbox"
           }
          ],
          "scatterpolar": [
           {
            "marker": {
             "colorbar": {
              "outlinewidth": 0,
              "ticks": ""
             }
            },
            "type": "scatterpolar"
           }
          ],
          "scatterpolargl": [
           {
            "marker": {
             "colorbar": {
              "outlinewidth": 0,
              "ticks": ""
             }
            },
            "type": "scatterpolargl"
           }
          ],
          "scatterternary": [
           {
            "marker": {
             "colorbar": {
              "outlinewidth": 0,
              "ticks": ""
             }
            },
            "type": "scatterternary"
           }
          ],
          "surface": [
           {
            "colorbar": {
             "outlinewidth": 0,
             "ticks": ""
            },
            "colorscale": [
             [
              0,
              "#0d0887"
             ],
             [
              0.1111111111111111,
              "#46039f"
             ],
             [
              0.2222222222222222,
              "#7201a8"
             ],
             [
              0.3333333333333333,
              "#9c179e"
             ],
             [
              0.4444444444444444,
              "#bd3786"
             ],
             [
              0.5555555555555556,
              "#d8576b"
             ],
             [
              0.6666666666666666,
              "#ed7953"
             ],
             [
              0.7777777777777778,
              "#fb9f3a"
             ],
             [
              0.8888888888888888,
              "#fdca26"
             ],
             [
              1,
              "#f0f921"
             ]
            ],
            "type": "surface"
           }
          ],
          "table": [
           {
            "cells": {
             "fill": {
              "color": "#EBF0F8"
             },
             "line": {
              "color": "white"
             }
            },
            "header": {
             "fill": {
              "color": "#C8D4E3"
             },
             "line": {
              "color": "white"
             }
            },
            "type": "table"
           }
          ]
         },
         "layout": {
          "annotationdefaults": {
           "arrowcolor": "#2a3f5f",
           "arrowhead": 0,
           "arrowwidth": 1
          },
          "autotypenumbers": "strict",
          "coloraxis": {
           "colorbar": {
            "outlinewidth": 0,
            "ticks": ""
           }
          },
          "colorscale": {
           "diverging": [
            [
             0,
             "#8e0152"
            ],
            [
             0.1,
             "#c51b7d"
            ],
            [
             0.2,
             "#de77ae"
            ],
            [
             0.3,
             "#f1b6da"
            ],
            [
             0.4,
             "#fde0ef"
            ],
            [
             0.5,
             "#f7f7f7"
            ],
            [
             0.6,
             "#e6f5d0"
            ],
            [
             0.7,
             "#b8e186"
            ],
            [
             0.8,
             "#7fbc41"
            ],
            [
             0.9,
             "#4d9221"
            ],
            [
             1,
             "#276419"
            ]
           ],
           "sequential": [
            [
             0,
             "#0d0887"
            ],
            [
             0.1111111111111111,
             "#46039f"
            ],
            [
             0.2222222222222222,
             "#7201a8"
            ],
            [
             0.3333333333333333,
             "#9c179e"
            ],
            [
             0.4444444444444444,
             "#bd3786"
            ],
            [
             0.5555555555555556,
             "#d8576b"
            ],
            [
             0.6666666666666666,
             "#ed7953"
            ],
            [
             0.7777777777777778,
             "#fb9f3a"
            ],
            [
             0.8888888888888888,
             "#fdca26"
            ],
            [
             1,
             "#f0f921"
            ]
           ],
           "sequentialminus": [
            [
             0,
             "#0d0887"
            ],
            [
             0.1111111111111111,
             "#46039f"
            ],
            [
             0.2222222222222222,
             "#7201a8"
            ],
            [
             0.3333333333333333,
             "#9c179e"
            ],
            [
             0.4444444444444444,
             "#bd3786"
            ],
            [
             0.5555555555555556,
             "#d8576b"
            ],
            [
             0.6666666666666666,
             "#ed7953"
            ],
            [
             0.7777777777777778,
             "#fb9f3a"
            ],
            [
             0.8888888888888888,
             "#fdca26"
            ],
            [
             1,
             "#f0f921"
            ]
           ]
          },
          "colorway": [
           "#636efa",
           "#EF553B",
           "#00cc96",
           "#ab63fa",
           "#FFA15A",
           "#19d3f3",
           "#FF6692",
           "#B6E880",
           "#FF97FF",
           "#FECB52"
          ],
          "font": {
           "color": "#2a3f5f"
          },
          "geo": {
           "bgcolor": "white",
           "lakecolor": "white",
           "landcolor": "#E5ECF6",
           "showlakes": true,
           "showland": true,
           "subunitcolor": "white"
          },
          "hoverlabel": {
           "align": "left"
          },
          "hovermode": "closest",
          "mapbox": {
           "style": "light"
          },
          "paper_bgcolor": "white",
          "plot_bgcolor": "#E5ECF6",
          "polar": {
           "angularaxis": {
            "gridcolor": "white",
            "linecolor": "white",
            "ticks": ""
           },
           "bgcolor": "#E5ECF6",
           "radialaxis": {
            "gridcolor": "white",
            "linecolor": "white",
            "ticks": ""
           }
          },
          "scene": {
           "xaxis": {
            "backgroundcolor": "#E5ECF6",
            "gridcolor": "white",
            "gridwidth": 2,
            "linecolor": "white",
            "showbackground": true,
            "ticks": "",
            "zerolinecolor": "white"
           },
           "yaxis": {
            "backgroundcolor": "#E5ECF6",
            "gridcolor": "white",
            "gridwidth": 2,
            "linecolor": "white",
            "showbackground": true,
            "ticks": "",
            "zerolinecolor": "white"
           },
           "zaxis": {
            "backgroundcolor": "#E5ECF6",
            "gridcolor": "white",
            "gridwidth": 2,
            "linecolor": "white",
            "showbackground": true,
            "ticks": "",
            "zerolinecolor": "white"
           }
          },
          "shapedefaults": {
           "line": {
            "color": "#2a3f5f"
           }
          },
          "ternary": {
           "aaxis": {
            "gridcolor": "white",
            "linecolor": "white",
            "ticks": ""
           },
           "baxis": {
            "gridcolor": "white",
            "linecolor": "white",
            "ticks": ""
           },
           "bgcolor": "#E5ECF6",
           "caxis": {
            "gridcolor": "white",
            "linecolor": "white",
            "ticks": ""
           }
          },
          "title": {
           "x": 0.05
          },
          "xaxis": {
           "automargin": true,
           "gridcolor": "white",
           "linecolor": "white",
           "ticks": "",
           "title": {
            "standoff": 15
           },
           "zerolinecolor": "white",
           "zerolinewidth": 2
          },
          "yaxis": {
           "automargin": true,
           "gridcolor": "white",
           "linecolor": "white",
           "ticks": "",
           "title": {
            "standoff": 15
           },
           "zerolinecolor": "white",
           "zerolinewidth": 2
          }
         }
        },
        "title": {
         "text": "Fill Level of Buffer (Buffer_env_3)"
        },
        "xaxis": {
         "anchor": "y",
         "domain": [
          0,
          1
         ],
         "title": {
          "text": "time"
         }
        },
        "yaxis": {
         "anchor": "x",
         "domain": [
          0,
          1
         ],
         "title": {
          "text": "fill level [-]"
         }
        }
       }
      }
     },
     "metadata": {},
     "output_type": "display_data"
    }
   ],
   "source": [
    "fig = buffer.draw_fill_level()"
   ]
  },
  {
   "cell_type": "code",
   "execution_count": 661,
   "metadata": {},
   "outputs": [
    {
     "data": {
      "text/plain": [
       "0.0547945205479452"
      ]
     },
     "execution_count": 661,
     "metadata": {},
     "output_type": "execute_result"
    }
   ],
   "source": [
    "buffer.wei_avg_fill_level"
   ]
  },
  {
   "cell_type": "code",
   "execution_count": 662,
   "metadata": {},
   "outputs": [
    {
     "data": {
      "text/html": [
       "<div>\n",
       "<style scoped>\n",
       "    .dataframe tbody tr th:only-of-type {\n",
       "        vertical-align: middle;\n",
       "    }\n",
       "\n",
       "    .dataframe tbody tr th {\n",
       "        vertical-align: top;\n",
       "    }\n",
       "\n",
       "    .dataframe thead th {\n",
       "        text-align: right;\n",
       "    }\n",
       "</style>\n",
       "<table border=\"1\" class=\"dataframe\">\n",
       "  <thead>\n",
       "    <tr style=\"text-align: right;\">\n",
       "      <th></th>\n",
       "      <th>abs [timesteps]</th>\n",
       "      <th>rel [%]</th>\n",
       "    </tr>\n",
       "  </thead>\n",
       "  <tbody>\n",
       "    <tr>\n",
       "      <th>WAITING</th>\n",
       "      <td>10.5</td>\n",
       "      <td>28.767123</td>\n",
       "    </tr>\n",
       "    <tr>\n",
       "      <th>PROCESSING</th>\n",
       "      <td>26.0</td>\n",
       "      <td>71.232877</td>\n",
       "    </tr>\n",
       "    <tr>\n",
       "      <th>PAUSED</th>\n",
       "      <td>0.0</td>\n",
       "      <td>0.000000</td>\n",
       "    </tr>\n",
       "    <tr>\n",
       "      <th>FAILED</th>\n",
       "      <td>0.0</td>\n",
       "      <td>0.000000</td>\n",
       "    </tr>\n",
       "    <tr>\n",
       "      <th>BLOCKED</th>\n",
       "      <td>0.0</td>\n",
       "      <td>0.000000</td>\n",
       "    </tr>\n",
       "  </tbody>\n",
       "</table>\n",
       "</div>"
      ],
      "text/plain": [
       "            abs [timesteps]    rel [%]\n",
       "WAITING                10.5  28.767123\n",
       "PROCESSING             26.0  71.232877\n",
       "PAUSED                  0.0   0.000000\n",
       "FAILED                  0.0   0.000000\n",
       "BLOCKED                 0.0   0.000000"
      ]
     },
     "execution_count": 662,
     "metadata": {},
     "output_type": "execute_result"
    }
   ],
   "source": [
    "MachInst.stat_monitor.state_durations"
   ]
  },
  {
   "cell_type": "code",
   "execution_count": 663,
   "metadata": {},
   "outputs": [
    {
     "data": {
      "text/html": [
       "<div>\n",
       "<style scoped>\n",
       "    .dataframe tbody tr th:only-of-type {\n",
       "        vertical-align: middle;\n",
       "    }\n",
       "\n",
       "    .dataframe tbody tr th {\n",
       "        vertical-align: top;\n",
       "    }\n",
       "\n",
       "    .dataframe thead th {\n",
       "        text-align: right;\n",
       "    }\n",
       "</style>\n",
       "<table border=\"1\" class=\"dataframe\">\n",
       "  <thead>\n",
       "    <tr style=\"text-align: right;\">\n",
       "      <th></th>\n",
       "      <th>custom_id</th>\n",
       "      <th>job</th>\n",
       "      <th>name</th>\n",
       "      <th>job_type</th>\n",
       "      <th>state</th>\n",
       "    </tr>\n",
       "    <tr>\n",
       "      <th>job_id</th>\n",
       "      <th></th>\n",
       "      <th></th>\n",
       "      <th></th>\n",
       "      <th></th>\n",
       "      <th></th>\n",
       "    </tr>\n",
       "  </thead>\n",
       "  <tbody>\n",
       "    <tr>\n",
       "      <th>0</th>\n",
       "      <td>None</td>\n",
       "      <td>Job (J_gen_0)</td>\n",
       "      <td>J_gen_0</td>\n",
       "      <td>Job</td>\n",
       "      <td>FINISH</td>\n",
       "    </tr>\n",
       "    <tr>\n",
       "      <th>1</th>\n",
       "      <td>None</td>\n",
       "      <td>Job (J_gen_1)</td>\n",
       "      <td>J_gen_1</td>\n",
       "      <td>Job</td>\n",
       "      <td>FINISH</td>\n",
       "    </tr>\n",
       "    <tr>\n",
       "      <th>2</th>\n",
       "      <td>None</td>\n",
       "      <td>Job (J_gen_2)</td>\n",
       "      <td>J_gen_2</td>\n",
       "      <td>Job</td>\n",
       "      <td>FINISH</td>\n",
       "    </tr>\n",
       "    <tr>\n",
       "      <th>3</th>\n",
       "      <td>None</td>\n",
       "      <td>Job (J_gen_3)</td>\n",
       "      <td>J_gen_3</td>\n",
       "      <td>Job</td>\n",
       "      <td>FINISH</td>\n",
       "    </tr>\n",
       "    <tr>\n",
       "      <th>4</th>\n",
       "      <td>None</td>\n",
       "      <td>Job (J_gen_4)</td>\n",
       "      <td>J_gen_4</td>\n",
       "      <td>Job</td>\n",
       "      <td>FINISH</td>\n",
       "    </tr>\n",
       "    <tr>\n",
       "      <th>5</th>\n",
       "      <td>None</td>\n",
       "      <td>Job (J_gen_5)</td>\n",
       "      <td>J_gen_5</td>\n",
       "      <td>Job</td>\n",
       "      <td>FINISH</td>\n",
       "    </tr>\n",
       "  </tbody>\n",
       "</table>\n",
       "</div>"
      ],
      "text/plain": [
       "       custom_id            job     name job_type   state\n",
       "job_id                                                   \n",
       "0           None  Job (J_gen_0)  J_gen_0      Job  FINISH\n",
       "1           None  Job (J_gen_1)  J_gen_1      Job  FINISH\n",
       "2           None  Job (J_gen_2)  J_gen_2      Job  FINISH\n",
       "3           None  Job (J_gen_3)  J_gen_3      Job  FINISH\n",
       "4           None  Job (J_gen_4)  J_gen_4      Job  FINISH\n",
       "5           None  Job (J_gen_5)  J_gen_5      Job  FINISH"
      ]
     },
     "execution_count": 663,
     "metadata": {},
     "output_type": "execute_result"
    }
   ],
   "source": [
    "dispatcher.job_db"
   ]
  },
  {
   "cell_type": "code",
   "execution_count": 665,
   "metadata": {},
   "outputs": [],
   "source": [
    "job = dispatcher.get_job_obj_by_prop(val=0)"
   ]
  },
  {
   "cell_type": "code",
   "execution_count": 619,
   "metadata": {},
   "outputs": [
    {
     "data": {
      "text/plain": [
       "{'WAITING': 3.5,\n",
       " 'INIT': 0.0,\n",
       " 'PROCESSING': 11.0,\n",
       " 'PAUSED': 0.0,\n",
       " 'FAILED': 0.0,\n",
       " 'BLOCKED': 0.0,\n",
       " 'FINISH': 0.0}"
      ]
     },
     "execution_count": 619,
     "metadata": {},
     "output_type": "execute_result"
    }
   ],
   "source": [
    "job.stat_monitor.state_times"
   ]
  },
  {
   "cell_type": "code",
   "execution_count": 642,
   "metadata": {},
   "outputs": [],
   "source": [
    "mon = job.stat_monitor"
   ]
  },
  {
   "cell_type": "code",
   "execution_count": 643,
   "metadata": {},
   "outputs": [
    {
     "data": {
      "application/vnd.plotly.v1+json": {
       "config": {
        "plotlyServerURL": "https://plot.ly"
       },
       "data": [
        {
         "alignmentgroup": "True",
         "hovertemplate": "variable=total time<br>state=%{x}<br>value=%{y}<extra></extra>",
         "legendgroup": "total time",
         "marker": {
          "color": "#636efa",
          "pattern": {
           "shape": ""
          }
         },
         "name": "total time",
         "offsetgroup": "total time",
         "orientation": "v",
         "showlegend": true,
         "textposition": "auto",
         "texttemplate": "%{y:.2f}",
         "type": "bar",
         "x": [
          "WAITING",
          "INIT",
          "PROCESSING",
          "PAUSED",
          "FAILED",
          "BLOCKED",
          "FINISH"
         ],
         "xaxis": "x",
         "y": [
          3.5,
          0,
          11,
          0,
          0,
          0,
          0
         ],
         "yaxis": "y"
        }
       ],
       "layout": {
        "barmode": "relative",
        "legend": {
         "title": {
          "text": "variable"
         },
         "tracegroupgap": 0
        },
        "margin": {
         "t": 60
        },
        "showlegend": false,
        "template": {
         "data": {
          "bar": [
           {
            "error_x": {
             "color": "#2a3f5f"
            },
            "error_y": {
             "color": "#2a3f5f"
            },
            "marker": {
             "line": {
              "color": "#E5ECF6",
              "width": 0.5
             },
             "pattern": {
              "fillmode": "overlay",
              "size": 10,
              "solidity": 0.2
             }
            },
            "type": "bar"
           }
          ],
          "barpolar": [
           {
            "marker": {
             "line": {
              "color": "#E5ECF6",
              "width": 0.5
             },
             "pattern": {
              "fillmode": "overlay",
              "size": 10,
              "solidity": 0.2
             }
            },
            "type": "barpolar"
           }
          ],
          "carpet": [
           {
            "aaxis": {
             "endlinecolor": "#2a3f5f",
             "gridcolor": "white",
             "linecolor": "white",
             "minorgridcolor": "white",
             "startlinecolor": "#2a3f5f"
            },
            "baxis": {
             "endlinecolor": "#2a3f5f",
             "gridcolor": "white",
             "linecolor": "white",
             "minorgridcolor": "white",
             "startlinecolor": "#2a3f5f"
            },
            "type": "carpet"
           }
          ],
          "choropleth": [
           {
            "colorbar": {
             "outlinewidth": 0,
             "ticks": ""
            },
            "type": "choropleth"
           }
          ],
          "contour": [
           {
            "colorbar": {
             "outlinewidth": 0,
             "ticks": ""
            },
            "colorscale": [
             [
              0,
              "#0d0887"
             ],
             [
              0.1111111111111111,
              "#46039f"
             ],
             [
              0.2222222222222222,
              "#7201a8"
             ],
             [
              0.3333333333333333,
              "#9c179e"
             ],
             [
              0.4444444444444444,
              "#bd3786"
             ],
             [
              0.5555555555555556,
              "#d8576b"
             ],
             [
              0.6666666666666666,
              "#ed7953"
             ],
             [
              0.7777777777777778,
              "#fb9f3a"
             ],
             [
              0.8888888888888888,
              "#fdca26"
             ],
             [
              1,
              "#f0f921"
             ]
            ],
            "type": "contour"
           }
          ],
          "contourcarpet": [
           {
            "colorbar": {
             "outlinewidth": 0,
             "ticks": ""
            },
            "type": "contourcarpet"
           }
          ],
          "heatmap": [
           {
            "colorbar": {
             "outlinewidth": 0,
             "ticks": ""
            },
            "colorscale": [
             [
              0,
              "#0d0887"
             ],
             [
              0.1111111111111111,
              "#46039f"
             ],
             [
              0.2222222222222222,
              "#7201a8"
             ],
             [
              0.3333333333333333,
              "#9c179e"
             ],
             [
              0.4444444444444444,
              "#bd3786"
             ],
             [
              0.5555555555555556,
              "#d8576b"
             ],
             [
              0.6666666666666666,
              "#ed7953"
             ],
             [
              0.7777777777777778,
              "#fb9f3a"
             ],
             [
              0.8888888888888888,
              "#fdca26"
             ],
             [
              1,
              "#f0f921"
             ]
            ],
            "type": "heatmap"
           }
          ],
          "heatmapgl": [
           {
            "colorbar": {
             "outlinewidth": 0,
             "ticks": ""
            },
            "colorscale": [
             [
              0,
              "#0d0887"
             ],
             [
              0.1111111111111111,
              "#46039f"
             ],
             [
              0.2222222222222222,
              "#7201a8"
             ],
             [
              0.3333333333333333,
              "#9c179e"
             ],
             [
              0.4444444444444444,
              "#bd3786"
             ],
             [
              0.5555555555555556,
              "#d8576b"
             ],
             [
              0.6666666666666666,
              "#ed7953"
             ],
             [
              0.7777777777777778,
              "#fb9f3a"
             ],
             [
              0.8888888888888888,
              "#fdca26"
             ],
             [
              1,
              "#f0f921"
             ]
            ],
            "type": "heatmapgl"
           }
          ],
          "histogram": [
           {
            "marker": {
             "pattern": {
              "fillmode": "overlay",
              "size": 10,
              "solidity": 0.2
             }
            },
            "type": "histogram"
           }
          ],
          "histogram2d": [
           {
            "colorbar": {
             "outlinewidth": 0,
             "ticks": ""
            },
            "colorscale": [
             [
              0,
              "#0d0887"
             ],
             [
              0.1111111111111111,
              "#46039f"
             ],
             [
              0.2222222222222222,
              "#7201a8"
             ],
             [
              0.3333333333333333,
              "#9c179e"
             ],
             [
              0.4444444444444444,
              "#bd3786"
             ],
             [
              0.5555555555555556,
              "#d8576b"
             ],
             [
              0.6666666666666666,
              "#ed7953"
             ],
             [
              0.7777777777777778,
              "#fb9f3a"
             ],
             [
              0.8888888888888888,
              "#fdca26"
             ],
             [
              1,
              "#f0f921"
             ]
            ],
            "type": "histogram2d"
           }
          ],
          "histogram2dcontour": [
           {
            "colorbar": {
             "outlinewidth": 0,
             "ticks": ""
            },
            "colorscale": [
             [
              0,
              "#0d0887"
             ],
             [
              0.1111111111111111,
              "#46039f"
             ],
             [
              0.2222222222222222,
              "#7201a8"
             ],
             [
              0.3333333333333333,
              "#9c179e"
             ],
             [
              0.4444444444444444,
              "#bd3786"
             ],
             [
              0.5555555555555556,
              "#d8576b"
             ],
             [
              0.6666666666666666,
              "#ed7953"
             ],
             [
              0.7777777777777778,
              "#fb9f3a"
             ],
             [
              0.8888888888888888,
              "#fdca26"
             ],
             [
              1,
              "#f0f921"
             ]
            ],
            "type": "histogram2dcontour"
           }
          ],
          "mesh3d": [
           {
            "colorbar": {
             "outlinewidth": 0,
             "ticks": ""
            },
            "type": "mesh3d"
           }
          ],
          "parcoords": [
           {
            "line": {
             "colorbar": {
              "outlinewidth": 0,
              "ticks": ""
             }
            },
            "type": "parcoords"
           }
          ],
          "pie": [
           {
            "automargin": true,
            "type": "pie"
           }
          ],
          "scatter": [
           {
            "fillpattern": {
             "fillmode": "overlay",
             "size": 10,
             "solidity": 0.2
            },
            "type": "scatter"
           }
          ],
          "scatter3d": [
           {
            "line": {
             "colorbar": {
              "outlinewidth": 0,
              "ticks": ""
             }
            },
            "marker": {
             "colorbar": {
              "outlinewidth": 0,
              "ticks": ""
             }
            },
            "type": "scatter3d"
           }
          ],
          "scattercarpet": [
           {
            "marker": {
             "colorbar": {
              "outlinewidth": 0,
              "ticks": ""
             }
            },
            "type": "scattercarpet"
           }
          ],
          "scattergeo": [
           {
            "marker": {
             "colorbar": {
              "outlinewidth": 0,
              "ticks": ""
             }
            },
            "type": "scattergeo"
           }
          ],
          "scattergl": [
           {
            "marker": {
             "colorbar": {
              "outlinewidth": 0,
              "ticks": ""
             }
            },
            "type": "scattergl"
           }
          ],
          "scattermapbox": [
           {
            "marker": {
             "colorbar": {
              "outlinewidth": 0,
              "ticks": ""
             }
            },
            "type": "scattermapbox"
           }
          ],
          "scatterpolar": [
           {
            "marker": {
             "colorbar": {
              "outlinewidth": 0,
              "ticks": ""
             }
            },
            "type": "scatterpolar"
           }
          ],
          "scatterpolargl": [
           {
            "marker": {
             "colorbar": {
              "outlinewidth": 0,
              "ticks": ""
             }
            },
            "type": "scatterpolargl"
           }
          ],
          "scatterternary": [
           {
            "marker": {
             "colorbar": {
              "outlinewidth": 0,
              "ticks": ""
             }
            },
            "type": "scatterternary"
           }
          ],
          "surface": [
           {
            "colorbar": {
             "outlinewidth": 0,
             "ticks": ""
            },
            "colorscale": [
             [
              0,
              "#0d0887"
             ],
             [
              0.1111111111111111,
              "#46039f"
             ],
             [
              0.2222222222222222,
              "#7201a8"
             ],
             [
              0.3333333333333333,
              "#9c179e"
             ],
             [
              0.4444444444444444,
              "#bd3786"
             ],
             [
              0.5555555555555556,
              "#d8576b"
             ],
             [
              0.6666666666666666,
              "#ed7953"
             ],
             [
              0.7777777777777778,
              "#fb9f3a"
             ],
             [
              0.8888888888888888,
              "#fdca26"
             ],
             [
              1,
              "#f0f921"
             ]
            ],
            "type": "surface"
           }
          ],
          "table": [
           {
            "cells": {
             "fill": {
              "color": "#EBF0F8"
             },
             "line": {
              "color": "white"
             }
            },
            "header": {
             "fill": {
              "color": "#C8D4E3"
             },
             "line": {
              "color": "white"
             }
            },
            "type": "table"
           }
          ]
         },
         "layout": {
          "annotationdefaults": {
           "arrowcolor": "#2a3f5f",
           "arrowhead": 0,
           "arrowwidth": 1
          },
          "autotypenumbers": "strict",
          "coloraxis": {
           "colorbar": {
            "outlinewidth": 0,
            "ticks": ""
           }
          },
          "colorscale": {
           "diverging": [
            [
             0,
             "#8e0152"
            ],
            [
             0.1,
             "#c51b7d"
            ],
            [
             0.2,
             "#de77ae"
            ],
            [
             0.3,
             "#f1b6da"
            ],
            [
             0.4,
             "#fde0ef"
            ],
            [
             0.5,
             "#f7f7f7"
            ],
            [
             0.6,
             "#e6f5d0"
            ],
            [
             0.7,
             "#b8e186"
            ],
            [
             0.8,
             "#7fbc41"
            ],
            [
             0.9,
             "#4d9221"
            ],
            [
             1,
             "#276419"
            ]
           ],
           "sequential": [
            [
             0,
             "#0d0887"
            ],
            [
             0.1111111111111111,
             "#46039f"
            ],
            [
             0.2222222222222222,
             "#7201a8"
            ],
            [
             0.3333333333333333,
             "#9c179e"
            ],
            [
             0.4444444444444444,
             "#bd3786"
            ],
            [
             0.5555555555555556,
             "#d8576b"
            ],
            [
             0.6666666666666666,
             "#ed7953"
            ],
            [
             0.7777777777777778,
             "#fb9f3a"
            ],
            [
             0.8888888888888888,
             "#fdca26"
            ],
            [
             1,
             "#f0f921"
            ]
           ],
           "sequentialminus": [
            [
             0,
             "#0d0887"
            ],
            [
             0.1111111111111111,
             "#46039f"
            ],
            [
             0.2222222222222222,
             "#7201a8"
            ],
            [
             0.3333333333333333,
             "#9c179e"
            ],
            [
             0.4444444444444444,
             "#bd3786"
            ],
            [
             0.5555555555555556,
             "#d8576b"
            ],
            [
             0.6666666666666666,
             "#ed7953"
            ],
            [
             0.7777777777777778,
             "#fb9f3a"
            ],
            [
             0.8888888888888888,
             "#fdca26"
            ],
            [
             1,
             "#f0f921"
            ]
           ]
          },
          "colorway": [
           "#636efa",
           "#EF553B",
           "#00cc96",
           "#ab63fa",
           "#FFA15A",
           "#19d3f3",
           "#FF6692",
           "#B6E880",
           "#FF97FF",
           "#FECB52"
          ],
          "font": {
           "color": "#2a3f5f"
          },
          "geo": {
           "bgcolor": "white",
           "lakecolor": "white",
           "landcolor": "#E5ECF6",
           "showlakes": true,
           "showland": true,
           "subunitcolor": "white"
          },
          "hoverlabel": {
           "align": "left"
          },
          "hovermode": "closest",
          "mapbox": {
           "style": "light"
          },
          "paper_bgcolor": "white",
          "plot_bgcolor": "#E5ECF6",
          "polar": {
           "angularaxis": {
            "gridcolor": "white",
            "linecolor": "white",
            "ticks": ""
           },
           "bgcolor": "#E5ECF6",
           "radialaxis": {
            "gridcolor": "white",
            "linecolor": "white",
            "ticks": ""
           }
          },
          "scene": {
           "xaxis": {
            "backgroundcolor": "#E5ECF6",
            "gridcolor": "white",
            "gridwidth": 2,
            "linecolor": "white",
            "showbackground": true,
            "ticks": "",
            "zerolinecolor": "white"
           },
           "yaxis": {
            "backgroundcolor": "#E5ECF6",
            "gridcolor": "white",
            "gridwidth": 2,
            "linecolor": "white",
            "showbackground": true,
            "ticks": "",
            "zerolinecolor": "white"
           },
           "zaxis": {
            "backgroundcolor": "#E5ECF6",
            "gridcolor": "white",
            "gridwidth": 2,
            "linecolor": "white",
            "showbackground": true,
            "ticks": "",
            "zerolinecolor": "white"
           }
          },
          "shapedefaults": {
           "line": {
            "color": "#2a3f5f"
           }
          },
          "ternary": {
           "aaxis": {
            "gridcolor": "white",
            "linecolor": "white",
            "ticks": ""
           },
           "baxis": {
            "gridcolor": "white",
            "linecolor": "white",
            "ticks": ""
           },
           "bgcolor": "#E5ECF6",
           "caxis": {
            "gridcolor": "white",
            "linecolor": "white",
            "ticks": ""
           }
          },
          "title": {
           "x": 0.05
          },
          "xaxis": {
           "automargin": true,
           "gridcolor": "white",
           "linecolor": "white",
           "ticks": "",
           "title": {
            "standoff": 15
           },
           "zerolinecolor": "white",
           "zerolinewidth": 2
          },
          "yaxis": {
           "automargin": true,
           "gridcolor": "white",
           "linecolor": "white",
           "ticks": "",
           "title": {
            "standoff": 15
           },
           "zerolinecolor": "white",
           "zerolinewidth": 2
          }
         }
        },
        "title": {
         "text": "State Time Distribution of Job (J_gen_2)"
        },
        "xaxis": {
         "anchor": "y",
         "domain": [
          0,
          1
         ],
         "title": {
          "text": "state"
         }
        },
        "yaxis": {
         "anchor": "x",
         "domain": [
          0,
          1
         ],
         "title": {
          "text": "total time"
         }
        }
       }
      }
     },
     "metadata": {},
     "output_type": "display_data"
    }
   ],
   "source": [
    "fig = mon.draw_state_bar_chart()"
   ]
  },
  {
   "cell_type": "code",
   "execution_count": 666,
   "metadata": {},
   "outputs": [],
   "source": [
    "op1 = job.operations[0]\n",
    "op2 = job.operations[1]"
   ]
  },
  {
   "cell_type": "code",
   "execution_count": 667,
   "metadata": {},
   "outputs": [
    {
     "data": {
      "text/plain": [
       "{'WAITING': 22.5,\n",
       " 'INIT': 4.0,\n",
       " 'PROCESSING': 8.0,\n",
       " 'PAUSED': 0.0,\n",
       " 'FAILED': 0.0,\n",
       " 'BLOCKED': 0.0,\n",
       " 'FINISH': 0.0}"
      ]
     },
     "execution_count": 667,
     "metadata": {},
     "output_type": "execute_result"
    }
   ],
   "source": [
    "op2.stat_monitor.state_times"
   ]
  },
  {
   "cell_type": "code",
   "execution_count": 668,
   "metadata": {},
   "outputs": [
    {
     "data": {
      "text/plain": [
       "{'WAITING': 0.0,\n",
       " 'INIT': 0.0,\n",
       " 'PROCESSING': 4.0,\n",
       " 'PAUSED': 0.0,\n",
       " 'FAILED': 0.0,\n",
       " 'BLOCKED': 0.0,\n",
       " 'FINISH': 0.0}"
      ]
     },
     "execution_count": 668,
     "metadata": {},
     "output_type": "execute_result"
    }
   ],
   "source": [
    "op1.stat_monitor.state_times"
   ]
  },
  {
   "cell_type": "code",
   "execution_count": 669,
   "metadata": {},
   "outputs": [
    {
     "data": {
      "text/plain": [
       "{'WAITING': 22.5,\n",
       " 'INIT': 0.0,\n",
       " 'PROCESSING': 12.0,\n",
       " 'PAUSED': 0.0,\n",
       " 'FAILED': 0.0,\n",
       " 'BLOCKED': 0.0,\n",
       " 'FINISH': 0.0}"
      ]
     },
     "execution_count": 669,
     "metadata": {},
     "output_type": "execute_result"
    }
   ],
   "source": [
    "job.stat_monitor.state_times"
   ]
  },
  {
   "cell_type": "code",
   "execution_count": 627,
   "metadata": {},
   "outputs": [
    {
     "data": {
      "text/plain": [
       "4"
      ]
     },
     "execution_count": 627,
     "metadata": {},
     "output_type": "execute_result"
    }
   ],
   "source": [
    "op2.proc_time"
   ]
  },
  {
   "cell_type": "code",
   "execution_count": 575,
   "metadata": {},
   "outputs": [],
   "source": [
    "mon = op2.stat_monitor"
   ]
  },
  {
   "cell_type": "code",
   "execution_count": null,
   "metadata": {},
   "outputs": [],
   "source": [
    "mon.draw"
   ]
  },
  {
   "cell_type": "code",
   "execution_count": 664,
   "metadata": {},
   "outputs": [
    {
     "data": {
      "text/html": [
       "<div>\n",
       "<style scoped>\n",
       "    .dataframe tbody tr th:only-of-type {\n",
       "        vertical-align: middle;\n",
       "    }\n",
       "\n",
       "    .dataframe tbody tr th {\n",
       "        vertical-align: top;\n",
       "    }\n",
       "\n",
       "    .dataframe thead th {\n",
       "        text-align: right;\n",
       "    }\n",
       "</style>\n",
       "<table border=\"1\" class=\"dataframe\">\n",
       "  <thead>\n",
       "    <tr style=\"text-align: right;\">\n",
       "      <th></th>\n",
       "      <th>job_id</th>\n",
       "      <th>job_name</th>\n",
       "      <th>custom_id</th>\n",
       "      <th>op</th>\n",
       "      <th>name</th>\n",
       "      <th>machine</th>\n",
       "      <th>machine_custom_id</th>\n",
       "      <th>machine_name</th>\n",
       "      <th>duration</th>\n",
       "      <th>start_time</th>\n",
       "      <th>end_time</th>\n",
       "      <th>state</th>\n",
       "    </tr>\n",
       "    <tr>\n",
       "      <th>op_id</th>\n",
       "      <th></th>\n",
       "      <th></th>\n",
       "      <th></th>\n",
       "      <th></th>\n",
       "      <th></th>\n",
       "      <th></th>\n",
       "      <th></th>\n",
       "      <th></th>\n",
       "      <th></th>\n",
       "      <th></th>\n",
       "      <th></th>\n",
       "      <th></th>\n",
       "    </tr>\n",
       "  </thead>\n",
       "  <tbody>\n",
       "    <tr>\n",
       "      <th>0</th>\n",
       "      <td>0</td>\n",
       "      <td>J_gen_0</td>\n",
       "      <td>None</td>\n",
       "      <td>Operation(ProcTime: 4, MachineID: 1)</td>\n",
       "      <td>O_gen_0</td>\n",
       "      <td>Machine (Machine_env_4)</td>\n",
       "      <td>1</td>\n",
       "      <td>Machine_env_4</td>\n",
       "      <td>4.0</td>\n",
       "      <td>0.0</td>\n",
       "      <td>4.0</td>\n",
       "      <td>FINISH</td>\n",
       "    </tr>\n",
       "    <tr>\n",
       "      <th>1</th>\n",
       "      <td>0</td>\n",
       "      <td>J_gen_0</td>\n",
       "      <td>None</td>\n",
       "      <td>Operation(ProcTime: 8, MachineID: 0)</td>\n",
       "      <td>O_gen_1</td>\n",
       "      <td>Machine (Machine_env_2)</td>\n",
       "      <td>0</td>\n",
       "      <td>Machine_env_2</td>\n",
       "      <td>8.0</td>\n",
       "      <td>26.5</td>\n",
       "      <td>34.5</td>\n",
       "      <td>FINISH</td>\n",
       "    </tr>\n",
       "    <tr>\n",
       "      <th>2</th>\n",
       "      <td>1</td>\n",
       "      <td>J_gen_1</td>\n",
       "      <td>None</td>\n",
       "      <td>Operation(ProcTime: 4, MachineID: 0)</td>\n",
       "      <td>O_gen_2</td>\n",
       "      <td>Machine (Machine_env_2)</td>\n",
       "      <td>0</td>\n",
       "      <td>Machine_env_2</td>\n",
       "      <td>4.0</td>\n",
       "      <td>0.5</td>\n",
       "      <td>4.5</td>\n",
       "      <td>FINISH</td>\n",
       "    </tr>\n",
       "    <tr>\n",
       "      <th>3</th>\n",
       "      <td>1</td>\n",
       "      <td>J_gen_1</td>\n",
       "      <td>None</td>\n",
       "      <td>Operation(ProcTime: 1, MachineID: 1)</td>\n",
       "      <td>O_gen_3</td>\n",
       "      <td>Machine (Machine_env_4)</td>\n",
       "      <td>1</td>\n",
       "      <td>Machine_env_4</td>\n",
       "      <td>1.0</td>\n",
       "      <td>4.5</td>\n",
       "      <td>5.5</td>\n",
       "      <td>FINISH</td>\n",
       "    </tr>\n",
       "    <tr>\n",
       "      <th>4</th>\n",
       "      <td>2</td>\n",
       "      <td>J_gen_2</td>\n",
       "      <td>None</td>\n",
       "      <td>Operation(ProcTime: 7, MachineID: 0)</td>\n",
       "      <td>O_gen_4</td>\n",
       "      <td>Machine (Machine_env_2)</td>\n",
       "      <td>0</td>\n",
       "      <td>Machine_env_2</td>\n",
       "      <td>7.0</td>\n",
       "      <td>4.5</td>\n",
       "      <td>11.5</td>\n",
       "      <td>FINISH</td>\n",
       "    </tr>\n",
       "    <tr>\n",
       "      <th>5</th>\n",
       "      <td>2</td>\n",
       "      <td>J_gen_2</td>\n",
       "      <td>None</td>\n",
       "      <td>Operation(ProcTime: 4, MachineID: 1)</td>\n",
       "      <td>O_gen_5</td>\n",
       "      <td>Machine (Machine_env_4)</td>\n",
       "      <td>1</td>\n",
       "      <td>Machine_env_4</td>\n",
       "      <td>4.0</td>\n",
       "      <td>11.5</td>\n",
       "      <td>15.5</td>\n",
       "      <td>FINISH</td>\n",
       "    </tr>\n",
       "    <tr>\n",
       "      <th>6</th>\n",
       "      <td>3</td>\n",
       "      <td>J_gen_3</td>\n",
       "      <td>None</td>\n",
       "      <td>Operation(ProcTime: 4, MachineID: 0)</td>\n",
       "      <td>O_gen_6</td>\n",
       "      <td>Machine (Machine_env_2)</td>\n",
       "      <td>0</td>\n",
       "      <td>Machine_env_2</td>\n",
       "      <td>4.0</td>\n",
       "      <td>11.5</td>\n",
       "      <td>15.5</td>\n",
       "      <td>FINISH</td>\n",
       "    </tr>\n",
       "    <tr>\n",
       "      <th>7</th>\n",
       "      <td>3</td>\n",
       "      <td>J_gen_3</td>\n",
       "      <td>None</td>\n",
       "      <td>Operation(ProcTime: 5, MachineID: 1)</td>\n",
       "      <td>O_gen_7</td>\n",
       "      <td>Machine (Machine_env_4)</td>\n",
       "      <td>1</td>\n",
       "      <td>Machine_env_4</td>\n",
       "      <td>5.0</td>\n",
       "      <td>15.5</td>\n",
       "      <td>20.5</td>\n",
       "      <td>FINISH</td>\n",
       "    </tr>\n",
       "    <tr>\n",
       "      <th>8</th>\n",
       "      <td>4</td>\n",
       "      <td>J_gen_4</td>\n",
       "      <td>None</td>\n",
       "      <td>Operation(ProcTime: 9, MachineID: 0)</td>\n",
       "      <td>O_gen_8</td>\n",
       "      <td>Machine (Machine_env_2)</td>\n",
       "      <td>0</td>\n",
       "      <td>Machine_env_2</td>\n",
       "      <td>9.0</td>\n",
       "      <td>15.5</td>\n",
       "      <td>24.5</td>\n",
       "      <td>FINISH</td>\n",
       "    </tr>\n",
       "    <tr>\n",
       "      <th>9</th>\n",
       "      <td>4</td>\n",
       "      <td>J_gen_4</td>\n",
       "      <td>None</td>\n",
       "      <td>Operation(ProcTime: 4, MachineID: 1)</td>\n",
       "      <td>O_gen_9</td>\n",
       "      <td>Machine (Machine_env_4)</td>\n",
       "      <td>1</td>\n",
       "      <td>Machine_env_4</td>\n",
       "      <td>4.0</td>\n",
       "      <td>24.5</td>\n",
       "      <td>28.5</td>\n",
       "      <td>FINISH</td>\n",
       "    </tr>\n",
       "    <tr>\n",
       "      <th>10</th>\n",
       "      <td>5</td>\n",
       "      <td>J_gen_5</td>\n",
       "      <td>None</td>\n",
       "      <td>Operation(ProcTime: 2, MachineID: 0)</td>\n",
       "      <td>O_gen_10</td>\n",
       "      <td>Machine (Machine_env_2)</td>\n",
       "      <td>0</td>\n",
       "      <td>Machine_env_2</td>\n",
       "      <td>2.0</td>\n",
       "      <td>24.5</td>\n",
       "      <td>26.5</td>\n",
       "      <td>FINISH</td>\n",
       "    </tr>\n",
       "    <tr>\n",
       "      <th>11</th>\n",
       "      <td>5</td>\n",
       "      <td>J_gen_5</td>\n",
       "      <td>None</td>\n",
       "      <td>Operation(ProcTime: 8, MachineID: 1)</td>\n",
       "      <td>O_gen_11</td>\n",
       "      <td>Machine (Machine_env_4)</td>\n",
       "      <td>1</td>\n",
       "      <td>Machine_env_4</td>\n",
       "      <td>8.0</td>\n",
       "      <td>28.5</td>\n",
       "      <td>36.5</td>\n",
       "      <td>FINISH</td>\n",
       "    </tr>\n",
       "  </tbody>\n",
       "</table>\n",
       "</div>"
      ],
      "text/plain": [
       "       job_id job_name custom_id                                    op   \n",
       "op_id                                                                    \n",
       "0           0  J_gen_0      None  Operation(ProcTime: 4, MachineID: 1)  \\\n",
       "1           0  J_gen_0      None  Operation(ProcTime: 8, MachineID: 0)   \n",
       "2           1  J_gen_1      None  Operation(ProcTime: 4, MachineID: 0)   \n",
       "3           1  J_gen_1      None  Operation(ProcTime: 1, MachineID: 1)   \n",
       "4           2  J_gen_2      None  Operation(ProcTime: 7, MachineID: 0)   \n",
       "5           2  J_gen_2      None  Operation(ProcTime: 4, MachineID: 1)   \n",
       "6           3  J_gen_3      None  Operation(ProcTime: 4, MachineID: 0)   \n",
       "7           3  J_gen_3      None  Operation(ProcTime: 5, MachineID: 1)   \n",
       "8           4  J_gen_4      None  Operation(ProcTime: 9, MachineID: 0)   \n",
       "9           4  J_gen_4      None  Operation(ProcTime: 4, MachineID: 1)   \n",
       "10          5  J_gen_5      None  Operation(ProcTime: 2, MachineID: 0)   \n",
       "11          5  J_gen_5      None  Operation(ProcTime: 8, MachineID: 1)   \n",
       "\n",
       "           name                  machine machine_custom_id   machine_name   \n",
       "op_id                                                                       \n",
       "0       O_gen_0  Machine (Machine_env_4)                 1  Machine_env_4  \\\n",
       "1       O_gen_1  Machine (Machine_env_2)                 0  Machine_env_2   \n",
       "2       O_gen_2  Machine (Machine_env_2)                 0  Machine_env_2   \n",
       "3       O_gen_3  Machine (Machine_env_4)                 1  Machine_env_4   \n",
       "4       O_gen_4  Machine (Machine_env_2)                 0  Machine_env_2   \n",
       "5       O_gen_5  Machine (Machine_env_4)                 1  Machine_env_4   \n",
       "6       O_gen_6  Machine (Machine_env_2)                 0  Machine_env_2   \n",
       "7       O_gen_7  Machine (Machine_env_4)                 1  Machine_env_4   \n",
       "8       O_gen_8  Machine (Machine_env_2)                 0  Machine_env_2   \n",
       "9       O_gen_9  Machine (Machine_env_4)                 1  Machine_env_4   \n",
       "10     O_gen_10  Machine (Machine_env_2)                 0  Machine_env_2   \n",
       "11     O_gen_11  Machine (Machine_env_4)                 1  Machine_env_4   \n",
       "\n",
       "       duration  start_time  end_time   state  \n",
       "op_id                                          \n",
       "0           4.0         0.0       4.0  FINISH  \n",
       "1           8.0        26.5      34.5  FINISH  \n",
       "2           4.0         0.5       4.5  FINISH  \n",
       "3           1.0         4.5       5.5  FINISH  \n",
       "4           7.0         4.5      11.5  FINISH  \n",
       "5           4.0        11.5      15.5  FINISH  \n",
       "6           4.0        11.5      15.5  FINISH  \n",
       "7           5.0        15.5      20.5  FINISH  \n",
       "8           9.0        15.5      24.5  FINISH  \n",
       "9           4.0        24.5      28.5  FINISH  \n",
       "10          2.0        24.5      26.5  FINISH  \n",
       "11          8.0        28.5      36.5  FINISH  "
      ]
     },
     "execution_count": 664,
     "metadata": {},
     "output_type": "execute_result"
    }
   ],
   "source": [
    "dispatcher.op_db"
   ]
  },
  {
   "cell_type": "code",
   "execution_count": null,
   "metadata": {},
   "outputs": [],
   "source": []
  },
  {
   "cell_type": "code",
   "execution_count": 536,
   "metadata": {},
   "outputs": [
    {
     "data": {
      "text/html": [
       "<div>\n",
       "<style scoped>\n",
       "    .dataframe tbody tr th:only-of-type {\n",
       "        vertical-align: middle;\n",
       "    }\n",
       "\n",
       "    .dataframe tbody tr th {\n",
       "        vertical-align: top;\n",
       "    }\n",
       "\n",
       "    .dataframe thead th {\n",
       "        text-align: right;\n",
       "    }\n",
       "</style>\n",
       "<table border=\"1\" class=\"dataframe\">\n",
       "  <thead>\n",
       "    <tr style=\"text-align: right;\">\n",
       "      <th></th>\n",
       "      <th>custom_id</th>\n",
       "      <th>job</th>\n",
       "      <th>name</th>\n",
       "      <th>job_type</th>\n",
       "      <th>state</th>\n",
       "    </tr>\n",
       "    <tr>\n",
       "      <th>job_id</th>\n",
       "      <th></th>\n",
       "      <th></th>\n",
       "      <th></th>\n",
       "      <th></th>\n",
       "      <th></th>\n",
       "    </tr>\n",
       "  </thead>\n",
       "  <tbody>\n",
       "    <tr>\n",
       "      <th>0</th>\n",
       "      <td>None</td>\n",
       "      <td>Job (J_gen_0)</td>\n",
       "      <td>J_gen_0</td>\n",
       "      <td>Job</td>\n",
       "      <td>FINISH</td>\n",
       "    </tr>\n",
       "    <tr>\n",
       "      <th>1</th>\n",
       "      <td>None</td>\n",
       "      <td>Job (J_gen_1)</td>\n",
       "      <td>J_gen_1</td>\n",
       "      <td>Job</td>\n",
       "      <td>FINISH</td>\n",
       "    </tr>\n",
       "    <tr>\n",
       "      <th>2</th>\n",
       "      <td>None</td>\n",
       "      <td>Job (J_gen_2)</td>\n",
       "      <td>J_gen_2</td>\n",
       "      <td>Job</td>\n",
       "      <td>FINISH</td>\n",
       "    </tr>\n",
       "    <tr>\n",
       "      <th>3</th>\n",
       "      <td>None</td>\n",
       "      <td>Job (J_gen_3)</td>\n",
       "      <td>J_gen_3</td>\n",
       "      <td>Job</td>\n",
       "      <td>FINISH</td>\n",
       "    </tr>\n",
       "    <tr>\n",
       "      <th>4</th>\n",
       "      <td>None</td>\n",
       "      <td>Job (J_gen_4)</td>\n",
       "      <td>J_gen_4</td>\n",
       "      <td>Job</td>\n",
       "      <td>FINISH</td>\n",
       "    </tr>\n",
       "    <tr>\n",
       "      <th>5</th>\n",
       "      <td>None</td>\n",
       "      <td>Job (J_gen_5)</td>\n",
       "      <td>J_gen_5</td>\n",
       "      <td>Job</td>\n",
       "      <td>FINISH</td>\n",
       "    </tr>\n",
       "  </tbody>\n",
       "</table>\n",
       "</div>"
      ],
      "text/plain": [
       "       custom_id            job     name job_type   state\n",
       "job_id                                                   \n",
       "0           None  Job (J_gen_0)  J_gen_0      Job  FINISH\n",
       "1           None  Job (J_gen_1)  J_gen_1      Job  FINISH\n",
       "2           None  Job (J_gen_2)  J_gen_2      Job  FINISH\n",
       "3           None  Job (J_gen_3)  J_gen_3      Job  FINISH\n",
       "4           None  Job (J_gen_4)  J_gen_4      Job  FINISH\n",
       "5           None  Job (J_gen_5)  J_gen_5      Job  FINISH"
      ]
     },
     "execution_count": 536,
     "metadata": {},
     "output_type": "execute_result"
    }
   ],
   "source": [
    "dispatcher.job_db"
   ]
  },
  {
   "cell_type": "code",
   "execution_count": 490,
   "metadata": {},
   "outputs": [],
   "source": [
    "mon = op1.stat_monitor"
   ]
  },
  {
   "cell_type": "code",
   "execution_count": null,
   "metadata": {},
   "outputs": [],
   "source": [
    "op = Operation()"
   ]
  },
  {
   "cell_type": "code",
   "execution_count": 493,
   "metadata": {},
   "outputs": [
    {
     "data": {
      "text/plain": [
       "4.0"
      ]
     },
     "execution_count": 493,
     "metadata": {},
     "output_type": "execute_result"
    }
   ],
   "source": [
    "mon.state_starting_time"
   ]
  },
  {
   "cell_type": "code",
   "execution_count": 439,
   "metadata": {},
   "outputs": [
    {
     "data": {
      "text/plain": [
       "{'WAITING': 22.5,\n",
       " 'INIT': 4.0,\n",
       " 'PROCESSING': 8.0,\n",
       " 'PAUSED': 0.0,\n",
       " 'FAILED': 0.0,\n",
       " 'BLOCKED': 0.0,\n",
       " 'FINISH': 0.0}"
      ]
     },
     "execution_count": 439,
     "metadata": {},
     "output_type": "execute_result"
    }
   ],
   "source": [
    "op2.state_times"
   ]
  },
  {
   "cell_type": "code",
   "execution_count": 68,
   "metadata": {},
   "outputs": [
    {
     "data": {
      "text/plain": [
       "{'WAITING': 22.5,\n",
       " 'INIT': 0.0,\n",
       " 'PROCESSING': 12.0,\n",
       " 'PAUSED': 0.0,\n",
       " 'FAILED': 0.0,\n",
       " 'BLOCKED': 0.0,\n",
       " 'FINISH': 0.0}"
      ]
     },
     "execution_count": 68,
     "metadata": {},
     "output_type": "execute_result"
    }
   ],
   "source": [
    "job.state_times"
   ]
  },
  {
   "cell_type": "code",
   "execution_count": 69,
   "metadata": {},
   "outputs": [],
   "source": [
    "job = dispatcher.job_db.loc[0,'job']"
   ]
  },
  {
   "cell_type": "code",
   "execution_count": 70,
   "metadata": {},
   "outputs": [
    {
     "data": {
      "text/plain": [
       "34.5"
      ]
     },
     "execution_count": 70,
     "metadata": {},
     "output_type": "execute_result"
    }
   ],
   "source": [
    "job.time_exit"
   ]
  },
  {
   "cell_type": "code",
   "execution_count": 71,
   "metadata": {},
   "outputs": [
    {
     "data": {
      "text/plain": [
       "34.5"
      ]
     },
     "execution_count": 71,
     "metadata": {},
     "output_type": "execute_result"
    }
   ],
   "source": [
    "job.lead_time"
   ]
  },
  {
   "cell_type": "code",
   "execution_count": 72,
   "metadata": {},
   "outputs": [
    {
     "data": {
      "text/plain": [
       "deque([])"
      ]
     },
     "execution_count": 72,
     "metadata": {},
     "output_type": "execute_result"
    }
   ],
   "source": [
    "job.open_operations"
   ]
  },
  {
   "cell_type": "code",
   "execution_count": 73,
   "metadata": {},
   "outputs": [
    {
     "data": {
      "text/plain": [
       "{'WAITING': 22.5,\n",
       " 'INIT': 0.0,\n",
       " 'PROCESSING': 12.0,\n",
       " 'PAUSED': 0.0,\n",
       " 'FAILED': 0.0,\n",
       " 'BLOCKED': 0.0,\n",
       " 'FINISH': 0.0}"
      ]
     },
     "execution_count": 73,
     "metadata": {},
     "output_type": "execute_result"
    }
   ],
   "source": [
    "job.state_times"
   ]
  },
  {
   "cell_type": "code",
   "execution_count": 74,
   "metadata": {},
   "outputs": [
    {
     "data": {
      "text/plain": [
       "deque([Operation(ProcTime: 4, MachineID: 1),\n",
       "       Operation(ProcTime: 8, MachineID: 0)])"
      ]
     },
     "execution_count": 74,
     "metadata": {},
     "output_type": "execute_result"
    }
   ],
   "source": [
    "job.operations"
   ]
  },
  {
   "cell_type": "code",
   "execution_count": 75,
   "metadata": {},
   "outputs": [
    {
     "data": {
      "text/plain": [
       "{'INTERMEDIATE': 2.0,\n",
       " 'FULL': 0.0,\n",
       " 'INIT': 0.0,\n",
       " 'PAUSED': 0.0,\n",
       " 'FAILED': 0.0,\n",
       " 'FINISH': 0.0,\n",
       " 'EMPTY': 34.5}"
      ]
     },
     "execution_count": 75,
     "metadata": {},
     "output_type": "execute_result"
    }
   ],
   "source": [
    "buffer.state_times"
   ]
  },
  {
   "cell_type": "code",
   "execution_count": 76,
   "metadata": {},
   "outputs": [
    {
     "data": {
      "text/html": [
       "<div>\n",
       "<style scoped>\n",
       "    .dataframe tbody tr th:only-of-type {\n",
       "        vertical-align: middle;\n",
       "    }\n",
       "\n",
       "    .dataframe tbody tr th {\n",
       "        vertical-align: top;\n",
       "    }\n",
       "\n",
       "    .dataframe thead th {\n",
       "        text-align: right;\n",
       "    }\n",
       "</style>\n",
       "<table border=\"1\" class=\"dataframe\">\n",
       "  <thead>\n",
       "    <tr style=\"text-align: right;\">\n",
       "      <th></th>\n",
       "      <th>abs [timesteps]</th>\n",
       "      <th>rel [%]</th>\n",
       "    </tr>\n",
       "  </thead>\n",
       "  <tbody>\n",
       "    <tr>\n",
       "      <th>INTERMEDIATE</th>\n",
       "      <td>2.0</td>\n",
       "      <td>5.479452</td>\n",
       "    </tr>\n",
       "    <tr>\n",
       "      <th>FULL</th>\n",
       "      <td>0.0</td>\n",
       "      <td>0.000000</td>\n",
       "    </tr>\n",
       "    <tr>\n",
       "      <th>PAUSED</th>\n",
       "      <td>0.0</td>\n",
       "      <td>0.000000</td>\n",
       "    </tr>\n",
       "    <tr>\n",
       "      <th>FAILED</th>\n",
       "      <td>0.0</td>\n",
       "      <td>0.000000</td>\n",
       "    </tr>\n",
       "    <tr>\n",
       "      <th>EMPTY</th>\n",
       "      <td>34.5</td>\n",
       "      <td>94.520548</td>\n",
       "    </tr>\n",
       "  </tbody>\n",
       "</table>\n",
       "</div>"
      ],
      "text/plain": [
       "              abs [timesteps]    rel [%]\n",
       "INTERMEDIATE              2.0   5.479452\n",
       "FULL                      0.0   0.000000\n",
       "PAUSED                    0.0   0.000000\n",
       "FAILED                    0.0   0.000000\n",
       "EMPTY                    34.5  94.520548"
      ]
     },
     "execution_count": 76,
     "metadata": {},
     "output_type": "execute_result"
    }
   ],
   "source": [
    "buffer.state_durations"
   ]
  },
  {
   "cell_type": "code",
   "execution_count": 77,
   "metadata": {},
   "outputs": [
    {
     "data": {
      "text/html": [
       "<div>\n",
       "<style scoped>\n",
       "    .dataframe tbody tr th:only-of-type {\n",
       "        vertical-align: middle;\n",
       "    }\n",
       "\n",
       "    .dataframe tbody tr th {\n",
       "        vertical-align: top;\n",
       "    }\n",
       "\n",
       "    .dataframe thead th {\n",
       "        text-align: right;\n",
       "    }\n",
       "</style>\n",
       "<table border=\"1\" class=\"dataframe\">\n",
       "  <thead>\n",
       "    <tr style=\"text-align: right;\">\n",
       "      <th></th>\n",
       "      <th>sim_time</th>\n",
       "      <th>duration</th>\n",
       "      <th>level</th>\n",
       "    </tr>\n",
       "  </thead>\n",
       "  <tbody>\n",
       "    <tr>\n",
       "      <th>0</th>\n",
       "      <td>4.5</td>\n",
       "      <td>4.5</td>\n",
       "      <td>0</td>\n",
       "    </tr>\n",
       "    <tr>\n",
       "      <th>1</th>\n",
       "      <td>11.5</td>\n",
       "      <td>7.0</td>\n",
       "      <td>0</td>\n",
       "    </tr>\n",
       "    <tr>\n",
       "      <th>2</th>\n",
       "      <td>15.5</td>\n",
       "      <td>4.0</td>\n",
       "      <td>0</td>\n",
       "    </tr>\n",
       "    <tr>\n",
       "      <th>3</th>\n",
       "      <td>24.5</td>\n",
       "      <td>9.0</td>\n",
       "      <td>0</td>\n",
       "    </tr>\n",
       "    <tr>\n",
       "      <th>4</th>\n",
       "      <td>26.5</td>\n",
       "      <td>2.0</td>\n",
       "      <td>0</td>\n",
       "    </tr>\n",
       "    <tr>\n",
       "      <th>5</th>\n",
       "      <td>28.5</td>\n",
       "      <td>2.0</td>\n",
       "      <td>1</td>\n",
       "    </tr>\n",
       "    <tr>\n",
       "      <th>6</th>\n",
       "      <td>36.5</td>\n",
       "      <td>8.0</td>\n",
       "      <td>0</td>\n",
       "    </tr>\n",
       "  </tbody>\n",
       "</table>\n",
       "</div>"
      ],
      "text/plain": [
       "   sim_time  duration  level\n",
       "0       4.5       4.5      0\n",
       "1      11.5       7.0      0\n",
       "2      15.5       4.0      0\n",
       "3      24.5       9.0      0\n",
       "4      26.5       2.0      0\n",
       "5      28.5       2.0      1\n",
       "6      36.5       8.0      0"
      ]
     },
     "execution_count": 77,
     "metadata": {},
     "output_type": "execute_result"
    }
   ],
   "source": [
    "buffer.level_db"
   ]
  },
  {
   "cell_type": "code",
   "execution_count": 78,
   "metadata": {},
   "outputs": [
    {
     "data": {
      "text/plain": [
       "0.0547945205479452"
      ]
     },
     "execution_count": 78,
     "metadata": {},
     "output_type": "execute_result"
    }
   ],
   "source": [
    "buffer.wei_avg_fill_level"
   ]
  },
  {
   "cell_type": "code",
   "execution_count": 79,
   "metadata": {},
   "outputs": [
    {
     "data": {
      "text/html": [
       "<div>\n",
       "<style scoped>\n",
       "    .dataframe tbody tr th:only-of-type {\n",
       "        vertical-align: middle;\n",
       "    }\n",
       "\n",
       "    .dataframe tbody tr th {\n",
       "        vertical-align: top;\n",
       "    }\n",
       "\n",
       "    .dataframe thead th {\n",
       "        text-align: right;\n",
       "    }\n",
       "</style>\n",
       "<table border=\"1\" class=\"dataframe\">\n",
       "  <thead>\n",
       "    <tr style=\"text-align: right;\">\n",
       "      <th></th>\n",
       "      <th>custom_id</th>\n",
       "      <th>resource</th>\n",
       "      <th>name</th>\n",
       "      <th>res_type</th>\n",
       "      <th>state</th>\n",
       "    </tr>\n",
       "    <tr>\n",
       "      <th>env_id</th>\n",
       "      <th></th>\n",
       "      <th></th>\n",
       "      <th></th>\n",
       "      <th></th>\n",
       "      <th></th>\n",
       "    </tr>\n",
       "  </thead>\n",
       "  <tbody>\n",
       "    <tr>\n",
       "      <th>1</th>\n",
       "      <td>10</td>\n",
       "      <td>()</td>\n",
       "      <td>Buffer_env_1</td>\n",
       "      <td>Buffer</td>\n",
       "      <td>FINISH</td>\n",
       "    </tr>\n",
       "    <tr>\n",
       "      <th>2</th>\n",
       "      <td>0</td>\n",
       "      <td>Machine (Machine_env_2)</td>\n",
       "      <td>Machine_env_2</td>\n",
       "      <td>Machine</td>\n",
       "      <td>FINISH</td>\n",
       "    </tr>\n",
       "    <tr>\n",
       "      <th>3</th>\n",
       "      <td>11</td>\n",
       "      <td>()</td>\n",
       "      <td>Buffer_env_3</td>\n",
       "      <td>Buffer</td>\n",
       "      <td>FINISH</td>\n",
       "    </tr>\n",
       "    <tr>\n",
       "      <th>4</th>\n",
       "      <td>1</td>\n",
       "      <td>Machine (Machine_env_4)</td>\n",
       "      <td>Machine_env_4</td>\n",
       "      <td>Machine</td>\n",
       "      <td>FINISH</td>\n",
       "    </tr>\n",
       "    <tr>\n",
       "      <th>5</th>\n",
       "      <td>source</td>\n",
       "      <td>Source (Source_env_5)</td>\n",
       "      <td>Source_env_5</td>\n",
       "      <td>Source</td>\n",
       "      <td>FINISH</td>\n",
       "    </tr>\n",
       "    <tr>\n",
       "      <th>6</th>\n",
       "      <td>sink</td>\n",
       "      <td>Sink (Sink_env_6)</td>\n",
       "      <td>Sink_env_6</td>\n",
       "      <td>Sink</td>\n",
       "      <td>FINISH</td>\n",
       "    </tr>\n",
       "  </tbody>\n",
       "</table>\n",
       "</div>"
      ],
      "text/plain": [
       "       custom_id                 resource           name res_type   state\n",
       "env_id                                                                   \n",
       "1             10                       ()   Buffer_env_1   Buffer  FINISH\n",
       "2              0  Machine (Machine_env_2)  Machine_env_2  Machine  FINISH\n",
       "3             11                       ()   Buffer_env_3   Buffer  FINISH\n",
       "4              1  Machine (Machine_env_4)  Machine_env_4  Machine  FINISH\n",
       "5         source    Source (Source_env_5)   Source_env_5   Source  FINISH\n",
       "6           sink        Sink (Sink_env_6)     Sink_env_6     Sink  FINISH"
      ]
     },
     "execution_count": 79,
     "metadata": {},
     "output_type": "execute_result"
    }
   ],
   "source": [
    "env.res_db"
   ]
  },
  {
   "cell_type": "code",
   "execution_count": 80,
   "metadata": {},
   "outputs": [],
   "source": [
    "buffer1 = env.get_res_obj_by_prop(val=1)"
   ]
  },
  {
   "cell_type": "code",
   "execution_count": 81,
   "metadata": {},
   "outputs": [
    {
     "data": {
      "text/html": [
       "<div>\n",
       "<style scoped>\n",
       "    .dataframe tbody tr th:only-of-type {\n",
       "        vertical-align: middle;\n",
       "    }\n",
       "\n",
       "    .dataframe tbody tr th {\n",
       "        vertical-align: top;\n",
       "    }\n",
       "\n",
       "    .dataframe thead th {\n",
       "        text-align: right;\n",
       "    }\n",
       "</style>\n",
       "<table border=\"1\" class=\"dataframe\">\n",
       "  <thead>\n",
       "    <tr style=\"text-align: right;\">\n",
       "      <th></th>\n",
       "      <th>sim_time</th>\n",
       "      <th>duration</th>\n",
       "      <th>level</th>\n",
       "    </tr>\n",
       "  </thead>\n",
       "  <tbody>\n",
       "    <tr>\n",
       "      <th>0</th>\n",
       "      <td>0.5</td>\n",
       "      <td>0.5</td>\n",
       "      <td>0</td>\n",
       "    </tr>\n",
       "    <tr>\n",
       "      <th>1</th>\n",
       "      <td>1.0</td>\n",
       "      <td>0.5</td>\n",
       "      <td>0</td>\n",
       "    </tr>\n",
       "    <tr>\n",
       "      <th>2</th>\n",
       "      <td>1.5</td>\n",
       "      <td>0.5</td>\n",
       "      <td>1</td>\n",
       "    </tr>\n",
       "    <tr>\n",
       "      <th>3</th>\n",
       "      <td>2.0</td>\n",
       "      <td>0.5</td>\n",
       "      <td>2</td>\n",
       "    </tr>\n",
       "    <tr>\n",
       "      <th>4</th>\n",
       "      <td>2.5</td>\n",
       "      <td>0.5</td>\n",
       "      <td>3</td>\n",
       "    </tr>\n",
       "    <tr>\n",
       "      <th>5</th>\n",
       "      <td>4.0</td>\n",
       "      <td>1.5</td>\n",
       "      <td>4</td>\n",
       "    </tr>\n",
       "    <tr>\n",
       "      <th>6</th>\n",
       "      <td>4.5</td>\n",
       "      <td>0.5</td>\n",
       "      <td>5</td>\n",
       "    </tr>\n",
       "    <tr>\n",
       "      <th>7</th>\n",
       "      <td>11.5</td>\n",
       "      <td>7.0</td>\n",
       "      <td>4</td>\n",
       "    </tr>\n",
       "    <tr>\n",
       "      <th>8</th>\n",
       "      <td>15.5</td>\n",
       "      <td>4.0</td>\n",
       "      <td>3</td>\n",
       "    </tr>\n",
       "    <tr>\n",
       "      <th>9</th>\n",
       "      <td>24.5</td>\n",
       "      <td>9.0</td>\n",
       "      <td>2</td>\n",
       "    </tr>\n",
       "    <tr>\n",
       "      <th>10</th>\n",
       "      <td>26.5</td>\n",
       "      <td>2.0</td>\n",
       "      <td>1</td>\n",
       "    </tr>\n",
       "    <tr>\n",
       "      <th>11</th>\n",
       "      <td>36.5</td>\n",
       "      <td>10.0</td>\n",
       "      <td>0</td>\n",
       "    </tr>\n",
       "  </tbody>\n",
       "</table>\n",
       "</div>"
      ],
      "text/plain": [
       "    sim_time  duration  level\n",
       "0        0.5       0.5      0\n",
       "1        1.0       0.5      0\n",
       "2        1.5       0.5      1\n",
       "3        2.0       0.5      2\n",
       "4        2.5       0.5      3\n",
       "5        4.0       1.5      4\n",
       "6        4.5       0.5      5\n",
       "7       11.5       7.0      4\n",
       "8       15.5       4.0      3\n",
       "9       24.5       9.0      2\n",
       "10      26.5       2.0      1\n",
       "11      36.5      10.0      0"
      ]
     },
     "execution_count": 81,
     "metadata": {},
     "output_type": "execute_result"
    }
   ],
   "source": [
    "buffer1.level_db"
   ]
  },
  {
   "cell_type": "code",
   "execution_count": 82,
   "metadata": {},
   "outputs": [
    {
     "data": {
      "text/html": [
       "<div>\n",
       "<style scoped>\n",
       "    .dataframe tbody tr th:only-of-type {\n",
       "        vertical-align: middle;\n",
       "    }\n",
       "\n",
       "    .dataframe tbody tr th {\n",
       "        vertical-align: top;\n",
       "    }\n",
       "\n",
       "    .dataframe thead th {\n",
       "        text-align: right;\n",
       "    }\n",
       "</style>\n",
       "<table border=\"1\" class=\"dataframe\">\n",
       "  <thead>\n",
       "    <tr style=\"text-align: right;\">\n",
       "      <th></th>\n",
       "      <th>sim_time</th>\n",
       "      <th>duration</th>\n",
       "      <th>level</th>\n",
       "    </tr>\n",
       "  </thead>\n",
       "  <tbody>\n",
       "    <tr>\n",
       "      <th>0</th>\n",
       "      <td>4.5</td>\n",
       "      <td>4.5</td>\n",
       "      <td>0</td>\n",
       "    </tr>\n",
       "    <tr>\n",
       "      <th>1</th>\n",
       "      <td>11.5</td>\n",
       "      <td>7.0</td>\n",
       "      <td>0</td>\n",
       "    </tr>\n",
       "    <tr>\n",
       "      <th>2</th>\n",
       "      <td>15.5</td>\n",
       "      <td>4.0</td>\n",
       "      <td>0</td>\n",
       "    </tr>\n",
       "    <tr>\n",
       "      <th>3</th>\n",
       "      <td>24.5</td>\n",
       "      <td>9.0</td>\n",
       "      <td>0</td>\n",
       "    </tr>\n",
       "    <tr>\n",
       "      <th>4</th>\n",
       "      <td>26.5</td>\n",
       "      <td>2.0</td>\n",
       "      <td>0</td>\n",
       "    </tr>\n",
       "    <tr>\n",
       "      <th>5</th>\n",
       "      <td>28.5</td>\n",
       "      <td>2.0</td>\n",
       "      <td>1</td>\n",
       "    </tr>\n",
       "    <tr>\n",
       "      <th>6</th>\n",
       "      <td>36.5</td>\n",
       "      <td>8.0</td>\n",
       "      <td>0</td>\n",
       "    </tr>\n",
       "  </tbody>\n",
       "</table>\n",
       "</div>"
      ],
      "text/plain": [
       "   sim_time  duration  level\n",
       "0       4.5       4.5      0\n",
       "1      11.5       7.0      0\n",
       "2      15.5       4.0      0\n",
       "3      24.5       9.0      0\n",
       "4      26.5       2.0      0\n",
       "5      28.5       2.0      1\n",
       "6      36.5       8.0      0"
      ]
     },
     "execution_count": 82,
     "metadata": {},
     "output_type": "execute_result"
    }
   ],
   "source": [
    "buffer.level_db"
   ]
  },
  {
   "cell_type": "code",
   "execution_count": 440,
   "metadata": {},
   "outputs": [
    {
     "data": {
      "application/vnd.plotly.v1+json": {
       "config": {
        "plotlyServerURL": "https://plot.ly"
       },
       "data": [
        {
         "hovertemplate": "x=%{x}<br>y=%{y}<extra></extra>",
         "legendgroup": "",
         "line": {
          "color": "#636efa",
          "dash": "solid",
          "shape": "vh",
          "width": 3
         },
         "marker": {
          "symbol": "circle"
         },
         "mode": "lines",
         "name": "",
         "orientation": "v",
         "showlegend": false,
         "type": "scatter",
         "x": [
          0,
          0.5,
          1,
          1.5,
          2,
          2.5,
          4,
          4.5,
          11.5,
          15.5,
          24.5,
          26.5,
          36.5
         ],
         "xaxis": "x",
         "y": [
          0,
          0,
          0,
          1,
          2,
          3,
          4,
          5,
          4,
          3,
          2,
          1,
          0
         ],
         "yaxis": "y"
        }
       ],
       "layout": {
        "legend": {
         "tracegroupgap": 0
        },
        "margin": {
         "t": 60
        },
        "shapes": [
         {
          "line": {
           "color": "orange",
           "dash": "dot",
           "width": 3
          },
          "type": "line",
          "x0": 0,
          "x1": 1,
          "xref": "x domain",
          "y0": 1.9589041095890412,
          "y1": 1.9589041095890412,
          "yref": "y"
         }
        ],
        "template": {
         "data": {
          "bar": [
           {
            "error_x": {
             "color": "#2a3f5f"
            },
            "error_y": {
             "color": "#2a3f5f"
            },
            "marker": {
             "line": {
              "color": "#E5ECF6",
              "width": 0.5
             },
             "pattern": {
              "fillmode": "overlay",
              "size": 10,
              "solidity": 0.2
             }
            },
            "type": "bar"
           }
          ],
          "barpolar": [
           {
            "marker": {
             "line": {
              "color": "#E5ECF6",
              "width": 0.5
             },
             "pattern": {
              "fillmode": "overlay",
              "size": 10,
              "solidity": 0.2
             }
            },
            "type": "barpolar"
           }
          ],
          "carpet": [
           {
            "aaxis": {
             "endlinecolor": "#2a3f5f",
             "gridcolor": "white",
             "linecolor": "white",
             "minorgridcolor": "white",
             "startlinecolor": "#2a3f5f"
            },
            "baxis": {
             "endlinecolor": "#2a3f5f",
             "gridcolor": "white",
             "linecolor": "white",
             "minorgridcolor": "white",
             "startlinecolor": "#2a3f5f"
            },
            "type": "carpet"
           }
          ],
          "choropleth": [
           {
            "colorbar": {
             "outlinewidth": 0,
             "ticks": ""
            },
            "type": "choropleth"
           }
          ],
          "contour": [
           {
            "colorbar": {
             "outlinewidth": 0,
             "ticks": ""
            },
            "colorscale": [
             [
              0,
              "#0d0887"
             ],
             [
              0.1111111111111111,
              "#46039f"
             ],
             [
              0.2222222222222222,
              "#7201a8"
             ],
             [
              0.3333333333333333,
              "#9c179e"
             ],
             [
              0.4444444444444444,
              "#bd3786"
             ],
             [
              0.5555555555555556,
              "#d8576b"
             ],
             [
              0.6666666666666666,
              "#ed7953"
             ],
             [
              0.7777777777777778,
              "#fb9f3a"
             ],
             [
              0.8888888888888888,
              "#fdca26"
             ],
             [
              1,
              "#f0f921"
             ]
            ],
            "type": "contour"
           }
          ],
          "contourcarpet": [
           {
            "colorbar": {
             "outlinewidth": 0,
             "ticks": ""
            },
            "type": "contourcarpet"
           }
          ],
          "heatmap": [
           {
            "colorbar": {
             "outlinewidth": 0,
             "ticks": ""
            },
            "colorscale": [
             [
              0,
              "#0d0887"
             ],
             [
              0.1111111111111111,
              "#46039f"
             ],
             [
              0.2222222222222222,
              "#7201a8"
             ],
             [
              0.3333333333333333,
              "#9c179e"
             ],
             [
              0.4444444444444444,
              "#bd3786"
             ],
             [
              0.5555555555555556,
              "#d8576b"
             ],
             [
              0.6666666666666666,
              "#ed7953"
             ],
             [
              0.7777777777777778,
              "#fb9f3a"
             ],
             [
              0.8888888888888888,
              "#fdca26"
             ],
             [
              1,
              "#f0f921"
             ]
            ],
            "type": "heatmap"
           }
          ],
          "heatmapgl": [
           {
            "colorbar": {
             "outlinewidth": 0,
             "ticks": ""
            },
            "colorscale": [
             [
              0,
              "#0d0887"
             ],
             [
              0.1111111111111111,
              "#46039f"
             ],
             [
              0.2222222222222222,
              "#7201a8"
             ],
             [
              0.3333333333333333,
              "#9c179e"
             ],
             [
              0.4444444444444444,
              "#bd3786"
             ],
             [
              0.5555555555555556,
              "#d8576b"
             ],
             [
              0.6666666666666666,
              "#ed7953"
             ],
             [
              0.7777777777777778,
              "#fb9f3a"
             ],
             [
              0.8888888888888888,
              "#fdca26"
             ],
             [
              1,
              "#f0f921"
             ]
            ],
            "type": "heatmapgl"
           }
          ],
          "histogram": [
           {
            "marker": {
             "pattern": {
              "fillmode": "overlay",
              "size": 10,
              "solidity": 0.2
             }
            },
            "type": "histogram"
           }
          ],
          "histogram2d": [
           {
            "colorbar": {
             "outlinewidth": 0,
             "ticks": ""
            },
            "colorscale": [
             [
              0,
              "#0d0887"
             ],
             [
              0.1111111111111111,
              "#46039f"
             ],
             [
              0.2222222222222222,
              "#7201a8"
             ],
             [
              0.3333333333333333,
              "#9c179e"
             ],
             [
              0.4444444444444444,
              "#bd3786"
             ],
             [
              0.5555555555555556,
              "#d8576b"
             ],
             [
              0.6666666666666666,
              "#ed7953"
             ],
             [
              0.7777777777777778,
              "#fb9f3a"
             ],
             [
              0.8888888888888888,
              "#fdca26"
             ],
             [
              1,
              "#f0f921"
             ]
            ],
            "type": "histogram2d"
           }
          ],
          "histogram2dcontour": [
           {
            "colorbar": {
             "outlinewidth": 0,
             "ticks": ""
            },
            "colorscale": [
             [
              0,
              "#0d0887"
             ],
             [
              0.1111111111111111,
              "#46039f"
             ],
             [
              0.2222222222222222,
              "#7201a8"
             ],
             [
              0.3333333333333333,
              "#9c179e"
             ],
             [
              0.4444444444444444,
              "#bd3786"
             ],
             [
              0.5555555555555556,
              "#d8576b"
             ],
             [
              0.6666666666666666,
              "#ed7953"
             ],
             [
              0.7777777777777778,
              "#fb9f3a"
             ],
             [
              0.8888888888888888,
              "#fdca26"
             ],
             [
              1,
              "#f0f921"
             ]
            ],
            "type": "histogram2dcontour"
           }
          ],
          "mesh3d": [
           {
            "colorbar": {
             "outlinewidth": 0,
             "ticks": ""
            },
            "type": "mesh3d"
           }
          ],
          "parcoords": [
           {
            "line": {
             "colorbar": {
              "outlinewidth": 0,
              "ticks": ""
             }
            },
            "type": "parcoords"
           }
          ],
          "pie": [
           {
            "automargin": true,
            "type": "pie"
           }
          ],
          "scatter": [
           {
            "fillpattern": {
             "fillmode": "overlay",
             "size": 10,
             "solidity": 0.2
            },
            "type": "scatter"
           }
          ],
          "scatter3d": [
           {
            "line": {
             "colorbar": {
              "outlinewidth": 0,
              "ticks": ""
             }
            },
            "marker": {
             "colorbar": {
              "outlinewidth": 0,
              "ticks": ""
             }
            },
            "type": "scatter3d"
           }
          ],
          "scattercarpet": [
           {
            "marker": {
             "colorbar": {
              "outlinewidth": 0,
              "ticks": ""
             }
            },
            "type": "scattercarpet"
           }
          ],
          "scattergeo": [
           {
            "marker": {
             "colorbar": {
              "outlinewidth": 0,
              "ticks": ""
             }
            },
            "type": "scattergeo"
           }
          ],
          "scattergl": [
           {
            "marker": {
             "colorbar": {
              "outlinewidth": 0,
              "ticks": ""
             }
            },
            "type": "scattergl"
           }
          ],
          "scattermapbox": [
           {
            "marker": {
             "colorbar": {
              "outlinewidth": 0,
              "ticks": ""
             }
            },
            "type": "scattermapbox"
           }
          ],
          "scatterpolar": [
           {
            "marker": {
             "colorbar": {
              "outlinewidth": 0,
              "ticks": ""
             }
            },
            "type": "scatterpolar"
           }
          ],
          "scatterpolargl": [
           {
            "marker": {
             "colorbar": {
              "outlinewidth": 0,
              "ticks": ""
             }
            },
            "type": "scatterpolargl"
           }
          ],
          "scatterternary": [
           {
            "marker": {
             "colorbar": {
              "outlinewidth": 0,
              "ticks": ""
             }
            },
            "type": "scatterternary"
           }
          ],
          "surface": [
           {
            "colorbar": {
             "outlinewidth": 0,
             "ticks": ""
            },
            "colorscale": [
             [
              0,
              "#0d0887"
             ],
             [
              0.1111111111111111,
              "#46039f"
             ],
             [
              0.2222222222222222,
              "#7201a8"
             ],
             [
              0.3333333333333333,
              "#9c179e"
             ],
             [
              0.4444444444444444,
              "#bd3786"
             ],
             [
              0.5555555555555556,
              "#d8576b"
             ],
             [
              0.6666666666666666,
              "#ed7953"
             ],
             [
              0.7777777777777778,
              "#fb9f3a"
             ],
             [
              0.8888888888888888,
              "#fdca26"
             ],
             [
              1,
              "#f0f921"
             ]
            ],
            "type": "surface"
           }
          ],
          "table": [
           {
            "cells": {
             "fill": {
              "color": "#EBF0F8"
             },
             "line": {
              "color": "white"
             }
            },
            "header": {
             "fill": {
              "color": "#C8D4E3"
             },
             "line": {
              "color": "white"
             }
            },
            "type": "table"
           }
          ]
         },
         "layout": {
          "annotationdefaults": {
           "arrowcolor": "#2a3f5f",
           "arrowhead": 0,
           "arrowwidth": 1
          },
          "autotypenumbers": "strict",
          "coloraxis": {
           "colorbar": {
            "outlinewidth": 0,
            "ticks": ""
           }
          },
          "colorscale": {
           "diverging": [
            [
             0,
             "#8e0152"
            ],
            [
             0.1,
             "#c51b7d"
            ],
            [
             0.2,
             "#de77ae"
            ],
            [
             0.3,
             "#f1b6da"
            ],
            [
             0.4,
             "#fde0ef"
            ],
            [
             0.5,
             "#f7f7f7"
            ],
            [
             0.6,
             "#e6f5d0"
            ],
            [
             0.7,
             "#b8e186"
            ],
            [
             0.8,
             "#7fbc41"
            ],
            [
             0.9,
             "#4d9221"
            ],
            [
             1,
             "#276419"
            ]
           ],
           "sequential": [
            [
             0,
             "#0d0887"
            ],
            [
             0.1111111111111111,
             "#46039f"
            ],
            [
             0.2222222222222222,
             "#7201a8"
            ],
            [
             0.3333333333333333,
             "#9c179e"
            ],
            [
             0.4444444444444444,
             "#bd3786"
            ],
            [
             0.5555555555555556,
             "#d8576b"
            ],
            [
             0.6666666666666666,
             "#ed7953"
            ],
            [
             0.7777777777777778,
             "#fb9f3a"
            ],
            [
             0.8888888888888888,
             "#fdca26"
            ],
            [
             1,
             "#f0f921"
            ]
           ],
           "sequentialminus": [
            [
             0,
             "#0d0887"
            ],
            [
             0.1111111111111111,
             "#46039f"
            ],
            [
             0.2222222222222222,
             "#7201a8"
            ],
            [
             0.3333333333333333,
             "#9c179e"
            ],
            [
             0.4444444444444444,
             "#bd3786"
            ],
            [
             0.5555555555555556,
             "#d8576b"
            ],
            [
             0.6666666666666666,
             "#ed7953"
            ],
            [
             0.7777777777777778,
             "#fb9f3a"
            ],
            [
             0.8888888888888888,
             "#fdca26"
            ],
            [
             1,
             "#f0f921"
            ]
           ]
          },
          "colorway": [
           "#636efa",
           "#EF553B",
           "#00cc96",
           "#ab63fa",
           "#FFA15A",
           "#19d3f3",
           "#FF6692",
           "#B6E880",
           "#FF97FF",
           "#FECB52"
          ],
          "font": {
           "color": "#2a3f5f"
          },
          "geo": {
           "bgcolor": "white",
           "lakecolor": "white",
           "landcolor": "#E5ECF6",
           "showlakes": true,
           "showland": true,
           "subunitcolor": "white"
          },
          "hoverlabel": {
           "align": "left"
          },
          "hovermode": "closest",
          "mapbox": {
           "style": "light"
          },
          "paper_bgcolor": "white",
          "plot_bgcolor": "#E5ECF6",
          "polar": {
           "angularaxis": {
            "gridcolor": "white",
            "linecolor": "white",
            "ticks": ""
           },
           "bgcolor": "#E5ECF6",
           "radialaxis": {
            "gridcolor": "white",
            "linecolor": "white",
            "ticks": ""
           }
          },
          "scene": {
           "xaxis": {
            "backgroundcolor": "#E5ECF6",
            "gridcolor": "white",
            "gridwidth": 2,
            "linecolor": "white",
            "showbackground": true,
            "ticks": "",
            "zerolinecolor": "white"
           },
           "yaxis": {
            "backgroundcolor": "#E5ECF6",
            "gridcolor": "white",
            "gridwidth": 2,
            "linecolor": "white",
            "showbackground": true,
            "ticks": "",
            "zerolinecolor": "white"
           },
           "zaxis": {
            "backgroundcolor": "#E5ECF6",
            "gridcolor": "white",
            "gridwidth": 2,
            "linecolor": "white",
            "showbackground": true,
            "ticks": "",
            "zerolinecolor": "white"
           }
          },
          "shapedefaults": {
           "line": {
            "color": "#2a3f5f"
           }
          },
          "ternary": {
           "aaxis": {
            "gridcolor": "white",
            "linecolor": "white",
            "ticks": ""
           },
           "baxis": {
            "gridcolor": "white",
            "linecolor": "white",
            "ticks": ""
           },
           "bgcolor": "#E5ECF6",
           "caxis": {
            "gridcolor": "white",
            "linecolor": "white",
            "ticks": ""
           }
          },
          "title": {
           "x": 0.05
          },
          "xaxis": {
           "automargin": true,
           "gridcolor": "white",
           "linecolor": "white",
           "ticks": "",
           "title": {
            "standoff": 15
           },
           "zerolinecolor": "white",
           "zerolinewidth": 2
          },
          "yaxis": {
           "automargin": true,
           "gridcolor": "white",
           "linecolor": "white",
           "ticks": "",
           "title": {
            "standoff": 15
           },
           "zerolinecolor": "white",
           "zerolinewidth": 2
          }
         }
        },
        "title": {
         "text": "Fill Level of Buffer (Buffer_env_1)"
        },
        "xaxis": {
         "anchor": "y",
         "domain": [
          0,
          1
         ],
         "title": {
          "text": "time"
         }
        },
        "yaxis": {
         "anchor": "x",
         "domain": [
          0,
          1
         ],
         "title": {
          "text": "fill level [-]"
         }
        }
       }
      }
     },
     "metadata": {},
     "output_type": "display_data"
    }
   ],
   "source": [
    "fig = buffer1.draw_fill_level()"
   ]
  },
  {
   "cell_type": "code",
   "execution_count": 84,
   "metadata": {},
   "outputs": [
    {
     "data": {
      "application/vnd.plotly.v1+json": {
       "config": {
        "plotlyServerURL": "https://plot.ly"
       },
       "data": [
        {
         "hovertemplate": "x=%{x}<br>y=%{y}<extra></extra>",
         "legendgroup": "",
         "line": {
          "color": "#636efa",
          "dash": "solid",
          "shape": "vh",
          "width": 3
         },
         "marker": {
          "symbol": "circle"
         },
         "mode": "lines",
         "name": "",
         "orientation": "v",
         "showlegend": false,
         "type": "scatter",
         "x": [
          0,
          4.5,
          11.5,
          15.5,
          24.5,
          26.5,
          28.5,
          36.5
         ],
         "xaxis": "x",
         "y": [
          0,
          0,
          0,
          0,
          0,
          0,
          1,
          0
         ],
         "yaxis": "y"
        }
       ],
       "layout": {
        "legend": {
         "tracegroupgap": 0
        },
        "margin": {
         "t": 60
        },
        "shapes": [
         {
          "line": {
           "color": "orange",
           "dash": "dot",
           "width": 3
          },
          "type": "line",
          "x0": 0,
          "x1": 1,
          "xref": "x domain",
          "y0": 0.0547945205479452,
          "y1": 0.0547945205479452,
          "yref": "y"
         }
        ],
        "template": {
         "data": {
          "bar": [
           {
            "error_x": {
             "color": "#2a3f5f"
            },
            "error_y": {
             "color": "#2a3f5f"
            },
            "marker": {
             "line": {
              "color": "#E5ECF6",
              "width": 0.5
             },
             "pattern": {
              "fillmode": "overlay",
              "size": 10,
              "solidity": 0.2
             }
            },
            "type": "bar"
           }
          ],
          "barpolar": [
           {
            "marker": {
             "line": {
              "color": "#E5ECF6",
              "width": 0.5
             },
             "pattern": {
              "fillmode": "overlay",
              "size": 10,
              "solidity": 0.2
             }
            },
            "type": "barpolar"
           }
          ],
          "carpet": [
           {
            "aaxis": {
             "endlinecolor": "#2a3f5f",
             "gridcolor": "white",
             "linecolor": "white",
             "minorgridcolor": "white",
             "startlinecolor": "#2a3f5f"
            },
            "baxis": {
             "endlinecolor": "#2a3f5f",
             "gridcolor": "white",
             "linecolor": "white",
             "minorgridcolor": "white",
             "startlinecolor": "#2a3f5f"
            },
            "type": "carpet"
           }
          ],
          "choropleth": [
           {
            "colorbar": {
             "outlinewidth": 0,
             "ticks": ""
            },
            "type": "choropleth"
           }
          ],
          "contour": [
           {
            "colorbar": {
             "outlinewidth": 0,
             "ticks": ""
            },
            "colorscale": [
             [
              0,
              "#0d0887"
             ],
             [
              0.1111111111111111,
              "#46039f"
             ],
             [
              0.2222222222222222,
              "#7201a8"
             ],
             [
              0.3333333333333333,
              "#9c179e"
             ],
             [
              0.4444444444444444,
              "#bd3786"
             ],
             [
              0.5555555555555556,
              "#d8576b"
             ],
             [
              0.6666666666666666,
              "#ed7953"
             ],
             [
              0.7777777777777778,
              "#fb9f3a"
             ],
             [
              0.8888888888888888,
              "#fdca26"
             ],
             [
              1,
              "#f0f921"
             ]
            ],
            "type": "contour"
           }
          ],
          "contourcarpet": [
           {
            "colorbar": {
             "outlinewidth": 0,
             "ticks": ""
            },
            "type": "contourcarpet"
           }
          ],
          "heatmap": [
           {
            "colorbar": {
             "outlinewidth": 0,
             "ticks": ""
            },
            "colorscale": [
             [
              0,
              "#0d0887"
             ],
             [
              0.1111111111111111,
              "#46039f"
             ],
             [
              0.2222222222222222,
              "#7201a8"
             ],
             [
              0.3333333333333333,
              "#9c179e"
             ],
             [
              0.4444444444444444,
              "#bd3786"
             ],
             [
              0.5555555555555556,
              "#d8576b"
             ],
             [
              0.6666666666666666,
              "#ed7953"
             ],
             [
              0.7777777777777778,
              "#fb9f3a"
             ],
             [
              0.8888888888888888,
              "#fdca26"
             ],
             [
              1,
              "#f0f921"
             ]
            ],
            "type": "heatmap"
           }
          ],
          "heatmapgl": [
           {
            "colorbar": {
             "outlinewidth": 0,
             "ticks": ""
            },
            "colorscale": [
             [
              0,
              "#0d0887"
             ],
             [
              0.1111111111111111,
              "#46039f"
             ],
             [
              0.2222222222222222,
              "#7201a8"
             ],
             [
              0.3333333333333333,
              "#9c179e"
             ],
             [
              0.4444444444444444,
              "#bd3786"
             ],
             [
              0.5555555555555556,
              "#d8576b"
             ],
             [
              0.6666666666666666,
              "#ed7953"
             ],
             [
              0.7777777777777778,
              "#fb9f3a"
             ],
             [
              0.8888888888888888,
              "#fdca26"
             ],
             [
              1,
              "#f0f921"
             ]
            ],
            "type": "heatmapgl"
           }
          ],
          "histogram": [
           {
            "marker": {
             "pattern": {
              "fillmode": "overlay",
              "size": 10,
              "solidity": 0.2
             }
            },
            "type": "histogram"
           }
          ],
          "histogram2d": [
           {
            "colorbar": {
             "outlinewidth": 0,
             "ticks": ""
            },
            "colorscale": [
             [
              0,
              "#0d0887"
             ],
             [
              0.1111111111111111,
              "#46039f"
             ],
             [
              0.2222222222222222,
              "#7201a8"
             ],
             [
              0.3333333333333333,
              "#9c179e"
             ],
             [
              0.4444444444444444,
              "#bd3786"
             ],
             [
              0.5555555555555556,
              "#d8576b"
             ],
             [
              0.6666666666666666,
              "#ed7953"
             ],
             [
              0.7777777777777778,
              "#fb9f3a"
             ],
             [
              0.8888888888888888,
              "#fdca26"
             ],
             [
              1,
              "#f0f921"
             ]
            ],
            "type": "histogram2d"
           }
          ],
          "histogram2dcontour": [
           {
            "colorbar": {
             "outlinewidth": 0,
             "ticks": ""
            },
            "colorscale": [
             [
              0,
              "#0d0887"
             ],
             [
              0.1111111111111111,
              "#46039f"
             ],
             [
              0.2222222222222222,
              "#7201a8"
             ],
             [
              0.3333333333333333,
              "#9c179e"
             ],
             [
              0.4444444444444444,
              "#bd3786"
             ],
             [
              0.5555555555555556,
              "#d8576b"
             ],
             [
              0.6666666666666666,
              "#ed7953"
             ],
             [
              0.7777777777777778,
              "#fb9f3a"
             ],
             [
              0.8888888888888888,
              "#fdca26"
             ],
             [
              1,
              "#f0f921"
             ]
            ],
            "type": "histogram2dcontour"
           }
          ],
          "mesh3d": [
           {
            "colorbar": {
             "outlinewidth": 0,
             "ticks": ""
            },
            "type": "mesh3d"
           }
          ],
          "parcoords": [
           {
            "line": {
             "colorbar": {
              "outlinewidth": 0,
              "ticks": ""
             }
            },
            "type": "parcoords"
           }
          ],
          "pie": [
           {
            "automargin": true,
            "type": "pie"
           }
          ],
          "scatter": [
           {
            "fillpattern": {
             "fillmode": "overlay",
             "size": 10,
             "solidity": 0.2
            },
            "type": "scatter"
           }
          ],
          "scatter3d": [
           {
            "line": {
             "colorbar": {
              "outlinewidth": 0,
              "ticks": ""
             }
            },
            "marker": {
             "colorbar": {
              "outlinewidth": 0,
              "ticks": ""
             }
            },
            "type": "scatter3d"
           }
          ],
          "scattercarpet": [
           {
            "marker": {
             "colorbar": {
              "outlinewidth": 0,
              "ticks": ""
             }
            },
            "type": "scattercarpet"
           }
          ],
          "scattergeo": [
           {
            "marker": {
             "colorbar": {
              "outlinewidth": 0,
              "ticks": ""
             }
            },
            "type": "scattergeo"
           }
          ],
          "scattergl": [
           {
            "marker": {
             "colorbar": {
              "outlinewidth": 0,
              "ticks": ""
             }
            },
            "type": "scattergl"
           }
          ],
          "scattermapbox": [
           {
            "marker": {
             "colorbar": {
              "outlinewidth": 0,
              "ticks": ""
             }
            },
            "type": "scattermapbox"
           }
          ],
          "scatterpolar": [
           {
            "marker": {
             "colorbar": {
              "outlinewidth": 0,
              "ticks": ""
             }
            },
            "type": "scatterpolar"
           }
          ],
          "scatterpolargl": [
           {
            "marker": {
             "colorbar": {
              "outlinewidth": 0,
              "ticks": ""
             }
            },
            "type": "scatterpolargl"
           }
          ],
          "scatterternary": [
           {
            "marker": {
             "colorbar": {
              "outlinewidth": 0,
              "ticks": ""
             }
            },
            "type": "scatterternary"
           }
          ],
          "surface": [
           {
            "colorbar": {
             "outlinewidth": 0,
             "ticks": ""
            },
            "colorscale": [
             [
              0,
              "#0d0887"
             ],
             [
              0.1111111111111111,
              "#46039f"
             ],
             [
              0.2222222222222222,
              "#7201a8"
             ],
             [
              0.3333333333333333,
              "#9c179e"
             ],
             [
              0.4444444444444444,
              "#bd3786"
             ],
             [
              0.5555555555555556,
              "#d8576b"
             ],
             [
              0.6666666666666666,
              "#ed7953"
             ],
             [
              0.7777777777777778,
              "#fb9f3a"
             ],
             [
              0.8888888888888888,
              "#fdca26"
             ],
             [
              1,
              "#f0f921"
             ]
            ],
            "type": "surface"
           }
          ],
          "table": [
           {
            "cells": {
             "fill": {
              "color": "#EBF0F8"
             },
             "line": {
              "color": "white"
             }
            },
            "header": {
             "fill": {
              "color": "#C8D4E3"
             },
             "line": {
              "color": "white"
             }
            },
            "type": "table"
           }
          ]
         },
         "layout": {
          "annotationdefaults": {
           "arrowcolor": "#2a3f5f",
           "arrowhead": 0,
           "arrowwidth": 1
          },
          "autotypenumbers": "strict",
          "coloraxis": {
           "colorbar": {
            "outlinewidth": 0,
            "ticks": ""
           }
          },
          "colorscale": {
           "diverging": [
            [
             0,
             "#8e0152"
            ],
            [
             0.1,
             "#c51b7d"
            ],
            [
             0.2,
             "#de77ae"
            ],
            [
             0.3,
             "#f1b6da"
            ],
            [
             0.4,
             "#fde0ef"
            ],
            [
             0.5,
             "#f7f7f7"
            ],
            [
             0.6,
             "#e6f5d0"
            ],
            [
             0.7,
             "#b8e186"
            ],
            [
             0.8,
             "#7fbc41"
            ],
            [
             0.9,
             "#4d9221"
            ],
            [
             1,
             "#276419"
            ]
           ],
           "sequential": [
            [
             0,
             "#0d0887"
            ],
            [
             0.1111111111111111,
             "#46039f"
            ],
            [
             0.2222222222222222,
             "#7201a8"
            ],
            [
             0.3333333333333333,
             "#9c179e"
            ],
            [
             0.4444444444444444,
             "#bd3786"
            ],
            [
             0.5555555555555556,
             "#d8576b"
            ],
            [
             0.6666666666666666,
             "#ed7953"
            ],
            [
             0.7777777777777778,
             "#fb9f3a"
            ],
            [
             0.8888888888888888,
             "#fdca26"
            ],
            [
             1,
             "#f0f921"
            ]
           ],
           "sequentialminus": [
            [
             0,
             "#0d0887"
            ],
            [
             0.1111111111111111,
             "#46039f"
            ],
            [
             0.2222222222222222,
             "#7201a8"
            ],
            [
             0.3333333333333333,
             "#9c179e"
            ],
            [
             0.4444444444444444,
             "#bd3786"
            ],
            [
             0.5555555555555556,
             "#d8576b"
            ],
            [
             0.6666666666666666,
             "#ed7953"
            ],
            [
             0.7777777777777778,
             "#fb9f3a"
            ],
            [
             0.8888888888888888,
             "#fdca26"
            ],
            [
             1,
             "#f0f921"
            ]
           ]
          },
          "colorway": [
           "#636efa",
           "#EF553B",
           "#00cc96",
           "#ab63fa",
           "#FFA15A",
           "#19d3f3",
           "#FF6692",
           "#B6E880",
           "#FF97FF",
           "#FECB52"
          ],
          "font": {
           "color": "#2a3f5f"
          },
          "geo": {
           "bgcolor": "white",
           "lakecolor": "white",
           "landcolor": "#E5ECF6",
           "showlakes": true,
           "showland": true,
           "subunitcolor": "white"
          },
          "hoverlabel": {
           "align": "left"
          },
          "hovermode": "closest",
          "mapbox": {
           "style": "light"
          },
          "paper_bgcolor": "white",
          "plot_bgcolor": "#E5ECF6",
          "polar": {
           "angularaxis": {
            "gridcolor": "white",
            "linecolor": "white",
            "ticks": ""
           },
           "bgcolor": "#E5ECF6",
           "radialaxis": {
            "gridcolor": "white",
            "linecolor": "white",
            "ticks": ""
           }
          },
          "scene": {
           "xaxis": {
            "backgroundcolor": "#E5ECF6",
            "gridcolor": "white",
            "gridwidth": 2,
            "linecolor": "white",
            "showbackground": true,
            "ticks": "",
            "zerolinecolor": "white"
           },
           "yaxis": {
            "backgroundcolor": "#E5ECF6",
            "gridcolor": "white",
            "gridwidth": 2,
            "linecolor": "white",
            "showbackground": true,
            "ticks": "",
            "zerolinecolor": "white"
           },
           "zaxis": {
            "backgroundcolor": "#E5ECF6",
            "gridcolor": "white",
            "gridwidth": 2,
            "linecolor": "white",
            "showbackground": true,
            "ticks": "",
            "zerolinecolor": "white"
           }
          },
          "shapedefaults": {
           "line": {
            "color": "#2a3f5f"
           }
          },
          "ternary": {
           "aaxis": {
            "gridcolor": "white",
            "linecolor": "white",
            "ticks": ""
           },
           "baxis": {
            "gridcolor": "white",
            "linecolor": "white",
            "ticks": ""
           },
           "bgcolor": "#E5ECF6",
           "caxis": {
            "gridcolor": "white",
            "linecolor": "white",
            "ticks": ""
           }
          },
          "title": {
           "x": 0.05
          },
          "xaxis": {
           "automargin": true,
           "gridcolor": "white",
           "linecolor": "white",
           "ticks": "",
           "title": {
            "standoff": 15
           },
           "zerolinecolor": "white",
           "zerolinewidth": 2
          },
          "yaxis": {
           "automargin": true,
           "gridcolor": "white",
           "linecolor": "white",
           "ticks": "",
           "title": {
            "standoff": 15
           },
           "zerolinecolor": "white",
           "zerolinewidth": 2
          }
         }
        },
        "title": {
         "text": "Fill Level of Buffer (Buffer_env_3)"
        },
        "xaxis": {
         "anchor": "y",
         "domain": [
          0,
          1
         ],
         "title": {
          "text": "time"
         }
        },
        "yaxis": {
         "anchor": "x",
         "domain": [
          0,
          1
         ],
         "title": {
          "text": "fill level [-]"
         }
        }
       }
      }
     },
     "metadata": {},
     "output_type": "display_data"
    }
   ],
   "source": [
    "fig = buffer.draw_fill_level()"
   ]
  },
  {
   "cell_type": "code",
   "execution_count": 814,
   "metadata": {},
   "outputs": [
    {
     "data": {
      "text/plain": [
       "6"
      ]
     },
     "execution_count": 814,
     "metadata": {},
     "output_type": "execute_result"
    }
   ],
   "source": [
    "MachInst.num_inputs"
   ]
  },
  {
   "cell_type": "code",
   "execution_count": 85,
   "metadata": {},
   "outputs": [],
   "source": [
    "dic = buffer.state_times"
   ]
  },
  {
   "cell_type": "code",
   "execution_count": 88,
   "metadata": {},
   "outputs": [
    {
     "data": {
      "text/plain": [
       "{'INTERMEDIATE': 2.0,\n",
       " 'FULL': 0.0,\n",
       " 'INIT': 0.0,\n",
       " 'PAUSED': 0.0,\n",
       " 'FAILED': 0.0,\n",
       " 'FINISH': 0.0,\n",
       " 'EMPTY': 34.5}"
      ]
     },
     "execution_count": 88,
     "metadata": {},
     "output_type": "execute_result"
    }
   ],
   "source": [
    "dic"
   ]
  },
  {
   "cell_type": "code",
   "execution_count": 106,
   "metadata": {},
   "outputs": [
    {
     "data": {
      "text/html": [
       "<div>\n",
       "<style scoped>\n",
       "    .dataframe tbody tr th:only-of-type {\n",
       "        vertical-align: middle;\n",
       "    }\n",
       "\n",
       "    .dataframe tbody tr th {\n",
       "        vertical-align: top;\n",
       "    }\n",
       "\n",
       "    .dataframe thead th {\n",
       "        text-align: right;\n",
       "    }\n",
       "</style>\n",
       "<table border=\"1\" class=\"dataframe\">\n",
       "  <thead>\n",
       "    <tr style=\"text-align: right;\">\n",
       "      <th></th>\n",
       "      <th>total time</th>\n",
       "    </tr>\n",
       "    <tr>\n",
       "      <th>state</th>\n",
       "      <th></th>\n",
       "    </tr>\n",
       "  </thead>\n",
       "  <tbody>\n",
       "    <tr>\n",
       "      <th>INTERMEDIATE</th>\n",
       "      <td>2.0</td>\n",
       "    </tr>\n",
       "    <tr>\n",
       "      <th>FULL</th>\n",
       "      <td>0.0</td>\n",
       "    </tr>\n",
       "    <tr>\n",
       "      <th>INIT</th>\n",
       "      <td>0.0</td>\n",
       "    </tr>\n",
       "    <tr>\n",
       "      <th>PAUSED</th>\n",
       "      <td>0.0</td>\n",
       "    </tr>\n",
       "    <tr>\n",
       "      <th>FAILED</th>\n",
       "      <td>0.0</td>\n",
       "    </tr>\n",
       "    <tr>\n",
       "      <th>FINISH</th>\n",
       "      <td>0.0</td>\n",
       "    </tr>\n",
       "    <tr>\n",
       "      <th>EMPTY</th>\n",
       "      <td>34.5</td>\n",
       "    </tr>\n",
       "  </tbody>\n",
       "</table>\n",
       "</div>"
      ],
      "text/plain": [
       "              total time\n",
       "state                   \n",
       "INTERMEDIATE         2.0\n",
       "FULL                 0.0\n",
       "INIT                 0.0\n",
       "PAUSED               0.0\n",
       "FAILED               0.0\n",
       "FINISH               0.0\n",
       "EMPTY               34.5"
      ]
     },
     "execution_count": 106,
     "metadata": {},
     "output_type": "execute_result"
    }
   ],
   "source": [
    "data = pd.DataFrame.from_dict(data=dic, orient='index', columns=['total time'])\n",
    "data.index = data.index.rename('state')\n",
    "data"
   ]
  },
  {
   "cell_type": "code",
   "execution_count": 109,
   "metadata": {},
   "outputs": [
    {
     "data": {
      "application/vnd.plotly.v1+json": {
       "config": {
        "plotlyServerURL": "https://plot.ly"
       },
       "data": [
        {
         "alignmentgroup": "True",
         "hovertemplate": "variable=total time<br>state=%{x}<br>value=%{y}<extra></extra>",
         "legendgroup": "total time",
         "marker": {
          "color": "#636efa",
          "pattern": {
           "shape": ""
          }
         },
         "name": "total time",
         "offsetgroup": "total time",
         "orientation": "v",
         "showlegend": true,
         "textposition": "auto",
         "type": "bar",
         "x": [
          "INTERMEDIATE",
          "FULL",
          "INIT",
          "PAUSED",
          "FAILED",
          "FINISH",
          "EMPTY"
         ],
         "xaxis": "x",
         "y": [
          2,
          0,
          0,
          0,
          0,
          0,
          34.5
         ],
         "yaxis": "y"
        }
       ],
       "layout": {
        "barmode": "relative",
        "legend": {
         "title": {
          "text": "variable"
         },
         "tracegroupgap": 0
        },
        "margin": {
         "t": 60
        },
        "showlegend": false,
        "template": {
         "data": {
          "bar": [
           {
            "error_x": {
             "color": "#2a3f5f"
            },
            "error_y": {
             "color": "#2a3f5f"
            },
            "marker": {
             "line": {
              "color": "#E5ECF6",
              "width": 0.5
             },
             "pattern": {
              "fillmode": "overlay",
              "size": 10,
              "solidity": 0.2
             }
            },
            "type": "bar"
           }
          ],
          "barpolar": [
           {
            "marker": {
             "line": {
              "color": "#E5ECF6",
              "width": 0.5
             },
             "pattern": {
              "fillmode": "overlay",
              "size": 10,
              "solidity": 0.2
             }
            },
            "type": "barpolar"
           }
          ],
          "carpet": [
           {
            "aaxis": {
             "endlinecolor": "#2a3f5f",
             "gridcolor": "white",
             "linecolor": "white",
             "minorgridcolor": "white",
             "startlinecolor": "#2a3f5f"
            },
            "baxis": {
             "endlinecolor": "#2a3f5f",
             "gridcolor": "white",
             "linecolor": "white",
             "minorgridcolor": "white",
             "startlinecolor": "#2a3f5f"
            },
            "type": "carpet"
           }
          ],
          "choropleth": [
           {
            "colorbar": {
             "outlinewidth": 0,
             "ticks": ""
            },
            "type": "choropleth"
           }
          ],
          "contour": [
           {
            "colorbar": {
             "outlinewidth": 0,
             "ticks": ""
            },
            "colorscale": [
             [
              0,
              "#0d0887"
             ],
             [
              0.1111111111111111,
              "#46039f"
             ],
             [
              0.2222222222222222,
              "#7201a8"
             ],
             [
              0.3333333333333333,
              "#9c179e"
             ],
             [
              0.4444444444444444,
              "#bd3786"
             ],
             [
              0.5555555555555556,
              "#d8576b"
             ],
             [
              0.6666666666666666,
              "#ed7953"
             ],
             [
              0.7777777777777778,
              "#fb9f3a"
             ],
             [
              0.8888888888888888,
              "#fdca26"
             ],
             [
              1,
              "#f0f921"
             ]
            ],
            "type": "contour"
           }
          ],
          "contourcarpet": [
           {
            "colorbar": {
             "outlinewidth": 0,
             "ticks": ""
            },
            "type": "contourcarpet"
           }
          ],
          "heatmap": [
           {
            "colorbar": {
             "outlinewidth": 0,
             "ticks": ""
            },
            "colorscale": [
             [
              0,
              "#0d0887"
             ],
             [
              0.1111111111111111,
              "#46039f"
             ],
             [
              0.2222222222222222,
              "#7201a8"
             ],
             [
              0.3333333333333333,
              "#9c179e"
             ],
             [
              0.4444444444444444,
              "#bd3786"
             ],
             [
              0.5555555555555556,
              "#d8576b"
             ],
             [
              0.6666666666666666,
              "#ed7953"
             ],
             [
              0.7777777777777778,
              "#fb9f3a"
             ],
             [
              0.8888888888888888,
              "#fdca26"
             ],
             [
              1,
              "#f0f921"
             ]
            ],
            "type": "heatmap"
           }
          ],
          "heatmapgl": [
           {
            "colorbar": {
             "outlinewidth": 0,
             "ticks": ""
            },
            "colorscale": [
             [
              0,
              "#0d0887"
             ],
             [
              0.1111111111111111,
              "#46039f"
             ],
             [
              0.2222222222222222,
              "#7201a8"
             ],
             [
              0.3333333333333333,
              "#9c179e"
             ],
             [
              0.4444444444444444,
              "#bd3786"
             ],
             [
              0.5555555555555556,
              "#d8576b"
             ],
             [
              0.6666666666666666,
              "#ed7953"
             ],
             [
              0.7777777777777778,
              "#fb9f3a"
             ],
             [
              0.8888888888888888,
              "#fdca26"
             ],
             [
              1,
              "#f0f921"
             ]
            ],
            "type": "heatmapgl"
           }
          ],
          "histogram": [
           {
            "marker": {
             "pattern": {
              "fillmode": "overlay",
              "size": 10,
              "solidity": 0.2
             }
            },
            "type": "histogram"
           }
          ],
          "histogram2d": [
           {
            "colorbar": {
             "outlinewidth": 0,
             "ticks": ""
            },
            "colorscale": [
             [
              0,
              "#0d0887"
             ],
             [
              0.1111111111111111,
              "#46039f"
             ],
             [
              0.2222222222222222,
              "#7201a8"
             ],
             [
              0.3333333333333333,
              "#9c179e"
             ],
             [
              0.4444444444444444,
              "#bd3786"
             ],
             [
              0.5555555555555556,
              "#d8576b"
             ],
             [
              0.6666666666666666,
              "#ed7953"
             ],
             [
              0.7777777777777778,
              "#fb9f3a"
             ],
             [
              0.8888888888888888,
              "#fdca26"
             ],
             [
              1,
              "#f0f921"
             ]
            ],
            "type": "histogram2d"
           }
          ],
          "histogram2dcontour": [
           {
            "colorbar": {
             "outlinewidth": 0,
             "ticks": ""
            },
            "colorscale": [
             [
              0,
              "#0d0887"
             ],
             [
              0.1111111111111111,
              "#46039f"
             ],
             [
              0.2222222222222222,
              "#7201a8"
             ],
             [
              0.3333333333333333,
              "#9c179e"
             ],
             [
              0.4444444444444444,
              "#bd3786"
             ],
             [
              0.5555555555555556,
              "#d8576b"
             ],
             [
              0.6666666666666666,
              "#ed7953"
             ],
             [
              0.7777777777777778,
              "#fb9f3a"
             ],
             [
              0.8888888888888888,
              "#fdca26"
             ],
             [
              1,
              "#f0f921"
             ]
            ],
            "type": "histogram2dcontour"
           }
          ],
          "mesh3d": [
           {
            "colorbar": {
             "outlinewidth": 0,
             "ticks": ""
            },
            "type": "mesh3d"
           }
          ],
          "parcoords": [
           {
            "line": {
             "colorbar": {
              "outlinewidth": 0,
              "ticks": ""
             }
            },
            "type": "parcoords"
           }
          ],
          "pie": [
           {
            "automargin": true,
            "type": "pie"
           }
          ],
          "scatter": [
           {
            "fillpattern": {
             "fillmode": "overlay",
             "size": 10,
             "solidity": 0.2
            },
            "type": "scatter"
           }
          ],
          "scatter3d": [
           {
            "line": {
             "colorbar": {
              "outlinewidth": 0,
              "ticks": ""
             }
            },
            "marker": {
             "colorbar": {
              "outlinewidth": 0,
              "ticks": ""
             }
            },
            "type": "scatter3d"
           }
          ],
          "scattercarpet": [
           {
            "marker": {
             "colorbar": {
              "outlinewidth": 0,
              "ticks": ""
             }
            },
            "type": "scattercarpet"
           }
          ],
          "scattergeo": [
           {
            "marker": {
             "colorbar": {
              "outlinewidth": 0,
              "ticks": ""
             }
            },
            "type": "scattergeo"
           }
          ],
          "scattergl": [
           {
            "marker": {
             "colorbar": {
              "outlinewidth": 0,
              "ticks": ""
             }
            },
            "type": "scattergl"
           }
          ],
          "scattermapbox": [
           {
            "marker": {
             "colorbar": {
              "outlinewidth": 0,
              "ticks": ""
             }
            },
            "type": "scattermapbox"
           }
          ],
          "scatterpolar": [
           {
            "marker": {
             "colorbar": {
              "outlinewidth": 0,
              "ticks": ""
             }
            },
            "type": "scatterpolar"
           }
          ],
          "scatterpolargl": [
           {
            "marker": {
             "colorbar": {
              "outlinewidth": 0,
              "ticks": ""
             }
            },
            "type": "scatterpolargl"
           }
          ],
          "scatterternary": [
           {
            "marker": {
             "colorbar": {
              "outlinewidth": 0,
              "ticks": ""
             }
            },
            "type": "scatterternary"
           }
          ],
          "surface": [
           {
            "colorbar": {
             "outlinewidth": 0,
             "ticks": ""
            },
            "colorscale": [
             [
              0,
              "#0d0887"
             ],
             [
              0.1111111111111111,
              "#46039f"
             ],
             [
              0.2222222222222222,
              "#7201a8"
             ],
             [
              0.3333333333333333,
              "#9c179e"
             ],
             [
              0.4444444444444444,
              "#bd3786"
             ],
             [
              0.5555555555555556,
              "#d8576b"
             ],
             [
              0.6666666666666666,
              "#ed7953"
             ],
             [
              0.7777777777777778,
              "#fb9f3a"
             ],
             [
              0.8888888888888888,
              "#fdca26"
             ],
             [
              1,
              "#f0f921"
             ]
            ],
            "type": "surface"
           }
          ],
          "table": [
           {
            "cells": {
             "fill": {
              "color": "#EBF0F8"
             },
             "line": {
              "color": "white"
             }
            },
            "header": {
             "fill": {
              "color": "#C8D4E3"
             },
             "line": {
              "color": "white"
             }
            },
            "type": "table"
           }
          ]
         },
         "layout": {
          "annotationdefaults": {
           "arrowcolor": "#2a3f5f",
           "arrowhead": 0,
           "arrowwidth": 1
          },
          "autotypenumbers": "strict",
          "coloraxis": {
           "colorbar": {
            "outlinewidth": 0,
            "ticks": ""
           }
          },
          "colorscale": {
           "diverging": [
            [
             0,
             "#8e0152"
            ],
            [
             0.1,
             "#c51b7d"
            ],
            [
             0.2,
             "#de77ae"
            ],
            [
             0.3,
             "#f1b6da"
            ],
            [
             0.4,
             "#fde0ef"
            ],
            [
             0.5,
             "#f7f7f7"
            ],
            [
             0.6,
             "#e6f5d0"
            ],
            [
             0.7,
             "#b8e186"
            ],
            [
             0.8,
             "#7fbc41"
            ],
            [
             0.9,
             "#4d9221"
            ],
            [
             1,
             "#276419"
            ]
           ],
           "sequential": [
            [
             0,
             "#0d0887"
            ],
            [
             0.1111111111111111,
             "#46039f"
            ],
            [
             0.2222222222222222,
             "#7201a8"
            ],
            [
             0.3333333333333333,
             "#9c179e"
            ],
            [
             0.4444444444444444,
             "#bd3786"
            ],
            [
             0.5555555555555556,
             "#d8576b"
            ],
            [
             0.6666666666666666,
             "#ed7953"
            ],
            [
             0.7777777777777778,
             "#fb9f3a"
            ],
            [
             0.8888888888888888,
             "#fdca26"
            ],
            [
             1,
             "#f0f921"
            ]
           ],
           "sequentialminus": [
            [
             0,
             "#0d0887"
            ],
            [
             0.1111111111111111,
             "#46039f"
            ],
            [
             0.2222222222222222,
             "#7201a8"
            ],
            [
             0.3333333333333333,
             "#9c179e"
            ],
            [
             0.4444444444444444,
             "#bd3786"
            ],
            [
             0.5555555555555556,
             "#d8576b"
            ],
            [
             0.6666666666666666,
             "#ed7953"
            ],
            [
             0.7777777777777778,
             "#fb9f3a"
            ],
            [
             0.8888888888888888,
             "#fdca26"
            ],
            [
             1,
             "#f0f921"
            ]
           ]
          },
          "colorway": [
           "#636efa",
           "#EF553B",
           "#00cc96",
           "#ab63fa",
           "#FFA15A",
           "#19d3f3",
           "#FF6692",
           "#B6E880",
           "#FF97FF",
           "#FECB52"
          ],
          "font": {
           "color": "#2a3f5f"
          },
          "geo": {
           "bgcolor": "white",
           "lakecolor": "white",
           "landcolor": "#E5ECF6",
           "showlakes": true,
           "showland": true,
           "subunitcolor": "white"
          },
          "hoverlabel": {
           "align": "left"
          },
          "hovermode": "closest",
          "mapbox": {
           "style": "light"
          },
          "paper_bgcolor": "white",
          "plot_bgcolor": "#E5ECF6",
          "polar": {
           "angularaxis": {
            "gridcolor": "white",
            "linecolor": "white",
            "ticks": ""
           },
           "bgcolor": "#E5ECF6",
           "radialaxis": {
            "gridcolor": "white",
            "linecolor": "white",
            "ticks": ""
           }
          },
          "scene": {
           "xaxis": {
            "backgroundcolor": "#E5ECF6",
            "gridcolor": "white",
            "gridwidth": 2,
            "linecolor": "white",
            "showbackground": true,
            "ticks": "",
            "zerolinecolor": "white"
           },
           "yaxis": {
            "backgroundcolor": "#E5ECF6",
            "gridcolor": "white",
            "gridwidth": 2,
            "linecolor": "white",
            "showbackground": true,
            "ticks": "",
            "zerolinecolor": "white"
           },
           "zaxis": {
            "backgroundcolor": "#E5ECF6",
            "gridcolor": "white",
            "gridwidth": 2,
            "linecolor": "white",
            "showbackground": true,
            "ticks": "",
            "zerolinecolor": "white"
           }
          },
          "shapedefaults": {
           "line": {
            "color": "#2a3f5f"
           }
          },
          "ternary": {
           "aaxis": {
            "gridcolor": "white",
            "linecolor": "white",
            "ticks": ""
           },
           "baxis": {
            "gridcolor": "white",
            "linecolor": "white",
            "ticks": ""
           },
           "bgcolor": "#E5ECF6",
           "caxis": {
            "gridcolor": "white",
            "linecolor": "white",
            "ticks": ""
           }
          },
          "title": {
           "x": 0.05
          },
          "xaxis": {
           "automargin": true,
           "gridcolor": "white",
           "linecolor": "white",
           "ticks": "",
           "title": {
            "standoff": 15
           },
           "zerolinecolor": "white",
           "zerolinewidth": 2
          },
          "yaxis": {
           "automargin": true,
           "gridcolor": "white",
           "linecolor": "white",
           "ticks": "",
           "title": {
            "standoff": 15
           },
           "zerolinecolor": "white",
           "zerolinewidth": 2
          }
         }
        },
        "title": {
         "text": "State Time Distribution of XXX"
        },
        "xaxis": {
         "anchor": "y",
         "domain": [
          0,
          1
         ],
         "title": {
          "text": "state"
         }
        },
        "yaxis": {
         "anchor": "x",
         "domain": [
          0,
          1
         ],
         "title": {
          "text": "total time"
         }
        }
       }
      }
     },
     "metadata": {},
     "output_type": "display_data"
    }
   ],
   "source": [
    "fig = px.bar(data)\n",
    "fig.update_layout(title=f'State Time Distribution of XXX', showlegend=False)\n",
    "fig.update_yaxes(title=dict({'text': 'total time'}))"
   ]
  },
  {
   "cell_type": "code",
   "execution_count": 108,
   "metadata": {},
   "outputs": [
    {
     "data": {
      "application/vnd.plotly.v1+json": {
       "config": {
        "plotlyServerURL": "https://plot.ly"
       },
       "data": [
        {
         "alignmentgroup": "True",
         "hovertemplate": "variable=total time<br>state=%{x}<br>value=%{y}<extra></extra>",
         "legendgroup": "total time",
         "marker": {
          "color": "#636efa",
          "pattern": {
           "shape": ""
          }
         },
         "name": "total time",
         "offsetgroup": "total time",
         "orientation": "v",
         "showlegend": true,
         "textposition": "auto",
         "type": "bar",
         "x": [
          "INTERMEDIATE",
          "FULL",
          "INIT",
          "PAUSED",
          "FAILED",
          "FINISH",
          "EMPTY"
         ],
         "xaxis": "x",
         "y": [
          2,
          0,
          0,
          0,
          0,
          0,
          34.5
         ],
         "yaxis": "y"
        }
       ],
       "layout": {
        "barmode": "relative",
        "legend": {
         "title": {
          "text": "variable"
         },
         "tracegroupgap": 0
        },
        "margin": {
         "t": 60
        },
        "template": {
         "data": {
          "bar": [
           {
            "error_x": {
             "color": "#2a3f5f"
            },
            "error_y": {
             "color": "#2a3f5f"
            },
            "marker": {
             "line": {
              "color": "#E5ECF6",
              "width": 0.5
             },
             "pattern": {
              "fillmode": "overlay",
              "size": 10,
              "solidity": 0.2
             }
            },
            "type": "bar"
           }
          ],
          "barpolar": [
           {
            "marker": {
             "line": {
              "color": "#E5ECF6",
              "width": 0.5
             },
             "pattern": {
              "fillmode": "overlay",
              "size": 10,
              "solidity": 0.2
             }
            },
            "type": "barpolar"
           }
          ],
          "carpet": [
           {
            "aaxis": {
             "endlinecolor": "#2a3f5f",
             "gridcolor": "white",
             "linecolor": "white",
             "minorgridcolor": "white",
             "startlinecolor": "#2a3f5f"
            },
            "baxis": {
             "endlinecolor": "#2a3f5f",
             "gridcolor": "white",
             "linecolor": "white",
             "minorgridcolor": "white",
             "startlinecolor": "#2a3f5f"
            },
            "type": "carpet"
           }
          ],
          "choropleth": [
           {
            "colorbar": {
             "outlinewidth": 0,
             "ticks": ""
            },
            "type": "choropleth"
           }
          ],
          "contour": [
           {
            "colorbar": {
             "outlinewidth": 0,
             "ticks": ""
            },
            "colorscale": [
             [
              0,
              "#0d0887"
             ],
             [
              0.1111111111111111,
              "#46039f"
             ],
             [
              0.2222222222222222,
              "#7201a8"
             ],
             [
              0.3333333333333333,
              "#9c179e"
             ],
             [
              0.4444444444444444,
              "#bd3786"
             ],
             [
              0.5555555555555556,
              "#d8576b"
             ],
             [
              0.6666666666666666,
              "#ed7953"
             ],
             [
              0.7777777777777778,
              "#fb9f3a"
             ],
             [
              0.8888888888888888,
              "#fdca26"
             ],
             [
              1,
              "#f0f921"
             ]
            ],
            "type": "contour"
           }
          ],
          "contourcarpet": [
           {
            "colorbar": {
             "outlinewidth": 0,
             "ticks": ""
            },
            "type": "contourcarpet"
           }
          ],
          "heatmap": [
           {
            "colorbar": {
             "outlinewidth": 0,
             "ticks": ""
            },
            "colorscale": [
             [
              0,
              "#0d0887"
             ],
             [
              0.1111111111111111,
              "#46039f"
             ],
             [
              0.2222222222222222,
              "#7201a8"
             ],
             [
              0.3333333333333333,
              "#9c179e"
             ],
             [
              0.4444444444444444,
              "#bd3786"
             ],
             [
              0.5555555555555556,
              "#d8576b"
             ],
             [
              0.6666666666666666,
              "#ed7953"
             ],
             [
              0.7777777777777778,
              "#fb9f3a"
             ],
             [
              0.8888888888888888,
              "#fdca26"
             ],
             [
              1,
              "#f0f921"
             ]
            ],
            "type": "heatmap"
           }
          ],
          "heatmapgl": [
           {
            "colorbar": {
             "outlinewidth": 0,
             "ticks": ""
            },
            "colorscale": [
             [
              0,
              "#0d0887"
             ],
             [
              0.1111111111111111,
              "#46039f"
             ],
             [
              0.2222222222222222,
              "#7201a8"
             ],
             [
              0.3333333333333333,
              "#9c179e"
             ],
             [
              0.4444444444444444,
              "#bd3786"
             ],
             [
              0.5555555555555556,
              "#d8576b"
             ],
             [
              0.6666666666666666,
              "#ed7953"
             ],
             [
              0.7777777777777778,
              "#fb9f3a"
             ],
             [
              0.8888888888888888,
              "#fdca26"
             ],
             [
              1,
              "#f0f921"
             ]
            ],
            "type": "heatmapgl"
           }
          ],
          "histogram": [
           {
            "marker": {
             "pattern": {
              "fillmode": "overlay",
              "size": 10,
              "solidity": 0.2
             }
            },
            "type": "histogram"
           }
          ],
          "histogram2d": [
           {
            "colorbar": {
             "outlinewidth": 0,
             "ticks": ""
            },
            "colorscale": [
             [
              0,
              "#0d0887"
             ],
             [
              0.1111111111111111,
              "#46039f"
             ],
             [
              0.2222222222222222,
              "#7201a8"
             ],
             [
              0.3333333333333333,
              "#9c179e"
             ],
             [
              0.4444444444444444,
              "#bd3786"
             ],
             [
              0.5555555555555556,
              "#d8576b"
             ],
             [
              0.6666666666666666,
              "#ed7953"
             ],
             [
              0.7777777777777778,
              "#fb9f3a"
             ],
             [
              0.8888888888888888,
              "#fdca26"
             ],
             [
              1,
              "#f0f921"
             ]
            ],
            "type": "histogram2d"
           }
          ],
          "histogram2dcontour": [
           {
            "colorbar": {
             "outlinewidth": 0,
             "ticks": ""
            },
            "colorscale": [
             [
              0,
              "#0d0887"
             ],
             [
              0.1111111111111111,
              "#46039f"
             ],
             [
              0.2222222222222222,
              "#7201a8"
             ],
             [
              0.3333333333333333,
              "#9c179e"
             ],
             [
              0.4444444444444444,
              "#bd3786"
             ],
             [
              0.5555555555555556,
              "#d8576b"
             ],
             [
              0.6666666666666666,
              "#ed7953"
             ],
             [
              0.7777777777777778,
              "#fb9f3a"
             ],
             [
              0.8888888888888888,
              "#fdca26"
             ],
             [
              1,
              "#f0f921"
             ]
            ],
            "type": "histogram2dcontour"
           }
          ],
          "mesh3d": [
           {
            "colorbar": {
             "outlinewidth": 0,
             "ticks": ""
            },
            "type": "mesh3d"
           }
          ],
          "parcoords": [
           {
            "line": {
             "colorbar": {
              "outlinewidth": 0,
              "ticks": ""
             }
            },
            "type": "parcoords"
           }
          ],
          "pie": [
           {
            "automargin": true,
            "type": "pie"
           }
          ],
          "scatter": [
           {
            "fillpattern": {
             "fillmode": "overlay",
             "size": 10,
             "solidity": 0.2
            },
            "type": "scatter"
           }
          ],
          "scatter3d": [
           {
            "line": {
             "colorbar": {
              "outlinewidth": 0,
              "ticks": ""
             }
            },
            "marker": {
             "colorbar": {
              "outlinewidth": 0,
              "ticks": ""
             }
            },
            "type": "scatter3d"
           }
          ],
          "scattercarpet": [
           {
            "marker": {
             "colorbar": {
              "outlinewidth": 0,
              "ticks": ""
             }
            },
            "type": "scattercarpet"
           }
          ],
          "scattergeo": [
           {
            "marker": {
             "colorbar": {
              "outlinewidth": 0,
              "ticks": ""
             }
            },
            "type": "scattergeo"
           }
          ],
          "scattergl": [
           {
            "marker": {
             "colorbar": {
              "outlinewidth": 0,
              "ticks": ""
             }
            },
            "type": "scattergl"
           }
          ],
          "scattermapbox": [
           {
            "marker": {
             "colorbar": {
              "outlinewidth": 0,
              "ticks": ""
             }
            },
            "type": "scattermapbox"
           }
          ],
          "scatterpolar": [
           {
            "marker": {
             "colorbar": {
              "outlinewidth": 0,
              "ticks": ""
             }
            },
            "type": "scatterpolar"
           }
          ],
          "scatterpolargl": [
           {
            "marker": {
             "colorbar": {
              "outlinewidth": 0,
              "ticks": ""
             }
            },
            "type": "scatterpolargl"
           }
          ],
          "scatterternary": [
           {
            "marker": {
             "colorbar": {
              "outlinewidth": 0,
              "ticks": ""
             }
            },
            "type": "scatterternary"
           }
          ],
          "surface": [
           {
            "colorbar": {
             "outlinewidth": 0,
             "ticks": ""
            },
            "colorscale": [
             [
              0,
              "#0d0887"
             ],
             [
              0.1111111111111111,
              "#46039f"
             ],
             [
              0.2222222222222222,
              "#7201a8"
             ],
             [
              0.3333333333333333,
              "#9c179e"
             ],
             [
              0.4444444444444444,
              "#bd3786"
             ],
             [
              0.5555555555555556,
              "#d8576b"
             ],
             [
              0.6666666666666666,
              "#ed7953"
             ],
             [
              0.7777777777777778,
              "#fb9f3a"
             ],
             [
              0.8888888888888888,
              "#fdca26"
             ],
             [
              1,
              "#f0f921"
             ]
            ],
            "type": "surface"
           }
          ],
          "table": [
           {
            "cells": {
             "fill": {
              "color": "#EBF0F8"
             },
             "line": {
              "color": "white"
             }
            },
            "header": {
             "fill": {
              "color": "#C8D4E3"
             },
             "line": {
              "color": "white"
             }
            },
            "type": "table"
           }
          ]
         },
         "layout": {
          "annotationdefaults": {
           "arrowcolor": "#2a3f5f",
           "arrowhead": 0,
           "arrowwidth": 1
          },
          "autotypenumbers": "strict",
          "coloraxis": {
           "colorbar": {
            "outlinewidth": 0,
            "ticks": ""
           }
          },
          "colorscale": {
           "diverging": [
            [
             0,
             "#8e0152"
            ],
            [
             0.1,
             "#c51b7d"
            ],
            [
             0.2,
             "#de77ae"
            ],
            [
             0.3,
             "#f1b6da"
            ],
            [
             0.4,
             "#fde0ef"
            ],
            [
             0.5,
             "#f7f7f7"
            ],
            [
             0.6,
             "#e6f5d0"
            ],
            [
             0.7,
             "#b8e186"
            ],
            [
             0.8,
             "#7fbc41"
            ],
            [
             0.9,
             "#4d9221"
            ],
            [
             1,
             "#276419"
            ]
           ],
           "sequential": [
            [
             0,
             "#0d0887"
            ],
            [
             0.1111111111111111,
             "#46039f"
            ],
            [
             0.2222222222222222,
             "#7201a8"
            ],
            [
             0.3333333333333333,
             "#9c179e"
            ],
            [
             0.4444444444444444,
             "#bd3786"
            ],
            [
             0.5555555555555556,
             "#d8576b"
            ],
            [
             0.6666666666666666,
             "#ed7953"
            ],
            [
             0.7777777777777778,
             "#fb9f3a"
            ],
            [
             0.8888888888888888,
             "#fdca26"
            ],
            [
             1,
             "#f0f921"
            ]
           ],
           "sequentialminus": [
            [
             0,
             "#0d0887"
            ],
            [
             0.1111111111111111,
             "#46039f"
            ],
            [
             0.2222222222222222,
             "#7201a8"
            ],
            [
             0.3333333333333333,
             "#9c179e"
            ],
            [
             0.4444444444444444,
             "#bd3786"
            ],
            [
             0.5555555555555556,
             "#d8576b"
            ],
            [
             0.6666666666666666,
             "#ed7953"
            ],
            [
             0.7777777777777778,
             "#fb9f3a"
            ],
            [
             0.8888888888888888,
             "#fdca26"
            ],
            [
             1,
             "#f0f921"
            ]
           ]
          },
          "colorway": [
           "#636efa",
           "#EF553B",
           "#00cc96",
           "#ab63fa",
           "#FFA15A",
           "#19d3f3",
           "#FF6692",
           "#B6E880",
           "#FF97FF",
           "#FECB52"
          ],
          "font": {
           "color": "#2a3f5f"
          },
          "geo": {
           "bgcolor": "white",
           "lakecolor": "white",
           "landcolor": "#E5ECF6",
           "showlakes": true,
           "showland": true,
           "subunitcolor": "white"
          },
          "hoverlabel": {
           "align": "left"
          },
          "hovermode": "closest",
          "mapbox": {
           "style": "light"
          },
          "paper_bgcolor": "white",
          "plot_bgcolor": "#E5ECF6",
          "polar": {
           "angularaxis": {
            "gridcolor": "white",
            "linecolor": "white",
            "ticks": ""
           },
           "bgcolor": "#E5ECF6",
           "radialaxis": {
            "gridcolor": "white",
            "linecolor": "white",
            "ticks": ""
           }
          },
          "scene": {
           "xaxis": {
            "backgroundcolor": "#E5ECF6",
            "gridcolor": "white",
            "gridwidth": 2,
            "linecolor": "white",
            "showbackground": true,
            "ticks": "",
            "zerolinecolor": "white"
           },
           "yaxis": {
            "backgroundcolor": "#E5ECF6",
            "gridcolor": "white",
            "gridwidth": 2,
            "linecolor": "white",
            "showbackground": true,
            "ticks": "",
            "zerolinecolor": "white"
           },
           "zaxis": {
            "backgroundcolor": "#E5ECF6",
            "gridcolor": "white",
            "gridwidth": 2,
            "linecolor": "white",
            "showbackground": true,
            "ticks": "",
            "zerolinecolor": "white"
           }
          },
          "shapedefaults": {
           "line": {
            "color": "#2a3f5f"
           }
          },
          "ternary": {
           "aaxis": {
            "gridcolor": "white",
            "linecolor": "white",
            "ticks": ""
           },
           "baxis": {
            "gridcolor": "white",
            "linecolor": "white",
            "ticks": ""
           },
           "bgcolor": "#E5ECF6",
           "caxis": {
            "gridcolor": "white",
            "linecolor": "white",
            "ticks": ""
           }
          },
          "title": {
           "x": 0.05
          },
          "xaxis": {
           "automargin": true,
           "gridcolor": "white",
           "linecolor": "white",
           "ticks": "",
           "title": {
            "standoff": 15
           },
           "zerolinecolor": "white",
           "zerolinewidth": 2
          },
          "yaxis": {
           "automargin": true,
           "gridcolor": "white",
           "linecolor": "white",
           "ticks": "",
           "title": {
            "standoff": 15
           },
           "zerolinecolor": "white",
           "zerolinewidth": 2
          }
         }
        },
        "xaxis": {
         "anchor": "y",
         "domain": [
          0,
          1
         ],
         "title": {
          "text": "state"
         }
        },
        "yaxis": {
         "anchor": "x",
         "domain": [
          0,
          1
         ],
         "title": {
          "text": "value"
         }
        }
       }
      }
     },
     "metadata": {},
     "output_type": "display_data"
    }
   ],
   "source": [
    "fig.show()"
   ]
  },
  {
   "cell_type": "code",
   "execution_count": 816,
   "metadata": {},
   "outputs": [
    {
     "data": {
      "text/plain": [
       "6"
      ]
     },
     "execution_count": 816,
     "metadata": {},
     "output_type": "execute_result"
    }
   ],
   "source": [
    "buffer.num_outputs"
   ]
  },
  {
   "cell_type": "code",
   "execution_count": 441,
   "metadata": {},
   "outputs": [
    {
     "data": {
      "text/html": [
       "<div>\n",
       "<style scoped>\n",
       "    .dataframe tbody tr th:only-of-type {\n",
       "        vertical-align: middle;\n",
       "    }\n",
       "\n",
       "    .dataframe tbody tr th {\n",
       "        vertical-align: top;\n",
       "    }\n",
       "\n",
       "    .dataframe thead th {\n",
       "        text-align: right;\n",
       "    }\n",
       "</style>\n",
       "<table border=\"1\" class=\"dataframe\">\n",
       "  <thead>\n",
       "    <tr style=\"text-align: right;\">\n",
       "      <th></th>\n",
       "      <th>abs [timesteps]</th>\n",
       "      <th>rel [%]</th>\n",
       "    </tr>\n",
       "  </thead>\n",
       "  <tbody>\n",
       "    <tr>\n",
       "      <th>INTERMEDIATE</th>\n",
       "      <td>2.0</td>\n",
       "      <td>5.479452</td>\n",
       "    </tr>\n",
       "    <tr>\n",
       "      <th>FULL</th>\n",
       "      <td>0.0</td>\n",
       "      <td>0.000000</td>\n",
       "    </tr>\n",
       "    <tr>\n",
       "      <th>PAUSED</th>\n",
       "      <td>0.0</td>\n",
       "      <td>0.000000</td>\n",
       "    </tr>\n",
       "    <tr>\n",
       "      <th>FAILED</th>\n",
       "      <td>0.0</td>\n",
       "      <td>0.000000</td>\n",
       "    </tr>\n",
       "    <tr>\n",
       "      <th>EMPTY</th>\n",
       "      <td>34.5</td>\n",
       "      <td>94.520548</td>\n",
       "    </tr>\n",
       "  </tbody>\n",
       "</table>\n",
       "</div>"
      ],
      "text/plain": [
       "              abs [timesteps]    rel [%]\n",
       "INTERMEDIATE              2.0   5.479452\n",
       "FULL                      0.0   0.000000\n",
       "PAUSED                    0.0   0.000000\n",
       "FAILED                    0.0   0.000000\n",
       "EMPTY                    34.5  94.520548"
      ]
     },
     "execution_count": 441,
     "metadata": {},
     "output_type": "execute_result"
    }
   ],
   "source": [
    "buffer.stat_monitor.state_durations"
   ]
  },
  {
   "cell_type": "code",
   "execution_count": 442,
   "metadata": {},
   "outputs": [
    {
     "data": {
      "text/html": [
       "<div>\n",
       "<style scoped>\n",
       "    .dataframe tbody tr th:only-of-type {\n",
       "        vertical-align: middle;\n",
       "    }\n",
       "\n",
       "    .dataframe tbody tr th {\n",
       "        vertical-align: top;\n",
       "    }\n",
       "\n",
       "    .dataframe thead th {\n",
       "        text-align: right;\n",
       "    }\n",
       "</style>\n",
       "<table border=\"1\" class=\"dataframe\">\n",
       "  <thead>\n",
       "    <tr style=\"text-align: right;\">\n",
       "      <th></th>\n",
       "      <th>abs [timesteps]</th>\n",
       "      <th>rel [%]</th>\n",
       "    </tr>\n",
       "  </thead>\n",
       "  <tbody>\n",
       "    <tr>\n",
       "      <th>WAITING</th>\n",
       "      <td>10.5</td>\n",
       "      <td>28.767123</td>\n",
       "    </tr>\n",
       "    <tr>\n",
       "      <th>PROCESSING</th>\n",
       "      <td>26.0</td>\n",
       "      <td>71.232877</td>\n",
       "    </tr>\n",
       "    <tr>\n",
       "      <th>PAUSED</th>\n",
       "      <td>0.0</td>\n",
       "      <td>0.000000</td>\n",
       "    </tr>\n",
       "    <tr>\n",
       "      <th>FAILED</th>\n",
       "      <td>0.0</td>\n",
       "      <td>0.000000</td>\n",
       "    </tr>\n",
       "    <tr>\n",
       "      <th>BLOCKED</th>\n",
       "      <td>0.0</td>\n",
       "      <td>0.000000</td>\n",
       "    </tr>\n",
       "  </tbody>\n",
       "</table>\n",
       "</div>"
      ],
      "text/plain": [
       "            abs [timesteps]    rel [%]\n",
       "WAITING                10.5  28.767123\n",
       "PROCESSING             26.0  71.232877\n",
       "PAUSED                  0.0   0.000000\n",
       "FAILED                  0.0   0.000000\n",
       "BLOCKED                 0.0   0.000000"
      ]
     },
     "execution_count": 442,
     "metadata": {},
     "output_type": "execute_result"
    }
   ],
   "source": [
    "MachInst.stat_monitor.state_durations"
   ]
  },
  {
   "cell_type": "code",
   "execution_count": 818,
   "metadata": {},
   "outputs": [
    {
     "data": {
      "text/html": [
       "<div>\n",
       "<style scoped>\n",
       "    .dataframe tbody tr th:only-of-type {\n",
       "        vertical-align: middle;\n",
       "    }\n",
       "\n",
       "    .dataframe tbody tr th {\n",
       "        vertical-align: top;\n",
       "    }\n",
       "\n",
       "    .dataframe thead th {\n",
       "        text-align: right;\n",
       "    }\n",
       "</style>\n",
       "<table border=\"1\" class=\"dataframe\">\n",
       "  <thead>\n",
       "    <tr style=\"text-align: right;\">\n",
       "      <th></th>\n",
       "      <th>abs [timesteps]</th>\n",
       "      <th>rel [%]</th>\n",
       "    </tr>\n",
       "  </thead>\n",
       "  <tbody>\n",
       "    <tr>\n",
       "      <th>FAILED</th>\n",
       "      <td>0.0</td>\n",
       "      <td>0.000000</td>\n",
       "    </tr>\n",
       "    <tr>\n",
       "      <th>WAITING</th>\n",
       "      <td>10.5</td>\n",
       "      <td>28.767123</td>\n",
       "    </tr>\n",
       "    <tr>\n",
       "      <th>PROCESSING</th>\n",
       "      <td>26.0</td>\n",
       "      <td>71.232877</td>\n",
       "    </tr>\n",
       "    <tr>\n",
       "      <th>BLOCKED</th>\n",
       "      <td>0.0</td>\n",
       "      <td>0.000000</td>\n",
       "    </tr>\n",
       "    <tr>\n",
       "      <th>PAUSED</th>\n",
       "      <td>0.0</td>\n",
       "      <td>0.000000</td>\n",
       "    </tr>\n",
       "  </tbody>\n",
       "</table>\n",
       "</div>"
      ],
      "text/plain": [
       "            abs [timesteps]    rel [%]\n",
       "FAILED                  0.0   0.000000\n",
       "WAITING                10.5  28.767123\n",
       "PROCESSING             26.0  71.232877\n",
       "BLOCKED                 0.0   0.000000\n",
       "PAUSED                  0.0   0.000000"
      ]
     },
     "execution_count": 818,
     "metadata": {},
     "output_type": "execute_result"
    }
   ],
   "source": [
    "MachInst.state_durations"
   ]
  },
  {
   "cell_type": "code",
   "execution_count": 443,
   "metadata": {},
   "outputs": [
    {
     "data": {
      "application/vnd.plotly.v1+json": {
       "config": {
        "plotlyServerURL": "https://plot.ly"
       },
       "data": [
        {
         "alignmentgroup": "True",
         "base": [
          26.5,
          0
         ],
         "hovertemplate": "job_name=J_gen_0<br>start_time=%{base}<br>end_time=%{x}<br>machine_custom_id=%{y}<extra></extra>",
         "legendgroup": "J_gen_0",
         "marker": {
          "color": "#636efa",
          "pattern": {
           "shape": ""
          }
         },
         "name": "J_gen_0",
         "offsetgroup": "J_gen_0",
         "orientation": "h",
         "showlegend": true,
         "textposition": "auto",
         "type": "bar",
         "x": [
          8,
          4
         ],
         "xaxis": "x",
         "y": [
          0,
          1
         ],
         "yaxis": "y"
        },
        {
         "alignmentgroup": "True",
         "base": [
          0.5,
          4.5
         ],
         "hovertemplate": "job_name=J_gen_1<br>start_time=%{base}<br>end_time=%{x}<br>machine_custom_id=%{y}<extra></extra>",
         "legendgroup": "J_gen_1",
         "marker": {
          "color": "#EF553B",
          "pattern": {
           "shape": ""
          }
         },
         "name": "J_gen_1",
         "offsetgroup": "J_gen_1",
         "orientation": "h",
         "showlegend": true,
         "textposition": "auto",
         "type": "bar",
         "x": [
          4,
          1
         ],
         "xaxis": "x",
         "y": [
          0,
          1
         ],
         "yaxis": "y"
        },
        {
         "alignmentgroup": "True",
         "base": [
          4.5,
          11.5
         ],
         "hovertemplate": "job_name=J_gen_2<br>start_time=%{base}<br>end_time=%{x}<br>machine_custom_id=%{y}<extra></extra>",
         "legendgroup": "J_gen_2",
         "marker": {
          "color": "#00cc96",
          "pattern": {
           "shape": ""
          }
         },
         "name": "J_gen_2",
         "offsetgroup": "J_gen_2",
         "orientation": "h",
         "showlegend": true,
         "textposition": "auto",
         "type": "bar",
         "x": [
          7,
          4
         ],
         "xaxis": "x",
         "y": [
          0,
          1
         ],
         "yaxis": "y"
        },
        {
         "alignmentgroup": "True",
         "base": [
          11.5,
          15.5
         ],
         "hovertemplate": "job_name=J_gen_3<br>start_time=%{base}<br>end_time=%{x}<br>machine_custom_id=%{y}<extra></extra>",
         "legendgroup": "J_gen_3",
         "marker": {
          "color": "#ab63fa",
          "pattern": {
           "shape": ""
          }
         },
         "name": "J_gen_3",
         "offsetgroup": "J_gen_3",
         "orientation": "h",
         "showlegend": true,
         "textposition": "auto",
         "type": "bar",
         "x": [
          4,
          5
         ],
         "xaxis": "x",
         "y": [
          0,
          1
         ],
         "yaxis": "y"
        },
        {
         "alignmentgroup": "True",
         "base": [
          15.5,
          24.5
         ],
         "hovertemplate": "job_name=J_gen_4<br>start_time=%{base}<br>end_time=%{x}<br>machine_custom_id=%{y}<extra></extra>",
         "legendgroup": "J_gen_4",
         "marker": {
          "color": "#FFA15A",
          "pattern": {
           "shape": ""
          }
         },
         "name": "J_gen_4",
         "offsetgroup": "J_gen_4",
         "orientation": "h",
         "showlegend": true,
         "textposition": "auto",
         "type": "bar",
         "x": [
          9,
          4
         ],
         "xaxis": "x",
         "y": [
          0,
          1
         ],
         "yaxis": "y"
        },
        {
         "alignmentgroup": "True",
         "base": [
          24.5,
          28.5
         ],
         "hovertemplate": "job_name=J_gen_5<br>start_time=%{base}<br>end_time=%{x}<br>machine_custom_id=%{y}<extra></extra>",
         "legendgroup": "J_gen_5",
         "marker": {
          "color": "#19d3f3",
          "pattern": {
           "shape": ""
          }
         },
         "name": "J_gen_5",
         "offsetgroup": "J_gen_5",
         "orientation": "h",
         "showlegend": true,
         "textposition": "auto",
         "type": "bar",
         "x": [
          2,
          8
         ],
         "xaxis": "x",
         "y": [
          0,
          1
         ],
         "yaxis": "y"
        }
       ],
       "layout": {
        "barmode": "overlay",
        "legend": {
         "title": {
          "text": "job_name"
         },
         "tracegroupgap": 0
        },
        "margin": {
         "t": 60
        },
        "template": {
         "data": {
          "bar": [
           {
            "error_x": {
             "color": "#2a3f5f"
            },
            "error_y": {
             "color": "#2a3f5f"
            },
            "marker": {
             "line": {
              "color": "#E5ECF6",
              "width": 0.5
             },
             "pattern": {
              "fillmode": "overlay",
              "size": 10,
              "solidity": 0.2
             }
            },
            "type": "bar"
           }
          ],
          "barpolar": [
           {
            "marker": {
             "line": {
              "color": "#E5ECF6",
              "width": 0.5
             },
             "pattern": {
              "fillmode": "overlay",
              "size": 10,
              "solidity": 0.2
             }
            },
            "type": "barpolar"
           }
          ],
          "carpet": [
           {
            "aaxis": {
             "endlinecolor": "#2a3f5f",
             "gridcolor": "white",
             "linecolor": "white",
             "minorgridcolor": "white",
             "startlinecolor": "#2a3f5f"
            },
            "baxis": {
             "endlinecolor": "#2a3f5f",
             "gridcolor": "white",
             "linecolor": "white",
             "minorgridcolor": "white",
             "startlinecolor": "#2a3f5f"
            },
            "type": "carpet"
           }
          ],
          "choropleth": [
           {
            "colorbar": {
             "outlinewidth": 0,
             "ticks": ""
            },
            "type": "choropleth"
           }
          ],
          "contour": [
           {
            "colorbar": {
             "outlinewidth": 0,
             "ticks": ""
            },
            "colorscale": [
             [
              0,
              "#0d0887"
             ],
             [
              0.1111111111111111,
              "#46039f"
             ],
             [
              0.2222222222222222,
              "#7201a8"
             ],
             [
              0.3333333333333333,
              "#9c179e"
             ],
             [
              0.4444444444444444,
              "#bd3786"
             ],
             [
              0.5555555555555556,
              "#d8576b"
             ],
             [
              0.6666666666666666,
              "#ed7953"
             ],
             [
              0.7777777777777778,
              "#fb9f3a"
             ],
             [
              0.8888888888888888,
              "#fdca26"
             ],
             [
              1,
              "#f0f921"
             ]
            ],
            "type": "contour"
           }
          ],
          "contourcarpet": [
           {
            "colorbar": {
             "outlinewidth": 0,
             "ticks": ""
            },
            "type": "contourcarpet"
           }
          ],
          "heatmap": [
           {
            "colorbar": {
             "outlinewidth": 0,
             "ticks": ""
            },
            "colorscale": [
             [
              0,
              "#0d0887"
             ],
             [
              0.1111111111111111,
              "#46039f"
             ],
             [
              0.2222222222222222,
              "#7201a8"
             ],
             [
              0.3333333333333333,
              "#9c179e"
             ],
             [
              0.4444444444444444,
              "#bd3786"
             ],
             [
              0.5555555555555556,
              "#d8576b"
             ],
             [
              0.6666666666666666,
              "#ed7953"
             ],
             [
              0.7777777777777778,
              "#fb9f3a"
             ],
             [
              0.8888888888888888,
              "#fdca26"
             ],
             [
              1,
              "#f0f921"
             ]
            ],
            "type": "heatmap"
           }
          ],
          "heatmapgl": [
           {
            "colorbar": {
             "outlinewidth": 0,
             "ticks": ""
            },
            "colorscale": [
             [
              0,
              "#0d0887"
             ],
             [
              0.1111111111111111,
              "#46039f"
             ],
             [
              0.2222222222222222,
              "#7201a8"
             ],
             [
              0.3333333333333333,
              "#9c179e"
             ],
             [
              0.4444444444444444,
              "#bd3786"
             ],
             [
              0.5555555555555556,
              "#d8576b"
             ],
             [
              0.6666666666666666,
              "#ed7953"
             ],
             [
              0.7777777777777778,
              "#fb9f3a"
             ],
             [
              0.8888888888888888,
              "#fdca26"
             ],
             [
              1,
              "#f0f921"
             ]
            ],
            "type": "heatmapgl"
           }
          ],
          "histogram": [
           {
            "marker": {
             "pattern": {
              "fillmode": "overlay",
              "size": 10,
              "solidity": 0.2
             }
            },
            "type": "histogram"
           }
          ],
          "histogram2d": [
           {
            "colorbar": {
             "outlinewidth": 0,
             "ticks": ""
            },
            "colorscale": [
             [
              0,
              "#0d0887"
             ],
             [
              0.1111111111111111,
              "#46039f"
             ],
             [
              0.2222222222222222,
              "#7201a8"
             ],
             [
              0.3333333333333333,
              "#9c179e"
             ],
             [
              0.4444444444444444,
              "#bd3786"
             ],
             [
              0.5555555555555556,
              "#d8576b"
             ],
             [
              0.6666666666666666,
              "#ed7953"
             ],
             [
              0.7777777777777778,
              "#fb9f3a"
             ],
             [
              0.8888888888888888,
              "#fdca26"
             ],
             [
              1,
              "#f0f921"
             ]
            ],
            "type": "histogram2d"
           }
          ],
          "histogram2dcontour": [
           {
            "colorbar": {
             "outlinewidth": 0,
             "ticks": ""
            },
            "colorscale": [
             [
              0,
              "#0d0887"
             ],
             [
              0.1111111111111111,
              "#46039f"
             ],
             [
              0.2222222222222222,
              "#7201a8"
             ],
             [
              0.3333333333333333,
              "#9c179e"
             ],
             [
              0.4444444444444444,
              "#bd3786"
             ],
             [
              0.5555555555555556,
              "#d8576b"
             ],
             [
              0.6666666666666666,
              "#ed7953"
             ],
             [
              0.7777777777777778,
              "#fb9f3a"
             ],
             [
              0.8888888888888888,
              "#fdca26"
             ],
             [
              1,
              "#f0f921"
             ]
            ],
            "type": "histogram2dcontour"
           }
          ],
          "mesh3d": [
           {
            "colorbar": {
             "outlinewidth": 0,
             "ticks": ""
            },
            "type": "mesh3d"
           }
          ],
          "parcoords": [
           {
            "line": {
             "colorbar": {
              "outlinewidth": 0,
              "ticks": ""
             }
            },
            "type": "parcoords"
           }
          ],
          "pie": [
           {
            "automargin": true,
            "type": "pie"
           }
          ],
          "scatter": [
           {
            "fillpattern": {
             "fillmode": "overlay",
             "size": 10,
             "solidity": 0.2
            },
            "type": "scatter"
           }
          ],
          "scatter3d": [
           {
            "line": {
             "colorbar": {
              "outlinewidth": 0,
              "ticks": ""
             }
            },
            "marker": {
             "colorbar": {
              "outlinewidth": 0,
              "ticks": ""
             }
            },
            "type": "scatter3d"
           }
          ],
          "scattercarpet": [
           {
            "marker": {
             "colorbar": {
              "outlinewidth": 0,
              "ticks": ""
             }
            },
            "type": "scattercarpet"
           }
          ],
          "scattergeo": [
           {
            "marker": {
             "colorbar": {
              "outlinewidth": 0,
              "ticks": ""
             }
            },
            "type": "scattergeo"
           }
          ],
          "scattergl": [
           {
            "marker": {
             "colorbar": {
              "outlinewidth": 0,
              "ticks": ""
             }
            },
            "type": "scattergl"
           }
          ],
          "scattermapbox": [
           {
            "marker": {
             "colorbar": {
              "outlinewidth": 0,
              "ticks": ""
             }
            },
            "type": "scattermapbox"
           }
          ],
          "scatterpolar": [
           {
            "marker": {
             "colorbar": {
              "outlinewidth": 0,
              "ticks": ""
             }
            },
            "type": "scatterpolar"
           }
          ],
          "scatterpolargl": [
           {
            "marker": {
             "colorbar": {
              "outlinewidth": 0,
              "ticks": ""
             }
            },
            "type": "scatterpolargl"
           }
          ],
          "scatterternary": [
           {
            "marker": {
             "colorbar": {
              "outlinewidth": 0,
              "ticks": ""
             }
            },
            "type": "scatterternary"
           }
          ],
          "surface": [
           {
            "colorbar": {
             "outlinewidth": 0,
             "ticks": ""
            },
            "colorscale": [
             [
              0,
              "#0d0887"
             ],
             [
              0.1111111111111111,
              "#46039f"
             ],
             [
              0.2222222222222222,
              "#7201a8"
             ],
             [
              0.3333333333333333,
              "#9c179e"
             ],
             [
              0.4444444444444444,
              "#bd3786"
             ],
             [
              0.5555555555555556,
              "#d8576b"
             ],
             [
              0.6666666666666666,
              "#ed7953"
             ],
             [
              0.7777777777777778,
              "#fb9f3a"
             ],
             [
              0.8888888888888888,
              "#fdca26"
             ],
             [
              1,
              "#f0f921"
             ]
            ],
            "type": "surface"
           }
          ],
          "table": [
           {
            "cells": {
             "fill": {
              "color": "#EBF0F8"
             },
             "line": {
              "color": "white"
             }
            },
            "header": {
             "fill": {
              "color": "#C8D4E3"
             },
             "line": {
              "color": "white"
             }
            },
            "type": "table"
           }
          ]
         },
         "layout": {
          "annotationdefaults": {
           "arrowcolor": "#2a3f5f",
           "arrowhead": 0,
           "arrowwidth": 1
          },
          "autotypenumbers": "strict",
          "coloraxis": {
           "colorbar": {
            "outlinewidth": 0,
            "ticks": ""
           }
          },
          "colorscale": {
           "diverging": [
            [
             0,
             "#8e0152"
            ],
            [
             0.1,
             "#c51b7d"
            ],
            [
             0.2,
             "#de77ae"
            ],
            [
             0.3,
             "#f1b6da"
            ],
            [
             0.4,
             "#fde0ef"
            ],
            [
             0.5,
             "#f7f7f7"
            ],
            [
             0.6,
             "#e6f5d0"
            ],
            [
             0.7,
             "#b8e186"
            ],
            [
             0.8,
             "#7fbc41"
            ],
            [
             0.9,
             "#4d9221"
            ],
            [
             1,
             "#276419"
            ]
           ],
           "sequential": [
            [
             0,
             "#0d0887"
            ],
            [
             0.1111111111111111,
             "#46039f"
            ],
            [
             0.2222222222222222,
             "#7201a8"
            ],
            [
             0.3333333333333333,
             "#9c179e"
            ],
            [
             0.4444444444444444,
             "#bd3786"
            ],
            [
             0.5555555555555556,
             "#d8576b"
            ],
            [
             0.6666666666666666,
             "#ed7953"
            ],
            [
             0.7777777777777778,
             "#fb9f3a"
            ],
            [
             0.8888888888888888,
             "#fdca26"
            ],
            [
             1,
             "#f0f921"
            ]
           ],
           "sequentialminus": [
            [
             0,
             "#0d0887"
            ],
            [
             0.1111111111111111,
             "#46039f"
            ],
            [
             0.2222222222222222,
             "#7201a8"
            ],
            [
             0.3333333333333333,
             "#9c179e"
            ],
            [
             0.4444444444444444,
             "#bd3786"
            ],
            [
             0.5555555555555556,
             "#d8576b"
            ],
            [
             0.6666666666666666,
             "#ed7953"
            ],
            [
             0.7777777777777778,
             "#fb9f3a"
            ],
            [
             0.8888888888888888,
             "#fdca26"
            ],
            [
             1,
             "#f0f921"
            ]
           ]
          },
          "colorway": [
           "#636efa",
           "#EF553B",
           "#00cc96",
           "#ab63fa",
           "#FFA15A",
           "#19d3f3",
           "#FF6692",
           "#B6E880",
           "#FF97FF",
           "#FECB52"
          ],
          "font": {
           "color": "#2a3f5f"
          },
          "geo": {
           "bgcolor": "white",
           "lakecolor": "white",
           "landcolor": "#E5ECF6",
           "showlakes": true,
           "showland": true,
           "subunitcolor": "white"
          },
          "hoverlabel": {
           "align": "left"
          },
          "hovermode": "closest",
          "mapbox": {
           "style": "light"
          },
          "paper_bgcolor": "white",
          "plot_bgcolor": "#E5ECF6",
          "polar": {
           "angularaxis": {
            "gridcolor": "white",
            "linecolor": "white",
            "ticks": ""
           },
           "bgcolor": "#E5ECF6",
           "radialaxis": {
            "gridcolor": "white",
            "linecolor": "white",
            "ticks": ""
           }
          },
          "scene": {
           "xaxis": {
            "backgroundcolor": "#E5ECF6",
            "gridcolor": "white",
            "gridwidth": 2,
            "linecolor": "white",
            "showbackground": true,
            "ticks": "",
            "zerolinecolor": "white"
           },
           "yaxis": {
            "backgroundcolor": "#E5ECF6",
            "gridcolor": "white",
            "gridwidth": 2,
            "linecolor": "white",
            "showbackground": true,
            "ticks": "",
            "zerolinecolor": "white"
           },
           "zaxis": {
            "backgroundcolor": "#E5ECF6",
            "gridcolor": "white",
            "gridwidth": 2,
            "linecolor": "white",
            "showbackground": true,
            "ticks": "",
            "zerolinecolor": "white"
           }
          },
          "shapedefaults": {
           "line": {
            "color": "#2a3f5f"
           }
          },
          "ternary": {
           "aaxis": {
            "gridcolor": "white",
            "linecolor": "white",
            "ticks": ""
           },
           "baxis": {
            "gridcolor": "white",
            "linecolor": "white",
            "ticks": ""
           },
           "bgcolor": "#E5ECF6",
           "caxis": {
            "gridcolor": "white",
            "linecolor": "white",
            "ticks": ""
           }
          },
          "title": {
           "x": 0.05
          },
          "xaxis": {
           "automargin": true,
           "gridcolor": "white",
           "linecolor": "white",
           "ticks": "",
           "title": {
            "standoff": 15
           },
           "zerolinecolor": "white",
           "zerolinewidth": 2
          },
          "yaxis": {
           "automargin": true,
           "gridcolor": "white",
           "linecolor": "white",
           "ticks": "",
           "title": {
            "standoff": 15
           },
           "zerolinecolor": "white",
           "zerolinewidth": 2
          }
         }
        },
        "xaxis": {
         "anchor": "y",
         "domain": [
          0,
          1
         ],
         "type": "linear"
        },
        "yaxis": {
         "anchor": "x",
         "autorange": "reversed",
         "domain": [
          0,
          1
         ],
         "title": {
          "text": "machine_custom_id"
         },
         "type": "category"
        }
       }
      }
     },
     "metadata": {},
     "output_type": "display_data"
    }
   ],
   "source": [
    "fig = dispatcher.draw_gantt_chart(use_custom_proc_station_id=True, sort_by_proc_station=True)"
   ]
  },
  {
   "cell_type": "code",
   "execution_count": 45,
   "metadata": {},
   "outputs": [
    {
     "data": {
      "text/html": [
       "<div>\n",
       "<style scoped>\n",
       "    .dataframe tbody tr th:only-of-type {\n",
       "        vertical-align: middle;\n",
       "    }\n",
       "\n",
       "    .dataframe tbody tr th {\n",
       "        vertical-align: top;\n",
       "    }\n",
       "\n",
       "    .dataframe thead th {\n",
       "        text-align: right;\n",
       "    }\n",
       "</style>\n",
       "<table border=\"1\" class=\"dataframe\">\n",
       "  <thead>\n",
       "    <tr style=\"text-align: right;\">\n",
       "      <th></th>\n",
       "      <th>custom_id</th>\n",
       "      <th>job</th>\n",
       "      <th>name</th>\n",
       "      <th>job_type</th>\n",
       "      <th>state</th>\n",
       "    </tr>\n",
       "    <tr>\n",
       "      <th>job_id</th>\n",
       "      <th></th>\n",
       "      <th></th>\n",
       "      <th></th>\n",
       "      <th></th>\n",
       "      <th></th>\n",
       "    </tr>\n",
       "  </thead>\n",
       "  <tbody>\n",
       "    <tr>\n",
       "      <th>0</th>\n",
       "      <td>None</td>\n",
       "      <td>Job (J_gen_0)</td>\n",
       "      <td>J_gen_0</td>\n",
       "      <td>Job</td>\n",
       "      <td>WAITING</td>\n",
       "    </tr>\n",
       "    <tr>\n",
       "      <th>1</th>\n",
       "      <td>None</td>\n",
       "      <td>Job (J_gen_1)</td>\n",
       "      <td>J_gen_1</td>\n",
       "      <td>Job</td>\n",
       "      <td>WAITING</td>\n",
       "    </tr>\n",
       "    <tr>\n",
       "      <th>2</th>\n",
       "      <td>None</td>\n",
       "      <td>Job (J_gen_2)</td>\n",
       "      <td>J_gen_2</td>\n",
       "      <td>Job</td>\n",
       "      <td>WAITING</td>\n",
       "    </tr>\n",
       "    <tr>\n",
       "      <th>3</th>\n",
       "      <td>None</td>\n",
       "      <td>Job (J_gen_3)</td>\n",
       "      <td>J_gen_3</td>\n",
       "      <td>Job</td>\n",
       "      <td>WAITING</td>\n",
       "    </tr>\n",
       "    <tr>\n",
       "      <th>4</th>\n",
       "      <td>None</td>\n",
       "      <td>Job (J_gen_4)</td>\n",
       "      <td>J_gen_4</td>\n",
       "      <td>Job</td>\n",
       "      <td>WAITING</td>\n",
       "    </tr>\n",
       "    <tr>\n",
       "      <th>5</th>\n",
       "      <td>None</td>\n",
       "      <td>Job (J_gen_5)</td>\n",
       "      <td>J_gen_5</td>\n",
       "      <td>Job</td>\n",
       "      <td>WAITING</td>\n",
       "    </tr>\n",
       "  </tbody>\n",
       "</table>\n",
       "</div>"
      ],
      "text/plain": [
       "       custom_id            job     name job_type    state\n",
       "job_id                                                    \n",
       "0           None  Job (J_gen_0)  J_gen_0      Job  WAITING\n",
       "1           None  Job (J_gen_1)  J_gen_1      Job  WAITING\n",
       "2           None  Job (J_gen_2)  J_gen_2      Job  WAITING\n",
       "3           None  Job (J_gen_3)  J_gen_3      Job  WAITING\n",
       "4           None  Job (J_gen_4)  J_gen_4      Job  WAITING\n",
       "5           None  Job (J_gen_5)  J_gen_5      Job  WAITING"
      ]
     },
     "execution_count": 45,
     "metadata": {},
     "output_type": "execute_result"
    }
   ],
   "source": [
    "dispatcher.job_db"
   ]
  },
  {
   "attachments": {},
   "cell_type": "markdown",
   "metadata": {},
   "source": [
    "*Priority rules: prototyping*"
   ]
  },
  {
   "cell_type": "code",
   "execution_count": 46,
   "metadata": {},
   "outputs": [],
   "source": [
    "queue = MachInst.logic_queue.copy()"
   ]
  },
  {
   "cell_type": "code",
   "execution_count": 47,
   "metadata": {},
   "outputs": [],
   "source": [
    "ret = queue.tail()\n",
    "ret"
   ]
  },
  {
   "cell_type": "code",
   "execution_count": 48,
   "metadata": {},
   "outputs": [
    {
     "data": {
      "text/plain": [
       "[]"
      ]
     },
     "execution_count": 48,
     "metadata": {},
     "output_type": "execute_result"
    }
   ],
   "source": [
    "qu = queue.as_list()\n",
    "qu"
   ]
  },
  {
   "cell_type": "code",
   "execution_count": 49,
   "metadata": {},
   "outputs": [],
   "source": [
    "q = queue.as_list()"
   ]
  },
  {
   "cell_type": "code",
   "execution_count": 50,
   "metadata": {},
   "outputs": [
    {
     "ename": "IndexError",
     "evalue": "pop from empty list",
     "output_type": "error",
     "traceback": [
      "\u001b[1;31m---------------------------------------------------------------------------\u001b[0m",
      "\u001b[1;31mIndexError\u001b[0m                                Traceback (most recent call last)",
      "Cell \u001b[1;32mIn[50], line 1\u001b[0m\n\u001b[1;32m----> 1\u001b[0m ret \u001b[39m=\u001b[39m q\u001b[39m.\u001b[39;49mpop()\n\u001b[0;32m      2\u001b[0m ret\n",
      "\u001b[1;31mIndexError\u001b[0m: pop from empty list"
     ]
    }
   ],
   "source": [
    "ret = q.pop()\n",
    "ret"
   ]
  },
  {
   "cell_type": "code",
   "execution_count": null,
   "metadata": {},
   "outputs": [],
   "source": [
    "# FIFO is simple pop from the queue\n",
    "job = queue.pop()"
   ]
  },
  {
   "cell_type": "code",
   "execution_count": null,
   "metadata": {},
   "outputs": [],
   "source": [
    "# LIFO is simple pop from the queue's end [-1]\n",
    "job = queue.pop(-1)"
   ]
  },
  {
   "cell_type": "code",
   "execution_count": null,
   "metadata": {},
   "outputs": [],
   "source": [
    "l = queue.as_list()\n",
    "l"
   ]
  },
  {
   "cell_type": "code",
   "execution_count": null,
   "metadata": {},
   "outputs": [],
   "source": [
    "from operator import itemgetter, attrgetter"
   ]
  },
  {
   "cell_type": "code",
   "execution_count": null,
   "metadata": {},
   "outputs": [],
   "source": [
    "for item in l:\n",
    "    print(f\"{item.current_proc_time}\")"
   ]
  },
  {
   "cell_type": "code",
   "execution_count": null,
   "metadata": {},
   "outputs": [],
   "source": [
    "#%%timeit\n",
    "# demo shortest processing time\n",
    "# sort descending and pop last item\n",
    "ret = sorted(queue, key=attrgetter('current_proc_time'), reverse=True)\n",
    "job = ret.pop()\n",
    "# remove job from original queue\n",
    "queue.remove(job)"
   ]
  },
  {
   "cell_type": "code",
   "execution_count": null,
   "metadata": {},
   "outputs": [],
   "source": [
    "env.dispatcher.job_db"
   ]
  },
  {
   "cell_type": "code",
   "execution_count": null,
   "metadata": {},
   "outputs": [],
   "source": [
    "env.dispatcher.op_db"
   ]
  },
  {
   "attachments": {},
   "cell_type": "markdown",
   "metadata": {},
   "source": [
    "[Jump to top](#top)"
   ]
  },
  {
   "attachments": {},
   "cell_type": "markdown",
   "metadata": {},
   "source": [
    "---\n",
    "\n",
    "#### **Adding database approach also to the job dispatcher**\n",
    "**properties**:\n",
    "- job_id\n",
    "- custom_id\n",
    "- job instance\n",
    "- name\n",
    "- product_type (for later implementation of different product types)"
   ]
  },
  {
   "cell_type": "code",
   "execution_count": null,
   "metadata": {},
   "outputs": [],
   "source": []
  },
  {
   "attachments": {},
   "cell_type": "markdown",
   "metadata": {},
   "source": [
    "<a id='dispatcher'></a>"
   ]
  },
  {
   "cell_type": "code",
   "execution_count": 646,
   "metadata": {},
   "outputs": [],
   "source": [
    "class Dispatcher(object):\n",
    "    \n",
    "    def __init__(\n",
    "        self,\n",
    "        env: SimulationEnvironment,\n",
    "        priority_rule: str = 'FIFO',\n",
    "    ) -> None:\n",
    "        \"\"\"\n",
    "        Dispatcher class for given environment (only one dispatcher for each environment)\n",
    "        - different functions to monitor all jobs in the environment\n",
    "        - jobs report back their states to the dispatcher\n",
    "        \"\"\"\n",
    "                \n",
    "        # job data base as simple Pandas DataFrame\n",
    "        # column data types\n",
    "        self._job_prop: dict[str, type] = {\n",
    "            'job_id': int,\n",
    "            'custom_id': object,\n",
    "            'job': object,\n",
    "            'name': str,\n",
    "            'job_type': str,\n",
    "            'state': str,\n",
    "        }\n",
    "        self._job_db: DataFrame = pd.DataFrame(columns=list(self._job_prop.keys()))\n",
    "        self._job_db: DataFrame = self._job_db.astype(self._job_prop)\n",
    "        self._job_db: DataFrame = self._job_db.set_index('job_id')\n",
    "        self._job_lookup_props: set[str] = set(['job_id', 'custom_id', 'name'])\n",
    "        \n",
    "        # operation data base as simple Pandas DataFrame\n",
    "        # column data types\n",
    "        self._op_prop: dict[str, type] = {\n",
    "            'op_id': int,\n",
    "            'job_id': int,\n",
    "            'job_name': str,\n",
    "            'custom_id': object,\n",
    "            'op': object,\n",
    "            'name': str,\n",
    "            'machine': object,\n",
    "            'machine_custom_id': object,\n",
    "            'machine_name': str,\n",
    "            'duration': float,\n",
    "            'start_time': float,\n",
    "            'end_time': float,\n",
    "            'state': str,\n",
    "        }\n",
    "        self._op_db: DataFrame = pd.DataFrame(columns=list(self._op_prop.keys()))\n",
    "        self._op_db: DataFrame = self._op_db.astype(self._op_prop)\n",
    "        self._op_db: DataFrame = self._op_db.set_index('op_id')\n",
    "        self._op_lookup_props: set[str] = set(['op_id', 'job_id', 'custom_id', 'name', 'machine'])\n",
    "                \n",
    "        # register in environment and get EnvID\n",
    "        self._env = env\n",
    "        self._env_id: EnvID = self._env.register_dispatcher(self)\n",
    "        \n",
    "        ########## PERHAPS REWORK\n",
    "        self._disposable_jobs: dict[int, Job] = dict()\n",
    "        self.job_pool: OrderedDict[ObjectID, Job] = OrderedDict()\n",
    "        # managing IDs\n",
    "        self._id_types = set(['job', 'op'])\n",
    "        self._job_id_counter: ObjectID = 0\n",
    "        self._op_id_counter: ObjectID = 0\n",
    "        \n",
    "        # priority rules\n",
    "        self._priority_rules: set[str] = set([\n",
    "            'FIFO',\n",
    "            'LIFO',\n",
    "            'SPT',\n",
    "            'LPT',\n",
    "        ])\n",
    "        # set current priority rule\n",
    "        if priority_rule not in self._priority_rules:\n",
    "            raise ValueError(f\"Priority rule {priority_rule} unknown. Must be one of {self._priority_rules}\")\n",
    "        else:\n",
    "            self._curr_prio_rule = priority_rule\n",
    "    \n",
    "    ### DATA MANAGEMENT\n",
    "    def __repr__(self) -> str:\n",
    "        return f\"Dispatcher(env: {self.env.name()}, EnvID: {self._env_id})\"\n",
    "    \n",
    "    @property\n",
    "    def env_id(self) -> EnvID:\n",
    "        return self._env_id\n",
    "    \n",
    "    @property\n",
    "    def env(self) -> SimulationEnvironment:\n",
    "        return self._env\n",
    "    \n",
    "    @property\n",
    "    def curr_prio_rule(self) -> str:\n",
    "        return self._curr_prio_rule\n",
    "    \n",
    "    @curr_prio_rule.setter\n",
    "    def curr_prio_rule(self, rule) -> None:\n",
    "        if rule not in self._priority_rules:\n",
    "            raise ValueError(f\"Priority rule {rule} unknown. Must be one of {self._priority_rules}\")\n",
    "        else:\n",
    "            self._curr_prio_rule = rule\n",
    "            logger_dispatcher.info(f\"Changed priority rule to {rule}\")\n",
    "    \n",
    "    def _obtain_job_id(self) -> ObjectID:\n",
    "        \"\"\"Simple counter function for managing job IDs\"\"\"\n",
    "        # assign id and set counter up\n",
    "        job_id = self._id_counter\n",
    "        self._id_counter += 1\n",
    "        \n",
    "        return job_id\n",
    "    \n",
    "    def _obtain_op_id(self) -> ObjectID:\n",
    "        \"\"\"Simple counter function for managing operation IDs\"\"\"\n",
    "        # assign id and set counter up\n",
    "        op_id = self._op_id_counter\n",
    "        self._op_id_counter += 1\n",
    "        \n",
    "        return op_id\n",
    "    \n",
    "    def _obtain_load_obj_id(\n",
    "        self,\n",
    "        load_type: str,\n",
    "    ) -> ObjectID:\n",
    "        \"\"\"Simple counter function for managing operation IDs\"\"\"\n",
    "        # assign id and set counter up\n",
    "        \n",
    "        if load_type not in self._id_types:\n",
    "            raise ValueError(f\"Given type {type} not valid. Choose from '{self._id_types}'\")\n",
    "        \n",
    "        match load_type:\n",
    "            case 'job':\n",
    "                ident_no = self._job_id_counter\n",
    "                self._job_id_counter += 1\n",
    "            case 'op':\n",
    "                ident_no = self._op_id_counter\n",
    "                self._op_id_counter += 1\n",
    "        \n",
    "        return ident_no\n",
    "    \n",
    "    ### JOBS ###\n",
    "    def register_job(\n",
    "        self,\n",
    "        obj: Job,\n",
    "        custom_identifier: CustomID | None,\n",
    "        name: str | None,\n",
    "        state: str,\n",
    "    ) -> tuple[SimulationEnvironment, ObjectID, str]:\n",
    "        \"\"\"\n",
    "        registers an job object in the dispatcher instance by assigning an unique id and \n",
    "        adding the object to the associated jobs\n",
    "        \n",
    "        object:     env resource\n",
    "        returns:\n",
    "            env_id: assigned env ID\n",
    "        \"\"\"\n",
    "        # obtain id\n",
    "        job_id = self._obtain_load_obj_id(load_type='job')\n",
    "        \n",
    "        # custom name\n",
    "        if name is None:\n",
    "            name = f'J_gen_{job_id}'\n",
    "        \n",
    "        # new entry for job data base\n",
    "        new_entry: DataFrame = pd.DataFrame({\n",
    "                                'job_id': [job_id],\n",
    "                                'custom_id': [custom_identifier],\n",
    "                                'job': [obj],\n",
    "                                'name': [name],\n",
    "                                'job_type': [obj.job_type],\n",
    "                                'state': state})\n",
    "        new_entry = new_entry.astype(self._job_prop)\n",
    "        new_entry = new_entry.set_index('job_id')\n",
    "        self._job_db = pd.concat([self._job_db, new_entry])\n",
    "        \n",
    "        logger_dispatcher.info(f\"Successfully registered job with JobID {job_id} and name {name}\")\n",
    "        \n",
    "        return self.env, job_id, name\n",
    "    \n",
    "    def release_job(\n",
    "        self,\n",
    "        job: Job,\n",
    "    ) -> None:\n",
    "        \"\"\"\n",
    "        method used to signal the release of the given job\n",
    "        necessary for time statistics\n",
    "        \"\"\"\n",
    "        job.time_entry = self.env.now()\n",
    "        job.is_released = True\n",
    "        \n",
    "        return None\n",
    "    \n",
    "    def update_job_process_info(\n",
    "        self,\n",
    "        job: Job,\n",
    "        preprocess: bool,\n",
    "    ) -> None:\n",
    "        \"\"\"\n",
    "        method to write necessary information before and after processing,\n",
    "        invoked by Infrastructure Objects\n",
    "        \"\"\"\n",
    "        # get current operation of the job instance\n",
    "        current_op = job.current_op\n",
    "        # before processing\n",
    "        if preprocess:\n",
    "            current_op.start_time = self.env.now()\n",
    "            return None\n",
    "        # after processing\n",
    "        else:\n",
    "            # finalise current op\n",
    "            #logger_dispatcher.debug(f\"OP {current_op} is finalised\")\n",
    "            current_op.finalise()\n",
    "            job.num_finished_ops += 1\n",
    "            self\n",
    "            return None\n",
    "    \n",
    "    def update_job_state(\n",
    "        self,\n",
    "        job: Job,\n",
    "        state: str,\n",
    "    ) -> None:\n",
    "        \"\"\"method to update the state of a job in the job database\"\"\"\n",
    "        # update state tracking of the job instance\n",
    "        job.stat_monitor.set_state(state=state)\n",
    "        # update job database\n",
    "        self._job_db.loc[job.job_id, 'state'] = state\n",
    "        # only update operation state if it is not finished\n",
    "        # operations are finished by post-process call to their 'finalise' method\n",
    "        \n",
    "        # update state of the corresponding operation\n",
    "        self.update_operation_state(op=job.current_op, state=state)\n",
    "        \n",
    "        return None\n",
    "    \n",
    "    def update_operation_state(\n",
    "        self,\n",
    "        op: Operation,\n",
    "        state: str,\n",
    "    ) -> None:\n",
    "        \"\"\"method to update the state of a operation in the operation database\"\"\"\n",
    "        # update state tracking of the operation instance\n",
    "        op.stat_monitor.set_state(state=state)\n",
    "        # update operation database\n",
    "        self._op_db.loc[op.op_id, 'state'] = state\n",
    "        \n",
    "        return None\n",
    "    \n",
    "    ### OPERATIONS ###\n",
    "    def register_operation(\n",
    "        self,\n",
    "        obj: Operation,\n",
    "        machine_identifier: MachineID,\n",
    "        custom_identifier: CustomID | None,\n",
    "        name: str | None,\n",
    "        state: str,\n",
    "    ) -> tuple[ObjectID, str, Machine]: ##### add machine type later\n",
    "        \"\"\"\n",
    "        registers an operation object in the dispatcher instance by assigning an unique id and \n",
    "        adding the object to the associated operations\n",
    "        \n",
    "        obj: operation to register\n",
    "        machine_identifier: custom ID of the associated machine (user interface)\n",
    "        custom_identifier: custom identifier of the operation \n",
    "            (kept for consistency reasons, perhaps remove later)\n",
    "        name: assigned name the operation\n",
    "        status: for future features if status of operations is tracked\n",
    "        \n",
    "        outputs:\n",
    "        op_id: assigned operation ID\n",
    "        name: assigned name\n",
    "        machine: corresponding machine infrastructure object\n",
    "        \"\"\"\n",
    "        # obtain id\n",
    "        op_id = self._obtain_load_obj_id(load_type='op')\n",
    "        \n",
    "        # custom name\n",
    "        if name is None:\n",
    "            name = f'O_gen_{op_id}'\n",
    "        \n",
    "        # corresponding machine object on which operation is performed\n",
    "        machine = self._env.get_res_obj_by_prop(property='custom_id', val=machine_identifier)\n",
    "        \n",
    "        # new entry for operation data base\n",
    "        new_entry: DataFrame = pd.DataFrame({\n",
    "                                'op_id': [op_id],\n",
    "                                'job_id': [obj.job_id],\n",
    "                                'job_name': [obj.job.name()],\n",
    "                                'custom_id': [custom_identifier],\n",
    "                                'op': [obj],\n",
    "                                'name': [name],\n",
    "                                'machine': [machine],\n",
    "                                'machine_custom_id': [machine.custom_identifier],\n",
    "                                'machine_name': [machine.name()],\n",
    "                                'duration': [obj.proc_time],\n",
    "                                'start_time': [obj.start_time],\n",
    "                                'end_time': [obj.end_time],\n",
    "                                'state': state})\n",
    "        new_entry: DataFrame = new_entry.astype(self._op_prop)\n",
    "        new_entry = new_entry.set_index('op_id')\n",
    "        self._op_db = pd.concat([self._op_db, new_entry])\n",
    "        \n",
    "        logger_dispatcher.info(f\"Successfully registered operation with OpID {op_id} and name {name}\")\n",
    "        \n",
    "        # return machine object\n",
    "        return op_id, name, machine\n",
    "    \n",
    "    def write_op_times(\n",
    "        self,\n",
    "        op_id: ObjectID,\n",
    "    ) -> None:\n",
    "        \"\"\"\n",
    "        add start and end time information to the operation database \n",
    "        \"\"\"\n",
    "        # get operation instance\n",
    "        curr_op: Operation = self._op_db.loc[op_id, 'op']\n",
    "        # write operation properties to operation database\n",
    "        self._op_db.loc[op_id, 'start_time'] = curr_op.start_time\n",
    "        self._op_db.loc[op_id, 'end_time'] = curr_op.end_time\n",
    "    \n",
    "    ### PROPERTIES ###\n",
    "    @property\n",
    "    def job_db(self) -> DataFrame:\n",
    "        \"\"\"\n",
    "        obtain a current overview of registered jobs in the environment\n",
    "        \"\"\"\n",
    "        return self._job_db\n",
    "    \n",
    "    @property\n",
    "    def op_db(self) -> DataFrame:\n",
    "        \"\"\"\n",
    "        obtain a current overview of registered operations in the environment\n",
    "        \"\"\"\n",
    "        return self._op_db\n",
    "\n",
    "    #@lru_cache(maxsize=200)\n",
    "    def get_job_obj_by_prop(\n",
    "        self, \n",
    "        val: EnvID | CustomID | str,\n",
    "        property: str = 'job_id',\n",
    "        target_prop: str = 'job',\n",
    "    ) -> Job:\n",
    "        \"\"\"\n",
    "        obtain a job object from the dispatcher by its property and corresponding value\n",
    "        properties: job_id, custom_id, name\n",
    "        \"\"\"\n",
    "        # check if property is a filter criterion\n",
    "        if property not in self._job_lookup_props:\n",
    "            raise IndexError(f\"Property '{property}' is not allowed. Choose from {self._job_lookup_props}\")\n",
    "        # None type value can not be looked for\n",
    "        if val is None:\n",
    "            raise TypeError(\"The lookup value can not be of type 'None'.\")\n",
    "        \n",
    "        # filter resource database for prop-value pair\n",
    "        if property == 'job_id':\n",
    "            # direct indexing for ID property; job_id always unique, no need for duplicate check\n",
    "            try:\n",
    "                temp1: Job = self._job_db.loc[val, target_prop]\n",
    "                return temp1\n",
    "            except KeyError:\n",
    "                raise IndexError(f\"There were no jobs found for the property '{property}' \\\n",
    "                                with the value '{val}'\")\n",
    "        else:\n",
    "            temp1: Series = self._job_db.loc[self._job_db[property] == val, target_prop]\n",
    "            # check for empty search result, at least one result necessary\n",
    "            if len(temp1) == 0:\n",
    "                raise IndexError(f\"There were no jobs found for the property '{property}' \\\n",
    "                                with the value '{val}'\")\n",
    "            # check for multiple entries with same prop-value pair\n",
    "            ########### PERHAPS CHANGE NECESSARY\n",
    "            ### multiple entries but only one returned --> prone to errors\n",
    "            elif len(temp1) > 1:\n",
    "                # warn user\n",
    "                logger_dispatcher.warning(f\"CAUTION: There are multiple jobs which share the \\\n",
    "                            same value '{val}' for the property '{property}'. \\\n",
    "                            Only the first entry is returned.\")\n",
    "            \n",
    "            return temp1.iat[0]\n",
    "    \n",
    "    ### ROUTING LOGIC ###\n",
    "    def request_job_allocation(\n",
    "        self,\n",
    "        job: Job,\n",
    "    ) -> InfrastructureObject | None:\n",
    "        \"\"\"\n",
    "        request an allocation decision for the given job \n",
    "        (determine the next processing station on which the job shall be placed)\n",
    "        requester: output side infrastructure object\n",
    "        request for: infrastructure object instance\n",
    "        \"\"\"\n",
    "        # SIGNALING ALLOCATION DECISION\n",
    "        # (ONLY IF PARALLEL PROCESSING STATIONS EXIST)\n",
    "        ## theoretically: obtaining next operation --> information about machine group -->\n",
    "        ## based on machine group: choice of corresponding allocation agent -->\n",
    "        ## preparing feature vectors as input --> trigger agent decision -->\n",
    "        ## map decision to processing station\n",
    "        \n",
    "        logger_dispatcher.info(f\"[DISPATCHER: {self}] REQUEST TO DISPATCHER FOR ALLOCATION\")\n",
    "        \n",
    "        # get the next operation of the job\n",
    "        if job.open_operations:\n",
    "            next_op = job.get_next_operation()\n",
    "            target_station = next_op.target_machine\n",
    "        # all operations done, look for sinks\n",
    "        else:\n",
    "            next_op = None\n",
    "            sinks = list(self.env.sinks)\n",
    "            # [PERHAPS CHANGE IN FUTURE]\n",
    "            # use first sink of the registered ones\n",
    "            target_station = sinks[0]\n",
    "        \n",
    "        logger_dispatcher.debug(f\"[DISPATCHER: {self}] Next operation is {next_op} with machine group (machine) {target_station}\")\n",
    "        \n",
    "        return target_station\n",
    "           \n",
    "    def request_job_sequencing(\n",
    "        self,\n",
    "        req_obj: ProcessingStation\n",
    "    ) -> Job:\n",
    "        \"\"\"\n",
    "        request a sequencing decision for a given queue of the requesting resource\n",
    "        requester: input side processing stations\n",
    "        request for: job instance\n",
    "        \n",
    "        req_obj: requesting object (ProcessingStation)\n",
    "        \"\"\"\n",
    "        # SIGNALING SEQUENCING DECISION\n",
    "        # (ONLY IF MULTIPLE JOBS IN THE QUEUE EXIST)\n",
    "        ## theoretically: get logic queue of requesting object --> information about feasible jobs -->\n",
    "        ## [*] choice of sequencing agent (based on which properties?) --> preparing feature vector as input -->\n",
    "        ## trigger agent decision --> map decision to feasible jobs\n",
    "        ## [*] use implemented priority rules as intermediate step\n",
    "        \n",
    "        logger_dispatcher.debug(f\"[DISPATCHER: {self}] REQUEST TO DISPATCHER FOR SEQUENCING\")\n",
    "        \n",
    "        # get logic queue of requesting object\n",
    "        # contains all feasible jobs for this resource\n",
    "        logic_queue = req_obj.logic_queue\n",
    "        # get job from logic queue with currently defined priority rule\n",
    "        job = self.seq_priority_rule(queue=logic_queue)\n",
    "        \n",
    "        return job\n",
    "    \n",
    "    def seq_priority_rule(\n",
    "        self,\n",
    "        queue: Queue,\n",
    "    ) -> Job:\n",
    "        \"\"\"apply priority rules to a pool of jobs\"\"\"\n",
    "        match self._curr_prio_rule:\n",
    "            case 'FIFO':\n",
    "                job = queue.pop()\n",
    "            case 'LIFO':\n",
    "                job = queue.pop(-1)\n",
    "            case 'SPT':\n",
    "                # sort descending and pop last item\n",
    "                temp = queue.as_list()\n",
    "                temp = sorted(temp, key=attrgetter('current_proc_time'), reverse=True)\n",
    "                job: Job = temp.pop()\n",
    "                # remove job from original queue\n",
    "                queue.remove(job)\n",
    "            case 'LPT':\n",
    "                # sort asscending and pop last item\n",
    "                temp = queue.as_list()\n",
    "                temp = sorted(temp, key=attrgetter('current_proc_time'), reverse=False)\n",
    "                job: Job = temp.pop()\n",
    "                # remove job from original queue\n",
    "                queue.remove(job)\n",
    "                \n",
    "        return job\n",
    "    \n",
    "    ### ANALYSE ###\n",
    "    def draw_gantt_chart(\n",
    "        self,\n",
    "        use_custom_proc_station_id: bool = True,\n",
    "        sort_by_proc_station: bool = False,\n",
    "        sort_ascending: bool = True,\n",
    "        save_img: bool = False,\n",
    "        save_html: bool = False,\n",
    "        file_name: str = 'gantt_chart',\n",
    "    ) -> PlotlyFigure:\n",
    "        \"\"\"\n",
    "        draw a Gantt chart based on the dispatcher's operation database\n",
    "        use_custom_machine_id: whether to use the custom IDs of the processing station (True) or its name (False)\n",
    "        sort_by_proc_station: whether to sort by processing station property (True) or by job name (False) \\\n",
    "            default: False\n",
    "        sort_ascending: whether to sort in ascending (True) or descending order (False) \\\n",
    "            default: True\n",
    "        use_duration: plot each operation with its scheduled duration instead of the delta time \\\n",
    "            between start and end; if there were no interruptions both methods return the same results \\\n",
    "            default: False\n",
    "        \"\"\"\n",
    "        # filter operation DB for relevant information\n",
    "        df = self._op_db.filter(items=['job_name', 'machine_custom_id', 'machine_name', 'start_time', 'end_time', 'duration'])\n",
    "        # calculate delta time between start and end\n",
    "        df['delta'] = df['end_time'] - df['start_time']\n",
    "        \n",
    "        # sorting\n",
    "        sort_key: str = ''\n",
    "        # chose relevant processing station property\n",
    "        proc_station_prop: str = ''\n",
    "        if use_custom_proc_station_id:\n",
    "            proc_station_prop = 'machine_custom_id'\n",
    "        else:\n",
    "            proc_station_prop = 'machine_name'\n",
    "        \n",
    "        # check if sorting by processing station is wanted and custom ID should be used or not\n",
    "        if sort_by_proc_station:\n",
    "            sort_key = proc_station_prop\n",
    "        else:\n",
    "            sort_key = 'job_name' \n",
    "        \n",
    "        df = df.sort_values(by=sort_key, ascending=sort_ascending, kind='stable')\n",
    "        \n",
    "        # build Gantt chart with Plotly Timeline\n",
    "        fig: PlotlyFigure = px.timeline(df, x_start='start_time', x_end='end_time', \n",
    "                          y=proc_station_prop, color='job_name')\n",
    "        fig.update_yaxes(type='category', autorange='reversed')\n",
    "        fig.update_xaxes(type='linear')\n",
    "\n",
    "        # reset axis scale for every figure element\n",
    "        # https://stackoverflow.com/questions/66078893/plotly-express-timeline-for-gantt-chart-with-integer-xaxis\n",
    "        for d in fig.data:\n",
    "            filt = df['job_name'] == d.name\n",
    "            d.x = df.loc[filt, 'delta']\n",
    "\n",
    "        fig.show()\n",
    "        \n",
    "        if save_html:\n",
    "            file = f'{file_name}.html'\n",
    "            fig.write_html(file)\n",
    "        \n",
    "        if save_img:\n",
    "            file = f'{file_name}.svg'\n",
    "            fig.write_image(file)\n",
    "        \n",
    "        return fig\n",
    "    \n",
    "    ### DISPOSABLE JOBS\n",
    "    ### STILL NECESSARY???\n",
    "    def add_disposable_job(\n",
    "        self,\n",
    "        job: Job,\n",
    "    ) -> None:\n",
    "        \"\"\"\n",
    "        add job to the disposable ones\n",
    "        \"\"\"\n",
    "        self._disposable_jobs[job.job_id] = job\n",
    "    \n",
    "    @property\n",
    "    def disposable_jobs(self) -> dict[int, Job]:\n",
    "        return self._disposable_jobs\n",
    "    \n",
    "    ################# REWORK ##################\n",
    "    ### maybe add a corresponding property in the job DB\n",
    "    def get_disposable_jobs(\n",
    "        self,\n",
    "        job_set: OrderedDict,\n",
    "    ) -> tuple[list[ObjectID], list[Job]]:\n",
    "        \"\"\"\n",
    "        function needs to be reworked, jobs should report back information to a dispatcher instance\n",
    "        (bottom-up instead of top-down)\n",
    "        \"\"\"\n",
    "        #########################################\n",
    "        self._disposable_jobs_ID: list[int] = list()\n",
    "        self._disposable_jobs: list[Job] = list()\n",
    "        \n",
    "        for job_id, job in job_set.items():\n",
    "            if job.is_disposable:\n",
    "                self._disposable_jobs_ID.append(job_id)\n",
    "                self._disposable_jobs.append(job)\n",
    "                \n",
    "        return self._disposable_jobs_ID, self._disposable_jobs"
   ]
  },
  {
   "attachments": {},
   "cell_type": "markdown",
   "metadata": {},
   "source": [
    "[Jump to top](#top)"
   ]
  },
  {
   "cell_type": "code",
   "execution_count": null,
   "metadata": {},
   "outputs": [],
   "source": []
  },
  {
   "attachments": {},
   "cell_type": "markdown",
   "metadata": {},
   "source": [
    "<a id='operation'></a>"
   ]
  },
  {
   "cell_type": "code",
   "execution_count": 647,
   "metadata": {},
   "outputs": [],
   "source": [
    "class Operation(object):\n",
    "    \n",
    "    def __init__(\n",
    "        self,\n",
    "        dispatcher: Dispatcher,\n",
    "        job: Job,\n",
    "        proc_time: float,\n",
    "        machine_identifier: MachineID,\n",
    "        custom_identifier: CustomID | None = None,\n",
    "        name: str | None = None,\n",
    "        state: str = 'INIT',\n",
    "        possible_states: Iterable[str] = (\n",
    "            'INIT',\n",
    "            'FINISH',\n",
    "            'WAITING', \n",
    "            'PROCESSING', \n",
    "            'BLOCKED', \n",
    "            'FAILED', \n",
    "            'PAUSED',\n",
    "        ),\n",
    "        **kwargs,\n",
    "    ) -> None:\n",
    "        \"\"\"\n",
    "        identifier: operation's ID\n",
    "        proc_times: operation's processing times\n",
    "        machine_identifier: ID of machine on which operation is processed\n",
    "        \"\"\"\n",
    "        # !!!!!!!!! perhaps processing times in future multiple entries depending on associated machine\n",
    "        # change of input format necessary, currently only one machine for each operation\n",
    "        # no groups, no differing processing times for different machines \n",
    "        # initialise parent class if available\n",
    "        super().__init__(**kwargs)\n",
    "        \n",
    "        # assert operation information\n",
    "        self._dispatcher = dispatcher\n",
    "        self._job = job\n",
    "        self._job_id = job.job_id\n",
    "        self._machine_identifier = machine_identifier\n",
    "        \n",
    "        # [STATS] Monitoring\n",
    "        self._stat_monitor = Monitor(env=self._dispatcher.env, obj=self, init_state=state, \n",
    "                                possible_states=possible_states, **kwargs)\n",
    "        \n",
    "        # process information\n",
    "        # time characteristics\n",
    "        self.proc_time: float = proc_time\n",
    "        # starting and end points\n",
    "        # in future setting starting points in advance possible\n",
    "        self.start_time: float = 0.\n",
    "        self.end_time: float = 0.\n",
    "        self.is_finished: bool = False\n",
    "        \n",
    "        ########### adding machine instances\n",
    "        ### perhaps adding machine sets if multiple machines possible (machine groups)\n",
    "        # assignment of machine instance by dispatcher\n",
    "        # from dispatcher: op_id, name, target_machine\n",
    "        # register operation instance\n",
    "        current_state = self._stat_monitor.get_current_state()\n",
    "        self._op_id, self.name, self.target_machine = self.dispatcher.register_operation(\n",
    "                                                        obj=self, machine_identifier=self._machine_identifier,\n",
    "                                                        custom_identifier=custom_identifier, name=name, \n",
    "                                                        state=current_state)\n",
    "        \n",
    "    def __repr__(self) -> str:\n",
    "        return f\"Operation(ProcTime: {self.proc_time}, MachineID: {self._machine_identifier})\"    \n",
    "    \n",
    "    @property   \n",
    "    def dispatcher(self) -> Dispatcher:\n",
    "        return self._dispatcher\n",
    "    \n",
    "    @property\n",
    "    def stat_monitor(self) -> Monitor:\n",
    "        return self._stat_monitor\n",
    "    \n",
    "    @property\n",
    "    def op_id(self) -> ObjectID:\n",
    "        return self._op_id\n",
    "    \n",
    "    @property\n",
    "    def job(self) -> Job:\n",
    "        return self._job\n",
    "    \n",
    "    @property\n",
    "    def job_id(self) -> ObjectID:\n",
    "        return self._job_id\n",
    "    \n",
    "    def finalise(self) -> None:\n",
    "        \"\"\"\n",
    "        method to be called at the end of the job's life,\n",
    "        usually run if the operation is finished on a resource object\n",
    "        \"\"\"\n",
    "        # [STATE]\n",
    "        self.is_finished = True\n",
    "        # [STATS]\n",
    "        self.end_time = self._dispatcher.env.now()\n",
    "        \n",
    "        # set finish state for each infrastructure object no matter of which child class\n",
    "        self._dispatcher.update_operation_state(op=self, state='FINISH')\n",
    "        self._dispatcher.write_op_times(op_id=self.op_id)\n",
    "        \n",
    "        # finalise stat gathering\n",
    "        self._stat_monitor.finalise_stats()"
   ]
  },
  {
   "attachments": {},
   "cell_type": "markdown",
   "metadata": {},
   "source": [
    "[Jump to top](#top)"
   ]
  },
  {
   "cell_type": "code",
   "execution_count": null,
   "metadata": {},
   "outputs": [],
   "source": []
  },
  {
   "cell_type": "code",
   "execution_count": null,
   "metadata": {},
   "outputs": [],
   "source": []
  },
  {
   "attachments": {},
   "cell_type": "markdown",
   "metadata": {},
   "source": [
    "<a id='job'></a>"
   ]
  },
  {
   "cell_type": "code",
   "execution_count": 648,
   "metadata": {},
   "outputs": [],
   "source": [
    "class Job(sim.Component):\n",
    "    \n",
    "    def __init__(\n",
    "        self,\n",
    "        dispatcher: Dispatcher,\n",
    "        proc_times: list[float],\n",
    "        machine_order: list[MachineID],\n",
    "        custom_identifier: CustomID | None = None,\n",
    "        name: str | None = None,\n",
    "        state: str = 'INIT',\n",
    "        possible_states: Iterable[str] = (\n",
    "            'INIT',\n",
    "            'FINISH',\n",
    "            'WAITING', \n",
    "            'PROCESSING', \n",
    "            'BLOCKED', \n",
    "            'FAILED', \n",
    "            'PAUSED',\n",
    "        ),\n",
    "        **kwargs,\n",
    "    ) -> None:\n",
    "        \"\"\"\n",
    "        ############## ADD DESCRIPTION\n",
    "        \"\"\"\n",
    "        ### BASIC INFORMATION ###\n",
    "        # assert job information\n",
    "        self.custom_identifier = custom_identifier\n",
    "        self.job_type: str = 'Job'\n",
    "        self._dispatcher = dispatcher\n",
    "        \n",
    "        # [STATS] Monitoring\n",
    "        self._stat_monitor = Monitor(env=self._dispatcher.env, obj=self, init_state=state, \n",
    "                                possible_states=possible_states, **kwargs)\n",
    "        \n",
    "        # register job instance\n",
    "        current_state = self._stat_monitor.get_current_state()\n",
    "        env, self._job_id, name = self._dispatcher.register_job(\n",
    "                                    obj=self, custom_identifier=self.custom_identifier,\n",
    "                                    name=name, state=current_state)\n",
    "        \n",
    "        # intialize base class\n",
    "        super().__init__(env=env, name=name, process='', **kwargs)\n",
    "        \n",
    "        # inter-process job state parameters\n",
    "        # first operation scheduled --> released job\n",
    "        self.is_released: bool = False\n",
    "        # job's next operation is disposable\n",
    "        # true for each new job, maybe reworked in future for jobs with\n",
    "        # a start date later than creation date\n",
    "        self.is_disposable: bool = True\n",
    "        # add job to disposable ones\n",
    "        #ret = self.dispatcher.add_disposable_job(self)\n",
    "        # last operation ended --> finished job\n",
    "        self.is_finished: bool = False\n",
    "        \n",
    "        # inter-process time characteristics\n",
    "        self.time_creation: float = self._dispatcher.env.now()\n",
    "        # time of first operation starting point\n",
    "        self.time_entry: float = 0.\n",
    "        # time of last operation ending point\n",
    "        self.time_exit: float = 0.\n",
    "        # lead time\n",
    "        self.lead_time: float = 0.\n",
    "        \n",
    "        # current resource location\n",
    "        self._current_resource: InfrastructureObject | None = None\n",
    "        \n",
    "        ### OPERATIONS ##\n",
    "        self.operations: deque[Operation] = deque()\n",
    "        \n",
    "        for idx, op_proc_time in enumerate(proc_times):\n",
    "            op = Operation(\n",
    "                dispatcher=self._dispatcher,\n",
    "                job=self,\n",
    "                proc_time=op_proc_time,\n",
    "                machine_identifier=machine_order[idx],\n",
    "            )\n",
    "            self.operations.append(op)\n",
    "            \n",
    "        self.open_operations = self.operations.copy()\n",
    "        self.total_num_ops: int = len(self.operations)\n",
    "        self.num_finished_ops: int = 0\n",
    "        # current OP and properties set by function \"get_next_operation\"\n",
    "        self._current_op: Operation | None = None\n",
    "        self._current_proc_time: float | None = None\n",
    "        # rank-like property, set if job enters the infrastructure object\n",
    "        # acts like a counter to allow easy sorting even if queue order is not maintained\n",
    "        self._obj_entry_idx: int | None = None\n",
    "    \n",
    "    @property\n",
    "    def dispatcher(self) -> Dispatcher:\n",
    "        return self._dispatcher\n",
    "    \n",
    "    @property\n",
    "    def stat_monitor(self) -> Monitor:\n",
    "        return self._stat_monitor\n",
    "    \n",
    "    @property\n",
    "    def job_id(self) -> ObjectID:\n",
    "        return self._job_id\n",
    "    \n",
    "    @property\n",
    "    def current_op(self) -> Operation | None:\n",
    "        \"\"\"\n",
    "        returns the current operation of the job\n",
    "        If a job is currently being processed its current operation is \n",
    "        not changed until this operation is finished.\n",
    "        \"\"\"\n",
    "        return self._current_op\n",
    "    \n",
    "    @property\n",
    "    def current_proc_time(self) -> float | None:\n",
    "        \"\"\"\n",
    "        returns the processing time of the current operation\n",
    "        If a job is currently being processed its current processing time is \n",
    "        not changed until this operation is finished.\n",
    "        \"\"\"\n",
    "        return self._current_proc_time\n",
    "    \n",
    "    @property\n",
    "    def obj_entry_idx(self) -> int | None:\n",
    "        \"\"\"\n",
    "        returns the entry index which is set by each infrastructure object\n",
    "        \"\"\"\n",
    "        return self._obj_entry_idx\n",
    "    \n",
    "    @property\n",
    "    def current_resource(self) -> InfrastructureObject | None:\n",
    "        \"\"\"\n",
    "        returns the current resource on which the job lies\n",
    "        \"\"\"\n",
    "        return self._current_resource\n",
    "\n",
    "    @current_resource.setter\n",
    "    def current_resource(\n",
    "        self,\n",
    "        obj: InfrastructureObject\n",
    "    ) -> None:\n",
    "        \"\"\"setting the current resource object which must be of type InfrastructureObject\"\"\"\n",
    "        if not isinstance(obj, InfrastructureObject):\n",
    "            raise TypeError(f\"From {self}: Object >>{obj}<< muste be of type 'InfrastructureObject'\")\n",
    "        else:\n",
    "            self._current_resource = obj\n",
    "    \n",
    "    def get_next_operation(self) -> Operation:\n",
    "        \"\"\"\n",
    "        get next operation\n",
    "        \"\"\"\n",
    "        op = self.open_operations.popleft()\n",
    "        self._current_op = op\n",
    "        self._current_proc_time = op.proc_time\n",
    "        \n",
    "        return op\n",
    "    \n",
    "    def has_job_id(\n",
    "        self,\n",
    "        job_id: ObjectID,\n",
    "    ) -> bool:\n",
    "        \"\"\"\n",
    "        checks whether the current job has the given id\n",
    "        \"\"\"\n",
    "        if self._job_id == job_id:\n",
    "            return True\n",
    "        else:\n",
    "            return False\n",
    "    \n",
    "    def finalise(self) -> None:\n",
    "        \"\"\"\n",
    "        method to be called at the end of the job's life,\n",
    "        usually run by a sink\n",
    "        \"\"\"\n",
    "        # [STATS]\n",
    "        self.time_exit = self._dispatcher.env.now()\n",
    "        self.is_finished = True\n",
    "        self.lead_time = self.time_exit - self.time_entry\n",
    "        \n",
    "        # set finish state for each infrastructure object no matter of which child class\n",
    "        self._dispatcher.update_job_state(job=self, state='FINISH')\n",
    "        \n",
    "        # finalise stat gathering\n",
    "        self._stat_monitor.finalise_stats()"
   ]
  },
  {
   "attachments": {},
   "cell_type": "markdown",
   "metadata": {},
   "source": [
    "[Jump to top](#top)"
   ]
  },
  {
   "cell_type": "code",
   "execution_count": null,
   "metadata": {},
   "outputs": [],
   "source": []
  },
  {
   "cell_type": "code",
   "execution_count": null,
   "metadata": {},
   "outputs": [],
   "source": []
  },
  {
   "attachments": {},
   "cell_type": "markdown",
   "metadata": {},
   "source": [
    "**Link Collection**\n",
    "\n",
    "- [Environment](#environment)\n",
    "- [Machine](#machine)\n",
    "- [Dispatcher](#dispatcher)\n",
    "- [Operation](#operation)\n",
    "- [Job](#job)\n",
    "- [Logic Test](#logic_test)\n",
    "\n",
    "\n",
    "[Jump to top](#top)"
   ]
  },
  {
   "cell_type": "code",
   "execution_count": null,
   "metadata": {},
   "outputs": [],
   "source": []
  }
 ],
 "metadata": {
  "kernelspec": {
   "display_name": "Python 3",
   "language": "python",
   "name": "python3"
  },
  "language_info": {
   "codemirror_mode": {
    "name": "ipython",
    "version": 3
   },
   "file_extension": ".py",
   "mimetype": "text/x-python",
   "name": "python",
   "nbconvert_exporter": "python",
   "pygments_lexer": "ipython3",
   "version": "3.11.3"
  },
  "orig_nbformat": 4
 },
 "nbformat": 4,
 "nbformat_minor": 2
}
