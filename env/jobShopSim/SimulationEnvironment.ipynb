{
 "cells": [
  {
   "cell_type": "code",
   "execution_count": null,
   "metadata": {},
   "outputs": [],
   "source": []
  },
  {
   "attachments": {},
   "cell_type": "markdown",
   "metadata": {},
   "source": [
    "<a id='top'></a>\n",
    "# Table of contents\n",
    "- [Environment](#environment)\n",
    "- [Machine](#machine)\n",
    "- [Dispatcher](#dispatcher)\n",
    "- [Operation](#operation)\n",
    "- [Job](#job)\n",
    "- [Logic Test](#logic_test)"
   ]
  },
  {
   "attachments": {},
   "cell_type": "markdown",
   "metadata": {},
   "source": [
    "# To-Do:\n",
    "- [x] ~~implement routing logic in objects~~\n",
    "- [x] ~~add operation starting and end points~~\n",
    "- [ ] add setting of job/machine states in machine logic\n",
    "- [ ] add sources and sinks\n",
    "    - source: generates new job with given intervals\n",
    "    - sink: destroys jobs and finalises data collection\n",
    "- [ ] add physical buffers\n",
    "- [ ] add Gantt chart visualisation for debugging\n",
    "- [x] ~~register job object in dispatcher~~\n",
    "- [x] ~~register operations in dispatcher~~\n",
    "- [ ] self-marking as disposable by jobs\n",
    "    - includes demarking\n",
    "    - currently only addition implemented\n",
    "- [x] ~~add uniqueness check for custom IDs in resource objects (only interface to user)~~\n",
    "- [x] ~~operations list of jobs as deque~~\n",
    "- [ ] add status info to job DB? (waiting, processing, ...) (disposable = waiting?)\n",
    "    - advantage: \n",
    "        - one central DB with all information, no cluttered information\n",
    "        - simple filtering for jobs by current status incl. disposable jobs\n",
    "- [ ] tracking disjunctive graph model"
   ]
  },
  {
   "cell_type": "code",
   "execution_count": 147,
   "metadata": {},
   "outputs": [],
   "source": [
    "import numpy as np\n",
    "import numpy.typing as npt\n",
    "import simpy\n",
    "import salabim as sim\n",
    "from typing import TypeAlias\n",
    "from collections import OrderedDict\n",
    "from collections import deque\n",
    "import logging\n",
    "import sys\n",
    "import pandas as pd\n",
    "from pandas import DataFrame\n",
    "from pandas import Series\n",
    "from functools import lru_cache\n",
    "from plotly.graph_objs._figure import Figure\n",
    "\n",
    "# type aliases\n",
    "SimPyEnv: TypeAlias = simpy.core.Environment\n",
    "SalabimEnv: TypeAlias = sim.Environment\n",
    "EnvID: TypeAlias = int\n",
    "JobID: TypeAlias = int\n",
    "OpID: TypeAlias = int\n",
    "MachineID: TypeAlias = int | str\n",
    "CustomID: TypeAlias = int | str\n",
    "InfstructObj: TypeAlias = object # better naming in future\n",
    "PlotlyFigure: TypeAlias = Figure\n",
    "\n",
    "# forward reference, referenced before assignment\n",
    "#Job: TypeAlias = 'Job'\n",
    "#Dispatcher: TypeAlias = 'Dispatcher'\n",
    "\n",
    "# logging\n",
    "# IPython compatibility\n",
    "logging.basicConfig(stream=sys.stdout, level=logging.DEBUG)\n",
    "#LOGGING_LEVEL = 'DEBUG'\n",
    "logger = logging.getLogger('base')\n",
    "#logger.setLevel(LOGGING_LEVEL)"
   ]
  },
  {
   "cell_type": "code",
   "execution_count": 2,
   "metadata": {},
   "outputs": [],
   "source": [
    "def gen_rnd_JSSP_inst(\n",
    "    n_jobs: int,\n",
    "    n_machines: int,\n",
    "    seed: int = 42,\n",
    ") -> tuple[int, int, int, npt.NDArray[np.uint16], npt.NDArray[np.uint16], npt.NDArray[np.uint16]]:\n",
    "    \"\"\"\n",
    "    Generates random job shop instance with given number of jobs and machines'\n",
    "    - each job on all machines\n",
    "    - max processing time = 9\n",
    "    \n",
    "    Output:\n",
    "        - n_jobs: number of jobs\n",
    "        - n_machines: number of machines\n",
    "        - n_tasks: number of tasks\n",
    "        - mat_ProcTimes: matrix of processing times | shape=(n_jobs,n_machines)\n",
    "        - mat_JobMachID: matrix of machine IDs per job starting by index 1 | shape=(n_jobs,n_machines)\n",
    "        - mat_OpID: matrix of operation IDs starting by index 1 | shape=(n_jobs,n_machines)\n",
    "    \"\"\"\n",
    "    # generate random process time matrix shape=(n_jobs, n_machines)\n",
    "    np_rnd_gen = np.random.default_rng(seed=seed)\n",
    "    mat_ProcTimes = np_rnd_gen.integers(1, 10, size=(n_jobs,n_machines), dtype=np.uint16)\n",
    "    \n",
    "    # generate randomly shuffled job machine combinations\n",
    "    # machine IDs from 1 to n_machines\n",
    "    temp = np.arange(0, (n_machines), step=1, dtype=np.uint16)\n",
    "    temp = np.expand_dims(temp, axis=0)\n",
    "    # repeat dummy line until number n_jobs is reached\n",
    "    temp = np.repeat(temp, n_jobs, axis=0)\n",
    "    # randomly permute the machine indices job-wise\n",
    "    mat_JobMachID = np_rnd_gen.permuted(temp, axis=1)\n",
    "    \n",
    "    # generate operation ID matrix\n",
    "    n_ops = n_jobs * n_machines\n",
    "    temp2 = np.arange(0, (n_ops), step=1, dtype=np.uint16)\n",
    "    mat_OpID = temp2.reshape(n_jobs, -1)\n",
    "    \n",
    "    return n_jobs, n_machines, n_ops, mat_ProcTimes, mat_JobMachID, mat_OpID"
   ]
  },
  {
   "cell_type": "code",
   "execution_count": 3,
   "metadata": {},
   "outputs": [],
   "source": [
    "(n_jobs, n_machines, n_ops, \n",
    " mat_ProcTimes, mat_JobMachID, mat_OpID) = gen_rnd_JSSP_inst(2,3)"
   ]
  },
  {
   "cell_type": "code",
   "execution_count": 4,
   "metadata": {},
   "outputs": [
    {
     "data": {
      "text/plain": [
       "array([[2, 1, 9],\n",
       "       [7, 9, 6]], dtype=uint16)"
      ]
     },
     "execution_count": 4,
     "metadata": {},
     "output_type": "execute_result"
    }
   ],
   "source": [
    "mat_ProcTimes"
   ]
  },
  {
   "cell_type": "code",
   "execution_count": 5,
   "metadata": {},
   "outputs": [
    {
     "data": {
      "text/plain": [
       "array([[2, 0, 1],\n",
       "       [0, 1, 2]], dtype=uint16)"
      ]
     },
     "execution_count": 5,
     "metadata": {},
     "output_type": "execute_result"
    }
   ],
   "source": [
    "mat_JobMachID"
   ]
  },
  {
   "attachments": {},
   "cell_type": "markdown",
   "metadata": {},
   "source": [
    "##### Brainstorming of ways to import machine names and IDs\n",
    "*Case 1: only names are given*\n",
    "- read machine names and assert IDs to them\n",
    "- build data structure with name and ID bundled (maybe as property of a machine class)\n",
    "\n",
    "*Case 2: IDs are given*\n",
    "- only building data structure with name and ID bundled\n",
    "\n",
    "*Data Structure:*\n",
    "- if only mapping of two pairs in each direction (lookup ID or lookup machine name)\n",
    "    - bi-directional dictionary"
   ]
  },
  {
   "attachments": {},
   "cell_type": "markdown",
   "metadata": {},
   "source": [
    "**for resource objects:**\n",
    "- CustomID may not be of type 'None' because the custom identifiers are the only interface to the end user (EnvID are solely handled inernally)\n",
    "- add checking for uniqueness of custom identifiers necessary, else the mapping of different objects could be ambiguous\n",
    "- jobs and operations can use ambiguous custom IDs --> custom IDs can still be None"
   ]
  },
  {
   "attachments": {},
   "cell_type": "markdown",
   "metadata": {},
   "source": [
    "- dedicated environment class with information on associated resources and jobs\n",
    "- maybe add possibility of using subsystems (bundle of resources with unique identifiers)"
   ]
  },
  {
   "cell_type": "code",
   "execution_count": 6,
   "metadata": {},
   "outputs": [],
   "source": [
    "class SimulationEnvironment(simpy.core.Environment):\n",
    "    Dispatcher: TypeAlias = 'Dispatcher'\n",
    "    \n",
    "    def __init__(\n",
    "        self,\n",
    "        *args,\n",
    "        **kwargs,\n",
    "    ) -> None:\n",
    "        \"\"\"\n",
    "        \n",
    "        \"\"\"\n",
    "        super().__init__(*args, **kwargs)\n",
    "        \n",
    "        # resource data base as simple Pandas DataFrame\n",
    "        self._infstruct_prop: dict[str, type] = {\n",
    "            'env_id': int,\n",
    "            'custom_id': object,\n",
    "            'resource': object,\n",
    "            'name': str,\n",
    "            'res_type': str,\n",
    "        }\n",
    "        self._res_db: DataFrame = pd.DataFrame(columns=list(self._infstruct_prop.keys()))\n",
    "        self._res_db: DataFrame = self._res_db.astype(self._infstruct_prop)\n",
    "        self._res_lookup_props: set[str] = set(['env_id', 'custom_id', 'name'])\n",
    "        \n",
    "        # env identifiers\n",
    "        self._id_counter: EnvID = 0\n",
    "        self._res_custom_identifiers: set[str | int] = set()\n",
    "        \n",
    "        # job dispatcher\n",
    "        self._dispatcher_registered: bool = False\n",
    "        self._dispatcher: Dispatcher = None\n",
    "        \n",
    "        ############## LEGACY CODE\n",
    "        ### legacy code, changed approach to tabular data structure\n",
    "        \"\"\"\n",
    "        self.id_counter: EnvID = 0\n",
    "        self.resources: dict[EnvID, object] = dict()\n",
    "        self._custom_identifiers: set[CustomID] = set()\n",
    "        self._custom_from_env_ids: dict[EnvID, CustomID] = dict()\n",
    "        self._custom_to_env_ids: dict[CustomID, EnvID] = dict()\n",
    "        \"\"\"\n",
    "        \n",
    "    def _obtain_env_id(self) -> EnvID:\n",
    "        \"\"\"Simple counter function for managing environment IDs\"\"\"\n",
    "        # assign id and set counter up\n",
    "        env_id = self._id_counter\n",
    "        self._id_counter += 1\n",
    "        \n",
    "        return env_id\n",
    "    \n",
    "    def register_dispatcher(\n",
    "        self,\n",
    "        dispatcher: Dispatcher,\n",
    "    ) -> EnvID:\n",
    "        \"\"\"\n",
    "        Registers a dispatcher instance for the environment. Only one instance per environment is allowed.\n",
    "        returns: EnvID for the dispatcher instance\n",
    "        \"\"\"\n",
    "        # obtain env_id\n",
    "        env_id = self._obtain_env_id()\n",
    "        \n",
    "        if not self._dispatcher_registered:\n",
    "            self._dispatcher = dispatcher\n",
    "            self._dispatcher_registered = True\n",
    "            logger.info(f\"Successfully registered dispatcher with EnvID {env_id}\")\n",
    "        else:\n",
    "            raise AssertionError(\"There is already a registered dispatcher instance \\\n",
    "                                 Only one instance per environement is allowed.\")\n",
    "        \n",
    "        return env_id\n",
    "    \n",
    "    @property\n",
    "    def dispatcher(self) -> Dispatcher:\n",
    "        \"\"\"obtain the current registered dispatcher instance of the environment\"\"\"\n",
    "        if self._dispatcher is None:\n",
    "            raise ValueError(\"No Dipsatcher instance registered.\")\n",
    "        else:\n",
    "            return self._dispatcher\n",
    "    \n",
    "    def register_resource(\n",
    "        self,\n",
    "        obj: InfstructObj,\n",
    "        custom_identifier: CustomID,\n",
    "        name: str | None,\n",
    "    ) -> tuple[EnvID, str]:\n",
    "        \"\"\"\n",
    "        registers an infrastructure object in the environment by assigning an unique id and \n",
    "        adding the object to the associated resources of the environment\n",
    "        \n",
    "        object:     env resource\n",
    "        returns:\n",
    "            env_id: assigned env ID\n",
    "        \"\"\"\n",
    "        # check for uniqueness of custom_identifier\n",
    "        # type security\n",
    "        if not isinstance(custom_identifier, (str, int)):\n",
    "            raise TypeError(\"Custom identifier must be of type STR or INT\")\n",
    "        # create check value\n",
    "        if isinstance(custom_identifier, str):\n",
    "            # remove capital letters for checking\n",
    "            check_val = custom_identifier.lower()\n",
    "        else:\n",
    "            check_val = custom_identifier\n",
    "        \n",
    "        # check if value already exists\n",
    "        if check_val in self._res_custom_identifiers:\n",
    "            raise ValueError(f\"The custom identifier {custom_identifier} provided already exists, \\\n",
    "                            but has to be unique.\")\n",
    "        else:\n",
    "            self._res_custom_identifiers.add(check_val)\n",
    "        \n",
    "        # obtain env_id\n",
    "        env_id = self._obtain_env_id()\n",
    "        \n",
    "        # custom name\n",
    "        if name is None:\n",
    "            name = f'M_env_{env_id}'\n",
    "        \n",
    "        # new entry for resource data base\n",
    "        new_entry: DataFrame = pd.DataFrame({\n",
    "                                'env_id': [env_id],\n",
    "                                'custom_id': [custom_identifier],\n",
    "                                'resource': [obj],\n",
    "                                'name': [name],\n",
    "                                'res_type': [obj.res_type]})\n",
    "        new_entry: DataFrame = new_entry.astype(self._infstruct_prop)\n",
    "        self._res_db = pd.concat([self._res_db, new_entry], ignore_index=True)\n",
    "        \n",
    "        logger.info(f\"Successfully registered object with EnvID {env_id} and name {name}\")\n",
    "        \n",
    "        return env_id, name\n",
    "    \n",
    "    @property\n",
    "    def res_db(self) -> DataFrame:\n",
    "        \"\"\"obtain a current overview of registered objects in the environment\"\"\"\n",
    "        return self._res_db\n",
    "\n",
    "    #@lru_cache(maxsize=200)\n",
    "    def get_res_obj_by_prop(\n",
    "        self,\n",
    "        property: str, \n",
    "        val: EnvID | CustomID | str,\n",
    "        target_prop: str = 'resource',\n",
    "    ) -> InfstructObj:\n",
    "        \"\"\"\n",
    "        obtain a resource object from the environment by its property and corresponding value\n",
    "        properties: env_id, custom_id, name\n",
    "        \"\"\"\n",
    "        # check if property is a filter criterion\n",
    "        if property not in self._res_lookup_props:\n",
    "            raise IndexError(f\"Property '{property}' is not allowed. Choose from {self._res_lookup_props}\")\n",
    "        # None type value can not be looked for\n",
    "        if val is None:\n",
    "            raise TypeError(\"The lookup value can not be of type 'None'.\")\n",
    "        \n",
    "        # filter resource database for prop-value pair\n",
    "        temp1: Series = self._res_db.loc[self._res_db[property] == val, target_prop]\n",
    "        # check for empty search result, at least one result necessary\n",
    "        if len(temp1) == 0:\n",
    "            raise IndexError(f\"There were no resources found for the property '{property}' \\\n",
    "                            with the value '{val}'\")\n",
    "        # check for multiple entries with same prop-value pair\n",
    "        ########### PERHAPS CHANGE NECESSARY\n",
    "        ### multiple entries but only one returned --> prone to errors\n",
    "        elif len(temp1) > 1:\n",
    "            # warn user\n",
    "            logger.warning(f\"CAUTION: There are multiple resources which share the \\\n",
    "                        same value '{val}' for the property '{property}'. \\\n",
    "                        Only the first entry is returned.\")\n",
    "        \n",
    "        return temp1.iat[0]\n",
    "    \n",
    "        "
   ]
  },
  {
   "attachments": {},
   "cell_type": "markdown",
   "metadata": {},
   "source": [
    "<a id='environment'></a>\n",
    "**Salabim Env**"
   ]
  },
  {
   "cell_type": "code",
   "execution_count": 7,
   "metadata": {},
   "outputs": [],
   "source": [
    "class SimulationEnvironment(sim.Environment):\n",
    "    Dispatcher: TypeAlias = 'Dispatcher'\n",
    "    \n",
    "    def __init__(\n",
    "        self,\n",
    "        *args,\n",
    "        **kwargs,\n",
    "    ) -> None:\n",
    "        \"\"\"\n",
    "        \n",
    "        \"\"\"\n",
    "        super().__init__(*args, **kwargs)\n",
    "        \n",
    "        # resource data base as simple Pandas DataFrame\n",
    "        self._infstruct_prop: dict[str, type] = {\n",
    "            'env_id': int,\n",
    "            'custom_id': object,\n",
    "            'resource': object,\n",
    "            'name': str,\n",
    "            'res_type': str,\n",
    "        }\n",
    "        self._res_db: DataFrame = pd.DataFrame(columns=list(self._infstruct_prop.keys()))\n",
    "        self._res_db: DataFrame = self._res_db.astype(self._infstruct_prop)\n",
    "        self._res_lookup_props: set[str] = set(['env_id', 'custom_id', 'name'])\n",
    "        \n",
    "        # env identifiers\n",
    "        self._id_counter: EnvID = 0\n",
    "        self._res_custom_identifiers: set[str | int] = set()\n",
    "        \n",
    "        # job dispatcher\n",
    "        self._dispatcher_registered: bool = False\n",
    "        self._dispatcher: Dispatcher = None\n",
    "        \n",
    "        ############## LEGACY CODE\n",
    "        ### legacy code, changed approach to tabular data structure\n",
    "        \"\"\"\n",
    "        self.id_counter: EnvID = 0\n",
    "        self.resources: dict[EnvID, object] = dict()\n",
    "        self._custom_identifiers: set[CustomID] = set()\n",
    "        self._custom_from_env_ids: dict[EnvID, CustomID] = dict()\n",
    "        self._custom_to_env_ids: dict[CustomID, EnvID] = dict()\n",
    "        \"\"\"\n",
    "        self._ultimative_test = pd.DataFrame(columns=['test1', 'test2'])\n",
    "        \n",
    "    def _obtain_env_id(self) -> EnvID:\n",
    "        \"\"\"Simple counter function for managing environment IDs\"\"\"\n",
    "        # assign id and set counter up\n",
    "        env_id = self._id_counter\n",
    "        self._id_counter += 1\n",
    "        \n",
    "        return env_id\n",
    "    \n",
    "    def register_dispatcher(\n",
    "        self,\n",
    "        dispatcher: Dispatcher,\n",
    "    ) -> EnvID:\n",
    "        \"\"\"\n",
    "        Registers a dispatcher instance for the environment. Only one instance per environment is allowed.\n",
    "        returns: EnvID for the dispatcher instance\n",
    "        \"\"\"\n",
    "        # obtain env_id\n",
    "        env_id = self._obtain_env_id()\n",
    "        \n",
    "        if not self._dispatcher_registered:\n",
    "            self._dispatcher = dispatcher\n",
    "            self._dispatcher_registered = True\n",
    "            logger.info(f\"Successfully registered dispatcher with EnvID {env_id}\")\n",
    "        else:\n",
    "            raise AssertionError(\"There is already a registered dispatcher instance \\\n",
    "                                 Only one instance per environement is allowed.\")\n",
    "        \n",
    "        return env_id\n",
    "    \n",
    "    @property\n",
    "    def dispatcher(self) -> Dispatcher:\n",
    "        \"\"\"obtain the current registered dispatcher instance of the environment\"\"\"\n",
    "        if self._dispatcher is None:\n",
    "            raise ValueError(\"No Dipsatcher instance registered.\")\n",
    "        else:\n",
    "            return self._dispatcher\n",
    "    \n",
    "    def register_resource(\n",
    "        self,\n",
    "        obj: InfstructObj,\n",
    "        custom_identifier: CustomID,\n",
    "        name: str | None,\n",
    "    ) ->  tuple[EnvID, str]:\n",
    "        \"\"\"\n",
    "        registers an infrastructure object in the environment by assigning an unique id and \n",
    "        adding the object to the associated resources of the environment\n",
    "        \n",
    "        object:     env resource\n",
    "        returns:\n",
    "            env_id: assigned env ID\n",
    "        \"\"\"\n",
    "        # check for uniqueness of custom_identifier\n",
    "        # type security\n",
    "        if not isinstance(custom_identifier, (str, int)):\n",
    "            raise TypeError(\"Custom identifier must be of type STR or INT\")\n",
    "        # create check value\n",
    "        if isinstance(custom_identifier, str):\n",
    "            # remove capital letters for checking\n",
    "            check_val = custom_identifier.lower()\n",
    "        else:\n",
    "            check_val = custom_identifier\n",
    "        \n",
    "        # check if value already exists\n",
    "        if check_val in self._res_custom_identifiers:\n",
    "            raise ValueError(f\"The custom identifier {custom_identifier} provided already exists, \\\n",
    "                            but has to be unique.\")\n",
    "        else:\n",
    "            self._res_custom_identifiers.add(check_val)\n",
    "        \n",
    "        # obtain env_id\n",
    "        env_id = self._obtain_env_id()\n",
    "        \n",
    "        # custom name\n",
    "        if name is None:\n",
    "            name = f'M_env_{env_id}'\n",
    "        \n",
    "        # new entry for resource data base\n",
    "        new_entry: DataFrame = pd.DataFrame({\n",
    "                                'env_id': [env_id],\n",
    "                                'custom_id': [custom_identifier],\n",
    "                                'resource': [obj],\n",
    "                                'name': [name],\n",
    "                                'res_type': [obj.res_type]})\n",
    "        new_entry: DataFrame = new_entry.astype(self._infstruct_prop)\n",
    "        self._res_db = pd.concat([self._res_db, new_entry], ignore_index=True)\n",
    "        \n",
    "        logger.info(f\"Successfully registered object with EnvID {env_id} and name {name}\")\n",
    "        \n",
    "        return env_id, name\n",
    "    \n",
    "    @property\n",
    "    def res_db(self) -> DataFrame:\n",
    "        \"\"\"obtain a current overview of registered objects in the environment\"\"\"\n",
    "        return self._res_db\n",
    "\n",
    "    #@lru_cache(maxsize=200)\n",
    "    def get_res_obj_by_prop(\n",
    "        self,\n",
    "        property: str, \n",
    "        val: EnvID | CustomID | str,\n",
    "        target_prop: str = 'resource',\n",
    "    ) -> InfstructObj:\n",
    "        \"\"\"\n",
    "        obtain a resource object from the environment by its property and corresponding value\n",
    "        properties: env_id, custom_id, name\n",
    "        \"\"\"\n",
    "        # check if property is a filter criterion\n",
    "        if property not in self._res_lookup_props:\n",
    "            raise IndexError(f\"Property '{property}' is not allowed. Choose from {self._res_lookup_props}\")\n",
    "        # None type value can not be looked for\n",
    "        if val is None:\n",
    "            raise TypeError(\"The lookup value can not be of type 'None'.\")\n",
    "        \n",
    "        # filter resource database for prop-value pair\n",
    "        temp1: Series = self._res_db.loc[self._res_db[property] == val, target_prop]\n",
    "        # check for empty search result, at least one result necessary\n",
    "        if len(temp1) == 0:\n",
    "            raise IndexError(f\"There were no resources found for the property '{property}' \\\n",
    "                            with the value '{val}'\")\n",
    "        # check for multiple entries with same prop-value pair\n",
    "        ########### PERHAPS CHANGE NECESSARY\n",
    "        ### multiple entries but only one returned --> prone to errors\n",
    "        elif len(temp1) > 1:\n",
    "            # warn user\n",
    "            logger.warning(f\"CAUTION: There are multiple resources which share the \\\n",
    "                        same value '{val}' for the property '{property}'. \\\n",
    "                        Only the first entry is returned.\")\n",
    "        \n",
    "        return temp1.iat[0]\n",
    "    \n",
    "    \n",
    "        "
   ]
  },
  {
   "attachments": {},
   "cell_type": "markdown",
   "metadata": {},
   "source": [
    "**Link Collection**\n",
    "\n",
    "- [Environment](#environment)\n",
    "- [Machine](#machine)\n",
    "- [Dispatcher](#dispatcher)\n",
    "- [Operation](#operation)\n",
    "- [Job](#job)\n",
    "- [Logic Test](#logic_test)\n",
    "\n",
    "\n",
    "[Jump to top](#top)"
   ]
  },
  {
   "cell_type": "code",
   "execution_count": null,
   "metadata": {},
   "outputs": [],
   "source": []
  },
  {
   "attachments": {},
   "cell_type": "markdown",
   "metadata": {},
   "source": [
    "<a id='machine'></a>"
   ]
  },
  {
   "cell_type": "code",
   "execution_count": 8,
   "metadata": {},
   "outputs": [],
   "source": [
    "class Machine(sim.Component):\n",
    "    Job: TypeAlias = 'Job'\n",
    "    Operation: TypeAlias = 'Operation'\n",
    "    \n",
    "    def __init__(\n",
    "        self,\n",
    "        env: SimulationEnvironment,\n",
    "        custom_identifier: CustomID,\n",
    "        name: str | None = None,\n",
    "        num_slots: int = 1,\n",
    "        *args,\n",
    "        **kwargs,\n",
    "    ) -> None:\n",
    "        \"\"\"\n",
    "        env:        SimPy Environment in which machine is embedded\n",
    "        num_slots:  capacity of the machine, if multiple processing \n",
    "                    slots available at the same time > 1, default=1\n",
    "        \"\"\"\n",
    "        \n",
    "        \n",
    "        ############# custom identifiers only over env_id\n",
    "        ### associate env_id with custom_id in env\n",
    "        ### lookup env_id of object in environment and obtain custom_id\n",
    "        \n",
    "        \n",
    "        ############# CHECK IF NECESSARY IN FUTURE\n",
    "        \"\"\"\n",
    "        if custom_identifier is not None:\n",
    "            ret = env.register_custom_identifier(\n",
    "                    env_ID=self.env_id, custom_identifier=custom_identifier)\n",
    "        \"\"\"\n",
    "        \n",
    "        \n",
    "        # assert machine information and register object in the environment\n",
    "        #self._env = env\n",
    "        self.res_type: str = 'Machine'\n",
    "        self._env_id, name = env.register_resource(\n",
    "                                obj=self, custom_identifier=custom_identifier,\n",
    "                                name=name)\n",
    "        self.custom_identifier = custom_identifier\n",
    "        \n",
    "        # intialize base class\n",
    "        super().__init__(env=env, name=name, *args, **kwargs)\n",
    "        \n",
    "        # add (logical) buffer\n",
    "        # each resource uses an associated buffer, even if there is none physically available\n",
    "        buff_name = f\"buffer_{self.name()}\"\n",
    "        self.buffer = sim.Queue(name=buff_name, env=self.env)\n",
    "        \n",
    "        # currently processed job\n",
    "        self.current_job_ID: int | None = None\n",
    "        self.current_job: Job | None = None\n",
    "        \n",
    "        # machine state parameters\n",
    "        self.is_occupied: bool = False\n",
    "        self.is_waiting: bool = False\n",
    "        self.is_blocked: bool = False\n",
    "        self.is_failed: bool = False\n",
    "        # maybe for future, curently no working time calendars planned\n",
    "        self.is_paused: bool = False\n",
    "        \n",
    "        # time in state parameters\n",
    "        self.time_occupied: float = 0.\n",
    "        self.time_waiting: float = 0.\n",
    "        self.time_blocked: float = 0.\n",
    "        self.time_failed: float = 0.\n",
    "        \n",
    "        # number of inputs/outputs\n",
    "        self.num_jobs_input: int = 0\n",
    "        self.num_jobs_output: int = 0\n",
    "    \n",
    "    @property\n",
    "    def env_id(self) -> EnvID:\n",
    "        return self._env_id\n",
    "    \"\"\"\n",
    "    @property\n",
    "    def env(self) -> SimulationEnvironment:\n",
    "        return self._env\n",
    "    \"\"\"\n",
    "    \n",
    "    ### STATE SETTING\n",
    "    \n",
    "    def process(self) -> None:\n",
    "        while True:\n",
    "            # initialise state by passivating machines\n",
    "            # machine are activated by jobs\n",
    "            if len(self.buffer) == 0:\n",
    "                yield self.passivate()\n",
    "            print(f\"Machine {self.custom_identifier} is getting job from queue\")\n",
    "            # theoretically request to dispatcher possible\n",
    "            # request job from associated queue\n",
    "            \n",
    "            ### REQUEST TO DISPATCHER (MACHINE SIDE: Sequencing)\n",
    "            # --> job instance\n",
    "            job: Job = self.buffer.pop()\n",
    "            current_op: Operation = job.current_op\n",
    "            # get processing time of the current operation\n",
    "            proc_time: float = current_op.proc_time\n",
    "            \n",
    "            print(f\"[START] job ID {job.job_id} at {self.env.now()} on machine ID {self.custom_identifier} \\\n",
    "                with proc time {proc_time}\")\n",
    "            \n",
    "            # RELEVANT INFORMATION BEFORE PROCESSING\n",
    "            current_op.start_time = self.env.now()\n",
    "            # PROCESSING\n",
    "            yield self.hold(proc_time)\n",
    "            # RELEVANT INFORMATION AFTER PROCESSING\n",
    "            current_op.end_time = self.env.now()\n",
    "            current_op.is_finished = True\n",
    "            job.num_finished_ops += 1\n",
    "            \n",
    "            print(f\"[END] job ID {job.job_id} at {self.env.now()} on machine ID {self.custom_identifier}\")\n",
    "            \n",
    "            # return back control to job instance\n",
    "            job.activate()"
   ]
  },
  {
   "attachments": {},
   "cell_type": "markdown",
   "metadata": {},
   "source": [
    "**Link Collection**\n",
    "\n",
    "- [Environment](#environment)\n",
    "- [Machine](#machine)\n",
    "- [Dispatcher](#dispatcher)\n",
    "- [Operation](#operation)\n",
    "- [Job](#job)\n",
    "- [Logic Test](#logic_test)\n",
    "\n",
    "\n",
    "[Jump to top](#top)"
   ]
  },
  {
   "cell_type": "code",
   "execution_count": 9,
   "metadata": {},
   "outputs": [],
   "source": [
    "(n_jobs, n_machines, n_ops, \n",
    " mat_ProcTimes, mat_JobMachID, mat_OpID) = gen_rnd_JSSP_inst(2,3)"
   ]
  },
  {
   "cell_type": "code",
   "execution_count": 10,
   "metadata": {},
   "outputs": [
    {
     "data": {
      "text/plain": [
       "array([[2, 1, 9],\n",
       "       [7, 9, 6]], dtype=uint16)"
      ]
     },
     "execution_count": 10,
     "metadata": {},
     "output_type": "execute_result"
    }
   ],
   "source": [
    "mat_ProcTimes"
   ]
  },
  {
   "cell_type": "code",
   "execution_count": 11,
   "metadata": {},
   "outputs": [
    {
     "data": {
      "text/plain": [
       "array([[2, 0, 1],\n",
       "       [0, 1, 2]], dtype=uint16)"
      ]
     },
     "execution_count": 11,
     "metadata": {},
     "output_type": "execute_result"
    }
   ],
   "source": [
    "mat_JobMachID"
   ]
  },
  {
   "cell_type": "code",
   "execution_count": 12,
   "metadata": {},
   "outputs": [
    {
     "data": {
      "text/plain": [
       "array([[0, 1, 2],\n",
       "       [3, 4, 5]], dtype=uint16)"
      ]
     },
     "execution_count": 12,
     "metadata": {},
     "output_type": "execute_result"
    }
   ],
   "source": [
    "mat_OpID"
   ]
  },
  {
   "cell_type": "code",
   "execution_count": 13,
   "metadata": {},
   "outputs": [
    {
     "name": "stdout",
     "output_type": "stream",
     "text": [
      "INFO:base:Successfully registered object with EnvID 0 and name M_env_0\n",
      "INFO:base:Successfully registered object with EnvID 1 and name M_env_1\n",
      "INFO:base:Successfully registered object with EnvID 2 and name M_env_2\n"
     ]
    }
   ],
   "source": [
    "env = SimulationEnvironment(name='base')\n",
    "\n",
    "for machine in np.unique(mat_JobMachID):\n",
    "    MachInst = Machine(env=env, custom_identifier=machine.item())"
   ]
  },
  {
   "cell_type": "code",
   "execution_count": 14,
   "metadata": {},
   "outputs": [
    {
     "data": {
      "text/html": [
       "<div>\n",
       "<style scoped>\n",
       "    .dataframe tbody tr th:only-of-type {\n",
       "        vertical-align: middle;\n",
       "    }\n",
       "\n",
       "    .dataframe tbody tr th {\n",
       "        vertical-align: top;\n",
       "    }\n",
       "\n",
       "    .dataframe thead th {\n",
       "        text-align: right;\n",
       "    }\n",
       "</style>\n",
       "<table border=\"1\" class=\"dataframe\">\n",
       "  <thead>\n",
       "    <tr style=\"text-align: right;\">\n",
       "      <th></th>\n",
       "      <th>env_id</th>\n",
       "      <th>custom_id</th>\n",
       "      <th>resource</th>\n",
       "      <th>name</th>\n",
       "      <th>res_type</th>\n",
       "    </tr>\n",
       "  </thead>\n",
       "  <tbody>\n",
       "    <tr>\n",
       "      <th>0</th>\n",
       "      <td>0</td>\n",
       "      <td>0</td>\n",
       "      <td>Machine (M_env_0)</td>\n",
       "      <td>M_env_0</td>\n",
       "      <td>Machine</td>\n",
       "    </tr>\n",
       "    <tr>\n",
       "      <th>1</th>\n",
       "      <td>1</td>\n",
       "      <td>1</td>\n",
       "      <td>Machine (M_env_1)</td>\n",
       "      <td>M_env_1</td>\n",
       "      <td>Machine</td>\n",
       "    </tr>\n",
       "    <tr>\n",
       "      <th>2</th>\n",
       "      <td>2</td>\n",
       "      <td>2</td>\n",
       "      <td>Machine (M_env_2)</td>\n",
       "      <td>M_env_2</td>\n",
       "      <td>Machine</td>\n",
       "    </tr>\n",
       "  </tbody>\n",
       "</table>\n",
       "</div>"
      ],
      "text/plain": [
       "   env_id custom_id           resource     name res_type\n",
       "0       0         0  Machine (M_env_0)  M_env_0  Machine\n",
       "1       1         1  Machine (M_env_1)  M_env_1  Machine\n",
       "2       2         2  Machine (M_env_2)  M_env_2  Machine"
      ]
     },
     "execution_count": 14,
     "metadata": {},
     "output_type": "execute_result"
    }
   ],
   "source": [
    "env.res_db"
   ]
  },
  {
   "cell_type": "code",
   "execution_count": 15,
   "metadata": {},
   "outputs": [
    {
     "data": {
      "text/plain": [
       "SimulationEnvironment (base)"
      ]
     },
     "execution_count": 15,
     "metadata": {},
     "output_type": "execute_result"
    }
   ],
   "source": [
    "env"
   ]
  },
  {
   "cell_type": "code",
   "execution_count": 16,
   "metadata": {},
   "outputs": [
    {
     "data": {
      "text/plain": [
       "SimulationEnvironment (base)"
      ]
     },
     "execution_count": 16,
     "metadata": {},
     "output_type": "execute_result"
    }
   ],
   "source": [
    "MachInst.env"
   ]
  },
  {
   "cell_type": "code",
   "execution_count": 17,
   "metadata": {},
   "outputs": [
    {
     "data": {
      "text/plain": [
       "'M_env_2'"
      ]
     },
     "execution_count": 17,
     "metadata": {},
     "output_type": "execute_result"
    }
   ],
   "source": [
    "MachInst.name()"
   ]
  },
  {
   "cell_type": "code",
   "execution_count": 18,
   "metadata": {},
   "outputs": [
    {
     "data": {
      "text/plain": [
       "Queue (buffer_M_env_2)"
      ]
     },
     "execution_count": 18,
     "metadata": {},
     "output_type": "execute_result"
    }
   ],
   "source": [
    "MachInst.buffer"
   ]
  },
  {
   "cell_type": "code",
   "execution_count": 19,
   "metadata": {},
   "outputs": [],
   "source": [
    "ret = env.get_res_obj_by_prop(property='env_id', val=0)"
   ]
  },
  {
   "cell_type": "code",
   "execution_count": 20,
   "metadata": {},
   "outputs": [
    {
     "data": {
      "text/plain": [
       "'M_env_0'"
      ]
     },
     "execution_count": 20,
     "metadata": {},
     "output_type": "execute_result"
    }
   ],
   "source": [
    "ret.name()"
   ]
  },
  {
   "cell_type": "code",
   "execution_count": 21,
   "metadata": {},
   "outputs": [
    {
     "data": {
      "text/plain": [
       "Queue (buffer_M_env_0)"
      ]
     },
     "execution_count": 21,
     "metadata": {},
     "output_type": "execute_result"
    }
   ],
   "source": [
    "ret.buffer"
   ]
  },
  {
   "attachments": {},
   "cell_type": "markdown",
   "metadata": {},
   "source": [
    "---\n",
    "\n",
    "#### **Adding database approach also to the job dispatcher**\n",
    "**properties**:\n",
    "- job_id\n",
    "- custom_id\n",
    "- job instance\n",
    "- name\n",
    "- product_type (for later implementation of different product types)"
   ]
  },
  {
   "cell_type": "code",
   "execution_count": null,
   "metadata": {},
   "outputs": [],
   "source": []
  },
  {
   "attachments": {},
   "cell_type": "markdown",
   "metadata": {},
   "source": [
    "<a id='dispatcher'></a>"
   ]
  },
  {
   "cell_type": "code",
   "execution_count": 181,
   "metadata": {},
   "outputs": [],
   "source": [
    "class Dispatcher(object):\n",
    "    Dispatcher: TypeAlias = 'Dispatcher'\n",
    "    Job: TypeAlias = 'Job'\n",
    "    Operation: TypeAlias = 'Operation'\n",
    "    \n",
    "    def __init__(\n",
    "        self,\n",
    "        env: SimulationEnvironment,\n",
    "    ) -> None:\n",
    "        \"\"\"\n",
    "        Dispatcher class for given environment (only one dispatcher for each environment)\n",
    "        - different functions to monitor all jobs in the environment\n",
    "        - jobs report back their states to the dispatcher\n",
    "        \"\"\"\n",
    "                \n",
    "        # job data base as simple Pandas DataFrame\n",
    "        # column data types\n",
    "        self._job_prop: dict[str, type] = {\n",
    "            'job_id': int,\n",
    "            'custom_id': object,\n",
    "            'job': object,\n",
    "            'name': str,\n",
    "            'job_type': str,\n",
    "            'status': str,\n",
    "        }\n",
    "        self._job_db: DataFrame = pd.DataFrame(columns=list(self._job_prop.keys()))\n",
    "        self._job_db: DataFrame = self._job_db.astype(self._job_prop)\n",
    "        self._job_db: DataFrame = self._job_db.set_index('job_id')\n",
    "        self._job_lookup_props: set[str] = set(['job_id', 'custom_id', 'name'])\n",
    "        \n",
    "        # operation data base as simple Pandas DataFrame\n",
    "        # column data types\n",
    "        self._op_prop: dict[str, type] = {\n",
    "            'op_id': int,\n",
    "            'job_id': int,\n",
    "            'job_name': str,\n",
    "            'custom_id': object,\n",
    "            'op': object,\n",
    "            'name': str,\n",
    "            'machine': object,\n",
    "            'machine_name': str,\n",
    "            'duration': float,\n",
    "            'start_time': float,\n",
    "            'end_time': float,\n",
    "            'status': str,\n",
    "        }\n",
    "        self._op_db: DataFrame = pd.DataFrame(columns=list(self._op_prop.keys()))\n",
    "        self._op_db: DataFrame = self._op_db.astype(self._op_prop)\n",
    "        self._op_db: DataFrame = self._op_db.set_index('op_id')\n",
    "        self._op_lookup_props: set[str] = set(['op_id', 'job_id', 'custom_id', 'name', 'machine'])\n",
    "                \n",
    "        # register in environment and get EnvID\n",
    "        self._env = env\n",
    "        self._env_id: EnvID = self._env.register_dispatcher(self)\n",
    "        \n",
    "        ########## PERHAPS REWORK\n",
    "        self._disposable_jobs: dict[int, Job] = dict()\n",
    "        self.job_pool: OrderedDict[JobID, Job] = OrderedDict()\n",
    "        # managing IDs\n",
    "        self._id_types = set(['job', 'op'])\n",
    "        self._job_id_counter: JobID = 0\n",
    "        self._op_id_counter: OpID = 0\n",
    "    \n",
    "    @property\n",
    "    def env_id(self) -> EnvID:\n",
    "        return self._env_id\n",
    "    \n",
    "    @property\n",
    "    def env(self) -> SimulationEnvironment:\n",
    "        return self._env\n",
    "    \n",
    "    def _obtain_job_id(self) -> JobID:\n",
    "        \"\"\"Simple counter function for managing job IDs\"\"\"\n",
    "        # assign id and set counter up\n",
    "        job_id = self._id_counter\n",
    "        self._id_counter += 1\n",
    "        \n",
    "        return job_id\n",
    "    \n",
    "    def _obtain_op_id(self) -> OpID:\n",
    "        \"\"\"Simple counter function for managing operation IDs\"\"\"\n",
    "        # assign id and set counter up\n",
    "        op_id = self._op_id_counter\n",
    "        self._op_id_counter += 1\n",
    "        \n",
    "        return op_id\n",
    "    \n",
    "    def _obtain_load_obj_id(\n",
    "        self,\n",
    "        load_type: str,\n",
    "    ) -> JobID | OpID:\n",
    "        \"\"\"Simple counter function for managing operation IDs\"\"\"\n",
    "        # assign id and set counter up\n",
    "        \n",
    "        if load_type not in self._id_types:\n",
    "            raise ValueError(f\"Given type {type} not valid. Choose from '{self._id_types}'\")\n",
    "        \n",
    "        match load_type:\n",
    "            case 'job':\n",
    "                ident_no = self._job_id_counter\n",
    "                self._job_id_counter += 1\n",
    "            case 'op':\n",
    "                ident_no = self._op_id_counter\n",
    "                self._op_id_counter += 1\n",
    "        \n",
    "        return ident_no\n",
    "    \n",
    "    def register_job(\n",
    "        self,\n",
    "        obj: Job,\n",
    "        custom_identifier: CustomID | None,\n",
    "        name: str | None,\n",
    "        status: str | None,\n",
    "    ) -> tuple[SimulationEnvironment, JobID, str]:\n",
    "        \"\"\"\n",
    "        registers an job object in the dispatcher instance by assigning an unique id and \n",
    "        adding the object to the associated jobs\n",
    "        \n",
    "        object:     env resource\n",
    "        returns:\n",
    "            env_id: assigned env ID\n",
    "        \"\"\"\n",
    "        # obtain id\n",
    "        job_id = self._obtain_load_obj_id(load_type='job')\n",
    "        \n",
    "        # custom name\n",
    "        if name is None:\n",
    "            name = f'J_gen_{job_id}'\n",
    "        \n",
    "        # new entry for job data base\n",
    "        new_entry: DataFrame = pd.DataFrame({\n",
    "                                'job_id': [job_id],\n",
    "                                'custom_id': [custom_identifier],\n",
    "                                'job': [obj],\n",
    "                                'name': [name],\n",
    "                                'job_type': [obj.job_type],\n",
    "                                'status': status})\n",
    "        new_entry: DataFrame = new_entry.astype(self._job_prop)\n",
    "        new_entry: DataFrame = new_entry.set_index('job_id')\n",
    "        self._job_db: DataFrame = pd.concat([self._job_db, new_entry])\n",
    "        \n",
    "        logger.info(f\"Successfully registered job with JobID {job_id} and name {name}\")\n",
    "        \n",
    "        return self.env, job_id, name\n",
    "    \n",
    "    def register_operation(\n",
    "        self,\n",
    "        obj: Operation,\n",
    "        machine_identifier: MachineID,\n",
    "        custom_identifier: CustomID | None,\n",
    "        name: str | None,\n",
    "        status: str | None, ###### add status types later\n",
    "    ) -> tuple[OpID, str, Machine]: ##### add machine type later\n",
    "        \"\"\"\n",
    "        registers an operation object in the dispatcher instance by assigning an unique id and \n",
    "        adding the object to the associated operations\n",
    "        \n",
    "        obj: operation to register\n",
    "        machine_identifier: custom ID of the associated machine (user interface)\n",
    "        custom_identifier: custom identifier of the operation \n",
    "            (kept for consistency reasons, perhaps remove later)\n",
    "        name: assigned name the operation\n",
    "        status: for future features if status of operations is tracked\n",
    "        \n",
    "        outputs:\n",
    "        op_id: assigned operation ID\n",
    "        name: assigned name\n",
    "        machine: corresponding machine infrastructure object\n",
    "        \"\"\"\n",
    "        # obtain id\n",
    "        op_id = self._obtain_load_obj_id(load_type='op')\n",
    "        \n",
    "        # custom name\n",
    "        if name is None:\n",
    "            name = f'O_gen_{op_id}'\n",
    "        \n",
    "        # corresponding machine object on which operation is performed\n",
    "        machine = self._env.get_res_obj_by_prop(property='custom_id', val=machine_identifier)\n",
    "        \n",
    "        # new entry for operation data base\n",
    "        new_entry: DataFrame = pd.DataFrame({\n",
    "                                'op_id': [op_id],\n",
    "                                'job_id': [obj.job_id],\n",
    "                                'job_name': [obj.job.name()],\n",
    "                                'custom_id': [custom_identifier],\n",
    "                                'op': [obj],\n",
    "                                'name': [name],\n",
    "                                'machine': [machine],\n",
    "                                'machine_name': [machine.name()],\n",
    "                                'duration': [obj.proc_time],\n",
    "                                'start_time': [obj.start_time],\n",
    "                                'end_time': [obj.end_time],\n",
    "                                'status': status})\n",
    "        new_entry: DataFrame = new_entry.astype(self._op_prop)\n",
    "        new_entry: DataFrame = new_entry.set_index('op_id')\n",
    "        self._op_db: DataFrame = pd.concat([self._op_db, new_entry])\n",
    "        \n",
    "        logger.info(f\"Successfully registered operation with OpID {op_id} and name {name}\")\n",
    "        \n",
    "        # return machine object\n",
    "        return op_id, name, machine\n",
    "    \n",
    "    def write_op_times(\n",
    "        self,\n",
    "        op_id: OpID,\n",
    "    ) -> None:\n",
    "        \"\"\"\n",
    "        add start and end time information to the operation database \n",
    "        \"\"\"\n",
    "        # get operation instance\n",
    "        curr_op: Operation = self._op_db.loc[op_id, 'op']\n",
    "        # write operation properties to operation database\n",
    "        self._op_db.loc[op_id, 'start_time'] = curr_op.start_time\n",
    "        self._op_db.loc[op_id, 'end_time'] = curr_op.end_time\n",
    "    \n",
    "    # special function for custom random generator of JSSP instances\n",
    "    def gen_job_pool_generic(\n",
    "        self,\n",
    "        mat_ProcTimes: npt.NDArray[np.uint16],\n",
    "        mat_JobMachID: npt.NDArray[np.uint16],\n",
    "    ) -> OrderedDict[JobID, Job]:\n",
    "        \"\"\"\n",
    "        function to build a integrated job pool if generic JxM JSSP instances are used\n",
    "        mat_ProcTimes: matrix of processing times | shape=(n_jobs,n_machines)\n",
    "        mat_JobMachID: matrix of machine IDs per job starting by index 1 | shape=(n_jobs,n_machines)\n",
    "        mat_OpID: matrix of operation IDs starting by index 1 | shape=(n_jobs,n_machines)\n",
    "        \"\"\"\n",
    "            \n",
    "        for job_id in range(len(mat_ProcTimes)):\n",
    "            temp1 = mat_ProcTimes[job_id].tolist()\n",
    "            temp2 = mat_JobMachID[job_id].tolist()\n",
    "            JobInst = Job(\n",
    "                dispatcher=self,\n",
    "                proc_times=temp1,\n",
    "                machine_order=temp2,\n",
    "                custom_identifier=None,\n",
    "                name=None,\n",
    "            )\n",
    "            ######### NOT NECESSARY ANYMORE BECAUSE JOBS REGISTER THEMSELVES\n",
    "            # IN THE DISPATCHER INSTANCE AND THERFORE IN THE JOB DATABASE\n",
    "            ######### ADD TO JOB (bottom-up approach) #######################\n",
    "            ### jobs add themselves to job pool\n",
    "            self.job_pool[job_id] = JobInst\n",
    "            \n",
    "        return self.job_pool\n",
    "     \n",
    "    @property\n",
    "    def job_db(self) -> DataFrame:\n",
    "        \"\"\"\n",
    "        obtain a current overview of registered jobs in the environment\n",
    "        \"\"\"\n",
    "        return self._job_db\n",
    "    \n",
    "    @property\n",
    "    def op_db(self) -> DataFrame:\n",
    "        \"\"\"\n",
    "        obtain a current overview of registered operations in the environment\n",
    "        \"\"\"\n",
    "        return self._op_db\n",
    "\n",
    "    #@lru_cache(maxsize=200)\n",
    "    def get_job_obj_by_prop(\n",
    "        self,\n",
    "        property: str, \n",
    "        val: EnvID | CustomID | str,\n",
    "        target_prop: str = 'job',\n",
    "    ) -> Job:\n",
    "        \"\"\"\n",
    "        obtain a job object from the dispatcher by its property and corresponding value\n",
    "        properties: job_id, custom_id, name\n",
    "        \"\"\"\n",
    "        # check if property is a filter criterion\n",
    "        if property not in self._job_lookup_props:\n",
    "            raise IndexError(f\"Property '{property}' is not allowed. Choose from {self._job_lookup_props}\")\n",
    "        # None type value can not be looked for\n",
    "        if val is None:\n",
    "            raise TypeError(\"The lookup value can not be of type 'None'.\")\n",
    "        \n",
    "        # filter resource database for prop-value pair\n",
    "        temp1: Series = self._job_db.loc[self._job_db[property] == val, target_prop]\n",
    "        # check for empty search result, at least one result necessary\n",
    "        if len(temp1) == 0:\n",
    "            raise IndexError(f\"There were no resources found for the property '{property}' \\\n",
    "                            with the value '{val}'\")\n",
    "        # check for multiple entries with same prop-value pair\n",
    "        ########### PERHAPS CHANGE NECESSARY\n",
    "        ### multiple entries but only one returned --> prone to errors\n",
    "        elif len(temp1) > 1:\n",
    "            # warn user\n",
    "            logger.warning(f\"CAUTION: There are multiple resources which share the \\\n",
    "                        same value '{val}' for the property '{property}'. \\\n",
    "                        Only the first entry is returned.\")\n",
    "        \n",
    "        return temp1.iat[0]\n",
    "    \n",
    "    def draw_gantt_chart(\n",
    "        self,\n",
    "        sort_by_machine_name: bool = False,\n",
    "        sort_ascending: bool = True,\n",
    "    ) -> PlotlyFigure:\n",
    "        \"\"\"\n",
    "        draw a Gantt chart based on the dispatcher's operation database\n",
    "        sort_by_machine_name: whether to sort by machine name (True) or by job name (False) \\\n",
    "            default: False\n",
    "        sort_ascending: whether to sort in ascending (True) or descending order (False) \\\n",
    "            default: True\n",
    "        use_duration: plot each operation with its scheduled duration instead of the delta time \\\n",
    "            between start and end; if there were no interruptions both methods return the same results \\\n",
    "            default: False\n",
    "        \"\"\"\n",
    "        # filter operation DB for relevant information\n",
    "        df = self._op_db.filter(items=['job_name', 'machine_name', 'start_time', 'end_time', 'duration'])\n",
    "        # calculate delta time between start and end\n",
    "        df['delta'] = df['end_time'] - df['start_time']\n",
    "        \n",
    "        # sorting\n",
    "        sort_key: str = ''\n",
    "        if sort_by_machine_name:\n",
    "            sort_key = 'machine_name'\n",
    "        else:\n",
    "            sort_key = 'job_name' \n",
    "        \n",
    "        df = df.sort_values(by=sort_key, ascending=sort_ascending, kind='stable')\n",
    "        \n",
    "        # build Gantt chart with Plotly Timeline\n",
    "        fig = px.timeline(df, x_start='start_time', x_end='end_time', \n",
    "                          y='machine_name', color='job_name')\n",
    "        fig.update_yaxes(autorange='reversed')\n",
    "        fig.layout.xaxis.type = 'linear'\n",
    "\n",
    "        # reset axis scale for every figure element\n",
    "        # https://stackoverflow.com/questions/66078893/plotly-express-timeline-for-gantt-chart-with-integer-xaxis\n",
    "        for d in fig.data:\n",
    "            filt = df['job_name'] == d.name\n",
    "            d.x = df.loc[filt, 'delta']\n",
    "\n",
    "        fig.show()\n",
    "        \n",
    "        return fig\n",
    "    \n",
    "    ### DISPOSABLE JOBS\n",
    "    ### STILL NECESSARY???\n",
    "    def add_disposable_job(\n",
    "        self,\n",
    "        job: Job,\n",
    "    ) -> None:\n",
    "        \"\"\"\n",
    "        add job to the disposable ones\n",
    "        \"\"\"\n",
    "        self._disposable_jobs[job.job_id] = job\n",
    "    \n",
    "    @property\n",
    "    def disposable_jobs(self) -> dict[int, Job]:\n",
    "        return self._disposable_jobs\n",
    "    \n",
    "    ################# REWORK ##################\n",
    "    ### maybe add a corresponding property in the job DB\n",
    "    def get_disposable_jobs(\n",
    "        self,\n",
    "        job_set: OrderedDict,\n",
    "    ) -> tuple[list[JobID], list[Job]]:\n",
    "        \"\"\"\n",
    "        function needs to be reworked, jobs should report back information to a dispatcher instance\n",
    "        (bottom-up instead of top-down)\n",
    "        \"\"\"\n",
    "        #########################################\n",
    "        self._disposable_jobs_ID: list[int] = list()\n",
    "        self._disposable_jobs: list[Job] = list()\n",
    "        \n",
    "        for job_id, job in job_set.items():\n",
    "            if job.is_disposable:\n",
    "                self._disposable_jobs_ID.append(job_id)\n",
    "                self._disposable_jobs.append(job)\n",
    "                \n",
    "        return self._disposable_jobs_ID, self._disposable_jobs"
   ]
  },
  {
   "attachments": {},
   "cell_type": "markdown",
   "metadata": {},
   "source": [
    "**Link Collection**\n",
    "\n",
    "- [Environment](#environment)\n",
    "- [Machine](#machine)\n",
    "- [Dispatcher](#dispatcher)\n",
    "- [Operation](#operation)\n",
    "- [Job](#job)\n",
    "- [Logic Test](#logic_test)\n",
    "\n",
    "\n",
    "[Jump to top](#top)"
   ]
  },
  {
   "cell_type": "code",
   "execution_count": null,
   "metadata": {},
   "outputs": [],
   "source": []
  },
  {
   "attachments": {},
   "cell_type": "markdown",
   "metadata": {},
   "source": [
    "### Logic behind simulation model approach\n",
    "*Model of Resource and Load*:\n",
    "- system consists of physical objects, also called infrastructure\n",
    "    - each element can be considered as encapsulated resource\n",
    "- stress can be put on each system by occupying resources, also called load\n",
    "    - definition of load depends on system type and modelling, e.g. production jobs for production systems or customers for cashiers in a shop\n",
    "- load objects are called ***load unit***\n",
    "\n",
    "*Guiding Priciples*:\n",
    "- **load objects** can only be spatially and temporally modified by **resources**\n",
    "    - whole routing logic is implemented in a collaborative manner between resources and load objects\n",
    "        - each load object puts itself in a associated queue\n",
    "        - **but no load object can change its state without a associated resource**\n",
    "    - load objects **contain the necessary information** which is essential for their further processing"
   ]
  },
  {
   "attachments": {},
   "cell_type": "markdown",
   "metadata": {},
   "source": [
    "<a id='operation'></a>"
   ]
  },
  {
   "cell_type": "code",
   "execution_count": 124,
   "metadata": {},
   "outputs": [],
   "source": [
    "class Operation(object):\n",
    "    Job: TypeAlias = 'Job'\n",
    "    Dispatcher: TypeAlias = 'Dispatcher'\n",
    "    \n",
    "    def __init__(\n",
    "        self,\n",
    "        dispatcher: Dispatcher,\n",
    "        job: Job,\n",
    "        proc_time: float,\n",
    "        machine_identifier: MachineID,\n",
    "        custom_identifier: CustomID | None = None,\n",
    "        name: str | None = None,\n",
    "        status: str | None = None,\n",
    "    ) -> None:\n",
    "        \"\"\"\n",
    "        identifier: operation's ID\n",
    "        proc_times: operation's processing times\n",
    "        machine_identifier: ID of machine on which operation is processed\n",
    "        \"\"\"\n",
    "        # !!!!!!!!! perhaps processing times in future multiple entries depending on associated machine\n",
    "        # change of input format necessary, currently only one machine for each operation\n",
    "        # no groups, no differing processing times for different machines \n",
    "\n",
    "        # assert operation information\n",
    "        self._dispatcher = dispatcher\n",
    "        self._job = job\n",
    "        self._job_id = job.job_id\n",
    "        \n",
    "        # process information\n",
    "        # processing time\n",
    "        self.proc_time: float = proc_time\n",
    "        # starting and end points\n",
    "        # in future setting starting points in advance possible\n",
    "        self.start_time: float = 0.\n",
    "        self.end_time: float = 0.\n",
    "        self.is_finished: bool = False\n",
    "        \n",
    "        ########### adding machine instances\n",
    "        ### perhaps adding machine sets if multiple machines possible (machine groups)\n",
    "        ### assignment of machine instance by dispatcher\n",
    "        # from dispatcher: op_id, name, target_machine\n",
    "        self._op_id, self.name, self.target_machine = self.dispatcher.register_operation(\n",
    "                                                        obj=self, machine_identifier=machine_identifier,\n",
    "                                                        custom_identifier=custom_identifier, name=name, \n",
    "                                                        status=status)  \n",
    "        \n",
    "    @property   \n",
    "    def dispatcher(self) -> Dispatcher:\n",
    "        return self._dispatcher\n",
    "    \n",
    "    @property\n",
    "    def op_id(self) -> OpID:\n",
    "        return self._op_id\n",
    "    \n",
    "    @property\n",
    "    def job(self) -> Job:\n",
    "        return self._job\n",
    "    \n",
    "    @property\n",
    "    def job_id(self) -> JobID:\n",
    "        return self._job_id"
   ]
  },
  {
   "attachments": {},
   "cell_type": "markdown",
   "metadata": {},
   "source": [
    "**Link Collection**\n",
    "\n",
    "- [Environment](#environment)\n",
    "- [Machine](#machine)\n",
    "- [Dispatcher](#dispatcher)\n",
    "- [Operation](#operation)\n",
    "- [Job](#job)\n",
    "- [Logic Test](#logic_test)\n",
    "\n",
    "\n",
    "[Jump to top](#top)"
   ]
  },
  {
   "cell_type": "code",
   "execution_count": null,
   "metadata": {},
   "outputs": [],
   "source": []
  },
  {
   "attachments": {},
   "cell_type": "markdown",
   "metadata": {},
   "source": [
    "<a id='job'></a>"
   ]
  },
  {
   "cell_type": "code",
   "execution_count": 125,
   "metadata": {},
   "outputs": [],
   "source": [
    "class Job(sim.Component):\n",
    "    Job: TypeAlias = 'Job'\n",
    "    Dispatcher: TypeAlias = 'Dispatcher'\n",
    "    \n",
    "    def __init__(\n",
    "        self,\n",
    "        dispatcher: Dispatcher,\n",
    "        proc_times: list[float],\n",
    "        machine_order: list[int],\n",
    "        custom_identifier: CustomID | None = None,\n",
    "        name: str | None = None,\n",
    "        status: str | None = None,\n",
    "        *args,\n",
    "        **kwargs,\n",
    "    ) -> None:\n",
    "        \"\"\"\n",
    "        ############## ADD DESCRIPTION\n",
    "        \"\"\"\n",
    "        ### BASIC INFORMATION ###\n",
    "        # assert job information\n",
    "        self.custom_identifier = custom_identifier\n",
    "        self.job_type: str = 'Job'\n",
    "        self._dispatcher = dispatcher\n",
    "        \n",
    "        ### register job instance\n",
    "        env, self._job_id, name = self._dispatcher.register_job(\n",
    "                                    obj=self, custom_identifier=self.custom_identifier,\n",
    "                                    name=name, status=status)\n",
    "        \n",
    "        # intialize base class\n",
    "        super().__init__(env=env, name=name, *args, **kwargs)\n",
    "        \n",
    "        ### OPERATIONS ##\n",
    "        self.operations = deque()\n",
    "        \n",
    "        for idx, op_proc_time in enumerate(proc_times):\n",
    "            Op = Operation(\n",
    "                dispatcher=self._dispatcher,\n",
    "                job=self,\n",
    "                proc_time=op_proc_time,\n",
    "                machine_identifier=machine_order[idx],\n",
    "            )\n",
    "            self.operations.append(Op)\n",
    "            \n",
    "        self.open_operations = self.operations.copy()\n",
    "        self.total_num_ops: int = len(self.operations)\n",
    "        self.num_finished_ops: int = 0\n",
    "        self._current_op: Operation = self.operations[0]\n",
    "        \n",
    "        ### STATE ###\n",
    "        # intra-process job state parameters\n",
    "        # job is being processed, maybe better naming in future\n",
    "        self.is_occupied: bool = False\n",
    "        # waiting state only when released\n",
    "        self.is_waiting: bool = False\n",
    "        # if lying on failed machine\n",
    "        self.is_failed: bool = False\n",
    "        \n",
    "        # intra-process time characteristics\n",
    "        self.time_occupied: float = 0.\n",
    "        self.time_waiting: float = 0.\n",
    "        self.time_failed: float = 0.\n",
    "        \n",
    "        # inter-process job state parameters\n",
    "        # first operation scheduled --> released job\n",
    "        self.is_released: bool = False\n",
    "        # job's next operation is disposable\n",
    "        # true for each new job, maybe reworked in future for jobs with\n",
    "        # a start date later than creation date\n",
    "        self.is_disposable: bool = True\n",
    "        # add job to disposable ones\n",
    "        ret = self.dispatcher.add_disposable_job(self)\n",
    "        # last operation ended --> finished job\n",
    "        self.is_finished: bool = False\n",
    "        \n",
    "        # inter-process time characteristics\n",
    "        # time of first operation starting point\n",
    "        self.time_entry: float = 0.\n",
    "        # time of last operation ending point\n",
    "        self.time_exit: float = 0.\n",
    "        \n",
    "        # current resource location\n",
    "        self.current_resource: object | None = None # specify type if class definition finished\n",
    "    \n",
    "    @property\n",
    "    def dispatcher(self) -> Dispatcher:\n",
    "        return self._dispatcher\n",
    "    \n",
    "    @property\n",
    "    def job_id(self) -> JobID:\n",
    "        return self._job_id\n",
    "    \n",
    "    @property\n",
    "    def current_op(self) -> Operation:\n",
    "        \"\"\"\n",
    "        returns the current operation of the job\n",
    "        If a job is currently being processed its current operation is \n",
    "        not changed until this operation is finished.\n",
    "        \"\"\"\n",
    "        return self._current_op\n",
    "    \n",
    "    def get_next_operation(self) -> Operation:\n",
    "        \"\"\"\n",
    "        get next operation\n",
    "        \"\"\"\n",
    "        op = self.open_operations.popleft()\n",
    "        self._current_op = op\n",
    "        \n",
    "        return op\n",
    "    \n",
    "    def process(self) -> None:\n",
    "        # perform routing as long as there are open operations\n",
    "        # perhaps problem with sinks because there are no final operations for sinks\n",
    "        while len(self.open_operations) != 0:\n",
    "                # get current operation\n",
    "                curr_op = self.get_next_operation()\n",
    "                \n",
    "                ### REQUEST TO DISPATCHER (JOB SIDE: Allocation)\n",
    "                # --> machine instance\n",
    "                # target machine is more like a machine group with parallel machines\n",
    "                machine = curr_op.target_machine\n",
    "                \n",
    "                print(f\"Try putting Job-ID {self.job_id} \\t Operation with ID {curr_op.op_id} \\\n",
    "                    on machine {machine}\")\n",
    "                \n",
    "                #machine = self.dispatcher.get_machine_instance_by_id(machine_id)\n",
    "                #print(f\"Machine instance is {machine}\")\n",
    "                #print(f\"Machine instance is: {machine} and ispassive {machine.ispassive()}\")\n",
    "                \n",
    "                \n",
    "                # entering associated resource queue\n",
    "                self.enter(machine.buffer)\n",
    "                if machine.ispassive():\n",
    "                    machine.activate()\n",
    "                yield self.passivate()\n",
    "                # wait for processing\n",
    "                #print(f\"[END] Time now Job-ID {self.job_id} is {self.env.now()}\")\n",
    "                \n",
    "                # after processing: write operation data\n",
    "                # resource name, start, end, job name\n",
    "                self._dispatcher.write_op_times(op_id=curr_op.op_id)"
   ]
  },
  {
   "attachments": {},
   "cell_type": "markdown",
   "metadata": {},
   "source": [
    "**Link Collection**\n",
    "\n",
    "- [Environment](#environment)\n",
    "- [Machine](#machine)\n",
    "- [Dispatcher](#dispatcher)\n",
    "- [Operation](#operation)\n",
    "- [Job](#job)\n",
    "- [Logic Test](#logic_test)\n",
    "\n",
    "\n",
    "[Jump to top](#top)"
   ]
  },
  {
   "attachments": {},
   "cell_type": "markdown",
   "metadata": {},
   "source": [
    "---\n",
    "#### Test simulation logic\n",
    "- first main goal: execution of a generic example in a simple job shop with single machines and FIFO order"
   ]
  },
  {
   "cell_type": "code",
   "execution_count": 114,
   "metadata": {},
   "outputs": [],
   "source": [
    "class TestDispatcher():\n",
    "    def __init__(self) -> None:\n",
    "        pass\n",
    "    \n",
    "    def add_dicts(self, job_dict, machine_dict):\n",
    "        self.job_dict = job_dict\n",
    "        self.machine_dict = machine_dict\n",
    "        \n",
    "    def get_machine_instance_by_id(self, ident):\n",
    "        return self.machine_dict[ident]"
   ]
  },
  {
   "cell_type": "code",
   "execution_count": 115,
   "metadata": {},
   "outputs": [
    {
     "data": {
      "text/plain": [
       "'buffer_M_env_2'"
      ]
     },
     "execution_count": 115,
     "metadata": {},
     "output_type": "execute_result"
    }
   ],
   "source": [
    "f\"buffer_{MachInst.name()}\""
   ]
  },
  {
   "cell_type": "code",
   "execution_count": 39,
   "metadata": {},
   "outputs": [],
   "source": [
    "class TestMachine(sim.Component):\n",
    "    def __init__(self, machine_id, environment, *args, **kwargs):\n",
    "        super().__init__(env=environment, *args, **kwargs)\n",
    "        self.machine_id = machine_id\n",
    "        self.buffer = sim.Queue(env=environment)\n",
    "        \n",
    "    def process(self):\n",
    "        while True:\n",
    "            #yield self.passivate\n",
    "            if len(self.buffer) == 0:\n",
    "                yield self.passivate\n",
    "            print(\"Machine is getting job from queue\")\n",
    "            # theoretically request to dispatcher possible\n",
    "            job = self.buffer.pop()\n",
    "            pro_time = job.pro_time\n",
    "            print(f\"Machine {self} got Job with ID {job.job_id} and ProcTime {pro_time}\")\n",
    "            #print(f\"Time is {self.env.now()}\")\n",
    "            # processing\n",
    "            self.hold(job.pro_time)\n",
    "            job.activate()\n",
    "    \n",
    "        \n",
    "class TestJob(sim.Component):\n",
    "    def __init__(self, job_id, ops_proc_times, ops_machine_list, dispatcher, environment, machine_list, *args, **kwargs):\n",
    "        super().__init__(env=environment, *args, **kwargs)\n",
    "        self.job_id = job_id\n",
    "        self.ops_proc_times = ops_proc_times.copy()\n",
    "        self.ops_machine_list = ops_machine_list.copy()\n",
    "        self.dispatcher = dispatcher\n",
    "        self.ops_counter = 0\n",
    "        self.pro_time = 5\n",
    "        self.machine_list = machine_list.copy()\n",
    "        \n",
    "    def add_dicts(self, machine_dict):\n",
    "        #self.job_dict = job_dict\n",
    "        self.machine_dict = machine_dict\n",
    "        \n",
    "    def process(self):\n",
    "        print(f\"Job-ID {self.job_id} starts {env.now()}\")\n",
    "        while self.ops_counter < (len(self.ops_proc_times) - 1):\n",
    "            print(\"Get Next operation...\")\n",
    "            #self.pro_time = self.ops_proc_times[self.ops_counter]\n",
    "            machine_id = self.ops_machine_list[self.ops_counter]\n",
    "            print(f\"Operation with ProTime {self.pro_time} on machine {machine_id}\")\n",
    "            print(\"Obtain machine instance...\")\n",
    "            machine = self.dispatcher.get_machine_instance_by_id(machine_id)\n",
    "            #machine = self.machine_dict[machine_id]\n",
    "            #machine = self.machine_list.pop(0)\n",
    "            print(f\"Machine instance is: {machine} and ispassive {machine.ispassive()}\")\n",
    "            \n",
    "            # now enter buffer\n",
    "            self.enter(machine.buffer)\n",
    "            # activate machine if passive\n",
    "            #if machine.ispassive():\n",
    "            machine.activate()\n",
    "            yield self.passivate()\n",
    "            \n",
    "            \n",
    "            self.ops_counter += 1\n",
    "            print(f\"Job-ID {self.job_id} ends {self.env.now()}\")"
   ]
  },
  {
   "cell_type": "code",
   "execution_count": 40,
   "metadata": {},
   "outputs": [],
   "source": [
    "test_dispatcher = TestDispatcher()"
   ]
  },
  {
   "cell_type": "code",
   "execution_count": 41,
   "metadata": {},
   "outputs": [],
   "source": [
    "test_ProcTimes = mat_ProcTimes.copy()\n",
    "#test_ProcTimes = np.expand_dims(test_ProcTimes, 0)\n",
    "\n",
    "test_JobMachID = mat_JobMachID.copy()\n",
    "#test_JobMachID = np.expand_dims(test_JobMachID, 0)"
   ]
  },
  {
   "cell_type": "code",
   "execution_count": 42,
   "metadata": {},
   "outputs": [],
   "source": [
    "class TestMachine(sim.Component):\n",
    "    def __init__(self, machine_id, env, *args, **kwargs):\n",
    "        super().__init__(env=env, *args, **kwargs)\n",
    "        self.machine_id = machine_id\n",
    "        self.buffer = sim.Queue(env=env)\n",
    "    \n",
    "    def process(self):\n",
    "        while True:\n",
    "            if len(self.buffer) == 0:\n",
    "                yield self.passivate()\n",
    "            job = self.buffer.pop()\n",
    "            proc_time = job.proc_time\n",
    "            print(f\"[START] job ID {job.job_id} at {self.env.now()} on machine ID {self.machine_id} with proc time {job.proc_time}\")\n",
    "            yield self.hold(job.proc_time)\n",
    "            print(f\"[END] job ID {job.job_id} at {self.env.now()} on machine ID {self.machine_id}\")\n",
    "            job.activate()\n",
    "\n",
    "class TestJob(sim.Component):\n",
    "    def __init__(self, ident, machine_order, operation_procs, env, dispatcher, *args, **kwargs):\n",
    "        super().__init__(env=env, *args, **kwargs)\n",
    "        #self.machine_id = machine_id\n",
    "        self.machine_list = machine_list.copy()\n",
    "        self.proc_time = None\n",
    "        self.counter = 0\n",
    "        self.operation_procs = operation_procs.copy()\n",
    "        #self.machine_dict = machine_dict.copy()\n",
    "        #self.dict_keys = list(machine_dict.keys())\n",
    "        self.machine_order = machine_order.copy()\n",
    "        self.job_id = ident\n",
    "        self.dispatcher = dispatcher\n",
    "        \n",
    "    def process(self):\n",
    "        while len(self.operation_procs) != 0:\n",
    "            #print(f\"Job-ID {self.job_id} starts {env.now()}\")\n",
    "            print(f\"Job-ID {self.job_id} \\t Operation with ID {self.counter}\")\n",
    "            self.proc_time = self.operation_procs.pop(0)\n",
    "            #machine = machine_list.pop(0)\n",
    "            #machine = self.machine_dict[self.dict_keys[self.counter]]\n",
    "            machine_id = self.machine_order.pop(0)\n",
    "            machine = self.dispatcher.get_machine_instance_by_id(machine_id)\n",
    "            #print(f\"Machine instance is {machine}\")\n",
    "            #print(f\"Machine instance is: {machine} and ispassive {machine.ispassive()}\")\n",
    "            self.enter(machine.buffer)\n",
    "            if machine.ispassive():\n",
    "                machine.activate()\n",
    "            yield self.passivate()\n",
    "            #print(f\"[END] Time now Job-ID {self.job_id} is {self.env.now()}\")\n",
    "            self.counter += 1"
   ]
  },
  {
   "cell_type": "code",
   "execution_count": 43,
   "metadata": {},
   "outputs": [],
   "source": [
    "env = sim.Environment(trace=False)\n",
    "machine_db = dict()\n",
    "job_db = dict()\n",
    "machine_list_inst = list()\n",
    "\n",
    "for machine_id in np.unique(mat_JobMachID):\n",
    "    machine = TestMachine(machine_id=machine_id.item(), env=env)\n",
    "    machine_db[machine_id.item()] = machine\n",
    "    machine_list_inst.append(machine)\n",
    "\n",
    "for job_id, (proc_list, machine_list) in enumerate(zip(test_ProcTimes, test_JobMachID)):\n",
    "    job = TestJob(ident=job_id, machine_order=machine_list.tolist(), operation_procs=proc_list.tolist(), \n",
    "                  dispatcher=test_dispatcher, env=env)\n",
    "    #job.add_dicts(machine_db)\n",
    "    job_db[job_id] = job\n",
    "\"\"\"\n",
    "proc_list = [10,8,6]\n",
    "machine_list = [0,1,2]\n",
    "job_id = 0\n",
    "job = TestJob(ident=job_id, machine_dict=machine_db, operation_procs=proc_list,\n",
    "                  dispatcher=test_dispatcher, env=env)\n",
    "\"\"\"\n",
    "   \n",
    "test_dispatcher.add_dicts(job_db, machine_db)\n"
   ]
  },
  {
   "cell_type": "code",
   "execution_count": 44,
   "metadata": {},
   "outputs": [],
   "source": [
    "ret = job_db[0]"
   ]
  },
  {
   "cell_type": "code",
   "execution_count": null,
   "metadata": {},
   "outputs": [],
   "source": []
  },
  {
   "cell_type": "code",
   "execution_count": null,
   "metadata": {},
   "outputs": [],
   "source": []
  },
  {
   "attachments": {},
   "cell_type": "markdown",
   "metadata": {},
   "source": [
    "<a id='logic_test'></a>\n",
    "#### Test Logic with integrated classes"
   ]
  },
  {
   "cell_type": "code",
   "execution_count": 206,
   "metadata": {},
   "outputs": [],
   "source": [
    "(n_jobs, n_machines, n_ops, \n",
    " mat_ProcTimes, mat_JobMachID, mat_OpID) = gen_rnd_JSSP_inst(5,3)"
   ]
  },
  {
   "cell_type": "code",
   "execution_count": 207,
   "metadata": {},
   "outputs": [
    {
     "name": "stdout",
     "output_type": "stream",
     "text": [
      "INFO:base:Successfully registered object with EnvID 0 and name M_env_0\n",
      "INFO:base:Successfully registered object with EnvID 1 and name M_env_1\n",
      "INFO:base:Successfully registered object with EnvID 2 and name M_env_2\n",
      "INFO:base:Successfully registered dispatcher with EnvID 3\n"
     ]
    }
   ],
   "source": [
    "env = SimulationEnvironment(name='base')\n",
    "\n",
    "for machine in np.unique(mat_JobMachID):\n",
    "    MachInst = Machine(env=env, custom_identifier=machine.item())\n",
    "\n",
    "dispatcher = Dispatcher(env=env)"
   ]
  },
  {
   "cell_type": "code",
   "execution_count": 208,
   "metadata": {},
   "outputs": [],
   "source": [
    "test_ProcTimes = mat_ProcTimes.copy()\n",
    "#test_ProcTimes = mat_ProcTimes[0,:]\n",
    "#test_ProcTimes = np.expand_dims(test_ProcTimes, 0).copy()\n",
    "\n",
    "test_JobMachID = mat_JobMachID.copy()\n",
    "#test_JobMachID = mat_JobMachID[0,:]\n",
    "#test_JobMachID = np.expand_dims(test_JobMachID, 0).copy()"
   ]
  },
  {
   "cell_type": "code",
   "execution_count": 209,
   "metadata": {},
   "outputs": [
    {
     "name": "stdout",
     "output_type": "stream",
     "text": [
      "INFO:base:Successfully registered job with JobID 0 and name J_gen_0\n",
      "INFO:base:Successfully registered operation with OpID 0 and name O_gen_0\n",
      "INFO:base:Successfully registered operation with OpID 1 and name O_gen_1\n",
      "INFO:base:Successfully registered operation with OpID 2 and name O_gen_2\n",
      "INFO:base:Successfully registered job with JobID 1 and name J_gen_1\n",
      "INFO:base:Successfully registered operation with OpID 3 and name O_gen_3\n",
      "INFO:base:Successfully registered operation with OpID 4 and name O_gen_4\n",
      "INFO:base:Successfully registered operation with OpID 5 and name O_gen_5\n",
      "INFO:base:Successfully registered job with JobID 2 and name J_gen_2\n",
      "INFO:base:Successfully registered operation with OpID 6 and name O_gen_6\n",
      "INFO:base:Successfully registered operation with OpID 7 and name O_gen_7\n",
      "INFO:base:Successfully registered operation with OpID 8 and name O_gen_8\n",
      "INFO:base:Successfully registered job with JobID 3 and name J_gen_3\n",
      "INFO:base:Successfully registered operation with OpID 9 and name O_gen_9\n",
      "INFO:base:Successfully registered operation with OpID 10 and name O_gen_10\n",
      "INFO:base:Successfully registered operation with OpID 11 and name O_gen_11\n",
      "INFO:base:Successfully registered job with JobID 4 and name J_gen_4\n",
      "INFO:base:Successfully registered operation with OpID 12 and name O_gen_12\n",
      "INFO:base:Successfully registered operation with OpID 13 and name O_gen_13\n",
      "INFO:base:Successfully registered operation with OpID 14 and name O_gen_14\n"
     ]
    }
   ],
   "source": [
    "ret = dispatcher.gen_job_pool_generic(\n",
    "    mat_ProcTimes=test_ProcTimes,\n",
    "    mat_JobMachID=test_JobMachID,\n",
    ")"
   ]
  },
  {
   "cell_type": "code",
   "execution_count": 210,
   "metadata": {},
   "outputs": [
    {
     "data": {
      "text/html": [
       "<div>\n",
       "<style scoped>\n",
       "    .dataframe tbody tr th:only-of-type {\n",
       "        vertical-align: middle;\n",
       "    }\n",
       "\n",
       "    .dataframe tbody tr th {\n",
       "        vertical-align: top;\n",
       "    }\n",
       "\n",
       "    .dataframe thead th {\n",
       "        text-align: right;\n",
       "    }\n",
       "</style>\n",
       "<table border=\"1\" class=\"dataframe\">\n",
       "  <thead>\n",
       "    <tr style=\"text-align: right;\">\n",
       "      <th></th>\n",
       "      <th>job_id</th>\n",
       "      <th>job_name</th>\n",
       "      <th>custom_id</th>\n",
       "      <th>op</th>\n",
       "      <th>name</th>\n",
       "      <th>machine</th>\n",
       "      <th>machine_name</th>\n",
       "      <th>duration</th>\n",
       "      <th>start_time</th>\n",
       "      <th>end_time</th>\n",
       "      <th>status</th>\n",
       "    </tr>\n",
       "    <tr>\n",
       "      <th>op_id</th>\n",
       "      <th></th>\n",
       "      <th></th>\n",
       "      <th></th>\n",
       "      <th></th>\n",
       "      <th></th>\n",
       "      <th></th>\n",
       "      <th></th>\n",
       "      <th></th>\n",
       "      <th></th>\n",
       "      <th></th>\n",
       "      <th></th>\n",
       "    </tr>\n",
       "  </thead>\n",
       "  <tbody>\n",
       "    <tr>\n",
       "      <th>0</th>\n",
       "      <td>0</td>\n",
       "      <td>J_gen_0</td>\n",
       "      <td>None</td>\n",
       "      <td>&lt;__main__.Operation object at 0x00000268CA8D5990&gt;</td>\n",
       "      <td>O_gen_0</td>\n",
       "      <td>Machine (M_env_2)</td>\n",
       "      <td>M_env_2</td>\n",
       "      <td>2.0</td>\n",
       "      <td>0.0</td>\n",
       "      <td>0.0</td>\n",
       "      <td>None</td>\n",
       "    </tr>\n",
       "    <tr>\n",
       "      <th>1</th>\n",
       "      <td>0</td>\n",
       "      <td>J_gen_0</td>\n",
       "      <td>None</td>\n",
       "      <td>&lt;__main__.Operation object at 0x00000268CAA253D0&gt;</td>\n",
       "      <td>O_gen_1</td>\n",
       "      <td>Machine (M_env_0)</td>\n",
       "      <td>M_env_0</td>\n",
       "      <td>1.0</td>\n",
       "      <td>0.0</td>\n",
       "      <td>0.0</td>\n",
       "      <td>None</td>\n",
       "    </tr>\n",
       "    <tr>\n",
       "      <th>2</th>\n",
       "      <td>0</td>\n",
       "      <td>J_gen_0</td>\n",
       "      <td>None</td>\n",
       "      <td>&lt;__main__.Operation object at 0x00000268CA890C10&gt;</td>\n",
       "      <td>O_gen_2</td>\n",
       "      <td>Machine (M_env_1)</td>\n",
       "      <td>M_env_1</td>\n",
       "      <td>9.0</td>\n",
       "      <td>0.0</td>\n",
       "      <td>0.0</td>\n",
       "      <td>None</td>\n",
       "    </tr>\n",
       "    <tr>\n",
       "      <th>3</th>\n",
       "      <td>1</td>\n",
       "      <td>J_gen_1</td>\n",
       "      <td>None</td>\n",
       "      <td>&lt;__main__.Operation object at 0x00000268CA77C5D0&gt;</td>\n",
       "      <td>O_gen_3</td>\n",
       "      <td>Machine (M_env_0)</td>\n",
       "      <td>M_env_0</td>\n",
       "      <td>7.0</td>\n",
       "      <td>0.0</td>\n",
       "      <td>0.0</td>\n",
       "      <td>None</td>\n",
       "    </tr>\n",
       "    <tr>\n",
       "      <th>4</th>\n",
       "      <td>1</td>\n",
       "      <td>J_gen_1</td>\n",
       "      <td>None</td>\n",
       "      <td>&lt;__main__.Operation object at 0x00000268CA625B90&gt;</td>\n",
       "      <td>O_gen_4</td>\n",
       "      <td>Machine (M_env_2)</td>\n",
       "      <td>M_env_2</td>\n",
       "      <td>9.0</td>\n",
       "      <td>0.0</td>\n",
       "      <td>0.0</td>\n",
       "      <td>None</td>\n",
       "    </tr>\n",
       "    <tr>\n",
       "      <th>5</th>\n",
       "      <td>1</td>\n",
       "      <td>J_gen_1</td>\n",
       "      <td>None</td>\n",
       "      <td>&lt;__main__.Operation object at 0x00000268CA97D150&gt;</td>\n",
       "      <td>O_gen_5</td>\n",
       "      <td>Machine (M_env_1)</td>\n",
       "      <td>M_env_1</td>\n",
       "      <td>6.0</td>\n",
       "      <td>0.0</td>\n",
       "      <td>0.0</td>\n",
       "      <td>None</td>\n",
       "    </tr>\n",
       "    <tr>\n",
       "      <th>6</th>\n",
       "      <td>2</td>\n",
       "      <td>J_gen_2</td>\n",
       "      <td>None</td>\n",
       "      <td>&lt;__main__.Operation object at 0x00000268CAA2E7D0&gt;</td>\n",
       "      <td>O_gen_6</td>\n",
       "      <td>Machine (M_env_2)</td>\n",
       "      <td>M_env_2</td>\n",
       "      <td>4.0</td>\n",
       "      <td>0.0</td>\n",
       "      <td>0.0</td>\n",
       "      <td>None</td>\n",
       "    </tr>\n",
       "    <tr>\n",
       "      <th>7</th>\n",
       "      <td>2</td>\n",
       "      <td>J_gen_2</td>\n",
       "      <td>None</td>\n",
       "      <td>&lt;__main__.Operation object at 0x00000268CA941CD0&gt;</td>\n",
       "      <td>O_gen_7</td>\n",
       "      <td>Machine (M_env_1)</td>\n",
       "      <td>M_env_1</td>\n",
       "      <td>4.0</td>\n",
       "      <td>0.0</td>\n",
       "      <td>0.0</td>\n",
       "      <td>None</td>\n",
       "    </tr>\n",
       "    <tr>\n",
       "      <th>8</th>\n",
       "      <td>2</td>\n",
       "      <td>J_gen_2</td>\n",
       "      <td>None</td>\n",
       "      <td>&lt;__main__.Operation object at 0x00000268CAA03350&gt;</td>\n",
       "      <td>O_gen_8</td>\n",
       "      <td>Machine (M_env_0)</td>\n",
       "      <td>M_env_0</td>\n",
       "      <td>1.0</td>\n",
       "      <td>0.0</td>\n",
       "      <td>0.0</td>\n",
       "      <td>None</td>\n",
       "    </tr>\n",
       "    <tr>\n",
       "      <th>9</th>\n",
       "      <td>3</td>\n",
       "      <td>J_gen_3</td>\n",
       "      <td>None</td>\n",
       "      <td>&lt;__main__.Operation object at 0x00000268CAA3DE10&gt;</td>\n",
       "      <td>O_gen_9</td>\n",
       "      <td>Machine (M_env_1)</td>\n",
       "      <td>M_env_1</td>\n",
       "      <td>4.0</td>\n",
       "      <td>0.0</td>\n",
       "      <td>0.0</td>\n",
       "      <td>None</td>\n",
       "    </tr>\n",
       "    <tr>\n",
       "      <th>10</th>\n",
       "      <td>3</td>\n",
       "      <td>J_gen_3</td>\n",
       "      <td>None</td>\n",
       "      <td>&lt;__main__.Operation object at 0x00000268CAA60050&gt;</td>\n",
       "      <td>O_gen_10</td>\n",
       "      <td>Machine (M_env_0)</td>\n",
       "      <td>M_env_0</td>\n",
       "      <td>1.0</td>\n",
       "      <td>0.0</td>\n",
       "      <td>0.0</td>\n",
       "      <td>None</td>\n",
       "    </tr>\n",
       "    <tr>\n",
       "      <th>11</th>\n",
       "      <td>3</td>\n",
       "      <td>J_gen_3</td>\n",
       "      <td>None</td>\n",
       "      <td>&lt;__main__.Operation object at 0x00000268CAA86C90&gt;</td>\n",
       "      <td>O_gen_11</td>\n",
       "      <td>Machine (M_env_2)</td>\n",
       "      <td>M_env_2</td>\n",
       "      <td>8.0</td>\n",
       "      <td>0.0</td>\n",
       "      <td>0.0</td>\n",
       "      <td>None</td>\n",
       "    </tr>\n",
       "    <tr>\n",
       "      <th>12</th>\n",
       "      <td>4</td>\n",
       "      <td>J_gen_4</td>\n",
       "      <td>None</td>\n",
       "      <td>&lt;__main__.Operation object at 0x00000268CAA610D0&gt;</td>\n",
       "      <td>O_gen_12</td>\n",
       "      <td>Machine (M_env_0)</td>\n",
       "      <td>M_env_0</td>\n",
       "      <td>5.0</td>\n",
       "      <td>0.0</td>\n",
       "      <td>0.0</td>\n",
       "      <td>None</td>\n",
       "    </tr>\n",
       "    <tr>\n",
       "      <th>13</th>\n",
       "      <td>4</td>\n",
       "      <td>J_gen_4</td>\n",
       "      <td>None</td>\n",
       "      <td>&lt;__main__.Operation object at 0x00000268CAA03590&gt;</td>\n",
       "      <td>O_gen_13</td>\n",
       "      <td>Machine (M_env_2)</td>\n",
       "      <td>M_env_2</td>\n",
       "      <td>1.0</td>\n",
       "      <td>0.0</td>\n",
       "      <td>0.0</td>\n",
       "      <td>None</td>\n",
       "    </tr>\n",
       "    <tr>\n",
       "      <th>14</th>\n",
       "      <td>4</td>\n",
       "      <td>J_gen_4</td>\n",
       "      <td>None</td>\n",
       "      <td>&lt;__main__.Operation object at 0x00000268CA804F10&gt;</td>\n",
       "      <td>O_gen_14</td>\n",
       "      <td>Machine (M_env_1)</td>\n",
       "      <td>M_env_1</td>\n",
       "      <td>7.0</td>\n",
       "      <td>0.0</td>\n",
       "      <td>0.0</td>\n",
       "      <td>None</td>\n",
       "    </tr>\n",
       "  </tbody>\n",
       "</table>\n",
       "</div>"
      ],
      "text/plain": [
       "       job_id job_name custom_id   \n",
       "op_id                              \n",
       "0           0  J_gen_0      None  \\\n",
       "1           0  J_gen_0      None   \n",
       "2           0  J_gen_0      None   \n",
       "3           1  J_gen_1      None   \n",
       "4           1  J_gen_1      None   \n",
       "5           1  J_gen_1      None   \n",
       "6           2  J_gen_2      None   \n",
       "7           2  J_gen_2      None   \n",
       "8           2  J_gen_2      None   \n",
       "9           3  J_gen_3      None   \n",
       "10          3  J_gen_3      None   \n",
       "11          3  J_gen_3      None   \n",
       "12          4  J_gen_4      None   \n",
       "13          4  J_gen_4      None   \n",
       "14          4  J_gen_4      None   \n",
       "\n",
       "                                                      op      name   \n",
       "op_id                                                                \n",
       "0      <__main__.Operation object at 0x00000268CA8D5990>   O_gen_0  \\\n",
       "1      <__main__.Operation object at 0x00000268CAA253D0>   O_gen_1   \n",
       "2      <__main__.Operation object at 0x00000268CA890C10>   O_gen_2   \n",
       "3      <__main__.Operation object at 0x00000268CA77C5D0>   O_gen_3   \n",
       "4      <__main__.Operation object at 0x00000268CA625B90>   O_gen_4   \n",
       "5      <__main__.Operation object at 0x00000268CA97D150>   O_gen_5   \n",
       "6      <__main__.Operation object at 0x00000268CAA2E7D0>   O_gen_6   \n",
       "7      <__main__.Operation object at 0x00000268CA941CD0>   O_gen_7   \n",
       "8      <__main__.Operation object at 0x00000268CAA03350>   O_gen_8   \n",
       "9      <__main__.Operation object at 0x00000268CAA3DE10>   O_gen_9   \n",
       "10     <__main__.Operation object at 0x00000268CAA60050>  O_gen_10   \n",
       "11     <__main__.Operation object at 0x00000268CAA86C90>  O_gen_11   \n",
       "12     <__main__.Operation object at 0x00000268CAA610D0>  O_gen_12   \n",
       "13     <__main__.Operation object at 0x00000268CAA03590>  O_gen_13   \n",
       "14     <__main__.Operation object at 0x00000268CA804F10>  O_gen_14   \n",
       "\n",
       "                 machine machine_name  duration  start_time  end_time status  \n",
       "op_id                                                                         \n",
       "0      Machine (M_env_2)      M_env_2       2.0         0.0       0.0   None  \n",
       "1      Machine (M_env_0)      M_env_0       1.0         0.0       0.0   None  \n",
       "2      Machine (M_env_1)      M_env_1       9.0         0.0       0.0   None  \n",
       "3      Machine (M_env_0)      M_env_0       7.0         0.0       0.0   None  \n",
       "4      Machine (M_env_2)      M_env_2       9.0         0.0       0.0   None  \n",
       "5      Machine (M_env_1)      M_env_1       6.0         0.0       0.0   None  \n",
       "6      Machine (M_env_2)      M_env_2       4.0         0.0       0.0   None  \n",
       "7      Machine (M_env_1)      M_env_1       4.0         0.0       0.0   None  \n",
       "8      Machine (M_env_0)      M_env_0       1.0         0.0       0.0   None  \n",
       "9      Machine (M_env_1)      M_env_1       4.0         0.0       0.0   None  \n",
       "10     Machine (M_env_0)      M_env_0       1.0         0.0       0.0   None  \n",
       "11     Machine (M_env_2)      M_env_2       8.0         0.0       0.0   None  \n",
       "12     Machine (M_env_0)      M_env_0       5.0         0.0       0.0   None  \n",
       "13     Machine (M_env_2)      M_env_2       1.0         0.0       0.0   None  \n",
       "14     Machine (M_env_1)      M_env_1       7.0         0.0       0.0   None  "
      ]
     },
     "execution_count": 210,
     "metadata": {},
     "output_type": "execute_result"
    }
   ],
   "source": [
    "dispatcher.op_db"
   ]
  },
  {
   "cell_type": "code",
   "execution_count": 211,
   "metadata": {},
   "outputs": [
    {
     "name": "stdout",
     "output_type": "stream",
     "text": [
      "Try putting Job-ID 0 \t Operation with ID 0                     on machine Machine (M_env_2)\n",
      "Try putting Job-ID 1 \t Operation with ID 3                     on machine Machine (M_env_0)\n",
      "Try putting Job-ID 2 \t Operation with ID 6                     on machine Machine (M_env_2)\n",
      "Try putting Job-ID 3 \t Operation with ID 9                     on machine Machine (M_env_1)\n",
      "Try putting Job-ID 4 \t Operation with ID 12                     on machine Machine (M_env_0)\n",
      "Machine 2 is getting job from queue\n",
      "[START] job ID 0 at 0.0 on machine ID 2                 with proc time 2\n",
      "Machine 0 is getting job from queue\n",
      "[START] job ID 1 at 0.0 on machine ID 0                 with proc time 7\n",
      "Machine 1 is getting job from queue\n",
      "[START] job ID 3 at 0.0 on machine ID 1                 with proc time 4\n",
      "[END] job ID 0 at 2.0 on machine ID 2\n",
      "Machine 2 is getting job from queue\n",
      "[START] job ID 2 at 2.0 on machine ID 2                 with proc time 4\n",
      "Try putting Job-ID 0 \t Operation with ID 1                     on machine Machine (M_env_0)\n",
      "[END] job ID 3 at 4.0 on machine ID 1\n",
      "Try putting Job-ID 3 \t Operation with ID 10                     on machine Machine (M_env_0)\n",
      "[END] job ID 2 at 6.0 on machine ID 2\n",
      "Try putting Job-ID 2 \t Operation with ID 7                     on machine Machine (M_env_1)\n",
      "Machine 1 is getting job from queue\n",
      "[START] job ID 2 at 6.0 on machine ID 1                 with proc time 4\n",
      "[END] job ID 1 at 7.0 on machine ID 0\n",
      "Machine 0 is getting job from queue\n",
      "[START] job ID 4 at 7.0 on machine ID 0                 with proc time 5\n",
      "Try putting Job-ID 1 \t Operation with ID 4                     on machine Machine (M_env_2)\n",
      "Machine 2 is getting job from queue\n",
      "[START] job ID 1 at 7.0 on machine ID 2                 with proc time 9\n",
      "[END] job ID 2 at 10.0 on machine ID 1\n",
      "Try putting Job-ID 2 \t Operation with ID 8                     on machine Machine (M_env_0)\n",
      "[END] job ID 4 at 12.0 on machine ID 0\n",
      "Machine 0 is getting job from queue\n",
      "[START] job ID 0 at 12.0 on machine ID 0                 with proc time 1\n",
      "Try putting Job-ID 4 \t Operation with ID 13                     on machine Machine (M_env_2)\n",
      "[END] job ID 0 at 13.0 on machine ID 0\n",
      "Machine 0 is getting job from queue\n",
      "[START] job ID 3 at 13.0 on machine ID 0                 with proc time 1\n",
      "Try putting Job-ID 0 \t Operation with ID 2                     on machine Machine (M_env_1)\n",
      "Machine 1 is getting job from queue\n",
      "[START] job ID 0 at 13.0 on machine ID 1                 with proc time 9\n",
      "[END] job ID 3 at 14.0 on machine ID 0\n",
      "Machine 0 is getting job from queue\n",
      "[START] job ID 2 at 14.0 on machine ID 0                 with proc time 1\n",
      "Try putting Job-ID 3 \t Operation with ID 11                     on machine Machine (M_env_2)\n",
      "[END] job ID 2 at 15.0 on machine ID 0\n",
      "[END] job ID 1 at 16.0 on machine ID 2\n",
      "Machine 2 is getting job from queue\n",
      "[START] job ID 4 at 16.0 on machine ID 2                 with proc time 1\n",
      "Try putting Job-ID 1 \t Operation with ID 5                     on machine Machine (M_env_1)\n",
      "[END] job ID 4 at 17.0 on machine ID 2\n",
      "Machine 2 is getting job from queue\n",
      "[START] job ID 3 at 17.0 on machine ID 2                 with proc time 8\n",
      "Try putting Job-ID 4 \t Operation with ID 14                     on machine Machine (M_env_1)\n",
      "[END] job ID 0 at 22.0 on machine ID 1\n",
      "Machine 1 is getting job from queue\n",
      "[START] job ID 1 at 22.0 on machine ID 1                 with proc time 6\n",
      "[END] job ID 3 at 25.0 on machine ID 2\n",
      "[END] job ID 1 at 28.0 on machine ID 1\n",
      "Machine 1 is getting job from queue\n",
      "[START] job ID 4 at 28.0 on machine ID 1                 with proc time 7\n",
      "[END] job ID 4 at 35.0 on machine ID 1\n"
     ]
    }
   ],
   "source": [
    "env.run()"
   ]
  },
  {
   "cell_type": "code",
   "execution_count": 212,
   "metadata": {},
   "outputs": [
    {
     "data": {
      "text/html": [
       "<div>\n",
       "<style scoped>\n",
       "    .dataframe tbody tr th:only-of-type {\n",
       "        vertical-align: middle;\n",
       "    }\n",
       "\n",
       "    .dataframe tbody tr th {\n",
       "        vertical-align: top;\n",
       "    }\n",
       "\n",
       "    .dataframe thead th {\n",
       "        text-align: right;\n",
       "    }\n",
       "</style>\n",
       "<table border=\"1\" class=\"dataframe\">\n",
       "  <thead>\n",
       "    <tr style=\"text-align: right;\">\n",
       "      <th></th>\n",
       "      <th>job_id</th>\n",
       "      <th>job_name</th>\n",
       "      <th>custom_id</th>\n",
       "      <th>op</th>\n",
       "      <th>name</th>\n",
       "      <th>machine</th>\n",
       "      <th>machine_name</th>\n",
       "      <th>duration</th>\n",
       "      <th>start_time</th>\n",
       "      <th>end_time</th>\n",
       "      <th>status</th>\n",
       "    </tr>\n",
       "    <tr>\n",
       "      <th>op_id</th>\n",
       "      <th></th>\n",
       "      <th></th>\n",
       "      <th></th>\n",
       "      <th></th>\n",
       "      <th></th>\n",
       "      <th></th>\n",
       "      <th></th>\n",
       "      <th></th>\n",
       "      <th></th>\n",
       "      <th></th>\n",
       "      <th></th>\n",
       "    </tr>\n",
       "  </thead>\n",
       "  <tbody>\n",
       "    <tr>\n",
       "      <th>0</th>\n",
       "      <td>0</td>\n",
       "      <td>J_gen_0</td>\n",
       "      <td>None</td>\n",
       "      <td>&lt;__main__.Operation object at 0x00000268CA8D5990&gt;</td>\n",
       "      <td>O_gen_0</td>\n",
       "      <td>Machine (M_env_2)</td>\n",
       "      <td>M_env_2</td>\n",
       "      <td>2.0</td>\n",
       "      <td>0.0</td>\n",
       "      <td>2.0</td>\n",
       "      <td>None</td>\n",
       "    </tr>\n",
       "    <tr>\n",
       "      <th>1</th>\n",
       "      <td>0</td>\n",
       "      <td>J_gen_0</td>\n",
       "      <td>None</td>\n",
       "      <td>&lt;__main__.Operation object at 0x00000268CAA253D0&gt;</td>\n",
       "      <td>O_gen_1</td>\n",
       "      <td>Machine (M_env_0)</td>\n",
       "      <td>M_env_0</td>\n",
       "      <td>1.0</td>\n",
       "      <td>12.0</td>\n",
       "      <td>13.0</td>\n",
       "      <td>None</td>\n",
       "    </tr>\n",
       "    <tr>\n",
       "      <th>2</th>\n",
       "      <td>0</td>\n",
       "      <td>J_gen_0</td>\n",
       "      <td>None</td>\n",
       "      <td>&lt;__main__.Operation object at 0x00000268CA890C10&gt;</td>\n",
       "      <td>O_gen_2</td>\n",
       "      <td>Machine (M_env_1)</td>\n",
       "      <td>M_env_1</td>\n",
       "      <td>9.0</td>\n",
       "      <td>13.0</td>\n",
       "      <td>22.0</td>\n",
       "      <td>None</td>\n",
       "    </tr>\n",
       "    <tr>\n",
       "      <th>3</th>\n",
       "      <td>1</td>\n",
       "      <td>J_gen_1</td>\n",
       "      <td>None</td>\n",
       "      <td>&lt;__main__.Operation object at 0x00000268CA77C5D0&gt;</td>\n",
       "      <td>O_gen_3</td>\n",
       "      <td>Machine (M_env_0)</td>\n",
       "      <td>M_env_0</td>\n",
       "      <td>7.0</td>\n",
       "      <td>0.0</td>\n",
       "      <td>7.0</td>\n",
       "      <td>None</td>\n",
       "    </tr>\n",
       "    <tr>\n",
       "      <th>4</th>\n",
       "      <td>1</td>\n",
       "      <td>J_gen_1</td>\n",
       "      <td>None</td>\n",
       "      <td>&lt;__main__.Operation object at 0x00000268CA625B90&gt;</td>\n",
       "      <td>O_gen_4</td>\n",
       "      <td>Machine (M_env_2)</td>\n",
       "      <td>M_env_2</td>\n",
       "      <td>9.0</td>\n",
       "      <td>7.0</td>\n",
       "      <td>16.0</td>\n",
       "      <td>None</td>\n",
       "    </tr>\n",
       "    <tr>\n",
       "      <th>5</th>\n",
       "      <td>1</td>\n",
       "      <td>J_gen_1</td>\n",
       "      <td>None</td>\n",
       "      <td>&lt;__main__.Operation object at 0x00000268CA97D150&gt;</td>\n",
       "      <td>O_gen_5</td>\n",
       "      <td>Machine (M_env_1)</td>\n",
       "      <td>M_env_1</td>\n",
       "      <td>6.0</td>\n",
       "      <td>22.0</td>\n",
       "      <td>28.0</td>\n",
       "      <td>None</td>\n",
       "    </tr>\n",
       "    <tr>\n",
       "      <th>6</th>\n",
       "      <td>2</td>\n",
       "      <td>J_gen_2</td>\n",
       "      <td>None</td>\n",
       "      <td>&lt;__main__.Operation object at 0x00000268CAA2E7D0&gt;</td>\n",
       "      <td>O_gen_6</td>\n",
       "      <td>Machine (M_env_2)</td>\n",
       "      <td>M_env_2</td>\n",
       "      <td>4.0</td>\n",
       "      <td>2.0</td>\n",
       "      <td>6.0</td>\n",
       "      <td>None</td>\n",
       "    </tr>\n",
       "    <tr>\n",
       "      <th>7</th>\n",
       "      <td>2</td>\n",
       "      <td>J_gen_2</td>\n",
       "      <td>None</td>\n",
       "      <td>&lt;__main__.Operation object at 0x00000268CA941CD0&gt;</td>\n",
       "      <td>O_gen_7</td>\n",
       "      <td>Machine (M_env_1)</td>\n",
       "      <td>M_env_1</td>\n",
       "      <td>4.0</td>\n",
       "      <td>6.0</td>\n",
       "      <td>10.0</td>\n",
       "      <td>None</td>\n",
       "    </tr>\n",
       "    <tr>\n",
       "      <th>8</th>\n",
       "      <td>2</td>\n",
       "      <td>J_gen_2</td>\n",
       "      <td>None</td>\n",
       "      <td>&lt;__main__.Operation object at 0x00000268CAA03350&gt;</td>\n",
       "      <td>O_gen_8</td>\n",
       "      <td>Machine (M_env_0)</td>\n",
       "      <td>M_env_0</td>\n",
       "      <td>1.0</td>\n",
       "      <td>14.0</td>\n",
       "      <td>15.0</td>\n",
       "      <td>None</td>\n",
       "    </tr>\n",
       "    <tr>\n",
       "      <th>9</th>\n",
       "      <td>3</td>\n",
       "      <td>J_gen_3</td>\n",
       "      <td>None</td>\n",
       "      <td>&lt;__main__.Operation object at 0x00000268CAA3DE10&gt;</td>\n",
       "      <td>O_gen_9</td>\n",
       "      <td>Machine (M_env_1)</td>\n",
       "      <td>M_env_1</td>\n",
       "      <td>4.0</td>\n",
       "      <td>0.0</td>\n",
       "      <td>4.0</td>\n",
       "      <td>None</td>\n",
       "    </tr>\n",
       "    <tr>\n",
       "      <th>10</th>\n",
       "      <td>3</td>\n",
       "      <td>J_gen_3</td>\n",
       "      <td>None</td>\n",
       "      <td>&lt;__main__.Operation object at 0x00000268CAA60050&gt;</td>\n",
       "      <td>O_gen_10</td>\n",
       "      <td>Machine (M_env_0)</td>\n",
       "      <td>M_env_0</td>\n",
       "      <td>1.0</td>\n",
       "      <td>13.0</td>\n",
       "      <td>14.0</td>\n",
       "      <td>None</td>\n",
       "    </tr>\n",
       "    <tr>\n",
       "      <th>11</th>\n",
       "      <td>3</td>\n",
       "      <td>J_gen_3</td>\n",
       "      <td>None</td>\n",
       "      <td>&lt;__main__.Operation object at 0x00000268CAA86C90&gt;</td>\n",
       "      <td>O_gen_11</td>\n",
       "      <td>Machine (M_env_2)</td>\n",
       "      <td>M_env_2</td>\n",
       "      <td>8.0</td>\n",
       "      <td>17.0</td>\n",
       "      <td>25.0</td>\n",
       "      <td>None</td>\n",
       "    </tr>\n",
       "    <tr>\n",
       "      <th>12</th>\n",
       "      <td>4</td>\n",
       "      <td>J_gen_4</td>\n",
       "      <td>None</td>\n",
       "      <td>&lt;__main__.Operation object at 0x00000268CAA610D0&gt;</td>\n",
       "      <td>O_gen_12</td>\n",
       "      <td>Machine (M_env_0)</td>\n",
       "      <td>M_env_0</td>\n",
       "      <td>5.0</td>\n",
       "      <td>7.0</td>\n",
       "      <td>12.0</td>\n",
       "      <td>None</td>\n",
       "    </tr>\n",
       "    <tr>\n",
       "      <th>13</th>\n",
       "      <td>4</td>\n",
       "      <td>J_gen_4</td>\n",
       "      <td>None</td>\n",
       "      <td>&lt;__main__.Operation object at 0x00000268CAA03590&gt;</td>\n",
       "      <td>O_gen_13</td>\n",
       "      <td>Machine (M_env_2)</td>\n",
       "      <td>M_env_2</td>\n",
       "      <td>1.0</td>\n",
       "      <td>16.0</td>\n",
       "      <td>17.0</td>\n",
       "      <td>None</td>\n",
       "    </tr>\n",
       "    <tr>\n",
       "      <th>14</th>\n",
       "      <td>4</td>\n",
       "      <td>J_gen_4</td>\n",
       "      <td>None</td>\n",
       "      <td>&lt;__main__.Operation object at 0x00000268CA804F10&gt;</td>\n",
       "      <td>O_gen_14</td>\n",
       "      <td>Machine (M_env_1)</td>\n",
       "      <td>M_env_1</td>\n",
       "      <td>7.0</td>\n",
       "      <td>28.0</td>\n",
       "      <td>35.0</td>\n",
       "      <td>None</td>\n",
       "    </tr>\n",
       "  </tbody>\n",
       "</table>\n",
       "</div>"
      ],
      "text/plain": [
       "       job_id job_name custom_id   \n",
       "op_id                              \n",
       "0           0  J_gen_0      None  \\\n",
       "1           0  J_gen_0      None   \n",
       "2           0  J_gen_0      None   \n",
       "3           1  J_gen_1      None   \n",
       "4           1  J_gen_1      None   \n",
       "5           1  J_gen_1      None   \n",
       "6           2  J_gen_2      None   \n",
       "7           2  J_gen_2      None   \n",
       "8           2  J_gen_2      None   \n",
       "9           3  J_gen_3      None   \n",
       "10          3  J_gen_3      None   \n",
       "11          3  J_gen_3      None   \n",
       "12          4  J_gen_4      None   \n",
       "13          4  J_gen_4      None   \n",
       "14          4  J_gen_4      None   \n",
       "\n",
       "                                                      op      name   \n",
       "op_id                                                                \n",
       "0      <__main__.Operation object at 0x00000268CA8D5990>   O_gen_0  \\\n",
       "1      <__main__.Operation object at 0x00000268CAA253D0>   O_gen_1   \n",
       "2      <__main__.Operation object at 0x00000268CA890C10>   O_gen_2   \n",
       "3      <__main__.Operation object at 0x00000268CA77C5D0>   O_gen_3   \n",
       "4      <__main__.Operation object at 0x00000268CA625B90>   O_gen_4   \n",
       "5      <__main__.Operation object at 0x00000268CA97D150>   O_gen_5   \n",
       "6      <__main__.Operation object at 0x00000268CAA2E7D0>   O_gen_6   \n",
       "7      <__main__.Operation object at 0x00000268CA941CD0>   O_gen_7   \n",
       "8      <__main__.Operation object at 0x00000268CAA03350>   O_gen_8   \n",
       "9      <__main__.Operation object at 0x00000268CAA3DE10>   O_gen_9   \n",
       "10     <__main__.Operation object at 0x00000268CAA60050>  O_gen_10   \n",
       "11     <__main__.Operation object at 0x00000268CAA86C90>  O_gen_11   \n",
       "12     <__main__.Operation object at 0x00000268CAA610D0>  O_gen_12   \n",
       "13     <__main__.Operation object at 0x00000268CAA03590>  O_gen_13   \n",
       "14     <__main__.Operation object at 0x00000268CA804F10>  O_gen_14   \n",
       "\n",
       "                 machine machine_name  duration  start_time  end_time status  \n",
       "op_id                                                                         \n",
       "0      Machine (M_env_2)      M_env_2       2.0         0.0       2.0   None  \n",
       "1      Machine (M_env_0)      M_env_0       1.0        12.0      13.0   None  \n",
       "2      Machine (M_env_1)      M_env_1       9.0        13.0      22.0   None  \n",
       "3      Machine (M_env_0)      M_env_0       7.0         0.0       7.0   None  \n",
       "4      Machine (M_env_2)      M_env_2       9.0         7.0      16.0   None  \n",
       "5      Machine (M_env_1)      M_env_1       6.0        22.0      28.0   None  \n",
       "6      Machine (M_env_2)      M_env_2       4.0         2.0       6.0   None  \n",
       "7      Machine (M_env_1)      M_env_1       4.0         6.0      10.0   None  \n",
       "8      Machine (M_env_0)      M_env_0       1.0        14.0      15.0   None  \n",
       "9      Machine (M_env_1)      M_env_1       4.0         0.0       4.0   None  \n",
       "10     Machine (M_env_0)      M_env_0       1.0        13.0      14.0   None  \n",
       "11     Machine (M_env_2)      M_env_2       8.0        17.0      25.0   None  \n",
       "12     Machine (M_env_0)      M_env_0       5.0         7.0      12.0   None  \n",
       "13     Machine (M_env_2)      M_env_2       1.0        16.0      17.0   None  \n",
       "14     Machine (M_env_1)      M_env_1       7.0        28.0      35.0   None  "
      ]
     },
     "execution_count": 212,
     "metadata": {},
     "output_type": "execute_result"
    }
   ],
   "source": [
    "dispatcher.op_db"
   ]
  },
  {
   "cell_type": "code",
   "execution_count": 51,
   "metadata": {},
   "outputs": [],
   "source": [
    "machine = env.get_res_obj_by_prop(property='custom_id', val=2)"
   ]
  },
  {
   "cell_type": "code",
   "execution_count": 52,
   "metadata": {},
   "outputs": [],
   "source": [
    "job = dispatcher.get_job_obj_by_prop('job_id', val=0)"
   ]
  },
  {
   "cell_type": "code",
   "execution_count": 53,
   "metadata": {},
   "outputs": [],
   "source": [
    "op_test = job.operations[2]"
   ]
  },
  {
   "cell_type": "code",
   "execution_count": 54,
   "metadata": {},
   "outputs": [
    {
     "data": {
      "text/plain": [
       "9"
      ]
     },
     "execution_count": 54,
     "metadata": {},
     "output_type": "execute_result"
    }
   ],
   "source": [
    "op_test.proc_time"
   ]
  },
  {
   "cell_type": "code",
   "execution_count": 213,
   "metadata": {},
   "outputs": [
    {
     "data": {
      "text/html": [
       "<div>\n",
       "<style scoped>\n",
       "    .dataframe tbody tr th:only-of-type {\n",
       "        vertical-align: middle;\n",
       "    }\n",
       "\n",
       "    .dataframe tbody tr th {\n",
       "        vertical-align: top;\n",
       "    }\n",
       "\n",
       "    .dataframe thead th {\n",
       "        text-align: right;\n",
       "    }\n",
       "</style>\n",
       "<table border=\"1\" class=\"dataframe\">\n",
       "  <thead>\n",
       "    <tr style=\"text-align: right;\">\n",
       "      <th></th>\n",
       "      <th>custom_id</th>\n",
       "      <th>job</th>\n",
       "      <th>name</th>\n",
       "      <th>job_type</th>\n",
       "      <th>status</th>\n",
       "    </tr>\n",
       "    <tr>\n",
       "      <th>job_id</th>\n",
       "      <th></th>\n",
       "      <th></th>\n",
       "      <th></th>\n",
       "      <th></th>\n",
       "      <th></th>\n",
       "    </tr>\n",
       "  </thead>\n",
       "  <tbody>\n",
       "    <tr>\n",
       "      <th>0</th>\n",
       "      <td>None</td>\n",
       "      <td>Job (J_gen_0)</td>\n",
       "      <td>J_gen_0</td>\n",
       "      <td>Job</td>\n",
       "      <td>None</td>\n",
       "    </tr>\n",
       "    <tr>\n",
       "      <th>1</th>\n",
       "      <td>None</td>\n",
       "      <td>Job (J_gen_1)</td>\n",
       "      <td>J_gen_1</td>\n",
       "      <td>Job</td>\n",
       "      <td>None</td>\n",
       "    </tr>\n",
       "    <tr>\n",
       "      <th>2</th>\n",
       "      <td>None</td>\n",
       "      <td>Job (J_gen_2)</td>\n",
       "      <td>J_gen_2</td>\n",
       "      <td>Job</td>\n",
       "      <td>None</td>\n",
       "    </tr>\n",
       "    <tr>\n",
       "      <th>3</th>\n",
       "      <td>None</td>\n",
       "      <td>Job (J_gen_3)</td>\n",
       "      <td>J_gen_3</td>\n",
       "      <td>Job</td>\n",
       "      <td>None</td>\n",
       "    </tr>\n",
       "    <tr>\n",
       "      <th>4</th>\n",
       "      <td>None</td>\n",
       "      <td>Job (J_gen_4)</td>\n",
       "      <td>J_gen_4</td>\n",
       "      <td>Job</td>\n",
       "      <td>None</td>\n",
       "    </tr>\n",
       "  </tbody>\n",
       "</table>\n",
       "</div>"
      ],
      "text/plain": [
       "       custom_id            job     name job_type status\n",
       "job_id                                                  \n",
       "0           None  Job (J_gen_0)  J_gen_0      Job   None\n",
       "1           None  Job (J_gen_1)  J_gen_1      Job   None\n",
       "2           None  Job (J_gen_2)  J_gen_2      Job   None\n",
       "3           None  Job (J_gen_3)  J_gen_3      Job   None\n",
       "4           None  Job (J_gen_4)  J_gen_4      Job   None"
      ]
     },
     "execution_count": 213,
     "metadata": {},
     "output_type": "execute_result"
    }
   ],
   "source": [
    "dispatcher.job_db"
   ]
  },
  {
   "cell_type": "code",
   "execution_count": 214,
   "metadata": {},
   "outputs": [
    {
     "data": {
      "application/vnd.plotly.v1+json": {
       "config": {
        "plotlyServerURL": "https://plot.ly"
       },
       "data": [
        {
         "alignmentgroup": "True",
         "base": [
          12,
          13,
          0
         ],
         "hovertemplate": "job_name=J_gen_0<br>start_time=%{base}<br>end_time=%{x}<br>machine_name=%{y}<extra></extra>",
         "legendgroup": "J_gen_0",
         "marker": {
          "color": "#636efa",
          "pattern": {
           "shape": ""
          }
         },
         "name": "J_gen_0",
         "offsetgroup": "J_gen_0",
         "orientation": "h",
         "showlegend": true,
         "textposition": "auto",
         "type": "bar",
         "x": [
          1,
          9,
          2
         ],
         "xaxis": "x",
         "y": [
          "M_env_0",
          "M_env_1",
          "M_env_2"
         ],
         "yaxis": "y"
        },
        {
         "alignmentgroup": "True",
         "base": [
          0,
          22,
          7
         ],
         "hovertemplate": "job_name=J_gen_1<br>start_time=%{base}<br>end_time=%{x}<br>machine_name=%{y}<extra></extra>",
         "legendgroup": "J_gen_1",
         "marker": {
          "color": "#EF553B",
          "pattern": {
           "shape": ""
          }
         },
         "name": "J_gen_1",
         "offsetgroup": "J_gen_1",
         "orientation": "h",
         "showlegend": true,
         "textposition": "auto",
         "type": "bar",
         "x": [
          7,
          6,
          9
         ],
         "xaxis": "x",
         "y": [
          "M_env_0",
          "M_env_1",
          "M_env_2"
         ],
         "yaxis": "y"
        },
        {
         "alignmentgroup": "True",
         "base": [
          14,
          6,
          2
         ],
         "hovertemplate": "job_name=J_gen_2<br>start_time=%{base}<br>end_time=%{x}<br>machine_name=%{y}<extra></extra>",
         "legendgroup": "J_gen_2",
         "marker": {
          "color": "#00cc96",
          "pattern": {
           "shape": ""
          }
         },
         "name": "J_gen_2",
         "offsetgroup": "J_gen_2",
         "orientation": "h",
         "showlegend": true,
         "textposition": "auto",
         "type": "bar",
         "x": [
          1,
          4,
          4
         ],
         "xaxis": "x",
         "y": [
          "M_env_0",
          "M_env_1",
          "M_env_2"
         ],
         "yaxis": "y"
        },
        {
         "alignmentgroup": "True",
         "base": [
          13,
          0,
          17
         ],
         "hovertemplate": "job_name=J_gen_3<br>start_time=%{base}<br>end_time=%{x}<br>machine_name=%{y}<extra></extra>",
         "legendgroup": "J_gen_3",
         "marker": {
          "color": "#ab63fa",
          "pattern": {
           "shape": ""
          }
         },
         "name": "J_gen_3",
         "offsetgroup": "J_gen_3",
         "orientation": "h",
         "showlegend": true,
         "textposition": "auto",
         "type": "bar",
         "x": [
          1,
          4,
          8
         ],
         "xaxis": "x",
         "y": [
          "M_env_0",
          "M_env_1",
          "M_env_2"
         ],
         "yaxis": "y"
        },
        {
         "alignmentgroup": "True",
         "base": [
          7,
          28,
          16
         ],
         "hovertemplate": "job_name=J_gen_4<br>start_time=%{base}<br>end_time=%{x}<br>machine_name=%{y}<extra></extra>",
         "legendgroup": "J_gen_4",
         "marker": {
          "color": "#FFA15A",
          "pattern": {
           "shape": ""
          }
         },
         "name": "J_gen_4",
         "offsetgroup": "J_gen_4",
         "orientation": "h",
         "showlegend": true,
         "textposition": "auto",
         "type": "bar",
         "x": [
          5,
          7,
          1
         ],
         "xaxis": "x",
         "y": [
          "M_env_0",
          "M_env_1",
          "M_env_2"
         ],
         "yaxis": "y"
        }
       ],
       "layout": {
        "barmode": "overlay",
        "legend": {
         "title": {
          "text": "job_name"
         },
         "tracegroupgap": 0
        },
        "margin": {
         "t": 60
        },
        "template": {
         "data": {
          "bar": [
           {
            "error_x": {
             "color": "#2a3f5f"
            },
            "error_y": {
             "color": "#2a3f5f"
            },
            "marker": {
             "line": {
              "color": "#E5ECF6",
              "width": 0.5
             },
             "pattern": {
              "fillmode": "overlay",
              "size": 10,
              "solidity": 0.2
             }
            },
            "type": "bar"
           }
          ],
          "barpolar": [
           {
            "marker": {
             "line": {
              "color": "#E5ECF6",
              "width": 0.5
             },
             "pattern": {
              "fillmode": "overlay",
              "size": 10,
              "solidity": 0.2
             }
            },
            "type": "barpolar"
           }
          ],
          "carpet": [
           {
            "aaxis": {
             "endlinecolor": "#2a3f5f",
             "gridcolor": "white",
             "linecolor": "white",
             "minorgridcolor": "white",
             "startlinecolor": "#2a3f5f"
            },
            "baxis": {
             "endlinecolor": "#2a3f5f",
             "gridcolor": "white",
             "linecolor": "white",
             "minorgridcolor": "white",
             "startlinecolor": "#2a3f5f"
            },
            "type": "carpet"
           }
          ],
          "choropleth": [
           {
            "colorbar": {
             "outlinewidth": 0,
             "ticks": ""
            },
            "type": "choropleth"
           }
          ],
          "contour": [
           {
            "colorbar": {
             "outlinewidth": 0,
             "ticks": ""
            },
            "colorscale": [
             [
              0,
              "#0d0887"
             ],
             [
              0.1111111111111111,
              "#46039f"
             ],
             [
              0.2222222222222222,
              "#7201a8"
             ],
             [
              0.3333333333333333,
              "#9c179e"
             ],
             [
              0.4444444444444444,
              "#bd3786"
             ],
             [
              0.5555555555555556,
              "#d8576b"
             ],
             [
              0.6666666666666666,
              "#ed7953"
             ],
             [
              0.7777777777777778,
              "#fb9f3a"
             ],
             [
              0.8888888888888888,
              "#fdca26"
             ],
             [
              1,
              "#f0f921"
             ]
            ],
            "type": "contour"
           }
          ],
          "contourcarpet": [
           {
            "colorbar": {
             "outlinewidth": 0,
             "ticks": ""
            },
            "type": "contourcarpet"
           }
          ],
          "heatmap": [
           {
            "colorbar": {
             "outlinewidth": 0,
             "ticks": ""
            },
            "colorscale": [
             [
              0,
              "#0d0887"
             ],
             [
              0.1111111111111111,
              "#46039f"
             ],
             [
              0.2222222222222222,
              "#7201a8"
             ],
             [
              0.3333333333333333,
              "#9c179e"
             ],
             [
              0.4444444444444444,
              "#bd3786"
             ],
             [
              0.5555555555555556,
              "#d8576b"
             ],
             [
              0.6666666666666666,
              "#ed7953"
             ],
             [
              0.7777777777777778,
              "#fb9f3a"
             ],
             [
              0.8888888888888888,
              "#fdca26"
             ],
             [
              1,
              "#f0f921"
             ]
            ],
            "type": "heatmap"
           }
          ],
          "heatmapgl": [
           {
            "colorbar": {
             "outlinewidth": 0,
             "ticks": ""
            },
            "colorscale": [
             [
              0,
              "#0d0887"
             ],
             [
              0.1111111111111111,
              "#46039f"
             ],
             [
              0.2222222222222222,
              "#7201a8"
             ],
             [
              0.3333333333333333,
              "#9c179e"
             ],
             [
              0.4444444444444444,
              "#bd3786"
             ],
             [
              0.5555555555555556,
              "#d8576b"
             ],
             [
              0.6666666666666666,
              "#ed7953"
             ],
             [
              0.7777777777777778,
              "#fb9f3a"
             ],
             [
              0.8888888888888888,
              "#fdca26"
             ],
             [
              1,
              "#f0f921"
             ]
            ],
            "type": "heatmapgl"
           }
          ],
          "histogram": [
           {
            "marker": {
             "pattern": {
              "fillmode": "overlay",
              "size": 10,
              "solidity": 0.2
             }
            },
            "type": "histogram"
           }
          ],
          "histogram2d": [
           {
            "colorbar": {
             "outlinewidth": 0,
             "ticks": ""
            },
            "colorscale": [
             [
              0,
              "#0d0887"
             ],
             [
              0.1111111111111111,
              "#46039f"
             ],
             [
              0.2222222222222222,
              "#7201a8"
             ],
             [
              0.3333333333333333,
              "#9c179e"
             ],
             [
              0.4444444444444444,
              "#bd3786"
             ],
             [
              0.5555555555555556,
              "#d8576b"
             ],
             [
              0.6666666666666666,
              "#ed7953"
             ],
             [
              0.7777777777777778,
              "#fb9f3a"
             ],
             [
              0.8888888888888888,
              "#fdca26"
             ],
             [
              1,
              "#f0f921"
             ]
            ],
            "type": "histogram2d"
           }
          ],
          "histogram2dcontour": [
           {
            "colorbar": {
             "outlinewidth": 0,
             "ticks": ""
            },
            "colorscale": [
             [
              0,
              "#0d0887"
             ],
             [
              0.1111111111111111,
              "#46039f"
             ],
             [
              0.2222222222222222,
              "#7201a8"
             ],
             [
              0.3333333333333333,
              "#9c179e"
             ],
             [
              0.4444444444444444,
              "#bd3786"
             ],
             [
              0.5555555555555556,
              "#d8576b"
             ],
             [
              0.6666666666666666,
              "#ed7953"
             ],
             [
              0.7777777777777778,
              "#fb9f3a"
             ],
             [
              0.8888888888888888,
              "#fdca26"
             ],
             [
              1,
              "#f0f921"
             ]
            ],
            "type": "histogram2dcontour"
           }
          ],
          "mesh3d": [
           {
            "colorbar": {
             "outlinewidth": 0,
             "ticks": ""
            },
            "type": "mesh3d"
           }
          ],
          "parcoords": [
           {
            "line": {
             "colorbar": {
              "outlinewidth": 0,
              "ticks": ""
             }
            },
            "type": "parcoords"
           }
          ],
          "pie": [
           {
            "automargin": true,
            "type": "pie"
           }
          ],
          "scatter": [
           {
            "fillpattern": {
             "fillmode": "overlay",
             "size": 10,
             "solidity": 0.2
            },
            "type": "scatter"
           }
          ],
          "scatter3d": [
           {
            "line": {
             "colorbar": {
              "outlinewidth": 0,
              "ticks": ""
             }
            },
            "marker": {
             "colorbar": {
              "outlinewidth": 0,
              "ticks": ""
             }
            },
            "type": "scatter3d"
           }
          ],
          "scattercarpet": [
           {
            "marker": {
             "colorbar": {
              "outlinewidth": 0,
              "ticks": ""
             }
            },
            "type": "scattercarpet"
           }
          ],
          "scattergeo": [
           {
            "marker": {
             "colorbar": {
              "outlinewidth": 0,
              "ticks": ""
             }
            },
            "type": "scattergeo"
           }
          ],
          "scattergl": [
           {
            "marker": {
             "colorbar": {
              "outlinewidth": 0,
              "ticks": ""
             }
            },
            "type": "scattergl"
           }
          ],
          "scattermapbox": [
           {
            "marker": {
             "colorbar": {
              "outlinewidth": 0,
              "ticks": ""
             }
            },
            "type": "scattermapbox"
           }
          ],
          "scatterpolar": [
           {
            "marker": {
             "colorbar": {
              "outlinewidth": 0,
              "ticks": ""
             }
            },
            "type": "scatterpolar"
           }
          ],
          "scatterpolargl": [
           {
            "marker": {
             "colorbar": {
              "outlinewidth": 0,
              "ticks": ""
             }
            },
            "type": "scatterpolargl"
           }
          ],
          "scatterternary": [
           {
            "marker": {
             "colorbar": {
              "outlinewidth": 0,
              "ticks": ""
             }
            },
            "type": "scatterternary"
           }
          ],
          "surface": [
           {
            "colorbar": {
             "outlinewidth": 0,
             "ticks": ""
            },
            "colorscale": [
             [
              0,
              "#0d0887"
             ],
             [
              0.1111111111111111,
              "#46039f"
             ],
             [
              0.2222222222222222,
              "#7201a8"
             ],
             [
              0.3333333333333333,
              "#9c179e"
             ],
             [
              0.4444444444444444,
              "#bd3786"
             ],
             [
              0.5555555555555556,
              "#d8576b"
             ],
             [
              0.6666666666666666,
              "#ed7953"
             ],
             [
              0.7777777777777778,
              "#fb9f3a"
             ],
             [
              0.8888888888888888,
              "#fdca26"
             ],
             [
              1,
              "#f0f921"
             ]
            ],
            "type": "surface"
           }
          ],
          "table": [
           {
            "cells": {
             "fill": {
              "color": "#EBF0F8"
             },
             "line": {
              "color": "white"
             }
            },
            "header": {
             "fill": {
              "color": "#C8D4E3"
             },
             "line": {
              "color": "white"
             }
            },
            "type": "table"
           }
          ]
         },
         "layout": {
          "annotationdefaults": {
           "arrowcolor": "#2a3f5f",
           "arrowhead": 0,
           "arrowwidth": 1
          },
          "autotypenumbers": "strict",
          "coloraxis": {
           "colorbar": {
            "outlinewidth": 0,
            "ticks": ""
           }
          },
          "colorscale": {
           "diverging": [
            [
             0,
             "#8e0152"
            ],
            [
             0.1,
             "#c51b7d"
            ],
            [
             0.2,
             "#de77ae"
            ],
            [
             0.3,
             "#f1b6da"
            ],
            [
             0.4,
             "#fde0ef"
            ],
            [
             0.5,
             "#f7f7f7"
            ],
            [
             0.6,
             "#e6f5d0"
            ],
            [
             0.7,
             "#b8e186"
            ],
            [
             0.8,
             "#7fbc41"
            ],
            [
             0.9,
             "#4d9221"
            ],
            [
             1,
             "#276419"
            ]
           ],
           "sequential": [
            [
             0,
             "#0d0887"
            ],
            [
             0.1111111111111111,
             "#46039f"
            ],
            [
             0.2222222222222222,
             "#7201a8"
            ],
            [
             0.3333333333333333,
             "#9c179e"
            ],
            [
             0.4444444444444444,
             "#bd3786"
            ],
            [
             0.5555555555555556,
             "#d8576b"
            ],
            [
             0.6666666666666666,
             "#ed7953"
            ],
            [
             0.7777777777777778,
             "#fb9f3a"
            ],
            [
             0.8888888888888888,
             "#fdca26"
            ],
            [
             1,
             "#f0f921"
            ]
           ],
           "sequentialminus": [
            [
             0,
             "#0d0887"
            ],
            [
             0.1111111111111111,
             "#46039f"
            ],
            [
             0.2222222222222222,
             "#7201a8"
            ],
            [
             0.3333333333333333,
             "#9c179e"
            ],
            [
             0.4444444444444444,
             "#bd3786"
            ],
            [
             0.5555555555555556,
             "#d8576b"
            ],
            [
             0.6666666666666666,
             "#ed7953"
            ],
            [
             0.7777777777777778,
             "#fb9f3a"
            ],
            [
             0.8888888888888888,
             "#fdca26"
            ],
            [
             1,
             "#f0f921"
            ]
           ]
          },
          "colorway": [
           "#636efa",
           "#EF553B",
           "#00cc96",
           "#ab63fa",
           "#FFA15A",
           "#19d3f3",
           "#FF6692",
           "#B6E880",
           "#FF97FF",
           "#FECB52"
          ],
          "font": {
           "color": "#2a3f5f"
          },
          "geo": {
           "bgcolor": "white",
           "lakecolor": "white",
           "landcolor": "#E5ECF6",
           "showlakes": true,
           "showland": true,
           "subunitcolor": "white"
          },
          "hoverlabel": {
           "align": "left"
          },
          "hovermode": "closest",
          "mapbox": {
           "style": "light"
          },
          "paper_bgcolor": "white",
          "plot_bgcolor": "#E5ECF6",
          "polar": {
           "angularaxis": {
            "gridcolor": "white",
            "linecolor": "white",
            "ticks": ""
           },
           "bgcolor": "#E5ECF6",
           "radialaxis": {
            "gridcolor": "white",
            "linecolor": "white",
            "ticks": ""
           }
          },
          "scene": {
           "xaxis": {
            "backgroundcolor": "#E5ECF6",
            "gridcolor": "white",
            "gridwidth": 2,
            "linecolor": "white",
            "showbackground": true,
            "ticks": "",
            "zerolinecolor": "white"
           },
           "yaxis": {
            "backgroundcolor": "#E5ECF6",
            "gridcolor": "white",
            "gridwidth": 2,
            "linecolor": "white",
            "showbackground": true,
            "ticks": "",
            "zerolinecolor": "white"
           },
           "zaxis": {
            "backgroundcolor": "#E5ECF6",
            "gridcolor": "white",
            "gridwidth": 2,
            "linecolor": "white",
            "showbackground": true,
            "ticks": "",
            "zerolinecolor": "white"
           }
          },
          "shapedefaults": {
           "line": {
            "color": "#2a3f5f"
           }
          },
          "ternary": {
           "aaxis": {
            "gridcolor": "white",
            "linecolor": "white",
            "ticks": ""
           },
           "baxis": {
            "gridcolor": "white",
            "linecolor": "white",
            "ticks": ""
           },
           "bgcolor": "#E5ECF6",
           "caxis": {
            "gridcolor": "white",
            "linecolor": "white",
            "ticks": ""
           }
          },
          "title": {
           "x": 0.05
          },
          "xaxis": {
           "automargin": true,
           "gridcolor": "white",
           "linecolor": "white",
           "ticks": "",
           "title": {
            "standoff": 15
           },
           "zerolinecolor": "white",
           "zerolinewidth": 2
          },
          "yaxis": {
           "automargin": true,
           "gridcolor": "white",
           "linecolor": "white",
           "ticks": "",
           "title": {
            "standoff": 15
           },
           "zerolinecolor": "white",
           "zerolinewidth": 2
          }
         }
        },
        "xaxis": {
         "anchor": "y",
         "domain": [
          0,
          1
         ],
         "type": "linear"
        },
        "yaxis": {
         "anchor": "x",
         "autorange": "reversed",
         "domain": [
          0,
          1
         ],
         "title": {
          "text": "machine_name"
         }
        }
       }
      }
     },
     "metadata": {},
     "output_type": "display_data"
    }
   ],
   "source": [
    "fig = dispatcher.draw_gantt_chart(sort_by_machine_name=True)"
   ]
  },
  {
   "cell_type": "code",
   "execution_count": null,
   "metadata": {},
   "outputs": [],
   "source": []
  },
  {
   "attachments": {},
   "cell_type": "markdown",
   "metadata": {},
   "source": [
    "##### Visualisation"
   ]
  },
  {
   "cell_type": "code",
   "execution_count": 142,
   "metadata": {},
   "outputs": [],
   "source": [
    "import plotly.express as px\n",
    "import datetime"
   ]
  },
  {
   "cell_type": "code",
   "execution_count": 164,
   "metadata": {},
   "outputs": [],
   "source": [
    "dft_year = 1970\n",
    "dft_month = 1\n",
    "dft_day = 1"
   ]
  },
  {
   "cell_type": "code",
   "execution_count": 165,
   "metadata": {},
   "outputs": [],
   "source": [
    "start_time = 0\n",
    "end_time = 5\n",
    "date_obj_start = datetime.datetime(dft_year, dft_month, dft_day, hour=start_time)\n",
    "date_obj_end = datetime.datetime(dft_year, dft_month, dft_day, hour=end_time)"
   ]
  },
  {
   "cell_type": "code",
   "execution_count": 173,
   "metadata": {},
   "outputs": [],
   "source": [
    "df = dispatcher.op_db"
   ]
  },
  {
   "cell_type": "code",
   "execution_count": 174,
   "metadata": {},
   "outputs": [
    {
     "data": {
      "text/html": [
       "<div>\n",
       "<style scoped>\n",
       "    .dataframe tbody tr th:only-of-type {\n",
       "        vertical-align: middle;\n",
       "    }\n",
       "\n",
       "    .dataframe tbody tr th {\n",
       "        vertical-align: top;\n",
       "    }\n",
       "\n",
       "    .dataframe thead th {\n",
       "        text-align: right;\n",
       "    }\n",
       "</style>\n",
       "<table border=\"1\" class=\"dataframe\">\n",
       "  <thead>\n",
       "    <tr style=\"text-align: right;\">\n",
       "      <th></th>\n",
       "      <th>job_id</th>\n",
       "      <th>job_name</th>\n",
       "      <th>custom_id</th>\n",
       "      <th>op</th>\n",
       "      <th>name</th>\n",
       "      <th>machine</th>\n",
       "      <th>machine_name</th>\n",
       "      <th>duration</th>\n",
       "      <th>start_time</th>\n",
       "      <th>end_time</th>\n",
       "      <th>status</th>\n",
       "    </tr>\n",
       "    <tr>\n",
       "      <th>op_id</th>\n",
       "      <th></th>\n",
       "      <th></th>\n",
       "      <th></th>\n",
       "      <th></th>\n",
       "      <th></th>\n",
       "      <th></th>\n",
       "      <th></th>\n",
       "      <th></th>\n",
       "      <th></th>\n",
       "      <th></th>\n",
       "      <th></th>\n",
       "    </tr>\n",
       "  </thead>\n",
       "  <tbody>\n",
       "    <tr>\n",
       "      <th>0</th>\n",
       "      <td>0</td>\n",
       "      <td>J_gen_0</td>\n",
       "      <td>None</td>\n",
       "      <td>&lt;__main__.Operation object at 0x00000268CA5F8FD0&gt;</td>\n",
       "      <td>O_gen_0</td>\n",
       "      <td>Machine (M_env_2)</td>\n",
       "      <td>M_env_2</td>\n",
       "      <td>2.0</td>\n",
       "      <td>0.0</td>\n",
       "      <td>2.0</td>\n",
       "      <td>None</td>\n",
       "    </tr>\n",
       "    <tr>\n",
       "      <th>1</th>\n",
       "      <td>0</td>\n",
       "      <td>J_gen_0</td>\n",
       "      <td>None</td>\n",
       "      <td>&lt;__main__.Operation object at 0x00000268C8594D90&gt;</td>\n",
       "      <td>O_gen_1</td>\n",
       "      <td>Machine (M_env_0)</td>\n",
       "      <td>M_env_0</td>\n",
       "      <td>1.0</td>\n",
       "      <td>7.0</td>\n",
       "      <td>8.0</td>\n",
       "      <td>None</td>\n",
       "    </tr>\n",
       "    <tr>\n",
       "      <th>2</th>\n",
       "      <td>0</td>\n",
       "      <td>J_gen_0</td>\n",
       "      <td>None</td>\n",
       "      <td>&lt;__main__.Operation object at 0x00000268C85C3050&gt;</td>\n",
       "      <td>O_gen_2</td>\n",
       "      <td>Machine (M_env_1)</td>\n",
       "      <td>M_env_1</td>\n",
       "      <td>9.0</td>\n",
       "      <td>16.0</td>\n",
       "      <td>25.0</td>\n",
       "      <td>None</td>\n",
       "    </tr>\n",
       "    <tr>\n",
       "      <th>3</th>\n",
       "      <td>1</td>\n",
       "      <td>J_gen_1</td>\n",
       "      <td>None</td>\n",
       "      <td>&lt;__main__.Operation object at 0x00000268CA605650&gt;</td>\n",
       "      <td>O_gen_3</td>\n",
       "      <td>Machine (M_env_0)</td>\n",
       "      <td>M_env_0</td>\n",
       "      <td>7.0</td>\n",
       "      <td>0.0</td>\n",
       "      <td>7.0</td>\n",
       "      <td>None</td>\n",
       "    </tr>\n",
       "    <tr>\n",
       "      <th>4</th>\n",
       "      <td>1</td>\n",
       "      <td>J_gen_1</td>\n",
       "      <td>None</td>\n",
       "      <td>&lt;__main__.Operation object at 0x00000268CA60FFD0&gt;</td>\n",
       "      <td>O_gen_4</td>\n",
       "      <td>Machine (M_env_1)</td>\n",
       "      <td>M_env_1</td>\n",
       "      <td>9.0</td>\n",
       "      <td>7.0</td>\n",
       "      <td>16.0</td>\n",
       "      <td>None</td>\n",
       "    </tr>\n",
       "    <tr>\n",
       "      <th>5</th>\n",
       "      <td>1</td>\n",
       "      <td>J_gen_1</td>\n",
       "      <td>None</td>\n",
       "      <td>&lt;__main__.Operation object at 0x00000268CA603D50&gt;</td>\n",
       "      <td>O_gen_5</td>\n",
       "      <td>Machine (M_env_2)</td>\n",
       "      <td>M_env_2</td>\n",
       "      <td>6.0</td>\n",
       "      <td>16.0</td>\n",
       "      <td>22.0</td>\n",
       "      <td>None</td>\n",
       "    </tr>\n",
       "  </tbody>\n",
       "</table>\n",
       "</div>"
      ],
      "text/plain": [
       "       job_id job_name custom_id   \n",
       "op_id                              \n",
       "0           0  J_gen_0      None  \\\n",
       "1           0  J_gen_0      None   \n",
       "2           0  J_gen_0      None   \n",
       "3           1  J_gen_1      None   \n",
       "4           1  J_gen_1      None   \n",
       "5           1  J_gen_1      None   \n",
       "\n",
       "                                                      op     name   \n",
       "op_id                                                               \n",
       "0      <__main__.Operation object at 0x00000268CA5F8FD0>  O_gen_0  \\\n",
       "1      <__main__.Operation object at 0x00000268C8594D90>  O_gen_1   \n",
       "2      <__main__.Operation object at 0x00000268C85C3050>  O_gen_2   \n",
       "3      <__main__.Operation object at 0x00000268CA605650>  O_gen_3   \n",
       "4      <__main__.Operation object at 0x00000268CA60FFD0>  O_gen_4   \n",
       "5      <__main__.Operation object at 0x00000268CA603D50>  O_gen_5   \n",
       "\n",
       "                 machine machine_name  duration  start_time  end_time status  \n",
       "op_id                                                                         \n",
       "0      Machine (M_env_2)      M_env_2       2.0         0.0       2.0   None  \n",
       "1      Machine (M_env_0)      M_env_0       1.0         7.0       8.0   None  \n",
       "2      Machine (M_env_1)      M_env_1       9.0        16.0      25.0   None  \n",
       "3      Machine (M_env_0)      M_env_0       7.0         0.0       7.0   None  \n",
       "4      Machine (M_env_1)      M_env_1       9.0         7.0      16.0   None  \n",
       "5      Machine (M_env_2)      M_env_2       6.0        16.0      22.0   None  "
      ]
     },
     "execution_count": 174,
     "metadata": {},
     "output_type": "execute_result"
    }
   ],
   "source": [
    "df"
   ]
  },
  {
   "cell_type": "code",
   "execution_count": 175,
   "metadata": {},
   "outputs": [],
   "source": [
    "test = df.filter(items=['job_name', 'machine_name', 'start_time', 'end_time', 'duration'])"
   ]
  },
  {
   "cell_type": "code",
   "execution_count": 176,
   "metadata": {},
   "outputs": [
    {
     "data": {
      "text/html": [
       "<div>\n",
       "<style scoped>\n",
       "    .dataframe tbody tr th:only-of-type {\n",
       "        vertical-align: middle;\n",
       "    }\n",
       "\n",
       "    .dataframe tbody tr th {\n",
       "        vertical-align: top;\n",
       "    }\n",
       "\n",
       "    .dataframe thead th {\n",
       "        text-align: right;\n",
       "    }\n",
       "</style>\n",
       "<table border=\"1\" class=\"dataframe\">\n",
       "  <thead>\n",
       "    <tr style=\"text-align: right;\">\n",
       "      <th></th>\n",
       "      <th>job_name</th>\n",
       "      <th>machine_name</th>\n",
       "      <th>start_time</th>\n",
       "      <th>end_time</th>\n",
       "      <th>duration</th>\n",
       "    </tr>\n",
       "    <tr>\n",
       "      <th>op_id</th>\n",
       "      <th></th>\n",
       "      <th></th>\n",
       "      <th></th>\n",
       "      <th></th>\n",
       "      <th></th>\n",
       "    </tr>\n",
       "  </thead>\n",
       "  <tbody>\n",
       "    <tr>\n",
       "      <th>0</th>\n",
       "      <td>J_gen_0</td>\n",
       "      <td>M_env_2</td>\n",
       "      <td>0.0</td>\n",
       "      <td>2.0</td>\n",
       "      <td>2.0</td>\n",
       "    </tr>\n",
       "    <tr>\n",
       "      <th>1</th>\n",
       "      <td>J_gen_0</td>\n",
       "      <td>M_env_0</td>\n",
       "      <td>7.0</td>\n",
       "      <td>8.0</td>\n",
       "      <td>1.0</td>\n",
       "    </tr>\n",
       "    <tr>\n",
       "      <th>2</th>\n",
       "      <td>J_gen_0</td>\n",
       "      <td>M_env_1</td>\n",
       "      <td>16.0</td>\n",
       "      <td>25.0</td>\n",
       "      <td>9.0</td>\n",
       "    </tr>\n",
       "    <tr>\n",
       "      <th>3</th>\n",
       "      <td>J_gen_1</td>\n",
       "      <td>M_env_0</td>\n",
       "      <td>0.0</td>\n",
       "      <td>7.0</td>\n",
       "      <td>7.0</td>\n",
       "    </tr>\n",
       "    <tr>\n",
       "      <th>4</th>\n",
       "      <td>J_gen_1</td>\n",
       "      <td>M_env_1</td>\n",
       "      <td>7.0</td>\n",
       "      <td>16.0</td>\n",
       "      <td>9.0</td>\n",
       "    </tr>\n",
       "    <tr>\n",
       "      <th>5</th>\n",
       "      <td>J_gen_1</td>\n",
       "      <td>M_env_2</td>\n",
       "      <td>16.0</td>\n",
       "      <td>22.0</td>\n",
       "      <td>6.0</td>\n",
       "    </tr>\n",
       "  </tbody>\n",
       "</table>\n",
       "</div>"
      ],
      "text/plain": [
       "      job_name machine_name  start_time  end_time  duration\n",
       "op_id                                                      \n",
       "0      J_gen_0      M_env_2         0.0       2.0       2.0\n",
       "1      J_gen_0      M_env_0         7.0       8.0       1.0\n",
       "2      J_gen_0      M_env_1        16.0      25.0       9.0\n",
       "3      J_gen_1      M_env_0         0.0       7.0       7.0\n",
       "4      J_gen_1      M_env_1         7.0      16.0       9.0\n",
       "5      J_gen_1      M_env_2        16.0      22.0       6.0"
      ]
     },
     "execution_count": 176,
     "metadata": {},
     "output_type": "execute_result"
    }
   ],
   "source": [
    "test"
   ]
  },
  {
   "cell_type": "code",
   "execution_count": 177,
   "metadata": {},
   "outputs": [],
   "source": [
    "test['delta'] = test['end_time'] - test['start_time']"
   ]
  },
  {
   "cell_type": "code",
   "execution_count": 178,
   "metadata": {},
   "outputs": [],
   "source": [
    "test = test.sort_values('machine_name')"
   ]
  },
  {
   "cell_type": "code",
   "execution_count": 151,
   "metadata": {},
   "outputs": [
    {
     "data": {
      "text/plain": [
       "plotly.graph_objs._figure.Figure"
      ]
     },
     "execution_count": 151,
     "metadata": {},
     "output_type": "execute_result"
    }
   ],
   "source": [
    "type(fig)"
   ]
  },
  {
   "cell_type": "code",
   "execution_count": 179,
   "metadata": {},
   "outputs": [
    {
     "data": {
      "application/vnd.plotly.v1+json": {
       "config": {
        "plotlyServerURL": "https://plot.ly"
       },
       "data": [
        {
         "alignmentgroup": "True",
         "base": [
          7,
          16,
          0
         ],
         "hovertemplate": "job_name=J_gen_0<br>start_time=%{base}<br>end_time=%{x}<br>machine_name=%{y}<extra></extra>",
         "legendgroup": "J_gen_0",
         "marker": {
          "color": "#636efa",
          "pattern": {
           "shape": ""
          }
         },
         "name": "J_gen_0",
         "offsetgroup": "J_gen_0",
         "orientation": "h",
         "showlegend": true,
         "textposition": "auto",
         "type": "bar",
         "x": [
          1,
          9,
          2
         ],
         "xaxis": "x",
         "y": [
          "M_env_0",
          "M_env_1",
          "M_env_2"
         ],
         "yaxis": "y"
        },
        {
         "alignmentgroup": "True",
         "base": [
          0,
          7,
          16
         ],
         "hovertemplate": "job_name=J_gen_1<br>start_time=%{base}<br>end_time=%{x}<br>machine_name=%{y}<extra></extra>",
         "legendgroup": "J_gen_1",
         "marker": {
          "color": "#EF553B",
          "pattern": {
           "shape": ""
          }
         },
         "name": "J_gen_1",
         "offsetgroup": "J_gen_1",
         "orientation": "h",
         "showlegend": true,
         "textposition": "auto",
         "type": "bar",
         "x": [
          7,
          9,
          6
         ],
         "xaxis": "x",
         "y": [
          "M_env_0",
          "M_env_1",
          "M_env_2"
         ],
         "yaxis": "y"
        }
       ],
       "layout": {
        "barmode": "overlay",
        "legend": {
         "title": {
          "text": "job_name"
         },
         "tracegroupgap": 0
        },
        "margin": {
         "t": 60
        },
        "template": {
         "data": {
          "bar": [
           {
            "error_x": {
             "color": "#2a3f5f"
            },
            "error_y": {
             "color": "#2a3f5f"
            },
            "marker": {
             "line": {
              "color": "#E5ECF6",
              "width": 0.5
             },
             "pattern": {
              "fillmode": "overlay",
              "size": 10,
              "solidity": 0.2
             }
            },
            "type": "bar"
           }
          ],
          "barpolar": [
           {
            "marker": {
             "line": {
              "color": "#E5ECF6",
              "width": 0.5
             },
             "pattern": {
              "fillmode": "overlay",
              "size": 10,
              "solidity": 0.2
             }
            },
            "type": "barpolar"
           }
          ],
          "carpet": [
           {
            "aaxis": {
             "endlinecolor": "#2a3f5f",
             "gridcolor": "white",
             "linecolor": "white",
             "minorgridcolor": "white",
             "startlinecolor": "#2a3f5f"
            },
            "baxis": {
             "endlinecolor": "#2a3f5f",
             "gridcolor": "white",
             "linecolor": "white",
             "minorgridcolor": "white",
             "startlinecolor": "#2a3f5f"
            },
            "type": "carpet"
           }
          ],
          "choropleth": [
           {
            "colorbar": {
             "outlinewidth": 0,
             "ticks": ""
            },
            "type": "choropleth"
           }
          ],
          "contour": [
           {
            "colorbar": {
             "outlinewidth": 0,
             "ticks": ""
            },
            "colorscale": [
             [
              0,
              "#0d0887"
             ],
             [
              0.1111111111111111,
              "#46039f"
             ],
             [
              0.2222222222222222,
              "#7201a8"
             ],
             [
              0.3333333333333333,
              "#9c179e"
             ],
             [
              0.4444444444444444,
              "#bd3786"
             ],
             [
              0.5555555555555556,
              "#d8576b"
             ],
             [
              0.6666666666666666,
              "#ed7953"
             ],
             [
              0.7777777777777778,
              "#fb9f3a"
             ],
             [
              0.8888888888888888,
              "#fdca26"
             ],
             [
              1,
              "#f0f921"
             ]
            ],
            "type": "contour"
           }
          ],
          "contourcarpet": [
           {
            "colorbar": {
             "outlinewidth": 0,
             "ticks": ""
            },
            "type": "contourcarpet"
           }
          ],
          "heatmap": [
           {
            "colorbar": {
             "outlinewidth": 0,
             "ticks": ""
            },
            "colorscale": [
             [
              0,
              "#0d0887"
             ],
             [
              0.1111111111111111,
              "#46039f"
             ],
             [
              0.2222222222222222,
              "#7201a8"
             ],
             [
              0.3333333333333333,
              "#9c179e"
             ],
             [
              0.4444444444444444,
              "#bd3786"
             ],
             [
              0.5555555555555556,
              "#d8576b"
             ],
             [
              0.6666666666666666,
              "#ed7953"
             ],
             [
              0.7777777777777778,
              "#fb9f3a"
             ],
             [
              0.8888888888888888,
              "#fdca26"
             ],
             [
              1,
              "#f0f921"
             ]
            ],
            "type": "heatmap"
           }
          ],
          "heatmapgl": [
           {
            "colorbar": {
             "outlinewidth": 0,
             "ticks": ""
            },
            "colorscale": [
             [
              0,
              "#0d0887"
             ],
             [
              0.1111111111111111,
              "#46039f"
             ],
             [
              0.2222222222222222,
              "#7201a8"
             ],
             [
              0.3333333333333333,
              "#9c179e"
             ],
             [
              0.4444444444444444,
              "#bd3786"
             ],
             [
              0.5555555555555556,
              "#d8576b"
             ],
             [
              0.6666666666666666,
              "#ed7953"
             ],
             [
              0.7777777777777778,
              "#fb9f3a"
             ],
             [
              0.8888888888888888,
              "#fdca26"
             ],
             [
              1,
              "#f0f921"
             ]
            ],
            "type": "heatmapgl"
           }
          ],
          "histogram": [
           {
            "marker": {
             "pattern": {
              "fillmode": "overlay",
              "size": 10,
              "solidity": 0.2
             }
            },
            "type": "histogram"
           }
          ],
          "histogram2d": [
           {
            "colorbar": {
             "outlinewidth": 0,
             "ticks": ""
            },
            "colorscale": [
             [
              0,
              "#0d0887"
             ],
             [
              0.1111111111111111,
              "#46039f"
             ],
             [
              0.2222222222222222,
              "#7201a8"
             ],
             [
              0.3333333333333333,
              "#9c179e"
             ],
             [
              0.4444444444444444,
              "#bd3786"
             ],
             [
              0.5555555555555556,
              "#d8576b"
             ],
             [
              0.6666666666666666,
              "#ed7953"
             ],
             [
              0.7777777777777778,
              "#fb9f3a"
             ],
             [
              0.8888888888888888,
              "#fdca26"
             ],
             [
              1,
              "#f0f921"
             ]
            ],
            "type": "histogram2d"
           }
          ],
          "histogram2dcontour": [
           {
            "colorbar": {
             "outlinewidth": 0,
             "ticks": ""
            },
            "colorscale": [
             [
              0,
              "#0d0887"
             ],
             [
              0.1111111111111111,
              "#46039f"
             ],
             [
              0.2222222222222222,
              "#7201a8"
             ],
             [
              0.3333333333333333,
              "#9c179e"
             ],
             [
              0.4444444444444444,
              "#bd3786"
             ],
             [
              0.5555555555555556,
              "#d8576b"
             ],
             [
              0.6666666666666666,
              "#ed7953"
             ],
             [
              0.7777777777777778,
              "#fb9f3a"
             ],
             [
              0.8888888888888888,
              "#fdca26"
             ],
             [
              1,
              "#f0f921"
             ]
            ],
            "type": "histogram2dcontour"
           }
          ],
          "mesh3d": [
           {
            "colorbar": {
             "outlinewidth": 0,
             "ticks": ""
            },
            "type": "mesh3d"
           }
          ],
          "parcoords": [
           {
            "line": {
             "colorbar": {
              "outlinewidth": 0,
              "ticks": ""
             }
            },
            "type": "parcoords"
           }
          ],
          "pie": [
           {
            "automargin": true,
            "type": "pie"
           }
          ],
          "scatter": [
           {
            "fillpattern": {
             "fillmode": "overlay",
             "size": 10,
             "solidity": 0.2
            },
            "type": "scatter"
           }
          ],
          "scatter3d": [
           {
            "line": {
             "colorbar": {
              "outlinewidth": 0,
              "ticks": ""
             }
            },
            "marker": {
             "colorbar": {
              "outlinewidth": 0,
              "ticks": ""
             }
            },
            "type": "scatter3d"
           }
          ],
          "scattercarpet": [
           {
            "marker": {
             "colorbar": {
              "outlinewidth": 0,
              "ticks": ""
             }
            },
            "type": "scattercarpet"
           }
          ],
          "scattergeo": [
           {
            "marker": {
             "colorbar": {
              "outlinewidth": 0,
              "ticks": ""
             }
            },
            "type": "scattergeo"
           }
          ],
          "scattergl": [
           {
            "marker": {
             "colorbar": {
              "outlinewidth": 0,
              "ticks": ""
             }
            },
            "type": "scattergl"
           }
          ],
          "scattermapbox": [
           {
            "marker": {
             "colorbar": {
              "outlinewidth": 0,
              "ticks": ""
             }
            },
            "type": "scattermapbox"
           }
          ],
          "scatterpolar": [
           {
            "marker": {
             "colorbar": {
              "outlinewidth": 0,
              "ticks": ""
             }
            },
            "type": "scatterpolar"
           }
          ],
          "scatterpolargl": [
           {
            "marker": {
             "colorbar": {
              "outlinewidth": 0,
              "ticks": ""
             }
            },
            "type": "scatterpolargl"
           }
          ],
          "scatterternary": [
           {
            "marker": {
             "colorbar": {
              "outlinewidth": 0,
              "ticks": ""
             }
            },
            "type": "scatterternary"
           }
          ],
          "surface": [
           {
            "colorbar": {
             "outlinewidth": 0,
             "ticks": ""
            },
            "colorscale": [
             [
              0,
              "#0d0887"
             ],
             [
              0.1111111111111111,
              "#46039f"
             ],
             [
              0.2222222222222222,
              "#7201a8"
             ],
             [
              0.3333333333333333,
              "#9c179e"
             ],
             [
              0.4444444444444444,
              "#bd3786"
             ],
             [
              0.5555555555555556,
              "#d8576b"
             ],
             [
              0.6666666666666666,
              "#ed7953"
             ],
             [
              0.7777777777777778,
              "#fb9f3a"
             ],
             [
              0.8888888888888888,
              "#fdca26"
             ],
             [
              1,
              "#f0f921"
             ]
            ],
            "type": "surface"
           }
          ],
          "table": [
           {
            "cells": {
             "fill": {
              "color": "#EBF0F8"
             },
             "line": {
              "color": "white"
             }
            },
            "header": {
             "fill": {
              "color": "#C8D4E3"
             },
             "line": {
              "color": "white"
             }
            },
            "type": "table"
           }
          ]
         },
         "layout": {
          "annotationdefaults": {
           "arrowcolor": "#2a3f5f",
           "arrowhead": 0,
           "arrowwidth": 1
          },
          "autotypenumbers": "strict",
          "coloraxis": {
           "colorbar": {
            "outlinewidth": 0,
            "ticks": ""
           }
          },
          "colorscale": {
           "diverging": [
            [
             0,
             "#8e0152"
            ],
            [
             0.1,
             "#c51b7d"
            ],
            [
             0.2,
             "#de77ae"
            ],
            [
             0.3,
             "#f1b6da"
            ],
            [
             0.4,
             "#fde0ef"
            ],
            [
             0.5,
             "#f7f7f7"
            ],
            [
             0.6,
             "#e6f5d0"
            ],
            [
             0.7,
             "#b8e186"
            ],
            [
             0.8,
             "#7fbc41"
            ],
            [
             0.9,
             "#4d9221"
            ],
            [
             1,
             "#276419"
            ]
           ],
           "sequential": [
            [
             0,
             "#0d0887"
            ],
            [
             0.1111111111111111,
             "#46039f"
            ],
            [
             0.2222222222222222,
             "#7201a8"
            ],
            [
             0.3333333333333333,
             "#9c179e"
            ],
            [
             0.4444444444444444,
             "#bd3786"
            ],
            [
             0.5555555555555556,
             "#d8576b"
            ],
            [
             0.6666666666666666,
             "#ed7953"
            ],
            [
             0.7777777777777778,
             "#fb9f3a"
            ],
            [
             0.8888888888888888,
             "#fdca26"
            ],
            [
             1,
             "#f0f921"
            ]
           ],
           "sequentialminus": [
            [
             0,
             "#0d0887"
            ],
            [
             0.1111111111111111,
             "#46039f"
            ],
            [
             0.2222222222222222,
             "#7201a8"
            ],
            [
             0.3333333333333333,
             "#9c179e"
            ],
            [
             0.4444444444444444,
             "#bd3786"
            ],
            [
             0.5555555555555556,
             "#d8576b"
            ],
            [
             0.6666666666666666,
             "#ed7953"
            ],
            [
             0.7777777777777778,
             "#fb9f3a"
            ],
            [
             0.8888888888888888,
             "#fdca26"
            ],
            [
             1,
             "#f0f921"
            ]
           ]
          },
          "colorway": [
           "#636efa",
           "#EF553B",
           "#00cc96",
           "#ab63fa",
           "#FFA15A",
           "#19d3f3",
           "#FF6692",
           "#B6E880",
           "#FF97FF",
           "#FECB52"
          ],
          "font": {
           "color": "#2a3f5f"
          },
          "geo": {
           "bgcolor": "white",
           "lakecolor": "white",
           "landcolor": "#E5ECF6",
           "showlakes": true,
           "showland": true,
           "subunitcolor": "white"
          },
          "hoverlabel": {
           "align": "left"
          },
          "hovermode": "closest",
          "mapbox": {
           "style": "light"
          },
          "paper_bgcolor": "white",
          "plot_bgcolor": "#E5ECF6",
          "polar": {
           "angularaxis": {
            "gridcolor": "white",
            "linecolor": "white",
            "ticks": ""
           },
           "bgcolor": "#E5ECF6",
           "radialaxis": {
            "gridcolor": "white",
            "linecolor": "white",
            "ticks": ""
           }
          },
          "scene": {
           "xaxis": {
            "backgroundcolor": "#E5ECF6",
            "gridcolor": "white",
            "gridwidth": 2,
            "linecolor": "white",
            "showbackground": true,
            "ticks": "",
            "zerolinecolor": "white"
           },
           "yaxis": {
            "backgroundcolor": "#E5ECF6",
            "gridcolor": "white",
            "gridwidth": 2,
            "linecolor": "white",
            "showbackground": true,
            "ticks": "",
            "zerolinecolor": "white"
           },
           "zaxis": {
            "backgroundcolor": "#E5ECF6",
            "gridcolor": "white",
            "gridwidth": 2,
            "linecolor": "white",
            "showbackground": true,
            "ticks": "",
            "zerolinecolor": "white"
           }
          },
          "shapedefaults": {
           "line": {
            "color": "#2a3f5f"
           }
          },
          "ternary": {
           "aaxis": {
            "gridcolor": "white",
            "linecolor": "white",
            "ticks": ""
           },
           "baxis": {
            "gridcolor": "white",
            "linecolor": "white",
            "ticks": ""
           },
           "bgcolor": "#E5ECF6",
           "caxis": {
            "gridcolor": "white",
            "linecolor": "white",
            "ticks": ""
           }
          },
          "title": {
           "x": 0.05
          },
          "xaxis": {
           "automargin": true,
           "gridcolor": "white",
           "linecolor": "white",
           "ticks": "",
           "title": {
            "standoff": 15
           },
           "zerolinecolor": "white",
           "zerolinewidth": 2
          },
          "yaxis": {
           "automargin": true,
           "gridcolor": "white",
           "linecolor": "white",
           "ticks": "",
           "title": {
            "standoff": 15
           },
           "zerolinecolor": "white",
           "zerolinewidth": 2
          }
         }
        },
        "xaxis": {
         "anchor": "y",
         "domain": [
          0,
          1
         ],
         "type": "linear"
        },
        "yaxis": {
         "anchor": "x",
         "autorange": "reversed",
         "domain": [
          0,
          1
         ],
         "title": {
          "text": "machine_name"
         }
        }
       }
      }
     },
     "metadata": {},
     "output_type": "display_data"
    }
   ],
   "source": [
    "fig = px.timeline(test, x_start='start_time', x_end='end_time', y='machine_name', color='job_name')\n",
    "fig.update_yaxes(autorange='reversed')\n",
    "fig.layout.xaxis.type = 'linear'\n",
    "\n",
    "for d in fig.data:\n",
    "    filt = test['job_name'] == d.name\n",
    "    #d.x = test[filt]['delta']\n",
    "    d.x = test.loc[filt, 'duration']\n",
    "\n",
    "fig.show()"
   ]
  },
  {
   "cell_type": "code",
   "execution_count": 180,
   "metadata": {},
   "outputs": [
    {
     "data": {
      "text/plain": [
       "(Bar({\n",
       "     'alignmentgroup': 'True',\n",
       "     'base': array([7.0, 16.0, 0.0], dtype=object),\n",
       "     'hovertemplate': ('job_name=J_gen_0<br>start_time' ... 'chine_name=%{y}<extra></extra>'),\n",
       "     'legendgroup': 'J_gen_0',\n",
       "     'marker': {'color': '#636efa', 'pattern': {'shape': ''}},\n",
       "     'name': 'J_gen_0',\n",
       "     'offsetgroup': 'J_gen_0',\n",
       "     'orientation': 'h',\n",
       "     'showlegend': True,\n",
       "     'textposition': 'auto',\n",
       "     'x': array([1., 9., 2.]),\n",
       "     'xaxis': 'x',\n",
       "     'y': array(['M_env_0', 'M_env_1', 'M_env_2'], dtype=object),\n",
       "     'yaxis': 'y'\n",
       " }),\n",
       " Bar({\n",
       "     'alignmentgroup': 'True',\n",
       "     'base': array([0.0, 7.0, 16.0], dtype=object),\n",
       "     'hovertemplate': ('job_name=J_gen_1<br>start_time' ... 'chine_name=%{y}<extra></extra>'),\n",
       "     'legendgroup': 'J_gen_1',\n",
       "     'marker': {'color': '#EF553B', 'pattern': {'shape': ''}},\n",
       "     'name': 'J_gen_1',\n",
       "     'offsetgroup': 'J_gen_1',\n",
       "     'orientation': 'h',\n",
       "     'showlegend': True,\n",
       "     'textposition': 'auto',\n",
       "     'x': array([7., 9., 6.]),\n",
       "     'xaxis': 'x',\n",
       "     'y': array(['M_env_0', 'M_env_1', 'M_env_2'], dtype=object),\n",
       "     'yaxis': 'y'\n",
       " }))"
      ]
     },
     "execution_count": 180,
     "metadata": {},
     "output_type": "execute_result"
    }
   ],
   "source": [
    "fig.data"
   ]
  },
  {
   "cell_type": "code",
   "execution_count": null,
   "metadata": {},
   "outputs": [],
   "source": []
  },
  {
   "cell_type": "code",
   "execution_count": 217,
   "metadata": {},
   "outputs": [
    {
     "data": {
      "application/vnd.plotly.v1+json": {
       "config": {
        "plotlyServerURL": "https://plot.ly"
       },
       "data": [
        {
         "alignmentgroup": "True",
         "base": [
          0
         ],
         "hovertemplate": "Job=J1<br>Start=%{base}<br>Finish=%{x}<br>Resource=%{y}<extra></extra>",
         "legendgroup": "J1",
         "marker": {
          "color": "#636efa",
          "pattern": {
           "shape": ""
          }
         },
         "name": "J1",
         "offsetgroup": "J1",
         "orientation": "h",
         "showlegend": true,
         "textposition": "auto",
         "type": "bar",
         "x": [
          10
         ],
         "xaxis": "x",
         "y": [
          "M1"
         ],
         "yaxis": "y"
        },
        {
         "alignmentgroup": "True",
         "base": [
          0,
          11
         ],
         "hovertemplate": "Job=J2<br>Start=%{base}<br>Finish=%{x}<br>Resource=%{y}<extra></extra>",
         "legendgroup": "J2",
         "marker": {
          "color": "#EF553B",
          "pattern": {
           "shape": ""
          }
         },
         "name": "J2",
         "offsetgroup": "J2",
         "orientation": "h",
         "showlegend": true,
         "textposition": "auto",
         "type": "bar",
         "x": [
          5,
          4
         ],
         "xaxis": "x",
         "y": [
          "M2",
          "M1"
         ],
         "yaxis": "y"
        }
       ],
       "layout": {
        "barmode": "overlay",
        "legend": {
         "title": {
          "text": "Job"
         },
         "tracegroupgap": 0
        },
        "margin": {
         "t": 60
        },
        "template": {
         "data": {
          "bar": [
           {
            "error_x": {
             "color": "#2a3f5f"
            },
            "error_y": {
             "color": "#2a3f5f"
            },
            "marker": {
             "line": {
              "color": "#E5ECF6",
              "width": 0.5
             },
             "pattern": {
              "fillmode": "overlay",
              "size": 10,
              "solidity": 0.2
             }
            },
            "type": "bar"
           }
          ],
          "barpolar": [
           {
            "marker": {
             "line": {
              "color": "#E5ECF6",
              "width": 0.5
             },
             "pattern": {
              "fillmode": "overlay",
              "size": 10,
              "solidity": 0.2
             }
            },
            "type": "barpolar"
           }
          ],
          "carpet": [
           {
            "aaxis": {
             "endlinecolor": "#2a3f5f",
             "gridcolor": "white",
             "linecolor": "white",
             "minorgridcolor": "white",
             "startlinecolor": "#2a3f5f"
            },
            "baxis": {
             "endlinecolor": "#2a3f5f",
             "gridcolor": "white",
             "linecolor": "white",
             "minorgridcolor": "white",
             "startlinecolor": "#2a3f5f"
            },
            "type": "carpet"
           }
          ],
          "choropleth": [
           {
            "colorbar": {
             "outlinewidth": 0,
             "ticks": ""
            },
            "type": "choropleth"
           }
          ],
          "contour": [
           {
            "colorbar": {
             "outlinewidth": 0,
             "ticks": ""
            },
            "colorscale": [
             [
              0,
              "#0d0887"
             ],
             [
              0.1111111111111111,
              "#46039f"
             ],
             [
              0.2222222222222222,
              "#7201a8"
             ],
             [
              0.3333333333333333,
              "#9c179e"
             ],
             [
              0.4444444444444444,
              "#bd3786"
             ],
             [
              0.5555555555555556,
              "#d8576b"
             ],
             [
              0.6666666666666666,
              "#ed7953"
             ],
             [
              0.7777777777777778,
              "#fb9f3a"
             ],
             [
              0.8888888888888888,
              "#fdca26"
             ],
             [
              1,
              "#f0f921"
             ]
            ],
            "type": "contour"
           }
          ],
          "contourcarpet": [
           {
            "colorbar": {
             "outlinewidth": 0,
             "ticks": ""
            },
            "type": "contourcarpet"
           }
          ],
          "heatmap": [
           {
            "colorbar": {
             "outlinewidth": 0,
             "ticks": ""
            },
            "colorscale": [
             [
              0,
              "#0d0887"
             ],
             [
              0.1111111111111111,
              "#46039f"
             ],
             [
              0.2222222222222222,
              "#7201a8"
             ],
             [
              0.3333333333333333,
              "#9c179e"
             ],
             [
              0.4444444444444444,
              "#bd3786"
             ],
             [
              0.5555555555555556,
              "#d8576b"
             ],
             [
              0.6666666666666666,
              "#ed7953"
             ],
             [
              0.7777777777777778,
              "#fb9f3a"
             ],
             [
              0.8888888888888888,
              "#fdca26"
             ],
             [
              1,
              "#f0f921"
             ]
            ],
            "type": "heatmap"
           }
          ],
          "heatmapgl": [
           {
            "colorbar": {
             "outlinewidth": 0,
             "ticks": ""
            },
            "colorscale": [
             [
              0,
              "#0d0887"
             ],
             [
              0.1111111111111111,
              "#46039f"
             ],
             [
              0.2222222222222222,
              "#7201a8"
             ],
             [
              0.3333333333333333,
              "#9c179e"
             ],
             [
              0.4444444444444444,
              "#bd3786"
             ],
             [
              0.5555555555555556,
              "#d8576b"
             ],
             [
              0.6666666666666666,
              "#ed7953"
             ],
             [
              0.7777777777777778,
              "#fb9f3a"
             ],
             [
              0.8888888888888888,
              "#fdca26"
             ],
             [
              1,
              "#f0f921"
             ]
            ],
            "type": "heatmapgl"
           }
          ],
          "histogram": [
           {
            "marker": {
             "pattern": {
              "fillmode": "overlay",
              "size": 10,
              "solidity": 0.2
             }
            },
            "type": "histogram"
           }
          ],
          "histogram2d": [
           {
            "colorbar": {
             "outlinewidth": 0,
             "ticks": ""
            },
            "colorscale": [
             [
              0,
              "#0d0887"
             ],
             [
              0.1111111111111111,
              "#46039f"
             ],
             [
              0.2222222222222222,
              "#7201a8"
             ],
             [
              0.3333333333333333,
              "#9c179e"
             ],
             [
              0.4444444444444444,
              "#bd3786"
             ],
             [
              0.5555555555555556,
              "#d8576b"
             ],
             [
              0.6666666666666666,
              "#ed7953"
             ],
             [
              0.7777777777777778,
              "#fb9f3a"
             ],
             [
              0.8888888888888888,
              "#fdca26"
             ],
             [
              1,
              "#f0f921"
             ]
            ],
            "type": "histogram2d"
           }
          ],
          "histogram2dcontour": [
           {
            "colorbar": {
             "outlinewidth": 0,
             "ticks": ""
            },
            "colorscale": [
             [
              0,
              "#0d0887"
             ],
             [
              0.1111111111111111,
              "#46039f"
             ],
             [
              0.2222222222222222,
              "#7201a8"
             ],
             [
              0.3333333333333333,
              "#9c179e"
             ],
             [
              0.4444444444444444,
              "#bd3786"
             ],
             [
              0.5555555555555556,
              "#d8576b"
             ],
             [
              0.6666666666666666,
              "#ed7953"
             ],
             [
              0.7777777777777778,
              "#fb9f3a"
             ],
             [
              0.8888888888888888,
              "#fdca26"
             ],
             [
              1,
              "#f0f921"
             ]
            ],
            "type": "histogram2dcontour"
           }
          ],
          "mesh3d": [
           {
            "colorbar": {
             "outlinewidth": 0,
             "ticks": ""
            },
            "type": "mesh3d"
           }
          ],
          "parcoords": [
           {
            "line": {
             "colorbar": {
              "outlinewidth": 0,
              "ticks": ""
             }
            },
            "type": "parcoords"
           }
          ],
          "pie": [
           {
            "automargin": true,
            "type": "pie"
           }
          ],
          "scatter": [
           {
            "fillpattern": {
             "fillmode": "overlay",
             "size": 10,
             "solidity": 0.2
            },
            "type": "scatter"
           }
          ],
          "scatter3d": [
           {
            "line": {
             "colorbar": {
              "outlinewidth": 0,
              "ticks": ""
             }
            },
            "marker": {
             "colorbar": {
              "outlinewidth": 0,
              "ticks": ""
             }
            },
            "type": "scatter3d"
           }
          ],
          "scattercarpet": [
           {
            "marker": {
             "colorbar": {
              "outlinewidth": 0,
              "ticks": ""
             }
            },
            "type": "scattercarpet"
           }
          ],
          "scattergeo": [
           {
            "marker": {
             "colorbar": {
              "outlinewidth": 0,
              "ticks": ""
             }
            },
            "type": "scattergeo"
           }
          ],
          "scattergl": [
           {
            "marker": {
             "colorbar": {
              "outlinewidth": 0,
              "ticks": ""
             }
            },
            "type": "scattergl"
           }
          ],
          "scattermapbox": [
           {
            "marker": {
             "colorbar": {
              "outlinewidth": 0,
              "ticks": ""
             }
            },
            "type": "scattermapbox"
           }
          ],
          "scatterpolar": [
           {
            "marker": {
             "colorbar": {
              "outlinewidth": 0,
              "ticks": ""
             }
            },
            "type": "scatterpolar"
           }
          ],
          "scatterpolargl": [
           {
            "marker": {
             "colorbar": {
              "outlinewidth": 0,
              "ticks": ""
             }
            },
            "type": "scatterpolargl"
           }
          ],
          "scatterternary": [
           {
            "marker": {
             "colorbar": {
              "outlinewidth": 0,
              "ticks": ""
             }
            },
            "type": "scatterternary"
           }
          ],
          "surface": [
           {
            "colorbar": {
             "outlinewidth": 0,
             "ticks": ""
            },
            "colorscale": [
             [
              0,
              "#0d0887"
             ],
             [
              0.1111111111111111,
              "#46039f"
             ],
             [
              0.2222222222222222,
              "#7201a8"
             ],
             [
              0.3333333333333333,
              "#9c179e"
             ],
             [
              0.4444444444444444,
              "#bd3786"
             ],
             [
              0.5555555555555556,
              "#d8576b"
             ],
             [
              0.6666666666666666,
              "#ed7953"
             ],
             [
              0.7777777777777778,
              "#fb9f3a"
             ],
             [
              0.8888888888888888,
              "#fdca26"
             ],
             [
              1,
              "#f0f921"
             ]
            ],
            "type": "surface"
           }
          ],
          "table": [
           {
            "cells": {
             "fill": {
              "color": "#EBF0F8"
             },
             "line": {
              "color": "white"
             }
            },
            "header": {
             "fill": {
              "color": "#C8D4E3"
             },
             "line": {
              "color": "white"
             }
            },
            "type": "table"
           }
          ]
         },
         "layout": {
          "annotationdefaults": {
           "arrowcolor": "#2a3f5f",
           "arrowhead": 0,
           "arrowwidth": 1
          },
          "autotypenumbers": "strict",
          "coloraxis": {
           "colorbar": {
            "outlinewidth": 0,
            "ticks": ""
           }
          },
          "colorscale": {
           "diverging": [
            [
             0,
             "#8e0152"
            ],
            [
             0.1,
             "#c51b7d"
            ],
            [
             0.2,
             "#de77ae"
            ],
            [
             0.3,
             "#f1b6da"
            ],
            [
             0.4,
             "#fde0ef"
            ],
            [
             0.5,
             "#f7f7f7"
            ],
            [
             0.6,
             "#e6f5d0"
            ],
            [
             0.7,
             "#b8e186"
            ],
            [
             0.8,
             "#7fbc41"
            ],
            [
             0.9,
             "#4d9221"
            ],
            [
             1,
             "#276419"
            ]
           ],
           "sequential": [
            [
             0,
             "#0d0887"
            ],
            [
             0.1111111111111111,
             "#46039f"
            ],
            [
             0.2222222222222222,
             "#7201a8"
            ],
            [
             0.3333333333333333,
             "#9c179e"
            ],
            [
             0.4444444444444444,
             "#bd3786"
            ],
            [
             0.5555555555555556,
             "#d8576b"
            ],
            [
             0.6666666666666666,
             "#ed7953"
            ],
            [
             0.7777777777777778,
             "#fb9f3a"
            ],
            [
             0.8888888888888888,
             "#fdca26"
            ],
            [
             1,
             "#f0f921"
            ]
           ],
           "sequentialminus": [
            [
             0,
             "#0d0887"
            ],
            [
             0.1111111111111111,
             "#46039f"
            ],
            [
             0.2222222222222222,
             "#7201a8"
            ],
            [
             0.3333333333333333,
             "#9c179e"
            ],
            [
             0.4444444444444444,
             "#bd3786"
            ],
            [
             0.5555555555555556,
             "#d8576b"
            ],
            [
             0.6666666666666666,
             "#ed7953"
            ],
            [
             0.7777777777777778,
             "#fb9f3a"
            ],
            [
             0.8888888888888888,
             "#fdca26"
            ],
            [
             1,
             "#f0f921"
            ]
           ]
          },
          "colorway": [
           "#636efa",
           "#EF553B",
           "#00cc96",
           "#ab63fa",
           "#FFA15A",
           "#19d3f3",
           "#FF6692",
           "#B6E880",
           "#FF97FF",
           "#FECB52"
          ],
          "font": {
           "color": "#2a3f5f"
          },
          "geo": {
           "bgcolor": "white",
           "lakecolor": "white",
           "landcolor": "#E5ECF6",
           "showlakes": true,
           "showland": true,
           "subunitcolor": "white"
          },
          "hoverlabel": {
           "align": "left"
          },
          "hovermode": "closest",
          "mapbox": {
           "style": "light"
          },
          "paper_bgcolor": "white",
          "plot_bgcolor": "#E5ECF6",
          "polar": {
           "angularaxis": {
            "gridcolor": "white",
            "linecolor": "white",
            "ticks": ""
           },
           "bgcolor": "#E5ECF6",
           "radialaxis": {
            "gridcolor": "white",
            "linecolor": "white",
            "ticks": ""
           }
          },
          "scene": {
           "xaxis": {
            "backgroundcolor": "#E5ECF6",
            "gridcolor": "white",
            "gridwidth": 2,
            "linecolor": "white",
            "showbackground": true,
            "ticks": "",
            "zerolinecolor": "white"
           },
           "yaxis": {
            "backgroundcolor": "#E5ECF6",
            "gridcolor": "white",
            "gridwidth": 2,
            "linecolor": "white",
            "showbackground": true,
            "ticks": "",
            "zerolinecolor": "white"
           },
           "zaxis": {
            "backgroundcolor": "#E5ECF6",
            "gridcolor": "white",
            "gridwidth": 2,
            "linecolor": "white",
            "showbackground": true,
            "ticks": "",
            "zerolinecolor": "white"
           }
          },
          "shapedefaults": {
           "line": {
            "color": "#2a3f5f"
           }
          },
          "ternary": {
           "aaxis": {
            "gridcolor": "white",
            "linecolor": "white",
            "ticks": ""
           },
           "baxis": {
            "gridcolor": "white",
            "linecolor": "white",
            "ticks": ""
           },
           "bgcolor": "#E5ECF6",
           "caxis": {
            "gridcolor": "white",
            "linecolor": "white",
            "ticks": ""
           }
          },
          "title": {
           "x": 0.05
          },
          "xaxis": {
           "automargin": true,
           "gridcolor": "white",
           "linecolor": "white",
           "ticks": "",
           "title": {
            "standoff": 15
           },
           "zerolinecolor": "white",
           "zerolinewidth": 2
          },
          "yaxis": {
           "automargin": true,
           "gridcolor": "white",
           "linecolor": "white",
           "ticks": "",
           "title": {
            "standoff": 15
           },
           "zerolinecolor": "white",
           "zerolinewidth": 2
          }
         }
        },
        "xaxis": {
         "anchor": "y",
         "domain": [
          0,
          1
         ],
         "type": "linear"
        },
        "yaxis": {
         "anchor": "x",
         "autorange": "reversed",
         "domain": [
          0,
          1
         ],
         "title": {
          "text": "Resource"
         }
        }
       }
      }
     },
     "metadata": {},
     "output_type": "display_data"
    }
   ],
   "source": [
    "# https://stackoverflow.com/questions/66078893/plotly-express-timeline-for-gantt-chart-with-integer-xaxis\n",
    "df = pd.DataFrame([\n",
    "    dict(Resource=\"M1\", Start=0, Finish=10, Job=\"J1\"),\n",
    "    dict(Resource=\"M2\", Start=0, Finish=5, Job=\"J2\"),\n",
    "    dict(Resource=\"M1\", Start=11, Finish=15, Job=\"J2\")\n",
    "])\n",
    "df['delta'] = df['Finish'] - df['Start']\n",
    "\n",
    "fig = px.timeline(df, x_start='Start', x_end='Finish', y='Resource', color='Job')\n",
    "fig.update_yaxes(autorange='reversed')\n",
    "fig.layout.xaxis.type = 'linear'\n",
    "\n",
    "for d in fig.data:\n",
    "    filt = df['Job'] == d.name\n",
    "    d.x = df[filt]['delta']\n",
    "\n",
    "fig.show()\n"
   ]
  },
  {
   "cell_type": "code",
   "execution_count": 208,
   "metadata": {},
   "outputs": [
    {
     "data": {
      "text/html": [
       "<div>\n",
       "<style scoped>\n",
       "    .dataframe tbody tr th:only-of-type {\n",
       "        vertical-align: middle;\n",
       "    }\n",
       "\n",
       "    .dataframe tbody tr th {\n",
       "        vertical-align: top;\n",
       "    }\n",
       "\n",
       "    .dataframe thead th {\n",
       "        text-align: right;\n",
       "    }\n",
       "</style>\n",
       "<table border=\"1\" class=\"dataframe\">\n",
       "  <thead>\n",
       "    <tr style=\"text-align: right;\">\n",
       "      <th></th>\n",
       "      <th>Resource</th>\n",
       "      <th>Start</th>\n",
       "      <th>Finish</th>\n",
       "      <th>Job</th>\n",
       "      <th>delta</th>\n",
       "    </tr>\n",
       "  </thead>\n",
       "  <tbody>\n",
       "    <tr>\n",
       "      <th>0</th>\n",
       "      <td>M1</td>\n",
       "      <td>0</td>\n",
       "      <td>10</td>\n",
       "      <td>J1</td>\n",
       "      <td>10</td>\n",
       "    </tr>\n",
       "    <tr>\n",
       "      <th>1</th>\n",
       "      <td>M2</td>\n",
       "      <td>0</td>\n",
       "      <td>5</td>\n",
       "      <td>J2</td>\n",
       "      <td>5</td>\n",
       "    </tr>\n",
       "    <tr>\n",
       "      <th>2</th>\n",
       "      <td>M1</td>\n",
       "      <td>11</td>\n",
       "      <td>15</td>\n",
       "      <td>J2</td>\n",
       "      <td>4</td>\n",
       "    </tr>\n",
       "  </tbody>\n",
       "</table>\n",
       "</div>"
      ],
      "text/plain": [
       "  Resource  Start  Finish Job  delta\n",
       "0       M1      0      10  J1     10\n",
       "1       M2      0       5  J2      5\n",
       "2       M1     11      15  J2      4"
      ]
     },
     "execution_count": 208,
     "metadata": {},
     "output_type": "execute_result"
    }
   ],
   "source": [
    "df"
   ]
  },
  {
   "cell_type": "code",
   "execution_count": 214,
   "metadata": {},
   "outputs": [
    {
     "name": "stdout",
     "output_type": "stream",
     "text": [
      "J1\n",
      "[10]\n",
      "J2\n",
      "[5 4]\n"
     ]
    }
   ],
   "source": [
    "for d in fig.data:\n",
    "    print(d.name)\n",
    "    filt = df['Job'] == d.name\n",
    "    d.x = df[filt]['delta']\n",
    "    print(d.x)"
   ]
  },
  {
   "cell_type": "code",
   "execution_count": 213,
   "metadata": {},
   "outputs": [],
   "source": [
    "fig.data[0].x = df[filt]['delta']"
   ]
  },
  {
   "cell_type": "code",
   "execution_count": null,
   "metadata": {},
   "outputs": [],
   "source": []
  },
  {
   "cell_type": "code",
   "execution_count": 201,
   "metadata": {},
   "outputs": [
    {
     "data": {
      "text/plain": [
       "Bar({\n",
       "    'alignmentgroup': 'True',\n",
       "    'base': array([0], dtype=object),\n",
       "    'hovertemplate': 'Job=J1<br>Start=%{base}<br>Finish=%{x}<br>Resource=%{y}<extra></extra>',\n",
       "    'legendgroup': 'J1',\n",
       "    'marker': {'color': '#636efa', 'pattern': {'shape': ''}},\n",
       "    'name': 'J1',\n",
       "    'offsetgroup': 'J1',\n",
       "    'orientation': 'h',\n",
       "    'showlegend': True,\n",
       "    'textposition': 'auto',\n",
       "    'x': array([1.e-05]),\n",
       "    'xaxis': 'x',\n",
       "    'y': array(['M1'], dtype=object),\n",
       "    'yaxis': 'y'\n",
       "})"
      ]
     },
     "execution_count": 201,
     "metadata": {},
     "output_type": "execute_result"
    }
   ],
   "source": [
    "fig.data[0]"
   ]
  },
  {
   "cell_type": "code",
   "execution_count": null,
   "metadata": {},
   "outputs": [],
   "source": []
  },
  {
   "cell_type": "code",
   "execution_count": 184,
   "metadata": {},
   "outputs": [
    {
     "data": {
      "application/vnd.plotly.v1+json": {
       "config": {
        "plotlyServerURL": "https://plot.ly"
       },
       "data": [
        {
         "alignmentgroup": "True",
         "base": [
          1,
          2,
          4
         ],
         "hovertemplate": "Start=%{base}<br>Finish=%{x}<br>Resource=%{y}<extra></extra>",
         "legendgroup": "",
         "marker": {
          "color": "#636efa",
          "pattern": {
           "shape": ""
          }
         },
         "name": "",
         "offsetgroup": "",
         "orientation": "h",
         "showlegend": false,
         "textposition": "auto",
         "type": "bar",
         "x": [
          3,
          4,
          6
         ],
         "xaxis": "x",
         "y": [
          "Job A",
          "Job B",
          "Job A"
         ],
         "yaxis": "y"
        }
       ],
       "layout": {
        "barmode": "overlay",
        "legend": {
         "tracegroupgap": 0
        },
        "margin": {
         "t": 60
        },
        "template": {
         "data": {
          "bar": [
           {
            "error_x": {
             "color": "#2a3f5f"
            },
            "error_y": {
             "color": "#2a3f5f"
            },
            "marker": {
             "line": {
              "color": "#E5ECF6",
              "width": 0.5
             },
             "pattern": {
              "fillmode": "overlay",
              "size": 10,
              "solidity": 0.2
             }
            },
            "type": "bar"
           }
          ],
          "barpolar": [
           {
            "marker": {
             "line": {
              "color": "#E5ECF6",
              "width": 0.5
             },
             "pattern": {
              "fillmode": "overlay",
              "size": 10,
              "solidity": 0.2
             }
            },
            "type": "barpolar"
           }
          ],
          "carpet": [
           {
            "aaxis": {
             "endlinecolor": "#2a3f5f",
             "gridcolor": "white",
             "linecolor": "white",
             "minorgridcolor": "white",
             "startlinecolor": "#2a3f5f"
            },
            "baxis": {
             "endlinecolor": "#2a3f5f",
             "gridcolor": "white",
             "linecolor": "white",
             "minorgridcolor": "white",
             "startlinecolor": "#2a3f5f"
            },
            "type": "carpet"
           }
          ],
          "choropleth": [
           {
            "colorbar": {
             "outlinewidth": 0,
             "ticks": ""
            },
            "type": "choropleth"
           }
          ],
          "contour": [
           {
            "colorbar": {
             "outlinewidth": 0,
             "ticks": ""
            },
            "colorscale": [
             [
              0,
              "#0d0887"
             ],
             [
              0.1111111111111111,
              "#46039f"
             ],
             [
              0.2222222222222222,
              "#7201a8"
             ],
             [
              0.3333333333333333,
              "#9c179e"
             ],
             [
              0.4444444444444444,
              "#bd3786"
             ],
             [
              0.5555555555555556,
              "#d8576b"
             ],
             [
              0.6666666666666666,
              "#ed7953"
             ],
             [
              0.7777777777777778,
              "#fb9f3a"
             ],
             [
              0.8888888888888888,
              "#fdca26"
             ],
             [
              1,
              "#f0f921"
             ]
            ],
            "type": "contour"
           }
          ],
          "contourcarpet": [
           {
            "colorbar": {
             "outlinewidth": 0,
             "ticks": ""
            },
            "type": "contourcarpet"
           }
          ],
          "heatmap": [
           {
            "colorbar": {
             "outlinewidth": 0,
             "ticks": ""
            },
            "colorscale": [
             [
              0,
              "#0d0887"
             ],
             [
              0.1111111111111111,
              "#46039f"
             ],
             [
              0.2222222222222222,
              "#7201a8"
             ],
             [
              0.3333333333333333,
              "#9c179e"
             ],
             [
              0.4444444444444444,
              "#bd3786"
             ],
             [
              0.5555555555555556,
              "#d8576b"
             ],
             [
              0.6666666666666666,
              "#ed7953"
             ],
             [
              0.7777777777777778,
              "#fb9f3a"
             ],
             [
              0.8888888888888888,
              "#fdca26"
             ],
             [
              1,
              "#f0f921"
             ]
            ],
            "type": "heatmap"
           }
          ],
          "heatmapgl": [
           {
            "colorbar": {
             "outlinewidth": 0,
             "ticks": ""
            },
            "colorscale": [
             [
              0,
              "#0d0887"
             ],
             [
              0.1111111111111111,
              "#46039f"
             ],
             [
              0.2222222222222222,
              "#7201a8"
             ],
             [
              0.3333333333333333,
              "#9c179e"
             ],
             [
              0.4444444444444444,
              "#bd3786"
             ],
             [
              0.5555555555555556,
              "#d8576b"
             ],
             [
              0.6666666666666666,
              "#ed7953"
             ],
             [
              0.7777777777777778,
              "#fb9f3a"
             ],
             [
              0.8888888888888888,
              "#fdca26"
             ],
             [
              1,
              "#f0f921"
             ]
            ],
            "type": "heatmapgl"
           }
          ],
          "histogram": [
           {
            "marker": {
             "pattern": {
              "fillmode": "overlay",
              "size": 10,
              "solidity": 0.2
             }
            },
            "type": "histogram"
           }
          ],
          "histogram2d": [
           {
            "colorbar": {
             "outlinewidth": 0,
             "ticks": ""
            },
            "colorscale": [
             [
              0,
              "#0d0887"
             ],
             [
              0.1111111111111111,
              "#46039f"
             ],
             [
              0.2222222222222222,
              "#7201a8"
             ],
             [
              0.3333333333333333,
              "#9c179e"
             ],
             [
              0.4444444444444444,
              "#bd3786"
             ],
             [
              0.5555555555555556,
              "#d8576b"
             ],
             [
              0.6666666666666666,
              "#ed7953"
             ],
             [
              0.7777777777777778,
              "#fb9f3a"
             ],
             [
              0.8888888888888888,
              "#fdca26"
             ],
             [
              1,
              "#f0f921"
             ]
            ],
            "type": "histogram2d"
           }
          ],
          "histogram2dcontour": [
           {
            "colorbar": {
             "outlinewidth": 0,
             "ticks": ""
            },
            "colorscale": [
             [
              0,
              "#0d0887"
             ],
             [
              0.1111111111111111,
              "#46039f"
             ],
             [
              0.2222222222222222,
              "#7201a8"
             ],
             [
              0.3333333333333333,
              "#9c179e"
             ],
             [
              0.4444444444444444,
              "#bd3786"
             ],
             [
              0.5555555555555556,
              "#d8576b"
             ],
             [
              0.6666666666666666,
              "#ed7953"
             ],
             [
              0.7777777777777778,
              "#fb9f3a"
             ],
             [
              0.8888888888888888,
              "#fdca26"
             ],
             [
              1,
              "#f0f921"
             ]
            ],
            "type": "histogram2dcontour"
           }
          ],
          "mesh3d": [
           {
            "colorbar": {
             "outlinewidth": 0,
             "ticks": ""
            },
            "type": "mesh3d"
           }
          ],
          "parcoords": [
           {
            "line": {
             "colorbar": {
              "outlinewidth": 0,
              "ticks": ""
             }
            },
            "type": "parcoords"
           }
          ],
          "pie": [
           {
            "automargin": true,
            "type": "pie"
           }
          ],
          "scatter": [
           {
            "fillpattern": {
             "fillmode": "overlay",
             "size": 10,
             "solidity": 0.2
            },
            "type": "scatter"
           }
          ],
          "scatter3d": [
           {
            "line": {
             "colorbar": {
              "outlinewidth": 0,
              "ticks": ""
             }
            },
            "marker": {
             "colorbar": {
              "outlinewidth": 0,
              "ticks": ""
             }
            },
            "type": "scatter3d"
           }
          ],
          "scattercarpet": [
           {
            "marker": {
             "colorbar": {
              "outlinewidth": 0,
              "ticks": ""
             }
            },
            "type": "scattercarpet"
           }
          ],
          "scattergeo": [
           {
            "marker": {
             "colorbar": {
              "outlinewidth": 0,
              "ticks": ""
             }
            },
            "type": "scattergeo"
           }
          ],
          "scattergl": [
           {
            "marker": {
             "colorbar": {
              "outlinewidth": 0,
              "ticks": ""
             }
            },
            "type": "scattergl"
           }
          ],
          "scattermapbox": [
           {
            "marker": {
             "colorbar": {
              "outlinewidth": 0,
              "ticks": ""
             }
            },
            "type": "scattermapbox"
           }
          ],
          "scatterpolar": [
           {
            "marker": {
             "colorbar": {
              "outlinewidth": 0,
              "ticks": ""
             }
            },
            "type": "scatterpolar"
           }
          ],
          "scatterpolargl": [
           {
            "marker": {
             "colorbar": {
              "outlinewidth": 0,
              "ticks": ""
             }
            },
            "type": "scatterpolargl"
           }
          ],
          "scatterternary": [
           {
            "marker": {
             "colorbar": {
              "outlinewidth": 0,
              "ticks": ""
             }
            },
            "type": "scatterternary"
           }
          ],
          "surface": [
           {
            "colorbar": {
             "outlinewidth": 0,
             "ticks": ""
            },
            "colorscale": [
             [
              0,
              "#0d0887"
             ],
             [
              0.1111111111111111,
              "#46039f"
             ],
             [
              0.2222222222222222,
              "#7201a8"
             ],
             [
              0.3333333333333333,
              "#9c179e"
             ],
             [
              0.4444444444444444,
              "#bd3786"
             ],
             [
              0.5555555555555556,
              "#d8576b"
             ],
             [
              0.6666666666666666,
              "#ed7953"
             ],
             [
              0.7777777777777778,
              "#fb9f3a"
             ],
             [
              0.8888888888888888,
              "#fdca26"
             ],
             [
              1,
              "#f0f921"
             ]
            ],
            "type": "surface"
           }
          ],
          "table": [
           {
            "cells": {
             "fill": {
              "color": "#EBF0F8"
             },
             "line": {
              "color": "white"
             }
            },
            "header": {
             "fill": {
              "color": "#C8D4E3"
             },
             "line": {
              "color": "white"
             }
            },
            "type": "table"
           }
          ]
         },
         "layout": {
          "annotationdefaults": {
           "arrowcolor": "#2a3f5f",
           "arrowhead": 0,
           "arrowwidth": 1
          },
          "autotypenumbers": "strict",
          "coloraxis": {
           "colorbar": {
            "outlinewidth": 0,
            "ticks": ""
           }
          },
          "colorscale": {
           "diverging": [
            [
             0,
             "#8e0152"
            ],
            [
             0.1,
             "#c51b7d"
            ],
            [
             0.2,
             "#de77ae"
            ],
            [
             0.3,
             "#f1b6da"
            ],
            [
             0.4,
             "#fde0ef"
            ],
            [
             0.5,
             "#f7f7f7"
            ],
            [
             0.6,
             "#e6f5d0"
            ],
            [
             0.7,
             "#b8e186"
            ],
            [
             0.8,
             "#7fbc41"
            ],
            [
             0.9,
             "#4d9221"
            ],
            [
             1,
             "#276419"
            ]
           ],
           "sequential": [
            [
             0,
             "#0d0887"
            ],
            [
             0.1111111111111111,
             "#46039f"
            ],
            [
             0.2222222222222222,
             "#7201a8"
            ],
            [
             0.3333333333333333,
             "#9c179e"
            ],
            [
             0.4444444444444444,
             "#bd3786"
            ],
            [
             0.5555555555555556,
             "#d8576b"
            ],
            [
             0.6666666666666666,
             "#ed7953"
            ],
            [
             0.7777777777777778,
             "#fb9f3a"
            ],
            [
             0.8888888888888888,
             "#fdca26"
            ],
            [
             1,
             "#f0f921"
            ]
           ],
           "sequentialminus": [
            [
             0,
             "#0d0887"
            ],
            [
             0.1111111111111111,
             "#46039f"
            ],
            [
             0.2222222222222222,
             "#7201a8"
            ],
            [
             0.3333333333333333,
             "#9c179e"
            ],
            [
             0.4444444444444444,
             "#bd3786"
            ],
            [
             0.5555555555555556,
             "#d8576b"
            ],
            [
             0.6666666666666666,
             "#ed7953"
            ],
            [
             0.7777777777777778,
             "#fb9f3a"
            ],
            [
             0.8888888888888888,
             "#fdca26"
            ],
            [
             1,
             "#f0f921"
            ]
           ]
          },
          "colorway": [
           "#636efa",
           "#EF553B",
           "#00cc96",
           "#ab63fa",
           "#FFA15A",
           "#19d3f3",
           "#FF6692",
           "#B6E880",
           "#FF97FF",
           "#FECB52"
          ],
          "font": {
           "color": "#2a3f5f"
          },
          "geo": {
           "bgcolor": "white",
           "lakecolor": "white",
           "landcolor": "#E5ECF6",
           "showlakes": true,
           "showland": true,
           "subunitcolor": "white"
          },
          "hoverlabel": {
           "align": "left"
          },
          "hovermode": "closest",
          "mapbox": {
           "style": "light"
          },
          "paper_bgcolor": "white",
          "plot_bgcolor": "#E5ECF6",
          "polar": {
           "angularaxis": {
            "gridcolor": "white",
            "linecolor": "white",
            "ticks": ""
           },
           "bgcolor": "#E5ECF6",
           "radialaxis": {
            "gridcolor": "white",
            "linecolor": "white",
            "ticks": ""
           }
          },
          "scene": {
           "xaxis": {
            "backgroundcolor": "#E5ECF6",
            "gridcolor": "white",
            "gridwidth": 2,
            "linecolor": "white",
            "showbackground": true,
            "ticks": "",
            "zerolinecolor": "white"
           },
           "yaxis": {
            "backgroundcolor": "#E5ECF6",
            "gridcolor": "white",
            "gridwidth": 2,
            "linecolor": "white",
            "showbackground": true,
            "ticks": "",
            "zerolinecolor": "white"
           },
           "zaxis": {
            "backgroundcolor": "#E5ECF6",
            "gridcolor": "white",
            "gridwidth": 2,
            "linecolor": "white",
            "showbackground": true,
            "ticks": "",
            "zerolinecolor": "white"
           }
          },
          "shapedefaults": {
           "line": {
            "color": "#2a3f5f"
           }
          },
          "ternary": {
           "aaxis": {
            "gridcolor": "white",
            "linecolor": "white",
            "ticks": ""
           },
           "baxis": {
            "gridcolor": "white",
            "linecolor": "white",
            "ticks": ""
           },
           "bgcolor": "#E5ECF6",
           "caxis": {
            "gridcolor": "white",
            "linecolor": "white",
            "ticks": ""
           }
          },
          "title": {
           "x": 0.05
          },
          "xaxis": {
           "automargin": true,
           "gridcolor": "white",
           "linecolor": "white",
           "ticks": "",
           "title": {
            "standoff": 15
           },
           "zerolinecolor": "white",
           "zerolinewidth": 2
          },
          "yaxis": {
           "automargin": true,
           "gridcolor": "white",
           "linecolor": "white",
           "ticks": "",
           "title": {
            "standoff": 15
           },
           "zerolinecolor": "white",
           "zerolinewidth": 2
          }
         }
        },
        "xaxis": {
         "anchor": "y",
         "domain": [
          0,
          1
         ],
         "type": "linear"
        },
        "yaxis": {
         "anchor": "x",
         "autorange": "reversed",
         "domain": [
          0,
          1
         ],
         "title": {
          "text": "Resource"
         }
        }
       }
      }
     },
     "metadata": {},
     "output_type": "display_data"
    }
   ],
   "source": [
    "import plotly.express as px\n",
    "import pandas as pd\n",
    "\n",
    "df = pd.DataFrame([\n",
    "    dict(Resource=\"Job A\", Start=1, Finish=4),\n",
    "    dict(Resource=\"Job B\", Start=2, Finish=6),\n",
    "    dict(Resource=\"Job A\", Start=4, Finish=10)\n",
    "])\n",
    "df['delta'] = df['Finish'] - df['Start']\n",
    "\n",
    "fig = px.timeline(df, x_start=\"Start\", x_end=\"Finish\", y=\"Resource\")\n",
    "fig.update_yaxes(autorange=\"reversed\") \n",
    "\n",
    "fig.layout.xaxis.type = 'linear'\n",
    "fig.data[0].x = df.delta.tolist()\n",
    "#f = fig.full_figure_for_development(warn=False)\n",
    "fig.show()"
   ]
  },
  {
   "cell_type": "code",
   "execution_count": 177,
   "metadata": {},
   "outputs": [
    {
     "data": {
      "text/html": [
       "<div>\n",
       "<style scoped>\n",
       "    .dataframe tbody tr th:only-of-type {\n",
       "        vertical-align: middle;\n",
       "    }\n",
       "\n",
       "    .dataframe tbody tr th {\n",
       "        vertical-align: top;\n",
       "    }\n",
       "\n",
       "    .dataframe thead th {\n",
       "        text-align: right;\n",
       "    }\n",
       "</style>\n",
       "<table border=\"1\" class=\"dataframe\">\n",
       "  <thead>\n",
       "    <tr style=\"text-align: right;\">\n",
       "      <th></th>\n",
       "      <th>Resource</th>\n",
       "      <th>Start</th>\n",
       "      <th>Finish</th>\n",
       "      <th>Job</th>\n",
       "      <th>delta</th>\n",
       "    </tr>\n",
       "  </thead>\n",
       "  <tbody>\n",
       "    <tr>\n",
       "      <th>0</th>\n",
       "      <td>M1</td>\n",
       "      <td>0</td>\n",
       "      <td>10</td>\n",
       "      <td>J1</td>\n",
       "      <td>10</td>\n",
       "    </tr>\n",
       "    <tr>\n",
       "      <th>1</th>\n",
       "      <td>M2</td>\n",
       "      <td>0</td>\n",
       "      <td>5</td>\n",
       "      <td>J2</td>\n",
       "      <td>5</td>\n",
       "    </tr>\n",
       "    <tr>\n",
       "      <th>2</th>\n",
       "      <td>M1</td>\n",
       "      <td>10</td>\n",
       "      <td>15</td>\n",
       "      <td>J2</td>\n",
       "      <td>5</td>\n",
       "    </tr>\n",
       "  </tbody>\n",
       "</table>\n",
       "</div>"
      ],
      "text/plain": [
       "  Resource  Start  Finish Job  delta\n",
       "0       M1      0      10  J1     10\n",
       "1       M2      0       5  J2      5\n",
       "2       M1     10      15  J2      5"
      ]
     },
     "execution_count": 177,
     "metadata": {},
     "output_type": "execute_result"
    }
   ],
   "source": [
    "df"
   ]
  },
  {
   "cell_type": "code",
   "execution_count": 170,
   "metadata": {},
   "outputs": [
    {
     "data": {
      "application/vnd.plotly.v1+json": {
       "config": {
        "plotlyServerURL": "https://plot.ly"
       },
       "data": [
        {
         "fill": "toself",
         "fillcolor": "rgb(255, 127, 14)",
         "hoverinfo": "name",
         "legendgroup": "rgb(255, 127, 14)",
         "mode": "none",
         "name": "Max",
         "showlegend": true,
         "type": "scatter",
         "x": [
          5,
          20,
          20,
          5
         ],
         "y": [
          1.6,
          1.6,
          2.4,
          2.4
         ]
        },
        {
         "fill": "toself",
         "fillcolor": "rgb(31, 119, 180)",
         "hoverinfo": "name",
         "legendgroup": "rgb(31, 119, 180)",
         "mode": "none",
         "name": "Alex",
         "showlegend": true,
         "type": "scatter",
         "x": [
          0,
          10,
          10,
          0,
          0,
          12,
          24,
          24,
          12
         ],
         "y": [
          -0.4,
          -0.4,
          0.4,
          0.4,
          null,
          0.6,
          0.6,
          1.4,
          1.4
         ]
        },
        {
         "legendgroup": "rgb(255, 127, 14)",
         "marker": {
          "color": "rgb(255, 127, 14)",
          "opacity": 0,
          "size": 1
         },
         "mode": "markers",
         "name": "",
         "showlegend": false,
         "text": [
          null,
          null
         ],
         "type": "scatter",
         "x": [
          5,
          20
         ],
         "y": [
          2,
          2
         ]
        },
        {
         "legendgroup": "rgb(31, 119, 180)",
         "marker": {
          "color": "rgb(31, 119, 180)",
          "opacity": 0,
          "size": 1
         },
         "mode": "markers",
         "name": "",
         "showlegend": false,
         "text": [
          null,
          null,
          null,
          null
         ],
         "type": "scatter",
         "x": [
          0,
          10,
          12,
          24
         ],
         "y": [
          0,
          0,
          1,
          1
         ]
        }
       ],
       "layout": {
        "autosize": true,
        "height": 400,
        "hovermode": "closest",
        "showlegend": true,
        "template": {
         "data": {
          "bar": [
           {
            "error_x": {
             "color": "#2a3f5f"
            },
            "error_y": {
             "color": "#2a3f5f"
            },
            "marker": {
             "line": {
              "color": "#E5ECF6",
              "width": 0.5
             },
             "pattern": {
              "fillmode": "overlay",
              "size": 10,
              "solidity": 0.2
             }
            },
            "type": "bar"
           }
          ],
          "barpolar": [
           {
            "marker": {
             "line": {
              "color": "#E5ECF6",
              "width": 0.5
             },
             "pattern": {
              "fillmode": "overlay",
              "size": 10,
              "solidity": 0.2
             }
            },
            "type": "barpolar"
           }
          ],
          "carpet": [
           {
            "aaxis": {
             "endlinecolor": "#2a3f5f",
             "gridcolor": "white",
             "linecolor": "white",
             "minorgridcolor": "white",
             "startlinecolor": "#2a3f5f"
            },
            "baxis": {
             "endlinecolor": "#2a3f5f",
             "gridcolor": "white",
             "linecolor": "white",
             "minorgridcolor": "white",
             "startlinecolor": "#2a3f5f"
            },
            "type": "carpet"
           }
          ],
          "choropleth": [
           {
            "colorbar": {
             "outlinewidth": 0,
             "ticks": ""
            },
            "type": "choropleth"
           }
          ],
          "contour": [
           {
            "colorbar": {
             "outlinewidth": 0,
             "ticks": ""
            },
            "colorscale": [
             [
              0,
              "#0d0887"
             ],
             [
              0.1111111111111111,
              "#46039f"
             ],
             [
              0.2222222222222222,
              "#7201a8"
             ],
             [
              0.3333333333333333,
              "#9c179e"
             ],
             [
              0.4444444444444444,
              "#bd3786"
             ],
             [
              0.5555555555555556,
              "#d8576b"
             ],
             [
              0.6666666666666666,
              "#ed7953"
             ],
             [
              0.7777777777777778,
              "#fb9f3a"
             ],
             [
              0.8888888888888888,
              "#fdca26"
             ],
             [
              1,
              "#f0f921"
             ]
            ],
            "type": "contour"
           }
          ],
          "contourcarpet": [
           {
            "colorbar": {
             "outlinewidth": 0,
             "ticks": ""
            },
            "type": "contourcarpet"
           }
          ],
          "heatmap": [
           {
            "colorbar": {
             "outlinewidth": 0,
             "ticks": ""
            },
            "colorscale": [
             [
              0,
              "#0d0887"
             ],
             [
              0.1111111111111111,
              "#46039f"
             ],
             [
              0.2222222222222222,
              "#7201a8"
             ],
             [
              0.3333333333333333,
              "#9c179e"
             ],
             [
              0.4444444444444444,
              "#bd3786"
             ],
             [
              0.5555555555555556,
              "#d8576b"
             ],
             [
              0.6666666666666666,
              "#ed7953"
             ],
             [
              0.7777777777777778,
              "#fb9f3a"
             ],
             [
              0.8888888888888888,
              "#fdca26"
             ],
             [
              1,
              "#f0f921"
             ]
            ],
            "type": "heatmap"
           }
          ],
          "heatmapgl": [
           {
            "colorbar": {
             "outlinewidth": 0,
             "ticks": ""
            },
            "colorscale": [
             [
              0,
              "#0d0887"
             ],
             [
              0.1111111111111111,
              "#46039f"
             ],
             [
              0.2222222222222222,
              "#7201a8"
             ],
             [
              0.3333333333333333,
              "#9c179e"
             ],
             [
              0.4444444444444444,
              "#bd3786"
             ],
             [
              0.5555555555555556,
              "#d8576b"
             ],
             [
              0.6666666666666666,
              "#ed7953"
             ],
             [
              0.7777777777777778,
              "#fb9f3a"
             ],
             [
              0.8888888888888888,
              "#fdca26"
             ],
             [
              1,
              "#f0f921"
             ]
            ],
            "type": "heatmapgl"
           }
          ],
          "histogram": [
           {
            "marker": {
             "pattern": {
              "fillmode": "overlay",
              "size": 10,
              "solidity": 0.2
             }
            },
            "type": "histogram"
           }
          ],
          "histogram2d": [
           {
            "colorbar": {
             "outlinewidth": 0,
             "ticks": ""
            },
            "colorscale": [
             [
              0,
              "#0d0887"
             ],
             [
              0.1111111111111111,
              "#46039f"
             ],
             [
              0.2222222222222222,
              "#7201a8"
             ],
             [
              0.3333333333333333,
              "#9c179e"
             ],
             [
              0.4444444444444444,
              "#bd3786"
             ],
             [
              0.5555555555555556,
              "#d8576b"
             ],
             [
              0.6666666666666666,
              "#ed7953"
             ],
             [
              0.7777777777777778,
              "#fb9f3a"
             ],
             [
              0.8888888888888888,
              "#fdca26"
             ],
             [
              1,
              "#f0f921"
             ]
            ],
            "type": "histogram2d"
           }
          ],
          "histogram2dcontour": [
           {
            "colorbar": {
             "outlinewidth": 0,
             "ticks": ""
            },
            "colorscale": [
             [
              0,
              "#0d0887"
             ],
             [
              0.1111111111111111,
              "#46039f"
             ],
             [
              0.2222222222222222,
              "#7201a8"
             ],
             [
              0.3333333333333333,
              "#9c179e"
             ],
             [
              0.4444444444444444,
              "#bd3786"
             ],
             [
              0.5555555555555556,
              "#d8576b"
             ],
             [
              0.6666666666666666,
              "#ed7953"
             ],
             [
              0.7777777777777778,
              "#fb9f3a"
             ],
             [
              0.8888888888888888,
              "#fdca26"
             ],
             [
              1,
              "#f0f921"
             ]
            ],
            "type": "histogram2dcontour"
           }
          ],
          "mesh3d": [
           {
            "colorbar": {
             "outlinewidth": 0,
             "ticks": ""
            },
            "type": "mesh3d"
           }
          ],
          "parcoords": [
           {
            "line": {
             "colorbar": {
              "outlinewidth": 0,
              "ticks": ""
             }
            },
            "type": "parcoords"
           }
          ],
          "pie": [
           {
            "automargin": true,
            "type": "pie"
           }
          ],
          "scatter": [
           {
            "fillpattern": {
             "fillmode": "overlay",
             "size": 10,
             "solidity": 0.2
            },
            "type": "scatter"
           }
          ],
          "scatter3d": [
           {
            "line": {
             "colorbar": {
              "outlinewidth": 0,
              "ticks": ""
             }
            },
            "marker": {
             "colorbar": {
              "outlinewidth": 0,
              "ticks": ""
             }
            },
            "type": "scatter3d"
           }
          ],
          "scattercarpet": [
           {
            "marker": {
             "colorbar": {
              "outlinewidth": 0,
              "ticks": ""
             }
            },
            "type": "scattercarpet"
           }
          ],
          "scattergeo": [
           {
            "marker": {
             "colorbar": {
              "outlinewidth": 0,
              "ticks": ""
             }
            },
            "type": "scattergeo"
           }
          ],
          "scattergl": [
           {
            "marker": {
             "colorbar": {
              "outlinewidth": 0,
              "ticks": ""
             }
            },
            "type": "scattergl"
           }
          ],
          "scattermapbox": [
           {
            "marker": {
             "colorbar": {
              "outlinewidth": 0,
              "ticks": ""
             }
            },
            "type": "scattermapbox"
           }
          ],
          "scatterpolar": [
           {
            "marker": {
             "colorbar": {
              "outlinewidth": 0,
              "ticks": ""
             }
            },
            "type": "scatterpolar"
           }
          ],
          "scatterpolargl": [
           {
            "marker": {
             "colorbar": {
              "outlinewidth": 0,
              "ticks": ""
             }
            },
            "type": "scatterpolargl"
           }
          ],
          "scatterternary": [
           {
            "marker": {
             "colorbar": {
              "outlinewidth": 0,
              "ticks": ""
             }
            },
            "type": "scatterternary"
           }
          ],
          "surface": [
           {
            "colorbar": {
             "outlinewidth": 0,
             "ticks": ""
            },
            "colorscale": [
             [
              0,
              "#0d0887"
             ],
             [
              0.1111111111111111,
              "#46039f"
             ],
             [
              0.2222222222222222,
              "#7201a8"
             ],
             [
              0.3333333333333333,
              "#9c179e"
             ],
             [
              0.4444444444444444,
              "#bd3786"
             ],
             [
              0.5555555555555556,
              "#d8576b"
             ],
             [
              0.6666666666666666,
              "#ed7953"
             ],
             [
              0.7777777777777778,
              "#fb9f3a"
             ],
             [
              0.8888888888888888,
              "#fdca26"
             ],
             [
              1,
              "#f0f921"
             ]
            ],
            "type": "surface"
           }
          ],
          "table": [
           {
            "cells": {
             "fill": {
              "color": "#EBF0F8"
             },
             "line": {
              "color": "white"
             }
            },
            "header": {
             "fill": {
              "color": "#C8D4E3"
             },
             "line": {
              "color": "white"
             }
            },
            "type": "table"
           }
          ]
         },
         "layout": {
          "annotationdefaults": {
           "arrowcolor": "#2a3f5f",
           "arrowhead": 0,
           "arrowwidth": 1
          },
          "autotypenumbers": "strict",
          "coloraxis": {
           "colorbar": {
            "outlinewidth": 0,
            "ticks": ""
           }
          },
          "colorscale": {
           "diverging": [
            [
             0,
             "#8e0152"
            ],
            [
             0.1,
             "#c51b7d"
            ],
            [
             0.2,
             "#de77ae"
            ],
            [
             0.3,
             "#f1b6da"
            ],
            [
             0.4,
             "#fde0ef"
            ],
            [
             0.5,
             "#f7f7f7"
            ],
            [
             0.6,
             "#e6f5d0"
            ],
            [
             0.7,
             "#b8e186"
            ],
            [
             0.8,
             "#7fbc41"
            ],
            [
             0.9,
             "#4d9221"
            ],
            [
             1,
             "#276419"
            ]
           ],
           "sequential": [
            [
             0,
             "#0d0887"
            ],
            [
             0.1111111111111111,
             "#46039f"
            ],
            [
             0.2222222222222222,
             "#7201a8"
            ],
            [
             0.3333333333333333,
             "#9c179e"
            ],
            [
             0.4444444444444444,
             "#bd3786"
            ],
            [
             0.5555555555555556,
             "#d8576b"
            ],
            [
             0.6666666666666666,
             "#ed7953"
            ],
            [
             0.7777777777777778,
             "#fb9f3a"
            ],
            [
             0.8888888888888888,
             "#fdca26"
            ],
            [
             1,
             "#f0f921"
            ]
           ],
           "sequentialminus": [
            [
             0,
             "#0d0887"
            ],
            [
             0.1111111111111111,
             "#46039f"
            ],
            [
             0.2222222222222222,
             "#7201a8"
            ],
            [
             0.3333333333333333,
             "#9c179e"
            ],
            [
             0.4444444444444444,
             "#bd3786"
            ],
            [
             0.5555555555555556,
             "#d8576b"
            ],
            [
             0.6666666666666666,
             "#ed7953"
            ],
            [
             0.7777777777777778,
             "#fb9f3a"
            ],
            [
             0.8888888888888888,
             "#fdca26"
            ],
            [
             1,
             "#f0f921"
            ]
           ]
          },
          "colorway": [
           "#636efa",
           "#EF553B",
           "#00cc96",
           "#ab63fa",
           "#FFA15A",
           "#19d3f3",
           "#FF6692",
           "#B6E880",
           "#FF97FF",
           "#FECB52"
          ],
          "font": {
           "color": "#2a3f5f"
          },
          "geo": {
           "bgcolor": "white",
           "lakecolor": "white",
           "landcolor": "#E5ECF6",
           "showlakes": true,
           "showland": true,
           "subunitcolor": "white"
          },
          "hoverlabel": {
           "align": "left"
          },
          "hovermode": "closest",
          "mapbox": {
           "style": "light"
          },
          "paper_bgcolor": "white",
          "plot_bgcolor": "#E5ECF6",
          "polar": {
           "angularaxis": {
            "gridcolor": "white",
            "linecolor": "white",
            "ticks": ""
           },
           "bgcolor": "#E5ECF6",
           "radialaxis": {
            "gridcolor": "white",
            "linecolor": "white",
            "ticks": ""
           }
          },
          "scene": {
           "xaxis": {
            "backgroundcolor": "#E5ECF6",
            "gridcolor": "white",
            "gridwidth": 2,
            "linecolor": "white",
            "showbackground": true,
            "ticks": "",
            "zerolinecolor": "white"
           },
           "yaxis": {
            "backgroundcolor": "#E5ECF6",
            "gridcolor": "white",
            "gridwidth": 2,
            "linecolor": "white",
            "showbackground": true,
            "ticks": "",
            "zerolinecolor": "white"
           },
           "zaxis": {
            "backgroundcolor": "#E5ECF6",
            "gridcolor": "white",
            "gridwidth": 2,
            "linecolor": "white",
            "showbackground": true,
            "ticks": "",
            "zerolinecolor": "white"
           }
          },
          "shapedefaults": {
           "line": {
            "color": "#2a3f5f"
           }
          },
          "ternary": {
           "aaxis": {
            "gridcolor": "white",
            "linecolor": "white",
            "ticks": ""
           },
           "baxis": {
            "gridcolor": "white",
            "linecolor": "white",
            "ticks": ""
           },
           "bgcolor": "#E5ECF6",
           "caxis": {
            "gridcolor": "white",
            "linecolor": "white",
            "ticks": ""
           }
          },
          "title": {
           "x": 0.05
          },
          "xaxis": {
           "automargin": true,
           "gridcolor": "white",
           "linecolor": "white",
           "ticks": "",
           "title": {
            "standoff": 15
           },
           "zerolinecolor": "white",
           "zerolinewidth": 2
          },
          "yaxis": {
           "automargin": true,
           "gridcolor": "white",
           "linecolor": "white",
           "ticks": "",
           "title": {
            "standoff": 15
           },
           "zerolinecolor": "white",
           "zerolinewidth": 2
          }
         }
        },
        "title": {
         "text": "Gantt Chart"
        },
        "width": 800,
        "xaxis": {
         "rangeselector": {
          "buttons": [
           {
            "count": 7,
            "label": "1w",
            "step": "day",
            "stepmode": "backward"
           },
           {
            "count": 1,
            "label": "1m",
            "step": "month",
            "stepmode": "backward"
           },
           {
            "count": 6,
            "label": "6m",
            "step": "month",
            "stepmode": "backward"
           },
           {
            "count": 1,
            "label": "YTD",
            "step": "year",
            "stepmode": "todate"
           },
           {
            "count": 1,
            "label": "1y",
            "step": "year",
            "stepmode": "backward"
           },
           {
            "step": "all"
           }
          ]
         },
         "showgrid": false,
         "type": "linear",
         "zeroline": false
        },
        "yaxis": {
         "autorange": false,
         "range": [
          -1,
          4
         ],
         "showgrid": false,
         "ticktext": [
          "Job A",
          "Job B",
          "Job C"
         ],
         "tickvals": [
          0,
          1,
          2
         ],
         "zeroline": false
        }
       }
      }
     },
     "metadata": {},
     "output_type": "display_data"
    }
   ],
   "source": [
    "import plotly.figure_factory as ff\n",
    "\n",
    "df = pd.DataFrame([\n",
    "    dict(Task=\"Job A\", Start=0, Finish=10, Resource=\"Alex\"),\n",
    "    dict(Task=\"Job B\", Start=12, Finish=24, Resource=\"Alex\"),\n",
    "    dict(Task=\"Job C\", Start=5, Finish=20, Resource=\"Max\")\n",
    "])\n",
    "\n",
    "fig = ff.create_gantt(df, index_col = 'Resource',  bar_width = 0.4, show_colorbar=True)\n",
    "fig.update_layout(xaxis_type='linear', autosize=True, width=800, height=400)\n",
    "fig.show()"
   ]
  },
  {
   "cell_type": "code",
   "execution_count": 159,
   "metadata": {},
   "outputs": [
    {
     "data": {
      "text/html": [
       "<div>\n",
       "<style scoped>\n",
       "    .dataframe tbody tr th:only-of-type {\n",
       "        vertical-align: middle;\n",
       "    }\n",
       "\n",
       "    .dataframe tbody tr th {\n",
       "        vertical-align: top;\n",
       "    }\n",
       "\n",
       "    .dataframe thead th {\n",
       "        text-align: right;\n",
       "    }\n",
       "</style>\n",
       "<table border=\"1\" class=\"dataframe\">\n",
       "  <thead>\n",
       "    <tr style=\"text-align: right;\">\n",
       "      <th></th>\n",
       "      <th>Task</th>\n",
       "      <th>Start</th>\n",
       "      <th>Finish</th>\n",
       "      <th>Resource</th>\n",
       "    </tr>\n",
       "  </thead>\n",
       "  <tbody>\n",
       "    <tr>\n",
       "      <th>0</th>\n",
       "      <td>M1</td>\n",
       "      <td>2009-01-01</td>\n",
       "      <td>2009-02-28</td>\n",
       "      <td>J1</td>\n",
       "    </tr>\n",
       "    <tr>\n",
       "      <th>1</th>\n",
       "      <td>M1</td>\n",
       "      <td>2009-03-03</td>\n",
       "      <td>2009-03-28</td>\n",
       "      <td>J2</td>\n",
       "    </tr>\n",
       "    <tr>\n",
       "      <th>2</th>\n",
       "      <td>M2</td>\n",
       "      <td>2009-03-05</td>\n",
       "      <td>2009-04-15</td>\n",
       "      <td>J2</td>\n",
       "    </tr>\n",
       "    <tr>\n",
       "      <th>3</th>\n",
       "      <td>M3</td>\n",
       "      <td>2009-02-20</td>\n",
       "      <td>2009-05-30</td>\n",
       "      <td>J3</td>\n",
       "    </tr>\n",
       "  </tbody>\n",
       "</table>\n",
       "</div>"
      ],
      "text/plain": [
       "  Task       Start      Finish Resource\n",
       "0   M1  2009-01-01  2009-02-28       J1\n",
       "1   M1  2009-03-03  2009-03-28       J2\n",
       "2   M2  2009-03-05  2009-04-15       J2\n",
       "3   M3  2009-02-20  2009-05-30       J3"
      ]
     },
     "execution_count": 159,
     "metadata": {},
     "output_type": "execute_result"
    }
   ],
   "source": [
    "df"
   ]
  },
  {
   "attachments": {},
   "cell_type": "markdown",
   "metadata": {},
   "source": [
    "**Link Collection**\n",
    "\n",
    "- [Environment](#environment)\n",
    "- [Machine](#machine)\n",
    "- [Dispatcher](#dispatcher)\n",
    "- [Operation](#operation)\n",
    "- [Job](#job)\n",
    "- [Logic Test](#logic_test)\n",
    "\n",
    "\n",
    "[Jump to top](#top)"
   ]
  },
  {
   "cell_type": "code",
   "execution_count": null,
   "metadata": {},
   "outputs": [],
   "source": []
  }
 ],
 "metadata": {
  "kernelspec": {
   "display_name": "Python 3",
   "language": "python",
   "name": "python3"
  },
  "language_info": {
   "codemirror_mode": {
    "name": "ipython",
    "version": 3
   },
   "file_extension": ".py",
   "mimetype": "text/x-python",
   "name": "python",
   "nbconvert_exporter": "python",
   "pygments_lexer": "ipython3",
   "version": "3.11.3"
  },
  "orig_nbformat": 4
 },
 "nbformat": 4,
 "nbformat_minor": 2
}
