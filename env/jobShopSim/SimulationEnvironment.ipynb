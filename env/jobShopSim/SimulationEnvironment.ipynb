{
 "cells": [
  {
   "cell_type": "code",
   "execution_count": null,
   "metadata": {},
   "outputs": [],
   "source": []
  },
  {
   "attachments": {},
   "cell_type": "markdown",
   "metadata": {},
   "source": [
    "<a id='top'></a>\n",
    "# Table of contents\n",
    "- [Random Generator](#randomgenerator)\n",
    "- [Environment](#environment)\n",
    "- [Infrastructure Object](#infrastructureobject)\n",
    "- [Processing Station](#processingstation)\n",
    "- [Machine](#machine)\n",
    "- [Buffer](#buffer)\n",
    "- [Source](#source)\n",
    "- [Dispatcher](#dispatcher)\n",
    "- [Operation](#operation)\n",
    "- [Job](#job)\n",
    "- [Logic Test](#logic_test)"
   ]
  },
  {
   "attachments": {},
   "cell_type": "markdown",
   "metadata": {},
   "source": [
    "# To-Do:\n",
    "- [ ] capacity deadlocks between buffers and machines\n",
    "    - [x] ~~remove deadlocks by counting the associated machines and comparing the counter to the buffer's capacity~~ (**no capacities > 1 for processing stations**)\n",
    "    - **problem persists: if predecessor systems produce faster than the target processing stations, they fill the buffer until it is filled --> result == deadlock again**\n",
    "    - shared buffers: if only used for machine groups --> no problem because there are no circles between these machines\n",
    "    - [ ] look into problems where processing stations have a capacity greater than 1\n",
    "- [ ] description of process logic for generation and entry of jobs\n",
    "- [ ] add setting of job/machine states in machine logic\n",
    "    - using state update function which combine all necessary state update calls\n",
    "- [ ] add status info to job DB? (waiting, processing, ...) (disposable = waiting?)\n",
    "    - advantage:\n",
    "        - one central DB with all information, no cluttered information\n",
    "        - simple filtering for jobs by current status incl. disposable jobs\n",
    "- [ ] add sources and sinks\n",
    "    - source: generates new job with given intervals\n",
    "    - sink: destroys jobs and finalises data collection\n",
    "- [ ] add physical buffers\n",
    "- [ ] add logistic objective values:\n",
    "    - WIP\n",
    "    - lead time\n",
    "- [ ] add Gantt chart visualisation for debugging\n",
    "    - [x] ~~after simulation run~~\n",
    "    - [ ] during simulation run\n",
    "- [ ] logic/ interface for generation of multiple jobs\n",
    "    - using dispatcher or source?\n",
    "    - interface: design + properties\n",
    "- [ ] add priority rules\n",
    "- [ ] add machine groups (parallel machines)\n",
    "- [ ] I/O functions for elements\n",
    "- [ ] initialisation of the model with pre-defined state information\n",
    "- [ ] self-marking as disposable by jobs\n",
    "    - ==*check if still necessary*==\n",
    "    - includes demarking\n",
    "    - currently only addition implemented\n",
    "- [ ] add machine groups\n",
    "    - logic behind communicating machine groups\n",
    "    - registration of machines in groups\n",
    "- [x] ~~register job object in dispatcher~~\n",
    "- [x] ~~register operations in dispatcher~~\n",
    "- [x] ~~add uniqueness check for custom IDs in resource objects (only interface to user)~~\n",
    "- [x] ~~operations list of jobs as deque~~\n",
    "- [x] ~~add generic infrastructure class from which infrastructure objects are derived~~\n",
    "- [x] ~~implement routing logic in objects~~\n",
    "- [x] ~~add operation starting and end points~~\n",
    "\n",
    "- [ ] tracking disjunctive graph model"
   ]
  },
  {
   "attachments": {},
   "cell_type": "markdown",
   "metadata": {},
   "source": [
    "### Logic behind simulation model approach\n",
    "*Model of Resource and Load*:\n",
    "- system consists of physical objects, also called infrastructure\n",
    "    - each element can be considered as encapsulated resource\n",
    "- stress can be put on each system by occupying resources, also called load\n",
    "    - definition of load depends on system type and modelling, e.g. production jobs for production systems or customers for cashiers in a shop\n",
    "- load objects are called ***load unit***\n",
    "\n",
    "*Guiding Priciples*:\n",
    "- **load objects** can only be spatially and temporally modified by **resources**\n",
    "    - only resource objects can put load objects on other resources and change their state\n",
    "    - load objects **contain the necessary information** which is essential for their further processing\n",
    "\n",
    "################\n",
    "\n",
    "Logic of ``Lang et al.: Modeling Production Scheduling Problems as Reinforcement Learning Environments based on Discrete-Event Simulation and OpenAI Gym``\n",
    "- whole routing logic is implemented in a collaborative manner between resources and load objects\n",
    "    - each load object puts itself in a associated queue\n",
    "    - therefore load objects can change their *states* and *location* by theirown\n",
    "- **violates resource-load model: no load object can change its state without a associated resource**"
   ]
  },
  {
   "cell_type": "code",
   "execution_count": 520,
   "metadata": {},
   "outputs": [],
   "source": [
    "import numpy as np\n",
    "import numpy.typing as npt\n",
    "from numpy.random._generator import Generator\n",
    "import random\n",
    "import simpy\n",
    "import salabim as sim\n",
    "from salabim import Queue, State\n",
    "from typing import TypeAlias, Iterable, Iterator, Any\n",
    "from collections import OrderedDict, deque\n",
    "from operator import attrgetter\n",
    "from functools import lru_cache\n",
    "import logging\n",
    "import sys\n",
    "import pandas as pd\n",
    "from pandas import DataFrame, Series\n",
    "import plotly.express as px\n",
    "from plotly.graph_objs._figure import Figure\n",
    "from __future__ import annotations\n",
    "\n",
    "sim.yieldless(False)\n",
    "\n",
    "# type aliases\n",
    "NPRandomGenerator: TypeAlias = Generator\n",
    "SimPyEnv: TypeAlias = simpy.core.Environment\n",
    "SalabimEnv: TypeAlias = sim.Environment\n",
    "EnvID: TypeAlias = int\n",
    "#JobID: TypeAlias = int\n",
    "#OpID: TypeAlias = int\n",
    "ObjectID: TypeAlias = int\n",
    "### [CHANGE] Replace MachineID as CustomID\n",
    "MachineID: TypeAlias = int | str\n",
    "CustomID: TypeAlias = int | str\n",
    "#InfstructObj: TypeAlias = object # better naming in future\n",
    "PlotlyFigure: TypeAlias = Figure\n",
    "\n",
    "# forward reference, referenced before assignment\n",
    "#Job: TypeAlias = 'Job'\n",
    "#Dispatcher: TypeAlias = 'Dispatcher'\n",
    "\n",
    "# logging\n",
    "# IPython compatibility\n",
    "logging.basicConfig(stream=sys.stdout, level=logging.DEBUG)\n",
    "LOGGING_LEVEL = 'DEBUG'\n",
    "LOGGING_LEVEL_ENV = 'ERROR'\n",
    "LOGGING_LEVEL_DISPATCHER = 'DEBUG'\n",
    "LOGGING_LEVEL_SOURCES = 'DEBUG'\n",
    "LOGGING_LEVEL_PRODSTATIONS = 'DEBUG'\n",
    "LOGGING_LEVEL_JOBS = 'ERROR'\n",
    "LOGGING_LEVEL_OPERATIONS = 'ERROR'\n",
    "\n",
    "\n",
    "logger = logging.getLogger('base')\n",
    "logger.setLevel(LOGGING_LEVEL)\n",
    "logger_env = logging.getLogger('env')\n",
    "logger_env.setLevel(LOGGING_LEVEL_ENV)\n",
    "logger_dispatcher = logging.getLogger('dispatcher')\n",
    "logger_dispatcher.setLevel(LOGGING_LEVEL_DISPATCHER)\n",
    "logger_sources = logging.getLogger('sources')\n",
    "logger_sources.setLevel(LOGGING_LEVEL_SOURCES)\n",
    "logger_prodStations = logging.getLogger('prodStations')\n",
    "logger_prodStations.setLevel(LOGGING_LEVEL_PRODSTATIONS)\n",
    "\n",
    "logger_jobs = logging.getLogger('jobs')\n",
    "logger_jobs.setLevel(LOGGING_LEVEL_JOBS)\n",
    "logger_operations = logging.getLogger('operations')\n",
    "logger_operations.setLevel(LOGGING_LEVEL_OPERATIONS)\n",
    "\n",
    "\n",
    "\n",
    "INF = float('inf')\n",
    "FAIL_DELAY = 20 # time after a store request is failed"
   ]
  },
  {
   "attachments": {},
   "cell_type": "markdown",
   "metadata": {},
   "source": [
    "<a id='randomgenerator'></a>"
   ]
  },
  {
   "cell_type": "code",
   "execution_count": 2,
   "metadata": {},
   "outputs": [],
   "source": [
    "class RandomJobGenerator(object):\n",
    "    \n",
    "    def __init__(\n",
    "        self,\n",
    "        seed: int = 42,\n",
    "    ) -> None:\n",
    "        \"\"\"\n",
    "        seed: seed value for random number generator\n",
    "        \"\"\"\n",
    "        self._np_rnd_gen: NPRandomGenerator = np.random.default_rng(seed=seed)\n",
    "        \n",
    "    def gen_rnd_JSSP_inst(\n",
    "        self,\n",
    "        n_jobs: int,\n",
    "        n_machines: int,\n",
    "    ) -> tuple[npt.NDArray[np.uint16], npt.NDArray[np.uint16]]:\n",
    "        \"\"\"\n",
    "        Generates random job shop instance with given number of and machines\n",
    "        - each job on all machines\n",
    "        - max processing time = 9\n",
    "        \n",
    "        Output:\n",
    "        n_jobs: number of jobs\n",
    "        n_machines: number of machines\n",
    "        n_tasks: number of tasks\n",
    "        mat_ProcTimes: matrix of processing times | shape=(n_jobs,n_machines)\n",
    "        mat_JobMachID: matrix of machine IDs per job starting by index 1 | shape=(n_jobs,n_machines)\n",
    "        mat_OpID: matrix of operation IDs starting by index 1 | shape=(n_jobs,n_machines)\n",
    "        \"\"\"\n",
    "        # generate random process time matrix shape=(n_jobs, n_machines)\n",
    "        mat_ProcTimes = self._np_rnd_gen.integers(1, 10, size=(n_jobs,n_machines), dtype=np.uint16)\n",
    "        \n",
    "        # generate randomly shuffled job machine combinations\n",
    "        # machine IDs from 1 to n_machines\n",
    "        temp = np.arange(0, n_machines, step=1, dtype=np.uint16)\n",
    "        temp = np.expand_dims(temp, axis=0)\n",
    "        # repeat dummy line until number n_jobs is reached\n",
    "        temp = np.repeat(temp, n_jobs, axis=0)\n",
    "        # randomly permute the machine indices job-wise\n",
    "        mat_JobMachID = self._np_rnd_gen.permuted(temp, axis=1)\n",
    "        \n",
    "        # generate operation ID matrix\n",
    "        # not mandatory because operations are registered in the environment's dispatcher\n",
    "        n_ops = n_jobs * n_machines\n",
    "        temp2 = np.arange(0, (n_ops), step=1, dtype=np.uint16)\n",
    "        mat_OpID = temp2.reshape(n_jobs, -1)\n",
    "        \n",
    "        return mat_ProcTimes, mat_JobMachID\n",
    "    \n",
    "    def gen_rnd_job(\n",
    "        self,\n",
    "        n_machines: int,\n",
    "    ) -> tuple[npt.NDArray[np.uint16], npt.NDArray[np.uint16]]:\n",
    "        \"\"\"\n",
    "        Generates random job shop instance with given number of jobs and machines'\n",
    "        - each job on all machines\n",
    "        - max processing time = 9\n",
    "        \n",
    "        Output:\n",
    "        mat_ProcTimes: matrix of processing times | shape=(n_jobs,n_machines)\n",
    "        mat_JobMachID: matrix of machine IDs per job starting by index 1 | shape=(n_jobs,n_machines)\n",
    "\n",
    "        \"\"\"\n",
    "        # generate random process time matrix shape=(n_machines)\n",
    "        mat_ProcTimes = self._np_rnd_gen.integers(1, 10, size=n_machines, dtype=np.uint16)\n",
    "        \n",
    "        # generate randomly shuffled job machine combinations\n",
    "        # machine IDs from 1 to n_machines\n",
    "        temp = np.arange(0, n_machines, step=1, dtype=np.uint16)\n",
    "        # randomly permute the machine indices job-wise\n",
    "        mat_JobMachID = self._np_rnd_gen.permuted(temp)\n",
    "        \n",
    "        return mat_ProcTimes, mat_JobMachID\n",
    "    "
   ]
  },
  {
   "cell_type": "code",
   "execution_count": 3,
   "metadata": {},
   "outputs": [],
   "source": [
    "job_generator = RandomJobGenerator()"
   ]
  },
  {
   "cell_type": "code",
   "execution_count": 4,
   "metadata": {},
   "outputs": [],
   "source": [
    "mat_ProcTimes, mat_JobMachID = job_generator.gen_rnd_JSSP_inst(2,3)"
   ]
  },
  {
   "cell_type": "code",
   "execution_count": 5,
   "metadata": {},
   "outputs": [
    {
     "data": {
      "text/plain": [
       "array([[2, 1, 9],\n",
       "       [7, 9, 6]], dtype=uint16)"
      ]
     },
     "execution_count": 5,
     "metadata": {},
     "output_type": "execute_result"
    }
   ],
   "source": [
    "mat_ProcTimes"
   ]
  },
  {
   "cell_type": "code",
   "execution_count": 6,
   "metadata": {},
   "outputs": [
    {
     "data": {
      "text/plain": [
       "array([[2, 0, 1],\n",
       "       [0, 1, 2]], dtype=uint16)"
      ]
     },
     "execution_count": 6,
     "metadata": {},
     "output_type": "execute_result"
    }
   ],
   "source": [
    "mat_JobMachID"
   ]
  },
  {
   "attachments": {},
   "cell_type": "markdown",
   "metadata": {},
   "source": [
    "##### Brainstorming of ways to import machine names and IDs\n",
    "*Case 1: only names are given*\n",
    "- read machine names and assert IDs to them\n",
    "- build data structure with name and ID bundled (maybe as property of a machine class)\n",
    "\n",
    "*Case 2: IDs are given*\n",
    "- only building data structure with name and ID bundled\n",
    "\n",
    "*Data Structure:*\n",
    "- if only mapping of two pairs in each direction (lookup ID or lookup machine name)\n",
    "    - bi-directional dictionary"
   ]
  },
  {
   "attachments": {},
   "cell_type": "markdown",
   "metadata": {},
   "source": [
    "**for resource objects:**\n",
    "- CustomID may not be of type 'None' because the custom identifiers are the only interface to the end user (EnvID are solely handled inernally)\n",
    "- add checking for uniqueness of custom identifiers necessary, else the mapping of different objects could be ambiguous\n",
    "- jobs and operations can use ambiguous custom IDs --> custom IDs can still be None"
   ]
  },
  {
   "attachments": {},
   "cell_type": "markdown",
   "metadata": {},
   "source": [
    "- dedicated environment class with information on associated resources and jobs\n",
    "- maybe add possibility of using subsystems (bundle of resources with unique identifiers)"
   ]
  },
  {
   "attachments": {},
   "cell_type": "markdown",
   "metadata": {},
   "source": [
    "<a id='environment'></a>\n",
    "**Salabim Env**"
   ]
  },
  {
   "cell_type": "code",
   "execution_count": 365,
   "metadata": {},
   "outputs": [],
   "source": [
    "class SimulationEnvironment(sim.Environment):\n",
    "    \n",
    "    def __init__(\n",
    "        self,\n",
    "        **kwargs,\n",
    "    ) -> None:\n",
    "        \"\"\"\n",
    "        \n",
    "        \"\"\"\n",
    "        super().__init__(**kwargs)\n",
    "        \n",
    "        # resource data base as simple Pandas DataFrame\n",
    "        self._infstruct_prop: dict[str, type] = {\n",
    "            'env_id': int,\n",
    "            'custom_id': object,\n",
    "            'resource': object,\n",
    "            'name': str,\n",
    "            'res_type': str,\n",
    "        }\n",
    "        self._res_db: DataFrame = pd.DataFrame(columns=list(self._infstruct_prop.keys()))\n",
    "        self._res_db: DataFrame = self._res_db.astype(self._infstruct_prop)\n",
    "        self._res_lookup_props: set[str] = set(['env_id', 'custom_id', 'name'])\n",
    "        \n",
    "        # env identifiers\n",
    "        self._id_counter: EnvID = 0\n",
    "        self._res_custom_identifiers: set[str | int] = set()\n",
    "        \n",
    "        # job dispatcher\n",
    "        self._dispatcher_registered: bool = False\n",
    "        self._dispatcher: Dispatcher = None\n",
    "        \n",
    "        # counter for processing stations (machines, assembly, etc.)\n",
    "        self.num_proc_stations: int = 0\n",
    "        ############## LEGACY CODE\n",
    "        ### legacy code, changed approach to tabular data structure\n",
    "        \"\"\"\n",
    "        self.id_counter: EnvID = 0\n",
    "        self.resources: dict[EnvID, object] = dict()\n",
    "        self._custom_identifiers: set[CustomID] = set()\n",
    "        self._custom_from_env_ids: dict[EnvID, CustomID] = dict()\n",
    "        self._custom_to_env_ids: dict[CustomID, EnvID] = dict()\n",
    "        \"\"\"\n",
    "        self._ultimative_test = pd.DataFrame(columns=['test1', 'test2'])\n",
    "        \n",
    "    def _obtain_env_id(self) -> EnvID:\n",
    "        \"\"\"Simple counter function for managing environment IDs\"\"\"\n",
    "        # assign id and set counter up\n",
    "        env_id = self._id_counter\n",
    "        self._id_counter += 1\n",
    "        \n",
    "        return env_id\n",
    "    \n",
    "    def register_dispatcher(\n",
    "        self,\n",
    "        dispatcher: Dispatcher,\n",
    "    ) -> EnvID:\n",
    "        \"\"\"\n",
    "        Registers a dispatcher instance for the environment. Only one instance per environment is allowed.\n",
    "        returns: EnvID for the dispatcher instance\n",
    "        \"\"\"\n",
    "        # obtain env_id\n",
    "        env_id = self._obtain_env_id()\n",
    "        \n",
    "        if not self._dispatcher_registered:\n",
    "            self._dispatcher = dispatcher\n",
    "            self._dispatcher_registered = True\n",
    "            logger_env.info(f\"Successfully registered dispatcher with EnvID {env_id}\")\n",
    "        else:\n",
    "            raise AssertionError(\"There is already a registered dispatcher instance \\\n",
    "                                 Only one instance per environement is allowed.\")\n",
    "        \n",
    "        return env_id\n",
    "    \n",
    "    @property\n",
    "    def dispatcher(self) -> Dispatcher:\n",
    "        \"\"\"obtain the current registered dispatcher instance of the environment\"\"\"\n",
    "        if self._dispatcher is None:\n",
    "            raise ValueError(\"No Dipsatcher instance registered.\")\n",
    "        else:\n",
    "            return self._dispatcher\n",
    "    \n",
    "    def register_resource(\n",
    "        self,\n",
    "        obj: InfrastructureObject,\n",
    "        custom_identifier: CustomID,\n",
    "        name: str | None,\n",
    "    ) ->  tuple[EnvID, str]:\n",
    "        \"\"\"\n",
    "        registers an infrastructure object in the environment by assigning an unique id and \n",
    "        adding the object to the associated resources of the environment\n",
    "        \n",
    "        obj: env resource = instance of a subclass of InfrastructureObject\n",
    "        custom_identifier: user defined identifier\n",
    "        name: custom name of the object, \\\n",
    "            default: None\n",
    "        returns:\n",
    "            env_id: assigned env ID\n",
    "        \"\"\"\n",
    "        # check for uniqueness of custom_identifier\n",
    "        # type security\n",
    "        if not isinstance(custom_identifier, (str, int)):\n",
    "            raise TypeError(\"Custom identifier must be of type STR or INT\")\n",
    "        # create check value\n",
    "        if isinstance(custom_identifier, str):\n",
    "            # remove capital letters for checking\n",
    "            check_val = custom_identifier.lower()\n",
    "        else:\n",
    "            check_val = custom_identifier\n",
    "        \n",
    "        # check if value already exists\n",
    "        if check_val in self._res_custom_identifiers:\n",
    "            raise ValueError(f\"The custom identifier {custom_identifier} provided already exists, \\\n",
    "                            but has to be unique.\")\n",
    "        else:\n",
    "            self._res_custom_identifiers.add(check_val)\n",
    "        \n",
    "        # obtain env_id\n",
    "        env_id = self._obtain_env_id()\n",
    "        \n",
    "        # count number of machines\n",
    "        if isinstance(obj, ProcessingStation):\n",
    "            self.num_proc_stations += 1\n",
    "        \n",
    "        # custom name\n",
    "        if name is None:\n",
    "            name = f'{type(obj).__name__}_env_{env_id}'\n",
    "        \n",
    "        # new entry for resource data base\n",
    "        new_entry: DataFrame = pd.DataFrame({\n",
    "                                'env_id': [env_id],\n",
    "                                'custom_id': [custom_identifier],\n",
    "                                'resource': [obj],\n",
    "                                'name': [name],\n",
    "                                'res_type': [obj.res_type]})\n",
    "        new_entry: DataFrame = new_entry.astype(self._infstruct_prop)\n",
    "        self._res_db = pd.concat([self._res_db, new_entry], ignore_index=True)\n",
    "        \n",
    "        logger_env.info(f\"Successfully registered object with EnvID {env_id} and name {name}\")\n",
    "        \n",
    "        return env_id, name\n",
    "    \n",
    "    @property\n",
    "    def res_db(self) -> DataFrame:\n",
    "        \"\"\"obtain a current overview of registered objects in the environment\"\"\"\n",
    "        return self._res_db\n",
    "\n",
    "    #@lru_cache(maxsize=200)\n",
    "    def get_res_obj_by_prop(\n",
    "        self,\n",
    "        property: str, \n",
    "        val: EnvID | CustomID | str,\n",
    "        target_prop: str = 'resource',\n",
    "    ) -> InfrastructureObject:\n",
    "        \"\"\"\n",
    "        obtain a resource object from the environment by its property and corresponding value\n",
    "        properties: env_id, custom_id, name\n",
    "        \"\"\"\n",
    "        # check if property is a filter criterion\n",
    "        if property not in self._res_lookup_props:\n",
    "            raise IndexError(f\"Property '{property}' is not allowed. Choose from {self._res_lookup_props}\")\n",
    "        # None type value can not be looked for\n",
    "        if val is None:\n",
    "            raise TypeError(\"The lookup value can not be of type 'None'.\")\n",
    "        \n",
    "        # filter resource database for prop-value pair\n",
    "        temp1: Series = self._res_db.loc[self._res_db[property] == val, target_prop]\n",
    "        # check for empty search result, at least one result necessary\n",
    "        if len(temp1) == 0:\n",
    "            raise IndexError(f\"There were no resources found for the property '{property}' \\\n",
    "                            with the value '{val}'\")\n",
    "        # check for multiple entries with same prop-value pair\n",
    "        ########### PERHAPS CHANGE NECESSARY\n",
    "        ### multiple entries but only one returned --> prone to errors\n",
    "        elif len(temp1) > 1:\n",
    "            # warn user\n",
    "            logger_env.warning(f\"CAUTION: There are multiple resources which share the \\\n",
    "                        same value '{val}' for the property '{property}'. \\\n",
    "                        Only the first entry is returned.\")\n",
    "        \n",
    "        return temp1.iat[0]\n",
    "    \n",
    "    \n",
    "        "
   ]
  },
  {
   "attachments": {},
   "cell_type": "markdown",
   "metadata": {},
   "source": [
    "[Jump to top](#top)"
   ]
  },
  {
   "cell_type": "code",
   "execution_count": null,
   "metadata": {},
   "outputs": [],
   "source": []
  },
  {
   "attachments": {},
   "cell_type": "markdown",
   "metadata": {},
   "source": [
    "---\n",
    "### **Infrastructure Objects**"
   ]
  },
  {
   "attachments": {},
   "cell_type": "markdown",
   "metadata": {},
   "source": [
    "*Adapting machine class:*\n",
    "- user defined process function\n",
    "- env related stuff in generic class"
   ]
  },
  {
   "cell_type": "code",
   "execution_count": null,
   "metadata": {},
   "outputs": [],
   "source": []
  },
  {
   "attachments": {},
   "cell_type": "markdown",
   "metadata": {},
   "source": [
    "<a id='infrastructureobject'></a>"
   ]
  },
  {
   "cell_type": "code",
   "execution_count": null,
   "metadata": {},
   "outputs": [],
   "source": []
  },
  {
   "cell_type": "code",
   "execution_count": 576,
   "metadata": {},
   "outputs": [],
   "source": [
    "class InfrastructureObject(sim.Component):\n",
    "    \n",
    "    def __init__(\n",
    "        self,\n",
    "        env: SimulationEnvironment,\n",
    "        custom_identifier: CustomID,\n",
    "        name: str | None = None,\n",
    "        capacity: float = INF,\n",
    "        **kwargs,\n",
    "    ) -> None:\n",
    "        \"\"\"\n",
    "        env: simulation environment in which the infrastructure object is embedded\n",
    "        custom_identifier: unique user-defined custom ID of the given object \\\n",
    "            necessary for user interfaces\n",
    "        capacity: capacity of the infrastructure object, if multiple processing \\\n",
    "            slots available at the same time > 1, default=1\n",
    "        \"\"\"\n",
    "        # assert machine information and register object in the environment\n",
    "        self._env_id, name = env.register_resource(\n",
    "                                obj=self, custom_identifier=custom_identifier,\n",
    "                                name=name)\n",
    "        self.custom_identifier = custom_identifier\n",
    "        self.cap = capacity\n",
    "        # intialize base class\n",
    "        process = 'main_logic'\n",
    "        super().__init__(env=env, name=name, process=process, **kwargs)\n",
    "        \n",
    "        # add logic queues\n",
    "        # each resource uses one associated logic queue, logic queues are not physically available\n",
    "        queue_name: str = f\"queue_{self.name()}\"\n",
    "        self.logic_queue: Queue = sim.Queue(name=queue_name, env=self.env)\n",
    "        \n",
    "        # currently available jobs on that resource\n",
    "        self.contents: OrderedDict[ObjectID, Job] = OrderedDict()\n",
    "        \n",
    "        # resource state parameters\n",
    "        self.is_waiting: bool = False\n",
    "        self.is_failed: bool = False\n",
    "                \n",
    "        # time in state parameters\n",
    "        self.time_waiting: float = 0.\n",
    "        self.time_failed: float = 0.\n",
    "        \n",
    "        # maybe for future, curently no working time calendars planned\n",
    "        self.is_paused: bool = False\n",
    "        self.time_paused: float = 0.\n",
    "        \n",
    "        # number of inputs/outputs\n",
    "        self.num_inputs: int = 0\n",
    "        self.num_outputs: int = 0\n",
    "        \n",
    "    @property\n",
    "    def env_id(self) -> EnvID:\n",
    "        return self._env_id\n",
    "    \n",
    "    def add_content(\n",
    "        self,\n",
    "        job: Job,\n",
    "    ) -> None:\n",
    "        \"\"\"add contents to the InfrastructureObject\"\"\"\n",
    "        job_id = job.job_id\n",
    "        if job_id not in self.contents:\n",
    "            self.contents[job_id] = job\n",
    "        else:\n",
    "            raise KeyError(f\"Job {job} already in contents of {self}\")\n",
    "    \n",
    "    def remove_content(\n",
    "        self,\n",
    "        job: Job,\n",
    "    ) -> None:\n",
    "        \"\"\"remove contents from the InfrastructureObject\"\"\"\n",
    "        job_id = job.job_id\n",
    "        if job_id not in self.contents:\n",
    "            del self.contents[job_id]\n",
    "        else:\n",
    "            raise KeyError(f\"Job {job} not in contents of {self}\")\n",
    "    \n",
    "    def put_job(\n",
    "        self,\n",
    "        job: Job,\n",
    "    ) -> InfrastructureObject:\n",
    "        \"\"\"\n",
    "        placing\n",
    "        \"\"\"\n",
    "        # ALLOCATION REQUEST\n",
    "        ## call dispatcher --> request for allocation\n",
    "        ## self._dispatcher.request_allocation ...\n",
    "        ### input job\n",
    "        #### LATER: LOGIC FOR RESOURCE ALLOCATION (AGENT)\n",
    "        ### - Dispatcher calls \"get_next_operation\"\n",
    "        ### - Dispatcher returns target_machine\n",
    "        ## ret: obtaining target machine\n",
    "        # ++++++++++ add later ++++++++++++\n",
    "        ## time component: given start date of operation\n",
    "        ## returning release date, waiting for release date or release early\n",
    "        target_proc_station = self.env.dispatcher.request_job_allocation(job=job)\n",
    "            \n",
    "        logic_queue = target_proc_station.logic_queue\n",
    "        # check if associated buffers exist\n",
    "        logger_prodStations.debug(f\"[{self}] Check for buffers\")\n",
    "        buffers = target_proc_station.buffers\n",
    "        if buffers:\n",
    "            logger_prodStations.debug(f\"[{self}] Buffer found\")\n",
    "            yield self.to_store(store=buffers, item=job, fail_delay=FAIL_DELAY)\n",
    "            if self.failed():\n",
    "                raise UserWarning(f\"Store placement failed after {FAIL_DELAY} time steps. \\\n",
    "                    There seems to be deadlock.\")\n",
    "            # activate buffer for state definition process\n",
    "            for buffer in buffers:\n",
    "                buffer.activate()\n",
    "        else:\n",
    "            # adding request to machine\n",
    "            # currently not possible because machines are components,\n",
    "            # but resources which could be requested are not\n",
    "            pass\n",
    "        \n",
    "        # load object: enter logic queue after physical placement\n",
    "        job.enter(logic_queue)\n",
    "        \n",
    "        # activate target provessing station if passive\n",
    "        if target_proc_station.ispassive():\n",
    "            target_proc_station.activate()\n",
    "        \n",
    "        logger_prodStations.debug(f\"[{self}] Put Job {job} in queue {target_proc_station.logic_queue}\")\n",
    "        \n",
    "        return target_proc_station\n",
    "    \n",
    "    ### PROCESS LOGIC\n",
    "    # each method of 'pre_process', 'sim_control', 'post_process' must be implemented in the child classes\n",
    "    def pre_process(self) -> None:\n",
    "        \"\"\"return type: tuple with parameters or None\"\"\"\n",
    "        raise NotImplementedError(f\"No pre-process method for {self} of type {self.__class__.__name__} defined.\")\n",
    "    \n",
    "    def sim_control(self) -> None:\n",
    "        \"\"\"return type: tuple with parameters or None\"\"\"\n",
    "        raise NotImplementedError(f\"No sim-control method for {self} of type {self.__class__.__name__} defined.\")\n",
    "    \n",
    "    def post_process(self) -> None:\n",
    "        \"\"\"return type: tuple with parameters or None\"\"\"\n",
    "        raise NotImplementedError(f\"No post-process method for {self} of type {self.__class__.__name__} defined.\")\n",
    "    \n",
    "    def main_logic(self) -> Iterator[Any]:\n",
    "        \"\"\"main logic loop for all resources in the simulation environment\"\"\"\n",
    "        logger.debug(f\"----> Process logic of {self}\")\n",
    "        # pre control logic\n",
    "        ret = self.pre_process()\n",
    "        # main control logic\n",
    "        if ret is not None:\n",
    "            ret = yield from self.sim_control(*ret)\n",
    "        else:\n",
    "            ret = yield from self.sim_control()\n",
    "        # post control logic\n",
    "        if ret is not None:\n",
    "            ret = self.post_process(*ret)\n",
    "        else:\n",
    "            ret = self.post_process()"
   ]
  },
  {
   "attachments": {},
   "cell_type": "markdown",
   "metadata": {},
   "source": [
    "<a id='processingstation'></a>"
   ]
  },
  {
   "cell_type": "code",
   "execution_count": null,
   "metadata": {},
   "outputs": [],
   "source": []
  },
  {
   "cell_type": "code",
   "execution_count": 577,
   "metadata": {},
   "outputs": [],
   "source": [
    "class ProcessingStation(InfrastructureObject):\n",
    "    \n",
    "    def __init__(\n",
    "        self,\n",
    "        buffers: Iterable[Buffer] | None = None,\n",
    "        **kwargs,\n",
    "    ) -> None:\n",
    "        \"\"\"\n",
    "        env: simulation environment in which the infrastructure object is embedded\n",
    "        capacity: capacity of the infrastructure object, if multiple processing \\\n",
    "            slots available at the same time > 1, default=1\n",
    "        \"\"\"\n",
    "        # intialize base class\n",
    "        super().__init__(**kwargs)\n",
    "        \n",
    "        # add physical buffers, more than one allowed\n",
    "        # contrary to logic queues buffers are infrastructure objects and exist physically\n",
    "        if buffers is None:\n",
    "            self._buffers: set[Buffer] = set()\n",
    "        else:\n",
    "            self._buffers: set[Buffer] = set(buffers).copy()\n",
    "        \n",
    "        # add processing station to the associated ones of each buffer\n",
    "        # necessary because if the number of resources for one buffer exceeds its capacity\n",
    "        # deadlocks are possible\n",
    "        for buffer in self._buffers:\n",
    "            buffer.add_prod_station(prod_station=self)\n",
    "        \n",
    "        \n",
    "        # resource state parameters\n",
    "        self.is_occupied: bool = False\n",
    "        self.is_blocked: bool = False\n",
    "        \n",
    "        # time in state parameters\n",
    "        self.time_occupied: float = 0.\n",
    "        self.time_blocked: float = 0.\n",
    "        \n",
    "    @property\n",
    "    def buffers(self) -> set[Buffer]:\n",
    "        return self._buffers\n",
    "    \n",
    "    def add_buffer(\n",
    "        self,\n",
    "        buffer: Buffer,\n",
    "    ) -> None:\n",
    "        \"\"\"\n",
    "        adding buffer to the current associated ones\n",
    "        \"\"\"\n",
    "        # only buffer types allowed\n",
    "        if not isinstance(buffer, Buffer):\n",
    "            raise TypeError(f\"Object is no Buffer type. Only objects of type Buffer can be added as buffers.\")\n",
    "        # check if already present\n",
    "        if buffer not in self._buffers:\n",
    "            self._buffers.add(buffer)\n",
    "            buffer.add_prod_station(prod_station=self)\n",
    "        else:\n",
    "            logger_prodStations.warning(f\"The Buffer >>{buffer}<< is already associated with the resource >>{self}<<. \\\n",
    "                Buffer was not added to the resource.\")\n",
    "\n",
    "    def remove_buffer(\n",
    "        self,\n",
    "        buffer: Buffer,\n",
    "    ) -> None:\n",
    "        \"\"\"\n",
    "        removing buffer from the current associated ones\n",
    "        \"\"\"\n",
    "        if buffer in self._buffers:\n",
    "            self._buffers.remove(buffer)\n",
    "            buffer.remove_prod_station(prod_station=self)\n",
    "        else:\n",
    "            raise KeyError(f\"The buffer >>{buffer}<< is not associated with the resource >>{self}<< and \\\n",
    "                therefore could not be removed.\")\n",
    "            \n",
    "    def get_job(self) -> Job:\n",
    "        \"\"\"\n",
    "        getting jobs from associated predecessor resources\n",
    "        \"\"\"\n",
    "        # entering target machine (logic_buffer)\n",
    "        ## logic_buffer: job queue regardless of physical buffers\n",
    "        ### entity physically on machine, but no true holding resource object (violates load-resource model)\n",
    "        ### no capacity restrictions between resources, e.g. source can endlessly produce entities\n",
    "        ## --- logic ---\n",
    "        ## job enters logic queue of machine with unrestricted capacity\n",
    "        ## each machine can have an associated physical buffer\n",
    "        \n",
    "        # request job from associated queue\n",
    "        job = self.env.dispatcher.request_job_sequencing(req_obj=self)\n",
    "        \n",
    "        # request and get job from associated buffer if it exists\n",
    "        if self._buffers:\n",
    "            yield self.from_store(store=self._buffers, filter=lambda item: item.job_id == job.job_id)\n",
    "        else:\n",
    "            pass\n",
    "        \n",
    "        return job\n",
    "    \n",
    "    ### PROCESS LOGIC\n",
    "    def pre_process(self) -> None:\n",
    "        return None\n",
    "    \n",
    "    def sim_control(self) -> None:\n",
    "        while True:\n",
    "            # initialise state by passivating machines\n",
    "            # resources are activated by other resources\n",
    "            if len(self.logic_queue) == 0:\n",
    "                yield self.passivate()\n",
    "            logger_prodStations.debug(f\"[MACHINE: {self}] is getting job from queue\")\n",
    "            \n",
    "            ########\n",
    "            # GET FUNCTION PARENT CLASS\n",
    "            # ONLY PROCESSING STATIONS ARE ASKING FOR SEQUENCING\n",
    "            job = yield from self.get_job()\n",
    "            \n",
    "            # theoretically request to dispatcher possible\n",
    "            # request job from associated queue\n",
    "            #job = self.env.dispatcher.request_job_sequencing(req_obj=self)\n",
    "            \n",
    "            # get current operation instance\n",
    "            current_op = job.current_op\n",
    "            # get processing time of the current operation\n",
    "            # time set by assigning the new next oepration when exiting an infrastructure object\n",
    "            proc_time = job.current_proc_time\n",
    "            \n",
    "            logger_prodStations.debug(f\"[START] job ID {job.job_id} at {self.env.now()} on machine ID {self.custom_identifier} \\\n",
    "                with proc time {proc_time}\")\n",
    "            \n",
    "            # RELEVANT INFORMATION BEFORE PROCESSING\n",
    "            current_op.start_time = self.env.now()\n",
    "            # PROCESSING\n",
    "            yield self.hold(proc_time)\n",
    "            # RELEVANT INFORMATION AFTER PROCESSING\n",
    "            # [ADDING] new function to update job properties\n",
    "            current_op.end_time = self.env.now()\n",
    "            current_op.is_finished = True\n",
    "            job.num_finished_ops += 1\n",
    "            self.env.dispatcher.write_op_times(op_id=current_op.op_id)\n",
    "            \n",
    "            \n",
    "            logger_prodStations.debug(f\"[END] job ID {job.job_id} at {self.env.now()} on machine ID {self.custom_identifier}\")\n",
    "            \n",
    "            # only place job if there are open operations left\n",
    "            # maybe add to 'put_job' method\n",
    "            if job.open_operations:\n",
    "                target_proc_station = yield from self.put_job(job=job)\n",
    "            else:\n",
    "                # ADD SINK LOGIC\n",
    "                pass\n",
    "            \n",
    "            # return back control to job instance\n",
    "            #job.activate()\n",
    "    \n",
    "    def post_process(self) -> None:\n",
    "        return None"
   ]
  },
  {
   "cell_type": "code",
   "execution_count": null,
   "metadata": {},
   "outputs": [],
   "source": []
  },
  {
   "attachments": {},
   "cell_type": "markdown",
   "metadata": {},
   "source": [
    "<a id='machine'></a>"
   ]
  },
  {
   "cell_type": "code",
   "execution_count": 578,
   "metadata": {},
   "outputs": [],
   "source": [
    "class Machine(ProcessingStation):\n",
    "    \n",
    "    def __init__(\n",
    "        self,\n",
    "        resource_type: str = 'Machine',\n",
    "        **kwargs,\n",
    "    ) -> None:\n",
    "        \"\"\"\n",
    "        env:        SimPy Environment in which machine is embedded\n",
    "        num_slots:  capacity of the machine, if multiple processing \n",
    "                    slots available at the same time > 1, default=1\n",
    "        \"\"\"\n",
    "        # assert object information\n",
    "        self.res_type = resource_type\n",
    "        \n",
    "        # intialize base class\n",
    "        super().__init__(**kwargs)\n",
    "        \n",
    "    ### STATE SETTING\n",
    "    "
   ]
  },
  {
   "attachments": {},
   "cell_type": "markdown",
   "metadata": {},
   "source": [
    "<a id='buffer'></a>"
   ]
  },
  {
   "cell_type": "code",
   "execution_count": 579,
   "metadata": {},
   "outputs": [],
   "source": [
    "from salabim.salabim import Component, Queue\n",
    "\n",
    "\n",
    "class Buffer(sim.Store, InfrastructureObject):\n",
    "    \n",
    "    def __init__(\n",
    "        self,\n",
    "        capacity: float,\n",
    "        resource_type: str = 'Buffer',\n",
    "        **kwargs,\n",
    "    ) -> None:\n",
    "        \"\"\"\n",
    "        capacity: capacity of the buffer, can be infinite\n",
    "        \"\"\"\n",
    "        # assert object information\n",
    "        self.res_type = resource_type\n",
    "        \n",
    "        # intialize base classes\n",
    "        # using hard-coded classes because salabim does not provide \n",
    "        # interfaces for multiple inheritance\n",
    "        sim.Store.__init__(self, capacity=capacity, env=env)\n",
    "        InfrastructureObject.__init__(self, capacity=capacity, **kwargs)\n",
    "        \n",
    "        # material flow relationships\n",
    "        self._associated_prod_stations: set[ProcessingStation] = set()\n",
    "        self._count_associated_prod_stations: int = 0\n",
    "        \n",
    "        # resource state parameters\n",
    "        self.is_full: bool = False\n",
    "        self.is_empty: bool = False\n",
    "    \n",
    "    ### MATERIAL FLOW RELATIONSHIP\n",
    "    def add_prod_station(\n",
    "        self,\n",
    "        prod_station: ProcessingStation\n",
    "    ) -> None:\n",
    "        \"\"\"\n",
    "        function to add processing stations which are associated with \n",
    "        \"\"\"\n",
    "        if not isinstance(prod_station, ProcessingStation):\n",
    "            raise TypeError(f\"Object is no ProcessingStation type. Only objects of type ProcessingStation can be added to a buffer.\")\n",
    "        \n",
    "        # check if adding a new resource exceeds the given capacity\n",
    "        # each associated processing station needs one storage place in the buffer\n",
    "        # else deadlocks are possible\n",
    "        if (self._count_associated_prod_stations + 1) > self.cap:\n",
    "            raise UserWarning(f\"Tried to add a new resource to buffer {self}, but the number of associated \\\n",
    "                resources exceeds its capacity which could result in deadlocks.\")\n",
    "        \n",
    "        # check if processing station can be added\n",
    "        if prod_station not in self._associated_prod_stations:\n",
    "            self._associated_prod_stations.add(prod_station)\n",
    "            self._count_associated_prod_stations += 1\n",
    "        else:\n",
    "            logger_prodStations.warning(f\"The Processing Station >>{prod_station}<< is already associated with the resource >>{self}<<. \\\n",
    "                Processing Station was not added to the resource.\")\n",
    "        \n",
    "    def remove_prod_station(\n",
    "        self,\n",
    "        prod_station: ProcessingStation\n",
    "    ) -> None:\n",
    "        \"\"\"\n",
    "        removing a processing station from the current associated ones\n",
    "        \"\"\"\n",
    "        if prod_station in self._associated_prod_stations:\n",
    "            self._associated_prod_stations.remove(prod_station)\n",
    "            self._count_associated_prod_stations -= 1\n",
    "        else:\n",
    "            raise KeyError(f\"The processing station >>{prod_station}<< is not associated with the resource >>{self}<< and \\\n",
    "                therefore could not be removed.\")\n",
    "    \n",
    "    ### PROCESS LOGIC\n",
    "    def pre_process(self) -> None:\n",
    "        return None\n",
    "    \n",
    "    def sim_control(self) -> None:\n",
    "        while True:\n",
    "            logger_prodStations.debug(f\"[BUFFER: {self}] Invoking at {self.env.now()}\")\n",
    "            # full\n",
    "            if self.available_quantity() == 0:\n",
    "                self.is_full = True\n",
    "                self.is_empty = False\n",
    "                logger_prodStations.debug(f\"[BUFFER: {self}] Set to 'FULL' at {self.env.now()}\")\n",
    "            # empty\n",
    "            elif self.available_quantity() == self.capacity():\n",
    "                self.is_full = False\n",
    "                self.is_empty = True\n",
    "                logger_prodStations.debug(f\"[BUFFER: {self}] Set to 'EMPTY' at {self.env.now()}\")\n",
    "            else:\n",
    "                self.is_full = False\n",
    "                self.is_empty = False\n",
    "                logger_prodStations.debug(f\"[BUFFER: {self}] Neither 'EMPTY' nor 'FULL' at {self.env.now()}\")\n",
    "            \n",
    "            yield self.passivate()\n",
    "        \n",
    "        return None\n",
    "            \n",
    "    def post_process(self) -> None:\n",
    "        return None\n",
    "    "
   ]
  },
  {
   "cell_type": "code",
   "execution_count": null,
   "metadata": {},
   "outputs": [],
   "source": []
  },
  {
   "attachments": {},
   "cell_type": "markdown",
   "metadata": {},
   "source": [
    "[Jump to top](#top)"
   ]
  },
  {
   "cell_type": "code",
   "execution_count": 580,
   "metadata": {},
   "outputs": [
    {
     "data": {
      "text/plain": [
       "10.490652683415727"
      ]
     },
     "execution_count": 580,
     "metadata": {},
     "output_type": "execute_result"
    }
   ],
   "source": [
    "random.normalvariate(10, 2)"
   ]
  },
  {
   "attachments": {},
   "cell_type": "markdown",
   "metadata": {},
   "source": [
    "**Sources:**\n",
    "- entity generation:\n",
    "    - constant\n",
    "    - random"
   ]
  },
  {
   "attachments": {},
   "cell_type": "markdown",
   "metadata": {},
   "source": [
    "<a id='source'></a>"
   ]
  },
  {
   "cell_type": "code",
   "execution_count": null,
   "metadata": {},
   "outputs": [],
   "source": []
  },
  {
   "cell_type": "code",
   "execution_count": 596,
   "metadata": {},
   "outputs": [],
   "source": [
    "class Source(InfrastructureObject):\n",
    "    \n",
    "    def __init__(\n",
    "        self,\n",
    "        resource_type: str = 'Source',\n",
    "        proc_time: float = 1.,\n",
    "        random_generation: bool = False,\n",
    "        job_generator: RandomJobGenerator | None = None,\n",
    "        num_gen_jobs: int = 5,\n",
    "        **kwargs,\n",
    "    ) -> None:\n",
    "        \"\"\"\n",
    "        num_gen_jobs: total number of jobs to be generated\n",
    "        \"\"\"\n",
    "        # assert object information and register object in the environment\n",
    "        self.res_type = resource_type\n",
    "        \n",
    "        # random generation\n",
    "        if random_generation and job_generator is None:\n",
    "            raise ValueError(\"Random generator instance needed for random job generation\")\n",
    "        \n",
    "        self.random_generation = random_generation\n",
    "        self.job_generator = job_generator\n",
    "        \n",
    "        ### REWORK\n",
    "        # initialize component with necessary process function\n",
    "        random.seed(42)\n",
    "        super().__init__(**kwargs)\n",
    "        \n",
    "        # parameters\n",
    "        self.proc_time = proc_time\n",
    "        self.num_gen_jobs = num_gen_jobs\n",
    "        \n",
    "    \n",
    "    ### STATE SETTING\n",
    "    \n",
    "    \n",
    "    def _obtain_proc_time(self) -> float:\n",
    "        \"\"\"\n",
    "        function to generate a constant or random processing time\n",
    "        \"\"\"\n",
    "        if self.random_generation:\n",
    "            # random generation, add later\n",
    "            return self.proc_time\n",
    "        else:\n",
    "            return self.proc_time\n",
    "    \n",
    "    ### PROCESS LOGIC\n",
    "    def pre_process(self) -> None:\n",
    "        return None\n",
    "    \n",
    "    def sim_control(self) -> None:\n",
    "        # id counter for debugging, else endless generation\n",
    "        id_count = 0\n",
    "        while id_count < self.num_gen_jobs:\n",
    "            # start at t=0 with generation\n",
    "            \n",
    "            # generate object\n",
    "            ## random job properties\n",
    "            ## currently: each job passes each machine, only one machine of each operation type\n",
    "            mat_ProcTimes, mat_JobMachID = self.job_generator.gen_rnd_job(self.env.num_proc_stations)\n",
    "            job = Job(dispatcher=self.env.dispatcher, proc_times=mat_ProcTimes.tolist(), \n",
    "                      machine_order=mat_JobMachID.tolist(), status='generated')\n",
    "            logger_sources.debug(f\"[SOURCE: {self}] Generated {job} at {self.env.now()}\")\n",
    "            \n",
    "            \n",
    "            \n",
    "            \n",
    "            logger_sources.debug(f\"[SOURCE: {self}] Request allocation...\")\n",
    "            # put job via 'put_job' function, implemented in parent class 'InfrastructureObject'\n",
    "            target_proc_station = yield from self.put_job(job=job)\n",
    "            logger_sources.debug(f\"[SOURCE: {self}] PUT JOB with ret = {target_proc_station}\")\n",
    "            \n",
    "            # hold for defined generation time (constant or statistically distributed)\n",
    "            # if hold time elapsed start new generation\n",
    "            proc_time = self._obtain_proc_time()\n",
    "            logger_sources.debug(f\"[SOURCE: {self}] Hold for >>{proc_time}<< at {self.env.now()}\")\n",
    "            yield self.hold(proc_time)\n",
    "            # set counter up\n",
    "            id_count += 1\n",
    "            \n",
    "        return None\n",
    "            \n",
    "    def post_process(self) -> None:\n",
    "        return None\n",
    "    "
   ]
  },
  {
   "cell_type": "code",
   "execution_count": 606,
   "metadata": {},
   "outputs": [],
   "source": [
    "env = SimulationEnvironment(name='base')\n",
    "job_generator = RandomJobGenerator(seed=2)\n",
    "dispatcher = Dispatcher(env=env, priority_rule='FIFO')\n",
    "#buffer = Buffer(capacity=INF, env=env, custom_identifier=10)\n",
    "\n",
    "# resources\n",
    "for machine in range(5):\n",
    "    buffer = Buffer(capacity=5, env=env, custom_identifier=(10+machine))\n",
    "    MachInst = Machine(env=env, custom_identifier=machine, buffers=[buffer])\n",
    "    #MachInst = Machine(env=env, custom_identifier=machine)\n",
    "\n",
    "source = Source(env=env, custom_identifier='quelle', proc_time=1., \n",
    "                random_generation=True, job_generator=job_generator, num_gen_jobs=10)\n"
   ]
  },
  {
   "cell_type": "code",
   "execution_count": 607,
   "metadata": {},
   "outputs": [
    {
     "name": "stdout",
     "output_type": "stream",
     "text": [
      "INFO:dispatcher:Changed priority rule to SPT\n"
     ]
    }
   ],
   "source": [
    "dispatcher.curr_prio_rule = 'SPT'"
   ]
  },
  {
   "cell_type": "code",
   "execution_count": 608,
   "metadata": {},
   "outputs": [
    {
     "data": {
      "text/plain": [
       "'base'"
      ]
     },
     "execution_count": 608,
     "metadata": {},
     "output_type": "execute_result"
    }
   ],
   "source": [
    "env.name()"
   ]
  },
  {
   "cell_type": "code",
   "execution_count": 609,
   "metadata": {},
   "outputs": [
    {
     "name": "stdout",
     "output_type": "stream",
     "text": [
      "DEBUG:base:----> Process logic of Buffer (Buffer_env_1)\n",
      "DEBUG:prodStations:[BUFFER: Buffer (Buffer_env_1)] Invoking at 0.0\n",
      "DEBUG:prodStations:[BUFFER: Buffer (Buffer_env_1)] Set to 'EMPTY' at 0.0\n",
      "DEBUG:base:----> Process logic of Machine (Machine_env_2)\n",
      "DEBUG:base:----> Process logic of Buffer (Buffer_env_3)\n",
      "DEBUG:prodStations:[BUFFER: Buffer (Buffer_env_3)] Invoking at 0.0\n",
      "DEBUG:prodStations:[BUFFER: Buffer (Buffer_env_3)] Set to 'EMPTY' at 0.0\n",
      "DEBUG:base:----> Process logic of Machine (Machine_env_4)\n",
      "DEBUG:base:----> Process logic of Buffer (Buffer_env_5)\n",
      "DEBUG:prodStations:[BUFFER: Buffer (Buffer_env_5)] Invoking at 0.0\n",
      "DEBUG:prodStations:[BUFFER: Buffer (Buffer_env_5)] Set to 'EMPTY' at 0.0\n",
      "DEBUG:base:----> Process logic of Machine (Machine_env_6)\n",
      "DEBUG:base:----> Process logic of Buffer (Buffer_env_7)\n",
      "DEBUG:prodStations:[BUFFER: Buffer (Buffer_env_7)] Invoking at 0.0\n",
      "DEBUG:prodStations:[BUFFER: Buffer (Buffer_env_7)] Set to 'EMPTY' at 0.0\n",
      "DEBUG:base:----> Process logic of Machine (Machine_env_8)\n",
      "DEBUG:base:----> Process logic of Buffer (Buffer_env_9)\n",
      "DEBUG:prodStations:[BUFFER: Buffer (Buffer_env_9)] Invoking at 0.0\n",
      "DEBUG:prodStations:[BUFFER: Buffer (Buffer_env_9)] Set to 'EMPTY' at 0.0\n",
      "DEBUG:base:----> Process logic of Machine (Machine_env_10)\n",
      "DEBUG:base:----> Process logic of Source (Source_env_11)\n",
      "INFO:dispatcher:Successfully registered job with JobID 0 and name J_gen_0\n",
      "INFO:dispatcher:Successfully registered operation with OpID 0 and name O_gen_0\n",
      "INFO:dispatcher:Successfully registered operation with OpID 1 and name O_gen_1\n",
      "INFO:dispatcher:Successfully registered operation with OpID 2 and name O_gen_2\n",
      "INFO:dispatcher:Successfully registered operation with OpID 3 and name O_gen_3\n",
      "INFO:dispatcher:Successfully registered operation with OpID 4 and name O_gen_4\n",
      "DEBUG:sources:[SOURCE: Source (Source_env_11)] Generated Job (J_gen_0) at 0.0\n",
      "DEBUG:sources:[SOURCE: Source (Source_env_11)] Request allocation...\n",
      "INFO:dispatcher:[DISPATCHER: Dispatcher(env: base, EnvID: 0)] REQUEST TO DISPATCHER FOR ALLOCATION\n",
      "DEBUG:dispatcher:[DISPATCHER: Dispatcher(env: base, EnvID: 0)] Next operation is Operation(ProcTime: 4, MachineID: 0) with machine group (machine) Machine (Machine_env_2)\n",
      "DEBUG:prodStations:[Source (Source_env_11)] Check for buffers\n",
      "DEBUG:prodStations:[Source (Source_env_11)] Buffer found\n",
      "DEBUG:prodStations:[Source (Source_env_11)] Put Job Job (J_gen_0) in queue Queue (queue_Machine_env_2)\n",
      "DEBUG:sources:[SOURCE: Source (Source_env_11)] PUT JOB with ret = Machine (Machine_env_2)\n",
      "DEBUG:sources:[SOURCE: Source (Source_env_11)] Hold for >>1.0<< at 0.0\n",
      "DEBUG:prodStations:[BUFFER: Buffer (Buffer_env_1)] Invoking at 0.0\n",
      "DEBUG:prodStations:[BUFFER: Buffer (Buffer_env_1)] Neither 'EMPTY' nor 'FULL' at 0.0\n",
      "DEBUG:prodStations:[MACHINE: Machine (Machine_env_2)] is getting job from queue\n",
      "DEBUG:dispatcher:[DISPATCHER: Dispatcher(env: base, EnvID: 0)] REQUEST TO DISPATCHER FOR SEQUENCING\n"
     ]
    },
    {
     "name": "stdout",
     "output_type": "stream",
     "text": [
      "DEBUG:prodStations:[START] job ID 0 at 0.0 on machine ID 0                 with proc time 4\n",
      "INFO:dispatcher:Successfully registered job with JobID 1 and name J_gen_1\n",
      "INFO:dispatcher:Successfully registered operation with OpID 5 and name O_gen_5\n",
      "INFO:dispatcher:Successfully registered operation with OpID 6 and name O_gen_6\n",
      "INFO:dispatcher:Successfully registered operation with OpID 7 and name O_gen_7\n",
      "INFO:dispatcher:Successfully registered operation with OpID 8 and name O_gen_8\n",
      "INFO:dispatcher:Successfully registered operation with OpID 9 and name O_gen_9\n",
      "DEBUG:sources:[SOURCE: Source (Source_env_11)] Generated Job (J_gen_1) at 1.0\n",
      "DEBUG:sources:[SOURCE: Source (Source_env_11)] Request allocation...\n",
      "INFO:dispatcher:[DISPATCHER: Dispatcher(env: base, EnvID: 0)] REQUEST TO DISPATCHER FOR ALLOCATION\n",
      "DEBUG:dispatcher:[DISPATCHER: Dispatcher(env: base, EnvID: 0)] Next operation is Operation(ProcTime: 9, MachineID: 2) with machine group (machine) Machine (Machine_env_6)\n",
      "DEBUG:prodStations:[Source (Source_env_11)] Check for buffers\n",
      "DEBUG:prodStations:[Source (Source_env_11)] Buffer found\n",
      "DEBUG:prodStations:[Source (Source_env_11)] Put Job Job (J_gen_1) in queue Queue (queue_Machine_env_6)\n",
      "DEBUG:sources:[SOURCE: Source (Source_env_11)] PUT JOB with ret = Machine (Machine_env_6)\n",
      "DEBUG:sources:[SOURCE: Source (Source_env_11)] Hold for >>1.0<< at 1.0\n",
      "DEBUG:prodStations:[BUFFER: Buffer (Buffer_env_5)] Invoking at 1.0\n",
      "DEBUG:prodStations:[BUFFER: Buffer (Buffer_env_5)] Neither 'EMPTY' nor 'FULL' at 1.0\n",
      "DEBUG:prodStations:[MACHINE: Machine (Machine_env_6)] is getting job from queue\n",
      "DEBUG:dispatcher:[DISPATCHER: Dispatcher(env: base, EnvID: 0)] REQUEST TO DISPATCHER FOR SEQUENCING\n",
      "DEBUG:prodStations:[START] job ID 1 at 1.0 on machine ID 2                 with proc time 9\n",
      "INFO:dispatcher:Successfully registered job with JobID 2 and name J_gen_2\n",
      "INFO:dispatcher:Successfully registered operation with OpID 10 and name O_gen_10\n",
      "INFO:dispatcher:Successfully registered operation with OpID 11 and name O_gen_11\n",
      "INFO:dispatcher:Successfully registered operation with OpID 12 and name O_gen_12\n",
      "INFO:dispatcher:Successfully registered operation with OpID 13 and name O_gen_13\n",
      "INFO:dispatcher:Successfully registered operation with OpID 14 and name O_gen_14\n",
      "DEBUG:sources:[SOURCE: Source (Source_env_11)] Generated Job (J_gen_2) at 2.0\n",
      "DEBUG:sources:[SOURCE: Source (Source_env_11)] Request allocation...\n",
      "INFO:dispatcher:[DISPATCHER: Dispatcher(env: base, EnvID: 0)] REQUEST TO DISPATCHER FOR ALLOCATION\n",
      "DEBUG:dispatcher:[DISPATCHER: Dispatcher(env: base, EnvID: 0)] Next operation is Operation(ProcTime: 1, MachineID: 0) with machine group (machine) Machine (Machine_env_2)\n",
      "DEBUG:prodStations:[Source (Source_env_11)] Check for buffers\n",
      "DEBUG:prodStations:[Source (Source_env_11)] Buffer found\n",
      "DEBUG:prodStations:[Source (Source_env_11)] Put Job Job (J_gen_2) in queue Queue (queue_Machine_env_2)\n",
      "DEBUG:sources:[SOURCE: Source (Source_env_11)] PUT JOB with ret = Machine (Machine_env_2)\n",
      "DEBUG:sources:[SOURCE: Source (Source_env_11)] Hold for >>1.0<< at 2.0\n",
      "DEBUG:prodStations:[BUFFER: Buffer (Buffer_env_1)] Invoking at 2.0\n",
      "DEBUG:prodStations:[BUFFER: Buffer (Buffer_env_1)] Neither 'EMPTY' nor 'FULL' at 2.0\n",
      "INFO:dispatcher:Successfully registered job with JobID 3 and name J_gen_3\n",
      "INFO:dispatcher:Successfully registered operation with OpID 15 and name O_gen_15\n",
      "INFO:dispatcher:Successfully registered operation with OpID 16 and name O_gen_16\n",
      "INFO:dispatcher:Successfully registered operation with OpID 17 and name O_gen_17\n",
      "INFO:dispatcher:Successfully registered operation with OpID 18 and name O_gen_18\n",
      "INFO:dispatcher:Successfully registered operation with OpID 19 and name O_gen_19\n",
      "DEBUG:sources:[SOURCE: Source (Source_env_11)] Generated Job (J_gen_3) at 3.0\n",
      "DEBUG:sources:[SOURCE: Source (Source_env_11)] Request allocation...\n",
      "INFO:dispatcher:[DISPATCHER: Dispatcher(env: base, EnvID: 0)] REQUEST TO DISPATCHER FOR ALLOCATION\n",
      "DEBUG:dispatcher:[DISPATCHER: Dispatcher(env: base, EnvID: 0)] Next operation is Operation(ProcTime: 8, MachineID: 2) with machine group (machine) Machine (Machine_env_6)\n",
      "DEBUG:prodStations:[Source (Source_env_11)] Check for buffers\n",
      "DEBUG:prodStations:[Source (Source_env_11)] Buffer found\n",
      "DEBUG:prodStations:[Source (Source_env_11)] Put Job Job (J_gen_3) in queue Queue (queue_Machine_env_6)\n",
      "DEBUG:sources:[SOURCE: Source (Source_env_11)] PUT JOB with ret = Machine (Machine_env_6)\n",
      "DEBUG:sources:[SOURCE: Source (Source_env_11)] Hold for >>1.0<< at 3.0\n",
      "DEBUG:prodStations:[BUFFER: Buffer (Buffer_env_5)] Invoking at 3.0\n",
      "DEBUG:prodStations:[BUFFER: Buffer (Buffer_env_5)] Neither 'EMPTY' nor 'FULL' at 3.0\n",
      "DEBUG:prodStations:[END] job ID 0 at 4.0 on machine ID 0\n",
      "INFO:dispatcher:[DISPATCHER: Dispatcher(env: base, EnvID: 0)] REQUEST TO DISPATCHER FOR ALLOCATION\n",
      "DEBUG:dispatcher:[DISPATCHER: Dispatcher(env: base, EnvID: 0)] Next operation is Operation(ProcTime: 8, MachineID: 4) with machine group (machine) Machine (Machine_env_10)\n",
      "DEBUG:prodStations:[Machine (Machine_env_2)] Check for buffers\n",
      "DEBUG:prodStations:[Machine (Machine_env_2)] Buffer found\n",
      "INFO:dispatcher:Successfully registered job with JobID 4 and name J_gen_4\n",
      "INFO:dispatcher:Successfully registered operation with OpID 20 and name O_gen_20\n",
      "INFO:dispatcher:Successfully registered operation with OpID 21 and name O_gen_21\n",
      "INFO:dispatcher:Successfully registered operation with OpID 22 and name O_gen_22\n",
      "INFO:dispatcher:Successfully registered operation with OpID 23 and name O_gen_23\n",
      "INFO:dispatcher:Successfully registered operation with OpID 24 and name O_gen_24\n",
      "DEBUG:sources:[SOURCE: Source (Source_env_11)] Generated Job (J_gen_4) at 4.0\n",
      "DEBUG:sources:[SOURCE: Source (Source_env_11)] Request allocation...\n",
      "INFO:dispatcher:[DISPATCHER: Dispatcher(env: base, EnvID: 0)] REQUEST TO DISPATCHER FOR ALLOCATION\n",
      "DEBUG:dispatcher:[DISPATCHER: Dispatcher(env: base, EnvID: 0)] Next operation is Operation(ProcTime: 6, MachineID: 1) with machine group (machine) Machine (Machine_env_4)\n",
      "DEBUG:prodStations:[Source (Source_env_11)] Check for buffers\n",
      "DEBUG:prodStations:[Source (Source_env_11)] Buffer found\n",
      "DEBUG:prodStations:[Machine (Machine_env_2)] Put Job Job (J_gen_0) in queue Queue (queue_Machine_env_10)\n",
      "DEBUG:prodStations:[MACHINE: Machine (Machine_env_2)] is getting job from queue\n",
      "DEBUG:dispatcher:[DISPATCHER: Dispatcher(env: base, EnvID: 0)] REQUEST TO DISPATCHER FOR SEQUENCING\n",
      "DEBUG:prodStations:[Source (Source_env_11)] Put Job Job (J_gen_4) in queue Queue (queue_Machine_env_4)\n",
      "DEBUG:sources:[SOURCE: Source (Source_env_11)] PUT JOB with ret = Machine (Machine_env_4)\n",
      "DEBUG:sources:[SOURCE: Source (Source_env_11)] Hold for >>1.0<< at 4.0\n",
      "DEBUG:prodStations:[BUFFER: Buffer (Buffer_env_9)] Invoking at 4.0\n",
      "DEBUG:prodStations:[BUFFER: Buffer (Buffer_env_9)] Neither 'EMPTY' nor 'FULL' at 4.0\n",
      "DEBUG:prodStations:[MACHINE: Machine (Machine_env_10)] is getting job from queue\n",
      "DEBUG:dispatcher:[DISPATCHER: Dispatcher(env: base, EnvID: 0)] REQUEST TO DISPATCHER FOR SEQUENCING\n",
      "DEBUG:prodStations:[START] job ID 2 at 4.0 on machine ID 0                 with proc time 1\n",
      "DEBUG:prodStations:[BUFFER: Buffer (Buffer_env_3)] Invoking at 4.0\n",
      "DEBUG:prodStations:[BUFFER: Buffer (Buffer_env_3)] Neither 'EMPTY' nor 'FULL' at 4.0\n",
      "DEBUG:prodStations:[MACHINE: Machine (Machine_env_4)] is getting job from queue\n",
      "DEBUG:dispatcher:[DISPATCHER: Dispatcher(env: base, EnvID: 0)] REQUEST TO DISPATCHER FOR SEQUENCING\n",
      "DEBUG:prodStations:[START] job ID 0 at 4.0 on machine ID 4                 with proc time 8\n",
      "DEBUG:prodStations:[START] job ID 4 at 4.0 on machine ID 1                 with proc time 6\n",
      "INFO:dispatcher:Successfully registered job with JobID 5 and name J_gen_5\n",
      "INFO:dispatcher:Successfully registered operation with OpID 25 and name O_gen_25\n",
      "INFO:dispatcher:Successfully registered operation with OpID 26 and name O_gen_26\n",
      "INFO:dispatcher:Successfully registered operation with OpID 27 and name O_gen_27\n",
      "INFO:dispatcher:Successfully registered operation with OpID 28 and name O_gen_28\n",
      "INFO:dispatcher:Successfully registered operation with OpID 29 and name O_gen_29\n",
      "DEBUG:sources:[SOURCE: Source (Source_env_11)] Generated Job (J_gen_5) at 5.0\n",
      "DEBUG:sources:[SOURCE: Source (Source_env_11)] Request allocation...\n",
      "INFO:dispatcher:[DISPATCHER: Dispatcher(env: base, EnvID: 0)] REQUEST TO DISPATCHER FOR ALLOCATION\n",
      "DEBUG:dispatcher:[DISPATCHER: Dispatcher(env: base, EnvID: 0)] Next operation is Operation(ProcTime: 9, MachineID: 1) with machine group (machine) Machine (Machine_env_4)\n",
      "DEBUG:prodStations:[Source (Source_env_11)] Check for buffers\n",
      "DEBUG:prodStations:[Source (Source_env_11)] Buffer found\n",
      "DEBUG:prodStations:[END] job ID 2 at 5.0 on machine ID 0\n",
      "INFO:dispatcher:[DISPATCHER: Dispatcher(env: base, EnvID: 0)] REQUEST TO DISPATCHER FOR ALLOCATION\n",
      "DEBUG:dispatcher:[DISPATCHER: Dispatcher(env: base, EnvID: 0)] Next operation is Operation(ProcTime: 1, MachineID: 4) with machine group (machine) Machine (Machine_env_10)\n",
      "DEBUG:prodStations:[Machine (Machine_env_2)] Check for buffers\n",
      "DEBUG:prodStations:[Machine (Machine_env_2)] Buffer found\n",
      "DEBUG:prodStations:[Source (Source_env_11)] Put Job Job (J_gen_5) in queue Queue (queue_Machine_env_4)\n",
      "DEBUG:sources:[SOURCE: Source (Source_env_11)] PUT JOB with ret = Machine (Machine_env_4)\n",
      "DEBUG:sources:[SOURCE: Source (Source_env_11)] Hold for >>1.0<< at 5.0\n",
      "DEBUG:prodStations:[Machine (Machine_env_2)] Put Job Job (J_gen_2) in queue Queue (queue_Machine_env_10)\n",
      "DEBUG:prodStations:[BUFFER: Buffer (Buffer_env_3)] Invoking at 5.0\n",
      "DEBUG:prodStations:[BUFFER: Buffer (Buffer_env_3)] Neither 'EMPTY' nor 'FULL' at 5.0\n",
      "DEBUG:prodStations:[BUFFER: Buffer (Buffer_env_9)] Invoking at 5.0\n",
      "DEBUG:prodStations:[BUFFER: Buffer (Buffer_env_9)] Neither 'EMPTY' nor 'FULL' at 5.0\n",
      "INFO:dispatcher:Successfully registered job with JobID 6 and name J_gen_6\n",
      "INFO:dispatcher:Successfully registered operation with OpID 30 and name O_gen_30\n",
      "INFO:dispatcher:Successfully registered operation with OpID 31 and name O_gen_31\n",
      "INFO:dispatcher:Successfully registered operation with OpID 32 and name O_gen_32\n",
      "INFO:dispatcher:Successfully registered operation with OpID 33 and name O_gen_33\n",
      "INFO:dispatcher:Successfully registered operation with OpID 34 and name O_gen_34\n",
      "DEBUG:sources:[SOURCE: Source (Source_env_11)] Generated Job (J_gen_6) at 6.0\n",
      "DEBUG:sources:[SOURCE: Source (Source_env_11)] Request allocation...\n",
      "INFO:dispatcher:[DISPATCHER: Dispatcher(env: base, EnvID: 0)] REQUEST TO DISPATCHER FOR ALLOCATION\n",
      "DEBUG:dispatcher:[DISPATCHER: Dispatcher(env: base, EnvID: 0)] Next operation is Operation(ProcTime: 1, MachineID: 1) with machine group (machine) Machine (Machine_env_4)\n",
      "DEBUG:prodStations:[Source (Source_env_11)] Check for buffers\n",
      "DEBUG:prodStations:[Source (Source_env_11)] Buffer found\n",
      "DEBUG:prodStations:[Source (Source_env_11)] Put Job Job (J_gen_6) in queue Queue (queue_Machine_env_4)\n",
      "DEBUG:sources:[SOURCE: Source (Source_env_11)] PUT JOB with ret = Machine (Machine_env_4)\n",
      "DEBUG:sources:[SOURCE: Source (Source_env_11)] Hold for >>1.0<< at 6.0\n",
      "DEBUG:prodStations:[BUFFER: Buffer (Buffer_env_3)] Invoking at 6.0\n",
      "DEBUG:prodStations:[BUFFER: Buffer (Buffer_env_3)] Neither 'EMPTY' nor 'FULL' at 6.0\n",
      "INFO:dispatcher:Successfully registered job with JobID 7 and name J_gen_7\n",
      "INFO:dispatcher:Successfully registered operation with OpID 35 and name O_gen_35\n",
      "INFO:dispatcher:Successfully registered operation with OpID 36 and name O_gen_36\n",
      "INFO:dispatcher:Successfully registered operation with OpID 37 and name O_gen_37\n",
      "INFO:dispatcher:Successfully registered operation with OpID 38 and name O_gen_38\n",
      "INFO:dispatcher:Successfully registered operation with OpID 39 and name O_gen_39\n",
      "DEBUG:sources:[SOURCE: Source (Source_env_11)] Generated Job (J_gen_7) at 7.0\n",
      "DEBUG:sources:[SOURCE: Source (Source_env_11)] Request allocation...\n",
      "INFO:dispatcher:[DISPATCHER: Dispatcher(env: base, EnvID: 0)] REQUEST TO DISPATCHER FOR ALLOCATION\n",
      "DEBUG:dispatcher:[DISPATCHER: Dispatcher(env: base, EnvID: 0)] Next operation is Operation(ProcTime: 5, MachineID: 3) with machine group (machine) Machine (Machine_env_8)\n",
      "DEBUG:prodStations:[Source (Source_env_11)] Check for buffers\n",
      "DEBUG:prodStations:[Source (Source_env_11)] Buffer found\n",
      "DEBUG:prodStations:[Source (Source_env_11)] Put Job Job (J_gen_7) in queue Queue (queue_Machine_env_8)\n",
      "DEBUG:sources:[SOURCE: Source (Source_env_11)] PUT JOB with ret = Machine (Machine_env_8)\n",
      "DEBUG:sources:[SOURCE: Source (Source_env_11)] Hold for >>1.0<< at 7.0\n",
      "DEBUG:prodStations:[BUFFER: Buffer (Buffer_env_7)] Invoking at 7.0\n",
      "DEBUG:prodStations:[BUFFER: Buffer (Buffer_env_7)] Neither 'EMPTY' nor 'FULL' at 7.0\n",
      "DEBUG:prodStations:[MACHINE: Machine (Machine_env_8)] is getting job from queue\n",
      "DEBUG:dispatcher:[DISPATCHER: Dispatcher(env: base, EnvID: 0)] REQUEST TO DISPATCHER FOR SEQUENCING\n",
      "DEBUG:prodStations:[START] job ID 7 at 7.0 on machine ID 3                 with proc time 5\n",
      "INFO:dispatcher:Successfully registered job with JobID 8 and name J_gen_8\n",
      "INFO:dispatcher:Successfully registered operation with OpID 40 and name O_gen_40\n",
      "INFO:dispatcher:Successfully registered operation with OpID 41 and name O_gen_41\n",
      "INFO:dispatcher:Successfully registered operation with OpID 42 and name O_gen_42\n",
      "INFO:dispatcher:Successfully registered operation with OpID 43 and name O_gen_43\n",
      "INFO:dispatcher:Successfully registered operation with OpID 44 and name O_gen_44\n",
      "DEBUG:sources:[SOURCE: Source (Source_env_11)] Generated Job (J_gen_8) at 8.0\n",
      "DEBUG:sources:[SOURCE: Source (Source_env_11)] Request allocation...\n",
      "INFO:dispatcher:[DISPATCHER: Dispatcher(env: base, EnvID: 0)] REQUEST TO DISPATCHER FOR ALLOCATION\n",
      "DEBUG:dispatcher:[DISPATCHER: Dispatcher(env: base, EnvID: 0)] Next operation is Operation(ProcTime: 1, MachineID: 3) with machine group (machine) Machine (Machine_env_8)\n",
      "DEBUG:prodStations:[Source (Source_env_11)] Check for buffers\n",
      "DEBUG:prodStations:[Source (Source_env_11)] Buffer found\n",
      "DEBUG:prodStations:[Source (Source_env_11)] Put Job Job (J_gen_8) in queue Queue (queue_Machine_env_8)\n",
      "DEBUG:sources:[SOURCE: Source (Source_env_11)] PUT JOB with ret = Machine (Machine_env_8)\n",
      "DEBUG:sources:[SOURCE: Source (Source_env_11)] Hold for >>1.0<< at 8.0\n",
      "DEBUG:prodStations:[BUFFER: Buffer (Buffer_env_7)] Invoking at 8.0\n",
      "DEBUG:prodStations:[BUFFER: Buffer (Buffer_env_7)] Neither 'EMPTY' nor 'FULL' at 8.0\n",
      "INFO:dispatcher:Successfully registered job with JobID 9 and name J_gen_9\n",
      "INFO:dispatcher:Successfully registered operation with OpID 45 and name O_gen_45\n",
      "INFO:dispatcher:Successfully registered operation with OpID 46 and name O_gen_46\n",
      "INFO:dispatcher:Successfully registered operation with OpID 47 and name O_gen_47\n",
      "INFO:dispatcher:Successfully registered operation with OpID 48 and name O_gen_48\n",
      "INFO:dispatcher:Successfully registered operation with OpID 49 and name O_gen_49\n",
      "DEBUG:sources:[SOURCE: Source (Source_env_11)] Generated Job (J_gen_9) at 9.0\n",
      "DEBUG:sources:[SOURCE: Source (Source_env_11)] Request allocation...\n",
      "INFO:dispatcher:[DISPATCHER: Dispatcher(env: base, EnvID: 0)] REQUEST TO DISPATCHER FOR ALLOCATION\n",
      "DEBUG:dispatcher:[DISPATCHER: Dispatcher(env: base, EnvID: 0)] Next operation is Operation(ProcTime: 2, MachineID: 4) with machine group (machine) Machine (Machine_env_10)\n",
      "DEBUG:prodStations:[Source (Source_env_11)] Check for buffers\n",
      "DEBUG:prodStations:[Source (Source_env_11)] Buffer found\n",
      "DEBUG:prodStations:[Source (Source_env_11)] Put Job Job (J_gen_9) in queue Queue (queue_Machine_env_10)\n",
      "DEBUG:sources:[SOURCE: Source (Source_env_11)] PUT JOB with ret = Machine (Machine_env_10)\n",
      "DEBUG:sources:[SOURCE: Source (Source_env_11)] Hold for >>1.0<< at 9.0\n",
      "DEBUG:prodStations:[BUFFER: Buffer (Buffer_env_9)] Invoking at 9.0\n",
      "DEBUG:prodStations:[BUFFER: Buffer (Buffer_env_9)] Neither 'EMPTY' nor 'FULL' at 9.0\n",
      "DEBUG:prodStations:[END] job ID 1 at 10.0 on machine ID 2\n",
      "INFO:dispatcher:[DISPATCHER: Dispatcher(env: base, EnvID: 0)] REQUEST TO DISPATCHER FOR ALLOCATION\n",
      "DEBUG:dispatcher:[DISPATCHER: Dispatcher(env: base, EnvID: 0)] Next operation is Operation(ProcTime: 4, MachineID: 4) with machine group (machine) Machine (Machine_env_10)\n",
      "DEBUG:prodStations:[Machine (Machine_env_6)] Check for buffers\n",
      "DEBUG:prodStations:[Machine (Machine_env_6)] Buffer found\n",
      "DEBUG:prodStations:[END] job ID 4 at 10.0 on machine ID 1\n",
      "INFO:dispatcher:[DISPATCHER: Dispatcher(env: base, EnvID: 0)] REQUEST TO DISPATCHER FOR ALLOCATION\n",
      "DEBUG:dispatcher:[DISPATCHER: Dispatcher(env: base, EnvID: 0)] Next operation is Operation(ProcTime: 4, MachineID: 3) with machine group (machine) Machine (Machine_env_8)\n",
      "DEBUG:prodStations:[Machine (Machine_env_4)] Check for buffers\n",
      "DEBUG:prodStations:[Machine (Machine_env_4)] Buffer found\n",
      "DEBUG:prodStations:[Machine (Machine_env_6)] Put Job Job (J_gen_1) in queue Queue (queue_Machine_env_10)\n",
      "DEBUG:prodStations:[MACHINE: Machine (Machine_env_6)] is getting job from queue\n",
      "DEBUG:dispatcher:[DISPATCHER: Dispatcher(env: base, EnvID: 0)] REQUEST TO DISPATCHER FOR SEQUENCING\n",
      "DEBUG:prodStations:[Machine (Machine_env_4)] Put Job Job (J_gen_4) in queue Queue (queue_Machine_env_8)\n",
      "DEBUG:prodStations:[MACHINE: Machine (Machine_env_4)] is getting job from queue\n",
      "DEBUG:dispatcher:[DISPATCHER: Dispatcher(env: base, EnvID: 0)] REQUEST TO DISPATCHER FOR SEQUENCING\n",
      "DEBUG:prodStations:[BUFFER: Buffer (Buffer_env_9)] Invoking at 10.0\n",
      "DEBUG:prodStations:[BUFFER: Buffer (Buffer_env_9)] Neither 'EMPTY' nor 'FULL' at 10.0\n",
      "DEBUG:prodStations:[START] job ID 3 at 10.0 on machine ID 2                 with proc time 8\n",
      "DEBUG:prodStations:[BUFFER: Buffer (Buffer_env_7)] Invoking at 10.0\n",
      "DEBUG:prodStations:[BUFFER: Buffer (Buffer_env_7)] Neither 'EMPTY' nor 'FULL' at 10.0\n",
      "DEBUG:prodStations:[START] job ID 6 at 10.0 on machine ID 1                 with proc time 1\n",
      "DEBUG:prodStations:[END] job ID 6 at 11.0 on machine ID 1\n",
      "INFO:dispatcher:[DISPATCHER: Dispatcher(env: base, EnvID: 0)] REQUEST TO DISPATCHER FOR ALLOCATION\n",
      "DEBUG:dispatcher:[DISPATCHER: Dispatcher(env: base, EnvID: 0)] Next operation is Operation(ProcTime: 7, MachineID: 2) with machine group (machine) Machine (Machine_env_6)\n",
      "DEBUG:prodStations:[Machine (Machine_env_4)] Check for buffers\n",
      "DEBUG:prodStations:[Machine (Machine_env_4)] Buffer found\n",
      "DEBUG:prodStations:[Machine (Machine_env_4)] Put Job Job (J_gen_6) in queue Queue (queue_Machine_env_6)\n",
      "DEBUG:prodStations:[MACHINE: Machine (Machine_env_4)] is getting job from queue\n",
      "DEBUG:dispatcher:[DISPATCHER: Dispatcher(env: base, EnvID: 0)] REQUEST TO DISPATCHER FOR SEQUENCING\n",
      "DEBUG:prodStations:[BUFFER: Buffer (Buffer_env_5)] Invoking at 11.0\n",
      "DEBUG:prodStations:[BUFFER: Buffer (Buffer_env_5)] Neither 'EMPTY' nor 'FULL' at 11.0\n",
      "DEBUG:prodStations:[START] job ID 5 at 11.0 on machine ID 1                 with proc time 9\n",
      "DEBUG:prodStations:[END] job ID 0 at 12.0 on machine ID 4\n",
      "INFO:dispatcher:[DISPATCHER: Dispatcher(env: base, EnvID: 0)] REQUEST TO DISPATCHER FOR ALLOCATION\n",
      "DEBUG:dispatcher:[DISPATCHER: Dispatcher(env: base, EnvID: 0)] Next operation is Operation(ProcTime: 1, MachineID: 1) with machine group (machine) Machine (Machine_env_4)\n",
      "DEBUG:prodStations:[Machine (Machine_env_10)] Check for buffers\n",
      "DEBUG:prodStations:[Machine (Machine_env_10)] Buffer found\n",
      "DEBUG:prodStations:[END] job ID 7 at 12.0 on machine ID 3\n",
      "INFO:dispatcher:[DISPATCHER: Dispatcher(env: base, EnvID: 0)] REQUEST TO DISPATCHER FOR ALLOCATION\n",
      "DEBUG:dispatcher:[DISPATCHER: Dispatcher(env: base, EnvID: 0)] Next operation is Operation(ProcTime: 9, MachineID: 4) with machine group (machine) Machine (Machine_env_10)\n",
      "DEBUG:prodStations:[Machine (Machine_env_8)] Check for buffers\n",
      "DEBUG:prodStations:[Machine (Machine_env_8)] Buffer found\n",
      "DEBUG:prodStations:[Machine (Machine_env_10)] Put Job Job (J_gen_0) in queue Queue (queue_Machine_env_4)\n",
      "DEBUG:prodStations:[MACHINE: Machine (Machine_env_10)] is getting job from queue\n",
      "DEBUG:dispatcher:[DISPATCHER: Dispatcher(env: base, EnvID: 0)] REQUEST TO DISPATCHER FOR SEQUENCING\n",
      "DEBUG:prodStations:[Machine (Machine_env_8)] Put Job Job (J_gen_7) in queue Queue (queue_Machine_env_10)\n",
      "DEBUG:prodStations:[MACHINE: Machine (Machine_env_8)] is getting job from queue\n",
      "DEBUG:dispatcher:[DISPATCHER: Dispatcher(env: base, EnvID: 0)] REQUEST TO DISPATCHER FOR SEQUENCING\n",
      "DEBUG:prodStations:[BUFFER: Buffer (Buffer_env_3)] Invoking at 12.0\n",
      "DEBUG:prodStations:[BUFFER: Buffer (Buffer_env_3)] Neither 'EMPTY' nor 'FULL' at 12.0\n",
      "DEBUG:prodStations:[START] job ID 2 at 12.0 on machine ID 4                 with proc time 1\n",
      "DEBUG:prodStations:[BUFFER: Buffer (Buffer_env_9)] Invoking at 12.0\n",
      "DEBUG:prodStations:[BUFFER: Buffer (Buffer_env_9)] Neither 'EMPTY' nor 'FULL' at 12.0\n",
      "DEBUG:prodStations:[START] job ID 8 at 12.0 on machine ID 3                 with proc time 1\n",
      "DEBUG:prodStations:[END] job ID 2 at 13.0 on machine ID 4\n",
      "INFO:dispatcher:[DISPATCHER: Dispatcher(env: base, EnvID: 0)] REQUEST TO DISPATCHER FOR ALLOCATION\n",
      "DEBUG:dispatcher:[DISPATCHER: Dispatcher(env: base, EnvID: 0)] Next operation is Operation(ProcTime: 9, MachineID: 1) with machine group (machine) Machine (Machine_env_4)\n",
      "DEBUG:prodStations:[Machine (Machine_env_10)] Check for buffers\n",
      "DEBUG:prodStations:[Machine (Machine_env_10)] Buffer found\n",
      "DEBUG:prodStations:[END] job ID 8 at 13.0 on machine ID 3\n",
      "INFO:dispatcher:[DISPATCHER: Dispatcher(env: base, EnvID: 0)] REQUEST TO DISPATCHER FOR ALLOCATION\n",
      "DEBUG:dispatcher:[DISPATCHER: Dispatcher(env: base, EnvID: 0)] Next operation is Operation(ProcTime: 9, MachineID: 0) with machine group (machine) Machine (Machine_env_2)\n",
      "DEBUG:prodStations:[Machine (Machine_env_8)] Check for buffers\n",
      "DEBUG:prodStations:[Machine (Machine_env_8)] Buffer found\n",
      "DEBUG:prodStations:[Machine (Machine_env_10)] Put Job Job (J_gen_2) in queue Queue (queue_Machine_env_4)\n",
      "DEBUG:prodStations:[MACHINE: Machine (Machine_env_10)] is getting job from queue\n",
      "DEBUG:dispatcher:[DISPATCHER: Dispatcher(env: base, EnvID: 0)] REQUEST TO DISPATCHER FOR SEQUENCING\n",
      "DEBUG:prodStations:[Machine (Machine_env_8)] Put Job Job (J_gen_8) in queue Queue (queue_Machine_env_2)\n",
      "DEBUG:prodStations:[MACHINE: Machine (Machine_env_8)] is getting job from queue\n",
      "DEBUG:dispatcher:[DISPATCHER: Dispatcher(env: base, EnvID: 0)] REQUEST TO DISPATCHER FOR SEQUENCING\n",
      "DEBUG:prodStations:[BUFFER: Buffer (Buffer_env_3)] Invoking at 13.0\n",
      "DEBUG:prodStations:[BUFFER: Buffer (Buffer_env_3)] Neither 'EMPTY' nor 'FULL' at 13.0\n",
      "DEBUG:prodStations:[START] job ID 9 at 13.0 on machine ID 4                 with proc time 2\n",
      "DEBUG:prodStations:[BUFFER: Buffer (Buffer_env_1)] Invoking at 13.0\n",
      "DEBUG:prodStations:[BUFFER: Buffer (Buffer_env_1)] Neither 'EMPTY' nor 'FULL' at 13.0\n",
      "DEBUG:prodStations:[MACHINE: Machine (Machine_env_2)] is getting job from queue\n",
      "DEBUG:dispatcher:[DISPATCHER: Dispatcher(env: base, EnvID: 0)] REQUEST TO DISPATCHER FOR SEQUENCING\n",
      "DEBUG:prodStations:[START] job ID 4 at 13.0 on machine ID 3                 with proc time 4\n",
      "DEBUG:prodStations:[START] job ID 8 at 13.0 on machine ID 0                 with proc time 9\n",
      "DEBUG:prodStations:[END] job ID 9 at 15.0 on machine ID 4\n",
      "INFO:dispatcher:[DISPATCHER: Dispatcher(env: base, EnvID: 0)] REQUEST TO DISPATCHER FOR ALLOCATION\n",
      "DEBUG:dispatcher:[DISPATCHER: Dispatcher(env: base, EnvID: 0)] Next operation is Operation(ProcTime: 6, MachineID: 0) with machine group (machine) Machine (Machine_env_2)\n",
      "DEBUG:prodStations:[Machine (Machine_env_10)] Check for buffers\n",
      "DEBUG:prodStations:[Machine (Machine_env_10)] Buffer found\n",
      "DEBUG:prodStations:[Machine (Machine_env_10)] Put Job Job (J_gen_9) in queue Queue (queue_Machine_env_2)\n",
      "DEBUG:prodStations:[MACHINE: Machine (Machine_env_10)] is getting job from queue\n",
      "DEBUG:dispatcher:[DISPATCHER: Dispatcher(env: base, EnvID: 0)] REQUEST TO DISPATCHER FOR SEQUENCING\n",
      "DEBUG:prodStations:[BUFFER: Buffer (Buffer_env_1)] Invoking at 15.0\n",
      "DEBUG:prodStations:[BUFFER: Buffer (Buffer_env_1)] Neither 'EMPTY' nor 'FULL' at 15.0\n",
      "DEBUG:prodStations:[START] job ID 1 at 15.0 on machine ID 4                 with proc time 4\n",
      "DEBUG:prodStations:[END] job ID 4 at 17.0 on machine ID 3\n",
      "INFO:dispatcher:[DISPATCHER: Dispatcher(env: base, EnvID: 0)] REQUEST TO DISPATCHER FOR ALLOCATION\n",
      "DEBUG:dispatcher:[DISPATCHER: Dispatcher(env: base, EnvID: 0)] Next operation is Operation(ProcTime: 6, MachineID: 2) with machine group (machine) Machine (Machine_env_6)\n",
      "DEBUG:prodStations:[Machine (Machine_env_8)] Check for buffers\n",
      "DEBUG:prodStations:[Machine (Machine_env_8)] Buffer found\n",
      "DEBUG:prodStations:[Machine (Machine_env_8)] Put Job Job (J_gen_4) in queue Queue (queue_Machine_env_6)\n",
      "DEBUG:prodStations:[BUFFER: Buffer (Buffer_env_5)] Invoking at 17.0\n",
      "DEBUG:prodStations:[BUFFER: Buffer (Buffer_env_5)] Neither 'EMPTY' nor 'FULL' at 17.0\n",
      "DEBUG:prodStations:[END] job ID 3 at 18.0 on machine ID 2\n",
      "INFO:dispatcher:[DISPATCHER: Dispatcher(env: base, EnvID: 0)] REQUEST TO DISPATCHER FOR ALLOCATION\n",
      "DEBUG:dispatcher:[DISPATCHER: Dispatcher(env: base, EnvID: 0)] Next operation is Operation(ProcTime: 3, MachineID: 4) with machine group (machine) Machine (Machine_env_10)\n",
      "DEBUG:prodStations:[Machine (Machine_env_6)] Check for buffers\n",
      "DEBUG:prodStations:[Machine (Machine_env_6)] Buffer found\n",
      "DEBUG:prodStations:[Machine (Machine_env_6)] Put Job Job (J_gen_3) in queue Queue (queue_Machine_env_10)\n",
      "DEBUG:prodStations:[MACHINE: Machine (Machine_env_6)] is getting job from queue\n",
      "DEBUG:dispatcher:[DISPATCHER: Dispatcher(env: base, EnvID: 0)] REQUEST TO DISPATCHER FOR SEQUENCING\n",
      "DEBUG:prodStations:[BUFFER: Buffer (Buffer_env_9)] Invoking at 18.0\n",
      "DEBUG:prodStations:[BUFFER: Buffer (Buffer_env_9)] Neither 'EMPTY' nor 'FULL' at 18.0\n",
      "DEBUG:prodStations:[START] job ID 4 at 18.0 on machine ID 2                 with proc time 6\n",
      "DEBUG:prodStations:[END] job ID 1 at 19.0 on machine ID 4\n",
      "INFO:dispatcher:[DISPATCHER: Dispatcher(env: base, EnvID: 0)] REQUEST TO DISPATCHER FOR ALLOCATION\n",
      "DEBUG:dispatcher:[DISPATCHER: Dispatcher(env: base, EnvID: 0)] Next operation is Operation(ProcTime: 2, MachineID: 0) with machine group (machine) Machine (Machine_env_2)\n",
      "DEBUG:prodStations:[Machine (Machine_env_10)] Check for buffers\n",
      "DEBUG:prodStations:[Machine (Machine_env_10)] Buffer found\n",
      "DEBUG:prodStations:[Machine (Machine_env_10)] Put Job Job (J_gen_1) in queue Queue (queue_Machine_env_2)\n",
      "DEBUG:prodStations:[MACHINE: Machine (Machine_env_10)] is getting job from queue\n",
      "DEBUG:dispatcher:[DISPATCHER: Dispatcher(env: base, EnvID: 0)] REQUEST TO DISPATCHER FOR SEQUENCING\n",
      "DEBUG:prodStations:[BUFFER: Buffer (Buffer_env_1)] Invoking at 19.0\n",
      "DEBUG:prodStations:[BUFFER: Buffer (Buffer_env_1)] Neither 'EMPTY' nor 'FULL' at 19.0\n",
      "DEBUG:prodStations:[START] job ID 3 at 19.0 on machine ID 4                 with proc time 3\n",
      "DEBUG:prodStations:[END] job ID 5 at 20.0 on machine ID 1\n",
      "INFO:dispatcher:[DISPATCHER: Dispatcher(env: base, EnvID: 0)] REQUEST TO DISPATCHER FOR ALLOCATION\n",
      "DEBUG:dispatcher:[DISPATCHER: Dispatcher(env: base, EnvID: 0)] Next operation is Operation(ProcTime: 4, MachineID: 3) with machine group (machine) Machine (Machine_env_8)\n",
      "DEBUG:prodStations:[Machine (Machine_env_4)] Check for buffers\n",
      "DEBUG:prodStations:[Machine (Machine_env_4)] Buffer found\n",
      "DEBUG:prodStations:[Machine (Machine_env_4)] Put Job Job (J_gen_5) in queue Queue (queue_Machine_env_8)\n",
      "DEBUG:prodStations:[MACHINE: Machine (Machine_env_4)] is getting job from queue\n",
      "DEBUG:dispatcher:[DISPATCHER: Dispatcher(env: base, EnvID: 0)] REQUEST TO DISPATCHER FOR SEQUENCING\n",
      "DEBUG:prodStations:[BUFFER: Buffer (Buffer_env_7)] Invoking at 20.0\n",
      "DEBUG:prodStations:[BUFFER: Buffer (Buffer_env_7)] Neither 'EMPTY' nor 'FULL' at 20.0\n",
      "DEBUG:prodStations:[MACHINE: Machine (Machine_env_8)] is getting job from queue\n",
      "DEBUG:dispatcher:[DISPATCHER: Dispatcher(env: base, EnvID: 0)] REQUEST TO DISPATCHER FOR SEQUENCING\n",
      "DEBUG:prodStations:[START] job ID 0 at 20.0 on machine ID 1                 with proc time 1\n",
      "DEBUG:prodStations:[START] job ID 5 at 20.0 on machine ID 3                 with proc time 4\n",
      "DEBUG:prodStations:[END] job ID 0 at 21.0 on machine ID 1\n",
      "INFO:dispatcher:[DISPATCHER: Dispatcher(env: base, EnvID: 0)] REQUEST TO DISPATCHER FOR ALLOCATION\n",
      "DEBUG:dispatcher:[DISPATCHER: Dispatcher(env: base, EnvID: 0)] Next operation is Operation(ProcTime: 3, MachineID: 2) with machine group (machine) Machine (Machine_env_6)\n",
      "DEBUG:prodStations:[Machine (Machine_env_4)] Check for buffers\n",
      "DEBUG:prodStations:[Machine (Machine_env_4)] Buffer found\n",
      "DEBUG:prodStations:[Machine (Machine_env_4)] Put Job Job (J_gen_0) in queue Queue (queue_Machine_env_6)\n",
      "DEBUG:prodStations:[MACHINE: Machine (Machine_env_4)] is getting job from queue\n",
      "DEBUG:dispatcher:[DISPATCHER: Dispatcher(env: base, EnvID: 0)] REQUEST TO DISPATCHER FOR SEQUENCING\n",
      "DEBUG:prodStations:[BUFFER: Buffer (Buffer_env_5)] Invoking at 21.0\n",
      "DEBUG:prodStations:[BUFFER: Buffer (Buffer_env_5)] Neither 'EMPTY' nor 'FULL' at 21.0\n",
      "DEBUG:prodStations:[START] job ID 2 at 21.0 on machine ID 1                 with proc time 9\n",
      "DEBUG:prodStations:[END] job ID 8 at 22.0 on machine ID 0\n",
      "INFO:dispatcher:[DISPATCHER: Dispatcher(env: base, EnvID: 0)] REQUEST TO DISPATCHER FOR ALLOCATION\n",
      "DEBUG:dispatcher:[DISPATCHER: Dispatcher(env: base, EnvID: 0)] Next operation is Operation(ProcTime: 2, MachineID: 1) with machine group (machine) Machine (Machine_env_4)\n",
      "DEBUG:prodStations:[Machine (Machine_env_2)] Check for buffers\n",
      "DEBUG:prodStations:[Machine (Machine_env_2)] Buffer found\n",
      "DEBUG:prodStations:[END] job ID 3 at 22.0 on machine ID 4\n",
      "INFO:dispatcher:[DISPATCHER: Dispatcher(env: base, EnvID: 0)] REQUEST TO DISPATCHER FOR ALLOCATION\n",
      "DEBUG:dispatcher:[DISPATCHER: Dispatcher(env: base, EnvID: 0)] Next operation is Operation(ProcTime: 5, MachineID: 3) with machine group (machine) Machine (Machine_env_8)\n",
      "DEBUG:prodStations:[Machine (Machine_env_10)] Check for buffers\n",
      "DEBUG:prodStations:[Machine (Machine_env_10)] Buffer found\n",
      "DEBUG:prodStations:[Machine (Machine_env_2)] Put Job Job (J_gen_8) in queue Queue (queue_Machine_env_4)\n",
      "DEBUG:prodStations:[MACHINE: Machine (Machine_env_2)] is getting job from queue\n",
      "DEBUG:dispatcher:[DISPATCHER: Dispatcher(env: base, EnvID: 0)] REQUEST TO DISPATCHER FOR SEQUENCING\n",
      "DEBUG:prodStations:[Machine (Machine_env_10)] Put Job Job (J_gen_3) in queue Queue (queue_Machine_env_8)\n",
      "DEBUG:prodStations:[MACHINE: Machine (Machine_env_10)] is getting job from queue\n",
      "DEBUG:dispatcher:[DISPATCHER: Dispatcher(env: base, EnvID: 0)] REQUEST TO DISPATCHER FOR SEQUENCING\n",
      "DEBUG:prodStations:[BUFFER: Buffer (Buffer_env_3)] Invoking at 22.0\n",
      "DEBUG:prodStations:[BUFFER: Buffer (Buffer_env_3)] Neither 'EMPTY' nor 'FULL' at 22.0\n",
      "DEBUG:prodStations:[START] job ID 1 at 22.0 on machine ID 0                 with proc time 2\n",
      "DEBUG:prodStations:[BUFFER: Buffer (Buffer_env_7)] Invoking at 22.0\n",
      "DEBUG:prodStations:[BUFFER: Buffer (Buffer_env_7)] Neither 'EMPTY' nor 'FULL' at 22.0\n",
      "DEBUG:prodStations:[START] job ID 7 at 22.0 on machine ID 4                 with proc time 9\n",
      "DEBUG:prodStations:[END] job ID 4 at 24.0 on machine ID 2\n",
      "INFO:dispatcher:[DISPATCHER: Dispatcher(env: base, EnvID: 0)] REQUEST TO DISPATCHER FOR ALLOCATION\n",
      "DEBUG:dispatcher:[DISPATCHER: Dispatcher(env: base, EnvID: 0)] Next operation is Operation(ProcTime: 2, MachineID: 4) with machine group (machine) Machine (Machine_env_10)\n",
      "DEBUG:prodStations:[Machine (Machine_env_6)] Check for buffers\n",
      "DEBUG:prodStations:[Machine (Machine_env_6)] Buffer found\n",
      "DEBUG:prodStations:[END] job ID 5 at 24.0 on machine ID 3\n",
      "INFO:dispatcher:[DISPATCHER: Dispatcher(env: base, EnvID: 0)] REQUEST TO DISPATCHER FOR ALLOCATION\n",
      "DEBUG:dispatcher:[DISPATCHER: Dispatcher(env: base, EnvID: 0)] Next operation is Operation(ProcTime: 5, MachineID: 2) with machine group (machine) Machine (Machine_env_6)\n",
      "DEBUG:prodStations:[Machine (Machine_env_8)] Check for buffers\n",
      "DEBUG:prodStations:[Machine (Machine_env_8)] Buffer found\n",
      "DEBUG:prodStations:[END] job ID 1 at 24.0 on machine ID 0\n",
      "INFO:dispatcher:[DISPATCHER: Dispatcher(env: base, EnvID: 0)] REQUEST TO DISPATCHER FOR ALLOCATION\n",
      "DEBUG:dispatcher:[DISPATCHER: Dispatcher(env: base, EnvID: 0)] Next operation is Operation(ProcTime: 6, MachineID: 1) with machine group (machine) Machine (Machine_env_4)\n",
      "DEBUG:prodStations:[Machine (Machine_env_2)] Check for buffers\n",
      "DEBUG:prodStations:[Machine (Machine_env_2)] Buffer found\n",
      "DEBUG:prodStations:[Machine (Machine_env_6)] Put Job Job (J_gen_4) in queue Queue (queue_Machine_env_10)\n",
      "DEBUG:prodStations:[MACHINE: Machine (Machine_env_6)] is getting job from queue\n",
      "DEBUG:dispatcher:[DISPATCHER: Dispatcher(env: base, EnvID: 0)] REQUEST TO DISPATCHER FOR SEQUENCING\n",
      "DEBUG:prodStations:[Machine (Machine_env_8)] Put Job Job (J_gen_5) in queue Queue (queue_Machine_env_6)\n",
      "DEBUG:prodStations:[MACHINE: Machine (Machine_env_8)] is getting job from queue\n",
      "DEBUG:dispatcher:[DISPATCHER: Dispatcher(env: base, EnvID: 0)] REQUEST TO DISPATCHER FOR SEQUENCING\n",
      "DEBUG:prodStations:[Machine (Machine_env_2)] Put Job Job (J_gen_1) in queue Queue (queue_Machine_env_4)\n",
      "DEBUG:prodStations:[MACHINE: Machine (Machine_env_2)] is getting job from queue\n",
      "DEBUG:dispatcher:[DISPATCHER: Dispatcher(env: base, EnvID: 0)] REQUEST TO DISPATCHER FOR SEQUENCING\n",
      "DEBUG:prodStations:[BUFFER: Buffer (Buffer_env_9)] Invoking at 24.0\n",
      "DEBUG:prodStations:[BUFFER: Buffer (Buffer_env_9)] Neither 'EMPTY' nor 'FULL' at 24.0\n",
      "DEBUG:prodStations:[START] job ID 0 at 24.0 on machine ID 2                 with proc time 3\n",
      "DEBUG:prodStations:[BUFFER: Buffer (Buffer_env_5)] Invoking at 24.0\n",
      "DEBUG:prodStations:[BUFFER: Buffer (Buffer_env_5)] Neither 'EMPTY' nor 'FULL' at 24.0\n",
      "DEBUG:prodStations:[START] job ID 3 at 24.0 on machine ID 3                 with proc time 5\n",
      "DEBUG:prodStations:[BUFFER: Buffer (Buffer_env_3)] Invoking at 24.0\n",
      "DEBUG:prodStations:[BUFFER: Buffer (Buffer_env_3)] Neither 'EMPTY' nor 'FULL' at 24.0\n",
      "DEBUG:prodStations:[START] job ID 9 at 24.0 on machine ID 0                 with proc time 6\n",
      "DEBUG:prodStations:[END] job ID 0 at 27.0 on machine ID 2\n",
      "INFO:dispatcher:[DISPATCHER: Dispatcher(env: base, EnvID: 0)] REQUEST TO DISPATCHER FOR ALLOCATION\n",
      "DEBUG:dispatcher:[DISPATCHER: Dispatcher(env: base, EnvID: 0)] Next operation is Operation(ProcTime: 4, MachineID: 3) with machine group (machine) Machine (Machine_env_8)\n",
      "DEBUG:prodStations:[Machine (Machine_env_6)] Check for buffers\n",
      "DEBUG:prodStations:[Machine (Machine_env_6)] Buffer found\n",
      "DEBUG:prodStations:[Machine (Machine_env_6)] Put Job Job (J_gen_0) in queue Queue (queue_Machine_env_8)\n",
      "DEBUG:prodStations:[MACHINE: Machine (Machine_env_6)] is getting job from queue\n",
      "DEBUG:dispatcher:[DISPATCHER: Dispatcher(env: base, EnvID: 0)] REQUEST TO DISPATCHER FOR SEQUENCING\n",
      "DEBUG:prodStations:[BUFFER: Buffer (Buffer_env_7)] Invoking at 27.0\n",
      "DEBUG:prodStations:[BUFFER: Buffer (Buffer_env_7)] Neither 'EMPTY' nor 'FULL' at 27.0\n",
      "DEBUG:prodStations:[START] job ID 5 at 27.0 on machine ID 2                 with proc time 5\n",
      "DEBUG:prodStations:[END] job ID 3 at 29.0 on machine ID 3\n",
      "INFO:dispatcher:[DISPATCHER: Dispatcher(env: base, EnvID: 0)] REQUEST TO DISPATCHER FOR ALLOCATION\n",
      "DEBUG:dispatcher:[DISPATCHER: Dispatcher(env: base, EnvID: 0)] Next operation is Operation(ProcTime: 2, MachineID: 0) with machine group (machine) Machine (Machine_env_2)\n",
      "DEBUG:prodStations:[Machine (Machine_env_8)] Check for buffers\n",
      "DEBUG:prodStations:[Machine (Machine_env_8)] Buffer found\n",
      "DEBUG:prodStations:[Machine (Machine_env_8)] Put Job Job (J_gen_3) in queue Queue (queue_Machine_env_2)\n",
      "DEBUG:prodStations:[MACHINE: Machine (Machine_env_8)] is getting job from queue\n",
      "DEBUG:dispatcher:[DISPATCHER: Dispatcher(env: base, EnvID: 0)] REQUEST TO DISPATCHER FOR SEQUENCING\n",
      "DEBUG:prodStations:[BUFFER: Buffer (Buffer_env_1)] Invoking at 29.0\n",
      "DEBUG:prodStations:[BUFFER: Buffer (Buffer_env_1)] Neither 'EMPTY' nor 'FULL' at 29.0\n",
      "DEBUG:prodStations:[START] job ID 0 at 29.0 on machine ID 3                 with proc time 4\n",
      "DEBUG:prodStations:[END] job ID 2 at 30.0 on machine ID 1\n",
      "INFO:dispatcher:[DISPATCHER: Dispatcher(env: base, EnvID: 0)] REQUEST TO DISPATCHER FOR ALLOCATION\n",
      "DEBUG:dispatcher:[DISPATCHER: Dispatcher(env: base, EnvID: 0)] Next operation is Operation(ProcTime: 6, MachineID: 2) with machine group (machine) Machine (Machine_env_6)\n",
      "DEBUG:prodStations:[Machine (Machine_env_4)] Check for buffers\n",
      "DEBUG:prodStations:[Machine (Machine_env_4)] Buffer found\n",
      "DEBUG:prodStations:[END] job ID 9 at 30.0 on machine ID 0\n",
      "INFO:dispatcher:[DISPATCHER: Dispatcher(env: base, EnvID: 0)] REQUEST TO DISPATCHER FOR ALLOCATION\n",
      "DEBUG:dispatcher:[DISPATCHER: Dispatcher(env: base, EnvID: 0)] Next operation is Operation(ProcTime: 7, MachineID: 3) with machine group (machine) Machine (Machine_env_8)\n",
      "DEBUG:prodStations:[Machine (Machine_env_2)] Check for buffers\n",
      "DEBUG:prodStations:[Machine (Machine_env_2)] Buffer found\n",
      "DEBUG:prodStations:[Machine (Machine_env_4)] Put Job Job (J_gen_2) in queue Queue (queue_Machine_env_6)\n",
      "DEBUG:prodStations:[MACHINE: Machine (Machine_env_4)] is getting job from queue\n",
      "DEBUG:dispatcher:[DISPATCHER: Dispatcher(env: base, EnvID: 0)] REQUEST TO DISPATCHER FOR SEQUENCING\n",
      "DEBUG:prodStations:[Machine (Machine_env_2)] Put Job Job (J_gen_9) in queue Queue (queue_Machine_env_8)\n",
      "DEBUG:prodStations:[MACHINE: Machine (Machine_env_2)] is getting job from queue\n",
      "DEBUG:dispatcher:[DISPATCHER: Dispatcher(env: base, EnvID: 0)] REQUEST TO DISPATCHER FOR SEQUENCING\n",
      "DEBUG:prodStations:[BUFFER: Buffer (Buffer_env_5)] Invoking at 30.0\n",
      "DEBUG:prodStations:[BUFFER: Buffer (Buffer_env_5)] Neither 'EMPTY' nor 'FULL' at 30.0\n",
      "DEBUG:prodStations:[START] job ID 8 at 30.0 on machine ID 1                 with proc time 2\n",
      "DEBUG:prodStations:[BUFFER: Buffer (Buffer_env_7)] Invoking at 30.0\n",
      "DEBUG:prodStations:[BUFFER: Buffer (Buffer_env_7)] Neither 'EMPTY' nor 'FULL' at 30.0\n",
      "DEBUG:prodStations:[START] job ID 3 at 30.0 on machine ID 0                 with proc time 2\n",
      "DEBUG:prodStations:[END] job ID 7 at 31.0 on machine ID 4\n",
      "INFO:dispatcher:[DISPATCHER: Dispatcher(env: base, EnvID: 0)] REQUEST TO DISPATCHER FOR ALLOCATION\n",
      "DEBUG:dispatcher:[DISPATCHER: Dispatcher(env: base, EnvID: 0)] Next operation is Operation(ProcTime: 1, MachineID: 1) with machine group (machine) Machine (Machine_env_4)\n",
      "DEBUG:prodStations:[Machine (Machine_env_10)] Check for buffers\n",
      "DEBUG:prodStations:[Machine (Machine_env_10)] Buffer found\n",
      "DEBUG:prodStations:[Machine (Machine_env_10)] Put Job Job (J_gen_7) in queue Queue (queue_Machine_env_4)\n",
      "DEBUG:prodStations:[MACHINE: Machine (Machine_env_10)] is getting job from queue\n",
      "DEBUG:dispatcher:[DISPATCHER: Dispatcher(env: base, EnvID: 0)] REQUEST TO DISPATCHER FOR SEQUENCING\n",
      "DEBUG:prodStations:[BUFFER: Buffer (Buffer_env_3)] Invoking at 31.0\n",
      "DEBUG:prodStations:[BUFFER: Buffer (Buffer_env_3)] Neither 'EMPTY' nor 'FULL' at 31.0\n",
      "DEBUG:prodStations:[START] job ID 4 at 31.0 on machine ID 4                 with proc time 2\n",
      "DEBUG:prodStations:[END] job ID 5 at 32.0 on machine ID 2\n",
      "INFO:dispatcher:[DISPATCHER: Dispatcher(env: base, EnvID: 0)] REQUEST TO DISPATCHER FOR ALLOCATION\n",
      "DEBUG:dispatcher:[DISPATCHER: Dispatcher(env: base, EnvID: 0)] Next operation is Operation(ProcTime: 4, MachineID: 4) with machine group (machine) Machine (Machine_env_10)\n",
      "DEBUG:prodStations:[Machine (Machine_env_6)] Check for buffers\n",
      "DEBUG:prodStations:[Machine (Machine_env_6)] Buffer found\n",
      "DEBUG:prodStations:[END] job ID 8 at 32.0 on machine ID 1\n",
      "INFO:dispatcher:[DISPATCHER: Dispatcher(env: base, EnvID: 0)] REQUEST TO DISPATCHER FOR ALLOCATION\n",
      "DEBUG:dispatcher:[DISPATCHER: Dispatcher(env: base, EnvID: 0)] Next operation is Operation(ProcTime: 2, MachineID: 2) with machine group (machine) Machine (Machine_env_6)\n",
      "DEBUG:prodStations:[Machine (Machine_env_4)] Check for buffers\n",
      "DEBUG:prodStations:[Machine (Machine_env_4)] Buffer found\n",
      "DEBUG:prodStations:[END] job ID 3 at 32.0 on machine ID 0\n",
      "INFO:dispatcher:[DISPATCHER: Dispatcher(env: base, EnvID: 0)] REQUEST TO DISPATCHER FOR ALLOCATION\n",
      "DEBUG:dispatcher:[DISPATCHER: Dispatcher(env: base, EnvID: 0)] Next operation is Operation(ProcTime: 2, MachineID: 1) with machine group (machine) Machine (Machine_env_4)\n",
      "DEBUG:prodStations:[Machine (Machine_env_2)] Check for buffers\n",
      "DEBUG:prodStations:[Machine (Machine_env_2)] Buffer found\n",
      "DEBUG:prodStations:[Machine (Machine_env_6)] Put Job Job (J_gen_5) in queue Queue (queue_Machine_env_10)\n",
      "DEBUG:prodStations:[MACHINE: Machine (Machine_env_6)] is getting job from queue\n",
      "DEBUG:dispatcher:[DISPATCHER: Dispatcher(env: base, EnvID: 0)] REQUEST TO DISPATCHER FOR SEQUENCING\n",
      "DEBUG:prodStations:[Machine (Machine_env_4)] Put Job Job (J_gen_8) in queue Queue (queue_Machine_env_6)\n",
      "DEBUG:prodStations:[MACHINE: Machine (Machine_env_4)] is getting job from queue\n",
      "DEBUG:dispatcher:[DISPATCHER: Dispatcher(env: base, EnvID: 0)] REQUEST TO DISPATCHER FOR SEQUENCING\n",
      "DEBUG:prodStations:[Machine (Machine_env_2)] Put Job Job (J_gen_3) in queue Queue (queue_Machine_env_4)\n",
      "DEBUG:prodStations:[BUFFER: Buffer (Buffer_env_9)] Invoking at 32.0\n",
      "DEBUG:prodStations:[BUFFER: Buffer (Buffer_env_9)] Neither 'EMPTY' nor 'FULL' at 32.0\n",
      "DEBUG:prodStations:[START] job ID 2 at 32.0 on machine ID 2                 with proc time 6\n",
      "DEBUG:prodStations:[BUFFER: Buffer (Buffer_env_5)] Invoking at 32.0\n",
      "DEBUG:prodStations:[BUFFER: Buffer (Buffer_env_5)] Neither 'EMPTY' nor 'FULL' at 32.0\n",
      "DEBUG:prodStations:[START] job ID 7 at 32.0 on machine ID 1                 with proc time 1\n",
      "DEBUG:prodStations:[BUFFER: Buffer (Buffer_env_3)] Invoking at 32.0\n",
      "DEBUG:prodStations:[BUFFER: Buffer (Buffer_env_3)] Neither 'EMPTY' nor 'FULL' at 32.0\n",
      "DEBUG:prodStations:[END] job ID 0 at 33.0 on machine ID 3\n",
      "DEBUG:prodStations:[MACHINE: Machine (Machine_env_8)] is getting job from queue\n",
      "DEBUG:dispatcher:[DISPATCHER: Dispatcher(env: base, EnvID: 0)] REQUEST TO DISPATCHER FOR SEQUENCING\n",
      "DEBUG:prodStations:[END] job ID 4 at 33.0 on machine ID 4\n",
      "INFO:dispatcher:[DISPATCHER: Dispatcher(env: base, EnvID: 0)] REQUEST TO DISPATCHER FOR ALLOCATION\n",
      "DEBUG:dispatcher:[DISPATCHER: Dispatcher(env: base, EnvID: 0)] Next operation is Operation(ProcTime: 4, MachineID: 0) with machine group (machine) Machine (Machine_env_2)\n",
      "DEBUG:prodStations:[Machine (Machine_env_10)] Check for buffers\n",
      "DEBUG:prodStations:[Machine (Machine_env_10)] Buffer found\n",
      "DEBUG:prodStations:[END] job ID 7 at 33.0 on machine ID 1\n",
      "INFO:dispatcher:[DISPATCHER: Dispatcher(env: base, EnvID: 0)] REQUEST TO DISPATCHER FOR ALLOCATION\n",
      "DEBUG:dispatcher:[DISPATCHER: Dispatcher(env: base, EnvID: 0)] Next operation is Operation(ProcTime: 3, MachineID: 2) with machine group (machine) Machine (Machine_env_6)\n",
      "DEBUG:prodStations:[Machine (Machine_env_4)] Check for buffers\n",
      "DEBUG:prodStations:[Machine (Machine_env_4)] Buffer found\n",
      "DEBUG:prodStations:[START] job ID 9 at 33.0 on machine ID 3                 with proc time 7\n",
      "DEBUG:prodStations:[Machine (Machine_env_10)] Put Job Job (J_gen_4) in queue Queue (queue_Machine_env_2)\n",
      "DEBUG:prodStations:[MACHINE: Machine (Machine_env_10)] is getting job from queue\n",
      "DEBUG:dispatcher:[DISPATCHER: Dispatcher(env: base, EnvID: 0)] REQUEST TO DISPATCHER FOR SEQUENCING\n",
      "DEBUG:prodStations:[Machine (Machine_env_4)] Put Job Job (J_gen_7) in queue Queue (queue_Machine_env_6)\n",
      "DEBUG:prodStations:[MACHINE: Machine (Machine_env_4)] is getting job from queue\n",
      "DEBUG:dispatcher:[DISPATCHER: Dispatcher(env: base, EnvID: 0)] REQUEST TO DISPATCHER FOR SEQUENCING\n",
      "DEBUG:prodStations:[BUFFER: Buffer (Buffer_env_1)] Invoking at 33.0\n",
      "DEBUG:prodStations:[BUFFER: Buffer (Buffer_env_1)] Neither 'EMPTY' nor 'FULL' at 33.0\n",
      "DEBUG:prodStations:[MACHINE: Machine (Machine_env_2)] is getting job from queue\n",
      "DEBUG:dispatcher:[DISPATCHER: Dispatcher(env: base, EnvID: 0)] REQUEST TO DISPATCHER FOR SEQUENCING\n",
      "DEBUG:prodStations:[START] job ID 5 at 33.0 on machine ID 4                 with proc time 4\n",
      "DEBUG:prodStations:[BUFFER: Buffer (Buffer_env_5)] Invoking at 33.0\n",
      "DEBUG:prodStations:[BUFFER: Buffer (Buffer_env_5)] Neither 'EMPTY' nor 'FULL' at 33.0\n",
      "DEBUG:prodStations:[START] job ID 3 at 33.0 on machine ID 1                 with proc time 2\n",
      "DEBUG:prodStations:[START] job ID 4 at 33.0 on machine ID 0                 with proc time 4\n",
      "DEBUG:prodStations:[END] job ID 3 at 35.0 on machine ID 1\n",
      "DEBUG:prodStations:[MACHINE: Machine (Machine_env_4)] is getting job from queue\n",
      "DEBUG:dispatcher:[DISPATCHER: Dispatcher(env: base, EnvID: 0)] REQUEST TO DISPATCHER FOR SEQUENCING\n",
      "DEBUG:prodStations:[START] job ID 1 at 35.0 on machine ID 1                 with proc time 6\n",
      "DEBUG:prodStations:[END] job ID 5 at 37.0 on machine ID 4\n",
      "INFO:dispatcher:[DISPATCHER: Dispatcher(env: base, EnvID: 0)] REQUEST TO DISPATCHER FOR ALLOCATION\n",
      "DEBUG:dispatcher:[DISPATCHER: Dispatcher(env: base, EnvID: 0)] Next operation is Operation(ProcTime: 1, MachineID: 0) with machine group (machine) Machine (Machine_env_2)\n",
      "DEBUG:prodStations:[Machine (Machine_env_10)] Check for buffers\n",
      "DEBUG:prodStations:[Machine (Machine_env_10)] Buffer found\n",
      "DEBUG:prodStations:[END] job ID 4 at 37.0 on machine ID 0\n",
      "DEBUG:prodStations:[Machine (Machine_env_10)] Put Job Job (J_gen_5) in queue Queue (queue_Machine_env_2)\n",
      "DEBUG:prodStations:[BUFFER: Buffer (Buffer_env_1)] Invoking at 37.0\n",
      "DEBUG:prodStations:[BUFFER: Buffer (Buffer_env_1)] Neither 'EMPTY' nor 'FULL' at 37.0\n",
      "DEBUG:prodStations:[MACHINE: Machine (Machine_env_2)] is getting job from queue\n",
      "DEBUG:dispatcher:[DISPATCHER: Dispatcher(env: base, EnvID: 0)] REQUEST TO DISPATCHER FOR SEQUENCING\n",
      "DEBUG:prodStations:[START] job ID 5 at 37.0 on machine ID 0                 with proc time 1\n",
      "DEBUG:prodStations:[END] job ID 2 at 38.0 on machine ID 2\n",
      "INFO:dispatcher:[DISPATCHER: Dispatcher(env: base, EnvID: 0)] REQUEST TO DISPATCHER FOR ALLOCATION\n",
      "DEBUG:dispatcher:[DISPATCHER: Dispatcher(env: base, EnvID: 0)] Next operation is Operation(ProcTime: 4, MachineID: 3) with machine group (machine) Machine (Machine_env_8)\n",
      "DEBUG:prodStations:[Machine (Machine_env_6)] Check for buffers\n",
      "DEBUG:prodStations:[Machine (Machine_env_6)] Buffer found\n",
      "DEBUG:prodStations:[END] job ID 5 at 38.0 on machine ID 0\n",
      "DEBUG:prodStations:[Machine (Machine_env_6)] Put Job Job (J_gen_2) in queue Queue (queue_Machine_env_8)\n",
      "DEBUG:prodStations:[MACHINE: Machine (Machine_env_6)] is getting job from queue\n",
      "DEBUG:dispatcher:[DISPATCHER: Dispatcher(env: base, EnvID: 0)] REQUEST TO DISPATCHER FOR SEQUENCING\n",
      "DEBUG:prodStations:[BUFFER: Buffer (Buffer_env_7)] Invoking at 38.0\n",
      "DEBUG:prodStations:[BUFFER: Buffer (Buffer_env_7)] Neither 'EMPTY' nor 'FULL' at 38.0\n",
      "DEBUG:prodStations:[START] job ID 8 at 38.0 on machine ID 2                 with proc time 2\n",
      "DEBUG:prodStations:[END] job ID 9 at 40.0 on machine ID 3\n",
      "INFO:dispatcher:[DISPATCHER: Dispatcher(env: base, EnvID: 0)] REQUEST TO DISPATCHER FOR ALLOCATION\n",
      "DEBUG:dispatcher:[DISPATCHER: Dispatcher(env: base, EnvID: 0)] Next operation is Operation(ProcTime: 6, MachineID: 1) with machine group (machine) Machine (Machine_env_4)\n",
      "DEBUG:prodStations:[Machine (Machine_env_8)] Check for buffers\n",
      "DEBUG:prodStations:[Machine (Machine_env_8)] Buffer found\n",
      "DEBUG:prodStations:[END] job ID 8 at 40.0 on machine ID 2\n",
      "INFO:dispatcher:[DISPATCHER: Dispatcher(env: base, EnvID: 0)] REQUEST TO DISPATCHER FOR ALLOCATION\n",
      "DEBUG:dispatcher:[DISPATCHER: Dispatcher(env: base, EnvID: 0)] Next operation is Operation(ProcTime: 7, MachineID: 4) with machine group (machine) Machine (Machine_env_10)\n",
      "DEBUG:prodStations:[Machine (Machine_env_6)] Check for buffers\n",
      "DEBUG:prodStations:[Machine (Machine_env_6)] Buffer found\n",
      "DEBUG:prodStations:[Machine (Machine_env_8)] Put Job Job (J_gen_9) in queue Queue (queue_Machine_env_4)\n",
      "DEBUG:prodStations:[MACHINE: Machine (Machine_env_8)] is getting job from queue\n",
      "DEBUG:dispatcher:[DISPATCHER: Dispatcher(env: base, EnvID: 0)] REQUEST TO DISPATCHER FOR SEQUENCING\n",
      "DEBUG:prodStations:[Machine (Machine_env_6)] Put Job Job (J_gen_8) in queue Queue (queue_Machine_env_10)\n",
      "DEBUG:prodStations:[MACHINE: Machine (Machine_env_6)] is getting job from queue\n",
      "DEBUG:dispatcher:[DISPATCHER: Dispatcher(env: base, EnvID: 0)] REQUEST TO DISPATCHER FOR SEQUENCING\n",
      "DEBUG:prodStations:[BUFFER: Buffer (Buffer_env_3)] Invoking at 40.0\n",
      "DEBUG:prodStations:[BUFFER: Buffer (Buffer_env_3)] Neither 'EMPTY' nor 'FULL' at 40.0\n",
      "DEBUG:prodStations:[START] job ID 2 at 40.0 on machine ID 3                 with proc time 4\n",
      "DEBUG:prodStations:[BUFFER: Buffer (Buffer_env_9)] Invoking at 40.0\n",
      "DEBUG:prodStations:[BUFFER: Buffer (Buffer_env_9)] Neither 'EMPTY' nor 'FULL' at 40.0\n",
      "DEBUG:prodStations:[MACHINE: Machine (Machine_env_10)] is getting job from queue\n",
      "DEBUG:dispatcher:[DISPATCHER: Dispatcher(env: base, EnvID: 0)] REQUEST TO DISPATCHER FOR SEQUENCING\n",
      "DEBUG:prodStations:[START] job ID 7 at 40.0 on machine ID 2                 with proc time 3\n",
      "DEBUG:prodStations:[START] job ID 8 at 40.0 on machine ID 4                 with proc time 7\n",
      "DEBUG:prodStations:[END] job ID 1 at 41.0 on machine ID 1\n",
      "INFO:dispatcher:[DISPATCHER: Dispatcher(env: base, EnvID: 0)] REQUEST TO DISPATCHER FOR ALLOCATION\n",
      "DEBUG:dispatcher:[DISPATCHER: Dispatcher(env: base, EnvID: 0)] Next operation is Operation(ProcTime: 2, MachineID: 3) with machine group (machine) Machine (Machine_env_8)\n",
      "DEBUG:prodStations:[Machine (Machine_env_4)] Check for buffers\n",
      "DEBUG:prodStations:[Machine (Machine_env_4)] Buffer found\n",
      "DEBUG:prodStations:[Machine (Machine_env_4)] Put Job Job (J_gen_1) in queue Queue (queue_Machine_env_8)\n",
      "DEBUG:prodStations:[MACHINE: Machine (Machine_env_4)] is getting job from queue\n",
      "DEBUG:dispatcher:[DISPATCHER: Dispatcher(env: base, EnvID: 0)] REQUEST TO DISPATCHER FOR SEQUENCING\n",
      "DEBUG:prodStations:[BUFFER: Buffer (Buffer_env_7)] Invoking at 41.0\n",
      "DEBUG:prodStations:[BUFFER: Buffer (Buffer_env_7)] Neither 'EMPTY' nor 'FULL' at 41.0\n",
      "DEBUG:prodStations:[START] job ID 9 at 41.0 on machine ID 1                 with proc time 6\n",
      "DEBUG:prodStations:[END] job ID 7 at 43.0 on machine ID 2\n",
      "INFO:dispatcher:[DISPATCHER: Dispatcher(env: base, EnvID: 0)] REQUEST TO DISPATCHER FOR ALLOCATION\n",
      "DEBUG:dispatcher:[DISPATCHER: Dispatcher(env: base, EnvID: 0)] Next operation is Operation(ProcTime: 5, MachineID: 0) with machine group (machine) Machine (Machine_env_2)\n",
      "DEBUG:prodStations:[Machine (Machine_env_6)] Check for buffers\n",
      "DEBUG:prodStations:[Machine (Machine_env_6)] Buffer found\n",
      "DEBUG:prodStations:[Machine (Machine_env_6)] Put Job Job (J_gen_7) in queue Queue (queue_Machine_env_2)\n",
      "DEBUG:prodStations:[MACHINE: Machine (Machine_env_6)] is getting job from queue\n",
      "DEBUG:dispatcher:[DISPATCHER: Dispatcher(env: base, EnvID: 0)] REQUEST TO DISPATCHER FOR SEQUENCING\n",
      "DEBUG:prodStations:[BUFFER: Buffer (Buffer_env_1)] Invoking at 43.0\n",
      "DEBUG:prodStations:[BUFFER: Buffer (Buffer_env_1)] Neither 'EMPTY' nor 'FULL' at 43.0\n",
      "DEBUG:prodStations:[MACHINE: Machine (Machine_env_2)] is getting job from queue\n",
      "DEBUG:dispatcher:[DISPATCHER: Dispatcher(env: base, EnvID: 0)] REQUEST TO DISPATCHER FOR SEQUENCING\n",
      "DEBUG:prodStations:[START] job ID 6 at 43.0 on machine ID 2                 with proc time 7\n",
      "DEBUG:prodStations:[START] job ID 7 at 43.0 on machine ID 0                 with proc time 5\n",
      "DEBUG:prodStations:[END] job ID 2 at 44.0 on machine ID 3\n",
      "DEBUG:prodStations:[MACHINE: Machine (Machine_env_8)] is getting job from queue\n",
      "DEBUG:dispatcher:[DISPATCHER: Dispatcher(env: base, EnvID: 0)] REQUEST TO DISPATCHER FOR SEQUENCING\n",
      "DEBUG:prodStations:[START] job ID 1 at 44.0 on machine ID 3                 with proc time 2\n",
      "DEBUG:prodStations:[END] job ID 1 at 46.0 on machine ID 3\n",
      "DEBUG:prodStations:[END] job ID 8 at 47.0 on machine ID 4\n",
      "DEBUG:prodStations:[END] job ID 9 at 47.0 on machine ID 1\n",
      "INFO:dispatcher:[DISPATCHER: Dispatcher(env: base, EnvID: 0)] REQUEST TO DISPATCHER FOR ALLOCATION\n",
      "DEBUG:dispatcher:[DISPATCHER: Dispatcher(env: base, EnvID: 0)] Next operation is Operation(ProcTime: 9, MachineID: 2) with machine group (machine) Machine (Machine_env_6)\n",
      "DEBUG:prodStations:[Machine (Machine_env_4)] Check for buffers\n",
      "DEBUG:prodStations:[Machine (Machine_env_4)] Buffer found\n",
      "DEBUG:prodStations:[Machine (Machine_env_4)] Put Job Job (J_gen_9) in queue Queue (queue_Machine_env_6)\n",
      "DEBUG:prodStations:[BUFFER: Buffer (Buffer_env_5)] Invoking at 47.0\n",
      "DEBUG:prodStations:[BUFFER: Buffer (Buffer_env_5)] Neither 'EMPTY' nor 'FULL' at 47.0\n",
      "DEBUG:prodStations:[END] job ID 7 at 48.0 on machine ID 0\n",
      "DEBUG:prodStations:[END] job ID 6 at 50.0 on machine ID 2\n",
      "INFO:dispatcher:[DISPATCHER: Dispatcher(env: base, EnvID: 0)] REQUEST TO DISPATCHER FOR ALLOCATION\n",
      "DEBUG:dispatcher:[DISPATCHER: Dispatcher(env: base, EnvID: 0)] Next operation is Operation(ProcTime: 3, MachineID: 3) with machine group (machine) Machine (Machine_env_8)\n",
      "DEBUG:prodStations:[Machine (Machine_env_6)] Check for buffers\n",
      "DEBUG:prodStations:[Machine (Machine_env_6)] Buffer found\n",
      "DEBUG:prodStations:[Machine (Machine_env_6)] Put Job Job (J_gen_6) in queue Queue (queue_Machine_env_8)\n",
      "DEBUG:prodStations:[MACHINE: Machine (Machine_env_6)] is getting job from queue\n",
      "DEBUG:dispatcher:[DISPATCHER: Dispatcher(env: base, EnvID: 0)] REQUEST TO DISPATCHER FOR SEQUENCING\n",
      "DEBUG:prodStations:[BUFFER: Buffer (Buffer_env_7)] Invoking at 50.0\n",
      "DEBUG:prodStations:[BUFFER: Buffer (Buffer_env_7)] Neither 'EMPTY' nor 'FULL' at 50.0\n",
      "DEBUG:prodStations:[MACHINE: Machine (Machine_env_8)] is getting job from queue\n",
      "DEBUG:dispatcher:[DISPATCHER: Dispatcher(env: base, EnvID: 0)] REQUEST TO DISPATCHER FOR SEQUENCING\n",
      "DEBUG:prodStations:[START] job ID 9 at 50.0 on machine ID 2                 with proc time 9\n",
      "DEBUG:prodStations:[START] job ID 6 at 50.0 on machine ID 3                 with proc time 3\n",
      "DEBUG:prodStations:[END] job ID 6 at 53.0 on machine ID 3\n",
      "INFO:dispatcher:[DISPATCHER: Dispatcher(env: base, EnvID: 0)] REQUEST TO DISPATCHER FOR ALLOCATION\n",
      "DEBUG:dispatcher:[DISPATCHER: Dispatcher(env: base, EnvID: 0)] Next operation is Operation(ProcTime: 9, MachineID: 4) with machine group (machine) Machine (Machine_env_10)\n",
      "DEBUG:prodStations:[Machine (Machine_env_8)] Check for buffers\n",
      "DEBUG:prodStations:[Machine (Machine_env_8)] Buffer found\n",
      "DEBUG:prodStations:[Machine (Machine_env_8)] Put Job Job (J_gen_6) in queue Queue (queue_Machine_env_10)\n",
      "DEBUG:prodStations:[BUFFER: Buffer (Buffer_env_9)] Invoking at 53.0\n",
      "DEBUG:prodStations:[BUFFER: Buffer (Buffer_env_9)] Neither 'EMPTY' nor 'FULL' at 53.0\n",
      "DEBUG:prodStations:[MACHINE: Machine (Machine_env_10)] is getting job from queue\n",
      "DEBUG:dispatcher:[DISPATCHER: Dispatcher(env: base, EnvID: 0)] REQUEST TO DISPATCHER FOR SEQUENCING\n",
      "DEBUG:prodStations:[START] job ID 6 at 53.0 on machine ID 4                 with proc time 9\n",
      "DEBUG:prodStations:[END] job ID 9 at 59.0 on machine ID 2\n",
      "DEBUG:prodStations:[END] job ID 6 at 62.0 on machine ID 4\n",
      "INFO:dispatcher:[DISPATCHER: Dispatcher(env: base, EnvID: 0)] REQUEST TO DISPATCHER FOR ALLOCATION\n",
      "DEBUG:dispatcher:[DISPATCHER: Dispatcher(env: base, EnvID: 0)] Next operation is Operation(ProcTime: 8, MachineID: 0) with machine group (machine) Machine (Machine_env_2)\n",
      "DEBUG:prodStations:[Machine (Machine_env_10)] Check for buffers\n",
      "DEBUG:prodStations:[Machine (Machine_env_10)] Buffer found\n",
      "DEBUG:prodStations:[Machine (Machine_env_10)] Put Job Job (J_gen_6) in queue Queue (queue_Machine_env_2)\n",
      "DEBUG:prodStations:[BUFFER: Buffer (Buffer_env_1)] Invoking at 62.0\n",
      "DEBUG:prodStations:[BUFFER: Buffer (Buffer_env_1)] Neither 'EMPTY' nor 'FULL' at 62.0\n",
      "DEBUG:prodStations:[MACHINE: Machine (Machine_env_2)] is getting job from queue\n",
      "DEBUG:dispatcher:[DISPATCHER: Dispatcher(env: base, EnvID: 0)] REQUEST TO DISPATCHER FOR SEQUENCING\n",
      "DEBUG:prodStations:[START] job ID 6 at 62.0 on machine ID 0                 with proc time 8\n",
      "DEBUG:prodStations:[END] job ID 6 at 70.0 on machine ID 0\n"
     ]
    }
   ],
   "source": [
    "env.run()"
   ]
  },
  {
   "cell_type": "markdown",
   "metadata": {},
   "source": []
  },
  {
   "attachments": {},
   "cell_type": "markdown",
   "metadata": {},
   "source": [
    "**Next Step:**\n",
    "- add output process to processing stations (or infrastructure objects)"
   ]
  },
  {
   "cell_type": "code",
   "execution_count": 585,
   "metadata": {},
   "outputs": [
    {
     "data": {
      "text/html": [
       "<div>\n",
       "<style scoped>\n",
       "    .dataframe tbody tr th:only-of-type {\n",
       "        vertical-align: middle;\n",
       "    }\n",
       "\n",
       "    .dataframe tbody tr th {\n",
       "        vertical-align: top;\n",
       "    }\n",
       "\n",
       "    .dataframe thead th {\n",
       "        text-align: right;\n",
       "    }\n",
       "</style>\n",
       "<table border=\"1\" class=\"dataframe\">\n",
       "  <thead>\n",
       "    <tr style=\"text-align: right;\">\n",
       "      <th></th>\n",
       "      <th>job_id</th>\n",
       "      <th>job_name</th>\n",
       "      <th>custom_id</th>\n",
       "      <th>op</th>\n",
       "      <th>name</th>\n",
       "      <th>machine</th>\n",
       "      <th>machine_custom_id</th>\n",
       "      <th>machine_name</th>\n",
       "      <th>duration</th>\n",
       "      <th>start_time</th>\n",
       "      <th>end_time</th>\n",
       "      <th>status</th>\n",
       "    </tr>\n",
       "    <tr>\n",
       "      <th>op_id</th>\n",
       "      <th></th>\n",
       "      <th></th>\n",
       "      <th></th>\n",
       "      <th></th>\n",
       "      <th></th>\n",
       "      <th></th>\n",
       "      <th></th>\n",
       "      <th></th>\n",
       "      <th></th>\n",
       "      <th></th>\n",
       "      <th></th>\n",
       "      <th></th>\n",
       "    </tr>\n",
       "  </thead>\n",
       "  <tbody>\n",
       "    <tr>\n",
       "      <th>0</th>\n",
       "      <td>0</td>\n",
       "      <td>J_gen_0</td>\n",
       "      <td>None</td>\n",
       "      <td>Operation(ProcTime: 4, MachineID: 1)</td>\n",
       "      <td>O_gen_0</td>\n",
       "      <td>Machine (Machine_env_4)</td>\n",
       "      <td>1</td>\n",
       "      <td>Machine_env_4</td>\n",
       "      <td>4.0</td>\n",
       "      <td>0.0</td>\n",
       "      <td>4.0</td>\n",
       "      <td>None</td>\n",
       "    </tr>\n",
       "    <tr>\n",
       "      <th>1</th>\n",
       "      <td>0</td>\n",
       "      <td>J_gen_0</td>\n",
       "      <td>None</td>\n",
       "      <td>Operation(ProcTime: 8, MachineID: 0)</td>\n",
       "      <td>O_gen_1</td>\n",
       "      <td>Machine (Machine_env_2)</td>\n",
       "      <td>0</td>\n",
       "      <td>Machine_env_2</td>\n",
       "      <td>8.0</td>\n",
       "      <td>14.0</td>\n",
       "      <td>22.0</td>\n",
       "      <td>None</td>\n",
       "    </tr>\n",
       "    <tr>\n",
       "      <th>2</th>\n",
       "      <td>1</td>\n",
       "      <td>J_gen_1</td>\n",
       "      <td>None</td>\n",
       "      <td>Operation(ProcTime: 4, MachineID: 0)</td>\n",
       "      <td>O_gen_2</td>\n",
       "      <td>Machine (Machine_env_2)</td>\n",
       "      <td>0</td>\n",
       "      <td>Machine_env_2</td>\n",
       "      <td>4.0</td>\n",
       "      <td>1.0</td>\n",
       "      <td>5.0</td>\n",
       "      <td>None</td>\n",
       "    </tr>\n",
       "    <tr>\n",
       "      <th>3</th>\n",
       "      <td>1</td>\n",
       "      <td>J_gen_1</td>\n",
       "      <td>None</td>\n",
       "      <td>Operation(ProcTime: 1, MachineID: 1)</td>\n",
       "      <td>O_gen_3</td>\n",
       "      <td>Machine (Machine_env_4)</td>\n",
       "      <td>1</td>\n",
       "      <td>Machine_env_4</td>\n",
       "      <td>1.0</td>\n",
       "      <td>5.0</td>\n",
       "      <td>6.0</td>\n",
       "      <td>None</td>\n",
       "    </tr>\n",
       "    <tr>\n",
       "      <th>4</th>\n",
       "      <td>2</td>\n",
       "      <td>J_gen_2</td>\n",
       "      <td>None</td>\n",
       "      <td>Operation(ProcTime: 7, MachineID: 0)</td>\n",
       "      <td>O_gen_4</td>\n",
       "      <td>Machine (Machine_env_2)</td>\n",
       "      <td>0</td>\n",
       "      <td>Machine_env_2</td>\n",
       "      <td>7.0</td>\n",
       "      <td>22.0</td>\n",
       "      <td>29.0</td>\n",
       "      <td>None</td>\n",
       "    </tr>\n",
       "    <tr>\n",
       "      <th>5</th>\n",
       "      <td>2</td>\n",
       "      <td>J_gen_2</td>\n",
       "      <td>None</td>\n",
       "      <td>Operation(ProcTime: 4, MachineID: 1)</td>\n",
       "      <td>O_gen_5</td>\n",
       "      <td>Machine (Machine_env_4)</td>\n",
       "      <td>1</td>\n",
       "      <td>Machine_env_4</td>\n",
       "      <td>4.0</td>\n",
       "      <td>29.0</td>\n",
       "      <td>33.0</td>\n",
       "      <td>None</td>\n",
       "    </tr>\n",
       "    <tr>\n",
       "      <th>6</th>\n",
       "      <td>3</td>\n",
       "      <td>J_gen_3</td>\n",
       "      <td>None</td>\n",
       "      <td>Operation(ProcTime: 4, MachineID: 0)</td>\n",
       "      <td>O_gen_6</td>\n",
       "      <td>Machine (Machine_env_2)</td>\n",
       "      <td>0</td>\n",
       "      <td>Machine_env_2</td>\n",
       "      <td>4.0</td>\n",
       "      <td>29.0</td>\n",
       "      <td>33.0</td>\n",
       "      <td>None</td>\n",
       "    </tr>\n",
       "    <tr>\n",
       "      <th>7</th>\n",
       "      <td>3</td>\n",
       "      <td>J_gen_3</td>\n",
       "      <td>None</td>\n",
       "      <td>Operation(ProcTime: 5, MachineID: 1)</td>\n",
       "      <td>O_gen_7</td>\n",
       "      <td>Machine (Machine_env_4)</td>\n",
       "      <td>1</td>\n",
       "      <td>Machine_env_4</td>\n",
       "      <td>5.0</td>\n",
       "      <td>33.0</td>\n",
       "      <td>38.0</td>\n",
       "      <td>None</td>\n",
       "    </tr>\n",
       "    <tr>\n",
       "      <th>8</th>\n",
       "      <td>4</td>\n",
       "      <td>J_gen_4</td>\n",
       "      <td>None</td>\n",
       "      <td>Operation(ProcTime: 9, MachineID: 0)</td>\n",
       "      <td>O_gen_8</td>\n",
       "      <td>Machine (Machine_env_2)</td>\n",
       "      <td>0</td>\n",
       "      <td>Machine_env_2</td>\n",
       "      <td>9.0</td>\n",
       "      <td>5.0</td>\n",
       "      <td>14.0</td>\n",
       "      <td>None</td>\n",
       "    </tr>\n",
       "    <tr>\n",
       "      <th>9</th>\n",
       "      <td>4</td>\n",
       "      <td>J_gen_4</td>\n",
       "      <td>None</td>\n",
       "      <td>Operation(ProcTime: 4, MachineID: 1)</td>\n",
       "      <td>O_gen_9</td>\n",
       "      <td>Machine (Machine_env_4)</td>\n",
       "      <td>1</td>\n",
       "      <td>Machine_env_4</td>\n",
       "      <td>4.0</td>\n",
       "      <td>14.0</td>\n",
       "      <td>18.0</td>\n",
       "      <td>None</td>\n",
       "    </tr>\n",
       "  </tbody>\n",
       "</table>\n",
       "</div>"
      ],
      "text/plain": [
       "       job_id job_name custom_id                                    op   \n",
       "op_id                                                                    \n",
       "0           0  J_gen_0      None  Operation(ProcTime: 4, MachineID: 1)  \\\n",
       "1           0  J_gen_0      None  Operation(ProcTime: 8, MachineID: 0)   \n",
       "2           1  J_gen_1      None  Operation(ProcTime: 4, MachineID: 0)   \n",
       "3           1  J_gen_1      None  Operation(ProcTime: 1, MachineID: 1)   \n",
       "4           2  J_gen_2      None  Operation(ProcTime: 7, MachineID: 0)   \n",
       "5           2  J_gen_2      None  Operation(ProcTime: 4, MachineID: 1)   \n",
       "6           3  J_gen_3      None  Operation(ProcTime: 4, MachineID: 0)   \n",
       "7           3  J_gen_3      None  Operation(ProcTime: 5, MachineID: 1)   \n",
       "8           4  J_gen_4      None  Operation(ProcTime: 9, MachineID: 0)   \n",
       "9           4  J_gen_4      None  Operation(ProcTime: 4, MachineID: 1)   \n",
       "\n",
       "          name                  machine machine_custom_id   machine_name   \n",
       "op_id                                                                      \n",
       "0      O_gen_0  Machine (Machine_env_4)                 1  Machine_env_4  \\\n",
       "1      O_gen_1  Machine (Machine_env_2)                 0  Machine_env_2   \n",
       "2      O_gen_2  Machine (Machine_env_2)                 0  Machine_env_2   \n",
       "3      O_gen_3  Machine (Machine_env_4)                 1  Machine_env_4   \n",
       "4      O_gen_4  Machine (Machine_env_2)                 0  Machine_env_2   \n",
       "5      O_gen_5  Machine (Machine_env_4)                 1  Machine_env_4   \n",
       "6      O_gen_6  Machine (Machine_env_2)                 0  Machine_env_2   \n",
       "7      O_gen_7  Machine (Machine_env_4)                 1  Machine_env_4   \n",
       "8      O_gen_8  Machine (Machine_env_2)                 0  Machine_env_2   \n",
       "9      O_gen_9  Machine (Machine_env_4)                 1  Machine_env_4   \n",
       "\n",
       "       duration  start_time  end_time status  \n",
       "op_id                                         \n",
       "0           4.0         0.0       4.0   None  \n",
       "1           8.0        14.0      22.0   None  \n",
       "2           4.0         1.0       5.0   None  \n",
       "3           1.0         5.0       6.0   None  \n",
       "4           7.0        22.0      29.0   None  \n",
       "5           4.0        29.0      33.0   None  \n",
       "6           4.0        29.0      33.0   None  \n",
       "7           5.0        33.0      38.0   None  \n",
       "8           9.0         5.0      14.0   None  \n",
       "9           4.0        14.0      18.0   None  "
      ]
     },
     "execution_count": 585,
     "metadata": {},
     "output_type": "execute_result"
    }
   ],
   "source": [
    "dispatcher.op_db"
   ]
  },
  {
   "cell_type": "code",
   "execution_count": 605,
   "metadata": {},
   "outputs": [
    {
     "data": {
      "application/vnd.plotly.v1+json": {
       "config": {
        "plotlyServerURL": "https://plot.ly"
       },
       "data": [
        {
         "alignmentgroup": "True",
         "base": [
          0,
          26,
          29,
          33,
          4
         ],
         "hovertemplate": "job_name=J_gen_0<br>start_time=%{base}<br>end_time=%{x}<br>machine_custom_id=%{y}<extra></extra>",
         "legendgroup": "J_gen_0",
         "marker": {
          "color": "#636efa",
          "pattern": {
           "shape": ""
          }
         },
         "name": "J_gen_0",
         "offsetgroup": "J_gen_0",
         "orientation": "h",
         "showlegend": true,
         "textposition": "auto",
         "type": "bar",
         "x": [
          4,
          1,
          3,
          4,
          8
         ],
         "xaxis": "x",
         "y": [
          0,
          1,
          2,
          3,
          4
         ],
         "yaxis": "y"
        },
        {
         "alignmentgroup": "True",
         "base": [
          16,
          19,
          1,
          25,
          12
         ],
         "hovertemplate": "job_name=J_gen_1<br>start_time=%{base}<br>end_time=%{x}<br>machine_custom_id=%{y}<extra></extra>",
         "legendgroup": "J_gen_1",
         "marker": {
          "color": "#EF553B",
          "pattern": {
           "shape": ""
          }
         },
         "name": "J_gen_1",
         "offsetgroup": "J_gen_1",
         "orientation": "h",
         "showlegend": true,
         "textposition": "auto",
         "type": "bar",
         "x": [
          2,
          6,
          9,
          2,
          4
         ],
         "xaxis": "x",
         "y": [
          0,
          1,
          2,
          3,
          4
         ],
         "yaxis": "y"
        },
        {
         "alignmentgroup": "True",
         "base": [
          4,
          38,
          47,
          53,
          36
         ],
         "hovertemplate": "job_name=J_gen_2<br>start_time=%{base}<br>end_time=%{x}<br>machine_custom_id=%{y}<extra></extra>",
         "legendgroup": "J_gen_2",
         "marker": {
          "color": "#00cc96",
          "pattern": {
           "shape": ""
          }
         },
         "name": "J_gen_2",
         "offsetgroup": "J_gen_2",
         "orientation": "h",
         "showlegend": true,
         "textposition": "auto",
         "type": "bar",
         "x": [
          1,
          9,
          6,
          4,
          1
         ],
         "xaxis": "x",
         "y": [
          0,
          1,
          2,
          3,
          4
         ],
         "yaxis": "y"
        },
        {
         "alignmentgroup": "True",
         "base": [
          34,
          36,
          10,
          28,
          25
         ],
         "hovertemplate": "job_name=J_gen_3<br>start_time=%{base}<br>end_time=%{x}<br>machine_custom_id=%{y}<extra></extra>",
         "legendgroup": "J_gen_3",
         "marker": {
          "color": "#ab63fa",
          "pattern": {
           "shape": ""
          }
         },
         "name": "J_gen_3",
         "offsetgroup": "J_gen_3",
         "orientation": "h",
         "showlegend": true,
         "textposition": "auto",
         "type": "bar",
         "x": [
          2,
          2,
          8,
          5,
          3
         ],
         "xaxis": "x",
         "y": [
          0,
          1,
          2,
          3,
          4
         ],
         "yaxis": "y"
        },
        {
         "alignmentgroup": "True",
         "base": [
          30,
          4,
          18,
          12,
          28
         ],
         "hovertemplate": "job_name=J_gen_4<br>start_time=%{base}<br>end_time=%{x}<br>machine_custom_id=%{y}<extra></extra>",
         "legendgroup": "J_gen_4",
         "marker": {
          "color": "#FFA15A",
          "pattern": {
           "shape": ""
          }
         },
         "name": "J_gen_4",
         "offsetgroup": "J_gen_4",
         "orientation": "h",
         "showlegend": true,
         "textposition": "auto",
         "type": "bar",
         "x": [
          4,
          6,
          6,
          4,
          2
         ],
         "xaxis": "x",
         "y": [
          0,
          1,
          2,
          3,
          4
         ],
         "yaxis": "y"
        },
        {
         "alignmentgroup": "True",
         "base": [
          36,
          10,
          24,
          19,
          30
         ],
         "hovertemplate": "job_name=J_gen_5<br>start_time=%{base}<br>end_time=%{x}<br>machine_custom_id=%{y}<extra></extra>",
         "legendgroup": "J_gen_5",
         "marker": {
          "color": "#19d3f3",
          "pattern": {
           "shape": ""
          }
         },
         "name": "J_gen_5",
         "offsetgroup": "J_gen_5",
         "orientation": "h",
         "showlegend": true,
         "textposition": "auto",
         "type": "bar",
         "x": [
          1,
          9,
          5,
          4,
          4
         ],
         "xaxis": "x",
         "y": [
          0,
          1,
          2,
          3,
          4
         ],
         "yaxis": "y"
        },
        {
         "alignmentgroup": "True",
         "base": [
          51,
          29,
          32,
          39,
          42
         ],
         "hovertemplate": "job_name=J_gen_6<br>start_time=%{base}<br>end_time=%{x}<br>machine_custom_id=%{y}<extra></extra>",
         "legendgroup": "J_gen_6",
         "marker": {
          "color": "#FF6692",
          "pattern": {
           "shape": ""
          }
         },
         "name": "J_gen_6",
         "offsetgroup": "J_gen_6",
         "orientation": "h",
         "showlegend": true,
         "textposition": "auto",
         "type": "bar",
         "x": [
          8,
          1,
          7,
          3,
          9
         ],
         "xaxis": "x",
         "y": [
          0,
          1,
          2,
          3,
          4
         ],
         "yaxis": "y"
        },
        {
         "alignmentgroup": "True",
         "base": [
          43,
          25,
          39,
          7,
          16
         ],
         "hovertemplate": "job_name=J_gen_7<br>start_time=%{base}<br>end_time=%{x}<br>machine_custom_id=%{y}<extra></extra>",
         "legendgroup": "J_gen_7",
         "marker": {
          "color": "#B6E880",
          "pattern": {
           "shape": ""
          }
         },
         "name": "J_gen_7",
         "offsetgroup": "J_gen_7",
         "orientation": "h",
         "showlegend": true,
         "textposition": "auto",
         "type": "bar",
         "x": [
          5,
          1,
          3,
          5,
          9
         ],
         "xaxis": "x",
         "y": [
          0,
          1,
          2,
          3,
          4
         ],
         "yaxis": "y"
        },
        {
         "alignmentgroup": "True",
         "base": [
          18,
          27,
          42,
          16,
          51
         ],
         "hovertemplate": "job_name=J_gen_8<br>start_time=%{base}<br>end_time=%{x}<br>machine_custom_id=%{y}<extra></extra>",
         "legendgroup": "J_gen_8",
         "marker": {
          "color": "#FF97FF",
          "pattern": {
           "shape": ""
          }
         },
         "name": "J_gen_8",
         "offsetgroup": "J_gen_8",
         "orientation": "h",
         "showlegend": true,
         "textposition": "auto",
         "type": "bar",
         "x": [
          9,
          2,
          2,
          1,
          7
         ],
         "xaxis": "x",
         "y": [
          0,
          1,
          2,
          3,
          4
         ],
         "yaxis": "y"
        },
        {
         "alignmentgroup": "True",
         "base": [
          37,
          50,
          56,
          43,
          34
         ],
         "hovertemplate": "job_name=J_gen_9<br>start_time=%{base}<br>end_time=%{x}<br>machine_custom_id=%{y}<extra></extra>",
         "legendgroup": "J_gen_9",
         "marker": {
          "color": "#FECB52",
          "pattern": {
           "shape": ""
          }
         },
         "name": "J_gen_9",
         "offsetgroup": "J_gen_9",
         "orientation": "h",
         "showlegend": true,
         "textposition": "auto",
         "type": "bar",
         "x": [
          6,
          6,
          9,
          7,
          2
         ],
         "xaxis": "x",
         "y": [
          0,
          1,
          2,
          3,
          4
         ],
         "yaxis": "y"
        }
       ],
       "layout": {
        "barmode": "overlay",
        "legend": {
         "title": {
          "text": "job_name"
         },
         "tracegroupgap": 0
        },
        "margin": {
         "t": 60
        },
        "template": {
         "data": {
          "bar": [
           {
            "error_x": {
             "color": "#2a3f5f"
            },
            "error_y": {
             "color": "#2a3f5f"
            },
            "marker": {
             "line": {
              "color": "#E5ECF6",
              "width": 0.5
             },
             "pattern": {
              "fillmode": "overlay",
              "size": 10,
              "solidity": 0.2
             }
            },
            "type": "bar"
           }
          ],
          "barpolar": [
           {
            "marker": {
             "line": {
              "color": "#E5ECF6",
              "width": 0.5
             },
             "pattern": {
              "fillmode": "overlay",
              "size": 10,
              "solidity": 0.2
             }
            },
            "type": "barpolar"
           }
          ],
          "carpet": [
           {
            "aaxis": {
             "endlinecolor": "#2a3f5f",
             "gridcolor": "white",
             "linecolor": "white",
             "minorgridcolor": "white",
             "startlinecolor": "#2a3f5f"
            },
            "baxis": {
             "endlinecolor": "#2a3f5f",
             "gridcolor": "white",
             "linecolor": "white",
             "minorgridcolor": "white",
             "startlinecolor": "#2a3f5f"
            },
            "type": "carpet"
           }
          ],
          "choropleth": [
           {
            "colorbar": {
             "outlinewidth": 0,
             "ticks": ""
            },
            "type": "choropleth"
           }
          ],
          "contour": [
           {
            "colorbar": {
             "outlinewidth": 0,
             "ticks": ""
            },
            "colorscale": [
             [
              0,
              "#0d0887"
             ],
             [
              0.1111111111111111,
              "#46039f"
             ],
             [
              0.2222222222222222,
              "#7201a8"
             ],
             [
              0.3333333333333333,
              "#9c179e"
             ],
             [
              0.4444444444444444,
              "#bd3786"
             ],
             [
              0.5555555555555556,
              "#d8576b"
             ],
             [
              0.6666666666666666,
              "#ed7953"
             ],
             [
              0.7777777777777778,
              "#fb9f3a"
             ],
             [
              0.8888888888888888,
              "#fdca26"
             ],
             [
              1,
              "#f0f921"
             ]
            ],
            "type": "contour"
           }
          ],
          "contourcarpet": [
           {
            "colorbar": {
             "outlinewidth": 0,
             "ticks": ""
            },
            "type": "contourcarpet"
           }
          ],
          "heatmap": [
           {
            "colorbar": {
             "outlinewidth": 0,
             "ticks": ""
            },
            "colorscale": [
             [
              0,
              "#0d0887"
             ],
             [
              0.1111111111111111,
              "#46039f"
             ],
             [
              0.2222222222222222,
              "#7201a8"
             ],
             [
              0.3333333333333333,
              "#9c179e"
             ],
             [
              0.4444444444444444,
              "#bd3786"
             ],
             [
              0.5555555555555556,
              "#d8576b"
             ],
             [
              0.6666666666666666,
              "#ed7953"
             ],
             [
              0.7777777777777778,
              "#fb9f3a"
             ],
             [
              0.8888888888888888,
              "#fdca26"
             ],
             [
              1,
              "#f0f921"
             ]
            ],
            "type": "heatmap"
           }
          ],
          "heatmapgl": [
           {
            "colorbar": {
             "outlinewidth": 0,
             "ticks": ""
            },
            "colorscale": [
             [
              0,
              "#0d0887"
             ],
             [
              0.1111111111111111,
              "#46039f"
             ],
             [
              0.2222222222222222,
              "#7201a8"
             ],
             [
              0.3333333333333333,
              "#9c179e"
             ],
             [
              0.4444444444444444,
              "#bd3786"
             ],
             [
              0.5555555555555556,
              "#d8576b"
             ],
             [
              0.6666666666666666,
              "#ed7953"
             ],
             [
              0.7777777777777778,
              "#fb9f3a"
             ],
             [
              0.8888888888888888,
              "#fdca26"
             ],
             [
              1,
              "#f0f921"
             ]
            ],
            "type": "heatmapgl"
           }
          ],
          "histogram": [
           {
            "marker": {
             "pattern": {
              "fillmode": "overlay",
              "size": 10,
              "solidity": 0.2
             }
            },
            "type": "histogram"
           }
          ],
          "histogram2d": [
           {
            "colorbar": {
             "outlinewidth": 0,
             "ticks": ""
            },
            "colorscale": [
             [
              0,
              "#0d0887"
             ],
             [
              0.1111111111111111,
              "#46039f"
             ],
             [
              0.2222222222222222,
              "#7201a8"
             ],
             [
              0.3333333333333333,
              "#9c179e"
             ],
             [
              0.4444444444444444,
              "#bd3786"
             ],
             [
              0.5555555555555556,
              "#d8576b"
             ],
             [
              0.6666666666666666,
              "#ed7953"
             ],
             [
              0.7777777777777778,
              "#fb9f3a"
             ],
             [
              0.8888888888888888,
              "#fdca26"
             ],
             [
              1,
              "#f0f921"
             ]
            ],
            "type": "histogram2d"
           }
          ],
          "histogram2dcontour": [
           {
            "colorbar": {
             "outlinewidth": 0,
             "ticks": ""
            },
            "colorscale": [
             [
              0,
              "#0d0887"
             ],
             [
              0.1111111111111111,
              "#46039f"
             ],
             [
              0.2222222222222222,
              "#7201a8"
             ],
             [
              0.3333333333333333,
              "#9c179e"
             ],
             [
              0.4444444444444444,
              "#bd3786"
             ],
             [
              0.5555555555555556,
              "#d8576b"
             ],
             [
              0.6666666666666666,
              "#ed7953"
             ],
             [
              0.7777777777777778,
              "#fb9f3a"
             ],
             [
              0.8888888888888888,
              "#fdca26"
             ],
             [
              1,
              "#f0f921"
             ]
            ],
            "type": "histogram2dcontour"
           }
          ],
          "mesh3d": [
           {
            "colorbar": {
             "outlinewidth": 0,
             "ticks": ""
            },
            "type": "mesh3d"
           }
          ],
          "parcoords": [
           {
            "line": {
             "colorbar": {
              "outlinewidth": 0,
              "ticks": ""
             }
            },
            "type": "parcoords"
           }
          ],
          "pie": [
           {
            "automargin": true,
            "type": "pie"
           }
          ],
          "scatter": [
           {
            "fillpattern": {
             "fillmode": "overlay",
             "size": 10,
             "solidity": 0.2
            },
            "type": "scatter"
           }
          ],
          "scatter3d": [
           {
            "line": {
             "colorbar": {
              "outlinewidth": 0,
              "ticks": ""
             }
            },
            "marker": {
             "colorbar": {
              "outlinewidth": 0,
              "ticks": ""
             }
            },
            "type": "scatter3d"
           }
          ],
          "scattercarpet": [
           {
            "marker": {
             "colorbar": {
              "outlinewidth": 0,
              "ticks": ""
             }
            },
            "type": "scattercarpet"
           }
          ],
          "scattergeo": [
           {
            "marker": {
             "colorbar": {
              "outlinewidth": 0,
              "ticks": ""
             }
            },
            "type": "scattergeo"
           }
          ],
          "scattergl": [
           {
            "marker": {
             "colorbar": {
              "outlinewidth": 0,
              "ticks": ""
             }
            },
            "type": "scattergl"
           }
          ],
          "scattermapbox": [
           {
            "marker": {
             "colorbar": {
              "outlinewidth": 0,
              "ticks": ""
             }
            },
            "type": "scattermapbox"
           }
          ],
          "scatterpolar": [
           {
            "marker": {
             "colorbar": {
              "outlinewidth": 0,
              "ticks": ""
             }
            },
            "type": "scatterpolar"
           }
          ],
          "scatterpolargl": [
           {
            "marker": {
             "colorbar": {
              "outlinewidth": 0,
              "ticks": ""
             }
            },
            "type": "scatterpolargl"
           }
          ],
          "scatterternary": [
           {
            "marker": {
             "colorbar": {
              "outlinewidth": 0,
              "ticks": ""
             }
            },
            "type": "scatterternary"
           }
          ],
          "surface": [
           {
            "colorbar": {
             "outlinewidth": 0,
             "ticks": ""
            },
            "colorscale": [
             [
              0,
              "#0d0887"
             ],
             [
              0.1111111111111111,
              "#46039f"
             ],
             [
              0.2222222222222222,
              "#7201a8"
             ],
             [
              0.3333333333333333,
              "#9c179e"
             ],
             [
              0.4444444444444444,
              "#bd3786"
             ],
             [
              0.5555555555555556,
              "#d8576b"
             ],
             [
              0.6666666666666666,
              "#ed7953"
             ],
             [
              0.7777777777777778,
              "#fb9f3a"
             ],
             [
              0.8888888888888888,
              "#fdca26"
             ],
             [
              1,
              "#f0f921"
             ]
            ],
            "type": "surface"
           }
          ],
          "table": [
           {
            "cells": {
             "fill": {
              "color": "#EBF0F8"
             },
             "line": {
              "color": "white"
             }
            },
            "header": {
             "fill": {
              "color": "#C8D4E3"
             },
             "line": {
              "color": "white"
             }
            },
            "type": "table"
           }
          ]
         },
         "layout": {
          "annotationdefaults": {
           "arrowcolor": "#2a3f5f",
           "arrowhead": 0,
           "arrowwidth": 1
          },
          "autotypenumbers": "strict",
          "coloraxis": {
           "colorbar": {
            "outlinewidth": 0,
            "ticks": ""
           }
          },
          "colorscale": {
           "diverging": [
            [
             0,
             "#8e0152"
            ],
            [
             0.1,
             "#c51b7d"
            ],
            [
             0.2,
             "#de77ae"
            ],
            [
             0.3,
             "#f1b6da"
            ],
            [
             0.4,
             "#fde0ef"
            ],
            [
             0.5,
             "#f7f7f7"
            ],
            [
             0.6,
             "#e6f5d0"
            ],
            [
             0.7,
             "#b8e186"
            ],
            [
             0.8,
             "#7fbc41"
            ],
            [
             0.9,
             "#4d9221"
            ],
            [
             1,
             "#276419"
            ]
           ],
           "sequential": [
            [
             0,
             "#0d0887"
            ],
            [
             0.1111111111111111,
             "#46039f"
            ],
            [
             0.2222222222222222,
             "#7201a8"
            ],
            [
             0.3333333333333333,
             "#9c179e"
            ],
            [
             0.4444444444444444,
             "#bd3786"
            ],
            [
             0.5555555555555556,
             "#d8576b"
            ],
            [
             0.6666666666666666,
             "#ed7953"
            ],
            [
             0.7777777777777778,
             "#fb9f3a"
            ],
            [
             0.8888888888888888,
             "#fdca26"
            ],
            [
             1,
             "#f0f921"
            ]
           ],
           "sequentialminus": [
            [
             0,
             "#0d0887"
            ],
            [
             0.1111111111111111,
             "#46039f"
            ],
            [
             0.2222222222222222,
             "#7201a8"
            ],
            [
             0.3333333333333333,
             "#9c179e"
            ],
            [
             0.4444444444444444,
             "#bd3786"
            ],
            [
             0.5555555555555556,
             "#d8576b"
            ],
            [
             0.6666666666666666,
             "#ed7953"
            ],
            [
             0.7777777777777778,
             "#fb9f3a"
            ],
            [
             0.8888888888888888,
             "#fdca26"
            ],
            [
             1,
             "#f0f921"
            ]
           ]
          },
          "colorway": [
           "#636efa",
           "#EF553B",
           "#00cc96",
           "#ab63fa",
           "#FFA15A",
           "#19d3f3",
           "#FF6692",
           "#B6E880",
           "#FF97FF",
           "#FECB52"
          ],
          "font": {
           "color": "#2a3f5f"
          },
          "geo": {
           "bgcolor": "white",
           "lakecolor": "white",
           "landcolor": "#E5ECF6",
           "showlakes": true,
           "showland": true,
           "subunitcolor": "white"
          },
          "hoverlabel": {
           "align": "left"
          },
          "hovermode": "closest",
          "mapbox": {
           "style": "light"
          },
          "paper_bgcolor": "white",
          "plot_bgcolor": "#E5ECF6",
          "polar": {
           "angularaxis": {
            "gridcolor": "white",
            "linecolor": "white",
            "ticks": ""
           },
           "bgcolor": "#E5ECF6",
           "radialaxis": {
            "gridcolor": "white",
            "linecolor": "white",
            "ticks": ""
           }
          },
          "scene": {
           "xaxis": {
            "backgroundcolor": "#E5ECF6",
            "gridcolor": "white",
            "gridwidth": 2,
            "linecolor": "white",
            "showbackground": true,
            "ticks": "",
            "zerolinecolor": "white"
           },
           "yaxis": {
            "backgroundcolor": "#E5ECF6",
            "gridcolor": "white",
            "gridwidth": 2,
            "linecolor": "white",
            "showbackground": true,
            "ticks": "",
            "zerolinecolor": "white"
           },
           "zaxis": {
            "backgroundcolor": "#E5ECF6",
            "gridcolor": "white",
            "gridwidth": 2,
            "linecolor": "white",
            "showbackground": true,
            "ticks": "",
            "zerolinecolor": "white"
           }
          },
          "shapedefaults": {
           "line": {
            "color": "#2a3f5f"
           }
          },
          "ternary": {
           "aaxis": {
            "gridcolor": "white",
            "linecolor": "white",
            "ticks": ""
           },
           "baxis": {
            "gridcolor": "white",
            "linecolor": "white",
            "ticks": ""
           },
           "bgcolor": "#E5ECF6",
           "caxis": {
            "gridcolor": "white",
            "linecolor": "white",
            "ticks": ""
           }
          },
          "title": {
           "x": 0.05
          },
          "xaxis": {
           "automargin": true,
           "gridcolor": "white",
           "linecolor": "white",
           "ticks": "",
           "title": {
            "standoff": 15
           },
           "zerolinecolor": "white",
           "zerolinewidth": 2
          },
          "yaxis": {
           "automargin": true,
           "gridcolor": "white",
           "linecolor": "white",
           "ticks": "",
           "title": {
            "standoff": 15
           },
           "zerolinecolor": "white",
           "zerolinewidth": 2
          }
         }
        },
        "xaxis": {
         "anchor": "y",
         "domain": [
          0,
          1
         ],
         "type": "linear"
        },
        "yaxis": {
         "anchor": "x",
         "autorange": "reversed",
         "domain": [
          0,
          1
         ],
         "title": {
          "text": "machine_custom_id"
         },
         "type": "category"
        }
       }
      }
     },
     "metadata": {},
     "output_type": "display_data"
    }
   ],
   "source": [
    "fig = dispatcher.draw_gantt_chart(use_custom_proc_station_id=True, sort_by_proc_station=True)"
   ]
  },
  {
   "cell_type": "code",
   "execution_count": 610,
   "metadata": {},
   "outputs": [
    {
     "data": {
      "application/vnd.plotly.v1+json": {
       "config": {
        "plotlyServerURL": "https://plot.ly"
       },
       "data": [
        {
         "alignmentgroup": "True",
         "base": [
          0,
          20,
          24,
          29,
          4
         ],
         "hovertemplate": "job_name=J_gen_0<br>start_time=%{base}<br>end_time=%{x}<br>machine_custom_id=%{y}<extra></extra>",
         "legendgroup": "J_gen_0",
         "marker": {
          "color": "#636efa",
          "pattern": {
           "shape": ""
          }
         },
         "name": "J_gen_0",
         "offsetgroup": "J_gen_0",
         "orientation": "h",
         "showlegend": true,
         "textposition": "auto",
         "type": "bar",
         "x": [
          4,
          1,
          3,
          4,
          8
         ],
         "xaxis": "x",
         "y": [
          0,
          1,
          2,
          3,
          4
         ],
         "yaxis": "y"
        },
        {
         "alignmentgroup": "True",
         "base": [
          22,
          35,
          1,
          44,
          15
         ],
         "hovertemplate": "job_name=J_gen_1<br>start_time=%{base}<br>end_time=%{x}<br>machine_custom_id=%{y}<extra></extra>",
         "legendgroup": "J_gen_1",
         "marker": {
          "color": "#EF553B",
          "pattern": {
           "shape": ""
          }
         },
         "name": "J_gen_1",
         "offsetgroup": "J_gen_1",
         "orientation": "h",
         "showlegend": true,
         "textposition": "auto",
         "type": "bar",
         "x": [
          2,
          6,
          9,
          2,
          4
         ],
         "xaxis": "x",
         "y": [
          0,
          1,
          2,
          3,
          4
         ],
         "yaxis": "y"
        },
        {
         "alignmentgroup": "True",
         "base": [
          4,
          21,
          32,
          40,
          12
         ],
         "hovertemplate": "job_name=J_gen_2<br>start_time=%{base}<br>end_time=%{x}<br>machine_custom_id=%{y}<extra></extra>",
         "legendgroup": "J_gen_2",
         "marker": {
          "color": "#00cc96",
          "pattern": {
           "shape": ""
          }
         },
         "name": "J_gen_2",
         "offsetgroup": "J_gen_2",
         "orientation": "h",
         "showlegend": true,
         "textposition": "auto",
         "type": "bar",
         "x": [
          1,
          9,
          6,
          4,
          1
         ],
         "xaxis": "x",
         "y": [
          0,
          1,
          2,
          3,
          4
         ],
         "yaxis": "y"
        },
        {
         "alignmentgroup": "True",
         "base": [
          30,
          33,
          10,
          24,
          19
         ],
         "hovertemplate": "job_name=J_gen_3<br>start_time=%{base}<br>end_time=%{x}<br>machine_custom_id=%{y}<extra></extra>",
         "legendgroup": "J_gen_3",
         "marker": {
          "color": "#ab63fa",
          "pattern": {
           "shape": ""
          }
         },
         "name": "J_gen_3",
         "offsetgroup": "J_gen_3",
         "orientation": "h",
         "showlegend": true,
         "textposition": "auto",
         "type": "bar",
         "x": [
          2,
          2,
          8,
          5,
          3
         ],
         "xaxis": "x",
         "y": [
          0,
          1,
          2,
          3,
          4
         ],
         "yaxis": "y"
        },
        {
         "alignmentgroup": "True",
         "base": [
          33,
          4,
          18,
          13,
          31
         ],
         "hovertemplate": "job_name=J_gen_4<br>start_time=%{base}<br>end_time=%{x}<br>machine_custom_id=%{y}<extra></extra>",
         "legendgroup": "J_gen_4",
         "marker": {
          "color": "#FFA15A",
          "pattern": {
           "shape": ""
          }
         },
         "name": "J_gen_4",
         "offsetgroup": "J_gen_4",
         "orientation": "h",
         "showlegend": true,
         "textposition": "auto",
         "type": "bar",
         "x": [
          4,
          6,
          6,
          4,
          2
         ],
         "xaxis": "x",
         "y": [
          0,
          1,
          2,
          3,
          4
         ],
         "yaxis": "y"
        },
        {
         "alignmentgroup": "True",
         "base": [
          37,
          11,
          27,
          20,
          33
         ],
         "hovertemplate": "job_name=J_gen_5<br>start_time=%{base}<br>end_time=%{x}<br>machine_custom_id=%{y}<extra></extra>",
         "legendgroup": "J_gen_5",
         "marker": {
          "color": "#19d3f3",
          "pattern": {
           "shape": ""
          }
         },
         "name": "J_gen_5",
         "offsetgroup": "J_gen_5",
         "orientation": "h",
         "showlegend": true,
         "textposition": "auto",
         "type": "bar",
         "x": [
          1,
          9,
          5,
          4,
          4
         ],
         "xaxis": "x",
         "y": [
          0,
          1,
          2,
          3,
          4
         ],
         "yaxis": "y"
        },
        {
         "alignmentgroup": "True",
         "base": [
          62,
          10,
          43,
          50,
          53
         ],
         "hovertemplate": "job_name=J_gen_6<br>start_time=%{base}<br>end_time=%{x}<br>machine_custom_id=%{y}<extra></extra>",
         "legendgroup": "J_gen_6",
         "marker": {
          "color": "#FF6692",
          "pattern": {
           "shape": ""
          }
         },
         "name": "J_gen_6",
         "offsetgroup": "J_gen_6",
         "orientation": "h",
         "showlegend": true,
         "textposition": "auto",
         "type": "bar",
         "x": [
          8,
          1,
          7,
          3,
          9
         ],
         "xaxis": "x",
         "y": [
          0,
          1,
          2,
          3,
          4
         ],
         "yaxis": "y"
        },
        {
         "alignmentgroup": "True",
         "base": [
          43,
          32,
          40,
          7,
          22
         ],
         "hovertemplate": "job_name=J_gen_7<br>start_time=%{base}<br>end_time=%{x}<br>machine_custom_id=%{y}<extra></extra>",
         "legendgroup": "J_gen_7",
         "marker": {
          "color": "#B6E880",
          "pattern": {
           "shape": ""
          }
         },
         "name": "J_gen_7",
         "offsetgroup": "J_gen_7",
         "orientation": "h",
         "showlegend": true,
         "textposition": "auto",
         "type": "bar",
         "x": [
          5,
          1,
          3,
          5,
          9
         ],
         "xaxis": "x",
         "y": [
          0,
          1,
          2,
          3,
          4
         ],
         "yaxis": "y"
        },
        {
         "alignmentgroup": "True",
         "base": [
          13,
          30,
          38,
          12,
          40
         ],
         "hovertemplate": "job_name=J_gen_8<br>start_time=%{base}<br>end_time=%{x}<br>machine_custom_id=%{y}<extra></extra>",
         "legendgroup": "J_gen_8",
         "marker": {
          "color": "#FF97FF",
          "pattern": {
           "shape": ""
          }
         },
         "name": "J_gen_8",
         "offsetgroup": "J_gen_8",
         "orientation": "h",
         "showlegend": true,
         "textposition": "auto",
         "type": "bar",
         "x": [
          9,
          2,
          2,
          1,
          7
         ],
         "xaxis": "x",
         "y": [
          0,
          1,
          2,
          3,
          4
         ],
         "yaxis": "y"
        },
        {
         "alignmentgroup": "True",
         "base": [
          24,
          41,
          50,
          33,
          13
         ],
         "hovertemplate": "job_name=J_gen_9<br>start_time=%{base}<br>end_time=%{x}<br>machine_custom_id=%{y}<extra></extra>",
         "legendgroup": "J_gen_9",
         "marker": {
          "color": "#FECB52",
          "pattern": {
           "shape": ""
          }
         },
         "name": "J_gen_9",
         "offsetgroup": "J_gen_9",
         "orientation": "h",
         "showlegend": true,
         "textposition": "auto",
         "type": "bar",
         "x": [
          6,
          6,
          9,
          7,
          2
         ],
         "xaxis": "x",
         "y": [
          0,
          1,
          2,
          3,
          4
         ],
         "yaxis": "y"
        }
       ],
       "layout": {
        "barmode": "overlay",
        "legend": {
         "title": {
          "text": "job_name"
         },
         "tracegroupgap": 0
        },
        "margin": {
         "t": 60
        },
        "template": {
         "data": {
          "bar": [
           {
            "error_x": {
             "color": "#2a3f5f"
            },
            "error_y": {
             "color": "#2a3f5f"
            },
            "marker": {
             "line": {
              "color": "#E5ECF6",
              "width": 0.5
             },
             "pattern": {
              "fillmode": "overlay",
              "size": 10,
              "solidity": 0.2
             }
            },
            "type": "bar"
           }
          ],
          "barpolar": [
           {
            "marker": {
             "line": {
              "color": "#E5ECF6",
              "width": 0.5
             },
             "pattern": {
              "fillmode": "overlay",
              "size": 10,
              "solidity": 0.2
             }
            },
            "type": "barpolar"
           }
          ],
          "carpet": [
           {
            "aaxis": {
             "endlinecolor": "#2a3f5f",
             "gridcolor": "white",
             "linecolor": "white",
             "minorgridcolor": "white",
             "startlinecolor": "#2a3f5f"
            },
            "baxis": {
             "endlinecolor": "#2a3f5f",
             "gridcolor": "white",
             "linecolor": "white",
             "minorgridcolor": "white",
             "startlinecolor": "#2a3f5f"
            },
            "type": "carpet"
           }
          ],
          "choropleth": [
           {
            "colorbar": {
             "outlinewidth": 0,
             "ticks": ""
            },
            "type": "choropleth"
           }
          ],
          "contour": [
           {
            "colorbar": {
             "outlinewidth": 0,
             "ticks": ""
            },
            "colorscale": [
             [
              0,
              "#0d0887"
             ],
             [
              0.1111111111111111,
              "#46039f"
             ],
             [
              0.2222222222222222,
              "#7201a8"
             ],
             [
              0.3333333333333333,
              "#9c179e"
             ],
             [
              0.4444444444444444,
              "#bd3786"
             ],
             [
              0.5555555555555556,
              "#d8576b"
             ],
             [
              0.6666666666666666,
              "#ed7953"
             ],
             [
              0.7777777777777778,
              "#fb9f3a"
             ],
             [
              0.8888888888888888,
              "#fdca26"
             ],
             [
              1,
              "#f0f921"
             ]
            ],
            "type": "contour"
           }
          ],
          "contourcarpet": [
           {
            "colorbar": {
             "outlinewidth": 0,
             "ticks": ""
            },
            "type": "contourcarpet"
           }
          ],
          "heatmap": [
           {
            "colorbar": {
             "outlinewidth": 0,
             "ticks": ""
            },
            "colorscale": [
             [
              0,
              "#0d0887"
             ],
             [
              0.1111111111111111,
              "#46039f"
             ],
             [
              0.2222222222222222,
              "#7201a8"
             ],
             [
              0.3333333333333333,
              "#9c179e"
             ],
             [
              0.4444444444444444,
              "#bd3786"
             ],
             [
              0.5555555555555556,
              "#d8576b"
             ],
             [
              0.6666666666666666,
              "#ed7953"
             ],
             [
              0.7777777777777778,
              "#fb9f3a"
             ],
             [
              0.8888888888888888,
              "#fdca26"
             ],
             [
              1,
              "#f0f921"
             ]
            ],
            "type": "heatmap"
           }
          ],
          "heatmapgl": [
           {
            "colorbar": {
             "outlinewidth": 0,
             "ticks": ""
            },
            "colorscale": [
             [
              0,
              "#0d0887"
             ],
             [
              0.1111111111111111,
              "#46039f"
             ],
             [
              0.2222222222222222,
              "#7201a8"
             ],
             [
              0.3333333333333333,
              "#9c179e"
             ],
             [
              0.4444444444444444,
              "#bd3786"
             ],
             [
              0.5555555555555556,
              "#d8576b"
             ],
             [
              0.6666666666666666,
              "#ed7953"
             ],
             [
              0.7777777777777778,
              "#fb9f3a"
             ],
             [
              0.8888888888888888,
              "#fdca26"
             ],
             [
              1,
              "#f0f921"
             ]
            ],
            "type": "heatmapgl"
           }
          ],
          "histogram": [
           {
            "marker": {
             "pattern": {
              "fillmode": "overlay",
              "size": 10,
              "solidity": 0.2
             }
            },
            "type": "histogram"
           }
          ],
          "histogram2d": [
           {
            "colorbar": {
             "outlinewidth": 0,
             "ticks": ""
            },
            "colorscale": [
             [
              0,
              "#0d0887"
             ],
             [
              0.1111111111111111,
              "#46039f"
             ],
             [
              0.2222222222222222,
              "#7201a8"
             ],
             [
              0.3333333333333333,
              "#9c179e"
             ],
             [
              0.4444444444444444,
              "#bd3786"
             ],
             [
              0.5555555555555556,
              "#d8576b"
             ],
             [
              0.6666666666666666,
              "#ed7953"
             ],
             [
              0.7777777777777778,
              "#fb9f3a"
             ],
             [
              0.8888888888888888,
              "#fdca26"
             ],
             [
              1,
              "#f0f921"
             ]
            ],
            "type": "histogram2d"
           }
          ],
          "histogram2dcontour": [
           {
            "colorbar": {
             "outlinewidth": 0,
             "ticks": ""
            },
            "colorscale": [
             [
              0,
              "#0d0887"
             ],
             [
              0.1111111111111111,
              "#46039f"
             ],
             [
              0.2222222222222222,
              "#7201a8"
             ],
             [
              0.3333333333333333,
              "#9c179e"
             ],
             [
              0.4444444444444444,
              "#bd3786"
             ],
             [
              0.5555555555555556,
              "#d8576b"
             ],
             [
              0.6666666666666666,
              "#ed7953"
             ],
             [
              0.7777777777777778,
              "#fb9f3a"
             ],
             [
              0.8888888888888888,
              "#fdca26"
             ],
             [
              1,
              "#f0f921"
             ]
            ],
            "type": "histogram2dcontour"
           }
          ],
          "mesh3d": [
           {
            "colorbar": {
             "outlinewidth": 0,
             "ticks": ""
            },
            "type": "mesh3d"
           }
          ],
          "parcoords": [
           {
            "line": {
             "colorbar": {
              "outlinewidth": 0,
              "ticks": ""
             }
            },
            "type": "parcoords"
           }
          ],
          "pie": [
           {
            "automargin": true,
            "type": "pie"
           }
          ],
          "scatter": [
           {
            "fillpattern": {
             "fillmode": "overlay",
             "size": 10,
             "solidity": 0.2
            },
            "type": "scatter"
           }
          ],
          "scatter3d": [
           {
            "line": {
             "colorbar": {
              "outlinewidth": 0,
              "ticks": ""
             }
            },
            "marker": {
             "colorbar": {
              "outlinewidth": 0,
              "ticks": ""
             }
            },
            "type": "scatter3d"
           }
          ],
          "scattercarpet": [
           {
            "marker": {
             "colorbar": {
              "outlinewidth": 0,
              "ticks": ""
             }
            },
            "type": "scattercarpet"
           }
          ],
          "scattergeo": [
           {
            "marker": {
             "colorbar": {
              "outlinewidth": 0,
              "ticks": ""
             }
            },
            "type": "scattergeo"
           }
          ],
          "scattergl": [
           {
            "marker": {
             "colorbar": {
              "outlinewidth": 0,
              "ticks": ""
             }
            },
            "type": "scattergl"
           }
          ],
          "scattermapbox": [
           {
            "marker": {
             "colorbar": {
              "outlinewidth": 0,
              "ticks": ""
             }
            },
            "type": "scattermapbox"
           }
          ],
          "scatterpolar": [
           {
            "marker": {
             "colorbar": {
              "outlinewidth": 0,
              "ticks": ""
             }
            },
            "type": "scatterpolar"
           }
          ],
          "scatterpolargl": [
           {
            "marker": {
             "colorbar": {
              "outlinewidth": 0,
              "ticks": ""
             }
            },
            "type": "scatterpolargl"
           }
          ],
          "scatterternary": [
           {
            "marker": {
             "colorbar": {
              "outlinewidth": 0,
              "ticks": ""
             }
            },
            "type": "scatterternary"
           }
          ],
          "surface": [
           {
            "colorbar": {
             "outlinewidth": 0,
             "ticks": ""
            },
            "colorscale": [
             [
              0,
              "#0d0887"
             ],
             [
              0.1111111111111111,
              "#46039f"
             ],
             [
              0.2222222222222222,
              "#7201a8"
             ],
             [
              0.3333333333333333,
              "#9c179e"
             ],
             [
              0.4444444444444444,
              "#bd3786"
             ],
             [
              0.5555555555555556,
              "#d8576b"
             ],
             [
              0.6666666666666666,
              "#ed7953"
             ],
             [
              0.7777777777777778,
              "#fb9f3a"
             ],
             [
              0.8888888888888888,
              "#fdca26"
             ],
             [
              1,
              "#f0f921"
             ]
            ],
            "type": "surface"
           }
          ],
          "table": [
           {
            "cells": {
             "fill": {
              "color": "#EBF0F8"
             },
             "line": {
              "color": "white"
             }
            },
            "header": {
             "fill": {
              "color": "#C8D4E3"
             },
             "line": {
              "color": "white"
             }
            },
            "type": "table"
           }
          ]
         },
         "layout": {
          "annotationdefaults": {
           "arrowcolor": "#2a3f5f",
           "arrowhead": 0,
           "arrowwidth": 1
          },
          "autotypenumbers": "strict",
          "coloraxis": {
           "colorbar": {
            "outlinewidth": 0,
            "ticks": ""
           }
          },
          "colorscale": {
           "diverging": [
            [
             0,
             "#8e0152"
            ],
            [
             0.1,
             "#c51b7d"
            ],
            [
             0.2,
             "#de77ae"
            ],
            [
             0.3,
             "#f1b6da"
            ],
            [
             0.4,
             "#fde0ef"
            ],
            [
             0.5,
             "#f7f7f7"
            ],
            [
             0.6,
             "#e6f5d0"
            ],
            [
             0.7,
             "#b8e186"
            ],
            [
             0.8,
             "#7fbc41"
            ],
            [
             0.9,
             "#4d9221"
            ],
            [
             1,
             "#276419"
            ]
           ],
           "sequential": [
            [
             0,
             "#0d0887"
            ],
            [
             0.1111111111111111,
             "#46039f"
            ],
            [
             0.2222222222222222,
             "#7201a8"
            ],
            [
             0.3333333333333333,
             "#9c179e"
            ],
            [
             0.4444444444444444,
             "#bd3786"
            ],
            [
             0.5555555555555556,
             "#d8576b"
            ],
            [
             0.6666666666666666,
             "#ed7953"
            ],
            [
             0.7777777777777778,
             "#fb9f3a"
            ],
            [
             0.8888888888888888,
             "#fdca26"
            ],
            [
             1,
             "#f0f921"
            ]
           ],
           "sequentialminus": [
            [
             0,
             "#0d0887"
            ],
            [
             0.1111111111111111,
             "#46039f"
            ],
            [
             0.2222222222222222,
             "#7201a8"
            ],
            [
             0.3333333333333333,
             "#9c179e"
            ],
            [
             0.4444444444444444,
             "#bd3786"
            ],
            [
             0.5555555555555556,
             "#d8576b"
            ],
            [
             0.6666666666666666,
             "#ed7953"
            ],
            [
             0.7777777777777778,
             "#fb9f3a"
            ],
            [
             0.8888888888888888,
             "#fdca26"
            ],
            [
             1,
             "#f0f921"
            ]
           ]
          },
          "colorway": [
           "#636efa",
           "#EF553B",
           "#00cc96",
           "#ab63fa",
           "#FFA15A",
           "#19d3f3",
           "#FF6692",
           "#B6E880",
           "#FF97FF",
           "#FECB52"
          ],
          "font": {
           "color": "#2a3f5f"
          },
          "geo": {
           "bgcolor": "white",
           "lakecolor": "white",
           "landcolor": "#E5ECF6",
           "showlakes": true,
           "showland": true,
           "subunitcolor": "white"
          },
          "hoverlabel": {
           "align": "left"
          },
          "hovermode": "closest",
          "mapbox": {
           "style": "light"
          },
          "paper_bgcolor": "white",
          "plot_bgcolor": "#E5ECF6",
          "polar": {
           "angularaxis": {
            "gridcolor": "white",
            "linecolor": "white",
            "ticks": ""
           },
           "bgcolor": "#E5ECF6",
           "radialaxis": {
            "gridcolor": "white",
            "linecolor": "white",
            "ticks": ""
           }
          },
          "scene": {
           "xaxis": {
            "backgroundcolor": "#E5ECF6",
            "gridcolor": "white",
            "gridwidth": 2,
            "linecolor": "white",
            "showbackground": true,
            "ticks": "",
            "zerolinecolor": "white"
           },
           "yaxis": {
            "backgroundcolor": "#E5ECF6",
            "gridcolor": "white",
            "gridwidth": 2,
            "linecolor": "white",
            "showbackground": true,
            "ticks": "",
            "zerolinecolor": "white"
           },
           "zaxis": {
            "backgroundcolor": "#E5ECF6",
            "gridcolor": "white",
            "gridwidth": 2,
            "linecolor": "white",
            "showbackground": true,
            "ticks": "",
            "zerolinecolor": "white"
           }
          },
          "shapedefaults": {
           "line": {
            "color": "#2a3f5f"
           }
          },
          "ternary": {
           "aaxis": {
            "gridcolor": "white",
            "linecolor": "white",
            "ticks": ""
           },
           "baxis": {
            "gridcolor": "white",
            "linecolor": "white",
            "ticks": ""
           },
           "bgcolor": "#E5ECF6",
           "caxis": {
            "gridcolor": "white",
            "linecolor": "white",
            "ticks": ""
           }
          },
          "title": {
           "x": 0.05
          },
          "xaxis": {
           "automargin": true,
           "gridcolor": "white",
           "linecolor": "white",
           "ticks": "",
           "title": {
            "standoff": 15
           },
           "zerolinecolor": "white",
           "zerolinewidth": 2
          },
          "yaxis": {
           "automargin": true,
           "gridcolor": "white",
           "linecolor": "white",
           "ticks": "",
           "title": {
            "standoff": 15
           },
           "zerolinecolor": "white",
           "zerolinewidth": 2
          }
         }
        },
        "xaxis": {
         "anchor": "y",
         "domain": [
          0,
          1
         ],
         "type": "linear"
        },
        "yaxis": {
         "anchor": "x",
         "autorange": "reversed",
         "domain": [
          0,
          1
         ],
         "title": {
          "text": "machine_custom_id"
         },
         "type": "category"
        }
       }
      }
     },
     "metadata": {},
     "output_type": "display_data"
    }
   ],
   "source": [
    "fig = dispatcher.draw_gantt_chart(use_custom_proc_station_id=True, sort_by_proc_station=True)"
   ]
  },
  {
   "attachments": {},
   "cell_type": "markdown",
   "metadata": {},
   "source": [
    "*Priority rules: prototyping*"
   ]
  },
  {
   "cell_type": "code",
   "execution_count": 573,
   "metadata": {},
   "outputs": [],
   "source": [
    "queue = MachInst.logic_queue.copy()"
   ]
  },
  {
   "cell_type": "code",
   "execution_count": 540,
   "metadata": {},
   "outputs": [
    {
     "data": {
      "text/plain": [
       "Job (J_gen_11)"
      ]
     },
     "execution_count": 540,
     "metadata": {},
     "output_type": "execute_result"
    }
   ],
   "source": [
    "ret = queue.tail()\n",
    "ret"
   ]
  },
  {
   "cell_type": "code",
   "execution_count": 541,
   "metadata": {},
   "outputs": [
    {
     "data": {
      "text/plain": [
       "[Job (J_gen_0), Job (J_gen_1), Job (J_gen_9), Job (J_gen_11)]"
      ]
     },
     "execution_count": 541,
     "metadata": {},
     "output_type": "execute_result"
    }
   ],
   "source": [
    "qu = queue.as_list()\n",
    "qu"
   ]
  },
  {
   "cell_type": "code",
   "execution_count": 503,
   "metadata": {},
   "outputs": [],
   "source": [
    "q = queue.as_list()"
   ]
  },
  {
   "cell_type": "code",
   "execution_count": 509,
   "metadata": {},
   "outputs": [
    {
     "data": {
      "text/plain": [
       "Job (J_gen_5)"
      ]
     },
     "execution_count": 509,
     "metadata": {},
     "output_type": "execute_result"
    }
   ],
   "source": [
    "ret = q.pop()\n",
    "ret"
   ]
  },
  {
   "cell_type": "code",
   "execution_count": null,
   "metadata": {},
   "outputs": [],
   "source": [
    "# FIFO is simple pop from the queue\n",
    "job = queue.pop()"
   ]
  },
  {
   "cell_type": "code",
   "execution_count": null,
   "metadata": {},
   "outputs": [],
   "source": [
    "# LIFO is simple pop from the queue's end [-1]\n",
    "job = queue.pop(-1)"
   ]
  },
  {
   "cell_type": "code",
   "execution_count": null,
   "metadata": {},
   "outputs": [],
   "source": [
    "l = queue.as_list()\n",
    "l"
   ]
  },
  {
   "cell_type": "code",
   "execution_count": null,
   "metadata": {},
   "outputs": [],
   "source": [
    "from operator import itemgetter, attrgetter"
   ]
  },
  {
   "cell_type": "code",
   "execution_count": null,
   "metadata": {},
   "outputs": [],
   "source": [
    "for item in l:\n",
    "    print(f\"{item.current_proc_time}\")"
   ]
  },
  {
   "cell_type": "code",
   "execution_count": null,
   "metadata": {},
   "outputs": [],
   "source": [
    "#%%timeit\n",
    "# demo shortest processing time\n",
    "# sort descending and pop last item\n",
    "ret = sorted(queue, key=attrgetter('current_proc_time'), reverse=True)\n",
    "job = ret.pop()\n",
    "# remove job from original queue\n",
    "queue.remove(job)"
   ]
  },
  {
   "cell_type": "code",
   "execution_count": null,
   "metadata": {},
   "outputs": [],
   "source": [
    "env.dispatcher.job_db"
   ]
  },
  {
   "cell_type": "code",
   "execution_count": null,
   "metadata": {},
   "outputs": [],
   "source": [
    "env.dispatcher.op_db"
   ]
  },
  {
   "attachments": {},
   "cell_type": "markdown",
   "metadata": {},
   "source": [
    "[Jump to top](#top)"
   ]
  },
  {
   "attachments": {},
   "cell_type": "markdown",
   "metadata": {},
   "source": [
    "---\n",
    "\n",
    "#### **Adding database approach also to the job dispatcher**\n",
    "**properties**:\n",
    "- job_id\n",
    "- custom_id\n",
    "- job instance\n",
    "- name\n",
    "- product_type (for later implementation of different product types)"
   ]
  },
  {
   "cell_type": "code",
   "execution_count": null,
   "metadata": {},
   "outputs": [],
   "source": []
  },
  {
   "attachments": {},
   "cell_type": "markdown",
   "metadata": {},
   "source": [
    "<a id='dispatcher'></a>"
   ]
  },
  {
   "cell_type": "code",
   "execution_count": 590,
   "metadata": {},
   "outputs": [],
   "source": [
    "class Dispatcher(object):\n",
    "    \n",
    "    def __init__(\n",
    "        self,\n",
    "        env: SimulationEnvironment,\n",
    "        priority_rule: str = 'FIFO',\n",
    "    ) -> None:\n",
    "        \"\"\"\n",
    "        Dispatcher class for given environment (only one dispatcher for each environment)\n",
    "        - different functions to monitor all jobs in the environment\n",
    "        - jobs report back their states to the dispatcher\n",
    "        \"\"\"\n",
    "                \n",
    "        # job data base as simple Pandas DataFrame\n",
    "        # column data types\n",
    "        self._job_prop: dict[str, type] = {\n",
    "            'job_id': int,\n",
    "            'custom_id': object,\n",
    "            'job': object,\n",
    "            'name': str,\n",
    "            'job_type': str,\n",
    "            'status': str,\n",
    "        }\n",
    "        self._job_db: DataFrame = pd.DataFrame(columns=list(self._job_prop.keys()))\n",
    "        self._job_db: DataFrame = self._job_db.astype(self._job_prop)\n",
    "        self._job_db: DataFrame = self._job_db.set_index('job_id')\n",
    "        self._job_lookup_props: set[str] = set(['job_id', 'custom_id', 'name'])\n",
    "        \n",
    "        # operation data base as simple Pandas DataFrame\n",
    "        # column data types\n",
    "        self._op_prop: dict[str, type] = {\n",
    "            'op_id': int,\n",
    "            'job_id': int,\n",
    "            'job_name': str,\n",
    "            'custom_id': object,\n",
    "            'op': object,\n",
    "            'name': str,\n",
    "            'machine': object,\n",
    "            'machine_custom_id': object,\n",
    "            'machine_name': str,\n",
    "            'duration': float,\n",
    "            'start_time': float,\n",
    "            'end_time': float,\n",
    "            'status': str,\n",
    "        }\n",
    "        self._op_db: DataFrame = pd.DataFrame(columns=list(self._op_prop.keys()))\n",
    "        self._op_db: DataFrame = self._op_db.astype(self._op_prop)\n",
    "        self._op_db: DataFrame = self._op_db.set_index('op_id')\n",
    "        self._op_lookup_props: set[str] = set(['op_id', 'job_id', 'custom_id', 'name', 'machine'])\n",
    "                \n",
    "        # register in environment and get EnvID\n",
    "        self._env = env\n",
    "        self._env_id: EnvID = self._env.register_dispatcher(self)\n",
    "        \n",
    "        ########## PERHAPS REWORK\n",
    "        self._disposable_jobs: dict[int, Job] = dict()\n",
    "        self.job_pool: OrderedDict[ObjectID, Job] = OrderedDict()\n",
    "        # managing IDs\n",
    "        self._id_types = set(['job', 'op'])\n",
    "        self._job_id_counter: ObjectID = 0\n",
    "        self._op_id_counter: ObjectID = 0\n",
    "        \n",
    "        # priority rules\n",
    "        self._priority_rules: set[str] = set([\n",
    "            'FIFO',\n",
    "            'LIFO',\n",
    "            'SPT',\n",
    "            'LPT',\n",
    "        ])\n",
    "        # set current priority rule\n",
    "        if priority_rule not in self._priority_rules:\n",
    "            raise ValueError(f\"Priority rule {priority_rule} unknown. Must be one of {self._priority_rules}\")\n",
    "        else:\n",
    "            self._curr_prio_rule = priority_rule\n",
    "    \n",
    "    ### DATA MANAGEMENT\n",
    "    def __repr__(self) -> str:\n",
    "        return f\"Dispatcher(env: {self.env.name()}, EnvID: {self._env_id})\"\n",
    "    \n",
    "    @property\n",
    "    def env_id(self) -> EnvID:\n",
    "        return self._env_id\n",
    "    \n",
    "    @property\n",
    "    def env(self) -> SimulationEnvironment:\n",
    "        return self._env\n",
    "    \n",
    "    @property\n",
    "    def curr_prio_rule(self) -> str:\n",
    "        return self._curr_prio_rule\n",
    "    \n",
    "    @curr_prio_rule.setter\n",
    "    def curr_prio_rule(self, rule) -> None:\n",
    "        if rule not in self._priority_rules:\n",
    "            raise ValueError(f\"Priority rule {rule} unknown. Must be one of {self._priority_rules}\")\n",
    "        else:\n",
    "            self._curr_prio_rule = rule\n",
    "            logger_dispatcher.info(f\"Changed priority rule to {rule}\")\n",
    "    \n",
    "    def _obtain_job_id(self) -> ObjectID:\n",
    "        \"\"\"Simple counter function for managing job IDs\"\"\"\n",
    "        # assign id and set counter up\n",
    "        job_id = self._id_counter\n",
    "        self._id_counter += 1\n",
    "        \n",
    "        return job_id\n",
    "    \n",
    "    def _obtain_op_id(self) -> ObjectID:\n",
    "        \"\"\"Simple counter function for managing operation IDs\"\"\"\n",
    "        # assign id and set counter up\n",
    "        op_id = self._op_id_counter\n",
    "        self._op_id_counter += 1\n",
    "        \n",
    "        return op_id\n",
    "    \n",
    "    def _obtain_load_obj_id(\n",
    "        self,\n",
    "        load_type: str,\n",
    "    ) -> ObjectID:\n",
    "        \"\"\"Simple counter function for managing operation IDs\"\"\"\n",
    "        # assign id and set counter up\n",
    "        \n",
    "        if load_type not in self._id_types:\n",
    "            raise ValueError(f\"Given type {type} not valid. Choose from '{self._id_types}'\")\n",
    "        \n",
    "        match load_type:\n",
    "            case 'job':\n",
    "                ident_no = self._job_id_counter\n",
    "                self._job_id_counter += 1\n",
    "            case 'op':\n",
    "                ident_no = self._op_id_counter\n",
    "                self._op_id_counter += 1\n",
    "        \n",
    "        return ident_no\n",
    "    \n",
    "    def register_job(\n",
    "        self,\n",
    "        obj: Job,\n",
    "        custom_identifier: CustomID | None,\n",
    "        name: str | None,\n",
    "        status: str | None,\n",
    "    ) -> tuple[SimulationEnvironment, ObjectID, str]:\n",
    "        \"\"\"\n",
    "        registers an job object in the dispatcher instance by assigning an unique id and \n",
    "        adding the object to the associated jobs\n",
    "        \n",
    "        object:     env resource\n",
    "        returns:\n",
    "            env_id: assigned env ID\n",
    "        \"\"\"\n",
    "        # obtain id\n",
    "        job_id = self._obtain_load_obj_id(load_type='job')\n",
    "        \n",
    "        # custom name\n",
    "        if name is None:\n",
    "            name = f'J_gen_{job_id}'\n",
    "        \n",
    "        # new entry for job data base\n",
    "        new_entry: DataFrame = pd.DataFrame({\n",
    "                                'job_id': [job_id],\n",
    "                                'custom_id': [custom_identifier],\n",
    "                                'job': [obj],\n",
    "                                'name': [name],\n",
    "                                'job_type': [obj.job_type],\n",
    "                                'status': status})\n",
    "        new_entry: DataFrame = new_entry.astype(self._job_prop)\n",
    "        new_entry: DataFrame = new_entry.set_index('job_id')\n",
    "        self._job_db: DataFrame = pd.concat([self._job_db, new_entry])\n",
    "        \n",
    "        logger_dispatcher.info(f\"Successfully registered job with JobID {job_id} and name {name}\")\n",
    "        \n",
    "        return self.env, job_id, name\n",
    "    \n",
    "    def register_operation(\n",
    "        self,\n",
    "        obj: Operation,\n",
    "        machine_identifier: MachineID,\n",
    "        custom_identifier: CustomID | None,\n",
    "        name: str | None,\n",
    "        status: str | None, ###### add status types later\n",
    "    ) -> tuple[ObjectID, str, Machine]: ##### add machine type later\n",
    "        \"\"\"\n",
    "        registers an operation object in the dispatcher instance by assigning an unique id and \n",
    "        adding the object to the associated operations\n",
    "        \n",
    "        obj: operation to register\n",
    "        machine_identifier: custom ID of the associated machine (user interface)\n",
    "        custom_identifier: custom identifier of the operation \n",
    "            (kept for consistency reasons, perhaps remove later)\n",
    "        name: assigned name the operation\n",
    "        status: for future features if status of operations is tracked\n",
    "        \n",
    "        outputs:\n",
    "        op_id: assigned operation ID\n",
    "        name: assigned name\n",
    "        machine: corresponding machine infrastructure object\n",
    "        \"\"\"\n",
    "        # obtain id\n",
    "        op_id = self._obtain_load_obj_id(load_type='op')\n",
    "        \n",
    "        # custom name\n",
    "        if name is None:\n",
    "            name = f'O_gen_{op_id}'\n",
    "        \n",
    "        # corresponding machine object on which operation is performed\n",
    "        machine = self._env.get_res_obj_by_prop(property='custom_id', val=machine_identifier)\n",
    "        \n",
    "        # new entry for operation data base\n",
    "        new_entry: DataFrame = pd.DataFrame({\n",
    "                                'op_id': [op_id],\n",
    "                                'job_id': [obj.job_id],\n",
    "                                'job_name': [obj.job.name()],\n",
    "                                'custom_id': [custom_identifier],\n",
    "                                'op': [obj],\n",
    "                                'name': [name],\n",
    "                                'machine': [machine],\n",
    "                                'machine_custom_id': [machine.custom_identifier],\n",
    "                                'machine_name': [machine.name()],\n",
    "                                'duration': [obj.proc_time],\n",
    "                                'start_time': [obj.start_time],\n",
    "                                'end_time': [obj.end_time],\n",
    "                                'status': status})\n",
    "        new_entry: DataFrame = new_entry.astype(self._op_prop)\n",
    "        new_entry: DataFrame = new_entry.set_index('op_id')\n",
    "        self._op_db: DataFrame = pd.concat([self._op_db, new_entry])\n",
    "        \n",
    "        logger_dispatcher.info(f\"Successfully registered operation with OpID {op_id} and name {name}\")\n",
    "        \n",
    "        # return machine object\n",
    "        return op_id, name, machine\n",
    "    \n",
    "    def write_op_times(\n",
    "        self,\n",
    "        op_id: ObjectID,\n",
    "    ) -> None:\n",
    "        \"\"\"\n",
    "        add start and end time information to the operation database \n",
    "        \"\"\"\n",
    "        # get operation instance\n",
    "        curr_op: Operation = self._op_db.loc[op_id, 'op']\n",
    "        # write operation properties to operation database\n",
    "        self._op_db.loc[op_id, 'start_time'] = curr_op.start_time\n",
    "        self._op_db.loc[op_id, 'end_time'] = curr_op.end_time\n",
    "    \n",
    "    # vvvv LEGACY vvvv\n",
    "    # special function for custom random generator of JSSP instances\n",
    "    def gen_job_pool_generic(\n",
    "        self,\n",
    "        mat_ProcTimes: npt.NDArray[np.uint16],\n",
    "        mat_JobMachID: npt.NDArray[np.uint16],\n",
    "    ) -> OrderedDict[ObjectID, Job]:\n",
    "        \"\"\"\n",
    "        function to build a integrated job pool if generic JxM JSSP instances are used\n",
    "        mat_ProcTimes: matrix of processing times | shape=(n_jobs,n_machines)\n",
    "        mat_JobMachID: matrix of machine IDs per job starting by index 1 | shape=(n_jobs,n_machines)\n",
    "        mat_OpID: matrix of operation IDs starting by index 1 | shape=(n_jobs,n_machines)\n",
    "        \"\"\"\n",
    "            \n",
    "        for job_id in range(len(mat_ProcTimes)):\n",
    "            temp1 = mat_ProcTimes[job_id].tolist()\n",
    "            temp2 = mat_JobMachID[job_id].tolist()\n",
    "            JobInst = Job(\n",
    "                dispatcher=self,\n",
    "                proc_times=temp1,\n",
    "                machine_order=temp2,\n",
    "                custom_identifier=None,\n",
    "                name=None,\n",
    "            )\n",
    "            ######### NOT NECESSARY ANYMORE BECAUSE JOBS REGISTER THEMSELVES\n",
    "            # IN THE DISPATCHER INSTANCE AND THERFORE IN THE JOB DATABASE\n",
    "            ######### ADD TO JOB (bottom-up approach) #######################\n",
    "            ### jobs add themselves to job pool\n",
    "            self.job_pool[job_id] = JobInst\n",
    "            \n",
    "        return self.job_pool\n",
    "     \n",
    "    @property\n",
    "    def job_db(self) -> DataFrame:\n",
    "        \"\"\"\n",
    "        obtain a current overview of registered jobs in the environment\n",
    "        \"\"\"\n",
    "        return self._job_db\n",
    "    \n",
    "    @property\n",
    "    def op_db(self) -> DataFrame:\n",
    "        \"\"\"\n",
    "        obtain a current overview of registered operations in the environment\n",
    "        \"\"\"\n",
    "        return self._op_db\n",
    "\n",
    "    #@lru_cache(maxsize=200)\n",
    "    def get_job_obj_by_prop(\n",
    "        self,\n",
    "        property: str, \n",
    "        val: EnvID | CustomID | str,\n",
    "        target_prop: str = 'job',\n",
    "    ) -> Job:\n",
    "        \"\"\"\n",
    "        obtain a job object from the dispatcher by its property and corresponding value\n",
    "        properties: job_id, custom_id, name\n",
    "        \"\"\"\n",
    "        # check if property is a filter criterion\n",
    "        if property not in self._job_lookup_props:\n",
    "            raise IndexError(f\"Property '{property}' is not allowed. Choose from {self._job_lookup_props}\")\n",
    "        # None type value can not be looked for\n",
    "        if val is None:\n",
    "            raise TypeError(\"The lookup value can not be of type 'None'.\")\n",
    "        \n",
    "        # filter resource database for prop-value pair\n",
    "        if property == 'job_id':\n",
    "            # direct indexing for ID property; job_id always unique, no need for duplicate check\n",
    "            ###############\n",
    "            try:\n",
    "                temp1: Job = self._job_db.loc[val, target_prop]\n",
    "                return temp1\n",
    "            except KeyError:\n",
    "                raise IndexError(f\"There were no resources found for the property '{property}' \\\n",
    "                                with the value '{val}'\")\n",
    "        else:\n",
    "            temp1: Series = self._job_db.loc[self._job_db[property] == val, target_prop]\n",
    "            # check for empty search result, at least one result necessary\n",
    "            if len(temp1) == 0:\n",
    "                raise IndexError(f\"There were no resources found for the property '{property}' \\\n",
    "                                with the value '{val}'\")\n",
    "            # check for multiple entries with same prop-value pair\n",
    "            ########### PERHAPS CHANGE NECESSARY\n",
    "            ### multiple entries but only one returned --> prone to errors\n",
    "            elif len(temp1) > 1:\n",
    "                # warn user\n",
    "                logger_dispatcher.warning(f\"CAUTION: There are multiple resources which share the \\\n",
    "                            same value '{val}' for the property '{property}'. \\\n",
    "                            Only the first entry is returned.\")\n",
    "            \n",
    "            return temp1.iat[0]\n",
    "    \n",
    "    ### ROUTING LOGIC\n",
    "    def request_job_allocation(\n",
    "        self,\n",
    "        job: Job,\n",
    "    ) -> InfrastructureObject:\n",
    "        \"\"\"\n",
    "        request an allocation decision for the given job \n",
    "        (determine the next processing station on which the job shall be placed)\n",
    "        requester: output side infrastructure object\n",
    "        request for: infrastructure object instance\n",
    "        \"\"\"\n",
    "        # SIGNALING ALLOCATION DECISION\n",
    "        # (ONLY IF PARALLEL PROCESSING STATIONS EXIST)\n",
    "        ## theoretically: obtaining next operation --> information about machine group -->\n",
    "        ## based on machine group: choice of corresponding allocation agent -->\n",
    "        ## preparing feature vectors as input --> trigger agent decision -->\n",
    "        ## map decision to processing station\n",
    "        \n",
    "        logger_dispatcher.info(f\"[DISPATCHER: {self}] REQUEST TO DISPATCHER FOR ALLOCATION\")\n",
    "        \n",
    "        # get the next operation of the job\n",
    "        next_op = job.get_next_operation()\n",
    "        target_proc_station = next_op.target_machine\n",
    "        \n",
    "        logger_dispatcher.debug(f\"[DISPATCHER: {self}] Next operation is {next_op} with machine group (machine) {target_proc_station}\")\n",
    "        \n",
    "        return target_proc_station\n",
    "           \n",
    "    def request_job_sequencing(\n",
    "        self,\n",
    "        req_obj: ProcessingStation\n",
    "    ) -> Job:\n",
    "        \"\"\"\n",
    "        request a sequencing decision for a given queue of the requesting resource\n",
    "        requester: input side processing stations\n",
    "        request for: job instance\n",
    "        \n",
    "        req_obj: requesting object (ProcessingStation)\n",
    "        \"\"\"\n",
    "        # SIGNALING SEQUENCING DECISION\n",
    "        # (ONLY IF MULTIPLE JOBS IN THE QUEUE EXIST)\n",
    "        ## theoretically: get logic queue of requesting object --> information about feasible jobs -->\n",
    "        ## [*] choice of sequencing agent (based on which properties?) --> preparing feature vector as input -->\n",
    "        ## trigger agent decision --> map decision to feasible jobs\n",
    "        ## [*] use implemented priority rules as intermediate step\n",
    "        \n",
    "        logger_dispatcher.debug(f\"[DISPATCHER: {self}] REQUEST TO DISPATCHER FOR SEQUENCING\")\n",
    "        \n",
    "        # get logic queue of requesting object\n",
    "        # contains all feasible jobs for this resource\n",
    "        logic_queue = req_obj.logic_queue\n",
    "        # get job from logic queue with currently defined priority rule\n",
    "        job = self.seq_priority_rule(queue=logic_queue)\n",
    "        \n",
    "        return job\n",
    "    \n",
    "    def seq_priority_rule(\n",
    "        self,\n",
    "        queue: Queue,\n",
    "    ) -> Job:\n",
    "        \"\"\"apply priority rules to a pool of jobs\"\"\"\n",
    "        match self._curr_prio_rule:\n",
    "            case 'FIFO':\n",
    "                job = queue.pop()\n",
    "            case 'LIFO':\n",
    "                job = queue.pop(-1)\n",
    "            case 'SPT':\n",
    "                # sort descending and pop last item\n",
    "                temp = queue.as_list()\n",
    "                temp = sorted(temp, key=attrgetter('current_proc_time'), reverse=True)\n",
    "                job = temp.pop()\n",
    "                # remove job from original queue\n",
    "                queue.remove(job)\n",
    "            case 'LPT':\n",
    "                # sort asscending and pop last item\n",
    "                temp = queue.as_list()\n",
    "                temp = sorted(temp, key=attrgetter('current_proc_time'), reverse=False)\n",
    "                job = temp.pop()\n",
    "                # remove job from original queue\n",
    "                queue.remove(job)\n",
    "                \n",
    "        return job\n",
    "    \n",
    "    ### ANALYSE\n",
    "    def draw_gantt_chart(\n",
    "        self,\n",
    "        use_custom_proc_station_id: bool = True,\n",
    "        sort_by_proc_station: bool = False,\n",
    "        sort_ascending: bool = True,\n",
    "        save_img: bool = False,\n",
    "        save_html: bool = False,\n",
    "        file_name: str = 'gantt_chart',\n",
    "    ) -> PlotlyFigure:\n",
    "        \"\"\"\n",
    "        draw a Gantt chart based on the dispatcher's operation database\n",
    "        use_custom_machine_id: whether to use the custom IDs of the processing station (True) or its name (False)\n",
    "        sort_by_proc_station: whether to sort by processing station property (True) or by job name (False) \\\n",
    "            default: False\n",
    "        sort_ascending: whether to sort in ascending (True) or descending order (False) \\\n",
    "            default: True\n",
    "        use_duration: plot each operation with its scheduled duration instead of the delta time \\\n",
    "            between start and end; if there were no interruptions both methods return the same results \\\n",
    "            default: False\n",
    "        \"\"\"\n",
    "        # filter operation DB for relevant information\n",
    "        df = self._op_db.filter(items=['job_name', 'machine_custom_id', 'machine_name', 'start_time', 'end_time', 'duration'])\n",
    "        # calculate delta time between start and end\n",
    "        df['delta'] = df['end_time'] - df['start_time']\n",
    "        \n",
    "        # sorting\n",
    "        sort_key: str = ''\n",
    "        # chose relevant processing station property\n",
    "        proc_station_prop: str = ''\n",
    "        if use_custom_proc_station_id:\n",
    "            proc_station_prop = 'machine_custom_id'\n",
    "        else:\n",
    "            proc_station_prop = 'machine_name'\n",
    "        \n",
    "        \n",
    "        # check if sorting by processing station is wanted and custom ID should be used or not\n",
    "        if sort_by_proc_station:\n",
    "            sort_key = proc_station_prop\n",
    "        else:\n",
    "            sort_key = 'job_name' \n",
    "        \n",
    "        df = df.sort_values(by=sort_key, ascending=sort_ascending, kind='stable')\n",
    "        \n",
    "        # build Gantt chart with Plotly Timeline\n",
    "        fig = px.timeline(df, x_start='start_time', x_end='end_time', \n",
    "                          y=proc_station_prop, color='job_name')\n",
    "        fig.update_yaxes(type='category', autorange='reversed')\n",
    "        fig.update_xaxes(type='linear')\n",
    "\n",
    "        # reset axis scale for every figure element\n",
    "        # https://stackoverflow.com/questions/66078893/plotly-express-timeline-for-gantt-chart-with-integer-xaxis\n",
    "        for d in fig.data:\n",
    "            filt = df['job_name'] == d.name\n",
    "            d.x = df.loc[filt, 'delta']\n",
    "\n",
    "        fig.show()\n",
    "        \n",
    "        if save_html:\n",
    "            file = f'{file_name}.html'\n",
    "            fig.write_html(file)\n",
    "        \n",
    "        if save_img:\n",
    "            file = f'{file_name}.svg'\n",
    "            fig.write_image(file)\n",
    "        \n",
    "        return fig\n",
    "    \n",
    "    ### DISPOSABLE JOBS\n",
    "    ### STILL NECESSARY???\n",
    "    def add_disposable_job(\n",
    "        self,\n",
    "        job: Job,\n",
    "    ) -> None:\n",
    "        \"\"\"\n",
    "        add job to the disposable ones\n",
    "        \"\"\"\n",
    "        self._disposable_jobs[job.job_id] = job\n",
    "    \n",
    "    @property\n",
    "    def disposable_jobs(self) -> dict[int, Job]:\n",
    "        return self._disposable_jobs\n",
    "    \n",
    "    ################# REWORK ##################\n",
    "    ### maybe add a corresponding property in the job DB\n",
    "    def get_disposable_jobs(\n",
    "        self,\n",
    "        job_set: OrderedDict,\n",
    "    ) -> tuple[list[ObjectID], list[Job]]:\n",
    "        \"\"\"\n",
    "        function needs to be reworked, jobs should report back information to a dispatcher instance\n",
    "        (bottom-up instead of top-down)\n",
    "        \"\"\"\n",
    "        #########################################\n",
    "        self._disposable_jobs_ID: list[int] = list()\n",
    "        self._disposable_jobs: list[Job] = list()\n",
    "        \n",
    "        for job_id, job in job_set.items():\n",
    "            if job.is_disposable:\n",
    "                self._disposable_jobs_ID.append(job_id)\n",
    "                self._disposable_jobs.append(job)\n",
    "                \n",
    "        return self._disposable_jobs_ID, self._disposable_jobs"
   ]
  },
  {
   "attachments": {},
   "cell_type": "markdown",
   "metadata": {},
   "source": [
    "[Jump to top](#top)"
   ]
  },
  {
   "cell_type": "code",
   "execution_count": null,
   "metadata": {},
   "outputs": [],
   "source": []
  },
  {
   "attachments": {},
   "cell_type": "markdown",
   "metadata": {},
   "source": [
    "<a id='operation'></a>"
   ]
  },
  {
   "cell_type": "code",
   "execution_count": 523,
   "metadata": {},
   "outputs": [],
   "source": [
    "class Operation(object):\n",
    "    \n",
    "    def __init__(\n",
    "        self,\n",
    "        dispatcher: Dispatcher,\n",
    "        job: Job,\n",
    "        proc_time: float,\n",
    "        machine_identifier: MachineID,\n",
    "        custom_identifier: CustomID | None = None,\n",
    "        name: str | None = None,\n",
    "        status: str | None = None,\n",
    "    ) -> None:\n",
    "        \"\"\"\n",
    "        identifier: operation's ID\n",
    "        proc_times: operation's processing times\n",
    "        machine_identifier: ID of machine on which operation is processed\n",
    "        \"\"\"\n",
    "        # !!!!!!!!! perhaps processing times in future multiple entries depending on associated machine\n",
    "        # change of input format necessary, currently only one machine for each operation\n",
    "        # no groups, no differing processing times for different machines \n",
    "\n",
    "        # assert operation information\n",
    "        self._dispatcher = dispatcher\n",
    "        self._job = job\n",
    "        self._job_id = job.job_id\n",
    "        self._machine_identifier = machine_identifier\n",
    "        \n",
    "        # process information\n",
    "        # processing time\n",
    "        self.proc_time: float = proc_time\n",
    "        # starting and end points\n",
    "        # in future setting starting points in advance possible\n",
    "        self.start_time: float = 0.\n",
    "        self.end_time: float = 0.\n",
    "        self.is_finished: bool = False\n",
    "        \n",
    "        ########### adding machine instances\n",
    "        ### perhaps adding machine sets if multiple machines possible (machine groups)\n",
    "        # assignment of machine instance by dispatcher\n",
    "        # from dispatcher: op_id, name, target_machine\n",
    "        self._op_id, self.name, self.target_machine = self.dispatcher.register_operation(\n",
    "                                                        obj=self, machine_identifier=self._machine_identifier,\n",
    "                                                        custom_identifier=custom_identifier, name=name, \n",
    "                                                        status=status)  \n",
    "    \n",
    "    def __repr__(self) -> str:\n",
    "        return f\"Operation(ProcTime: {self.proc_time}, MachineID: {self._machine_identifier})\"    \n",
    "    \n",
    "    @property   \n",
    "    def dispatcher(self) -> Dispatcher:\n",
    "        return self._dispatcher\n",
    "    \n",
    "    @property\n",
    "    def op_id(self) -> ObjectID:\n",
    "        return self._op_id\n",
    "    \n",
    "    @property\n",
    "    def job(self) -> Job:\n",
    "        return self._job\n",
    "    \n",
    "    @property\n",
    "    def job_id(self) -> ObjectID:\n",
    "        return self._job_id"
   ]
  },
  {
   "attachments": {},
   "cell_type": "markdown",
   "metadata": {},
   "source": [
    "[Jump to top](#top)"
   ]
  },
  {
   "cell_type": "code",
   "execution_count": null,
   "metadata": {},
   "outputs": [],
   "source": []
  },
  {
   "attachments": {},
   "cell_type": "markdown",
   "metadata": {},
   "source": [
    "<a id='job'></a>"
   ]
  },
  {
   "cell_type": "code",
   "execution_count": 524,
   "metadata": {},
   "outputs": [],
   "source": [
    "class Job(sim.Component):\n",
    "    \n",
    "    def __init__(\n",
    "        self,\n",
    "        dispatcher: Dispatcher,\n",
    "        proc_times: list[float],\n",
    "        machine_order: list[MachineID],\n",
    "        custom_identifier: CustomID | None = None,\n",
    "        name: str | None = None,\n",
    "        status: str | None = None,\n",
    "        **kwargs,\n",
    "    ) -> None:\n",
    "        \"\"\"\n",
    "        ############## ADD DESCRIPTION\n",
    "        \"\"\"\n",
    "        ### BASIC INFORMATION ###\n",
    "        # assert job information\n",
    "        self.custom_identifier = custom_identifier\n",
    "        self.job_type: str = 'Job'\n",
    "        self._dispatcher = dispatcher\n",
    "        \n",
    "        ### register job instance\n",
    "        env, self._job_id, name = self._dispatcher.register_job(\n",
    "                                    obj=self, custom_identifier=self.custom_identifier,\n",
    "                                    name=name, status=status)\n",
    "        \n",
    "        # intialize base class\n",
    "        #process = 'basic_logic'\n",
    "        process = 'debug'\n",
    "        super().__init__(env=env, name=name, process=process, **kwargs)\n",
    "        \n",
    "        ### OPERATIONS ##\n",
    "        self.operations: deque[Operation] = deque()\n",
    "        \n",
    "        for idx, op_proc_time in enumerate(proc_times):\n",
    "            Op = Operation(\n",
    "                dispatcher=self._dispatcher,\n",
    "                job=self,\n",
    "                proc_time=op_proc_time,\n",
    "                machine_identifier=machine_order[idx],\n",
    "            )\n",
    "            self.operations.append(Op)\n",
    "            \n",
    "        self.open_operations = self.operations.copy()\n",
    "        self.total_num_ops: int = len(self.operations)\n",
    "        self.num_finished_ops: int = 0\n",
    "        # current OP and properties set by function \"get_next_operation\"\n",
    "        self._current_op: Operation | None = None\n",
    "        self._current_proc_time: float | None = None\n",
    "        # rank-like property, set if job enters the infrastructure object\n",
    "        # acts like a counter to allow easy sorting even if queue order is not maintained\n",
    "        self._obj_entry_idx: int | None = None\n",
    "        \n",
    "        ### STATE ###\n",
    "        # intra-process job state parameters\n",
    "        # job is being processed, maybe better naming in future\n",
    "        self.is_occupied: bool = False\n",
    "        # waiting state only when released\n",
    "        self.is_waiting: bool = False\n",
    "        # if lying on failed machine\n",
    "        self.is_failed: bool = False\n",
    "        \n",
    "        # intra-process time characteristics\n",
    "        self.time_occupied: float = 0.\n",
    "        self.time_waiting: float = 0.\n",
    "        self.time_failed: float = 0.\n",
    "        \n",
    "        # inter-process job state parameters\n",
    "        # first operation scheduled --> released job\n",
    "        self.is_released: bool = False\n",
    "        # job's next operation is disposable\n",
    "        # true for each new job, maybe reworked in future for jobs with\n",
    "        # a start date later than creation date\n",
    "        self.is_disposable: bool = True\n",
    "        # add job to disposable ones\n",
    "        ret = self.dispatcher.add_disposable_job(self)\n",
    "        # last operation ended --> finished job\n",
    "        self.is_finished: bool = False\n",
    "        \n",
    "        # inter-process time characteristics\n",
    "        # time of first operation starting point\n",
    "        self.time_entry: float = 0.\n",
    "        # time of last operation ending point\n",
    "        self.time_exit: float = 0.\n",
    "        \n",
    "        # current resource location\n",
    "        self.current_resource: InfrastructureObject | None = None\n",
    "    \n",
    "    @property\n",
    "    def dispatcher(self) -> Dispatcher:\n",
    "        return self._dispatcher\n",
    "    \n",
    "    @property\n",
    "    def job_id(self) -> ObjectID:\n",
    "        return self._job_id\n",
    "    \n",
    "    @property\n",
    "    def current_op(self) -> Operation | None:\n",
    "        \"\"\"\n",
    "        returns the current operation of the job\n",
    "        If a job is currently being processed its current operation is \n",
    "        not changed until this operation is finished.\n",
    "        \"\"\"\n",
    "        return self._current_op\n",
    "    \n",
    "    @property\n",
    "    def current_proc_time(self) -> float | None:\n",
    "        \"\"\"\n",
    "        returns the processing time of the current operation\n",
    "        If a job is currently being processed its current processing time is \n",
    "        not changed until this operation is finished.\n",
    "        \"\"\"\n",
    "        return self._current_proc_time\n",
    "    \n",
    "    @property\n",
    "    def obj_entry_idx(self) -> int | None:\n",
    "        \"\"\"\n",
    "        returns the entry index which is set by each infrastructure object\n",
    "        \"\"\"\n",
    "        return self._obj_entry_idx\n",
    "    \n",
    "    def get_next_operation(self) -> Operation:\n",
    "        \"\"\"\n",
    "        get next operation\n",
    "        \"\"\"\n",
    "        op = self.open_operations.popleft()\n",
    "        self._current_op = op\n",
    "        self._current_proc_time = op.proc_time\n",
    "        \n",
    "        return op\n",
    "    \n",
    "    def has_job_id(\n",
    "        self,\n",
    "        job_id: ObjectID,\n",
    "    ) -> bool:\n",
    "        \"\"\"\n",
    "        checks whether the current job has the given id\n",
    "        \"\"\"\n",
    "        if self._job_id == job_id:\n",
    "            return True\n",
    "        else:\n",
    "            return False\n",
    "    \n",
    "    ### PROCESS LOGIC ###\n",
    "    def basic_logic(self) -> Iterator[Any]:\n",
    "        # perform routing as long as there are open operations\n",
    "        # perhaps problem with sinks because there are no final operations for sinks\n",
    "        #print('################### TEST #################')\n",
    "        #print(f'Length open operations: {len(self.open_operations)}')\n",
    "        while len(self.open_operations) != 0:\n",
    "            yield self.hold(5)\n",
    "            print(f'{self} greetings at {self.env.now()}')\n",
    "            yield self.passivate()\n",
    "            \n",
    "            \n",
    "    def debug(self) -> None:\n",
    "        pass       \n",
    "            \n",
    "    \n",
    "    def process(self) -> Iterator[Any]:\n",
    "        # perform routing as long as there are open operations\n",
    "        # perhaps problem with sinks because there are no final operations for sinks\n",
    "        while len(self.open_operations) != 0:\n",
    "                # get current operation\n",
    "                curr_op = self.get_next_operation()\n",
    "                \n",
    "                ### REQUEST TO DISPATCHER (JOB SIDE: Allocation)\n",
    "                # --> machine instance\n",
    "                # target machine is more like a machine group with parallel machines\n",
    "                machine = curr_op.target_machine\n",
    "                \n",
    "                print(f\"Try putting Job-ID {self.job_id} \\t Operation with ID {curr_op.op_id} \\\n",
    "                    on machine {machine}\")\n",
    "                \n",
    "                #machine = self.dispatcher.get_machine_instance_by_id(machine_id)\n",
    "                #print(f\"Machine instance is {machine}\")\n",
    "                #print(f\"Machine instance is: {machine} and ispassive {machine.ispassive()}\")\n",
    "                \n",
    "                \n",
    "                # entering associated resource queue\n",
    "                self.enter(machine.buffer)\n",
    "                if machine.ispassive():\n",
    "                    machine.activate()\n",
    "                yield self.passivate()\n",
    "                # wait for processing\n",
    "                #print(f\"[END] Time now Job-ID {self.job_id} is {self.env.now()}\")\n",
    "                \n",
    "                # after processing: write operation data\n",
    "                # resource name, start, end, job name\n",
    "                self._dispatcher.write_op_times(op_id=curr_op.op_id)"
   ]
  },
  {
   "attachments": {},
   "cell_type": "markdown",
   "metadata": {},
   "source": [
    "[Jump to top](#top)"
   ]
  },
  {
   "attachments": {},
   "cell_type": "markdown",
   "metadata": {},
   "source": [
    "---\n",
    "#### Test simulation logic\n",
    "- first main goal: execution of a generic example in a simple job shop with single machines and FIFO order"
   ]
  },
  {
   "cell_type": "code",
   "execution_count": 17,
   "metadata": {},
   "outputs": [],
   "source": [
    "class TestDispatcher():\n",
    "    def __init__(self) -> None:\n",
    "        pass\n",
    "    \n",
    "    def add_dicts(self, job_dict, machine_dict):\n",
    "        self.job_dict = job_dict\n",
    "        self.machine_dict = machine_dict\n",
    "        \n",
    "    def get_machine_instance_by_id(self, ident):\n",
    "        return self.machine_dict[ident]"
   ]
  },
  {
   "cell_type": "code",
   "execution_count": 18,
   "metadata": {},
   "outputs": [
    {
     "ename": "NameError",
     "evalue": "name 'MachInst' is not defined",
     "output_type": "error",
     "traceback": [
      "\u001b[1;31m---------------------------------------------------------------------------\u001b[0m",
      "\u001b[1;31mNameError\u001b[0m                                 Traceback (most recent call last)",
      "Cell \u001b[1;32mIn[18], line 1\u001b[0m\n\u001b[1;32m----> 1\u001b[0m \u001b[39mf\u001b[39m\u001b[39m\"\u001b[39m\u001b[39mbuffer_\u001b[39m\u001b[39m{\u001b[39;00mMachInst\u001b[39m.\u001b[39mname()\u001b[39m}\u001b[39;00m\u001b[39m\"\u001b[39m\n",
      "\u001b[1;31mNameError\u001b[0m: name 'MachInst' is not defined"
     ]
    }
   ],
   "source": [
    "f\"buffer_{MachInst.name()}\""
   ]
  },
  {
   "cell_type": "code",
   "execution_count": null,
   "metadata": {},
   "outputs": [],
   "source": [
    "class TestMachine(sim.Component):\n",
    "    def __init__(self, machine_id, environment, *args, **kwargs):\n",
    "        super().__init__(env=environment, *args, **kwargs)\n",
    "        self.machine_id = machine_id\n",
    "        self.buffer = sim.Queue(env=environment)\n",
    "        \n",
    "    def process(self):\n",
    "        while True:\n",
    "            #yield self.passivate\n",
    "            if len(self.buffer) == 0:\n",
    "                yield self.passivate\n",
    "            print(\"Machine is getting job from queue\")\n",
    "            # theoretically request to dispatcher possible\n",
    "            job = self.buffer.pop()\n",
    "            pro_time = job.pro_time\n",
    "            print(f\"Machine {self} got Job with ID {job.job_id} and ProcTime {pro_time}\")\n",
    "            #print(f\"Time is {self.env.now()}\")\n",
    "            # processing\n",
    "            self.hold(job.pro_time)\n",
    "            job.activate()\n",
    "    \n",
    "        \n",
    "class TestJob(sim.Component):\n",
    "    def __init__(self, job_id, ops_proc_times, ops_machine_list, dispatcher, environment, machine_list, *args, **kwargs):\n",
    "        super().__init__(env=environment, *args, **kwargs)\n",
    "        self.job_id = job_id\n",
    "        self.ops_proc_times = ops_proc_times.copy()\n",
    "        self.ops_machine_list = ops_machine_list.copy()\n",
    "        self.dispatcher = dispatcher\n",
    "        self.ops_counter = 0\n",
    "        self.pro_time = 5\n",
    "        self.machine_list = machine_list.copy()\n",
    "        \n",
    "    def add_dicts(self, machine_dict):\n",
    "        #self.job_dict = job_dict\n",
    "        self.machine_dict = machine_dict\n",
    "        \n",
    "    def process(self):\n",
    "        print(f\"Job-ID {self.job_id} starts {env.now()}\")\n",
    "        while self.ops_counter < (len(self.ops_proc_times) - 1):\n",
    "            print(\"Get Next operation...\")\n",
    "            #self.pro_time = self.ops_proc_times[self.ops_counter]\n",
    "            machine_id = self.ops_machine_list[self.ops_counter]\n",
    "            print(f\"Operation with ProTime {self.pro_time} on machine {machine_id}\")\n",
    "            print(\"Obtain machine instance...\")\n",
    "            machine = self.dispatcher.get_machine_instance_by_id(machine_id)\n",
    "            #machine = self.machine_dict[machine_id]\n",
    "            #machine = self.machine_list.pop(0)\n",
    "            print(f\"Machine instance is: {machine} and ispassive {machine.ispassive()}\")\n",
    "            \n",
    "            # now enter buffer\n",
    "            self.enter(machine.buffer)\n",
    "            # activate machine if passive\n",
    "            #if machine.ispassive():\n",
    "            machine.activate()\n",
    "            yield self.passivate()\n",
    "            \n",
    "            \n",
    "            self.ops_counter += 1\n",
    "            print(f\"Job-ID {self.job_id} ends {self.env.now()}\")"
   ]
  },
  {
   "cell_type": "code",
   "execution_count": null,
   "metadata": {},
   "outputs": [],
   "source": [
    "test_dispatcher = TestDispatcher()"
   ]
  },
  {
   "cell_type": "code",
   "execution_count": null,
   "metadata": {},
   "outputs": [],
   "source": [
    "test_ProcTimes = mat_ProcTimes.copy()\n",
    "#test_ProcTimes = np.expand_dims(test_ProcTimes, 0)\n",
    "\n",
    "test_JobMachID = mat_JobMachID.copy()\n",
    "#test_JobMachID = np.expand_dims(test_JobMachID, 0)"
   ]
  },
  {
   "cell_type": "code",
   "execution_count": null,
   "metadata": {},
   "outputs": [],
   "source": [
    "class TestMachine(sim.Component):\n",
    "    def __init__(self, machine_id, env, *args, **kwargs):\n",
    "        super().__init__(env=env, *args, **kwargs)\n",
    "        self.machine_id = machine_id\n",
    "        self.buffer = sim.Queue(env=env)\n",
    "    \n",
    "    def process(self):\n",
    "        while True:\n",
    "            if len(self.buffer) == 0:\n",
    "                yield self.passivate()\n",
    "            job = self.buffer.pop()\n",
    "            proc_time = job.proc_time\n",
    "            print(f\"[START] job ID {job.job_id} at {self.env.now()} on machine ID {self.machine_id} with proc time {job.proc_time}\")\n",
    "            yield self.hold(job.proc_time)\n",
    "            print(f\"[END] job ID {job.job_id} at {self.env.now()} on machine ID {self.machine_id}\")\n",
    "            job.activate()\n",
    "\n",
    "class TestJob(sim.Component):\n",
    "    def __init__(self, ident, machine_order, operation_procs, env, dispatcher, *args, **kwargs):\n",
    "        super().__init__(env=env, *args, **kwargs)\n",
    "        #self.machine_id = machine_id\n",
    "        self.machine_list = machine_list.copy()\n",
    "        self.proc_time = None\n",
    "        self.counter = 0\n",
    "        self.operation_procs = operation_procs.copy()\n",
    "        #self.machine_dict = machine_dict.copy()\n",
    "        #self.dict_keys = list(machine_dict.keys())\n",
    "        self.machine_order = machine_order.copy()\n",
    "        self.job_id = ident\n",
    "        self.dispatcher = dispatcher\n",
    "        \n",
    "    def process(self):\n",
    "        while len(self.operation_procs) != 0:\n",
    "            #print(f\"Job-ID {self.job_id} starts {env.now()}\")\n",
    "            print(f\"Job-ID {self.job_id} \\t Operation with ID {self.counter}\")\n",
    "            self.proc_time = self.operation_procs.pop(0)\n",
    "            #machine = machine_list.pop(0)\n",
    "            #machine = self.machine_dict[self.dict_keys[self.counter]]\n",
    "            machine_id = self.machine_order.pop(0)\n",
    "            machine = self.dispatcher.get_machine_instance_by_id(machine_id)\n",
    "            #print(f\"Machine instance is {machine}\")\n",
    "            #print(f\"Machine instance is: {machine} and ispassive {machine.ispassive()}\")\n",
    "            self.enter(machine.buffer)\n",
    "            if machine.ispassive():\n",
    "                machine.activate()\n",
    "            yield self.passivate()\n",
    "            #print(f\"[END] Time now Job-ID {self.job_id} is {self.env.now()}\")\n",
    "            self.counter += 1"
   ]
  },
  {
   "cell_type": "code",
   "execution_count": null,
   "metadata": {},
   "outputs": [],
   "source": [
    "env = sim.Environment(trace=False)\n",
    "machine_db = dict()\n",
    "job_db = dict()\n",
    "machine_list_inst = list()\n",
    "\n",
    "for machine_id in np.unique(mat_JobMachID):\n",
    "    machine = TestMachine(machine_id=machine_id.item(), env=env)\n",
    "    machine_db[machine_id.item()] = machine\n",
    "    machine_list_inst.append(machine)\n",
    "\n",
    "for job_id, (proc_list, machine_list) in enumerate(zip(test_ProcTimes, test_JobMachID)):\n",
    "    job = TestJob(ident=job_id, machine_order=machine_list.tolist(), operation_procs=proc_list.tolist(), \n",
    "                  dispatcher=test_dispatcher, env=env)\n",
    "    #job.add_dicts(machine_db)\n",
    "    job_db[job_id] = job\n",
    "\"\"\"\n",
    "proc_list = [10,8,6]\n",
    "machine_list = [0,1,2]\n",
    "job_id = 0\n",
    "job = TestJob(ident=job_id, machine_dict=machine_db, operation_procs=proc_list,\n",
    "                  dispatcher=test_dispatcher, env=env)\n",
    "\"\"\"\n",
    "   \n",
    "test_dispatcher.add_dicts(job_db, machine_db)\n"
   ]
  },
  {
   "cell_type": "code",
   "execution_count": null,
   "metadata": {},
   "outputs": [],
   "source": [
    "ret = job_db[0]"
   ]
  },
  {
   "cell_type": "code",
   "execution_count": null,
   "metadata": {},
   "outputs": [],
   "source": []
  },
  {
   "cell_type": "code",
   "execution_count": null,
   "metadata": {},
   "outputs": [],
   "source": []
  },
  {
   "attachments": {},
   "cell_type": "markdown",
   "metadata": {},
   "source": [
    "<a id='logic_test'></a>\n",
    "#### Test Logic with integrated classes"
   ]
  },
  {
   "cell_type": "code",
   "execution_count": null,
   "metadata": {},
   "outputs": [],
   "source": [
    "job_generator = RandomJobGenerator()\n",
    "mat_ProcTimes, mat_JobMachID = job_generator.gen_rnd_JSSP_inst(2,3)"
   ]
  },
  {
   "cell_type": "code",
   "execution_count": null,
   "metadata": {},
   "outputs": [],
   "source": [
    "env = SimulationEnvironment(name='base')\n",
    "\n",
    "for machine in np.unique(mat_JobMachID):\n",
    "    MachInst = Machine(env=env, custom_identifier=machine.item(), debug=False)\n",
    "\n",
    "dispatcher = Dispatcher(env=env)"
   ]
  },
  {
   "cell_type": "code",
   "execution_count": null,
   "metadata": {},
   "outputs": [],
   "source": [
    "test_ProcTimes = mat_ProcTimes.copy()\n",
    "#test_ProcTimes = mat_ProcTimes[0,:]\n",
    "#test_ProcTimes = np.expand_dims(test_ProcTimes, 0).copy()\n",
    "\n",
    "test_JobMachID = mat_JobMachID.copy()\n",
    "#test_JobMachID = mat_JobMachID[0,:]\n",
    "#test_JobMachID = np.expand_dims(test_JobMachID, 0).copy()"
   ]
  },
  {
   "attachments": {},
   "cell_type": "markdown",
   "metadata": {},
   "source": [
    "***Deprecate job generation in dispatcher: dispatcher is only for managing existing jobs in the system***"
   ]
  },
  {
   "cell_type": "code",
   "execution_count": null,
   "metadata": {},
   "outputs": [],
   "source": [
    "ret = dispatcher.gen_job_pool_generic(\n",
    "    mat_ProcTimes=test_ProcTimes,\n",
    "    mat_JobMachID=test_JobMachID,\n",
    ")"
   ]
  },
  {
   "cell_type": "code",
   "execution_count": null,
   "metadata": {},
   "outputs": [],
   "source": [
    "env.run()"
   ]
  },
  {
   "cell_type": "code",
   "execution_count": null,
   "metadata": {},
   "outputs": [],
   "source": [
    "dispatcher.job_db"
   ]
  },
  {
   "cell_type": "code",
   "execution_count": null,
   "metadata": {},
   "outputs": [],
   "source": []
  },
  {
   "cell_type": "code",
   "execution_count": null,
   "metadata": {},
   "outputs": [],
   "source": [
    "job = dispatcher.get_job_obj_by_prop('job_id', val=0)"
   ]
  },
  {
   "cell_type": "code",
   "execution_count": null,
   "metadata": {},
   "outputs": [],
   "source": [
    "job.job_id"
   ]
  },
  {
   "cell_type": "code",
   "execution_count": null,
   "metadata": {},
   "outputs": [],
   "source": [
    "ident = 0\n",
    "filter = lambda item: item.job_id == ident"
   ]
  },
  {
   "cell_type": "code",
   "execution_count": null,
   "metadata": {},
   "outputs": [],
   "source": [
    "filter(job)"
   ]
  },
  {
   "cell_type": "code",
   "execution_count": null,
   "metadata": {},
   "outputs": [],
   "source": [
    "type(filter)"
   ]
  },
  {
   "cell_type": "code",
   "execution_count": null,
   "metadata": {},
   "outputs": [],
   "source": [
    "dispatcher.op_db"
   ]
  },
  {
   "cell_type": "code",
   "execution_count": null,
   "metadata": {},
   "outputs": [],
   "source": [
    "fig = dispatcher.draw_gantt_chart(sort_by_machine_name=True, save_img=False, save_html=False)"
   ]
  },
  {
   "cell_type": "code",
   "execution_count": null,
   "metadata": {},
   "outputs": [],
   "source": []
  },
  {
   "attachments": {},
   "cell_type": "markdown",
   "metadata": {},
   "source": [
    "##### Visualisation"
   ]
  },
  {
   "cell_type": "code",
   "execution_count": null,
   "metadata": {},
   "outputs": [],
   "source": [
    "import plotly.express as px\n",
    "import datetime"
   ]
  },
  {
   "cell_type": "code",
   "execution_count": null,
   "metadata": {},
   "outputs": [],
   "source": [
    "dft_year = 1970\n",
    "dft_month = 1\n",
    "dft_day = 1"
   ]
  },
  {
   "cell_type": "code",
   "execution_count": null,
   "metadata": {},
   "outputs": [],
   "source": [
    "start_time = 0\n",
    "end_time = 5\n",
    "date_obj_start = datetime.datetime(dft_year, dft_month, dft_day, hour=start_time)\n",
    "date_obj_end = datetime.datetime(dft_year, dft_month, dft_day, hour=end_time)"
   ]
  },
  {
   "cell_type": "code",
   "execution_count": null,
   "metadata": {},
   "outputs": [],
   "source": [
    "df = dispatcher.op_db"
   ]
  },
  {
   "cell_type": "code",
   "execution_count": null,
   "metadata": {},
   "outputs": [],
   "source": [
    "df"
   ]
  },
  {
   "cell_type": "code",
   "execution_count": null,
   "metadata": {},
   "outputs": [],
   "source": [
    "test = df.filter(items=['job_name', 'machine_name', 'start_time', 'end_time', 'duration'])"
   ]
  },
  {
   "cell_type": "code",
   "execution_count": null,
   "metadata": {},
   "outputs": [],
   "source": [
    "test"
   ]
  },
  {
   "cell_type": "code",
   "execution_count": null,
   "metadata": {},
   "outputs": [],
   "source": [
    "test['delta'] = test['end_time'] - test['start_time']"
   ]
  },
  {
   "cell_type": "code",
   "execution_count": null,
   "metadata": {},
   "outputs": [],
   "source": [
    "test = test.sort_values('machine_name')"
   ]
  },
  {
   "cell_type": "code",
   "execution_count": null,
   "metadata": {},
   "outputs": [],
   "source": [
    "type(fig)"
   ]
  },
  {
   "cell_type": "code",
   "execution_count": null,
   "metadata": {},
   "outputs": [],
   "source": [
    "fig = px.timeline(test, x_start='start_time', x_end='end_time', y='machine_name', color='job_name')\n",
    "fig.update_yaxes(autorange='reversed')\n",
    "fig.layout.xaxis.type = 'linear'\n",
    "\n",
    "for d in fig.data:\n",
    "    filt = test['job_name'] == d.name\n",
    "    #d.x = test[filt]['delta']\n",
    "    d.x = test.loc[filt, 'duration']\n",
    "\n",
    "fig.show()"
   ]
  },
  {
   "cell_type": "code",
   "execution_count": null,
   "metadata": {},
   "outputs": [],
   "source": [
    "fig.data"
   ]
  },
  {
   "cell_type": "code",
   "execution_count": null,
   "metadata": {},
   "outputs": [],
   "source": []
  },
  {
   "cell_type": "code",
   "execution_count": null,
   "metadata": {},
   "outputs": [],
   "source": [
    "# https://stackoverflow.com/questions/66078893/plotly-express-timeline-for-gantt-chart-with-integer-xaxis\n",
    "df = pd.DataFrame([\n",
    "    dict(Resource=\"M1\", Start=0, Finish=10, Job=\"J1\"),\n",
    "    dict(Resource=\"M2\", Start=0, Finish=5, Job=\"J2\"),\n",
    "    dict(Resource=\"M1\", Start=11, Finish=15, Job=\"J2\")\n",
    "])\n",
    "df['delta'] = df['Finish'] - df['Start']\n",
    "\n",
    "fig = px.timeline(df, x_start='Start', x_end='Finish', y='Resource', color='Job')\n",
    "fig.update_yaxes(autorange='reversed')\n",
    "fig.layout.xaxis.type = 'linear'\n",
    "\n",
    "for d in fig.data:\n",
    "    filt = df['Job'] == d.name\n",
    "    d.x = df[filt]['delta']\n",
    "\n",
    "fig.show()\n"
   ]
  },
  {
   "cell_type": "code",
   "execution_count": null,
   "metadata": {},
   "outputs": [],
   "source": [
    "df"
   ]
  },
  {
   "cell_type": "code",
   "execution_count": null,
   "metadata": {},
   "outputs": [],
   "source": [
    "for d in fig.data:\n",
    "    print(d.name)\n",
    "    filt = df['Job'] == d.name\n",
    "    d.x = df[filt]['delta']\n",
    "    print(d.x)"
   ]
  },
  {
   "cell_type": "code",
   "execution_count": null,
   "metadata": {},
   "outputs": [],
   "source": [
    "fig.data[0].x = df[filt]['delta']"
   ]
  },
  {
   "cell_type": "code",
   "execution_count": null,
   "metadata": {},
   "outputs": [],
   "source": []
  },
  {
   "cell_type": "code",
   "execution_count": null,
   "metadata": {},
   "outputs": [],
   "source": [
    "fig.data[0]"
   ]
  },
  {
   "cell_type": "code",
   "execution_count": null,
   "metadata": {},
   "outputs": [],
   "source": []
  },
  {
   "cell_type": "code",
   "execution_count": null,
   "metadata": {},
   "outputs": [],
   "source": [
    "import plotly.express as px\n",
    "import pandas as pd\n",
    "\n",
    "df = pd.DataFrame([\n",
    "    dict(Resource=\"Job A\", Start=1, Finish=4),\n",
    "    dict(Resource=\"Job B\", Start=2, Finish=6),\n",
    "    dict(Resource=\"Job A\", Start=4, Finish=10)\n",
    "])\n",
    "df['delta'] = df['Finish'] - df['Start']\n",
    "\n",
    "fig = px.timeline(df, x_start=\"Start\", x_end=\"Finish\", y=\"Resource\")\n",
    "fig.update_yaxes(autorange=\"reversed\") \n",
    "\n",
    "fig.layout.xaxis.type = 'linear'\n",
    "fig.data[0].x = df.delta.tolist()\n",
    "#f = fig.full_figure_for_development(warn=False)\n",
    "fig.show()"
   ]
  },
  {
   "cell_type": "code",
   "execution_count": null,
   "metadata": {},
   "outputs": [],
   "source": [
    "df"
   ]
  },
  {
   "cell_type": "code",
   "execution_count": null,
   "metadata": {},
   "outputs": [],
   "source": [
    "import plotly.figure_factory as ff\n",
    "\n",
    "df = pd.DataFrame([\n",
    "    dict(Task=\"Job A\", Start=0, Finish=10, Resource=\"Alex\"),\n",
    "    dict(Task=\"Job B\", Start=12, Finish=24, Resource=\"Alex\"),\n",
    "    dict(Task=\"Job C\", Start=5, Finish=20, Resource=\"Max\")\n",
    "])\n",
    "\n",
    "fig = ff.create_gantt(df, index_col = 'Resource',  bar_width = 0.4, show_colorbar=True)\n",
    "fig.update_layout(xaxis_type='linear', autosize=True, width=800, height=400)\n",
    "fig.show()"
   ]
  },
  {
   "cell_type": "code",
   "execution_count": null,
   "metadata": {},
   "outputs": [],
   "source": [
    "df"
   ]
  },
  {
   "attachments": {},
   "cell_type": "markdown",
   "metadata": {},
   "source": [
    "**Link Collection**\n",
    "\n",
    "- [Environment](#environment)\n",
    "- [Machine](#machine)\n",
    "- [Dispatcher](#dispatcher)\n",
    "- [Operation](#operation)\n",
    "- [Job](#job)\n",
    "- [Logic Test](#logic_test)\n",
    "\n",
    "\n",
    "[Jump to top](#top)"
   ]
  },
  {
   "cell_type": "code",
   "execution_count": null,
   "metadata": {},
   "outputs": [],
   "source": []
  }
 ],
 "metadata": {
  "kernelspec": {
   "display_name": "Python 3",
   "language": "python",
   "name": "python3"
  },
  "language_info": {
   "codemirror_mode": {
    "name": "ipython",
    "version": 3
   },
   "file_extension": ".py",
   "mimetype": "text/x-python",
   "name": "python",
   "nbconvert_exporter": "python",
   "pygments_lexer": "ipython3",
   "version": "3.11.3"
  },
  "orig_nbformat": 4
 },
 "nbformat": 4,
 "nbformat_minor": 2
}
