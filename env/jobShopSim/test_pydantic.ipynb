{
 "cells": [
  {
   "cell_type": "code",
   "execution_count": 66,
   "metadata": {},
   "outputs": [],
   "source": [
    "import pydantic\n",
    "from pydantic import BaseModel\n",
    "import io\n",
    "import json\n",
    "import pandas as pd\n",
    "\n",
    "from typing import TypeAlias\n",
    "from collections.abc import Iterable, Sequence\n",
    "from datetime import datetime as Datetime\n",
    "from datetime import timedelta as Timedelta"
   ]
  },
  {
   "cell_type": "markdown",
   "metadata": {},
   "source": [
    "## General idea\n",
    "- define interface to parse given data also in not desired formats\n",
    "- try parsing primarily text-based sources (JSON-like), not already structured and parsed as Data Frame or similar format\n",
    "- provide common interface which does not heavily depend on several preprocessing steps"
   ]
  },
  {
   "cell_type": "code",
   "execution_count": 67,
   "metadata": {},
   "outputs": [],
   "source": [
    "CustomID: TypeAlias = int | str"
   ]
  },
  {
   "cell_type": "markdown",
   "metadata": {},
   "source": [
    "Conclusions:\n",
    "- use more precise naming scheme\n",
    "- attributes do not have to correspond to the naming scheme of the simulation environment\n",
    "- Pydantic model defines entry point to simulation environment (gold standard)\n",
    "    - model can easily be fitted in the job class\n",
    "- therefore: data transformation and mapping to model attributes necessary\n",
    "    - example: ``Bearbeitungszeit in Stunden`` --> ``processing time``"
   ]
  },
  {
   "cell_type": "code",
   "execution_count": 68,
   "metadata": {},
   "outputs": [],
   "source": [
    "class Job(BaseModel):\n",
    "    exec_systems_order: Sequence[CustomID]\n",
    "    proc_times: Sequence[Timedelta]\n",
    "    target_stations_order: Sequence[CustomID] | None = None\n",
    "    setup_times: Sequence[Timedelta | None] | None = None\n",
    "    prio: int | Sequence[int] | None = None\n",
    "    planned_starting_date: Datetime | Sequence[Datetime] | None = None\n",
    "    planned_ending_date: Datetime | Sequence[Datetime] | None = None\n",
    "    custom_identifier: CustomID | None = None\n",
    "    name: str | None = None\n",
    "    state: str = 'INIT'\n",
    "    additional_info: dict[str, CustomID] | None = None"
   ]
  },
  {
   "cell_type": "code",
   "execution_count": 69,
   "metadata": {},
   "outputs": [
    {
     "data": {
      "text/plain": [
       "{'properties': {'exec_systems_order': {'items': {'anyOf': [{'type': 'integer'},\n",
       "     {'type': 'string'}]},\n",
       "   'title': 'Exec Systems Order',\n",
       "   'type': 'array'},\n",
       "  'proc_times': {'items': {'format': 'duration', 'type': 'string'},\n",
       "   'title': 'Proc Times',\n",
       "   'type': 'array'},\n",
       "  'target_stations_order': {'anyOf': [{'items': {'anyOf': [{'type': 'integer'},\n",
       "       {'type': 'string'}]},\n",
       "     'type': 'array'},\n",
       "    {'type': 'null'}],\n",
       "   'default': None,\n",
       "   'title': 'Target Stations Order'},\n",
       "  'setup_times': {'anyOf': [{'items': {'anyOf': [{'format': 'duration',\n",
       "        'type': 'string'},\n",
       "       {'type': 'null'}]},\n",
       "     'type': 'array'},\n",
       "    {'type': 'null'}],\n",
       "   'default': None,\n",
       "   'title': 'Setup Times'},\n",
       "  'prio': {'anyOf': [{'type': 'integer'},\n",
       "    {'items': {'type': 'integer'}, 'type': 'array'},\n",
       "    {'type': 'null'}],\n",
       "   'default': None,\n",
       "   'title': 'Prio'},\n",
       "  'planned_starting_date': {'anyOf': [{'format': 'date-time',\n",
       "     'type': 'string'},\n",
       "    {'items': {'format': 'date-time', 'type': 'string'}, 'type': 'array'},\n",
       "    {'type': 'null'}],\n",
       "   'default': None,\n",
       "   'title': 'Planned Starting Date'},\n",
       "  'planned_ending_date': {'anyOf': [{'format': 'date-time', 'type': 'string'},\n",
       "    {'items': {'format': 'date-time', 'type': 'string'}, 'type': 'array'},\n",
       "    {'type': 'null'}],\n",
       "   'default': None,\n",
       "   'title': 'Planned Ending Date'},\n",
       "  'custom_identifier': {'anyOf': [{'type': 'integer'},\n",
       "    {'type': 'string'},\n",
       "    {'type': 'null'}],\n",
       "   'default': None,\n",
       "   'title': 'Custom Identifier'},\n",
       "  'name': {'anyOf': [{'type': 'string'}, {'type': 'null'}],\n",
       "   'default': None,\n",
       "   'title': 'Name'},\n",
       "  'state': {'default': 'INIT', 'title': 'State', 'type': 'string'},\n",
       "  'additional_info': {'anyOf': [{'additionalProperties': {'anyOf': [{'type': 'integer'},\n",
       "       {'type': 'string'}]},\n",
       "     'type': 'object'},\n",
       "    {'type': 'null'}],\n",
       "   'default': None,\n",
       "   'title': 'Additional Info'}},\n",
       " 'required': ['exec_systems_order', 'proc_times'],\n",
       " 'title': 'Job',\n",
       " 'type': 'object'}"
      ]
     },
     "execution_count": 69,
     "metadata": {},
     "output_type": "execute_result"
    }
   ],
   "source": [
    "Job.model_json_schema()"
   ]
  },
  {
   "cell_type": "markdown",
   "metadata": {},
   "source": [
    "try to simulate JSON input (text-based)"
   ]
  },
  {
   "cell_type": "code",
   "execution_count": 70,
   "metadata": {},
   "outputs": [],
   "source": [
    "columns_interest = [\n",
    "    'ID',\n",
    "    'Artikelnr.',\n",
    "    'Kap.-gr.',\n",
    "    'FAKZ',\n",
    "    'Ag Paketierung',\n",
    "    'geplanter Termin',\n",
    "    'Bruttomenge \tin LP',\n",
    "    'Rüstzeit Logistisch \tin Stunden',\n",
    "    'Bearbeitungszeit \tin Stunden',\n",
    "    'Bohrpaketierung',\n",
    "    'Anzahl Bohr./LP',\n",
    "    'Fräspaketierung',\n",
    "    'Anmeldung',\n",
    "    'Rückmeldung',\n",
    "]\n",
    "\n",
    "columns_actual_data = [\n",
    "    'Anmeldung',\n",
    "    'Rückmeldung'\n",
    "]"
   ]
  },
  {
   "cell_type": "code",
   "execution_count": 71,
   "metadata": {},
   "outputs": [
    {
     "name": "stderr",
     "output_type": "stream",
     "text": [
      "C:\\Users\\flfo\\AppData\\Local\\Temp\\ipykernel_10236\\3398150965.py:2: DtypeWarning: Columns (67) have mixed types. Specify dtype option on import or set low_memory=False.\n",
      "  data = pd.read_csv('./datasets/fcon__2212____01-01-22_17-08-22.csv',\n"
     ]
    }
   ],
   "source": [
    "# import data set\n",
    "data = pd.read_csv('./datasets/fcon__2212____01-01-22_17-08-22.csv', \n",
    "                   sep=';', encoding='ansi')\n",
    "\n",
    "data = pd.read_csv('./datasets/fcon__2212____01-01-22_17-08-22.csv', \n",
    "                   sep=';', encoding='ansi', usecols=columns_interest)\n"
   ]
  },
  {
   "cell_type": "code",
   "execution_count": 72,
   "metadata": {},
   "outputs": [
    {
     "data": {
      "text/plain": [
       "Index(['ID', 'Artikelnr.', 'Kap.-gr.', 'FAKZ', 'Ag Paketierung',\n",
       "       'geplanter Termin', 'Anmeldung', 'Rückmeldung', 'Bruttomenge \\tin LP',\n",
       "       'Rüstzeit Logistisch \\tin Stunden', 'Bearbeitungszeit \\tin Stunden',\n",
       "       'Bohrpaketierung', 'Anzahl Bohr./LP', 'Fräspaketierung'],\n",
       "      dtype='object')"
      ]
     },
     "execution_count": 72,
     "metadata": {},
     "output_type": "execute_result"
    }
   ],
   "source": [
    "data.columns"
   ]
  },
  {
   "cell_type": "code",
   "execution_count": 73,
   "metadata": {},
   "outputs": [],
   "source": [
    "data_extr = data.iloc[:10,:]"
   ]
  },
  {
   "cell_type": "code",
   "execution_count": 112,
   "metadata": {},
   "outputs": [],
   "source": [
    "buff = io.StringIO()\n",
    "data_extr.to_json(buff, date_unit='s', orient='records')"
   ]
  },
  {
   "cell_type": "code",
   "execution_count": 113,
   "metadata": {},
   "outputs": [],
   "source": [
    "string = buff.getvalue()\n",
    "buff.close()"
   ]
  },
  {
   "cell_type": "code",
   "execution_count": 114,
   "metadata": {},
   "outputs": [],
   "source": [
    "json_ret = json.loads(string)"
   ]
  },
  {
   "cell_type": "code",
   "execution_count": 115,
   "metadata": {},
   "outputs": [
    {
     "data": {
      "text/plain": [
       "[{'ID': 2046707,\n",
       "  'Artikelnr.': '4-201276p',\n",
       "  'Kap.-gr.': 22162,\n",
       "  'FAKZ': 'PR',\n",
       "  'Ag Paketierung': '2,0',\n",
       "  'geplanter Termin': '07.12.20',\n",
       "  'Anmeldung': '?',\n",
       "  'Rückmeldung': '22.03.22 00:00',\n",
       "  'Bruttomenge \\tin LP': 120,\n",
       "  'Rüstzeit Logistisch \\tin Stunden': '0,17',\n",
       "  'Bearbeitungszeit \\tin Stunden': '0,06',\n",
       "  'Bohrpaketierung': '2',\n",
       "  'Anzahl Bohr./LP': 4,\n",
       "  'Fräspaketierung': '2'},\n",
       " {'ID': 2063841,\n",
       "  'Artikelnr.': '4-117748p',\n",
       "  'Kap.-gr.': 22162,\n",
       "  'FAKZ': None,\n",
       "  'Ag Paketierung': '3,0',\n",
       "  'geplanter Termin': '27.07.22',\n",
       "  'Anmeldung': '04.08.22 04:58',\n",
       "  'Rückmeldung': '04.08.22 09:04',\n",
       "  'Bruttomenge \\tin LP': 360,\n",
       "  'Rüstzeit Logistisch \\tin Stunden': '0,17',\n",
       "  'Bearbeitungszeit \\tin Stunden': '1,38',\n",
       "  'Bohrpaketierung': '3',\n",
       "  'Anzahl Bohr./LP': 467,\n",
       "  'Fräspaketierung': '3'},\n",
       " {'ID': 2065002,\n",
       "  'Artikelnr.': '4-116547p',\n",
       "  'Kap.-gr.': 22162,\n",
       "  'FAKZ': None,\n",
       "  'Ag Paketierung': '2,0',\n",
       "  'geplanter Termin': '05.01.22',\n",
       "  'Anmeldung': '12.01.22 17:50',\n",
       "  'Rückmeldung': '12.01.22 20:27',\n",
       "  'Bruttomenge \\tin LP': 216,\n",
       "  'Rüstzeit Logistisch \\tin Stunden': '0,17',\n",
       "  'Bearbeitungszeit \\tin Stunden': '1,56',\n",
       "  'Bohrpaketierung': '2',\n",
       "  'Anzahl Bohr./LP': 649,\n",
       "  'Fräspaketierung': '2'},\n",
       " {'ID': 2086697,\n",
       "  'Artikelnr.': '4-132781p',\n",
       "  'Kap.-gr.': 22162,\n",
       "  'FAKZ': None,\n",
       "  'Ag Paketierung': '1,0',\n",
       "  'geplanter Termin': '20.01.22',\n",
       "  'Anmeldung': '21.01.22 02:11',\n",
       "  'Rückmeldung': '21.01.22 12:14',\n",
       "  'Bruttomenge \\tin LP': 432,\n",
       "  'Rüstzeit Logistisch \\tin Stunden': '0,17',\n",
       "  'Bearbeitungszeit \\tin Stunden': '10,22',\n",
       "  'Bohrpaketierung': '1',\n",
       "  'Anzahl Bohr./LP': 1231,\n",
       "  'Fräspaketierung': '4'},\n",
       " {'ID': 2086705,\n",
       "  'Artikelnr.': '4-132376p',\n",
       "  'Kap.-gr.': 22162,\n",
       "  'FAKZ': None,\n",
       "  'Ag Paketierung': '3,0',\n",
       "  'geplanter Termin': '05.01.22',\n",
       "  'Anmeldung': '10.01.22 10:49',\n",
       "  'Rückmeldung': '10.01.22 11:37',\n",
       "  'Bruttomenge \\tin LP': 72,\n",
       "  'Rüstzeit Logistisch \\tin Stunden': '0,17',\n",
       "  'Bearbeitungszeit \\tin Stunden': '0,49',\n",
       "  'Bohrpaketierung': '3',\n",
       "  'Anzahl Bohr./LP': 581,\n",
       "  'Fräspaketierung': '3'},\n",
       " {'ID': 2094385,\n",
       "  'Artikelnr.': '4-112477p',\n",
       "  'Kap.-gr.': 22162,\n",
       "  'FAKZ': None,\n",
       "  'Ag Paketierung': '2,0',\n",
       "  'geplanter Termin': '21.01.22',\n",
       "  'Anmeldung': '31.01.22 06:11',\n",
       "  'Rückmeldung': '31.01.22 16:48',\n",
       "  'Bruttomenge \\tin LP': 1032,\n",
       "  'Rüstzeit Logistisch \\tin Stunden': '0,17',\n",
       "  'Bearbeitungszeit \\tin Stunden': '5,59',\n",
       "  'Bohrpaketierung': '2',\n",
       "  'Anzahl Bohr./LP': 411,\n",
       "  'Fräspaketierung': '2'},\n",
       " {'ID': 2094721,\n",
       "  'Artikelnr.': '4-129573p',\n",
       "  'Kap.-gr.': 22162,\n",
       "  'FAKZ': 'SK',\n",
       "  'Ag Paketierung': '1,0',\n",
       "  'geplanter Termin': '18.01.22',\n",
       "  'Anmeldung': '20.01.22 07:27',\n",
       "  'Rückmeldung': '20.01.22 16:59',\n",
       "  'Bruttomenge \\tin LP': 140,\n",
       "  'Rüstzeit Logistisch \\tin Stunden': '0,17',\n",
       "  'Bearbeitungszeit \\tin Stunden': '6,71',\n",
       "  'Bohrpaketierung': '1',\n",
       "  'Anzahl Bohr./LP': 1769,\n",
       "  'Fräspaketierung': '1'},\n",
       " {'ID': 2094741,\n",
       "  'Artikelnr.': '4-129573p',\n",
       "  'Kap.-gr.': 22162,\n",
       "  'FAKZ': 'SK',\n",
       "  'Ag Paketierung': '1,0',\n",
       "  'geplanter Termin': '14.01.22',\n",
       "  'Anmeldung': '19.01.22 09:16',\n",
       "  'Rückmeldung': '19.01.22 16:09',\n",
       "  'Bruttomenge \\tin LP': 140,\n",
       "  'Rüstzeit Logistisch \\tin Stunden': '0,17',\n",
       "  'Bearbeitungszeit \\tin Stunden': '6,71',\n",
       "  'Bohrpaketierung': '1',\n",
       "  'Anzahl Bohr./LP': 1769,\n",
       "  'Fräspaketierung': '1'},\n",
       " {'ID': 2094742,\n",
       "  'Artikelnr.': '8-129573g01g02',\n",
       "  'Kap.-gr.': 22162,\n",
       "  'FAKZ': 'SK',\n",
       "  'Ag Paketierung': '4,0',\n",
       "  'geplanter Termin': '05.01.22',\n",
       "  'Anmeldung': '04.01.22 17:13',\n",
       "  'Rückmeldung': '04.01.22 17:18',\n",
       "  'Bruttomenge \\tin LP': 144,\n",
       "  'Rüstzeit Logistisch \\tin Stunden': '0,17',\n",
       "  'Bearbeitungszeit \\tin Stunden': '0,14',\n",
       "  'Bohrpaketierung': '4',\n",
       "  'Anzahl Bohr./LP': 21,\n",
       "  'Fräspaketierung': '4'},\n",
       " {'ID': 2094743,\n",
       "  'Artikelnr.': '8-129573g03g04',\n",
       "  'Kap.-gr.': 22162,\n",
       "  'FAKZ': 'SK',\n",
       "  'Ag Paketierung': '4,0',\n",
       "  'geplanter Termin': '05.01.22',\n",
       "  'Anmeldung': '04.01.22 16:13',\n",
       "  'Rückmeldung': '04.01.22 16:35',\n",
       "  'Bruttomenge \\tin LP': 144,\n",
       "  'Rüstzeit Logistisch \\tin Stunden': '0,17',\n",
       "  'Bearbeitungszeit \\tin Stunden': '0,14',\n",
       "  'Bohrpaketierung': '4',\n",
       "  'Anzahl Bohr./LP': 15,\n",
       "  'Fräspaketierung': '4'}]"
      ]
     },
     "execution_count": 115,
     "metadata": {},
     "output_type": "execute_result"
    }
   ],
   "source": [
    "json_ret"
   ]
  },
  {
   "cell_type": "code",
   "execution_count": 96,
   "metadata": {},
   "outputs": [
    {
     "ename": "KeyError",
     "evalue": "'ID'",
     "output_type": "error",
     "traceback": [
      "\u001b[1;31m---------------------------------------------------------------------------\u001b[0m",
      "\u001b[1;31mKeyError\u001b[0m                                  Traceback (most recent call last)",
      "\u001b[1;32mc:\\Users\\flfo\\Documents\\00 Projekte\\KMI\\Programmierung\\KMI-JobShopSim\\env\\jobShopSim\\test_pydantic.ipynb Cell 15\u001b[0m line \u001b[0;36m1\n\u001b[1;32m----> <a href='vscode-notebook-cell:/c%3A/Users/flfo/Documents/00%20Projekte/KMI/Programmierung/KMI-JobShopSim/env/jobShopSim/test_pydantic.ipynb#X30sZmlsZQ%3D%3D?line=0'>1</a>\u001b[0m json_ret[\u001b[39m'\u001b[39;49m\u001b[39mID\u001b[39;49m\u001b[39m'\u001b[39;49m]\n",
      "\u001b[1;31mKeyError\u001b[0m: 'ID'"
     ]
    }
   ],
   "source": [
    "json_ret['ID']"
   ]
  },
  {
   "cell_type": "code",
   "execution_count": null,
   "metadata": {},
   "outputs": [],
   "source": []
  }
 ],
 "metadata": {
  "kernelspec": {
   "display_name": "Python 3",
   "language": "python",
   "name": "python3"
  },
  "language_info": {
   "codemirror_mode": {
    "name": "ipython",
    "version": 3
   },
   "file_extension": ".py",
   "mimetype": "text/x-python",
   "name": "python",
   "nbconvert_exporter": "python",
   "pygments_lexer": "ipython3",
   "version": "3.11.5"
  }
 },
 "nbformat": 4,
 "nbformat_minor": 2
}
