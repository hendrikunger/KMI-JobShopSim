{
 "cells": [
  {
   "cell_type": "code",
   "execution_count": 1,
   "metadata": {},
   "outputs": [],
   "source": [
    "import pydantic\n",
    "from pydantic import BaseModel\n",
    "import io\n",
    "import json\n",
    "import pandas as pd\n",
    "from copy import deepcopy\n",
    "\n",
    "from typing import TypeAlias, Any\n",
    "from collections.abc import Iterable, Sequence\n",
    "import datetime\n",
    "from datetime import datetime as Datetime\n",
    "from datetime import timedelta as Timedelta\n",
    "from datetime import date as Date\n",
    "from datetime import timezone\n",
    "from zoneinfo import ZoneInfo\n",
    "\n",
    "# time handling module\n",
    "import time_handling\n",
    "from time_handling import TIMEZONE_CEST"
   ]
  },
  {
   "cell_type": "code",
   "execution_count": 2,
   "metadata": {},
   "outputs": [],
   "source": [
    "def clean_prop_dict(\n",
    "    dictionary: dict[str, Any],\n",
    "    prop_list: list[str],\n",
    ") -> dict[str, Any]:\n",
    "    \"\"\"removes key-value paris from a dictionary by a provided list\n",
    "    which contains the keys that are to be deleted\n",
    "\n",
    "    Parameters\n",
    "    ----------\n",
    "    dictionary : dict[str, Any]\n",
    "        dictionary whose key-value pairs should be deleted\n",
    "    prop_list : list[str]\n",
    "        list of keys which should be removed from the given dictionary\n",
    "\n",
    "    Returns\n",
    "    -------\n",
    "    dict[str, Any]\n",
    "        cleaned dictionary\n",
    "    \"\"\"\n",
    "    dictionary = deepcopy(dictionary)\n",
    "    prop_list = prop_list.copy()\n",
    "    \n",
    "    for prop in prop_list:\n",
    "        \n",
    "        if prop in dictionary:\n",
    "            del dictionary[prop]\n",
    "    \n",
    "    return dictionary"
   ]
  },
  {
   "cell_type": "markdown",
   "metadata": {},
   "source": [
    "## General idea\n",
    "- define interface to parse given data also in not desired formats\n",
    "- try parsing primarily text-based sources (JSON-like), not already structured and parsed as Data Frame or similar format\n",
    "- provide common interface which does not heavily depend on several preprocessing steps\n",
    "\n",
    "#### Update 2023-12-11\n",
    "- Pydantic parsing not sufficient\n",
    "- need to build general adapter class with common parsing functionality\n",
    "- build special adapter class which allows for more specific transformation (for each data source separately), inherits from base adapter class\n",
    "- finally provide parsed information for pydantic data container\n",
    "\n",
    "work flow as follows:\n",
    "``Data Set`` --> ``Specific Adapter Class`` --> ``Pydantic Model`` (data container)\n",
    "\n",
    "- time zone handling:\n",
    "    - calculation must be done in UTC\n",
    "    - display to user as datetime with converted time zone"
   ]
  },
  {
   "cell_type": "code",
   "execution_count": 7,
   "metadata": {},
   "outputs": [
    {
     "name": "stdout",
     "output_type": "stream",
     "text": [
      "2023-10-28 23:00:00+02:00\n"
     ]
    }
   ],
   "source": [
    "dt = Datetime(2023, 10, 28, 23, tzinfo=TIMEZONE_CEST)\n",
    "#dt = time_handling.current_time_tz(tz=TIMEZONE_CEST)\n",
    "#dt = Datetime(2023, 10, 28, 23)\n",
    "print(dt)"
   ]
  },
  {
   "cell_type": "code",
   "execution_count": 8,
   "metadata": {},
   "outputs": [],
   "source": [
    "td = Timedelta(hours=10)"
   ]
  },
  {
   "cell_type": "code",
   "execution_count": 9,
   "metadata": {},
   "outputs": [],
   "source": [
    "dt2 = time_handling.add_timedelta_with_tz(\n",
    "    starting_dt=dt,\n",
    "    td=td,\n",
    ")"
   ]
  },
  {
   "cell_type": "code",
   "execution_count": 10,
   "metadata": {},
   "outputs": [
    {
     "name": "stdout",
     "output_type": "stream",
     "text": [
      "2023-10-29 08:00:00+01:00\n"
     ]
    }
   ],
   "source": [
    "print(dt2)"
   ]
  },
  {
   "cell_type": "code",
   "execution_count": 179,
   "metadata": {},
   "outputs": [],
   "source": [
    "# transform to utc\n",
    "dt_utc = dt.astimezone(TIMEZONE_UTC)\n",
    "\n",
    "# add duration\n",
    "dt2 = dt_utc + td\n",
    "\n",
    "# transform back\n",
    "dt2 = dt2.astimezone(TIMEZONE_CEST)"
   ]
  },
  {
   "cell_type": "code",
   "execution_count": 180,
   "metadata": {},
   "outputs": [
    {
     "name": "stdout",
     "output_type": "stream",
     "text": [
      "2023-10-28 21:00:00+00:00\n",
      "2023-10-29 08:00:00+01:00\n"
     ]
    }
   ],
   "source": [
    "print(dt_utc)\n",
    "print(dt2)"
   ]
  },
  {
   "cell_type": "code",
   "execution_count": null,
   "metadata": {},
   "outputs": [],
   "source": []
  },
  {
   "cell_type": "code",
   "execution_count": 168,
   "metadata": {},
   "outputs": [],
   "source": [
    "td = Timedelta(hours=10)"
   ]
  },
  {
   "cell_type": "code",
   "execution_count": 169,
   "metadata": {},
   "outputs": [
    {
     "name": "stdout",
     "output_type": "stream",
     "text": [
      "2023-10-29 09:00:00+01:00\n"
     ]
    }
   ],
   "source": [
    "print(dt + td)"
   ]
  },
  {
   "cell_type": "code",
   "execution_count": null,
   "metadata": {},
   "outputs": [],
   "source": []
  },
  {
   "cell_type": "code",
   "execution_count": 109,
   "metadata": {},
   "outputs": [],
   "source": [
    "CustomID: TypeAlias = int | str"
   ]
  },
  {
   "cell_type": "markdown",
   "metadata": {},
   "source": [
    "Conclusions:\n",
    "- use more precise naming scheme\n",
    "- attributes do not have to correspond to the naming scheme of the simulation environment\n",
    "- Pydantic model defines entry point to simulation environment (gold standard)\n",
    "    - model can easily be fitted in the job class\n",
    "- therefore: data transformation and mapping to model attributes necessary\n",
    "    - example: ``Bearbeitungszeit in Stunden`` --> ``processing time``"
   ]
  },
  {
   "cell_type": "code",
   "execution_count": 130,
   "metadata": {},
   "outputs": [],
   "source": [
    "class Job(BaseModel):\n",
    "    exec_systems_order: Sequence[CustomID]\n",
    "    proc_times: Sequence[Timedelta]\n",
    "    target_stations_order: Sequence[CustomID | None] | None = None\n",
    "    setup_times: Sequence[Timedelta | None] | None = None\n",
    "    prio: int | Sequence[int] | None = None\n",
    "    planned_starting_date: Datetime | Sequence[Datetime] | None = None\n",
    "    planned_ending_date: Datetime | Sequence[Datetime] | None = None\n",
    "    custom_identifier: CustomID | None = None\n",
    "    name: str | None = None\n",
    "    state: str = 'INIT'\n",
    "    additional_info: dict[str, CustomID] | None = None"
   ]
  },
  {
   "cell_type": "code",
   "execution_count": 131,
   "metadata": {},
   "outputs": [
    {
     "data": {
      "text/plain": [
       "{'properties': {'exec_systems_order': {'items': {'anyOf': [{'type': 'integer'},\n",
       "     {'type': 'string'}]},\n",
       "   'title': 'Exec Systems Order',\n",
       "   'type': 'array'},\n",
       "  'proc_times': {'items': {'format': 'duration', 'type': 'string'},\n",
       "   'title': 'Proc Times',\n",
       "   'type': 'array'},\n",
       "  'target_stations_order': {'anyOf': [{'items': {'anyOf': [{'type': 'integer'},\n",
       "       {'type': 'string'},\n",
       "       {'type': 'null'}]},\n",
       "     'type': 'array'},\n",
       "    {'type': 'null'}],\n",
       "   'default': None,\n",
       "   'title': 'Target Stations Order'},\n",
       "  'setup_times': {'anyOf': [{'items': {'anyOf': [{'format': 'duration',\n",
       "        'type': 'string'},\n",
       "       {'type': 'null'}]},\n",
       "     'type': 'array'},\n",
       "    {'type': 'null'}],\n",
       "   'default': None,\n",
       "   'title': 'Setup Times'},\n",
       "  'prio': {'anyOf': [{'type': 'integer'},\n",
       "    {'items': {'type': 'integer'}, 'type': 'array'},\n",
       "    {'type': 'null'}],\n",
       "   'default': None,\n",
       "   'title': 'Prio'},\n",
       "  'planned_starting_date': {'anyOf': [{'format': 'date-time',\n",
       "     'type': 'string'},\n",
       "    {'items': {'format': 'date-time', 'type': 'string'}, 'type': 'array'},\n",
       "    {'type': 'null'}],\n",
       "   'default': None,\n",
       "   'title': 'Planned Starting Date'},\n",
       "  'planned_ending_date': {'anyOf': [{'format': 'date-time', 'type': 'string'},\n",
       "    {'items': {'format': 'date-time', 'type': 'string'}, 'type': 'array'},\n",
       "    {'type': 'null'}],\n",
       "   'default': None,\n",
       "   'title': 'Planned Ending Date'},\n",
       "  'custom_identifier': {'anyOf': [{'type': 'integer'},\n",
       "    {'type': 'string'},\n",
       "    {'type': 'null'}],\n",
       "   'default': None,\n",
       "   'title': 'Custom Identifier'},\n",
       "  'name': {'anyOf': [{'type': 'string'}, {'type': 'null'}],\n",
       "   'default': None,\n",
       "   'title': 'Name'},\n",
       "  'state': {'default': 'INIT', 'title': 'State', 'type': 'string'},\n",
       "  'additional_info': {'anyOf': [{'additionalProperties': {'anyOf': [{'type': 'integer'},\n",
       "       {'type': 'string'}]},\n",
       "     'type': 'object'},\n",
       "    {'type': 'null'}],\n",
       "   'default': None,\n",
       "   'title': 'Additional Info'}},\n",
       " 'required': ['exec_systems_order', 'proc_times'],\n",
       " 'title': 'Job',\n",
       " 'type': 'object'}"
      ]
     },
     "execution_count": 131,
     "metadata": {},
     "output_type": "execute_result"
    }
   ],
   "source": [
    "Job.model_json_schema()"
   ]
  },
  {
   "cell_type": "code",
   "execution_count": null,
   "metadata": {},
   "outputs": [],
   "source": []
  },
  {
   "cell_type": "code",
   "execution_count": null,
   "metadata": {},
   "outputs": [],
   "source": []
  },
  {
   "cell_type": "code",
   "execution_count": null,
   "metadata": {},
   "outputs": [],
   "source": []
  },
  {
   "cell_type": "code",
   "execution_count": null,
   "metadata": {},
   "outputs": [],
   "source": []
  },
  {
   "cell_type": "markdown",
   "metadata": {},
   "source": [
    "# ***Old***"
   ]
  },
  {
   "cell_type": "markdown",
   "metadata": {},
   "source": [
    "try to simulate JSON input (text-based)"
   ]
  },
  {
   "cell_type": "code",
   "execution_count": 132,
   "metadata": {},
   "outputs": [],
   "source": [
    "columns_interest_old = [\n",
    "    'ID',\n",
    "    'Artikelnr.',\n",
    "    'Kap.-gr.',\n",
    "    'FAKZ',\n",
    "    'Ag Paketierung',\n",
    "    'geplanter Termin',\n",
    "    'Bruttomenge \tin LP',\n",
    "    'Rüstzeit Logistisch \tin Stunden',\n",
    "    'Bearbeitungszeit \tin Stunden',\n",
    "    'Bohrpaketierung',\n",
    "    'Anzahl Bohr./LP',\n",
    "    'Fräspaketierung',\n",
    "    'Anmeldung',\n",
    "    'Rückmeldung',\n",
    "]\n",
    "\n",
    "columns_interest = [\n",
    "    'ID',\n",
    "    'Artikelnr.',\n",
    "    'Kunde',\n",
    "    'Benennung Kunde',\n",
    "    'Kapagruppe',\n",
    "    'Benennung Kapagruppe',\n",
    "    'FAKZ',\n",
    "    'AG Paketierung',\n",
    "    'geplanter Termin (Ende)',\n",
    "    'Bruttomenge in LP',\n",
    "    'Rüstzeit',\n",
    "    'Bearbeitungszeit',\n",
    "    'AnlageGeplant', # associated machine group, not assigned in this data set\n",
    "    'Bohrpaketierung',\n",
    "    'Anzahl Bohrungen je LP',\n",
    "    'Fräspaketierung',\n",
    "]\n",
    "\n",
    "# not reliable: sometimes start and end identical\n",
    "columns_actual_data = [\n",
    "    'Anmeldung',\n",
    "    'Rückmeldung',\n",
    "]"
   ]
  },
  {
   "cell_type": "code",
   "execution_count": 133,
   "metadata": {},
   "outputs": [],
   "source": [
    "# import data set\n",
    "FILE_NAME_DS = './datasets/fcon__2212____01-01-22_17-08-22_renamed.csv'\n",
    "data = pd.read_csv(FILE_NAME_DS, sep=';', encoding='ansi', \n",
    "                   usecols=columns_interest, decimal=',')\n"
   ]
  },
  {
   "cell_type": "code",
   "execution_count": 134,
   "metadata": {},
   "outputs": [
    {
     "data": {
      "text/plain": [
       "Index(['ID', 'Artikelnr.', 'Kunde', 'Benennung Kunde', 'Kapagruppe',\n",
       "       'Benennung Kapagruppe', 'FAKZ', 'AG Paketierung',\n",
       "       'geplanter Termin (Ende)', 'Bruttomenge in LP', 'Rüstzeit',\n",
       "       'Bearbeitungszeit', 'AnlageGeplant', 'Bohrpaketierung',\n",
       "       'Anzahl Bohrungen je LP', 'Fräspaketierung'],\n",
       "      dtype='object')"
      ]
     },
     "execution_count": 134,
     "metadata": {},
     "output_type": "execute_result"
    }
   ],
   "source": [
    "data.columns"
   ]
  },
  {
   "cell_type": "markdown",
   "metadata": {},
   "source": [
    "#### Simulate job retrieval via JSON"
   ]
  },
  {
   "cell_type": "code",
   "execution_count": 135,
   "metadata": {},
   "outputs": [],
   "source": [
    "data_extr = data.iloc[:1,:]\n",
    "# string buffer\n",
    "buff = io.StringIO()\n",
    "data_extr.to_json(buff, date_unit='s', orient='records')\n",
    "string = buff.getvalue()\n",
    "buff.close()"
   ]
  },
  {
   "cell_type": "code",
   "execution_count": 136,
   "metadata": {},
   "outputs": [
    {
     "data": {
      "text/plain": [
       "[{'ID': 2046707,\n",
       "  'Artikelnr.': '4-201276p',\n",
       "  'Kunde': 13158.0,\n",
       "  'Benennung Kunde': 'KSG GmbH',\n",
       "  'Kapagruppe': 22162,\n",
       "  'Benennung Kapagruppe': 'NC-Bohrerei',\n",
       "  'FAKZ': 'PR',\n",
       "  'AG Paketierung': 2.0,\n",
       "  'geplanter Termin (Ende)': '07.12.2020',\n",
       "  'Bruttomenge in LP': 120,\n",
       "  'Rüstzeit': 0.17,\n",
       "  'Bearbeitungszeit': 0.06,\n",
       "  'AnlageGeplant': None,\n",
       "  'Bohrpaketierung': '2',\n",
       "  'Anzahl Bohrungen je LP': 4,\n",
       "  'Fräspaketierung': '2'}]"
      ]
     },
     "execution_count": 136,
     "metadata": {},
     "output_type": "execute_result"
    }
   ],
   "source": [
    "# load string via Python standard library\n",
    "json_ret = json.loads(string)\n",
    "json_ret"
   ]
  },
  {
   "cell_type": "code",
   "execution_count": 137,
   "metadata": {},
   "outputs": [],
   "source": [
    "job_data = json_ret[0]"
   ]
  },
  {
   "cell_type": "code",
   "execution_count": 138,
   "metadata": {},
   "outputs": [
    {
     "data": {
      "text/plain": [
       "{'Artikelnr.': '4-201276p',\n",
       " 'Kunde': 13158.0,\n",
       " 'Benennung Kunde': 'KSG GmbH',\n",
       " 'Benennung Kapagruppe': 'NC-Bohrerei',\n",
       " 'FAKZ': 'PR',\n",
       " 'AG Paketierung': 2.0,\n",
       " 'Bruttomenge in LP': 120,\n",
       " 'Bohrpaketierung': '2',\n",
       " 'Anzahl Bohrungen je LP': 4,\n",
       " 'Fräspaketierung': '2'}"
      ]
     },
     "execution_count": 138,
     "metadata": {},
     "output_type": "execute_result"
    }
   ],
   "source": [
    "# properties which are used directly and \n",
    "# therefore should not be included in the \n",
    "# job's additional information\n",
    "props_direct_mapping: list[str] = [\n",
    "    'Kapagruppe',\n",
    "    'Bearbeitungszeit',\n",
    "    'AnlageGeplant',\n",
    "    'Rüstzeit',\n",
    "    'geplanter Termin (Ende)',\n",
    "    'ID',\n",
    "]\n",
    "\n",
    "additional_info = clean_prop_dict(dictionary=job_data,\n",
    "                                  prop_list=props_direct_mapping)\n",
    "additional_info"
   ]
  },
  {
   "cell_type": "code",
   "execution_count": 140,
   "metadata": {},
   "outputs": [
    {
     "ename": "ValidationError",
     "evalue": "2 validation errors for Job\nplanned_ending_date.datetime\n  Input should be a valid datetime, invalid character in year [type=datetime_parsing, input_value='07.12.2020', input_type=str]\n    For further information visit https://errors.pydantic.dev/2.5/v/datetime_parsing\nplanned_ending_date.json-or-python[json=list[datetime],python=chain[is-instance[Sequence],function-wrap[sequence_validator()]]]\n  'str' instances are not allowed as a Sequence value [type=sequence_str, input_value='07.12.2020', input_type=str]",
     "output_type": "error",
     "traceback": [
      "\u001b[1;31m---------------------------------------------------------------------------\u001b[0m",
      "\u001b[1;31mValidationError\u001b[0m                           Traceback (most recent call last)",
      "Cell \u001b[1;32mIn[140], line 2\u001b[0m\n\u001b[0;32m      1\u001b[0m \u001b[38;5;66;03m# mapping to interface class\u001b[39;00m\n\u001b[1;32m----> 2\u001b[0m job_repr \u001b[38;5;241m=\u001b[39m \u001b[43mJob\u001b[49m\u001b[43m(\u001b[49m\n\u001b[0;32m      3\u001b[0m \u001b[43m    \u001b[49m\u001b[43mexec_systems_order\u001b[49m\u001b[43m \u001b[49m\u001b[38;5;241;43m=\u001b[39;49m\u001b[43m \u001b[49m\u001b[43m[\u001b[49m\u001b[43mjob_data\u001b[49m\u001b[43m[\u001b[49m\u001b[38;5;124;43m'\u001b[39;49m\u001b[38;5;124;43mKapagruppe\u001b[39;49m\u001b[38;5;124;43m'\u001b[39;49m\u001b[43m]\u001b[49m\u001b[43m]\u001b[49m\u001b[43m,\u001b[49m\n\u001b[0;32m      4\u001b[0m \u001b[43m    \u001b[49m\u001b[43mproc_times\u001b[49m\u001b[43m \u001b[49m\u001b[38;5;241;43m=\u001b[39;49m\u001b[43m \u001b[49m\u001b[43m[\u001b[49m\u001b[43mjob_data\u001b[49m\u001b[43m[\u001b[49m\u001b[38;5;124;43m'\u001b[39;49m\u001b[38;5;124;43mBearbeitungszeit\u001b[39;49m\u001b[38;5;124;43m'\u001b[39;49m\u001b[43m]\u001b[49m\u001b[43m]\u001b[49m\u001b[43m,\u001b[49m\n\u001b[0;32m      5\u001b[0m \u001b[43m    \u001b[49m\u001b[43mtarget_stations_order\u001b[49m\u001b[43m \u001b[49m\u001b[38;5;241;43m=\u001b[39;49m\u001b[43m \u001b[49m\u001b[43m[\u001b[49m\u001b[43mjob_data\u001b[49m\u001b[43m[\u001b[49m\u001b[38;5;124;43m'\u001b[39;49m\u001b[38;5;124;43mAnlageGeplant\u001b[39;49m\u001b[38;5;124;43m'\u001b[39;49m\u001b[43m]\u001b[49m\u001b[43m]\u001b[49m\u001b[43m,\u001b[49m\n\u001b[0;32m      6\u001b[0m \u001b[43m    \u001b[49m\u001b[43msetup_times\u001b[49m\u001b[43m \u001b[49m\u001b[38;5;241;43m=\u001b[39;49m\u001b[43m \u001b[49m\u001b[43m[\u001b[49m\u001b[43mjob_data\u001b[49m\u001b[43m[\u001b[49m\u001b[38;5;124;43m'\u001b[39;49m\u001b[38;5;124;43mRüstzeit\u001b[39;49m\u001b[38;5;124;43m'\u001b[39;49m\u001b[43m]\u001b[49m\u001b[43m]\u001b[49m\u001b[43m,\u001b[49m\n\u001b[0;32m      7\u001b[0m \u001b[43m    \u001b[49m\u001b[43mplanned_ending_date\u001b[49m\u001b[43m \u001b[49m\u001b[38;5;241;43m=\u001b[39;49m\u001b[43m \u001b[49m\u001b[43mjob_data\u001b[49m\u001b[43m[\u001b[49m\u001b[38;5;124;43m'\u001b[39;49m\u001b[38;5;124;43mgeplanter Termin (Ende)\u001b[39;49m\u001b[38;5;124;43m'\u001b[39;49m\u001b[43m]\u001b[49m\u001b[43m,\u001b[49m\n\u001b[0;32m      8\u001b[0m \u001b[43m    \u001b[49m\u001b[43mcustom_identifier\u001b[49m\u001b[43m \u001b[49m\u001b[38;5;241;43m=\u001b[39;49m\u001b[43m \u001b[49m\u001b[43mjob_data\u001b[49m\u001b[43m[\u001b[49m\u001b[38;5;124;43m'\u001b[39;49m\u001b[38;5;124;43mID\u001b[39;49m\u001b[38;5;124;43m'\u001b[39;49m\u001b[43m]\u001b[49m\u001b[43m,\u001b[49m\n\u001b[0;32m      9\u001b[0m \u001b[43m    \u001b[49m\u001b[43madditional_info\u001b[49m\u001b[43m \u001b[49m\u001b[38;5;241;43m=\u001b[39;49m\u001b[43m \u001b[49m\u001b[43madditional_info\u001b[49m\u001b[43m,\u001b[49m\n\u001b[0;32m     10\u001b[0m \u001b[43m)\u001b[49m\n",
      "File \u001b[1;32mc:\\Users\\flfo\\AppData\\Local\\mambaforge\\envs\\geom\\Lib\\site-packages\\pydantic\\main.py:164\u001b[0m, in \u001b[0;36mBaseModel.__init__\u001b[1;34m(__pydantic_self__, **data)\u001b[0m\n\u001b[0;32m    162\u001b[0m \u001b[38;5;66;03m# `__tracebackhide__` tells pytest and some other tools to omit this function from tracebacks\u001b[39;00m\n\u001b[0;32m    163\u001b[0m __tracebackhide__ \u001b[38;5;241m=\u001b[39m \u001b[38;5;28;01mTrue\u001b[39;00m\n\u001b[1;32m--> 164\u001b[0m \u001b[43m__pydantic_self__\u001b[49m\u001b[38;5;241;43m.\u001b[39;49m\u001b[43m__pydantic_validator__\u001b[49m\u001b[38;5;241;43m.\u001b[39;49m\u001b[43mvalidate_python\u001b[49m\u001b[43m(\u001b[49m\u001b[43mdata\u001b[49m\u001b[43m,\u001b[49m\u001b[43m \u001b[49m\u001b[43mself_instance\u001b[49m\u001b[38;5;241;43m=\u001b[39;49m\u001b[43m__pydantic_self__\u001b[49m\u001b[43m)\u001b[49m\n",
      "\u001b[1;31mValidationError\u001b[0m: 2 validation errors for Job\nplanned_ending_date.datetime\n  Input should be a valid datetime, invalid character in year [type=datetime_parsing, input_value='07.12.2020', input_type=str]\n    For further information visit https://errors.pydantic.dev/2.5/v/datetime_parsing\nplanned_ending_date.json-or-python[json=list[datetime],python=chain[is-instance[Sequence],function-wrap[sequence_validator()]]]\n  'str' instances are not allowed as a Sequence value [type=sequence_str, input_value='07.12.2020', input_type=str]"
     ]
    }
   ],
   "source": [
    "# mapping to interface class\n",
    "job_repr = Job(\n",
    "    exec_systems_order = [job_data['Kapagruppe']],\n",
    "    proc_times = [job_data['Bearbeitungszeit']],\n",
    "    target_stations_order = [job_data['AnlageGeplant']],\n",
    "    setup_times = [job_data['Rüstzeit']],\n",
    "    planned_ending_date = job_data['geplanter Termin (Ende)'],\n",
    "    custom_identifier = job_data['ID'],\n",
    "    additional_info = additional_info,\n",
    ")"
   ]
  },
  {
   "cell_type": "code",
   "execution_count": null,
   "metadata": {},
   "outputs": [],
   "source": []
  },
  {
   "cell_type": "code",
   "execution_count": 84,
   "metadata": {},
   "outputs": [
    {
     "ename": "ValidationError",
     "evalue": "2 validation errors for Job\nexec_systems_order\n  Field required [type=missing, input_value={'ID': 2046707, 'Artikeln...'Fräspaketierung': '2'}, input_type=dict]\n    For further information visit https://errors.pydantic.dev/2.5/v/missing\nproc_times\n  Field required [type=missing, input_value={'ID': 2046707, 'Artikeln...'Fräspaketierung': '2'}, input_type=dict]\n    For further information visit https://errors.pydantic.dev/2.5/v/missing",
     "output_type": "error",
     "traceback": [
      "\u001b[1;31m---------------------------------------------------------------------------\u001b[0m",
      "\u001b[1;31mValidationError\u001b[0m                           Traceback (most recent call last)",
      "Cell \u001b[1;32mIn[84], line 1\u001b[0m\n\u001b[1;32m----> 1\u001b[0m test \u001b[38;5;241m=\u001b[39m \u001b[43mJob\u001b[49m\u001b[43m(\u001b[49m\u001b[38;5;241;43m*\u001b[39;49m\u001b[38;5;241;43m*\u001b[39;49m\u001b[43mjob_0\u001b[49m\u001b[43m)\u001b[49m\n",
      "File \u001b[1;32mc:\\Users\\flfo\\AppData\\Local\\mambaforge\\envs\\geom\\Lib\\site-packages\\pydantic\\main.py:164\u001b[0m, in \u001b[0;36mBaseModel.__init__\u001b[1;34m(__pydantic_self__, **data)\u001b[0m\n\u001b[0;32m    162\u001b[0m \u001b[38;5;66;03m# `__tracebackhide__` tells pytest and some other tools to omit this function from tracebacks\u001b[39;00m\n\u001b[0;32m    163\u001b[0m __tracebackhide__ \u001b[38;5;241m=\u001b[39m \u001b[38;5;28;01mTrue\u001b[39;00m\n\u001b[1;32m--> 164\u001b[0m \u001b[43m__pydantic_self__\u001b[49m\u001b[38;5;241;43m.\u001b[39;49m\u001b[43m__pydantic_validator__\u001b[49m\u001b[38;5;241;43m.\u001b[39;49m\u001b[43mvalidate_python\u001b[49m\u001b[43m(\u001b[49m\u001b[43mdata\u001b[49m\u001b[43m,\u001b[49m\u001b[43m \u001b[49m\u001b[43mself_instance\u001b[49m\u001b[38;5;241;43m=\u001b[39;49m\u001b[43m__pydantic_self__\u001b[49m\u001b[43m)\u001b[49m\n",
      "\u001b[1;31mValidationError\u001b[0m: 2 validation errors for Job\nexec_systems_order\n  Field required [type=missing, input_value={'ID': 2046707, 'Artikeln...'Fräspaketierung': '2'}, input_type=dict]\n    For further information visit https://errors.pydantic.dev/2.5/v/missing\nproc_times\n  Field required [type=missing, input_value={'ID': 2046707, 'Artikeln...'Fräspaketierung': '2'}, input_type=dict]\n    For further information visit https://errors.pydantic.dev/2.5/v/missing"
     ]
    }
   ],
   "source": [
    "test = Job(**job_0)"
   ]
  },
  {
   "cell_type": "code",
   "execution_count": null,
   "metadata": {},
   "outputs": [],
   "source": []
  },
  {
   "cell_type": "code",
   "execution_count": null,
   "metadata": {},
   "outputs": [],
   "source": []
  },
  {
   "cell_type": "code",
   "execution_count": null,
   "metadata": {},
   "outputs": [],
   "source": []
  },
  {
   "cell_type": "code",
   "execution_count": null,
   "metadata": {},
   "outputs": [],
   "source": []
  },
  {
   "cell_type": "code",
   "execution_count": null,
   "metadata": {},
   "outputs": [],
   "source": []
  },
  {
   "cell_type": "markdown",
   "metadata": {},
   "source": [
    "---\n",
    "\n",
    "### Test \"Paketierung\""
   ]
  },
  {
   "cell_type": "code",
   "execution_count": 33,
   "metadata": {},
   "outputs": [
    {
     "name": "stderr",
     "output_type": "stream",
     "text": [
      "C:\\Users\\flfo\\AppData\\Local\\Temp\\ipykernel_5500\\3805392045.py:1: DtypeWarning: Columns (67,74,75) have mixed types. Specify dtype option on import or set low_memory=False.\n",
      "  data = pd.read_csv('./datasets/fcon__2212____01-01-22_17-08-22.csv',\n"
     ]
    }
   ],
   "source": [
    "data = pd.read_csv('./datasets/fcon__2212____01-01-22_17-08-22.csv', \n",
    "                   sep=';', encoding='ansi', decimal=',')"
   ]
  },
  {
   "cell_type": "code",
   "execution_count": 34,
   "metadata": {},
   "outputs": [
    {
     "data": {
      "text/plain": [
       "Index(['FA', 'ID', 'AgNr', 'Artikelnr.', 'Kunde', 'Benennung Kunde', 'Ktr',\n",
       "       'StAG', 'Benennung AG', 'Kap.-gr.', 'Benennung Kap.-gr.', 'Kst.',\n",
       "       'Benennung Kst.', 'Ag Kommentar (20.4)', 'Ag Langtext (20.5)',\n",
       "       'Ag Zusatztext 1 (20.4)', 'Ag Zusatztext 2 (20.4)', 'FAKZ', 'ZU/LosAg',\n",
       "       'AG-rückgemeldete ZU/LosAg', 'Ag Paketierung', 'geplanter Termin',\n",
       "       'Anmeldung', 'Rückmeldung', 'Rückmeldung Datum', 'Rückmeldung Uhrzeit',\n",
       "       'Rückmeldung Tag', 'Rückmeldung Monat', 'Rückmeldung Jahr',\n",
       "       'Anlieferung', 'Bruttomenge \\tin LP', 'LP/ZU', 'LP/LN',\n",
       "       'Nettofläche/LP \\tin dm²', 'Bruttofläche/ZU \\tin dm²',\n",
       "       'Zu-Länge \\tin mm', 'Zu-Breite \\tin mm', 'Zu-Abmessung', 'KupferLagen',\n",
       "       'KupferLagenKunde', 'Rüstzeit Logistisch \\tin Stunden',\n",
       "       'Rüstzeit Kalkulatorisch \\tin Stunden', 'Bearbeitungszeit \\tin Stunden',\n",
       "       'Logistische Zeit (Bo./Fr.) \\tin Stunden', 'AnlageGeplant',\n",
       "       'AG-rückgemeldete Anlage', 'AL-Cu-Folie (Max) \\tin µm',\n",
       "       'IL-Cu-Folie (Max) \\tin µm', 'AG-AgNrCam', 'Bohrpaketierung',\n",
       "       'Anzahl Bohr./LP', 'max. Laser Bohrdm. \\tin mm', 'Fräspaketierung',\n",
       "       'Fräsweg Kontur/ZU \\tin m', 'Fräsweg Objekte/ZU \\tin m',\n",
       "       'Mechanik-Ag mit Kameraeinmessung', 'Anzahl Ritze Längs',\n",
       "       'Anzahl Ritze Quer', 'AG-Auflagezeit \\tin min',\n",
       "       'AG-Rückgemeldete Auflagezeit \\tin min',\n",
       "       'AG-Rückgemeldete Anzahl Auflagen', 'AG-NC-Programm',\n",
       "       'KZ für Laminattechnik', 'Schichtungsvariante ML',\n",
       "       'chem.NiAu-Fl/ZU \\tin dm² (L+B)', 'galv.NiAu-Fl/ZU \\tin dm² (L+B)',\n",
       "       'LP-Dicke \\tin mm', 'AG-Filmtyp', 'Filmtypen des Loses',\n",
       "       'zulässige Fehler je LN \\tin LP', 'IPC-Klasse', 'Plan-HK FA \\tin €',\n",
       "       'Ausbeute nach FA-Abschluss \\tin %', 'enthaltenes BM und Prepreg',\n",
       "       'Ln-Länge \\tin mm', 'Ln-Breite \\tin mm', 'Lp-Länge \\tin mm',\n",
       "       'Charge Harz Gießkopf1', 'Gebinde Harz Gießkopf1',\n",
       "       'Charge Härter Gießkopf1', 'Gebinde Härter Gießkopf1',\n",
       "       'Charge Harz Gießkopf2', 'Gebinde Harz Gießkopf2',\n",
       "       'Charge Härter Gießkopf2', 'Gebinde Härter Gießkopf2', 'Filmcharge',\n",
       "       'Twinfaktor'],\n",
       "      dtype='object')"
      ]
     },
     "execution_count": 34,
     "metadata": {},
     "output_type": "execute_result"
    }
   ],
   "source": [
    "data.columns"
   ]
  },
  {
   "cell_type": "code",
   "execution_count": 47,
   "metadata": {},
   "outputs": [],
   "source": [
    "data['Ag Paketierung'] = pd.to_numeric(data['Ag Paketierung'], errors='coerce')\n",
    "data['Bohrpaketierung'] = pd.to_numeric(data['Bohrpaketierung'], errors='coerce')\n",
    "data['Fräspaketierung'] = pd.to_numeric(data['Fräspaketierung'], errors='coerce')"
   ]
  },
  {
   "cell_type": "code",
   "execution_count": 48,
   "metadata": {},
   "outputs": [],
   "source": [
    "subset = ['Ag Paketierung', 'Bohrpaketierung', 'Fräspaketierung']\n",
    "data = data.dropna(how='any', subset=subset, ignore_index=True)"
   ]
  },
  {
   "cell_type": "code",
   "execution_count": 49,
   "metadata": {},
   "outputs": [],
   "source": [
    "dtype_map: dict = {\n",
    "    'Ag Paketierung': int,\n",
    "    'Bohrpaketierung': int,\n",
    "    'Fräspaketierung': int,\n",
    "}\n",
    "\n",
    "data = data.astype(dtype_map)"
   ]
  },
  {
   "cell_type": "code",
   "execution_count": 50,
   "metadata": {},
   "outputs": [],
   "source": [
    "data['paketierung_test'] = data['Bohrpaketierung'] - data['Fräspaketierung']"
   ]
  },
  {
   "cell_type": "code",
   "execution_count": 58,
   "metadata": {},
   "outputs": [],
   "source": [
    "ret1 = (data['Bohrpaketierung'] == data['Ag Paketierung']).sum() / len(data)\n",
    "ret2 = (data['Fräspaketierung'] == data['Ag Paketierung']).sum() / len(data)"
   ]
  },
  {
   "cell_type": "code",
   "execution_count": 62,
   "metadata": {},
   "outputs": [
    {
     "name": "stdout",
     "output_type": "stream",
     "text": [
      "Drill: 0.9997300653241915\n",
      "Mill: 0.9988662743616045\n"
     ]
    }
   ],
   "source": [
    "print('Drill:', ret1)\n",
    "print('Mill:', ret2)"
   ]
  },
  {
   "cell_type": "markdown",
   "metadata": {},
   "source": [
    "**Result: packaging attribute almost always the same between drilling or milling and value for whole order**"
   ]
  },
  {
   "cell_type": "code",
   "execution_count": null,
   "metadata": {},
   "outputs": [],
   "source": []
  }
 ],
 "metadata": {
  "kernelspec": {
   "display_name": "Python 3",
   "language": "python",
   "name": "python3"
  },
  "language_info": {
   "codemirror_mode": {
    "name": "ipython",
    "version": 3
   },
   "file_extension": ".py",
   "mimetype": "text/x-python",
   "name": "python",
   "nbconvert_exporter": "python",
   "pygments_lexer": "ipython3",
   "version": "3.11.8"
  }
 },
 "nbformat": 4,
 "nbformat_minor": 2
}
