{
 "cells": [
  {
   "cell_type": "code",
   "execution_count": 1,
   "id": "47b83945-9206-4b0d-a56d-bd512e0f6f63",
   "metadata": {},
   "outputs": [],
   "source": [
    "import salabim as sim"
   ]
  },
  {
   "cell_type": "code",
   "execution_count": 85,
   "id": "638d8206-e691-4b3a-9a0b-b8cd39e93275",
   "metadata": {},
   "outputs": [],
   "source": [
    "class TestMachine(sim.Component):\n",
    "    def __init__(self, machine_id, env, *args, **kwargs):\n",
    "        super().__init__(env=env, *args, **kwargs)\n",
    "        self.machine_id = machine_id\n",
    "        self.buffer = sim.Queue(env=env)\n",
    "    \n",
    "    def process(self):\n",
    "        while True:\n",
    "            if len(self.buffer) == 0:\n",
    "                yield self.passivate()\n",
    "            job = self.buffer.pop()\n",
    "            proc_time = job.proc_time\n",
    "            print(f\"proc time of job with ID {job.job_id} on machine ID {self.machine_id} is {proc_time}\")\n",
    "            yield self.hold(job.proc_time)\n",
    "            job.activate()\n",
    "\n",
    "class TestJob(sim.Component):\n",
    "    def __init__(self, ident, machine_list, machine_dict, operation_procs, env, dispatcher, *args, **kwargs):\n",
    "        super().__init__(env=env, *args, **kwargs)\n",
    "        #self.machine_id = machine_id\n",
    "        self.machine_list = machine_list.copy()\n",
    "        self.proc_time = None\n",
    "        self.counter = 0\n",
    "        self.operation_procs = operation_procs.copy()\n",
    "        self.machine_dict = machine_dict.copy()\n",
    "        self.dict_keys = list(machine_dict.keys())\n",
    "        self.job_id = ident\n",
    "        self.dispatcher = dispatcher\n",
    "        \n",
    "    def process(self):\n",
    "        while len(self.operation_procs) != 0:\n",
    "            #print(f\"Job-ID {self.job_id} starts {env.now()}\")\n",
    "            print(f\"Job-ID {self.job_id} \\t Operation with ID {self.counter}\")\n",
    "            self.proc_time = self.operation_procs.pop(0)\n",
    "            #machine = machine_list.pop(0)\n",
    "            #machine = self.machine_dict[self.dict_keys[self.counter]]\n",
    "            machine = self.dispatcher.get_machine_instance_by_id(self.dict_keys[self.counter])\n",
    "            #print(f\"Machine instance is {machine}\")\n",
    "            #print(f\"Machine instance is: {machine} and ispassive {machine.ispassive()}\")\n",
    "            self.enter(machine.buffer)\n",
    "            if machine.ispassive():\n",
    "                machine.activate()\n",
    "            yield self.passivate()\n",
    "            print(f\"Time now Job-ID {self.job_id} is {self.env.now()}\")\n",
    "            self.counter += 1\n",
    "        "
   ]
  },
  {
   "cell_type": "code",
   "execution_count": 86,
   "id": "6a82bd1a",
   "metadata": {},
   "outputs": [],
   "source": [
    "class TestDispatcher():\n",
    "    def __init__(self) -> None:\n",
    "        pass\n",
    "    \n",
    "    def add_dicts(self, job_dict, machine_dict):\n",
    "        self.job_dict = job_dict\n",
    "        self.machine_dict = machine_dict\n",
    "        \n",
    "    def get_machine_instance_by_id(self, ident):\n",
    "        return self.machine_dict[ident]"
   ]
  },
  {
   "cell_type": "code",
   "execution_count": 87,
   "id": "04dba501",
   "metadata": {},
   "outputs": [],
   "source": [
    "test_dispatcher = TestDispatcher()"
   ]
  },
  {
   "cell_type": "code",
   "execution_count": 90,
   "id": "982f9b45-1b25-4c51-98ed-d52155dff887",
   "metadata": {},
   "outputs": [
    {
     "name": "stdout",
     "output_type": "stream",
     "text": [
      "Job-ID 0 \t Operation with ID 0\n",
      "Job-ID 1 \t Operation with ID 0\n",
      "proc time of job with ID 0 on machine ID 0 is 8\n",
      "proc time of job with ID 1 on machine ID 0 is 8\n",
      "Time now Job-ID 0 is 8.0\n",
      "Job-ID 0 \t Operation with ID 1\n",
      "proc time of job with ID 0 on machine ID 1 is 10\n",
      "Time now Job-ID 1 is 16.0\n",
      "Job-ID 1 \t Operation with ID 1\n",
      "proc time of job with ID 1 on machine ID 1 is 10\n",
      "Time now Job-ID 0 is 18.0\n",
      "Job-ID 0 \t Operation with ID 2\n",
      "proc time of job with ID 0 on machine ID 2 is 3\n",
      "Time now Job-ID 0 is 21.0\n",
      "Time now Job-ID 1 is 28.0\n",
      "Job-ID 1 \t Operation with ID 2\n",
      "proc time of job with ID 1 on machine ID 2 is 3\n",
      "Time now Job-ID 1 is 31.0\n"
     ]
    }
   ],
   "source": [
    "env = sim.Environment(trace=False)\n",
    "machine_list = list()\n",
    "machine_dict = dict()\n",
    "job_dict = dict()\n",
    "\n",
    "for mach_id in range(3):\n",
    "    machine = TestMachine(mach_id, env=env)\n",
    "    machine_list.append(machine)\n",
    "    machine_dict[mach_id] = machine\n",
    "\n",
    "operation_procs = [8,10,3]\n",
    "#job = TestJob(machine_list=machine_list, operation_procs=operation_procs, env=env, machine_dict=machine_dict)\n",
    "#job = TestJob(ident=i, machine_list=machine_list, machine_dict=machine_dict, operation_procs=operation_procs,\n",
    "                          #env=env, dispatcher=test_dispatcher)\n",
    "\n",
    "\n",
    "for i in range(2):\n",
    "    job_dict[i] = TestJob(ident=i, machine_list=machine_list, machine_dict=machine_dict, operation_procs=operation_procs, \n",
    "                          env=env, dispatcher=test_dispatcher)\n",
    "\n",
    "test_dispatcher.add_dicts(job_dict, machine_dict)\n",
    "env.run()"
   ]
  },
  {
   "cell_type": "code",
   "execution_count": 15,
   "id": "3297b370",
   "metadata": {},
   "outputs": [],
   "source": [
    "machine = machine_list[0]"
   ]
  },
  {
   "cell_type": "code",
   "execution_count": 16,
   "id": "c431d74b",
   "metadata": {},
   "outputs": [
    {
     "data": {
      "text/plain": [
       "False"
      ]
     },
     "execution_count": 16,
     "metadata": {},
     "output_type": "execute_result"
    }
   ],
   "source": [
    "machine.ispassive()"
   ]
  },
  {
   "cell_type": "code",
   "execution_count": 33,
   "id": "6c4d9918-e531-4eb8-877a-8f6d4bccc3fe",
   "metadata": {},
   "outputs": [
    {
     "name": "stdout",
     "output_type": "stream",
     "text": [
      "Time now is 10.0\n",
      "Operation with ID 1\n",
      "Machine instance is TestMachine (testmachine.1)\n"
     ]
    }
   ],
   "source": [
    "env.step()"
   ]
  },
  {
   "cell_type": "code",
   "execution_count": null,
   "id": "52dce0da-d0ea-41e4-8bc9-a237060915b9",
   "metadata": {},
   "outputs": [],
   "source": []
  }
 ],
 "metadata": {
  "kernelspec": {
   "display_name": "Python 3 (ipykernel)",
   "language": "python",
   "name": "python3"
  },
  "language_info": {
   "codemirror_mode": {
    "name": "ipython",
    "version": 3
   },
   "file_extension": ".py",
   "mimetype": "text/x-python",
   "name": "python",
   "nbconvert_exporter": "python",
   "pygments_lexer": "ipython3",
   "version": "3.11.3"
  }
 },
 "nbformat": 4,
 "nbformat_minor": 5
}
