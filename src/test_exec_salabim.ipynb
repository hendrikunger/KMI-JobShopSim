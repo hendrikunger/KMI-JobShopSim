{
 "cells": [
  {
   "cell_type": "code",
   "execution_count": 53,
   "metadata": {},
   "outputs": [],
   "source": [
    "import salabim as sim"
   ]
  },
  {
   "cell_type": "code",
   "execution_count": 54,
   "metadata": {},
   "outputs": [],
   "source": [
    "# Bank, 1 clerk.py\n",
    "\n",
    "sim.yieldless(False)\n",
    "\n",
    "\n",
    "\n",
    "\n",
    "class CustomerGenerator(sim.Component):\n",
    "\n",
    "    def process(self):\n",
    "        \n",
    "        int_count = 0\n",
    "        while int_count < 5:\n",
    "            print('create_customer')\n",
    "            Customer()\n",
    "\n",
    "            yield self.hold(0)\n",
    "            int_count += 1\n",
    "\n",
    "\n",
    "\n",
    "class Customer(sim.Component):\n",
    "\n",
    "    def process(self):\n",
    "\n",
    "        yield self.passivate()\n",
    "\n",
    "\n",
    "\n",
    "class Clerk(sim.Component):\n",
    "\n",
    "    def process(self):\n",
    "\n",
    "        while True:\n",
    "\n",
    "            while len(waitingline) == 0:\n",
    "\n",
    "                yield self.passivate()\n",
    "\n",
    "            self.customer = waitingline.pop()\n",
    "\n",
    "            yield self.hold(30)\n",
    "\n",
    "            self.customer.activate()\n"
   ]
  },
  {
   "cell_type": "code",
   "execution_count": 55,
   "metadata": {},
   "outputs": [
    {
     "name": "stdout",
     "output_type": "stream",
     "text": [
      "line#        time current component    action                               information\n",
      "------ ---------- -------------------- -----------------------------------  ------------------------------------------------\n",
      "                                       line numbers refers to               3865820495.py\n",
      "    1                                  default environment initialize       \n",
      "    1                                  main create                          \n",
      "    1       0.000 main                 current                              \n",
      "    3                                  customergenerator.0 create           \n",
      "                                       line numbers prefixed by A refer to  2943295860.py\n",
      "    3                                  customergenerator.0 activate         scheduled for 0.000 @  A10+ process=process\n",
      "    4                                  clerk.0 create                       \n",
      "    4                                  clerk.0 activate                     scheduled for 0.000 @  A32+ process=process\n",
      "    5                                  waitingline create                   \n"
     ]
    }
   ],
   "source": [
    "env = sim.Environment(trace=True)\n",
    "\n",
    "CustomerGenerator()\n",
    "clerk = Clerk()\n",
    "waitingline = sim.Queue(\"waitingline\")\n",
    "\n",
    "\n",
    "#env.run(till=50)\n",
    "\n",
    "#waitingline.print_statistics()"
   ]
  },
  {
   "cell_type": "code",
   "execution_count": 67,
   "metadata": {},
   "outputs": [
    {
     "name": "stdout",
     "output_type": "stream",
     "text": [
      "  A17+      0.000 customergenerator.0  current                              \n",
      "  A18+                                 customergenerator.0 ended            \n",
      "-------------- Env running False\n",
      "-------------- Env stopped False\n"
     ]
    },
    {
     "data": {
      "text/plain": [
       "[]"
      ]
     },
     "execution_count": 67,
     "metadata": {},
     "output_type": "execute_result"
    }
   ],
   "source": [
    "env.step()\n",
    "print(f'-------------- Env running {env.running}')\n",
    "print(f'-------------- Env stopped {env.stopped}')\n",
    "env._event_list"
   ]
  },
  {
   "cell_type": "code",
   "execution_count": null,
   "metadata": {},
   "outputs": [],
   "source": []
  }
 ],
 "metadata": {
  "kernelspec": {
   "display_name": "Python 3",
   "language": "python",
   "name": "python3"
  },
  "language_info": {
   "codemirror_mode": {
    "name": "ipython",
    "version": 3
   },
   "file_extension": ".py",
   "mimetype": "text/x-python",
   "name": "python",
   "nbconvert_exporter": "python",
   "pygments_lexer": "ipython3",
   "version": "3.11.8"
  }
 },
 "nbformat": 4,
 "nbformat_minor": 2
}
